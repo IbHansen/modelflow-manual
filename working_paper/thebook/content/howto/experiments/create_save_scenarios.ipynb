{
 "cells": [
  {
   "cell_type": "markdown",
   "metadata": {
    "slideshow": {
     "slide_type": "slide"
    }
   },
   "source": [
    "\n",
    "# Create many scenarios, simulate them  and access results \n",
    "\n",
    "In this chapter/notebook you will learn how to: \n",
    "\n",
    "1. Loading a pre-existing model in Modelflow\n",
    "2. Creating several experiments based on that model\n",
    "3. Running your model\n",
    "4. Visualizing the results \n",
    "\n",
    "This Notebook uses the model for Pakistan described here: {cite:author}`Burns2021`"
   ]
  },
  {
   "cell_type": "markdown",
   "metadata": {
    "slideshow": {
     "slide_type": "skip"
    }
   },
   "source": [
    "## Imports\n",
    "\n",
    "Modelflow's modelclass includes most of the methods needed to manage a model in Modelflow."
   ]
  },
  {
   "cell_type": "code",
   "execution_count": null,
   "metadata": {
    "tags": [
     "remove-cell"
    ]
   },
   "outputs": [],
   "source": [
    "#This is code to manage dependencies if the notebook is executed in the google colab cloud service\n",
    "if 'google.colab' in str(get_ipython()):\n",
    "  import os\n",
    "  os.system('apt -qqq install graphviz')\n",
    "  os.system('pip -qqq install ModelFlowIb ipysheet  --no-dependencies ')\n",
    "  incolab = True  \n",
    "else:\n",
    "  incolab = False "
   ]
  },
  {
   "cell_type": "code",
   "execution_count": 1,
   "metadata": {
    "slideshow": {
     "slide_type": "skip"
    }
   },
   "outputs": [
    {
     "data": {
      "text/html": [
       "\n",
       "        <style>\n",
       "            div#notebook-container    { width: 95%; }\n",
       "            div#menubar-container     { width: 65%; }\n",
       "            div#maintoolbar-container { width: 99%; }\n",
       "        </style>\n",
       "        "
      ],
      "text/plain": [
       "<IPython.core.display.HTML object>"
      ]
     },
     "metadata": {},
     "output_type": "display_data"
    }
   ],
   "source": [
    "from modelclass import model \n",
    "model.widescreen()"
   ]
  },
  {
   "cell_type": "code",
   "execution_count": 2,
   "metadata": {
    "slideshow": {
     "slide_type": "skip"
    },
    "tags": [
     "remove-cell"
    ]
   },
   "outputs": [],
   "source": [
    "%load_ext autoreload\n",
    "%autoreload 2"
   ]
  },
  {
   "cell_type": "markdown",
   "metadata": {
    "slideshow": {
     "slide_type": "slide"
    }
   },
   "source": [
    "## Load a pre-existing model, data and descriptions "
   ]
  },
  {
   "cell_type": "code",
   "execution_count": 3,
   "metadata": {},
   "outputs": [],
   "source": [
    "mpak,baseline = model.modelload('../../models/pak.pcim',run=1,silent=1,alfa=0.7,keep='Baseline')"
   ]
  },
  {
   "cell_type": "markdown",
   "metadata": {
    "slideshow": {
     "slide_type": "slide"
    }
   },
   "source": [
    "## Create a dictionary with experiments\n",
    "Now a dictionary of dataframes is created for different values of Carbon emission tax. The *key* is the value of the tax. The *value* is a dataframe where the tax variables are updated. \n",
    "\n",
    "Python allows this to be expressed in a quite concise way: "
   ]
  },
  {
   "cell_type": "code",
   "execution_count": 24,
   "metadata": {
    "slideshow": {
     "slide_type": "slide"
    }
   },
   "outputs": [],
   "source": [
    "scenarios = {value: \n",
    "    baseline.upd(f\"<2020:2100> PAKGGREVCO2CER PAKGGREVCO2GER PAKGGREVCO2OER = {value}\") \n",
    "    for value in [5, 10, 15, 20,25]}\n",
    "# scenario_30 =     baseline.upd(\"<2020:2100> PAKGGREVCO2CER PAKGGREVCO2GER PAKGGREVCO2OER = 30\") \n"
   ]
  },
  {
   "cell_type": "markdown",
   "metadata": {
    "slideshow": {
     "slide_type": "subslide"
    }
   },
   "source": [
    "\n",
    "**Python constructs**<br>\n",
    "\n",
    "| Python construct |explanation|info |\n",
    "| :- | :---| :---|\n",
    "|f\"... = {value}\"|' f-string, {value} is substituted with the value of the variable **value** | [Search](https://www.google.com/search?q=python+dictionary+comprehension&newwindow=1)\n",
    "|baseline.upd(...)|a new dataframe is created where the three tax variables are updated| [Introduction to dataframe.upd](../update/model%20update.ipynb)\n",
    "|{value: model.update(... {value}) for value  in \\[5,10 ...]}|Creates a dictionary of dataframes  | [Search dictionary comprehension ](https://www.google.com/search?q=python+dictionary+comprehension&newwindow=1)\n",
    "\n"
   ]
  },
  {
   "cell_type": "markdown",
   "metadata": {
    "slideshow": {
     "slide_type": "slide"
    }
   },
   "source": [
    "## Run the model with all the scenarios"
   ]
  },
  {
   "cell_type": "code",
   "execution_count": 28,
   "metadata": {
    "collapsed": true
   },
   "outputs": [
    {
     "name": "stdout",
     "output_type": "stream",
     "text": [
      "5 1980    655.959991\n",
      "1981    657.440879\n",
      "1982    773.473829\n",
      "1983    662.950925\n",
      "1984    597.058556\n",
      "Name: ALBNEIMPGNFSKD, dtype: float64\n",
      "10 1980    655.959991\n",
      "1981    657.440879\n",
      "1982    773.473829\n",
      "1983    662.950925\n",
      "1984    597.058556\n",
      "Name: ALBNEIMPGNFSKD, dtype: float64\n",
      "15 1980    655.959991\n",
      "1981    657.440879\n",
      "1982    773.473829\n",
      "1983    662.950925\n",
      "1984    597.058556\n",
      "Name: ALBNEIMPGNFSKD, dtype: float64\n",
      "20 1980    655.959991\n",
      "1981    657.440879\n",
      "1982    773.473829\n",
      "1983    662.950925\n",
      "1984    597.058556\n",
      "Name: ALBNEIMPGNFSKD, dtype: float64\n",
      "25 1980    655.959991\n",
      "1981    657.440879\n",
      "1982    773.473829\n",
      "1983    662.950925\n",
      "1984    597.058556\n",
      "Name: ALBNEIMPGNFSKD, dtype: float64\n"
     ]
    }
   ],
   "source": [
    "for  value,dataframe in scenarios.items():\n",
    "    print(value,dataframe.ALBNEIMPGNFSKD.head())"
   ]
  },
  {
   "cell_type": "code",
   "execution_count": 29,
   "metadata": {},
   "outputs": [],
   "source": [
    "for value,dataframe in scenarios.items(): # Returns the value and the dataframe of each experiment\n",
    "        _= mpak(dataframe,2020,2100,keep=f'Coal, Oil and Gastax : {value} nominal') # simulates the model "
   ]
  },
  {
   "cell_type": "markdown",
   "metadata": {
    "slideshow": {
     "slide_type": "slide"
    }
   },
   "source": [
    "## Access results \n",
    "\n",
    "Let's take a look at the how to extract information stored in our model instance, mpak. \n",
    "\n",
    "- **mpak.basedf**: Dataframe with the values for the first scenario\n",
    "- **mpak.lastdf**: Dataframe with the values for the last scenario \n",
    "- **mpak.keep_solutions**: Dictionary with dataframes from *ALL* scenarios \n",
    "\n"
   ]
  },
  {
   "cell_type": "markdown",
   "metadata": {
    "slideshow": {
     "slide_type": "slide"
    }
   },
   "source": [
    "### mpak.keep_solutions a dictionary with dataframes\n",
    "As we have multiple scenarios the *keept* solutions will be used in this notebook. <br>\n",
    "**Modelflow provides a number of ways to visualize the keept results.**  \n",
    "\n",
    "The dataframe which is keept in the dictionary is the complete solution of the model. So it includes all exogenous and endogenous variables in all years. If the model is large this can become a very large object. Therefor the user can decide only \n",
    "to keep some variables - this will not be covered here. \n",
    "\n",
    "Below the keys and content of mpak.keep_solutions is shown:"
   ]
  },
  {
   "cell_type": "code",
   "execution_count": 6,
   "metadata": {
    "scrolled": false
   },
   "outputs": [
    {
     "name": "stdout",
     "output_type": "stream",
     "text": [
      "key = Baseline                          |value = Dataframe with 121 years and 1291 variables\n",
      "key = Coal, Oil and Gastax : 5 nominal  |value = Dataframe with 121 years and 1291 variables\n",
      "key = Coal, Oil and Gastax : 10 nominal |value = Dataframe with 121 years and 1291 variables\n",
      "key = Coal, Oil and Gastax : 15 nominal |value = Dataframe with 121 years and 1291 variables\n",
      "key = Coal, Oil and Gastax : 20 nominal |value = Dataframe with 121 years and 1291 variables\n",
      "key = Coal, Oil and Gastax : 25 nominal |value = Dataframe with 121 years and 1291 variables\n"
     ]
    }
   ],
   "source": [
    "for key,value in mpak.keep_solutions.items(): \n",
    "    print(f'key = {key:34}|value = Dataframe with {value.shape[0]} years and {value.shape[1]} variables')"
   ]
  },
  {
   "cell_type": "markdown",
   "metadata": {
    "slideshow": {
     "slide_type": "skip"
    }
   },
   "source": [
    "## .keep_plot()  Function to visualize the keept solutions\n",
    "When creating charts from keep't solutions the goto function is .keep_plot(). As will be shown below it can display the results in a number of ways. "
   ]
  },
  {
   "cell_type": "markdown",
   "metadata": {
    "slideshow": {
     "slide_type": "slide"
    }
   },
   "source": [
    "### .keep_plot(..showtype='level'|'growth'|'change'..) \n",
    "keep_plot can display data with three different transformations: \n",
    "\n",
    "**Transformation of data displayed:** \n",
    "\n",
    "| showtype= |Use this operator|\n",
    "| :- | :---|\n",
    " 'level' (default)|No transformation  \n",
    " 'growth'| The growth rate  in percent \n",
    " 'change'| The yearly change ($\\Delta$) \n",
    "\n",
    "**legend placement**\n",
    "\n",
    "| legend= |Use this operator|\n",
    "| :- | :---|\n",
    " False (default) |The legends will be placed at the end of the corresponding line\n",
    " True|The legends are places in a legend box\n",
    "\n",
    "The **variables** we want to be displayed is listed as first argument. Variable names can include \n",
    "wildcards (using * for any string and ? for any character) "
   ]
  },
  {
   "cell_type": "code",
   "execution_count": 7,
   "metadata": {
    "slideshow": {
     "slide_type": "slide"
    }
   },
   "outputs": [
    {
     "data": {
      "image/png": "[encoded data removed]",
      "text/plain": [
       "<Figure size 720x432 with 1 Axes>"
      ]
     },
     "metadata": {
      "needs_background": "light"
     },
     "output_type": "display_data"
    },
    {
     "data": {
      "image/png": "[encoded data removed]",
      "text/plain": [
       "<Figure size 720x432 with 1 Axes>"
      ]
     },
     "metadata": {
      "needs_background": "light"
     },
     "output_type": "display_data"
    },
    {
     "data": {
      "image/png": "[encoded data removed]",
      "text/plain": [
       "<Figure size 720x432 with 1 Axes>"
      ]
     },
     "metadata": {
      "needs_background": "light"
     },
     "output_type": "display_data"
    }
   ],
   "source": [
    "for trans in ['level','growth','change']:\n",
    "    plot_level  = mpak.keep_plot('PAKCCEMISCO2TKN',2010,2100,showtype=trans,legend=1);"
   ]
  },
  {
   "cell_type": "markdown",
   "metadata": {},
   "source": [
    "### .keep_plot(,, diff=1|0) show difference to first scenario \n",
    "Often it is useful to compare the scenario results with the baseline result. This is done with the diff argument. \n",
    "\n",
    "| diff= |Use this operator|\n",
    "| :- | :---|\n",
    " False (default) |All entries in the keep_solution dictionary is displayed\n",
    " True|The difference to the first entry is shown.\n"
   ]
  },
  {
   "cell_type": "code",
   "execution_count": 8,
   "metadata": {},
   "outputs": [
    {
     "data": {
      "image/png": "[encoded data removed]",
      "text/plain": [
       "<Figure size 720x432 with 1 Axes>"
      ]
     },
     "metadata": {
      "needs_background": "light"
     },
     "output_type": "display_data"
    }
   ],
   "source": [
    "plot_impact = mpak.keep_plot('PAKCCEMISCO2TKN',2010,2100,legend=1,diff=1);"
   ]
  },
  {
   "cell_type": "markdown",
   "metadata": {},
   "source": [
    "### .keep_plot(,, diffpct=1|0) show difference in percent to first scenario \n",
    "Often it is useful to compare the scenario results with the baseline result **measured in percent**. This is done with the diffpct argument. \n",
    "\n",
    "| diffpct= |Use this operator|\n",
    "| :- | :---|\n",
    " False (default) |All entries in the keep_solution dictionary is displayed\n",
    " True|The difference in percent to the first entry is shown\n"
   ]
  },
  {
   "cell_type": "markdown",
   "metadata": {},
   "source": [
    ":::{danger}\n",
    "diff=1 and diffpct=1 can't be used at the same time\n",
    ":::"
   ]
  },
  {
   "cell_type": "code",
   "execution_count": 9,
   "metadata": {},
   "outputs": [
    {
     "data": {
      "image/png": "[encoded data removed]",
      "text/plain": [
       "<Figure size 720x432 with 1 Axes>"
      ]
     },
     "metadata": {
      "needs_background": "light"
     },
     "output_type": "display_data"
    }
   ],
   "source": [
    "plot_impact = mpak.keep_plot('PAKCCEMISCO2TKN',2010,2100,legend=1,diffpct=1);"
   ]
  },
  {
   "cell_type": "markdown",
   "metadata": {},
   "source": [
    "### Saving plots in files\n",
    "keep_plot returns a dictionary of the matplotlib figure objects it has produced. These can be used to create charts in different formats.\n",
    "\n",
    "In this case the the there is only one \n",
    "item in the dictionary. The key is the variable name in the plot:"
   ]
  },
  {
   "cell_type": "code",
   "execution_count": 10,
   "metadata": {},
   "outputs": [
    {
     "data": {
      "text/plain": [
       "dict_keys(['PAKCCEMISCO2TKN'])"
      ]
     },
     "execution_count": 10,
     "metadata": {},
     "output_type": "execute_result"
    }
   ],
   "source": [
    "plot_impact.keys()"
   ]
  },
  {
   "cell_type": "markdown",
   "metadata": {},
   "source": [
    "We can loop over the items and save the plots in different formats. "
   ]
  },
  {
   "cell_type": "code",
   "execution_count": 11,
   "metadata": {},
   "outputs": [
    {
     "name": "stderr",
     "output_type": "stream",
     "text": [
      "A subdirectory or file graph already exists.\n"
     ]
    }
   ],
   "source": [
    "# create a folder\n",
    "!md graph"
   ]
  },
  {
   "cell_type": "code",
   "execution_count": 12,
   "metadata": {
    "scrolled": false
   },
   "outputs": [
    {
     "data": {
      "image/png": "[encoded data removed]",
      "text/plain": [
       "<Figure size 720x432 with 1 Axes>"
      ]
     },
     "metadata": {},
     "output_type": "display_data"
    }
   ],
   "source": [
    "for variable,figure in plot_level.items():\n",
    "    display(figure)\n",
    "    figure.savefig(f'graph/{variable}_test.png') # save in png format \n",
    "    figure.savefig(f'graph/{variable}_test.pdf') # save in pdf format \n",
    "    figure.savefig(f'graph/{variable}_test.svg') # save in svg format"
   ]
  },
  {
   "cell_type": "markdown",
   "metadata": {},
   "source": [
    "## .keepswitch, Select scenarios for plotting\n",
    "When creating many scenarios with the ```keep``` keyword it can sometime be useful to: \n",
    "- Plot selected scenarios and to change the sequence of the scenarios. \n",
    "- To use the .basedf and .lastdf as scenarios. \n",
    "\n",
    "To facilitate this the .keepswitch function has been created.\n",
    "\n",
    "| Parameter |Explanation\n",
    "| :- | :---|\n",
    "|switch = True\\|False(default) |If True use the .basedf and .lastdf \n",
    "|scenario='\\<string>'|Listing of scenarios separated by \\| if no wildcards else space  \n",
    "    \n",
    ".keepswitch is a [context manager](https://www.pythontutorial.net/advanced-python/python-context-managers) like .set_smpl.\n",
    "So it works in the scope of a ```with```. After the with statement the keept solutions are restored."
   ]
  },
  {
   "cell_type": "code",
   "execution_count": 13,
   "metadata": {},
   "outputs": [
    {
     "name": "stdout",
     "output_type": "stream",
     "text": [
      "Before with mpak.keepswitch:\n",
      "Baseline\n",
      "Coal, Oil and Gastax : 5 nominal\n",
      "Coal, Oil and Gastax : 10 nominal\n",
      "Coal, Oil and Gastax : 15 nominal\n",
      "Coal, Oil and Gastax : 20 nominal\n",
      "Coal, Oil and Gastax : 25 nominal\n",
      "\n",
      "During with mpak.keepswitch:\n",
      "Coal, Oil and Gastax : 25 nominal\n",
      "Coal, Oil and Gastax : 15 nominal\n",
      "\n",
      "After with mpak.keepswitch:\n",
      "Baseline\n",
      "Coal, Oil and Gastax : 5 nominal\n",
      "Coal, Oil and Gastax : 10 nominal\n",
      "Coal, Oil and Gastax : 15 nominal\n",
      "Coal, Oil and Gastax : 20 nominal\n",
      "Coal, Oil and Gastax : 25 nominal\n"
     ]
    }
   ],
   "source": [
    "print('Before with mpak.keepswitch:',*mpak.keep_solutions.keys(),sep='\\n')\n",
    "with mpak.keepswitch(scenarios = '*25* *15*'):\n",
    "   print('\\nDuring with mpak.keepswitch:',*mpak.keep_solutions.keys(),sep='\\n')\n",
    "print('\\nAfter with mpak.keepswitch:',*mpak.keep_solutions.keys(),sep='\\n')\n"
   ]
  },
  {
   "cell_type": "code",
   "execution_count": 14,
   "metadata": {},
   "outputs": [
    {
     "data": {
      "image/png": "[encoded data removed]",
      "text/plain": [
       "<Figure size 720x432 with 1 Axes>"
      ]
     },
     "metadata": {
      "needs_background": "light"
     },
     "output_type": "display_data"
    },
    {
     "data": {
      "image/png": "[encoded data removed]",
      "text/plain": [
       "<Figure size 720x432 with 1 Axes>"
      ]
     },
     "metadata": {
      "needs_background": "light"
     },
     "output_type": "display_data"
    }
   ],
   "source": [
    "with mpak.keepswitch(scenarios = '*25* *15*'):\n",
    "   mpak.keep_plot('PAKCCEMISCO2TKN',2010,2100,legend=1)\n",
    "   mpak.keep_plot('PAKCCEMISCO2TKN',2010,2100,diff=1,legend=0)"
   ]
  },
  {
   "cell_type": "markdown",
   "metadata": {},
   "source": [
    "## .modeldump() Saving results\n",
    "\n",
    "The 'keep' option ensures, that the solutions are saved together with the model, data and descriptions. \n",
    "\n",
    "Note: When working with large data and many scenarios, this file takes up a lot of space! "
   ]
  },
  {
   "cell_type": "code",
   "execution_count": 18,
   "metadata": {},
   "outputs": [],
   "source": [
    "mpak.modeldump('../../models/pak scenarios.pcim',keep=1)"
   ]
  },
  {
   "cell_type": "code",
   "execution_count": 20,
   "metadata": {
    "scrolled": true
   },
   "outputs": [
    {
     "name": "stdout",
     "output_type": "stream",
     "text": [
      " Volume in drive C has no label.\n",
      " Volume Serial Number is C2DB-095E\n",
      "\n",
      " Directory of c:\\wb new\\Modelflow\\working_paper\\thebook\\content\\models\n",
      "\n",
      "26-06-2022  20:14    <DIR>          .\n",
      "29-06-2022  07:09    <DIR>          ..\n",
      "29-06-2022  10:05        22.999.561 pak scenarios.pcim\n",
      "02-03-2022  05:12         3.388.012 pak.pcim\n",
      "26-06-2022  20:14         3.393.127 pak_exogenized.pcim\n",
      "               3 File(s)     29.780.700 bytes\n",
      "               2 Dir(s)  788.118.515.712 bytes free\n"
     ]
    }
   ],
   "source": [
    "!dir ..\\..\\models"
   ]
  },
  {
   "cell_type": "code",
   "execution_count": 39,
   "metadata": {},
   "outputs": [
    {
     "data": {
      "text/plain": [
       "'Baseline'"
      ]
     },
     "execution_count": 39,
     "metadata": {},
     "output_type": "execute_result"
    }
   ],
   "source": [
    "[k for k in mpak.keep_solutions.keys()][0]"
   ]
  },
  {
   "cell_type": "code",
   "execution_count": 33,
   "metadata": {},
   "outputs": [],
   "source": [
    "andrew = mpak.keep_solutions['Coal, Oil and Gastax : 5 nominal']"
   ]
  },
  {
   "cell_type": "code",
   "execution_count": 34,
   "metadata": {},
   "outputs": [
    {
     "data": {
      "text/html": [
       "<div>\n",
       "<style scoped>\n",
       "    .dataframe tbody tr th:only-of-type {\n",
       "        vertical-align: middle;\n",
       "    }\n",
       "\n",
       "    .dataframe tbody tr th {\n",
       "        vertical-align: top;\n",
       "    }\n",
       "\n",
       "    .dataframe thead th {\n",
       "        text-align: right;\n",
       "    }\n",
       "</style>\n",
       "<table border=\"1\" class=\"dataframe\">\n",
       "  <thead>\n",
       "    <tr style=\"text-align: right;\">\n",
       "      <th></th>\n",
       "      <th>ADAP</th>\n",
       "      <th>ALBNEIMPGNFSKD</th>\n",
       "      <th>ALBNEIMPGNFSKD01</th>\n",
       "      <th>AUTNEIMPGNFSKD</th>\n",
       "      <th>AUTNEIMPGNFSKD01</th>\n",
       "      <th>BELNEIMPGNFSKD</th>\n",
       "      <th>BELNEIMPGNFSKD01</th>\n",
       "      <th>BIHNEIMPGNFSKD</th>\n",
       "      <th>BIHNEIMPGNFSKD01</th>\n",
       "      <th>CHNEXR05</th>\n",
       "      <th>...</th>\n",
       "      <th>PAKGGREVOTHRCN_X</th>\n",
       "      <th>PAKNVAGRFSNGXN_D</th>\n",
       "      <th>PAKGGREVGRNTCN_X</th>\n",
       "      <th>PAKBMFSTOTHRCD_X</th>\n",
       "      <th>PAKGGREVGRNTCN_D</th>\n",
       "      <th>PAKNVSRVTRNSKN_D</th>\n",
       "      <th>PAKNVGASPRODXN_D</th>\n",
       "      <th>PAKNVENGTOTLKN_D</th>\n",
       "      <th>PAKBXGSRMRCHCD_D</th>\n",
       "      <th>PAKNEIMPGNFSKN_D</th>\n",
       "    </tr>\n",
       "  </thead>\n",
       "  <tbody>\n",
       "    <tr>\n",
       "      <th>1980</th>\n",
       "      <td>0.0</td>\n",
       "      <td>655.959991</td>\n",
       "      <td>655.959991</td>\n",
       "      <td>57235.583413</td>\n",
       "      <td>57235.583413</td>\n",
       "      <td>110340.519687</td>\n",
       "      <td>110340.519687</td>\n",
       "      <td>0.0</td>\n",
       "      <td>0.0</td>\n",
       "      <td>0.354531</td>\n",
       "      <td>...</td>\n",
       "      <td>0.0</td>\n",
       "      <td>0.0</td>\n",
       "      <td>0.0</td>\n",
       "      <td>0.0</td>\n",
       "      <td>0.0</td>\n",
       "      <td>0.0</td>\n",
       "      <td>0.0</td>\n",
       "      <td>0.0</td>\n",
       "      <td>0.0</td>\n",
       "      <td>0.0</td>\n",
       "    </tr>\n",
       "    <tr>\n",
       "      <th>1981</th>\n",
       "      <td>0.0</td>\n",
       "      <td>657.440879</td>\n",
       "      <td>657.440879</td>\n",
       "      <td>56888.545640</td>\n",
       "      <td>56888.545640</td>\n",
       "      <td>108205.205228</td>\n",
       "      <td>108205.205228</td>\n",
       "      <td>0.0</td>\n",
       "      <td>0.0</td>\n",
       "      <td>0.372258</td>\n",
       "      <td>...</td>\n",
       "      <td>0.0</td>\n",
       "      <td>0.0</td>\n",
       "      <td>0.0</td>\n",
       "      <td>0.0</td>\n",
       "      <td>0.0</td>\n",
       "      <td>0.0</td>\n",
       "      <td>0.0</td>\n",
       "      <td>0.0</td>\n",
       "      <td>0.0</td>\n",
       "      <td>0.0</td>\n",
       "    </tr>\n",
       "    <tr>\n",
       "      <th>1982</th>\n",
       "      <td>0.0</td>\n",
       "      <td>773.473829</td>\n",
       "      <td>773.473829</td>\n",
       "      <td>54824.093028</td>\n",
       "      <td>54824.093028</td>\n",
       "      <td>109671.110584</td>\n",
       "      <td>109671.110584</td>\n",
       "      <td>0.0</td>\n",
       "      <td>0.0</td>\n",
       "      <td>0.387030</td>\n",
       "      <td>...</td>\n",
       "      <td>0.0</td>\n",
       "      <td>0.0</td>\n",
       "      <td>0.0</td>\n",
       "      <td>0.0</td>\n",
       "      <td>0.0</td>\n",
       "      <td>0.0</td>\n",
       "      <td>0.0</td>\n",
       "      <td>0.0</td>\n",
       "      <td>0.0</td>\n",
       "      <td>0.0</td>\n",
       "    </tr>\n",
       "    <tr>\n",
       "      <th>1983</th>\n",
       "      <td>0.0</td>\n",
       "      <td>662.950925</td>\n",
       "      <td>662.950925</td>\n",
       "      <td>57114.045613</td>\n",
       "      <td>57114.045613</td>\n",
       "      <td>108319.709418</td>\n",
       "      <td>108319.709418</td>\n",
       "      <td>0.0</td>\n",
       "      <td>0.0</td>\n",
       "      <td>0.385553</td>\n",
       "      <td>...</td>\n",
       "      <td>0.0</td>\n",
       "      <td>0.0</td>\n",
       "      <td>0.0</td>\n",
       "      <td>0.0</td>\n",
       "      <td>0.0</td>\n",
       "      <td>0.0</td>\n",
       "      <td>0.0</td>\n",
       "      <td>0.0</td>\n",
       "      <td>0.0</td>\n",
       "      <td>0.0</td>\n",
       "    </tr>\n",
       "    <tr>\n",
       "      <th>1984</th>\n",
       "      <td>0.0</td>\n",
       "      <td>597.058556</td>\n",
       "      <td>597.058556</td>\n",
       "      <td>60908.310421</td>\n",
       "      <td>60908.310421</td>\n",
       "      <td>115244.067557</td>\n",
       "      <td>115244.067557</td>\n",
       "      <td>0.0</td>\n",
       "      <td>0.0</td>\n",
       "      <td>0.413620</td>\n",
       "      <td>...</td>\n",
       "      <td>0.0</td>\n",
       "      <td>0.0</td>\n",
       "      <td>0.0</td>\n",
       "      <td>0.0</td>\n",
       "      <td>0.0</td>\n",
       "      <td>0.0</td>\n",
       "      <td>0.0</td>\n",
       "      <td>0.0</td>\n",
       "      <td>0.0</td>\n",
       "      <td>0.0</td>\n",
       "    </tr>\n",
       "  </tbody>\n",
       "</table>\n",
       "<p>5 rows × 1291 columns</p>\n",
       "</div>"
      ],
      "text/plain": [
       "      ADAP  ALBNEIMPGNFSKD  ALBNEIMPGNFSKD01  AUTNEIMPGNFSKD  \\\n",
       "1980   0.0      655.959991        655.959991    57235.583413   \n",
       "1981   0.0      657.440879        657.440879    56888.545640   \n",
       "1982   0.0      773.473829        773.473829    54824.093028   \n",
       "1983   0.0      662.950925        662.950925    57114.045613   \n",
       "1984   0.0      597.058556        597.058556    60908.310421   \n",
       "\n",
       "      AUTNEIMPGNFSKD01  BELNEIMPGNFSKD  BELNEIMPGNFSKD01  BIHNEIMPGNFSKD  \\\n",
       "1980      57235.583413   110340.519687     110340.519687             0.0   \n",
       "1981      56888.545640   108205.205228     108205.205228             0.0   \n",
       "1982      54824.093028   109671.110584     109671.110584             0.0   \n",
       "1983      57114.045613   108319.709418     108319.709418             0.0   \n",
       "1984      60908.310421   115244.067557     115244.067557             0.0   \n",
       "\n",
       "      BIHNEIMPGNFSKD01  CHNEXR05  ...  PAKGGREVOTHRCN_X  PAKNVAGRFSNGXN_D  \\\n",
       "1980               0.0  0.354531  ...               0.0               0.0   \n",
       "1981               0.0  0.372258  ...               0.0               0.0   \n",
       "1982               0.0  0.387030  ...               0.0               0.0   \n",
       "1983               0.0  0.385553  ...               0.0               0.0   \n",
       "1984               0.0  0.413620  ...               0.0               0.0   \n",
       "\n",
       "      PAKGGREVGRNTCN_X  PAKBMFSTOTHRCD_X  PAKGGREVGRNTCN_D  PAKNVSRVTRNSKN_D  \\\n",
       "1980               0.0               0.0               0.0               0.0   \n",
       "1981               0.0               0.0               0.0               0.0   \n",
       "1982               0.0               0.0               0.0               0.0   \n",
       "1983               0.0               0.0               0.0               0.0   \n",
       "1984               0.0               0.0               0.0               0.0   \n",
       "\n",
       "      PAKNVGASPRODXN_D  PAKNVENGTOTLKN_D  PAKBXGSRMRCHCD_D  PAKNEIMPGNFSKN_D  \n",
       "1980               0.0               0.0               0.0               0.0  \n",
       "1981               0.0               0.0               0.0               0.0  \n",
       "1982               0.0               0.0               0.0               0.0  \n",
       "1983               0.0               0.0               0.0               0.0  \n",
       "1984               0.0               0.0               0.0               0.0  \n",
       "\n",
       "[5 rows x 1291 columns]"
      ]
     },
     "execution_count": 34,
     "metadata": {},
     "output_type": "execute_result"
    }
   ],
   "source": [
    "andrew.head()"
   ]
  },
  {
   "cell_type": "code",
   "execution_count": null,
   "metadata": {},
   "outputs": [],
   "source": []
  }
 ],
 "metadata": {
  "celltoolbar": "Edit Metadata",
  "hide_input": false,
  "kernelspec": {
   "display_name": "Python 3 (ipykernel)",
   "language": "python",
   "name": "python3"
  },
  "language_info": {
   "codemirror_mode": {
    "name": "ipython",
    "version": 3
   },
   "file_extension": ".py",
   "mimetype": "text/x-python",
   "name": "python",
   "nbconvert_exporter": "python",
   "pygments_lexer": "ipython3",
   "version": "3.9.13"
  },
  "toc": {
   "base_numbering": 1,
   "nav_menu": {},
   "number_sections": true,
   "sideBar": true,
   "skip_h1_title": false,
   "title_cell": "Table of Contents",
   "title_sidebar": "Contents",
   "toc_cell": false,
   "toc_position": {
    "height": "calc(100% - 180px)",
    "left": "10px",
    "top": "150px",
    "width": "165px"
   },
   "toc_section_display": true,
   "toc_window_display": false
  },
  "varInspector": {
   "cols": {
    "lenName": 16,
    "lenType": 16,
    "lenVar": 40
   },
   "kernels_config": {
    "python": {
     "delete_cmd_postfix": "",
     "delete_cmd_prefix": "del ",
     "library": "var_list.py",
     "varRefreshCmd": "print(var_dic_list())"
    },
    "r": {
     "delete_cmd_postfix": ") ",
     "delete_cmd_prefix": "rm(",
     "library": "var_list.r",
     "varRefreshCmd": "cat(var_dic_list()) "
    }
   },
   "oldHeight": 122.85,
   "position": {
    "height": "144.85px",
    "left": "961.8px",
    "right": "20px",
    "top": "-2.99998px",
    "width": "350px"
   },
   "types_to_exclude": [
    "module",
    "function",
    "builtin_function_or_method",
    "instance",
    "_Feature"
   ],
   "varInspector_section_display": "block",
   "window_display": false
  },
  "widgets": {
   "application/vnd.jupyter.widget-state+json": {
    "state": {
     "000d553b4bec4b538fe1637c7a454735": {
      "model_module": "ipysheet",
      "model_module_version": "~0.5.0",
      "model_name": "CellRangeModel",
      "state": {
       "_view_module": null,
       "_view_module_version": "",
       "column_end": 9,
       "column_start": 9,
       "row_end": 5,
       "row_start": 0,
       "squeeze_row": false,
       "type": "numeric",
       "value": [
        32.231553651969115,
        32.231553651969115,
        32.231553651969115,
        0,
        0,
        0
       ]
      }
     },
     "00330119da5548c889d1b7aa15532622": {
      "model_module": "@jupyter-widgets/base",
      "model_module_version": "1.2.0",
      "model_name": "LayoutModel",
      "state": {}
     },
     "0450d57b275443e18b43a684981334f9": {
      "model_module": "ipysheet",
      "model_module_version": "~0.5.0",
      "model_name": "CellRangeModel",
      "state": {
       "_view_module": null,
       "_view_module_version": "",
       "column_end": 37,
       "column_start": 37,
       "row_end": 5,
       "row_start": 0,
       "squeeze_row": false,
       "type": "numeric",
       "value": [
        157.0200596023539,
        157.0200596023539,
        157.0200596023539,
        0,
        0,
        0
       ]
      }
     },
     "04e40613430f4902971149912f4cf0fb": {
      "model_module": "ipysheet",
      "model_module_version": "~0.5.0",
      "model_name": "CellRangeModel",
      "state": {
       "_view_module": null,
       "_view_module_version": "",
       "column_end": 3,
       "column_start": 3,
       "row_end": 5,
       "row_start": 0,
       "squeeze_row": false,
       "type": "numeric",
       "value": [
        29,
        29,
        29,
        0,
        0,
        0
       ]
      }
     },
     "0578b7e3a7e4488da7afea5d59789f85": {
      "model_module": "@jupyter-widgets/base",
      "model_module_version": "1.2.0",
      "model_name": "LayoutModel",
      "state": {}
     },
     "057dbc79195843deb7349d753acef294": {
      "model_module": "ipysheet",
      "model_module_version": "~0.5.0",
      "model_name": "CellRangeModel",
      "state": {
       "_view_module": null,
       "_view_module_version": "",
       "column_end": 14,
       "column_start": 14,
       "row_end": 5,
       "row_start": 0,
       "squeeze_row": false,
       "type": "numeric",
       "value": [
        29.841531799753223,
        29.841531799753223,
        29.841531799753223,
        0,
        0,
        0
       ]
      }
     },
     "0622cb0aef4743f399d25781e5f4db97": {
      "model_module": "ipysheet",
      "model_module_version": "~0.5.0",
      "model_name": "CellRangeModel",
      "state": {
       "_view_module": null,
       "_view_module_version": "",
       "column_end": 3,
       "column_start": 3,
       "row_end": 9,
       "row_start": 0,
       "squeeze_row": false,
       "type": "numeric",
       "value": [
        0,
        0,
        0,
        0,
        0,
        0,
        0,
        0,
        0,
        0
       ]
      }
     },
     "06ce364bcb8e48c58f2987268888575a": {
      "model_module": "ipysheet",
      "model_module_version": "~0.5.0",
      "model_name": "CellRangeModel",
      "state": {
       "_view_module": null,
       "_view_module_version": "",
       "column_end": 35,
       "column_start": 35,
       "row_end": 5,
       "row_start": 0,
       "squeeze_row": false,
       "type": "numeric",
       "value": [
        135.81360232991884,
        135.81360232991884,
        135.81360232991884,
        0,
        0,
        0
       ]
      }
     },
     "094d06ce0bbc4e8cb31d95e4d23ff974": {
      "model_module": "@jupyter-widgets/controls",
      "model_module_version": "1.5.0",
      "model_name": "LabelModel",
      "state": {
       "layout": "IPY_MODEL_db6d7d87ee9543cb93e0f7f38de7d753",
       "style": "IPY_MODEL_fbd630418b1545bc92a4fa962ccb051c",
       "value": "Check real taxrates "
      }
     },
     "0962ca1891124584b4679905bee01fd2": {
      "model_module": "ipysheet",
      "model_module_version": "~0.5.0",
      "model_name": "SheetModel",
      "state": {
       "cells": [
        "IPY_MODEL_5f27593397874cffa9b94e67417f6ded",
        "IPY_MODEL_ee0f7ffc12af4d5b8f9e6fbc14b5309d",
        "IPY_MODEL_a17e755810184840a1cf6a9e3182ddf7",
        "IPY_MODEL_0622cb0aef4743f399d25781e5f4db97",
        "IPY_MODEL_c2a3260b153845a7a00c7d31e37ddc77",
        "IPY_MODEL_7da78faeccab426c8b9fa78dfaace441"
       ],
       "column_headers": [
        "('New', 'PAKGGREVCO2CER')",
        "('New', 'PAKGGREVCO2OER')",
        "('New', 'PAKGGREVCO2GER')",
        "('Diff', 'PAKGGREVCO2CER')",
        "('Diff', 'PAKGGREVCO2OER')",
        "('Diff', 'PAKGGREVCO2GER')"
       ],
       "columns": 6,
       "layout": "IPY_MODEL_b2b0ebeae11e40b0b05cb9a22943eb26",
       "row_headers": [
        "2017",
        "2018",
        "2019",
        "2020",
        "2021",
        "2022",
        "2023",
        "2024",
        "2025",
        "2026"
       ],
       "rows": 10
      }
     },
     "09b8943739ee465ead1259c47b14578a": {
      "model_module": "ipysheet",
      "model_module_version": "~0.5.0",
      "model_name": "CellRangeModel",
      "state": {
       "_view_module": null,
       "_view_module_version": "",
       "column_end": 12,
       "column_start": 12,
       "row_end": 5,
       "row_start": 0,
       "squeeze_row": false,
       "type": "numeric",
       "value": [
        30.012075962675382,
        30.012075962675382,
        30.012075962675382,
        0,
        0,
        0
       ]
      }
     },
     "0a971d52dd5e40029867e3c0e979aba2": {
      "model_module": "@jupyter-widgets/controls",
      "model_module_version": "1.5.0",
      "model_name": "DescriptionStyleModel",
      "state": {
       "description_width": ""
      }
     },
     "0b33ddefa65f492c87cdba6562304be6": {
      "model_module": "ipysheet",
      "model_module_version": "~0.5.0",
      "model_name": "CellRangeModel",
      "state": {
       "_view_module": null,
       "_view_module_version": "",
       "column_end": 20,
       "column_start": 20,
       "row_end": 5,
       "row_start": 0,
       "squeeze_row": false,
       "type": "numeric",
       "value": [
        39.115786461210824,
        39.115786461210824,
        39.115786461210824,
        0,
        0,
        0
       ]
      }
     },
     "0be963e1001149e5af1752327cbecbe0": {
      "model_module": "ipysheet",
      "model_module_version": "~0.5.0",
      "model_name": "CellRangeModel",
      "state": {
       "_view_module": null,
       "_view_module_version": "",
       "column_end": 25,
       "column_start": 25,
       "row_end": 5,
       "row_start": 0,
       "squeeze_row": false,
       "type": "numeric",
       "value": [
        59.08002596329259,
        59.08002596329259,
        59.08002596329259,
        0,
        0,
        0
       ]
      }
     },
     "0c9fd7100e47422eb8bf96f0808529b6": {
      "model_module": "@jupyter-widgets/controls",
      "model_module_version": "1.5.0",
      "model_name": "DescriptionStyleModel",
      "state": {
       "description_width": ""
      }
     },
     "0ec88b2ad40e411fa60b8bbc528c5f5e": {
      "model_module": "@jupyter-widgets/base",
      "model_module_version": "1.2.0",
      "model_name": "LayoutModel",
      "state": {
       "height": "auto",
       "width": "auto"
      }
     },
     "0ef74a3b469a4a77b38a5d2722ca94d8": {
      "model_module": "@jupyter-widgets/controls",
      "model_module_version": "1.5.0",
      "model_name": "VBoxModel",
      "state": {
       "children": [
        "IPY_MODEL_9f3af674c56a41668c5c4b894fc1492f",
        "IPY_MODEL_693685338c7d4ddca222099ed8eb4319"
       ],
       "layout": "IPY_MODEL_717ac5e1f3954edd8197601d1c14c322"
      }
     },
     "1012af30701740b18ae6f03366312951": {
      "model_module": "ipysheet",
      "model_module_version": "~0.5.0",
      "model_name": "CellRangeModel",
      "state": {
       "_view_module": null,
       "_view_module_version": "",
       "column_end": 5,
       "column_start": 5,
       "row_end": 83,
       "row_start": 0,
       "squeeze_row": false,
       "type": "numeric",
       "value": [
        -24.8253879556,
        -52.0470635763,
        -51.323437852,
        29,
        30.962299914387533,
        32.44249598824875,
        33.24696820511287,
        33.376888531566586,
        32.96999040272959,
        32.231553651969115,
        31.375710932475293,
        30.588525874350633,
        30.012075962675382,
        29.743368593222783,
        29.841531799753223,
        30.33821737276967,
        31.247927701600666,
        32.576525762093475,
        34.32730444518984,
        36.50466362917244,
        39.115786461210824,
        42.17082531425412,
        45.682103936433016,
        49.662775816838185,
        54.12530052734099,
        59.08002596329259,
        64.5340953790679,
        70.49084057787817,
        76.94974599908977,
        83.90699214421947,
        91.35651571492613,
        99.29145851990795,
        107.70583684993105,
        116.59624834436467,
        125.96343847838794,
        135.81360232991884,
        146.15931469144877,
        157.0200596023539,
        168.42235431629328,
        180.3995190473268,
        192.99115817586406,
        206.24243683030022,
        220.2032424052525,
        234.92730603330153,
        250.47135525729558,
        266.8943502458763,
        284.2568388964308,
        302.62045919688654,
        322.0475918217781,
        342.60117574515783,
        364.34466923450634,
        387.34215855422906,
        411.6585919128501,
        437.360128982038,
        464.5145857262626,
        493.19196622749934,
        523.4650423762466,
        555.4099953659602,
        589.1070737377698,
        624.6412672417739,
        662.102973592713,
        701.5886499590331,
        743.2014350037208,
        787.0517293504159,
        833.2577350500592,
        881.945942022937,
        933.2515683881917,
        987.3189483257986,
        1044.3018757439704,
        1104.3639093580737,
        1167.6786423115814,
        1234.4299868066644,
        1304.8123455348198,
        1379.030932404489,
        1457.301994626762,
        1539.8531064172703,
        1626.9235022287464,
        1718.7644609189404,
        1815.6397584550245,
        1917.8262010407407,
        2025.614244719777,
        2139.308713280133,
        2259.229618868826,
        2385.7130906367056
       ]
      }
     },
     "10d7896956d14f4b8cc0fccaacd92850": {
      "model_module": "ipysheet",
      "model_module_version": "~0.5.0",
      "model_name": "CellRangeModel",
      "state": {
       "_view_module": null,
       "_view_module_version": "",
       "column_end": 81,
       "column_start": 81,
       "row_end": 5,
       "row_start": 0,
       "squeeze_row": false,
       "type": "numeric",
       "value": [
        2139.308713280133,
        2139.308713280133,
        2139.308713280133,
        0,
        0,
        0
       ]
      }
     },
     "112b2ecea79144cdbcb7ab65edc83d8a": {
      "model_module": "ipysheet",
      "model_module_version": "~0.5.0",
      "model_name": "CellRangeModel",
      "state": {
       "_view_module": null,
       "_view_module_version": "",
       "column_end": 79,
       "column_start": 79,
       "row_end": 5,
       "row_start": 0,
       "squeeze_row": false,
       "type": "numeric",
       "value": [
        1917.8262010407407,
        1917.8262010407407,
        1917.8262010407407,
        0,
        0,
        0
       ]
      }
     },
     "11347af0a4fa4bc09a66b24806b913da": {
      "model_module": "ipysheet",
      "model_module_version": "~0.5.0",
      "model_name": "CellRangeModel",
      "state": {
       "_view_module": null,
       "_view_module_version": "",
       "row_end": 83,
       "row_start": 0,
       "squeeze_row": false,
       "type": "numeric",
       "value": [
        -1.3423136273,
        -1.5238607537000002,
        -1.4771942340000002,
        29,
        30.962299914387533,
        32.44249598824875,
        33.24696820511287,
        33.376888531566586,
        32.96999040272959,
        32.231553651969115,
        31.375710932475293,
        30.588525874350633,
        30.012075962675382,
        29.743368593222783,
        29.841531799753223,
        30.33821737276967,
        31.247927701600666,
        32.576525762093475,
        34.32730444518984,
        36.50466362917244,
        39.115786461210824,
        42.17082531425412,
        45.682103936433016,
        49.662775816838185,
        54.12530052734099,
        59.08002596329259,
        64.5340953790679,
        70.49084057787817,
        76.94974599908977,
        83.90699214421947,
        91.35651571492613,
        99.29145851990795,
        107.70583684993105,
        116.59624834436467,
        125.96343847838794,
        135.81360232991884,
        146.15931469144877,
        157.0200596023539,
        168.42235431629328,
        180.3995190473268,
        192.99115817586406,
        206.24243683030022,
        220.2032424052525,
        234.92730603330153,
        250.47135525729558,
        266.8943502458763,
        284.2568388964308,
        302.62045919688654,
        322.0475918217781,
        342.60117574515783,
        364.34466923450634,
        387.34215855422906,
        411.6585919128501,
        437.360128982038,
        464.5145857262626,
        493.19196622749934,
        523.4650423762466,
        555.4099953659602,
        589.1070737377698,
        624.6412672417739,
        662.102973592713,
        701.5886499590331,
        743.2014350037208,
        787.0517293504159,
        833.2577350500592,
        881.945942022937,
        933.2515683881917,
        987.3189483257986,
        1044.3018757439704,
        1104.3639093580737,
        1167.6786423115814,
        1234.4299868066644,
        1304.8123455348198,
        1379.030932404489,
        1457.301994626762,
        1539.8531064172703,
        1626.9235022287464,
        1718.7644609189404,
        1815.6397584550245,
        1917.8262010407407,
        2025.614244719777,
        2139.308713280133,
        2259.229618868826,
        -1.4771942340000002
       ]
      }
     },
     "117c9a2761ca409f8c513336f1b42756": {
      "model_module": "ipysheet",
      "model_module_version": "~0.5.0",
      "model_name": "CellRangeModel",
      "state": {
       "_view_module": null,
       "_view_module_version": "",
       "row_end": 5,
       "row_start": 0,
       "squeeze_row": false,
       "type": "numeric",
       "value": [
        0,
        -1.5238607537000002,
        -52.0470635763,
        0,
        0,
        0
       ]
      }
     },
     "1186a1c229cc46f19e5019364177ecbc": {
      "model_module": "ipysheet",
      "model_module_version": "~0.5.0",
      "model_name": "CellRangeModel",
      "state": {
       "_view_module": null,
       "_view_module_version": "",
       "column_end": 2,
       "column_start": 2,
       "row_end": 19,
       "row_start": 0,
       "squeeze_row": false,
       "type": "numeric",
       "value": [
        -24.8253879556,
        -52.0470635763,
        -51.323437852,
        29,
        30.962299914387533,
        32.44249598824875,
        33.24696820511287,
        33.376888531566586,
        32.96999040272959,
        32.231553651969115,
        31.375710932475293,
        30.588525874350633,
        30.012075962675382,
        29.743368593222783,
        29.841531799753223,
        30.33821737276967,
        31.247927701600666,
        32.576525762093475,
        34.32730444518984,
        36.50466362917244
       ]
      }
     },
     "122f984a1ca249dead74ec018ecd8e76": {
      "model_module": "ipysheet",
      "model_module_version": "~0.5.0",
      "model_name": "CellRangeModel",
      "state": {
       "_view_module": null,
       "_view_module_version": "",
       "column_end": 71,
       "column_start": 71,
       "row_end": 5,
       "row_start": 0,
       "squeeze_row": false,
       "type": "numeric",
       "value": [
        1234.4299868066644,
        1234.4299868066644,
        1234.4299868066644,
        0,
        0,
        0
       ]
      }
     },
     "13aa54d868b1426fa62ebbe0e4207c96": {
      "model_module": "ipysheet",
      "model_module_version": "~0.5.0",
      "model_name": "CellRangeModel",
      "state": {
       "_view_module": null,
       "_view_module_version": "",
       "column_end": 18,
       "column_start": 18,
       "row_end": 5,
       "row_start": 0,
       "squeeze_row": false,
       "type": "numeric",
       "value": [
        34.32730444518984,
        34.32730444518984,
        34.32730444518984,
        0,
        0,
        0
       ]
      }
     },
     "1427d24bf9ad4aa391c907138fd235f3": {
      "model_module": "ipysheet",
      "model_module_version": "~0.5.0",
      "model_name": "CellRangeModel",
      "state": {
       "_view_module": null,
       "_view_module_version": "",
       "column_end": 51,
       "column_start": 51,
       "row_end": 5,
       "row_start": 0,
       "squeeze_row": false,
       "type": "numeric",
       "value": [
        387.34215855422906,
        387.34215855422906,
        387.34215855422906,
        0,
        0,
        0
       ]
      }
     },
     "1478230a1e984e60ac14a03e9012375d": {
      "model_module": "ipysheet",
      "model_module_version": "~0.5.0",
      "model_name": "CellRangeModel",
      "state": {
       "_view_module": null,
       "_view_module_version": "",
       "column_end": 14,
       "column_start": 14,
       "row_end": 5,
       "row_start": 0,
       "squeeze_row": false,
       "type": "numeric",
       "value": [
        29.841531799753223,
        29.841531799753223,
        29.841531799753223,
        0,
        0,
        0
       ]
      }
     },
     "1575cd81399542f6ba7d6f630782bb3f": {
      "model_module": "@jupyter-widgets/controls",
      "model_module_version": "1.5.0",
      "model_name": "VBoxModel",
      "state": {
       "children": [
        "IPY_MODEL_b616e684599a4a95a1757882b402ac0f",
        "IPY_MODEL_c44d4dc5f15042dcbda4fefd7deb11e8"
       ],
       "layout": "IPY_MODEL_29246c24ca2b4042aeffd52480e2ec5b"
      }
     },
     "15d4b6479e234211a2f313b68e6be212": {
      "model_module": "ipysheet",
      "model_module_version": "~0.5.0",
      "model_name": "CellRangeModel",
      "state": {
       "_view_module": null,
       "_view_module_version": "",
       "column_end": 4,
       "column_start": 4,
       "row_end": 83,
       "row_start": 0,
       "squeeze_row": false,
       "type": "numeric",
       "value": [
        -1.3423136273,
        -1.5238607537000002,
        -1.4771942340000002,
        29,
        30.962299914387533,
        32.44249598824875,
        33.24696820511287,
        33.376888531566586,
        32.96999040272959,
        32.231553651969115,
        31.375710932475293,
        30.588525874350633,
        30.012075962675382,
        29.743368593222783,
        29.841531799753223,
        30.33821737276967,
        31.247927701600666,
        32.576525762093475,
        34.32730444518984,
        36.50466362917244,
        39.115786461210824,
        42.17082531425412,
        45.682103936433016,
        49.662775816838185,
        54.12530052734099,
        59.08002596329259,
        64.5340953790679,
        70.49084057787817,
        76.94974599908977,
        83.90699214421947,
        91.35651571492613,
        99.29145851990795,
        107.70583684993105,
        116.59624834436467,
        125.96343847838794,
        135.81360232991884,
        146.15931469144877,
        157.0200596023539,
        168.42235431629328,
        180.3995190473268,
        192.99115817586406,
        206.24243683030022,
        220.2032424052525,
        234.92730603330153,
        250.47135525729558,
        266.8943502458763,
        284.2568388964308,
        302.62045919688654,
        322.0475918217781,
        342.60117574515783,
        364.34466923450634,
        387.34215855422906,
        411.6585919128501,
        437.360128982038,
        464.5145857262626,
        493.19196622749934,
        523.4650423762466,
        555.4099953659602,
        589.1070737377698,
        624.6412672417739,
        662.102973592713,
        701.5886499590331,
        743.2014350037208,
        787.0517293504159,
        833.2577350500592,
        881.945942022937,
        933.2515683881917,
        987.3189483257986,
        1044.3018757439704,
        1104.3639093580737,
        1167.6786423115814,
        1234.4299868066644,
        1304.8123455348198,
        1379.030932404489,
        1457.301994626762,
        1539.8531064172703,
        1626.9235022287464,
        1718.7644609189404,
        1815.6397584550245,
        1917.8262010407407,
        2025.614244719777,
        2139.308713280133,
        2259.229618868826,
        2385.7130906367056
       ]
      }
     },
     "165b3b0c0ef04aef86c54b32282fd8d0": {
      "model_module": "ipysheet",
      "model_module_version": "~0.5.0",
      "model_name": "CellRangeModel",
      "state": {
       "_view_module": null,
       "_view_module_version": "",
       "column_end": 46,
       "column_start": 46,
       "row_end": 5,
       "row_start": 0,
       "squeeze_row": false,
       "type": "numeric",
       "value": [
        284.2568388964308,
        284.2568388964308,
        284.2568388964308,
        0,
        0,
        0
       ]
      }
     },
     "17297f91a52e4ee685040815da209f59": {
      "model_module": "@jupyter-widgets/base",
      "model_module_version": "1.2.0",
      "model_name": "LayoutModel",
      "state": {
       "width": "54%"
      }
     },
     "178df9af3b69477f82683ebfedad116b": {
      "model_module": "ipysheet",
      "model_module_version": "~0.5.0",
      "model_name": "CellRangeModel",
      "state": {
       "_view_module": null,
       "_view_module_version": "",
       "column_end": 11,
       "column_start": 11,
       "row_end": 5,
       "row_start": 0,
       "squeeze_row": false,
       "type": "numeric",
       "value": [
        30.588525874350633,
        30.588525874350633,
        30.588525874350633,
        0,
        0,
        0
       ]
      }
     },
     "17c15c25f2ef42dd8c03e56eb540f0d8": {
      "model_module": "ipysheet",
      "model_module_version": "~0.5.0",
      "model_name": "CellRangeModel",
      "state": {
       "_view_module": null,
       "_view_module_version": "",
       "row_end": 83,
       "row_start": 0,
       "squeeze_row": false,
       "type": "numeric",
       "value": [
        -1.3423136273,
        -1.5238607537000002,
        -1.4771942340000002,
        29,
        30.962299914387533,
        32.44249598824875,
        33.24696820511287,
        33.376888531566586,
        32.96999040272959,
        32.231553651969115,
        31.375710932475293,
        30.588525874350633,
        30.012075962675382,
        29.743368593222783,
        29.841531799753223,
        30.33821737276967,
        31.247927701600666,
        32.576525762093475,
        34.32730444518984,
        36.50466362917244,
        39.115786461210824,
        42.17082531425412,
        45.682103936433016,
        49.662775816838185,
        54.12530052734099,
        59.08002596329259,
        64.5340953790679,
        70.49084057787817,
        76.94974599908977,
        83.90699214421947,
        91.35651571492613,
        99.29145851990795,
        107.70583684993105,
        116.59624834436467,
        125.96343847838794,
        135.81360232991884,
        146.15931469144877,
        157.0200596023539,
        168.42235431629328,
        180.3995190473268,
        192.99115817586406,
        206.24243683030022,
        220.2032424052525,
        234.92730603330153,
        250.47135525729558,
        266.8943502458763,
        284.2568388964308,
        302.62045919688654,
        322.0475918217781,
        342.60117574515783,
        364.34466923450634,
        387.34215855422906,
        411.6585919128501,
        437.360128982038,
        464.5145857262626,
        493.19196622749934,
        523.4650423762466,
        555.4099953659602,
        589.1070737377698,
        624.6412672417739,
        662.102973592713,
        701.5886499590331,
        743.2014350037208,
        787.0517293504159,
        833.2577350500592,
        881.945942022937,
        933.2515683881917,
        987.3189483257986,
        1044.3018757439704,
        1104.3639093580737,
        1167.6786423115814,
        1234.4299868066644,
        1304.8123455348198,
        1379.030932404489,
        1457.301994626762,
        1539.8531064172703,
        1626.9235022287464,
        1718.7644609189404,
        1815.6397584550245,
        1917.8262010407407,
        2025.614244719777,
        2139.308713280133,
        2259.229618868826,
        -1.4771942340000002
       ]
      }
     },
     "188d3a61cbf245a68550d710ef21d5a0": {
      "model_module": "ipysheet",
      "model_module_version": "~0.5.0",
      "model_name": "CellRangeModel",
      "state": {
       "_view_module": null,
       "_view_module_version": "",
       "column_end": 58,
       "column_start": 58,
       "row_end": 5,
       "row_start": 0,
       "squeeze_row": false,
       "type": "numeric",
       "value": [
        589.1070737377698,
        589.1070737377698,
        589.1070737377698,
        0,
        0,
        0
       ]
      }
     },
     "194d3bfed6a049eabc51fd5b04865e99": {
      "model_module": "@jupyter-widgets/base",
      "model_module_version": "1.2.0",
      "model_name": "LayoutModel",
      "state": {}
     },
     "1975e70d229046b8aba3139a2b46a593": {
      "model_module": "@jupyter-widgets/controls",
      "model_module_version": "1.5.0",
      "model_name": "LabelModel",
      "state": {
       "layout": "IPY_MODEL_e4ea4fd9a77547c89b469ad4d2965a4e",
       "style": "IPY_MODEL_36ef5405608742eeb6d352911ed4f077",
       "value": "Carbon tax rate, US$ per tonn "
      }
     },
     "19fd14121b824474afb02ed8ae4f3045": {
      "model_module": "ipysheet",
      "model_module_version": "~0.5.0",
      "model_name": "CellRangeModel",
      "state": {
       "_view_module": null,
       "_view_module_version": "",
       "column_end": 35,
       "column_start": 35,
       "row_end": 5,
       "row_start": 0,
       "squeeze_row": false,
       "type": "numeric",
       "value": [
        135.81360232991884,
        135.81360232991884,
        135.81360232991884,
        0,
        0,
        0
       ]
      }
     },
     "1b1c7f26574e470db4cf7286bfd14ffe": {
      "model_module": "@jupyter-widgets/controls",
      "model_module_version": "1.5.0",
      "model_name": "VBoxModel",
      "state": {
       "children": [
        "IPY_MODEL_8d2dce7711e842df9b6dafc9841b05e3",
        "IPY_MODEL_70b0ead959a547cf955a6c5c7ef7dfa7"
       ],
       "layout": "IPY_MODEL_550e868347224cf0a7b978480b807ada"
      }
     },
     "1c58174bc4354b86969d0e0010516cae": {
      "model_module": "@jupyter-widgets/base",
      "model_module_version": "1.2.0",
      "model_name": "LayoutModel",
      "state": {
       "height": "auto",
       "width": "auto"
      }
     },
     "1d877b9f416b480a8d9c31a3152ca138": {
      "model_module": "ipysheet",
      "model_module_version": "~0.5.0",
      "model_name": "CellRangeModel",
      "state": {
       "_view_module": null,
       "_view_module_version": "",
       "column_end": 8,
       "column_start": 8,
       "row_end": 83,
       "row_start": 0,
       "squeeze_row": false,
       "type": "numeric",
       "value": [
        0,
        0,
        0,
        0,
        0,
        0,
        0,
        0,
        0,
        0,
        0,
        0,
        0,
        0,
        0,
        0,
        0,
        0,
        0,
        0,
        0,
        0,
        0,
        0,
        0,
        0,
        0,
        0,
        0,
        0,
        0,
        0,
        0,
        0,
        0,
        0,
        0,
        0,
        0,
        0,
        0,
        0,
        0,
        0,
        0,
        0,
        0,
        0,
        0,
        0,
        0,
        0,
        0,
        0,
        0,
        0,
        0,
        0,
        0,
        0,
        0,
        0,
        0,
        0,
        0,
        0,
        0,
        0,
        0,
        0,
        0,
        0,
        0,
        0,
        0,
        0,
        0,
        0,
        0,
        0,
        0,
        0,
        0,
        -2437.0365284887057
       ]
      }
     },
     "1e3e24ffd745467f8a94e6e38a36ccef": {
      "model_module": "ipysheet",
      "model_module_version": "~0.5.0",
      "model_name": "CellRangeModel",
      "state": {
       "_view_module": null,
       "_view_module_version": "",
       "column_end": 43,
       "column_start": 43,
       "row_end": 5,
       "row_start": 0,
       "squeeze_row": false,
       "type": "numeric",
       "value": [
        234.92730603330153,
        234.92730603330153,
        234.92730603330153,
        0,
        0,
        0
       ]
      }
     },
     "1f4b8bcd29294988be3d26e3a27f38d1": {
      "model_module": "ipysheet",
      "model_module_version": "~0.5.0",
      "model_name": "SheetModel",
      "state": {
       "cells": [
        "IPY_MODEL_5c5a7bb497834b8899734de9d63911d8",
        "IPY_MODEL_fab3019dc8c24575becac1115faf779a",
        "IPY_MODEL_f40706fb3e0f4c3bb3bd827512e88408",
        "IPY_MODEL_473f713caf6241ddbac851102c349bf7",
        "IPY_MODEL_346f6865f3304a189479309c6fc5cad1",
        "IPY_MODEL_d76b9965b0e344fa9b380510b7da3db6",
        "IPY_MODEL_ee1d9ce1ee1c408396c58d27d7557f6e",
        "IPY_MODEL_ac9c630ed2f94a6786b4716a74849a47",
        "IPY_MODEL_87390008364646f1bc9464fc5a810e14",
        "IPY_MODEL_7d36ec5b3c3448e2b10e60602be2eb47",
        "IPY_MODEL_7638aa64dfa64508bbf76bf3bbb99f81",
        "IPY_MODEL_32fe7e4ac15842f5a182c74d5971cb9d",
        "IPY_MODEL_09b8943739ee465ead1259c47b14578a",
        "IPY_MODEL_bae6bbd53dd94c988cc107eed57e8a57",
        "IPY_MODEL_057dbc79195843deb7349d753acef294",
        "IPY_MODEL_248ce1d4df4d4586bfd8fa975be0a917",
        "IPY_MODEL_2293fcd45bce4f6bbcbe3a81a2b46eab",
        "IPY_MODEL_82599ec925c646369486040e41885023",
        "IPY_MODEL_3dedc9ab1ee64238bb9f8632516414d2",
        "IPY_MODEL_5e1dbe1924354acfbeaed339075ee103",
        "IPY_MODEL_31a5795223994f53b3b5aaf80d8d81fe",
        "IPY_MODEL_c8cfa1c6b37b4a27a30b477f53e28e12",
        "IPY_MODEL_8862f132d46e462a9bcf9a27ea7bb1c8",
        "IPY_MODEL_c26529819d20440a80fc1bbdb86cc1cd",
        "IPY_MODEL_700983fb164a43fd94496d22f30d7308",
        "IPY_MODEL_80c62c65cfdb4ac5b73edb92cab36fd4",
        "IPY_MODEL_cca3115fc96044e3ad2855e6b9b28e0b",
        "IPY_MODEL_308536d736fd460d9205aa31a9ad82d9",
        "IPY_MODEL_c4f971ce4e8c4fe4acb5808060b5aac5",
        "IPY_MODEL_4662cb7e51ea4d95a1976249ee8d891c",
        "IPY_MODEL_93752b25c7b14db2ad751c1434beedec",
        "IPY_MODEL_5ebc3108a7094eaea0480a570b5b8b23",
        "IPY_MODEL_fc1184ab1cec4c1496f937beca2601dc",
        "IPY_MODEL_ef581d0232bb46faa9bf08a2180f3a5a",
        "IPY_MODEL_f4fdfab017bc48f987352b56f7267630",
        "IPY_MODEL_19fd14121b824474afb02ed8ae4f3045",
        "IPY_MODEL_a0c703055def49d4a93d1fc97918b824",
        "IPY_MODEL_c6ad6d2d70234ac2ba0351b832e505de",
        "IPY_MODEL_d0bf263a883b4adb87692652d5caf99a",
        "IPY_MODEL_5fd8e362443e4bb0b17a59f5fe99cd8b",
        "IPY_MODEL_d198765dccdc4521bc1518d3104f9ee6",
        "IPY_MODEL_92dfce08e4d643af848ae7d48eee171c",
        "IPY_MODEL_42e308156f0b4bef817247d16f3eb875",
        "IPY_MODEL_6c4178f3c0d74892bf5d2deda110ddcc",
        "IPY_MODEL_867b6c8b0395473492c0880caa084f68",
        "IPY_MODEL_f513f2b9ad4f4f298f237fdfcafa3e82",
        "IPY_MODEL_165b3b0c0ef04aef86c54b32282fd8d0",
        "IPY_MODEL_86fe6506f4ff4066aaf620c3c41df611",
        "IPY_MODEL_24f15c6fe4d0430e82f364c5056241a7",
        "IPY_MODEL_bf3dd6ed6e304459b916c6e552317120",
        "IPY_MODEL_d319927c1a9b4f07bb28c03e1ab8059f",
        "IPY_MODEL_9e976e005ad74fa18de5c8473785a762",
        "IPY_MODEL_3b1c61d50dc44f0297419b38cca1fa0a",
        "IPY_MODEL_bb1ee3c7c1d5434eb68aa515b45d8ee8",
        "IPY_MODEL_4d34a591dd1d49b6b2b9f2b6f2e5834e",
        "IPY_MODEL_dac5b989f501497bbc12c6e150c1d937",
        "IPY_MODEL_9c544f1732f542cbbdd5b13c4c962b74",
        "IPY_MODEL_c56533c8cf2e4cc9b64d405a072cebd6",
        "IPY_MODEL_4fdca7c2347e4b6c83e1e62963933500",
        "IPY_MODEL_71c2c49770f441b188731d04016e9034",
        "IPY_MODEL_aa244a3e37374a91a7f7cb2e7d94b1c2",
        "IPY_MODEL_55dcd2d1968e493d8bb1ffcf75069610",
        "IPY_MODEL_60d202e1ca82443c9ffc7b1f8079c185",
        "IPY_MODEL_f790562c1b4a48f89139a88e74af5672",
        "IPY_MODEL_6cba910510d6462fbb932ef4b82faa41",
        "IPY_MODEL_93421f7170164cf1849e828505bc063b",
        "IPY_MODEL_9f4e319e9e1a4b1fa37c29d1c487dd96",
        "IPY_MODEL_ae46659fc5f24fc6b46c2811789f3872",
        "IPY_MODEL_2d9653bb5bd24434b5db085094b4ba22",
        "IPY_MODEL_3977c34cef4e4545bc6748c64aab5cf2",
        "IPY_MODEL_faf3094061df42bca8dd1d5a2716247f",
        "IPY_MODEL_122f984a1ca249dead74ec018ecd8e76",
        "IPY_MODEL_3dfaa2151f5e4c058fe54a4cfc9e9e9b",
        "IPY_MODEL_ddd98936d4e64b0bb256cae1844f5a6d",
        "IPY_MODEL_f40b2d474e0440f2ad28997dd2b1feb5",
        "IPY_MODEL_4cacb10a912c40d69f8a2018150ed843",
        "IPY_MODEL_712aeaf94ba6467993b5b7d43f7b13c7",
        "IPY_MODEL_5083cbbe55ad48178cb855b59677579d",
        "IPY_MODEL_f8414ee3b35e4835831b5a61fa1c30ec",
        "IPY_MODEL_7f5d44ff55754f7d98b61c21f280d54a",
        "IPY_MODEL_ae52d0c4268146f59fdbf2e2d4bfe26b",
        "IPY_MODEL_10d7896956d14f4b8cc0fccaacd92850",
        "IPY_MODEL_8714172941994631862aec364a19af4b",
        "IPY_MODEL_b4a121fefe1f4182a4decdec7951a7c3"
       ],
       "column_headers": [
        "2017",
        "2018",
        "2019",
        "2020",
        "2021",
        "2022",
        "2023",
        "2024",
        "2025",
        "2026",
        "2027",
        "2028",
        "2029",
        "2030",
        "2031",
        "2032",
        "2033",
        "2034",
        "2035",
        "2036",
        "2037",
        "2038",
        "2039",
        "2040",
        "2041",
        "2042",
        "2043",
        "2044",
        "2045",
        "2046",
        "2047",
        "2048",
        "2049",
        "2050",
        "2051",
        "2052",
        "2053",
        "2054",
        "2055",
        "2056",
        "2057",
        "2058",
        "2059",
        "2060",
        "2061",
        "2062",
        "2063",
        "2064",
        "2065",
        "2066",
        "2067",
        "2068",
        "2069",
        "2070",
        "2071",
        "2072",
        "2073",
        "2074",
        "2075",
        "2076",
        "2077",
        "2078",
        "2079",
        "2080",
        "2081",
        "2082",
        "2083",
        "2084",
        "2085",
        "2086",
        "2087",
        "2088",
        "2089",
        "2090",
        "2091",
        "2092",
        "2093",
        "2094",
        "2095",
        "2096",
        "2097",
        "2098",
        "2099",
        "2100"
       ],
       "columns": 84,
       "layout": "IPY_MODEL_5ec442d0fc824bb3976c8a4c0428b1a6",
       "row_headers": [
        "('New Method', 'PAKGGREVCO2CER')",
        "('New Method', 'PAKGGREVCO2OER')",
        "('New Method', 'PAKGGREVCO2GER')",
        "('Difference', 'PAKGGREVCO2CER')",
        "('Difference', 'PAKGGREVCO2OER')",
        "('Difference', 'PAKGGREVCO2GER')"
       ],
       "rows": 6
      }
     },
     "1fd445e1b9704ab995e5fbf2426dd482": {
      "model_module": "@jupyter-widgets/controls",
      "model_module_version": "1.5.0",
      "model_name": "VBoxModel",
      "state": {
       "children": [
        "IPY_MODEL_8b9340b577164025b3a9114d123177a1",
        "IPY_MODEL_6a8884a675514e6aa293d4c53b822e10"
       ],
       "layout": "IPY_MODEL_0578b7e3a7e4488da7afea5d59789f85"
      }
     },
     "20e30cb7261246588bac64d1ce829dc4": {
      "model_module": "@jupyter-widgets/base",
      "model_module_version": "1.2.0",
      "model_name": "LayoutModel",
      "state": {
       "height": "auto",
       "width": "auto"
      }
     },
     "221a69da7cd24d7f8d3ffe44e028b387": {
      "model_module": "ipysheet",
      "model_module_version": "~0.5.0",
      "model_name": "CellRangeModel",
      "state": {
       "_view_module": null,
       "_view_module_version": "",
       "column_end": 3,
       "column_start": 3,
       "row_end": 83,
       "row_start": 0,
       "squeeze_row": false,
       "type": "numeric",
       "value": [
        0,
        0,
        0,
        29,
        30.962299914387533,
        32.44249598824875,
        33.24696820511287,
        33.376888531566586,
        32.96999040272959,
        32.231553651969115,
        31.375710932475293,
        30.588525874350633,
        30.012075962675382,
        29.743368593222783,
        29.841531799753223,
        30.33821737276967,
        31.247927701600666,
        32.576525762093475,
        34.32730444518984,
        36.50466362917244,
        39.115786461210824,
        42.17082531425412,
        45.682103936433016,
        49.662775816838185,
        54.12530052734099,
        59.08002596329259,
        64.5340953790679,
        70.49084057787817,
        76.94974599908977,
        83.90699214421947,
        91.35651571492613,
        99.29145851990795,
        107.70583684993105,
        116.59624834436467,
        125.96343847838794,
        135.81360232991884,
        146.15931469144877,
        157.0200596023539,
        168.42235431629328,
        180.3995190473268,
        192.99115817586406,
        206.24243683030022,
        220.2032424052525,
        234.92730603330153,
        250.47135525729558,
        266.8943502458763,
        284.2568388964308,
        302.62045919688654,
        322.0475918217781,
        342.60117574515783,
        364.34466923450634,
        387.34215855422906,
        411.6585919128501,
        437.360128982038,
        464.5145857262626,
        493.19196622749934,
        523.4650423762466,
        555.4099953659602,
        589.1070737377698,
        624.6412672417739,
        662.102973592713,
        701.5886499590331,
        743.2014350037208,
        787.0517293504159,
        833.2577350500592,
        881.945942022937,
        933.2515683881917,
        987.3189483257986,
        1044.3018757439704,
        1104.3639093580737,
        1167.6786423115814,
        1234.4299868066644,
        1304.8123455348198,
        1379.030932404489,
        1457.301994626762,
        1539.8531064172703,
        1626.9235022287464,
        1718.7644609189404,
        1815.6397584550245,
        1917.8262010407407,
        2025.614244719777,
        2139.308713280133,
        2259.229618868826,
        2385.7130906367056
       ]
      }
     },
     "2293fcd45bce4f6bbcbe3a81a2b46eab": {
      "model_module": "ipysheet",
      "model_module_version": "~0.5.0",
      "model_name": "CellRangeModel",
      "state": {
       "_view_module": null,
       "_view_module_version": "",
       "column_end": 16,
       "column_start": 16,
       "row_end": 5,
       "row_start": 0,
       "squeeze_row": false,
       "type": "numeric",
       "value": [
        31.247927701600666,
        31.247927701600666,
        31.247927701600666,
        0,
        0,
        0
       ]
      }
     },
     "23ffa645b8a0491daad48476abbacb6e": {
      "model_module": "ipysheet",
      "model_module_version": "~0.5.0",
      "model_name": "CellRangeModel",
      "state": {
       "_view_module": null,
       "_view_module_version": "",
       "column_end": 18,
       "column_start": 18,
       "row_end": 5,
       "row_start": 0,
       "squeeze_row": false,
       "type": "numeric",
       "value": [
        34.32730444518984,
        34.32730444518984,
        34.32730444518984,
        0,
        0,
        0
       ]
      }
     },
     "248ce1d4df4d4586bfd8fa975be0a917": {
      "model_module": "ipysheet",
      "model_module_version": "~0.5.0",
      "model_name": "CellRangeModel",
      "state": {
       "_view_module": null,
       "_view_module_version": "",
       "column_end": 15,
       "column_start": 15,
       "row_end": 5,
       "row_start": 0,
       "squeeze_row": false,
       "type": "numeric",
       "value": [
        30.33821737276967,
        30.33821737276967,
        30.33821737276967,
        0,
        0,
        0
       ]
      }
     },
     "24f15c6fe4d0430e82f364c5056241a7": {
      "model_module": "ipysheet",
      "model_module_version": "~0.5.0",
      "model_name": "CellRangeModel",
      "state": {
       "_view_module": null,
       "_view_module_version": "",
       "column_end": 48,
       "column_start": 48,
       "row_end": 5,
       "row_start": 0,
       "squeeze_row": false,
       "type": "numeric",
       "value": [
        322.0475918217781,
        322.0475918217781,
        322.0475918217781,
        0,
        0,
        0
       ]
      }
     },
     "257a5377a9844f169b024f125f3cff69": {
      "model_module": "ipysheet",
      "model_module_version": "~0.5.0",
      "model_name": "CellRangeModel",
      "state": {
       "_view_module": null,
       "_view_module_version": "",
       "column_end": 8,
       "column_start": 8,
       "row_end": 19,
       "row_start": 0,
       "squeeze_row": false,
       "type": "numeric",
       "value": [
        0,
        0,
        0,
        0,
        0,
        0,
        0,
        0,
        0,
        0,
        0,
        0,
        0,
        0,
        0,
        0,
        0,
        0,
        0,
        0
       ]
      }
     },
     "25cca8a3eac64a67932c8d2a7dfd8192": {
      "model_module": "ipysheet",
      "model_module_version": "~0.5.0",
      "model_name": "CellRangeModel",
      "state": {
       "_view_module": null,
       "_view_module_version": "",
       "column_end": 3,
       "column_start": 3,
       "row_end": 9,
       "row_start": 0,
       "squeeze_row": false,
       "type": "numeric",
       "value": [
        0,
        0,
        0,
        0,
        0,
        0,
        0,
        0,
        0,
        0
       ]
      }
     },
     "25eacbfb6bdf4e9297fe667df4b4056a": {
      "model_module": "ipysheet",
      "model_module_version": "~0.5.0",
      "model_name": "CellRangeModel",
      "state": {
       "_view_module": null,
       "_view_module_version": "",
       "column_end": 3,
       "column_start": 3,
       "row_end": 9,
       "row_start": 0,
       "squeeze_row": false,
       "type": "numeric",
       "value": [
        0,
        0,
        0,
        0,
        0,
        0,
        0,
        0,
        0,
        0
       ]
      }
     },
     "27232c63cdb548479c389ded02d5742d": {
      "model_module": "ipysheet",
      "model_module_version": "~0.5.0",
      "model_name": "CellRangeModel",
      "state": {
       "_view_module": null,
       "_view_module_version": "",
       "column_end": 5,
       "column_start": 5,
       "row_end": 5,
       "row_start": 0,
       "squeeze_row": false,
       "type": "numeric",
       "value": [
        32.44249598824875,
        32.44249598824875,
        32.44249598824875,
        0,
        0,
        0
       ]
      }
     },
     "272eec04100e4d7590e7c77593e5ff97": {
      "model_module": "ipysheet",
      "model_module_version": "~0.5.0",
      "model_name": "CellRangeModel",
      "state": {
       "_view_module": null,
       "_view_module_version": "",
       "column_end": 69,
       "column_start": 69,
       "row_end": 5,
       "row_start": 0,
       "squeeze_row": false,
       "type": "numeric",
       "value": [
        1104.3639093580737,
        1104.3639093580737,
        1104.3639093580737,
        0,
        0,
        0
       ]
      }
     },
     "277bd684814e44938e9cb9aa94f55283": {
      "model_module": "ipysheet",
      "model_module_version": "~0.5.0",
      "model_name": "CellRangeModel",
      "state": {
       "_view_module": null,
       "_view_module_version": "",
       "column_end": 68,
       "column_start": 68,
       "row_end": 5,
       "row_start": 0,
       "squeeze_row": false,
       "type": "numeric",
       "value": [
        1044.3018757439704,
        1044.3018757439704,
        1044.3018757439704,
        0,
        0,
        0
       ]
      }
     },
     "280e9a2ebefe4f66a96c68ffac5cc282": {
      "model_module": "ipysheet",
      "model_module_version": "~0.5.0",
      "model_name": "CellRangeModel",
      "state": {
       "_view_module": null,
       "_view_module_version": "",
       "column_end": 6,
       "column_start": 6,
       "row_end": 83,
       "row_start": 0,
       "squeeze_row": false,
       "type": "numeric",
       "value": [
        0,
        0,
        0,
        0,
        0,
        0,
        0,
        0,
        0,
        0,
        0,
        0,
        0,
        0,
        0,
        0,
        0,
        0,
        0,
        0,
        0,
        0,
        0,
        0,
        0,
        0,
        0,
        0,
        0,
        0,
        0,
        0,
        0,
        0,
        0,
        0,
        0,
        0,
        0,
        0,
        0,
        0,
        0,
        0,
        0,
        0,
        0,
        0,
        0,
        0,
        0,
        0,
        0,
        0,
        0,
        0,
        0,
        0,
        0,
        0,
        0,
        0,
        0,
        0,
        0,
        0,
        0,
        0,
        0,
        0,
        0,
        0,
        0,
        0,
        0,
        0,
        0,
        0,
        0,
        0,
        0,
        0,
        0,
        -2385.7130906367056
       ]
      }
     },
     "2854a78becd34489b1b7da27ba13faf7": {
      "model_module": "ipysheet",
      "model_module_version": "~0.5.0",
      "model_name": "CellRangeModel",
      "state": {
       "_view_module": null,
       "_view_module_version": "",
       "column_end": 5,
       "column_start": 5,
       "row_end": 9,
       "row_start": 0,
       "squeeze_row": false,
       "type": "numeric",
       "value": [
        0,
        0,
        0,
        0,
        0,
        0,
        0,
        0,
        0,
        0
       ]
      }
     },
     "28808503236f493dac2ccac54aee5b03": {
      "model_module": "ipysheet",
      "model_module_version": "~0.5.0",
      "model_name": "CellRangeModel",
      "state": {
       "_view_module": null,
       "_view_module_version": "",
       "column_end": 3,
       "column_start": 3,
       "row_end": 5,
       "row_start": 0,
       "squeeze_row": false,
       "type": "numeric",
       "value": [
        29,
        29,
        29,
        0,
        0,
        0
       ]
      }
     },
     "29246c24ca2b4042aeffd52480e2ec5b": {
      "model_module": "@jupyter-widgets/base",
      "model_module_version": "1.2.0",
      "model_name": "LayoutModel",
      "state": {}
     },
     "29ba3dc3f28b4ca3a9c36262797123b1": {
      "model_module": "ipysheet",
      "model_module_version": "~0.5.0",
      "model_name": "CellRangeModel",
      "state": {
       "_view_module": null,
       "_view_module_version": "",
       "column_end": 23,
       "column_start": 23,
       "row_end": 5,
       "row_start": 0,
       "squeeze_row": false,
       "type": "numeric",
       "value": [
        49.662775816838185,
        49.662775816838185,
        49.662775816838185,
        0,
        0,
        0
       ]
      }
     },
     "2aeaa844e27a4140953f6a9c066581a7": {
      "model_module": "@jupyter-widgets/controls",
      "model_module_version": "1.5.0",
      "model_name": "LabelModel",
      "state": {
       "layout": "IPY_MODEL_3a6c12ac5dc245bd96e7673f71bce50c",
       "style": "IPY_MODEL_0c9fd7100e47422eb8bf96f0808529b6",
       "value": "Check real taxrates "
      }
     },
     "2c34a4cec91741318e39304275383682": {
      "model_module": "ipysheet",
      "model_module_version": "~0.5.0",
      "model_name": "CellRangeModel",
      "state": {
       "_view_module": null,
       "_view_module_version": "",
       "column_end": 16,
       "column_start": 16,
       "row_end": 5,
       "row_start": 0,
       "squeeze_row": false,
       "type": "numeric",
       "value": [
        31.247927701600666,
        31.247927701600666,
        31.247927701600666,
        0,
        0,
        0
       ]
      }
     },
     "2d9653bb5bd24434b5db085094b4ba22": {
      "model_module": "ipysheet",
      "model_module_version": "~0.5.0",
      "model_name": "CellRangeModel",
      "state": {
       "_view_module": null,
       "_view_module_version": "",
       "column_end": 68,
       "column_start": 68,
       "row_end": 5,
       "row_start": 0,
       "squeeze_row": false,
       "type": "numeric",
       "value": [
        1044.3018757439704,
        1044.3018757439704,
        1044.3018757439704,
        0,
        0,
        0
       ]
      }
     },
     "2f8f07353bb54cbb931a038bb22d9f96": {
      "model_module": "ipysheet",
      "model_module_version": "~0.5.0",
      "model_name": "CellRangeModel",
      "state": {
       "_view_module": null,
       "_view_module_version": "",
       "column_end": 3,
       "column_start": 3,
       "row_end": 19,
       "row_start": 0,
       "squeeze_row": false,
       "type": "numeric",
       "value": [
        0,
        0,
        0,
        29,
        30.962299914387533,
        32.44249598824875,
        33.24696820511287,
        33.376888531566586,
        32.96999040272959,
        32.231553651969115,
        31.375710932475293,
        30.588525874350633,
        30.012075962675382,
        29.743368593222783,
        29.841531799753223,
        30.33821737276967,
        31.247927701600666,
        32.576525762093475,
        34.32730444518984,
        36.50466362917244
       ]
      }
     },
     "3060d4188b994989ba6e77170402c6c2": {
      "model_module": "ipysheet",
      "model_module_version": "~0.5.0",
      "model_name": "CellRangeModel",
      "state": {
       "_view_module": null,
       "_view_module_version": "",
       "column_end": 8,
       "column_start": 8,
       "row_end": 83,
       "row_start": 0,
       "squeeze_row": false,
       "type": "numeric",
       "value": [
        0,
        0,
        0,
        0,
        0,
        0,
        0,
        0,
        0,
        0,
        0,
        0,
        0,
        0,
        0,
        0,
        0,
        0,
        0,
        0,
        0,
        0,
        0,
        0,
        0,
        0,
        0,
        0,
        0,
        0,
        0,
        0,
        0,
        0,
        0,
        0,
        0,
        0,
        0,
        0,
        0,
        0,
        0,
        0,
        0,
        0,
        0,
        0,
        0,
        0,
        0,
        0,
        0,
        0,
        0,
        0,
        0,
        0,
        0,
        0,
        0,
        0,
        0,
        0,
        0,
        0,
        0,
        0,
        0,
        0,
        0,
        0,
        0,
        0,
        0,
        0,
        0,
        0,
        0,
        0,
        0,
        0,
        0,
        -2437.0365284887057
       ]
      }
     },
     "308536d736fd460d9205aa31a9ad82d9": {
      "model_module": "ipysheet",
      "model_module_version": "~0.5.0",
      "model_name": "CellRangeModel",
      "state": {
       "_view_module": null,
       "_view_module_version": "",
       "column_end": 27,
       "column_start": 27,
       "row_end": 5,
       "row_start": 0,
       "squeeze_row": false,
       "type": "numeric",
       "value": [
        70.49084057787817,
        70.49084057787817,
        70.49084057787817,
        0,
        0,
        0
       ]
      }
     },
     "30be55f8b0264c0fa782cb1f5490b568": {
      "model_module": "ipysheet",
      "model_module_version": "~0.5.0",
      "model_name": "CellRangeModel",
      "state": {
       "_view_module": null,
       "_view_module_version": "",
       "column_end": 11,
       "column_start": 11,
       "row_end": 5,
       "row_start": 0,
       "squeeze_row": false,
       "type": "numeric",
       "value": [
        30.588525874350633,
        30.588525874350633,
        30.588525874350633,
        0,
        0,
        0
       ]
      }
     },
     "30ca0859be634c31bf2ddf716b8d1c5b": {
      "model_module": "ipysheet",
      "model_module_version": "~0.5.0",
      "model_name": "CellRangeModel",
      "state": {
       "_view_module": null,
       "_view_module_version": "",
       "column_end": 83,
       "column_start": 83,
       "row_end": 5,
       "row_start": 0,
       "squeeze_row": false,
       "type": "numeric",
       "value": [
        2385.7130906367056,
        2385.7130906367056,
        2385.7130906367056,
        -2385.7130906367056,
        -2387.1902848707055,
        -2437.0365284887057
       ]
      }
     },
     "31a5795223994f53b3b5aaf80d8d81fe": {
      "model_module": "ipysheet",
      "model_module_version": "~0.5.0",
      "model_name": "CellRangeModel",
      "state": {
       "_view_module": null,
       "_view_module_version": "",
       "column_end": 20,
       "column_start": 20,
       "row_end": 5,
       "row_start": 0,
       "squeeze_row": false,
       "type": "numeric",
       "value": [
        39.115786461210824,
        39.115786461210824,
        39.115786461210824,
        0,
        0,
        0
       ]
      }
     },
     "324a425fe9da414aa0f48922c7b0f7da": {
      "model_module": "ipysheet",
      "model_module_version": "~0.5.0",
      "model_name": "CellRangeModel",
      "state": {
       "_view_module": null,
       "_view_module_version": "",
       "column_end": 82,
       "column_start": 82,
       "row_end": 5,
       "row_start": 0,
       "squeeze_row": false,
       "type": "numeric",
       "value": [
        2259.229618868826,
        2259.229618868826,
        2259.229618868826,
        0,
        0,
        0
       ]
      }
     },
     "32c50418b649484a8919f4a3a5836195": {
      "model_module": "ipysheet",
      "model_module_version": "~0.5.0",
      "model_name": "CellRangeModel",
      "state": {
       "_view_module": null,
       "_view_module_version": "",
       "column_end": 13,
       "column_start": 13,
       "row_end": 5,
       "row_start": 0,
       "squeeze_row": false,
       "type": "numeric",
       "value": [
        29.743368593222783,
        29.743368593222783,
        29.743368593222783,
        0,
        0,
        0
       ]
      }
     },
     "32fe7e4ac15842f5a182c74d5971cb9d": {
      "model_module": "ipysheet",
      "model_module_version": "~0.5.0",
      "model_name": "CellRangeModel",
      "state": {
       "_view_module": null,
       "_view_module_version": "",
       "column_end": 11,
       "column_start": 11,
       "row_end": 5,
       "row_start": 0,
       "squeeze_row": false,
       "type": "numeric",
       "value": [
        30.588525874350633,
        30.588525874350633,
        30.588525874350633,
        0,
        0,
        0
       ]
      }
     },
     "334c33b07c6449b09ef626e3ced7322e": {
      "model_module": "@jupyter-widgets/controls",
      "model_module_version": "1.5.0",
      "model_name": "DescriptionStyleModel",
      "state": {
       "description_width": ""
      }
     },
     "346f6865f3304a189479309c6fc5cad1": {
      "model_module": "ipysheet",
      "model_module_version": "~0.5.0",
      "model_name": "CellRangeModel",
      "state": {
       "_view_module": null,
       "_view_module_version": "",
       "column_end": 4,
       "column_start": 4,
       "row_end": 5,
       "row_start": 0,
       "squeeze_row": false,
       "type": "numeric",
       "value": [
        30.962299914387533,
        30.962299914387533,
        30.962299914387533,
        0,
        0,
        0
       ]
      }
     },
     "36ef5405608742eeb6d352911ed4f077": {
      "model_module": "@jupyter-widgets/controls",
      "model_module_version": "1.5.0",
      "model_name": "DescriptionStyleModel",
      "state": {
       "description_width": ""
      }
     },
     "370b70e70a614758b068f19b6272e886": {
      "model_module": "ipysheet",
      "model_module_version": "~0.5.0",
      "model_name": "CellRangeModel",
      "state": {
       "_view_module": null,
       "_view_module_version": "",
       "column_end": 3,
       "column_start": 3,
       "row_end": 83,
       "row_start": 0,
       "squeeze_row": false,
       "type": "numeric",
       "value": [
        0,
        0,
        0,
        29,
        30.962299914387533,
        32.44249598824875,
        33.24696820511287,
        33.376888531566586,
        32.96999040272959,
        32.231553651969115,
        31.375710932475293,
        30.588525874350633,
        30.012075962675382,
        29.743368593222783,
        29.841531799753223,
        30.33821737276967,
        31.247927701600666,
        32.576525762093475,
        34.32730444518984,
        36.50466362917244,
        39.115786461210824,
        42.17082531425412,
        45.682103936433016,
        49.662775816838185,
        54.12530052734099,
        59.08002596329259,
        64.5340953790679,
        70.49084057787817,
        76.94974599908977,
        83.90699214421947,
        91.35651571492613,
        99.29145851990795,
        107.70583684993105,
        116.59624834436467,
        125.96343847838794,
        135.81360232991884,
        146.15931469144877,
        157.0200596023539,
        168.42235431629328,
        180.3995190473268,
        192.99115817586406,
        206.24243683030022,
        220.2032424052525,
        234.92730603330153,
        250.47135525729558,
        266.8943502458763,
        284.2568388964308,
        302.62045919688654,
        322.0475918217781,
        342.60117574515783,
        364.34466923450634,
        387.34215855422906,
        411.6585919128501,
        437.360128982038,
        464.5145857262626,
        493.19196622749934,
        523.4650423762466,
        555.4099953659602,
        589.1070737377698,
        624.6412672417739,
        662.102973592713,
        701.5886499590331,
        743.2014350037208,
        787.0517293504159,
        833.2577350500592,
        881.945942022937,
        933.2515683881917,
        987.3189483257986,
        1044.3018757439704,
        1104.3639093580737,
        1167.6786423115814,
        1234.4299868066644,
        1304.8123455348198,
        1379.030932404489,
        1457.301994626762,
        1539.8531064172703,
        1626.9235022287464,
        1718.7644609189404,
        1815.6397584550245,
        1917.8262010407407,
        2025.614244719777,
        2139.308713280133,
        2259.229618868826,
        2385.7130906367056
       ]
      }
     },
     "38fcc8ba88b7488e86f652deaefc1e4a": {
      "model_module": "@jupyter-widgets/base",
      "model_module_version": "1.2.0",
      "model_name": "LayoutModel",
      "state": {}
     },
     "3977c34cef4e4545bc6748c64aab5cf2": {
      "model_module": "ipysheet",
      "model_module_version": "~0.5.0",
      "model_name": "CellRangeModel",
      "state": {
       "_view_module": null,
       "_view_module_version": "",
       "column_end": 69,
       "column_start": 69,
       "row_end": 5,
       "row_start": 0,
       "squeeze_row": false,
       "type": "numeric",
       "value": [
        1104.3639093580737,
        1104.3639093580737,
        1104.3639093580737,
        0,
        0,
        0
       ]
      }
     },
     "3a062051c25c425899b656f5c5dc89b6": {
      "model_module": "ipysheet",
      "model_module_version": "~0.5.0",
      "model_name": "CellRangeModel",
      "state": {
       "_view_module": null,
       "_view_module_version": "",
       "column_end": 4,
       "column_start": 4,
       "row_end": 5,
       "row_start": 0,
       "squeeze_row": false,
       "type": "numeric",
       "value": [
        30.962299914387533,
        30.962299914387533,
        30.962299914387533,
        0,
        0,
        0
       ]
      }
     },
     "3a6c12ac5dc245bd96e7673f71bce50c": {
      "model_module": "@jupyter-widgets/base",
      "model_module_version": "1.2.0",
      "model_name": "LayoutModel",
      "state": {
       "width": "54%"
      }
     },
     "3ac164ef94aa4c4c8716b2e96967c0be": {
      "model_module": "ipysheet",
      "model_module_version": "~0.5.0",
      "model_name": "CellRangeModel",
      "state": {
       "_view_module": null,
       "_view_module_version": "",
       "column_end": 3,
       "column_start": 3,
       "row_end": 9,
       "row_start": 0,
       "squeeze_row": false,
       "type": "numeric",
       "value": [
        0,
        0,
        0,
        0,
        0,
        0,
        0,
        0,
        0,
        0
       ]
      }
     },
     "3b1c61d50dc44f0297419b38cca1fa0a": {
      "model_module": "ipysheet",
      "model_module_version": "~0.5.0",
      "model_name": "CellRangeModel",
      "state": {
       "_view_module": null,
       "_view_module_version": "",
       "column_end": 52,
       "column_start": 52,
       "row_end": 5,
       "row_start": 0,
       "squeeze_row": false,
       "type": "numeric",
       "value": [
        411.6585919128501,
        411.6585919128501,
        411.6585919128501,
        0,
        0,
        0
       ]
      }
     },
     "3bc55265092541ed96c915b064d954c5": {
      "model_module": "ipysheet",
      "model_module_version": "~0.5.0",
      "model_name": "CellRangeModel",
      "state": {
       "_view_module": null,
       "_view_module_version": "",
       "row_end": 9,
       "row_start": 0,
       "squeeze_row": false,
       "type": "numeric",
       "value": [
        -1.3423136273,
        -1.5238607537000002,
        -1.4771942340000002,
        29,
        30.962299914387533,
        32.44249598824875,
        33.24696820511287,
        33.376888531566586,
        32.96999040272959,
        32.231553651969115
       ]
      }
     },
     "3c8c3a63df364774a52f945fb21ac332": {
      "model_module": "ipysheet",
      "model_module_version": "~0.5.0",
      "model_name": "CellRangeModel",
      "state": {
       "_view_module": null,
       "_view_module_version": "",
       "column_end": 17,
       "column_start": 17,
       "row_end": 5,
       "row_start": 0,
       "squeeze_row": false,
       "type": "numeric",
       "value": [
        32.576525762093475,
        32.576525762093475,
        32.576525762093475,
        0,
        0,
        0
       ]
      }
     },
     "3cf8c3e0cd46405e84c6d24d843acd5e": {
      "model_module": "ipysheet",
      "model_module_version": "~0.5.0",
      "model_name": "CellRangeModel",
      "state": {
       "_view_module": null,
       "_view_module_version": "",
       "column_end": 2,
       "column_start": 2,
       "row_end": 9,
       "row_start": 0,
       "squeeze_row": false,
       "type": "numeric",
       "value": [
        -24.8253879556,
        -52.0470635763,
        -51.323437852,
        29,
        30.962299914387533,
        32.44249598824875,
        33.24696820511287,
        33.376888531566586,
        32.96999040272959,
        32.231553651969115
       ]
      }
     },
     "3d150dbfd13a4421a7de296cbbd50bd7": {
      "model_module": "@jupyter-widgets/base",
      "model_module_version": "1.2.0",
      "model_name": "LayoutModel",
      "state": {
       "height": "auto",
       "width": "auto"
      }
     },
     "3deb90d9b3cc499f95e84d0592dac39a": {
      "model_module": "ipysheet",
      "model_module_version": "~0.5.0",
      "model_name": "CellRangeModel",
      "state": {
       "_view_module": null,
       "_view_module_version": "",
       "column_end": 4,
       "column_start": 4,
       "row_end": 83,
       "row_start": 0,
       "squeeze_row": false,
       "type": "numeric",
       "value": [
        -1.3423136273,
        -1.5238607537000002,
        -1.4771942340000002,
        29,
        30.962299914387533,
        32.44249598824875,
        33.24696820511287,
        33.376888531566586,
        32.96999040272959,
        32.231553651969115,
        31.375710932475293,
        30.588525874350633,
        30.012075962675382,
        29.743368593222783,
        29.841531799753223,
        30.33821737276967,
        31.247927701600666,
        32.576525762093475,
        34.32730444518984,
        36.50466362917244,
        39.115786461210824,
        42.17082531425412,
        45.682103936433016,
        49.662775816838185,
        54.12530052734099,
        59.08002596329259,
        64.5340953790679,
        70.49084057787817,
        76.94974599908977,
        83.90699214421947,
        91.35651571492613,
        99.29145851990795,
        107.70583684993105,
        116.59624834436467,
        125.96343847838794,
        135.81360232991884,
        146.15931469144877,
        157.0200596023539,
        168.42235431629328,
        180.3995190473268,
        192.99115817586406,
        206.24243683030022,
        220.2032424052525,
        234.92730603330153,
        250.47135525729558,
        266.8943502458763,
        284.2568388964308,
        302.62045919688654,
        322.0475918217781,
        342.60117574515783,
        364.34466923450634,
        387.34215855422906,
        411.6585919128501,
        437.360128982038,
        464.5145857262626,
        493.19196622749934,
        523.4650423762466,
        555.4099953659602,
        589.1070737377698,
        624.6412672417739,
        662.102973592713,
        701.5886499590331,
        743.2014350037208,
        787.0517293504159,
        833.2577350500592,
        881.945942022937,
        933.2515683881917,
        987.3189483257986,
        1044.3018757439704,
        1104.3639093580737,
        1167.6786423115814,
        1234.4299868066644,
        1304.8123455348198,
        1379.030932404489,
        1457.301994626762,
        1539.8531064172703,
        1626.9235022287464,
        1718.7644609189404,
        1815.6397584550245,
        1917.8262010407407,
        2025.614244719777,
        2139.308713280133,
        2259.229618868826,
        2385.7130906367056
       ]
      }
     },
     "3dedc9ab1ee64238bb9f8632516414d2": {
      "model_module": "ipysheet",
      "model_module_version": "~0.5.0",
      "model_name": "CellRangeModel",
      "state": {
       "_view_module": null,
       "_view_module_version": "",
       "column_end": 18,
       "column_start": 18,
       "row_end": 5,
       "row_start": 0,
       "squeeze_row": false,
       "type": "numeric",
       "value": [
        34.32730444518984,
        34.32730444518984,
        34.32730444518984,
        0,
        0,
        0
       ]
      }
     },
     "3dfaa2151f5e4c058fe54a4cfc9e9e9b": {
      "model_module": "ipysheet",
      "model_module_version": "~0.5.0",
      "model_name": "CellRangeModel",
      "state": {
       "_view_module": null,
       "_view_module_version": "",
       "column_end": 72,
       "column_start": 72,
       "row_end": 5,
       "row_start": 0,
       "squeeze_row": false,
       "type": "numeric",
       "value": [
        1304.8123455348198,
        1304.8123455348198,
        1304.8123455348198,
        0,
        0,
        0
       ]
      }
     },
     "40af07b7112e4ef6be09db32dc8b1c26": {
      "model_module": "ipysheet",
      "model_module_version": "~0.5.0",
      "model_name": "SheetModel",
      "state": {
       "cells": [
        "IPY_MODEL_dd9a0631c64b43e58be7311ea9ab1f9d",
        "IPY_MODEL_17c15c25f2ef42dd8c03e56eb540f0d8",
        "IPY_MODEL_8fc659b555084450bd9b0a9f1cb15b90",
        "IPY_MODEL_370b70e70a614758b068f19b6272e886",
        "IPY_MODEL_15d4b6479e234211a2f313b68e6be212",
        "IPY_MODEL_5ddc585e5d5f4d2ba664d1ccba3d3fbe",
        "IPY_MODEL_280e9a2ebefe4f66a96c68ffac5cc282",
        "IPY_MODEL_b8ff94cb3c714336820b1f32f244c88d",
        "IPY_MODEL_7f73270bf1564197b161b197ca9eb957"
       ],
       "column_headers": [
        "('OLD Method', 'PAKGGREVCO2CER')",
        "('OLD Method', 'PAKGGREVCO2OER')",
        "('OLD Method', 'PAKGGREVCO2GER')",
        "('New Method', 'PAKGGREVCO2CER')",
        "('New Method', 'PAKGGREVCO2OER')",
        "('New Method', 'PAKGGREVCO2GER')",
        "('Difference', 'PAKGGREVCO2CER')",
        "('Difference', 'PAKGGREVCO2OER')",
        "('Difference', 'PAKGGREVCO2GER')"
       ],
       "columns": 9,
       "layout": "IPY_MODEL_85221660cd6347c5aaaaf0845ced0bff",
       "row_headers": [
        "2017",
        "2018",
        "2019",
        "2020",
        "2021",
        "2022",
        "2023",
        "2024",
        "2025",
        "2026",
        "2027",
        "2028",
        "2029",
        "2030",
        "2031",
        "2032",
        "2033",
        "2034",
        "2035",
        "2036",
        "2037",
        "2038",
        "2039",
        "2040",
        "2041",
        "2042",
        "2043",
        "2044",
        "2045",
        "2046",
        "2047",
        "2048",
        "2049",
        "2050",
        "2051",
        "2052",
        "2053",
        "2054",
        "2055",
        "2056",
        "2057",
        "2058",
        "2059",
        "2060",
        "2061",
        "2062",
        "2063",
        "2064",
        "2065",
        "2066",
        "2067",
        "2068",
        "2069",
        "2070",
        "2071",
        "2072",
        "2073",
        "2074",
        "2075",
        "2076",
        "2077",
        "2078",
        "2079",
        "2080",
        "2081",
        "2082",
        "2083",
        "2084",
        "2085",
        "2086",
        "2087",
        "2088",
        "2089",
        "2090",
        "2091",
        "2092",
        "2093",
        "2094",
        "2095",
        "2096",
        "2097",
        "2098",
        "2099",
        "2100"
       ],
       "rows": 84
      }
     },
     "429fb4974cef477abb372e6240258b81": {
      "model_module": "ipysheet",
      "model_module_version": "~0.5.0",
      "model_name": "CellRangeModel",
      "state": {
       "_view_module": null,
       "_view_module_version": "",
       "column_end": 7,
       "column_start": 7,
       "row_end": 83,
       "row_start": 0,
       "squeeze_row": false,
       "type": "numeric",
       "value": [
        0,
        0,
        0,
        0,
        0,
        0,
        0,
        0,
        0,
        0,
        0,
        0,
        0,
        0,
        0,
        0,
        0,
        0,
        0,
        0,
        0,
        0,
        0,
        0,
        0,
        0,
        0,
        0,
        0,
        0,
        0,
        0,
        0,
        0,
        0,
        0,
        0,
        0,
        0,
        0,
        0,
        0,
        0,
        0,
        0,
        0,
        0,
        0,
        0,
        0,
        0,
        0,
        0,
        0,
        0,
        0,
        0,
        0,
        0,
        0,
        0,
        0,
        0,
        0,
        0,
        0,
        0,
        0,
        0,
        0,
        0,
        0,
        0,
        0,
        0,
        0,
        0,
        0,
        0,
        0,
        0,
        0,
        0,
        -2387.1902848707055
       ]
      }
     },
     "42cfb5af044d4431aa242c72af65fa35": {
      "model_module": "ipysheet",
      "model_module_version": "~0.5.0",
      "model_name": "CellRangeModel",
      "state": {
       "_view_module": null,
       "_view_module_version": "",
       "column_end": 4,
       "column_start": 4,
       "row_end": 9,
       "row_start": 0,
       "squeeze_row": false,
       "type": "numeric",
       "value": [
        0,
        0,
        0,
        0,
        0,
        0,
        0,
        0,
        0,
        0
       ]
      }
     },
     "42e308156f0b4bef817247d16f3eb875": {
      "model_module": "ipysheet",
      "model_module_version": "~0.5.0",
      "model_name": "CellRangeModel",
      "state": {
       "_view_module": null,
       "_view_module_version": "",
       "column_end": 42,
       "column_start": 42,
       "row_end": 5,
       "row_start": 0,
       "squeeze_row": false,
       "type": "numeric",
       "value": [
        220.2032424052525,
        220.2032424052525,
        220.2032424052525,
        0,
        0,
        0
       ]
      }
     },
     "44a99a3c11c549a08270ca3f2abf4a5e": {
      "model_module": "ipysheet",
      "model_module_version": "~0.5.0",
      "model_name": "CellRangeModel",
      "state": {
       "_view_module": null,
       "_view_module_version": "",
       "column_end": 2,
       "column_start": 2,
       "row_end": 83,
       "row_start": 0,
       "squeeze_row": false,
       "type": "numeric",
       "value": [
        -24.8253879556,
        -52.0470635763,
        -51.323437852,
        29,
        30.962299914387533,
        32.44249598824875,
        33.24696820511287,
        33.376888531566586,
        32.96999040272959,
        32.231553651969115,
        31.375710932475293,
        30.588525874350633,
        30.012075962675382,
        29.743368593222783,
        29.841531799753223,
        30.33821737276967,
        31.247927701600666,
        32.576525762093475,
        34.32730444518984,
        36.50466362917244,
        39.115786461210824,
        42.17082531425412,
        45.682103936433016,
        49.662775816838185,
        54.12530052734099,
        59.08002596329259,
        64.5340953790679,
        70.49084057787817,
        76.94974599908977,
        83.90699214421947,
        91.35651571492613,
        99.29145851990795,
        107.70583684993105,
        116.59624834436467,
        125.96343847838794,
        135.81360232991884,
        146.15931469144877,
        157.0200596023539,
        168.42235431629328,
        180.3995190473268,
        192.99115817586406,
        206.24243683030022,
        220.2032424052525,
        234.92730603330153,
        250.47135525729558,
        266.8943502458763,
        284.2568388964308,
        302.62045919688654,
        322.0475918217781,
        342.60117574515783,
        364.34466923450634,
        387.34215855422906,
        411.6585919128501,
        437.360128982038,
        464.5145857262626,
        493.19196622749934,
        523.4650423762466,
        555.4099953659602,
        589.1070737377698,
        624.6412672417739,
        662.102973592713,
        701.5886499590331,
        743.2014350037208,
        787.0517293504159,
        833.2577350500592,
        881.945942022937,
        933.2515683881917,
        987.3189483257986,
        1044.3018757439704,
        1104.3639093580737,
        1167.6786423115814,
        1234.4299868066644,
        1304.8123455348198,
        1379.030932404489,
        1457.301994626762,
        1539.8531064172703,
        1626.9235022287464,
        1718.7644609189404,
        1815.6397584550245,
        1917.8262010407407,
        2025.614244719777,
        2139.308713280133,
        2259.229618868826,
        -51.323437852
       ]
      }
     },
     "45317a4038f34b818260d46dc9258bcd": {
      "model_module": "@jupyter-widgets/controls",
      "model_module_version": "1.5.0",
      "model_name": "DescriptionStyleModel",
      "state": {
       "description_width": ""
      }
     },
     "45d5eabcef244c91b6b962f41505adaa": {
      "model_module": "ipysheet",
      "model_module_version": "~0.5.0",
      "model_name": "CellRangeModel",
      "state": {
       "_view_module": null,
       "_view_module_version": "",
       "column_end": 4,
       "column_start": 4,
       "row_end": 19,
       "row_start": 0,
       "squeeze_row": false,
       "type": "numeric",
       "value": [
        0,
        0,
        0,
        0,
        0,
        0,
        0,
        0,
        0,
        0,
        0,
        0,
        0,
        0,
        0,
        0,
        0,
        0,
        0,
        0
       ]
      }
     },
     "4662cb7e51ea4d95a1976249ee8d891c": {
      "model_module": "ipysheet",
      "model_module_version": "~0.5.0",
      "model_name": "CellRangeModel",
      "state": {
       "_view_module": null,
       "_view_module_version": "",
       "column_end": 29,
       "column_start": 29,
       "row_end": 5,
       "row_start": 0,
       "squeeze_row": false,
       "type": "numeric",
       "value": [
        83.90699214421947,
        83.90699214421947,
        83.90699214421947,
        0,
        0,
        0
       ]
      }
     },
     "473f713caf6241ddbac851102c349bf7": {
      "model_module": "ipysheet",
      "model_module_version": "~0.5.0",
      "model_name": "CellRangeModel",
      "state": {
       "_view_module": null,
       "_view_module_version": "",
       "column_end": 3,
       "column_start": 3,
       "row_end": 5,
       "row_start": 0,
       "squeeze_row": false,
       "type": "numeric",
       "value": [
        29,
        29,
        29,
        0,
        0,
        0
       ]
      }
     },
     "4856f7b5202f4317b8d5033a8a654ac6": {
      "model_module": "ipysheet",
      "model_module_version": "~0.5.0",
      "model_name": "CellRangeModel",
      "state": {
       "_view_module": null,
       "_view_module_version": "",
       "row_end": 5,
       "row_start": 0,
       "squeeze_row": false,
       "type": "numeric",
       "value": [
        0,
        -1.5238607537000002,
        -52.0470635763,
        0,
        0,
        0
       ]
      }
     },
     "48d858063ef642feaa62ffd1fdf7a986": {
      "model_module": "ipysheet",
      "model_module_version": "~0.5.0",
      "model_name": "CellRangeModel",
      "state": {
       "_view_module": null,
       "_view_module_version": "",
       "column_end": 7,
       "column_start": 7,
       "row_end": 5,
       "row_start": 0,
       "squeeze_row": false,
       "type": "numeric",
       "value": [
        33.376888531566586,
        33.376888531566586,
        33.376888531566586,
        0,
        0,
        0
       ]
      }
     },
     "49bc68de399641f1abb07758b73e32ee": {
      "model_module": "ipysheet",
      "model_module_version": "~0.5.0",
      "model_name": "CellRangeModel",
      "state": {
       "_view_module": null,
       "_view_module_version": "",
       "column_end": 53,
       "column_start": 53,
       "row_end": 5,
       "row_start": 0,
       "squeeze_row": false,
       "type": "numeric",
       "value": [
        437.360128982038,
        437.360128982038,
        437.360128982038,
        0,
        0,
        0
       ]
      }
     },
     "4a0be9c1e7914ea88485c3ee3e5046f1": {
      "model_module": "@jupyter-widgets/base",
      "model_module_version": "1.2.0",
      "model_name": "LayoutModel",
      "state": {
       "width": "54%"
      }
     },
     "4a669f0ebe004c4ea81c867483e4cbc6": {
      "model_module": "ipysheet",
      "model_module_version": "~0.5.0",
      "model_name": "CellRangeModel",
      "state": {
       "_view_module": null,
       "_view_module_version": "",
       "column_end": 2,
       "column_start": 2,
       "row_end": 5,
       "row_start": 0,
       "squeeze_row": false,
       "type": "numeric",
       "value": [
        0,
        -1.4771942340000002,
        -51.323437852,
        0,
        0,
        0
       ]
      }
     },
     "4ad26061b94345008aedd994d4be88e1": {
      "model_module": "ipysheet",
      "model_module_version": "~0.5.0",
      "model_name": "CellRangeModel",
      "state": {
       "_view_module": null,
       "_view_module_version": "",
       "column_end": 6,
       "column_start": 6,
       "row_end": 19,
       "row_start": 0,
       "squeeze_row": false,
       "type": "numeric",
       "value": [
        0,
        0,
        0,
        0,
        0,
        0,
        0,
        0,
        0,
        0,
        0,
        0,
        0,
        0,
        0,
        0,
        0,
        0,
        0,
        0
       ]
      }
     },
     "4b179ae2c1e24dbd9bc0ff39d00eb376": {
      "model_module": "ipysheet",
      "model_module_version": "~0.5.0",
      "model_name": "SheetModel",
      "state": {
       "cells": [
        "IPY_MODEL_a38464b43c1e4abdbc99b4c0d05d462e",
        "IPY_MODEL_a105b1fb22d841908e46da607808bd54",
        "IPY_MODEL_9cb651b0392a4911ab30579f7e81574a",
        "IPY_MODEL_63117317c7244de997568f7e4f22df4b",
        "IPY_MODEL_784b87f3b5ce40ac9bffd631f674cf5b",
        "IPY_MODEL_53deb6d6dfbf4d4b8c2813c5acaf68c3",
        "IPY_MODEL_80ece941bd65418398b689882fecfadc",
        "IPY_MODEL_5a9c647cd129485e9f14a3c77d688a00",
        "IPY_MODEL_57a878a49cf3463a8a6b2d789e6f4c73"
       ],
       "column_headers": [
        "('OLD Method', 'PAKGGREVCO2CER')",
        "('OLD Method', 'PAKGGREVCO2OER')",
        "('OLD Method', 'PAKGGREVCO2GER')",
        "('New Method', 'PAKGGREVCO2CER')",
        "('New Method', 'PAKGGREVCO2OER')",
        "('New Method', 'PAKGGREVCO2GER')",
        "('Difference', 'PAKGGREVCO2CER')",
        "('Difference', 'PAKGGREVCO2OER')",
        "('Difference', 'PAKGGREVCO2GER')"
       ],
       "columns": 9,
       "layout": "IPY_MODEL_7d317a6b6b0d450581ae95ba5610214a",
       "row_headers": [
        "2017",
        "2018",
        "2019",
        "2020",
        "2021",
        "2022",
        "2023",
        "2024",
        "2025",
        "2026",
        "2027",
        "2028",
        "2029",
        "2030",
        "2031",
        "2032",
        "2033",
        "2034",
        "2035",
        "2036"
       ],
       "rows": 20
      }
     },
     "4b6b4d56769f4d54b95676741edca12e": {
      "model_module": "ipysheet",
      "model_module_version": "~0.5.0",
      "model_name": "CellRangeModel",
      "state": {
       "_view_module": null,
       "_view_module_version": "",
       "column_end": 44,
       "column_start": 44,
       "row_end": 5,
       "row_start": 0,
       "squeeze_row": false,
       "type": "numeric",
       "value": [
        250.47135525729558,
        250.47135525729558,
        250.47135525729558,
        0,
        0,
        0
       ]
      }
     },
     "4c50cf7d81e64678becc1ec672f5a63e": {
      "model_module": "ipysheet",
      "model_module_version": "~0.5.0",
      "model_name": "CellRangeModel",
      "state": {
       "_view_module": null,
       "_view_module_version": "",
       "row_end": 9,
       "row_start": 0,
       "squeeze_row": false,
       "type": "numeric",
       "value": [
        -1.3423136273,
        -1.5238607537000002,
        -1.4771942340000002,
        29,
        30.962299914387533,
        32.44249598824875,
        33.24696820511287,
        33.376888531566586,
        32.96999040272959,
        32.231553651969115
       ]
      }
     },
     "4cacb10a912c40d69f8a2018150ed843": {
      "model_module": "ipysheet",
      "model_module_version": "~0.5.0",
      "model_name": "CellRangeModel",
      "state": {
       "_view_module": null,
       "_view_module_version": "",
       "column_end": 75,
       "column_start": 75,
       "row_end": 5,
       "row_start": 0,
       "squeeze_row": false,
       "type": "numeric",
       "value": [
        1539.8531064172703,
        1539.8531064172703,
        1539.8531064172703,
        0,
        0,
        0
       ]
      }
     },
     "4d34a591dd1d49b6b2b9f2b6f2e5834e": {
      "model_module": "ipysheet",
      "model_module_version": "~0.5.0",
      "model_name": "CellRangeModel",
      "state": {
       "_view_module": null,
       "_view_module_version": "",
       "column_end": 54,
       "column_start": 54,
       "row_end": 5,
       "row_start": 0,
       "squeeze_row": false,
       "type": "numeric",
       "value": [
        464.5145857262626,
        464.5145857262626,
        464.5145857262626,
        0,
        0,
        0
       ]
      }
     },
     "4e1c22be9ebe433ca33e8ba8dcc5fce8": {
      "model_module": "@jupyter-widgets/controls",
      "model_module_version": "1.5.0",
      "model_name": "VBoxModel",
      "state": {
       "children": [
        "IPY_MODEL_bb0fc3186c154265bc579030d91c5e1e",
        "IPY_MODEL_6afeda2f2ba04d34a7b366e52da00e71"
       ],
       "layout": "IPY_MODEL_6386316101264bbe9117a3117d1943f0"
      }
     },
     "4e46be07ed11428b872e0cb72631cd20": {
      "model_module": "ipysheet",
      "model_module_version": "~0.5.0",
      "model_name": "SheetModel",
      "state": {
       "cells": [
        "IPY_MODEL_fe91f98261c04a1dbc0bf491c777519a",
        "IPY_MODEL_e1d2f04040bc4a77a3bea6f9cffe7065",
        "IPY_MODEL_66d5ec37882948b38f1a3f11dd7514a4",
        "IPY_MODEL_a6793504806d42e5a7b979e0654c27e3",
        "IPY_MODEL_5a9a3898e9fe433e85dccb3be3a98083",
        "IPY_MODEL_4e92164aabda47278fbc9fb53d22199d"
       ],
       "column_headers": [
        "('New Method', 'PAKGGREVCO2CER')",
        "('New Method', 'PAKGGREVCO2OER')",
        "('New Method', 'PAKGGREVCO2GER')",
        "('Difference', 'PAKGGREVCO2CER')",
        "('Difference', 'PAKGGREVCO2OER')",
        "('Difference', 'PAKGGREVCO2GER')"
       ],
       "columns": 6,
       "layout": "IPY_MODEL_633e09fc1dcb4d46b14545d6a98811c8",
       "row_headers": [
        "2017",
        "2018",
        "2019",
        "2020",
        "2021",
        "2022",
        "2023",
        "2024",
        "2025",
        "2026"
       ],
       "rows": 10
      }
     },
     "4e92164aabda47278fbc9fb53d22199d": {
      "model_module": "ipysheet",
      "model_module_version": "~0.5.0",
      "model_name": "CellRangeModel",
      "state": {
       "_view_module": null,
       "_view_module_version": "",
       "column_end": 5,
       "column_start": 5,
       "row_end": 9,
       "row_start": 0,
       "squeeze_row": false,
       "type": "numeric",
       "value": [
        0,
        0,
        0,
        0,
        0,
        0,
        0,
        0,
        0,
        0
       ]
      }
     },
     "4ecd53ff874146b38a040c2337401591": {
      "model_module": "ipysheet",
      "model_module_version": "~0.5.0",
      "model_name": "SheetModel",
      "state": {
       "cells": [
        "IPY_MODEL_85502c10576a46ba9b848f240d855ed2",
        "IPY_MODEL_3bc55265092541ed96c915b064d954c5",
        "IPY_MODEL_e6597e1ed4684d28aad1c5fd3ef1ec5d",
        "IPY_MODEL_25eacbfb6bdf4e9297fe667df4b4056a",
        "IPY_MODEL_42cfb5af044d4431aa242c72af65fa35",
        "IPY_MODEL_af52c61eb2294887b7c4c0cd5e25e343"
       ],
       "column_headers": [
        "('New Method', 'PAKGGREVCO2CER')",
        "('New Method', 'PAKGGREVCO2OER')",
        "('New Method', 'PAKGGREVCO2GER')",
        "('Difference', 'PAKGGREVCO2CER')",
        "('Difference', 'PAKGGREVCO2OER')",
        "('Difference', 'PAKGGREVCO2GER')"
       ],
       "columns": 6,
       "layout": "IPY_MODEL_554f089d9b344d06b5bab5d4f0a3df46",
       "row_headers": [
        "2017",
        "2018",
        "2019",
        "2020",
        "2021",
        "2022",
        "2023",
        "2024",
        "2025",
        "2026"
       ],
       "rows": 10
      }
     },
     "4f160dcde0234ee0ade612a49f7b39f6": {
      "model_module": "@jupyter-widgets/base",
      "model_module_version": "1.2.0",
      "model_name": "LayoutModel",
      "state": {
       "width": "54%"
      }
     },
     "4fdca7c2347e4b6c83e1e62963933500": {
      "model_module": "ipysheet",
      "model_module_version": "~0.5.0",
      "model_name": "CellRangeModel",
      "state": {
       "_view_module": null,
       "_view_module_version": "",
       "column_end": 58,
       "column_start": 58,
       "row_end": 5,
       "row_start": 0,
       "squeeze_row": false,
       "type": "numeric",
       "value": [
        589.1070737377698,
        589.1070737377698,
        589.1070737377698,
        0,
        0,
        0
       ]
      }
     },
     "5083cbbe55ad48178cb855b59677579d": {
      "model_module": "ipysheet",
      "model_module_version": "~0.5.0",
      "model_name": "CellRangeModel",
      "state": {
       "_view_module": null,
       "_view_module_version": "",
       "column_end": 77,
       "column_start": 77,
       "row_end": 5,
       "row_start": 0,
       "squeeze_row": false,
       "type": "numeric",
       "value": [
        1718.7644609189404,
        1718.7644609189404,
        1718.7644609189404,
        0,
        0,
        0
       ]
      }
     },
     "5151e636925e411097652b50793ed4f3": {
      "model_module": "ipysheet",
      "model_module_version": "~0.5.0",
      "model_name": "CellRangeModel",
      "state": {
       "_view_module": null,
       "_view_module_version": "",
       "column_end": 57,
       "column_start": 57,
       "row_end": 5,
       "row_start": 0,
       "squeeze_row": false,
       "type": "numeric",
       "value": [
        555.4099953659602,
        555.4099953659602,
        555.4099953659602,
        0,
        0,
        0
       ]
      }
     },
     "522dcf7fc6e54f90a4a7db34dd93bc08": {
      "model_module": "ipysheet",
      "model_module_version": "~0.5.0",
      "model_name": "CellRangeModel",
      "state": {
       "_view_module": null,
       "_view_module_version": "",
       "column_end": 55,
       "column_start": 55,
       "row_end": 5,
       "row_start": 0,
       "squeeze_row": false,
       "type": "numeric",
       "value": [
        493.19196622749934,
        493.19196622749934,
        493.19196622749934,
        0,
        0,
        0
       ]
      }
     },
     "53deb6d6dfbf4d4b8c2813c5acaf68c3": {
      "model_module": "ipysheet",
      "model_module_version": "~0.5.0",
      "model_name": "CellRangeModel",
      "state": {
       "_view_module": null,
       "_view_module_version": "",
       "column_end": 5,
       "column_start": 5,
       "row_end": 19,
       "row_start": 0,
       "squeeze_row": false,
       "type": "numeric",
       "value": [
        -24.8253879556,
        -52.0470635763,
        -51.323437852,
        29,
        30.962299914387533,
        32.44249598824875,
        33.24696820511287,
        33.376888531566586,
        32.96999040272959,
        32.231553651969115,
        31.375710932475293,
        30.588525874350633,
        30.012075962675382,
        29.743368593222783,
        29.841531799753223,
        30.33821737276967,
        31.247927701600666,
        32.576525762093475,
        34.32730444518984,
        36.50466362917244
       ]
      }
     },
     "54c3a5c2499c4a80a57accda6ff3f30c": {
      "model_module": "ipysheet",
      "model_module_version": "~0.5.0",
      "model_name": "CellRangeModel",
      "state": {
       "_view_module": null,
       "_view_module_version": "",
       "column_end": 65,
       "column_start": 65,
       "row_end": 5,
       "row_start": 0,
       "squeeze_row": false,
       "type": "numeric",
       "value": [
        881.945942022937,
        881.945942022937,
        881.945942022937,
        0,
        0,
        0
       ]
      }
     },
     "550e868347224cf0a7b978480b807ada": {
      "model_module": "@jupyter-widgets/base",
      "model_module_version": "1.2.0",
      "model_name": "LayoutModel",
      "state": {}
     },
     "5535ae4ccb714c3a854acabb12979a7d": {
      "model_module": "ipysheet",
      "model_module_version": "~0.5.0",
      "model_name": "CellRangeModel",
      "state": {
       "_view_module": null,
       "_view_module_version": "",
       "column_end": 2,
       "column_start": 2,
       "row_end": 83,
       "row_start": 0,
       "squeeze_row": false,
       "type": "numeric",
       "value": [
        -24.8253879556,
        -52.0470635763,
        -51.323437852,
        29,
        30.962299914387533,
        32.44249598824875,
        33.24696820511287,
        33.376888531566586,
        32.96999040272959,
        32.231553651969115,
        31.375710932475293,
        30.588525874350633,
        30.012075962675382,
        29.743368593222783,
        29.841531799753223,
        30.33821737276967,
        31.247927701600666,
        32.576525762093475,
        34.32730444518984,
        36.50466362917244,
        39.115786461210824,
        42.17082531425412,
        45.682103936433016,
        49.662775816838185,
        54.12530052734099,
        59.08002596329259,
        64.5340953790679,
        70.49084057787817,
        76.94974599908977,
        83.90699214421947,
        91.35651571492613,
        99.29145851990795,
        107.70583684993105,
        116.59624834436467,
        125.96343847838794,
        135.81360232991884,
        146.15931469144877,
        157.0200596023539,
        168.42235431629328,
        180.3995190473268,
        192.99115817586406,
        206.24243683030022,
        220.2032424052525,
        234.92730603330153,
        250.47135525729558,
        266.8943502458763,
        284.2568388964308,
        302.62045919688654,
        322.0475918217781,
        342.60117574515783,
        364.34466923450634,
        387.34215855422906,
        411.6585919128501,
        437.360128982038,
        464.5145857262626,
        493.19196622749934,
        523.4650423762466,
        555.4099953659602,
        589.1070737377698,
        624.6412672417739,
        662.102973592713,
        701.5886499590331,
        743.2014350037208,
        787.0517293504159,
        833.2577350500592,
        881.945942022937,
        933.2515683881917,
        987.3189483257986,
        1044.3018757439704,
        1104.3639093580737,
        1167.6786423115814,
        1234.4299868066644,
        1304.8123455348198,
        1379.030932404489,
        1457.301994626762,
        1539.8531064172703,
        1626.9235022287464,
        1718.7644609189404,
        1815.6397584550245,
        1917.8262010407407,
        2025.614244719777,
        2139.308713280133,
        2259.229618868826,
        2385.7130906367056
       ]
      }
     },
     "554f089d9b344d06b5bab5d4f0a3df46": {
      "model_module": "@jupyter-widgets/base",
      "model_module_version": "1.2.0",
      "model_name": "LayoutModel",
      "state": {
       "height": "auto",
       "width": "auto"
      }
     },
     "55dcd2d1968e493d8bb1ffcf75069610": {
      "model_module": "ipysheet",
      "model_module_version": "~0.5.0",
      "model_name": "CellRangeModel",
      "state": {
       "_view_module": null,
       "_view_module_version": "",
       "column_end": 61,
       "column_start": 61,
       "row_end": 5,
       "row_start": 0,
       "squeeze_row": false,
       "type": "numeric",
       "value": [
        701.5886499590331,
        701.5886499590331,
        701.5886499590331,
        0,
        0,
        0
       ]
      }
     },
     "56c4508144994d6d9fe421e6a04e5803": {
      "model_module": "ipysheet",
      "model_module_version": "~0.5.0",
      "model_name": "CellRangeModel",
      "state": {
       "_view_module": null,
       "_view_module_version": "",
       "column_end": 12,
       "column_start": 12,
       "row_end": 5,
       "row_start": 0,
       "squeeze_row": false,
       "type": "numeric",
       "value": [
        30.012075962675382,
        30.012075962675382,
        30.012075962675382,
        0,
        0,
        0
       ]
      }
     },
     "5720491938674747b7af2779a0ccfb83": {
      "model_module": "ipysheet",
      "model_module_version": "~0.5.0",
      "model_name": "CellRangeModel",
      "state": {
       "_view_module": null,
       "_view_module_version": "",
       "column_end": 56,
       "column_start": 56,
       "row_end": 5,
       "row_start": 0,
       "squeeze_row": false,
       "type": "numeric",
       "value": [
        523.4650423762466,
        523.4650423762466,
        523.4650423762466,
        0,
        0,
        0
       ]
      }
     },
     "5737e09612644bec80009d58234564ca": {
      "model_module": "@jupyter-widgets/base",
      "model_module_version": "1.2.0",
      "model_name": "LayoutModel",
      "state": {
       "height": "auto",
       "width": "auto"
      }
     },
     "57a878a49cf3463a8a6b2d789e6f4c73": {
      "model_module": "ipysheet",
      "model_module_version": "~0.5.0",
      "model_name": "CellRangeModel",
      "state": {
       "_view_module": null,
       "_view_module_version": "",
       "column_end": 8,
       "column_start": 8,
       "row_end": 19,
       "row_start": 0,
       "squeeze_row": false,
       "type": "numeric",
       "value": [
        0,
        0,
        0,
        0,
        0,
        0,
        0,
        0,
        0,
        0,
        0,
        0,
        0,
        0,
        0,
        0,
        0,
        0,
        0,
        0
       ]
      }
     },
     "580755dc9d704af3b58c73987e427240": {
      "model_module": "ipysheet",
      "model_module_version": "~0.5.0",
      "model_name": "CellRangeModel",
      "state": {
       "_view_module": null,
       "_view_module_version": "",
       "column_end": 17,
       "column_start": 17,
       "row_end": 5,
       "row_start": 0,
       "squeeze_row": false,
       "type": "numeric",
       "value": [
        32.576525762093475,
        32.576525762093475,
        32.576525762093475,
        0,
        0,
        0
       ]
      }
     },
     "58c8ba59d6fa46e686c8992919ff484f": {
      "model_module": "@jupyter-widgets/controls",
      "model_module_version": "1.5.0",
      "model_name": "LabelModel",
      "state": {
       "layout": "IPY_MODEL_4f160dcde0234ee0ade612a49f7b39f6",
       "style": "IPY_MODEL_6ab6ad5237a34a8b9646defb44b7fdc0",
       "value": "Carbon tax rate, US$ per tonn "
      }
     },
     "5966ea0529484e06afa820a0123ea6b4": {
      "model_module": "ipysheet",
      "model_module_version": "~0.5.0",
      "model_name": "CellRangeModel",
      "state": {
       "_view_module": null,
       "_view_module_version": "",
       "column_end": 11,
       "column_start": 11,
       "row_end": 5,
       "row_start": 0,
       "squeeze_row": false,
       "type": "numeric",
       "value": [
        30.588525874350633,
        30.588525874350633,
        30.588525874350633,
        0,
        0,
        0
       ]
      }
     },
     "5a9a3898e9fe433e85dccb3be3a98083": {
      "model_module": "ipysheet",
      "model_module_version": "~0.5.0",
      "model_name": "CellRangeModel",
      "state": {
       "_view_module": null,
       "_view_module_version": "",
       "column_end": 4,
       "column_start": 4,
       "row_end": 9,
       "row_start": 0,
       "squeeze_row": false,
       "type": "numeric",
       "value": [
        0,
        0,
        0,
        0,
        0,
        0,
        0,
        0,
        0,
        0
       ]
      }
     },
     "5a9c647cd129485e9f14a3c77d688a00": {
      "model_module": "ipysheet",
      "model_module_version": "~0.5.0",
      "model_name": "CellRangeModel",
      "state": {
       "_view_module": null,
       "_view_module_version": "",
       "column_end": 7,
       "column_start": 7,
       "row_end": 19,
       "row_start": 0,
       "squeeze_row": false,
       "type": "numeric",
       "value": [
        0,
        0,
        0,
        0,
        0,
        0,
        0,
        0,
        0,
        0,
        0,
        0,
        0,
        0,
        0,
        0,
        0,
        0,
        0,
        0
       ]
      }
     },
     "5b1695576b194512ace430cd824b8b7d": {
      "model_module": "ipysheet",
      "model_module_version": "~0.5.0",
      "model_name": "CellRangeModel",
      "state": {
       "_view_module": null,
       "_view_module_version": "",
       "column_end": 13,
       "column_start": 13,
       "row_end": 5,
       "row_start": 0,
       "squeeze_row": false,
       "type": "numeric",
       "value": [
        29.743368593222783,
        29.743368593222783,
        29.743368593222783,
        0,
        0,
        0
       ]
      }
     },
     "5b7d164717e547d3947e8b63f81ead62": {
      "model_module": "ipysheet",
      "model_module_version": "~0.5.0",
      "model_name": "CellRangeModel",
      "state": {
       "_view_module": null,
       "_view_module_version": "",
       "column_end": 14,
       "column_start": 14,
       "row_end": 5,
       "row_start": 0,
       "squeeze_row": false,
       "type": "numeric",
       "value": [
        29.841531799753223,
        29.841531799753223,
        29.841531799753223,
        0,
        0,
        0
       ]
      }
     },
     "5c5a7bb497834b8899734de9d63911d8": {
      "model_module": "ipysheet",
      "model_module_version": "~0.5.0",
      "model_name": "CellRangeModel",
      "state": {
       "_view_module": null,
       "_view_module_version": "",
       "column_end": 0,
       "column_start": 0,
       "row_end": 5,
       "row_start": 0,
       "squeeze_row": false,
       "type": "numeric",
       "value": [
        0,
        -1.3423136273,
        -24.8253879556,
        0,
        0,
        0
       ]
      }
     },
     "5c7aff07ca1043b89c78b11a9c8c044b": {
      "model_module": "@jupyter-widgets/base",
      "model_module_version": "1.2.0",
      "model_name": "LayoutModel",
      "state": {
       "height": "auto",
       "width": "auto"
      }
     },
     "5ddc585e5d5f4d2ba664d1ccba3d3fbe": {
      "model_module": "ipysheet",
      "model_module_version": "~0.5.0",
      "model_name": "CellRangeModel",
      "state": {
       "_view_module": null,
       "_view_module_version": "",
       "column_end": 5,
       "column_start": 5,
       "row_end": 83,
       "row_start": 0,
       "squeeze_row": false,
       "type": "numeric",
       "value": [
        -24.8253879556,
        -52.0470635763,
        -51.323437852,
        29,
        30.962299914387533,
        32.44249598824875,
        33.24696820511287,
        33.376888531566586,
        32.96999040272959,
        32.231553651969115,
        31.375710932475293,
        30.588525874350633,
        30.012075962675382,
        29.743368593222783,
        29.841531799753223,
        30.33821737276967,
        31.247927701600666,
        32.576525762093475,
        34.32730444518984,
        36.50466362917244,
        39.115786461210824,
        42.17082531425412,
        45.682103936433016,
        49.662775816838185,
        54.12530052734099,
        59.08002596329259,
        64.5340953790679,
        70.49084057787817,
        76.94974599908977,
        83.90699214421947,
        91.35651571492613,
        99.29145851990795,
        107.70583684993105,
        116.59624834436467,
        125.96343847838794,
        135.81360232991884,
        146.15931469144877,
        157.0200596023539,
        168.42235431629328,
        180.3995190473268,
        192.99115817586406,
        206.24243683030022,
        220.2032424052525,
        234.92730603330153,
        250.47135525729558,
        266.8943502458763,
        284.2568388964308,
        302.62045919688654,
        322.0475918217781,
        342.60117574515783,
        364.34466923450634,
        387.34215855422906,
        411.6585919128501,
        437.360128982038,
        464.5145857262626,
        493.19196622749934,
        523.4650423762466,
        555.4099953659602,
        589.1070737377698,
        624.6412672417739,
        662.102973592713,
        701.5886499590331,
        743.2014350037208,
        787.0517293504159,
        833.2577350500592,
        881.945942022937,
        933.2515683881917,
        987.3189483257986,
        1044.3018757439704,
        1104.3639093580737,
        1167.6786423115814,
        1234.4299868066644,
        1304.8123455348198,
        1379.030932404489,
        1457.301994626762,
        1539.8531064172703,
        1626.9235022287464,
        1718.7644609189404,
        1815.6397584550245,
        1917.8262010407407,
        2025.614244719777,
        2139.308713280133,
        2259.229618868826,
        2385.7130906367056
       ]
      }
     },
     "5e1dbe1924354acfbeaed339075ee103": {
      "model_module": "ipysheet",
      "model_module_version": "~0.5.0",
      "model_name": "CellRangeModel",
      "state": {
       "_view_module": null,
       "_view_module_version": "",
       "column_end": 19,
       "column_start": 19,
       "row_end": 5,
       "row_start": 0,
       "squeeze_row": false,
       "type": "numeric",
       "value": [
        36.50466362917244,
        36.50466362917244,
        36.50466362917244,
        0,
        0,
        0
       ]
      }
     },
     "5ebc3108a7094eaea0480a570b5b8b23": {
      "model_module": "ipysheet",
      "model_module_version": "~0.5.0",
      "model_name": "CellRangeModel",
      "state": {
       "_view_module": null,
       "_view_module_version": "",
       "column_end": 31,
       "column_start": 31,
       "row_end": 5,
       "row_start": 0,
       "squeeze_row": false,
       "type": "numeric",
       "value": [
        99.29145851990795,
        99.29145851990795,
        99.29145851990795,
        0,
        0,
        0
       ]
      }
     },
     "5ec442d0fc824bb3976c8a4c0428b1a6": {
      "model_module": "@jupyter-widgets/base",
      "model_module_version": "1.2.0",
      "model_name": "LayoutModel",
      "state": {
       "height": "auto",
       "width": "auto"
      }
     },
     "5f27593397874cffa9b94e67417f6ded": {
      "model_module": "ipysheet",
      "model_module_version": "~0.5.0",
      "model_name": "CellRangeModel",
      "state": {
       "_view_module": null,
       "_view_module_version": "",
       "column_end": 0,
       "column_start": 0,
       "row_end": 9,
       "row_start": 0,
       "squeeze_row": false,
       "type": "numeric",
       "value": [
        0,
        0,
        0,
        29,
        30.962299914387533,
        32.44249598824875,
        33.24696820511287,
        33.376888531566586,
        32.96999040272959,
        32.231553651969115
       ]
      }
     },
     "5fd8e362443e4bb0b17a59f5fe99cd8b": {
      "model_module": "ipysheet",
      "model_module_version": "~0.5.0",
      "model_name": "CellRangeModel",
      "state": {
       "_view_module": null,
       "_view_module_version": "",
       "column_end": 39,
       "column_start": 39,
       "row_end": 5,
       "row_start": 0,
       "squeeze_row": false,
       "type": "numeric",
       "value": [
        180.3995190473268,
        180.3995190473268,
        180.3995190473268,
        0,
        0,
        0
       ]
      }
     },
     "60b4912a9eae41938dfce1074baab210": {
      "model_module": "ipysheet",
      "model_module_version": "~0.5.0",
      "model_name": "CellRangeModel",
      "state": {
       "_view_module": null,
       "_view_module_version": "",
       "column_end": 4,
       "column_start": 4,
       "row_end": 9,
       "row_start": 0,
       "squeeze_row": false,
       "type": "numeric",
       "value": [
        0,
        0,
        0,
        0,
        0,
        0,
        0,
        0,
        0,
        0
       ]
      }
     },
     "60d202e1ca82443c9ffc7b1f8079c185": {
      "model_module": "ipysheet",
      "model_module_version": "~0.5.0",
      "model_name": "CellRangeModel",
      "state": {
       "_view_module": null,
       "_view_module_version": "",
       "column_end": 62,
       "column_start": 62,
       "row_end": 5,
       "row_start": 0,
       "squeeze_row": false,
       "type": "numeric",
       "value": [
        743.2014350037208,
        743.2014350037208,
        743.2014350037208,
        0,
        0,
        0
       ]
      }
     },
     "61338c0ebaee44fc9c36a78754125f42": {
      "model_module": "ipysheet",
      "model_module_version": "~0.5.0",
      "model_name": "CellRangeModel",
      "state": {
       "_view_module": null,
       "_view_module_version": "",
       "column_end": 5,
       "column_start": 5,
       "row_end": 9,
       "row_start": 0,
       "squeeze_row": false,
       "type": "numeric",
       "value": [
        0,
        0,
        0,
        0,
        0,
        0,
        0,
        0,
        0,
        0
       ]
      }
     },
     "621d94efd24c42f1b879262266874670": {
      "model_module": "ipysheet",
      "model_module_version": "~0.5.0",
      "model_name": "CellRangeModel",
      "state": {
       "_view_module": null,
       "_view_module_version": "",
       "column_end": 15,
       "column_start": 15,
       "row_end": 5,
       "row_start": 0,
       "squeeze_row": false,
       "type": "numeric",
       "value": [
        30.33821737276967,
        30.33821737276967,
        30.33821737276967,
        0,
        0,
        0
       ]
      }
     },
     "62c58f5d40984f0eba0746f1a7f2faea": {
      "model_module": "ipysheet",
      "model_module_version": "~0.5.0",
      "model_name": "CellRangeModel",
      "state": {
       "_view_module": null,
       "_view_module_version": "",
       "column_end": 4,
       "column_start": 4,
       "row_end": 5,
       "row_start": 0,
       "squeeze_row": false,
       "type": "numeric",
       "value": [
        30.962299914387533,
        30.962299914387533,
        30.962299914387533,
        0,
        0,
        0
       ]
      }
     },
     "63117317c7244de997568f7e4f22df4b": {
      "model_module": "ipysheet",
      "model_module_version": "~0.5.0",
      "model_name": "CellRangeModel",
      "state": {
       "_view_module": null,
       "_view_module_version": "",
       "column_end": 3,
       "column_start": 3,
       "row_end": 19,
       "row_start": 0,
       "squeeze_row": false,
       "type": "numeric",
       "value": [
        0,
        0,
        0,
        29,
        30.962299914387533,
        32.44249598824875,
        33.24696820511287,
        33.376888531566586,
        32.96999040272959,
        32.231553651969115,
        31.375710932475293,
        30.588525874350633,
        30.012075962675382,
        29.743368593222783,
        29.841531799753223,
        30.33821737276967,
        31.247927701600666,
        32.576525762093475,
        34.32730444518984,
        36.50466362917244
       ]
      }
     },
     "633e09fc1dcb4d46b14545d6a98811c8": {
      "model_module": "@jupyter-widgets/base",
      "model_module_version": "1.2.0",
      "model_name": "LayoutModel",
      "state": {
       "height": "auto",
       "width": "auto"
      }
     },
     "6386316101264bbe9117a3117d1943f0": {
      "model_module": "@jupyter-widgets/base",
      "model_module_version": "1.2.0",
      "model_name": "LayoutModel",
      "state": {}
     },
     "6489ec48ff1b467494b5a083a2f61ead": {
      "model_module": "ipysheet",
      "model_module_version": "~0.5.0",
      "model_name": "CellRangeModel",
      "state": {
       "_view_module": null,
       "_view_module_version": "",
       "column_end": 50,
       "column_start": 50,
       "row_end": 5,
       "row_start": 0,
       "squeeze_row": false,
       "type": "numeric",
       "value": [
        364.34466923450634,
        364.34466923450634,
        364.34466923450634,
        0,
        0,
        0
       ]
      }
     },
     "66d5ec37882948b38f1a3f11dd7514a4": {
      "model_module": "ipysheet",
      "model_module_version": "~0.5.0",
      "model_name": "CellRangeModel",
      "state": {
       "_view_module": null,
       "_view_module_version": "",
       "column_end": 2,
       "column_start": 2,
       "row_end": 9,
       "row_start": 0,
       "squeeze_row": false,
       "type": "numeric",
       "value": [
        -24.8253879556,
        -52.0470635763,
        -51.323437852,
        29,
        30.962299914387533,
        32.44249598824875,
        33.24696820511287,
        33.376888531566586,
        32.96999040272959,
        32.231553651969115
       ]
      }
     },
     "66fb69268bd44a07b8fc606cf9666faa": {
      "model_module": "ipysheet",
      "model_module_version": "~0.5.0",
      "model_name": "CellRangeModel",
      "state": {
       "_view_module": null,
       "_view_module_version": "",
       "column_end": 31,
       "column_start": 31,
       "row_end": 5,
       "row_start": 0,
       "squeeze_row": false,
       "type": "numeric",
       "value": [
        99.29145851990795,
        99.29145851990795,
        99.29145851990795,
        0,
        0,
        0
       ]
      }
     },
     "693685338c7d4ddca222099ed8eb4319": {
      "model_module": "ipysheet",
      "model_module_version": "~0.5.0",
      "model_name": "SheetModel",
      "state": {
       "cells": [
        "IPY_MODEL_9d2506497f4041d286866cc60137fc42",
        "IPY_MODEL_117c9a2761ca409f8c513336f1b42756",
        "IPY_MODEL_4a669f0ebe004c4ea81c867483e4cbc6",
        "IPY_MODEL_70d7649dc48a4ab3a6ebfed8b8bf3ceb",
        "IPY_MODEL_e2f19dff6c144154be2740bfb7892626",
        "IPY_MODEL_857e65d414044012ae16b6ddcb79c9cb",
        "IPY_MODEL_933f0d087bf4430c96cb45f7c441237b",
        "IPY_MODEL_e5d0f22ba202418bb4e69f98d01b48fd",
        "IPY_MODEL_d3c8ab1ff541409182d349cd16e02c66",
        "IPY_MODEL_6a0db6ad112345a9ae580eb05b818779",
        "IPY_MODEL_9d01620bed864080b46ca63b293e8c6c",
        "IPY_MODEL_5966ea0529484e06afa820a0123ea6b4",
        "IPY_MODEL_feeb39f0f61d49e4825f12e8092aba99",
        "IPY_MODEL_c9f5530cfa8945c3afef49aab7796ee7",
        "IPY_MODEL_5b7d164717e547d3947e8b63f81ead62",
        "IPY_MODEL_ffd4421c89b44abe929ccad74790ef8d",
        "IPY_MODEL_2c34a4cec91741318e39304275383682",
        "IPY_MODEL_580755dc9d704af3b58c73987e427240",
        "IPY_MODEL_23ffa645b8a0491daad48476abbacb6e",
        "IPY_MODEL_80fed3c4d0824a889a7f451884356c1c"
       ],
       "column_headers": [
        "2017",
        "2018",
        "2019",
        "2020",
        "2021",
        "2022",
        "2023",
        "2024",
        "2025",
        "2026",
        "2027",
        "2028",
        "2029",
        "2030",
        "2031",
        "2032",
        "2033",
        "2034",
        "2035",
        "2036"
       ],
       "columns": 20,
       "layout": "IPY_MODEL_d86abb7a91a04b4694c88a6c20c7efb1",
       "row_headers": [
        "('New Method', 'PAKGGREVCO2CER')",
        "('New Method', 'PAKGGREVCO2OER')",
        "('New Method', 'PAKGGREVCO2GER')",
        "('Difference', 'PAKGGREVCO2CER')",
        "('Difference', 'PAKGGREVCO2OER')",
        "('Difference', 'PAKGGREVCO2GER')"
       ],
       "rows": 6
      }
     },
     "6a0db6ad112345a9ae580eb05b818779": {
      "model_module": "ipysheet",
      "model_module_version": "~0.5.0",
      "model_name": "CellRangeModel",
      "state": {
       "_view_module": null,
       "_view_module_version": "",
       "column_end": 9,
       "column_start": 9,
       "row_end": 5,
       "row_start": 0,
       "squeeze_row": false,
       "type": "numeric",
       "value": [
        32.231553651969115,
        32.231553651969115,
        32.231553651969115,
        0,
        0,
        0
       ]
      }
     },
     "6a0e2ef2e23a4e8eb8b7d16610638bc3": {
      "model_module": "@jupyter-widgets/controls",
      "model_module_version": "1.5.0",
      "model_name": "DescriptionStyleModel",
      "state": {
       "description_width": ""
      }
     },
     "6a8884a675514e6aa293d4c53b822e10": {
      "model_module": "ipysheet",
      "model_module_version": "~0.5.0",
      "model_name": "SheetModel",
      "state": {
       "cells": [
        "IPY_MODEL_b39ee1b30da849f1a51ece29d3626bdf",
        "IPY_MODEL_e3c907b52cf84a3abccb0eb787a92029",
        "IPY_MODEL_8dd21f02d0074882a4f46683e7538173",
        "IPY_MODEL_d99d507cd8264110a66400ecb1ed57af",
        "IPY_MODEL_45d5eabcef244c91b6b962f41505adaa",
        "IPY_MODEL_9477fe1dc8c146e29dce45e6bd265d1d"
       ],
       "column_headers": [
        "('OLD Method', 'PAKGGREVCO2CER')",
        "('OLD Method', 'PAKGGREVCO2OER')",
        "('OLD Method', 'PAKGGREVCO2GER')",
        "('New Method', 'PAKGGREVCO2CER')",
        "('New Method', 'PAKGGREVCO2OER')",
        "('New Method', 'PAKGGREVCO2GER')"
       ],
       "columns": 6,
       "layout": "IPY_MODEL_b97e64cb5702456d83ad4a74e2785cb4",
       "row_headers": [
        "2017",
        "2018",
        "2019",
        "2020",
        "2021",
        "2022",
        "2023",
        "2024",
        "2025",
        "2026",
        "2027",
        "2028",
        "2029",
        "2030",
        "2031",
        "2032",
        "2033",
        "2034",
        "2035",
        "2036"
       ],
       "rows": 20
      }
     },
     "6ab6ad5237a34a8b9646defb44b7fdc0": {
      "model_module": "@jupyter-widgets/controls",
      "model_module_version": "1.5.0",
      "model_name": "DescriptionStyleModel",
      "state": {
       "description_width": ""
      }
     },
     "6afeda2f2ba04d34a7b366e52da00e71": {
      "model_module": "ipysheet",
      "model_module_version": "~0.5.0",
      "model_name": "SheetModel",
      "state": {
       "cells": [
        "IPY_MODEL_dafdf142552a437da19372b839015407",
        "IPY_MODEL_4c50cf7d81e64678becc1ec672f5a63e",
        "IPY_MODEL_b3775971a6a243509c7f3f2f14c1bf0d",
        "IPY_MODEL_25cca8a3eac64a67932c8d2a7dfd8192",
        "IPY_MODEL_60b4912a9eae41938dfce1074baab210",
        "IPY_MODEL_2854a78becd34489b1b7da27ba13faf7"
       ],
       "column_headers": [
        "('New', 'PAKGGREVCO2CER')",
        "('New', 'PAKGGREVCO2OER')",
        "('New', 'PAKGGREVCO2GER')",
        "('Diff', 'PAKGGREVCO2CER')",
        "('Diff', 'PAKGGREVCO2OER')",
        "('Diff', 'PAKGGREVCO2GER')"
       ],
       "columns": 6,
       "layout": "IPY_MODEL_1c58174bc4354b86969d0e0010516cae",
       "row_headers": [
        "2017",
        "2018",
        "2019",
        "2020",
        "2021",
        "2022",
        "2023",
        "2024",
        "2025",
        "2026"
       ],
       "rows": 10
      }
     },
     "6c4178f3c0d74892bf5d2deda110ddcc": {
      "model_module": "ipysheet",
      "model_module_version": "~0.5.0",
      "model_name": "CellRangeModel",
      "state": {
       "_view_module": null,
       "_view_module_version": "",
       "column_end": 43,
       "column_start": 43,
       "row_end": 5,
       "row_start": 0,
       "squeeze_row": false,
       "type": "numeric",
       "value": [
        234.92730603330153,
        234.92730603330153,
        234.92730603330153,
        0,
        0,
        0
       ]
      }
     },
     "6cba910510d6462fbb932ef4b82faa41": {
      "model_module": "ipysheet",
      "model_module_version": "~0.5.0",
      "model_name": "CellRangeModel",
      "state": {
       "_view_module": null,
       "_view_module_version": "",
       "column_end": 64,
       "column_start": 64,
       "row_end": 5,
       "row_start": 0,
       "squeeze_row": false,
       "type": "numeric",
       "value": [
        833.2577350500592,
        833.2577350500592,
        833.2577350500592,
        0,
        0,
        0
       ]
      }
     },
     "6eb9bc70369e42ed9cfbf58c20344f2e": {
      "model_module": "@jupyter-widgets/base",
      "model_module_version": "1.2.0",
      "model_name": "LayoutModel",
      "state": {
       "width": "54%"
      }
     },
     "700983fb164a43fd94496d22f30d7308": {
      "model_module": "ipysheet",
      "model_module_version": "~0.5.0",
      "model_name": "CellRangeModel",
      "state": {
       "_view_module": null,
       "_view_module_version": "",
       "column_end": 24,
       "column_start": 24,
       "row_end": 5,
       "row_start": 0,
       "squeeze_row": false,
       "type": "numeric",
       "value": [
        54.12530052734099,
        54.12530052734099,
        54.12530052734099,
        0,
        0,
        0
       ]
      }
     },
     "70b0ead959a547cf955a6c5c7ef7dfa7": {
      "model_module": "ipysheet",
      "model_module_version": "~0.5.0",
      "model_name": "SheetModel",
      "state": {
       "cells": [
        "IPY_MODEL_c0b126c0ac24494b91da1e2a988eec82",
        "IPY_MODEL_ee9f1515d8b74dfe9d81407ffced50b6",
        "IPY_MODEL_ad108a9096a047a89dfb6871ff59dcd3",
        "IPY_MODEL_28808503236f493dac2ccac54aee5b03",
        "IPY_MODEL_62c58f5d40984f0eba0746f1a7f2faea",
        "IPY_MODEL_27232c63cdb548479c389ded02d5742d",
        "IPY_MODEL_7fccaac4a02f4961807f8fe5c494021d",
        "IPY_MODEL_48d858063ef642feaa62ffd1fdf7a986",
        "IPY_MODEL_96f908bfb22f490980269a9ba7134017",
        "IPY_MODEL_000d553b4bec4b538fe1637c7a454735",
        "IPY_MODEL_9608c9e083cf48f18d4813c5d3a10460",
        "IPY_MODEL_30be55f8b0264c0fa782cb1f5490b568",
        "IPY_MODEL_c763d2c36a454b1190df05645009606e",
        "IPY_MODEL_32c50418b649484a8919f4a3a5836195",
        "IPY_MODEL_fbccfdcdd1ad4c2dac7d838cba03e000",
        "IPY_MODEL_621d94efd24c42f1b879262266874670",
        "IPY_MODEL_cdd7c3dd4fad4ee790ed7d3cde76408f",
        "IPY_MODEL_3c8c3a63df364774a52f945fb21ac332",
        "IPY_MODEL_13aa54d868b1426fa62ebbe0e4207c96",
        "IPY_MODEL_d0f0bbb2d48e4f84ba59ca7eeac370a3"
       ],
       "column_headers": [
        "2017",
        "2018",
        "2019",
        "2020",
        "2021",
        "2022",
        "2023",
        "2024",
        "2025",
        "2026",
        "2027",
        "2028",
        "2029",
        "2030",
        "2031",
        "2032",
        "2033",
        "2034",
        "2035",
        "2036"
       ],
       "columns": 20,
       "layout": "IPY_MODEL_ab176e0e74bc42c18002b7991f098ac6",
       "row_headers": [
        "('OLD Method', 'PAKGGREVCO2CER')",
        "('OLD Method', 'PAKGGREVCO2OER')",
        "('OLD Method', 'PAKGGREVCO2GER')",
        "('New Method', 'PAKGGREVCO2CER')",
        "('New Method', 'PAKGGREVCO2OER')",
        "('New Method', 'PAKGGREVCO2GER')"
       ],
       "rows": 6
      }
     },
     "70d7649dc48a4ab3a6ebfed8b8bf3ceb": {
      "model_module": "ipysheet",
      "model_module_version": "~0.5.0",
      "model_name": "CellRangeModel",
      "state": {
       "_view_module": null,
       "_view_module_version": "",
       "column_end": 3,
       "column_start": 3,
       "row_end": 5,
       "row_start": 0,
       "squeeze_row": false,
       "type": "numeric",
       "value": [
        29,
        29,
        29,
        0,
        0,
        0
       ]
      }
     },
     "712aeaf94ba6467993b5b7d43f7b13c7": {
      "model_module": "ipysheet",
      "model_module_version": "~0.5.0",
      "model_name": "CellRangeModel",
      "state": {
       "_view_module": null,
       "_view_module_version": "",
       "column_end": 76,
       "column_start": 76,
       "row_end": 5,
       "row_start": 0,
       "squeeze_row": false,
       "type": "numeric",
       "value": [
        1626.9235022287464,
        1626.9235022287464,
        1626.9235022287464,
        0,
        0,
        0
       ]
      }
     },
     "717ac5e1f3954edd8197601d1c14c322": {
      "model_module": "@jupyter-widgets/base",
      "model_module_version": "1.2.0",
      "model_name": "LayoutModel",
      "state": {}
     },
     "71c2c49770f441b188731d04016e9034": {
      "model_module": "ipysheet",
      "model_module_version": "~0.5.0",
      "model_name": "CellRangeModel",
      "state": {
       "_view_module": null,
       "_view_module_version": "",
       "column_end": 59,
       "column_start": 59,
       "row_end": 5,
       "row_start": 0,
       "squeeze_row": false,
       "type": "numeric",
       "value": [
        624.6412672417739,
        624.6412672417739,
        624.6412672417739,
        0,
        0,
        0
       ]
      }
     },
     "721a13989e3347c990954e4998aa1654": {
      "model_module": "ipysheet",
      "model_module_version": "~0.5.0",
      "model_name": "CellRangeModel",
      "state": {
       "_view_module": null,
       "_view_module_version": "",
       "column_end": 4,
       "column_start": 4,
       "row_end": 83,
       "row_start": 0,
       "squeeze_row": false,
       "type": "numeric",
       "value": [
        -1.3423136273,
        -1.5238607537000002,
        -1.4771942340000002,
        29,
        30.962299914387533,
        32.44249598824875,
        33.24696820511287,
        33.376888531566586,
        32.96999040272959,
        32.231553651969115,
        31.375710932475293,
        30.588525874350633,
        30.012075962675382,
        29.743368593222783,
        29.841531799753223,
        30.33821737276967,
        31.247927701600666,
        32.576525762093475,
        34.32730444518984,
        36.50466362917244,
        39.115786461210824,
        42.17082531425412,
        45.682103936433016,
        49.662775816838185,
        54.12530052734099,
        59.08002596329259,
        64.5340953790679,
        70.49084057787817,
        76.94974599908977,
        83.90699214421947,
        91.35651571492613,
        99.29145851990795,
        107.70583684993105,
        116.59624834436467,
        125.96343847838794,
        135.81360232991884,
        146.15931469144877,
        157.0200596023539,
        168.42235431629328,
        180.3995190473268,
        192.99115817586406,
        206.24243683030022,
        220.2032424052525,
        234.92730603330153,
        250.47135525729558,
        266.8943502458763,
        284.2568388964308,
        302.62045919688654,
        322.0475918217781,
        342.60117574515783,
        364.34466923450634,
        387.34215855422906,
        411.6585919128501,
        437.360128982038,
        464.5145857262626,
        493.19196622749934,
        523.4650423762466,
        555.4099953659602,
        589.1070737377698,
        624.6412672417739,
        662.102973592713,
        701.5886499590331,
        743.2014350037208,
        787.0517293504159,
        833.2577350500592,
        881.945942022937,
        933.2515683881917,
        987.3189483257986,
        1044.3018757439704,
        1104.3639093580737,
        1167.6786423115814,
        1234.4299868066644,
        1304.8123455348198,
        1379.030932404489,
        1457.301994626762,
        1539.8531064172703,
        1626.9235022287464,
        1718.7644609189404,
        1815.6397584550245,
        1917.8262010407407,
        2025.614244719777,
        2139.308713280133,
        2259.229618868826,
        2385.7130906367056
       ]
      }
     },
     "749f18d34e4642daba2b6fb5b834b0f8": {
      "model_module": "ipysheet",
      "model_module_version": "~0.5.0",
      "model_name": "SheetModel",
      "state": {
       "cells": [
        "IPY_MODEL_980f491e30a54b09a81c36bffee62660",
        "IPY_MODEL_11347af0a4fa4bc09a66b24806b913da",
        "IPY_MODEL_44a99a3c11c549a08270ca3f2abf4a5e",
        "IPY_MODEL_221a69da7cd24d7f8d3ffe44e028b387",
        "IPY_MODEL_3deb90d9b3cc499f95e84d0592dac39a",
        "IPY_MODEL_1012af30701740b18ae6f03366312951",
        "IPY_MODEL_a3eff97624724faca07dc5ae1c37c602",
        "IPY_MODEL_993175f4d6a643fcb4c0a46075d6e318",
        "IPY_MODEL_1d877b9f416b480a8d9c31a3152ca138"
       ],
       "column_headers": [
        "('OLD Method', 'PAKGGREVCO2CER')",
        "('OLD Method', 'PAKGGREVCO2OER')",
        "('OLD Method', 'PAKGGREVCO2GER')",
        "('New Method', 'PAKGGREVCO2CER')",
        "('New Method', 'PAKGGREVCO2OER')",
        "('New Method', 'PAKGGREVCO2GER')",
        "('Difference', 'PAKGGREVCO2CER')",
        "('Difference', 'PAKGGREVCO2OER')",
        "('Difference', 'PAKGGREVCO2GER')"
       ],
       "columns": 9,
       "layout": "IPY_MODEL_f5a2042cd7484511bccc449c8bc4e5fe",
       "row_headers": [
        "2017",
        "2018",
        "2019",
        "2020",
        "2021",
        "2022",
        "2023",
        "2024",
        "2025",
        "2026",
        "2027",
        "2028",
        "2029",
        "2030",
        "2031",
        "2032",
        "2033",
        "2034",
        "2035",
        "2036",
        "2037",
        "2038",
        "2039",
        "2040",
        "2041",
        "2042",
        "2043",
        "2044",
        "2045",
        "2046",
        "2047",
        "2048",
        "2049",
        "2050",
        "2051",
        "2052",
        "2053",
        "2054",
        "2055",
        "2056",
        "2057",
        "2058",
        "2059",
        "2060",
        "2061",
        "2062",
        "2063",
        "2064",
        "2065",
        "2066",
        "2067",
        "2068",
        "2069",
        "2070",
        "2071",
        "2072",
        "2073",
        "2074",
        "2075",
        "2076",
        "2077",
        "2078",
        "2079",
        "2080",
        "2081",
        "2082",
        "2083",
        "2084",
        "2085",
        "2086",
        "2087",
        "2088",
        "2089",
        "2090",
        "2091",
        "2092",
        "2093",
        "2094",
        "2095",
        "2096",
        "2097",
        "2098",
        "2099",
        "2100"
       ],
       "rows": 84
      }
     },
     "751dac22321a4aafbdd680e281b2dc44": {
      "model_module": "ipysheet",
      "model_module_version": "~0.5.0",
      "model_name": "CellRangeModel",
      "state": {
       "_view_module": null,
       "_view_module_version": "",
       "column_end": 32,
       "column_start": 32,
       "row_end": 5,
       "row_start": 0,
       "squeeze_row": false,
       "type": "numeric",
       "value": [
        107.70583684993105,
        107.70583684993105,
        107.70583684993105,
        0,
        0,
        0
       ]
      }
     },
     "75b740e60b134b7fbbfdb01ecb93f0e7": {
      "model_module": "ipysheet",
      "model_module_version": "~0.5.0",
      "model_name": "CellRangeModel",
      "state": {
       "_view_module": null,
       "_view_module_version": "",
       "column_end": 7,
       "column_start": 7,
       "row_end": 5,
       "row_start": 0,
       "squeeze_row": false,
       "type": "numeric",
       "value": [
        33.376888531566586,
        33.376888531566586,
        33.376888531566586,
        0,
        0,
        0
       ]
      }
     },
     "7638aa64dfa64508bbf76bf3bbb99f81": {
      "model_module": "ipysheet",
      "model_module_version": "~0.5.0",
      "model_name": "CellRangeModel",
      "state": {
       "_view_module": null,
       "_view_module_version": "",
       "column_end": 10,
       "column_start": 10,
       "row_end": 5,
       "row_start": 0,
       "squeeze_row": false,
       "type": "numeric",
       "value": [
        31.375710932475293,
        31.375710932475293,
        31.375710932475293,
        0,
        0,
        0
       ]
      }
     },
     "7698b2b58a674eb3a4b31aef968fb74f": {
      "model_module": "@jupyter-widgets/controls",
      "model_module_version": "1.5.0",
      "model_name": "LabelModel",
      "state": {
       "layout": "IPY_MODEL_943ffaa1b5e446a7b7d9543538c0be3a",
       "style": "IPY_MODEL_6a0e2ef2e23a4e8eb8b7d16610638bc3",
       "value": "Check real taxrates "
      }
     },
     "7723349f452b43d2b0ed40399377e988": {
      "model_module": "ipysheet",
      "model_module_version": "~0.5.0",
      "model_name": "CellRangeModel",
      "state": {
       "_view_module": null,
       "_view_module_version": "",
       "column_end": 73,
       "column_start": 73,
       "row_end": 5,
       "row_start": 0,
       "squeeze_row": false,
       "type": "numeric",
       "value": [
        1379.030932404489,
        1379.030932404489,
        1379.030932404489,
        0,
        0,
        0
       ]
      }
     },
     "77aa8efa66604e538c7ac9ccfc27e2c9": {
      "model_module": "ipysheet",
      "model_module_version": "~0.5.0",
      "model_name": "CellRangeModel",
      "state": {
       "_view_module": null,
       "_view_module_version": "",
       "column_end": 72,
       "column_start": 72,
       "row_end": 5,
       "row_start": 0,
       "squeeze_row": false,
       "type": "numeric",
       "value": [
        1304.8123455348198,
        1304.8123455348198,
        1304.8123455348198,
        0,
        0,
        0
       ]
      }
     },
     "784b87f3b5ce40ac9bffd631f674cf5b": {
      "model_module": "ipysheet",
      "model_module_version": "~0.5.0",
      "model_name": "CellRangeModel",
      "state": {
       "_view_module": null,
       "_view_module_version": "",
       "column_end": 4,
       "column_start": 4,
       "row_end": 19,
       "row_start": 0,
       "squeeze_row": false,
       "type": "numeric",
       "value": [
        -1.3423136273,
        -1.5238607537000002,
        -1.4771942340000002,
        29,
        30.962299914387533,
        32.44249598824875,
        33.24696820511287,
        33.376888531566586,
        32.96999040272959,
        32.231553651969115,
        31.375710932475293,
        30.588525874350633,
        30.012075962675382,
        29.743368593222783,
        29.841531799753223,
        30.33821737276967,
        31.247927701600666,
        32.576525762093475,
        34.32730444518984,
        36.50466362917244
       ]
      }
     },
     "7aea28c75db64155bf4c6306872b07cf": {
      "model_module": "ipysheet",
      "model_module_version": "~0.5.0",
      "model_name": "CellRangeModel",
      "state": {
       "_view_module": null,
       "_view_module_version": "",
       "column_end": 4,
       "column_start": 4,
       "row_end": 19,
       "row_start": 0,
       "squeeze_row": false,
       "type": "numeric",
       "value": [
        -1.3423136273,
        -1.5238607537000002,
        -1.4771942340000002,
        29,
        30.962299914387533,
        32.44249598824875,
        33.24696820511287,
        33.376888531566586,
        32.96999040272959,
        32.231553651969115,
        31.375710932475293,
        30.588525874350633,
        30.012075962675382,
        29.743368593222783,
        29.841531799753223,
        30.33821737276967,
        31.247927701600666,
        32.576525762093475,
        34.32730444518984,
        36.50466362917244
       ]
      }
     },
     "7cbd0be520734ecc87367b59ce1ff9b4": {
      "model_module": "ipysheet",
      "model_module_version": "~0.5.0",
      "model_name": "CellRangeModel",
      "state": {
       "_view_module": null,
       "_view_module_version": "",
       "column_end": 27,
       "column_start": 27,
       "row_end": 5,
       "row_start": 0,
       "squeeze_row": false,
       "type": "numeric",
       "value": [
        70.49084057787817,
        70.49084057787817,
        70.49084057787817,
        0,
        0,
        0
       ]
      }
     },
     "7d317a6b6b0d450581ae95ba5610214a": {
      "model_module": "@jupyter-widgets/base",
      "model_module_version": "1.2.0",
      "model_name": "LayoutModel",
      "state": {
       "height": "auto",
       "width": "auto"
      }
     },
     "7d36ec5b3c3448e2b10e60602be2eb47": {
      "model_module": "ipysheet",
      "model_module_version": "~0.5.0",
      "model_name": "CellRangeModel",
      "state": {
       "_view_module": null,
       "_view_module_version": "",
       "column_end": 9,
       "column_start": 9,
       "row_end": 5,
       "row_start": 0,
       "squeeze_row": false,
       "type": "numeric",
       "value": [
        32.231553651969115,
        32.231553651969115,
        32.231553651969115,
        0,
        0,
        0
       ]
      }
     },
     "7da78faeccab426c8b9fa78dfaace441": {
      "model_module": "ipysheet",
      "model_module_version": "~0.5.0",
      "model_name": "CellRangeModel",
      "state": {
       "_view_module": null,
       "_view_module_version": "",
       "column_end": 5,
       "column_start": 5,
       "row_end": 9,
       "row_start": 0,
       "squeeze_row": false,
       "type": "numeric",
       "value": [
        0,
        0,
        0,
        0,
        0,
        0,
        0,
        0,
        0,
        0
       ]
      }
     },
     "7dd519372fce4c45b07835f46f679de3": {
      "model_module": "ipysheet",
      "model_module_version": "~0.5.0",
      "model_name": "CellRangeModel",
      "state": {
       "_view_module": null,
       "_view_module_version": "",
       "column_end": 3,
       "column_start": 3,
       "row_end": 83,
       "row_start": 0,
       "squeeze_row": false,
       "type": "numeric",
       "value": [
        0,
        0,
        0,
        0,
        0,
        0,
        0,
        0,
        0,
        0,
        0,
        0,
        0,
        0,
        0,
        0,
        0,
        0,
        0,
        0,
        0,
        0,
        0,
        0,
        0,
        0,
        0,
        0,
        0,
        0,
        0,
        0,
        0,
        0,
        0,
        0,
        0,
        0,
        0,
        0,
        0,
        0,
        0,
        0,
        0,
        0,
        0,
        0,
        0,
        0,
        0,
        0,
        0,
        0,
        0,
        0,
        0,
        0,
        0,
        0,
        0,
        0,
        0,
        0,
        0,
        0,
        0,
        0,
        0,
        0,
        0,
        0,
        0,
        0,
        0,
        0,
        0,
        0,
        0,
        0,
        0,
        0,
        0,
        -2385.7130906367056
       ]
      }
     },
     "7e4da5ccde4b45d8aee332f0023a261b": {
      "model_module": "ipysheet",
      "model_module_version": "~0.5.0",
      "model_name": "CellRangeModel",
      "state": {
       "_view_module": null,
       "_view_module_version": "",
       "column_end": 0,
       "column_start": 0,
       "row_end": 5,
       "row_start": 0,
       "squeeze_row": false,
       "type": "numeric",
       "value": [
        0,
        -1.3423136273,
        -24.8253879556,
        0,
        0,
        0
       ]
      }
     },
     "7e8abcf2910842a09ced8c3f1713772e": {
      "model_module": "ipysheet",
      "model_module_version": "~0.5.0",
      "model_name": "CellRangeModel",
      "state": {
       "_view_module": null,
       "_view_module_version": "",
       "column_end": 64,
       "column_start": 64,
       "row_end": 5,
       "row_start": 0,
       "squeeze_row": false,
       "type": "numeric",
       "value": [
        833.2577350500592,
        833.2577350500592,
        833.2577350500592,
        0,
        0,
        0
       ]
      }
     },
     "7f5d44ff55754f7d98b61c21f280d54a": {
      "model_module": "ipysheet",
      "model_module_version": "~0.5.0",
      "model_name": "CellRangeModel",
      "state": {
       "_view_module": null,
       "_view_module_version": "",
       "column_end": 79,
       "column_start": 79,
       "row_end": 5,
       "row_start": 0,
       "squeeze_row": false,
       "type": "numeric",
       "value": [
        1917.8262010407407,
        1917.8262010407407,
        1917.8262010407407,
        0,
        0,
        0
       ]
      }
     },
     "7f73270bf1564197b161b197ca9eb957": {
      "model_module": "ipysheet",
      "model_module_version": "~0.5.0",
      "model_name": "CellRangeModel",
      "state": {
       "_view_module": null,
       "_view_module_version": "",
       "column_end": 8,
       "column_start": 8,
       "row_end": 83,
       "row_start": 0,
       "squeeze_row": false,
       "type": "numeric",
       "value": [
        0,
        0,
        0,
        0,
        0,
        0,
        0,
        0,
        0,
        0,
        0,
        0,
        0,
        0,
        0,
        0,
        0,
        0,
        0,
        0,
        0,
        0,
        0,
        0,
        0,
        0,
        0,
        0,
        0,
        0,
        0,
        0,
        0,
        0,
        0,
        0,
        0,
        0,
        0,
        0,
        0,
        0,
        0,
        0,
        0,
        0,
        0,
        0,
        0,
        0,
        0,
        0,
        0,
        0,
        0,
        0,
        0,
        0,
        0,
        0,
        0,
        0,
        0,
        0,
        0,
        0,
        0,
        0,
        0,
        0,
        0,
        0,
        0,
        0,
        0,
        0,
        0,
        0,
        0,
        0,
        0,
        0,
        0,
        -2437.0365284887057
       ]
      }
     },
     "7fccaac4a02f4961807f8fe5c494021d": {
      "model_module": "ipysheet",
      "model_module_version": "~0.5.0",
      "model_name": "CellRangeModel",
      "state": {
       "_view_module": null,
       "_view_module_version": "",
       "column_end": 6,
       "column_start": 6,
       "row_end": 5,
       "row_start": 0,
       "squeeze_row": false,
       "type": "numeric",
       "value": [
        33.24696820511287,
        33.24696820511287,
        33.24696820511287,
        0,
        0,
        0
       ]
      }
     },
     "80c62c65cfdb4ac5b73edb92cab36fd4": {
      "model_module": "ipysheet",
      "model_module_version": "~0.5.0",
      "model_name": "CellRangeModel",
      "state": {
       "_view_module": null,
       "_view_module_version": "",
       "column_end": 25,
       "column_start": 25,
       "row_end": 5,
       "row_start": 0,
       "squeeze_row": false,
       "type": "numeric",
       "value": [
        59.08002596329259,
        59.08002596329259,
        59.08002596329259,
        0,
        0,
        0
       ]
      }
     },
     "80ece941bd65418398b689882fecfadc": {
      "model_module": "ipysheet",
      "model_module_version": "~0.5.0",
      "model_name": "CellRangeModel",
      "state": {
       "_view_module": null,
       "_view_module_version": "",
       "column_end": 6,
       "column_start": 6,
       "row_end": 19,
       "row_start": 0,
       "squeeze_row": false,
       "type": "numeric",
       "value": [
        0,
        0,
        0,
        0,
        0,
        0,
        0,
        0,
        0,
        0,
        0,
        0,
        0,
        0,
        0,
        0,
        0,
        0,
        0,
        0
       ]
      }
     },
     "80fed3c4d0824a889a7f451884356c1c": {
      "model_module": "ipysheet",
      "model_module_version": "~0.5.0",
      "model_name": "CellRangeModel",
      "state": {
       "_view_module": null,
       "_view_module_version": "",
       "column_end": 19,
       "column_start": 19,
       "row_end": 5,
       "row_start": 0,
       "squeeze_row": false,
       "type": "numeric",
       "value": [
        36.50466362917244,
        36.50466362917244,
        36.50466362917244,
        0,
        0,
        0
       ]
      }
     },
     "8188980af7904ae2b5add05bd397388d": {
      "model_module": "ipysheet",
      "model_module_version": "~0.5.0",
      "model_name": "CellRangeModel",
      "state": {
       "_view_module": null,
       "_view_module_version": "",
       "column_end": 21,
       "column_start": 21,
       "row_end": 5,
       "row_start": 0,
       "squeeze_row": false,
       "type": "numeric",
       "value": [
        42.17082531425412,
        42.17082531425412,
        42.17082531425412,
        0,
        0,
        0
       ]
      }
     },
     "82599ec925c646369486040e41885023": {
      "model_module": "ipysheet",
      "model_module_version": "~0.5.0",
      "model_name": "CellRangeModel",
      "state": {
       "_view_module": null,
       "_view_module_version": "",
       "column_end": 17,
       "column_start": 17,
       "row_end": 5,
       "row_start": 0,
       "squeeze_row": false,
       "type": "numeric",
       "value": [
        32.576525762093475,
        32.576525762093475,
        32.576525762093475,
        0,
        0,
        0
       ]
      }
     },
     "827ba2219eea472588f9cbf65aa80a4d": {
      "model_module": "ipysheet",
      "model_module_version": "~0.5.0",
      "model_name": "CellRangeModel",
      "state": {
       "_view_module": null,
       "_view_module_version": "",
       "column_end": 60,
       "column_start": 60,
       "row_end": 5,
       "row_start": 0,
       "squeeze_row": false,
       "type": "numeric",
       "value": [
        662.102973592713,
        662.102973592713,
        662.102973592713,
        0,
        0,
        0
       ]
      }
     },
     "8512907c80134279ab98d22875e22eda": {
      "model_module": "ipysheet",
      "model_module_version": "~0.5.0",
      "model_name": "CellRangeModel",
      "state": {
       "_view_module": null,
       "_view_module_version": "",
       "column_end": 38,
       "column_start": 38,
       "row_end": 5,
       "row_start": 0,
       "squeeze_row": false,
       "type": "numeric",
       "value": [
        168.42235431629328,
        168.42235431629328,
        168.42235431629328,
        0,
        0,
        0
       ]
      }
     },
     "85221660cd6347c5aaaaf0845ced0bff": {
      "model_module": "@jupyter-widgets/base",
      "model_module_version": "1.2.0",
      "model_name": "LayoutModel",
      "state": {
       "height": "auto",
       "width": "auto"
      }
     },
     "85502c10576a46ba9b848f240d855ed2": {
      "model_module": "ipysheet",
      "model_module_version": "~0.5.0",
      "model_name": "CellRangeModel",
      "state": {
       "_view_module": null,
       "_view_module_version": "",
       "column_end": 0,
       "column_start": 0,
       "row_end": 9,
       "row_start": 0,
       "squeeze_row": false,
       "type": "numeric",
       "value": [
        0,
        0,
        0,
        2960,
        30.962299914387533,
        32.44249598824875,
        33.24696820511287,
        33.376888531566586,
        32.96999040272959,
        32.231553651969115
       ]
      }
     },
     "857e65d414044012ae16b6ddcb79c9cb": {
      "model_module": "ipysheet",
      "model_module_version": "~0.5.0",
      "model_name": "CellRangeModel",
      "state": {
       "_view_module": null,
       "_view_module_version": "",
       "column_end": 5,
       "column_start": 5,
       "row_end": 5,
       "row_start": 0,
       "squeeze_row": false,
       "type": "numeric",
       "value": [
        32.44249598824875,
        32.44249598824875,
        32.44249598824875,
        0,
        0,
        0
       ]
      }
     },
     "867b6c8b0395473492c0880caa084f68": {
      "model_module": "ipysheet",
      "model_module_version": "~0.5.0",
      "model_name": "CellRangeModel",
      "state": {
       "_view_module": null,
       "_view_module_version": "",
       "column_end": 44,
       "column_start": 44,
       "row_end": 5,
       "row_start": 0,
       "squeeze_row": false,
       "type": "numeric",
       "value": [
        250.47135525729558,
        250.47135525729558,
        250.47135525729558,
        0,
        0,
        0
       ]
      }
     },
     "86fe6506f4ff4066aaf620c3c41df611": {
      "model_module": "ipysheet",
      "model_module_version": "~0.5.0",
      "model_name": "CellRangeModel",
      "state": {
       "_view_module": null,
       "_view_module_version": "",
       "column_end": 47,
       "column_start": 47,
       "row_end": 5,
       "row_start": 0,
       "squeeze_row": false,
       "type": "numeric",
       "value": [
        302.62045919688654,
        302.62045919688654,
        302.62045919688654,
        0,
        0,
        0
       ]
      }
     },
     "8714172941994631862aec364a19af4b": {
      "model_module": "ipysheet",
      "model_module_version": "~0.5.0",
      "model_name": "CellRangeModel",
      "state": {
       "_view_module": null,
       "_view_module_version": "",
       "column_end": 82,
       "column_start": 82,
       "row_end": 5,
       "row_start": 0,
       "squeeze_row": false,
       "type": "numeric",
       "value": [
        2259.229618868826,
        2259.229618868826,
        2259.229618868826,
        0,
        0,
        0
       ]
      }
     },
     "87390008364646f1bc9464fc5a810e14": {
      "model_module": "ipysheet",
      "model_module_version": "~0.5.0",
      "model_name": "CellRangeModel",
      "state": {
       "_view_module": null,
       "_view_module_version": "",
       "column_end": 8,
       "column_start": 8,
       "row_end": 5,
       "row_start": 0,
       "squeeze_row": false,
       "type": "numeric",
       "value": [
        32.96999040272959,
        32.96999040272959,
        32.96999040272959,
        0,
        0,
        0
       ]
      }
     },
     "8862f132d46e462a9bcf9a27ea7bb1c8": {
      "model_module": "ipysheet",
      "model_module_version": "~0.5.0",
      "model_name": "CellRangeModel",
      "state": {
       "_view_module": null,
       "_view_module_version": "",
       "column_end": 22,
       "column_start": 22,
       "row_end": 5,
       "row_start": 0,
       "squeeze_row": false,
       "type": "numeric",
       "value": [
        45.682103936433016,
        45.682103936433016,
        45.682103936433016,
        0,
        0,
        0
       ]
      }
     },
     "8b9340b577164025b3a9114d123177a1": {
      "model_module": "@jupyter-widgets/controls",
      "model_module_version": "1.5.0",
      "model_name": "LabelModel",
      "state": {
       "layout": "IPY_MODEL_b27a71aca21a4b8d8c5a3900c0576f2e",
       "style": "IPY_MODEL_b8d6f86cfdb445c68e9657c2109f3e28",
       "value": "Check real taxrates "
      }
     },
     "8d2dce7711e842df9b6dafc9841b05e3": {
      "model_module": "@jupyter-widgets/controls",
      "model_module_version": "1.5.0",
      "model_name": "LabelModel",
      "state": {
       "layout": "IPY_MODEL_4a0be9c1e7914ea88485c3ee3e5046f1",
       "style": "IPY_MODEL_cb250a2732ce412dbfccc0e633e3d02a",
       "value": "Check real taxrates "
      }
     },
     "8dd21f02d0074882a4f46683e7538173": {
      "model_module": "ipysheet",
      "model_module_version": "~0.5.0",
      "model_name": "CellRangeModel",
      "state": {
       "_view_module": null,
       "_view_module_version": "",
       "column_end": 2,
       "column_start": 2,
       "row_end": 19,
       "row_start": 0,
       "squeeze_row": false,
       "type": "numeric",
       "value": [
        -24.8253879556,
        -52.0470635763,
        -51.323437852,
        29,
        30.962299914387533,
        32.44249598824875,
        33.24696820511287,
        33.376888531566586,
        32.96999040272959,
        32.231553651969115,
        31.375710932475293,
        30.588525874350633,
        30.012075962675382,
        29.743368593222783,
        29.841531799753223,
        30.33821737276967,
        31.247927701600666,
        32.576525762093475,
        34.32730444518984,
        36.50466362917244
       ]
      }
     },
     "8f5a8fc9e9d040d98103511a73cb6e40": {
      "model_module": "ipysheet",
      "model_module_version": "~0.5.0",
      "model_name": "CellRangeModel",
      "state": {
       "_view_module": null,
       "_view_module_version": "",
       "column_end": 61,
       "column_start": 61,
       "row_end": 5,
       "row_start": 0,
       "squeeze_row": false,
       "type": "numeric",
       "value": [
        701.5886499590331,
        701.5886499590331,
        701.5886499590331,
        0,
        0,
        0
       ]
      }
     },
     "8fc659b555084450bd9b0a9f1cb15b90": {
      "model_module": "ipysheet",
      "model_module_version": "~0.5.0",
      "model_name": "CellRangeModel",
      "state": {
       "_view_module": null,
       "_view_module_version": "",
       "column_end": 2,
       "column_start": 2,
       "row_end": 83,
       "row_start": 0,
       "squeeze_row": false,
       "type": "numeric",
       "value": [
        -24.8253879556,
        -52.0470635763,
        -51.323437852,
        29,
        30.962299914387533,
        32.44249598824875,
        33.24696820511287,
        33.376888531566586,
        32.96999040272959,
        32.231553651969115,
        31.375710932475293,
        30.588525874350633,
        30.012075962675382,
        29.743368593222783,
        29.841531799753223,
        30.33821737276967,
        31.247927701600666,
        32.576525762093475,
        34.32730444518984,
        36.50466362917244,
        39.115786461210824,
        42.17082531425412,
        45.682103936433016,
        49.662775816838185,
        54.12530052734099,
        59.08002596329259,
        64.5340953790679,
        70.49084057787817,
        76.94974599908977,
        83.90699214421947,
        91.35651571492613,
        99.29145851990795,
        107.70583684993105,
        116.59624834436467,
        125.96343847838794,
        135.81360232991884,
        146.15931469144877,
        157.0200596023539,
        168.42235431629328,
        180.3995190473268,
        192.99115817586406,
        206.24243683030022,
        220.2032424052525,
        234.92730603330153,
        250.47135525729558,
        266.8943502458763,
        284.2568388964308,
        302.62045919688654,
        322.0475918217781,
        342.60117574515783,
        364.34466923450634,
        387.34215855422906,
        411.6585919128501,
        437.360128982038,
        464.5145857262626,
        493.19196622749934,
        523.4650423762466,
        555.4099953659602,
        589.1070737377698,
        624.6412672417739,
        662.102973592713,
        701.5886499590331,
        743.2014350037208,
        787.0517293504159,
        833.2577350500592,
        881.945942022937,
        933.2515683881917,
        987.3189483257986,
        1044.3018757439704,
        1104.3639093580737,
        1167.6786423115814,
        1234.4299868066644,
        1304.8123455348198,
        1379.030932404489,
        1457.301994626762,
        1539.8531064172703,
        1626.9235022287464,
        1718.7644609189404,
        1815.6397584550245,
        1917.8262010407407,
        2025.614244719777,
        2139.308713280133,
        2259.229618868826,
        -51.323437852
       ]
      }
     },
     "8ff0d05dfac3406c9b80d6e55f3c8cff": {
      "model_module": "@jupyter-widgets/controls",
      "model_module_version": "1.5.0",
      "model_name": "VBoxModel",
      "state": {
       "children": [
        "IPY_MODEL_58c8ba59d6fa46e686c8992919ff484f",
        "IPY_MODEL_eb7400a5ff894a0bac82dd68a46df8a6"
       ],
       "layout": "IPY_MODEL_bbda0abff7f94e7f853e8edab27dfb33"
      }
     },
     "9250db8abdf1426694a4eb8e088bcbe4": {
      "model_module": "ipysheet",
      "model_module_version": "~0.5.0",
      "model_name": "CellRangeModel",
      "state": {
       "_view_module": null,
       "_view_module_version": "",
       "column_end": 29,
       "column_start": 29,
       "row_end": 5,
       "row_start": 0,
       "squeeze_row": false,
       "type": "numeric",
       "value": [
        83.90699214421947,
        83.90699214421947,
        83.90699214421947,
        0,
        0,
        0
       ]
      }
     },
     "92dfce08e4d643af848ae7d48eee171c": {
      "model_module": "ipysheet",
      "model_module_version": "~0.5.0",
      "model_name": "CellRangeModel",
      "state": {
       "_view_module": null,
       "_view_module_version": "",
       "column_end": 41,
       "column_start": 41,
       "row_end": 5,
       "row_start": 0,
       "squeeze_row": false,
       "type": "numeric",
       "value": [
        206.24243683030022,
        206.24243683030022,
        206.24243683030022,
        0,
        0,
        0
       ]
      }
     },
     "933f0d087bf4430c96cb45f7c441237b": {
      "model_module": "ipysheet",
      "model_module_version": "~0.5.0",
      "model_name": "CellRangeModel",
      "state": {
       "_view_module": null,
       "_view_module_version": "",
       "column_end": 6,
       "column_start": 6,
       "row_end": 5,
       "row_start": 0,
       "squeeze_row": false,
       "type": "numeric",
       "value": [
        33.24696820511287,
        33.24696820511287,
        33.24696820511287,
        0,
        0,
        0
       ]
      }
     },
     "93421f7170164cf1849e828505bc063b": {
      "model_module": "ipysheet",
      "model_module_version": "~0.5.0",
      "model_name": "CellRangeModel",
      "state": {
       "_view_module": null,
       "_view_module_version": "",
       "column_end": 65,
       "column_start": 65,
       "row_end": 5,
       "row_start": 0,
       "squeeze_row": false,
       "type": "numeric",
       "value": [
        881.945942022937,
        881.945942022937,
        881.945942022937,
        0,
        0,
        0
       ]
      }
     },
     "93752b25c7b14db2ad751c1434beedec": {
      "model_module": "ipysheet",
      "model_module_version": "~0.5.0",
      "model_name": "CellRangeModel",
      "state": {
       "_view_module": null,
       "_view_module_version": "",
       "column_end": 30,
       "column_start": 30,
       "row_end": 5,
       "row_start": 0,
       "squeeze_row": false,
       "type": "numeric",
       "value": [
        91.35651571492613,
        91.35651571492613,
        91.35651571492613,
        0,
        0,
        0
       ]
      }
     },
     "943ffaa1b5e446a7b7d9543538c0be3a": {
      "model_module": "@jupyter-widgets/base",
      "model_module_version": "1.2.0",
      "model_name": "LayoutModel",
      "state": {
       "width": "54%"
      }
     },
     "9477fe1dc8c146e29dce45e6bd265d1d": {
      "model_module": "ipysheet",
      "model_module_version": "~0.5.0",
      "model_name": "CellRangeModel",
      "state": {
       "_view_module": null,
       "_view_module_version": "",
       "column_end": 5,
       "column_start": 5,
       "row_end": 19,
       "row_start": 0,
       "squeeze_row": false,
       "type": "numeric",
       "value": [
        0,
        0,
        0,
        0,
        0,
        0,
        0,
        0,
        0,
        0,
        0,
        0,
        0,
        0,
        0,
        0,
        0,
        0,
        0,
        0
       ]
      }
     },
     "9608c9e083cf48f18d4813c5d3a10460": {
      "model_module": "ipysheet",
      "model_module_version": "~0.5.0",
      "model_name": "CellRangeModel",
      "state": {
       "_view_module": null,
       "_view_module_version": "",
       "column_end": 10,
       "column_start": 10,
       "row_end": 5,
       "row_start": 0,
       "squeeze_row": false,
       "type": "numeric",
       "value": [
        31.375710932475293,
        31.375710932475293,
        31.375710932475293,
        0,
        0,
        0
       ]
      }
     },
     "9622f2e47c4a40c294ca90360de7fe59": {
      "model_module": "ipysheet",
      "model_module_version": "~0.5.0",
      "model_name": "SheetModel",
      "state": {
       "cells": [
        "IPY_MODEL_acb165e4347f41c88b069746f0aca568",
        "IPY_MODEL_c84b84aea7594a8e9e3d010cd1f944be",
        "IPY_MODEL_3cf8c3e0cd46405e84c6d24d843acd5e",
        "IPY_MODEL_3ac164ef94aa4c4c8716b2e96967c0be",
        "IPY_MODEL_fa0f8d2d013e409e8312c28b2e9f0556",
        "IPY_MODEL_61338c0ebaee44fc9c36a78754125f42"
       ],
       "column_headers": [
        "('New Method', 'PAKGGREVCO2CER')",
        "('New Method', 'PAKGGREVCO2OER')",
        "('New Method', 'PAKGGREVCO2GER')",
        "('Difference', 'PAKGGREVCO2CER')",
        "('Difference', 'PAKGGREVCO2OER')",
        "('Difference', 'PAKGGREVCO2GER')"
       ],
       "columns": 6,
       "layout": "IPY_MODEL_5c7aff07ca1043b89c78b11a9c8c044b",
       "row_headers": [
        "2017",
        "2018",
        "2019",
        "2020",
        "2021",
        "2022",
        "2023",
        "2024",
        "2025",
        "2026"
       ],
       "rows": 10
      }
     },
     "96f908bfb22f490980269a9ba7134017": {
      "model_module": "ipysheet",
      "model_module_version": "~0.5.0",
      "model_name": "CellRangeModel",
      "state": {
       "_view_module": null,
       "_view_module_version": "",
       "column_end": 8,
       "column_start": 8,
       "row_end": 5,
       "row_start": 0,
       "squeeze_row": false,
       "type": "numeric",
       "value": [
        32.96999040272959,
        32.96999040272959,
        32.96999040272959,
        0,
        0,
        0
       ]
      }
     },
     "97e0d67dd9f24ca6ab0cc9d257a8657f": {
      "model_module": "ipysheet",
      "model_module_version": "~0.5.0",
      "model_name": "SheetModel",
      "state": {
       "cells": [
        "IPY_MODEL_b8688288630c42f5a8d8ea51c3a00c50",
        "IPY_MODEL_dafa6d03df2240629a6efe2a346dffac",
        "IPY_MODEL_5535ae4ccb714c3a854acabb12979a7d",
        "IPY_MODEL_7dd519372fce4c45b07835f46f679de3",
        "IPY_MODEL_c83420b077f14789bd4c61138d8e9009",
        "IPY_MODEL_e3f53257660a481ca33e34c9d3854fef"
       ],
       "column_headers": [
        "('New Method', 'PAKGGREVCO2CER')",
        "('New Method', 'PAKGGREVCO2OER')",
        "('New Method', 'PAKGGREVCO2GER')",
        "('Difference', 'PAKGGREVCO2CER')",
        "('Difference', 'PAKGGREVCO2OER')",
        "('Difference', 'PAKGGREVCO2GER')"
       ],
       "columns": 6,
       "layout": "IPY_MODEL_0ec88b2ad40e411fa60b8bbc528c5f5e",
       "row_headers": [
        "2017",
        "2018",
        "2019",
        "2020",
        "2021",
        "2022",
        "2023",
        "2024",
        "2025",
        "2026",
        "2027",
        "2028",
        "2029",
        "2030",
        "2031",
        "2032",
        "2033",
        "2034",
        "2035",
        "2036",
        "2037",
        "2038",
        "2039",
        "2040",
        "2041",
        "2042",
        "2043",
        "2044",
        "2045",
        "2046",
        "2047",
        "2048",
        "2049",
        "2050",
        "2051",
        "2052",
        "2053",
        "2054",
        "2055",
        "2056",
        "2057",
        "2058",
        "2059",
        "2060",
        "2061",
        "2062",
        "2063",
        "2064",
        "2065",
        "2066",
        "2067",
        "2068",
        "2069",
        "2070",
        "2071",
        "2072",
        "2073",
        "2074",
        "2075",
        "2076",
        "2077",
        "2078",
        "2079",
        "2080",
        "2081",
        "2082",
        "2083",
        "2084",
        "2085",
        "2086",
        "2087",
        "2088",
        "2089",
        "2090",
        "2091",
        "2092",
        "2093",
        "2094",
        "2095",
        "2096",
        "2097",
        "2098",
        "2099",
        "2100"
       ],
       "rows": 84
      }
     },
     "97e50bbcf9ee4da4995cc1449cae8d7d": {
      "model_module": "ipysheet",
      "model_module_version": "~0.5.0",
      "model_name": "CellRangeModel",
      "state": {
       "_view_module": null,
       "_view_module_version": "",
       "column_end": 49,
       "column_start": 49,
       "row_end": 5,
       "row_start": 0,
       "squeeze_row": false,
       "type": "numeric",
       "value": [
        342.60117574515783,
        342.60117574515783,
        342.60117574515783,
        0,
        0,
        0
       ]
      }
     },
     "980f491e30a54b09a81c36bffee62660": {
      "model_module": "ipysheet",
      "model_module_version": "~0.5.0",
      "model_name": "CellRangeModel",
      "state": {
       "_view_module": null,
       "_view_module_version": "",
       "column_end": 0,
       "column_start": 0,
       "row_end": 83,
       "row_start": 0,
       "squeeze_row": false,
       "type": "numeric",
       "value": [
        0,
        0,
        0,
        29,
        30.962299914387533,
        32.44249598824875,
        33.24696820511287,
        33.376888531566586,
        32.96999040272959,
        32.231553651969115,
        31.375710932475293,
        30.588525874350633,
        30.012075962675382,
        29.743368593222783,
        29.841531799753223,
        30.33821737276967,
        31.247927701600666,
        32.576525762093475,
        34.32730444518984,
        36.50466362917244,
        39.115786461210824,
        42.17082531425412,
        45.682103936433016,
        49.662775816838185,
        54.12530052734099,
        59.08002596329259,
        64.5340953790679,
        70.49084057787817,
        76.94974599908977,
        83.90699214421947,
        91.35651571492613,
        99.29145851990795,
        107.70583684993105,
        116.59624834436467,
        125.96343847838794,
        135.81360232991884,
        146.15931469144877,
        157.0200596023539,
        168.42235431629328,
        180.3995190473268,
        192.99115817586406,
        206.24243683030022,
        220.2032424052525,
        234.92730603330153,
        250.47135525729558,
        266.8943502458763,
        284.2568388964308,
        302.62045919688654,
        322.0475918217781,
        342.60117574515783,
        364.34466923450634,
        387.34215855422906,
        411.6585919128501,
        437.360128982038,
        464.5145857262626,
        493.19196622749934,
        523.4650423762466,
        555.4099953659602,
        589.1070737377698,
        624.6412672417739,
        662.102973592713,
        701.5886499590331,
        743.2014350037208,
        787.0517293504159,
        833.2577350500592,
        881.945942022937,
        933.2515683881917,
        987.3189483257986,
        1044.3018757439704,
        1104.3639093580737,
        1167.6786423115814,
        1234.4299868066644,
        1304.8123455348198,
        1379.030932404489,
        1457.301994626762,
        1539.8531064172703,
        1626.9235022287464,
        1718.7644609189404,
        1815.6397584550245,
        1917.8262010407407,
        2025.614244719777,
        2139.308713280133,
        2259.229618868826,
        0
       ]
      }
     },
     "98922790a82c4614b5dae67b7d88da97": {
      "model_module": "ipysheet",
      "model_module_version": "~0.5.0",
      "model_name": "CellRangeModel",
      "state": {
       "_view_module": null,
       "_view_module_version": "",
       "column_end": 24,
       "column_start": 24,
       "row_end": 5,
       "row_start": 0,
       "squeeze_row": false,
       "type": "numeric",
       "value": [
        54.12530052734099,
        54.12530052734099,
        54.12530052734099,
        0,
        0,
        0
       ]
      }
     },
     "993175f4d6a643fcb4c0a46075d6e318": {
      "model_module": "ipysheet",
      "model_module_version": "~0.5.0",
      "model_name": "CellRangeModel",
      "state": {
       "_view_module": null,
       "_view_module_version": "",
       "column_end": 7,
       "column_start": 7,
       "row_end": 83,
       "row_start": 0,
       "squeeze_row": false,
       "type": "numeric",
       "value": [
        0,
        0,
        0,
        0,
        0,
        0,
        0,
        0,
        0,
        0,
        0,
        0,
        0,
        0,
        0,
        0,
        0,
        0,
        0,
        0,
        0,
        0,
        0,
        0,
        0,
        0,
        0,
        0,
        0,
        0,
        0,
        0,
        0,
        0,
        0,
        0,
        0,
        0,
        0,
        0,
        0,
        0,
        0,
        0,
        0,
        0,
        0,
        0,
        0,
        0,
        0,
        0,
        0,
        0,
        0,
        0,
        0,
        0,
        0,
        0,
        0,
        0,
        0,
        0,
        0,
        0,
        0,
        0,
        0,
        0,
        0,
        0,
        0,
        0,
        0,
        0,
        0,
        0,
        0,
        0,
        0,
        0,
        0,
        -2387.1902848707055
       ]
      }
     },
     "9ba615d3a21c4105a526a5fb9bf41f47": {
      "model_module": "ipysheet",
      "model_module_version": "~0.5.0",
      "model_name": "CellRangeModel",
      "state": {
       "_view_module": null,
       "_view_module_version": "",
       "column_end": 2,
       "column_start": 2,
       "row_end": 83,
       "row_start": 0,
       "squeeze_row": false,
       "type": "numeric",
       "value": [
        -24.8253879556,
        -52.0470635763,
        -51.323437852,
        29,
        30.962299914387533,
        32.44249598824875,
        33.24696820511287,
        33.376888531566586,
        32.96999040272959,
        32.231553651969115,
        31.375710932475293,
        30.588525874350633,
        30.012075962675382,
        29.743368593222783,
        29.841531799753223,
        30.33821737276967,
        31.247927701600666,
        32.576525762093475,
        34.32730444518984,
        36.50466362917244,
        39.115786461210824,
        42.17082531425412,
        45.682103936433016,
        49.662775816838185,
        54.12530052734099,
        59.08002596329259,
        64.5340953790679,
        70.49084057787817,
        76.94974599908977,
        83.90699214421947,
        91.35651571492613,
        99.29145851990795,
        107.70583684993105,
        116.59624834436467,
        125.96343847838794,
        135.81360232991884,
        146.15931469144877,
        157.0200596023539,
        168.42235431629328,
        180.3995190473268,
        192.99115817586406,
        206.24243683030022,
        220.2032424052525,
        234.92730603330153,
        250.47135525729558,
        266.8943502458763,
        284.2568388964308,
        302.62045919688654,
        322.0475918217781,
        342.60117574515783,
        364.34466923450634,
        387.34215855422906,
        411.6585919128501,
        437.360128982038,
        464.5145857262626,
        493.19196622749934,
        523.4650423762466,
        555.4099953659602,
        589.1070737377698,
        624.6412672417739,
        662.102973592713,
        701.5886499590331,
        743.2014350037208,
        787.0517293504159,
        833.2577350500592,
        881.945942022937,
        933.2515683881917,
        987.3189483257986,
        1044.3018757439704,
        1104.3639093580737,
        1167.6786423115814,
        1234.4299868066644,
        1304.8123455348198,
        1379.030932404489,
        1457.301994626762,
        1539.8531064172703,
        1626.9235022287464,
        1718.7644609189404,
        1815.6397584550245,
        1917.8262010407407,
        2025.614244719777,
        2139.308713280133,
        2259.229618868826,
        -51.323437852
       ]
      }
     },
     "9c544f1732f542cbbdd5b13c4c962b74": {
      "model_module": "ipysheet",
      "model_module_version": "~0.5.0",
      "model_name": "CellRangeModel",
      "state": {
       "_view_module": null,
       "_view_module_version": "",
       "column_end": 56,
       "column_start": 56,
       "row_end": 5,
       "row_start": 0,
       "squeeze_row": false,
       "type": "numeric",
       "value": [
        523.4650423762466,
        523.4650423762466,
        523.4650423762466,
        0,
        0,
        0
       ]
      }
     },
     "9cb651b0392a4911ab30579f7e81574a": {
      "model_module": "ipysheet",
      "model_module_version": "~0.5.0",
      "model_name": "CellRangeModel",
      "state": {
       "_view_module": null,
       "_view_module_version": "",
       "column_end": 2,
       "column_start": 2,
       "row_end": 19,
       "row_start": 0,
       "squeeze_row": false,
       "type": "numeric",
       "value": [
        -24.8253879556,
        -52.0470635763,
        -51.323437852,
        29,
        30.962299914387533,
        32.44249598824875,
        33.24696820511287,
        33.376888531566586,
        32.96999040272959,
        32.231553651969115,
        31.375710932475293,
        30.588525874350633,
        30.012075962675382,
        29.743368593222783,
        29.841531799753223,
        30.33821737276967,
        31.247927701600666,
        32.576525762093475,
        34.32730444518984,
        36.50466362917244
       ]
      }
     },
     "9d01620bed864080b46ca63b293e8c6c": {
      "model_module": "ipysheet",
      "model_module_version": "~0.5.0",
      "model_name": "CellRangeModel",
      "state": {
       "_view_module": null,
       "_view_module_version": "",
       "column_end": 10,
       "column_start": 10,
       "row_end": 5,
       "row_start": 0,
       "squeeze_row": false,
       "type": "numeric",
       "value": [
        31.375710932475293,
        31.375710932475293,
        31.375710932475293,
        0,
        0,
        0
       ]
      }
     },
     "9d2506497f4041d286866cc60137fc42": {
      "model_module": "ipysheet",
      "model_module_version": "~0.5.0",
      "model_name": "CellRangeModel",
      "state": {
       "_view_module": null,
       "_view_module_version": "",
       "column_end": 0,
       "column_start": 0,
       "row_end": 5,
       "row_start": 0,
       "squeeze_row": false,
       "type": "numeric",
       "value": [
        0,
        -1.3423136273,
        -24.8253879556,
        0,
        0,
        0
       ]
      }
     },
     "9dfd80d1a26c4205a2ab42384f5c6cd0": {
      "model_module": "ipysheet",
      "model_module_version": "~0.5.0",
      "model_name": "CellRangeModel",
      "state": {
       "_view_module": null,
       "_view_module_version": "",
       "column_end": 80,
       "column_start": 80,
       "row_end": 5,
       "row_start": 0,
       "squeeze_row": false,
       "type": "numeric",
       "value": [
        2025.614244719777,
        2025.614244719777,
        2025.614244719777,
        0,
        0,
        0
       ]
      }
     },
     "9e654ecc99a54dce9ddd3fb92b492309": {
      "model_module": "ipysheet",
      "model_module_version": "~0.5.0",
      "model_name": "CellRangeModel",
      "state": {
       "_view_module": null,
       "_view_module_version": "",
       "column_end": 22,
       "column_start": 22,
       "row_end": 5,
       "row_start": 0,
       "squeeze_row": false,
       "type": "numeric",
       "value": [
        45.682103936433016,
        45.682103936433016,
        45.682103936433016,
        0,
        0,
        0
       ]
      }
     },
     "9e976e005ad74fa18de5c8473785a762": {
      "model_module": "ipysheet",
      "model_module_version": "~0.5.0",
      "model_name": "CellRangeModel",
      "state": {
       "_view_module": null,
       "_view_module_version": "",
       "column_end": 51,
       "column_start": 51,
       "row_end": 5,
       "row_start": 0,
       "squeeze_row": false,
       "type": "numeric",
       "value": [
        387.34215855422906,
        387.34215855422906,
        387.34215855422906,
        0,
        0,
        0
       ]
      }
     },
     "9ecfbcbc09e0476cb5f47ca8cd097582": {
      "model_module": "ipysheet",
      "model_module_version": "~0.5.0",
      "model_name": "CellRangeModel",
      "state": {
       "_view_module": null,
       "_view_module_version": "",
       "column_end": 41,
       "column_start": 41,
       "row_end": 5,
       "row_start": 0,
       "squeeze_row": false,
       "type": "numeric",
       "value": [
        206.24243683030022,
        206.24243683030022,
        206.24243683030022,
        0,
        0,
        0
       ]
      }
     },
     "9edd93f799894d61b6a6f99eea6dc832": {
      "model_module": "@jupyter-widgets/controls",
      "model_module_version": "1.5.0",
      "model_name": "LabelModel",
      "state": {
       "layout": "IPY_MODEL_c4181e4ddedd4a88875afe3fbcb9f684",
       "style": "IPY_MODEL_d9aea4570f084630b6f7fcc5a6261ff5",
       "value": "Carbon tax rate, US$ per tonn "
      }
     },
     "9f3af674c56a41668c5c4b894fc1492f": {
      "model_module": "@jupyter-widgets/controls",
      "model_module_version": "1.5.0",
      "model_name": "LabelModel",
      "state": {
       "layout": "IPY_MODEL_d3609c1d7b074ab5948eb1da51cf8708",
       "style": "IPY_MODEL_df2256f93f064062bf18436f6717d1dc",
       "value": "Check real taxrates "
      }
     },
     "9f4e319e9e1a4b1fa37c29d1c487dd96": {
      "model_module": "ipysheet",
      "model_module_version": "~0.5.0",
      "model_name": "CellRangeModel",
      "state": {
       "_view_module": null,
       "_view_module_version": "",
       "column_end": 66,
       "column_start": 66,
       "row_end": 5,
       "row_start": 0,
       "squeeze_row": false,
       "type": "numeric",
       "value": [
        933.2515683881917,
        933.2515683881917,
        933.2515683881917,
        0,
        0,
        0
       ]
      }
     },
     "9f4f5b112197486b80f2b117143c4faf": {
      "model_module": "ipysheet",
      "model_module_version": "~0.5.0",
      "model_name": "CellRangeModel",
      "state": {
       "_view_module": null,
       "_view_module_version": "",
       "column_end": 70,
       "column_start": 70,
       "row_end": 5,
       "row_start": 0,
       "squeeze_row": false,
       "type": "numeric",
       "value": [
        1167.6786423115814,
        1167.6786423115814,
        1167.6786423115814,
        0,
        0,
        0
       ]
      }
     },
     "a0c703055def49d4a93d1fc97918b824": {
      "model_module": "ipysheet",
      "model_module_version": "~0.5.0",
      "model_name": "CellRangeModel",
      "state": {
       "_view_module": null,
       "_view_module_version": "",
       "column_end": 36,
       "column_start": 36,
       "row_end": 5,
       "row_start": 0,
       "squeeze_row": false,
       "type": "numeric",
       "value": [
        146.15931469144877,
        146.15931469144877,
        146.15931469144877,
        0,
        0,
        0
       ]
      }
     },
     "a105b1fb22d841908e46da607808bd54": {
      "model_module": "ipysheet",
      "model_module_version": "~0.5.0",
      "model_name": "CellRangeModel",
      "state": {
       "_view_module": null,
       "_view_module_version": "",
       "row_end": 19,
       "row_start": 0,
       "squeeze_row": false,
       "type": "numeric",
       "value": [
        -1.3423136273,
        -1.5238607537000002,
        -1.4771942340000002,
        29,
        30.962299914387533,
        32.44249598824875,
        33.24696820511287,
        33.376888531566586,
        32.96999040272959,
        32.231553651969115,
        31.375710932475293,
        30.588525874350633,
        30.012075962675382,
        29.743368593222783,
        29.841531799753223,
        30.33821737276967,
        31.247927701600666,
        32.576525762093475,
        34.32730444518984,
        36.50466362917244
       ]
      }
     },
     "a127ca5be6484d4a8fc77c0791cec4b2": {
      "model_module": "ipysheet",
      "model_module_version": "~0.5.0",
      "model_name": "CellRangeModel",
      "state": {
       "_view_module": null,
       "_view_module_version": "",
       "column_end": 81,
       "column_start": 81,
       "row_end": 5,
       "row_start": 0,
       "squeeze_row": false,
       "type": "numeric",
       "value": [
        2139.308713280133,
        2139.308713280133,
        2139.308713280133,
        0,
        0,
        0
       ]
      }
     },
     "a17e755810184840a1cf6a9e3182ddf7": {
      "model_module": "ipysheet",
      "model_module_version": "~0.5.0",
      "model_name": "CellRangeModel",
      "state": {
       "_view_module": null,
       "_view_module_version": "",
       "column_end": 2,
       "column_start": 2,
       "row_end": 9,
       "row_start": 0,
       "squeeze_row": false,
       "type": "numeric",
       "value": [
        -24.8253879556,
        -52.0470635763,
        -51.323437852,
        29,
        30.962299914387533,
        32.44249598824875,
        33.24696820511287,
        33.376888531566586,
        32.96999040272959,
        32.231553651969115
       ]
      }
     },
     "a228d721d1954104a8bc5caed48a004b": {
      "model_module": "ipysheet",
      "model_module_version": "~0.5.0",
      "model_name": "CellRangeModel",
      "state": {
       "_view_module": null,
       "_view_module_version": "",
       "column_end": 7,
       "column_start": 7,
       "row_end": 19,
       "row_start": 0,
       "squeeze_row": false,
       "type": "numeric",
       "value": [
        0,
        0,
        0,
        0,
        0,
        0,
        0,
        0,
        0,
        0,
        0,
        0,
        0,
        0,
        0,
        0,
        0,
        0,
        0,
        0
       ]
      }
     },
     "a23310ccf16b490f9e2e9e423534c84f": {
      "model_module": "ipysheet",
      "model_module_version": "~0.5.0",
      "model_name": "SheetModel",
      "state": {
       "cells": [
        "IPY_MODEL_7e4da5ccde4b45d8aee332f0023a261b",
        "IPY_MODEL_4856f7b5202f4317b8d5033a8a654ac6",
        "IPY_MODEL_f126c2b54b3f4547b9b9917b7b861b2d",
        "IPY_MODEL_04e40613430f4902971149912f4cf0fb",
        "IPY_MODEL_3a062051c25c425899b656f5c5dc89b6",
        "IPY_MODEL_fbd6ccabdf124c5b9d63854948301778",
        "IPY_MODEL_e8ece835fe184c1a944cafbc92e6050a",
        "IPY_MODEL_75b740e60b134b7fbbfdb01ecb93f0e7",
        "IPY_MODEL_acd5d2c4f47d4c8b8ea3aad13c24cf92",
        "IPY_MODEL_e5727d002cfe4ca1b604d5f8a1f329b9",
        "IPY_MODEL_e44ffb5e140e4bf9896d77fbe08f1eec",
        "IPY_MODEL_178df9af3b69477f82683ebfedad116b",
        "IPY_MODEL_56c4508144994d6d9fe421e6a04e5803",
        "IPY_MODEL_5b1695576b194512ace430cd824b8b7d",
        "IPY_MODEL_1478230a1e984e60ac14a03e9012375d",
        "IPY_MODEL_cde0687ac0854cb0aa7e3389b7eccdc7",
        "IPY_MODEL_c4b56176e40641d59c8aba0be2cbded5",
        "IPY_MODEL_cc1e5aa5698640f5bd6dfa8dc052c013",
        "IPY_MODEL_c73fbebbb4294053a9891b243c22546a",
        "IPY_MODEL_fc99736c67b44c6dba1577d4857459e3",
        "IPY_MODEL_0b33ddefa65f492c87cdba6562304be6",
        "IPY_MODEL_8188980af7904ae2b5add05bd397388d",
        "IPY_MODEL_9e654ecc99a54dce9ddd3fb92b492309",
        "IPY_MODEL_29ba3dc3f28b4ca3a9c36262797123b1",
        "IPY_MODEL_98922790a82c4614b5dae67b7d88da97",
        "IPY_MODEL_0be963e1001149e5af1752327cbecbe0",
        "IPY_MODEL_d8edc10a590649f3a08a6dd3eadf4fe8",
        "IPY_MODEL_7cbd0be520734ecc87367b59ce1ff9b4",
        "IPY_MODEL_e10cd0845f6d4e9ca9541811be893b86",
        "IPY_MODEL_9250db8abdf1426694a4eb8e088bcbe4",
        "IPY_MODEL_d0af9a75ba1d419bbb9c3cba5de5be39",
        "IPY_MODEL_66fb69268bd44a07b8fc606cf9666faa",
        "IPY_MODEL_751dac22321a4aafbdd680e281b2dc44",
        "IPY_MODEL_ac2b4f9291ec45b3a03813e9a5bcb9ae",
        "IPY_MODEL_b6153379f3b84744b8636ddb1e6ec1d2",
        "IPY_MODEL_06ce364bcb8e48c58f2987268888575a",
        "IPY_MODEL_dd0065fd70b748c996e527acbb3d033a",
        "IPY_MODEL_0450d57b275443e18b43a684981334f9",
        "IPY_MODEL_8512907c80134279ab98d22875e22eda",
        "IPY_MODEL_fb1f56ac8e784827aef4b7acb260c91e",
        "IPY_MODEL_ef8965b006364a40a0e7040b43e4f01e",
        "IPY_MODEL_9ecfbcbc09e0476cb5f47ca8cd097582",
        "IPY_MODEL_e51d9949dceb44fa88e49c591f7c4c8f",
        "IPY_MODEL_1e3e24ffd745467f8a94e6e38a36ccef",
        "IPY_MODEL_4b6b4d56769f4d54b95676741edca12e",
        "IPY_MODEL_a8c59010078d4efbacfcd29ccc0cc357",
        "IPY_MODEL_f53af7bbc711435da8d4bd44472bf01a",
        "IPY_MODEL_dcf08db7da164f1bbacf5b96ce6a6f91",
        "IPY_MODEL_c3b006bf1cf149a9905fcdad70764506",
        "IPY_MODEL_97e50bbcf9ee4da4995cc1449cae8d7d",
        "IPY_MODEL_6489ec48ff1b467494b5a083a2f61ead",
        "IPY_MODEL_1427d24bf9ad4aa391c907138fd235f3",
        "IPY_MODEL_c03ca42b897c4f569cec88a770ff8e13",
        "IPY_MODEL_49bc68de399641f1abb07758b73e32ee",
        "IPY_MODEL_dfd861691e73402199757d50b9a87952",
        "IPY_MODEL_522dcf7fc6e54f90a4a7db34dd93bc08",
        "IPY_MODEL_5720491938674747b7af2779a0ccfb83",
        "IPY_MODEL_5151e636925e411097652b50793ed4f3",
        "IPY_MODEL_188d3a61cbf245a68550d710ef21d5a0",
        "IPY_MODEL_c800aa7a896a4a77ae922047fd96f465",
        "IPY_MODEL_827ba2219eea472588f9cbf65aa80a4d",
        "IPY_MODEL_8f5a8fc9e9d040d98103511a73cb6e40",
        "IPY_MODEL_b5f904c169714ded99714ed768c6b2d6",
        "IPY_MODEL_f5bc9594f227454f9fc0414e8b5b64c7",
        "IPY_MODEL_7e8abcf2910842a09ced8c3f1713772e",
        "IPY_MODEL_54c3a5c2499c4a80a57accda6ff3f30c",
        "IPY_MODEL_cfc98b19eb11493d9c51f8ca160e8270",
        "IPY_MODEL_acc2904436bf414dafa2a099f5bcfbb2",
        "IPY_MODEL_277bd684814e44938e9cb9aa94f55283",
        "IPY_MODEL_272eec04100e4d7590e7c77593e5ff97",
        "IPY_MODEL_9f4f5b112197486b80f2b117143c4faf",
        "IPY_MODEL_c2de344d3ddf438dae71f94ba7bfd962",
        "IPY_MODEL_77aa8efa66604e538c7ac9ccfc27e2c9",
        "IPY_MODEL_7723349f452b43d2b0ed40399377e988",
        "IPY_MODEL_b7d8aecf1c9f41608353588767a9d809",
        "IPY_MODEL_e13f36fde2a144b3b3551cd20b435132",
        "IPY_MODEL_e5e012db56df4a2281b40462760f7803",
        "IPY_MODEL_becc8cd215584b009c957865f3829507",
        "IPY_MODEL_cf6a110789b34c1a864bb93f38d9c56a",
        "IPY_MODEL_112b2ecea79144cdbcb7ab65edc83d8a",
        "IPY_MODEL_9dfd80d1a26c4205a2ab42384f5c6cd0",
        "IPY_MODEL_a127ca5be6484d4a8fc77c0791cec4b2",
        "IPY_MODEL_324a425fe9da414aa0f48922c7b0f7da",
        "IPY_MODEL_30ca0859be634c31bf2ddf716b8d1c5b"
       ],
       "column_headers": [
        "2017",
        "2018",
        "2019",
        "2020",
        "2021",
        "2022",
        "2023",
        "2024",
        "2025",
        "2026",
        "2027",
        "2028",
        "2029",
        "2030",
        "2031",
        "2032",
        "2033",
        "2034",
        "2035",
        "2036",
        "2037",
        "2038",
        "2039",
        "2040",
        "2041",
        "2042",
        "2043",
        "2044",
        "2045",
        "2046",
        "2047",
        "2048",
        "2049",
        "2050",
        "2051",
        "2052",
        "2053",
        "2054",
        "2055",
        "2056",
        "2057",
        "2058",
        "2059",
        "2060",
        "2061",
        "2062",
        "2063",
        "2064",
        "2065",
        "2066",
        "2067",
        "2068",
        "2069",
        "2070",
        "2071",
        "2072",
        "2073",
        "2074",
        "2075",
        "2076",
        "2077",
        "2078",
        "2079",
        "2080",
        "2081",
        "2082",
        "2083",
        "2084",
        "2085",
        "2086",
        "2087",
        "2088",
        "2089",
        "2090",
        "2091",
        "2092",
        "2093",
        "2094",
        "2095",
        "2096",
        "2097",
        "2098",
        "2099",
        "2100"
       ],
       "columns": 84,
       "layout": "IPY_MODEL_20e30cb7261246588bac64d1ce829dc4",
       "row_headers": [
        "('New Method', 'PAKGGREVCO2CER')",
        "('New Method', 'PAKGGREVCO2OER')",
        "('New Method', 'PAKGGREVCO2GER')",
        "('Difference', 'PAKGGREVCO2CER')",
        "('Difference', 'PAKGGREVCO2OER')",
        "('Difference', 'PAKGGREVCO2GER')"
       ],
       "rows": 6
      }
     },
     "a2c93e3538304b84921c3ed954743b92": {
      "model_module": "@jupyter-widgets/controls",
      "model_module_version": "1.5.0",
      "model_name": "DescriptionStyleModel",
      "state": {
       "description_width": ""
      }
     },
     "a38464b43c1e4abdbc99b4c0d05d462e": {
      "model_module": "ipysheet",
      "model_module_version": "~0.5.0",
      "model_name": "CellRangeModel",
      "state": {
       "_view_module": null,
       "_view_module_version": "",
       "column_end": 0,
       "column_start": 0,
       "row_end": 19,
       "row_start": 0,
       "squeeze_row": false,
       "type": "numeric",
       "value": [
        0,
        0,
        0,
        29,
        30.962299914387533,
        32.44249598824875,
        33.24696820511287,
        33.376888531566586,
        32.96999040272959,
        32.231553651969115,
        31.375710932475293,
        30.588525874350633,
        30.012075962675382,
        29.743368593222783,
        29.841531799753223,
        30.33821737276967,
        31.247927701600666,
        32.576525762093475,
        34.32730444518984,
        36.50466362917244
       ]
      }
     },
     "a3eff97624724faca07dc5ae1c37c602": {
      "model_module": "ipysheet",
      "model_module_version": "~0.5.0",
      "model_name": "CellRangeModel",
      "state": {
       "_view_module": null,
       "_view_module_version": "",
       "column_end": 6,
       "column_start": 6,
       "row_end": 83,
       "row_start": 0,
       "squeeze_row": false,
       "type": "numeric",
       "value": [
        0,
        0,
        0,
        0,
        0,
        0,
        0,
        0,
        0,
        0,
        0,
        0,
        0,
        0,
        0,
        0,
        0,
        0,
        0,
        0,
        0,
        0,
        0,
        0,
        0,
        0,
        0,
        0,
        0,
        0,
        0,
        0,
        0,
        0,
        0,
        0,
        0,
        0,
        0,
        0,
        0,
        0,
        0,
        0,
        0,
        0,
        0,
        0,
        0,
        0,
        0,
        0,
        0,
        0,
        0,
        0,
        0,
        0,
        0,
        0,
        0,
        0,
        0,
        0,
        0,
        0,
        0,
        0,
        0,
        0,
        0,
        0,
        0,
        0,
        0,
        0,
        0,
        0,
        0,
        0,
        0,
        0,
        0,
        -2385.7130906367056
       ]
      }
     },
     "a5f9a01045ee4396bcbe6016d75dfa4b": {
      "model_module": "ipysheet",
      "model_module_version": "~0.5.0",
      "model_name": "CellRangeModel",
      "state": {
       "_view_module": null,
       "_view_module_version": "",
       "column_end": 0,
       "column_start": 0,
       "row_end": 83,
       "row_start": 0,
       "squeeze_row": false,
       "type": "numeric",
       "value": [
        0,
        0,
        0,
        29,
        30.962299914387533,
        32.44249598824875,
        33.24696820511287,
        33.376888531566586,
        32.96999040272959,
        32.231553651969115,
        31.375710932475293,
        30.588525874350633,
        30.012075962675382,
        29.743368593222783,
        29.841531799753223,
        30.33821737276967,
        31.247927701600666,
        32.576525762093475,
        34.32730444518984,
        36.50466362917244,
        39.115786461210824,
        42.17082531425412,
        45.682103936433016,
        49.662775816838185,
        54.12530052734099,
        59.08002596329259,
        64.5340953790679,
        70.49084057787817,
        76.94974599908977,
        83.90699214421947,
        91.35651571492613,
        99.29145851990795,
        107.70583684993105,
        116.59624834436467,
        125.96343847838794,
        135.81360232991884,
        146.15931469144877,
        157.0200596023539,
        168.42235431629328,
        180.3995190473268,
        192.99115817586406,
        206.24243683030022,
        220.2032424052525,
        234.92730603330153,
        250.47135525729558,
        266.8943502458763,
        284.2568388964308,
        302.62045919688654,
        322.0475918217781,
        342.60117574515783,
        364.34466923450634,
        387.34215855422906,
        411.6585919128501,
        437.360128982038,
        464.5145857262626,
        493.19196622749934,
        523.4650423762466,
        555.4099953659602,
        589.1070737377698,
        624.6412672417739,
        662.102973592713,
        701.5886499590331,
        743.2014350037208,
        787.0517293504159,
        833.2577350500592,
        881.945942022937,
        933.2515683881917,
        987.3189483257986,
        1044.3018757439704,
        1104.3639093580737,
        1167.6786423115814,
        1234.4299868066644,
        1304.8123455348198,
        1379.030932404489,
        1457.301994626762,
        1539.8531064172703,
        1626.9235022287464,
        1718.7644609189404,
        1815.6397584550245,
        1917.8262010407407,
        2025.614244719777,
        2139.308713280133,
        2259.229618868826,
        0
       ]
      }
     },
     "a6793504806d42e5a7b979e0654c27e3": {
      "model_module": "ipysheet",
      "model_module_version": "~0.5.0",
      "model_name": "CellRangeModel",
      "state": {
       "_view_module": null,
       "_view_module_version": "",
       "column_end": 3,
       "column_start": 3,
       "row_end": 9,
       "row_start": 0,
       "squeeze_row": false,
       "type": "numeric",
       "value": [
        0,
        0,
        0,
        0,
        0,
        0,
        0,
        0,
        0,
        0
       ]
      }
     },
     "a6d9ad422c89448cbe1752af759c9307": {
      "model_module": "ipysheet",
      "model_module_version": "~0.5.0",
      "model_name": "CellRangeModel",
      "state": {
       "_view_module": null,
       "_view_module_version": "",
       "column_end": 3,
       "column_start": 3,
       "row_end": 83,
       "row_start": 0,
       "squeeze_row": false,
       "type": "numeric",
       "value": [
        0,
        0,
        0,
        29,
        30.962299914387533,
        32.44249598824875,
        33.24696820511287,
        33.376888531566586,
        32.96999040272959,
        32.231553651969115,
        31.375710932475293,
        30.588525874350633,
        30.012075962675382,
        29.743368593222783,
        29.841531799753223,
        30.33821737276967,
        31.247927701600666,
        32.576525762093475,
        34.32730444518984,
        36.50466362917244,
        39.115786461210824,
        42.17082531425412,
        45.682103936433016,
        49.662775816838185,
        54.12530052734099,
        59.08002596329259,
        64.5340953790679,
        70.49084057787817,
        76.94974599908977,
        83.90699214421947,
        91.35651571492613,
        99.29145851990795,
        107.70583684993105,
        116.59624834436467,
        125.96343847838794,
        135.81360232991884,
        146.15931469144877,
        157.0200596023539,
        168.42235431629328,
        180.3995190473268,
        192.99115817586406,
        206.24243683030022,
        220.2032424052525,
        234.92730603330153,
        250.47135525729558,
        266.8943502458763,
        284.2568388964308,
        302.62045919688654,
        322.0475918217781,
        342.60117574515783,
        364.34466923450634,
        387.34215855422906,
        411.6585919128501,
        437.360128982038,
        464.5145857262626,
        493.19196622749934,
        523.4650423762466,
        555.4099953659602,
        589.1070737377698,
        624.6412672417739,
        662.102973592713,
        701.5886499590331,
        743.2014350037208,
        787.0517293504159,
        833.2577350500592,
        881.945942022937,
        933.2515683881917,
        987.3189483257986,
        1044.3018757439704,
        1104.3639093580737,
        1167.6786423115814,
        1234.4299868066644,
        1304.8123455348198,
        1379.030932404489,
        1457.301994626762,
        1539.8531064172703,
        1626.9235022287464,
        1718.7644609189404,
        1815.6397584550245,
        1917.8262010407407,
        2025.614244719777,
        2139.308713280133,
        2259.229618868826,
        2385.7130906367056
       ]
      }
     },
     "a8c59010078d4efbacfcd29ccc0cc357": {
      "model_module": "ipysheet",
      "model_module_version": "~0.5.0",
      "model_name": "CellRangeModel",
      "state": {
       "_view_module": null,
       "_view_module_version": "",
       "column_end": 45,
       "column_start": 45,
       "row_end": 5,
       "row_start": 0,
       "squeeze_row": false,
       "type": "numeric",
       "value": [
        266.8943502458763,
        266.8943502458763,
        266.8943502458763,
        0,
        0,
        0
       ]
      }
     },
     "aa244a3e37374a91a7f7cb2e7d94b1c2": {
      "model_module": "ipysheet",
      "model_module_version": "~0.5.0",
      "model_name": "CellRangeModel",
      "state": {
       "_view_module": null,
       "_view_module_version": "",
       "column_end": 60,
       "column_start": 60,
       "row_end": 5,
       "row_start": 0,
       "squeeze_row": false,
       "type": "numeric",
       "value": [
        662.102973592713,
        662.102973592713,
        662.102973592713,
        0,
        0,
        0
       ]
      }
     },
     "ab176e0e74bc42c18002b7991f098ac6": {
      "model_module": "@jupyter-widgets/base",
      "model_module_version": "1.2.0",
      "model_name": "LayoutModel",
      "state": {
       "height": "auto",
       "width": "auto"
      }
     },
     "ac2b4f9291ec45b3a03813e9a5bcb9ae": {
      "model_module": "ipysheet",
      "model_module_version": "~0.5.0",
      "model_name": "CellRangeModel",
      "state": {
       "_view_module": null,
       "_view_module_version": "",
       "column_end": 33,
       "column_start": 33,
       "row_end": 5,
       "row_start": 0,
       "squeeze_row": false,
       "type": "numeric",
       "value": [
        116.59624834436467,
        116.59624834436467,
        116.59624834436467,
        0,
        0,
        0
       ]
      }
     },
     "ac9c630ed2f94a6786b4716a74849a47": {
      "model_module": "ipysheet",
      "model_module_version": "~0.5.0",
      "model_name": "CellRangeModel",
      "state": {
       "_view_module": null,
       "_view_module_version": "",
       "column_end": 7,
       "column_start": 7,
       "row_end": 5,
       "row_start": 0,
       "squeeze_row": false,
       "type": "numeric",
       "value": [
        33.376888531566586,
        33.376888531566586,
        33.376888531566586,
        0,
        0,
        0
       ]
      }
     },
     "acb165e4347f41c88b069746f0aca568": {
      "model_module": "ipysheet",
      "model_module_version": "~0.5.0",
      "model_name": "CellRangeModel",
      "state": {
       "_view_module": null,
       "_view_module_version": "",
       "column_end": 0,
       "column_start": 0,
       "row_end": 9,
       "row_start": 0,
       "squeeze_row": false,
       "type": "numeric",
       "value": [
        0,
        0,
        0,
        29,
        30.962299914387533,
        32.44249598824875,
        33.24696820511287,
        33.376888531566586,
        32.96999040272959,
        32.231553651969115
       ]
      }
     },
     "acc2904436bf414dafa2a099f5bcfbb2": {
      "model_module": "ipysheet",
      "model_module_version": "~0.5.0",
      "model_name": "CellRangeModel",
      "state": {
       "_view_module": null,
       "_view_module_version": "",
       "column_end": 67,
       "column_start": 67,
       "row_end": 5,
       "row_start": 0,
       "squeeze_row": false,
       "type": "numeric",
       "value": [
        987.3189483257986,
        987.3189483257986,
        987.3189483257986,
        0,
        0,
        0
       ]
      }
     },
     "acd5d2c4f47d4c8b8ea3aad13c24cf92": {
      "model_module": "ipysheet",
      "model_module_version": "~0.5.0",
      "model_name": "CellRangeModel",
      "state": {
       "_view_module": null,
       "_view_module_version": "",
       "column_end": 8,
       "column_start": 8,
       "row_end": 5,
       "row_start": 0,
       "squeeze_row": false,
       "type": "numeric",
       "value": [
        32.96999040272959,
        32.96999040272959,
        32.96999040272959,
        0,
        0,
        0
       ]
      }
     },
     "ad108a9096a047a89dfb6871ff59dcd3": {
      "model_module": "ipysheet",
      "model_module_version": "~0.5.0",
      "model_name": "CellRangeModel",
      "state": {
       "_view_module": null,
       "_view_module_version": "",
       "column_end": 2,
       "column_start": 2,
       "row_end": 5,
       "row_start": 0,
       "squeeze_row": false,
       "type": "numeric",
       "value": [
        0,
        -1.4771942340000002,
        -51.323437852,
        0,
        0,
        0
       ]
      }
     },
     "ad644c4a409a4f998f0a51afbe27bd65": {
      "model_module": "@jupyter-widgets/controls",
      "model_module_version": "1.5.0",
      "model_name": "VBoxModel",
      "state": {
       "children": [
        "IPY_MODEL_094d06ce0bbc4e8cb31d95e4d23ff974",
        "IPY_MODEL_4b179ae2c1e24dbd9bc0ff39d00eb376"
       ],
       "layout": "IPY_MODEL_c0a9c21f830a45d194a1963b24e5d4e6"
      }
     },
     "ae46659fc5f24fc6b46c2811789f3872": {
      "model_module": "ipysheet",
      "model_module_version": "~0.5.0",
      "model_name": "CellRangeModel",
      "state": {
       "_view_module": null,
       "_view_module_version": "",
       "column_end": 67,
       "column_start": 67,
       "row_end": 5,
       "row_start": 0,
       "squeeze_row": false,
       "type": "numeric",
       "value": [
        987.3189483257986,
        987.3189483257986,
        987.3189483257986,
        0,
        0,
        0
       ]
      }
     },
     "ae52d0c4268146f59fdbf2e2d4bfe26b": {
      "model_module": "ipysheet",
      "model_module_version": "~0.5.0",
      "model_name": "CellRangeModel",
      "state": {
       "_view_module": null,
       "_view_module_version": "",
       "column_end": 80,
       "column_start": 80,
       "row_end": 5,
       "row_start": 0,
       "squeeze_row": false,
       "type": "numeric",
       "value": [
        2025.614244719777,
        2025.614244719777,
        2025.614244719777,
        0,
        0,
        0
       ]
      }
     },
     "af52c61eb2294887b7c4c0cd5e25e343": {
      "model_module": "ipysheet",
      "model_module_version": "~0.5.0",
      "model_name": "CellRangeModel",
      "state": {
       "_view_module": null,
       "_view_module_version": "",
       "column_end": 5,
       "column_start": 5,
       "row_end": 9,
       "row_start": 0,
       "squeeze_row": false,
       "type": "numeric",
       "value": [
        0,
        0,
        0,
        0,
        0,
        0,
        0,
        0,
        0,
        0
       ]
      }
     },
     "b02a70419b8c40228edbf0cf649f985f": {
      "model_module": "@jupyter-widgets/controls",
      "model_module_version": "1.5.0",
      "model_name": "VBoxModel",
      "state": {
       "children": [
        "IPY_MODEL_9edd93f799894d61b6a6f99eea6dc832",
        "IPY_MODEL_40af07b7112e4ef6be09db32dc8b1c26"
       ],
       "layout": "IPY_MODEL_00330119da5548c889d1b7aa15532622"
      }
     },
     "b27a71aca21a4b8d8c5a3900c0576f2e": {
      "model_module": "@jupyter-widgets/base",
      "model_module_version": "1.2.0",
      "model_name": "LayoutModel",
      "state": {
       "width": "54%"
      }
     },
     "b2b0ebeae11e40b0b05cb9a22943eb26": {
      "model_module": "@jupyter-widgets/base",
      "model_module_version": "1.2.0",
      "model_name": "LayoutModel",
      "state": {
       "height": "auto",
       "width": "auto"
      }
     },
     "b3775971a6a243509c7f3f2f14c1bf0d": {
      "model_module": "ipysheet",
      "model_module_version": "~0.5.0",
      "model_name": "CellRangeModel",
      "state": {
       "_view_module": null,
       "_view_module_version": "",
       "column_end": 2,
       "column_start": 2,
       "row_end": 9,
       "row_start": 0,
       "squeeze_row": false,
       "type": "numeric",
       "value": [
        -24.8253879556,
        -52.0470635763,
        -51.323437852,
        29,
        30.962299914387533,
        32.44249598824875,
        33.24696820511287,
        33.376888531566586,
        32.96999040272959,
        32.231553651969115
       ]
      }
     },
     "b39ee1b30da849f1a51ece29d3626bdf": {
      "model_module": "ipysheet",
      "model_module_version": "~0.5.0",
      "model_name": "CellRangeModel",
      "state": {
       "_view_module": null,
       "_view_module_version": "",
       "column_end": 0,
       "column_start": 0,
       "row_end": 19,
       "row_start": 0,
       "squeeze_row": false,
       "type": "numeric",
       "value": [
        0,
        0,
        0,
        29,
        30.962299914387533,
        32.44249598824875,
        33.24696820511287,
        33.376888531566586,
        32.96999040272959,
        32.231553651969115,
        31.375710932475293,
        30.588525874350633,
        30.012075962675382,
        29.743368593222783,
        29.841531799753223,
        30.33821737276967,
        31.247927701600666,
        32.576525762093475,
        34.32730444518984,
        36.50466362917244
       ]
      }
     },
     "b4a121fefe1f4182a4decdec7951a7c3": {
      "model_module": "ipysheet",
      "model_module_version": "~0.5.0",
      "model_name": "CellRangeModel",
      "state": {
       "_view_module": null,
       "_view_module_version": "",
       "column_end": 83,
       "column_start": 83,
       "row_end": 5,
       "row_start": 0,
       "squeeze_row": false,
       "type": "numeric",
       "value": [
        2385.7130906367056,
        2385.7130906367056,
        2385.7130906367056,
        -2385.7130906367056,
        -2387.1902848707055,
        -2437.0365284887057
       ]
      }
     },
     "b514314ea29741e3964582644380256a": {
      "model_module": "@jupyter-widgets/controls",
      "model_module_version": "1.5.0",
      "model_name": "VBoxModel",
      "state": {
       "children": [
        "IPY_MODEL_7698b2b58a674eb3a4b31aef968fb74f",
        "IPY_MODEL_97e0d67dd9f24ca6ab0cc9d257a8657f"
       ],
       "layout": "IPY_MODEL_194d3bfed6a049eabc51fd5b04865e99"
      }
     },
     "b530709388a940da8223a9a6b45bfa6a": {
      "model_module": "ipysheet",
      "model_module_version": "~0.5.0",
      "model_name": "CellRangeModel",
      "state": {
       "_view_module": null,
       "_view_module_version": "",
       "column_end": 6,
       "column_start": 6,
       "row_end": 83,
       "row_start": 0,
       "squeeze_row": false,
       "type": "numeric",
       "value": [
        0,
        0,
        0,
        0,
        0,
        0,
        0,
        0,
        0,
        0,
        0,
        0,
        0,
        0,
        0,
        0,
        0,
        0,
        0,
        0,
        0,
        0,
        0,
        0,
        0,
        0,
        0,
        0,
        0,
        0,
        0,
        0,
        0,
        0,
        0,
        0,
        0,
        0,
        0,
        0,
        0,
        0,
        0,
        0,
        0,
        0,
        0,
        0,
        0,
        0,
        0,
        0,
        0,
        0,
        0,
        0,
        0,
        0,
        0,
        0,
        0,
        0,
        0,
        0,
        0,
        0,
        0,
        0,
        0,
        0,
        0,
        0,
        0,
        0,
        0,
        0,
        0,
        0,
        0,
        0,
        0,
        0,
        0,
        -2385.7130906367056
       ]
      }
     },
     "b5f904c169714ded99714ed768c6b2d6": {
      "model_module": "ipysheet",
      "model_module_version": "~0.5.0",
      "model_name": "CellRangeModel",
      "state": {
       "_view_module": null,
       "_view_module_version": "",
       "column_end": 62,
       "column_start": 62,
       "row_end": 5,
       "row_start": 0,
       "squeeze_row": false,
       "type": "numeric",
       "value": [
        743.2014350037208,
        743.2014350037208,
        743.2014350037208,
        0,
        0,
        0
       ]
      }
     },
     "b6153379f3b84744b8636ddb1e6ec1d2": {
      "model_module": "ipysheet",
      "model_module_version": "~0.5.0",
      "model_name": "CellRangeModel",
      "state": {
       "_view_module": null,
       "_view_module_version": "",
       "column_end": 34,
       "column_start": 34,
       "row_end": 5,
       "row_start": 0,
       "squeeze_row": false,
       "type": "numeric",
       "value": [
        125.96343847838794,
        125.96343847838794,
        125.96343847838794,
        0,
        0,
        0
       ]
      }
     },
     "b616e684599a4a95a1757882b402ac0f": {
      "model_module": "@jupyter-widgets/controls",
      "model_module_version": "1.5.0",
      "model_name": "LabelModel",
      "state": {
       "layout": "IPY_MODEL_17297f91a52e4ee685040815da209f59",
       "style": "IPY_MODEL_0a971d52dd5e40029867e3c0e979aba2",
       "value": "Carbon tax rate, US$ per tonn "
      }
     },
     "b7d8aecf1c9f41608353588767a9d809": {
      "model_module": "ipysheet",
      "model_module_version": "~0.5.0",
      "model_name": "CellRangeModel",
      "state": {
       "_view_module": null,
       "_view_module_version": "",
       "column_end": 74,
       "column_start": 74,
       "row_end": 5,
       "row_start": 0,
       "squeeze_row": false,
       "type": "numeric",
       "value": [
        1457.301994626762,
        1457.301994626762,
        1457.301994626762,
        0,
        0,
        0
       ]
      }
     },
     "b8688288630c42f5a8d8ea51c3a00c50": {
      "model_module": "ipysheet",
      "model_module_version": "~0.5.0",
      "model_name": "CellRangeModel",
      "state": {
       "_view_module": null,
       "_view_module_version": "",
       "column_end": 0,
       "column_start": 0,
       "row_end": 83,
       "row_start": 0,
       "squeeze_row": false,
       "type": "numeric",
       "value": [
        0,
        0,
        0,
        29,
        30.962299914387533,
        32.44249598824875,
        33.24696820511287,
        33.376888531566586,
        32.96999040272959,
        32.231553651969115,
        31.375710932475293,
        30.588525874350633,
        30.012075962675382,
        29.743368593222783,
        29.841531799753223,
        30.33821737276967,
        31.247927701600666,
        32.576525762093475,
        34.32730444518984,
        36.50466362917244,
        39.115786461210824,
        42.17082531425412,
        45.682103936433016,
        49.662775816838185,
        54.12530052734099,
        59.08002596329259,
        64.5340953790679,
        70.49084057787817,
        76.94974599908977,
        83.90699214421947,
        91.35651571492613,
        99.29145851990795,
        107.70583684993105,
        116.59624834436467,
        125.96343847838794,
        135.81360232991884,
        146.15931469144877,
        157.0200596023539,
        168.42235431629328,
        180.3995190473268,
        192.99115817586406,
        206.24243683030022,
        220.2032424052525,
        234.92730603330153,
        250.47135525729558,
        266.8943502458763,
        284.2568388964308,
        302.62045919688654,
        322.0475918217781,
        342.60117574515783,
        364.34466923450634,
        387.34215855422906,
        411.6585919128501,
        437.360128982038,
        464.5145857262626,
        493.19196622749934,
        523.4650423762466,
        555.4099953659602,
        589.1070737377698,
        624.6412672417739,
        662.102973592713,
        701.5886499590331,
        743.2014350037208,
        787.0517293504159,
        833.2577350500592,
        881.945942022937,
        933.2515683881917,
        987.3189483257986,
        1044.3018757439704,
        1104.3639093580737,
        1167.6786423115814,
        1234.4299868066644,
        1304.8123455348198,
        1379.030932404489,
        1457.301994626762,
        1539.8531064172703,
        1626.9235022287464,
        1718.7644609189404,
        1815.6397584550245,
        1917.8262010407407,
        2025.614244719777,
        2139.308713280133,
        2259.229618868826,
        2385.7130906367056
       ]
      }
     },
     "b8af38ae50804cea9a3aee8ef082df3f": {
      "model_module": "@jupyter-widgets/base",
      "model_module_version": "1.2.0",
      "model_name": "LayoutModel",
      "state": {
       "width": "54%"
      }
     },
     "b8d6f86cfdb445c68e9657c2109f3e28": {
      "model_module": "@jupyter-widgets/controls",
      "model_module_version": "1.5.0",
      "model_name": "DescriptionStyleModel",
      "state": {
       "description_width": ""
      }
     },
     "b8ff94cb3c714336820b1f32f244c88d": {
      "model_module": "ipysheet",
      "model_module_version": "~0.5.0",
      "model_name": "CellRangeModel",
      "state": {
       "_view_module": null,
       "_view_module_version": "",
       "column_end": 7,
       "column_start": 7,
       "row_end": 83,
       "row_start": 0,
       "squeeze_row": false,
       "type": "numeric",
       "value": [
        0,
        0,
        0,
        0,
        0,
        0,
        0,
        0,
        0,
        0,
        0,
        0,
        0,
        0,
        0,
        0,
        0,
        0,
        0,
        0,
        0,
        0,
        0,
        0,
        0,
        0,
        0,
        0,
        0,
        0,
        0,
        0,
        0,
        0,
        0,
        0,
        0,
        0,
        0,
        0,
        0,
        0,
        0,
        0,
        0,
        0,
        0,
        0,
        0,
        0,
        0,
        0,
        0,
        0,
        0,
        0,
        0,
        0,
        0,
        0,
        0,
        0,
        0,
        0,
        0,
        0,
        0,
        0,
        0,
        0,
        0,
        0,
        0,
        0,
        0,
        0,
        0,
        0,
        0,
        0,
        0,
        0,
        0,
        -2387.1902848707055
       ]
      }
     },
     "b97e64cb5702456d83ad4a74e2785cb4": {
      "model_module": "@jupyter-widgets/base",
      "model_module_version": "1.2.0",
      "model_name": "LayoutModel",
      "state": {
       "height": "auto",
       "width": "auto"
      }
     },
     "bae6bbd53dd94c988cc107eed57e8a57": {
      "model_module": "ipysheet",
      "model_module_version": "~0.5.0",
      "model_name": "CellRangeModel",
      "state": {
       "_view_module": null,
       "_view_module_version": "",
       "column_end": 13,
       "column_start": 13,
       "row_end": 5,
       "row_start": 0,
       "squeeze_row": false,
       "type": "numeric",
       "value": [
        29.743368593222783,
        29.743368593222783,
        29.743368593222783,
        0,
        0,
        0
       ]
      }
     },
     "bb0fc3186c154265bc579030d91c5e1e": {
      "model_module": "@jupyter-widgets/controls",
      "model_module_version": "1.5.0",
      "model_name": "LabelModel",
      "state": {
       "layout": "IPY_MODEL_b8af38ae50804cea9a3aee8ef082df3f",
       "style": "IPY_MODEL_a2c93e3538304b84921c3ed954743b92",
       "value": "Check real taxrates "
      }
     },
     "bb1ee3c7c1d5434eb68aa515b45d8ee8": {
      "model_module": "ipysheet",
      "model_module_version": "~0.5.0",
      "model_name": "CellRangeModel",
      "state": {
       "_view_module": null,
       "_view_module_version": "",
       "column_end": 53,
       "column_start": 53,
       "row_end": 5,
       "row_start": 0,
       "squeeze_row": false,
       "type": "numeric",
       "value": [
        437.360128982038,
        437.360128982038,
        437.360128982038,
        0,
        0,
        0
       ]
      }
     },
     "bb31062536b64be4b07e2c857295d7a6": {
      "model_module": "@jupyter-widgets/controls",
      "model_module_version": "1.5.0",
      "model_name": "VBoxModel",
      "state": {
       "children": [
        "IPY_MODEL_1975e70d229046b8aba3139a2b46a593",
        "IPY_MODEL_749f18d34e4642daba2b6fb5b834b0f8"
       ],
       "layout": "IPY_MODEL_db45ade5a2c6451baeab0eb0a270d06f"
      }
     },
     "bbc25f2432354623a025bee3bd2f1af4": {
      "model_module": "@jupyter-widgets/base",
      "model_module_version": "1.2.0",
      "model_name": "LayoutModel",
      "state": {}
     },
     "bbda0abff7f94e7f853e8edab27dfb33": {
      "model_module": "@jupyter-widgets/base",
      "model_module_version": "1.2.0",
      "model_name": "LayoutModel",
      "state": {}
     },
     "becc8cd215584b009c957865f3829507": {
      "model_module": "ipysheet",
      "model_module_version": "~0.5.0",
      "model_name": "CellRangeModel",
      "state": {
       "_view_module": null,
       "_view_module_version": "",
       "column_end": 77,
       "column_start": 77,
       "row_end": 5,
       "row_start": 0,
       "squeeze_row": false,
       "type": "numeric",
       "value": [
        1718.7644609189404,
        1718.7644609189404,
        1718.7644609189404,
        0,
        0,
        0
       ]
      }
     },
     "bf3dd6ed6e304459b916c6e552317120": {
      "model_module": "ipysheet",
      "model_module_version": "~0.5.0",
      "model_name": "CellRangeModel",
      "state": {
       "_view_module": null,
       "_view_module_version": "",
       "column_end": 49,
       "column_start": 49,
       "row_end": 5,
       "row_start": 0,
       "squeeze_row": false,
       "type": "numeric",
       "value": [
        342.60117574515783,
        342.60117574515783,
        342.60117574515783,
        0,
        0,
        0
       ]
      }
     },
     "c03ca42b897c4f569cec88a770ff8e13": {
      "model_module": "ipysheet",
      "model_module_version": "~0.5.0",
      "model_name": "CellRangeModel",
      "state": {
       "_view_module": null,
       "_view_module_version": "",
       "column_end": 52,
       "column_start": 52,
       "row_end": 5,
       "row_start": 0,
       "squeeze_row": false,
       "type": "numeric",
       "value": [
        411.6585919128501,
        411.6585919128501,
        411.6585919128501,
        0,
        0,
        0
       ]
      }
     },
     "c0a9c21f830a45d194a1963b24e5d4e6": {
      "model_module": "@jupyter-widgets/base",
      "model_module_version": "1.2.0",
      "model_name": "LayoutModel",
      "state": {}
     },
     "c0b126c0ac24494b91da1e2a988eec82": {
      "model_module": "ipysheet",
      "model_module_version": "~0.5.0",
      "model_name": "CellRangeModel",
      "state": {
       "_view_module": null,
       "_view_module_version": "",
       "column_end": 0,
       "column_start": 0,
       "row_end": 5,
       "row_start": 0,
       "squeeze_row": false,
       "type": "numeric",
       "value": [
        0,
        -1.3423136273,
        -24.8253879556,
        0,
        0,
        0
       ]
      }
     },
     "c2073804bf39401ebf09d4745f99a2a1": {
      "model_module": "@jupyter-widgets/base",
      "model_module_version": "1.2.0",
      "model_name": "LayoutModel",
      "state": {
       "width": "54%"
      }
     },
     "c26529819d20440a80fc1bbdb86cc1cd": {
      "model_module": "ipysheet",
      "model_module_version": "~0.5.0",
      "model_name": "CellRangeModel",
      "state": {
       "_view_module": null,
       "_view_module_version": "",
       "column_end": 23,
       "column_start": 23,
       "row_end": 5,
       "row_start": 0,
       "squeeze_row": false,
       "type": "numeric",
       "value": [
        49.662775816838185,
        49.662775816838185,
        49.662775816838185,
        0,
        0,
        0
       ]
      }
     },
     "c2a3260b153845a7a00c7d31e37ddc77": {
      "model_module": "ipysheet",
      "model_module_version": "~0.5.0",
      "model_name": "CellRangeModel",
      "state": {
       "_view_module": null,
       "_view_module_version": "",
       "column_end": 4,
       "column_start": 4,
       "row_end": 9,
       "row_start": 0,
       "squeeze_row": false,
       "type": "numeric",
       "value": [
        0,
        0,
        0,
        0,
        0,
        0,
        0,
        0,
        0,
        0
       ]
      }
     },
     "c2de344d3ddf438dae71f94ba7bfd962": {
      "model_module": "ipysheet",
      "model_module_version": "~0.5.0",
      "model_name": "CellRangeModel",
      "state": {
       "_view_module": null,
       "_view_module_version": "",
       "column_end": 71,
       "column_start": 71,
       "row_end": 5,
       "row_start": 0,
       "squeeze_row": false,
       "type": "numeric",
       "value": [
        1234.4299868066644,
        1234.4299868066644,
        1234.4299868066644,
        0,
        0,
        0
       ]
      }
     },
     "c2ff19c397a64d8aa925cefcab1c08d8": {
      "model_module": "ipysheet",
      "model_module_version": "~0.5.0",
      "model_name": "CellRangeModel",
      "state": {
       "_view_module": null,
       "_view_module_version": "",
       "column_end": 5,
       "column_start": 5,
       "row_end": 83,
       "row_start": 0,
       "squeeze_row": false,
       "type": "numeric",
       "value": [
        -24.8253879556,
        -52.0470635763,
        -51.323437852,
        29,
        30.962299914387533,
        32.44249598824875,
        33.24696820511287,
        33.376888531566586,
        32.96999040272959,
        32.231553651969115,
        31.375710932475293,
        30.588525874350633,
        30.012075962675382,
        29.743368593222783,
        29.841531799753223,
        30.33821737276967,
        31.247927701600666,
        32.576525762093475,
        34.32730444518984,
        36.50466362917244,
        39.115786461210824,
        42.17082531425412,
        45.682103936433016,
        49.662775816838185,
        54.12530052734099,
        59.08002596329259,
        64.5340953790679,
        70.49084057787817,
        76.94974599908977,
        83.90699214421947,
        91.35651571492613,
        99.29145851990795,
        107.70583684993105,
        116.59624834436467,
        125.96343847838794,
        135.81360232991884,
        146.15931469144877,
        157.0200596023539,
        168.42235431629328,
        180.3995190473268,
        192.99115817586406,
        206.24243683030022,
        220.2032424052525,
        234.92730603330153,
        250.47135525729558,
        266.8943502458763,
        284.2568388964308,
        302.62045919688654,
        322.0475918217781,
        342.60117574515783,
        364.34466923450634,
        387.34215855422906,
        411.6585919128501,
        437.360128982038,
        464.5145857262626,
        493.19196622749934,
        523.4650423762466,
        555.4099953659602,
        589.1070737377698,
        624.6412672417739,
        662.102973592713,
        701.5886499590331,
        743.2014350037208,
        787.0517293504159,
        833.2577350500592,
        881.945942022937,
        933.2515683881917,
        987.3189483257986,
        1044.3018757439704,
        1104.3639093580737,
        1167.6786423115814,
        1234.4299868066644,
        1304.8123455348198,
        1379.030932404489,
        1457.301994626762,
        1539.8531064172703,
        1626.9235022287464,
        1718.7644609189404,
        1815.6397584550245,
        1917.8262010407407,
        2025.614244719777,
        2139.308713280133,
        2259.229618868826,
        2385.7130906367056
       ]
      }
     },
     "c3b006bf1cf149a9905fcdad70764506": {
      "model_module": "ipysheet",
      "model_module_version": "~0.5.0",
      "model_name": "CellRangeModel",
      "state": {
       "_view_module": null,
       "_view_module_version": "",
       "column_end": 48,
       "column_start": 48,
       "row_end": 5,
       "row_start": 0,
       "squeeze_row": false,
       "type": "numeric",
       "value": [
        322.0475918217781,
        322.0475918217781,
        322.0475918217781,
        0,
        0,
        0
       ]
      }
     },
     "c4181e4ddedd4a88875afe3fbcb9f684": {
      "model_module": "@jupyter-widgets/base",
      "model_module_version": "1.2.0",
      "model_name": "LayoutModel",
      "state": {
       "width": "54%"
      }
     },
     "c44d4dc5f15042dcbda4fefd7deb11e8": {
      "model_module": "ipysheet",
      "model_module_version": "~0.5.0",
      "model_name": "SheetModel",
      "state": {
       "cells": [
        "IPY_MODEL_a5f9a01045ee4396bcbe6016d75dfa4b",
        "IPY_MODEL_fc85abc9b7a643fe8ec30271db73b82e",
        "IPY_MODEL_9ba615d3a21c4105a526a5fb9bf41f47",
        "IPY_MODEL_a6d9ad422c89448cbe1752af759c9307",
        "IPY_MODEL_721a13989e3347c990954e4998aa1654",
        "IPY_MODEL_c2ff19c397a64d8aa925cefcab1c08d8",
        "IPY_MODEL_b530709388a940da8223a9a6b45bfa6a",
        "IPY_MODEL_429fb4974cef477abb372e6240258b81",
        "IPY_MODEL_3060d4188b994989ba6e77170402c6c2"
       ],
       "column_headers": [
        "('OLD Method', 'PAKGGREVCO2CER')",
        "('OLD Method', 'PAKGGREVCO2OER')",
        "('OLD Method', 'PAKGGREVCO2GER')",
        "('New Method', 'PAKGGREVCO2CER')",
        "('New Method', 'PAKGGREVCO2OER')",
        "('New Method', 'PAKGGREVCO2GER')",
        "('Difference', 'PAKGGREVCO2CER')",
        "('Difference', 'PAKGGREVCO2OER')",
        "('Difference', 'PAKGGREVCO2GER')"
       ],
       "columns": 9,
       "layout": "IPY_MODEL_3d150dbfd13a4421a7de296cbbd50bd7",
       "row_headers": [
        "2017",
        "2018",
        "2019",
        "2020",
        "2021",
        "2022",
        "2023",
        "2024",
        "2025",
        "2026",
        "2027",
        "2028",
        "2029",
        "2030",
        "2031",
        "2032",
        "2033",
        "2034",
        "2035",
        "2036",
        "2037",
        "2038",
        "2039",
        "2040",
        "2041",
        "2042",
        "2043",
        "2044",
        "2045",
        "2046",
        "2047",
        "2048",
        "2049",
        "2050",
        "2051",
        "2052",
        "2053",
        "2054",
        "2055",
        "2056",
        "2057",
        "2058",
        "2059",
        "2060",
        "2061",
        "2062",
        "2063",
        "2064",
        "2065",
        "2066",
        "2067",
        "2068",
        "2069",
        "2070",
        "2071",
        "2072",
        "2073",
        "2074",
        "2075",
        "2076",
        "2077",
        "2078",
        "2079",
        "2080",
        "2081",
        "2082",
        "2083",
        "2084",
        "2085",
        "2086",
        "2087",
        "2088",
        "2089",
        "2090",
        "2091",
        "2092",
        "2093",
        "2094",
        "2095",
        "2096",
        "2097",
        "2098",
        "2099",
        "2100"
       ],
       "rows": 84
      }
     },
     "c4b56176e40641d59c8aba0be2cbded5": {
      "model_module": "ipysheet",
      "model_module_version": "~0.5.0",
      "model_name": "CellRangeModel",
      "state": {
       "_view_module": null,
       "_view_module_version": "",
       "column_end": 16,
       "column_start": 16,
       "row_end": 5,
       "row_start": 0,
       "squeeze_row": false,
       "type": "numeric",
       "value": [
        31.247927701600666,
        31.247927701600666,
        31.247927701600666,
        0,
        0,
        0
       ]
      }
     },
     "c4f971ce4e8c4fe4acb5808060b5aac5": {
      "model_module": "ipysheet",
      "model_module_version": "~0.5.0",
      "model_name": "CellRangeModel",
      "state": {
       "_view_module": null,
       "_view_module_version": "",
       "column_end": 28,
       "column_start": 28,
       "row_end": 5,
       "row_start": 0,
       "squeeze_row": false,
       "type": "numeric",
       "value": [
        76.94974599908977,
        76.94974599908977,
        76.94974599908977,
        0,
        0,
        0
       ]
      }
     },
     "c56533c8cf2e4cc9b64d405a072cebd6": {
      "model_module": "ipysheet",
      "model_module_version": "~0.5.0",
      "model_name": "CellRangeModel",
      "state": {
       "_view_module": null,
       "_view_module_version": "",
       "column_end": 57,
       "column_start": 57,
       "row_end": 5,
       "row_start": 0,
       "squeeze_row": false,
       "type": "numeric",
       "value": [
        555.4099953659602,
        555.4099953659602,
        555.4099953659602,
        0,
        0,
        0
       ]
      }
     },
     "c6ad6d2d70234ac2ba0351b832e505de": {
      "model_module": "ipysheet",
      "model_module_version": "~0.5.0",
      "model_name": "CellRangeModel",
      "state": {
       "_view_module": null,
       "_view_module_version": "",
       "column_end": 37,
       "column_start": 37,
       "row_end": 5,
       "row_start": 0,
       "squeeze_row": false,
       "type": "numeric",
       "value": [
        157.0200596023539,
        157.0200596023539,
        157.0200596023539,
        0,
        0,
        0
       ]
      }
     },
     "c73fbebbb4294053a9891b243c22546a": {
      "model_module": "ipysheet",
      "model_module_version": "~0.5.0",
      "model_name": "CellRangeModel",
      "state": {
       "_view_module": null,
       "_view_module_version": "",
       "column_end": 18,
       "column_start": 18,
       "row_end": 5,
       "row_start": 0,
       "squeeze_row": false,
       "type": "numeric",
       "value": [
        34.32730444518984,
        34.32730444518984,
        34.32730444518984,
        0,
        0,
        0
       ]
      }
     },
     "c763d2c36a454b1190df05645009606e": {
      "model_module": "ipysheet",
      "model_module_version": "~0.5.0",
      "model_name": "CellRangeModel",
      "state": {
       "_view_module": null,
       "_view_module_version": "",
       "column_end": 12,
       "column_start": 12,
       "row_end": 5,
       "row_start": 0,
       "squeeze_row": false,
       "type": "numeric",
       "value": [
        30.012075962675382,
        30.012075962675382,
        30.012075962675382,
        0,
        0,
        0
       ]
      }
     },
     "c800aa7a896a4a77ae922047fd96f465": {
      "model_module": "ipysheet",
      "model_module_version": "~0.5.0",
      "model_name": "CellRangeModel",
      "state": {
       "_view_module": null,
       "_view_module_version": "",
       "column_end": 59,
       "column_start": 59,
       "row_end": 5,
       "row_start": 0,
       "squeeze_row": false,
       "type": "numeric",
       "value": [
        624.6412672417739,
        624.6412672417739,
        624.6412672417739,
        0,
        0,
        0
       ]
      }
     },
     "c83420b077f14789bd4c61138d8e9009": {
      "model_module": "ipysheet",
      "model_module_version": "~0.5.0",
      "model_name": "CellRangeModel",
      "state": {
       "_view_module": null,
       "_view_module_version": "",
       "column_end": 4,
       "column_start": 4,
       "row_end": 83,
       "row_start": 0,
       "squeeze_row": false,
       "type": "numeric",
       "value": [
        0,
        0,
        0,
        0,
        0,
        0,
        0,
        0,
        0,
        0,
        0,
        0,
        0,
        0,
        0,
        0,
        0,
        0,
        0,
        0,
        0,
        0,
        0,
        0,
        0,
        0,
        0,
        0,
        0,
        0,
        0,
        0,
        0,
        0,
        0,
        0,
        0,
        0,
        0,
        0,
        0,
        0,
        0,
        0,
        0,
        0,
        0,
        0,
        0,
        0,
        0,
        0,
        0,
        0,
        0,
        0,
        0,
        0,
        0,
        0,
        0,
        0,
        0,
        0,
        0,
        0,
        0,
        0,
        0,
        0,
        0,
        0,
        0,
        0,
        0,
        0,
        0,
        0,
        0,
        0,
        0,
        0,
        0,
        -2387.1902848707055
       ]
      }
     },
     "c84b84aea7594a8e9e3d010cd1f944be": {
      "model_module": "ipysheet",
      "model_module_version": "~0.5.0",
      "model_name": "CellRangeModel",
      "state": {
       "_view_module": null,
       "_view_module_version": "",
       "row_end": 9,
       "row_start": 0,
       "squeeze_row": false,
       "type": "numeric",
       "value": [
        -1.3423136273,
        -1.5238607537000002,
        -1.4771942340000002,
        29,
        30.962299914387533,
        32.44249598824875,
        33.24696820511287,
        33.376888531566586,
        32.96999040272959,
        32.231553651969115
       ]
      }
     },
     "c8cfa1c6b37b4a27a30b477f53e28e12": {
      "model_module": "ipysheet",
      "model_module_version": "~0.5.0",
      "model_name": "CellRangeModel",
      "state": {
       "_view_module": null,
       "_view_module_version": "",
       "column_end": 21,
       "column_start": 21,
       "row_end": 5,
       "row_start": 0,
       "squeeze_row": false,
       "type": "numeric",
       "value": [
        42.17082531425412,
        42.17082531425412,
        42.17082531425412,
        0,
        0,
        0
       ]
      }
     },
     "c9f5530cfa8945c3afef49aab7796ee7": {
      "model_module": "ipysheet",
      "model_module_version": "~0.5.0",
      "model_name": "CellRangeModel",
      "state": {
       "_view_module": null,
       "_view_module_version": "",
       "column_end": 13,
       "column_start": 13,
       "row_end": 5,
       "row_start": 0,
       "squeeze_row": false,
       "type": "numeric",
       "value": [
        29.743368593222783,
        29.743368593222783,
        29.743368593222783,
        0,
        0,
        0
       ]
      }
     },
     "cb250a2732ce412dbfccc0e633e3d02a": {
      "model_module": "@jupyter-widgets/controls",
      "model_module_version": "1.5.0",
      "model_name": "DescriptionStyleModel",
      "state": {
       "description_width": ""
      }
     },
     "cb4bceeb8aa547ae9c3f38e0d39afeac": {
      "model_module": "@jupyter-widgets/controls",
      "model_module_version": "1.5.0",
      "model_name": "LabelModel",
      "state": {
       "layout": "IPY_MODEL_6eb9bc70369e42ed9cfbf58c20344f2e",
       "style": "IPY_MODEL_334c33b07c6449b09ef626e3ced7322e",
       "value": "Check real taxrates "
      }
     },
     "cc1e5aa5698640f5bd6dfa8dc052c013": {
      "model_module": "ipysheet",
      "model_module_version": "~0.5.0",
      "model_name": "CellRangeModel",
      "state": {
       "_view_module": null,
       "_view_module_version": "",
       "column_end": 17,
       "column_start": 17,
       "row_end": 5,
       "row_start": 0,
       "squeeze_row": false,
       "type": "numeric",
       "value": [
        32.576525762093475,
        32.576525762093475,
        32.576525762093475,
        0,
        0,
        0
       ]
      }
     },
     "cc7b81ea63b2459089c97e5693e1b79b": {
      "model_module": "ipysheet",
      "model_module_version": "~0.5.0",
      "model_name": "CellRangeModel",
      "state": {
       "_view_module": null,
       "_view_module_version": "",
       "row_end": 19,
       "row_start": 0,
       "squeeze_row": false,
       "type": "numeric",
       "value": [
        -1.3423136273,
        -1.5238607537000002,
        -1.4771942340000002,
        29,
        30.962299914387533,
        32.44249598824875,
        33.24696820511287,
        33.376888531566586,
        32.96999040272959,
        32.231553651969115,
        31.375710932475293,
        30.588525874350633,
        30.012075962675382,
        29.743368593222783,
        29.841531799753223,
        30.33821737276967,
        31.247927701600666,
        32.576525762093475,
        34.32730444518984,
        36.50466362917244
       ]
      }
     },
     "cca3115fc96044e3ad2855e6b9b28e0b": {
      "model_module": "ipysheet",
      "model_module_version": "~0.5.0",
      "model_name": "CellRangeModel",
      "state": {
       "_view_module": null,
       "_view_module_version": "",
       "column_end": 26,
       "column_start": 26,
       "row_end": 5,
       "row_start": 0,
       "squeeze_row": false,
       "type": "numeric",
       "value": [
        64.5340953790679,
        64.5340953790679,
        64.5340953790679,
        0,
        0,
        0
       ]
      }
     },
     "cdd7c3dd4fad4ee790ed7d3cde76408f": {
      "model_module": "ipysheet",
      "model_module_version": "~0.5.0",
      "model_name": "CellRangeModel",
      "state": {
       "_view_module": null,
       "_view_module_version": "",
       "column_end": 16,
       "column_start": 16,
       "row_end": 5,
       "row_start": 0,
       "squeeze_row": false,
       "type": "numeric",
       "value": [
        31.247927701600666,
        31.247927701600666,
        31.247927701600666,
        0,
        0,
        0
       ]
      }
     },
     "cde0687ac0854cb0aa7e3389b7eccdc7": {
      "model_module": "ipysheet",
      "model_module_version": "~0.5.0",
      "model_name": "CellRangeModel",
      "state": {
       "_view_module": null,
       "_view_module_version": "",
       "column_end": 15,
       "column_start": 15,
       "row_end": 5,
       "row_start": 0,
       "squeeze_row": false,
       "type": "numeric",
       "value": [
        30.33821737276967,
        30.33821737276967,
        30.33821737276967,
        0,
        0,
        0
       ]
      }
     },
     "cf4519ba400d4bbf994c2e272cc21638": {
      "model_module": "@jupyter-widgets/controls",
      "model_module_version": "1.5.0",
      "model_name": "VBoxModel",
      "state": {
       "children": [
        "IPY_MODEL_effc52c040fe4f84940a1a3357c5537e",
        "IPY_MODEL_a23310ccf16b490f9e2e9e423534c84f"
       ],
       "layout": "IPY_MODEL_bbc25f2432354623a025bee3bd2f1af4"
      }
     },
     "cf6a110789b34c1a864bb93f38d9c56a": {
      "model_module": "ipysheet",
      "model_module_version": "~0.5.0",
      "model_name": "CellRangeModel",
      "state": {
       "_view_module": null,
       "_view_module_version": "",
       "column_end": 78,
       "column_start": 78,
       "row_end": 5,
       "row_start": 0,
       "squeeze_row": false,
       "type": "numeric",
       "value": [
        1815.6397584550245,
        1815.6397584550245,
        1815.6397584550245,
        0,
        0,
        0
       ]
      }
     },
     "cfc98b19eb11493d9c51f8ca160e8270": {
      "model_module": "ipysheet",
      "model_module_version": "~0.5.0",
      "model_name": "CellRangeModel",
      "state": {
       "_view_module": null,
       "_view_module_version": "",
       "column_end": 66,
       "column_start": 66,
       "row_end": 5,
       "row_start": 0,
       "squeeze_row": false,
       "type": "numeric",
       "value": [
        933.2515683881917,
        933.2515683881917,
        933.2515683881917,
        0,
        0,
        0
       ]
      }
     },
     "d0af9a75ba1d419bbb9c3cba5de5be39": {
      "model_module": "ipysheet",
      "model_module_version": "~0.5.0",
      "model_name": "CellRangeModel",
      "state": {
       "_view_module": null,
       "_view_module_version": "",
       "column_end": 30,
       "column_start": 30,
       "row_end": 5,
       "row_start": 0,
       "squeeze_row": false,
       "type": "numeric",
       "value": [
        91.35651571492613,
        91.35651571492613,
        91.35651571492613,
        0,
        0,
        0
       ]
      }
     },
     "d0bf263a883b4adb87692652d5caf99a": {
      "model_module": "ipysheet",
      "model_module_version": "~0.5.0",
      "model_name": "CellRangeModel",
      "state": {
       "_view_module": null,
       "_view_module_version": "",
       "column_end": 38,
       "column_start": 38,
       "row_end": 5,
       "row_start": 0,
       "squeeze_row": false,
       "type": "numeric",
       "value": [
        168.42235431629328,
        168.42235431629328,
        168.42235431629328,
        0,
        0,
        0
       ]
      }
     },
     "d0f0bbb2d48e4f84ba59ca7eeac370a3": {
      "model_module": "ipysheet",
      "model_module_version": "~0.5.0",
      "model_name": "CellRangeModel",
      "state": {
       "_view_module": null,
       "_view_module_version": "",
       "column_end": 19,
       "column_start": 19,
       "row_end": 5,
       "row_start": 0,
       "squeeze_row": false,
       "type": "numeric",
       "value": [
        36.50466362917244,
        36.50466362917244,
        36.50466362917244,
        0,
        0,
        0
       ]
      }
     },
     "d198765dccdc4521bc1518d3104f9ee6": {
      "model_module": "ipysheet",
      "model_module_version": "~0.5.0",
      "model_name": "CellRangeModel",
      "state": {
       "_view_module": null,
       "_view_module_version": "",
       "column_end": 40,
       "column_start": 40,
       "row_end": 5,
       "row_start": 0,
       "squeeze_row": false,
       "type": "numeric",
       "value": [
        192.99115817586406,
        192.99115817586406,
        192.99115817586406,
        0,
        0,
        0
       ]
      }
     },
     "d319927c1a9b4f07bb28c03e1ab8059f": {
      "model_module": "ipysheet",
      "model_module_version": "~0.5.0",
      "model_name": "CellRangeModel",
      "state": {
       "_view_module": null,
       "_view_module_version": "",
       "column_end": 50,
       "column_start": 50,
       "row_end": 5,
       "row_start": 0,
       "squeeze_row": false,
       "type": "numeric",
       "value": [
        364.34466923450634,
        364.34466923450634,
        364.34466923450634,
        0,
        0,
        0
       ]
      }
     },
     "d3609c1d7b074ab5948eb1da51cf8708": {
      "model_module": "@jupyter-widgets/base",
      "model_module_version": "1.2.0",
      "model_name": "LayoutModel",
      "state": {
       "width": "54%"
      }
     },
     "d3c8ab1ff541409182d349cd16e02c66": {
      "model_module": "ipysheet",
      "model_module_version": "~0.5.0",
      "model_name": "CellRangeModel",
      "state": {
       "_view_module": null,
       "_view_module_version": "",
       "column_end": 8,
       "column_start": 8,
       "row_end": 5,
       "row_start": 0,
       "squeeze_row": false,
       "type": "numeric",
       "value": [
        32.96999040272959,
        32.96999040272959,
        32.96999040272959,
        0,
        0,
        0
       ]
      }
     },
     "d7611406e284440999e49d566f914024": {
      "model_module": "@jupyter-widgets/base",
      "model_module_version": "1.2.0",
      "model_name": "LayoutModel",
      "state": {}
     },
     "d76b9965b0e344fa9b380510b7da3db6": {
      "model_module": "ipysheet",
      "model_module_version": "~0.5.0",
      "model_name": "CellRangeModel",
      "state": {
       "_view_module": null,
       "_view_module_version": "",
       "column_end": 5,
       "column_start": 5,
       "row_end": 5,
       "row_start": 0,
       "squeeze_row": false,
       "type": "numeric",
       "value": [
        32.44249598824875,
        32.44249598824875,
        32.44249598824875,
        0,
        0,
        0
       ]
      }
     },
     "d86abb7a91a04b4694c88a6c20c7efb1": {
      "model_module": "@jupyter-widgets/base",
      "model_module_version": "1.2.0",
      "model_name": "LayoutModel",
      "state": {
       "height": "auto",
       "width": "auto"
      }
     },
     "d8edc10a590649f3a08a6dd3eadf4fe8": {
      "model_module": "ipysheet",
      "model_module_version": "~0.5.0",
      "model_name": "CellRangeModel",
      "state": {
       "_view_module": null,
       "_view_module_version": "",
       "column_end": 26,
       "column_start": 26,
       "row_end": 5,
       "row_start": 0,
       "squeeze_row": false,
       "type": "numeric",
       "value": [
        64.5340953790679,
        64.5340953790679,
        64.5340953790679,
        0,
        0,
        0
       ]
      }
     },
     "d99d507cd8264110a66400ecb1ed57af": {
      "model_module": "ipysheet",
      "model_module_version": "~0.5.0",
      "model_name": "CellRangeModel",
      "state": {
       "_view_module": null,
       "_view_module_version": "",
       "column_end": 3,
       "column_start": 3,
       "row_end": 19,
       "row_start": 0,
       "squeeze_row": false,
       "type": "numeric",
       "value": [
        0,
        0,
        0,
        0,
        0,
        0,
        0,
        0,
        0,
        0,
        0,
        0,
        0,
        0,
        0,
        0,
        0,
        0,
        0,
        0
       ]
      }
     },
     "d9aea4570f084630b6f7fcc5a6261ff5": {
      "model_module": "@jupyter-widgets/controls",
      "model_module_version": "1.5.0",
      "model_name": "DescriptionStyleModel",
      "state": {
       "description_width": ""
      }
     },
     "dac5b989f501497bbc12c6e150c1d937": {
      "model_module": "ipysheet",
      "model_module_version": "~0.5.0",
      "model_name": "CellRangeModel",
      "state": {
       "_view_module": null,
       "_view_module_version": "",
       "column_end": 55,
       "column_start": 55,
       "row_end": 5,
       "row_start": 0,
       "squeeze_row": false,
       "type": "numeric",
       "value": [
        493.19196622749934,
        493.19196622749934,
        493.19196622749934,
        0,
        0,
        0
       ]
      }
     },
     "dafa6d03df2240629a6efe2a346dffac": {
      "model_module": "ipysheet",
      "model_module_version": "~0.5.0",
      "model_name": "CellRangeModel",
      "state": {
       "_view_module": null,
       "_view_module_version": "",
       "row_end": 83,
       "row_start": 0,
       "squeeze_row": false,
       "type": "numeric",
       "value": [
        -1.3423136273,
        -1.5238607537000002,
        -1.4771942340000002,
        29,
        30.962299914387533,
        32.44249598824875,
        33.24696820511287,
        33.376888531566586,
        32.96999040272959,
        32.231553651969115,
        31.375710932475293,
        30.588525874350633,
        30.012075962675382,
        29.743368593222783,
        29.841531799753223,
        30.33821737276967,
        31.247927701600666,
        32.576525762093475,
        34.32730444518984,
        36.50466362917244,
        39.115786461210824,
        42.17082531425412,
        45.682103936433016,
        49.662775816838185,
        54.12530052734099,
        59.08002596329259,
        64.5340953790679,
        70.49084057787817,
        76.94974599908977,
        83.90699214421947,
        91.35651571492613,
        99.29145851990795,
        107.70583684993105,
        116.59624834436467,
        125.96343847838794,
        135.81360232991884,
        146.15931469144877,
        157.0200596023539,
        168.42235431629328,
        180.3995190473268,
        192.99115817586406,
        206.24243683030022,
        220.2032424052525,
        234.92730603330153,
        250.47135525729558,
        266.8943502458763,
        284.2568388964308,
        302.62045919688654,
        322.0475918217781,
        342.60117574515783,
        364.34466923450634,
        387.34215855422906,
        411.6585919128501,
        437.360128982038,
        464.5145857262626,
        493.19196622749934,
        523.4650423762466,
        555.4099953659602,
        589.1070737377698,
        624.6412672417739,
        662.102973592713,
        701.5886499590331,
        743.2014350037208,
        787.0517293504159,
        833.2577350500592,
        881.945942022937,
        933.2515683881917,
        987.3189483257986,
        1044.3018757439704,
        1104.3639093580737,
        1167.6786423115814,
        1234.4299868066644,
        1304.8123455348198,
        1379.030932404489,
        1457.301994626762,
        1539.8531064172703,
        1626.9235022287464,
        1718.7644609189404,
        1815.6397584550245,
        1917.8262010407407,
        2025.614244719777,
        2139.308713280133,
        2259.229618868826,
        2385.7130906367056
       ]
      }
     },
     "dafdf142552a437da19372b839015407": {
      "model_module": "ipysheet",
      "model_module_version": "~0.5.0",
      "model_name": "CellRangeModel",
      "state": {
       "_view_module": null,
       "_view_module_version": "",
       "column_end": 0,
       "column_start": 0,
       "row_end": 9,
       "row_start": 0,
       "squeeze_row": false,
       "type": "numeric",
       "value": [
        0,
        0,
        0,
        29,
        30.962299914387533,
        32.44249598824875,
        33.24696820511287,
        33.376888531566586,
        32.96999040272959,
        32.231553651969115
       ]
      }
     },
     "db45ade5a2c6451baeab0eb0a270d06f": {
      "model_module": "@jupyter-widgets/base",
      "model_module_version": "1.2.0",
      "model_name": "LayoutModel",
      "state": {}
     },
     "db6d7d87ee9543cb93e0f7f38de7d753": {
      "model_module": "@jupyter-widgets/base",
      "model_module_version": "1.2.0",
      "model_name": "LayoutModel",
      "state": {
       "width": "54%"
      }
     },
     "dcf08db7da164f1bbacf5b96ce6a6f91": {
      "model_module": "ipysheet",
      "model_module_version": "~0.5.0",
      "model_name": "CellRangeModel",
      "state": {
       "_view_module": null,
       "_view_module_version": "",
       "column_end": 47,
       "column_start": 47,
       "row_end": 5,
       "row_start": 0,
       "squeeze_row": false,
       "type": "numeric",
       "value": [
        302.62045919688654,
        302.62045919688654,
        302.62045919688654,
        0,
        0,
        0
       ]
      }
     },
     "dd0065fd70b748c996e527acbb3d033a": {
      "model_module": "ipysheet",
      "model_module_version": "~0.5.0",
      "model_name": "CellRangeModel",
      "state": {
       "_view_module": null,
       "_view_module_version": "",
       "column_end": 36,
       "column_start": 36,
       "row_end": 5,
       "row_start": 0,
       "squeeze_row": false,
       "type": "numeric",
       "value": [
        146.15931469144877,
        146.15931469144877,
        146.15931469144877,
        0,
        0,
        0
       ]
      }
     },
     "dd9a0631c64b43e58be7311ea9ab1f9d": {
      "model_module": "ipysheet",
      "model_module_version": "~0.5.0",
      "model_name": "CellRangeModel",
      "state": {
       "_view_module": null,
       "_view_module_version": "",
       "column_end": 0,
       "column_start": 0,
       "row_end": 83,
       "row_start": 0,
       "squeeze_row": false,
       "type": "numeric",
       "value": [
        0,
        0,
        0,
        29,
        30.962299914387533,
        32.44249598824875,
        33.24696820511287,
        33.376888531566586,
        32.96999040272959,
        32.231553651969115,
        31.375710932475293,
        30.588525874350633,
        30.012075962675382,
        29.743368593222783,
        29.841531799753223,
        30.33821737276967,
        31.247927701600666,
        32.576525762093475,
        34.32730444518984,
        36.50466362917244,
        39.115786461210824,
        42.17082531425412,
        45.682103936433016,
        49.662775816838185,
        54.12530052734099,
        59.08002596329259,
        64.5340953790679,
        70.49084057787817,
        76.94974599908977,
        83.90699214421947,
        91.35651571492613,
        99.29145851990795,
        107.70583684993105,
        116.59624834436467,
        125.96343847838794,
        135.81360232991884,
        146.15931469144877,
        157.0200596023539,
        168.42235431629328,
        180.3995190473268,
        192.99115817586406,
        206.24243683030022,
        220.2032424052525,
        234.92730603330153,
        250.47135525729558,
        266.8943502458763,
        284.2568388964308,
        302.62045919688654,
        322.0475918217781,
        342.60117574515783,
        364.34466923450634,
        387.34215855422906,
        411.6585919128501,
        437.360128982038,
        464.5145857262626,
        493.19196622749934,
        523.4650423762466,
        555.4099953659602,
        589.1070737377698,
        624.6412672417739,
        662.102973592713,
        701.5886499590331,
        743.2014350037208,
        787.0517293504159,
        833.2577350500592,
        881.945942022937,
        933.2515683881917,
        987.3189483257986,
        1044.3018757439704,
        1104.3639093580737,
        1167.6786423115814,
        1234.4299868066644,
        1304.8123455348198,
        1379.030932404489,
        1457.301994626762,
        1539.8531064172703,
        1626.9235022287464,
        1718.7644609189404,
        1815.6397584550245,
        1917.8262010407407,
        2025.614244719777,
        2139.308713280133,
        2259.229618868826,
        0
       ]
      }
     },
     "ddd98936d4e64b0bb256cae1844f5a6d": {
      "model_module": "ipysheet",
      "model_module_version": "~0.5.0",
      "model_name": "CellRangeModel",
      "state": {
       "_view_module": null,
       "_view_module_version": "",
       "column_end": 73,
       "column_start": 73,
       "row_end": 5,
       "row_start": 0,
       "squeeze_row": false,
       "type": "numeric",
       "value": [
        1379.030932404489,
        1379.030932404489,
        1379.030932404489,
        0,
        0,
        0
       ]
      }
     },
     "dde47e8e7c584b329f417baa5356d4fc": {
      "model_module": "ipysheet",
      "model_module_version": "~0.5.0",
      "model_name": "CellRangeModel",
      "state": {
       "_view_module": null,
       "_view_module_version": "",
       "column_end": 0,
       "column_start": 0,
       "row_end": 19,
       "row_start": 0,
       "squeeze_row": false,
       "type": "numeric",
       "value": [
        0,
        0,
        0,
        29,
        30.962299914387533,
        32.44249598824875,
        33.24696820511287,
        33.376888531566586,
        32.96999040272959,
        32.231553651969115,
        31.375710932475293,
        30.588525874350633,
        30.012075962675382,
        29.743368593222783,
        29.841531799753223,
        30.33821737276967,
        31.247927701600666,
        32.576525762093475,
        34.32730444518984,
        36.50466362917244
       ]
      }
     },
     "df2256f93f064062bf18436f6717d1dc": {
      "model_module": "@jupyter-widgets/controls",
      "model_module_version": "1.5.0",
      "model_name": "DescriptionStyleModel",
      "state": {
       "description_width": ""
      }
     },
     "df8054bc38a64f18bcdbec1f4df05918": {
      "model_module": "ipysheet",
      "model_module_version": "~0.5.0",
      "model_name": "CellRangeModel",
      "state": {
       "_view_module": null,
       "_view_module_version": "",
       "column_end": 5,
       "column_start": 5,
       "row_end": 19,
       "row_start": 0,
       "squeeze_row": false,
       "type": "numeric",
       "value": [
        -24.8253879556,
        -52.0470635763,
        -51.323437852,
        29,
        30.962299914387533,
        32.44249598824875,
        33.24696820511287,
        33.376888531566586,
        32.96999040272959,
        32.231553651969115,
        31.375710932475293,
        30.588525874350633,
        30.012075962675382,
        29.743368593222783,
        29.841531799753223,
        30.33821737276967,
        31.247927701600666,
        32.576525762093475,
        34.32730444518984,
        36.50466362917244
       ]
      }
     },
     "dfd861691e73402199757d50b9a87952": {
      "model_module": "ipysheet",
      "model_module_version": "~0.5.0",
      "model_name": "CellRangeModel",
      "state": {
       "_view_module": null,
       "_view_module_version": "",
       "column_end": 54,
       "column_start": 54,
       "row_end": 5,
       "row_start": 0,
       "squeeze_row": false,
       "type": "numeric",
       "value": [
        464.5145857262626,
        464.5145857262626,
        464.5145857262626,
        0,
        0,
        0
       ]
      }
     },
     "dfece3b3b0ba4bfb8d551ff6c9580a2d": {
      "model_module": "@jupyter-widgets/controls",
      "model_module_version": "1.5.0",
      "model_name": "VBoxModel",
      "state": {
       "children": [
        "IPY_MODEL_2aeaa844e27a4140953f6a9c066581a7",
        "IPY_MODEL_1f4b8bcd29294988be3d26e3a27f38d1"
       ],
       "layout": "IPY_MODEL_38fcc8ba88b7488e86f652deaefc1e4a"
      }
     },
     "e10cd0845f6d4e9ca9541811be893b86": {
      "model_module": "ipysheet",
      "model_module_version": "~0.5.0",
      "model_name": "CellRangeModel",
      "state": {
       "_view_module": null,
       "_view_module_version": "",
       "column_end": 28,
       "column_start": 28,
       "row_end": 5,
       "row_start": 0,
       "squeeze_row": false,
       "type": "numeric",
       "value": [
        76.94974599908977,
        76.94974599908977,
        76.94974599908977,
        0,
        0,
        0
       ]
      }
     },
     "e13f36fde2a144b3b3551cd20b435132": {
      "model_module": "ipysheet",
      "model_module_version": "~0.5.0",
      "model_name": "CellRangeModel",
      "state": {
       "_view_module": null,
       "_view_module_version": "",
       "column_end": 75,
       "column_start": 75,
       "row_end": 5,
       "row_start": 0,
       "squeeze_row": false,
       "type": "numeric",
       "value": [
        1539.8531064172703,
        1539.8531064172703,
        1539.8531064172703,
        0,
        0,
        0
       ]
      }
     },
     "e1d2f04040bc4a77a3bea6f9cffe7065": {
      "model_module": "ipysheet",
      "model_module_version": "~0.5.0",
      "model_name": "CellRangeModel",
      "state": {
       "_view_module": null,
       "_view_module_version": "",
       "row_end": 9,
       "row_start": 0,
       "squeeze_row": false,
       "type": "numeric",
       "value": [
        -1.3423136273,
        -1.5238607537000002,
        -1.4771942340000002,
        29,
        30.962299914387533,
        32.44249598824875,
        33.24696820511287,
        33.376888531566586,
        32.96999040272959,
        32.231553651969115
       ]
      }
     },
     "e2f19dff6c144154be2740bfb7892626": {
      "model_module": "ipysheet",
      "model_module_version": "~0.5.0",
      "model_name": "CellRangeModel",
      "state": {
       "_view_module": null,
       "_view_module_version": "",
       "column_end": 4,
       "column_start": 4,
       "row_end": 5,
       "row_start": 0,
       "squeeze_row": false,
       "type": "numeric",
       "value": [
        30.962299914387533,
        30.962299914387533,
        30.962299914387533,
        0,
        0,
        0
       ]
      }
     },
     "e3c907b52cf84a3abccb0eb787a92029": {
      "model_module": "ipysheet",
      "model_module_version": "~0.5.0",
      "model_name": "CellRangeModel",
      "state": {
       "_view_module": null,
       "_view_module_version": "",
       "row_end": 19,
       "row_start": 0,
       "squeeze_row": false,
       "type": "numeric",
       "value": [
        -1.3423136273,
        -1.5238607537000002,
        -1.4771942340000002,
        29,
        30.962299914387533,
        32.44249598824875,
        33.24696820511287,
        33.376888531566586,
        32.96999040272959,
        32.231553651969115,
        31.375710932475293,
        30.588525874350633,
        30.012075962675382,
        29.743368593222783,
        29.841531799753223,
        30.33821737276967,
        31.247927701600666,
        32.576525762093475,
        34.32730444518984,
        36.50466362917244
       ]
      }
     },
     "e3f53257660a481ca33e34c9d3854fef": {
      "model_module": "ipysheet",
      "model_module_version": "~0.5.0",
      "model_name": "CellRangeModel",
      "state": {
       "_view_module": null,
       "_view_module_version": "",
       "column_end": 5,
       "column_start": 5,
       "row_end": 83,
       "row_start": 0,
       "squeeze_row": false,
       "type": "numeric",
       "value": [
        0,
        0,
        0,
        0,
        0,
        0,
        0,
        0,
        0,
        0,
        0,
        0,
        0,
        0,
        0,
        0,
        0,
        0,
        0,
        0,
        0,
        0,
        0,
        0,
        0,
        0,
        0,
        0,
        0,
        0,
        0,
        0,
        0,
        0,
        0,
        0,
        0,
        0,
        0,
        0,
        0,
        0,
        0,
        0,
        0,
        0,
        0,
        0,
        0,
        0,
        0,
        0,
        0,
        0,
        0,
        0,
        0,
        0,
        0,
        0,
        0,
        0,
        0,
        0,
        0,
        0,
        0,
        0,
        0,
        0,
        0,
        0,
        0,
        0,
        0,
        0,
        0,
        0,
        0,
        0,
        0,
        0,
        0,
        -2437.0365284887057
       ]
      }
     },
     "e44ffb5e140e4bf9896d77fbe08f1eec": {
      "model_module": "ipysheet",
      "model_module_version": "~0.5.0",
      "model_name": "CellRangeModel",
      "state": {
       "_view_module": null,
       "_view_module_version": "",
       "column_end": 10,
       "column_start": 10,
       "row_end": 5,
       "row_start": 0,
       "squeeze_row": false,
       "type": "numeric",
       "value": [
        31.375710932475293,
        31.375710932475293,
        31.375710932475293,
        0,
        0,
        0
       ]
      }
     },
     "e4ea4fd9a77547c89b469ad4d2965a4e": {
      "model_module": "@jupyter-widgets/base",
      "model_module_version": "1.2.0",
      "model_name": "LayoutModel",
      "state": {
       "width": "54%"
      }
     },
     "e51d9949dceb44fa88e49c591f7c4c8f": {
      "model_module": "ipysheet",
      "model_module_version": "~0.5.0",
      "model_name": "CellRangeModel",
      "state": {
       "_view_module": null,
       "_view_module_version": "",
       "column_end": 42,
       "column_start": 42,
       "row_end": 5,
       "row_start": 0,
       "squeeze_row": false,
       "type": "numeric",
       "value": [
        220.2032424052525,
        220.2032424052525,
        220.2032424052525,
        0,
        0,
        0
       ]
      }
     },
     "e5727d002cfe4ca1b604d5f8a1f329b9": {
      "model_module": "ipysheet",
      "model_module_version": "~0.5.0",
      "model_name": "CellRangeModel",
      "state": {
       "_view_module": null,
       "_view_module_version": "",
       "column_end": 9,
       "column_start": 9,
       "row_end": 5,
       "row_start": 0,
       "squeeze_row": false,
       "type": "numeric",
       "value": [
        32.231553651969115,
        32.231553651969115,
        32.231553651969115,
        0,
        0,
        0
       ]
      }
     },
     "e5d0f22ba202418bb4e69f98d01b48fd": {
      "model_module": "ipysheet",
      "model_module_version": "~0.5.0",
      "model_name": "CellRangeModel",
      "state": {
       "_view_module": null,
       "_view_module_version": "",
       "column_end": 7,
       "column_start": 7,
       "row_end": 5,
       "row_start": 0,
       "squeeze_row": false,
       "type": "numeric",
       "value": [
        33.376888531566586,
        33.376888531566586,
        33.376888531566586,
        0,
        0,
        0
       ]
      }
     },
     "e5e012db56df4a2281b40462760f7803": {
      "model_module": "ipysheet",
      "model_module_version": "~0.5.0",
      "model_name": "CellRangeModel",
      "state": {
       "_view_module": null,
       "_view_module_version": "",
       "column_end": 76,
       "column_start": 76,
       "row_end": 5,
       "row_start": 0,
       "squeeze_row": false,
       "type": "numeric",
       "value": [
        1626.9235022287464,
        1626.9235022287464,
        1626.9235022287464,
        0,
        0,
        0
       ]
      }
     },
     "e6597e1ed4684d28aad1c5fd3ef1ec5d": {
      "model_module": "ipysheet",
      "model_module_version": "~0.5.0",
      "model_name": "CellRangeModel",
      "state": {
       "_view_module": null,
       "_view_module_version": "",
       "column_end": 2,
       "column_start": 2,
       "row_end": 9,
       "row_start": 0,
       "squeeze_row": false,
       "type": "numeric",
       "value": [
        -24.8253879556,
        -52.0470635763,
        -51.323437852,
        29,
        30.962299914387533,
        32.44249598824875,
        33.24696820511287,
        33.376888531566586,
        32.96999040272959,
        32.231553651969115
       ]
      }
     },
     "e8ece835fe184c1a944cafbc92e6050a": {
      "model_module": "ipysheet",
      "model_module_version": "~0.5.0",
      "model_name": "CellRangeModel",
      "state": {
       "_view_module": null,
       "_view_module_version": "",
       "column_end": 6,
       "column_start": 6,
       "row_end": 5,
       "row_start": 0,
       "squeeze_row": false,
       "type": "numeric",
       "value": [
        33.24696820511287,
        33.24696820511287,
        33.24696820511287,
        0,
        0,
        0
       ]
      }
     },
     "eb7400a5ff894a0bac82dd68a46df8a6": {
      "model_module": "ipysheet",
      "model_module_version": "~0.5.0",
      "model_name": "SheetModel",
      "state": {
       "cells": [
        "IPY_MODEL_dde47e8e7c584b329f417baa5356d4fc",
        "IPY_MODEL_cc7b81ea63b2459089c97e5693e1b79b",
        "IPY_MODEL_1186a1c229cc46f19e5019364177ecbc",
        "IPY_MODEL_2f8f07353bb54cbb931a038bb22d9f96",
        "IPY_MODEL_7aea28c75db64155bf4c6306872b07cf",
        "IPY_MODEL_df8054bc38a64f18bcdbec1f4df05918",
        "IPY_MODEL_4ad26061b94345008aedd994d4be88e1",
        "IPY_MODEL_a228d721d1954104a8bc5caed48a004b",
        "IPY_MODEL_257a5377a9844f169b024f125f3cff69"
       ],
       "column_headers": [
        "('OLD Method', 'PAKGGREVCO2CER')",
        "('OLD Method', 'PAKGGREVCO2OER')",
        "('OLD Method', 'PAKGGREVCO2GER')",
        "('New Method', 'PAKGGREVCO2CER')",
        "('New Method', 'PAKGGREVCO2OER')",
        "('New Method', 'PAKGGREVCO2GER')",
        "('Difference', 'PAKGGREVCO2CER')",
        "('Difference', 'PAKGGREVCO2OER')",
        "('Difference', 'PAKGGREVCO2GER')"
       ],
       "columns": 9,
       "layout": "IPY_MODEL_5737e09612644bec80009d58234564ca",
       "row_headers": [
        "2017",
        "2018",
        "2019",
        "2020",
        "2021",
        "2022",
        "2023",
        "2024",
        "2025",
        "2026",
        "2027",
        "2028",
        "2029",
        "2030",
        "2031",
        "2032",
        "2033",
        "2034",
        "2035",
        "2036"
       ],
       "rows": 20
      }
     },
     "ee0f7ffc12af4d5b8f9e6fbc14b5309d": {
      "model_module": "ipysheet",
      "model_module_version": "~0.5.0",
      "model_name": "CellRangeModel",
      "state": {
       "_view_module": null,
       "_view_module_version": "",
       "row_end": 9,
       "row_start": 0,
       "squeeze_row": false,
       "type": "numeric",
       "value": [
        -1.3423136273,
        -1.5238607537000002,
        -1.4771942340000002,
        29,
        30.962299914387533,
        32.44249598824875,
        33.24696820511287,
        33.376888531566586,
        32.96999040272959,
        32.231553651969115
       ]
      }
     },
     "ee1d9ce1ee1c408396c58d27d7557f6e": {
      "model_module": "ipysheet",
      "model_module_version": "~0.5.0",
      "model_name": "CellRangeModel",
      "state": {
       "_view_module": null,
       "_view_module_version": "",
       "column_end": 6,
       "column_start": 6,
       "row_end": 5,
       "row_start": 0,
       "squeeze_row": false,
       "type": "numeric",
       "value": [
        33.24696820511287,
        33.24696820511287,
        33.24696820511287,
        0,
        0,
        0
       ]
      }
     },
     "ee9f1515d8b74dfe9d81407ffced50b6": {
      "model_module": "ipysheet",
      "model_module_version": "~0.5.0",
      "model_name": "CellRangeModel",
      "state": {
       "_view_module": null,
       "_view_module_version": "",
       "row_end": 5,
       "row_start": 0,
       "squeeze_row": false,
       "type": "numeric",
       "value": [
        0,
        -1.5238607537000002,
        -52.0470635763,
        0,
        0,
        0
       ]
      }
     },
     "ef581d0232bb46faa9bf08a2180f3a5a": {
      "model_module": "ipysheet",
      "model_module_version": "~0.5.0",
      "model_name": "CellRangeModel",
      "state": {
       "_view_module": null,
       "_view_module_version": "",
       "column_end": 33,
       "column_start": 33,
       "row_end": 5,
       "row_start": 0,
       "squeeze_row": false,
       "type": "numeric",
       "value": [
        116.59624834436467,
        116.59624834436467,
        116.59624834436467,
        0,
        0,
        0
       ]
      }
     },
     "ef8965b006364a40a0e7040b43e4f01e": {
      "model_module": "ipysheet",
      "model_module_version": "~0.5.0",
      "model_name": "CellRangeModel",
      "state": {
       "_view_module": null,
       "_view_module_version": "",
       "column_end": 40,
       "column_start": 40,
       "row_end": 5,
       "row_start": 0,
       "squeeze_row": false,
       "type": "numeric",
       "value": [
        192.99115817586406,
        192.99115817586406,
        192.99115817586406,
        0,
        0,
        0
       ]
      }
     },
     "effc52c040fe4f84940a1a3357c5537e": {
      "model_module": "@jupyter-widgets/controls",
      "model_module_version": "1.5.0",
      "model_name": "LabelModel",
      "state": {
       "layout": "IPY_MODEL_c2073804bf39401ebf09d4745f99a2a1",
       "style": "IPY_MODEL_45317a4038f34b818260d46dc9258bcd",
       "value": "Check real taxrates "
      }
     },
     "f126c2b54b3f4547b9b9917b7b861b2d": {
      "model_module": "ipysheet",
      "model_module_version": "~0.5.0",
      "model_name": "CellRangeModel",
      "state": {
       "_view_module": null,
       "_view_module_version": "",
       "column_end": 2,
       "column_start": 2,
       "row_end": 5,
       "row_start": 0,
       "squeeze_row": false,
       "type": "numeric",
       "value": [
        0,
        -1.4771942340000002,
        -51.323437852,
        0,
        0,
        0
       ]
      }
     },
     "f40706fb3e0f4c3bb3bd827512e88408": {
      "model_module": "ipysheet",
      "model_module_version": "~0.5.0",
      "model_name": "CellRangeModel",
      "state": {
       "_view_module": null,
       "_view_module_version": "",
       "column_end": 2,
       "column_start": 2,
       "row_end": 5,
       "row_start": 0,
       "squeeze_row": false,
       "type": "numeric",
       "value": [
        0,
        -1.4771942340000002,
        -51.323437852,
        0,
        0,
        0
       ]
      }
     },
     "f40b2d474e0440f2ad28997dd2b1feb5": {
      "model_module": "ipysheet",
      "model_module_version": "~0.5.0",
      "model_name": "CellRangeModel",
      "state": {
       "_view_module": null,
       "_view_module_version": "",
       "column_end": 74,
       "column_start": 74,
       "row_end": 5,
       "row_start": 0,
       "squeeze_row": false,
       "type": "numeric",
       "value": [
        1457.301994626762,
        1457.301994626762,
        1457.301994626762,
        0,
        0,
        0
       ]
      }
     },
     "f4196f3c987e4d93bc642313dfc022c1": {
      "model_module": "@jupyter-widgets/controls",
      "model_module_version": "1.5.0",
      "model_name": "VBoxModel",
      "state": {
       "children": [
        "IPY_MODEL_cb4bceeb8aa547ae9c3f38e0d39afeac",
        "IPY_MODEL_4ecd53ff874146b38a040c2337401591"
       ],
       "layout": "IPY_MODEL_d7611406e284440999e49d566f914024"
      }
     },
     "f4fdfab017bc48f987352b56f7267630": {
      "model_module": "ipysheet",
      "model_module_version": "~0.5.0",
      "model_name": "CellRangeModel",
      "state": {
       "_view_module": null,
       "_view_module_version": "",
       "column_end": 34,
       "column_start": 34,
       "row_end": 5,
       "row_start": 0,
       "squeeze_row": false,
       "type": "numeric",
       "value": [
        125.96343847838794,
        125.96343847838794,
        125.96343847838794,
        0,
        0,
        0
       ]
      }
     },
     "f513f2b9ad4f4f298f237fdfcafa3e82": {
      "model_module": "ipysheet",
      "model_module_version": "~0.5.0",
      "model_name": "CellRangeModel",
      "state": {
       "_view_module": null,
       "_view_module_version": "",
       "column_end": 45,
       "column_start": 45,
       "row_end": 5,
       "row_start": 0,
       "squeeze_row": false,
       "type": "numeric",
       "value": [
        266.8943502458763,
        266.8943502458763,
        266.8943502458763,
        0,
        0,
        0
       ]
      }
     },
     "f53af7bbc711435da8d4bd44472bf01a": {
      "model_module": "ipysheet",
      "model_module_version": "~0.5.0",
      "model_name": "CellRangeModel",
      "state": {
       "_view_module": null,
       "_view_module_version": "",
       "column_end": 46,
       "column_start": 46,
       "row_end": 5,
       "row_start": 0,
       "squeeze_row": false,
       "type": "numeric",
       "value": [
        284.2568388964308,
        284.2568388964308,
        284.2568388964308,
        0,
        0,
        0
       ]
      }
     },
     "f5a2042cd7484511bccc449c8bc4e5fe": {
      "model_module": "@jupyter-widgets/base",
      "model_module_version": "1.2.0",
      "model_name": "LayoutModel",
      "state": {
       "height": "auto",
       "width": "auto"
      }
     },
     "f5bc9594f227454f9fc0414e8b5b64c7": {
      "model_module": "ipysheet",
      "model_module_version": "~0.5.0",
      "model_name": "CellRangeModel",
      "state": {
       "_view_module": null,
       "_view_module_version": "",
       "column_end": 63,
       "column_start": 63,
       "row_end": 5,
       "row_start": 0,
       "squeeze_row": false,
       "type": "numeric",
       "value": [
        787.0517293504159,
        787.0517293504159,
        787.0517293504159,
        0,
        0,
        0
       ]
      }
     },
     "f790562c1b4a48f89139a88e74af5672": {
      "model_module": "ipysheet",
      "model_module_version": "~0.5.0",
      "model_name": "CellRangeModel",
      "state": {
       "_view_module": null,
       "_view_module_version": "",
       "column_end": 63,
       "column_start": 63,
       "row_end": 5,
       "row_start": 0,
       "squeeze_row": false,
       "type": "numeric",
       "value": [
        787.0517293504159,
        787.0517293504159,
        787.0517293504159,
        0,
        0,
        0
       ]
      }
     },
     "f8414ee3b35e4835831b5a61fa1c30ec": {
      "model_module": "ipysheet",
      "model_module_version": "~0.5.0",
      "model_name": "CellRangeModel",
      "state": {
       "_view_module": null,
       "_view_module_version": "",
       "column_end": 78,
       "column_start": 78,
       "row_end": 5,
       "row_start": 0,
       "squeeze_row": false,
       "type": "numeric",
       "value": [
        1815.6397584550245,
        1815.6397584550245,
        1815.6397584550245,
        0,
        0,
        0
       ]
      }
     },
     "fa0f8d2d013e409e8312c28b2e9f0556": {
      "model_module": "ipysheet",
      "model_module_version": "~0.5.0",
      "model_name": "CellRangeModel",
      "state": {
       "_view_module": null,
       "_view_module_version": "",
       "column_end": 4,
       "column_start": 4,
       "row_end": 9,
       "row_start": 0,
       "squeeze_row": false,
       "type": "numeric",
       "value": [
        0,
        0,
        0,
        0,
        0,
        0,
        0,
        0,
        0,
        0
       ]
      }
     },
     "fab3019dc8c24575becac1115faf779a": {
      "model_module": "ipysheet",
      "model_module_version": "~0.5.0",
      "model_name": "CellRangeModel",
      "state": {
       "_view_module": null,
       "_view_module_version": "",
       "row_end": 5,
       "row_start": 0,
       "squeeze_row": false,
       "type": "numeric",
       "value": [
        0,
        -1.5238607537000002,
        -52.0470635763,
        0,
        0,
        0
       ]
      }
     },
     "faf3094061df42bca8dd1d5a2716247f": {
      "model_module": "ipysheet",
      "model_module_version": "~0.5.0",
      "model_name": "CellRangeModel",
      "state": {
       "_view_module": null,
       "_view_module_version": "",
       "column_end": 70,
       "column_start": 70,
       "row_end": 5,
       "row_start": 0,
       "squeeze_row": false,
       "type": "numeric",
       "value": [
        1167.6786423115814,
        1167.6786423115814,
        1167.6786423115814,
        0,
        0,
        0
       ]
      }
     },
     "fb1f56ac8e784827aef4b7acb260c91e": {
      "model_module": "ipysheet",
      "model_module_version": "~0.5.0",
      "model_name": "CellRangeModel",
      "state": {
       "_view_module": null,
       "_view_module_version": "",
       "column_end": 39,
       "column_start": 39,
       "row_end": 5,
       "row_start": 0,
       "squeeze_row": false,
       "type": "numeric",
       "value": [
        180.3995190473268,
        180.3995190473268,
        180.3995190473268,
        0,
        0,
        0
       ]
      }
     },
     "fbccfdcdd1ad4c2dac7d838cba03e000": {
      "model_module": "ipysheet",
      "model_module_version": "~0.5.0",
      "model_name": "CellRangeModel",
      "state": {
       "_view_module": null,
       "_view_module_version": "",
       "column_end": 14,
       "column_start": 14,
       "row_end": 5,
       "row_start": 0,
       "squeeze_row": false,
       "type": "numeric",
       "value": [
        29.841531799753223,
        29.841531799753223,
        29.841531799753223,
        0,
        0,
        0
       ]
      }
     },
     "fbd630418b1545bc92a4fa962ccb051c": {
      "model_module": "@jupyter-widgets/controls",
      "model_module_version": "1.5.0",
      "model_name": "DescriptionStyleModel",
      "state": {
       "description_width": ""
      }
     },
     "fbd6ccabdf124c5b9d63854948301778": {
      "model_module": "ipysheet",
      "model_module_version": "~0.5.0",
      "model_name": "CellRangeModel",
      "state": {
       "_view_module": null,
       "_view_module_version": "",
       "column_end": 5,
       "column_start": 5,
       "row_end": 5,
       "row_start": 0,
       "squeeze_row": false,
       "type": "numeric",
       "value": [
        32.44249598824875,
        32.44249598824875,
        32.44249598824875,
        0,
        0,
        0
       ]
      }
     },
     "fc1184ab1cec4c1496f937beca2601dc": {
      "model_module": "ipysheet",
      "model_module_version": "~0.5.0",
      "model_name": "CellRangeModel",
      "state": {
       "_view_module": null,
       "_view_module_version": "",
       "column_end": 32,
       "column_start": 32,
       "row_end": 5,
       "row_start": 0,
       "squeeze_row": false,
       "type": "numeric",
       "value": [
        107.70583684993105,
        107.70583684993105,
        107.70583684993105,
        0,
        0,
        0
       ]
      }
     },
     "fc85abc9b7a643fe8ec30271db73b82e": {
      "model_module": "ipysheet",
      "model_module_version": "~0.5.0",
      "model_name": "CellRangeModel",
      "state": {
       "_view_module": null,
       "_view_module_version": "",
       "row_end": 83,
       "row_start": 0,
       "squeeze_row": false,
       "type": "numeric",
       "value": [
        -1.3423136273,
        -1.5238607537000002,
        -1.4771942340000002,
        29,
        30.962299914387533,
        32.44249598824875,
        33.24696820511287,
        33.376888531566586,
        32.96999040272959,
        32.231553651969115,
        31.375710932475293,
        30.588525874350633,
        30.012075962675382,
        29.743368593222783,
        29.841531799753223,
        30.33821737276967,
        31.247927701600666,
        32.576525762093475,
        34.32730444518984,
        36.50466362917244,
        39.115786461210824,
        42.17082531425412,
        45.682103936433016,
        49.662775816838185,
        54.12530052734099,
        59.08002596329259,
        64.5340953790679,
        70.49084057787817,
        76.94974599908977,
        83.90699214421947,
        91.35651571492613,
        99.29145851990795,
        107.70583684993105,
        116.59624834436467,
        125.96343847838794,
        135.81360232991884,
        146.15931469144877,
        157.0200596023539,
        168.42235431629328,
        180.3995190473268,
        192.99115817586406,
        206.24243683030022,
        220.2032424052525,
        234.92730603330153,
        250.47135525729558,
        266.8943502458763,
        284.2568388964308,
        302.62045919688654,
        322.0475918217781,
        342.60117574515783,
        364.34466923450634,
        387.34215855422906,
        411.6585919128501,
        437.360128982038,
        464.5145857262626,
        493.19196622749934,
        523.4650423762466,
        555.4099953659602,
        589.1070737377698,
        624.6412672417739,
        662.102973592713,
        701.5886499590331,
        743.2014350037208,
        787.0517293504159,
        833.2577350500592,
        881.945942022937,
        933.2515683881917,
        987.3189483257986,
        1044.3018757439704,
        1104.3639093580737,
        1167.6786423115814,
        1234.4299868066644,
        1304.8123455348198,
        1379.030932404489,
        1457.301994626762,
        1539.8531064172703,
        1626.9235022287464,
        1718.7644609189404,
        1815.6397584550245,
        1917.8262010407407,
        2025.614244719777,
        2139.308713280133,
        2259.229618868826,
        -1.4771942340000002
       ]
      }
     },
     "fc99736c67b44c6dba1577d4857459e3": {
      "model_module": "ipysheet",
      "model_module_version": "~0.5.0",
      "model_name": "CellRangeModel",
      "state": {
       "_view_module": null,
       "_view_module_version": "",
       "column_end": 19,
       "column_start": 19,
       "row_end": 5,
       "row_start": 0,
       "squeeze_row": false,
       "type": "numeric",
       "value": [
        36.50466362917244,
        36.50466362917244,
        36.50466362917244,
        0,
        0,
        0
       ]
      }
     },
     "fe91f98261c04a1dbc0bf491c777519a": {
      "model_module": "ipysheet",
      "model_module_version": "~0.5.0",
      "model_name": "CellRangeModel",
      "state": {
       "_view_module": null,
       "_view_module_version": "",
       "column_end": 0,
       "column_start": 0,
       "row_end": 9,
       "row_start": 0,
       "squeeze_row": false,
       "type": "numeric",
       "value": [
        0,
        0,
        0,
        29,
        30.962299914387533,
        32.44249598824875,
        33.24696820511287,
        33.376888531566586,
        32.96999040272959,
        32.231553651969115
       ]
      }
     },
     "feeb39f0f61d49e4825f12e8092aba99": {
      "model_module": "ipysheet",
      "model_module_version": "~0.5.0",
      "model_name": "CellRangeModel",
      "state": {
       "_view_module": null,
       "_view_module_version": "",
       "column_end": 12,
       "column_start": 12,
       "row_end": 5,
       "row_start": 0,
       "squeeze_row": false,
       "type": "numeric",
       "value": [
        30.012075962675382,
        30.012075962675382,
        30.012075962675382,
        0,
        0,
        0
       ]
      }
     },
     "ffd4421c89b44abe929ccad74790ef8d": {
      "model_module": "ipysheet",
      "model_module_version": "~0.5.0",
      "model_name": "CellRangeModel",
      "state": {
       "_view_module": null,
       "_view_module_version": "",
       "column_end": 15,
       "column_start": 15,
       "row_end": 5,
       "row_start": 0,
       "squeeze_row": false,
       "type": "numeric",
       "value": [
        30.33821737276967,
        30.33821737276967,
        30.33821737276967,
        0,
        0,
        0
       ]
      }
     }
    },
    "version_major": 2,
    "version_minor": 0
   }
  }
 },
 "nbformat": 4,
 "nbformat_minor": 2
}
