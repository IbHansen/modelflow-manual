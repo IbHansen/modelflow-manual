{
 "cells": [
  {
   "cell_type": "markdown",
   "metadata": {
    "slideshow": {
     "slide_type": "slide"
    }
   },
   "source": [
    "# Introduction to the Jupyter Notebook\n"
   ]
  },
  {
   "cell_type": "markdown",
   "metadata": {},
   "source": [
    "## Multiple ways to interact with Python\n",
    "* From the command line (simply type 'python' or 'ipython')\n",
    "* Plain text editor (e.g. Notepad++)\n",
    "* IDE (like  'Spyder' which is part of the Anaconda distribution but there are many)\n",
    "* Jupyter notebooks\n",
    "* And many more\n",
    "\n",
    "**This manual is based on Jupyter**"
   ]
  },
  {
   "cell_type": "markdown",
   "metadata": {},
   "source": [
    "[The official Jupyter site](https://docs.jupyter.org/en/latest/) is a good starting point. But there are many good sites out there. "
   ]
  },
  {
   "cell_type": "markdown",
   "metadata": {
    "slideshow": {
     "slide_type": "slide"
    }
   },
   "source": [
    "## The idea of the notebook\n",
    "* Keep code and output close together (in \"cells\")\n",
    "* Great for documenting the analytical steps\n",
    "* ... and teaching \n",
    "> The notebook format supports the idea of _replicability_: a scientific analysis should contain - in addition to the final output (text, graphs, tables) - all the computational steps needed to get from raw input data to the results.\n",
    "* A possible workflow:\n",
    "prototype code in the notebook and consolidate it into scripts later on"
   ]
  },
  {
   "cell_type": "markdown",
   "metadata": {
    "slideshow": {
     "slide_type": "slide"
    }
   },
   "source": [
    "## Jupyter Notebook basics\n",
    "* Jupyter derives from **Ju**lia + **Pyt**hon + **R**\n",
    "* A separate Python process (a __'kernel'__) is started for each notebook \n",
    "    * Can be seen as a open window in the background (do not close)\n",
    "    * Can be interrupted and restarted from the 'Kernel' menu\n",
    "* Multiple __cell types__, e.g. 'Code' and 'Markdown'\n",
    "    * Code is for executable Python code\n",
    "    * Markdown is for (formatted) text, e.g. descriptions of results\n",
    "* Cells can be in __two modes__\n",
    "    * Green vertical bar: 'Edit' mode\n",
    "    * Blue vertical bar: 'Select/copy' mode"
   ]
  },
  {
   "cell_type": "markdown",
   "metadata": {
    "slideshow": {
     "slide_type": "slide"
    }
   },
   "source": [
    "### How to execute cells and display results\n",
    "Useful shortcuts: (see also \"Help\" => \"Keyboard Shortcuts\" or simply press keyboard icon in the toolbar)\n",
    "* **shift + ctrl**: run cell and stay in cell\n",
    "* **shift + enter**: run cell and jump to next cell\n",
    "\n",
    "* Note that Notebook always prints last statement of a cell to screen. Except if the line ends in ';'\n",
    "* Can force print of other statement with \"print\" command for other lines"
   ]
  },
  {
   "cell_type": "code",
   "execution_count": 32,
   "metadata": {
    "slideshow": {
     "slide_type": "slide"
    }
   },
   "outputs": [
    {
     "data": {
      "text/plain": [
       "45"
      ]
     },
     "execution_count": 32,
     "metadata": {},
     "output_type": "execute_result"
    }
   ],
   "source": [
    "x = 10\n",
    "y = 45\n",
    "y"
   ]
  },
  {
   "cell_type": "code",
   "execution_count": 33,
   "metadata": {
    "slideshow": {
     "slide_type": "slide"
    }
   },
   "outputs": [
    {
     "name": "stdout",
     "output_type": "stream",
     "text": [
      "10\n"
     ]
    },
    {
     "data": {
      "text/plain": [
       "20"
      ]
     },
     "execution_count": 33,
     "metadata": {},
     "output_type": "execute_result"
    }
   ],
   "source": [
    "x = 10\n",
    "print(x)\n",
    "y = 20\n",
    "y"
   ]
  },
  {
   "cell_type": "markdown",
   "metadata": {
    "slideshow": {
     "slide_type": "slide"
    }
   },
   "source": [
    "#### But no display when line ends in ;"
   ]
  },
  {
   "cell_type": "code",
   "execution_count": 34,
   "metadata": {},
   "outputs": [],
   "source": [
    "y = 20\n",
    "y; "
   ]
  },
  {
   "cell_type": "markdown",
   "metadata": {
    "slideshow": {
     "slide_type": "slide"
    }
   },
   "source": [
    "### How to add, delete and move cells\n",
    "Toolbar\n",
    "* **+ button**: add a cell below\n",
    "* **scissors**: delete cell (can be undone from \"Edit\" tab)\n",
    "* **up- and down arrows**: move cells\n",
    "* **hold shift + click cells in left margin**: select multiple cells (vertical bar must be blue)"
   ]
  },
  {
   "cell_type": "markdown",
   "metadata": {
    "slideshow": {
     "slide_type": "slide"
    }
   },
   "source": [
    "### Auto-complete and context-sensitive help\n",
    "* **tab**: autocomplete and  method selection\n",
    "* **double tab**: documention (double tab for full doc)"
   ]
  },
  {
   "cell_type": "markdown",
   "metadata": {
    "slideshow": {
     "slide_type": "slide"
    }
   },
   "source": [
    "### LaTeX support\n",
    "Markdown mode includes LaTeX support.<br>\n",
    "Inline enclose the latex in ```$```:\n",
    "\n",
    "An Equation: ```$y_t = \\beta_0 + \\beta_1 x_t + u_t\\$``` will show like this:\n",
    "\n",
    "An Equation: $y_t = \\beta_0 + \\beta_1 x_t + u_t$\n",
    "\n",
    "Math blocks can be enclosed in ```$$```"
   ]
  },
  {
   "cell_type": "markdown",
   "metadata": {
    "slideshow": {
     "slide_type": "slide"
    }
   },
   "source": [
    "## A few words on 'import' statements"
   ]
  },
  {
   "cell_type": "code",
   "execution_count": 35,
   "metadata": {},
   "outputs": [
    {
     "data": {
      "text/plain": [
       "3.141592653589793"
      ]
     },
     "execution_count": 35,
     "metadata": {},
     "output_type": "execute_result"
    }
   ],
   "source": [
    "# Import and call a built-in module\n",
    "import math\n",
    "math.pi"
   ]
  },
  {
   "cell_type": "code",
   "execution_count": 36,
   "metadata": {
    "slideshow": {
     "slide_type": "subslide"
    }
   },
   "outputs": [
    {
     "data": {
      "text/plain": [
       "3.141592653589793"
      ]
     },
     "execution_count": 36,
     "metadata": {},
     "output_type": "execute_result"
    }
   ],
   "source": [
    "# Importing only part of a module's functionality\n",
    "from math import pi, e, cos\n",
    "pi"
   ]
  },
  {
   "cell_type": "code",
   "execution_count": 37,
   "metadata": {
    "slideshow": {
     "slide_type": "slide"
    }
   },
   "outputs": [
    {
     "data": {
      "text/plain": [
       "3.141592653589793"
      ]
     },
     "execution_count": 37,
     "metadata": {},
     "output_type": "execute_result"
    }
   ],
   "source": [
    "# Use of aliases for modules\n",
    "import math as M\n",
    "M.pi"
   ]
  },
  {
   "cell_type": "code",
   "execution_count": 38,
   "metadata": {
    "slideshow": {
     "slide_type": "slide"
    }
   },
   "outputs": [],
   "source": [
    "# Conventions for some aliases\n",
    "import numpy as np\n",
    "import pandas as pd"
   ]
  },
  {
   "cell_type": "code",
   "execution_count": 39,
   "metadata": {
    "slideshow": {
     "slide_type": "slide"
    }
   },
   "outputs": [],
   "source": [
    "# Import the model class from modelflow\n",
    "from modelclass import model "
   ]
  }
 ],
 "metadata": {
  "anaconda-cloud": {},
  "celltoolbar": "Edit Metadata",
  "hide_input": false,
  "kernelspec": {
   "display_name": "Python 3 (ipykernel)",
   "language": "python",
   "name": "python3"
  },
  "language_info": {
   "codemirror_mode": {
    "name": "ipython",
    "version": 3
   },
   "file_extension": ".py",
   "mimetype": "text/x-python",
   "name": "python",
   "nbconvert_exporter": "python",
   "pygments_lexer": "ipython3",
   "version": "3.9.13"
  },
  "toc": {
   "base_numbering": 1,
   "nav_menu": {},
   "number_sections": true,
   "sideBar": true,
   "skip_h1_title": true,
   "title_cell": "Table of Contents",
   "title_sidebar": "Contents",
   "toc_cell": false,
   "toc_position": {},
   "toc_section_display": true,
   "toc_window_display": false
  },
  "varInspector": {
   "cols": {
    "lenName": 16,
    "lenType": 16,
    "lenVar": 40
   },
   "kernels_config": {
    "python": {
     "delete_cmd_postfix": "",
     "delete_cmd_prefix": "del ",
     "library": "var_list.py",
     "varRefreshCmd": "print(var_dic_list())"
    },
    "r": {
     "delete_cmd_postfix": ") ",
     "delete_cmd_prefix": "rm(",
     "library": "var_list.r",
     "varRefreshCmd": "cat(var_dic_list()) "
    }
   },
   "types_to_exclude": [
    "module",
    "function",
    "builtin_function_or_method",
    "instance",
    "_Feature"
   ],
   "window_display": true
  }
 },
 "nbformat": 4,
 "nbformat_minor": 1
}
