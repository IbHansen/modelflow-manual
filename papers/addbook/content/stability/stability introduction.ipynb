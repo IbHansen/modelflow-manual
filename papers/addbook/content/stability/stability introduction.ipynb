{
 "cells": [
  {
   "cell_type": "markdown",
   "id": "e69cc15d",
   "metadata": {},
   "source": [
    "# Model stability, some background "
   ]
  },
  {
   "cell_type": "markdown",
   "id": "046a55ca",
   "metadata": {},
   "source": [
    ":::{index} single: Stability; introduction \n",
    ":::"
   ]
  },
  {
   "cell_type": "code",
   "execution_count": 1,
   "id": "531a3c65",
   "metadata": {
    "tags": [
     "remove-cell"
    ]
   },
   "outputs": [],
   "source": [
    "# HIDDEN in jupyterbook \n",
    "#This is code to manage dependencies if the notebook is executed in the google colab cloud service\n",
    "if 'google.colab' in str(get_ipython()):\n",
    "  import os\n",
    "  os.system('apt -qqq install graphviz')\n",
    "  os.system('pip -qqq install ModelFlowIb ipysheet  --no-dependencies ')"
   ]
  },
  {
   "cell_type": "markdown",
   "id": "494a144b",
   "metadata": {},
   "source": [
    ":::{warning}\n",
    "This chapter is both unfinished and unpolished. Suggestions are very welcome.\n",
    "::: \n",
    "            \n",
    ":::{warning}\n",
    "Terminology varies very much between fields of study. \n",
    ":::             "
   ]
  },
  {
   "cell_type": "code",
   "execution_count": 2,
   "id": "computational-change",
   "metadata": {},
   "outputs": [],
   "source": [
    "import pandas as pd\n",
    "from IPython.display import display, HTML, Markdown\n",
    "\n",
    "\n",
    "from modelclass import model \n",
    "import modelmf"
   ]
  },
  {
   "cell_type": "code",
   "execution_count": 3,
   "id": "leading-perth",
   "metadata": {
    "tags": [
     "remove-cell"
    ]
   },
   "outputs": [],
   "source": [
    "%load_ext autoreload\n",
    "%autoreload 2"
   ]
  },
  {
   "cell_type": "markdown",
   "id": "cca2892f",
   "metadata": {
    "slideshow": {
     "slide_type": "slide"
    }
   },
   "source": [
    "## A model:\n",
    "\n",
    "A model with:\n",
    "\n",
    " - $\\textbf n$ number of endogeneous variables\n",
    " - $\\textbf k$ number of exogeneous variables \n",
    " - $\\textbf r$ max lag of endogeneous variables \n",
    " - $\\textbf s$ max lag of exogeneous variables \n",
    " - $t$ time frame (year, quarter, day second or another another unit)\n",
    " \n",
    "can be written in two ways, normalized or un-normalized form\n",
    "\n",
    "### normalized form\n",
    "\n",
    "\\begin{eqnarray}\n",
    "y_t^1 & = & y_t^2...,y_{t}^n...y_{t-r}^1...,y_{t-r}^n,x_t^1...x_{t}^k,...x_{t-s}^1...,x_{t-s}^k) \\\\\n",
    "y_t^2 & = & y_t^1...,y_{t}^n...y_{t-r}^1...,y_{t-r}^n,x_t^1...x_{t}^k,...x_{t-s}^1...,x_{t-s}^k) \\\\\n",
    "\\vdots \\\\\n",
    "y_t^n & = & y_t^1...,y_{t}^{n-1}...y_{t-r}^1...,y_{t-r}^n,x_t^1...x_{t}^r,x..._{t-s}^1...,x_{t-s}^k)\n",
    "\\end{eqnarray}\n",
    "\n",
    "\n",
    "\n",
    "Written in matrix notation where  $\\textbf{y}_t$ and $\\textbf{x}_t$ are vectors of endogenous/exogenous  variables for time t\n",
    "\n",
    "\\begin{eqnarray}  \n",
    "\\textbf{y}_t & = & \\textbf{F}( \\textbf{y}_t \\cdots \\textbf{y}_{t-r},\\textbf{x}_t \\cdots \\textbf{x}_{t-s})\n",
    "\\end{eqnarray}\n",
    "\n",
    "The functions are normalized, meaning: \n",
    "\n",
    "- Each endogenous variable is on the left hand side one time - and only one time.\n",
    "- An endogenous variable without lags can **not** be on the right hand side in an equation, which has the variable on the left hand side. "
   ]
  },
  {
   "cell_type": "markdown",
   "id": "e15c5125",
   "metadata": {},
   "source": [
    "## The derivatives\n",
    "We can express the matrices of derivatives with respect to the endogenous and exogenous variables like this: \n",
    "\n",
    "\n",
    "\\begin{eqnarray*}\n",
    "A & = & \\frac{\\partial F}{\\partial y_t^T} \\\\ \\\\\n",
    "E_i & = & \\frac{\\partial F}{\\partial y_{t-i}^T } \\hspace{5 mm} i=1, \\cdots , r\\\\  \\\\\n",
    "F_j & = & \\frac{\\partial F}{\\partial x_{t-j} ^T} \\hspace{5 mm} j=0, \\cdots , s\\\\  \\\\\n",
    "\\end{eqnarray*}\n",
    "\n"
   ]
  },
  {
   "cell_type": "markdown",
   "id": "0641aa42",
   "metadata": {},
   "source": [
    ":::{index} Stability; The companion matrix\n",
    ":::"
   ]
  },
  {
   "cell_type": "markdown",
   "id": "c020e7bf",
   "metadata": {},
   "source": [
    "## The companion matrix\n",
    "To calculate the effect of small perturbations around a solution the derivative matrices can be used.\n",
    "\n",
    "For simplicity a system with $r$ (max lag of endogenous variables) of 2 and $s$ (max lag of exogenous variables)  of 1 we have the linearized model:\n",
    "\n",
    "$\\Delta \\textbf{y}_t = \\textbf{A}\\Delta  \\textbf{y}_{t} + \\Delta E_1 \\textbf{y}_{t-1} + \\Delta E_2 \\textbf{y}_{t-2} +  E_3 \\Delta  \\textbf{y}_{t-3} + F_0 \\Delta x_t + F_1 \\Delta x_{t-1}$\n",
    "\n",
    "\n",
    "Rearranging the equation to isolate $\\Delta \\textbf{y}_{t}$ on the left side:\n",
    "\n",
    "$\n",
    "(\\textbf{A} - \\textbf{I}) \\Delta \\textbf{y}_{t} = E_1 \\Delta \\textbf{y}_{t-1} + \\Delta E_2 \\textbf{y}_{t-2} + \\Delta E_3 \\textbf{y}_{t-3} + F_0 \\Delta x_t + F_1 \\Delta x_{t-1}\n",
    "$\n",
    "\n",
    "$\n",
    "\\Delta \\textbf{y}_{t} = (\\textbf{A} - \\textbf{I})^{-1} E_1 \\Delta \\textbf{y}_{t-1} + (\\textbf{A} - \\textbf{I})^{-1} \\Delta E_2 \\textbf{y}_{t-2} + (\\textbf{A} - \\textbf{I})^{-1} \\Delta E_3 \\textbf{y}_{t-3} + (\\textbf{A} - \\textbf{I})^{-1} F_0 \\Delta x_t +  (\\textbf{A} - \\textbf{I})^{-1} F_1 \\Delta x_{t-1}\n",
    "$\n",
    "\n",
    "This is a 3th order system of difference equations. In order to be able to find the gain stability of the system it has to be rewritten as 1st order system of difference equations. That is a system with only one lag. Fortunately there is \n",
    "a standard way to do this. It runs as follow: \n",
    "\n",
    "\n",
    "Using the state vector:\n",
    "$\n",
    "\\textbf{z}_t = \\begin{bmatrix} \\textbf{y}_t \\\\ \\textbf{y}_{t-1} \\\\ \\textbf{y}_{t-2} \\end{bmatrix}$ and $\\textbf{w}_t = \\begin{bmatrix} \\textbf{x}_t \\\\ \\textbf{x}_{t-1} \\\\ 0 \\end{bmatrix}\n",
    "$\n",
    "\n",
    "\n",
    "The system can be expressed as:\n",
    "\n",
    "$\n",
    "\\Delta \\textbf{z}_{t} = \\underbrace{\\begin{bmatrix} (\\textbf{A}-\\mathbb{I})^{-1}E_1 & (\\textbf{A}-\\mathbb{I})^{-1}E_2 & (\\textbf{A}-\\mathbb{I})^{-1}E_3 \\\\ \\textbf{I} & \\textbf{0} & \\textbf{0} \\\\ \\textbf{0} & \\textbf{I} & \\textbf{0} \\end{bmatrix}}_{\\textbf{C}} \\Delta \\textbf{z}_{t-1} +\n",
    "\\left[\\begin{matrix}(\\textbf{A}-\\mathbb{I})^{-1} F_{0} & (\\textbf{A}-\\mathbb{I})^{-1} F_{1} & 0 \\\\{0} & {0}  & {0}\\\\{0} & {0} & {0} \\\\\\end{matrix}\\right]\n",
    "\\Delta \\textbf{w}_t$\n",
    "\n",
    "This system is a first order system - and the stability can be evaluated using the matrix:\n",
    "\n",
    "$\n",
    "\\textbf{C} = \\begin{bmatrix} (\\textbf{A}-\\mathbb{I})^{-1}E_1 & (\\textbf{A}-\\mathbb{I})^{-1}E_2 & (\\textbf{A}-\\mathbb{I})^{-1}E_3 \\\\ \\textbf{I} & \\textbf{0} & \\textbf{0} \\\\ \\textbf{0} & \\textbf{I} & \\textbf{0} \\end{bmatrix}\n",
    "$\n",
    "\n",
    "\n",
    "is also known as **the companion matrix** "
   ]
  },
  {
   "cell_type": "markdown",
   "id": "db6a6561",
   "metadata": {},
   "source": [
    "## Stability and the eignvalues of the companion matrix\n",
    "\n",
    "The dynamic behavior can be \n",
    "evaluated by looking at the eigenvalues $\\textbf{e}_{t}$ of the companion matrix $((I-\\bar A)^{-1}\\bar E )$. Note that $\\textbf{e}_{t}$ can are complex numbers.\n",
    "\n",
    " - If all $\\lvert \\textbf{e}_{t} \\lvert < 1$ the system will converge. \n",
    " - If at least one of the eigenvalues is larger than one, the system will amplify. \n",
    " -  If at least one $\\textbf{e}_{t}$ has an imaginary part the system will oscillate \n",
    "    - dampened if all $\\lvert \\textbf{e}_{t} \\lvert < 1$ or \n",
    "    - amplifying  if one $\\lvert \\textbf{e}_{t} \\lvert > 1$.\n",
    "\n",
    "The eigenvalues and associated eigenvectors can be found by the function `\\<modelclass>.get_df_eigen_dict()` which will be used below.\n",
    "\n",
    "'.get_df_eigen_dict()' returns a dictionary where the key is the year and the value is a dataframe where first row is the eigenvalues \n",
    "and the folowing rows are the eigenvectors. \n",
    "\n",
    "The function below a small model Solow model and a dataframe, it the display the eigenvalues in a polar coordinate where imaginary values are at the y-axis. \n",
    "\n",
    "The function also displays the result of the model. The result do not nessary give economic meaning. But shows how the system's stability reflects the \n",
    "eigenvalues of the companion matrix. "
   ]
  },
  {
   "cell_type": "markdown",
   "id": "5badbad0",
   "metadata": {},
   "source": [
    "## Calculating Eigenvalues and eigenvectors using modelflow \n",
    "Modelflow has a can calculate the derivative matrices $A, E_i$ and $F_j$ and create the companion matrix and the associate eigenvalues and eigenvectors. \n",
    "\n",
    "Below a function is "
   ]
  },
  {
   "cell_type": "code",
   "execution_count": 4,
   "id": "1a687b27",
   "metadata": {},
   "outputs": [],
   "source": [
    "def calculate_eigen(mul,acc,years=100,show=False,latexprint=False):\n",
    "    '''Function which creates a Samuelson Multiplier accelerator model, runs it\n",
    "    and alculates the eigenvalues for the compaignion matrix in order to \n",
    "    evaluate stability. \n",
    "    \n",
    "    A polar plot of the compex eigenvalues and graphs of the endogenous variables can \n",
    "    be displayes '''\n",
    "    \n",
    "    fam   = f'''\\\n",
    "    frml <>  y = c+i $ \n",
    "    frml <I> c = {mul} * y(-1) $\n",
    "    frml <>  i = {acc} * ((c-c(-1))+ 0.3 * (c(-2)-c(-1))  )$'''\n",
    "\n",
    "    mma = model(fam,modelname = 'Accelerator multiplicator model')\n",
    "    \n",
    "    # Generate data\n",
    "    df = pd.DataFrame([[1000,200]]*years,index=range(2018,2018+years),columns=['Y','IM'])\n",
    "    \n",
    "    # Generate lagged variables for c\n",
    "    baseline  = df.mfcalc(f'c = {mul} * y(-1)') \n",
    "    \n",
    "    # Solve the model \n",
    "    _  = mma(baseline,2021,2050,silent=True)     # Solve the model \n",
    "    \n",
    "    # Retrieve a dictionary with a dataframe with eigenvalues and eigenvectors for each year \n",
    "    eig_dict = mma.get_df_eigen_dict()\n",
    "    \n",
    "    # In this example we only want the values for one year. The model is linear and time independent \n",
    "    eig21 = eig_dict[2021]\n",
    "    \n",
    "    # Define a function which calculates a list of absolute values when served a dataframe column of complex numbers\n",
    "    compabs = lambda complex: [abs(value) for index,value in complex.items()]\n",
    "    \n",
    "    # now only retain the columns where the length of the eigenvalues are above 0.0001 \n",
    "    eig21out = (eig21.   \n",
    "                T.        # Trtanspose as we query and eval on columns \n",
    "                eval('absolute_value=@compabs(Eigenvalues)'). # calculate the absolute value of the eigenvalue \n",
    "                query('absolute_value>=0.0001').              # Select the rows where the abs value is above 0+.0001\n",
    "                drop('absolute_value',axis=1).                # We dont need the absolute value anymore, so the column is dropped. \n",
    "                T)   # Trtanspose again. \n",
    "    \n",
    "    display(Markdown(f'**Model where multiplier = {mul} and accelerator = {acc}**'))\n",
    "    display(mma.stability_newton.eigenvector_plot(size=(4,4),per=2023));       # show the eigenvalues \n",
    "    display (mma[['Y','C','I']].plot(title=f'values for multiplier = {mul} and accelerator = {acc}' ))  # Show the solution\n",
    "    \n",
    "    if show: \n",
    "        print(mma.equations)\n",
    "\n",
    "        display(Markdown(f'**Compagnion matrix**'))\n",
    "\n",
    "        display(model.compstyle( mma.stability_newton.get_df_comp_dict()[2021])) \n",
    "\n",
    "\n",
    "        display(eig21.style.set_caption('<b>Original eigenvalues and -vectors'))\n",
    "        display(model.compstyle(eig21out).set_caption('<b>Non zero eigenvalues and -vectors'))\n",
    "       #display(mma.stability_newton.eigenvector_plot(size=(4,4),per=2023));       # show the eigenvalues \n",
    "\n",
    "        if latexprint: \n",
    "            jacobi= mma.stability_newton.A_dic[2021]\n",
    "            for l,j in jacobi.items(): \n",
    "                name = 'A = ' if l=='lag=0' else f'E_{l.split(\"-\")[1]} = '\n",
    "                print(name)\n",
    "                print(j.to_latex())\n",
    "    return mma.stability_newton"
   ]
  },
  {
   "cell_type": "markdown",
   "id": "99e9b67b",
   "metadata": {},
   "source": [
    "##  $\\lvert \\textbf{e}_{t} \\lvert < 1$ No gain"
   ]
  },
  {
   "cell_type": "code",
   "execution_count": 5,
   "id": "successful-visiting",
   "metadata": {
    "scrolled": false
   },
   "outputs": [],
   "source": [
    "xx = calculate_eigen(mul=0.5,acc=0.1,years=30,show=0);"
   ]
  },
  {
   "cell_type": "markdown",
   "id": "d16b8738",
   "metadata": {},
   "source": [
    "##  $\\lvert \\textbf{e}_{t} \\lvert > 1$ and imaginary parts. Oscillate with increasing amplitude "
   ]
  },
  {
   "cell_type": "code",
   "execution_count": 6,
   "id": "loose-geneva",
   "metadata": {
    "scrolled": false
   },
   "outputs": [],
   "source": [
    "calculate_eigen(mul=0.8,acc=2,years=30,show=0);"
   ]
  },
  {
   "cell_type": "markdown",
   "id": "6b5e931a",
   "metadata": {},
   "source": [
    "##  $\\lvert \\textbf{e}_{t} \\lvert = 1$ and imaginary parts. Oscillate perputual  "
   ]
  },
  {
   "cell_type": "code",
   "execution_count": 7,
   "id": "f617cf5b",
   "metadata": {
    "scrolled": false
   },
   "outputs": [],
   "source": [
    "newton =  calculate_eigen(mul=0.5500,acc=2,years=30,show=0);"
   ]
  },
  {
   "cell_type": "markdown",
   "id": "116b0837",
   "metadata": {},
   "source": [
    "## Jackknife identify impact from each equation. \n",
    "To understand the impact of each equation a jackknife can be made. This is done by deleting  the rows and columns for each equation and record the new eigenvalues. \n",
    "\n",
    "The idea is to try to identify the equations which contributes most to the total eigenvalues. \n",
    "\n",
    "The newton object returned above will also contains this operation. The `newton.get_eigen_jackknife_abs_select(year)` function will return the max absolute eigenvalue when for each equations is deleted. It also returns the eigenvalues when no equation is deleted. \n",
    "\n",
    ":::{note}\n",
    "The terminology is loosely coined from Jackknife resampling https://en.wikipedia.org/wiki/Jackknife_resampling. \n",
    "\n",
    "Contributions to better naming are very welcome. \n",
    ":::"
   ]
  },
  {
   "cell_type": "code",
   "execution_count": 8,
   "id": "b4ceb3c7",
   "metadata": {
    "scrolled": false
   },
   "outputs": [],
   "source": [
    "newton.get_eigen_jackknife_abs_select(2025)"
   ]
  },
  {
   "cell_type": "code",
   "execution_count": null,
   "id": "f2e0872d",
   "metadata": {},
   "outputs": [],
   "source": []
  }
 ],
 "metadata": {
  "celltoolbar": "Tags",
  "hide_input": false,
  "kernelspec": {
   "display_name": "Python 3 (ipykernel)",
   "language": "python",
   "name": "python3"
  },
  "language_info": {
   "codemirror_mode": {
    "name": "ipython",
    "version": 3
   },
   "file_extension": ".py",
   "mimetype": "text/x-python",
   "name": "python",
   "nbconvert_exporter": "python",
   "pygments_lexer": "ipython3",
   "version": "3.10.11"
  },
  "toc": {
   "base_numbering": 1,
   "nav_menu": {},
   "number_sections": true,
   "sideBar": true,
   "skip_h1_title": true,
   "title_cell": "Table of Contents",
   "title_sidebar": "Contents",
   "toc_cell": false,
   "toc_position": {
    "height": "calc(100% - 180px)",
    "left": "10px",
    "top": "150px",
    "width": "426.295px"
   },
   "toc_section_display": true,
   "toc_window_display": true
  },
  "varInspector": {
   "cols": {
    "lenName": 16,
    "lenType": 16,
    "lenVar": 40
   },
   "kernels_config": {
    "python": {
     "delete_cmd_postfix": "",
     "delete_cmd_prefix": "del ",
     "library": "var_list.py",
     "varRefreshCmd": "print(var_dic_list())"
    },
    "r": {
     "delete_cmd_postfix": ") ",
     "delete_cmd_prefix": "rm(",
     "library": "var_list.r",
     "varRefreshCmd": "cat(var_dic_list()) "
    }
   },
   "types_to_exclude": [
    "module",
    "function",
    "builtin_function_or_method",
    "instance",
    "_Feature"
   ],
   "window_display": false
  },
  "widgets": {
   "application/vnd.jupyter.widget-state+json": {
    "state": {},
    "version_major": 2,
    "version_minor": 0
   }
  }
 },
 "nbformat": 4,
 "nbformat_minor": 5
}
