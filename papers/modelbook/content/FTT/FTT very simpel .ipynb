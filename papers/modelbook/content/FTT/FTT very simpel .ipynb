{
 "cells": [
  {
   "cell_type": "markdown",
   "metadata": {
    "slideshow": {
     "slide_type": "slide"
    }
   },
   "source": [
    "# A stylized FTT model. Specified in Latex "
   ]
  },
  {
   "cell_type": "markdown",
   "metadata": {
    "slideshow": {
     "slide_type": "subslide"
    }
   },
   "source": [
    "## Why specify a model in Latex? \n",
    "\n",
    "Sometime the **implementation** of a model in software don't match the **specification** of the model in \n",
    "the text in which the model is presented. It can be a challenge to make sure that the specification is \n",
    "updated in order to reflect changes made in the implementation. \n",
    "\n",
    "By extracting the model from a Latex script which describes and specify the model, one can always be sure that simulations reflect the model as described in the paper. \n",
    "\n",
    "Also the author is forced to make a complete specification of the model, else it won't run. "
   ]
  },
  {
   "cell_type": "markdown",
   "metadata": {
    "slideshow": {
     "slide_type": "skip"
    }
   },
   "source": [
    "## Import libraries "
   ]
  },
  {
   "cell_type": "markdown",
   "metadata": {},
   "source": [
    "```{note}\n",
    "This notebook will not render nice in Colab \n",
    "\n",
    "Because of limitations in Jupyterbook - which is used for creating this book - the latex input is input twice. That is not nessecary for use in an notebook. \n",
    "```"
   ]
  },
  {
   "cell_type": "code",
   "execution_count": 14,
   "metadata": {
    "tags": [
     "remove-cell"
    ]
   },
   "outputs": [],
   "source": [
    "#This is code to manage dependencies if the notebook is executed in the google colab cloud service\n",
    "if 'google.colab' in str(get_ipython()):\n",
    "  import os\n",
    "  os.system('apt -qqq install graphviz')\n",
    "  os.system('pip -qqq install ModelFlowIb ipysheet  --no-dependencies ')"
   ]
  },
  {
   "cell_type": "code",
   "execution_count": 15,
   "metadata": {
    "scrolled": false,
    "slideshow": {
     "slide_type": "skip"
    }
   },
   "outputs": [
    {
     "name": "stdout",
     "output_type": "stream",
     "text": [
      "The autoreload extension is already loaded. To reload it, use:\n",
      "  %reload_ext autoreload\n"
     ]
    },
    {
     "data": {
      "text/html": [
       "\n",
       "        <style>\n",
       "            div#notebook-container    { width: 95%; }\n",
       "            div#menubar-container     { width: 65%; }\n",
       "            div#maintoolbar-container { width: 99%; }\n",
       "        </style>\n",
       "        "
      ],
      "text/plain": [
       "<IPython.core.display.HTML object>"
      ]
     },
     "metadata": {},
     "output_type": "display_data"
    }
   ],
   "source": [
    "%load_ext autoreload\n",
    "%autoreload 2\n",
    "import pandas as pd\n",
    "from IPython.core.display import HTML,Markdown,Latex\n",
    "\n",
    "\n",
    "from modelclass import model\n",
    "import modeljupytermagic\n",
    "\n",
    "# some useful stuf\n",
    "model.widescreen()\n",
    "pd.set_option('display.max_rows', None, 'display.max_columns', 10, 'display.precision', 4)\n"
   ]
  },
  {
   "cell_type": "markdown",
   "metadata": {
    "slideshow": {
     "slide_type": "slide"
    }
   },
   "source": [
    "## Write a latex script  \n",
    "The model consists of the equations and the lists   \n",
    "\n",
    "The jupyter magic command **%%latexflow** will extract the model. then it will  transform the equations to **ModelFlow** equations and finaly it will create a modelflow **model** instance. \n",
    "\n",
    "The **model** instance will be able to solve the model. "
   ]
  },
  {
   "cell_type": "code",
   "execution_count": 16,
   "metadata": {
    "slideshow": {
     "slide_type": "fragment"
    }
   },
   "outputs": [],
   "source": [
    "%%latexflow mftt  \n",
    "\n",
    "A very simple FTT model. \n",
    "\n",
    "Two lists of technology  are defined: \n",
    "    \n",
    "List $i =\\{t1, t2, t3\\}$\n",
    "\n",
    "List $j = \\{t1, t2, t3\\}$\n",
    "\n",
    "\n",
    "\n",
    "\\begin{equation}\n",
    "\\label{eq:SHARES2}\n",
    "\\Delta Share^{i} = \\sum_{j}(Share^{i} \\times Share^{j} \\times\n",
    "                            (\\underbrace{F^{i,j}}_{Preferences}/\\underbrace{\\tau^{j}}_{Life expectancy}\n",
    "                             - F^{j,i}/\\tau^{i}))\n",
    "\\end{equation}\n",
    "\n",
    "\n",
    "\\begin{equation}\n",
    "\\label{eq:preferences}\n",
    "\\underbrace{F^{i,j}}_{Preferences} = \\frac{1}{\n",
    "1+exp(\n",
    "    \\frac{(C^{i}-C^{j})}{\\sigma^{i,j}} )}\n",
    "\\end{equation}\n",
    "\n",
    "\\begin{equation}\n",
    "\\label{eq:sigma}\n",
    "\\sigma^{i,j} = \\sqrt{\\sigma^{i}**2 \\times \\sigma^{j}**2}\n",
    "\\end{equation}\n",
    "\n",
    "\n",
    "\n",
    "\\begin{equation}\n",
    "\\label{eq:UD}\n",
    "UsefulDemand^{i} = Share^{i} \\times UsefulDemand\\_total \n",
    "\\end{equation}\n",
    "\n",
    "\\begin{equation}\n",
    "\\label{eq:UD_total}\n",
    "UsefulDemand\\_total  = UsefulDemand\\_total_{t-1} \\times \n",
    "(1+\\frac{UsefulDemand\\_total\\_growth}{100})\n",
    "\\end{equation}\n",
    "\n",
    "To check, that the shares add up to one. \n",
    "\n",
    "\\begin{equation}\n",
    "\\label{eq:check_shares}\n",
    "Share\\_total  = \\sum_{i}(Share\\_{i})\n",
    "\\end{equation}\n"
   ]
  },
  {
   "cell_type": "markdown",
   "metadata": {},
   "source": [
    "## the %%latexflow cell will extract the equations from the script \n",
    "and create a modelinstance which is named: **mftt**"
   ]
  },
  {
   "cell_type": "markdown",
   "metadata": {},
   "source": [
    "## This text will render like this\n"
   ]
  },
  {
   "cell_type": "code",
   "execution_count": 17,
   "metadata": {
    "tags": [
     "remove-cell"
    ]
   },
   "outputs": [
    {
     "data": {
      "text/markdown": [
       "\n",
       "A very simple FTT model. \n",
       "\n",
       "Two lists of technology  are defined: \n",
       "    \n",
       "List $i =\\{t1, t2, t3\\}$\n",
       "\n",
       "List $j = \\{t1, t2, t3\\}$\n",
       "\n",
       "\n",
       "\n",
       "\\begin{equation}\n",
       "\\label{eq:SHARES2}\n",
       "\\Delta Share^{i} = \\sum_{j}(Share^{i} \\times Share^{j} \\times\n",
       "                            (\\underbrace{F^{i,j}}_{Preferences}/\\underbrace{\\tau^{j}}_{Life expectancy}\n",
       "                             - F^{j,i}/\\tau^{i}))\n",
       "\\end{equation}\n",
       "\n",
       "\n",
       "\\begin{equation}\n",
       "\\label{eq:preferences}\n",
       "\\underbrace{F^{i,j}}_{Preferences} = \\frac{1}{\n",
       "1+exp(\n",
       "    \\frac{(C^{i}-C^{j})}{\\sigma^{i,j}} )}\n",
       "\\end{equation}\n",
       "\n",
       "\\begin{equation}\n",
       "\\label{eq:sigma}\n",
       "\\sigma^{i,j} = \\sqrt{\\sigma^{i}**2 \\times \\sigma^{j}**2}\n",
       "\\end{equation}\n",
       "\n",
       "\n",
       "\n",
       "\\begin{equation}\n",
       "\\label{eq:UD}\n",
       "UsefulDemand^{i} = Share^{i} \\times UsefulDemand\\_total \n",
       "\\end{equation}\n",
       "\n",
       "\\begin{equation}\n",
       "\\label{eq:UD_total}\n",
       "UsefulDemand\\_total  = UsefulDemand\\_total_{t-1} \\times \n",
       "(1+\\frac{UsefulDemand\\_total\\_growth}{100})\n",
       "\\end{equation}\n",
       "\n",
       "To check, that the shares add up to one. \n",
       "\n",
       "\\begin{equation}\n",
       "\\label{eq:check_shares}\n",
       "Share\\_total  = \\sum_{i}(Share\\_{i})\n",
       "\\end{equation}\n"
      ],
      "text/plain": [
       "<IPython.core.display.Markdown object>"
      ]
     },
     "metadata": {},
     "output_type": "display_data"
    }
   ],
   "source": [
    "display(Markdown(mftt.equations_latex))"
   ]
  },
  {
   "cell_type": "markdown",
   "metadata": {
    "scrolled": false,
    "slideshow": {
     "slide_type": "fragment"
    }
   },
   "source": [
    "%%latexflow mftt display render\n",
    "\n",
    "A very simple FTT model. \n",
    "\n",
    "Two lists of technology  are defined: \n",
    "    \n",
    "List $i =\\{technology1, technology2, technology3\\}$\n",
    "\n",
    "List $j = \\{technology1, technology2, technology3\\}$\n",
    "\n",
    "\n",
    "$$\n",
    "\\begin{equation}\n",
    "\\label{eq:SHARES2}\n",
    "\\Delta Share^{i} = \\sum_{j}(Share^{i} \\times Share^{j} \\times\n",
    "                            (\\underbrace{F^{i,j}}_{Preferences}/\\underbrace{\\tau^{j}}_{Life expectancy}\n",
    "                             - F^{j,i}/\\tau^{i}))\n",
    "\\end{equation}\n",
    "$$\n",
    "\n",
    "\\begin{equation}\n",
    "\\label{eq:preferences}\n",
    "\\underbrace{F^{i,j}}_{Preferences} = \\frac{1}{\n",
    "1+exp(\n",
    "    \\frac{(C^{i}-C^{j})}{\\sigma^{i,j}} )}\n",
    "\\end{equation}\n",
    "\n",
    "\\begin{equation}\n",
    "\\label{eq:sigma}\n",
    "\\sigma^{i,j} = \\sqrt{\\sigma^{i}**2 \\times \\sigma^{j}**2}\n",
    "\\end{equation}\n",
    "\n",
    "\n",
    "\n",
    "\\begin{equation}\n",
    "\\label{eq:UD}\n",
    "UsefulDemand^{i} = Share^{i} \\times UsefulDemand\\_total \n",
    "\\end{equation}\n",
    "\n",
    "\\begin{equation}\n",
    "\\label{eq:UD_total}\n",
    "UsefulDemand\\_total  = UsefulDemand\\_total_{t-1} \\times \n",
    "(1+\\frac{UsefulDemand\\_total\\_growth}{100})\n",
    "\\end{equation}\n",
    "\n",
    "To check, that the shares add up to one. \n",
    "\n",
    "\\begin{equation}\n",
    "\\label{eq:check_shares}\n",
    "Share\\_total  = \\sum_{i}(Share\\_{i})\n",
    "\\end{equation}\n"
   ]
  },
  {
   "cell_type": "markdown",
   "metadata": {},
   "source": [
    "## The latex script is first transpiled to a  template model"
   ]
  },
  {
   "cell_type": "code",
   "execution_count": 18,
   "metadata": {},
   "outputs": [
    {
     "name": "stdout",
     "output_type": "stream",
     "text": [
      "Do i $ \n",
      " Frml SHARES2 diff(Share_{i})  = sum(j,Share_{i}*Share_{j}*(F_{i}_{j}/tau_{j}-F_{j}_{i}/tau_{i})) $ \n",
      "enddo $ \n",
      "Do i $ Do j $ \n",
      " Frml preferences F_{i}_{j}  = ((1)/(1+exp((((C_{i}-C_{j}))/(sigma_{i}_{j}))))) $ \n",
      "enddo $ enddo $ \n",
      "Do i $ Do j $ \n",
      " Frml sigma sigma_{i}_{j}  = sqrt(sigma_{i}**2*sigma_{j}**2) $ \n",
      "enddo $ enddo $ \n",
      "Do i $ \n",
      " Frml UD UsefulDemand_{i}  = Share_{i}*UsefulDemand_total $ \n",
      "enddo $ \n",
      "Frml UD_total UsefulDemand_total   = UsefulDemand_total(-1)*(1+((UsefulDemand_total_growth)/(100))) $ \n",
      "Frml check_shares Share_total   = sum(i,Share_{i}) $ \n",
      "LIST I  =  I  : T1  T2  T3$\n",
      "LIST J  =  J  :  T1  T2  T3$\n"
     ]
    }
   ],
   "source": [
    "print(mftt.equations_original)"
   ]
  },
  {
   "cell_type": "markdown",
   "metadata": {},
   "source": [
    "## Then the template model is expanded to a Business language model"
   ]
  },
  {
   "cell_type": "code",
   "execution_count": 19,
   "metadata": {},
   "outputs": [
    {
     "name": "stdout",
     "output_type": "stream",
     "text": [
      "FRML SHARES2 SHARE_T1=SHARE_T1(-1)+((SHARE_T1*SHARE_T1*(F_T1_T1/TAU_T1-F_T1_T1/TAU_T1)+SHARE_T1*SHARE_T2*(F_T1_T2/TAU_T2-F_T2_T1/TAU_T1)+SHARE_T1*SHARE_T3*(F_T1_T3/TAU_T3-F_T3_T1/TAU_T1)))$\n",
      "FRML SHARES2 SHARE_T2=SHARE_T2(-1)+((SHARE_T2*SHARE_T1*(F_T2_T1/TAU_T1-F_T1_T2/TAU_T2)+SHARE_T2*SHARE_T2*(F_T2_T2/TAU_T2-F_T2_T2/TAU_T2)+SHARE_T2*SHARE_T3*(F_T2_T3/TAU_T3-F_T3_T2/TAU_T2)))$\n",
      "FRML SHARES2 SHARE_T3=SHARE_T3(-1)+((SHARE_T3*SHARE_T1*(F_T3_T1/TAU_T1-F_T1_T3/TAU_T3)+SHARE_T3*SHARE_T2*(F_T3_T2/TAU_T2-F_T2_T3/TAU_T3)+SHARE_T3*SHARE_T3*(F_T3_T3/TAU_T3-F_T3_T3/TAU_T3)))$\n",
      "FRML PREFERENCES F_T1_T1  = ((1)/(1+EXP((((C_T1-C_T1))/(SIGMA_T1_T1))))) $\n",
      "FRML PREFERENCES F_T1_T2  = ((1)/(1+EXP((((C_T1-C_T2))/(SIGMA_T1_T2))))) $\n",
      "FRML PREFERENCES F_T1_T3  = ((1)/(1+EXP((((C_T1-C_T3))/(SIGMA_T1_T3))))) $\n",
      "FRML PREFERENCES F_T2_T1  = ((1)/(1+EXP((((C_T2-C_T1))/(SIGMA_T2_T1))))) $\n",
      "FRML PREFERENCES F_T2_T2  = ((1)/(1+EXP((((C_T2-C_T2))/(SIGMA_T2_T2))))) $\n",
      "FRML PREFERENCES F_T2_T3  = ((1)/(1+EXP((((C_T2-C_T3))/(SIGMA_T2_T3))))) $\n",
      "FRML PREFERENCES F_T3_T1  = ((1)/(1+EXP((((C_T3-C_T1))/(SIGMA_T3_T1))))) $\n",
      "FRML PREFERENCES F_T3_T2  = ((1)/(1+EXP((((C_T3-C_T2))/(SIGMA_T3_T2))))) $\n",
      "FRML PREFERENCES F_T3_T3  = ((1)/(1+EXP((((C_T3-C_T3))/(SIGMA_T3_T3))))) $\n",
      "FRML SIGMA SIGMA_T1_T1  = SQRT(SIGMA_T1**2*SIGMA_T1**2) $\n",
      "FRML SIGMA SIGMA_T1_T2  = SQRT(SIGMA_T1**2*SIGMA_T2**2) $\n",
      "FRML SIGMA SIGMA_T1_T3  = SQRT(SIGMA_T1**2*SIGMA_T3**2) $\n",
      "FRML SIGMA SIGMA_T2_T1  = SQRT(SIGMA_T2**2*SIGMA_T1**2) $\n",
      "FRML SIGMA SIGMA_T2_T2  = SQRT(SIGMA_T2**2*SIGMA_T2**2) $\n",
      "FRML SIGMA SIGMA_T2_T3  = SQRT(SIGMA_T2**2*SIGMA_T3**2) $\n",
      "FRML SIGMA SIGMA_T3_T1  = SQRT(SIGMA_T3**2*SIGMA_T1**2) $\n",
      "FRML SIGMA SIGMA_T3_T2  = SQRT(SIGMA_T3**2*SIGMA_T2**2) $\n",
      "FRML SIGMA SIGMA_T3_T3  = SQRT(SIGMA_T3**2*SIGMA_T3**2) $\n",
      "FRML UD USEFULDEMAND_T1  = SHARE_T1*USEFULDEMAND_TOTAL $\n",
      "FRML UD USEFULDEMAND_T2  = SHARE_T2*USEFULDEMAND_TOTAL $\n",
      "FRML UD USEFULDEMAND_T3  = SHARE_T3*USEFULDEMAND_TOTAL $\n",
      "FRML UD_TOTAL USEFULDEMAND_TOTAL   = USEFULDEMAND_TOTAL(-1)*(1+((USEFULDEMAND_TOTAL_GROWTH)/(100))) $\n",
      "FRML CHECK_SHARES SHARE_TOTAL   = (SHARE_T1+SHARE_T2+SHARE_T3) $\n",
      "LIST I  =  I  : T1  T2  T3$\n",
      "LIST J  =  J  :  T1  T2  T3$\n"
     ]
    }
   ],
   "source": [
    "print(mftt.equations)"
   ]
  },
  {
   "cell_type": "code",
   "execution_count": null,
   "metadata": {},
   "outputs": [],
   "source": []
  },
  {
   "cell_type": "markdown",
   "metadata": {},
   "source": [
    "## Create some mock data\n",
    "The **%%dataframe** magic command helps dooing this. "
   ]
  },
  {
   "cell_type": "markdown",
   "metadata": {},
   "source": [
    " ### Initial values for the shares. \n",
    " Needed, as the lagged values are needed for the simulation to start "
   ]
  },
  {
   "cell_type": "code",
   "execution_count": 20,
   "metadata": {},
   "outputs": [
    {
     "data": {
      "text/html": [
       "<div>\n",
       "<style scoped>\n",
       "    .dataframe tbody tr th:only-of-type {\n",
       "        vertical-align: middle;\n",
       "    }\n",
       "\n",
       "    .dataframe tbody tr th {\n",
       "        vertical-align: top;\n",
       "    }\n",
       "\n",
       "    .dataframe thead th {\n",
       "        text-align: right;\n",
       "    }\n",
       "</style>\n",
       "<table border=\"1\" class=\"dataframe\">\n",
       "  <thead>\n",
       "    <tr style=\"text-align: right;\">\n",
       "      <th></th>\n",
       "      <th>SHARE_T1</th>\n",
       "      <th>SHARE_T2</th>\n",
       "      <th>SHARE_T3</th>\n",
       "      <th>USEFULDEMAND_TOTAL</th>\n",
       "    </tr>\n",
       "    <tr>\n",
       "      <th>index</th>\n",
       "      <th></th>\n",
       "      <th></th>\n",
       "      <th></th>\n",
       "      <th></th>\n",
       "    </tr>\n",
       "  </thead>\n",
       "  <tbody>\n",
       "    <tr>\n",
       "      <th>2021</th>\n",
       "      <td>0.3333</td>\n",
       "      <td>0.3333</td>\n",
       "      <td>0.3333</td>\n",
       "      <td>100.0</td>\n",
       "    </tr>\n",
       "  </tbody>\n",
       "</table>\n",
       "</div>"
      ],
      "text/plain": [
       "       SHARE_T1  SHARE_T2  SHARE_T3  USEFULDEMAND_TOTAL\n",
       "index                                                  \n",
       "2021     0.3333    0.3333    0.3333               100.0"
      ]
     },
     "metadata": {},
     "output_type": "display_data"
    }
   ],
   "source": [
    "%%dataframe  startvalues  show  periods=1 \n",
    "     \n",
    "       SHARE_T1      SHARE_T2    SHARE_T3  USEFULDEMAND_TOTAL \n",
    "       0.33333        0.33333     0.33333             100"
   ]
  },
  {
   "cell_type": "markdown",
   "metadata": {},
   "source": [
    " ### Parameter values  \n",
    " Initial all the tecknologies are equal. "
   ]
  },
  {
   "cell_type": "code",
   "execution_count": 21,
   "metadata": {},
   "outputs": [],
   "source": [
    "%%dataframe  exoinit  nshow  periods=100 \n",
    "C_T1 C_T2 C_T3  TAU_T1 TAU_T2 TAU_T3 USEFULDEMAND_TOTAL_GROWTH SIGMA_T1 SIGMA_T2 SIGMA_T3\n",
    "4      4  4      3     3      3      2                              2        2       2 "
   ]
  },
  {
   "cell_type": "markdown",
   "metadata": {},
   "source": [
    " ### Combine the dataframe to one which can be solves "
   ]
  },
  {
   "cell_type": "code",
   "execution_count": 22,
   "metadata": {},
   "outputs": [
    {
     "data": {
      "text/html": [
       "<div>\n",
       "<style scoped>\n",
       "    .dataframe tbody tr th:only-of-type {\n",
       "        vertical-align: middle;\n",
       "    }\n",
       "\n",
       "    .dataframe tbody tr th {\n",
       "        vertical-align: top;\n",
       "    }\n",
       "\n",
       "    .dataframe thead th {\n",
       "        text-align: right;\n",
       "    }\n",
       "</style>\n",
       "<table border=\"1\" class=\"dataframe\">\n",
       "  <thead>\n",
       "    <tr style=\"text-align: right;\">\n",
       "      <th>index</th>\n",
       "      <th>2021</th>\n",
       "      <th>2022</th>\n",
       "      <th>2023</th>\n",
       "      <th>2024</th>\n",
       "      <th>2025</th>\n",
       "    </tr>\n",
       "  </thead>\n",
       "  <tbody>\n",
       "    <tr>\n",
       "      <th>SHARE_T1</th>\n",
       "      <td>0.3333</td>\n",
       "      <td>0.0</td>\n",
       "      <td>0.0</td>\n",
       "      <td>0.0</td>\n",
       "      <td>0.0</td>\n",
       "    </tr>\n",
       "    <tr>\n",
       "      <th>SHARE_T2</th>\n",
       "      <td>0.3333</td>\n",
       "      <td>0.0</td>\n",
       "      <td>0.0</td>\n",
       "      <td>0.0</td>\n",
       "      <td>0.0</td>\n",
       "    </tr>\n",
       "    <tr>\n",
       "      <th>SHARE_T3</th>\n",
       "      <td>0.3333</td>\n",
       "      <td>0.0</td>\n",
       "      <td>0.0</td>\n",
       "      <td>0.0</td>\n",
       "      <td>0.0</td>\n",
       "    </tr>\n",
       "    <tr>\n",
       "      <th>USEFULDEMAND_TOTAL</th>\n",
       "      <td>100.0000</td>\n",
       "      <td>0.0</td>\n",
       "      <td>0.0</td>\n",
       "      <td>0.0</td>\n",
       "      <td>0.0</td>\n",
       "    </tr>\n",
       "    <tr>\n",
       "      <th>C_T1</th>\n",
       "      <td>4.0000</td>\n",
       "      <td>4.0</td>\n",
       "      <td>4.0</td>\n",
       "      <td>4.0</td>\n",
       "      <td>4.0</td>\n",
       "    </tr>\n",
       "    <tr>\n",
       "      <th>C_T2</th>\n",
       "      <td>4.0000</td>\n",
       "      <td>4.0</td>\n",
       "      <td>4.0</td>\n",
       "      <td>4.0</td>\n",
       "      <td>4.0</td>\n",
       "    </tr>\n",
       "    <tr>\n",
       "      <th>C_T3</th>\n",
       "      <td>4.0000</td>\n",
       "      <td>4.0</td>\n",
       "      <td>4.0</td>\n",
       "      <td>4.0</td>\n",
       "      <td>4.0</td>\n",
       "    </tr>\n",
       "    <tr>\n",
       "      <th>TAU_T1</th>\n",
       "      <td>3.0000</td>\n",
       "      <td>3.0</td>\n",
       "      <td>3.0</td>\n",
       "      <td>3.0</td>\n",
       "      <td>3.0</td>\n",
       "    </tr>\n",
       "    <tr>\n",
       "      <th>TAU_T2</th>\n",
       "      <td>3.0000</td>\n",
       "      <td>3.0</td>\n",
       "      <td>3.0</td>\n",
       "      <td>3.0</td>\n",
       "      <td>3.0</td>\n",
       "    </tr>\n",
       "    <tr>\n",
       "      <th>TAU_T3</th>\n",
       "      <td>3.0000</td>\n",
       "      <td>3.0</td>\n",
       "      <td>3.0</td>\n",
       "      <td>3.0</td>\n",
       "      <td>3.0</td>\n",
       "    </tr>\n",
       "    <tr>\n",
       "      <th>USEFULDEMAND_TOTAL_GROWTH</th>\n",
       "      <td>2.0000</td>\n",
       "      <td>2.0</td>\n",
       "      <td>2.0</td>\n",
       "      <td>2.0</td>\n",
       "      <td>2.0</td>\n",
       "    </tr>\n",
       "    <tr>\n",
       "      <th>SIGMA_T1</th>\n",
       "      <td>2.0000</td>\n",
       "      <td>2.0</td>\n",
       "      <td>2.0</td>\n",
       "      <td>2.0</td>\n",
       "      <td>2.0</td>\n",
       "    </tr>\n",
       "    <tr>\n",
       "      <th>SIGMA_T2</th>\n",
       "      <td>2.0000</td>\n",
       "      <td>2.0</td>\n",
       "      <td>2.0</td>\n",
       "      <td>2.0</td>\n",
       "      <td>2.0</td>\n",
       "    </tr>\n",
       "    <tr>\n",
       "      <th>SIGMA_T3</th>\n",
       "      <td>2.0000</td>\n",
       "      <td>2.0</td>\n",
       "      <td>2.0</td>\n",
       "      <td>2.0</td>\n",
       "      <td>2.0</td>\n",
       "    </tr>\n",
       "  </tbody>\n",
       "</table>\n",
       "</div>"
      ],
      "text/plain": [
       "index                          2021  2022  2023  2024  2025\n",
       "SHARE_T1                     0.3333   0.0   0.0   0.0   0.0\n",
       "SHARE_T2                     0.3333   0.0   0.0   0.0   0.0\n",
       "SHARE_T3                     0.3333   0.0   0.0   0.0   0.0\n",
       "USEFULDEMAND_TOTAL         100.0000   0.0   0.0   0.0   0.0\n",
       "C_T1                         4.0000   4.0   4.0   4.0   4.0\n",
       "C_T2                         4.0000   4.0   4.0   4.0   4.0\n",
       "C_T3                         4.0000   4.0   4.0   4.0   4.0\n",
       "TAU_T1                       3.0000   3.0   3.0   3.0   3.0\n",
       "TAU_T2                       3.0000   3.0   3.0   3.0   3.0\n",
       "TAU_T3                       3.0000   3.0   3.0   3.0   3.0\n",
       "USEFULDEMAND_TOTAL_GROWTH    2.0000   2.0   2.0   2.0   2.0\n",
       "SIGMA_T1                     2.0000   2.0   2.0   2.0   2.0\n",
       "SIGMA_T2                     2.0000   2.0   2.0   2.0   2.0\n",
       "SIGMA_T3                     2.0000   2.0   2.0   2.0   2.0"
      ]
     },
     "execution_count": 22,
     "metadata": {},
     "output_type": "execute_result"
    }
   ],
   "source": [
    "baseline = pd.concat([startvalues,exoinit],axis=1).fillna(0)\n",
    "baseline.head().T"
   ]
  },
  {
   "cell_type": "markdown",
   "metadata": {},
   "source": [
    "## Solve the model "
   ]
  },
  {
   "cell_type": "code",
   "execution_count": 23,
   "metadata": {
    "scrolled": true
   },
   "outputs": [],
   "source": [
    "res = mftt(baseline,silent=1,first_test=100,init=True)"
   ]
  },
  {
   "cell_type": "code",
   "execution_count": 24,
   "metadata": {},
   "outputs": [],
   "source": [
    "for change_c_t2 in [0 , -1.0, -0.5, 0.5 , 1]:\n",
    "    alternative = baseline.upd(f'c_t2 + {change_c_t2}')\n",
    "    _ = mftt(alternative,keep = f'cost of tecknology 2 changed by {change_c_t2}')"
   ]
  },
  {
   "cell_type": "code",
   "execution_count": 25,
   "metadata": {},
   "outputs": [],
   "source": [
    "mftt.group_dict = {\n",
    "    'share*' : 'Shares',\n",
    "    '*'      :  'all'\n",
    "}"
   ]
  },
  {
   "cell_type": "code",
   "execution_count": 26,
   "metadata": {},
   "outputs": [
    {
     "data": {
      "application/vnd.jupyter.widget-view+json": {
       "model_id": "41965d22367c4cd49affe2a7309adc50",
       "version_major": 2,
       "version_minor": 0
      },
      "text/plain": [
       "VBox(children=(HBox(children=(SelectMultiple(description='Select one or more', index=(0, 1, 2, 3), layout=Layo…"
      ]
     },
     "metadata": {},
     "output_type": "display_data"
    },
    {
     "data": {
      "text/plain": [
       " "
      ]
     },
     "execution_count": 26,
     "metadata": {},
     "output_type": "execute_result"
    }
   ],
   "source": [
    "mftt.keep_show()"
   ]
  },
  {
   "cell_type": "code",
   "execution_count": null,
   "metadata": {},
   "outputs": [],
   "source": []
  }
 ],
 "metadata": {
  "celltoolbar": "Edit Metadata",
  "hide_input": false,
  "kernelspec": {
   "display_name": "Python 3 (ipykernel)",
   "language": "python",
   "name": "python3"
  },
  "language_info": {
   "codemirror_mode": {
    "name": "ipython",
    "version": 3
   },
   "file_extension": ".py",
   "mimetype": "text/x-python",
   "name": "python",
   "nbconvert_exporter": "python",
   "pygments_lexer": "ipython3",
   "version": "3.9.15"
  },
  "toc": {
   "base_numbering": 1,
   "nav_menu": {},
   "number_sections": true,
   "sideBar": true,
   "skip_h1_title": true,
   "title_cell": "Table of Contents",
   "title_sidebar": "Contents",
   "toc_cell": false,
   "toc_position": {
    "height": "496.25px",
    "left": "166px",
    "top": "110.156px",
    "width": "184.971px"
   },
   "toc_section_display": true,
   "toc_window_display": false
  },
  "varInspector": {
   "cols": {
    "lenName": 16,
    "lenType": 16,
    "lenVar": 40
   },
   "kernels_config": {
    "python": {
     "delete_cmd_postfix": "",
     "delete_cmd_prefix": "del ",
     "library": "var_list.py",
     "varRefreshCmd": "print(var_dic_list())"
    },
    "r": {
     "delete_cmd_postfix": ") ",
     "delete_cmd_prefix": "rm(",
     "library": "var_list.r",
     "varRefreshCmd": "cat(var_dic_list()) "
    }
   },
   "types_to_exclude": [
    "module",
    "function",
    "builtin_function_or_method",
    "instance",
    "_Feature"
   ],
   "window_display": false
  }
 },
 "nbformat": 4,
 "nbformat_minor": 4
}
