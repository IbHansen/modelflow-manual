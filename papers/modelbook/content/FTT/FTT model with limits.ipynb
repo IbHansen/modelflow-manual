{
 "cells": [
  {
   "cell_type": "markdown",
   "metadata": {
    "slideshow": {
     "slide_type": "slide"
    }
   },
   "source": [
    "# FTT model with limits"
   ]
  },
  {
   "cell_type": "markdown",
   "metadata": {},
   "source": [
    "## A Future Technology Transformations (FTT) model \n",
    "Future Technology Transformations (FTT) is a framework for technology diffusion model based on simulation rather than optimization approach that is more commonly used. The FTT framework currently exists for power, road transport, steel and heating sectors \n",
    "\n",
    "Original paper:  [Mercure, J.-F. et al. The dynamics of technology diffusion and the impacts of climate policy instruments in the decarbonisation of the global electricity sector. Energy Policy 73, 686–700.](https://www.sciencedirect.com/science/article/pii/S0301421514004017)\n",
    "\n",
    "The model below is a very simple version. The purpose is to show some of the properties and how to set up an model in Latex  "
   ]
  },
  {
   "cell_type": "markdown",
   "metadata": {},
   "source": [
    "## Modelflow\n",
    "For more information on modelflow please look [here](https://ibhansen.github.io/mfbook/content/introduction.html)  "
   ]
  },
  {
   "cell_type": "markdown",
   "metadata": {
    "slideshow": {
     "slide_type": "subslide"
    }
   },
   "source": [
    "## Why specify a model in Latex? \n",
    "\n",
    "Sometime the **implementation** of a model in software don't match the **specification** of the model in \n",
    "the text in which the model is presented. It can be a challenge to make sure that the specification is \n",
    "updated in order to reflect changes made in the implementation. \n",
    "\n",
    "By extracting the model from a Latex script which describes and specify the model, one can always be sure that simulations reflect the model as described in the paper. \n",
    "\n",
    "Also the author is forced to make a complete specification of the model, else it won't run. "
   ]
  },
  {
   "cell_type": "markdown",
   "metadata": {
    "slideshow": {
     "slide_type": "skip"
    }
   },
   "source": [
    "## Import libraries "
   ]
  },
  {
   "cell_type": "markdown",
   "metadata": {},
   "source": [
    "```{note}\n",
    "This notebook will not render nice in Colab \n",
    "\n",
    "Because of limitations in Jupyterbook - which is used for creating this book - the latex input is input twice. That is not nessecary for use in an notebook. \n",
    "```"
   ]
  },
  {
   "cell_type": "code",
   "execution_count": 794,
   "metadata": {
    "tags": [
     "remove-cell"
    ]
   },
   "outputs": [],
   "source": [
    "#This is code to manage dependencies if the notebook is executed in the google colab cloud service\n",
    "if 'google.colab' in str(get_ipython()):\n",
    "  import os\n",
    "  os.system('apt -qqq install graphviz')\n",
    "  os.system('pip -qqq install ModelFlowIb ipysheet  --no-dependencies ')"
   ]
  },
  {
   "cell_type": "code",
   "execution_count": 795,
   "metadata": {
    "scrolled": false,
    "slideshow": {
     "slide_type": "skip"
    }
   },
   "outputs": [
    {
     "name": "stdout",
     "output_type": "stream",
     "text": [
      "The autoreload extension is already loaded. To reload it, use:\n",
      "  %reload_ext autoreload\n"
     ]
    },
    {
     "data": {
      "text/html": [
       "\n",
       "        <style>\n",
       "            div#notebook-container    { width: 95%; }\n",
       "            div#menubar-container     { width: 65%; }\n",
       "            div#maintoolbar-container { width: 99%; }\n",
       "        </style>\n",
       "        "
      ],
      "text/plain": [
       "<IPython.core.display.HTML object>"
      ]
     },
     "metadata": {},
     "output_type": "display_data"
    }
   ],
   "source": [
    "%load_ext autoreload\n",
    "%autoreload 2\n",
    "import pandas as pd\n",
    "from IPython.core.display import HTML,Markdown,Latex\n",
    "\n",
    "\n",
    "from modelclass import model\n",
    "import modeljupytermagic\n",
    "\n",
    "# some useful stuf\n",
    "model.widescreen()\n",
    "pd.set_option('display.max_rows', None, 'display.max_columns', 10, 'display.precision', 4)\n"
   ]
  },
  {
   "cell_type": "markdown",
   "metadata": {
    "slideshow": {
     "slide_type": "slide"
    }
   },
   "source": [
    "## Write a latex script  \n",
    "The model consists of the equations and the lists   \n",
    "\n",
    "The jupyter magic command **%%latexflow** will extract the model. then it will  transform the equations to **ModelFlow** equations and finaly it will create a modelflow **model** instance.   \n",
    "\n",
    "In the following cell the modelinstance wil be called **mftt**. It will be able to solve the model. "
   ]
  },
  {
   "cell_type": "code",
   "execution_count": 796,
   "metadata": {
    "scrolled": false,
    "slideshow": {
     "slide_type": "fragment"
    }
   },
   "outputs": [],
   "source": [
    "%%latexflow mftt  ndisplay\n",
    "\n",
    "FTT model with limits \n",
    "\n",
    "Two lists of technology  are defined: \n",
    "    \n",
    "List $i =\\{t1, t2, t3, t4\\}$\n",
    "\n",
    "List $j = \\{t1, t2, t3, t4\\}$\n",
    "\n",
    "\n",
    "Here the cost of every technology is increased if the share is larger than a max value. \n",
    "\n",
    "### Min and max \n",
    "To enforce constraint a penalty is added to the cost if the share seeks to move about the max value. And an deduction is subtracted\n",
    "from the cost if the shares seeks to go below the min value.  \n",
    "\n",
    "#### Max\n",
    "We really want to have this equations: \n",
    "\\begin{equation}\n",
    "\\label{eqno:maxout}\n",
    "\\underbrace{penalty\\_max^{i}}_{Penalty\\_max} =  20 * (Share^{i} > Share\\_max^{i}) \n",
    "\\end{equation}\n",
    "\n",
    "However in order to get more numerical stability an equation which smooth out the logical expression: $Share^{i} > Share\\_max^{i}$  is used: \n",
    "\n",
    "\\begin{equation}\n",
    "\\label{eq:maxoutlogit}\n",
    "\\underbrace{penalty\\_max\\_l^{i}}_{Penalty\\_max} =  20 * logit^{-1}(1000*(Share^{i} - Share\\_max^{i})) \n",
    "\\end{equation}\n",
    "\n",
    "#### Min \n",
    "\n",
    "We want this\n",
    "\\begin{equation}\n",
    "\\label{eqno:minout}\n",
    "\\underbrace{deduction\\_min^{i}}_{cost incl constrain} = C^{i}* 0.99 * (Share^{i} < Share\\_min^{i})\n",
    "\\end{equation}\n",
    "\n",
    "And implement it like this\n",
    "\n",
    "\\begin{equation}\n",
    "\\label{eq:minoutlogit}\n",
    "\\underbrace{deduction\\_min\\_l^{i}}_{cost incl constrain} = C^{i}* 0.99 * logit^{-1}(1000*(Share\\_min^{i}-Share^{i})  )\n",
    "\\end{equation}\n",
    "\n",
    "### Total Cost \n",
    "\n",
    "\\begin{equation}\n",
    "\\label{eq:Z_costbarrier}\n",
    "\\underbrace{Cost^{i}}_{cost incl constrain} = C^{i} +  penalty\\_max\\_l^{i} -  deduction\\_min\\_l^{i}\n",
    "\\end{equation}\n",
    "\n",
    "### preferences\n",
    "\n",
    "\\begin{equation}\n",
    "\\label{eq:preferences}\n",
    "\\underbrace{F^{i,j}}_{Preferences} = \\frac{1}{\n",
    "1+exp(\n",
    "    \\frac{(Cost^{i}-Cost^{j})}{\\sigma^{i,j}} )}\n",
    "\\end{equation}\n",
    "\n",
    "\n",
    "### Shares \n",
    "\n",
    "\\begin{equation}\n",
    "\\label{eq:SHARES2}\n",
    "\\Delta Share^{i} = \\sum_{j}(Share^{i} \\times Share^{j} \\times\n",
    "                            (\\underbrace{F^{i,j}}_{Preferences}/\\underbrace{\\tau^{j}}_{Life expectancy}\n",
    "                             - F^{j,i}/\\tau^{i}))\n",
    "\\end{equation}\n",
    "\n",
    "### Sigma\n",
    "\n",
    "\\begin{equation}\n",
    "\\label{eq:sigma}\n",
    "\\sigma^{i,j} = \\sqrt{\\sigma^{i}**2 \\times \\sigma^{j}**2}\n",
    "\\end{equation}\n",
    "\n",
    "\n",
    "### Demand \n",
    "\n",
    "\\begin{equation}\n",
    "\\label{eq:UD}\n",
    "UsefulDemand^{i} = Share^{i} \\times UsefulDemand\\_total \n",
    "\\end{equation}\n",
    "\n",
    "\\begin{equation}\n",
    "\\label{eq:UD_total}\n",
    "UsefulDemand\\_total  = UsefulDemand\\_total_{t-1} \\times \n",
    "(1+\\frac{UsefulDemand\\_total\\_growth}{100})\n",
    "\\end{equation}\n",
    "\n",
    "### Check, that the shares add up to one. \n",
    "\n",
    "\\begin{equation}\n",
    "\\label{eq:check_shares}\n",
    "Share\\_total  = \\sum_{i}(Share\\_{i})\n",
    "\\end{equation}\n"
   ]
  },
  {
   "cell_type": "markdown",
   "metadata": {},
   "source": [
    "##### print(mftt.equations_original)"
   ]
  },
  {
   "cell_type": "markdown",
   "metadata": {},
   "source": [
    "## the %%latexflow cell will extract the equations from the script \n",
    "and create a modelinstance which is named: **mftt**"
   ]
  },
  {
   "cell_type": "markdown",
   "metadata": {},
   "source": [
    "## This text will render like this\n"
   ]
  },
  {
   "cell_type": "code",
   "execution_count": 782,
   "metadata": {
    "tags": [
     "remove-cell"
    ]
   },
   "outputs": [
    {
     "data": {
      "text/markdown": [
       "\n",
       "FTT model with limits \n",
       "\n",
       "Two lists of technology  are defined: \n",
       "    \n",
       "List $i =\\{t1, t2, t3, t4\\}$\n",
       "\n",
       "List $j = \\{t1, t2, t3, t4\\}$\n",
       "\n",
       "\n",
       "Here the cost of every technology is increased if the share is larger than a max value. \n",
       "\n",
       "## Min and max \n",
       "To enforce constraint a penalty is added to the cost if the share seeks to move about the max value. And an deduction is subtracted\n",
       "from the cost if the shares seeks to go below the min value.  \n",
       "\n",
       "### Max\n",
       "We really want to have this equations: \n",
       "\\begin{equation}\n",
       "\\label{eqno:maxout}\n",
       "\\underbrace{penalty\\_max^{i}}_{Penalty\\_max} =  20 * (Share^{i} > Share\\_max^{i}) \n",
       "\\end{equation}\n",
       "\n",
       "However in order to get more numerical stability an equation which smooth out the logical expression: $Share^{i} > Share\\_max^{i}$  is used: \n",
       "\n",
       "\\begin{equation}\n",
       "\\label{eq:maxoutlogit}\n",
       "\\underbrace{penalty\\_max\\_l^{i}}_{Penalty\\_max} =  20 * logit^{-1}(1000*(Share^{i} - Share\\_max^{i})) \n",
       "\\end{equation}\n",
       "\n",
       "### Min \n",
       "\n",
       "We want this\n",
       "\\begin{equation}\n",
       "\\label{eqno:minout}\n",
       "\\underbrace{deduction\\_min^{i}}_{cost incl constrain} = C^{i}* 0.99 * (Share^{i} < Share\\_min^{i})\n",
       "\\end{equation}\n",
       "\n",
       "And implement it like this\n",
       "\n",
       "\\begin{equation}\n",
       "\\label{eq:minoutlogit}\n",
       "\\underbrace{deduction\\_min\\_l^{i}}_{cost incl constrain} = C^{i}* 0.99 * logit^{-1}(1000*(Share\\_min^{i}-Share^{i})  )\n",
       "\\end{equation}\n",
       "\n",
       "### Total Cost \n",
       "\n",
       "\\begin{equation}\n",
       "\\label{eq:Z_costbarrier}\n",
       "\\underbrace{Cost^{i}}_{cost incl constrain} = C^{i} +  penalty\\_max\\_l^{i} -  deduction\\_min\\_l^{i}\n",
       "\\end{equation}\n",
       "\n",
       "### preferences\n",
       "\n",
       "\\begin{equation}\n",
       "\\label{eq:preferences}\n",
       "\\underbrace{F^{i,j}}_{Preferences} = \\frac{1}{\n",
       "1+exp(\n",
       "    \\frac{(Cost^{i}-Cost^{j})}{\\sigma^{i,j}} )}\n",
       "\\end{equation}\n",
       "\n",
       "\n",
       "### Shares \n",
       "\n",
       "\\begin{equation}\n",
       "\\label{eq:SHARES2}\n",
       "\\Delta Share^{i} = \\sum_{j}(Share^{i} \\times Share^{j} \\times\n",
       "                            (\\underbrace{F^{i,j}}_{Preferences}/\\underbrace{\\tau^{j}}_{Life expectancy}\n",
       "                             - F^{j,i}/\\tau^{i}))\n",
       "\\end{equation}\n",
       "\n",
       "### Sigma\n",
       "\n",
       "\\begin{equation}\n",
       "\\label{eq:sigma}\n",
       "\\sigma^{i,j} = \\sqrt{\\sigma^{i}**2 \\times \\sigma^{j}**2}\n",
       "\\end{equation}\n",
       "\n",
       "\n",
       "### Deand \n",
       "\n",
       "\\begin{equation}\n",
       "\\label{eq:UD}\n",
       "UsefulDemand^{i} = Share^{i} \\times UsefulDemand\\_total \n",
       "\\end{equation}\n",
       "\n",
       "\\begin{equation}\n",
       "\\label{eq:UD_total}\n",
       "UsefulDemand\\_total  = UsefulDemand\\_total_{t-1} \\times \n",
       "(1+\\frac{UsefulDemand\\_total\\_growth}{100})\n",
       "\\end{equation}\n",
       "\n",
       "### Check, that the shares add up to one. \n",
       "\n",
       "\\begin{equation}\n",
       "\\label{eq:check_shares}\n",
       "Share\\_total  = \\sum_{i}(Share\\_{i})\n",
       "\\end{equation}\n"
      ],
      "text/plain": [
       "<IPython.core.display.Markdown object>"
      ]
     },
     "metadata": {},
     "output_type": "display_data"
    }
   ],
   "source": [
    "display(Markdown(mftt.equations_latex))"
   ]
  },
  {
   "cell_type": "markdown",
   "metadata": {},
   "source": [
    "## Next is for jupyterbook "
   ]
  },
  {
   "cell_type": "markdown",
   "metadata": {},
   "source": [
    "FTT model with limits \n",
    "\n",
    "Two lists of technology  are defined: \n",
    "    \n",
    "List $i =\\{t1, t2, t3, t4\\}$\n",
    "\n",
    "List $j = \\{t1, t2, t3, t4\\}$\n",
    "\n",
    "\n",
    "Here the cost of every technology is increased if the share is larger than a max value. \n",
    "\n",
    "### Min and max \n",
    "To enforce constraint a penalty is added to the cost if the share seeks to move about the max value. And an deduction is subtracted\n",
    "from the cost if the shares seeks to go below the min value.  \n",
    "\n",
    "#### Max\n",
    "We really want to have this equations: \n",
    "\\begin{equation}\n",
    "\\label{eqno:maxout}\n",
    "\\underbrace{penalty\\_max^{i}}_{Penalty\\_max} =  20 * (Share^{i} > Share\\_max^{i}) \n",
    "\\end{equation}\n",
    "\n",
    "However in order to get more numerical stability an equation which smooth out the logical expression: $Share^{i} > Share\\_max^{i}$  is used: \n",
    "\n",
    "\\begin{equation}\n",
    "\\label{eq:maxoutlogit}\n",
    "\\underbrace{penalty\\_max\\_l^{i}}_{Penalty\\_max} =  20 * logit^{-1}(1000*(Share^{i} - Share\\_max^{i})) \n",
    "\\end{equation}\n",
    "\n",
    "#### Min \n",
    "\n",
    "We want this\n",
    "\\begin{equation}\n",
    "\\label{eqno:minout}\n",
    "\\underbrace{deduction\\_min^{i}}_{cost incl constrain} = C^{i}* 0.99 * (Share^{i} < Share\\_min^{i})\n",
    "\\end{equation}\n",
    "\n",
    "And implement it like this\n",
    "\n",
    "\\begin{equation}\n",
    "\\label{eq:minoutlogit}\n",
    "\\underbrace{deduction\\_min\\_l^{i}}_{cost incl constrain} = C^{i}* 0.99 * logit^{-1}(1000*(Share\\_min^{i}-Share^{i})  )\n",
    "\\end{equation}\n",
    "\n",
    "### Total Cost \n",
    "\n",
    "\\begin{equation}\n",
    "\\label{eq:Z_costbarrier}\n",
    "\\underbrace{Cost^{i}}_{cost incl constrain} = C^{i} +  penalty\\_max\\_l^{i} -  deduction\\_min\\_l^{i}\n",
    "\\end{equation}\n",
    "\n",
    "### preferences\n",
    "\\begin{equation}\n",
    "\\label{eq:preferences}\n",
    "\\underbrace{F^{i,j}}_{Preferences} = \\frac{1}{\n",
    "1+exp(\n",
    "    \\frac{(Cost^{i}-Cost^{j})}{\\sigma^{i,j}} )}\n",
    "\\end{equation}\n",
    "\n",
    "\n",
    "### Shares \n",
    "\n",
    "\n",
    "\\begin{equation}\n",
    "\\label{eq:SHARES2}\n",
    "\\Delta Share^{i} = \\sum_{j}(Share^{i} \\times Share^{j} \\times\n",
    "                            (\\underbrace{F^{i,j}}_{Preferences}/\\underbrace{\\tau^{j}}_{Life expectancy}\n",
    "                             - F^{j,i}/\\tau^{i}))\n",
    "\\end{equation}\n",
    "\n",
    "\n",
    "\\begin{equation}\n",
    "\\label{eq:sigma}\n",
    "\\sigma^{i,j} = \\sqrt{\\sigma^{i}**2 \\times \\sigma^{j}**2}\n",
    "\\end{equation}\n",
    "\n",
    "### Demand \n",
    "\n",
    "\n",
    "\\begin{equation}\n",
    "\\label{eq:UD}\n",
    "UsefulDemand^{i} = Share^{i} \\times UsefulDemand\\_total \n",
    "\\end{equation}\n",
    "\n",
    "\\begin{equation}\n",
    "\\label{eq:UD_total}\n",
    "UsefulDemand\\_total  = UsefulDemand\\_total_{t-1} \\times \n",
    "(1+\\frac{UsefulDemand\\_total\\_growth}{100})\n",
    "\\end{equation}\n",
    "\n",
    "To check, that the shares add up to one. \n",
    "\n",
    "\\begin{equation}\n",
    "\\label{eq:check_shares}\n",
    "Share\\_total  = \\sum_{i}(Share\\_{i})\n",
    "\\end{equation}\n"
   ]
  },
  {
   "cell_type": "markdown",
   "metadata": {},
   "source": [
    "## The latex script is first transpiled to a  template model"
   ]
  },
  {
   "cell_type": "markdown",
   "metadata": {},
   "source": [
    "##### print(mftt.equations_original)"
   ]
  },
  {
   "cell_type": "markdown",
   "metadata": {},
   "source": [
    "## Then the template model is expanded to a Business language model"
   ]
  },
  {
   "cell_type": "code",
   "execution_count": 783,
   "metadata": {},
   "outputs": [
    {
     "name": "stdout",
     "output_type": "stream",
     "text": [
      "FRML MAXOUTLOGIT PENALTY_MAX_L_T1  = 20*LOGIT_INVERSE(1000*(SHARE_T1-SHARE_MAX_T1)) $\n",
      "FRML MAXOUTLOGIT PENALTY_MAX_L_T2  = 20*LOGIT_INVERSE(1000*(SHARE_T2-SHARE_MAX_T2)) $\n",
      "FRML MAXOUTLOGIT PENALTY_MAX_L_T3  = 20*LOGIT_INVERSE(1000*(SHARE_T3-SHARE_MAX_T3)) $\n",
      "FRML MAXOUTLOGIT PENALTY_MAX_L_T4  = 20*LOGIT_INVERSE(1000*(SHARE_T4-SHARE_MAX_T4)) $\n",
      "FRML MINOUTLOGIT DEDUCTION_MIN_L_T1  = C_T1*0.99*LOGIT_INVERSE(1000*(SHARE_MIN_T1-SHARE_T1)) $\n",
      "FRML MINOUTLOGIT DEDUCTION_MIN_L_T2  = C_T2*0.99*LOGIT_INVERSE(1000*(SHARE_MIN_T2-SHARE_T2)) $\n",
      "FRML MINOUTLOGIT DEDUCTION_MIN_L_T3  = C_T3*0.99*LOGIT_INVERSE(1000*(SHARE_MIN_T3-SHARE_T3)) $\n",
      "FRML MINOUTLOGIT DEDUCTION_MIN_L_T4  = C_T4*0.99*LOGIT_INVERSE(1000*(SHARE_MIN_T4-SHARE_T4)) $\n",
      "FRML Z_COSTBARRIER COST_T1  = C_T1+PENALTY_MAX_L_T1-DEDUCTION_MIN_L_T1 $\n",
      "FRML Z_COSTBARRIER COST_T2  = C_T2+PENALTY_MAX_L_T2-DEDUCTION_MIN_L_T2 $\n",
      "FRML Z_COSTBARRIER COST_T3  = C_T3+PENALTY_MAX_L_T3-DEDUCTION_MIN_L_T3 $\n",
      "FRML Z_COSTBARRIER COST_T4  = C_T4+PENALTY_MAX_L_T4-DEDUCTION_MIN_L_T4 $\n",
      "FRML PREFERENCES F_T1_T1  = ((1)/(1+EXP((((COST_T1-COST_T1))/(SIGMA_T1_T1))))) $\n",
      "FRML PREFERENCES F_T1_T2  = ((1)/(1+EXP((((COST_T1-COST_T2))/(SIGMA_T1_T2))))) $\n",
      "FRML PREFERENCES F_T1_T3  = ((1)/(1+EXP((((COST_T1-COST_T3))/(SIGMA_T1_T3))))) $\n",
      "FRML PREFERENCES F_T1_T4  = ((1)/(1+EXP((((COST_T1-COST_T4))/(SIGMA_T1_T4))))) $\n",
      "FRML PREFERENCES F_T2_T1  = ((1)/(1+EXP((((COST_T2-COST_T1))/(SIGMA_T2_T1))))) $\n",
      "FRML PREFERENCES F_T2_T2  = ((1)/(1+EXP((((COST_T2-COST_T2))/(SIGMA_T2_T2))))) $\n",
      "FRML PREFERENCES F_T2_T3  = ((1)/(1+EXP((((COST_T2-COST_T3))/(SIGMA_T2_T3))))) $\n",
      "FRML PREFERENCES F_T2_T4  = ((1)/(1+EXP((((COST_T2-COST_T4))/(SIGMA_T2_T4))))) $\n",
      "FRML PREFERENCES F_T3_T1  = ((1)/(1+EXP((((COST_T3-COST_T1))/(SIGMA_T3_T1))))) $\n",
      "FRML PREFERENCES F_T3_T2  = ((1)/(1+EXP((((COST_T3-COST_T2))/(SIGMA_T3_T2))))) $\n",
      "FRML PREFERENCES F_T3_T3  = ((1)/(1+EXP((((COST_T3-COST_T3))/(SIGMA_T3_T3))))) $\n",
      "FRML PREFERENCES F_T3_T4  = ((1)/(1+EXP((((COST_T3-COST_T4))/(SIGMA_T3_T4))))) $\n",
      "FRML PREFERENCES F_T4_T1  = ((1)/(1+EXP((((COST_T4-COST_T1))/(SIGMA_T4_T1))))) $\n",
      "FRML PREFERENCES F_T4_T2  = ((1)/(1+EXP((((COST_T4-COST_T2))/(SIGMA_T4_T2))))) $\n",
      "FRML PREFERENCES F_T4_T3  = ((1)/(1+EXP((((COST_T4-COST_T3))/(SIGMA_T4_T3))))) $\n",
      "FRML PREFERENCES F_T4_T4  = ((1)/(1+EXP((((COST_T4-COST_T4))/(SIGMA_T4_T4))))) $\n",
      "FRML SHARES2 SHARE_T1=SHARE_T1(-1)+((SHARE_T1*SHARE_T1*(F_T1_T1/TAU_T1-F_T1_T1/TAU_T1)+SHARE_T1*SHARE_T2*(F_T1_T2/TAU_T2-F_T2_T1/TAU_T1)+SHARE_T1*SHARE_T3*(F_T1_T3/TAU_T3-F_T3_T1/TAU_T1)+SHARE_T1*SHARE_T4*(F_T1_T4/TAU_T4-F_T4_T1/TAU_T1)))$\n",
      "FRML SHARES2 SHARE_T2=SHARE_T2(-1)+((SHARE_T2*SHARE_T1*(F_T2_T1/TAU_T1-F_T1_T2/TAU_T2)+SHARE_T2*SHARE_T2*(F_T2_T2/TAU_T2-F_T2_T2/TAU_T2)+SHARE_T2*SHARE_T3*(F_T2_T3/TAU_T3-F_T3_T2/TAU_T2)+SHARE_T2*SHARE_T4*(F_T2_T4/TAU_T4-F_T4_T2/TAU_T2)))$\n",
      "FRML SHARES2 SHARE_T3=SHARE_T3(-1)+((SHARE_T3*SHARE_T1*(F_T3_T1/TAU_T1-F_T1_T3/TAU_T3)+SHARE_T3*SHARE_T2*(F_T3_T2/TAU_T2-F_T2_T3/TAU_T3)+SHARE_T3*SHARE_T3*(F_T3_T3/TAU_T3-F_T3_T3/TAU_T3)+SHARE_T3*SHARE_T4*(F_T3_T4/TAU_T4-F_T4_T3/TAU_T3)))$\n",
      "FRML SHARES2 SHARE_T4=SHARE_T4(-1)+((SHARE_T4*SHARE_T1*(F_T4_T1/TAU_T1-F_T1_T4/TAU_T4)+SHARE_T4*SHARE_T2*(F_T4_T2/TAU_T2-F_T2_T4/TAU_T4)+SHARE_T4*SHARE_T3*(F_T4_T3/TAU_T3-F_T3_T4/TAU_T4)+SHARE_T4*SHARE_T4*(F_T4_T4/TAU_T4-F_T4_T4/TAU_T4)))$\n",
      "FRML SIGMA SIGMA_T1_T1  = SQRT(SIGMA_T1**2*SIGMA_T1**2) $\n",
      "FRML SIGMA SIGMA_T1_T2  = SQRT(SIGMA_T1**2*SIGMA_T2**2) $\n",
      "FRML SIGMA SIGMA_T1_T3  = SQRT(SIGMA_T1**2*SIGMA_T3**2) $\n",
      "FRML SIGMA SIGMA_T1_T4  = SQRT(SIGMA_T1**2*SIGMA_T4**2) $\n",
      "FRML SIGMA SIGMA_T2_T1  = SQRT(SIGMA_T2**2*SIGMA_T1**2) $\n",
      "FRML SIGMA SIGMA_T2_T2  = SQRT(SIGMA_T2**2*SIGMA_T2**2) $\n",
      "FRML SIGMA SIGMA_T2_T3  = SQRT(SIGMA_T2**2*SIGMA_T3**2) $\n",
      "FRML SIGMA SIGMA_T2_T4  = SQRT(SIGMA_T2**2*SIGMA_T4**2) $\n",
      "FRML SIGMA SIGMA_T3_T1  = SQRT(SIGMA_T3**2*SIGMA_T1**2) $\n",
      "FRML SIGMA SIGMA_T3_T2  = SQRT(SIGMA_T3**2*SIGMA_T2**2) $\n",
      "FRML SIGMA SIGMA_T3_T3  = SQRT(SIGMA_T3**2*SIGMA_T3**2) $\n",
      "FRML SIGMA SIGMA_T3_T4  = SQRT(SIGMA_T3**2*SIGMA_T4**2) $\n",
      "FRML SIGMA SIGMA_T4_T1  = SQRT(SIGMA_T4**2*SIGMA_T1**2) $\n",
      "FRML SIGMA SIGMA_T4_T2  = SQRT(SIGMA_T4**2*SIGMA_T2**2) $\n",
      "FRML SIGMA SIGMA_T4_T3  = SQRT(SIGMA_T4**2*SIGMA_T3**2) $\n",
      "FRML SIGMA SIGMA_T4_T4  = SQRT(SIGMA_T4**2*SIGMA_T4**2) $\n",
      "FRML UD USEFULDEMAND_T1  = SHARE_T1*USEFULDEMAND_TOTAL $\n",
      "FRML UD USEFULDEMAND_T2  = SHARE_T2*USEFULDEMAND_TOTAL $\n",
      "FRML UD USEFULDEMAND_T3  = SHARE_T3*USEFULDEMAND_TOTAL $\n",
      "FRML UD USEFULDEMAND_T4  = SHARE_T4*USEFULDEMAND_TOTAL $\n",
      "FRML UD_TOTAL USEFULDEMAND_TOTAL   = USEFULDEMAND_TOTAL(-1)*(1+((USEFULDEMAND_TOTAL_GROWTH)/(100))) $\n",
      "FRML CHECK_SHARES SHARE_TOTAL   = (SHARE_T1+SHARE_T2+SHARE_T3+SHARE_T4) $\n",
      "LIST I  =  I  : T1  T2  T3  T4$\n",
      "LIST J  =  J  :  T1  T2  T3  T4$\n"
     ]
    }
   ],
   "source": [
    "print(mftt.equations)"
   ]
  },
  {
   "cell_type": "markdown",
   "metadata": {},
   "source": [
    "## Create some mock data\n",
    "The **%%dataframe** magic command helps dooing this. "
   ]
  },
  {
   "cell_type": "markdown",
   "metadata": {},
   "source": [
    " ### Initial values for the shares. \n",
    " Needed, as the lagged values are needed for the simulation to start "
   ]
  },
  {
   "cell_type": "code",
   "execution_count": 784,
   "metadata": {},
   "outputs": [
    {
     "data": {
      "text/html": [
       "<div>\n",
       "<style scoped>\n",
       "    .dataframe tbody tr th:only-of-type {\n",
       "        vertical-align: middle;\n",
       "    }\n",
       "\n",
       "    .dataframe tbody tr th {\n",
       "        vertical-align: top;\n",
       "    }\n",
       "\n",
       "    .dataframe thead th {\n",
       "        text-align: right;\n",
       "    }\n",
       "</style>\n",
       "<table border=\"1\" class=\"dataframe\">\n",
       "  <thead>\n",
       "    <tr style=\"text-align: right;\">\n",
       "      <th></th>\n",
       "      <th>SHARE_T1</th>\n",
       "      <th>SHARE_T2</th>\n",
       "      <th>SHARE_T3</th>\n",
       "      <th>SHARE_T4</th>\n",
       "      <th>USEFULDEMAND_TOTAL</th>\n",
       "    </tr>\n",
       "    <tr>\n",
       "      <th>index</th>\n",
       "      <th></th>\n",
       "      <th></th>\n",
       "      <th></th>\n",
       "      <th></th>\n",
       "      <th></th>\n",
       "    </tr>\n",
       "  </thead>\n",
       "  <tbody>\n",
       "    <tr>\n",
       "      <th>2021</th>\n",
       "      <td>0.3333</td>\n",
       "      <td>0.3333</td>\n",
       "      <td>0.3333</td>\n",
       "      <td>0.01</td>\n",
       "      <td>100.0</td>\n",
       "    </tr>\n",
       "  </tbody>\n",
       "</table>\n",
       "</div>"
      ],
      "text/plain": [
       "       SHARE_T1  SHARE_T2  SHARE_T3  SHARE_T4  USEFULDEMAND_TOTAL\n",
       "index                                                            \n",
       "2021     0.3333    0.3333    0.3333      0.01               100.0"
      ]
     },
     "metadata": {},
     "output_type": "display_data"
    }
   ],
   "source": [
    "%%dataframe  startvalues  show  periods=1 \n",
    "     \n",
    "       SHARE_T1      SHARE_T2    SHARE_T3  SHARE_T4 USEFULDEMAND_TOTAL \n",
    "       0.33333        0.33333     0.33333      0.01       100"
   ]
  },
  {
   "cell_type": "markdown",
   "metadata": {},
   "source": [
    " ### Parameter values  \n",
    " Initial all the tecknologies are equal. "
   ]
  },
  {
   "cell_type": "code",
   "execution_count": 785,
   "metadata": {},
   "outputs": [],
   "source": [
    "%%dataframe  exoinit  nshow  periods=100 \n",
    "USEFULDEMAND_TOTAL_GROWTH \n",
    "              2"
   ]
  },
  {
   "cell_type": "code",
   "execution_count": 786,
   "metadata": {},
   "outputs": [],
   "source": [
    "%%dataframe  exoparam   nshow  periods=100 melt\n",
    "              t1   t2   t3  t4 \n",
    "c             4     4    4   4  \n",
    "tAU           3     3    3   3  \n",
    "SIGMA         2     2    2   2 \n",
    "SHARE_MAX     2     2    2   2         \n",
    "SHARE_min     -1    -1   -1   -1        \n",
    "\n",
    "    "
   ]
  },
  {
   "cell_type": "markdown",
   "metadata": {},
   "source": [
    " ### Combine the dataframe to one which can be solves "
   ]
  },
  {
   "cell_type": "code",
   "execution_count": 787,
   "metadata": {},
   "outputs": [
    {
     "data": {
      "text/html": [
       "<div>\n",
       "<style scoped>\n",
       "    .dataframe tbody tr th:only-of-type {\n",
       "        vertical-align: middle;\n",
       "    }\n",
       "\n",
       "    .dataframe tbody tr th {\n",
       "        vertical-align: top;\n",
       "    }\n",
       "\n",
       "    .dataframe thead th {\n",
       "        text-align: right;\n",
       "    }\n",
       "</style>\n",
       "<table border=\"1\" class=\"dataframe\">\n",
       "  <thead>\n",
       "    <tr style=\"text-align: right;\">\n",
       "      <th>index</th>\n",
       "      <th>2021</th>\n",
       "      <th>2022</th>\n",
       "      <th>2023</th>\n",
       "      <th>2024</th>\n",
       "      <th>2025</th>\n",
       "    </tr>\n",
       "  </thead>\n",
       "  <tbody>\n",
       "    <tr>\n",
       "      <th>SHARE_T1</th>\n",
       "      <td>0.3333</td>\n",
       "      <td>0.0</td>\n",
       "      <td>0.0</td>\n",
       "      <td>0.0</td>\n",
       "      <td>0.0</td>\n",
       "    </tr>\n",
       "    <tr>\n",
       "      <th>SHARE_T2</th>\n",
       "      <td>0.3333</td>\n",
       "      <td>0.0</td>\n",
       "      <td>0.0</td>\n",
       "      <td>0.0</td>\n",
       "      <td>0.0</td>\n",
       "    </tr>\n",
       "    <tr>\n",
       "      <th>SHARE_T3</th>\n",
       "      <td>0.3333</td>\n",
       "      <td>0.0</td>\n",
       "      <td>0.0</td>\n",
       "      <td>0.0</td>\n",
       "      <td>0.0</td>\n",
       "    </tr>\n",
       "    <tr>\n",
       "      <th>SHARE_T4</th>\n",
       "      <td>0.0100</td>\n",
       "      <td>0.0</td>\n",
       "      <td>0.0</td>\n",
       "      <td>0.0</td>\n",
       "      <td>0.0</td>\n",
       "    </tr>\n",
       "    <tr>\n",
       "      <th>USEFULDEMAND_TOTAL</th>\n",
       "      <td>100.0000</td>\n",
       "      <td>0.0</td>\n",
       "      <td>0.0</td>\n",
       "      <td>0.0</td>\n",
       "      <td>0.0</td>\n",
       "    </tr>\n",
       "    <tr>\n",
       "      <th>C_T1</th>\n",
       "      <td>4.0000</td>\n",
       "      <td>4.0</td>\n",
       "      <td>4.0</td>\n",
       "      <td>4.0</td>\n",
       "      <td>4.0</td>\n",
       "    </tr>\n",
       "    <tr>\n",
       "      <th>TAU_T1</th>\n",
       "      <td>3.0000</td>\n",
       "      <td>3.0</td>\n",
       "      <td>3.0</td>\n",
       "      <td>3.0</td>\n",
       "      <td>3.0</td>\n",
       "    </tr>\n",
       "    <tr>\n",
       "      <th>SIGMA_T1</th>\n",
       "      <td>2.0000</td>\n",
       "      <td>2.0</td>\n",
       "      <td>2.0</td>\n",
       "      <td>2.0</td>\n",
       "      <td>2.0</td>\n",
       "    </tr>\n",
       "    <tr>\n",
       "      <th>SHARE_MAX_T1</th>\n",
       "      <td>2.0000</td>\n",
       "      <td>2.0</td>\n",
       "      <td>2.0</td>\n",
       "      <td>2.0</td>\n",
       "      <td>2.0</td>\n",
       "    </tr>\n",
       "    <tr>\n",
       "      <th>SHARE_MIN_T1</th>\n",
       "      <td>-1.0000</td>\n",
       "      <td>-1.0</td>\n",
       "      <td>-1.0</td>\n",
       "      <td>-1.0</td>\n",
       "      <td>-1.0</td>\n",
       "    </tr>\n",
       "    <tr>\n",
       "      <th>C_T2</th>\n",
       "      <td>4.0000</td>\n",
       "      <td>4.0</td>\n",
       "      <td>4.0</td>\n",
       "      <td>4.0</td>\n",
       "      <td>4.0</td>\n",
       "    </tr>\n",
       "    <tr>\n",
       "      <th>TAU_T2</th>\n",
       "      <td>3.0000</td>\n",
       "      <td>3.0</td>\n",
       "      <td>3.0</td>\n",
       "      <td>3.0</td>\n",
       "      <td>3.0</td>\n",
       "    </tr>\n",
       "    <tr>\n",
       "      <th>SIGMA_T2</th>\n",
       "      <td>2.0000</td>\n",
       "      <td>2.0</td>\n",
       "      <td>2.0</td>\n",
       "      <td>2.0</td>\n",
       "      <td>2.0</td>\n",
       "    </tr>\n",
       "    <tr>\n",
       "      <th>SHARE_MAX_T2</th>\n",
       "      <td>2.0000</td>\n",
       "      <td>2.0</td>\n",
       "      <td>2.0</td>\n",
       "      <td>2.0</td>\n",
       "      <td>2.0</td>\n",
       "    </tr>\n",
       "    <tr>\n",
       "      <th>SHARE_MIN_T2</th>\n",
       "      <td>-1.0000</td>\n",
       "      <td>-1.0</td>\n",
       "      <td>-1.0</td>\n",
       "      <td>-1.0</td>\n",
       "      <td>-1.0</td>\n",
       "    </tr>\n",
       "    <tr>\n",
       "      <th>C_T3</th>\n",
       "      <td>4.0000</td>\n",
       "      <td>4.0</td>\n",
       "      <td>4.0</td>\n",
       "      <td>4.0</td>\n",
       "      <td>4.0</td>\n",
       "    </tr>\n",
       "    <tr>\n",
       "      <th>TAU_T3</th>\n",
       "      <td>3.0000</td>\n",
       "      <td>3.0</td>\n",
       "      <td>3.0</td>\n",
       "      <td>3.0</td>\n",
       "      <td>3.0</td>\n",
       "    </tr>\n",
       "    <tr>\n",
       "      <th>SIGMA_T3</th>\n",
       "      <td>2.0000</td>\n",
       "      <td>2.0</td>\n",
       "      <td>2.0</td>\n",
       "      <td>2.0</td>\n",
       "      <td>2.0</td>\n",
       "    </tr>\n",
       "    <tr>\n",
       "      <th>SHARE_MAX_T3</th>\n",
       "      <td>2.0000</td>\n",
       "      <td>2.0</td>\n",
       "      <td>2.0</td>\n",
       "      <td>2.0</td>\n",
       "      <td>2.0</td>\n",
       "    </tr>\n",
       "    <tr>\n",
       "      <th>SHARE_MIN_T3</th>\n",
       "      <td>-1.0000</td>\n",
       "      <td>-1.0</td>\n",
       "      <td>-1.0</td>\n",
       "      <td>-1.0</td>\n",
       "      <td>-1.0</td>\n",
       "    </tr>\n",
       "    <tr>\n",
       "      <th>C_T4</th>\n",
       "      <td>4.0000</td>\n",
       "      <td>4.0</td>\n",
       "      <td>4.0</td>\n",
       "      <td>4.0</td>\n",
       "      <td>4.0</td>\n",
       "    </tr>\n",
       "    <tr>\n",
       "      <th>TAU_T4</th>\n",
       "      <td>3.0000</td>\n",
       "      <td>3.0</td>\n",
       "      <td>3.0</td>\n",
       "      <td>3.0</td>\n",
       "      <td>3.0</td>\n",
       "    </tr>\n",
       "    <tr>\n",
       "      <th>SIGMA_T4</th>\n",
       "      <td>2.0000</td>\n",
       "      <td>2.0</td>\n",
       "      <td>2.0</td>\n",
       "      <td>2.0</td>\n",
       "      <td>2.0</td>\n",
       "    </tr>\n",
       "    <tr>\n",
       "      <th>SHARE_MAX_T4</th>\n",
       "      <td>2.0000</td>\n",
       "      <td>2.0</td>\n",
       "      <td>2.0</td>\n",
       "      <td>2.0</td>\n",
       "      <td>2.0</td>\n",
       "    </tr>\n",
       "    <tr>\n",
       "      <th>SHARE_MIN_T4</th>\n",
       "      <td>-1.0000</td>\n",
       "      <td>-1.0</td>\n",
       "      <td>-1.0</td>\n",
       "      <td>-1.0</td>\n",
       "      <td>-1.0</td>\n",
       "    </tr>\n",
       "    <tr>\n",
       "      <th>USEFULDEMAND_TOTAL_GROWTH</th>\n",
       "      <td>2.0000</td>\n",
       "      <td>2.0</td>\n",
       "      <td>2.0</td>\n",
       "      <td>2.0</td>\n",
       "      <td>2.0</td>\n",
       "    </tr>\n",
       "  </tbody>\n",
       "</table>\n",
       "</div>"
      ],
      "text/plain": [
       "index                          2021  2022  2023  2024  2025\n",
       "SHARE_T1                     0.3333   0.0   0.0   0.0   0.0\n",
       "SHARE_T2                     0.3333   0.0   0.0   0.0   0.0\n",
       "SHARE_T3                     0.3333   0.0   0.0   0.0   0.0\n",
       "SHARE_T4                     0.0100   0.0   0.0   0.0   0.0\n",
       "USEFULDEMAND_TOTAL         100.0000   0.0   0.0   0.0   0.0\n",
       "C_T1                         4.0000   4.0   4.0   4.0   4.0\n",
       "TAU_T1                       3.0000   3.0   3.0   3.0   3.0\n",
       "SIGMA_T1                     2.0000   2.0   2.0   2.0   2.0\n",
       "SHARE_MAX_T1                 2.0000   2.0   2.0   2.0   2.0\n",
       "SHARE_MIN_T1                -1.0000  -1.0  -1.0  -1.0  -1.0\n",
       "C_T2                         4.0000   4.0   4.0   4.0   4.0\n",
       "TAU_T2                       3.0000   3.0   3.0   3.0   3.0\n",
       "SIGMA_T2                     2.0000   2.0   2.0   2.0   2.0\n",
       "SHARE_MAX_T2                 2.0000   2.0   2.0   2.0   2.0\n",
       "SHARE_MIN_T2                -1.0000  -1.0  -1.0  -1.0  -1.0\n",
       "C_T3                         4.0000   4.0   4.0   4.0   4.0\n",
       "TAU_T3                       3.0000   3.0   3.0   3.0   3.0\n",
       "SIGMA_T3                     2.0000   2.0   2.0   2.0   2.0\n",
       "SHARE_MAX_T3                 2.0000   2.0   2.0   2.0   2.0\n",
       "SHARE_MIN_T3                -1.0000  -1.0  -1.0  -1.0  -1.0\n",
       "C_T4                         4.0000   4.0   4.0   4.0   4.0\n",
       "TAU_T4                       3.0000   3.0   3.0   3.0   3.0\n",
       "SIGMA_T4                     2.0000   2.0   2.0   2.0   2.0\n",
       "SHARE_MAX_T4                 2.0000   2.0   2.0   2.0   2.0\n",
       "SHARE_MIN_T4                -1.0000  -1.0  -1.0  -1.0  -1.0\n",
       "USEFULDEMAND_TOTAL_GROWTH    2.0000   2.0   2.0   2.0   2.0"
      ]
     },
     "execution_count": 787,
     "metadata": {},
     "output_type": "execute_result"
    }
   ],
   "source": [
    "baseline = pd.concat([startvalues,exoparam_melted,exoinit],axis=1).fillna(0)\n",
    "baseline.head().T"
   ]
  },
  {
   "cell_type": "markdown",
   "metadata": {},
   "source": [
    "## Solve the model "
   ]
  },
  {
   "cell_type": "code",
   "execution_count": 788,
   "metadata": {},
   "outputs": [],
   "source": [
    "res = mftt(baseline,silent=1,first_test=20,init=True,keep='Baseline',alfa=0.1)"
   ]
  },
  {
   "cell_type": "markdown",
   "metadata": {},
   "source": [
    "## Create some scenarios\n",
    "In this case the cost of technology 2 (t2) is changed and the max share of t2 is set to 0.5"
   ]
  },
  {
   "cell_type": "code",
   "execution_count": 803,
   "metadata": {
    "scrolled": false
   },
   "outputs": [],
   "source": [
    "for change_c_t2 in [0 , -1.0, -0.5, 0.5 , 1]:\n",
    "    alternative = baseline.upd(f'''c_t2 + {change_c_t2}\n",
    "                                   share_max_t2 = 0.5 ''')\n",
    "    _ = mftt(alternative,keep = f'cost of technology 2 changed by {change_c_t2}',alfa=0.1,max_iterations=300,silent=1)"
   ]
  },
  {
   "cell_type": "markdown",
   "metadata": {},
   "source": [
    "## Create a gouping of variables for the visualizer\n",
    "The first group will automatic be displayed. "
   ]
  },
  {
   "cell_type": "code",
   "execution_count": 804,
   "metadata": {},
   "outputs": [],
   "source": [
    "mftt.group_dict = {\n",
    "    'share_T*' : 'Shares',\n",
    "    'c_t*'   :  'Cost' ,\n",
    "    'useful*':  'Demand',\n",
    "    '*'      :  'all'\n",
    "}"
   ]
  },
  {
   "cell_type": "code",
   "execution_count": 805,
   "metadata": {
    "scrolled": false
   },
   "outputs": [
    {
     "data": {
      "application/vnd.jupyter.widget-view+json": {
       "model_id": "bf4cd9a4947a43758ac6d1ba2d78b1a7",
       "version_major": 2,
       "version_minor": 0
      },
      "text/plain": [
       "VBox(children=(HBox(children=(SelectMultiple(description='Select one or more', index=(0, 1, 2, 3, 4), layout=L…"
      ]
     },
     "metadata": {},
     "output_type": "display_data"
    },
    {
     "data": {
      "text/plain": [
       " "
      ]
     },
     "execution_count": 805,
     "metadata": {},
     "output_type": "execute_result"
    }
   ],
   "source": [
    "mftt.keep_show()"
   ]
  },
  {
   "cell_type": "code",
   "execution_count": 807,
   "metadata": {},
   "outputs": [],
   "source": [
    "#mftt.modeldump(r'../../../../model_repo/ftt_limit.pcim') # Dumps the model and data"
   ]
  },
  {
   "cell_type": "code",
   "execution_count": null,
   "metadata": {},
   "outputs": [],
   "source": []
  }
 ],
 "metadata": {
  "celltoolbar": "Edit Metadata",
  "hide_input": false,
  "kernelspec": {
   "display_name": "Python 3 (ipykernel)",
   "language": "python",
   "name": "python3"
  },
  "language_info": {
   "codemirror_mode": {
    "name": "ipython",
    "version": 3
   },
   "file_extension": ".py",
   "mimetype": "text/x-python",
   "name": "python",
   "nbconvert_exporter": "python",
   "pygments_lexer": "ipython3",
   "version": "3.9.12"
  },
  "toc": {
   "base_numbering": 1,
   "nav_menu": {},
   "number_sections": true,
   "sideBar": true,
   "skip_h1_title": true,
   "title_cell": "Table of Contents",
   "title_sidebar": "Contents",
   "toc_cell": false,
   "toc_position": {
    "height": "496.25px",
    "left": "166px",
    "top": "110.156px",
    "width": "184.971px"
   },
   "toc_section_display": true,
   "toc_window_display": false
  },
  "varInspector": {
   "cols": {
    "lenName": 16,
    "lenType": 16,
    "lenVar": 40
   },
   "kernels_config": {
    "python": {
     "delete_cmd_postfix": "",
     "delete_cmd_prefix": "del ",
     "library": "var_list.py",
     "varRefreshCmd": "print(var_dic_list())"
    },
    "r": {
     "delete_cmd_postfix": ") ",
     "delete_cmd_prefix": "rm(",
     "library": "var_list.r",
     "varRefreshCmd": "cat(var_dic_list()) "
    }
   },
   "types_to_exclude": [
    "module",
    "function",
    "builtin_function_or_method",
    "instance",
    "_Feature"
   ],
   "window_display": false
  }
 },
 "nbformat": 4,
 "nbformat_minor": 4
}
