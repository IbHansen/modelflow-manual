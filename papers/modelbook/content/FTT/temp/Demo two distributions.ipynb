{
 "cells": [
  {
   "cell_type": "code",
   "execution_count": 3,
   "id": "3a546fcb",
   "metadata": {},
   "outputs": [
    {
     "data": {
      "application/vnd.jupyter.widget-view+json": {
       "model_id": "00832a9a62034498a508edbb72117931",
       "version_major": 2,
       "version_minor": 0
      },
      "text/plain": [
       "interactive(children=(FloatSlider(value=0.0, description='mean1', max=5.0, min=-5.0, step=0.5), FloatSlider(va…"
      ]
     },
     "metadata": {},
     "output_type": "display_data"
    }
   ],
   "source": [
    "import numpy as np\n",
    "import matplotlib.pyplot as plt\n",
    "import seaborn as sns\n",
    "from ipywidgets import interactive\n",
    "\n",
    "def plot_normal_distributions(mean1, std1, mean2, std2):\n",
    "    # Generate a range of x values\n",
    "    x = np.linspace(-5, 10, 100)\n",
    "\n",
    "    # Calculate the y values for each distribution using the normal distribution function\n",
    "    y1 = 1/(std1 * np.sqrt(2 * np.pi)) * np.exp(-(x - mean1)**2 / (2 * std1**2))\n",
    "    y2 = 1/(std2 * np.sqrt(2 * np.pi)) * np.exp(-(x - mean2)**2 / (2 * std2**2))\n",
    "\n",
    "    # Plot the two distributions on the same figure\n",
    "    sns.set()\n",
    "    plt.plot(x, y1, label='Distribution 1')\n",
    "    plt.plot(x, y2, label='Distribution 2')\n",
    "    plt.legend()\n",
    "\n",
    "    # Shade the difference between the distributions\n",
    "    y_min = np.minimum(y1, y2)\n",
    "    plt.fill_between(x, y_min, 0, where=(y1 != y2), interpolate=True, color='gray', alpha=0.5)\n",
    "\n",
    "    # Add a title and axis labels\n",
    "    plt.title(\"Two Normal Distributions with Difference Shaded\")\n",
    "    plt.xlabel(\"X\")\n",
    "    plt.ylabel(\"Density\")\n",
    "\n",
    "    # Show the plot\n",
    "    plt.show()\n",
    "\n",
    "# Create interactive sliders for mean and standard deviation of the two distributions\n",
    "interactive_plot = interactive(plot_normal_distributions, \n",
    "                               mean1=(-5, 5, 0.5), \n",
    "                               std1=(0.1, 3, 0.1), \n",
    "                               mean2=(-5, 5, 0.5), \n",
    "                               std2=(0.1, 3, 0.1))\n",
    "\n",
    "# Display the interactive plot\n",
    "interactive_plot\n"
   ]
  }
 ],
 "metadata": {
  "kernelspec": {
   "display_name": "Python 3 (ipykernel)",
   "language": "python",
   "name": "python3"
  },
  "language_info": {
   "codemirror_mode": {
    "name": "ipython",
    "version": 3
   },
   "file_extension": ".py",
   "mimetype": "text/x-python",
   "name": "python",
   "nbconvert_exporter": "python",
   "pygments_lexer": "ipython3",
   "version": "3.9.12"
  }
 },
 "nbformat": 4,
 "nbformat_minor": 5
}
