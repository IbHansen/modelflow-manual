{
 "cells": [
  {
   "cell_type": "markdown",
   "id": "50df2113",
   "metadata": {
    "hide_input": true
   },
   "source": [
    "# FTT model including constraint and learning\n",
    "\n",
    "In this notebook the cell magic %latexmodelgrab is used. It allows the specification of segments of the model. "
   ]
  },
  {
   "cell_type": "code",
   "execution_count": null,
   "id": "64d2c0e2",
   "metadata": {},
   "outputs": [],
   "source": [
    "#This is code to manage dependencies if the notebook is executed in the google colab cloud service\n",
    "if 'google.colab' in str(get_ipython()):\n",
    "  import os\n",
    "  os.system('apt -qqq install graphviz')\n",
    "  os.system('pip -qqq install ModelFlowIb ipysheet  --no-dependencies ')"
   ]
  },
  {
   "cell_type": "code",
   "execution_count": null,
   "id": "ca285c96",
   "metadata": {
    "hide_input": false,
    "scrolled": true
   },
   "outputs": [],
   "source": [
    "%load_ext autoreload\n",
    "%autoreload 2\n",
    "import pandas as pd\n",
    "from IPython.core.display import HTML,Markdown,Latex\n",
    "\n",
    "\n",
    "from modelclass import model\n",
    "import modeljupytermagic\n",
    "\n",
    "# some useful stuf\n",
    "model.widescreen()\n",
    "pd.set_option('display.max_rows', None, 'display.max_columns', 10, 'display.precision', 4)"
   ]
  },
  {
   "cell_type": "markdown",
   "id": "7aeb7064",
   "metadata": {
    "hide_input": true
   },
   "source": [
    "## Define the segments of the model\n",
    "By defining the a model as segments the whold model does not have to be defines in one cell. This simplifies the specification. \n",
    "And debugging.\n",
    "\n",
    "As many segments will use the lists of technologies, segments which name starts \n",
    "with list will be appended to each segment. "
   ]
  },
  {
   "cell_type": "markdown",
   "id": "1b166d7f",
   "metadata": {},
   "source": [
    "## Changes\n",
    "\n",
    "- for each sector change demand to production\n",
    "- calculate average cost for power generation \n",
    "- change the cost equations so the cost include learning "
   ]
  },
  {
   "cell_type": "markdown",
   "id": "28267108",
   "metadata": {
    "hide_input": true
   },
   "source": [
    "### First the technologies are defined"
   ]
  },
  {
   "cell_type": "code",
   "execution_count": null,
   "id": "8c0d43a7",
   "metadata": {
    "hide_input": false
   },
   "outputs": [],
   "source": [
    "%%latexmodelgrab mftt  ndisplay segment=list1\n",
    "\n",
    "Two lists of technology  are defined: \n",
    "    \n",
    "$List \\; i =\\{Oil, Coal, Gas, Biomass, Solar, Wind, Hydro, Geothermal\\} \\\\  \n",
    "         fosile: \\{  1 , 1, 1, 0, 0, 0, 0, 0 \\}$  \n",
    "\n",
    "$List \\; j = \\{Oil, Coal, Gas, Biomass, Solar, Wind, Hydro, Geothermal \\}$"
   ]
  },
  {
   "cell_type": "code",
   "execution_count": null,
   "id": "e8cf310d",
   "metadata": {
    "hide_input": false
   },
   "outputs": [],
   "source": [
    "%%latexmodelgrab mftt  ndisplay segment=text1\n",
    "\n",
    "Any number of technology can be specified (limited by the avaiable memory)\n",
    "\n",
    "The time index $_t$ is implicit. "
   ]
  },
  {
   "cell_type": "markdown",
   "id": "6df508cc",
   "metadata": {
    "hide_input": true,
    "scrolled": false
   },
   "source": [
    "### Preferences"
   ]
  },
  {
   "cell_type": "code",
   "execution_count": null,
   "id": "8476d38c",
   "metadata": {
    "hide_input": true,
    "scrolled": false
   },
   "outputs": [],
   "source": [
    "%%latexmodelgrab mftt  ndisplay segment=preferences \n",
    "\n",
    "Each technology is compared to all other based on the percieved costs and the preferences (choice likelihood) $F^{i,j}$ are calculated.\n",
    "    \n",
    "For all technologies $F^{i,j}+F^{j,i} = 1 $\n",
    "\n",
    "\\begin{equation}\n",
    "\\label{eq:preferences}\n",
    "\\underbrace{F^{i,j}}_{Preferences} = \\frac{1}{\n",
    "1+exp(\n",
    "    \\frac{(Cost\\_argumented^{i}-Cost\\_argumented^{j})}{\\sigma^{i,j}} )}\n",
    "\\end{equation}\n",
    "\n"
   ]
  },
  {
   "cell_type": "markdown",
   "id": "017e35ae",
   "metadata": {
    "hide_input": true,
    "scrolled": false
   },
   "source": [
    "### Share dynamic "
   ]
  },
  {
   "cell_type": "code",
   "execution_count": null,
   "id": "67b29764",
   "metadata": {
    "hide_input": false,
    "scrolled": false
   },
   "outputs": [],
   "source": [
    "%%latexmodelgrab mftt  ndisplay segment=Share \n",
    "\\begin{equation}\n",
    "\\label{eq:SHARES2}\n",
    "\\Delta Share^{i} = \\sum_{j}(Share^{i} \\times Share^{j} \\times\n",
    "                            (\\frac{F^{i,j}}{\\tau^{j}}\n",
    "                           - \\frac{F^{j,i}}{\\tau^{i}}))\n",
    "\\end{equation}"
   ]
  },
  {
   "cell_type": "markdown",
   "id": "20605165",
   "metadata": {
    "hide_input": true,
    "scrolled": false
   },
   "source": [
    "### Sigma"
   ]
  },
  {
   "cell_type": "code",
   "execution_count": null,
   "id": "a3809cd2",
   "metadata": {
    "hide_input": false
   },
   "outputs": [],
   "source": [
    "%%latexmodelgrab mftt  ndisplay segment=sigma \n",
    "The percieved width in the choice function\n",
    "\n",
    "\\begin{equation}\n",
    "\\label{eq:sigma}\n",
    "\\sigma^{i,j} = \\sqrt{(\\sigma^{i})^{(2)} \\cdot (\\sigma^{j})^{(2)}}\n",
    "\\end{equation}"
   ]
  },
  {
   "cell_type": "markdown",
   "id": "aa78ffe6",
   "metadata": {
    "scrolled": false
   },
   "source": [
    "### Total Demand "
   ]
  },
  {
   "cell_type": "code",
   "execution_count": null,
   "id": "13a7f6e9",
   "metadata": {
    "hide_input": true
   },
   "outputs": [],
   "source": [
    "%%latexmodelgrab mftt  ndisplay segment=demand \n",
    "\n",
    "\\begin{equation}\n",
    "\\label{eq:UD_total}\n",
    "UsefulDemand\\_total  = UsefulDemand\\_total_{t-1} \\cdot \n",
    "(1+\\frac{UsefulDemand\\_total\\_growth}{100})\n",
    "\\end{equation}"
   ]
  },
  {
   "cell_type": "markdown",
   "id": "91b70d56",
   "metadata": {
    "scrolled": false
   },
   "source": [
    "### Production  "
   ]
  },
  {
   "cell_type": "code",
   "execution_count": null,
   "id": "f7319256",
   "metadata": {
    "hide_input": true
   },
   "outputs": [],
   "source": [
    "%%latexmodelgrab mftt  display segment=production \n",
    "\n",
    "The production from each sector can be calculated. The same goes fdor \n",
    "\n",
    "\\begin{equation}\n",
    "\\label{eq:production}\n",
    "Production^{i} = Share^{i} \\cdot UsefulDemand\\_total \n",
    "\\end{equation}\n",
    "\n",
    "\\begin{equation}\n",
    "\\label{eq:acc_production}\n",
    "Production\\_accumulated^{i} = Production\\_accumulated^{i}_{t-1} + Production^{i}\n",
    "\\end{equation}"
   ]
  },
  {
   "cell_type": "markdown",
   "id": "ddd816c1",
   "metadata": {},
   "source": [
    "### price learning "
   ]
  },
  {
   "cell_type": "code",
   "execution_count": null,
   "id": "622e19b9",
   "metadata": {},
   "outputs": [],
   "source": [
    "%%latexmodelgrab mftt  ndisplay segment=endogeneous_prices \n",
    "1  FTT model including constraint and learning\n",
    "1.1  Define th\n",
    "\n",
    "The price of new technology falls in line with its accumulated use through a number of effects.\n",
    "\n",
    "In princip it depends in global accumulated production. But lacking the data, we just use the local accumulated production. There are many\n",
    "possible functional forms. This is just one example. \n",
    "\n",
    "\\begin{equation}\n",
    "\\label{eq:change_production}\n",
    "Change\\_accumulated\\_Production^{i} = \\frac{Production\\_accumulated^{i}}{Production\\_accumulated^{i}_{t-1}}\n",
    "\\end{equation}\n",
    "\n",
    "\\begin{equation}\n",
    "\\label{eq:price_impact}\n",
    "Cost^{i} = Cost^{i}_{t-1} \\cdot (Change\\_accumulated\\_Production^{i})^{(-cost\\_elasticity^{i})} \n",
    "\\end{equation}"
   ]
  },
  {
   "cell_type": "markdown",
   "id": "da3928bd",
   "metadata": {
    "scrolled": false
   },
   "source": [
    "### Imposing min and max shares  "
   ]
  },
  {
   "cell_type": "code",
   "execution_count": null,
   "id": "bfb6a949",
   "metadata": {
    "hide_input": false
   },
   "outputs": [],
   "source": [
    "%%latexmodelgrab mftt  ndisplay segment=min_max \n",
    "\n",
    "Sometime there can be constarint (min and/or max) on the shares (or the demand). To enforce constraints\n",
    " - a penalty is added to the percieved cost if the share violate the max constrain.  \n",
    " - a deduction is subtracted from the cost if the shares violates the min constrain. .  \n",
    "\n",
    "\n",
    "\n",
    "We really want to have this equations: \n",
    "\\begin{equation}\n",
    "\\label{eqno:maxout}\n",
    "\\underbrace{penalty\\_max^{i}}_{Penalty\\_max} =  20 * (Share^{i} > Share\\_max^{i}) \n",
    "\\end{equation}\n",
    "\n",
    "However in order to get more numerical stability an equation which smooth out the logical expression: $Share^{i} > Share\\_max^{i}$  is used: \n",
    "\n",
    "\\begin{equation}\n",
    "\\label{eq:maxoutlogit}\n",
    "\\underbrace{penalty\\_max\\_l^{i}}_{Penalty\\_max} =  1000 * logit^{-1}(1000*(Share^{i} - Share\\_max^{i})) \n",
    "\\end{equation}\n",
    "\n",
    "\n",
    "\n",
    "We want this\n",
    "\\begin{equation}\n",
    "\\label{eqno:minout}\n",
    "deduction\\_min^{i} = Cost^{i}* 0.99 * (Share^{i} < Share\\_min^{i})\n",
    "\\end{equation}\n",
    "\n",
    "And implement it like this\n",
    "\n",
    "\\begin{equation}\n",
    "\\label{eq:minoutlogit}\n",
    "deduction\\_min\\_l^{i} = Cost^{i}* 0.99 * logit^{-1}(100*(Share\\_min^{i}-Share^{i})  )\n",
    "\\end{equation}\n",
    "\n",
    "\n",
    "\n",
    "\n",
    "which is the value which enters the equation for prefereences ($F^{i,j}$)\n",
    "\n"
   ]
  },
  {
   "cell_type": "markdown",
   "id": "54e71131",
   "metadata": {
    "scrolled": false
   },
   "source": [
    "### Argumented cost "
   ]
  },
  {
   "cell_type": "code",
   "execution_count": null,
   "id": "aa7cf212",
   "metadata": {
    "hide_input": false
   },
   "outputs": [],
   "source": [
    "%%latexmodelgrab mftt  ndisplay segment=Argumented_cost \n",
    "\n",
    "\\begin{equation}\n",
    "\\label{eq:Z_costbarrier}\n",
    "Cost\\_argumented^{i} = Cost^{i} +  penalty\\_max\\_l^{i} -  deduction\\_min\\_l^{i}\n",
    "\\end{equation}"
   ]
  },
  {
   "cell_type": "markdown",
   "id": "6e2ef45b",
   "metadata": {
    "scrolled": false
   },
   "source": [
    "### Average cost "
   ]
  },
  {
   "cell_type": "code",
   "execution_count": null,
   "id": "1304abc1",
   "metadata": {
    "hide_input": false
   },
   "outputs": [],
   "source": [
    "%%latexmodelgrab mftt  display segment=average_cost \n",
    "\n",
    "To feed into the main model the average cost is calculated. \n",
    "This is done on the actual cost, not the argumented cost which can deviate from\n",
    "the actual cost in order to impose constraints. \n",
    "\n",
    "\\begin{equation}\n",
    "\\label{eq:Average_cost}\n",
    "Cost\\_average = \\sum_{i}(Cost^{i} \\cdot Share^{i} ) \n",
    "\\end{equation}\n"
   ]
  },
  {
   "cell_type": "markdown",
   "id": "2888c4a0",
   "metadata": {
    "scrolled": false
   },
   "source": [
    "### Max cost "
   ]
  },
  {
   "cell_type": "code",
   "execution_count": null,
   "id": "2de20da1",
   "metadata": {
    "hide_input": false
   },
   "outputs": [],
   "source": [
    "%%latexmodelgrab mftt  ndisplay segment=average_cost \n",
    "\n",
    "To feed into the main model the max cost is calculated. \n",
    "This is done on the actual cost, not the argumented cost which can deviate from\n",
    "the actual cost in order to impose constraints. \n",
    "\n",
    "\n",
    "\\begin{equation}\n",
    "\\label{eq:max_cost}\n",
    "max\\_total  = \\max_{i}(Share^{i}) \n",
    "\\end{equation}"
   ]
  },
  {
   "cell_type": "markdown",
   "id": "58e25a32",
   "metadata": {
    "scrolled": false
   },
   "source": [
    "### Check, that the shares add up to one. "
   ]
  },
  {
   "cell_type": "code",
   "execution_count": null,
   "id": "b0433d5e",
   "metadata": {
    "hide_input": false
   },
   "outputs": [],
   "source": [
    "%%latexmodelgrab mftt  ndisplay segment=check \n",
    "\n",
    "\\begin{equation}\n",
    "\\label{eq:check_shares}\n",
    "Share\\_total  = \\sum_{i}(Share^{i})\n",
    "\\end{equation}"
   ]
  },
  {
   "cell_type": "markdown",
   "id": "5cc5dc18",
   "metadata": {},
   "source": [
    "### Create the share for fosile fuels "
   ]
  },
  {
   "cell_type": "code",
   "execution_count": null,
   "id": "4ef02155",
   "metadata": {
    "scrolled": true
   },
   "outputs": [],
   "source": [
    "%%latexmodelgrab mftt  ndisplay segment=fosile \n",
    "\n",
    "\\begin{equation}\n",
    "\\label{eq:share_fosile}\n",
    "Share\\_\\_fosile  = \\sum_{i=fosile}(Share^{i})\n",
    "\\end{equation}"
   ]
  },
  {
   "cell_type": "code",
   "execution_count": null,
   "id": "7297dc5d",
   "metadata": {},
   "outputs": [],
   "source": []
  },
  {
   "cell_type": "markdown",
   "id": "bda85931",
   "metadata": {},
   "source": [
    "### Create equations just for fosile fuels"
   ]
  },
  {
   "cell_type": "code",
   "execution_count": null,
   "id": "70a92de5",
   "metadata": {},
   "outputs": [],
   "source": [
    "%%latexmodelgrab mftt  ndisplay segment=fosilesharetest \n",
    "\n",
    "\\begin{equation}\n",
    "\\label{eq:SHARES3}\n",
    "\\forall [i=fosile]\\:\\:  fosileshare^{i} = Share^{i} \n",
    "\\end{equation}\n",
    "\n"
   ]
  },
  {
   "cell_type": "markdown",
   "id": "0563cf59",
   "metadata": {},
   "source": [
    "## Combine all the segments"
   ]
  },
  {
   "cell_type": "code",
   "execution_count": null,
   "id": "7580ba22",
   "metadata": {
    "scrolled": false
   },
   "outputs": [],
   "source": [
    "%%latexmodelgrab mftt  ndisplay render=False\n",
    "# Combined model"
   ]
  },
  {
   "cell_type": "code",
   "execution_count": null,
   "id": "217b7381",
   "metadata": {},
   "outputs": [],
   "source": [
    "display(Markdown(mftt.equations_latex))"
   ]
  },
  {
   "cell_type": "markdown",
   "id": "762a620f",
   "metadata": {},
   "source": [
    "### All phases of the combined model can be displayed:"
   ]
  },
  {
   "cell_type": "code",
   "execution_count": null,
   "id": "33ad1649",
   "metadata": {
    "scrolled": false
   },
   "outputs": [],
   "source": [
    "if 0: \n",
    "    mftt_latex_model_instance.show"
   ]
  },
  {
   "cell_type": "markdown",
   "id": "aeb5fa1b",
   "metadata": {},
   "source": [
    "## Create some input data and start values "
   ]
  },
  {
   "cell_type": "code",
   "execution_count": null,
   "id": "7d1cf388",
   "metadata": {},
   "outputs": [],
   "source": [
    "%%dataframe  startvalues  show  periods=2  melt t\n",
    "                share_  Production_accumulated_\n",
    "Oil           0.0828         100\n",
    "Coal          0.0000         100\n",
    "Gas           0.0000         100 \n",
    "Biomass       0.0101         100\n",
    "Solar         0.0085         100\n",
    "Wind          0.1276         100\n",
    "Hydro         0.3381         100\n",
    "Geothermal    0.4329         100"
   ]
  },
  {
   "cell_type": "code",
   "execution_count": null,
   "id": "0082a6fa",
   "metadata": {},
   "outputs": [],
   "source": [
    "%%dataframe  exoinit  nshow  periods=100 \n",
    "USEFULDEMAND_TOTAL  USEFULDEMAND_TOTAL_GROWTH \n",
    "     100                    2"
   ]
  },
  {
   "cell_type": "code",
   "execution_count": null,
   "id": "08ae5275",
   "metadata": {},
   "outputs": [],
   "source": [
    "%%dataframe  exoparam   nshow  periods=100 melt\n",
    "                Oil     Coal    Gas      Biomass     Solar   Wind   Hydro     Geothermal\n",
    "Cost_          83.5     83.5   70.1        134.0     96.9    81.8   108.0       102.5\n",
    "Sigma_         28.1     28.1   25.0        106.6     48.4    46.1    77.1        36.0\n",
    "Tau_           40.0     40.0   30.0         40.0     25.0    25.0    80.0        40.0\n",
    "share_max_      200       200   200         200       200     200     200         200\n",
    "share_min_      -10      -100  -100        -100      -100    -100    -100         -100"
   ]
  },
  {
   "cell_type": "code",
   "execution_count": null,
   "id": "2640321f",
   "metadata": {},
   "outputs": [],
   "source": [
    "baseline = pd.concat([startvalues_melted,exoparam_melted,exoinit],axis=1).fillna(0).pipe(lambda df:df.loc[:,sorted(df.columns)])\n",
    "baseline.head().T"
   ]
  },
  {
   "cell_type": "markdown",
   "id": "2f6c7c79",
   "metadata": {},
   "source": [
    "## Some housekeeping "
   ]
  },
  {
   "cell_type": "code",
   "execution_count": null,
   "id": "5697c806",
   "metadata": {},
   "outputs": [],
   "source": [
    "sigma_names = ' '.join(name for name in mftt.exogene if name.startswith('SIGMA'))\n",
    "tau_names = ' '.join(name for name in mftt.exogene if name.startswith('TAU'))\n",
    "\n",
    "print(sigma_names)\n",
    "print(tau_names)"
   ]
  },
  {
   "cell_type": "code",
   "execution_count": null,
   "id": "7913dcea",
   "metadata": {},
   "outputs": [],
   "source": [
    "mftt.group_dict = {\n",
    "    'share__[!M]* share_total' : 'Shares',\n",
    "    'c_t* cost*'   :  'Cost' ,\n",
    "    'useful*':  'Demand',\n",
    "    'pro*':  'Production',\n",
    "    'deduct*':  'cost deduction for minimum ',\n",
    "    'penal*':  'cost penalty  for maximum ',\n",
    "    '*'      :  'all'\n",
    "}"
   ]
  },
  {
   "cell_type": "markdown",
   "id": "aa72cef3",
   "metadata": {},
   "source": [
    "## Make a baseline solution "
   ]
  },
  {
   "cell_type": "code",
   "execution_count": null,
   "id": "bb232378",
   "metadata": {},
   "outputs": [],
   "source": [
    "mftt.keep_solutions = {}   # to clean up with new experiments\n",
    "res = mftt(baseline,silent=1,first_test=10,init=True,keep='Baseline',alfa=0.1,ljit=0)"
   ]
  },
  {
   "cell_type": "markdown",
   "id": "993a20a2",
   "metadata": {},
   "source": [
    "## Create some senarios"
   ]
  },
  {
   "cell_type": "code",
   "execution_count": null,
   "id": "65618a8b",
   "metadata": {
    "scrolled": false
   },
   "outputs": [],
   "source": [
    "mftt.keep_solutions = {}   # to clean up with new experiments\n",
    "    \n",
    "lookat = 'hydro'\n",
    "for change_cost in [0.0 , -10.0, -25.0, -50.0 , 10.0 , 25.0, 50.0]:\n",
    "    alternative = baseline.upd(f'''cost__{lookat} %  {change_cost}\n",
    "                                   share_max__hydro = 0.4 \n",
    "                                   {sigma_names} = 10\n",
    "                                   {tau_names}  = 5 \n",
    "                                   ''')\n",
    "    _ = mftt(alternative,keep = f'Cost of {lookat} up {change_cost}%',\n",
    "             alfa=0.1,max_iterations=300,silent=1)"
   ]
  },
  {
   "cell_type": "markdown",
   "id": "58776800",
   "metadata": {},
   "source": [
    "## Display the results "
   ]
  },
  {
   "cell_type": "code",
   "execution_count": null,
   "id": "e4b9a823",
   "metadata": {
    "scrolled": false
   },
   "outputs": [],
   "source": [
    "mftt.keep_show(select_scenario=1)"
   ]
  },
  {
   "cell_type": "markdown",
   "id": "c0229070",
   "metadata": {},
   "source": [
    "## Look at the plots of shares"
   ]
  },
  {
   "cell_type": "code",
   "execution_count": null,
   "id": "8a7c601f",
   "metadata": {},
   "outputs": [],
   "source": [
    "sharenames = [name for name in mftt.endogene if name.startswith('SHARE__') and not ('_M' in name or '_FOSILE' in name or '_TOTAL' in name)]"
   ]
  },
  {
   "cell_type": "code",
   "execution_count": null,
   "id": "5fe78aa8",
   "metadata": {},
   "outputs": [],
   "source": [
    "mftt[sharenames].df.plot.area();"
   ]
  },
  {
   "cell_type": "markdown",
   "id": "96eddf9c",
   "metadata": {},
   "source": [
    "## Waterfall plots of share changes"
   ]
  },
  {
   "cell_type": "code",
   "execution_count": null,
   "id": "c279199f",
   "metadata": {},
   "outputs": [],
   "source": [
    "share_out = (100*pd.concat([ pd.DataFrame(df.loc['2120',sharenames] -df.loc['2021',sharenames],columns= [scenario]) \n",
    "                       for scenario,df in mftt.keep_solutions.items()]\n",
    "                      ,axis=1).\n",
    "                       pipe(lambda df: df.rename({i:i.split('__')[1] for i in df.index}))) \n",
    "\n",
    "display(Markdown(share_out.to_html()))"
   ]
  },
  {
   "cell_type": "code",
   "execution_count": null,
   "id": "45eb22d2",
   "metadata": {
    "scrolled": false
   },
   "outputs": [],
   "source": [
    "from modelvis import waterplot\n",
    "fig = waterplot(share_out,title='Change in share from 2020 to 2120',threshold=0.001);\n",
    "#fig.set_constrained_layout(True)"
   ]
  },
  {
   "cell_type": "code",
   "execution_count": null,
   "id": "d9747545",
   "metadata": {
    "scrolled": false
   },
   "outputs": [],
   "source": [
    "mftt['production_ac*']   "
   ]
  },
  {
   "cell_type": "code",
   "execution_count": null,
   "id": "a7f071ac",
   "metadata": {},
   "outputs": [],
   "source": [
    "2+2"
   ]
  }
 ],
 "metadata": {
  "hide_input": false,
  "kernelspec": {
   "display_name": "Python 3 (ipykernel)",
   "language": "python",
   "name": "python3"
  },
  "language_info": {
   "codemirror_mode": {
    "name": "ipython",
    "version": 3
   },
   "file_extension": ".py",
   "mimetype": "text/x-python",
   "name": "python",
   "nbconvert_exporter": "python",
   "pygments_lexer": "ipython3",
   "version": "3.9.16"
  },
  "toc": {
   "base_numbering": 1,
   "nav_menu": {},
   "number_sections": true,
   "sideBar": false,
   "skip_h1_title": false,
   "title_cell": "Table of Contents",
   "title_sidebar": "Contents",
   "toc_cell": false,
   "toc_position": {
    "height": "337.707px",
    "left": "994.737px",
    "top": "363.254px",
    "width": "385.713px"
   },
   "toc_section_display": false,
   "toc_window_display": true
  }
 },
 "nbformat": 4,
 "nbformat_minor": 5
}
