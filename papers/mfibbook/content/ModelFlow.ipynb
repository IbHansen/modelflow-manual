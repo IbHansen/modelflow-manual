{
 "cells": [
  {
   "cell_type": "markdown",
   "id": "4672c8ca",
   "metadata": {},
   "source": [
    "\n",
    "# The Modelflow class in python\n",
    "\n",
    "```ModelFlow``` is a Python library developed to leverage on the Pandas data management library and the broader Python ecosystem. Using ```Modelflow``` you can:\n",
    " \n",
    " - Solve models\n",
    " - Analyze models\n",
    " - Analyze results\n",
    " - Visualize results \n",
    " \n",
    " **Model Specification** With ModelFlow you can specify your models as concise and intuitive equations. ModelFlow automatically transforms your equations into Python code and solves your model.\n",
    "\n",
    "**Large models**.\n",
    "ModelFlow can handle models with 1 million equations and more. The library is therefore also suited for very large models.\n",
    "\n",
    "**Agile model development**\n",
    "The models are specified at a high level of abstraction and are processed quickly. This makes ModelFlow the obvious choice when developing and experimenting with large models.\n",
    "\n",
    "**Onboarding models**.\n",
    "Creating a model often entails recycling several models specified in different ways: Eviews, Excel, Latex, Dynare, Python and other languages/tools. ModelFlow 'business logic' provides a simple syntax that makes it possible to transform models defined in many different languages into ModelFlow models.\n",
    "\n",
    "**Onboarding data**.\n",
    "ModelFlow is built on top of Python's Pandas Library. Pandas is the swiss army knife for datascience and has a lot of data wrangling capabilities, which makes it easy to import and manage data from different sources.\n",
    "\n",
    "**Analytic** ModelFlow includes a range of visual tools that help you understand your models and your results.\n",
    "\n",
    "**Open Source**\n",
    "ModelFlow is open source. The entire library is written in Python and can be found here [Github page](https://github.com/IbHansen/Modelflow2). Users can download and use as is, or adjust the included tools to their needs and perhaps make a contribution to the main library.\n",
    "\n",
    "Modelflow documentation can be viewed [here](https://ibhansen.github.io/doc).\n"
   ]
  }
 ],
 "metadata": {
  "hide_input": false,
  "kernelspec": {
   "display_name": "Python 3 (ipykernel)",
   "language": "python",
   "name": "python3"
  },
  "language_info": {
   "codemirror_mode": {
    "name": "ipython",
    "version": 3
   },
   "file_extension": ".py",
   "mimetype": "text/x-python",
   "name": "python",
   "nbconvert_exporter": "python",
   "pygments_lexer": "ipython3",
   "version": "3.9.12"
  },
  "toc": {
   "base_numbering": 1,
   "nav_menu": {},
   "number_sections": true,
   "sideBar": true,
   "skip_h1_title": false,
   "title_cell": "Table of Contents",
   "title_sidebar": "Contents",
   "toc_cell": false,
   "toc_position": {},
   "toc_section_display": true,
   "toc_window_display": false
  }
 },
 "nbformat": 4,
 "nbformat_minor": 5
}
