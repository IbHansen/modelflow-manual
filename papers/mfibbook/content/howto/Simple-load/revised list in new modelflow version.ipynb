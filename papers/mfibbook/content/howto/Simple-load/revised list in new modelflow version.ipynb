{
 "cells": [
  {
   "cell_type": "code",
   "execution_count": 1,
   "id": "1e8874ae",
   "metadata": {},
   "outputs": [
    {
     "data": {
      "text/html": [
       "\n",
       "        <style>\n",
       "            div#notebook-container    { width: 95%; }\n",
       "            div#menubar-container     { width: 65%; }\n",
       "            div#maintoolbar-container { width: 99%; }\n",
       "        </style>\n",
       "        "
      ],
      "text/plain": [
       "<IPython.core.display.HTML object>"
      ]
     },
     "metadata": {},
     "output_type": "display_data"
    }
   ],
   "source": [
    "from modelclass import model \n",
    "model.widescreen()"
   ]
  },
  {
   "cell_type": "code",
   "execution_count": 2,
   "id": "f84bd024",
   "metadata": {},
   "outputs": [
    {
     "name": "stdout",
     "output_type": "stream",
     "text": [
      "file read:  C:\\wb new\\andrew\\simple model\\models\\simple.pcim\n"
     ]
    }
   ],
   "source": [
    "msim,baseline = model.modelload('models/simple.pcim',run=1)"
   ]
  },
  {
   "cell_type": "markdown",
   "id": "66900438",
   "metadata": {},
   "source": [
    "## new frmlnames when onboarding a eviews model \n",
    "\n",
    " - STOC for stocastic variables \n",
    " - DAMP for dampable equations\n",
    " - IDENT for identit\n",
    " - QUASIIDENT for variables which match either \n",
    "    - a name in the quasiident or \n",
    "    - {modelname}name \n",
    "        - where the name's are listed in the  quasiIdentities section in the MFMSA variable in the wf1/2 eviews file. \n",
    " \n",
    " A stocastic variable will have the frmlname <DAMP,STOC> "
   ]
  },
  {
   "cell_type": "markdown",
   "id": "bc4f9398",
   "metadata": {},
   "source": [
    "## New metods and properties  of the model class. \n",
    " - `var_with_frmlname(string)` returns a set of variable names \n",
    " - `frml_with_frmlname(string)` returns a dict with equations\n",
    " - `model_exogene` returns a set of variable names \n",
    " - `model_endogene` returns a set of variable names "
   ]
  },
  {
   "cell_type": "markdown",
   "id": "f7c206d8",
   "metadata": {},
   "source": [
    "## Stocastic variables in WB models \n",
    "All equations which are not marked as @idendity in eviews are marked as stocastic and can be fixed. The list of fix'able variable is a property of the model class. "
   ]
  },
  {
   "cell_type": "code",
   "execution_count": 3,
   "id": "46a13181",
   "metadata": {},
   "outputs": [
    {
     "data": {
      "text/plain": [
       "{'CPV', 'G', 'I', 'M'}"
      ]
     },
     "execution_count": 3,
     "metadata": {},
     "output_type": "execute_result"
    }
   ],
   "source": [
    "msim.var_with_frmlname('stoc')"
   ]
  },
  {
   "cell_type": "code",
   "execution_count": 4,
   "id": "3d0d824b",
   "metadata": {},
   "outputs": [
    {
     "data": {
      "text/plain": [
       "{'M': 'FRML <DAMP,STOC> M = (M(-1)*EXP(M_A+ (-0.243655632765645*(LOG(M(-1))-LOG(GDE(-1))+3.22825550682277)+7.40589234532397*((LOG(GDE))-(LOG(GDE(-1))))) )) * (1-M_D)+ M_X*M_D  $',\n",
       " 'G': 'FRML <DAMP,STOC> G = (G(-1)*EXP(G_A+ (-0.8*(LOG(G(-1))-LOG(Y(-1))+2.95645923198995)+2.35837654284398*((LOG(Y))-(LOG(Y(-1))))) )) * (1-G_D)+ G_X*G_D  $',\n",
       " 'I': 'FRML <DAMP,STOC> I = (I(-1)*EXP(I_A+ (-0.0500957646529188*(LOG(I(-1))-LOG(Y(-1)-G(-1))+0.904921936746857)+1.05546853579538*((LOG(Y))-(LOG(Y(-1))))) )) * (1-I_D)+ I_X*I_D  $',\n",
       " 'CPV': 'FRML <DAMP,STOC> CPV = (CPV(-1)*EXP(CPV_A+ (--0.0472266203297202*(LOG(CPV(-1))-LOG(Y(-1))-0.439061663605049)+1.42131949537118*((LOG(Y))-(LOG(Y(-1))))) )) * (1-CPV_D)+ CPV_X*CPV_D  $'}"
      ]
     },
     "execution_count": 4,
     "metadata": {},
     "output_type": "execute_result"
    }
   ],
   "source": [
    "msim.frml_with_frmlname('stoc')"
   ]
  },
  {
   "cell_type": "markdown",
   "id": "bdb0f17a",
   "metadata": {},
   "source": [
    "## Non stocastic  variables in WB models \n",
    "Is the endogenous variables not fixable. \n",
    "\n",
    "However this includes fitted variableswhich are generated automatickly "
   ]
  },
  {
   "cell_type": "code",
   "execution_count": 5,
   "id": "5925039e",
   "metadata": {},
   "outputs": [
    {
     "data": {
      "text/plain": [
       "{'GDE', 'Y'}"
      ]
     },
     "execution_count": 5,
     "metadata": {},
     "output_type": "execute_result"
    }
   ],
   "source": [
    "msim.var_with_frmlname('ident')"
   ]
  },
  {
   "cell_type": "code",
   "execution_count": 6,
   "id": "86eab778",
   "metadata": {},
   "outputs": [
    {
     "data": {
      "text/plain": [
       "{'CPV_FITTED', 'G_FITTED', 'I_FITTED', 'M_FITTED'}"
      ]
     },
     "execution_count": 6,
     "metadata": {},
     "output_type": "execute_result"
    }
   ],
   "source": [
    "msim.var_with_frmlname('fit')"
   ]
  },
  {
   "cell_type": "markdown",
   "id": "ddfdee5f",
   "metadata": {},
   "source": [
    "##  \"true\" model endogenous  "
   ]
  },
  {
   "cell_type": "code",
   "execution_count": 7,
   "id": "99bbc9c2",
   "metadata": {},
   "outputs": [
    {
     "data": {
      "text/plain": [
       "{'CPV', 'G', 'GDE', 'I', 'M', 'Y'}"
      ]
     },
     "execution_count": 7,
     "metadata": {},
     "output_type": "execute_result"
    }
   ],
   "source": [
    "msim.model_endogene"
   ]
  },
  {
   "cell_type": "markdown",
   "id": "5b7d3054",
   "metadata": {},
   "source": [
    "##  \"true\" model exogenous "
   ]
  },
  {
   "cell_type": "code",
   "execution_count": 8,
   "id": "f9d154ca",
   "metadata": {},
   "outputs": [
    {
     "data": {
      "text/plain": [
       "{'X', 'YDISC'}"
      ]
     },
     "execution_count": 8,
     "metadata": {},
     "output_type": "execute_result"
    }
   ],
   "source": [
    "msim.model_exogene"
   ]
  },
  {
   "cell_type": "markdown",
   "id": "065e3d27",
   "metadata": {},
   "source": [
    "## Some lists of exogenous variables. "
   ]
  },
  {
   "cell_type": "code",
   "execution_count": 9,
   "id": "b1fe5509",
   "metadata": {},
   "outputs": [
    {
     "data": {
      "text/plain": [
       "['CPV_D', 'G_D', 'I_D', 'M_D']"
      ]
     },
     "execution_count": 9,
     "metadata": {},
     "output_type": "execute_result"
    }
   ],
   "source": [
    "msim.fix_dummy"
   ]
  },
  {
   "cell_type": "code",
   "execution_count": 10,
   "id": "6d7c07b7",
   "metadata": {},
   "outputs": [
    {
     "data": {
      "text/plain": [
       "['CPV_A', 'G_A', 'I_A', 'M_A']"
      ]
     },
     "execution_count": 10,
     "metadata": {},
     "output_type": "execute_result"
    }
   ],
   "source": [
    "msim.fix_add_factor"
   ]
  },
  {
   "cell_type": "code",
   "execution_count": 11,
   "id": "7d871af6",
   "metadata": {},
   "outputs": [
    {
     "data": {
      "text/plain": [
       "['CPV_X', 'G_X', 'I_X', 'M_X']"
      ]
     },
     "execution_count": 11,
     "metadata": {},
     "output_type": "execute_result"
    }
   ],
   "source": [
    "msim.fix_value"
   ]
  }
 ],
 "metadata": {
  "hide_input": false,
  "kernelspec": {
   "display_name": "Python 3 (ipykernel)",
   "language": "python",
   "name": "python3"
  },
  "language_info": {
   "codemirror_mode": {
    "name": "ipython",
    "version": 3
   },
   "file_extension": ".py",
   "mimetype": "text/x-python",
   "name": "python",
   "nbconvert_exporter": "python",
   "pygments_lexer": "ipython3",
   "version": "3.9.12"
  },
  "toc": {
   "base_numbering": 1,
   "nav_menu": {},
   "number_sections": true,
   "sideBar": true,
   "skip_h1_title": false,
   "title_cell": "Table of Contents",
   "title_sidebar": "Contents",
   "toc_cell": false,
   "toc_position": {},
   "toc_section_display": true,
   "toc_window_display": false
  },
  "varInspector": {
   "cols": {
    "lenName": 16,
    "lenType": 16,
    "lenVar": 40
   },
   "kernels_config": {
    "python": {
     "delete_cmd_postfix": "",
     "delete_cmd_prefix": "del ",
     "library": "var_list.py",
     "varRefreshCmd": "print(var_dic_list())"
    },
    "r": {
     "delete_cmd_postfix": ") ",
     "delete_cmd_prefix": "rm(",
     "library": "var_list.r",
     "varRefreshCmd": "cat(var_dic_list()) "
    }
   },
   "types_to_exclude": [
    "module",
    "function",
    "builtin_function_or_method",
    "instance",
    "_Feature"
   ],
   "window_display": false
  }
 },
 "nbformat": 4,
 "nbformat_minor": 5
}
