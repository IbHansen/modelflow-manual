{
 "cells": [
  {
   "cell_type": "markdown",
   "id": "9e84fd55",
   "metadata": {},
   "source": [
    "# Generate simple.pcim from EViews simple model\n",
    "\n",
    "The EViews Simple model routine is stored in the Eviews sub-directort of this project and creates a Y=C+I+G+X-M\n",
    "model and populates it with data and with a minimum of features for the import function to work.\n",
    "\n",
    "## Initialize workspace"
   ]
  },
  {
   "cell_type": "code",
   "execution_count": 1,
   "id": "2a104ce0",
   "metadata": {},
   "outputs": [
    {
     "data": {
      "text/html": [
       "\n",
       "        <style>\n",
       "            div#notebook-container    { width: 95%; }\n",
       "            div#menubar-container     { width: 65%; }\n",
       "            div#maintoolbar-container { width: 99%; }\n",
       "        </style>\n",
       "        "
      ],
      "text/plain": [
       "<IPython.core.display.HTML object>"
      ]
     },
     "metadata": {},
     "output_type": "display_data"
    }
   ],
   "source": [
    "#import import_ipynb\n",
    "#pip install import-ipynb \n",
    "%matplotlib Notebook\n",
    "from modelclass import model \n",
    "from modelgrabwf2 import GrabWfModel\n",
    "\n",
    "model.widescreen()\n",
    "model.scroll_off()\n",
    "%load_ext autoreload\n",
    "%autoreload 2\n",
    "\n"
   ]
  },
  {
   "cell_type": "markdown",
   "id": "e62977d7",
   "metadata": {},
   "source": [
    "## Execute import routine"
   ]
  },
  {
   "cell_type": "code",
   "execution_count": 2,
   "id": "587eaebf",
   "metadata": {},
   "outputs": [
    {
     "name": "stdout",
     "output_type": "stream",
     "text": [
      "\n",
      "Reading C:\\mflow\\modelflow-manual\\papers\\mfbook\\content\\models\\paksolncons.wf1\n",
      "The model: PAK is unlinked \n",
      "Writing C:\\mflow\\modelflow-manual\\papers\\mfbook\\content\\models\\paksolncons_modelflow.wf2\n",
      "Model name: PAK\n",
      "\n",
      "Processing the model:PAK\n",
      "No quasiIdentities in PAK\n",
      "Default WB var_group loaded\n",
      "Variable description in wf1 file read\n",
      "Default WB var_description loaded\n",
      "testmodel calculated  \n",
      "Calculation of add factors for PAK calculated  \n"
     ]
    }
   ],
   "source": [
    "#\n",
    "#Simple_import = GrabWfModel(r'models/Simple.wf1',\n",
    "#          start=2016,\n",
    "#          end=2030,                            \n",
    "#          modelname=\"SIM\",           # By default the system assumes that the three first letters of the filename are the model name\n",
    "#          make_fitted = True,        # make equatios for fitted values of stocastic equations \n",
    "#          do_add_factor_calc=True,   # Calculate the add factors which makes the stocastic equations match    \n",
    "#          fit_start = 2014,          # Start of calculation of fittet model in baseline (to have some historic values) \n",
    "#          fit_end   = None,           # end of calc for fittted model, if None taken from mdmfsa options  \n",
    "#          disable_progress =True     # Better for jupyter book \n",
    "#                 ) \n",
    "#\n",
    "pak_trans = lambda input : input.replace('- 01*D(','-1*D(')                \n",
    "\n",
    "\n",
    "Simple_import = GrabWfModel(r'models/paksolncons.wf1',\n",
    "        country_trans = pak_trans,\n",
    "          start=2020,end=2100,          \n",
    "          modelname=\"PAK\",           # By default the system assumes that the three first letters of the filename are the model name\n",
    "          make_fitted = True,        # make equatios for fitted values of stocastic equations \n",
    "          do_add_factor_calc=True,   # Calculate the add factors which makes the stocastic equations match    \n",
    "          fit_start = 2020,          # Start of calculation of fittet model in baseline (to have some historic values) \n",
    "          fit_end   = None,           # end of calc for fittted model, if None taken from mdmfsa options  \n",
    "          disable_progress =True     # Better for jupyter book \n",
    "                 ) \n"
   ]
  },
  {
   "cell_type": "markdown",
   "id": "76abf75d",
   "metadata": {},
   "source": [
    "## Run and test imported model then save as pcim"
   ]
  },
  {
   "cell_type": "code",
   "execution_count": 3,
   "id": "3a43ec17",
   "metadata": {},
   "outputs": [
    {
     "name": "stdout",
     "output_type": "stream",
     "text": [
      "PAK calculated  \n",
      "\n",
      "Chekking residuals for PAK 2020 to 2100\n",
      "\n",
      "Variable with residuals above threshold\n",
      "PAKNEIMPGSNECN              , Max difference:     1.15623856 Max Pct    0.0000001290% It is number    46 in the solveorder and error number 1\n",
      "PAKNEIMPGNFSCN              , Max difference:     1.24186420 Max Pct    0.0000001117% It is number    47 in the solveorder and error number 2\n",
      "PAKNYYWBTOTLCN              , Max difference:    18.64228058 Max Pct    0.0000004511% It is number    67 in the solveorder and error number 3\n",
      "PAKNEGDIFPRVCN              , Max difference:     1.32994366 Max Pct    0.0000002999% It is number    71 in the solveorder and error number 4\n",
      "PAKNEGDIFTOTCN              , Max difference:     2.54681492 Max Pct    0.0000003521% It is number    72 in the solveorder and error number 5\n",
      "PAKNYGDPMKTPCD              , Max difference:     2.10716254 Max Pct    0.0000080528% It is number    74 in the solveorder and error number 6\n",
      "PAKNECONPRVTCN              , Max difference:    38.55028915 Max Pct    0.0000015164% It is number    78 in the solveorder and error number 7\n",
      "PAKNYGDPMKTPCN              , Max difference:    15.53806305 Max Pct    0.0000002812% It is number    90 in the solveorder and error number 8\n",
      "PAKGGREVTOTLCN              , Max difference:     4.36462593 Max Pct    0.0000003932% It is number    92 in the solveorder and error number 9\n"
     ]
    }
   ],
   "source": [
    "\n",
    "Simple_import.test_model(Simple_import.start,Simple_import.end,maxerr=100,tol=1,showall=0) \n",
    "msim    = Simple_import.mmodel       # the model instance  \n",
    "baseline = Simple_import.base_input\n",
    "res = msim(baseline,2016,2030,silent=1,alfa=.7,ldumpvar=0)\n",
    "msim.basedf = res\n",
    "\n",
    "msim.modeldump(r'models/pak.pcim')"
   ]
  },
  {
   "cell_type": "code",
   "execution_count": 4,
   "id": "a349ef15",
   "metadata": {},
   "outputs": [
    {
     "name": "stdout",
     "output_type": "stream",
     "text": [
      "PAKNECONPRVTKN : DLOG(PAKNECONPRVTKN) =- 0.2*(LOG(PAKNECONPRVTKN( - 1)) - LOG(1.21203101101442) - LOG((((PAKBXFSTREMTCD( - 1) - PAKBMFSTREMTCD( - 1))*PAKPANUSATLS( - 1)) + PAKGGEXPTRNSCN( - 1) + PAKNYYWBTOTLCN( - 1)*(1 - PAKGGREVDRCTXN( - 1)/100))/PAKNECONPRVTXN( - 1))) + 0.763938860758873*DLOG((((PAKBXFSTREMTCD - PAKBMFSTREMTCD)*PAKPANUSATLS) + PAKGGEXPTRNSCN + PAKNYYWBTOTLCN*(1 - PAKGGREVDRCTXN/100))/PAKNECONPRVTXN) - 0.0634474791568939*@DURING(\"2009\") - 0.3*(PAKFMLBLPOLYXN/100 - DLOG(PAKNECONPRVTXN))\r\n"
     ]
    }
   ],
   "source": [
    "msim['PAKNECONPRVTKN'].eviews\n"
   ]
  },
  {
   "cell_type": "code",
   "execution_count": 6,
   "id": "1928fdd0",
   "metadata": {},
   "outputs": [
    {
     "name": "stdout",
     "output_type": "stream",
     "text": [
      "file read:  C:\\mflow\\modelflow-manual\\papers\\mfbook\\content\\models\\pak.pcim\n"
     ]
    }
   ],
   "source": [
    "\n",
    "\n",
    "mpak,bline = model.modelload(r'./models/pak.pcim', \\\n",
    "                                alfa=0.7,run=1,keep= 'Baseline')"
   ]
  },
  {
   "cell_type": "code",
   "execution_count": 7,
   "id": "9562eb42",
   "metadata": {},
   "outputs": [
    {
     "name": "stdout",
     "output_type": "stream",
     "text": [
      "PAKNECONPRVTKN : DLOG(PAKNECONPRVTKN) =- 0.2*(LOG(PAKNECONPRVTKN( - 1)) - LOG(1.21203101101442) - LOG((((PAKBXFSTREMTCD( - 1) - PAKBMFSTREMTCD( - 1))*PAKPANUSATLS( - 1)) + PAKGGEXPTRNSCN( - 1) + PAKNYYWBTOTLCN( - 1)*(1 - PAKGGREVDRCTXN( - 1)/100))/PAKNECONPRVTXN( - 1))) + 0.763938860758873*DLOG((((PAKBXFSTREMTCD - PAKBMFSTREMTCD)*PAKPANUSATLS) + PAKGGEXPTRNSCN + PAKNYYWBTOTLCN*(1 - PAKGGREVDRCTXN/100))/PAKNECONPRVTXN) - 0.0634474791568939*@DURING(\"2009\") - 0.3*(PAKFMLBLPOLYXN/100 - DLOG(PAKNECONPRVTXN))\r\n"
     ]
    }
   ],
   "source": [
    "mpak['PAKNECONPRVTKN'].eviews\n"
   ]
  },
  {
   "cell_type": "code",
   "execution_count": null,
   "id": "50ccb40b",
   "metadata": {},
   "outputs": [],
   "source": []
  }
 ],
 "metadata": {
  "hide_input": false,
  "kernelspec": {
   "display_name": "Python 3 (ipykernel)",
   "language": "python",
   "name": "python3"
  },
  "language_info": {
   "codemirror_mode": {
    "name": "ipython",
    "version": 3
   },
   "file_extension": ".py",
   "mimetype": "text/x-python",
   "name": "python",
   "nbconvert_exporter": "python",
   "pygments_lexer": "ipython3",
   "version": "3.9.12"
  },
  "toc": {
   "base_numbering": 1,
   "nav_menu": {},
   "number_sections": true,
   "sideBar": true,
   "skip_h1_title": false,
   "title_cell": "Table of Contents",
   "title_sidebar": "Contents",
   "toc_cell": false,
   "toc_position": {},
   "toc_section_display": true,
   "toc_window_display": true
  }
 },
 "nbformat": 4,
 "nbformat_minor": 5
}
