{
 "cells": [
  {
   "cell_type": "code",
   "execution_count": 11,
   "id": "4e010b33",
   "metadata": {},
   "outputs": [],
   "source": [
    "from modelclass import model"
   ]
  },
  {
   "cell_type": "code",
   "execution_count": 12,
   "id": "07000088",
   "metadata": {},
   "outputs": [],
   "source": [
    "\n",
    "#_ =model.download_github_repo()"
   ]
  },
  {
   "cell_type": "code",
   "execution_count": 13,
   "id": "c4a9d103",
   "metadata": {},
   "outputs": [],
   "source": [
    "\n",
    "data = [\n",
    "    {\"description\": \"Pakistan model\", \"repo_name\": \"pak\"},\n",
    "    {\"description\": \"Pakistan model version2\", \"repo_name\": \"pak\"},\n",
    "    { \"repo_name\"      : \"pak\"},\n",
    "    {\"description\": \"Pakistan model 3\", \"repo_name\"      : \"pak3\"},\n",
    "        { \"repo_name\"      : \"pak3\"},\n",
    "\n",
    "]\n"
   ]
  },
  {
   "cell_type": "code",
   "execution_count": null,
   "id": "61ee0597",
   "metadata": {},
   "outputs": [],
   "source": []
  },
  {
   "cell_type": "code",
   "execution_count": 25,
   "id": "9f9b7c16",
   "metadata": {},
   "outputs": [
    {
     "data": {
      "application/vnd.jupyter.widget-view+json": {
       "model_id": "b1078d7972864a1f9e202317f95bd73b",
       "version_major": 2,
       "version_minor": 0
      },
      "text/plain": [
       "HTML(value='<strong>Select the repositories to download:</strong>')"
      ]
     },
     "metadata": {},
     "output_type": "display_data"
    },
    {
     "data": {
      "application/vnd.jupyter.widget-view+json": {
       "model_id": "c5e4f4fb9da3420db126fb2e8c26f257",
       "version_major": 2,
       "version_minor": 0
      },
      "text/plain": [
       "SelectMultiple(description='Select from:', options=('Pakistan model', 'Pakistan model version2', 'pak', 'Pakis…"
      ]
     },
     "metadata": {},
     "output_type": "display_data"
    },
    {
     "data": {
      "application/vnd.jupyter.widget-view+json": {
       "model_id": "ab41c87a93364863b28b143e17195e78",
       "version_major": 2,
       "version_minor": 0
      },
      "text/plain": [
       "Button(description='Submit', style=ButtonStyle())"
      ]
     },
     "metadata": {},
     "output_type": "display_data"
    },
    {
     "data": {
      "application/vnd.jupyter.widget-view+json": {
       "model_id": "b5286e20d1ea470883e23ee5abc8ab51",
       "version_major": 2,
       "version_minor": 0
      },
      "text/plain": [
       "Output()"
      ]
     },
     "metadata": {},
     "output_type": "display_data"
    }
   ],
   "source": [
    "model.load_repo_widget(data)"
   ]
  },
  {
   "cell_type": "code",
   "execution_count": 22,
   "id": "f2bdcc8b",
   "metadata": {},
   "outputs": [],
   "source": [
    "import yaml\n",
    "\n",
    "# Convert the data to a YAML string\n",
    "yaml_data = yaml.dump(data, default_flow_style=False)"
   ]
  },
  {
   "cell_type": "code",
   "execution_count": 23,
   "id": "0f91545f",
   "metadata": {},
   "outputs": [
    {
     "data": {
      "application/vnd.jupyter.widget-view+json": {
       "model_id": "f23445a73e434f90ba1e491e1ed8fc17",
       "version_major": 2,
       "version_minor": 0
      },
      "text/plain": [
       "HTML(value='<strong>Select the repositories to download:</strong>')"
      ]
     },
     "metadata": {},
     "output_type": "display_data"
    },
    {
     "data": {
      "application/vnd.jupyter.widget-view+json": {
       "model_id": "1772c1ed7b804df0a560b58510cb64e0",
       "version_major": 2,
       "version_minor": 0
      },
      "text/plain": [
       "SelectMultiple(description='Select from:', options=('Pakistan model', 'Pakistan model version2', 'pak', 'Pakis…"
      ]
     },
     "metadata": {},
     "output_type": "display_data"
    },
    {
     "data": {
      "application/vnd.jupyter.widget-view+json": {
       "model_id": "5340152153f8430abdad602ab533a55b",
       "version_major": 2,
       "version_minor": 0
      },
      "text/plain": [
       "Button(description='Submit', style=ButtonStyle())"
      ]
     },
     "metadata": {},
     "output_type": "display_data"
    },
    {
     "data": {
      "application/vnd.jupyter.widget-view+json": {
       "model_id": "3a61e3e3787648a88c71781a868b1437",
       "version_major": 2,
       "version_minor": 0
      },
      "text/plain": [
       "Output()"
      ]
     },
     "metadata": {},
     "output_type": "display_data"
    }
   ],
   "source": [
    "recreated_data = yaml.safe_load(yaml_data)\n",
    "\n",
    "# Print the recreated data\n",
    "model.load_repo_widget(recreated_data)\n"
   ]
  },
  {
   "cell_type": "code",
   "execution_count": 24,
   "id": "9e111313",
   "metadata": {},
   "outputs": [
    {
     "name": "stdout",
     "output_type": "stream",
     "text": [
      "- description: Pakistan model\n",
      "  repo_name: pak\n",
      "- description: Pakistan model version2\n",
      "  repo_name: pak\n",
      "- repo_name: pak\n",
      "- description: Pakistan model 3\n",
      "  repo_name: pak3\n",
      "- repo_name: pak3\n",
      "\n"
     ]
    }
   ],
   "source": [
    "print(yaml_data)"
   ]
  },
  {
   "cell_type": "code",
   "execution_count": null,
   "id": "b575209b",
   "metadata": {},
   "outputs": [],
   "source": []
  }
 ],
 "metadata": {
  "hide_input": false,
  "kernelspec": {
   "display_name": "Python 3 (ipykernel)",
   "language": "python",
   "name": "python3"
  },
  "language_info": {
   "codemirror_mode": {
    "name": "ipython",
    "version": 3
   },
   "file_extension": ".py",
   "mimetype": "text/x-python",
   "name": "python",
   "nbconvert_exporter": "python",
   "pygments_lexer": "ipython3",
   "version": "3.10.11"
  },
  "toc": {
   "base_numbering": 1,
   "nav_menu": {},
   "number_sections": true,
   "sideBar": false,
   "skip_h1_title": false,
   "title_cell": "Table of Contents",
   "title_sidebar": "Contents",
   "toc_cell": false,
   "toc_position": {},
   "toc_section_display": true,
   "toc_window_display": false
  },
  "varInspector": {
   "cols": {
    "lenName": 16,
    "lenType": 16,
    "lenVar": 40
   },
   "kernels_config": {
    "python": {
     "delete_cmd_postfix": "",
     "delete_cmd_prefix": "del ",
     "library": "var_list.py",
     "varRefreshCmd": "print(var_dic_list())"
    },
    "r": {
     "delete_cmd_postfix": ") ",
     "delete_cmd_prefix": "rm(",
     "library": "var_list.r",
     "varRefreshCmd": "cat(var_dic_list()) "
    }
   },
   "types_to_exclude": [
    "module",
    "function",
    "builtin_function_or_method",
    "instance",
    "_Feature"
   ],
   "window_display": false
  }
 },
 "nbformat": 4,
 "nbformat_minor": 5
}
