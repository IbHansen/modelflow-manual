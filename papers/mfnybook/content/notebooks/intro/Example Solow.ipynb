{
 "cells": [
  {
   "cell_type": "markdown",
   "id": "9f2e2785",
   "metadata": {
    "slideshow": {
     "slide_type": "slide"
    }
   },
   "source": [
    "# Example Solow model \n",
    "\n",
    "\n",
    "In this jupyter notebook we will specify, solve and analyse a simple Solow model in ModelFlow. \n",
    "    "
   ]
  },
  {
   "cell_type": "code",
   "execution_count": 1,
   "id": "c095f8ad",
   "metadata": {
    "tags": [
     "remove-cell"
    ]
   },
   "outputs": [],
   "source": [
    "%load_ext autoreload\n",
    "%autoreload 2"
   ]
  },
  {
   "cell_type": "code",
   "execution_count": 2,
   "id": "3b8814e3",
   "metadata": {
    "tags": [
     "remove-cell"
    ]
   },
   "outputs": [],
   "source": [
    "#This is code to manage dependencies if the notebook is executed in the google colab cloud service\n",
    "if 'google.colab' in str(get_ipython()):\n",
    "  import os\n",
    "  os.system('apt -qqq install graphviz')\n",
    "  os.system('pip -qqq install ModelFlowIb ipysheet  --no-dependencies ')\n",
    "  incolab = True  \n",
    "else:\n",
    "  incolab = False "
   ]
  },
  {
   "cell_type": "code",
   "execution_count": 3,
   "id": "e7c70d96",
   "metadata": {
    "slideshow": {
     "slide_type": "slide"
    }
   },
   "outputs": [
    {
     "data": {
      "text/html": [
       "\n",
       "        <style>\n",
       "            div#notebook-container    { width: 95%; }\n",
       "            div#menubar-container     { width: 65%; }\n",
       "            div#maintoolbar-container { width: 99%; }\n",
       "        </style>\n",
       "        "
      ],
      "text/plain": [
       "<IPython.core.display.HTML object>"
      ]
     },
     "metadata": {},
     "output_type": "display_data"
    }
   ],
   "source": [
    "#Required packages\n",
    "import pandas as pd\n",
    "\n",
    "# Modelflow modules\n",
    "from modelclass import model\n",
    "   \n",
    "#for publication \n",
    "latex=0\n",
    "model.widescreen()"
   ]
  },
  {
   "cell_type": "markdown",
   "id": "b6b5050f",
   "metadata": {
    "slideshow": {
     "slide_type": "slide"
    }
   },
   "source": [
    "\n",
    "## Specify the model \n",
    "We start by defining the logic of the Solow model in the Business Logic Language.   \n",
    "\n"
   ]
  },
  {
   "cell_type": "markdown",
   "id": "b7d6df29",
   "metadata": {
    "slideshow": {
     "slide_type": "skip"
    }
   },
   "source": [
    ":::{margin} **Business Logic Language**\n",
    "More on how to specify models [here](../intro/model%20specification.ipynb)\n",
    ":::"
   ]
  },
  {
   "cell_type": "code",
   "execution_count": 4,
   "id": "a1dd5bf9",
   "metadata": {
    "slideshow": {
     "slide_type": "fragment"
    }
   },
   "outputs": [],
   "source": [
    "\n",
    "fsolow = '''\\\n",
    "Income          = a  * Capital**alfa * Labor **(1-alfa) \n",
    "Consumption     = (1-saving_rate)  * Income \n",
    "Investment      = Income - Consumption   \n",
    "diff(Capital)   = Investment-Depreciation_rate * Capital(-1)\n",
    "diff(Labor)     = Labor_growth * Labor(-1)  \n",
    "Capital_intensity = Capital/Labor \n",
    "'''"
   ]
  },
  {
   "cell_type": "markdown",
   "id": "6ab7bf46",
   "metadata": {
    "slideshow": {
     "slide_type": "slide"
    }
   },
   "source": [
    "## Create a model class instance\n",
    "\n",
    "After defining the Business Logic Language and storing it in the variable 'fsolow', we create a class instance called msolow. "
   ]
  },
  {
   "cell_type": "code",
   "execution_count": 5,
   "id": "67f4a348",
   "metadata": {
    "slideshow": {
     "slide_type": "fragment"
    }
   },
   "outputs": [],
   "source": [
    "msolow = model.from_eq(fsolow,modelname='Solow model')"
   ]
  },
  {
   "cell_type": "markdown",
   "id": "062209f4",
   "metadata": {
    "slideshow": {
     "slide_type": "slide"
    }
   },
   "source": [
    "Above the equation for Capital and Labor on the left hand side of the = (equal to) consist of an expressing ```diff(Capital)``` and ```diff(Labor)```. **The equations are not normalized**. \n",
    "\n",
    "To solve a model in modelflow **all equations has to be normalized**. Meaning that the left hand side only consist of variables not expressions. So the function ```model.from_eq``` will normalize the equations as the first step before the model can be solved. \n",
    "\n",
    "In this case **first** ```diff(Capital)``` is transformed to $\\Delta capital = capital-capital(-1)$. **Then** the lagged variables is moved to the right side of the =. \n",
    " The same goes for diff(labor).\n",
    " \n",
    "So the normalized business language of the model now looks like:"
   ]
  },
  {
   "cell_type": "code",
   "execution_count": 6,
   "id": "62242f27",
   "metadata": {
    "slideshow": {
     "slide_type": "slide"
    }
   },
   "outputs": [
    {
     "name": "stdout",
     "output_type": "stream",
     "text": [
      "FRML <> INCOME          = A  * CAPITAL**ALFA * LABOR **(1-ALFA)  $\n",
      "FRML <> CONSUMPTION     = (1-SAVING_RATE)  * INCOME  $\n",
      "FRML <> INVESTMENT      = INCOME - CONSUMPTION    $\n",
      "FRML <> CAPITAL=CAPITAL(-1)+(INVESTMENT-DEPRECIATION_RATE * CAPITAL(-1))$\n",
      "FRML <> LABOR=LABOR(-1)+(LABOR_GROWTH * LABOR(-1))$\n",
      "FRML <> CAPITAL_INTENSITY = CAPITAL/LABOR  $\n"
     ]
    }
   ],
   "source": [
    "msolow.print_model"
   ]
  },
  {
   "cell_type": "markdown",
   "id": "3e9ab796",
   "metadata": {
    "slideshow": {
     "slide_type": "slide"
    }
   },
   "source": [
    "## Create some data \n",
    "\n",
    "To show what Modelflow can do, we create a Pandas dataframe with input data. And print the first 5 out of 300 observations.  "
   ]
  },
  {
   "cell_type": "code",
   "execution_count": 24,
   "id": "286fe002",
   "metadata": {
    "slideshow": {
     "slide_type": "fragment"
    }
   },
   "outputs": [
    {
     "data": {
      "text/html": [
       "<div>\n",
       "<style scoped>\n",
       "    .dataframe tbody tr th:only-of-type {\n",
       "        vertical-align: middle;\n",
       "    }\n",
       "\n",
       "    .dataframe tbody tr th {\n",
       "        vertical-align: top;\n",
       "    }\n",
       "\n",
       "    .dataframe thead th {\n",
       "        text-align: right;\n",
       "    }\n",
       "</style>\n",
       "<table border=\"1\" class=\"dataframe\">\n",
       "  <thead>\n",
       "    <tr style=\"text-align: right;\">\n",
       "      <th></th>\n",
       "      <th>LABOR</th>\n",
       "      <th>CAPITAL</th>\n",
       "      <th>ALFA</th>\n",
       "      <th>A</th>\n",
       "      <th>DEPRECIATION_RATE</th>\n",
       "      <th>LABOR_GROWTH</th>\n",
       "      <th>SAVING_RATE</th>\n",
       "    </tr>\n",
       "  </thead>\n",
       "  <tbody>\n",
       "    <tr>\n",
       "      <th>0</th>\n",
       "      <td>100</td>\n",
       "      <td>100</td>\n",
       "      <td>0.5</td>\n",
       "      <td>1</td>\n",
       "      <td>0.05</td>\n",
       "      <td>0.01</td>\n",
       "      <td>0.05</td>\n",
       "    </tr>\n",
       "    <tr>\n",
       "      <th>1</th>\n",
       "      <td>100</td>\n",
       "      <td>100</td>\n",
       "      <td>0.5</td>\n",
       "      <td>1</td>\n",
       "      <td>0.05</td>\n",
       "      <td>0.01</td>\n",
       "      <td>0.05</td>\n",
       "    </tr>\n",
       "    <tr>\n",
       "      <th>2</th>\n",
       "      <td>100</td>\n",
       "      <td>100</td>\n",
       "      <td>0.5</td>\n",
       "      <td>1</td>\n",
       "      <td>0.05</td>\n",
       "      <td>0.01</td>\n",
       "      <td>0.05</td>\n",
       "    </tr>\n",
       "    <tr>\n",
       "      <th>3</th>\n",
       "      <td>100</td>\n",
       "      <td>100</td>\n",
       "      <td>0.5</td>\n",
       "      <td>1</td>\n",
       "      <td>0.05</td>\n",
       "      <td>0.01</td>\n",
       "      <td>0.05</td>\n",
       "    </tr>\n",
       "    <tr>\n",
       "      <th>4</th>\n",
       "      <td>100</td>\n",
       "      <td>100</td>\n",
       "      <td>0.5</td>\n",
       "      <td>1</td>\n",
       "      <td>0.05</td>\n",
       "      <td>0.01</td>\n",
       "      <td>0.05</td>\n",
       "    </tr>\n",
       "  </tbody>\n",
       "</table>\n",
       "</div>"
      ],
      "text/plain": [
       "   LABOR  CAPITAL  ALFA  A  DEPRECIATION_RATE  LABOR_GROWTH  SAVING_RATE\n",
       "0    100      100   0.5  1               0.05          0.01         0.05\n",
       "1    100      100   0.5  1               0.05          0.01         0.05\n",
       "2    100      100   0.5  1               0.05          0.01         0.05\n",
       "3    100      100   0.5  1               0.05          0.01         0.05\n",
       "4    100      100   0.5  1               0.05          0.01         0.05"
      ]
     },
     "execution_count": 24,
     "metadata": {},
     "output_type": "execute_result"
    }
   ],
   "source": [
    "N = 300  \n",
    "df = pd.DataFrame({'LABOR':[100]*N,\n",
    "                   'CAPITAL':[100]*N, \n",
    "                   'ALFA':[0.5]*N, \n",
    "                   'A': [1]*N, \n",
    "                   'DEPRECIATION_RATE': [0.05]*N, \n",
    "                   'LABOR_GROWTH': [0.01]*N, \n",
    "                   'SAVING_RATE':[0.05]*N})\n",
    "df.head() #this prints out the first 5 rows of the dataframe"
   ]
  },
  {
   "cell_type": "markdown",
   "id": "4e86e552",
   "metadata": {
    "slideshow": {
     "slide_type": "slide"
    }
   },
   "source": [
    "## Run the model "
   ]
  },
  {
   "cell_type": "code",
   "execution_count": 23,
   "id": "dfc57421",
   "metadata": {
    "scrolled": false
   },
   "outputs": [],
   "source": [
    "result = msolow(df,keep='Baseline') # The model is simulated for all years possible "
   ]
  },
  {
   "cell_type": "markdown",
   "id": "71b35854",
   "metadata": {
    "slideshow": {
     "slide_type": "slide"
    }
   },
   "source": [
    "## Create a scenario and run again "
   ]
  },
  {
   "cell_type": "markdown",
   "id": "c213cb44",
   "metadata": {
    "slideshow": {
     "slide_type": "skip"
    }
   },
   "source": [
    ":::{margin} **dataframe.upd**\n",
    "When importing modelclass all pandas dataframes are enriched with a a handy way to create a new pandas dataframe with updated series. \n",
    "\n",
    "In this case df.upd will create a a new dataframe with updated LABOR_GROWTH \n",
    "\n",
    "For additional explanation look [here](../../howto/update/model%20update.ipynb)\n",
    ":::"
   ]
  },
  {
   "cell_type": "code",
   "execution_count": 9,
   "id": "635b1c17",
   "metadata": {
    "slideshow": {
     "slide_type": "fragment"
    }
   },
   "outputs": [],
   "source": [
    "dfscenario = df.upd('LABOR_GROWTH + 0.002')  # create a new dataframe, increase LABOR_GROWTH by 0.002\n",
    "scenario   = msolow(dfscenario,keep='Higher labor growth ') # simulate the model "
   ]
  },
  {
   "cell_type": "markdown",
   "id": "93220ba9",
   "metadata": {
    "slideshow": {
     "slide_type": "slide"
    }
   },
   "source": [
    "## Now the results are also embedded in msolow.  \n",
    "\n",
    "\n",
    " - ```.basedf``` contains the first run of the model \n",
    " - ```.lastdf``` contains the last run of the model \n",
    " \n",
    " Also in this case the keyword ```keep``` is used. This causes the results to be  stored in a dictionary ```msolow.keep_solutions```. This can be useful when comparing several scenarios. \n",
    " "
   ]
  },
  {
   "cell_type": "markdown",
   "id": "286a2013",
   "metadata": {
    "slideshow": {
     "slide_type": "slide"
    }
   },
   "source": [
    "## Inspect results  "
   ]
  },
  {
   "cell_type": "markdown",
   "id": "97c89420",
   "metadata": {
    "slideshow": {
     "slide_type": "fragment"
    }
   },
   "source": [
    "### Using the [ ] operator "
   ]
  },
  {
   "cell_type": "markdown",
   "id": "b8919dd3",
   "metadata": {
    "slideshow": {
     "slide_type": "fragment"
    }
   },
   "source": [
    "We can select the variables of interest with wildcards. This will operate the results stored in ```basedf``` and ```.lastdf```"
   ]
  },
  {
   "cell_type": "markdown",
   "id": "6d08b713",
   "metadata": {
    "slideshow": {
     "slide_type": "skip"
    }
   },
   "source": [
    "#### Look at variables starting with a C "
   ]
  },
  {
   "cell_type": "code",
   "execution_count": 10,
   "id": "66dcf8a2",
   "metadata": {
    "slideshow": {
     "slide_type": "skip"
    }
   },
   "outputs": [],
   "source": [
    "#msolow['#ENDO']"
   ]
  },
  {
   "cell_type": "markdown",
   "id": "a00c9c3f",
   "metadata": {
    "slideshow": {
     "slide_type": "slide"
    }
   },
   "source": [
    "#### Look at all endogenous variables"
   ]
  },
  {
   "cell_type": "code",
   "execution_count": 11,
   "id": "15c25aa2",
   "metadata": {},
   "outputs": [
    {
     "data": {
      "image/png": "[encoded data removed]",
      "text/plain": [
       "<Figure size 720x144 with 2 Axes>"
      ]
     },
     "execution_count": 11,
     "metadata": {},
     "output_type": "execute_result"
    }
   ],
   "source": [
    "msolow['labor*'].dif.plot() "
   ]
  },
  {
   "cell_type": "markdown",
   "id": "019b6732",
   "metadata": {
    "slideshow": {
     "slide_type": "slide"
    }
   },
   "source": [
    "### Using the keept solutions \n",
    "As mentioned above, because the keyword ```keep``` was used. The results are also stored in a dictionary. These data can \n",
    "also be used for charting. \n",
    "\n",
    "The reason for placing the results in a dictionary is to enable comparison of many scenarios, not just the first and the last. "
   ]
  },
  {
   "cell_type": "code",
   "execution_count": 12,
   "id": "0134a940",
   "metadata": {
    "scrolled": false,
    "slideshow": {
     "slide_type": "subslide"
    }
   },
   "outputs": [],
   "source": [
    "with msolow.set_smpl(1,30):\n",
    "    msolow.keep_plot('income con*' ); "
   ]
  },
  {
   "cell_type": "code",
   "execution_count": 13,
   "id": "9e61d20f",
   "metadata": {},
   "outputs": [
    {
     "name": "stdout",
     "output_type": "stream",
     "text": [
      "apprun\n",
      "Dash app running on http://127.0.0.1:5001/\n"
     ]
    },
    {
     "data": {
      "text/plain": [
       "Dash_graph(mmodel=<\n",
       "Model name                              :          Solow model \n",
       "Model structure                         :         Simultaneous \n",
       "Number of variables                     :                   11 \n",
       "Number of exogeneous  variables         :                    5 \n",
       "Number of endogeneous variables         :                    6 \n",
       ">, pre_var='INCOME', filter=0, up=1, down=0, time_att=False, attshow=False, all=False, dashport=5001, debug=False, jupyter=1, show_trigger=False, inline=False, lag=False, threshold=0.5, growthshow=False)"
      ]
     },
     "execution_count": 13,
     "metadata": {},
     "output_type": "execute_result"
    }
   ],
   "source": [
    "msolow.modeldash('INCOME',jupyter=1)\n"
   ]
  },
  {
   "cell_type": "markdown",
   "id": "ee8c5e59",
   "metadata": {
    "cell_style": "center",
    "slideshow": {
     "slide_type": "slide"
    }
   },
   "source": [
    "## More advanced topics"
   ]
  },
  {
   "cell_type": "markdown",
   "id": "c9480e97",
   "metadata": {
    "slideshow": {
     "slide_type": "subslide"
    }
   },
   "source": [
    "### The logical stucture \n",
    "Now the model has been analyzed, and the structure can be displayed.\n",
    "\n",
    "You will find more on the logical structure [here](../../howto/structure/Logical_structure.ipynb)"
   ]
  },
  {
   "cell_type": "markdown",
   "id": "a5f71ad7",
   "metadata": {
    "slideshow": {
     "slide_type": "slide"
    }
   },
   "source": [
    "#### Model structure"
   ]
  },
  {
   "cell_type": "code",
   "execution_count": 14,
   "id": "15f19d5c",
   "metadata": {
    "scrolled": false,
    "slideshow": {
     "slide_type": "fragment"
    }
   },
   "outputs": [
    {
     "data": {
      "image/svg+xml": [
       "<svg xmlns=\"http://www.w3.org/2000/svg\" xmlns:xlink=\"http://www.w3.org/1999/xlink\" width=\"1034pt\" height=\"241pt\" viewBox=\"0.00 0.00 1034.00 240.80\">\n",
       "<g id=\"graph0\" class=\"graph\" transform=\"scale(1 1) rotate(0) translate(4 236.8)\">\n",
       "<title>TD</title>\n",
       "<polygon fill=\"white\" stroke=\"transparent\" points=\"-4,4 -4,-236.8 1030,-236.8 1030,4 -4,4\"/>\n",
       "<text text-anchor=\"middle\" x=\"513\" y=\"-7.8\" font-family=\"Times New Roman,serif\" font-size=\"14.00\">Model Structure</text>\n",
       "<!-- LABOR_GROWTH -->\n",
       "<g id=\"node1\" class=\"node\">\n",
       "<title>LABOR_GROWTH</title>\n",
       "<g id=\"a_node1\"><a xlink:title=\"LABOR_GROWTH\n",
       "Exogen\">\n",
       "<polygon fill=\"yellow\" stroke=\"black\" points=\"129,-200.8 0,-200.8 0,-164.8 129,-164.8 129,-200.8\"/>\n",
       "<text text-anchor=\"start\" x=\"6.5\" y=\"-178.6\" font-family=\"Times New Roman,serif\" font-size=\"14.00\" fill=\"blue\">LABOR_GROWTH:</text>\n",
       "</a>\n",
       "</g>\n",
       "</g>\n",
       "<!-- LABOR -->\n",
       "<g id=\"node4\" class=\"node\">\n",
       "<title>LABOR</title>\n",
       "<g id=\"a_node4\"><a xlink:title=\"LABOR\n",
       "FRML &lt;&gt; LABOR=LABOR(-1)+(LABOR_GROWTH * LABOR(-1))$\">\n",
       "<polygon fill=\"#63b8ff\" stroke=\"black\" points=\"227,-200.8 165,-200.8 165,-164.8 227,-164.8 227,-200.8\"/>\n",
       "<text text-anchor=\"start\" x=\"171\" y=\"-178.6\" font-family=\"Times New Roman,serif\" font-size=\"14.00\" fill=\"blue\">LABOR:</text>\n",
       "</a>\n",
       "</g>\n",
       "</g>\n",
       "<!-- LABOR_GROWTH&#45;&gt;LABOR -->\n",
       "<g id=\"edge10\" class=\"edge\">\n",
       "<title>LABOR_GROWTH-&gt;LABOR</title>\n",
       "<g id=\"a_edge10\"><a xlink:href=\"bogus\" xlink:title=\" LABOR_GROWTH -&gt; LABOR Min. att. 0%  max: 100%\">\n",
       "<path fill=\"none\" stroke=\"black\" stroke-width=\"8\" d=\"M129.11,-182.8C137.74,-182.8 146.4,-182.8 154.46,-182.8\"/>\n",
       "<polygon fill=\"black\" stroke=\"black\" stroke-width=\"8\" points=\"154.68,-189.8 164.68,-182.8 154.68,-175.8 154.68,-189.8\"/>\n",
       "</a>\n",
       "</g>\n",
       "</g>\n",
       "<!-- CONSUMPTION -->\n",
       "<g id=\"node2\" class=\"node\">\n",
       "<title>CONSUMPTION</title>\n",
       "<g id=\"a_node2\"><a xlink:title=\"CONSUMPTION\n",
       "FRML &lt;&gt; CONSUMPTION     = (1-SAVING_RATE)  * INCOME  $\">\n",
       "<polygon fill=\"#63b8ff\" stroke=\"black\" points=\"542,-140.8 427,-140.8 427,-104.8 542,-104.8 542,-140.8\"/>\n",
       "<text text-anchor=\"start\" x=\"433.5\" y=\"-118.6\" font-family=\"Times New Roman,serif\" font-size=\"14.00\" fill=\"blue\">CONSUMPTION:</text>\n",
       "</a>\n",
       "</g>\n",
       "</g>\n",
       "<!-- INVESTMENT -->\n",
       "<g id=\"node6\" class=\"node\">\n",
       "<title>INVESTMENT</title>\n",
       "<g id=\"a_node6\"><a xlink:title=\"INVESTMENT\n",
       "FRML &lt;&gt; INVESTMENT      = INCOME - CONSUMPTION    $\">\n",
       "<polygon fill=\"#63b8ff\" stroke=\"black\" points=\"706.5,-140.8 603.5,-140.8 603.5,-104.8 706.5,-104.8 706.5,-140.8\"/>\n",
       "<text text-anchor=\"start\" x=\"610\" y=\"-118.6\" font-family=\"Times New Roman,serif\" font-size=\"14.00\" fill=\"blue\">INVESTMENT:</text>\n",
       "</a>\n",
       "</g>\n",
       "</g>\n",
       "<!-- CONSUMPTION&#45;&gt;INVESTMENT -->\n",
       "<g id=\"edge17\" class=\"edge\">\n",
       "<title>CONSUMPTION-&gt;INVESTMENT</title>\n",
       "<g id=\"a_edge17\"><a xlink:href=\"bogus\" xlink:title=\" CONSUMPTION -&gt; INVESTMENT Min. att. -1900%  max: -1900%\">\n",
       "<path fill=\"none\" stroke=\"black\" stroke-width=\"8\" d=\"M542.08,-122.8C558.47,-122.8 576.43,-122.8 593.07,-122.8\"/>\n",
       "<polygon fill=\"black\" stroke=\"black\" stroke-width=\"8\" points=\"593.24,-129.8 603.24,-122.8 593.24,-115.8 593.24,-129.8\"/>\n",
       "</a>\n",
       "</g>\n",
       "</g>\n",
       "<!-- LABOR(&#45;1) -->\n",
       "<g id=\"node3\" class=\"node\">\n",
       "<title>LABOR(-1)</title>\n",
       "<g id=\"a_node3\"><a xlink:title=\"LABOR\n",
       "FRML &lt;&gt; LABOR=LABOR(-1)+(LABOR_GROWTH * LABOR(-1))$\">\n",
       "<polygon fill=\"springgreen\" stroke=\"black\" points=\"391,-232.8 263,-232.8 263,-196.8 391,-196.8 391,-232.8\"/>\n",
       "<text text-anchor=\"start\" x=\"269\" y=\"-210.6\" font-family=\"Times New Roman,serif\" font-size=\"14.00\" fill=\"blue\">LABOR(-1):LABOR</text>\n",
       "</a>\n",
       "</g>\n",
       "</g>\n",
       "<!-- LABOR(&#45;1)&#45;&gt;LABOR -->\n",
       "<g id=\"edge9\" class=\"edge\">\n",
       "<title>LABOR(-1)-&gt;LABOR</title>\n",
       "<g id=\"a_edge9\"><a xlink:href=\"bogus\" xlink:title=\"NA\">\n",
       "<path fill=\"none\" stroke=\"black\" stroke-width=\"0.5\" d=\"M262.91,-205.9C254.07,-203.72 245.19,-201.37 236.95,-199\"/>\n",
       "<polygon fill=\"black\" stroke=\"black\" stroke-width=\"0.5\" points=\"237.83,-195.61 227.24,-196.12 235.83,-202.32 237.83,-195.61\"/>\n",
       "</a>\n",
       "</g>\n",
       "</g>\n",
       "<!-- LABOR&#45;&gt;LABOR(&#45;1) -->\n",
       "<g id=\"edge15\" class=\"edge\">\n",
       "<title>LABOR-&gt;LABOR(-1)</title>\n",
       "<g id=\"a_edge15\"><a xlink:href=\"bogus\" xlink:title=\" LABOR -&gt; LABOR(-1) Min. att. 0%  max: 100%\">\n",
       "<path fill=\"none\" stroke=\"black\" stroke-width=\"8\" d=\"M227.24,-184.48C239.83,-186.85 254.87,-190.28 269.37,-194.05\"/>\n",
       "<polygon fill=\"black\" stroke=\"black\" stroke-width=\"8\" points=\"267.81,-200.88 279.28,-196.69 271.42,-187.35 267.81,-200.88\"/>\n",
       "</a>\n",
       "</g>\n",
       "</g>\n",
       "<!-- INCOME -->\n",
       "<g id=\"node9\" class=\"node\">\n",
       "<title>INCOME</title>\n",
       "<g id=\"a_node9\"><a xlink:title=\"INCOME\n",
       "FRML &lt;&gt; INCOME          = A  * CAPITAL**ALFA * LABOR **(1-ALFA)  $\">\n",
       "<polygon fill=\"#63b8ff\" stroke=\"black\" points=\"362,-86.8 292,-86.8 292,-50.8 362,-50.8 362,-86.8\"/>\n",
       "<text text-anchor=\"start\" x=\"298\" y=\"-64.6\" font-family=\"Times New Roman,serif\" font-size=\"14.00\" fill=\"blue\">INCOME:</text>\n",
       "</a>\n",
       "</g>\n",
       "</g>\n",
       "<!-- LABOR&#45;&gt;INCOME -->\n",
       "<g id=\"edge2\" class=\"edge\">\n",
       "<title>LABOR-&gt;INCOME</title>\n",
       "<g id=\"a_edge2\"><a xlink:href=\"bogus\" xlink:title=\" LABOR -&gt; INCOME Min. att. 59%  max: 97%\">\n",
       "<path fill=\"none\" stroke=\"black\" stroke-width=\"8\" d=\"M209.24,-164.48C224.48,-142.08 250.08,-105.9 263,-95.8 268.87,-91.22 275.63,-87.26 282.5,-83.9\"/>\n",
       "<polygon fill=\"black\" stroke=\"black\" stroke-width=\"8\" points=\"285.61,-90.17 291.86,-79.68 279.86,-77.41 285.61,-90.17\"/>\n",
       "</a>\n",
       "</g>\n",
       "</g>\n",
       "<!-- CAPITAL_INTENSITY -->\n",
       "<g id=\"node12\" class=\"node\">\n",
       "<title>CAPITAL_INTENSITY</title>\n",
       "<g id=\"a_node12\"><a xlink:title=\"CAPITAL_INTENSITY\n",
       "FRML &lt;&gt; CAPITAL_INTENSITY = CAPITAL/LABOR  $\">\n",
       "<polygon fill=\"#63b8ff\" stroke=\"black\" points=\"1026,-175.8 877,-175.8 877,-139.8 1026,-139.8 1026,-175.8\"/>\n",
       "<text text-anchor=\"start\" x=\"883.5\" y=\"-153.6\" font-family=\"Times New Roman,serif\" font-size=\"14.00\" fill=\"blue\">CAPITAL_INTENSITY:</text>\n",
       "</a>\n",
       "</g>\n",
       "</g>\n",
       "<!-- LABOR&#45;&gt;CAPITAL_INTENSITY -->\n",
       "<g id=\"edge5\" class=\"edge\">\n",
       "<title>LABOR-&gt;CAPITAL_INTENSITY</title>\n",
       "<g id=\"a_edge5\"><a xlink:href=\"bogus\" xlink:title=\" LABOR -&gt; CAPITAL_INTENSITY Min. att. 103%  max: 1269%\">\n",
       "<path fill=\"none\" stroke=\"black\" stroke-width=\"8\" d=\"M227.09,-180.36C279.25,-176.35 389.88,-168.8 483.5,-168.8 483.5,-168.8 483.5,-168.8 656,-168.8 727.1,-168.8 807.78,-165.56 866.7,-162.59\"/>\n",
       "<polygon fill=\"black\" stroke=\"black\" stroke-width=\"8\" points=\"867.07,-169.58 876.7,-162.08 866.36,-155.6 867.07,-169.58\"/>\n",
       "</a>\n",
       "</g>\n",
       "</g>\n",
       "<!-- A -->\n",
       "<g id=\"node5\" class=\"node\">\n",
       "<title>A</title>\n",
       "<g id=\"a_node5\"><a xlink:title=\"A\n",
       "Exogen\">\n",
       "<polygon fill=\"yellow\" stroke=\"black\" points=\"223,-127.8 169,-127.8 169,-91.8 223,-91.8 223,-127.8\"/>\n",
       "<text text-anchor=\"start\" x=\"189\" y=\"-105.6\" font-family=\"Times New Roman,serif\" font-size=\"14.00\" fill=\"blue\">A:</text>\n",
       "</a>\n",
       "</g>\n",
       "</g>\n",
       "<!-- A&#45;&gt;INCOME -->\n",
       "<g id=\"edge14\" class=\"edge\">\n",
       "<title>A-&gt;INCOME</title>\n",
       "<g id=\"a_edge14\"><a xlink:href=\"bogus\" xlink:title=\" A -&gt; INCOME Min. att. -0%  max: -0%\">\n",
       "<path fill=\"none\" stroke=\"black\" d=\"M223.11,-101.5C239.98,-96.14 262.38,-89.02 281.96,-82.8\"/>\n",
       "<polygon fill=\"black\" stroke=\"black\" points=\"283.14,-86.09 291.61,-79.73 281.02,-79.42 283.14,-86.09\"/>\n",
       "</a>\n",
       "</g>\n",
       "</g>\n",
       "<!-- CAPITAL -->\n",
       "<g id=\"node11\" class=\"node\">\n",
       "<title>CAPITAL</title>\n",
       "<g id=\"a_node11\"><a xlink:title=\"CAPITAL\n",
       "FRML &lt;&gt; CAPITAL=CAPITAL(-1)+(INVESTMENT-DEPRECIATION_RATE * CAPITAL(-1))$\">\n",
       "<polygon fill=\"#63b8ff\" stroke=\"black\" points=\"841,-109.8 768,-109.8 768,-73.8 841,-73.8 841,-109.8\"/>\n",
       "<text text-anchor=\"start\" x=\"774.5\" y=\"-87.6\" font-family=\"Times New Roman,serif\" font-size=\"14.00\" fill=\"blue\">CAPITAL:</text>\n",
       "</a>\n",
       "</g>\n",
       "</g>\n",
       "<!-- INVESTMENT&#45;&gt;CAPITAL -->\n",
       "<g id=\"edge16\" class=\"edge\">\n",
       "<title>INVESTMENT-&gt;CAPITAL</title>\n",
       "<g id=\"a_edge16\"><a xlink:href=\"bogus\" xlink:title=\" INVESTMENT -&gt; CAPITAL Min. att. 6%  max: 100%\">\n",
       "<path fill=\"none\" stroke=\"black\" stroke-width=\"8\" d=\"M706.76,-112.13C723.46,-108.62 741.91,-104.74 758.18,-101.32\"/>\n",
       "<polygon fill=\"black\" stroke=\"black\" stroke-width=\"8\" points=\"759.64,-108.17 767.99,-99.26 756.77,-94.47 759.64,-108.17\"/>\n",
       "</a>\n",
       "</g>\n",
       "</g>\n",
       "<!-- SAVING_RATE -->\n",
       "<g id=\"node7\" class=\"node\">\n",
       "<title>SAVING_RATE</title>\n",
       "<g id=\"a_node7\"><a xlink:title=\"SAVING_RATE\n",
       "Exogen\">\n",
       "<polygon fill=\"yellow\" stroke=\"black\" points=\"380,-140.8 274,-140.8 274,-104.8 380,-104.8 380,-140.8\"/>\n",
       "<text text-anchor=\"start\" x=\"280\" y=\"-118.6\" font-family=\"Times New Roman,serif\" font-size=\"14.00\" fill=\"blue\">SAVING_RATE:</text>\n",
       "</a>\n",
       "</g>\n",
       "</g>\n",
       "<!-- SAVING_RATE&#45;&gt;CONSUMPTION -->\n",
       "<g id=\"edge4\" class=\"edge\">\n",
       "<title>SAVING_RATE-&gt;CONSUMPTION</title>\n",
       "<g id=\"a_edge4\"><a xlink:href=\"bogus\" xlink:title=\" SAVING_RATE -&gt; CONSUMPTION Min. att. 0%  max: 0%\">\n",
       "<path fill=\"none\" stroke=\"black\" d=\"M380.21,-122.8C391.93,-122.8 404.52,-122.8 416.74,-122.8\"/>\n",
       "<polygon fill=\"black\" stroke=\"black\" points=\"416.89,-126.3 426.89,-122.8 416.89,-119.3 416.89,-126.3\"/>\n",
       "</a>\n",
       "</g>\n",
       "</g>\n",
       "<!-- ALFA -->\n",
       "<g id=\"node8\" class=\"node\">\n",
       "<title>ALFA</title>\n",
       "<g id=\"a_node8\"><a xlink:title=\"ALFA\n",
       "Exogen\">\n",
       "<polygon fill=\"yellow\" stroke=\"black\" points=\"223,-73.8 169,-73.8 169,-37.8 223,-37.8 223,-73.8\"/>\n",
       "<text text-anchor=\"start\" x=\"177\" y=\"-51.6\" font-family=\"Times New Roman,serif\" font-size=\"14.00\" fill=\"blue\">ALFA:</text>\n",
       "</a>\n",
       "</g>\n",
       "</g>\n",
       "<!-- ALFA&#45;&gt;INCOME -->\n",
       "<g id=\"edge8\" class=\"edge\">\n",
       "<title>ALFA-&gt;INCOME</title>\n",
       "<g id=\"a_edge8\"><a xlink:href=\"bogus\" xlink:title=\" ALFA -&gt; INCOME Min. att. -0%  max: -0%\">\n",
       "<path fill=\"none\" stroke=\"black\" d=\"M223.11,-58.43C239.83,-60.12 261.97,-62.35 281.43,-64.31\"/>\n",
       "<polygon fill=\"black\" stroke=\"black\" points=\"281.31,-67.81 291.61,-65.33 282.01,-60.85 281.31,-67.81\"/>\n",
       "</a>\n",
       "</g>\n",
       "</g>\n",
       "<!-- INCOME&#45;&gt;CONSUMPTION -->\n",
       "<g id=\"edge13\" class=\"edge\">\n",
       "<title>INCOME-&gt;CONSUMPTION</title>\n",
       "<g id=\"a_edge13\"><a xlink:href=\"bogus\" xlink:title=\" INCOME -&gt; CONSUMPTION Min. att. 100%  max: 100%\">\n",
       "<path fill=\"none\" stroke=\"black\" stroke-width=\"8\" d=\"M362.13,-80.65C379.64,-86.73 401.53,-94.34 421.88,-101.4\"/>\n",
       "<polygon fill=\"black\" stroke=\"black\" stroke-width=\"8\" points=\"419.67,-108.04 431.41,-104.71 424.26,-94.82 419.67,-108.04\"/>\n",
       "</a>\n",
       "</g>\n",
       "</g>\n",
       "<!-- INCOME&#45;&gt;INVESTMENT -->\n",
       "<g id=\"edge12\" class=\"edge\">\n",
       "<title>INCOME-&gt;INVESTMENT</title>\n",
       "<g id=\"a_edge12\"><a xlink:href=\"bogus\" xlink:title=\" INCOME -&gt; INVESTMENT Min. att. 2000%  max: 2000%\">\n",
       "<path fill=\"none\" stroke=\"black\" stroke-width=\"8\" d=\"M362.28,-71.94C404.69,-76.1 479.01,-84.27 542,-95.8 558.7,-98.86 576.64,-102.85 593.16,-106.83\"/>\n",
       "<polygon fill=\"black\" stroke=\"black\" stroke-width=\"8\" points=\"591.86,-113.72 603.24,-109.3 595.19,-100.12 591.86,-113.72\"/>\n",
       "</a>\n",
       "</g>\n",
       "</g>\n",
       "<!-- DEPRECIATION_RATE -->\n",
       "<g id=\"node10\" class=\"node\">\n",
       "<title>DEPRECIATION_RATE</title>\n",
       "<g id=\"a_node10\"><a xlink:title=\"DEPRECIATION_RATE\n",
       "Exogen\">\n",
       "<polygon fill=\"yellow\" stroke=\"black\" points=\"732,-86.8 578,-86.8 578,-50.8 732,-50.8 732,-86.8\"/>\n",
       "<text text-anchor=\"start\" x=\"584\" y=\"-64.6\" font-family=\"Times New Roman,serif\" font-size=\"14.00\" fill=\"blue\">DEPRECIATION_RATE:</text>\n",
       "</a>\n",
       "</g>\n",
       "</g>\n",
       "<!-- DEPRECIATION_RATE&#45;&gt;CAPITAL -->\n",
       "<g id=\"edge1\" class=\"edge\">\n",
       "<title>DEPRECIATION_RATE-&gt;CAPITAL</title>\n",
       "<g id=\"a_edge1\"><a xlink:href=\"bogus\" xlink:title=\" DEPRECIATION_RATE -&gt; CAPITAL Min. att. 0%  max: 0%\">\n",
       "<path fill=\"none\" stroke=\"black\" d=\"M732.34,-80.7C741.04,-82.06 749.69,-83.41 757.81,-84.67\"/>\n",
       "<polygon fill=\"black\" stroke=\"black\" points=\"757.35,-88.15 767.77,-86.23 758.43,-81.23 757.35,-88.15\"/>\n",
       "</a>\n",
       "</g>\n",
       "</g>\n",
       "<!-- CAPITAL&#45;&gt;INCOME -->\n",
       "<g id=\"edge6\" class=\"edge\">\n",
       "<title>CAPITAL-&gt;INCOME</title>\n",
       "<g id=\"a_edge6\"><a xlink:href=\"bogus\" xlink:title=\" CAPITAL -&gt; INCOME Min. att. 3%  max: 54%\">\n",
       "<path fill=\"none\" stroke=\"black\" stroke-width=\"5.42\" d=\"M784.64,-73.73C771.16,-62.12 751.94,-48.08 732,-41.8 606.07,-2.14 447.46,-35.2 371.91,-55.63\"/>\n",
       "<polygon fill=\"black\" stroke=\"black\" stroke-width=\"5.42\" points=\"370.62,-51.07 362.25,-58.3 373.15,-60.21 370.62,-51.07\"/>\n",
       "</a>\n",
       "</g>\n",
       "</g>\n",
       "<!-- CAPITAL&#45;&gt;CAPITAL_INTENSITY -->\n",
       "<g id=\"edge3\" class=\"edge\">\n",
       "<title>CAPITAL-&gt;CAPITAL_INTENSITY</title>\n",
       "<g id=\"a_edge3\"><a xlink:href=\"bogus\" xlink:title=\" CAPITAL -&gt; CAPITAL_INTENSITY Min. att. -647%  max: -3%\">\n",
       "<path fill=\"none\" stroke=\"black\" stroke-width=\"8\" d=\"M841.34,-108.11C859.51,-116.39 881.86,-126.55 901.58,-135.53\"/>\n",
       "<polygon fill=\"black\" stroke=\"black\" stroke-width=\"8\" points=\"898.73,-141.93 910.73,-139.7 904.53,-129.18 898.73,-141.93\"/>\n",
       "</a>\n",
       "</g>\n",
       "</g>\n",
       "<!-- CAPITAL(&#45;1) -->\n",
       "<g id=\"node13\" class=\"node\">\n",
       "<title>CAPITAL(-1)</title>\n",
       "<g id=\"a_node13\"><a xlink:title=\"CAPITAL\n",
       "FRML &lt;&gt; CAPITAL=CAPITAL(-1)+(INVESTMENT-DEPRECIATION_RATE * CAPITAL(-1))$\">\n",
       "<polygon fill=\"springgreen\" stroke=\"black\" points=\"1026,-109.8 877,-109.8 877,-73.8 1026,-73.8 1026,-109.8\"/>\n",
       "<text text-anchor=\"start\" x=\"883.5\" y=\"-87.6\" font-family=\"Times New Roman,serif\" font-size=\"14.00\" fill=\"blue\">CAPITAL(-1):CAPITAL</text>\n",
       "</a>\n",
       "</g>\n",
       "</g>\n",
       "<!-- CAPITAL&#45;&gt;CAPITAL(&#45;1) -->\n",
       "<g id=\"edge11\" class=\"edge\">\n",
       "<title>CAPITAL-&gt;CAPITAL(-1)</title>\n",
       "<g id=\"a_edge11\"><a xlink:href=\"bogus\" xlink:title=\" CAPITAL -&gt; CAPITAL(-1) Min. att. 0%  max: 94%\">\n",
       "<path fill=\"none\" stroke=\"black\" stroke-width=\"8\" d=\"M841.34,-85.88C849.2,-85.49 857.84,-85.24 866.72,-85.12\"/>\n",
       "<polygon fill=\"black\" stroke=\"black\" stroke-width=\"8\" points=\"866.85,-92.12 876.8,-85.05 866.75,-78.12 866.85,-92.12\"/>\n",
       "</a>\n",
       "</g>\n",
       "</g>\n",
       "<!-- CAPITAL(&#45;1)&#45;&gt;CAPITAL -->\n",
       "<g id=\"edge7\" class=\"edge\">\n",
       "<title>CAPITAL(-1)-&gt;CAPITAL</title>\n",
       "<g id=\"a_edge7\"><a xlink:href=\"bogus\" xlink:title=\"NA\">\n",
       "<path fill=\"none\" stroke=\"black\" stroke-width=\"0.5\" d=\"M876.8,-98.55C868.22,-98.54 859.66,-98.4 851.6,-98.13\"/>\n",
       "<polygon fill=\"black\" stroke=\"black\" stroke-width=\"0.5\" points=\"851.48,-94.63 841.34,-97.72 851.19,-101.62 851.48,-94.63\"/>\n",
       "</a>\n",
       "</g>\n",
       "</g>\n",
       "</g>\n",
       "</svg>"
      ],
      "text/plain": [
       "<IPython.core.display.SVG object>"
      ]
     },
     "metadata": {},
     "output_type": "display_data"
    }
   ],
   "source": [
    "msolow.drawmodel( title=\"Model Structure\", png=latex,size=(15,15))"
   ]
  },
  {
   "cell_type": "markdown",
   "id": "55308604",
   "metadata": {
    "slideshow": {
     "slide_type": "slide"
    }
   },
   "source": [
    "#### Adjacency matrix\n",
    "\n",
    "Another way to illustrate the dependency graph is an adjacency matrix. "
   ]
  },
  {
   "cell_type": "code",
   "execution_count": 15,
   "id": "575d2fb9",
   "metadata": {
    "slideshow": {
     "slide_type": "slide"
    }
   },
   "outputs": [],
   "source": [
    "msolow.plotadjacency();"
   ]
  },
  {
   "cell_type": "markdown",
   "id": "506a4005",
   "metadata": {
    "slideshow": {
     "slide_type": "fragment"
    }
   },
   "source": [
    "The variables  ['INVESTMENT', 'CONSUMPTION', 'CAPITAL', 'INCOME'] in the red area are the core of the model and has to be solved as a system. \n",
    "\n",
    "LABOR is the prolog and can be calculated before the core is solved. While CAPITAL_INTENSE is the epilog which can be calculated after the core is solved. \n",
    "\n",
    "Many models comform to this pattern. And for solving purpose a model is divided into a prolog, core and an epilog. Even if the core is actually consistent of several strong components. "
   ]
  },
  {
   "cell_type": "markdown",
   "id": "ae523597",
   "metadata": {
    "slideshow": {
     "slide_type": "slide"
    }
   },
   "source": [
    "(solow-python-code)=\n",
    "### The python function used to solve the model\n",
    "In order to solve the model Modelflow will generate a python function which implements the model. The user will hopeful  newer have to relate to the generated python code. **The point of modelflow is, that the user has to relate to the specification of the business logic, not the implementation in code**  "
   ]
  },
  {
   "cell_type": "code",
   "execution_count": 16,
   "id": "5e1113a2",
   "metadata": {
    "slideshow": {
     "slide_type": "slide"
    }
   },
   "outputs": [
    {
     "name": "stdout",
     "output_type": "stream",
     "text": [
      "def make_los(funks=[],errorfunk=None):\n",
      "    import time\n",
      "    import tqdm\n",
      "    from numba import jit\n",
      "    from modeluserfunk import jit, recode\n",
      "    from modelBLfunk import array, classfunk, clognorm, exp, gamma, inspect, jit, lifetime_credit_loss, log, logit, logit_inverse, lognorm, matrix, mv_opt, mv_opt_prop, norm, normcdf, qgamma, sqrt, sum_excel, transpose\n",
      "    def prolog0(values,outvalues,row,alfa=1.0):\n",
      "        try :\n",
      "            pass\n",
      "            values[row,0]=values[row-1,0]+(values[row,5]*values[row-1,0])\n",
      "        except :\n",
      "            errorfunk(values,sys.exc_info()[2].tb_lineno,overhead=9,overeq=0)\n",
      "            raise\n",
      "        return \n",
      "    def prolog(values,outvalues,row,alfa=1.0):\n",
      "        prolog0(values,outvalues,row,alfa=alfa)\n",
      "        return  \n",
      "    def core0(values,outvalues,row,alfa=1.0):\n",
      "        try :\n",
      "            pass\n",
      "            values[row,7]=values[row,3]*values[row,1]**values[row,2]*values[row,0]**(1-values[row,2])\n",
      "            values[row,10]=(1-values[row,6])*values[row,7]\n",
      "            values[row,9]=values[row,7]-values[row,10]\n",
      "            values[row,1]=values[row-1,1]+(values[row,9]-values[row,4]*values[row-1,1])\n",
      "        except :\n",
      "            errorfunk(values,sys.exc_info()[2].tb_lineno,overhead=20,overeq=1)\n",
      "            raise\n",
      "        return \n",
      "    def core(values,outvalues,row,alfa=1.0):\n",
      "        core0(values,outvalues,row,alfa=alfa)\n",
      "        return  \n",
      "    def epilog0(values,outvalues,row,alfa=1.0):\n",
      "        try :\n",
      "            pass\n",
      "            values[row,8]=values[row,1]/values[row,0]\n",
      "        except :\n",
      "            errorfunk(values,sys.exc_info()[2].tb_lineno,overhead=34,overeq=5)\n",
      "            raise\n",
      "        return \n",
      "    def epilog(values,outvalues,row,alfa=1.0):\n",
      "        epilog0(values,outvalues,row,alfa=alfa)\n",
      "        return  \n",
      "    return prolog,core,epilog\n",
      "\n"
     ]
    }
   ],
   "source": [
    "print(msolow.make_los_text)"
   ]
  },
  {
   "cell_type": "code",
   "execution_count": 17,
   "id": "948ce196",
   "metadata": {},
   "outputs": [],
   "source": [
    "from modelwidget import visshow"
   ]
  },
  {
   "cell_type": "code",
   "execution_count": 18,
   "id": "7c93857c",
   "metadata": {
    "scrolled": false
   },
   "outputs": [
    {
     "data": {
      "application/vnd.jupyter.widget-view+json": {
       "model_id": "bada1e88313648c9b1838ea39b635dc1",
       "version_major": 2,
       "version_minor": 0
      },
      "text/plain": [
       "Tab(children=(Tab(children=(HTML(value='<?xml version=\"1.0\" encoding=\"utf-8\" standalone=\"no\"?>\\n<!DOCTYPE svg …"
      ]
     },
     "metadata": {},
     "output_type": "display_data"
    }
   ],
   "source": [
    "    xx=visshow(msolow,'#endo',show_on=True);"
   ]
  },
  {
   "cell_type": "code",
   "execution_count": 19,
   "id": "dfc4e609",
   "metadata": {},
   "outputs": [
    {
     "data": {
      "application/vnd.jupyter.widget-view+json": {
       "model_id": "bada1e88313648c9b1838ea39b635dc1",
       "version_major": 2,
       "version_minor": 0
      },
      "text/plain": [
       "Tab(children=(Tab(children=(HTML(value='<?xml version=\"1.0\" encoding=\"utf-8\" standalone=\"no\"?>\\n<!DOCTYPE svg …"
      ]
     },
     "metadata": {},
     "output_type": "display_data"
    }
   ],
   "source": [
    "display(xx.datawidget)"
   ]
  },
  {
   "cell_type": "code",
   "execution_count": 20,
   "id": "f6458897",
   "metadata": {},
   "outputs": [
    {
     "data": {
      "text/plain": [
       "0        0.000000\n",
       "10     101.642012\n",
       "20     110.105358\n",
       "30     120.443891\n",
       "40     132.749843\n",
       "50     147.153178\n",
       "60     163.821789\n",
       "70     182.962508\n",
       "80     204.822883\n",
       "90     229.693743\n",
       "100    257.912531\n",
       "Name: CONSUMPTION, dtype: float64"
      ]
     },
     "execution_count": 20,
     "metadata": {},
     "output_type": "execute_result"
    }
   ],
   "source": [
    "msolow.lastdf.loc[0:100:10,'CONSUMPTION']"
   ]
  },
  {
   "cell_type": "code",
   "execution_count": 21,
   "id": "ea5c0eee",
   "metadata": {},
   "outputs": [],
   "source": [
    "xx =msolow.exodif()"
   ]
  },
  {
   "cell_type": "code",
   "execution_count": 22,
   "id": "fda6b81f",
   "metadata": {},
   "outputs": [
    {
     "data": {
      "text/plain": [
       "(300, 1)"
      ]
     },
     "execution_count": 22,
     "metadata": {},
     "output_type": "execute_result"
    }
   ],
   "source": [
    "xx.shape"
   ]
  }
 ],
 "metadata": {
  "celltoolbar": "Edit Metadata",
  "hide_input": false,
  "kernelspec": {
   "display_name": "Python 3 (ipykernel)",
   "language": "python",
   "name": "python3"
  },
  "language_info": {
   "codemirror_mode": {
    "name": "ipython",
    "version": 3
   },
   "file_extension": ".py",
   "mimetype": "text/x-python",
   "name": "python",
   "nbconvert_exporter": "python",
   "pygments_lexer": "ipython3",
   "version": "3.9.12"
  },
  "toc": {
   "base_numbering": 1,
   "nav_menu": {},
   "number_sections": true,
   "sideBar": true,
   "skip_h1_title": false,
   "title_cell": "Table of Contents",
   "title_sidebar": "Contents",
   "toc_cell": false,
   "toc_position": {
    "height": "calc(100% - 180px)",
    "left": "10px",
    "top": "150px",
    "width": "211.875px"
   },
   "toc_section_display": true,
   "toc_window_display": false
  },
  "varInspector": {
   "cols": {
    "lenName": 16,
    "lenType": 16,
    "lenVar": 40
   },
   "kernels_config": {
    "python": {
     "delete_cmd_postfix": "",
     "delete_cmd_prefix": "del ",
     "library": "var_list.py",
     "varRefreshCmd": "print(var_dic_list())"
    },
    "r": {
     "delete_cmd_postfix": ") ",
     "delete_cmd_prefix": "rm(",
     "library": "var_list.r",
     "varRefreshCmd": "cat(var_dic_list()) "
    }
   },
   "types_to_exclude": [
    "module",
    "function",
    "builtin_function_or_method",
    "instance",
    "_Feature"
   ],
   "window_display": false
  }
 },
 "nbformat": 4,
 "nbformat_minor": 5
}
