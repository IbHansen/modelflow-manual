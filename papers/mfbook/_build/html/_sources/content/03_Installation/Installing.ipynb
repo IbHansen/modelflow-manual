{
 "cells": [
  {
   "cell_type": "markdown",
   "id": "ce609a34",
   "metadata": {},
   "source": [
    "# Installation\n",
    "\n",
    "```{warning}\n",
    "IB:Changed to Miniconda. \n",
    "consolidated  install python and modelflow for ease of use\n",
    "\n",
    "```\n",
    "\n",
    "Modelflow is a python package that defines the ```model``` class, its methods and a number of other functions that extend and combine pre-existing python functions to allow the easy solution of complex systems of equations including macro-structural models like MFMod.  To work with ```modelflow```, a user needs to first install python (preferably the Anaconda variant), several supporting packages, and of course the ```modelflow``` package itself.  \n",
    "\n",
    "```modelflow``` can be run through the Jupyter notebook system, directly from the python command-line or from IDEs (Interactive Development Environments) like ```Spyder``` or Microsoft's ```Visual Code```. \n",
    "\n",
    "The Jupyter Notebook facilitates an interactive approach to building python programs, annotating them and ultimately doing simulations using MFMod under ```modelflow```. This entire manual and the examples in it were all written and executed in the Jupyter Notebook environment."
   ]
  },
  {
   "cell_type": "markdown",
   "id": "7873f483",
   "metadata": {},
   "source": [
    "## Installation of Python\n",
    "\n",
    "`Python` is an extremely powerful, versatile and extensible open-source language. It is widely used for artificial intelligence application, interactive web sites, and scientific processing. As of 14 November 2022, the `Python Package Index` (PyPI), the official repository for third-party Python software, contained over 415,000 packages that extend its functionality [^pythonLibrary]. Modelflow is one of these packages.\n",
    "\n",
    "Python comes in many flavors and `modelflow` will work with any of them.  However, **users are strongly advised to use the Anaconda version of Python**. It is advised to use the **Miniconda** version of the package manager, this is will only install the minimum needed packages. However the full **Anaconda** version can also be used.  \n",
    "\n",
    "The remainder of this section points to instructions on how to install the Miniconda version of python under Windows. `Modelflow` works equally well under linux and should work under MacOS. \n",
    "\n",
    "This is followed by section that describes the steps necessary to create an anaconda environment with all the necessary packages to run `modelflow`.\n",
    "\n",
    "[^pythonLibrary]: [Wikipedia article on python](https://en.wikipedia.org/wiki/Python_(programming_language))"
   ]
  },
  {
   "cell_type": "markdown",
   "id": "b7c6fb16",
   "metadata": {},
   "source": [
    "## Installation of Miniconda under Windows: \n",
    "\n",
    "The easy way to install is to use the **Miniconda** package manager from Anaconda. You can find a link [here](https://docs.conda.io/en/latest/miniconda.html). The latest version can be downloaded and installed by execution these command in a command window.\n",
    "\n",
    "Open the a command prompt\n",
    "\n",
    "\n",
    "**First** copy/paste these lines to the command prompt\n",
    "\n",
    "``` \n",
    "curl -L \"https://repo.anaconda.com/miniconda/Miniconda3-latest-Windows-x86_64.exe\" --output %TEMP%\\miniconda.exe\n",
    "%temp%\\miniconda.exe /S /D=%USERPROFILE%\\miniconda3\n",
    "\n",
    "```\n",
    "These lines will download miniconda and install it in the users folder\n",
    "\n",
    "\n",
    "**Then** copy/paste these lines to the command prompt\n",
    "\n",
    "``` \n",
    "call %USERPROFILE%\\miniconda3\\Scripts\\activate.bat %USERPROFILE%\\miniconda3\n",
    "call conda install mamba -c conda-forge -y\n",
    "\n",
    "```\n",
    "These lines will install the mamba package manager. Mamba is a faster alternative to the conda default package manager in miniconda.  \n"
   ]
  },
  {
   "cell_type": "markdown",
   "id": "a6ce6d32",
   "metadata": {},
   "source": [
    "### Installation of Python under macOS\n",
    "\n",
    "The definitive source for installing Anaconda under macOS can be found [here](https://docs.anaconda.com/anaconda/install/mac-os/).  \n",
    "\n",
    "\n"
   ]
  },
  {
   "cell_type": "markdown",
   "id": "f6df04b6",
   "metadata": {},
   "source": [
    "### Installation of Python under Linux\n",
    "\n",
    "The definitive source for installing Anaconda under Linux can be found [here](https://docs.anaconda.com/anaconda/install/linux/).  \n",
    "\n"
   ]
  },
  {
   "cell_type": "markdown",
   "id": "5c5a2d26",
   "metadata": {},
   "source": [
    "## Installation of Modelflow\n",
    "\n",
    "`Modelflow` is a python package that defines the modelflow class `model` among others.  `Modelflow` has many dependencies. Installing the class the first time can take some time depending on your internet connection and computer speed.  It is essential that you follow all of the steps outlined below to ensure that your version of `modelflow` operates as expected.\n",
    "\n",
    ":::{warning}\n",
    "The following instructions concern the installation of ```modelflow``` within an Anaconda installation of python.  Different flavors of Python may require slight changes to this recipe, but are not covered here.\n",
    "\n",
    "`Modelflow` is built and tested using the anaconda python environment.  It is strongly recommended to use Anaconda with `modelflow`.\n",
    "\n",
    "If you have not already installed Anaconda following the instructions in the preceding section, please do so **Now**.\n",
    ":::\n",
    "\n",
    "## Installation of ```modelflow``` using Miniconda \n",
    "\n",
    "Open the a command prompt or continue in the command prompt used to install python.\n",
    "\n",
    " copy/paste these lines to the command prompt\n",
    "\n",
    "\n",
    "\n",
    "```\n",
    "%USERPROFILE%\\miniconda3\\Scripts\\activate.bat %USERPROFILE%\\miniconda3 \n",
    "\n",
    "mamba create -n modelflow -c ibh -c  conda-forge modelflow_stable -y\n",
    "\n",
    "conda activate modelflow\n",
    "pip install dash_interactive_graphviz\n",
    "jupyter contrib nbextension install --user\n",
    "jupyter nbextension enable hide_input_all/main\n",
    "jupyter nbextension enable splitcell/splitcell\n",
    "jupyter nbextension enable toc2/main\n",
    "jupyter nbextension enable varInspector/main\n",
    "\n",
    "\n",
    "```\n",
    "\n",
    "Depending on the speed of your computer and of your internet connection installation could take as little as 10 minutes or more than 1/2 an hour.\n",
    "\n",
    "At the end of the process you will have a new conda environment called `modelflow`, and this will have been activated. The computer set up is complete and the user is ready to work with `modelflow`. \n",
    "\n",
    "The following sections give a brief introduction to Jupyter notebook, which is a flexible tool that allows us to execute python code, interact with the modelflow class and World Bank Models and annotate what we have done for future replication.\n",
    "\n",
    "\n",
    "\n"
   ]
  },
  {
   "cell_type": "markdown",
   "id": "d48a6e79",
   "metadata": {},
   "source": [
    "## Updating Modelflow\n",
    "\n",
    "Once installed, a `modelflow` environment can be updated. This is done first by activating the `modelflow` environment created above. \n",
    "\n",
    "```\n",
    "%USERPROFILE%\\miniconda3\\Scripts\\activate.bat %USERPROFILE%\\miniconda3 \n",
    "conda activate modelflow\n",
    "\n",
    "```\n",
    "\n",
    "And then executing the command: \n",
    "\n",
    "```\n",
    "mamba install modelflow -c ibh --no-deps\n",
    "\n",
    "\n",
    "\n",
    "```"
   ]
  },
  {
   "cell_type": "markdown",
   "id": "c293043a",
   "metadata": {},
   "source": [
    "## Starting a Python session with modelflow.\n",
    "\n",
    "This can be done by starting the ```Anaconda Prompt (miniconda3)``` app. This will create a command window with a base python environment. Now you want to change the environment to the modelflow environment. This is done like this: \n",
    "\n",
    "```\n",
    "conda activate modelflow\n",
    "\n",
    "```\n",
    "\n",
    "Now we are ready to start jupyter by: \n",
    "\n",
    "```\n",
    "cd <path where you want to start> \n",
    "jupyter notebook\n",
    "```"
   ]
  },
  {
   "cell_type": "markdown",
   "id": "962c0810",
   "metadata": {
    "cell_style": "center"
   },
   "source": [
    "## Creating a .lnk file to start Jupyter with modelflow.\n",
    "\n",
    "It can be convenient to create a icon on the desktop which start up jupyter in a modelflow environment. This is done by creating a new shortcut where the **destination/target** is: \n",
    "\n",
    "```\n",
    "%windir%\\System32\\cmd.exe \"/K\" %USERPROFILE%\\miniconda3\\Scripts\\activate.bat %USERPROFILE%\\miniconda3\\envs\\modelflow&&jupyter notebook\n",
    "```\n",
    "This will create a command window, activate modelflow and start jupyter notebook\n",
    "\n",
    "\n",
    "and the **Start in**  is set to the folder where you want jupyter to start from. <br>\n",
    "Be aware that jupyter can't access notebooks \"before\" the `Start in` location. `C:\\` could be a choice. \n",
    "\n"
   ]
  }
 ],
 "metadata": {
  "hide_input": false,
  "kernelspec": {
   "display_name": "Python 3 (ipykernel)",
   "language": "python",
   "name": "python3"
  },
  "language_info": {
   "codemirror_mode": {
    "name": "ipython",
    "version": 3
   },
   "file_extension": ".py",
   "mimetype": "text/x-python",
   "name": "python",
   "nbconvert_exporter": "python",
   "pygments_lexer": "ipython3",
   "version": "3.10.11"
  },
  "toc": {
   "base_numbering": 1,
   "nav_menu": {},
   "number_sections": true,
   "sideBar": true,
   "skip_h1_title": false,
   "title_cell": "Table of Contents",
   "title_sidebar": "Contents",
   "toc_cell": false,
   "toc_position": {},
   "toc_section_display": true,
   "toc_window_display": false
  },
  "varInspector": {
   "cols": {
    "lenName": 16,
    "lenType": 16,
    "lenVar": 40
   },
   "kernels_config": {
    "python": {
     "delete_cmd_postfix": "",
     "delete_cmd_prefix": "del ",
     "library": "var_list.py",
     "varRefreshCmd": "print(var_dic_list())"
    },
    "r": {
     "delete_cmd_postfix": ") ",
     "delete_cmd_prefix": "rm(",
     "library": "var_list.r",
     "varRefreshCmd": "cat(var_dic_list()) "
    }
   },
   "types_to_exclude": [
    "module",
    "function",
    "builtin_function_or_method",
    "instance",
    "_Feature"
   ],
   "window_display": false
  }
 },
 "nbformat": 4,
 "nbformat_minor": 5
}
