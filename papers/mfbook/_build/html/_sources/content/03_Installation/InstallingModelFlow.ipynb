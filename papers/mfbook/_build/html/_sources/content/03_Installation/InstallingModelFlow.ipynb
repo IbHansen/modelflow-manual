{
 "cells": [
  {
   "cell_type": "markdown",
   "id": "5c5a2d26",
   "metadata": {},
   "source": [
    "# Installation of Modelflow\n",
    "\n",
    "```{note}\n",
    "The following instructions concern the installation of ```modelflow``` within an Anaconda installation of python.  Different flavors of Python may require slight changes to this recipe, but are not covered here.\n",
    "```\n",
    "\n",
    "```{warning}\n",
    "```Modelflow``` is built and tested using the anaconda python environment.  It is strongly recommended to use Anaconda with ````modelflow```.\n",
    "\n",
    "If you have not already installed Anaconda following the instructions in the preceding chapter, please do so **Now**.\n",
    "```\n",
    "\n",
    "```Modelflow``` is a python package that defines the modelflow class ```model``` among other things.  ```Modelflow1``` has many dependencies. Installing the class the first time can take some time depending on your internet connection and computer speed.  It is essential that you follow all of the steps outlined below to ensure that your version of ```modelflow``` operates as expected.\n",
    "\n",
    "\n",
    "\n",
    "## Installation of ```modelflow``` under Anaconda\n",
    "\n",
    "1. Open the anaconda command prompt\n",
    "2. Execute the following commands by copying and pasting them -- either line by line or as a single mult-line step\n",
    "3. Press enter\n",
    "\n",
    "```\n",
    "conda create -n ModelFlow -c ibh -c  conda-forge modelflow_pinned_developement_test -y\n",
    "conda activate ModelFlow\n",
    "pip install dash_interactive_graphviz\n",
    "conda install pyeviews -c conda-forge -y\n",
    "jupyter contrib nbextension install --user\n",
    "jupyter nbextension enable hide_input_all/main\n",
    "jupyter nbextension enable splitcell/splitcellcd\n",
    "jupyter nbextension enable toc2/main\n",
    "\n",
    "```\n",
    "\n",
    "Depending on the speed of your computer and of your internet connection installation could take as little as 10 minutes or more than 1/2 of an hour.\n",
    "\n",
    "At the end of the process you will have a new conda environment ModelFlow, and this will have been activated.\n",
    "\n",
    "Once modelflow is installed you are ready to work with it.  The following sections give a brief introduction to Jupyter notebook, which is a flexible tool that allows us to execute python code, interact with the modelflow class and World Bank Models and annotate what we have done for future replication.\n",
    "\n",
    ":::{note}\n",
    "NB: The next time you want to work with modelflow, you will need to activate the ```modelflow``` environment by \n",
    "\n",
    "1) Opening the Anaconda command prompt window\n",
    "2) Activate the ModelFlow environment we just created by executing the folling command\n",
    "\n",
    "```conda activate modelflow```\n",
    "\n",
    ":::\n",
    "\n",
    "```{note}\n",
    "If you are already familiar with python and jupyter notebooks you can probably skip to chapter [xx].\n",
    "```\n",
    "\n"
   ]
  },
  {
   "cell_type": "code",
   "execution_count": null,
   "id": "19d76be2",
   "metadata": {},
   "outputs": [],
   "source": []
  }
 ],
 "metadata": {
  "hide_input": false,
  "kernelspec": {
   "display_name": "Python 3 (ipykernel)",
   "language": "python",
   "name": "python3"
  },
  "language_info": {
   "codemirror_mode": {
    "name": "ipython",
    "version": 3
   },
   "file_extension": ".py",
   "mimetype": "text/x-python",
   "name": "python",
   "nbconvert_exporter": "python",
   "pygments_lexer": "ipython3",
   "version": "3.9.12"
  },
  "toc": {
   "base_numbering": 1,
   "nav_menu": {},
   "number_sections": true,
   "sideBar": true,
   "skip_h1_title": false,
   "title_cell": "Table of Contents",
   "title_sidebar": "Contents",
   "toc_cell": false,
   "toc_position": {},
   "toc_section_display": true,
   "toc_window_display": false
  }
 },
 "nbformat": 4,
 "nbformat_minor": 5
}
