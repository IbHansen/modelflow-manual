{
 "cells": [
  {
   "cell_type": "markdown",
   "id": "5c5a2d26",
   "metadata": {},
   "source": [
    "# Installation of Modelflow\n",
    "\n",
    "`Modelflow` is a python package that defines the modelflow class `model` among others.  `Modelflow` has many dependencies. Installing the class the first time can take some time depending on your internet connection and computer speed.  It is essential that you follow all of the steps outlined below to ensure that your version of `modelflow` operates as expected.\n",
    "\n",
    ":::{warning}\n",
    "The following instructions concern the installation of ```modelflow``` within an Anaconda installation of python.  Different flavors of Python may require slight changes to this recipe, but are not covered here.\n",
    "\n",
    "`Modelflow` is built and tested using the anaconda python environment.  It is strongly recommended to use Anaconda with `modelflow`.\n",
    "\n",
    "If you have not already installed Anaconda following the instructions in the preceding section, please do so **Now**.\n",
    ":::\n",
    "\n",
    "## Installation of ```modelflow``` under Anaconda\n",
    "\n",
    "1. Open the anaconda command prompt\n",
    "2. Execute the following commands by copying and pasting them -- either line by line or as a single mult-line step\n",
    "3. Press enter\n",
    "\n",
    "```\n",
    "conda create -n ModelFlow -c ibh -c  conda-forge modelflow_pinned -y\n",
    "conda activate ModelFlow\n",
    "pip install dash_interactive_graphviz\n",
    "conda install pyeviews -c conda-forge -y\n",
    "jupyter contrib nbextension install --user\n",
    "jupyter nbextension enable hide_input_all/main\n",
    "jupyter nbextension enable splitcell/splitcellcd\n",
    "jupyter nbextension enable toc2/main\n",
    "\n",
    "```\n",
    "\n",
    "Depending on the speed of your computer and of your internet connection installation could take as little as 10 minutes or more than 1/2 an hour.\n",
    "\n",
    "At the end of the process you will have a new conda environment called `modelflow`, and this will have been activated. The computer set up is complete and the user is ready to work with `modelflow`. \n",
    "\n",
    "The following sections give a brief introduction to Jupyter notebook, which is a flexible tool that allows us to execute python code, interact with the modelflow class and World Bank Models and annotate what we have done for future replication."
   ]
  }
 ],
 "metadata": {
  "hide_input": false,
  "kernelspec": {
   "display_name": "Python 3 (ipykernel)",
   "language": "python",
   "name": "python3"
  },
  "language_info": {
   "codemirror_mode": {
    "name": "ipython",
    "version": 3
   },
   "file_extension": ".py",
   "mimetype": "text/x-python",
   "name": "python",
   "nbconvert_exporter": "python",
   "pygments_lexer": "ipython3",
   "version": "3.9.12"
  },
  "toc": {
   "base_numbering": 1,
   "nav_menu": {},
   "number_sections": true,
   "sideBar": true,
   "skip_h1_title": false,
   "title_cell": "Table of Contents",
   "title_sidebar": "Contents",
   "toc_cell": false,
   "toc_position": {},
   "toc_section_display": true,
   "toc_window_display": false
  },
  "varInspector": {
   "cols": {
    "lenName": 16,
    "lenType": 16,
    "lenVar": 40
   },
   "kernels_config": {
    "python": {
     "delete_cmd_postfix": "",
     "delete_cmd_prefix": "del ",
     "library": "var_list.py",
     "varRefreshCmd": "print(var_dic_list())"
    },
    "r": {
     "delete_cmd_postfix": ") ",
     "delete_cmd_prefix": "rm(",
     "library": "var_list.r",
     "varRefreshCmd": "cat(var_dic_list()) "
    }
   },
   "types_to_exclude": [
    "module",
    "function",
    "builtin_function_or_method",
    "instance",
    "_Feature"
   ],
   "window_display": false
  }
 },
 "nbformat": 4,
 "nbformat_minor": 5
}
