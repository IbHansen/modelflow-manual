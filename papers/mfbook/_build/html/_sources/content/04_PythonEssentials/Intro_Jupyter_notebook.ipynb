{
 "cells": [
  {
   "cell_type": "markdown",
   "metadata": {
    "slideshow": {
     "slide_type": "slide"
    }
   },
   "source": [
    "# Introduction to  Jupyter Notebook\n",
    "\n",
    " Jupyter Notebook is a web application for creating, annotating, experimenting and working with computational documents.  Originally developed for python, the latest versions of EViews also support jupyter Notebooks. Junpyter Notebook (JN) offers a simple, streamlined, document-centric experience and can be a great environment for documenting the work you are doing, and trying alternative methods of achieving desirable results.  Many of the methods in ```modelflow``` have been developed to work well with Jupyter notebook and indeed this documentation was written as a series of Jupyter Notebooks bound together with Jupyter Book.\n",
    " \n",
    "Jupyter Notebook is not the only way to work with modelflow or Python.  Indeed, as users become more advanced they are likely to migrate to a more program-centric IDE (Interactive Development Environment) like Spyder or Microsoft Visual Code.  \n",
    "\n",
    "However, to start Jupyter Notebooks are a great way to learn, follow work done by others and tweak them to fit your own needs."
   ]
  },
  {
   "cell_type": "markdown",
   "metadata": {},
   "source": [
    "There are many fine tutorials on Jupyter Notebook on the web, and [The official Jupyter site](https://docs.jupyter.org/en/latest/) is a good starting point. The following aims to provide enough information to get a user started.\n"
   ]
  },
  {
   "cell_type": "markdown",
   "metadata": {
    "slideshow": {
     "slide_type": "slide"
    }
   },
   "source": [
    "## The idea of the notebook\n",
    "\n",
    "The idea behind jupyter notebook \\[JN\\] was to create an interactive version of the notebooks that scientists use(d) to:\n",
    "* record what they have done\n",
    "* perhaps explain why\n",
    "* document how data was generated, and \n",
    "* record the results of their experiments  \n",
    "\n",
    "The motivation for these notebooks and Jupyter notebook is to encourage practices that will ensure that if followed exactly by others, that they will be able to generate the same results. \n",
    "\n",
    "## Jupter Notebook cells\n",
    "\n",
    "A JN does all of that (and perhaps a bit more).  It is divided into 'cells'.  \n",
    "\n",
    "***JN Cells can contain:***\n",
    "* **computer code** (typically python code, but as noted other kernels -- like Eviews -- can be used with jupyter).\n",
    "* **markdown text**: plain text that can include special characters that make some text appear as bold, or indicate the text is headers, or instruct JN to render the text as a mathematical formula.  All of the text in this document was entered using JN's markdown language\n",
    "* Results (in the form of tables or graphs) from the execution of computer code specified in a code cell\n",
    "\n",
    "**Every cell has two modes:**\n",
    "\n",
    "1. Edit mode -- indicated by a green vertical bar. In edit mode the user can change the code, or the markdown.\n",
    "2. Select/Copy mode -- indicated by a blue vertical bar.  This will be teh state of the cell when its content has been executed.  For markdown cells this means that the text and special characters have been rendered into formatted text.  For code cells, this means the code has been executed and its output (if any) displayed in an output cell.\n",
    "\n",
    "The notebook has associated with it a \"Kernel\", which is an instance of the computing environment in which code will be executed. For JN taht work with modelflow this will be a Python Kernel.\n",
    "\n",
    "```{note} Jupyter Notebooks were designed to facilitate _replicability_: the idea that a scientific analysis should contain - in addition to the final output (text, graphs, tables) - all the computational steps needed to get from raw input data to the results.\n",
    "```"
   ]
  },
  {
   "cell_type": "markdown",
   "metadata": {
    "slideshow": {
     "slide_type": "slide"
    }
   },
   "source": [
    "## Execution of cells \n",
    "\n",
    "Every cell in a JN can be executed, either by using the Run button on the JN menu, or by using one of __two keyboard shortcuts__:\n",
    "* **ctrl + Enter**: Executes the code in the cell or formats the markdown of a cell.  The current cell retains the focus -- cursor stays on cell executed.\n",
    "* **shift + enter**: Executes the code in the cell or formats the markdown of a cell. Focus (cursor) jump to the next cell\n",
    "\n",
    "Useful shortcuts: (see also \"Help\" => \"Keyboard Shortcuts\" or simply press keyboard icon in the toolbar)\n",
    "\n",
    "### Execution of code cells\n",
    "Below is a code with some standard python that declares a variable \"x\" and assigns it the value 10, and declares a second variable \"y\" and assigns it the value 45.  The final line of y alone, instructs python to display the value of the variable y.  The results of the operation appear in the KN in an output cell."
   ]
  },
  {
   "cell_type": "code",
   "execution_count": 2,
   "metadata": {
    "slideshow": {
     "slide_type": "slide"
    }
   },
   "outputs": [
    {
     "data": {
      "text/plain": [
       "45"
      ]
     },
     "execution_count": 2,
     "metadata": {},
     "output_type": "execute_result"
    }
   ],
   "source": [
    "x = 10\n",
    "y = 45\n",
    "y"
   ]
  },
  {
   "cell_type": "markdown",
   "metadata": {},
   "source": [
    "#### the semi-colon \";\" supresses output in JN \n",
    "\n",
    "In the example below, a semi-colon \";\" has been appended to the final line.  This supresses the display of the value contained by y;  As a result there is no output cell."
   ]
  },
  {
   "cell_type": "code",
   "execution_count": 3,
   "metadata": {
    "slideshow": {
     "slide_type": "slide"
    }
   },
   "outputs": [],
   "source": [
    "x = 10\n",
    "y = 45\n",
    "y;"
   ]
  },
  {
   "cell_type": "markdown",
   "metadata": {},
   "source": [
    "Another way to display results is to use the print function."
   ]
  },
  {
   "cell_type": "code",
   "execution_count": null,
   "metadata": {},
   "outputs": [],
   "source": [
    "x = 10\n",
    "print(x)"
   ]
  },
  {
   "cell_type": "markdown",
   "metadata": {},
   "source": [
    "Variables in a JN session are persistent, as a result in the subsequent cell, we can declare a variable 'z' equal to 2\\*y and it will have the value 90."
   ]
  },
  {
   "cell_type": "code",
   "execution_count": 5,
   "metadata": {
    "slideshow": {
     "slide_type": "slide"
    }
   },
   "outputs": [
    {
     "data": {
      "text/plain": [
       "90"
      ]
     },
     "execution_count": 5,
     "metadata": {},
     "output_type": "execute_result"
    }
   ],
   "source": [
    "z=y*2\n",
    "z"
   ]
  },
  {
   "cell_type": "markdown",
   "metadata": {},
   "source": [
    "### Auto-complete and context-sensitive help\n",
    "\n",
    "When editing a code cell, you can use these short-cuts to autocomplete and or call up documentation for a command.\n",
    "\n",
    "* **tab**: autocomplete and  method selection\n",
    "* **double tab**: documention (double tab for full doc)\n"
   ]
  },
  {
   "cell_type": "markdown",
   "metadata": {},
   "source": [
    "## The markdown scripting language in JN  \n",
    "\n",
    "Markdown is a lightweight markup language for creating formatted text using a plain-text editor.  Used in a markdown cell of RN it can be used to produce nicely formatted text that mixes text, code and outputs from executed python code. \n",
    "\n",
    "Rather than the relatively complex commands of html \\<h1\\>\\<\\/h1\\>, markdown uses a simplified set of commands to control how text elements should be rendered.\n",
    "### Common markdown commands\n",
    "Some of the most common of these include:\n",
    "\n",
    "| symbol           | Effect          |\n",
    "|:--|:-----------------|\n",
    "| \\#               | Header        |\n",
    "| \\#\\#             | second level |\n",
    "| \\*\\*Bold text\\*\\* | **Bold text**   |\n",
    "| \\*Italics text\\* | *Italics text*   |\n",
    "| \\* text |  Bulleted text or dot notes |\n",
    "| 1\\. text  | 1. Numbered bullets   |\n",
    "\n",
    "### Tables in markdown\n",
    "Tables like the one above can be constructed using \\| as separators.  To display a (an unexecutable)  block of code within a markdown cell it can be commented by encapsulating it in  three \\` at the beginning and end \\`\\`\\` text to be rendered as code \\`\\`\\`.\n",
    "\n",
    "Below is the markdown code that generated the above table:\n",
    "\n",
    "```\n",
    "| symbol           | Effect          |\n",
    "|:--|:-----------------|\n",
    "| \\#               | Header        |\n",
    "| \\#\\#             | second level |\n",
    "| \\*\\*Bold text\\*\\* | **Bold text**   |\n",
    "| \\*Italics text\\* | *Italics text*   |\n",
    "| \n",
    "| 1\\. text  | 1. Numbered bullets   |\n",
    "\n",
    "```\n",
    "\n",
    "### links to mire info on markdown\n",
    "There are several very good markdown cheatsheets on the internet, one of these is [here](https://www.markdownguide.org/cheat-sheet/)\n"
   ]
  },
  {
   "cell_type": "markdown",
   "metadata": {},
   "source": [
    "## Rendering mathematics in markdown\n",
    "\n",
    "JN Markdown mode supports LaTeX mathematical notation.<br>\n",
    "\n",
    "Inline enclose the latex in ```$```:\n",
    "\n",
    "An Equation: ```$y_t = \\beta_0 + \\beta_1 x_t + u_t\\$``` will renders as: $y_t = \\beta_0 + \\beta_1 x_t + u_t$\n",
    "\n",
    "if enclosed in ```$$``` ```$$``` it will be centered on its on line.\n",
    "\n",
    "$$y_t = \\beta_0 + \\beta_1 x_t + u_t$$\n",
    "\n",
    "If you want the math to stand alone (not be in-line, then use two ```$``` signs)\n",
    "\n",
    "The below block renders as below\n",
    "```\n",
    "\\begin{align*}\n",
    "Y_t  &=  C_t+I_t+G+t+ (X_t-M_t) \\\\\n",
    "C_t &= c_t(C_{t-1},C_{t-2},I_t,G_t,X_t,M_t,P_t)\\\\\n",
    "I_t &= c_t(I_{t-1},I_{t-2},C_t,G_t,X_t,M_t,P_t)\\\\\n",
    "G_t &= c_t(G_{t-1},G_{t-2},C_t,I_t,X_t,M_t,P_t)\\\\\n",
    "X_t &= c_t(X_{t-1},X_{t-2},C_t,I_t,G_t,M_t,P_t,P^f_t)\\\\\n",
    "M_t &= c_t(M_{t-1},M_{t-2},C_t,I_t,G_t,X_t,P_t,P^f_t)\n",
    "\\end{align*}\n",
    "```\n",
    "\n",
    "\\begin{align*}\n",
    "Y_t  &=  C_t+I_t+G+t+ (X_t-M_t) \\\\\n",
    "C_t &= c_t(C_{t-1},C_{t-2},I_t,G_t,X_t,M_t,P_t)\\\\\n",
    "I_t &= c_t(I_{t-1},I_{t-2},C_t,G_t,X_t,M_t,P_t)\\\\\n",
    "G_t &= c_t(G_{t-1},G_{t-2},C_t,I_t,X_t,M_t,P_t)\\\\\n",
    "X_t &= c_t(X_{t-1},X_{t-2},C_t,I_t,G_t,M_t,P_t,P^f_t)\\\\\n",
    "M_t &= c_t(M_{t-1},M_{t-2},C_t,I_t,G_t,X_t,P_t,P^f_t)\n",
    "\\end{align*}"
   ]
  },
  {
   "cell_type": "markdown",
   "metadata": {
    "slideshow": {
     "slide_type": "slide"
    }
   },
   "source": [
    "## How to add, delete and move cells\n",
    "\n",
    "JN cells can be added, deleted and moved.  \n",
    "\n",
    "\n",
    "**Using the Toolbar**\n",
    "* **+ button**: add a cell below the current cell\n",
    "* **scissors**: cut  current cell (can be undone from \"Edit\" tab)\n",
    "* **clipboard**: paste a previously cut cell to the current location\n",
    "* **up- and down arrows**: move cells\n",
    "* **hold shift + click cells in left margin**: select multiple cells (vertical bar must be blue)\n",
    "\n",
    "**Using keyboard short cuts**\n",
    "* **esc + a**: add a cell above the current cell\n",
    "* **esc + b**: add a cell below the current cell\n",
    "* **esc + d+d**: delete the current cell\n",
    "\n",
    "## Change the type of a cell\n",
    "You can also change the type of a cell. New cells are by default \"code\" cells. \n",
    "\n",
    "**Using the Toolbar**\n",
    "* Select the desired type from the drop down.  options include \n",
    "    * Markdown\n",
    "    * Code\n",
    "    * Raw NBConvert\n",
    "    * Heading\n",
    "\n",
    "**Using keyboard short cuts**\n",
    "* **esc + m**: make the current cell a markdown cell\n",
    "* **esc + y**: make the current cell a code  cell\n",
    "\n",
    "    \n",
    "    \n",
    "    "
   ]
  }
 ],
 "metadata": {
  "anaconda-cloud": {},
  "celltoolbar": "Edit Metadata",
  "hide_input": false,
  "kernelspec": {
   "display_name": "Python 3 (ipykernel)",
   "language": "python",
   "name": "python3"
  },
  "language_info": {
   "codemirror_mode": {
    "name": "ipython",
    "version": 3
   },
   "file_extension": ".py",
   "mimetype": "text/x-python",
   "name": "python",
   "nbconvert_exporter": "python",
   "pygments_lexer": "ipython3",
   "version": "3.9.12"
  },
  "toc": {
   "base_numbering": 1,
   "nav_menu": {},
   "number_sections": true,
   "sideBar": true,
   "skip_h1_title": true,
   "title_cell": "Table of Contents",
   "title_sidebar": "Contents",
   "toc_cell": false,
   "toc_position": {},
   "toc_section_display": true,
   "toc_window_display": false
  },
  "varInspector": {
   "cols": {
    "lenName": 16,
    "lenType": 16,
    "lenVar": 40
   },
   "kernels_config": {
    "python": {
     "delete_cmd_postfix": "",
     "delete_cmd_prefix": "del ",
     "library": "var_list.py",
     "varRefreshCmd": "print(var_dic_list())"
    },
    "r": {
     "delete_cmd_postfix": ") ",
     "delete_cmd_prefix": "rm(",
     "library": "var_list.r",
     "varRefreshCmd": "cat(var_dic_list()) "
    }
   },
   "types_to_exclude": [
    "module",
    "function",
    "builtin_function_or_method",
    "instance",
    "_Feature"
   ],
   "window_display": true
  }
 },
 "nbformat": 4,
 "nbformat_minor": 1
}
