{
 "cells": [
  {
   "cell_type": "markdown",
   "id": "9f2e2785",
   "metadata": {
    "slideshow": {
     "slide_type": "slide"
    }
   },
   "source": [
    "# Testing your installation of modelflow\n",
    "\n",
    "\n",
    "To test that the installation of modelflow has worked properly, we will build a model using the modelflow framework and then simulate it.  A simple model that illustrates many of the functions of modelflow is the Solow growth model.\n",
    "\n",
    "The code below first sets up the python environment by importing the modelflow  and pandas classes.  The initial two lines of code and the final two lines just set up the environment for optimal display and are not required.\n",
    "\n",
    "To test the installation on your system you can copy this code into a Jupyter notebook and execute it.\n",
    "\n",
    "    "
   ]
  },
  {
   "cell_type": "code",
   "execution_count": 1,
   "id": "c095f8ad",
   "metadata": {
    "tags": [
     "remove-cell"
    ]
   },
   "outputs": [
    {
     "data": {
      "text/html": [
       "\n",
       "        <style>\n",
       "            div#notebook-container    { width: 95%; }\n",
       "            div#menubar-container     { width: 65%; }\n",
       "            div#maintoolbar-container { width: 99%; }\n",
       "        </style>\n",
       "        "
      ],
      "text/plain": [
       "<IPython.core.display.HTML object>"
      ]
     },
     "metadata": {},
     "output_type": "display_data"
    }
   ],
   "source": [
    "%load_ext autoreload\n",
    "%autoreload 2\n",
    "\n",
    "#Required packages\n",
    "import pandas as pd\n",
    "# Modelflow modules\n",
    "from modelclass import model\n",
    "   \n",
    "#for publication \n",
    "latex=0\n",
    "model.widescreen()"
   ]
  },
  {
   "cell_type": "markdown",
   "id": "b6b5050f",
   "metadata": {
    "slideshow": {
     "slide_type": "slide"
    }
   },
   "source": [
    "\n",
    "## Specifying the model \n",
    "\n",
    "Having loaded the model class from the modelflow library, we can start constructing the model.\n",
    "\n",
    "The first step is to define the equations of the model, using ```modelflow```'s Business Logic Language.   \n",
    "\n"
   ]
  },
  {
   "cell_type": "markdown",
   "id": "b7d6df29",
   "metadata": {
    "slideshow": {
     "slide_type": "skip"
    }
   },
   "source": [
    ":::{margin} **Business Logic Language**\n",
    "More on how to specify models [here](../intro/model%20specification.ipynb)\n",
    ":::"
   ]
  },
  {
   "cell_type": "markdown",
   "id": "e3ef2ffd",
   "metadata": {},
   "source": [
    "The below code segment defines a string fsolow that contains the equations for the solow model, where:\n",
    "* GDP is defined as a simple Cobb-Douglas production function as the product of TFP, Capital (raised to the share of capital in total income) and Labour (raised to the share of labor in total income)\n",
    "* Investment is equal to GDP less consumption\n",
    "* The change in capital is equal to investment this period less the depreciation of the capital stock from the previous period\n",
    "* Labor grows at the rate of growth of the variable ```Labor_growth```\n",
    "* a pure reporting identity Capital_intensity the ratio of the Capital Stock to the Labor input\n",
    "\n",
    "We thus have a system of 6 equations with 6 unknowns (GDP, Consumption, Investment, Change in the Capital stock, and change in Labor supply, and the capital_intensity) and exogenous variables (TFP, alfa,savings_rate,Depreciation_rate and Labor_growth).\n",
    "\n",
    ":::{note}\n",
    "The equations for Labor and Capital have been entered as difference equations. The ```modelflow``` object will automatically normalize them, generating an internal representation of ```Labour=Labour(t-1)*(1+Labor_growth)``` and ```Capital=Capital(t-1)*(1-Depreciation_rate)+Investment```\n",
    ":::\n"
   ]
  },
  {
   "cell_type": "code",
   "execution_count": 2,
   "id": "a1dd5bf9",
   "metadata": {
    "slideshow": {
     "slide_type": "fragment"
    }
   },
   "outputs": [],
   "source": [
    "\n",
    "fsolow = '''\\\n",
    "GDP          = TFP  * Capital**alfa * Labor **(1-alfa) \n",
    "Consumption     = (1-saving_rate)  * GDP \n",
    "Investment      = GDP - Consumption   \n",
    "diff(Capital)   = Investment-Depreciation_rate * Capital(-1)\n",
    "diff(Labor)     = Labor_growth * Labor(-1)  \n",
    "Capital_intensity = Capital/Labor \n",
    "'''"
   ]
  },
  {
   "cell_type": "markdown",
   "id": "6ab7bf46",
   "metadata": {
    "slideshow": {
     "slide_type": "slide"
    }
   },
   "source": [
    "\n",
    "To create the model we instantiate (create) a variable ```msolow``` (which will ultimately contain both the equations and data for the model) using the ```.from_eq()``` method of the ```modelflow``` class -- submitting to it the equations in string form, and giving it the name \"Solow model\"."
   ]
  },
  {
   "cell_type": "code",
   "execution_count": 3,
   "id": "67f4a348",
   "metadata": {
    "slideshow": {
     "slide_type": "fragment"
    }
   },
   "outputs": [],
   "source": [
    "msolow = model.from_eq(fsolow,modelname='Solow model')"
   ]
  },
  {
   "cell_type": "markdown",
   "id": "062209f4",
   "metadata": {
    "slideshow": {
     "slide_type": "slide"
    }
   },
   "source": [
    "The internal representation of the normalized equations can be displayed in normalized business language with the ```modelflow``` method ```.print_model```:"
   ]
  },
  {
   "cell_type": "code",
   "execution_count": 4,
   "id": "62242f27",
   "metadata": {
    "slideshow": {
     "slide_type": "slide"
    }
   },
   "outputs": [
    {
     "name": "stdout",
     "output_type": "stream",
     "text": [
      "FRML <> GDP          = TFP  * CAPITAL**ALFA * LABOR **(1-ALFA)  $\n",
      "FRML <> CONSUMPTION     = (1-SAVING_RATE)  * GDP  $\n",
      "FRML <> INVESTMENT      = GDP - CONSUMPTION    $\n",
      "FRML <> CAPITAL=CAPITAL(-1)+(INVESTMENT-DEPRECIATION_RATE * CAPITAL(-1))$\n",
      "FRML <> LABOR=LABOR(-1)+(LABOR_GROWTH * LABOR(-1))$\n",
      "FRML <> CAPITAL_INTENSITY = CAPITAL/LABOR  $\n"
     ]
    }
   ],
   "source": [
    "msolow.print_model"
   ]
  },
  {
   "cell_type": "markdown",
   "id": "3e9ab796",
   "metadata": {
    "slideshow": {
     "slide_type": "slide"
    }
   },
   "source": [
    "## Create some data \n",
    "\n",
    "For the moment ```msolow``` has a mathematical representation of a system of equations but no data.\n",
    "\n",
    "To add data we  create a pandas dataframe with initial values for our exogenous variables. Technically capital and labor are endogenous in the Solow model, but because they are specified as change equations their initial values are exogenous and need to be initialized.  \n",
    "\n",
    "The code below  instantiates (creates) a panda dataframe ```df``` and fills it with the variables for our model, initializing these with a series of values over 300 datapoints.  The final command displays the first ten rows of the dataframe.\n",
    "\n",
    "```{note}\n",
    "    Pandas data frames is a foundational class of python.  There are thousands of web sites dedicated to understanding pandas.  Some notable ones include:\n",
    "\n",
    "\n",
    "```"
   ]
  },
  {
   "cell_type": "code",
   "execution_count": 5,
   "id": "286fe002",
   "metadata": {
    "slideshow": {
     "slide_type": "fragment"
    }
   },
   "outputs": [
    {
     "data": {
      "text/html": [
       "<div>\n",
       "<style scoped>\n",
       "    .dataframe tbody tr th:only-of-type {\n",
       "        vertical-align: middle;\n",
       "    }\n",
       "\n",
       "    .dataframe tbody tr th {\n",
       "        vertical-align: top;\n",
       "    }\n",
       "\n",
       "    .dataframe thead th {\n",
       "        text-align: right;\n",
       "    }\n",
       "</style>\n",
       "<table border=\"1\" class=\"dataframe\">\n",
       "  <thead>\n",
       "    <tr style=\"text-align: right;\">\n",
       "      <th></th>\n",
       "      <th>LABOR</th>\n",
       "      <th>CAPITAL</th>\n",
       "      <th>ALFA</th>\n",
       "      <th>TFP</th>\n",
       "      <th>DEPRECIATION_RATE</th>\n",
       "      <th>LABOR_GROWTH</th>\n",
       "      <th>SAVING_RATE</th>\n",
       "    </tr>\n",
       "  </thead>\n",
       "  <tbody>\n",
       "    <tr>\n",
       "      <th>0</th>\n",
       "      <td>100</td>\n",
       "      <td>100</td>\n",
       "      <td>0.5</td>\n",
       "      <td>1</td>\n",
       "      <td>0.05</td>\n",
       "      <td>0.01</td>\n",
       "      <td>0.05</td>\n",
       "    </tr>\n",
       "    <tr>\n",
       "      <th>1</th>\n",
       "      <td>100</td>\n",
       "      <td>100</td>\n",
       "      <td>0.5</td>\n",
       "      <td>1</td>\n",
       "      <td>0.05</td>\n",
       "      <td>0.01</td>\n",
       "      <td>0.05</td>\n",
       "    </tr>\n",
       "    <tr>\n",
       "      <th>2</th>\n",
       "      <td>100</td>\n",
       "      <td>100</td>\n",
       "      <td>0.5</td>\n",
       "      <td>1</td>\n",
       "      <td>0.05</td>\n",
       "      <td>0.01</td>\n",
       "      <td>0.05</td>\n",
       "    </tr>\n",
       "    <tr>\n",
       "      <th>3</th>\n",
       "      <td>100</td>\n",
       "      <td>100</td>\n",
       "      <td>0.5</td>\n",
       "      <td>1</td>\n",
       "      <td>0.05</td>\n",
       "      <td>0.01</td>\n",
       "      <td>0.05</td>\n",
       "    </tr>\n",
       "    <tr>\n",
       "      <th>4</th>\n",
       "      <td>100</td>\n",
       "      <td>100</td>\n",
       "      <td>0.5</td>\n",
       "      <td>1</td>\n",
       "      <td>0.05</td>\n",
       "      <td>0.01</td>\n",
       "      <td>0.05</td>\n",
       "    </tr>\n",
       "  </tbody>\n",
       "</table>\n",
       "</div>"
      ],
      "text/plain": [
       "   LABOR  CAPITAL  ALFA  TFP  DEPRECIATION_RATE  LABOR_GROWTH  SAVING_RATE\n",
       "0    100      100   0.5    1               0.05          0.01         0.05\n",
       "1    100      100   0.5    1               0.05          0.01         0.05\n",
       "2    100      100   0.5    1               0.05          0.01         0.05\n",
       "3    100      100   0.5    1               0.05          0.01         0.05\n",
       "4    100      100   0.5    1               0.05          0.01         0.05"
      ]
     },
     "execution_count": 5,
     "metadata": {},
     "output_type": "execute_result"
    }
   ],
   "source": [
    "N = 300  \n",
    "df = pd.DataFrame({'LABOR':[100]*N,\n",
    "                   'CAPITAL':[100]*N, \n",
    "                   'ALFA':[0.5]*N, \n",
    "                   'TFP': [1]*N, \n",
    "                   'DEPRECIATION_RATE': [0.05]*N, \n",
    "                   'LABOR_GROWTH': [0.01]*N, \n",
    "                   'SAVING_RATE':[0.05]*N})\n",
    "df.head() #this prints out the first 5 rows of the dataframe"
   ]
  },
  {
   "cell_type": "markdown",
   "id": "4e86e552",
   "metadata": {
    "slideshow": {
     "slide_type": "slide"
    }
   },
   "source": [
    "## Putting it together\n",
    "\n",
    "Having defined an initial data set for all the exogenous variables, we can combine these with the equations and solve the model.\n",
    "\n",
    "The command below solves the model ```msolow``` on the data contained in the dataframe ```df``` and stores the output in a new dataframe called ```result```.\n",
    "\n",
    "The last line displays the values of the simulated model, which now includes results for the endogenous variables, and different values for the Labor and Capital variables reflecting their endogeneity for periods 2 through 300."
   ]
  },
  {
   "cell_type": "code",
   "execution_count": 6,
   "id": "dfc57421",
   "metadata": {
    "scrolled": false
   },
   "outputs": [
    {
     "data": {
      "text/html": [
       "<div>\n",
       "<style scoped>\n",
       "    .dataframe tbody tr th:only-of-type {\n",
       "        vertical-align: middle;\n",
       "    }\n",
       "\n",
       "    .dataframe tbody tr th {\n",
       "        vertical-align: top;\n",
       "    }\n",
       "\n",
       "    .dataframe thead th {\n",
       "        text-align: right;\n",
       "    }\n",
       "</style>\n",
       "<table border=\"1\" class=\"dataframe\">\n",
       "  <thead>\n",
       "    <tr style=\"text-align: right;\">\n",
       "      <th></th>\n",
       "      <th>LABOR</th>\n",
       "      <th>CAPITAL</th>\n",
       "      <th>ALFA</th>\n",
       "      <th>TFP</th>\n",
       "      <th>DEPRECIATION_RATE</th>\n",
       "      <th>LABOR_GROWTH</th>\n",
       "      <th>SAVING_RATE</th>\n",
       "      <th>CONSUMPTION</th>\n",
       "      <th>CAPITAL_INTENSITY</th>\n",
       "      <th>INVESTMENT</th>\n",
       "      <th>GDP</th>\n",
       "    </tr>\n",
       "  </thead>\n",
       "  <tbody>\n",
       "    <tr>\n",
       "      <th>0</th>\n",
       "      <td>100.000000</td>\n",
       "      <td>100.000000</td>\n",
       "      <td>0.5</td>\n",
       "      <td>1.0</td>\n",
       "      <td>0.05</td>\n",
       "      <td>0.01</td>\n",
       "      <td>0.05</td>\n",
       "      <td>0.000000</td>\n",
       "      <td>0.000000</td>\n",
       "      <td>0.000000</td>\n",
       "      <td>0.000000</td>\n",
       "    </tr>\n",
       "    <tr>\n",
       "      <th>1</th>\n",
       "      <td>101.000000</td>\n",
       "      <td>100.025580</td>\n",
       "      <td>0.5</td>\n",
       "      <td>1.0</td>\n",
       "      <td>0.05</td>\n",
       "      <td>0.01</td>\n",
       "      <td>0.05</td>\n",
       "      <td>95.486029</td>\n",
       "      <td>0.990352</td>\n",
       "      <td>5.025580</td>\n",
       "      <td>100.511609</td>\n",
       "    </tr>\n",
       "    <tr>\n",
       "      <th>2</th>\n",
       "      <td>102.010000</td>\n",
       "      <td>100.076226</td>\n",
       "      <td>0.5</td>\n",
       "      <td>1.0</td>\n",
       "      <td>0.05</td>\n",
       "      <td>0.01</td>\n",
       "      <td>0.05</td>\n",
       "      <td>95.986562</td>\n",
       "      <td>0.981043</td>\n",
       "      <td>5.051924</td>\n",
       "      <td>101.038487</td>\n",
       "    </tr>\n",
       "    <tr>\n",
       "      <th>3</th>\n",
       "      <td>103.030100</td>\n",
       "      <td>100.151443</td>\n",
       "      <td>0.5</td>\n",
       "      <td>1.0</td>\n",
       "      <td>0.05</td>\n",
       "      <td>0.01</td>\n",
       "      <td>0.05</td>\n",
       "      <td>96.501546</td>\n",
       "      <td>0.972060</td>\n",
       "      <td>5.079029</td>\n",
       "      <td>101.580575</td>\n",
       "    </tr>\n",
       "    <tr>\n",
       "      <th>4</th>\n",
       "      <td>104.060401</td>\n",
       "      <td>100.250762</td>\n",
       "      <td>0.5</td>\n",
       "      <td>1.0</td>\n",
       "      <td>0.05</td>\n",
       "      <td>0.01</td>\n",
       "      <td>0.05</td>\n",
       "      <td>97.030930</td>\n",
       "      <td>0.963390</td>\n",
       "      <td>5.106891</td>\n",
       "      <td>102.137821</td>\n",
       "    </tr>\n",
       "    <tr>\n",
       "      <th>5</th>\n",
       "      <td>105.101005</td>\n",
       "      <td>100.373733</td>\n",
       "      <td>0.5</td>\n",
       "      <td>1.0</td>\n",
       "      <td>0.05</td>\n",
       "      <td>0.01</td>\n",
       "      <td>0.05</td>\n",
       "      <td>97.574667</td>\n",
       "      <td>0.955022</td>\n",
       "      <td>5.135509</td>\n",
       "      <td>102.710176</td>\n",
       "    </tr>\n",
       "    <tr>\n",
       "      <th>6</th>\n",
       "      <td>106.152015</td>\n",
       "      <td>100.519926</td>\n",
       "      <td>0.5</td>\n",
       "      <td>1.0</td>\n",
       "      <td>0.05</td>\n",
       "      <td>0.01</td>\n",
       "      <td>0.05</td>\n",
       "      <td>98.132713</td>\n",
       "      <td>0.946943</td>\n",
       "      <td>5.164880</td>\n",
       "      <td>103.297593</td>\n",
       "    </tr>\n",
       "    <tr>\n",
       "      <th>7</th>\n",
       "      <td>107.213535</td>\n",
       "      <td>100.688931</td>\n",
       "      <td>0.5</td>\n",
       "      <td>1.0</td>\n",
       "      <td>0.05</td>\n",
       "      <td>0.01</td>\n",
       "      <td>0.05</td>\n",
       "      <td>98.705029</td>\n",
       "      <td>0.939144</td>\n",
       "      <td>5.195002</td>\n",
       "      <td>103.900030</td>\n",
       "    </tr>\n",
       "    <tr>\n",
       "      <th>8</th>\n",
       "      <td>108.285671</td>\n",
       "      <td>100.880357</td>\n",
       "      <td>0.5</td>\n",
       "      <td>1.0</td>\n",
       "      <td>0.05</td>\n",
       "      <td>0.01</td>\n",
       "      <td>0.05</td>\n",
       "      <td>99.291576</td>\n",
       "      <td>0.931613</td>\n",
       "      <td>5.225872</td>\n",
       "      <td>104.517449</td>\n",
       "    </tr>\n",
       "    <tr>\n",
       "      <th>9</th>\n",
       "      <td>109.368527</td>\n",
       "      <td>101.093830</td>\n",
       "      <td>0.5</td>\n",
       "      <td>1.0</td>\n",
       "      <td>0.05</td>\n",
       "      <td>0.01</td>\n",
       "      <td>0.05</td>\n",
       "      <td>99.892323</td>\n",
       "      <td>0.924341</td>\n",
       "      <td>5.257491</td>\n",
       "      <td>105.149813</td>\n",
       "    </tr>\n",
       "  </tbody>\n",
       "</table>\n",
       "</div>"
      ],
      "text/plain": [
       "        LABOR     CAPITAL  ALFA  TFP  DEPRECIATION_RATE  LABOR_GROWTH  \\\n",
       "0  100.000000  100.000000   0.5  1.0               0.05          0.01   \n",
       "1  101.000000  100.025580   0.5  1.0               0.05          0.01   \n",
       "2  102.010000  100.076226   0.5  1.0               0.05          0.01   \n",
       "3  103.030100  100.151443   0.5  1.0               0.05          0.01   \n",
       "4  104.060401  100.250762   0.5  1.0               0.05          0.01   \n",
       "5  105.101005  100.373733   0.5  1.0               0.05          0.01   \n",
       "6  106.152015  100.519926   0.5  1.0               0.05          0.01   \n",
       "7  107.213535  100.688931   0.5  1.0               0.05          0.01   \n",
       "8  108.285671  100.880357   0.5  1.0               0.05          0.01   \n",
       "9  109.368527  101.093830   0.5  1.0               0.05          0.01   \n",
       "\n",
       "   SAVING_RATE  CONSUMPTION  CAPITAL_INTENSITY  INVESTMENT         GDP  \n",
       "0         0.05     0.000000           0.000000    0.000000    0.000000  \n",
       "1         0.05    95.486029           0.990352    5.025580  100.511609  \n",
       "2         0.05    95.986562           0.981043    5.051924  101.038487  \n",
       "3         0.05    96.501546           0.972060    5.079029  101.580575  \n",
       "4         0.05    97.030930           0.963390    5.106891  102.137821  \n",
       "5         0.05    97.574667           0.955022    5.135509  102.710176  \n",
       "6         0.05    98.132713           0.946943    5.164880  103.297593  \n",
       "7         0.05    98.705029           0.939144    5.195002  103.900030  \n",
       "8         0.05    99.291576           0.931613    5.225872  104.517449  \n",
       "9         0.05    99.892323           0.924341    5.257491  105.149813  "
      ]
     },
     "execution_count": 6,
     "metadata": {},
     "output_type": "execute_result"
    }
   ],
   "source": [
    "result = msolow(df,keep='Baseline') \n",
    "# The model is simulated for all years possible \n",
    "\n",
    "result.head(10)"
   ]
  },
  {
   "cell_type": "markdown",
   "id": "71b35854",
   "metadata": {
    "slideshow": {
     "slide_type": "slide"
    }
   },
   "source": [
    "## Create a scenario and run again "
   ]
  },
  {
   "cell_type": "markdown",
   "id": "c213cb44",
   "metadata": {
    "slideshow": {
     "slide_type": "skip"
    }
   },
   "source": [
    ":::{margin} **dataframe.upd**\n",
    "When importing modelclass all pandas dataframes are enriched with a a handy way to create a new pandas dataframe as a copy of an existing one but with one or more series updated. \n",
    "\n",
    "In this case df.upd will create a a new dataframe ```dfscenaario``` with updated LABOR_GROWTH \n",
    "\n",
    "For more detail on the ```.upd``` method look here [here](../../howto/update/model%20update.ipynb)\n",
    ":::"
   ]
  },
  {
   "cell_type": "code",
   "execution_count": 7,
   "id": "635b1c17",
   "metadata": {
    "slideshow": {
     "slide_type": "fragment"
    }
   },
   "outputs": [],
   "source": [
    "dfscenario = df.upd('LABOR_GROWTH + 0.002')  # create a new dataframe, increase LABOR_GROWTH by 0.002\n",
    "scenario   = msolow(dfscenario2,keep='Higher labor growth ') # simulate the model \n"
   ]
  },
  {
   "cell_type": "markdown",
   "id": "286a2013",
   "metadata": {
    "slideshow": {
     "slide_type": "slide"
    }
   },
   "source": [
    "## Inspect results  \n",
    "\n",
    "```Modelflow``` includes a range of methods to view data and results, either as graphs or as tables.  Some of these are part of standard python, others are additional features that ```modelflow``` makes available.\n",
    "\n",
    "Scenario results can be inspected either by referring to the scenario name given in the (optional) ```keep``` statement when the model was solved, by referring to the ```basedf``` and the ```lastdf```. \n",
    "\n",
    "* ```basedf``` is a dataframe that is automatically generated when the model is solved and contains a copy of the initial conditions of the model prior to the shock.  \n",
    "* ```lastdf```is a dataframe that is automatically generated when the model is solved and contains a copy of the results from the simulation. Several built in display functions use these functions to display results.\n",
    "\n",
    "Finally one could also look at the dataframe to which the results of the simulation were assigned ```scenario``` in the example above.\n",
    "\n",
    "Below is a small sub-set of the visualization options available."
   ]
  },
  {
   "cell_type": "markdown",
   "id": "a00c9c3f",
   "metadata": {
    "slideshow": {
     "slide_type": "slide"
    }
   },
   "source": [
    "### Graphical representations of results\n",
    "\n",
    "#### The .dif.plot() method\n",
    "\n",
    "The ```.dif.plot``` method will plot the change in the level of requested variables.  Requested variables can be selected either directly by name or using wildcards.\n",
    "\n",
    "In this example, a wild card specification is used, requesting the display of all variables that begin with the text 'labor'.  Note that the selector is not case sensitive.\n",
    "\n",
    "In this case we are displaying changes into the labor and labor growth variables due to the shock when we increased the growth rate of labor by .0002"
   ]
  },
  {
   "cell_type": "code",
   "execution_count": 8,
   "id": "15c25aa2",
   "metadata": {},
   "outputs": [
    {
     "data": {
      "image/png": "[encoded data removed]",
      "text/plain": [
       "<Figure size 720x144 with 2 Axes>"
      ]
     },
     "execution_count": 8,
     "metadata": {},
     "output_type": "execute_result"
    }
   ],
   "source": [
    "msolow['labor*'].dif.plot() "
   ]
  },
  {
   "cell_type": "markdown",
   "id": "98f4a598",
   "metadata": {},
   "source": [
    "In this example, instead of using a wild card selector we requested a variable explicitly by name."
   ]
  },
  {
   "cell_type": "code",
   "execution_count": 33,
   "id": "57638d6e",
   "metadata": {},
   "outputs": [
    {
     "data": {
      "image/png": "[encoded data removed]",
      "text/plain": [
       "<Figure size 720x144 with 2 Axes>"
      ]
     },
     "execution_count": 33,
     "metadata": {},
     "output_type": "execute_result"
    }
   ],
   "source": [
    "msolow['GDP LABOR_GROWTH'].pct.plot() "
   ]
  },
  {
   "cell_type": "markdown",
   "id": "019b6732",
   "metadata": {
    "slideshow": {
     "slide_type": "slide"
    }
   },
   "source": [
    "#### Using the kept solutions \n",
    "Because the keyword ```keep``` was used when running the simulations, we can refer to the scenarios by their names -- or produce graphs from multiple scenarios -- not just the first and last. "
   ]
  },
  {
   "cell_type": "code",
   "execution_count": 10,
   "id": "0134a940",
   "metadata": {
    "scrolled": false,
    "slideshow": {
     "slide_type": "subslide"
    }
   },
   "outputs": [
    {
     "data": {
      "text/plain": [
       "{'GDP': <Figure size 720x432 with 1 Axes>}"
      ]
     },
     "execution_count": 10,
     "metadata": {},
     "output_type": "execute_result"
    }
   ],
   "source": [
    "\n",
    "msolow.keep_plot('GDP')\n",
    "    "
   ]
  },
  {
   "cell_type": "markdown",
   "id": "1cbbc318",
   "metadata": {},
   "source": [
    "### Textual and tabular display of results\n",
    "\n",
    "Standard pandas syntax can be used to display data in the results dataframes.\n",
    "\n",
    "Here we use the standard pandas ```.loc``` method to display every 10th data point for consumption from the results dataframe, beginning from observation 50 through 100.\n"
   ]
  },
  {
   "cell_type": "code",
   "execution_count": 11,
   "id": "f6458897",
   "metadata": {},
   "outputs": [
    {
     "data": {
      "text/plain": [
       "50     147.153178\n",
       "60     163.821789\n",
       "70     182.962508\n",
       "80     204.822883\n",
       "90     229.693743\n",
       "100    257.912531\n",
       "Name: CONSUMPTION, dtype: float64"
      ]
     },
     "execution_count": 11,
     "metadata": {},
     "output_type": "execute_result"
    }
   ],
   "source": [
    "msolow.lastdf.loc[50:100:10,'CONSUMPTION']"
   ]
  },
  {
   "cell_type": "markdown",
   "id": "6f5cd14a",
   "metadata": {
    "slideshow": {
     "slide_type": "slide"
    }
   },
   "source": [
    "#### The ```.dif.df``` method\n",
    "\n",
    "The ```.dif.df``` method prints out the changes in variables, i.e. eh difference between the level of specified  variables in the ```lastdf``` dataframe vs the ```basedf``` dataframe.\n",
    "\n"
   ]
  },
  {
   "cell_type": "code",
   "execution_count": 25,
   "id": "a641ec94",
   "metadata": {},
   "outputs": [
    {
     "data": {
      "text/html": [
       "<div>\n",
       "<style scoped>\n",
       "    .dataframe tbody tr th:only-of-type {\n",
       "        vertical-align: middle;\n",
       "    }\n",
       "\n",
       "    .dataframe tbody tr th {\n",
       "        vertical-align: top;\n",
       "    }\n",
       "\n",
       "    .dataframe thead th {\n",
       "        text-align: right;\n",
       "    }\n",
       "</style>\n",
       "<table border=\"1\" class=\"dataframe\">\n",
       "  <thead>\n",
       "    <tr style=\"text-align: right;\">\n",
       "      <th></th>\n",
       "      <th>GDP</th>\n",
       "      <th>CONSUMPTION</th>\n",
       "    </tr>\n",
       "  </thead>\n",
       "  <tbody>\n",
       "    <tr>\n",
       "      <th>1</th>\n",
       "      <td>0.102033</td>\n",
       "      <td>0.096931</td>\n",
       "    </tr>\n",
       "    <tr>\n",
       "      <th>2</th>\n",
       "      <td>0.207782</td>\n",
       "      <td>0.197393</td>\n",
       "    </tr>\n",
       "    <tr>\n",
       "      <th>3</th>\n",
       "      <td>0.317304</td>\n",
       "      <td>0.301439</td>\n",
       "    </tr>\n",
       "    <tr>\n",
       "      <th>4</th>\n",
       "      <td>0.430657</td>\n",
       "      <td>0.409124</td>\n",
       "    </tr>\n",
       "    <tr>\n",
       "      <th>5</th>\n",
       "      <td>0.547897</td>\n",
       "      <td>0.520502</td>\n",
       "    </tr>\n",
       "    <tr>\n",
       "      <th>...</th>\n",
       "      <td>...</td>\n",
       "      <td>...</td>\n",
       "    </tr>\n",
       "    <tr>\n",
       "      <th>295</th>\n",
       "      <td>1169.615122</td>\n",
       "      <td>1111.134366</td>\n",
       "    </tr>\n",
       "    <tr>\n",
       "      <th>296</th>\n",
       "      <td>1186.819383</td>\n",
       "      <td>1127.478413</td>\n",
       "    </tr>\n",
       "    <tr>\n",
       "      <th>297</th>\n",
       "      <td>1204.261797</td>\n",
       "      <td>1144.048707</td>\n",
       "    </tr>\n",
       "    <tr>\n",
       "      <th>298</th>\n",
       "      <td>1221.945541</td>\n",
       "      <td>1160.848264</td>\n",
       "    </tr>\n",
       "    <tr>\n",
       "      <th>299</th>\n",
       "      <td>1239.873829</td>\n",
       "      <td>1177.880137</td>\n",
       "    </tr>\n",
       "  </tbody>\n",
       "</table>\n",
       "<p>299 rows × 2 columns</p>\n",
       "</div>"
      ],
      "text/plain": [
       "             GDP  CONSUMPTION\n",
       "1       0.102033     0.096931\n",
       "2       0.207782     0.197393\n",
       "3       0.317304     0.301439\n",
       "4       0.430657     0.409124\n",
       "5       0.547897     0.520502\n",
       "..           ...          ...\n",
       "295  1169.615122  1111.134366\n",
       "296  1186.819383  1127.478413\n",
       "297  1204.261797  1144.048707\n",
       "298  1221.945541  1160.848264\n",
       "299  1239.873829  1177.880137\n",
       "\n",
       "[299 rows x 2 columns]"
      ]
     },
     "execution_count": 25,
     "metadata": {},
     "output_type": "execute_result"
    }
   ],
   "source": [
    "msolow['GDP CONSUMPTION'].dif.df"
   ]
  },
  {
   "cell_type": "markdown",
   "id": "a5fee445",
   "metadata": {},
   "source": [
    "#### The ```.difpct.df``` method\n",
    "\n",
    "The ```.dif.pct.df``` method express the changes between the last simulation and base simulation results as a percent differences in the level (${\\Delta X_t \\over X^{basedf}_{t-1}} $ ).  In the example below the mul100 method multiplies the result by 100.\n"
   ]
  },
  {
   "cell_type": "code",
   "execution_count": 28,
   "id": "792b5fcd",
   "metadata": {},
   "outputs": [
    {
     "data": {
      "text/html": [
       "<div>\n",
       "<style scoped>\n",
       "    .dataframe tbody tr th:only-of-type {\n",
       "        vertical-align: middle;\n",
       "    }\n",
       "\n",
       "    .dataframe tbody tr th {\n",
       "        vertical-align: top;\n",
       "    }\n",
       "\n",
       "    .dataframe thead th {\n",
       "        text-align: right;\n",
       "    }\n",
       "</style>\n",
       "<table border=\"1\" class=\"dataframe\">\n",
       "  <thead>\n",
       "    <tr style=\"text-align: right;\">\n",
       "      <th></th>\n",
       "      <th>GDP</th>\n",
       "      <th>CONSUMPTION</th>\n",
       "    </tr>\n",
       "  </thead>\n",
       "  <tbody>\n",
       "    <tr>\n",
       "      <th>1</th>\n",
       "      <td>NaN</td>\n",
       "      <td>NaN</td>\n",
       "    </tr>\n",
       "    <tr>\n",
       "      <th>2</th>\n",
       "      <td>0.104573</td>\n",
       "      <td>0.104573</td>\n",
       "    </tr>\n",
       "    <tr>\n",
       "      <th>3</th>\n",
       "      <td>0.107073</td>\n",
       "      <td>0.107073</td>\n",
       "    </tr>\n",
       "    <tr>\n",
       "      <th>4</th>\n",
       "      <td>0.109533</td>\n",
       "      <td>0.109533</td>\n",
       "    </tr>\n",
       "    <tr>\n",
       "      <th>5</th>\n",
       "      <td>0.111952</td>\n",
       "      <td>0.111952</td>\n",
       "    </tr>\n",
       "    <tr>\n",
       "      <th>...</th>\n",
       "      <td>...</td>\n",
       "      <td>...</td>\n",
       "    </tr>\n",
       "    <tr>\n",
       "      <th>295</th>\n",
       "      <td>0.200005</td>\n",
       "      <td>0.200005</td>\n",
       "    </tr>\n",
       "    <tr>\n",
       "      <th>296</th>\n",
       "      <td>0.200005</td>\n",
       "      <td>0.200005</td>\n",
       "    </tr>\n",
       "    <tr>\n",
       "      <th>297</th>\n",
       "      <td>0.200005</td>\n",
       "      <td>0.200005</td>\n",
       "    </tr>\n",
       "    <tr>\n",
       "      <th>298</th>\n",
       "      <td>0.200005</td>\n",
       "      <td>0.200005</td>\n",
       "    </tr>\n",
       "    <tr>\n",
       "      <th>299</th>\n",
       "      <td>0.200005</td>\n",
       "      <td>0.200005</td>\n",
       "    </tr>\n",
       "  </tbody>\n",
       "</table>\n",
       "<p>299 rows × 2 columns</p>\n",
       "</div>"
      ],
      "text/plain": [
       "          GDP  CONSUMPTION\n",
       "1         NaN          NaN\n",
       "2    0.104573     0.104573\n",
       "3    0.107073     0.107073\n",
       "4    0.109533     0.109533\n",
       "5    0.111952     0.111952\n",
       "..        ...          ...\n",
       "295  0.200005     0.200005\n",
       "296  0.200005     0.200005\n",
       "297  0.200005     0.200005\n",
       "298  0.200005     0.200005\n",
       "299  0.200005     0.200005\n",
       "\n",
       "[299 rows x 2 columns]"
      ]
     },
     "execution_count": 28,
     "metadata": {},
     "output_type": "execute_result"
    }
   ],
   "source": [
    "msolow['GDP CONSUMPTION'].difpct.mul100.df"
   ]
  },
  {
   "cell_type": "markdown",
   "id": "75863c75",
   "metadata": {},
   "source": [
    "### Interactive display of impacts\n",
    "\n",
    "When working within Jupyter notebook the dif command will produce (without the .df termination) will generate a widget with the results expressed as level differences, percent differences, differences in the growth rate -- both graphically and in table form.\n",
    "\n",
    "Please consult [here]() for a fuller presentation of the display routines built into ```modelflfow```."
   ]
  },
  {
   "cell_type": "code",
   "execution_count": 30,
   "id": "ea5c0eee",
   "metadata": {},
   "outputs": [
    {
     "data": {
      "application/vnd.jupyter.widget-view+json": {
       "model_id": "fdbe2a63597c4f2b83bcf78d20960d7d",
       "version_major": 2,
       "version_minor": 0
      },
      "text/plain": [
       "Tab(children=(Tab(children=(HTML(value='<?xml version=\"1.0\" encoding=\"utf-8\" standalone=\"no\"?>\\n<!DOCTYPE svg …"
      ]
     },
     "metadata": {},
     "output_type": "display_data"
    },
    {
     "data": {
      "text/html": [],
      "text/plain": []
     },
     "execution_count": 30,
     "metadata": {},
     "output_type": "execute_result"
    }
   ],
   "source": [
    "msolow['GDP CONSUMPTION'].dif\n"
   ]
  },
  {
   "cell_type": "code",
   "execution_count": null,
   "id": "92124f3a",
   "metadata": {},
   "outputs": [],
   "source": []
  }
 ],
 "metadata": {
  "celltoolbar": "Edit Metadata",
  "hide_input": false,
  "kernelspec": {
   "display_name": "Python 3 (ipykernel)",
   "language": "python",
   "name": "python3"
  },
  "language_info": {
   "codemirror_mode": {
    "name": "ipython",
    "version": 3
   },
   "file_extension": ".py",
   "mimetype": "text/x-python",
   "name": "python",
   "nbconvert_exporter": "python",
   "pygments_lexer": "ipython3",
   "version": "3.9.12"
  },
  "toc": {
   "base_numbering": 1,
   "nav_menu": {},
   "number_sections": true,
   "sideBar": true,
   "skip_h1_title": false,
   "title_cell": "Table of Contents",
   "title_sidebar": "Contents",
   "toc_cell": false,
   "toc_position": {
    "height": "calc(100% - 180px)",
    "left": "10px",
    "top": "150px",
    "width": "211.875px"
   },
   "toc_section_display": true,
   "toc_window_display": false
  },
  "varInspector": {
   "cols": {
    "lenName": 16,
    "lenType": 16,
    "lenVar": 40
   },
   "kernels_config": {
    "python": {
     "delete_cmd_postfix": "",
     "delete_cmd_prefix": "del ",
     "library": "var_list.py",
     "varRefreshCmd": "print(var_dic_list())"
    },
    "r": {
     "delete_cmd_postfix": ") ",
     "delete_cmd_prefix": "rm(",
     "library": "var_list.r",
     "varRefreshCmd": "cat(var_dic_list()) "
    }
   },
   "types_to_exclude": [
    "module",
    "function",
    "builtin_function_or_method",
    "instance",
    "_Feature"
   ],
   "window_display": false
  }
 },
 "nbformat": 4,
 "nbformat_minor": 5
}
