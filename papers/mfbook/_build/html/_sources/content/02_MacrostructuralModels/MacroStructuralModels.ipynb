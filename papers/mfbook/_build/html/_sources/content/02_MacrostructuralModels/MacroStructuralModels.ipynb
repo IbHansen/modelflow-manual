{
 "cells": [
  {
   "cell_type": "markdown",
   "id": "9b36535d",
   "metadata": {},
   "source": [
    "# Macrostructural models\n",
    "\n",
    "The economics profession uses a wide range of models for different purposes.  Macro-structural models (also known as semi-structural or Macro-econometric models) are a class of models that seek to summarize the most important interconnections and determinants of economic activity in an economy. Computable General Equilibrium (CGE), and Dynamic Stochastic General Equilibrium (DSGE) models are other classes of models that also seek, using somewhat different methodologies, to capture the main economic channels by which the actions of agents (firms, households, governments) interact and help determine the structure, level and rate of growth of economic activity in an economy. \n",
    "\n",
    "Olivier Blanchard, former Chief Economist at the International Monetary Fund, in a series of articles published between 2016 and 2018 that were summarized in {cite:t}`blanchard_future_2018`, lays out his views on the relative strengths and weaknesses of each of these systems, concluding that each has a role to play in helping economists analyze the macro-economy. Typically, organizations, including the World Bank, use all of these tools, privileging one or the other for specific purposes. Macrostructural models like the MFMod framework are widely used by Central Banks, Ministries of Finance; and professional forecasters both for the purposes of generating forecasts and policy analysis. \n",
    "\n",
    "## A system of equations\n",
    "Mathematically, macro-structural models are a system of equations comprised of two kinds of equations and three kinds of variables. \n",
    "\n",
    "**Types of variables in macro-structural models**\n",
    "\n",
    "* ```Identities``` are variables that are determined by a well defined accounting rule that always holds. The famous GDP Identity Y=C+I+G+(X-M) is one such identity, that indicates that GDP at market prices is definitionally equal to Consumption plus Investment plus Government spending plus Exports less Imports.\n",
    "* ```Behavioural``` variables are determined by equations that typically attempt to summarize an economic (vs accounting) relationship. Thus, the equation that says Real Consumption = f(Disposable Income,the price level, and animal spirits) is a behavioural equation -- where the relationship is drawn from economic theory. Because these equations do not fully explain the variation in the dependent variable and the sensitivities of variables to the changes in other variables are uncertain, these equations and their parameters are  typically estimated econometrically and are subject to error.\n",
    "* ```Exogenous``` variables are not determined by the model. Typically there are set either by assumption or from data external to the model.  For an individual country model, the exogenous variables would often include the global price of crude oil  because the level of activity of the economy itself is unlikely to affect the world price of oil.\n",
    "\n",
    "In a fully general form it can be written as:\n",
    "\n"
   ]
  },
  {
   "cell_type": "markdown",
   "id": "1edfd87e",
   "metadata": {},
   "source": [
    "```{warning}\n",
    "IB: function names changed some typoes\n",
    "\n",
    "```"
   ]
  },
  {
   "cell_type": "markdown",
   "id": "d0d32a7d",
   "metadata": {},
   "source": [
    "\\begin{align*}\n",
    "y_t^1  &=  f^1(y_{t+u}^1...,y_{t+u}^n...,y_t^2...,y_{t}^n...y_{t-r}^1...,y_{t-r}^n,x_t^1...x_{t}^k,...x_{t-s}^1...,x_{t-s}^k) \\\\\n",
    "y_t^2  &=  f^2(y_{t+u}^1...,y_{t+u}^n...,y_t^1...,y_{t}^n...y_{t-r}^1...,y_{t-r}^n,x_t^1...x_{t}^k,...x_{t-s}^1...,x_{t-s}^k) \\\\\n",
    "\\vdots \\\\\n",
    "y_t^n  &=  f^n(y_{t+u}^1...,y_{t+u}^n...,y_t^1...,y_{t}^{n-1}...y_{t-r}^1...,y_{t-r}^n,x_t^1...x_{t}^r,x..._{t-s}^1...,x_{t-s}^k)\n",
    "\\end{align*}\n",
    "\n",
    "where $ y_t^1 $ is one of n endogenous variables and $x_t^1$ is an exogenous variable and there are as many equations as there are unknown (endogenous variables).\n",
    "\n",
    "Substituting the variable mnemonics Y, C, I, G, X, M for the simple model the above can be rewritten as as a system of 6 equations in 6 unknowns:\n",
    "\n",
    "\\begin{align*}\n",
    "Y_t  &=  C_t+I_t+G_t+ (X_t-M_t) \\\\\n",
    "C_t &= c_t(C_{t-1},C_{t-2},I_t,G_t,X_t,M_t,P_t)\\\\\n",
    "I_t &= i_t(I_{t-1},I_{t-2},C_t,G_t,X_t,M_t,P_t)\\\\\n",
    "G_t &= g_t(G_{t-1},G_{t-2},C_t,I_t,X_t,M_t,P_t)\\\\\n",
    "X_t &= x_t(X_{t-1},X_{t-2},C_t,I_t,G_t,M_t,P_t,P^f_t)\\\\\n",
    "M_t &= m_t(M_{t-1},M_{t-2},C_t,I_t,G_t,X_t,P_t,P^f_t)\n",
    "\\end{align*}\n",
    "\n",
    "and where $P_t, P^f_t$ (domestic and foreign prices, respectively) are exogenous in this simple model. "
   ]
  },
  {
   "cell_type": "code",
   "execution_count": null,
   "id": "1e55745b",
   "metadata": {},
   "outputs": [],
   "source": []
  }
 ],
 "metadata": {
  "hide_input": false,
  "kernelspec": {
   "display_name": "Python 3 (ipykernel)",
   "language": "python",
   "name": "python3"
  },
  "language_info": {
   "codemirror_mode": {
    "name": "ipython",
    "version": 3
   },
   "file_extension": ".py",
   "mimetype": "text/x-python",
   "name": "python",
   "nbconvert_exporter": "python",
   "pygments_lexer": "ipython3",
   "version": "3.10.11"
  },
  "toc": {
   "base_numbering": 1,
   "nav_menu": {},
   "number_sections": true,
   "sideBar": true,
   "skip_h1_title": false,
   "title_cell": "Table of Contents",
   "title_sidebar": "Contents",
   "toc_cell": false,
   "toc_position": {},
   "toc_section_display": true,
   "toc_window_display": false
  },
  "varInspector": {
   "cols": {
    "lenName": 16,
    "lenType": 16,
    "lenVar": 40
   },
   "kernels_config": {
    "python": {
     "delete_cmd_postfix": "",
     "delete_cmd_prefix": "del ",
     "library": "var_list.py",
     "varRefreshCmd": "print(var_dic_list())"
    },
    "r": {
     "delete_cmd_postfix": ") ",
     "delete_cmd_prefix": "rm(",
     "library": "var_list.r",
     "varRefreshCmd": "cat(var_dic_list()) "
    }
   },
   "types_to_exclude": [
    "module",
    "function",
    "builtin_function_or_method",
    "instance",
    "_Feature"
   ],
   "window_display": false
  }
 },
 "nbformat": 4,
 "nbformat_minor": 5
}
