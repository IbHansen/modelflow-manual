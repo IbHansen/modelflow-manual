{
 "cells": [
  {
   "cell_type": "markdown",
   "id": "9b36535d",
   "metadata": {},
   "source": [
    "# Macrostructural models\n",
    "\n",
    "The economics profession uses a wide range of models for different purposes.  Macro-structural models (also known as semi-structural or Macro-econometric models) are a class of models that seek to summarize the most important interconnections and determinants of an economy. Computable General Equilibrium (CGE), and Dynamic Stochastic General Equilibrium (DSGE) models are other classes of models that also seek, using somewhat different methodologies, to capture the main economic channels by which the actions of agents (firms, households, governments) interact and help determine the structure, level and rate of growth of economic activity in an economy. Olivier Blanchard, former Chief Economist at the International Monetary Fund, in a series of articles published between 2016 and 2018 that were summarized in {cite:author}`blanchard_future_2018`. In these articles he lays out his views on the relative strengths and weaknesses of each of these systems, concluding that each has a role to play in helping economists analyze the macro-economy.\n",
    "\n",
    "Typically organizations, including the World Bank, use all of these tools, privileging one or the other for specific purposes. Macrostructural models like the MFMod framework are widely used by Central Banks, Ministries of Finance; and professional forecasters both for the purposes of generating forecasts and policy analysis. \n",
    "\n",
    "## A system of equations\n",
    "Macro-structural models are a system of equations comprised of two kinds of equations and three kinds of variables. \n",
    "\n",
    "* ```Identities``` are variables that are determined by a well defined accounting rule that always holds. The famous GDP Identity Y=C+I+G+(X-M) is one such identity, that indicates that GDP at market prices is definitionally equal to Consumption plus Investment plus Government spending plus Exports less Imports.\n",
    "* ```Behavioural``` variables are determined by equations that typically attempt to summarize an economic (vs accounting relationship). Thus the equation that says real C = f(Disposable Income,the price level, and animal spirits) is a behavioural equation -- where the relationship is drawn from economic theory. Because these equations do not fully explain the variation in the dependent variable and typically estimated econometrically and are subject to error.\n",
    "* ```Exogenous``` variables are not determined by the model. Typically there are set either by assumption or from data external to the model.  For an individual country model, would often be set as an exogenous variable because the level of activity of the economy itself is unlikely to affect the world price of oil.\n",
    "\n",
    "In a fully general form it can be written as:\n",
    "\n"
   ]
  },
  {
   "cell_type": "markdown",
   "id": "d0d32a7d",
   "metadata": {},
   "source": [
    "\\begin{align*}\n",
    "y_t^1  &=  f^1(y_{t+u}^1...,y_{t+u}^n...,y_t^2...,y_{t}^n...y_{t-r}^1...,y_{t-r}^n,x_t^1...x_{t}^k,...x_{t-s}^1...,x_{t-s}^k) \\\\\n",
    "y_t^2  &=  f^2(y_{t+u}^1...,y_{t+u}^n...,y_t^1...,y_{t}^n...y_{t-r}^1...,y_{t-r}^n,x_t^1...x_{t}^k,...x_{t-s}^1...,x_{t-s}^k) \\\\\n",
    "\\vdots \\\\\n",
    "y_t^n  &=  f^n(y_{t+u}^1...,y_{t+u}^n...,y_t^1...,y_{t}^{n-1}...y_{t-r}^1...,y_{t-r}^n,x_t^1...x_{t}^r,x..._{t-s}^1...,x_{t-s}^k)\n",
    "\\end{align*}\n",
    "\n",
    "where $ y_t^1 $ is one of n endogenous variables and $x_t^1$ is an exogenous variable and there are as many equations as there are unknown (endogenous variables).\n",
    "\n",
    "Rewritten for our GDP identity and substituting the variable mnemonics Y,C,I,G,X,M we could write a simple model as a system of 6 equations in 6 unknowns:\n",
    "\n",
    "\\begin{align*}\n",
    "Y_t  &=  C_t+I_t+G+t+ (X_t-M_t) \\\\\n",
    "C_t &= c_t(C_{t-1},C_{t-2},I_t,G_t,X_t,M_t,P_t)\\\\\n",
    "I_t &= c_t(I_{t-1},I_{t-2},C_t,G_t,X_t,M_t,P_t)\\\\\n",
    "G_t &= c_t(G_{t-1},G_{t-2},C_t,I_t,X_t,M_t,P_t)\\\\\n",
    "X_t &= c_t(X_{t-1},X_{t-2},C_t,I_t,G_t,M_t,P_t,P^f_t)\\\\\n",
    "M_t &= c_t(M_{t-1},M_{t-2},C_t,I_t,G_t,X_t,P_t,P^f_t)\n",
    "\\end{align*}\n",
    "\n",
    "and where $P_t, P^f_t$ domestic and foreign prices respectively are exogenous in this simple model. "
   ]
  },
  {
   "cell_type": "markdown",
   "id": "b19e3123",
   "metadata": {},
   "source": [
    "## Behavioural equations\n",
    "\n",
    "Behavioural equations in a macrostructural equation are typically estimated. In MFMod they are often expressed in Error Correction form. In this approach the behaviour of the dependent variable (say Consumption) is assumed to be the joint product of a long-term economic relationship -- usually drawn from economic theory, and various short-run influences which can be more ad hoc in nature. The ECM formulation has the advantage of tieing down the long run behavior of the economy to economic theory, while allowing its short-run dynamics (where short-run can in some cases be 5 or more years) to reflect the way the economy actually operates (not how textbooks say it should behave).\n",
    "\n",
    "For the consumption equation, utility maximization subject to a budget constraint might lead us to define a long run relationship like this economic theory might lead us to something like this:\n",
    "\n",
    "\n",
    "$$ C_t = \\alpha + \\beta{{rK_t + WB_{t} + GTR_{t}}\\over {PC_t}}-\\tau(r_t-\\dot{p}_t) +\\eta_t$$\n",
    "\n",
    "Where in the long run consumption ($C_t$) for a given interest rate is a stable share of real disposable income, implying a constant savings rate.  If interest rates rise then consumption as a share of disposable income declines (the savings rate rises). \n",
    "\n",
    "Replacing the expression following $\\beta$ with $Y^{disp}_t$, the above simplifies and can be rewritten as:\n",
    "\n",
    "$$ C_t= (\\alpha + \\beta{Y^{disp}_t}-\\tau(r_t-\\dot{p}_t))$$\n",
    "\n",
    "\n",
    "and dividing both sides by $Y^{disp}_t$ gives:\n",
    "\n",
    "$$\\frac{C_t}{Y^{disp}_t} = \\beta -\\tau\\frac{r_t-\\dot{p}_t}{Y^{disp}_t}$$\n",
    "\n",
    "or in logarithms\n",
    "\n",
    "$${c_{t-1}}-{y^{disp}_{t-1}} - ln(\\beta) +\\tau ln(r_{t-1}-\\dot{p}_{t-1} -{y^{disp}_{t-1}})=0$$\n",
    "\n",
    "we can then write our ECM equation as\n",
    "\n",
    "$$ \\Delta c_t = -\\lambda(\\eta_{t-1})+ SR_t $$\n",
    "\n",
    "Substituting the LR expression for the error term in t-1 we get \n",
    "\n",
    "$$ \\Delta c_t = -\\lambda({c_{t-1}}-{y^{disp}_{t-1}} - ln(\\beta) +\\tau ln(r_{t-1}-\\dot{p}_{t-1} -{y^{disp}_{t-1}}))+ \\beta_{SR1}{y^{disp}_{t}} - \\beta_{SR2}ln(r_{t}-\\dot{p}_{t} -{y^{disp}_{t}})  $$\n",
    "\n",
    "where $\\beta_{SR1}$ is the short run elasticity of consumption to disposable income; $\\beta_{SR2}$ is the short run real interest rate elasticity of consumption and $\\lambda$ is the speed of adjustment (the rate at which past errors are corrected in each period).\n",
    "\n",
    "{cite:author}`burns_world_2019` provides more complete derivations of the functional forms for most of the behavioural equations in MFmod.\n",
    "\n",
    "\n",
    "\n",
    "\n"
   ]
  }
 ],
 "metadata": {
  "hide_input": false,
  "kernelspec": {
   "display_name": "Python 3 (ipykernel)",
   "language": "python",
   "name": "python3"
  },
  "language_info": {
   "codemirror_mode": {
    "name": "ipython",
    "version": 3
   },
   "file_extension": ".py",
   "mimetype": "text/x-python",
   "name": "python",
   "nbconvert_exporter": "python",
   "pygments_lexer": "ipython3",
   "version": "3.9.12"
  },
  "toc": {
   "base_numbering": 1,
   "nav_menu": {},
   "number_sections": true,
   "sideBar": true,
   "skip_h1_title": false,
   "title_cell": "Table of Contents",
   "title_sidebar": "Contents",
   "toc_cell": false,
   "toc_position": {},
   "toc_section_display": true,
   "toc_window_display": false
  }
 },
 "nbformat": 4,
 "nbformat_minor": 5
}
