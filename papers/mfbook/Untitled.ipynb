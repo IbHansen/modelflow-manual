{
 "cells": [
  {
   "cell_type": "markdown",
   "id": "2132ca15",
   "metadata": {},
   "source": [
    "# Papers/ModelFlow-todo.md"
   ]
  },
  {
   "cell_type": "markdown",
   "id": "581c6e14",
   "metadata": {},
   "source": [
    "##\tRevise accessing world bank model chapter\n",
    "- [ ]\tTemporarily make models available on WB site (done) (AB)\n",
    "- [x] ~Communicate uRl to ib https://github.com/worldbank/MFMod-ModelFlow (done) (AB)~\n",
    "- [ ]\tReview content of JNs and sites in general (IB)\n",
    "- [ ]\tAdd additionalmodels (AB)"
   ]
  },
  {
   "cell_type": "markdown",
   "id": "89129fb9",
   "metadata": {},
   "source": [
    "## Revise Modelflow Methods Reference\n",
    "- [ ]\tThink through structure (mirror book?)\n",
    "- [ ]\tMake the topics more coherent in design / length and what they do\n",
    "- [ ]\tIdentify things that absolutely need to be there but are not\n",
    "- [ ]\tDecide whether or not to put this section on line only (living document)"
   ]
  },
  {
   "cell_type": "markdown",
   "id": "5c6dd1c8",
   "metadata": {},
   "source": [
    "##\tClean up Index\n",
    "- [ ]\t\tEnsure double entries for things like method – one that points to text and theotehr to code. Example <br>\n",
    "-- Pandas<br>\n",
    "    -- .loc() method<br>\n",
    "-- .loc() method<br>\n",
    "-- Specifying a specific data point or data range\n",
    "- [ ]\tFix problems (back ticks)\n",
    "- [ ]\t\tSome items like .upd options should be made two level entries"
   ]
  },
  {
   "cell_type": "markdown",
   "id": "fd83dcc5",
   "metadata": {},
   "source": [
    "##\tOrganize external review\n",
    "- [ ]\t\tDave Turner (OECD)\n",
    "- [ ]\t\tJean-Louis Brillet (INSEE)\n",
    "- [ ]\t\tJacob K????\n",
    "- [ ]\t\tFlint Brayton\n",
    "- [ ]\tothers"
   ]
  },
  {
   "cell_type": "code",
   "execution_count": null,
   "id": "bea0049e",
   "metadata": {},
   "outputs": [],
   "source": []
  },
  {
   "cell_type": "code",
   "execution_count": null,
   "id": "9ec8d582",
   "metadata": {},
   "outputs": [],
   "source": []
  }
 ],
 "metadata": {
  "hide_input": false,
  "kernelspec": {
   "display_name": "Python 3 (ipykernel)",
   "language": "python",
   "name": "python3"
  },
  "language_info": {
   "codemirror_mode": {
    "name": "ipython",
    "version": 3
   },
   "file_extension": ".py",
   "mimetype": "text/x-python",
   "name": "python",
   "nbconvert_exporter": "python",
   "pygments_lexer": "ipython3",
   "version": "3.10.11"
  },
  "nbTranslate": {
   "displayLangs": [
    "*"
   ],
   "hotkey": "alt-t",
   "langInMainMenu": true,
   "sourceLang": "en",
   "targetLang": "fr",
   "useGoogleTranslate": true
  },
  "toc": {
   "base_numbering": 1,
   "nav_menu": {},
   "number_sections": true,
   "sideBar": true,
   "skip_h1_title": false,
   "title_cell": "Table of Contents",
   "title_sidebar": "Contents",
   "toc_cell": false,
   "toc_position": {},
   "toc_section_display": true,
   "toc_window_display": false
  }
 },
 "nbformat": 4,
 "nbformat_minor": 5
}
