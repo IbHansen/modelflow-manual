{
 "cells": [
  {
   "cell_type": "markdown",
   "id": "f8b75d05",
   "metadata": {},
   "source": [
    "# ModelFlow-todo Jan 2025"
   ]
  },
  {
   "cell_type": "markdown",
   "id": "c171546d",
   "metadata": {},
   "source": [
    "## onboard all models\n",
    "In  https://github.com/IbHansen/modelflow-manual-raw-models \n",
    " - a dictionary for each country. \n",
    " - For each country a wf1 placed in the wfs folder\n",
    " - An `onboard-\\<country>.ipynb`onboards the wf1. file and creates a data/\\<country>.pcim file \n",
    " - `mastercontrol.ipynb` executes all onboard notebooks in order to ensure all pcim files are created using the same (latest) modelflow version. \n",
    "\n",
    "The `pcim`files has to be copied to https://github.com/AndBurns/WBGModels. And placed in a folder for each country. This is done by the nbutil.py file in WBGModels. "
   ]
  },
  {
   "cell_type": "markdown",
   "id": "1d29a8d0",
   "metadata": {},
   "source": [
    "### Status\n",
    "Onboard all models to https://github.com/IbHansen/modelflow-manual-raw-models \n",
    "\n",
    "Done models: \n",
    "| Country | Complications         |\n",
    "|---------|------------------------|\n",
    "| BOL     |Some identities are not, so the equations has to be redefined with adjustment elements                    |\n",
    "| HRV     |Quarterly model. Descriptions with some html decorations. in some pandas an issue with non float data                      |\n",
    "| IDN     |No issues               |\n",
    "| IRQ     |No issues, the onboard is generic, for use with any country                       |\n",
    "| NPL     |Two versions, use the macro climate version                      |\n",
    "| PAK     |repackage of the old onboarded                        |\n",
    "| TUR     |Special handeling of a vector of parameters. Cut cut dataframe from 2200 to 2050                        |\n",
    "\n",
    "Missing models: \n",
    "| Country | Status         |\n",
    "|---------|------------------------|\n",
    "| UGA     |No wf1 file yet. |"
   ]
  },
  {
   "cell_type": "markdown",
   "id": "01fd7c7b",
   "metadata": {},
   "source": [
    "### Country Checklist\n",
    "\n",
    "- [x] **Indonesia**\n",
    "  - [x] WF1 Provided\n",
    "  - [x] WF1 Onboarded \n",
    "  - [x] PCIM to WBGModels\n",
    "  - [ ] Check Shocks Impact (AB)\n",
    "  - [ ] Standard Experiments (AB)\n",
    "    - [ ] Add a climate change scenario to standard shock (Carbon tax) (AB)\n",
    "\n",
    "- [ ] **Pakistan**\n",
    "  - [x] WF1 Provided\n",
    "  - [x] WF1 Onboarded\n",
    "  - [x] PCIM to WBGModels\n",
    "  - [ ] Check Shocks Impact (AB)\n",
    "    - [ ] Check the shocks, some are not conforming (using `_1`) (AB)\n",
    "  - [ ] Standard Experiments (AB)\n",
    "\n",
    "- [ ] **Uganda (Climate Inclusive of Natural Capital)**\n",
    "  - [ ] WF1 Provided (AB)\n",
    "  - [ ] WF1 Onboarded\n",
    "  - [ ] PCIM to WBGModels\n",
    "  - [ ] Check Shocks Impact (AB)\n",
    "  - [ ] Standard Experiments (AB)\n",
    "    - [ ] Add focus on natural capital (AB)\n",
    "\n",
    "- [ ] **Bolivia (Normal)**\n",
    "  - [x] WF1 Provided (AB)\n",
    "  - [x] WF1 Onboarded (IB)\n",
    "  - [x] PCIM to WBGModels\n",
    "  - [ ] Check Shocks Impact (AB)\n",
    "  - [ ] Standard Experiments (AB)\n",
    "\n",
    "- [ ] **Iraq (Normal)**\n",
    "  - [x] WF1 Provided (AB)\n",
    "  - [x] WF1 Onboarded (IB)\n",
    "  - [x] PCIM to WBGModels\n",
    "  - [ ] Check Shocks Impact (AB)\n",
    "  - [ ] Standard Experiments (AB)\n",
    "\n",
    "- [ ] **Croatia (Quarterly)**\n",
    "  - [x] WF1 Provided\n",
    "  - [x] WF1 Onboarded\n",
    "  - [x] PCIM to WBGModels\n",
    "  - [ ] Check Shocks Impact (AB)\n",
    "  - [ ] Standard Experiments (AB)\n",
    "\n",
    "- [ ] **Türkiye**\n",
    "  - [x] WF1 Provided\n",
    "  - [x] WF1 Onboarded\n",
    "  - [x] PCIM to WBGModels\n",
    "  - [ ] Check Shocks Impact\n",
    "  - [ ] Standard Experiments"
   ]
  },
  {
   "cell_type": "markdown",
   "id": "ddfff4b4",
   "metadata": {},
   "source": [
    "##\tRevise accessing world bank model chapter\n",
    "- - [ ] sync https://github.com/AndBurns/WBGModels with  https://github.com/worldbank/MFMod-ModelFlow"
   ]
  },
  {
   "cell_type": "markdown",
   "id": "521cb480",
   "metadata": {},
   "source": [
    "##\tWorld Bank models chapter and support site\n",
    "\n",
    "\n",
    "### onboarding of models \n",
    "\n",
    "#### Process\n",
    "In  https://github.com/IbHansen/modelflow-manual-raw-models \n",
    " - a dictionary for each country. \n",
    " - For each country a wf1 placed in the wfs folder\n",
    " - An `onboard-\\<country>.ipynb`onboards the wf1. file and creates a data/\\<country>.pcim file \n",
    " - `mastercontrol.ipynb` executes all onboard notebooks in order to ensure all pcim files are created using the same (latest) modelflow version. \n",
    "\n",
    "The `pcim`files has to be copied to https://github.com/AndBurns/WBGModels. And placed in a folder for each country. This is done by the nbutil.py file in WBGModels.\n",
    "\n",
    "\n",
    "- - [ ] sync https://github.com/AndBurns/WBGModels with  https://github.com/worldbank/MFMod-ModelFlow\n",
    "- NB: the active development repository the the AndBurns version\n",
    "\n",
    "### Onboarding status\n",
    "Onboard all models to https://github.com/IbHansen/modelflow-manual-raw-models \n",
    "\n",
    "Done models: \n",
    "| Country | Complications         |\n",
    "|---------|------------------------|\n",
    "| BOL     |Some identities are not, so the equations has to be redefined with adjustment elements                    |\n",
    "| HRV     |Quarterly model. Descriptions with some html decorations. in some pandas an issue with non float data                      |\n",
    "| IDN     |No issues               |\n",
    "| IRQ     |No issues, the onboard is generic, for use with any country                       |\n",
    "| NPL     |Two versions, use the macro climate version                      |\n",
    "| PAK     |repackage of the old onboarded                        |\n",
    "| TUR     |Special handeling of a vector of parameters. Cut cut dataframe from 2200 to 2050                        |\n",
    "\n",
    "Missing models: \n",
    "| Country | Status         |\n",
    "|---------|------------------------|\n",
    "| UGA     |No wf1 file yet. |\n",
    "\n",
    "### WBGModel site status\n",
    "\n",
    "\n",
    "- [x] **Indonesia**\n",
    "  - [x] WF1 Provided\n",
    "  - [x] WF1 Onboarded \n",
    "  - [x] PCIM to WBGModels\n",
    "  - [ ] Check Shocks Impact (AB)\n",
    "  - [ ] Standard Experiments (AB)\n",
    "    - [ ] Add a climate change scenario to standard shock (Carbon tax) (AB)\n",
    "\n",
    "- [ ] **Pakistan**\n",
    "  - [x] WF1 Provided\n",
    "  - [x] WF1 Onboarded\n",
    "  - [x] PCIM to WBGModels\n",
    "  - [ ] Check Shocks Impact (AB)\n",
    "    - [ ] Check the shocks, some are not conforming (using `_1`) (AB)\n",
    "  - [ ] Standard Experiments (AB)\n",
    "\n",
    "- [ ] **Uganda (Climate Inclusive of Natural Capital)**\n",
    "  - [ ] WF1 Provided (AB)\n",
    "  - [ ] WF1 Onboarded\n",
    "  - [ ] PCIM to WBGModels\n",
    "  - [ ] Check Shocks Impact (AB)\n",
    "  - [ ] Standard Experiments (AB)\n",
    "    - [ ] Add focus on natural capital (AB)\n",
    "\n",
    "- [ ] **Bolivia (Normal)**\n",
    "  - [x] WF1 Provided (AB)\n",
    "  - [x] WF1 Onboarded (IB)\n",
    "  - [x] PCIM to WBGModels\n",
    "  - [ ] Check Shocks Impact (AB)\n",
    "  - [x] Standard Experiments (AB)\n",
    "\n",
    "- [ ] **Iraq (Normal)**\n",
    "  - [x] WF1 Provided (AB)\n",
    "  - [x] WF1 Onboarded (IB)\n",
    "  - [x] PCIM to WBGModels\n",
    "  - [ ] Check Shocks Impact (AB)\n",
    "  - [x] Standard Experiments (AB)\n",
    "\n",
    "- [ ] **Croatia (Quarterly)**\n",
    "  - [x] WF1 Provided\n",
    "  - [x] WF1 Onboarded\n",
    "  - [x] PCIM to WBGModels\n",
    "  - [ ] Check Shocks Impact (AB)\n",
    "  - [x] Standard Experiments (AB)\n",
    "\n",
    "- [ ] **Türkiye**\n",
    "  - [x] WF1 Provided\n",
    "  - [x] WF1 Onboarded\n",
    "  - [x] PCIM to WBGModels\n",
    "  - [ ] Check Shocks Impact\n",
    "  - [ ] Standard Experiments\n",
    "  \n",
    "\n",
    "  \n",
    "- [ ] Test adding World Bank site for documentation or in this repo?\n",
    "    - [ ] Generate html to local copy of WB repo (for easy sync to WB site)\n",
    "    - [ ] Hardcode the URL (https://github.com/worldbank/MFMod-ModelFlow) into ModelFlow when the models are in place (Ib)"
   ]
  },
  {
   "cell_type": "markdown",
   "id": "eaf5f302",
   "metadata": {},
   "source": [
    "## Revise Modelflow Methods Reference\n",
    "\n",
    "- [ ] Make the topics more coherent in design / length and what they do (AB)\n",
    "    - [ ] Check to see if happy with this (AB)\n",
    "- [ ] Identify things that absolutely need to be there but are not\n",
    "    - [ ] several descriptions seperated by |\n",
    "    \n",
    "- [ ] Decide whether or not to put this section on line only (living document)\n",
    "    - [ ] Possible how to move an eviews model into MF based on existing one\n",
    "\n"
   ]
  },
  {
   "cell_type": "markdown",
   "id": "c12b0ea9",
   "metadata": {},
   "source": [
    "## Clean up Index\n",
    "\n",
    "- [ ] Ensure double entries for things like method – one that points to text and the other to code. (Ib) Example <br>\n",
    "-- Pandas<br>\n",
    "    -- .loc() method<br>\n",
    "-- .loc() method<br>\n",
    "-- Specifying a specific data point or data range\n",
    "- [ ] Fix problems (back ticks)\n"
   ]
  },
  {
   "cell_type": "markdown",
   "id": "97ceaa68",
   "metadata": {},
   "source": [
    "## Test installation\n",
    "\n",
    "- [ ] Do we need to have book refer to one particular version of modelflow explicitly -- taht we will know will work with the book\n",
    "- [ ] have separate install instructions for updated versions\n",
    "    -  this is going to be necessary for the replication thingy anyway\n",
    "- [ ] One is with reviewers i.e. Lasse\n",
    "    - [ ] Add advice to update anaconda before install\n",
    "\n",
    "- [x] Test on Macintosh (Ib)\n",
    "    -[ ] Revise documentation to make clear how to get back to modelflow once installed on MAC\n",
    "    -[ ] Add MAC Latex advice\n",
    "    "
   ]
  },
  {
   "cell_type": "markdown",
   "id": "393534f3",
   "metadata": {},
   "source": [
    "##\tOrganize external review / commentators (AB)\n",
    "- [x] Dave Turner (OECD)\n",
    "- [x] Jean-Louis Brillet (INSEE)\n",
    "- [x] Jacob Gyntelberg\n",
    "- [x] Flint Brayton\n",
    "- [x] Lasse Tryde"
   ]
  },
  {
   "cell_type": "markdown",
   "id": "243202b2",
   "metadata": {},
   "source": [
    "# Deal with Feedback\n",
    "\n",
    "## Lasse\n",
    "- [ ] deal  with lasses text \n",
    "\n",
    "## Jacob\n",
    "- [ ] add a chapter on onboarding eviews files\n",
    "- [ ] add what are the questions issues which are done in this section / and book "
   ]
  },
  {
   "cell_type": "markdown",
   "id": "999a8023",
   "metadata": {},
   "source": [
    "## Finalize text\n",
    "- [ ] Make sure tables look good (latex)\n",
    "- [ ] Make sure there are no trailing outputs -- i,.e, places where we need to add ;\n",
    "- [ ] Ensure we don't have unhappy page breaks\n",
    "- [ ] Andrew review Report writing rewrite\n",
    "\n",
    "## Before submitting to Reproducibility lab\n",
    "- [ ] Make sure WB repo has the most recent version of documentation html\n",
    "\n"
   ]
  },
  {
   "cell_type": "markdown",
   "id": "d14f161a",
   "metadata": {},
   "source": [
    "## Locations: \n",
    " - onboarding: https://github.com/IbHansen/modelflow-manual-raw-models \n",
    " - Models: https://github.com/AndBurns/WBGModels\n",
    " - web manual: https://ibhansen.github.io/mfbook \n",
    " - modelflow source: https://github.com/IbHansen/Modelflow2"
   ]
  }
 ],
 "metadata": {
  "hide_input": false,
  "kernelspec": {
   "display_name": "Python 3 (ipykernel)",
   "language": "python",
   "name": "python3"
  },
  "language_info": {
   "codemirror_mode": {
    "name": "ipython",
    "version": 3
   },
   "file_extension": ".py",
   "mimetype": "text/x-python",
   "name": "python",
   "nbconvert_exporter": "python",
   "pygments_lexer": "ipython3",
   "version": "3.12.6"
  },
  "nbTranslate": {
   "displayLangs": [
    "*"
   ],
   "hotkey": "alt-t",
   "langInMainMenu": true,
   "sourceLang": "en",
   "targetLang": "fr",
   "useGoogleTranslate": true
  },
  "toc": {
   "base_numbering": 1,
   "nav_menu": {},
   "number_sections": true,
   "sideBar": true,
   "skip_h1_title": false,
   "title_cell": "Table of Contents",
   "title_sidebar": "Contents",
   "toc_cell": false,
   "toc_position": {},
   "toc_section_display": true,
   "toc_window_display": false
  },
  "varInspector": {
   "cols": {
    "lenName": 16,
    "lenType": 16,
    "lenVar": 40
   },
   "kernels_config": {
    "python": {
     "delete_cmd_postfix": "",
     "delete_cmd_prefix": "del ",
     "library": "var_list.py",
     "varRefreshCmd": "print(var_dic_list())"
    },
    "r": {
     "delete_cmd_postfix": ") ",
     "delete_cmd_prefix": "rm(",
     "library": "var_list.r",
     "varRefreshCmd": "cat(var_dic_list()) "
    }
   },
   "types_to_exclude": [
    "module",
    "function",
    "builtin_function_or_method",
    "instance",
    "_Feature"
   ],
   "window_display": false
  }
 },
 "nbformat": 4,
 "nbformat_minor": 5
}
