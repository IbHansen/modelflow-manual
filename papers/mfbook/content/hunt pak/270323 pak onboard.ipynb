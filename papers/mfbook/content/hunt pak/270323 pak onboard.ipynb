{
 "cells": [
  {
   "cell_type": "markdown",
   "id": "65f6c05f",
   "metadata": {},
   "source": [
    "# Onboard a model defined in a .wf1 file\n",
    "This notebook takes a .wf1 workfile and transform  it to a modelflow model.<br>\n",
    "\n",
    "The overall process is performed in a Dataclass named:**GrapWfModel**<br> \n",
    "Close study of this class can be rewarding, but is outside the need of most users.<br>\n",
    "The overall structure is: \n",
    " 1. Eviews is started and the wf1 (or wf2) file is loaded\n",
    "    -    Some transformations are performed on data.\n",
    "    -    The model is unlinked \n",
    "    -    The workspace is saved as a wf2 file. Same name with ```_modelflow appended```\n",
    " 5. Eviews is closed \n",
    " 6. The wf2 file is read as a json file. \n",
    " 7. Relevant objects are extracted. \n",
    " 7. The MFMSA variable is  extracted, to be saved in the dumpfile. \n",
    " 8. The equations are transformed and normalized to modelflow format and classified into identities and stochastic\n",
    " 9. Stochastic equations are enriched by add_factor and fixing terms (dummy + fixing value)  \n",
    " 9. For Stochastic equations new fitted variables are generated - without add add_factors and dummies.  \n",
    " 9. A model to generate fitted variables is created  \n",
    " 9. A model to generate add_factors is created. \n",
    " 9. A model encompassing the original equations, the model for fitted variables and for add_factors is created. \n",
    " 9. The data series and scalars are shoveled into a Pandas dataframe \n",
    "     - Some special series are generated as the expression can not be incorporated into modelflow model specifications\n",
    "     - The model for fitted values is simulated in the specified timespan\n",
    "     - The model for add_factors is simulated in the timespan set in MFMSA\n",
    " 10. The data descriptions are extracted into a dictionary. \n",
    "    - Data descriptions for dummies, fixed values, fitted values and add_factors are derived. \n",
    " 11. Now we have a model and a dataframe with all variables which are needed.\n",
    " b\n",
    "The GrapWfModel instance in general keeps most of the steps so the developer can inspect the the different steps.  \n"
   ]
  },
  {
   "cell_type": "markdown",
   "id": "55349107",
   "metadata": {},
   "source": [
    "## Prerequisites  \n",
    "\n",
    "- Eviews version 12 \n",
    "- The python library: ```pyevies```  \n"
   ]
  },
  {
   "cell_type": "code",
   "execution_count": 1,
   "id": "c7be5a48",
   "metadata": {},
   "outputs": [],
   "source": [
    "%matplotlib Notebook"
   ]
  },
  {
   "cell_type": "code",
   "execution_count": 2,
   "id": "c82074e9",
   "metadata": {},
   "outputs": [
    {
     "data": {
      "text/html": [
       "\n",
       "        <style>\n",
       "            div#notebook-container    { width: 95%; }\n",
       "            div#menubar-container     { width: 65%; }\n",
       "            div#maintoolbar-container { width: 99%; }\n",
       "        </style>\n",
       "        "
      ],
      "text/plain": [
       "<IPython.core.display.HTML object>"
      ]
     },
     "metadata": {},
     "output_type": "display_data"
    }
   ],
   "source": [
    "from pathlib import Path\n",
    "\n",
    "from modelclass import model\n",
    "from modelgrabwf2 import GrabWfModel\n",
    "model.widescreen()"
   ]
  },
  {
   "cell_type": "markdown",
   "id": "15e120bf",
   "metadata": {},
   "source": [
    "## Model specific transformations \n",
    "Not all Eviews equations have a direct counterpart in modelflow.<br>\n",
    "To handle that two types of transformations can be provided for a specific model. \n",
    "- **eviews_run_lines** which specifies a list of Eviews command lines to be run. Typical to make some transformation of data which is not possible in modelflow. \n",
    "- **country_trans** which specifies a list of replacements to be done to the Eviews formulas before they are processed to modelflow. Typical to use the transformation mentioned above.  "
   ]
  },
  {
   "cell_type": "code",
   "execution_count": 3,
   "id": "12428027",
   "metadata": {},
   "outputs": [],
   "source": [
    "filename = Path('paksolncons.wf1')\n",
    "modelname = 'pak'"
   ]
  },
  {
   "cell_type": "markdown",
   "id": "727f2214",
   "metadata": {},
   "source": [
    "## Process the model"
   ]
  },
  {
   "cell_type": "code",
   "execution_count": 4,
   "id": "79985f25",
   "metadata": {},
   "outputs": [
    {
     "name": "stdout",
     "output_type": "stream",
     "text": [
      "\n",
      "Reading M:\\modelflow\\modelflow-manual\\papers\\mfbook\\content\\EViews\\paksolncons.wf1\n",
      "Assummed model name: PAK\n",
      "The model: PAK is unlinked \n",
      "Writing C:\\Users\\wb268970\\OneDrive - WBG\\Ldrive\\MFM\\modelflow\\modelflow-manual\\papers\\mfbook\\content\\EViews\\paksolncons_modelflow.wf2\n",
      "Model name: PAK\n",
      "\n",
      "Processing the model:PAK\n"
     ]
    },
    {
     "name": "stderr",
     "output_type": "stream",
     "text": [
      "Normalizing model: 100%|███████████████████████████████████████████████████████████████████████████████████████|303/303"
     ]
    },
    {
     "name": "stdout",
     "output_type": "stream",
     "text": [
      "Calculation of add factors for PAK calculated  \n"
     ]
    },
    {
     "name": "stderr",
     "output_type": "stream",
     "text": [
      "\n"
     ]
    }
   ],
   "source": [
    "pak_trans = lambda input : input.replace('- 01*D(','-1*D(')                \n",
    "\n",
    "all_about_pak = GrabWfModel(filename, \n",
    "                    country_trans = pak_trans,        \n",
    "                    make_fitted = False,       # If we want to calculate a fittet value for stocastic eq \n",
    "                    do_add_factor_calc=True,   # Stocastic equations are argumented by add factor \n",
    "                    start = 2020,\n",
    "                    end = 2100, \n",
    "                    fit_start = 2000,          # Start of calculation of fittet model in baseline \n",
    "                    fit_end   = 2030           # end of calc for fittted model, if None taken from mdmfsa options  \n",
    "                    ) "
   ]
  },
  {
   "cell_type": "code",
   "execution_count": 5,
   "id": "1cb70fbf",
   "metadata": {},
   "outputs": [
    {
     "data": {
      "text/plain": [
       "''"
      ]
     },
     "execution_count": 5,
     "metadata": {},
     "output_type": "execute_result"
    }
   ],
   "source": [
    "all_about_pak.mfmsa_options"
   ]
  },
  {
   "cell_type": "markdown",
   "id": "38c42e1f",
   "metadata": {},
   "source": [
    "## Check if each equation on its own result in the values provided. \n",
    "aka: residual check <br> \n",
    "If they are not pretty close, something is very wrong. "
   ]
  },
  {
   "cell_type": "code",
   "execution_count": 28,
   "id": "c6dd4d13",
   "metadata": {},
   "outputs": [
    {
     "name": "stdout",
     "output_type": "stream",
     "text": [
      "PAK calculated  \n",
      "\n",
      "Chekking residuals for PAK 2020 to 2100\n",
      "\n",
      "Variable with residuals above threshold\n",
      "PAKNVCOLPRODKN              , Max difference:     0.00123121 Max Pct    0.0000045254% It is number    24 in the solveorder and error number 1\n",
      "PAKNVCOLNIMPKN              , Max difference:     0.00026438 Max Pct    0.0000001358% It is number    25 in the solveorder and error number 2\n",
      "PAKNVOILPRODKN              , Max difference:     0.01223154 Max Pct    0.0000045254% It is number    26 in the solveorder and error number 3\n",
      "PAKNVOILNIMPKN              , Max difference:     0.00239856 Max Pct    0.0000001358% It is number    27 in the solveorder and error number 4\n",
      "PAKNVGASPRODKN              , Max difference:     0.00753163 Max Pct    0.0000045254% It is number    28 in the solveorder and error number 5\n",
      "PAKNVGASNIMPKN              , Max difference:     0.00009582 Max Pct    0.0000001358% It is number    29 in the solveorder and error number 6\n",
      "PAKNVCOLNIMPCN              , Max difference:     0.02214099 Max Pct    0.0000001150% It is number    36 in the solveorder and error number 7\n",
      "PAKNVOILNIMPCN              , Max difference:     0.20321059 Max Pct    0.0000001150% It is number    37 in the solveorder and error number 8\n",
      "PAKNVGASNIMPCN              , Max difference:     0.02104034 Max Pct    0.0000001150% It is number    38 in the solveorder and error number 9\n",
      "PAKNVRENNIMPCN              , Max difference:     0.00072481 Max Pct    0.0000001149% It is number    39 in the solveorder and error number 10\n",
      "PAKNVENGNIMPKN              , Max difference:     0.00300558 Max Pct    0.0000001500% It is number    40 in the solveorder and error number 11\n",
      "PAKNEIMPGSNEKN              , Max difference:     0.01014601 Max Pct    0.0000001387% It is number    41 in the solveorder and error number 12\n",
      "PAKNVENGNIMPCN              , Max difference:     0.22258949 Max Pct    0.0000001036% It is number    42 in the solveorder and error number 13\n",
      "PAKNEIMPGSNECN              , Max difference:     1.15623856 Max Pct    0.0000001290% It is number    43 in the solveorder and error number 14\n",
      "PAKNEIMPGNFSCN              , Max difference:     1.24186420 Max Pct    0.0000001117% It is number    44 in the solveorder and error number 15\n",
      "PAKNVCOLPRODCN              , Max difference:     0.01028197 Max Pct    0.0000002660% It is number    48 in the solveorder and error number 16\n",
      "PAKNVOILPRODCN              , Max difference:     0.10442638 Max Pct    0.0000002660% It is number    49 in the solveorder and error number 17\n",
      "PAKNVGASPRODCN              , Max difference:     0.16101676 Max Pct    0.0000002660% It is number    50 in the solveorder and error number 18\n",
      "PAKNVCOLPRODCN2             , Max difference:     0.01218061 Max Pct    0.0000002395% It is number    51 in the solveorder and error number 19\n",
      "PAKNVOILPRODCN2             , Max difference:     0.12370956 Max Pct    0.0000002395% It is number    52 in the solveorder and error number 20\n",
      "PAKNVGASPRODCN2             , Max difference:     0.19074982 Max Pct    0.0000002395% It is number    53 in the solveorder and error number 21\n",
      "PAKNVOILPRODQN              , Max difference:     0.00002441 Max Pct    0.0000002247% It is number    55 in the solveorder and error number 22\n",
      "PAKNVGASPRODQN              , Max difference:     0.00005982 Max Pct    0.0000002247% It is number    56 in the solveorder and error number 23\n",
      "PAKNVCOLNIMPQN              , Max difference:     0.00001593 Max Pct    0.0000001127% It is number    57 in the solveorder and error number 24\n",
      "PAKNVOILNIMPQN              , Max difference:     0.00004593 Max Pct    0.0000001127% It is number    58 in the solveorder and error number 25\n",
      "PAKGGREVEMISCN              , Max difference:     0.00075433 Max Pct    0.0000001434% It is number    60 in the solveorder and error number 26\n",
      "PAKSMENGTOTLKN              , Max difference:     0.00145155 Max Pct    0.0000001157% It is number    62 in the solveorder and error number 27\n",
      "PAKNYYWBTOTLCN              , Max difference:    18.64228058 Max Pct    0.0000004511% It is number    64 in the solveorder and error number 28\n",
      "PAKNECONGOVTKN              , Max difference:     0.02025075 Max Pct    0.0000003938% It is number    66 in the solveorder and error number 29\n",
      "PAKNEGDIFGOVKN              , Max difference:     0.00867014 Max Pct    0.0000003403% It is number    67 in the solveorder and error number 30\n",
      "PAKNEGDIFPRVCN              , Max difference:     1.32994366 Max Pct    0.0000002999% It is number    68 in the solveorder and error number 31\n",
      "PAKNEGDIFTOTCN              , Max difference:     2.54681492 Max Pct    0.0000003521% It is number    69 in the solveorder and error number 32\n",
      "PAKNEGDIFTOTKN              , Max difference:     0.01294412 Max Pct    0.0000002494% It is number    70 in the solveorder and error number 33\n",
      "PAKNYGDPMKTPCD              , Max difference:     2.10716254 Max Pct    0.0000080528% It is number    71 in the solveorder and error number 34\n",
      "PAKNEGDETTOTKN              , Max difference:     0.08423269 Max Pct    0.0000001717% It is number    72 in the solveorder and error number 35\n",
      "PAKNYGDPPOTLKN              , Max difference:     0.16948201 Max Pct    0.0000004525% It is number    73 in the solveorder and error number 36\n",
      "PAKNECONPRVTCN              , Max difference:    38.55028915 Max Pct    0.0000015164% It is number    75 in the solveorder and error number 37\n",
      "PAKNEEXPGNFSCN              , Max difference:     0.04416656 Max Pct    0.0000000090% It is number    76 in the solveorder and error number 38\n",
      "PAKGGEXPINTPCN              , Max difference:     0.48239541 Max Pct    0.0000004222% It is number    78 in the solveorder and error number 39\n",
      "PAKGGEXPINTDCN              , Max difference:     0.53586143 Max Pct    0.0000039337% It is number    79 in the solveorder and error number 40\n",
      "PAKNYGDPMKTPKN              , Max difference:     0.07122457 Max Pct    0.0000001612% It is number    86 in the solveorder and error number 41\n",
      "PAKNYGDPMKTPCN              , Max difference:    15.53806305 Max Pct    0.0000002812% It is number    87 in the solveorder and error number 42\n",
      "PAKGGREVTOTLCN              , Max difference:     4.36462593 Max Pct    0.0000003932% It is number    89 in the solveorder and error number 43\n",
      "PAKNYWRTTOTLCN              , Max difference:     0.07213432 Max Pct    0.0000002702% It is number    91 in the solveorder and error number 44\n"
     ]
    }
   ],
   "source": [
    "all_about_pak.test_model(all_about_pak.start,\n",
    "                         all_about_pak.end,\n",
    "                         maxerr=100,tol=0.00001,\n",
    "                         showall=0)"
   ]
  },
  {
   "cell_type": "markdown",
   "id": "540645a4",
   "metadata": {},
   "source": [
    "## Extract the model and the baseline\n",
    "**all_about_ken** has a lot of content including. \n",
    "- .mmodel is the model instance\n",
    "- .base_input is the baseline where the add factors and the fitted values are calculated "
   ]
  },
  {
   "cell_type": "code",
   "execution_count": 29,
   "id": "fa9578fb",
   "metadata": {},
   "outputs": [],
   "source": [
    "#mpak,baseline     = all_about_pak()     \n",
    "#baseline = all_about_pak.base_input\n",
    "#mpak.model_description='Pakistan  model from paksolncons.wf1 27/3-2023'\n",
    "\n",
    "\n"
   ]
  },
  {
   "cell_type": "markdown",
   "id": "ae075e95",
   "metadata": {},
   "source": [
    "# Save model info as pickle\n",
    "\n"
   ]
  },
  {
   "cell_type": "code",
   "execution_count": 30,
   "id": "25997e01",
   "metadata": {},
   "outputs": [
    {
     "data": {
      "text/plain": [
       "{'PAKNVINDMNFSKN': '@IDENTITY PAKNVINDMNFSKN  = PAKNVINDOTHRTKN  + PAKNVINDENGYSKN\\r',\n",
       " 'PAKNVINDMNFSCN': '@IDENTITY PAKNVINDMNFSCN  = PAKNVINDOTHRTCN  + PAKNVINDENGYSCN\\r',\n",
       " 'PAKNVINDMNFSXN': '@IDENTITY PAKNVINDMNFSXN  = PAKNVINDMNFSCN  / PAKNVINDMNFSKN\\r',\n",
       " 'PAKCRPSINTKN': '@IDENTITY PAKCRPSINTKN  = PAKBETAENGYCRPS  * PAKNVAGRCRPSKN  * (1  + ((PAKBETACRPS  + PAKBETAENGYCRPS)  / (1  - (PAKBETACRPS  + PAKBETAENGYCRPS))))\\r',\n",
       " 'PAKCRPSINTCN': '@IDENTITY PAKCRPSINTCN  = PAKBETAENGYCRPS  * PAKNVAGRCRPSCN  * (1  + ((PAKBETACRPS  + PAKBETAENGYCRPS)  / (1  - (PAKBETACRPS  + PAKBETAENGYCRPS))))\\r',\n",
       " 'PAKFSTYINTKN': '@IDENTITY PAKFSTYINTKN  = PAKBETAENGYFSTY  * PAKNVAGRFSTYKN  * (1  + ((PAKBETAFSTY  + PAKBETAENGYFSTY)  / (1  - (PAKBETAFSTY  + PAKBETAENGYFSTY))))\\r',\n",
       " 'PAKFSTYINTCN': '@IDENTITY PAKFSTYINTCN  = PAKBETAENGYFSTY  * PAKNVAGRFSTYCN  * (1  + ((PAKBETAFSTY  + PAKBETAENGYFSTY)  / (1  - (PAKBETAFSTY  + PAKBETAENGYFSTY))))\\r',\n",
       " 'PAKFSNGINTKN': '@IDENTITY PAKFSNGINTKN  = PAKBETAENGYFSNG  * PAKNVAGRFSNGKN  * (1  + ((PAKBETAFSNG  + PAKBETAENGYFSNG)  / (1  - (PAKBETAFSNG  + PAKBETAENGYFSNG))))\\r',\n",
       " 'PAKFSNGINTCN': '@IDENTITY PAKFSNGINTCN  = PAKBETAENGYFSNG  * PAKNVAGRFSNGCN  * (1  + ((PAKBETAFSNG  + PAKBETAENGYFSNG)  / (1  - (PAKBETAFSNG  + PAKBETAENGYFSNG))))\\r',\n",
       " 'PAKMNGSINTKN': '@IDENTITY PAKMNGSINTKN  = PAKBETAENGYMNGS  * PAKNVINDMNGSKN  * (1  + ((PAKBETAMNGS  + PAKBETAENGYMNGS)  / (1  - (PAKBETAMNGS  + PAKBETAENGYMNGS))))\\r',\n",
       " 'PAKMNGSINTCN': '@IDENTITY PAKMNGSINTCN  = PAKBETAENGYMNGS  * PAKNVINDMNGSCN  * (1  + ((PAKBETAMNGS  + PAKBETAENGYMNGS)  / (1  - (PAKBETAMNGS  + PAKBETAENGYMNGS))))\\r',\n",
       " 'PAKTOTLINTKN': '@IDENTITY PAKTOTLINTKN  = PAKBETAENGYTOTL  * PAKNVENGTOTLKN  * (1  + ((PAKBETATOTL  + PAKBETAENGYTOTL)  / (1  - (PAKBETATOTL  + PAKBETAENGYTOTL))))\\r',\n",
       " 'PAKTOTLINTCN': '@IDENTITY PAKTOTLINTCN  = PAKBETAENGYTOTL  * PAKNVENGTOTLCN  * (1  + ((PAKBETATOTL  + PAKBETAENGYTOTL)  / (1  - (PAKBETATOTL  + PAKBETAENGYTOTL))))\\r',\n",
       " 'PAKOTHRTINTKN': '@IDENTITY PAKOTHRTINTKN  = PAKBETAENGYOTHRT  * PAKNVINDOTHRTKN  * (1  + ((PAKBETAOTHRT  + PAKBETAENGYOTHRT)  / (1  - (PAKBETAOTHRT  + PAKBETAENGYOTHRT))))\\r',\n",
       " 'PAKOTHRTINTCN': '@IDENTITY PAKOTHRTINTCN  = PAKBETAENGYOTHRT  * PAKNVINDOTHRTCN  * (1  + ((PAKBETAOTHRT  + PAKBETAENGYOTHRT)  / (1  - (PAKBETAOTHRT  + PAKBETAENGYOTHRT))))\\r',\n",
       " 'PAKCNSTINTKN': '@IDENTITY PAKCNSTINTKN  = PAKBETAENGYCNST  * PAKNVINDCNSTKN  * (1  + ((PAKBETACNST  + PAKBETAENGYCNST)  / (1  - (PAKBETACNST  + PAKBETAENGYCNST))))\\r',\n",
       " 'PAKCNSTINTCN': '@IDENTITY PAKCNSTINTCN  = PAKBETAENGYCNST  * PAKNVINDCNSTCN  * (1  + ((PAKBETACNST  + PAKBETAENGYCNST)  / (1  - (PAKBETACNST  + PAKBETAENGYCNST))))\\r',\n",
       " 'PAKTRNSINTKN': '@IDENTITY PAKTRNSINTKN  = PAKBETAENGYTRNS  * PAKNVSRVTRNSKN  * (1  + ((PAKBETATRNS  + PAKBETAENGYTRNS)  / (1  - (PAKBETATRNS  + PAKBETAENGYTRNS))))\\r',\n",
       " 'PAKTRNSINTCN': '@IDENTITY PAKTRNSINTCN  = PAKBETAENGYTRNS  * PAKNVSRVTRNSCN  * (1  + ((PAKBETATRNS  + PAKBETAENGYTRNS)  / (1  - (PAKBETATRNS  + PAKBETAENGYTRNS))))\\r',\n",
       " 'PAKFINSINTKN': '@IDENTITY PAKFINSINTKN  = PAKBETAENGYFINS  * PAKNVSRVFINSKN  * (1  + ((PAKBETAFINS  + PAKBETAENGYFINS)  / (1  - (PAKBETAFINS  + PAKBETAENGYFINS))))\\r',\n",
       " 'PAKFINSINTCN': '@IDENTITY PAKFINSINTCN  = PAKBETAENGYFINS  * PAKNVSRVFINSCN  * (1  + ((PAKBETAFINS  + PAKBETAENGYFINS)  / (1  - (PAKBETAFINS  + PAKBETAENGYFINS))))\\r',\n",
       " 'PAKHSNGINTKN': '@IDENTITY PAKHSNGINTKN  = PAKBETAENGYHSNG  * PAKNVSRVHSNGKN  * (1  + ((PAKBETAHSNG  + PAKBETAENGYHSNG)  / (1  - (PAKBETAHSNG  + PAKBETAENGYHSNG))))\\r',\n",
       " 'PAKHSNGINTCN': '@IDENTITY PAKHSNGINTCN  = PAKBETAENGYHSNG  * PAKNVSRVHSNGCN  * (1  + ((PAKBETAHSNG  + PAKBETAENGYHSNG)  / (1  - (PAKBETAHSNG  + PAKBETAENGYHSNG))))\\r',\n",
       " 'PAKGOVSINTKN': '@IDENTITY PAKGOVSINTKN  = PAKBETAENGYGOVS  * PAKNVSRVGOVSKN  * (1  + ((PAKBETAGOVS  + PAKBETAENGYGOVS)  / (1  - (PAKBETAGOVS  + PAKBETAENGYGOVS))))\\r',\n",
       " 'PAKGOVSINTCN': '@IDENTITY PAKGOVSINTCN  = PAKBETAENGYGOVS  * PAKNVSRVGOVSCN  * (1  + ((PAKBETAGOVS  + PAKBETAENGYGOVS)  / (1  - (PAKBETAGOVS  + PAKBETAENGYGOVS))))\\r',\n",
       " 'PAKPRVSINTKN': '@IDENTITY PAKPRVSINTKN  = PAKBETAENGYPRVS  * PAKNVSRVPRVSKN  * (1  + ((PAKBETAPRVS  + PAKBETAENGYPRVS)  / (1  - (PAKBETAPRVS  + PAKBETAENGYPRVS))))\\r',\n",
       " 'PAKPRVSINTCN': '@IDENTITY PAKPRVSINTCN  = PAKBETAENGYPRVS  * PAKNVSRVPRVSCN  * (1  + ((PAKBETAPRVS  + PAKBETAENGYPRVS)  / (1  - (PAKBETAPRVS  + PAKBETAENGYPRVS))))\\r',\n",
       " 'PAKWHSLINTKN': '@IDENTITY PAKWHSLINTKN  = PAKBETAENGYWHSL  * PAKNVSRVWHSLKN  * (1  + ((PAKBETAWHSL  + PAKBETAENGYWHSL)  / (1  - (PAKBETAWHSL  + PAKBETAENGYWHSL))))\\r',\n",
       " 'PAKWHSLINTCN': '@IDENTITY PAKWHSLINTCN  = PAKBETAENGYWHSL  * PAKNVSRVWHSLCN  * (1  + ((PAKBETAWHSL  + PAKBETAENGYWHSL)  / (1  - (PAKBETAWHSL  + PAKBETAENGYWHSL))))\\r',\n",
       " 'PAKNVENGOUTPKN': '@IDENTITY PAKNVENGOUTPKN  = PAKNVENGTOTLKN  + PAKCRPSINTKN  + PAKFSTYINTKN  + PAKFSNGINTKN  + PAKMNGSINTKN  + PAKTOTLINTKN  + PAKOTHRTINTKN  + PAKCNSTINTKN  + PAKWHSLINTKN  + PAKTRNSINTKN  + PAKFINSINTKN  + PAKHSNGINTKN  + PAKGOVSINTKN  + PAKPRVSINTKN\\r',\n",
       " 'PAKNVENGOUTPCN': '@IDENTITY PAKNVENGOUTPCN  = PAKNVENGTOTLCN  + PAKCRPSINTCN  + PAKFSTYINTCN  + PAKFSNGINTCN  + PAKMNGSINTCN  + PAKTOTLINTCN  + PAKOTHRTINTCN  + PAKCNSTINTCN  + PAKWHSLINTCN  + PAKTRNSINTCN  + PAKFINSINTCN  + PAKHSNGINTCN  + PAKGOVSINTCN  + PAKPRVSINTCN\\r',\n",
       " 'PAKNVCOLPRODKN': '@IDENTITY PAKNVCOLPRODKN  = PAKNVCOLPRODSH^(PAKCESENGYPROD)  * (PAKNVENGTOTLKN  * (PAKNVENGTOTLXN  / PAKNVCOLPRODXN)^(PAKCESENGYPROD))\\r',\n",
       " 'PAKNVCOLNIMPKN': '@IDENTITY PAKNVCOLNIMPKN  = PAKNVCOLNIMPSH^(PAKCESENGYIMP)  * (PAKNVENGNIMPKN  * (PAKNVENGNIMPXN  / PAKNVCOLPRODXN)^(PAKCESENGYIMP))\\r',\n",
       " 'PAKNVOILPRODKN': '@IDENTITY PAKNVOILPRODKN  = PAKNVOILPRODSH^(PAKCESENGYPROD)  * (PAKNVENGTOTLKN  * (PAKNVENGTOTLXN  / PAKNVOILPRODXN)^(PAKCESENGYPROD))\\r',\n",
       " 'PAKNVOILNIMPKN': '@IDENTITY PAKNVOILNIMPKN  = PAKNVOILNIMPSH^(PAKCESENGYIMP)  * (PAKNVENGNIMPKN  * (PAKNVENGNIMPXN  / PAKNVOILPRODXN)^(PAKCESENGYIMP))\\r',\n",
       " 'PAKNVGASPRODKN': '@IDENTITY PAKNVGASPRODKN  = PAKNVGASPRODSH^(PAKCESENGYPROD)  * (PAKNVENGTOTLKN  * (PAKNVENGTOTLXN  / PAKNVGASPRODXN)^(PAKCESENGYPROD))\\r',\n",
       " 'PAKNVGASNIMPKN': '@IDENTITY PAKNVGASNIMPKN  = PAKNVGASNIMPSH^(PAKCESENGYIMP)  * (PAKNVENGNIMPKN  * (PAKNVENGNIMPXN  / PAKNVGASPRODXN)^(PAKCESENGYIMP))\\r',\n",
       " 'PAKNVRENPRODKN': '@IDENTITY PAKNVRENPRODKN  = PAKNVRENPRODSH^(PAKCESENGYPROD)  * (PAKNVENGTOTLKN  * (PAKNVENGTOTLXN  / PAKNVRENPRODXN)^(PAKCESENGYPROD))\\r',\n",
       " 'PAKNVRENNIMPKN': '@IDENTITY PAKNVRENNIMPKN  = PAKNVRENNIMPSH^(PAKCESENGYIMP)  * (PAKNVENGNIMPKN  * (PAKNVENGNIMPXN  / PAKNVRENPRODXN)^(PAKCESENGYIMP))\\r',\n",
       " 'PAKNECONENGYKN': '@IDENTITY PAKNECONENGYKN  = PAKNECONENGYSH^(PAKCESENGYCON)  * (PAKNECONPRVTKN  * (PAKNECONPRVTXN  / PAKNECONENGYXN)^(PAKCESENGYCON))\\r',\n",
       " 'PAKNECONOTHRKN': '@IDENTITY PAKNECONOTHRKN  = PAKNECONOTHRSH^(PAKCESENGYCON)  * (PAKNECONPRVTKN  * (PAKNECONPRVTXN  / PAKNECONOTHRXN)^(PAKCESENGYCON))\\r',\n",
       " 'PAKNECONENGYCN': '@IDENTITY PAKNECONENGYCN  = PAKNECONENGYXN  * PAKNECONENGYKN\\r',\n",
       " 'PAKNECONOTHRCN': '@IDENTITY PAKNECONOTHRCN  = PAKNECONOTHRKN  * PAKNECONOTHRXN\\r',\n",
       " 'PAKNECONENGYGN': '@IDENTITY PAKNECONENGYGN  = (PAKNVCOLPRODSH^(PAKCESENGYPROD)  * (PAKNVCOLPRODGN)^(1  - PAKCESENGYPROD)  + PAKNVGASPRODSH^(PAKCESENGYPROD)  * (PAKNVGASPRODGN)^(1  - PAKCESENGYPROD)  + PAKNVOILPRODSH^(PAKCESENGYPROD)  * (PAKNVOILPRODGN)^(1  - PAKCESENGYPROD)  + PAKNVRENPRODSH^(PAKCESENGYPROD)  * (PAKNVRENPRODXN)^(1  - PAKCESENGYPROD))^(1  / (1  - PAKCESENGYPROD))\\r',\n",
       " 'PAKNVCOLPRODGN': '@IDENTITY PAKNVCOLPRODGN  = ((WLDFCOAL_AUS  * CONVMTTOE  * PAKPANUSATLS)  + PAKGGREVCO2CER  * (EMISCOAL)  * (PAKPANUSATLS))  / ((@elem(WLDFCOAL_AUS  , 2011)  * CONVMTTOE  * @elem(PAKPANUSATLS  , 2011))  + @elem(PAKGGREVCO2CER  , 2011)  * (EMISCOAL)  * (@elem(PAKPANUSATLS  , 2011)))\\r',\n",
       " 'PAKNVOILPRODGN': '@IDENTITY PAKNVOILPRODGN  = ((WLDFCRUDE_PETRO  * CONVBBLTOE  * PAKPANUSATLS)  + PAKGGREVCO2OER  * (EMISOIL)  * (PAKPANUSATLS))  / ((@elem(WLDFCRUDE_PETRO  , 2011)  * CONVBBLTOE  * @elem(PAKPANUSATLS  , 2011))  + @elem(PAKGGREVCO2OER  , 2011)  * (EMISOIL)  * (@elem(PAKPANUSATLS  , 2011)))\\r',\n",
       " 'PAKNVGASPRODGN': '@IDENTITY PAKNVGASPRODGN  = ((WLDFNGAS_EUR  * CONVMMBTUTOE  * GASADJ  * PAKPANUSATLS)  + PAKGGREVCO2GER  * (EMISGAS)  * (PAKPANUSATLS))  / ((@elem(WLDFNGAS_EUR  , 2011)  * CONVMMBTUTOE  * GASADJ  * @elem(PAKPANUSATLS  , 2011))  + @elem(PAKGGREVCO2GER  , 2011)  * (EMISGAS)  * (@elem(PAKPANUSATLS  , 2011)))\\r',\n",
       " 'PAKNECONPRVTXN': '@IDENTITY PAKNECONPRVTXN  = ((PAKNECONENGYSH^PAKCESENGYCON)  * PAKNECONENGYXN^(1  - PAKCESENGYCON)  + (PAKNECONOTHRSH^PAKCESENGYCON)  * PAKNECONOTHRXN^(1  - PAKCESENGYCON))^(1  / (1  - PAKCESENGYCON))\\r',\n",
       " 'PAKNVCOLNIMPCN': '@IDENTITY PAKNVCOLNIMPCN  = PAKNVCOLNIMPKN  * PAKNVCOLPRODXN\\r',\n",
       " 'PAKNVOILNIMPCN': '@IDENTITY PAKNVOILNIMPCN  = PAKNVOILNIMPKN  * PAKNVOILPRODXN\\r',\n",
       " 'PAKNVGASNIMPCN': '@IDENTITY PAKNVGASNIMPCN  = PAKNVGASNIMPKN  * PAKNVGASPRODXN\\r',\n",
       " 'PAKNVRENNIMPCN': '@IDENTITY PAKNVRENNIMPCN  = PAKNVRENNIMPKN  * PAKNVRENPRODXN\\r',\n",
       " 'PAKNVENGNIMPKN': '@IDENTITY PAKNVENGNIMPKN  = (PAKNEIMPENGYSH^(PAKCESENGYIMPT))  * (PAKNEIMPGNFSXN  / PAKNVENGNIMPXN)^(PAKCESENGYIMPT)  * PAKNEIMPGNFSKN\\r',\n",
       " 'PAKNEIMPGSNEKN': '@IDENTITY PAKNEIMPGSNEKN  = (PAKNEIMPOTHRSH^(PAKCESENGYIMPT))  * (PAKNEIMPGNFSXN  / PAKNEIMPGSNEXN)^(PAKCESENGYIMPT)  * PAKNEIMPGNFSKN\\r',\n",
       " 'PAKNVENGNIMPCN': '@IDENTITY PAKNVENGNIMPCN  = PAKNVCOLNIMPCN  + PAKNVOILNIMPCN  + PAKNVGASNIMPCN  + PAKNVRENNIMPCN\\r',\n",
       " 'PAKNEIMPGSNECN': '@IDENTITY PAKNEIMPGSNECN  = PAKNEIMPGSNEKN  * PAKNEIMPGSNEXN\\r',\n",
       " 'PAKNEIMPGNFSCN': '@IDENTITY PAKNEIMPGNFSCN  = PAKNEIMPGSNECN  + PAKNVENGNIMPCN\\r',\n",
       " 'PAKNVENGTOTLXN': '@IDENTITY PAKNVENGTOTLXN  = ((PAKNVCOLPRODSH^PAKCESENGYPROD)  * PAKNVCOLPRODXN^(1  - PAKCESENGYPROD)  + (PAKNVOILPRODSH^PAKCESENGYPROD)  * PAKNVOILPRODXN^(1  - PAKCESENGYPROD)  + (PAKNVGASPRODSH^PAKCESENGYPROD)  * PAKNVGASPRODXN^(1  - PAKCESENGYPROD)  + (PAKNVRENPRODSH^PAKCESENGYPROD)  * PAKNVRENPRODXN^(1  - PAKCESENGYPROD))^(1  / (1  - PAKCESENGYPROD))\\r',\n",
       " 'PAKNVENGNIMPXN': '@IDENTITY PAKNVENGNIMPXN  = ((PAKNVCOLNIMPSH^PAKCESENGYIMP)  * PAKNVCOLPRODXN^(1  - PAKCESENGYIMP)  + (PAKNVOILNIMPSH^PAKCESENGYIMP)  * PAKNVOILPRODXN^(1  - PAKCESENGYIMP)  + (PAKNVGASNIMPSH^PAKCESENGYIMP)  * PAKNVGASPRODXN^(1  - PAKCESENGYIMP)  + (PAKNVRENNIMPSH^PAKCESENGYIMP)  * PAKNVRENPRODXN^(1  - PAKCESENGYIMP))^(1  / (1  - PAKCESENGYIMP))\\r',\n",
       " 'PAKNEIMPGNFSXN': '@IDENTITY PAKNEIMPGNFSXN  = ((PAKNEIMPENGYSH^PAKCESENGYIMPT)  * PAKNVENGNIMPXN^(1  - PAKCESENGYIMPT)  + (PAKNEIMPOTHRSH^PAKCESENGYIMPT)  * PAKNEIMPGSNEXN^(1  - PAKCESENGYIMPT))^(1  / (1  - PAKCESENGYIMPT))\\r',\n",
       " 'PAKNVINDENGYSKN': '@IDENTITY PAKNVINDENGYSKN  = PAKNVMNFFSRTKN  * (PAKNVCOLPRODKN  + PAKNVOILPRODKN  + PAKNVGASPRODKN)\\r',\n",
       " 'PAKNVINDENGYSCN': '@IDENTITY PAKNVINDENGYSCN  = PAKNVMNFFSRTCN  * (PAKNVCOLPRODCN  + PAKNVOILPRODCN  + PAKNVGASPRODCN)\\r',\n",
       " 'PAKNVINDELECKN': '@IDENTITY PAKNVINDELECKN  = PAKNVRENPRODKN  + PAKNVELCFSRTKN  * (PAKNVCOLPRODKN  + PAKNVOILPRODKN  + PAKNVGASPRODKN)\\r',\n",
       " 'PAKNVINDELECCN': '@IDENTITY PAKNVINDELECCN  = PAKNVRENPRODCN  + PAKNVELCFSRTCN  * (PAKNVCOLPRODCN  + PAKNVOILPRODCN  + PAKNVGASPRODCN)\\r',\n",
       " 'PAKNVCOLPRODCN': '@IDENTITY PAKNVCOLPRODCN  = PAKNVCOLPRODXN  * PAKNVCOLPRODKN\\r',\n",
       " 'PAKNVOILPRODCN': '@IDENTITY PAKNVOILPRODCN  = PAKNVOILPRODXN  * PAKNVOILPRODKN\\r',\n",
       " 'PAKNVGASPRODCN': '@IDENTITY PAKNVGASPRODCN  = PAKNVGASPRODXN  * PAKNVGASPRODKN\\r',\n",
       " 'PAKNVRENPRODCN': '@IDENTITY PAKNVRENPRODCN  = PAKNVRENPRODXN  * PAKNVRENPRODKN\\r',\n",
       " 'PAKNVCOLPRODCN2': '@IDENTITY PAKNVCOLPRODCN2  = PAKNVCOLPRODCN  / SCALINGF\\r',\n",
       " 'PAKNVOILPRODCN2': '@IDENTITY PAKNVOILPRODCN2  = PAKNVOILPRODCN  / SCALINGF\\r',\n",
       " 'PAKNVGASPRODCN2': '@IDENTITY PAKNVGASPRODCN2  = PAKNVGASPRODCN  / SCALINGF\\r',\n",
       " 'PAKNVRENPRODCN2': '@IDENTITY PAKNVRENPRODCN2  = PAKNVRENPRODCN  / SCALINGF\\r',\n",
       " 'PAKNVCOLPRODQN': '@IDENTITY PAKNVCOLPRODQN  = PAKNVCOLPRODCN2  / ((CONVMTTOE  * 1000)  * WLDFCOAL_AUS  * PAKPANUSATLS  / 1000000  + PAKGGREVCO2CER  * (EMISCOAL  * 1000)  * (PAKPANUSATLS  / 1000000))\\r',\n",
       " 'PAKNVOILPRODQN': '@IDENTITY PAKNVOILPRODQN  = PAKNVOILPRODCN2  / ((CONVBBLTOE  * 1000)  * WLDFCRUDE_PETRO  * PAKPANUSATLS  / 1000000  + PAKGGREVCO2OER  * (EMISOIL  * 1000)  * (PAKPANUSATLS  / 1000000))\\r',\n",
       " 'PAKNVGASPRODQN': '@IDENTITY PAKNVGASPRODQN  = PAKNVGASPRODCN2  / ((WLDFNGAS_EUR  * 1000)  * CONVMMBTUTOE  * GASADJ  * PAKPANUSATLS  / 1000000  + PAKGGREVCO2GER  * (EMISGAS  * 1000)  * (PAKPANUSATLS  / 1000000))\\r',\n",
       " 'PAKNVRENPRODQN': '@IDENTITY PAKNVRENPRODQN  = PAKNVRENPRODCN2  / ((WLDHYDROPOWER  * 1000)  * CONVKWHTOE  * PAKPANUSATLS  / 1000000)\\r',\n",
       " 'PAKNVCOLNIMPQN': '@IDENTITY PAKNVCOLNIMPQN  = PAKNVCOLNIMPCN  / ((WLDFCOAL_AUS  * 1000)  * CONVMTTOE  * PAKPANUSATLS  / 1000000  + PAKGGREVCO2CER  * (EMISCOAL  * 1000)  * (PAKPANUSATLS  / 1000000))\\r',\n",
       " 'PAKNVOILNIMPQN': '@IDENTITY PAKNVOILNIMPQN  = PAKNVOILNIMPCN  / ((WLDFCRUDE_PETRO  * 1000)  * CONVBBLTOE  * PAKPANUSATLS  / 1000000  + PAKGGREVCO2OER  * (EMISOIL  * 1000)  * (PAKPANUSATLS  / 1000000))\\r',\n",
       " 'PAKNVGASNIMPQN': '@IDENTITY PAKNVGASNIMPQN  = PAKNVGASNIMPCN  / ((WLDFNGAS_EUR  * 1000)  * CONVMMBTUTOE  * PAKPANUSATLS  / 1000000  + PAKGGREVCO2GER  * (EMISGAS  * 1000)  * (PAKPANUSATLS  / 1000000))\\r',\n",
       " 'PAKNVRENNIMPQN': '@IDENTITY PAKNVRENNIMPQN  = PAKNVRENNIMPCN  / ((WLDHYDROPOWER  * 1000)  * CONVKWHTOE  * PAKPANUSATLS  / 1000000)\\r',\n",
       " 'PAKCCEMISCO2CKN': '@IDENTITY PAKCCEMISCO2CKN  = (1000  * EMISCOAL)  * (PAKNVCOLPRODQN  + PAKNVCOLNIMPQN)\\r',\n",
       " 'PAKCCEMISCO2OKN': '@IDENTITY PAKCCEMISCO2OKN  = (1000  * EMISOIL)  * (PAKNVOILPRODQN  + PAKNVOILNIMPQN)\\r',\n",
       " 'PAKCCEMISCO2GKN': '@IDENTITY PAKCCEMISCO2GKN  = (1000  * EMISGAS)  * (PAKNVGASPRODQN  + PAKNVGASNIMPQN)\\r',\n",
       " 'PAKCCEMISCO2TKN': '@IDENTITY PAKCCEMISCO2TKN  = PAKCCEMISCO2CKN  + PAKCCEMISCO2OKN  + PAKCCEMISCO2GKN\\r',\n",
       " 'PAKGGREVEMISCN': '@IDENTITY PAKGGREVEMISCN  = PAKPANUSATLS  / 1000000  * ((PAKGGREVCO2CER  * (EMISCOAL  * 1000)  * (PAKNVCOLPRODQN  + PAKNVCOLNIMPQN))  + (PAKGGREVCO2OER  * (EMISOIL  * 1000)  * (PAKNVOILPRODQN  + PAKNVOILNIMPQN))  + (PAKGGREVCO2GER  * (EMISGAS  * 1000)  * (PAKNVGASPRODQN  + PAKNVGASNIMPQN)))\\r',\n",
       " 'PAKINTREXN': '@IDENTITY PAKintrexn  = PAKINTREDIFF  + USAINTRXN\\r',\n",
       " 'PAKINTRDXN': '@IDENTITY PAKintrdxn  = PAKINTRDDIFF  + PAKFMLBLPOLYXN\\r',\n",
       " 'PAKNYGDPFCSTKN': '@IDENTITY PAKNYGDPFCSTKN  = PAKNYGDPMKTPKN  - PAKNYTAXNINDKN\\r',\n",
       " 'PAKNYGDPFCSTCN': '@IDENTITY PAKNYGDPFCSTCN  = PAKNYGDPFCSTXN  * PAKNYGDPFCSTKN\\r',\n",
       " 'PAKNYTAXNINDCN': '@IDENTITY PAKNYTAXNINDCN  = PAKNYGDPMKTPCN  - PAKNYGDPFCSTCN\\r',\n",
       " 'PAKNVSRVPRVSKN': '@IDENTITY PAKNVSRVPRVSKN  = PAKNYGDPFCSTKN  - (PAKNVAGRTOTLKN  + PAKNVINDTOTLKN  + PAKNVSRVWHSLKN  + PAKNVSRVTRNSKN  + PAKNVSRVFINSKN  + PAKNVSRVHSNGKN  + PAKNVSRVGOVSKN)\\r',\n",
       " 'PAKNVSRVPRVSCN': '@IDENTITY PAKNVSRVPRVSCN  = PAKNVSRVPRVSKN  * PAKNVSRVPRVSXN\\r',\n",
       " 'PAKNVAGRTOTLCN': '@IDENTITY PAKNVAGRTOTLCN  = PAKNVAGRCRPSCN  + PAKNVAGRFSTYCN  + PAKNVAGRFSNGCN\\r',\n",
       " 'PAKNVINDTOTLCN': '@IDENTITY PAKNVINDTOTLCN  = PAKNVINDMNGSCN  + PAKNVINDMNFSCN  + PAKNVINDELECCN  + PAKNVINDCNSTCN\\r',\n",
       " 'PAKNVSRVTOTLCN': '@IDENTITY PAKNVSRVTOTLCN  = PAKNVSRVWHSLCN  + PAKNVSRVTRNSCN  + PAKNVSRVFINSCN  + PAKNVSRVHSNGCN  + PAKNVSRVGOVSCN  + PAKNVSRVPRVSCN\\r',\n",
       " 'PAKNVAGRTOTLKN': '@IDENTITY PAKNVAGRTOTLKN  = PAKNVAGRCRPSKN  + PAKNVAGRFSTYKN  + PAKNVAGRFSNGKN\\r',\n",
       " 'PAKNVINDTOTLKN': '@IDENTITY PAKNVINDTOTLKN  = PAKNVINDMNGSKN  + PAKNVINDMNFSKN  + PAKNVINDELECKN  + PAKNVINDCNSTKN\\r',\n",
       " 'PAKNVSRVTOTLKN': '@IDENTITY PAKNVSRVTOTLKN  = PAKNVSRVWHSLKN  + PAKNVSRVTRNSKN  + PAKNVSRVFINSKN  + PAKNVSRVHSNGKN  + PAKNVSRVGOVSKN  + PAKNVSRVPRVSKN\\r',\n",
       " 'PAKNVAGRTOTLXN': '@IDENTITY PAKNVAGRTOTLXN  = PAKNVAGRTOTLCN  / PAKNVAGRTOTLKN\\r',\n",
       " 'PAKNVINDTOTLXN': '@IDENTITY PAKNVINDTOTLXN  = PAKNVINDTOTLCN  / PAKNVINDTOTLKN\\r',\n",
       " 'PAKNVSRVTOTLXN': '@IDENTITY PAKNVSRVTOTLXN  = PAKNVSRVTOTLCN  / PAKNVSRVTOTLKN\\r',\n",
       " 'PAKNVAGRCRPSCN': '@IDENTITY PAKNVAGRCRPSCN  = PAKNVAGRCRPSXN  * PAKNVAGRCRPSKN\\r',\n",
       " 'PAKNVAGRFSTYCN': '@IDENTITY PAKNVAGRFSTYCN  = PAKNVAGRFSTYXN  * PAKNVAGRFSTYKN\\r',\n",
       " 'PAKNVAGRFSNGCN': '@IDENTITY PAKNVAGRFSNGCN  = PAKNVAGRFSNGXN  * PAKNVAGRFSNGKN\\r',\n",
       " 'PAKNVINDMNGSCN': '@IDENTITY PAKNVINDMNGSCN  = PAKNVINDMNGSXN  * PAKNVINDMNGSKN\\r',\n",
       " 'PAKNVINDOTHRTCN': '@IDENTITY PAKNVINDOTHRTCN  = PAKNVINDOTHRTXN  * PAKNVINDOTHRTKN\\r',\n",
       " 'PAKNVINDCNSTCN': '@IDENTITY PAKNVINDCNSTCN  = PAKNVINDCNSTXN  * PAKNVINDCNSTKN\\r',\n",
       " 'PAKNVSRVWHSLCN': '@IDENTITY PAKNVSRVWHSLCN  = PAKNVSRVWHSLXN  * PAKNVSRVWHSLKN\\r',\n",
       " 'PAKNVSRVTRNSCN': '@IDENTITY PAKNVSRVTRNSCN  = PAKNVSRVTRNSXN  * PAKNVSRVTRNSKN\\r',\n",
       " 'PAKNVSRVFINSCN': '@IDENTITY PAKNVSRVFINSCN  = PAKNVSRVFINSXN  * PAKNVSRVFINSKN\\r',\n",
       " 'PAKNVSRVHSNGCN': '@IDENTITY PAKNVSRVHSNGCN  = PAKNVSRVHSNGXN  * PAKNVSRVHSNGKN\\r',\n",
       " 'PAKNVSRVGOVSCN': '@IDENTITY PAKNVSRVGOVSCN  = PAKNVSRVGOVSXN  * PAKNVSRVGOVSKN\\r',\n",
       " 'PAKSMAGRCRPSKN': '@IDENTITY PAKSMAGRCRPSKN  = ((1  + 2.09928590574241)  * (0.144287620838506  * PAKNECONPRVTKN  + 0  * PAKNECONGOVTKN  + 0  * PAKNEGDIFTOTKN  + 0.0572678299039023  * PAKNEEXPGNFSKN  + 0.267381669083985  * PAKNEGDISTKBKN)  - 0.0736247088197363  * PAKNEIMPGNFSKN  - 0.0407034395686347  * PAKNYTAXNINDKN  - 906311)  / (1  + 0.396041694659877)\\r',\n",
       " 'PAKSMAGRFSTYKN': '@IDENTITY PAKSMAGRFSTYKN  = ((1  + 0.195965019358753)  * (0.010131919293849  * PAKNECONPRVTKN  + 0  * PAKNECONGOVTKN  + 0  * PAKNEGDIFTOTKN  + 0.000136733767007103  * PAKNEEXPGNFSKN  + 0.0199955288980741  * PAKNEGDISTKBKN)  - 0.00076829563200478  * PAKNEIMPGNFSKN  - 0.00172030587371022  * PAKNYTAXNINDKN  - 65421)  / (1  + 0.319587584852584)\\r',\n",
       " 'PAKSMAGRFSNGKN': '@IDENTITY PAKSMAGRFSNGKN  = ((1  + 1.92407325889309)  * (0.00246195499563977  * PAKNECONPRVTKN  + 0  * PAKNECONGOVTKN  + 0  * PAKNEGDIFTOTKN  + 0.00130433854799597  * PAKNEEXPGNFSKN  + 0.00497657560072267  * PAKNEGDISTKBKN)  - 1.14989260682794E-05  * PAKNEIMPGNFSKN  - 2.46467171367829E-07  * PAKNYTAXNINDKN  - 26993)  / (1  + 0.506095544048804)\\r',\n",
       " 'PAKSMINDMNGSKN': '@IDENTITY PAKSMINDMNGSKN  = ((1  + 6.96158341862144)  * (0.0132800565666619  * PAKNECONPRVTKN  + 0  * PAKNECONGOVTKN  + 0  * PAKNEGDIFTOTKN  + 0.00704674623894759  * PAKNEEXPGNFSKN  + 0.024122890632682  * PAKNEGDISTKBKN)  - 0.134221966110302  * PAKNEIMPGNFSKN  - 0.500981557895139  * PAKNYTAXNINDKN  - 123652.869264758)  / (1  + 0.200800622280983)\\r',\n",
       " 'PAKSMENGTOTLKN': '@IDENTITY PAKSMENGTOTLKN  = ((1  + 1.65868473220397)  * (0.0775261497897936  * PAKNECONPRVTKN  + 0  * PAKNECONGOVTKN  + 0  * PAKNEGDIFTOTKN  + 0.0217448978257548  * PAKNEEXPGNFSKN  + 0.0458991644104248  * PAKNEGDISTKBKN)  - 0.11894699850705  * PAKNEIMPGNFSKN  -  - 0.50579180838529  * PAKNYTAXNINDKN  - 0)  / (1  + 5.65663938581514)\\r',\n",
       " 'PAKSMINDOTHRTKN': '@IDENTITY PAKSMINDOTHRTKN  = ((1  + 0.483473985412524)  * (0.40172973397176  * PAKNECONPRVTKN  + 0  * PAKNECONGOVTKN  + 0.560459287907094  * PAKNEGDIFTOTKN  + 0.719299486591763  * PAKNEEXPGNFSKN  + 0.620970563578771  * PAKNEGDISTKBKN)  - 0.606734386430279  * PAKNEIMPGNFSKN  - 0.866045585295928  * PAKNYTAXNINDKN  - 2983275.63714814)  / (1  + 2.46379868577176)\\r',\n",
       " 'PAKSMINDCNSTKN': '@IDENTITY PAKSMINDCNSTKN  = ((1  + 0.0370651228196874)  * (0  * PAKNECONPRVTKN  + 0  * PAKNECONGOVTKN  + 0.433487212699245  * PAKNEGDIFTOTKN  + 0.00170061231445462  * PAKNEEXPGNFSKN  + 0.0166541213494276  * PAKNEGDISTKBKN)  - 0.00444968266528859  * PAKNEIMPGNFSKN  - 0  * PAKNYTAXNINDKN  - 55116.3653855153)  / (1  + 1.91367284458402)\\r',\n",
       " 'PAKSMSRVWHSLKN': '@IDENTITY PAKSMSRVWHSLKN  = ((1  + 1.17766663382018E-08)  * (0  * PAKNECONPRVTKN  + 0  * PAKNECONGOVTKN  + 0  * PAKNEGDIFTOTKN  + 0  * PAKNEEXPGNFSKN  + 0  * PAKNEGDISTKBKN)  - 0  * PAKNEIMPGNFSKN  - 0  * PAKNYTAXNINDKN  -  - 4160770)  / (1  + 0.265916086910196)\\r',\n",
       " 'PAKSMSRVTRNSKN': '@IDENTITY PAKSMSRVTRNSKN  = ((1  + 0.301074862860981)  * (0.204687752761289  * PAKNECONPRVTKN  + 0  * PAKNECONGOVTKN  + 0  * PAKNEGDIFTOTKN  + 0.0551862611209703  * PAKNEEXPGNFSKN  + 0  * PAKNEGDISTKBKN)  -  - 0.0392641863572605  * PAKNEIMPGNFSKN  - 0.0174996684619017  * PAKNYTAXNINDKN  - 0)  / (1  + 1.11680986862739)\\r',\n",
       " 'PAKSMSRVFINSKN': '@IDENTITY PAKSMSRVFINSKN  = ((1  + 1.04148314760779)  * (0.0520379651885469  * PAKNECONPRVTKN  + 0  * PAKNECONGOVTKN  + 0  * PAKNEGDIFTOTKN  + 0.00879145012359898  * PAKNEEXPGNFSKN  + 0  * PAKNEGDISTKBKN)  - 0.00594416979264236  * PAKNEIMPGNFSKN  - 0.000103762679145856  * PAKNYTAXNINDKN  - 0)  / (1  + 0.24687745523084)\\r',\n",
       " 'PAKSMSRVHSNGKN': '@IDENTITY PAKSMSRVHSNGKN  = ((1  + 0.782809577554843)  * (0.0647364660896117  * PAKNECONPRVTKN  + 0  * PAKNECONGOVTKN  + 0.00605333595533851  * PAKNEGDIFTOTKN  + 0.03048358523237  * PAKNEEXPGNFSKN  + 0  * PAKNEGDISTKBKN)  - 0.0244768173208691  * PAKNEIMPGNFSKN  - 0.0684093628903126  * PAKNYTAXNINDKN  - 0)  / (1  + 0.150771193398883)\\r',\n",
       " 'PAKSMSRVGOVSKN': '@IDENTITY PAKSMSRVGOVSKN  = ((1  + 0)  * (0  * PAKNECONPRVTKN  + 0.789129947325563  * PAKNECONGOVTKN  + 0  * PAKNEGDIFTOTKN  + 0  * PAKNEEXPGNFSKN  + 0  * PAKNEGDISTKBKN)  - 0  * PAKNEIMPGNFSKN  - 0  * PAKNYTAXNINDKN  - 0)  / (1  + 0.947258014252215)\\r',\n",
       " 'PAKLMUNRTOTLCN': '@IDENTITY PAKLMUNRTOTLCN  = (1  - PAKLMEMPTOTLCN  / ((PAKLMPRTTOTLCN  / 100)  * PAKsppopwork))  * 100\\r',\n",
       " 'PAKLMEMPSTRLCN': '@IDENTITY PAKLMEMPSTRLCN  = (1  - PAKLMUNRSTRLCN  / 100)  * ((PAKLMPRTTOTLCN  / 100)  * PAKsppopwork)\\r',\n",
       " 'PAKNYYWBTOTLCN': '@IDENTITY PAKNYYWBTOTLCN  = PAKNYWRTTOTLCN  * PAKLMEMPTOTLCN\\r',\n",
       " 'PAKNYYGOSOTLCN': '@IDENTITY PAKNYYGOSOTLCN  = (PAKNEGDIKSTKKN  * PAKNEGDIFTOTXN)  * PAKNEKRTTOTLCN\\r',\n",
       " 'PAKMPL': '@IDENTITY PAKMPL  = PAKNYYWBTOTLCN_  * (PAKNYGDPPOTLKN  / PAKLMEMPSTRLCN)\\r',\n",
       " 'PAKMPK': '@IDENTITY PAKMPK  = (1  - PAKNYYWBTOTLCN_)  * (PAKNYGDPPOTLKN  / PAKNEGDIKSTKKN)\\r',\n",
       " 'PAKRN': '@IDENTITY PAKRN  = (1  - PAKGGREVDRCTXN  / 100)  * (PAKMPK)  + PAKINFLTRGT  / 100  - PAKDEPR\\r',\n",
       " 'PAKUCK': '@IDENTITY PAKUCK  = (1  * (PAKFMLBLPOLYXN  - PAKINFLEXPT  + PAKDEPR  * 100)  / (1  - PAKGGREVDRCTXN  / 100))  / 100\\r',\n",
       " 'PAKPSTAR': '@IDENTITY PAKPSTAR  = (1  / PAKNYGDPTFP)  * ((PAKNEKRTTOTLCN  / (1  - PAKNYYWBTOTLCN_  - 0.1))^(1  - PAKNYYWBTOTLCN_  - 0.1) )  * ((PAKNYWRTTOTLCN  / (PAKNYYWBTOTLCN_))^(PAKNYYWBTOTLCN_))  * (PAKNVENGTOTLXN  / 0.1)^0.1\\r',\n",
       " 'PAKNECONGOVTKN': '@IDENTITY PAKNEcongovtkn  = PAKNEcongovtcn  / PAKNEcongovtxn\\r',\n",
       " 'PAKFMLBLMTWOCN': '@IDENTITY PAKFMLBLMTWOCN  = PAKFMLBLMTWOKN  * PAKNECONPRVTXN\\r',\n",
       " 'PAKNEEXPGNFSCD': '@IDENTITY PAKNEEXPGNFSCD  = PAKNEEXPGNFSCN  / PAKPANUSATLS\\r',\n",
       " 'PAKNEIMPGNFSCD': '@IDENTITY PAKNEIMPGNFSCD  = PAKNEIMPGNFSCN  / PAKPANUSATLS\\r',\n",
       " 'PAKNEGDIFGOVKN': '@IDENTITY PAKNEGDIFGOVKN  = PAKNEGDIFGOVCN  / PAKNEGDIFGOVXN\\r',\n",
       " 'PAKNEGDIFPRVCN': '@IDENTITY PAKNEGDIFPRVCN  = PAKNEGDIFPRVKN  * PAKNEGDIFPRVXN\\r',\n",
       " 'PAKNEGDIFTOTCN': '@IDENTITY PAKNEGDIFTOTCN  = PAKNEGDIFGOVCN  + PAKNEGDIFPRVCN\\r',\n",
       " 'PAKNEGDIFTOTKN': '@IDENTITY PAKNEGDIFTOTKN  = PAKNEGDIFGOVKN  + PAKNEGDIFPRVKN\\r',\n",
       " 'PAKNEGDIFTOTXN': '@IDENTITY PAKNEGDIFTOTXN  = PAKNEGDIFTOTCN  / PAKNEGDIFTOTKN\\r',\n",
       " 'PAKNYGDPMKTPCD': '@IDENTITY PAKNYGDPMKTPCD  = PAKNYGDPMKTPcn  / PAKpanusatls\\r',\n",
       " 'PAKNYGDPMKTPKD': '@IDENTITY PAKNYGDPMKTPKD  = (PAKNYGDPMKTPKN  * (@ELEM(PAKNYGDPMKTPCN  , 2010)  / (@ELEM(PAKNYGDPMKTPKN  , 2010))))  / @ELEM(PAKPANUSATLS  , 2010)\\r',\n",
       " 'PAKNEGDETTOTKN': '@IDENTITY PAKNEGDETTOTKN  = (PAKNECONPRVTKN  + PAKNECONGOVTKN  + PAKNEGDIFTOTKN  + PAKNEGDISTKBKN  + PAKNYGDPDISCKN)\\r',\n",
       " 'PAKNEGDETTOTCN': '@IDENTITY PAKNEGDETTOTCN  = (PAKNECONPRVTCN  + PAKNECONGOVTCN  + PAKNEGDIFTOTCN  + PAKNEGDISTKBCN  + PAKNYGDPDISCCN)\\r',\n",
       " 'PAKGDPPCKN': '@IDENTITY PAKGDPPCKN  = (PAKNYGDPMKTPKN  / PAKSPPOPTOTL)\\r',\n",
       " 'PAKGDPPCKD': '@IDENTITY PAKGDPPCKD  = (PAKNYGDPMKTPKD  / PAKSPPOPTOTL)\\r',\n",
       " 'PAKNYGDPPOTLKN': '@IDENTITY PAKNYGDPPOTLKN  = PAKNYGDPTFP  * (PAKLMEMPSTRLCN^PAKNYYWBTOTLCN_)  * (PAKNEGDIKSTKKN(-1)^(1  - PAKNYYWBTOTLCN_  - 0.1))  * (PAKNVENGTOTLKN^0.1)\\r',\n",
       " 'PAKNYGDPGAP_': '@IDENTITY PAKNYGDPGAP_  = ((PAKnyGDPMKTPKN  / PAKNYGDPPOTLKN  - 1)  * 100)\\r',\n",
       " 'PAKTOT': '@IDENTITY PAKtot  = (PAKNEexpgnfsxn  / PAKNEimpgnfsxn)\\r',\n",
       " 'PAKNECONPRVTCN': '@IDENTITY PAKNECONPRVTCN  = PAKNECONPRVTKN  * PAKNECONPRVTXN\\r',\n",
       " 'PAKNEEXPGNFSCN': '@IDENTITY PAKNEEXPGNFSCN  = PAKNEEXPGNFSKN  * PAKNEEXPGNFSXN\\r',\n",
       " 'PAKNYGDPMKTPXN': '@IDENTITY PAKNYGDPMKTPXN  = PAKNYGDPMKTPCN  / PAKNYGDPMKTPKN\\r',\n",
       " 'PAKBXGSRNFSVCD': '@IDENTITY PAKbxgsrnfsvcd  = PAKbxgsrgnfscd  - PAKbxgsrmrchcd\\r',\n",
       " 'PAKBMGSRNFSVCD': '@IDENTITY PAKbmgsrnfsvcd  = PAKbmgsrgnfscd  - PAKbmgsrmrchcd\\r',\n",
       " 'PAKBNCABFUNDCD': '@IDENTITY PAKbNcabfundcd  = (PAKbngsrgnfscd  + PAKbnfstCABTcd)\\r',\n",
       " 'PAKBNCABFUNDCN': '@IDENTITY PAKbNcabfundcn  = PAKbncabfundcd  * PAKpanusatls\\r',\n",
       " 'PAKBNGSRGNFSCD': '@IDENTITY PAKbNgsrGNFScd  = (PAKbxgsrgnfscd  - PAKbmgsrgnfscd)\\r',\n",
       " 'PAKBNGSRMRCHCD': '@IDENTITY PAKbNgsrMRCHcd  = (PAKbxgsrmrchcd  - PAKbmgsrmrchcd)\\r',\n",
       " 'PAKBNGSRNFSVCD': '@IDENTITY PAKbNgsrNFSVcd  = (PAKbxgsrnfsvcd  - PAKbmgsrnfsvcd)\\r',\n",
       " 'PAKBXFSTCABTCD': '@IDENTITY PAKbXfstCABTcd  = (PAKbXfstREMTcd  + PAKbXfstOTHRcd)\\r',\n",
       " 'PAKBMFSTCABTCD': '@IDENTITY PAKbMfstCABTcd  = (PAKbMfstREMTcd  + PAKbMfstOTHRcd  + PAKBMFSTINTECD)\\r',\n",
       " 'PAKBNFSTREMTCD': '@IDENTITY PAKbNfstREMTcd  = (PAKbXfstREMTcd  - PAKbMfstREMTcd)\\r',\n",
       " 'PAKBNFSTOTHRCD': '@IDENTITY PAKbNfstOTHRcd  = (PAKbXfstOTHRcd  - PAKbMfstOTHRcd)\\r',\n",
       " 'PAKBNFSTCABTCD': '@IDENTITY PAKbNfstCABTcd  = (PAKbXfstCABTcd  - PAKbMfstCABTcd)\\r',\n",
       " 'PAKBMFSTINTECD': '@IDENTITY PAKBMFSTINTECD  = PAKggexpintecn  / PAKpanusatls\\r',\n",
       " 'PAKPANUSATLSK': '@IDENTITY PAKpanusatlsk  = 100  * (PAKpanusatls  / (PAKNEconprvtxn  / USANEconprvtxn))  / @elem(PAKpanusatls  / (PAKNEconprvtxn  / USANEconprvtxn)  , 2010)\\r',\n",
       " 'PAKPANEUATLS': '@IDENTITY PAKpaneuatls  = (PAKpanusatls  * (1  / DEUpanusatls))\\r',\n",
       " 'PAKPANEUATLSK': '@IDENTITY PAKpaneuatlsk  = 100  * (PAKpaneuatls  / (PAKNEconprvtxn  / DEUNEconprvtxn))  / @elem(PAKpaneuatls  / (PAKNEconprvtxn  / DEUNEconprvtxn)  , 2010)\\r',\n",
       " 'PAKEXR05': '@IDENTITY PAKEXR05  = PAKpanusatls  / @elem(PAKpanusatls  , 2010)\\r',\n",
       " 'PAKPCEXN05': '@IDENTITY PAKPCEXN05  = PAKneconprvtxn  / @elem(PAKneconprvtxn  , 2010)\\r',\n",
       " 'PAKREER': '@IDENTITY PAKreer  = 100  * ( USA  * 1  / ((PAKEXR05  / PAKPCEXN05)  / (USAEXR05  / USAPCEXN05))  + CHN  * 1  / ((PAKEXR05  / PAKPCEXN05)  / (CHNEXR05  / CHNPCEXN05))  + GBR  * 1  / ((PAKEXR05  / PAKPCEXN05)  / (GBREXR05  / GBRPCEXN05))  + DEU  * 1  / ((PAKEXR05  / PAKPCEXN05)  / (DEUEXR05  / DEUPCEXN05))  + ITA  * 1  / ((PAKEXR05  / PAKPCEXN05)  / (ITAEXR05  / ITAPCEXN05))  + TUR  * 1  / ((PAKEXR05  / PAKPCEXN05)  / (TUREXR05  / TURPCEXN05))  + FRA  * 1  / ((PAKEXR05  / PAKPCEXN05)  / (FRAEXR05  / FRAPCEXN05)) )\\r',\n",
       " 'PAKNEER': '@IDENTITY PAKneer  = 100  * (USA  * 1  / (PAKEXR05  / USAEXR05)  + CHN  * 1  / (PAKEXR05  / CHNEXR05)  + GBR  * 1  / (PAKEXR05  / GBREXR05)  + DEU  * 1  / (PAKEXR05  / DEUEXR05)  + ITA  * 1  / (PAKEXR05  / ITAEXR05)  + TUR  * 1  / (PAKEXR05  / TUREXR05)  + FRA  * 1  / (PAKEXR05  / FRAEXR05) )\\r',\n",
       " 'PAKXMKT_GR': '@IDENTITY PAKxmkt_gr  = USA  * @pc(USAneimpgnfskd)  + CHN  * @pc(CHNneimpgnfskd)  + GBR  * @pc(GBRneimpgnfskd)  + DEU  * @pc(DEUneimpgnfskd)  + ITA  * @pc(ITAneimpgnfskd)  + TUR  * @pc(TURneimpgnfskd)  + FRA  * @pc(FRAneimpgnfskd)\\r',\n",
       " 'PAKXMKT': '@IDENTITY PAKxmkt  = PAKxmkt(-1)  * (1  + PAKxmkt_gr  / 100)\\r',\n",
       " 'PAKGGBALOVRLCN': '@IDENTITY PAKggbalovrlcn  = PAKggrevtotlcn  - PAKggexptotlcn\\r',\n",
       " 'PAKGGBALEXGRCN': '@IDENTITY PAKggbalexgrcn  = PAKggbalovrlcn  - PAKggrevgrntcn\\r',\n",
       " 'PAKGGBALPRIMCN': '@IDENTITY PAKggbalprimcn  = PAKggbalovrlcn  + PAKggexpintpcn\\r',\n",
       " 'PAKGGEXPCRNTCN': '@IDENTITY PAKGGEXPCRNTCN  = PAKGGEXPGNFSCN  + PAKGGEXPINTPCN  + PAKGGEXPTRNSCN\\r',\n",
       " 'PAKGGEXPINTPCN': '@IDENTITY PAKggexpintpcn  = PAKggexpintecn  + PAKggexpintdcn\\r',\n",
       " 'PAKGGEXPINTECN': '@IDENTITY PAKggexpintecn  = PAKintrexn  / 100  * PAKggdbtextlcn(-1)\\r',\n",
       " 'PAKGGEXPINTDCN': '@IDENTITY PAKggexpintdcn  = PAKintrdxn  / 100  * PAKggdbtdomtcn(-1)\\r',\n",
       " 'PAKGGFINTOTLCN': '@IDENTITY PAKggfintotlcn  = PAKggfinextlcn  + PAKggfindomtcn\\r',\n",
       " 'PAKGGFINREQMCN': '@IDENTITY PAKGGFINREQMCN  =  - PAKGGBALOVRLCN  + PAKGGBALOTHRCN\\r',\n",
       " 'PAKGGFINFGAPCN': '@IDENTITY PAKggfinfgapcn  = PAKggfinreqmcn  - PAKggfinextlcn  - PAKggfindomtcn\\r',\n",
       " 'PAKGGDBTTOTLCN_': '@IDENTITY PAKggdbttotlcn_  = (PAKggdbttotlcn  / PAKnygdpmktpcn)  * 100\\r',\n",
       " 'PAKGGBALOVRLCN_': '@IDENTITY PAKGGBALOVRLCN_  = (PAKGGBALOVRLCN  / PAKnygdpmktpcn)  * 100\\r',\n",
       " 'PAKBNCABFUNDCD_': '@IDENTITY PAKbNcabfundcd_  = (PAKbncabfundcd  / PAKNYgdpmktpcd)  * 100\\r',\n",
       " 'PAKPXKEY': '@IDENTITY PAKpxkey  = ( 0  * WLDFALUMINUM  / @ELEM(WLDFALUMINUM  , 2010)  + 0  * WLDFBANANA_US  / @ELEM(WLDFBANANA_US  , 2010)  + 0.002726111756  * WLDFBEEF  / @ELEM(WLDFBEEF  , 2010)  + 0.230966565  * WLDFCOAL_AUS  / @ELEM(WLDFCOAL_AUS  , 2010)  + 0  * WLDFCOCOA  / @ELEM(WLDFCOCOA  , 2010)  + 0.411139653  * WLDFCOFFEE_COMPO  / @ELEM(WLDFCOFFEE_COMPO  , 2010)  + 0  * WLDFCOPPER  / @ELEM(WLDFCOPPER  , 2010)  + 3.639986211  * WLDFCOTTON_A_INDX  / @ELEM(WLDFCOTTON_A_INDX  , 2010)  + 0  * WLDFCRUDE_PETRO  / @ELEM(WLDFCRUDE_PETRO  , 2010)  + 0  * WLDFGRNUT_OIL  / @ELEM(WLDFGRNUT_OIL  , 2010)  + 0  * WLDFGRNUT_OIL  / @ELEM(WLDFGRNUT_OIL  , 2010)  + 0.007013011835  * WLDFGOLD  / @ELEM(WLDFGOLD  , 2010)  + 0.7900142672  * WLDFGRNUT_OIL  / @ELEM(WLDFGRNUT_OIL  , 2010)  + 0  * WLDFIRON_ORE  / @ELEM(WLDFIRON_ORE  , 2010)  + 0  * WLDFLEAD  / @ELEM(WLDFLEAD  , 2010)  + 0.2897464377  * WLDFMAIZE  / @ELEM(WLDFMAIZE  , 2010)  + 13.43365007  * MUV  / @ELEM(MUV  , 2010)  + 0  * WLDFNICKEL  / @ELEM(WLDFNICKEL  , 2010)  + 0.0005488059905  * WLDFORANGE  / @ELEM(WLDFORANGE  , 2010)  + 0  * WLDFNGAS_EUR  / @ELEM(WLDFNGAS_EUR  , 2010)  + 0.003742882078  * WLDFGRNUT_OIL  / @ELEM(WLDFGRNUT_OIL  , 2010)  + 0  * WLDFPALM_OIL  / @ELEM(WLDFPALM_OIL  , 2010)  + 0.08785035321  * WLDFRICE_05  / @ELEM(WLDFRICE_05  , 2010)  + 0.9768959277  * WLDFRUBBER1_MYSG  / @ELEM(WLDFRUBBER1_MYSG  , 2010)  + 0.0008007748754  * WLDFSILVER  / @ELEM(WLDFSILVER  , 2010)  + 0.004152925788  * WLDFSOYBEAN_MEAL  / @ELEM(WLDFSOYBEAN_MEAL  , 2010)  + 0.05430749108  * WLDFSOYBEAN_OIL  / @ELEM(WLDFSOYBEAN_OIL  , 2010)  + 0.3642861313  * WLDFSOYBEANS  / @ELEM(WLDFSOYBEANS  , 2010)  + 0.003407528852  * WLDFSORGHUM  / @ELEM(WLDFSORGHUM  , 2010)  + 0.0195932909  * WLDFISTL_JP_INDX  / @ELEM(WLDFISTL_JP_INDX  , 2010)  + 6.652774142  * WLDFSUGAR_WLD  / @ELEM(WLDFSUGAR_WLD  , 2010)  + 7.647346626  * WLDFTEA_AVG  / @ELEM(WLDFTEA_AVG  , 2010)  + 0  * WLDFTIN  / @ELEM(WLDFTIN  , 2010)  + 64.94025892  * WLDFTOBAC_US  / @ELEM(WLDFTOBAC_US  , 2010)  + 0.0001601549751  * WLDFLOGS_MYS  / @ELEM(WLDFLOGS_MYS  , 2010)  + 0.3831340253  * WLDFPLYWOOD  / @ELEM(WLDFPLYWOOD  , 2010)  + 0  * WLDFWOODPULP  / @ELEM(WLDFWOODPULP  , 2010)  + 0.04483030146  * WLDFSAWNWD_MYS  / @ELEM(WLDFSAWNWD_MYS  , 2010)  + 0.01066739383  * WLDFWHEAT_US_HRW  / @ELEM(WLDFWHEAT_US_HRW  , 2010)  + 0  * WLDFZINC  / @ELEM(WLDFZINC  , 2010))  / 100\\r',\n",
       " 'PAKPMKEY': '@IDENTITY PAKpmkey  = ( 0  * WLDFALUMINUM  / @ELEM(WLDFALUMINUM  , 2010)  + 0.0001054740559  * WLDFBANANA_US  / @ELEM(WLDFBANANA_US  , 2010)  + 0.02404808474  * WLDFBEEF  / @ELEM(WLDFBEEF  , 2010)  + 0.04904543598  * WLDFCOAL_AUS  / @ELEM(WLDFCOAL_AUS  , 2010)  + 5.756241909e-05  * WLDFCOCOA  / @ELEM(WLDFCOCOA  , 2010)  + 0.006592128492  * WLDFCOFFEE_COMPO  / @ELEM(WLDFCOFFEE_COMPO  , 2010)  + 0.001634847866  * WLDFCOPPER  / @ELEM(WLDFCOPPER  , 2010)  + 0.01276236076  * WLDFCOTTON_A_INDX  / @ELEM(WLDFCOTTON_A_INDX  , 2010)  + 0.001740321922  * WLDFCRUDE_PETRO  / @ELEM(WLDFCRUDE_PETRO  , 2010)  + 0.0002878120955  * WLDFGRNUT_OIL  / @ELEM(WLDFGRNUT_OIL  , 2010)  + 0.001107477587  * WLDFGRNUT_OIL  / @ELEM(WLDFGRNUT_OIL  , 2010)  + 0  * WLDFGOLD  / @ELEM(WLDFGOLD  , 2010)  + 0.009070768805  * WLDFGRNUT_OIL  / @ELEM(WLDFGRNUT_OIL  , 2010)  + 0  * WLDFIRON_ORE  / @ELEM(WLDFIRON_ORE  , 2010)  + 0  * WLDFLEAD  / @ELEM(WLDFLEAD  , 2010)  + 0.3630944373  * WLDFMAIZE  / @ELEM(WLDFMAIZE  , 2010)  + 84.9197465  * MUV  / @ELEM(MUV  , 2010)  + 9.866150858e-05  * WLDFNICKEL  / @ELEM(WLDFNICKEL  , 2010)  + 0.00485180657  * WLDFORANGE  / @ELEM(WLDFORANGE  , 2010)  + 0.04440457752  * WLDFNGAS_EUR  / @ELEM(WLDFNGAS_EUR  , 2010)  + 0.0003946460343  * WLDFGRNUT_OIL  / @ELEM(WLDFGRNUT_OIL  , 2010)  + 0.001318425698  * WLDFPALM_OIL  / @ELEM(WLDFPALM_OIL  , 2010)  + 0.02299334418  * WLDFRICE_05  / @ELEM(WLDFRICE_05  , 2010)  + 0.002109481117  * WLDFRUBBER1_MYSG  / @ELEM(WLDFRUBBER1_MYSG  , 2010)  + 0.001423899754  * WLDFSILVER  / @ELEM(WLDFSILVER  , 2010)  + 1.174031716  * WLDFSOYBEAN_MEAL  / @ELEM(WLDFSOYBEAN_MEAL  , 2010)  + 0.01935448925  * WLDFSOYBEAN_OIL  / @ELEM(WLDFSOYBEAN_OIL  , 2010)  + 0.06623770709  * WLDFSOYBEANS  / @ELEM(WLDFSOYBEANS  , 2010)  + 0.0003164221676  * WLDFSORGHUM  / @ELEM(WLDFSORGHUM  , 2010)  + 4.17540145  * WLDFISTL_JP_INDX  / @ELEM(WLDFISTL_JP_INDX  , 2010)  + 0.00205674409  * WLDFSUGAR_WLD  / @ELEM(WLDFSUGAR_WLD  , 2010)  + 0.01634847866  * WLDFTEA_AVG  / @ELEM(WLDFTEA_AVG  , 2010)  + 0  * WLDFTIN  / @ELEM(WLDFTIN  , 2010)  + 4.709574806  * WLDFTOBAC_US  / @ELEM(WLDFTOBAC_US  , 2010)  + 0.0001054740559  * WLDFLOGS_MYS  / @ELEM(WLDFLOGS_MYS  , 2010)  + 0.09276443214  * WLDFPLYWOOD  / @ELEM(WLDFPLYWOOD  , 2010)  + 5.273702794e-05  * WLDFWOODPULP  / @ELEM(WLDFWOODPULP  , 2010)  + 0.002267692201  * WLDFSAWNWD_MYS  / @ELEM(WLDFSAWNWD_MYS  , 2010)  + 4.274599799  * WLDFWHEAT_US_HRW  / @ELEM(WLDFWHEAT_US_HRW  , 2010)  + 0  * WLDFZINC  / @ELEM(WLDFZINC  , 2010)  + 0)  / 100\\r',\n",
       " 'CHNEXR05': '@IDENTITY CHNEXR05  = CHNpanusatls  / @elem(CHNpanusatls  , 2010)\\r',\n",
       " 'CHNPCEXN05': '@IDENTITY CHNPCEXN05  = CHNneconprvtxn  / @elem(CHNneconprvtxn  , 2010)\\r',\n",
       " 'GBREXR05': '@IDENTITY GBREXR05  = GBRpanusatls  / @elem(GBRpanusatls  , 2010)\\r',\n",
       " 'GBRPCEXN05': '@IDENTITY GBRPCEXN05  = GBRneconprvtxn  / @elem(GBRneconprvtxn  , 2010)\\r',\n",
       " 'DEUEXR05': '@IDENTITY DEUEXR05  = DEUpanusatls  / @elem(DEUpanusatls  , 2010)\\r',\n",
       " 'DEUPCEXN05': '@IDENTITY DEUPCEXN05  = DEUneconprvtxn  / @elem(DEUneconprvtxn  , 2010)\\r',\n",
       " 'ITAEXR05': '@IDENTITY ITAEXR05  = ITApanusatls  / @elem(ITApanusatls  , 2010)\\r',\n",
       " 'ITAPCEXN05': '@IDENTITY ITAPCEXN05  = ITAneconprvtxn  / @elem(ITAneconprvtxn  , 2010)\\r',\n",
       " 'TUREXR05': '@IDENTITY TUREXR05  = TURpanusatls  / @elem(TURpanusatls  , 2010)\\r',\n",
       " 'TURPCEXN05': '@IDENTITY TURPCEXN05  = TURneconprvtxn  / @elem(TURneconprvtxn  , 2010)\\r',\n",
       " 'FRAEXR05': '@IDENTITY FRAEXR05  = FRApanusatls  / @elem(FRApanusatls  , 2010)\\r',\n",
       " 'FRAPCEXN05': '@IDENTITY FRAPCEXN05  = FRAneconprvtxn  / @elem(FRAneconprvtxn  , 2010)\\r',\n",
       " 'PAKDISPREPCN': '@IDENTITY PAKDISPREPCN  = PAKCOVERAGE  * (1  + PAKinsu  * PAKmarkup)  * (PAKavdamage  / 100)  * PAKNYGDPMKTPCN\\r',\n",
       " 'PAKDISPREPKN': '@IDENTITY PAKDISPREPKN  = PAKDISPREPCN  / PAKNYGDPMKTPXN\\r',\n",
       " 'PAKNEADPKSTGKN': '@IDENTITY PAKNEADPKSTGKN  = ((PAKNEADPKSTGKN(-1))  * (1  - PAKDEPR))  + PAKadap  * PAKDISPREPKN\\r',\n",
       " 'PAKNEHURPTVTKN': '@IDENTITY PAKNEHURPTVTKN  = @recode(1.0  * (PAKNEADPKSTGKN  / PAKNEADPKMAXKN)^0.3<0  , 0.001  , 1.0  * (PAKNEADPKSTGKN  / PAKNEADPKMAXKN)^0.3)\\r',\n",
       " 'PAKHURDAMKN': '@IDENTITY PAKHURDAMKN  = (PAKNEHURAVERKN_  / 100)  * PAKNYGDPMKTPKN(-1)  * (1  - PAKNEHURPTVTKN)\\r',\n",
       " 'PAKHURDAMCN': '@IDENTITY PAKHURDAMCN  = PAKHURDAMKN  * PAKNYGDPMKTPXN\\r',\n",
       " 'PAKNEGDIKSTKKN': '@IDENTITY PAKNEGDIKSTKKN  = (PAKNEGDIKSTKKN(-1)  * (1  - PAKDEPR))  + PAKNEGDIFTOTKN2  - 2  * PAKHURDAMKN\\r',\n",
       " 'PAKRECOVINVESTKN': '@IDENTITY PAKRECOVINVESTKN  = @recode(PAKHURDSTKN(-1)>0.5  * PAKNEGDIFGOVKN  , 0.5  * PAKNEGDIFGOVKN  , PAKHURDSTKN(-1))\\r',\n",
       " 'PAKHURDSTKN': '@IDENTITY PAKHURDSTKN  = PAKHURDSTKN(-1)  + PAKHURDAMKN  - PAKRECOVINVESTKN\\r',\n",
       " 'PAKNEGDIFTOTKN2': '@IDENTITY PAKNEGDIFTOTKN2  = PAKNEGDIFTOTKN  + PAKRECOVINVESTKN\\r',\n",
       " 'PAKNYGDPMKTPKN': '@IDENTITY PAKNYGDPMKTPKN  = PAKNECONPRVTKN  + PAKNECONGOVTKN  + PAKNEGDIFTOTKN  + PAKNEGDISTKBKN  + PAKNEEXPGNFSKN  - PAKNEIMPGNFSKN  + PAKNYGDPDISCKN  + PAKadap  * PAKDISPREPKN\\r',\n",
       " 'PAKNYGDPMKTPCN': '@IDENTITY PAKNYGDPMKTPCN  = PAKNECONPRVTCN  + PAKNECONGOVTCN  + PAKNEGDIFTOTCN  + PAKNEGDISTKBCN  + PAKNEEXPGNFSCN  - PAKNEIMPGNFSCN  + PAKNYGDPDISCCN  + PAKadap  * PAKDISPREPCN\\r',\n",
       " 'PAKGGEXPTOTLCN': '@IDENTITY PAKggexptotlcn  = PAKGGEXPGNFSCN  + PAKGGEXPINTPCN  + PAKGGEXPTRNSCN  + PAKGGEXPCAPTCN  + PAKGGEXPOTHRCN  + (PAKadap  + PAKinsu  + PAKcofu)  * PAKDISPREPCN\\r',\n",
       " 'PAKPAYOUTCN': '@IDENTITY PAKPAYOUTCN  = (PAKinsu  + PAKdebt)  * PAKCOVERAGE  * PAKHURDAMCN  + PAKcofu  * @recode(PAKCFVOLUMECN>PAKHURDAMCN  , PAKHURDAMCN  , PAKCFVOLUMECN)\\r',\n",
       " 'PAKGGEXPRECVCN': '@IDENTITY PAKGGEXPRECVCN  = 0.5  * PAKPAYOUTCN  + 0.5  * PAKPAYOUTCN (-1)\\r',\n",
       " 'PAKGGEXPRECVKN': '@IDENTITY PAKGGEXPRECVKN  = PAKGGEXPRECVCN  / PAKNYGDPMKTPXN\\r',\n",
       " 'PAKGGREVTOTLCN': '@IDENTITY PAKGGREVTOTLCN  = (PAKGGREVOTHRCN  + PAKGGREVDRCTCN  + PAKGGREVGRNTCN  + PAKGGREVGNFSCN  + PAKGGREVTRDECN  + PAKGGREVEMISCN)  + (PAKinsu  + PAKcofu)  * PAKPAYOUTCN\\r',\n",
       " 'PAKCFVOLUMECN': '@IDENTITY PAKCFVOLUMECN  = PAKCFVOLUMECN(-1)  * (1  + PAKinterestcf)  + PAKcofu  * PAKDISPREPCN  - PAKcofu  * PAKPAYOUTCN(-1)\\r',\n",
       " 'PAKCFVOLUMEKN': '@IDENTITY PAKCFVOLUMEKN  = PAKCFVOLUMECN  / PAKNYGDPMKTPXN\\r',\n",
       " 'PAKLMEMPINFMCN': '@IDENTITY PAKLMEMPINFMCN  = (PAKNYWBINFMSH^PAKINFCES)  * ((PAKNYWRTTOTLCN  / PAKNYWRTINFMCN)^PAKINFCES)  * PAKLMEMPTOTLCN\\r',\n",
       " 'PAKLMEMPFORMCN': '@IDENTITY PAKLMEMPFORMCN  = (PAKNYWBFORMSH^PAKINFCES)  * ((PAKNYWRTTOTLCN  / (PAKNYWRTFORMCN  * (1  + PAKGGREVDRCTXN  / 100)))^PAKINFCES)  * PAKLMEMPTOTLCN\\r',\n",
       " 'PAKNYYWBFORMCN': '@IDENTITY PAKNYYWBFORMCN  = PAKNYWRTFORMCN  * (1  + PAKGGREVDRCTXN  / 100)  * PAKLMEMPFORMCN\\r',\n",
       " 'PAKNYYWBINFMCN': '@IDENTITY PAKNYYWBINFMCN  = PAKNYWRTINFMCN  * PAKLMEMPINFMCN\\r',\n",
       " 'PAKNYYWBINFMCN_': '@IDENTITY PAKNYYWBINFMCN_  = PAKNYYWBINFMCN  / PAKNYGDPMKTPCN\\r',\n",
       " 'PAKNYWRTTOTLCN': '@IDENTITY PAKNYWRTTOTLCN  = (PAKNYWBINFMSH^PAKINFCES  * (PAKNYWRTINFMCN)^(1  - PAKINFCES)  + PAKNYWBFORMSH^PAKINFCES  * (PAKNYWRTFORMCN  * (1  + PAKGGREVDRCTXN  / 100))^(1  - PAKINFCES))^(1  / (1  - PAKINFCES))\\r',\n",
       " 'PAKBMFSTOTHRCD': 'PAKBMFSTOTHRCD/PAKNYGDPMKTPCD = -0.0106244247103773\\r',\n",
       " 'PAKBMFSTREMTCD': 'PAKBMFSTREMTCD/PAKNYGDPMKTPCD = 5.83179728399106e-05\\r',\n",
       " 'PAKBMGSRGNFSCD': '@PC(PAKBMGSRGNFSCD) = @PC(PAKNEIMPGNFSCD) + 0.16331992292838*DUMH\\r',\n",
       " 'PAKBMGSRMRCHCD': 'DLOG(PAKBMGSRMRCHCD) = 1*DLOG(PAKBMGSRGNFSCD) - 0.000627410124166411\\r',\n",
       " 'PAKBXFSTOTHRCD': '(PAKBXFSTOTHRCD/PAKNYGDPMKTPCD) = 0.0174889139880428\\r',\n",
       " 'PAKBXFSTREMTCD': 'PAKBXFSTREMTCD/PAKNYGDPMKTPCD = 0.053028373687723\\r',\n",
       " 'PAKBXGSRGNFSCD': '@PC(PAKBXGSRGNFSCD) = @PC(PAKNEEXPGNFSCD) + 0.235962842459732*DUMH\\r',\n",
       " 'PAKBXGSRMRCHCD': 'DLOG(PAKBXGSRMRCHCD) = 2.82268702067837e-08*(LOG(PAKBXGSRMRCHCD( - 1)) - 505277.224656802*LOG(PAKXMKT( - 1)) - 2.91054176583784*LOG(PAKREER( - 1))) + 0.0683002735007435 + 0.167350489665585*DLOG(PAKXMKT) + 0.0611655503957304*DLOG(PAKREER)\\r',\n",
       " 'PAKCO2EM': 'DLOG(PAKCO2EM) = 0.0531107212037099 - 0.00318877837741837*(LOG(PAKCO2EM( - 1)) + LOG((1 + PAKCO2TAX)*WLDFCRUDE_PETRO( - 1)*PAKPANUSATLS( - 1)) - LOG(PAKNEENGTOTCN_) - LOG(PAKNYGDPMKTPXN( - 1)*PAKNYGDPPOTLKN( - 1))) + 0.036761790898703*DLOG((1 + PAKCO2TAX)*WLDFCRUDE_PETRO*PAKPANUSATLS) -+ 0.0816930657473563*DLOG(PAKNYGDPMKTPXN*PAKNYGDPPOTLKN)\\r',\n",
       " 'PAKFMLBLMTWOKN': 'DLOG(PAKFMLBLMTWOKN) =- 0.2*(LOG(PAKFMLBLMTWOKN( - 1)) - LOG(PAKNYGDPMKTPKN( - 1)) + 0.1*PAKFMLBLPOLYXN( - 1)/100 - LOG(PAKVELOCITY( - 1))) - 0.32628131688075 + 0.7*DLOG(PAKNYGDPMKTPKN) - 01*D(PAKFMLBLPOLYXN/100) - DLOG(PAKVELOCITY)\\r',\n",
       " 'PAKFMLBLPOLYXN': 'PAKFMLBLPOLYXN/100 = 0.900155952396245*PAKFMLBLPOLYXN( - 1)/100 + (1 - 0.900155952396245)*(PAKMPPOLNATRXN/100 + 1.2*(DLOG(PAKNECONPRVTXN) - PAKINFLEXPT/100) + 0.5*PAKNYGDPGAP_/100)\\r',\n",
       " 'PAKGGDBTDOMTCN': '(PAKGGDBTDOMTCN) = (PAKGGDBTTOTLCN)*(1 - PAKEXTLSHAREXN/100) - 2.02461429264235e-11*DUMH\\r',\n",
       " 'PAKGGDBTEXTLCN': '(PAKGGDBTEXTLCN) = (PAKGGDBTTOTLCN)*PAKEXTLSHAREXN/100 - 7.08615002424821e-11*DUMH\\r',\n",
       " 'PAKGGDBTTOTLCN': 'PAKGGDBTTOTLCN = PAKGGDBTTOTLCN( - 1) - PAKGGBALOVRLCN + PAKGGDBTVALTCN + 0*DUMH\\r',\n",
       " 'PAKGGDBTVALTCN': '(PAKGGDBTVALTCN/PAKNYGDPMKTPCN) = 0.0263756862533802\\r',\n",
       " 'PAKGGEXPCAPTCN': 'PAKGGEXPCAPTCN = 0.3*PAKGGEXPCAPTCN( - 1) + (1 - 0.3)*(0.37*(PAKGGREVTOTLCN - PAKGGEXPINTPCN( - 0))) + 393385.011*@DURING(\"2013\")\\r',\n",
       " 'PAKGGEXPGNFSCN': 'PAKGGEXPGNFSCN = 0.3*PAKGGEXPGNFSCN( - 1) + (1 - 0.3)*(0.80*(PAKGGREVTOTLCN - PAKGGEXPINTPCN( - 0))) + 505277.259999999*@DURING(\"2012\")\\r',\n",
       " 'PAKGGEXPOTHRCN': '(PAKGGEXPOTHRCN/(PAKNYGDPPOTLKN*PAKNYGDPMKTPXN)) = -0.00369060695899124\\r',\n",
       " 'PAKGGEXPTRNSCN': 'PAKGGEXPTRNSCN = 0.91020884318931*PAKGGEXPTRNSCN( - 1) + (1 - 0.91020884318931)*(0.06*(PAKGGREVTOTLCN - PAKGGEXPINTPCN( - 0)))\\r',\n",
       " 'PAKGGREVDRCTCN': 'PAKGGREVDRCTCN = (PAKGGREVDRCTXN/100*PAKNYGDPMKTPCN) - 3.0867698969263e-12\\r',\n",
       " 'PAKGGREVGNFSCN': 'PAKGGREVGNFSCN = (PAKGGREVGNFSXN/100*(PAKNECONPRVTCN + PAKNECONGOVTCN)) + 5.34672642860449e-12\\r',\n",
       " 'PAKGGREVGRNTCN': 'PAKGGREVGRNTCN/PAKNYGDPMKTPCN = 0.00492338673059987\\r',\n",
       " 'PAKGGREVOTHRCN': 'PAKGGREVOTHRCN/PAKNYGDPMKTPCN = 0.0942732188264739\\r',\n",
       " 'PAKGGREVTRDECN': 'PAKGGREVTRDECN = (PAKGGREVTRDEXN/100*(PAKNEEXPGNFSCN + PAKNEIMPGNFSCN)) - 84993.5482575168\\r',\n",
       " 'PAKINTRDDIFF': 'PAKINTRDDIFF = -8.84659158400347 + 0.0775829569971913*(@MOVAV(PAKGGDBTTOTLCN_( - 1),4) - 60)\\r',\n",
       " 'PAKINTREDIFF': 'PAKINTREDIFF = 11.5481293844969 + 0.07*(@MOVAV(PAKGGDBTTOTLCN_( - 1),4) - 60)\\r',\n",
       " 'PAKLMEMPTOTLCN': 'DLOG(PAKLMEMPTOTLCN) = -0.296841405458903*(LOG(PAKLMEMPTOTLCN( - 1)) - LOG(PAKLMEMPSTRLCN( - 1))) - 0.1*(DLOG(PAKNYWRTTOTLCN/PAKNYGDPFCSTXN) - DLOG(PAKNYGDPPOTLKN/PAKLMEMPSTRLCN)) - 0.0020242483763438 + DLOG(PAKLMEMPSTRLCN) + 0.1312391923391*PAKNYGDPGAP_/100 + 0.0362130876248861*@DURING(\"2010\")\\r',\n",
       " 'PAKNEADPKMAXKN': 'PAKNEADPKMAXKN = 0*DUMH + ((1 + 0.01)/(0.01 + PAKDEPR))*(PAKAVDAMAGE/100)*PAKNYGDPMKTPKN\\r',\n",
       " 'PAKNECONENGYXN': 'DLOG(PAKNECONENGYXN) = DLOG(PAKNECONENGYGN) + 0.0550557534575806*DUMH\\r',\n",
       " 'PAKNECONGOVTCN': '@PC(PAKNECONGOVTCN) = @PC(PAKGGEXPGNFSCN) + 0.764199817873939*DUMH\\r',\n",
       " 'PAKNECONGOVTXN': 'DLOG(PAKNECONGOVTXN) =- 0.3*(LOG(PAKNECONGOVTXN( - 1)) - LOG(PAKNECONPRVTXN( - 1))) + 0.0752362082122748 + 0.5*DLOG(PAKNECONGOVTXN( - 1)) + (1 - 0.5)*DLOG(PAKNECONPRVTXN)\\r',\n",
       " 'PAKNECONOTHRXN': 'DLOG(PAKNECONOTHRXN) = 0.590372627657176*DLOG(PAKNYGDPFCSTXN) + D(PAKGGREVGNFSXN/100) + (1 - 0.590372627657176)*DLOG(PAKNEIMPGNFSXN) + 0.2*PAKNYGDPGAP_/100\\r',\n",
       " 'PAKNECONPRVTKN': 'DLOG(PAKNECONPRVTKN) =- 0.2*(LOG(PAKNECONPRVTKN( - 1)) - LOG(1.21203101101442) - LOG((((PAKBXFSTREMTCD( - 1) - PAKBMFSTREMTCD( - 1))*PAKPANUSATLS( - 1)) + PAKGGEXPTRNSCN( - 1) + PAKNYYWBTOTLCN( - 1)*(1 - PAKGGREVDRCTXN( - 1)/100))/PAKNECONPRVTXN( - 1))) + 0.763938860758873*DLOG((((PAKBXFSTREMTCD - PAKBMFSTREMTCD)*PAKPANUSATLS) + PAKGGEXPTRNSCN + PAKNYYWBTOTLCN*(1 - PAKGGREVDRCTXN/100))/PAKNECONPRVTXN) - 0.0634474791568939*@DURING(\"2009\") - 0.3*(PAKFMLBLPOLYXN/100 - DLOG(PAKNECONPRVTXN))\\r',\n",
       " 'PAKNEEXPGNFSKN': 'DLOG(PAKNEEXPGNFSKN) =- 0.35*(LOG(PAKNEEXPGNFSKN( - 1)) - LOG(PAKXMKT( - 1)) - 0.6*LOG(PAKNEEXPGNFSXN( - 1)/(PAKNYGDPFCSTXN( - 1)))) + 1*DLOG(PAKXMKT) + 0.3*DLOG(PAKNEEXPGNFSXN/(PAKNYGDPFCSTXN)) + 4.38465374402991 - 0.237469889780178*@DURING(\"1999\") - 0.230689812873392*@DURING(\"1998\") + 0.320967524344658*@DURING(\"1991\") + 0.250252413901575*@DURING(\"1986\")\\r',\n",
       " 'PAKNEEXPGNFSXN': 'DLOG(PAKNEEXPGNFSXN) = -0.608980890811034*(LOG(PAKNEEXPGNFSXN( - 1)) - 0.57143018302846*LOG(PAKNYGDPFCSTXN( - 1)) - (1 - 0.57143018302846)*LOG(PAKPXKEY( - 1)*PAKPANUSATLS( - 1))) + 0.670599481786233*DLOG(PAKNYGDPFCSTXN) + (1 - 0.670599481786233)*DLOG(PAKPXKEY*PAKPANUSATLS) - 1.16883722294664\\r',\n",
       " 'PAKNEGDIFGOVCN': 'DLOG(PAKNEGDIFGOVCN) = DLOG(PAKGGEXPCAPTCN) - 0.00510713331489238*DUMH\\r',\n",
       " 'PAKNEGDIFGOVXN': 'DLOG(PAKNEGDIFGOVXN) = -0.480254922468272*(LOG(PAKNEGDIFGOVXN( - 1)) - LOG(PAKNECONPRVTXN( - 1))) + 0.00720714576835064 + 0.0731599680348391*DLOG(PAKNEGDIFGOVXN( - 1)) + (1 - 0.0731599680348391)*DLOG(PAKNECONPRVTXN)\\r',\n",
       " 'PAKNEGDIFPRVKN': '(PAKNEGDIFPRVKN/PAKNEGDIKSTKKN( - 1)) = 0.00212272413966296 + 0.970234989019907*(PAKNEGDIFPRVKN( - 1)/PAKNEGDIKSTKKN( - 2)) + (1 - 0.970234989019907)*(DLOG(PAKNYGDPPOTLKN) + PAKDEPR) + 0.0525240494260597*DLOG(PAKNEKRTTOTLCN/PAKNYGDPFCSTXN)\\r',\n",
       " 'PAKNEGDIFPRVXN': 'DLOG(PAKNEGDIFPRVXN) = -0.541107551300099*(LOG(PAKNEGDIFPRVXN( - 1)) - LOG(PAKNECONPRVTXN( - 1))) + 0.0542687186018968 + 0.0800470971290259*DLOG(PAKNEGDIFPRVXN( - 1)) + (1 - 0.0800470971290259)*DLOG(PAKNECONPRVTXN)\\r',\n",
       " 'PAKNEIMPGNFSKN': 'DLOG(PAKNEIMPGNFSKN) = -0.324143718656754*(LOG(PAKNEIMPGNFSKN( - 1)) - LOG(PAKNEGDETTOTKN( - 1)) + 0.8*LOG(PAKNEIMPGNFSXN( - 1)/PAKNYGDPFCSTXN( - 1))) - 0.583459272245018 + 1*DLOG(PAKNEGDETTOTKN) - 0.0921874580409631*DLOG(PAKNEIMPGNFSXN/PAKNYGDPFCSTXN) - 0.0361746331863615*@DURING(\"2012\")\\r',\n",
       " 'PAKNEIMPGSNEXN': 'DLOG(PAKNEIMPGSNEXN) = -0.317487399348671*(LOG(PAKNEIMPGSNEXN( - 1)) - 0.3*LOG(PAKNYGDPFCSTXN( - 1)) + LOG(1 + PAKGGREVTRDEXN( - 1)/100) - (1 - 0.3)*LOG(PAKPMKEY( - 1)*PAKPANUSATLS( - 1))) + 0.4*DLOG(PAKNYGDPFCSTXN) + (1 - 0.4)*DLOG(PAKPMKEY*PAKPANUSATLS) + DLOG(1 + PAKGGREVTRDEXN/100) - 0.990172726258274 + 0.129231227578777*@DURING(\"2012\") + 0.225621283292588*@DURING(\"2008\")\\r',\n",
       " 'PAKNEKRTTOTLCN': 'D(PAKNEKRTTOTLCN) = D(PAKUCK) + 7.05881784375082e-05*DUMH\\r',\n",
       " 'PAKNVAGRCRPSKN': 'DLOG(PAKNVAGRCRPSKN) = -0.0106149452683137 - 0.2*(LOG(PAKNVAGRCRPSKN( - 1)) - LOG(PAKSMAGRCRPSKN( - 1))) + 1*DLOG(PAKSMAGRCRPSKN)\\r',\n",
       " 'PAKNVAGRCRPSXN': 'DLOG(PAKNVAGRCRPSXN) =- 0.2*(LOG(PAKNVAGRCRPSXN( - 1)) - LOG(PAKNECONPRVTXN( - 1))) + @LOGIT(1.60893016753756)*DLOG(PAKNECONPRVTXN) + (1 - @LOGIT(1.60893016753756))*DLOG(PAKNVAGRCRPSXN( - 1)) - 0.00574602364290304\\r',\n",
       " 'PAKNVAGRFSNGKN': 'DLOG(PAKNVAGRFSNGKN) = -0.0111719934001335 - 0.2*(LOG(PAKNVAGRFSNGKN( - 1)) - LOG(PAKSMAGRFSNGKN( - 1))) + 1*DLOG(PAKSMAGRFSNGKN)\\r',\n",
       " 'PAKNVAGRFSNGXN': 'DLOG(PAKNVAGRFSNGXN) =- 0.2*(LOG(PAKNVAGRFSNGXN( - 1)) - LOG(PAKNECONPRVTXN( - 1))) + @LOGIT(0.0598882154563537)*DLOG(PAKNECONPRVTXN) + (1 - @LOGIT(0.0598882154563537))*DLOG(PAKNVAGRFSNGXN( - 1)) + 0.0457058393513811\\r',\n",
       " 'PAKNVAGRFSTYKN': 'DLOG(PAKNVAGRFSTYKN) = -0.0258273459325449 - 0.2*(LOG(PAKNVAGRFSTYKN( - 1)) - LOG(PAKSMAGRFSTYKN( - 1))) + 1*DLOG(PAKSMAGRFSTYKN)\\r',\n",
       " 'PAKNVAGRFSTYXN': 'DLOG(PAKNVAGRFSTYXN) =- 0.2*(LOG(PAKNVAGRFSTYXN( - 1)) - LOG(PAKNECONPRVTXN( - 1))) + @LOGIT(-0.48347591154325)*DLOG(PAKNECONPRVTXN) + (1 - @LOGIT(-0.48347591154325))*DLOG(PAKNVAGRFSTYXN( - 1)) + 0.0216329926551548\\r',\n",
       " 'PAKNVCOLPRODXN': 'DLOG(PAKNVCOLPRODXN) = DLOG(PAKNVCOLPRODGN) + 0.00264984935848823*DUMH\\r',\n",
       " 'PAKNVENGTOTLKN': 'DLOG(PAKNVENGTOTLKN) = -0.0673653265193484 - 0.2*(LOG(PAKNVENGTOTLKN( - 1)) - LOG(PAKSMENGTOTLKN( - 1))) + 1*DLOG(PAKSMENGTOTLKN)\\r',\n",
       " 'PAKNVGASPRODXN': 'DLOG(PAKNVGASPRODXN) = DLOG(PAKNVGASPRODGN) + 0.00264984935848824*DUMH\\r',\n",
       " 'PAKNVINDCNSTKN': 'DLOG(PAKNVINDCNSTKN) = -0.0223009275118067 - 0.2*(LOG(PAKNVINDCNSTKN( - 1)) - LOG(PAKSMINDCNSTKN( - 1))) + 1*DLOG(PAKSMINDCNSTKN)\\r',\n",
       " 'PAKNVINDCNSTXN': 'DLOG(PAKNVINDCNSTXN) =- 0.2*(LOG(PAKNVINDCNSTXN( - 1)) - LOG(PAKNECONPRVTXN( - 1))) + @LOGIT(1.0761013868911)*DLOG(PAKNECONPRVTXN) + (1 - @LOGIT(1.0761013868911))*DLOG(PAKNVINDCNSTXN( - 1)) + 0.0336941116574989\\r',\n",
       " 'PAKNVINDMNGSKN': 'DLOG(PAKNVINDMNGSKN) = -0.0289198908322469 - 0.2*(LOG(PAKNVINDMNGSKN( - 1)) - LOG(PAKSMINDMNGSKN( - 1))) + 1*DLOG(PAKSMINDMNGSKN)\\r',\n",
       " 'PAKNVINDMNGSXN': 'DLOG(PAKNVINDMNGSXN) =- 0.2*(LOG(PAKNVINDMNGSXN( - 1)) - LOG(PAKNECONPRVTXN( - 1))) + @LOGIT(1.1815535790401)*DLOG(PAKNECONPRVTXN) + (1 - @LOGIT(1.1815535790401))*DLOG(PAKNVINDMNGSXN( - 1)) - 0.00195643042155446\\r',\n",
       " 'PAKNVINDOTHRTKN': 'DLOG(PAKNVINDOTHRTKN) = 0.0153573747691629 - 0.2*(LOG(PAKNVINDOTHRTKN( - 1)) - LOG(PAKSMINDOTHRTKN( - 1))) + 1*DLOG(PAKSMINDOTHRTKN)\\r',\n",
       " 'PAKNVINDOTHRTXN': 'DLOG(PAKNVINDOTHRTXN) =- 0.2*(LOG(PAKNVINDOTHRTXN( - 1)) - LOG(PAKNECONPRVTXN( - 1))) + @LOGIT(1.273050897674)*DLOG(PAKNECONPRVTXN) + (1 - @LOGIT(1.273050897674))*DLOG(PAKNVINDOTHRTXN( - 1)) - 0.0083414334886404\\r',\n",
       " 'PAKNVOILPRODXN': 'DLOG(PAKNVOILPRODXN) = DLOG(PAKNVOILPRODGN) + 0.00264984935848825*DUMH\\r',\n",
       " 'PAKNVRENPRODXN': 'DLOG(PAKNVRENPRODXN) = DLOG((WLDHYDROPOWER*PAKPANUSATLS)/(@ELEM(WLDHYDROPOWER,2011)*@ELEM(PAKPANUSATLS,2011))) + 0.00264984935848825*DUMH\\r',\n",
       " 'PAKNVSRVFINSKN': 'DLOG(PAKNVSRVFINSKN) = -0.153823262831285 - 0.2*(LOG(PAKNVSRVFINSKN( - 1)) - LOG(PAKSMSRVFINSKN( - 1))) + 1*DLOG(PAKSMSRVFINSKN)\\r',\n",
       " 'PAKNVSRVFINSXN': 'DLOG(PAKNVSRVFINSXN) =- 0.2*(LOG(PAKNVSRVFINSXN( - 1)) - LOG(PAKNECONPRVTXN( - 1))) + @LOGIT(3.12020341047317)*DLOG(PAKNECONPRVTXN) + (1 - @LOGIT(3.12020341047317))*DLOG(PAKNVSRVFINSXN( - 1)) - 0.0496907192950754\\r',\n",
       " 'PAKNVSRVGOVSKN': 'DLOG(PAKNVSRVGOVSKN) = 0.065182182474514 - 0.2*(LOG(PAKNVSRVGOVSKN( - 1)) - LOG(PAKSMSRVGOVSKN( - 1))) + 1*DLOG(PAKSMSRVGOVSKN)\\r',\n",
       " 'PAKNVSRVGOVSXN': 'DLOG(PAKNVSRVGOVSXN) =- 0.2*(LOG(PAKNVSRVGOVSXN( - 1)) - LOG(PAKNECONPRVTXN( - 1))) + @LOGIT(-0.10550039360918)*DLOG(PAKNECONPRVTXN) + (1 - @LOGIT(-0.10550039360918))*DLOG(PAKNVSRVGOVSXN( - 1)) + 0.0220270234430601\\r',\n",
       " 'PAKNVSRVHSNGKN': 'DLOG(PAKNVSRVHSNGKN) = -0.109421428635736 - 0.2*(LOG(PAKNVSRVHSNGKN( - 1)) - LOG(PAKSMSRVHSNGKN( - 1))) + 1*DLOG(PAKSMSRVHSNGKN)\\r',\n",
       " 'PAKNVSRVHSNGXN': 'DLOG(PAKNVSRVHSNGXN) =- 0.2*(LOG(PAKNVSRVHSNGXN( - 1)) - LOG(PAKNECONPRVTXN( - 1))) + @LOGIT(-0.583665503497185)*DLOG(PAKNECONPRVTXN) + (1 - @LOGIT(-0.583665503497185))*DLOG(PAKNVSRVHSNGXN( - 1)) + 0.0392550480382787\\r',\n",
       " 'PAKNVSRVPRVSXN': 'DLOG(PAKNVSRVPRVSXN) =- 0.2*(LOG(PAKNVSRVPRVSXN( - 1)) - LOG(PAKNECONPRVTXN( - 1))) + @LOGIT(0.066346341578644)*DLOG(PAKNECONPRVTXN) + (1 - @LOGIT(0.066346341578644))*DLOG(PAKNVSRVPRVSXN( - 1)) + 0.029930896515139\\r',\n",
       " 'PAKNVSRVTRNSKN': 'DLOG(PAKNVSRVTRNSKN) = -0.0112164647278338 - 0.2*(LOG(PAKNVSRVTRNSKN( - 1)) - LOG(PAKSMSRVTRNSKN( - 1))) + 1*DLOG(PAKSMSRVTRNSKN)\\r',\n",
       " 'PAKNVSRVTRNSXN': 'DLOG(PAKNVSRVTRNSXN) =- 0.2*(LOG(PAKNVSRVTRNSXN( - 1)) - LOG(PAKNECONPRVTXN( - 1))) + @LOGIT(2.81116647458461)*DLOG(PAKNECONPRVTXN) + (1 - @LOGIT(2.81116647458461))*DLOG(PAKNVSRVTRNSXN( - 1)) + 0.0223026948583643\\r',\n",
       " 'PAKNVSRVWHSLKN': 'DLOG(PAKNVSRVWHSLKN) = 0.036865193869103 - 0.2*(LOG(PAKNVSRVWHSLKN( - 1)) - LOG(PAKSMSRVWHSLKN( - 1))) + 1*DLOG(PAKSMSRVWHSLKN)\\r',\n",
       " 'PAKNVSRVWHSLXN': 'DLOG(PAKNVSRVWHSLXN) =- 0.2*(LOG(PAKNVSRVWHSLXN( - 1)) - LOG(PAKNECONPRVTXN( - 1))) + @LOGIT(1.18881182566809)*DLOG(PAKNECONPRVTXN) + (1 - @LOGIT(1.18881182566809))*DLOG(PAKNVSRVWHSLXN( - 1)) - 0.00109902289257865\\r',\n",
       " 'PAKNYGDPFCSTXN': 'DLOG(PAKNYGDPFCSTXN) = 0.6*DLOG(PAKNYGDPFCSTXN( - 1)) + (1 - 0.6)*(0.7*PAKINFLEXPT/100 + (1 - 0.7)*DLOG(PAKPSTAR( - 1))) + 0.0935726784287011*PAKNYGDPGAP_/100\\r',\n",
       " 'PAKNYWRTFORMCN': 'DLOG(PAKNYWRTFORMCN) = -0.132832689997107 - 0.3*(LOG(PAKNYWRTFORMCN( - 1)) - LOG(PAKNYGDPFCSTXN( - 1)) - LOG(PAKNYGDPPOTLKN( - 1)/PAKLMEMPSTRLCN( - 1))) + 0.2*DLOG(PAKNYWRTFORMCN( - 1)) + (1 - 0.2)*(0.5*DLOG(PAKNYGDPFCSTXN( - 1)) + 0.5*(PAKINFLEXPT/100) + DLOG(PAKNYGDPMKTPKN/PAKLMEMPSTRLCN)) - 0.2*(PAKLMUNRTOTLCN - PAKLMUNRSTRLCN)/100\\r',\n",
       " 'PAKNYWRTINFMCN': 'DLOG(PAKNYWRTINFMCN) = -0.13526463206061 - 0.3*(LOG(PAKNYWRTINFMCN( - 1)) - LOG(PAKNYGDPFCSTXN( - 1)) - LOG(PAKNYGDPPOTLKN( - 1)/PAKLMEMPSTRLCN( - 1))) + 0.2*DLOG(PAKNYWRTINFMCN( - 1)) + (1 - 0.2)*(0.5*DLOG(PAKNYGDPFCSTXN( - 1)) + 0.5*(PAKINFLEXPT/100) + DLOG(PAKNYGDPMKTPKN/PAKLMEMPSTRLCN)) - 0.2*(PAKLMUNRTOTLCN - PAKLMUNRSTRLCN)/100\\r',\n",
       " 'PAKPANUSATLS': 'DLOG(PAKPANUSATLS) = (0.295032006650061*((USAINTRXN/100 - @MOVAV(@PC(USANECONPRVTXN)/100,4)) - (PAKMPPOLNATRXN/100 - PAKINFLEXPT/100)) + 0.0745339074046556*(@PC(USANECONPRVTXN)/100 - @PC(PAKNECONPRVTXN)/100)) + 0.204055946624338*@DURING(\"2009\") + 0.0213\\r',\n",
       " 'PAKVELOCITY': 'DLOG(PAKVELOCITY) = 0.3*DLOG(PAKVELOCITY( - 1)) + 0.00117850753334913\\r'}"
      ]
     },
     "execution_count": 30,
     "metadata": {},
     "output_type": "execute_result"
    }
   ],
   "source": [
    "eviews_dict = {v: f.eviews for v,f in all_about_pak.all_frml_dict.items()}\n",
    "eviews_dict "
   ]
  },
  {
   "cell_type": "markdown",
   "id": "176f6a07",
   "metadata": {},
   "source": [
    "## Run the model \n",
    "In order to achieve numerical stability Gauss-Seidle has to be dampened: alfa=0.7 makes sure that the solution does not explode. \n",
    "The convergence criteria is tightend a lot. "
   ]
  },
  {
   "cell_type": "code",
   "execution_count": 32,
   "id": "8019ced1",
   "metadata": {},
   "outputs": [],
   "source": [
    "import fnmatch\n",
    "reverse_des  = {v:k for k,v in mpak.var_description.items()}\n",
    "list_des = fnmatch.filter(reverse_des.keys(),'*GDP*')\n",
    "list_var = [reverse_des[v] for v in list_des]\n"
   ]
  },
  {
   "cell_type": "markdown",
   "id": "78c958a8",
   "metadata": {},
   "source": [
    "## And the simulation result is also fine. \n",
    "Here the percent difference is displayed"
   ]
  },
  {
   "cell_type": "code",
   "execution_count": 15,
   "id": "e5816406",
   "metadata": {
    "scrolled": false
   },
   "outputs": [
    {
     "data": {
      "application/vnd.jupyter.widget-view+json": {
       "model_id": "d197da15b0294d61886a1667b9d8b4ba",
       "version_major": 2,
       "version_minor": 0
      },
      "text/plain": [
       "Tab(children=(Tab(children=(HTML(value='<?xml version=\"1.0\" encoding=\"utf-8\" standalone=\"no\"?>\\n<!DOCTYPE svg …"
      ]
     },
     "metadata": {},
     "output_type": "display_data"
    },
    {
     "data": {
      "text/html": [],
      "text/plain": []
     },
     "execution_count": 15,
     "metadata": {},
     "output_type": "execute_result"
    }
   ],
   "source": [
    "mpak['*GGEXPCAPTCN *NYGDPMKTPCN *GGDBTTOTLCN *BNCABFUNDCD PAKNVELECKN']"
   ]
  },
  {
   "cell_type": "markdown",
   "id": "5d090b2c",
   "metadata": {},
   "source": [
    "## Look at a stochastic variable \n",
    "Here the equations undergo more phases "
   ]
  },
  {
   "cell_type": "code",
   "execution_count": 10,
   "id": "3d24c44b",
   "metadata": {},
   "outputs": [
    {
     "data": {
      "text/plain": [
       "'Pakistan  model from paksolncons.wf1 27/3-2023'"
      ]
     },
     "execution_count": 10,
     "metadata": {},
     "output_type": "execute_result"
    }
   ],
   "source": [
    "mpak.model_description"
   ]
  },
  {
   "cell_type": "markdown",
   "id": "fa763b7d",
   "metadata": {},
   "source": [
    "## Now dump the model and data "
   ]
  },
  {
   "cell_type": "code",
   "execution_count": 11,
   "id": "239d4345",
   "metadata": {},
   "outputs": [],
   "source": [
    "if 1:\n",
    "    mpak.modeldump('models/270323_paksolncons.pcim')\n",
    "    if 0: \n",
    "        try:\n",
    "            mpal.modeldump('C:/modelflow manual/model_repo/270323_paksolncons.pcim')\n",
    "        except: \n",
    "            print('could not write to modelrepo file')"
   ]
  },
  {
   "cell_type": "code",
   "execution_count": 12,
   "id": "290cb3e6",
   "metadata": {},
   "outputs": [
    {
     "name": "stdout",
     "output_type": "stream",
     "text": [
      "file read:  C:\\wb new\\Charl\\models\\270323_paksolncons.pcim\n"
     ]
    }
   ],
   "source": [
    "mpakload,baselineload = model.modelload('models/270323_paksolncons.pcim',run = 1,alfa = 0.8)"
   ]
  },
  {
   "cell_type": "code",
   "execution_count": 13,
   "id": "1b5bae00",
   "metadata": {},
   "outputs": [
    {
     "name": "stdout",
     "output_type": "stream",
     "text": [
      "Will start solving: PAK\n",
      "Reusing the solver as no new data \n",
      "2022 Solved in 7 iterations\n",
      "2023 Solved in 7 iterations\n",
      "2024 Solved in 7 iterations\n",
      "2025 Solved in 7 iterations\n",
      "2026 Solved in 7 iterations\n",
      "2027 Solved in 7 iterations\n",
      "2028 Solved in 7 iterations\n",
      "2029 Solved in 7 iterations\n",
      "2030 Solved in 7 iterations\n",
      "2031 Solved in 7 iterations\n",
      "2032 Solved in 7 iterations\n",
      "2033 Solved in 7 iterations\n",
      "2034 Solved in 7 iterations\n",
      "2035 Solved in 7 iterations\n",
      "2036 Solved in 7 iterations\n",
      "2037 Solved in 7 iterations\n",
      "2038 Solved in 7 iterations\n",
      "2039 Solved in 7 iterations\n",
      "2040 Solved in 7 iterations\n",
      "2041 Solved in 7 iterations\n",
      "2042 Solved in 7 iterations\n",
      "2043 Solved in 7 iterations\n",
      "2044 Solved in 7 iterations\n",
      "2045 Solved in 7 iterations\n",
      "2046 Solved in 7 iterations\n",
      "2047 Solved in 7 iterations\n",
      "2048 Solved in 7 iterations\n",
      "2049 Solved in 7 iterations\n",
      "2050 Solved in 7 iterations\n",
      "PAK solved  \n"
     ]
    }
   ],
   "source": [
    "xx = mpakload(baseline,2022,2050,alfa=0.7,silent=0)"
   ]
  },
  {
   "cell_type": "code",
   "execution_count": 1,
   "id": "248db580",
   "metadata": {},
   "outputs": [
    {
     "ename": "NameError",
     "evalue": "name 'mpak' is not defined",
     "output_type": "error",
     "traceback": [
      "\u001b[1;31m---------------------------------------------------------------------------\u001b[0m",
      "\u001b[1;31mNameError\u001b[0m                                 Traceback (most recent call last)",
      "Cell \u001b[1;32mIn[1], line 1\u001b[0m\n\u001b[1;32m----> 1\u001b[0m \u001b[43mmpak\u001b[49m\n",
      "\u001b[1;31mNameError\u001b[0m: name 'mpak' is not defined"
     ]
    }
   ],
   "source": [
    "mpak"
   ]
  }
 ],
 "metadata": {
  "hide_input": false,
  "kernelspec": {
   "display_name": "Python 3 (ipykernel)",
   "language": "python",
   "name": "python3"
  },
  "language_info": {
   "codemirror_mode": {
    "name": "ipython",
    "version": 3
   },
   "file_extension": ".py",
   "mimetype": "text/x-python",
   "name": "python",
   "nbconvert_exporter": "python",
   "pygments_lexer": "ipython3",
   "version": "3.10.11"
  },
  "toc": {
   "base_numbering": 1,
   "nav_menu": {},
   "number_sections": false,
   "sideBar": true,
   "skip_h1_title": true,
   "title_cell": "Table of Contents",
   "title_sidebar": "Contents",
   "toc_cell": false,
   "toc_position": {
    "height": "calc(100% - 180px)",
    "left": "10px",
    "top": "150px",
    "width": "164.996px"
   },
   "toc_section_display": true,
   "toc_window_display": false
  },
  "varInspector": {
   "cols": {
    "lenName": 16,
    "lenType": 16,
    "lenVar": 40
   },
   "kernels_config": {
    "python": {
     "delete_cmd_postfix": "",
     "delete_cmd_prefix": "del ",
     "library": "var_list.py",
     "varRefreshCmd": "print(var_dic_list())"
    },
    "r": {
     "delete_cmd_postfix": ") ",
     "delete_cmd_prefix": "rm(",
     "library": "var_list.r",
     "varRefreshCmd": "cat(var_dic_list()) "
    }
   },
   "position": {
    "height": "431px",
    "left": "1076.61px",
    "right": "20px",
    "top": "-4.01px",
    "width": "800px"
   },
   "types_to_exclude": [
    "module",
    "function",
    "builtin_function_or_method",
    "instance",
    "_Feature"
   ],
   "window_display": false
  },
  "vscode": {
   "interpreter": {
    "hash": "c46e396bc442e6227666e5127a073e23b56b24a9342ed264ceb99df002349503"
   }
  }
 },
 "nbformat": 4,
 "nbformat_minor": 5
}
