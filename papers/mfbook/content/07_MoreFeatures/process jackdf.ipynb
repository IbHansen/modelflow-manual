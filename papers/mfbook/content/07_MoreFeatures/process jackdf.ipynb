{
 "cells": [
  {
   "cell_type": "code",
   "execution_count": 20,
   "id": "e75135cb",
   "metadata": {},
   "outputs": [],
   "source": [
    "import pandas as pd\n",
    "jackdf = pd.read_csv('jackdf.csv',index_col=0)"
   ]
  },
  {
   "cell_type": "code",
   "execution_count": 24,
   "id": "40d61105",
   "metadata": {},
   "outputs": [
    {
     "data": {
      "text/html": [
       "<div>\n",
       "<style scoped>\n",
       "    .dataframe tbody tr th:only-of-type {\n",
       "        vertical-align: middle;\n",
       "    }\n",
       "\n",
       "    .dataframe tbody tr th {\n",
       "        vertical-align: top;\n",
       "    }\n",
       "\n",
       "    .dataframe thead th {\n",
       "        text-align: right;\n",
       "    }\n",
       "</style>\n",
       "<table border=\"1\" class=\"dataframe\">\n",
       "  <thead>\n",
       "    <tr style=\"text-align: right;\">\n",
       "      <th></th>\n",
       "      <th>excluded</th>\n",
       "      <th>year</th>\n",
       "      <th>index</th>\n",
       "      <th>value</th>\n",
       "      <th>length</th>\n",
       "      <th>realvalue</th>\n",
       "      <th>imagvalue</th>\n",
       "      <th>excluded_description</th>\n",
       "    </tr>\n",
       "  </thead>\n",
       "  <tbody>\n",
       "    <tr>\n",
       "      <th>0</th>\n",
       "      <td>NONE</td>\n",
       "      <td>2023</td>\n",
       "      <td>0</td>\n",
       "      <td>0j</td>\n",
       "      <td>0.0</td>\n",
       "      <td>0.0</td>\n",
       "      <td>0.0</td>\n",
       "      <td>whole model</td>\n",
       "    </tr>\n",
       "    <tr>\n",
       "      <th>1</th>\n",
       "      <td>NONE</td>\n",
       "      <td>2023</td>\n",
       "      <td>1</td>\n",
       "      <td>0j</td>\n",
       "      <td>0.0</td>\n",
       "      <td>0.0</td>\n",
       "      <td>0.0</td>\n",
       "      <td>whole model</td>\n",
       "    </tr>\n",
       "    <tr>\n",
       "      <th>2</th>\n",
       "      <td>NONE</td>\n",
       "      <td>2023</td>\n",
       "      <td>2</td>\n",
       "      <td>0j</td>\n",
       "      <td>0.0</td>\n",
       "      <td>0.0</td>\n",
       "      <td>0.0</td>\n",
       "      <td>whole model</td>\n",
       "    </tr>\n",
       "    <tr>\n",
       "      <th>3</th>\n",
       "      <td>NONE</td>\n",
       "      <td>2023</td>\n",
       "      <td>3</td>\n",
       "      <td>0j</td>\n",
       "      <td>0.0</td>\n",
       "      <td>0.0</td>\n",
       "      <td>0.0</td>\n",
       "      <td>whole model</td>\n",
       "    </tr>\n",
       "    <tr>\n",
       "      <th>4</th>\n",
       "      <td>NONE</td>\n",
       "      <td>2023</td>\n",
       "      <td>4</td>\n",
       "      <td>0j</td>\n",
       "      <td>0.0</td>\n",
       "      <td>0.0</td>\n",
       "      <td>0.0</td>\n",
       "      <td>whole model</td>\n",
       "    </tr>\n",
       "    <tr>\n",
       "      <th>...</th>\n",
       "      <td>...</td>\n",
       "      <td>...</td>\n",
       "      <td>...</td>\n",
       "      <td>...</td>\n",
       "      <td>...</td>\n",
       "      <td>...</td>\n",
       "      <td>...</td>\n",
       "      <td>...</td>\n",
       "    </tr>\n",
       "    <tr>\n",
       "      <th>95</th>\n",
       "      <td>NONE</td>\n",
       "      <td>2023</td>\n",
       "      <td>95</td>\n",
       "      <td>0j</td>\n",
       "      <td>0.0</td>\n",
       "      <td>0.0</td>\n",
       "      <td>0.0</td>\n",
       "      <td>whole model</td>\n",
       "    </tr>\n",
       "    <tr>\n",
       "      <th>96</th>\n",
       "      <td>NONE</td>\n",
       "      <td>2023</td>\n",
       "      <td>96</td>\n",
       "      <td>0j</td>\n",
       "      <td>0.0</td>\n",
       "      <td>0.0</td>\n",
       "      <td>0.0</td>\n",
       "      <td>whole model</td>\n",
       "    </tr>\n",
       "    <tr>\n",
       "      <th>97</th>\n",
       "      <td>NONE</td>\n",
       "      <td>2023</td>\n",
       "      <td>97</td>\n",
       "      <td>0j</td>\n",
       "      <td>0.0</td>\n",
       "      <td>0.0</td>\n",
       "      <td>0.0</td>\n",
       "      <td>whole model</td>\n",
       "    </tr>\n",
       "    <tr>\n",
       "      <th>98</th>\n",
       "      <td>NONE</td>\n",
       "      <td>2023</td>\n",
       "      <td>98</td>\n",
       "      <td>0j</td>\n",
       "      <td>0.0</td>\n",
       "      <td>0.0</td>\n",
       "      <td>0.0</td>\n",
       "      <td>whole model</td>\n",
       "    </tr>\n",
       "    <tr>\n",
       "      <th>99</th>\n",
       "      <td>NONE</td>\n",
       "      <td>2023</td>\n",
       "      <td>99</td>\n",
       "      <td>0j</td>\n",
       "      <td>0.0</td>\n",
       "      <td>0.0</td>\n",
       "      <td>0.0</td>\n",
       "      <td>whole model</td>\n",
       "    </tr>\n",
       "  </tbody>\n",
       "</table>\n",
       "<p>100 rows × 8 columns</p>\n",
       "</div>"
      ],
      "text/plain": [
       "   excluded  year  index value  length  realvalue  imagvalue  \\\n",
       "0      NONE  2023      0    0j     0.0        0.0        0.0   \n",
       "1      NONE  2023      1    0j     0.0        0.0        0.0   \n",
       "2      NONE  2023      2    0j     0.0        0.0        0.0   \n",
       "3      NONE  2023      3    0j     0.0        0.0        0.0   \n",
       "4      NONE  2023      4    0j     0.0        0.0        0.0   \n",
       "..      ...   ...    ...   ...     ...        ...        ...   \n",
       "95     NONE  2023     95    0j     0.0        0.0        0.0   \n",
       "96     NONE  2023     96    0j     0.0        0.0        0.0   \n",
       "97     NONE  2023     97    0j     0.0        0.0        0.0   \n",
       "98     NONE  2023     98    0j     0.0        0.0        0.0   \n",
       "99     NONE  2023     99    0j     0.0        0.0        0.0   \n",
       "\n",
       "   excluded_description  \n",
       "0           whole model  \n",
       "1           whole model  \n",
       "2           whole model  \n",
       "3           whole model  \n",
       "4           whole model  \n",
       "..                  ...  \n",
       "95          whole model  \n",
       "96          whole model  \n",
       "97          whole model  \n",
       "98          whole model  \n",
       "99          whole model  \n",
       "\n",
       "[100 rows x 8 columns]"
      ]
     },
     "execution_count": 24,
     "metadata": {},
     "output_type": "execute_result"
    }
   ],
   "source": [
    "jackdf.head(100) "
   ]
  },
  {
   "cell_type": "code",
   "execution_count": 25,
   "id": "5119770b",
   "metadata": {},
   "outputs": [
    {
     "data": {
      "text/html": [
       "<div>\n",
       "<style scoped>\n",
       "    .dataframe tbody tr th:only-of-type {\n",
       "        vertical-align: middle;\n",
       "    }\n",
       "\n",
       "    .dataframe tbody tr th {\n",
       "        vertical-align: top;\n",
       "    }\n",
       "\n",
       "    .dataframe thead th {\n",
       "        text-align: right;\n",
       "    }\n",
       "</style>\n",
       "<table border=\"1\" class=\"dataframe\">\n",
       "  <thead>\n",
       "    <tr style=\"text-align: right;\">\n",
       "      <th></th>\n",
       "      <th>excluded</th>\n",
       "      <th>year</th>\n",
       "      <th>index</th>\n",
       "      <th>value</th>\n",
       "      <th>length</th>\n",
       "      <th>realvalue</th>\n",
       "      <th>imagvalue</th>\n",
       "      <th>excluded_description</th>\n",
       "    </tr>\n",
       "  </thead>\n",
       "  <tbody>\n",
       "    <tr>\n",
       "      <th>1314</th>\n",
       "      <td>NONE</td>\n",
       "      <td>2023</td>\n",
       "      <td>1314</td>\n",
       "      <td>(1.0028171880072958+0.020851626011096212j)</td>\n",
       "      <td>1.003034</td>\n",
       "      <td>1.002817</td>\n",
       "      <td>0.020852</td>\n",
       "      <td>whole model</td>\n",
       "    </tr>\n",
       "    <tr>\n",
       "      <th>1315</th>\n",
       "      <td>NONE</td>\n",
       "      <td>2023</td>\n",
       "      <td>1315</td>\n",
       "      <td>(1.0028171880072958-0.020851626011096212j)</td>\n",
       "      <td>1.003034</td>\n",
       "      <td>1.002817</td>\n",
       "      <td>-0.020852</td>\n",
       "      <td>whole model</td>\n",
       "    </tr>\n",
       "  </tbody>\n",
       "</table>\n",
       "</div>"
      ],
      "text/plain": [
       "     excluded  year  index                                       value  \\\n",
       "1314     NONE  2023   1314  (1.0028171880072958+0.020851626011096212j)   \n",
       "1315     NONE  2023   1315  (1.0028171880072958-0.020851626011096212j)   \n",
       "\n",
       "        length  realvalue  imagvalue excluded_description  \n",
       "1314  1.003034   1.002817   0.020852          whole model  \n",
       "1315  1.003034   1.002817  -0.020852          whole model  "
      ]
     },
     "execution_count": 25,
     "metadata": {},
     "output_type": "execute_result"
    }
   ],
   "source": [
    "jackdf.query('excluded ==\"NONE\" & length > 1 & abs(imagvalue) != 0.0 &  year == 2023')"
   ]
  },
  {
   "cell_type": "code",
   "execution_count": 22,
   "id": "b27dd506",
   "metadata": {},
   "outputs": [
    {
     "name": "stdout",
     "output_type": "stream",
     "text": [
      "            excluded    length\n",
      "30    PAKBXGSRGNFSCD  1.125205\n",
      "0           CHNEXR05  1.136631\n",
      "205   PAKNVINDTOTLXN  1.136631\n",
      "204   PAKNVINDTOTLKN  1.136631\n",
      "203   PAKNVINDTOTLCN  1.136631\n",
      "202  PAKNVINDOTHRTXN  1.136631\n",
      "201  PAKNVINDOTHRTKN  1.136631\n",
      "200  PAKNVINDOTHRTCN  1.136631\n",
      "199   PAKNVINDMNGSXN  1.136631\n",
      "198   PAKNVINDMNGSKN  1.136631\n"
     ]
    }
   ],
   "source": [
    "year_of_interest = 2023\n",
    "\n",
    "# Using DataFrame.query method to filter for a specific year\n",
    "filtered_df = jackdf.query('year == @year_of_interest')\n",
    "\n",
    "# Grouping by 'excluded' and finding the maximum 'length' for each group\n",
    "largest_length_by_excluded_query = filtered_df.groupby('excluded')['length'].max(2).reset_index().sort_values('length')\n",
    "\n",
    "# Display the results\n",
    "print(largest_length_by_excluded_query.head(10))"
   ]
  },
  {
   "cell_type": "code",
   "execution_count": 23,
   "id": "2350cc8d",
   "metadata": {},
   "outputs": [
    {
     "data": {
      "text/plain": [
       "<Axes: ylabel='Frequency'>"
      ]
     },
     "execution_count": 23,
     "metadata": {},
     "output_type": "execute_result"
    },
    {
     "data": {
      "image/png": "[encoded data removed]",
      "text/plain": [
       "<Figure size 640x480 with 1 Axes>"
      ]
     },
     "metadata": {},
     "output_type": "display_data"
    }
   ],
   "source": [
    "largest_length_by_excluded_query.plot(kind='hist',bins=60)"
   ]
  }
 ],
 "metadata": {
  "hide_input": false,
  "kernelspec": {
   "display_name": "Python 3 (ipykernel)",
   "language": "python",
   "name": "python3"
  },
  "language_info": {
   "codemirror_mode": {
    "name": "ipython",
    "version": 3
   },
   "file_extension": ".py",
   "mimetype": "text/x-python",
   "name": "python",
   "nbconvert_exporter": "python",
   "pygments_lexer": "ipython3",
   "version": "3.10.11"
  },
  "toc": {
   "base_numbering": 1,
   "nav_menu": {},
   "number_sections": true,
   "sideBar": false,
   "skip_h1_title": false,
   "title_cell": "Table of Contents",
   "title_sidebar": "Contents",
   "toc_cell": false,
   "toc_position": {},
   "toc_section_display": true,
   "toc_window_display": false
  },
  "varInspector": {
   "cols": {
    "lenName": 16,
    "lenType": 16,
    "lenVar": 40
   },
   "kernels_config": {
    "python": {
     "delete_cmd_postfix": "",
     "delete_cmd_prefix": "del ",
     "library": "var_list.py",
     "varRefreshCmd": "print(var_dic_list())"
    },
    "r": {
     "delete_cmd_postfix": ") ",
     "delete_cmd_prefix": "rm(",
     "library": "var_list.r",
     "varRefreshCmd": "cat(var_dic_list()) "
    }
   },
   "types_to_exclude": [
    "module",
    "function",
    "builtin_function_or_method",
    "instance",
    "_Feature"
   ],
   "window_display": false
  }
 },
 "nbformat": 4,
 "nbformat_minor": 5
}
