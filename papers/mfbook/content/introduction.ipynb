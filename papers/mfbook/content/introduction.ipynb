{
 "cells": [
  {
   "cell_type": "markdown",
   "id": "8dddc19f",
   "metadata": {},
   "source": [
    "# Foreword\n",
    "\n",
    "\n",
    "Over the decades, the World Bank has invested heavily in the tools available to its country economists to analyze forecast and monitor economic activity.  The fruit of those efforts is the `MFMod` framework, a system of 184 macro-structural models of nearly all the economies in the world.\n",
    "\n",
    "`MFMod` is the work horse tool used by World Bank economists to produce the twice annual compendium [Macro Poverty Outlook](https://www.worldbank.org/en/publication/macro-poverty-outlook) which presents concise statements of the Bank's views on the major challenges, outlook, and forecasts for almost all of the developing countries in the world.\n",
    "\n",
    "Making the tool that underpins this publication available in an open source form to a broader audience has been a major focus of the Bank's modelling team over the past several years.  This publication is the culmination of this effort.\n",
    "\n",
    "While destined for a relatively small audience of macroeconomic modellers, it is hoped that it will generate significant benefits both for the Bank, which will benefit from feedback on the models, and for clients who will have for the first time access to the Bank's models in a costless form.\n",
    "\n",
    "\n",
    "Pablo Saavedra\n",
    "\n",
    "Vice President \n",
    "Equitable Growth, Finance and Institutions\n",
    "The World Bank"
   ]
  },
  {
   "cell_type": "code",
   "execution_count": null,
   "id": "22029ce7",
   "metadata": {
    "tags": [
     "remove_cell"
    ]
   },
   "outputs": [],
   "source": [
    "#This is code to manage dependencies if the notebook is executed in the google colab cloud service\n",
    "if 'google.colab' in str(get_ipython()):\n",
    "  import os\n",
    "  os.system('apt -qqq install graphviz')\n",
    "  os.system('pip -qqq install ModelFlowIb ipysheet  --no-dependencies ')\n"
   ]
  },
  {
   "cell_type": "code",
   "execution_count": null,
   "id": "f77bf0d3",
   "metadata": {},
   "outputs": [],
   "source": []
  },
  {
   "cell_type": "code",
   "execution_count": null,
   "id": "b9d12311",
   "metadata": {
    "tags": [
     "remove_cell"
    ]
   },
   "outputs": [],
   "source": [
    "# Prepare the notebook for use of modelflow \n",
    "\n",
    "# Jupyter magic command to improve the display of charts in the Notebook\n",
    "%matplotlib inline\n",
    "\n",
    "# Import pandas \n",
    "import pandas as pd\n",
    "\n",
    "# Import the model class from the modelclass module \n",
    "from modelclass import model \n",
    "\n",
    "# functions that improve rendering of modelflow outputs\n",
    "model.widescreen()\n",
    "model.scroll_off();"
   ]
  },
  {
   "cell_type": "code",
   "execution_count": null,
   "id": "df5bbfea",
   "metadata": {},
   "outputs": [],
   "source": []
  }
 ],
 "metadata": {
  "hide_input": false,
  "kernelspec": {
   "display_name": "Python 3 (ipykernel)",
   "language": "python",
   "name": "python3"
  },
  "language_info": {
   "codemirror_mode": {
    "name": "ipython",
    "version": 3
   },
   "file_extension": ".py",
   "mimetype": "text/x-python",
   "name": "python",
   "nbconvert_exporter": "python",
   "pygments_lexer": "ipython3",
   "version": "3.10.11"
  },
  "toc": {
   "base_numbering": 1,
   "nav_menu": {},
   "number_sections": true,
   "sideBar": true,
   "skip_h1_title": false,
   "title_cell": "Table of Contents",
   "title_sidebar": "Contents",
   "toc_cell": false,
   "toc_position": {},
   "toc_section_display": true,
   "toc_window_display": false
  },
  "varInspector": {
   "cols": {
    "lenName": 16,
    "lenType": 16,
    "lenVar": 40
   },
   "kernels_config": {
    "python": {
     "delete_cmd_postfix": "",
     "delete_cmd_prefix": "del ",
     "library": "var_list.py",
     "varRefreshCmd": "print(var_dic_list())"
    },
    "r": {
     "delete_cmd_postfix": ") ",
     "delete_cmd_prefix": "rm(",
     "library": "var_list.r",
     "varRefreshCmd": "cat(var_dic_list()) "
    }
   },
   "types_to_exclude": [
    "module",
    "function",
    "builtin_function_or_method",
    "instance",
    "_Feature"
   ],
   "window_display": false
  }
 },
 "nbformat": 4,
 "nbformat_minor": 5
}
