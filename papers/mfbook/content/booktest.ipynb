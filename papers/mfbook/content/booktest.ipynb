{
 "cells": [
  {
   "cell_type": "markdown",
   "metadata": {
    "slideshow": {
     "slide_type": "slide"
    }
   },
   "source": [
    "# Test of Jupyter book features.\n",
    "\n"
   ]
  },
  {
   "cell_type": "code",
   "execution_count": 1,
   "metadata": {
    "slideshow": {
     "slide_type": "slide"
    },
    "tags": [
     "remove-output"
    ]
   },
   "outputs": [
    {
     "data": {
      "text/html": [
       "\n",
       "        <style>\n",
       "            div#notebook-container    { width: 95%; }\n",
       "            div#menubar-container     { width: 65%; }\n",
       "            div#maintoolbar-container { width: 99%; }\n",
       "        </style>\n",
       "        "
      ],
      "text/plain": [
       "<IPython.core.display.HTML object>"
      ]
     },
     "metadata": {},
     "output_type": "display_data"
    }
   ],
   "source": [
    "%matplotlib inline \n",
    "\n",
    "import matplotlib.pyplot as plt\n",
    "import seaborn as sns\n",
    "import pandas as pd \n",
    "\n",
    "\n",
    "from modelclass import model \n",
    "model.widescreen();\n",
    "model.scroll_off();"
   ]
  },
  {
   "cell_type": "markdown",
   "metadata": {},
   "source": [
    "## Jupyter Book tests "
   ]
  },
  {
   "cell_type": "markdown",
   "metadata": {},
   "source": [
    "```{note}\n",
    "Here is a note!\n",
    "```"
   ]
  },
  {
   "cell_type": "markdown",
   "metadata": {},
   "source": [
    "```{warning}\n",
    "Here is a warning!\n",
    "```"
   ]
  },
  {
   "cell_type": "markdown",
   "metadata": {},
   "source": [
    "```{danger}\n",
    "Here is a danger!\n",
    "```"
   ]
  },
  {
   "cell_type": "markdown",
   "metadata": {},
   "source": [
    "```{margin} **My margin title**\n",
    "Here is my margin content, it is pretty cool!\n",
    "```"
   ]
  },
  {
   "cell_type": "markdown",
   "metadata": {},
   "source": [
    "````{margin} Code blocks in margins\n",
    "```python\n",
    "import pandas as pd \n",
    "print(\"here is some python\")\n",
    "```\n",
    "````"
   ]
  },
  {
   "cell_type": "markdown",
   "metadata": {},
   "source": [
    "This is a test of Epigraph\n",
    "\n",
    "```{epigraph}\n",
    "Here's my quote, it's pretty neat.\n",
    "I wonder how many lines I can create with\n",
    "a single stream-of-consciousness quote.\n",
    "I could try to add a list of ideas to talk about.\n",
    "I suppose I could just keep going on forever,\n",
    "but I'll stop here.\n",
    "```\n",
    "\n"
   ]
  },
  {
   "cell_type": "markdown",
   "metadata": {},
   "source": [
    "```{sidebar} **My sidebar title**\n",
    "Here is my sidebar content, it is pretty cool!\n",
    "```"
   ]
  },
  {
   "cell_type": "markdown",
   "metadata": {},
   "source": [
    "## Grouping af variables \n",
    "If we want to group position so that positions have are proportional, it can be done by adding rows to A and b\n",
    "if $position_{1}$ should be equal to $position_2$ : \n",
    "\n",
    "\\begin{gather*}\n",
    "A = \\begin{bmatrix} \n",
    "\t\t1 & \\phantom{-}1 & 1 \\\\\n",
    "        \\hline\n",
    "\t\t1 & -1 & 0 \\\\\n",
    "\t\t\\end{bmatrix} \\\\        \n",
    "         b = \\begin{bmatrix} \n",
    "\t\t1  \\\\\n",
    "\t    0 \\\\\n",
    "\t\t\\end{bmatrix}\n",
    "\\end{gather*}\n",
    "\n",
    "if $position_{1}$ should be equal to the double of $position_2$ A should be changed to: \n",
    "\n",
    "\\begin{gather*}\n",
    "A = \\begin{bmatrix} \n",
    "\t\t1 & \\phantom{-}1 & 1 \\\\ \n",
    "\t\t2 &  -1 & 0 \\\\\n",
    "\t\t\\end{bmatrix}\n",
    "\\end{gather*}"
   ]
  },
  {
   "cell_type": "code",
   "execution_count": null,
   "metadata": {},
   "outputs": [],
   "source": []
  },
  {
   "cell_type": "markdown",
   "metadata": {},
   "source": [
    "$$\n",
    "  \\sum_0^\\infty \\cfrac{x^3}{e^x-1}\\,dx = \\frac{\\pi^4}{15}\n",
    "$$"
   ]
  },
  {
   "cell_type": "markdown",
   "metadata": {},
   "source": [
    "$$\n",
    "  \\Sigma \\times 42\n",
    "$$"
   ]
  },
  {
   "cell_type": "markdown",
   "metadata": {},
   "source": [
    "$$\n",
    "\\begin{array}{lll}\n",
    "\\mbox{minimize:}  & \\lambda \\mathbf x^T   \\Sigma \\mathbf x - (1-\\lambda) \\mathbf r^T \\mathbf x & \\mbox{If }\\lambda \\mbox{ = 1 minimize risk, if } \\lambda\\mbox{ = 0 maximize return }\\\\\n",
    "\\mbox{subject to:} & \\mathbf x \\succeq \\mathbf{x^{min}} &\\mbox{Each position greater or equal a minimum}\\\\ \n",
    "                   & \\mathbf x \\preceq \\mathbf{x^{max}} &\\mbox{Each position less or equal a maximum}\\\\ \n",
    "                   & \\mathbf{riskweights}^T\\mathbf x \\leq Capital &\\mbox{Risk weighted assets less than or equal to capital}\\\\ \n",
    "                   & \\mathbf{lcrweights}^T\\mathbf x \\geq LCR &\\mbox{lcr weighted assets greater than or equal to LCR target}\\\\ \n",
    "                   & \\mathbf{leverageweight}^T\\mathbf x \\leq equity &\\mbox{leverage weighted assets less than or equal to equity}\\\\ \n",
    "                   & \\mathbf 1^T\\mathbf x = Budget & \\mbox{Sum of positions = E, we are not getting more money}\n",
    "\\end{array}\n",
    "$$\n"
   ]
  },
  {
   "cell_type": "markdown",
   "metadata": {},
   "source": [
    "```{admonition} Tip\n",
    ":class: tip\n",
    "Ask Ib \n",
    "```"
   ]
  },
  {
   "cell_type": "markdown",
   "metadata": {},
   "source": [
    ":::{note}\n",
    "This text is **standard** _Markdown_\n",
    ":::\n",
    "\n",
    ":::{table} This is a **standard** _Markdown_ title\n",
    ":align: left\n",
    ":widths: grid\n",
    "\n",
    "abc | mnp | xyz\n",
    "--- | --- | ---\n",
    "123 | 456 | 789\n",
    ":::"
   ]
  },
  {
   "cell_type": "markdown",
   "metadata": {},
   "source": [
    ":::{note}\n",
    "This text is **standard** _Markdown_\n",
    ":::\n",
    "\n",
    ":::{table} This is a **standard** _Markdown_ title\n",
    ":align: left\n",
    ":widths: grid\n",
    "\n",
    "abc | mnp | xyz\n",
    "--- | --- | ---\n",
    "123 | 456 | 789\n",
    ":::"
   ]
  },
  {
   "cell_type": "code",
   "execution_count": null,
   "metadata": {},
   "outputs": [],
   "source": []
  }
 ],
 "metadata": {
  "anaconda-cloud": {},
  "celltoolbar": "Edit Metadata",
  "hide_input": false,
  "kernelspec": {
   "display_name": "Python 3 (ipykernel)",
   "language": "python",
   "name": "python3"
  },
  "language_info": {
   "codemirror_mode": {
    "name": "ipython",
    "version": 3
   },
   "file_extension": ".py",
   "mimetype": "text/x-python",
   "name": "python",
   "nbconvert_exporter": "python",
   "pygments_lexer": "ipython3",
   "version": "3.9.9"
  },
  "toc": {
   "base_numbering": 1,
   "nav_menu": {},
   "number_sections": true,
   "sideBar": true,
   "skip_h1_title": false,
   "title_cell": "Table of Contents",
   "title_sidebar": "Contents",
   "toc_cell": false,
   "toc_position": {
    "height": "calc(100% - 180px)",
    "left": "10px",
    "top": "150px",
    "width": "256px"
   },
   "toc_section_display": true,
   "toc_window_display": false
  },
  "varInspector": {
   "cols": {
    "lenName": 16,
    "lenType": 16,
    "lenVar": 40
   },
   "kernels_config": {
    "python": {
     "delete_cmd_postfix": "",
     "delete_cmd_prefix": "del ",
     "library": "var_list.py",
     "varRefreshCmd": "print(var_dic_list())"
    },
    "r": {
     "delete_cmd_postfix": ") ",
     "delete_cmd_prefix": "rm(",
     "library": "var_list.r",
     "varRefreshCmd": "cat(var_dic_list()) "
    }
   },
   "types_to_exclude": [
    "module",
    "function",
    "builtin_function_or_method",
    "instance",
    "_Feature"
   ],
   "window_display": true
  }
 },
 "nbformat": 4,
 "nbformat_minor": 1
}
