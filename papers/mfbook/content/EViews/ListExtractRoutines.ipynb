{
 "cells": [
  {
   "cell_type": "markdown",
   "id": "65f6c05f",
   "metadata": {},
   "source": [
    "# Onboard a model defined in a .wf1 file\n",
    "This notebook takes a .wf1 workfile and transform  it to a modelflow model.<br>\n",
    "\n",
    "The overall process is performed in a Dataclass named:**GrapWfModel**<br> \n",
    "Close study of this class can be rewarding, but is outside the need of most users.<br>\n",
    "The overall structure is: \n",
    " 1. Eviews is started and the wf1 (or wf2) file is loaded\n",
    "    -    Some transformations are performed on data.\n",
    "    -    The model is unlinked \n",
    "    -    The workspace is saved as a wf2 file. Same name with ```_modelflow appended```\n",
    " 5. Eviews is closed \n",
    " 6. The wf2 file is read as a json file. \n",
    " 7. Relevant objects are extracted. \n",
    " 7. The MFMSA variable is  extracted, to be saved in the dumpfile. \n",
    " 8. The equations are transformed and normalized to modelflow format and classified into identities and stochastic\n",
    " 9. Stochastic equations are enriched by add_factor and fixing terms (dummy + fixing value)  \n",
    " 9. For Stochastic equations new fitted variables are generated - without add add_factors and dummies.  \n",
    " 9. A model to generate fitted variables is created  \n",
    " 9. A model to generate add_factors is created. \n",
    " 9. A model encompassing the original equations, the model for fitted variables and for add_factors is created. \n",
    " 9. The data series and scalars are shoveled into a Pandas dataframe \n",
    "     - Some special series are generated as the expression can not be incorporated into modelflow model specifications\n",
    "     - The model for fitted values is simulated in the specified timespan\n",
    "     - The model for add_factors is simulated in the timespan set in MFMSA\n",
    " 10. The data descriptions are extracted into a dictionary. \n",
    "    - Data descriptions for dummies, fixed values, fitted values and add_factors are derived. \n",
    " 11. Now we have a model and a dataframe with all variables which are needed.\n",
    " b\n",
    "The GrapWfModel instance in general keeps most of the steps so the developer can inspect the the different steps.  \n"
   ]
  },
  {
   "cell_type": "markdown",
   "id": "55349107",
   "metadata": {},
   "source": [
    "## Prerequisites  \n",
    "\n",
    "- Eviews version 12 \n",
    "- The python library: ```pyevies```  \n"
   ]
  },
  {
   "cell_type": "code",
   "execution_count": 1,
   "id": "c7be5a48",
   "metadata": {},
   "outputs": [],
   "source": [
    "%matplotlib Notebook"
   ]
  },
  {
   "cell_type": "code",
   "execution_count": 2,
   "id": "c82074e9",
   "metadata": {},
   "outputs": [
    {
     "data": {
      "text/html": [
       "\n",
       "        <style>\n",
       "            div#notebook-container    { width: 95%; }\n",
       "            div#menubar-container     { width: 65%; }\n",
       "            div#maintoolbar-container { width: 99%; }\n",
       "        </style>\n",
       "        "
      ],
      "text/plain": [
       "<IPython.core.display.HTML object>"
      ]
     },
     "metadata": {},
     "output_type": "display_data"
    }
   ],
   "source": [
    "from pathlib import Path\n",
    "\n",
    "from modelclass import model\n",
    "from modelgrabwf2 import GrabWfModel\n",
    "model.widescreen()"
   ]
  },
  {
   "cell_type": "markdown",
   "id": "15e120bf",
   "metadata": {},
   "source": [
    "## Model specific transformations \n",
    "Not all Eviews equations have a direct counterpart in modelflow.<br>\n",
    "To handle that two types of transformations can be provided for a specific model. \n",
    "- **eviews_run_lines** which specifies a list of Eviews command lines to be run. Typical to make some transformation of data which is not possible in modelflow. \n",
    "- **country_trans** which specifies a list of replacements to be done to the Eviews formulas before they are processed to modelflow. Typical to use the transformation mentioned above.  "
   ]
  },
  {
   "cell_type": "code",
   "execution_count": 10,
   "id": "12428027",
   "metadata": {},
   "outputs": [],
   "source": [
    "filename = Path('../model/paksolncons.wf1')\n",
    "modelname = 'pak'"
   ]
  },
  {
   "cell_type": "markdown",
   "id": "727f2214",
   "metadata": {},
   "source": [
    "## Process the model"
   ]
  },
  {
   "cell_type": "code",
   "execution_count": 12,
   "id": "79985f25",
   "metadata": {
    "scrolled": true
   },
   "outputs": [
    {
     "name": "stdout",
     "output_type": "stream",
     "text": [
      "\n",
      "Reading M:\\modelflow\\modelflow-manual\\papers\\mfbook\\content\\EViews\\..\\model\\paksolncons.wf1\n",
      "Assummed model name: PAK\n"
     ]
    },
    {
     "ename": "COMError",
     "evalue": "(-2147221495, 'Not able to get the moniker of the object', ('m:\\\\modelflow\\\\modelflow-manual\\\\papers\\\\mfbook\\\\content\\\\eviews\\\\..\\\\model\\\\paksolncons.wf1 not found on disk in \"WFOPEN \"M:\\\\MODELFLOW\\\\MODELFLOW-MANUAL\\\\PAPERS\\\\MFBOOK\\\\CONTENT\\\\EVIEWS\\\\..\\\\MODEL\\\\PAKSOLNCONS.WF1\"\".', 'EViews.Application.13.Run', None, 0, None))",
     "output_type": "error",
     "traceback": [
      "\u001b[1;31m---------------------------------------------------------------------------\u001b[0m",
      "\u001b[1;31mCOMError\u001b[0m                                  Traceback (most recent call last)",
      "Input \u001b[1;32mIn [12]\u001b[0m, in \u001b[0;36m<cell line: 3>\u001b[1;34m()\u001b[0m\n\u001b[0;32m      1\u001b[0m pak_trans \u001b[38;5;241m=\u001b[39m \u001b[38;5;28;01mlambda\u001b[39;00m \u001b[38;5;28minput\u001b[39m : \u001b[38;5;28minput\u001b[39m\u001b[38;5;241m.\u001b[39mreplace(\u001b[38;5;124m'\u001b[39m\u001b[38;5;124m- 01*D(\u001b[39m\u001b[38;5;124m'\u001b[39m,\u001b[38;5;124m'\u001b[39m\u001b[38;5;124m-1*D(\u001b[39m\u001b[38;5;124m'\u001b[39m)                \n\u001b[1;32m----> 3\u001b[0m all_about_pak \u001b[38;5;241m=\u001b[39m \u001b[43mGrabWfModel\u001b[49m\u001b[43m(\u001b[49m\u001b[43mfilename\u001b[49m\u001b[43m,\u001b[49m\u001b[43m \u001b[49m\n\u001b[0;32m      4\u001b[0m \u001b[43m                    \u001b[49m\u001b[43mcountry_trans\u001b[49m\u001b[43m \u001b[49m\u001b[38;5;241;43m=\u001b[39;49m\u001b[43m \u001b[49m\u001b[43mpak_trans\u001b[49m\u001b[43m,\u001b[49m\u001b[43m        \u001b[49m\n\u001b[0;32m      5\u001b[0m \u001b[43m                    \u001b[49m\u001b[43mmake_fitted\u001b[49m\u001b[43m \u001b[49m\u001b[38;5;241;43m=\u001b[39;49m\u001b[43m \u001b[49m\u001b[38;5;28;43;01mFalse\u001b[39;49;00m\u001b[43m,\u001b[49m\u001b[43m       \u001b[49m\u001b[38;5;66;43;03m# If we want to calculate a fittet value for stocastic eq \u001b[39;49;00m\n\u001b[0;32m      6\u001b[0m \u001b[43m                    \u001b[49m\u001b[43mdo_add_factor_calc\u001b[49m\u001b[38;5;241;43m=\u001b[39;49m\u001b[38;5;28;43;01mTrue\u001b[39;49;00m\u001b[43m,\u001b[49m\u001b[43m   \u001b[49m\u001b[38;5;66;43;03m# Stocastic equations are argumented by add factor \u001b[39;49;00m\n\u001b[0;32m      7\u001b[0m \u001b[43m                    \u001b[49m\u001b[43mstart\u001b[49m\u001b[43m \u001b[49m\u001b[38;5;241;43m=\u001b[39;49m\u001b[43m \u001b[49m\u001b[38;5;241;43m2020\u001b[39;49m\u001b[43m,\u001b[49m\n\u001b[0;32m      8\u001b[0m \u001b[43m                    \u001b[49m\u001b[43mend\u001b[49m\u001b[43m \u001b[49m\u001b[38;5;241;43m=\u001b[39;49m\u001b[43m \u001b[49m\u001b[38;5;241;43m2100\u001b[39;49m\u001b[43m,\u001b[49m\u001b[43m \u001b[49m\n\u001b[0;32m      9\u001b[0m \u001b[43m                    \u001b[49m\u001b[43mfit_start\u001b[49m\u001b[43m \u001b[49m\u001b[38;5;241;43m=\u001b[39;49m\u001b[43m \u001b[49m\u001b[38;5;241;43m2000\u001b[39;49m\u001b[43m,\u001b[49m\u001b[43m          \u001b[49m\u001b[38;5;66;43;03m# Start of calculation of fittet model in baseline \u001b[39;49;00m\n\u001b[0;32m     10\u001b[0m \u001b[43m                    \u001b[49m\u001b[43mfit_end\u001b[49m\u001b[43m   \u001b[49m\u001b[38;5;241;43m=\u001b[39;49m\u001b[43m \u001b[49m\u001b[38;5;241;43m2030\u001b[39;49m\u001b[43m \u001b[49m\u001b[43m)\u001b[49m\n",
      "File \u001b[1;32m<string>:17\u001b[0m, in \u001b[0;36m__init__\u001b[1;34m(self, filename, modelname, eviews_run_lines, start, end, country_trans, country_df_trans, make_fitted, fit_start, fit_end, do_add_factor_calc, test_frml, disable_progress)\u001b[0m\n",
      "File \u001b[1;32m~\\.conda\\envs\\mf_pinned_developement_test\\lib\\site-packages\\ModelFlow-1.0.8-py3.9.egg\\modelgrabwf2.py:243\u001b[0m, in \u001b[0;36mGrabWfModel.__post_init__\u001b[1;34m(self)\u001b[0m\n\u001b[0;32m    240\u001b[0m     \u001b[38;5;28mself\u001b[39m\u001b[38;5;241m.\u001b[39mrawmodel_org \u001b[38;5;241m=\u001b[39m\u001b[38;5;28mself\u001b[39m\u001b[38;5;241m.\u001b[39mtest_frml \n\u001b[0;32m    241\u001b[0m \u001b[38;5;28;01melse\u001b[39;00m:     \n\u001b[0;32m    242\u001b[0m \u001b[38;5;66;03m# breakpoint()\u001b[39;00m\n\u001b[1;32m--> 243\u001b[0m     wf2name,\u001b[38;5;28mself\u001b[39m\u001b[38;5;241m.\u001b[39mmodelname  \u001b[38;5;241m=\u001b[39m \u001b[43mwf1_to_wf2\u001b[49m\u001b[43m(\u001b[49m\u001b[38;5;28;43mself\u001b[39;49m\u001b[38;5;241;43m.\u001b[39;49m\u001b[43mfilename\u001b[49m\u001b[43m \u001b[49m\u001b[43m,\u001b[49m\u001b[43mmodelname\u001b[49m\u001b[38;5;241;43m=\u001b[39;49m\u001b[38;5;28;43mself\u001b[39;49m\u001b[38;5;241;43m.\u001b[39;49m\u001b[43mmodelname\u001b[49m\u001b[43m,\u001b[49m\u001b[43meviews_run_lines\u001b[49m\u001b[38;5;241;43m=\u001b[39;49m\u001b[43m \u001b[49m\u001b[38;5;28;43mself\u001b[39;49m\u001b[38;5;241;43m.\u001b[39;49m\u001b[43meviews_run_lines\u001b[49m\u001b[43m)\u001b[49m \n\u001b[0;32m    244\u001b[0m     \u001b[38;5;28mself\u001b[39m\u001b[38;5;241m.\u001b[39mmodel_all_about \u001b[38;5;241m=\u001b[39m wf2_to_clean(wf2name,modelname\u001b[38;5;241m=\u001b[39m\u001b[38;5;28mself\u001b[39m\u001b[38;5;241m.\u001b[39mmodelname)\n\u001b[0;32m    246\u001b[0m     \u001b[38;5;28mprint\u001b[39m(\u001b[38;5;124mf\u001b[39m\u001b[38;5;124m'\u001b[39m\u001b[38;5;130;01m\\n\u001b[39;00m\u001b[38;5;124mProcessing the model:\u001b[39m\u001b[38;5;132;01m{\u001b[39;00m\u001b[38;5;28mself\u001b[39m\u001b[38;5;241m.\u001b[39mmodelname\u001b[38;5;132;01m}\u001b[39;00m\u001b[38;5;124m'\u001b[39m,flush\u001b[38;5;241m=\u001b[39m\u001b[38;5;28;01mTrue\u001b[39;00m)\n",
      "File \u001b[1;32m~\\.conda\\envs\\mf_pinned_developement_test\\lib\\site-packages\\ModelFlow-1.0.8-py3.9.egg\\modelgrabwf2.py:91\u001b[0m, in \u001b[0;36mwf1_to_wf2\u001b[1;34m(filename, modelname, eviews_run_lines)\u001b[0m\n\u001b[0;32m     88\u001b[0m     modelname \u001b[38;5;241m=\u001b[39m wf1\u001b[38;5;241m.\u001b[39mstem[:\u001b[38;5;241m3\u001b[39m]\u001b[38;5;241m.\u001b[39mupper() \n\u001b[0;32m     89\u001b[0m     \u001b[38;5;28mprint\u001b[39m(\u001b[38;5;124mf\u001b[39m\u001b[38;5;124m'\u001b[39m\u001b[38;5;124mAssummed model name: \u001b[39m\u001b[38;5;132;01m{\u001b[39;00mmodelname\u001b[38;5;132;01m}\u001b[39;00m\u001b[38;5;124m'\u001b[39m)\n\u001b[1;32m---> 91\u001b[0m \u001b[43mevp\u001b[49m\u001b[38;5;241;43m.\u001b[39;49m\u001b[43mRun\u001b[49m\u001b[43m(\u001b[49m\u001b[38;5;124;43mfr\u001b[39;49m\u001b[38;5;124;43m'\u001b[39;49m\u001b[38;5;124;43mwfopen \u001b[39;49m\u001b[38;5;124;43m\"\u001b[39;49m\u001b[38;5;132;43;01m{\u001b[39;49;00m\u001b[43mwf1\u001b[49m\u001b[38;5;132;43;01m}\u001b[39;49;00m\u001b[38;5;124;43m\"\u001b[39;49m\u001b[38;5;124;43m'\u001b[39;49m\u001b[43m,\u001b[49m\u001b[43meviewsapp\u001b[49m\u001b[43m)\u001b[49m\n\u001b[0;32m     92\u001b[0m evp\u001b[38;5;241m.\u001b[39mRun( \u001b[38;5;124mr\u001b[39m\u001b[38;5;124m'\u001b[39m\u001b[38;5;124msmpl @all\u001b[39m\u001b[38;5;124m'\u001b[39m,eviewsapp)\n\u001b[0;32m     93\u001b[0m evp\u001b[38;5;241m.\u001b[39mRun( \u001b[38;5;124mr\u001b[39m\u001b[38;5;124m'\u001b[39m\u001b[38;5;124mseries eviews_trend = @TREND\u001b[39m\u001b[38;5;124m'\u001b[39m,eviewsapp)\n",
      "File \u001b[1;32m~\\.conda\\envs\\mf_pinned_developement_test\\lib\\site-packages\\pyeviews\\__init__.py:464\u001b[0m, in \u001b[0;36mRun\u001b[1;34m(command, app)\u001b[0m\n\u001b[0;32m    462\u001b[0m \u001b[38;5;124;03m\"\"\"Send commands to EViews.\"\"\"\u001b[39;00m\n\u001b[0;32m    463\u001b[0m app \u001b[38;5;241m=\u001b[39m _GetApp(app)\n\u001b[1;32m--> 464\u001b[0m \u001b[43mapp\u001b[49m\u001b[38;5;241;43m.\u001b[39;49m\u001b[43mRun\u001b[49m\u001b[43m(\u001b[49m\u001b[43mcommand\u001b[49m\u001b[43m)\u001b[49m\n",
      "\u001b[1;31mCOMError\u001b[0m: (-2147221495, 'Not able to get the moniker of the object', ('m:\\\\modelflow\\\\modelflow-manual\\\\papers\\\\mfbook\\\\content\\\\eviews\\\\..\\\\model\\\\paksolncons.wf1 not found on disk in \"WFOPEN \"M:\\\\MODELFLOW\\\\MODELFLOW-MANUAL\\\\PAPERS\\\\MFBOOK\\\\CONTENT\\\\EVIEWS\\\\..\\\\MODEL\\\\PAKSOLNCONS.WF1\"\".', 'EViews.Application.13.Run', None, 0, None))"
     ]
    }
   ],
   "source": [
    "pak_trans = lambda input : input.replace('- 01*D(','-1*D(')                \n",
    "\n",
    "all_about_pak = GrabWfModel(filename, \n",
    "                    country_trans = pak_trans,        \n",
    "                    make_fitted = False,       # If we want to calculate a fittet value for stocastic eq \n",
    "                    do_add_factor_calc=True,   # Stocastic equations are argumented by add factor \n",
    "                    start = 2020,\n",
    "                    end = 2100, \n",
    "                    fit_start = 2000,          # Start of calculation of fittet model in baseline \n",
    "                    fit_end   = 2030 ) "
   ]
  },
  {
   "cell_type": "code",
   "execution_count": null,
   "id": "d4863b5c",
   "metadata": {},
   "outputs": [],
   "source": [
    "all_about_pak.model_all_about['mfmsa_options']"
   ]
  },
  {
   "cell_type": "markdown",
   "id": "38c42e1f",
   "metadata": {},
   "source": [
    "## Check if each equation on its own result in the values provided. \n",
    "aka: residual check <br> \n",
    "If they are not pretty close, something is very wrong. "
   ]
  },
  {
   "cell_type": "code",
   "execution_count": null,
   "id": "c6dd4d13",
   "metadata": {},
   "outputs": [],
   "source": [
    "all_about_pak.test_model(all_about_pak.start,\n",
    "                         all_about_pak.end,\n",
    "                         maxerr=100,tol=0.00001,\n",
    "                         showall=0)"
   ]
  },
  {
   "cell_type": "markdown",
   "id": "540645a4",
   "metadata": {},
   "source": [
    "## Extract the model and the baseline\n",
    "**all_about_ken** has a lot of content including. \n",
    "- .mmodel is the model instance\n",
    "- .base_input is the baseline where the add factors and the fitted values are calculated "
   ]
  },
  {
   "cell_type": "code",
   "execution_count": 7,
   "id": "fa9578fb",
   "metadata": {},
   "outputs": [
    {
     "ename": "NameError",
     "evalue": "name 'all_about_pak' is not defined",
     "output_type": "error",
     "traceback": [
      "\u001b[1;31m---------------------------------------------------------------------------\u001b[0m",
      "\u001b[1;31mNameError\u001b[0m                                 Traceback (most recent call last)",
      "Input \u001b[1;32mIn [7]\u001b[0m, in \u001b[0;36m<cell line: 2>\u001b[1;34m()\u001b[0m\n\u001b[0;32m      1\u001b[0m \u001b[38;5;66;03m#mpak,baseline     = all_about_pak()     \u001b[39;00m\n\u001b[1;32m----> 2\u001b[0m baseline \u001b[38;5;241m=\u001b[39m \u001b[43mall_about_pak\u001b[49m\u001b[38;5;241m.\u001b[39mbase_input\n\u001b[0;32m      3\u001b[0m mpak\u001b[38;5;241m.\u001b[39mmodel_description\u001b[38;5;241m=\u001b[39m\u001b[38;5;124m'\u001b[39m\u001b[38;5;124mPakistan  model from paksolncons.wf1 27/3-2023\u001b[39m\u001b[38;5;124m'\u001b[39m\n\u001b[0;32m      5\u001b[0m pak_all_frml_dict \u001b[38;5;241m=\u001b[39m all_about_pak\u001b[38;5;241m.\u001b[39mall_frml_dict\n",
      "\u001b[1;31mNameError\u001b[0m: name 'all_about_pak' is not defined"
     ]
    }
   ],
   "source": [
    "#mpak,baseline     = all_about_pak()     \n",
    "baseline = all_about_pak.base_input\n",
    "mpak.model_description='Pakistan  model from paksolncons.wf1 27/3-2023'\n",
    "\n",
    "pak_all_frml_dict = all_about_pak.all_frml_dict\n"
   ]
  },
  {
   "cell_type": "markdown",
   "id": "176f6a07",
   "metadata": {},
   "source": [
    "## Run the model \n",
    "In order to achieve numerical stability Gauss-Seidle has to be dampened: alfa=0.7 makes sure that the solution does not explode. \n",
    "The convergence criteria is tightend a lot. "
   ]
  },
  {
   "cell_type": "code",
   "execution_count": null,
   "id": "8019ced1",
   "metadata": {},
   "outputs": [],
   "source": [
    "res = mpak(baseline,2022,2100,silent=1,alfa=1,ldumpvar=0)\n"
   ]
  },
  {
   "cell_type": "markdown",
   "id": "78c958a8",
   "metadata": {},
   "source": [
    "## And the simulation result is also fine. \n",
    "Here the percent difference is displayed"
   ]
  },
  {
   "cell_type": "code",
   "execution_count": null,
   "id": "e5816406",
   "metadata": {
    "scrolled": false
   },
   "outputs": [],
   "source": [
    "mpak['*GGEXPCAPTCN *NYGDPMKTPCN *GGDBTTOTLCN *BNCABFUNDCD PAKNVELECKN']"
   ]
  },
  {
   "cell_type": "markdown",
   "id": "5d090b2c",
   "metadata": {},
   "source": [
    "## Look at a stochastic variable \n",
    "Here the equations undergo more phases "
   ]
  },
  {
   "cell_type": "code",
   "execution_count": null,
   "id": "b9f09fd8",
   "metadata": {},
   "outputs": [],
   "source": [
    "mpak.model_description"
   ]
  },
  {
   "cell_type": "markdown",
   "id": "fa763b7d",
   "metadata": {},
   "source": [
    "## Now dump the model and data "
   ]
  },
  {
   "cell_type": "code",
   "execution_count": null,
   "id": "239d4345",
   "metadata": {},
   "outputs": [],
   "source": [
    "if 1:\n",
    "    mpak.modeldump('models/270323_paksolncons.pcim')\n",
    "    if 0: \n",
    "        try:\n",
    "            mpak.modeldump('C:/modelflow manual/model_repo/270323_paksolncons.pcim')\n",
    "        except: \n",
    "            print('could not write to modelrepo file')"
   ]
  },
  {
   "cell_type": "code",
   "execution_count": null,
   "id": "290cb3e6",
   "metadata": {},
   "outputs": [],
   "source": [
    "mpakload,baselineload = model.modelload('models/270323_paksolncons.pcim',run = 1,alfa = 0.8)"
   ]
  },
  {
   "cell_type": "code",
   "execution_count": null,
   "id": "1b5bae00",
   "metadata": {},
   "outputs": [],
   "source": [
    "xx = mpakload(baseline,2022,2050,alfa=0.7,silent=0)"
   ]
  },
  {
   "cell_type": "code",
   "execution_count": 44,
   "id": "f51116e6",
   "metadata": {},
   "outputs": [
    {
     "data": {
      "text/plain": [
       "['PAKNYGDPFCSTKN',\n",
       " 'PAKNYGDPMKTPCN',\n",
       " 'PAKNYGDPMKTPKN',\n",
       " 'PAKNYGDPFCSTXN_A',\n",
       " 'PAKNYGDPFCSTXN_D',\n",
       " 'PAKNYGDPFCSTXN_X']"
      ]
     },
     "execution_count": 44,
     "metadata": {},
     "output_type": "execute_result"
    }
   ],
   "source": [
    "import fnmatch\n",
    "reverse_des  = {v:k for k,v in mpak.var_description.items()}\n",
    "list_des = fnmatch.filter(reverse_des.keys(),'*GDP*')\n",
    "list_var = [reverse_des[v] for v in list_des]"
   ]
  },
  {
   "cell_type": "code",
   "execution_count": 37,
   "id": "d53f69f0",
   "metadata": {},
   "outputs": [
    {
     "name": "stdout",
     "output_type": "stream",
     "text": [
      "PAKNYGDPFCSTKN   : FRML <IDENT> PAKNYGDPFCSTKN = PAKNYGDPMKTPKN-PAKNYTAXNINDKN $\n",
      "PAKNYGDPMKTPCN   : FRML <IDENT> PAKNYGDPMKTPCN = PAKNECONPRVTCN+PAKNECONGOVTCN+PAKNEGDIFTOTCN+PAKNEGDISTKBCN+PAKNEEXPGNFSCN-PAKNEIMPGNFSCN+PAKNYGDPDISCCN+PAKADAP*PAKDISPREPCN $\n",
      "PAKNYGDPMKTPKN   : FRML <IDENT> PAKNYGDPMKTPKN = PAKNECONPRVTKN+PAKNECONGOVTKN+PAKNEGDIFTOTKN+PAKNEGDISTKBKN+PAKNEEXPGNFSKN-PAKNEIMPGNFSKN+PAKNYGDPDISCKN+PAKADAP*PAKDISPREPKN $\n",
      "PAKNYGDPFCSTXN_A : Exogenous\n",
      "PAKNYGDPFCSTXN_D : Exogenous\n",
      "PAKNYGDPFCSTXN_X : Exogenous\n"
     ]
    }
   ],
   "source": [
    "mpak[' '.join( [reverse_des[v] for v in list_des])].frml"
   ]
  },
  {
   "cell_type": "markdown",
   "id": "c9702800",
   "metadata": {},
   "source": [
    "# Allow for searchable information about model\n",
    "\n",
    "The below creates a dictionary linking variable names to their eviews variables."
   ]
  },
  {
   "cell_type": "code",
   "execution_count": 5,
   "id": "cbed0ff0",
   "metadata": {},
   "outputs": [
    {
     "ename": "NameError",
     "evalue": "name 'all_about_pak' is not defined",
     "output_type": "error",
     "traceback": [
      "\u001b[1;31m---------------------------------------------------------------------------\u001b[0m",
      "\u001b[1;31mNameError\u001b[0m                                 Traceback (most recent call last)",
      "Input \u001b[1;32mIn [5]\u001b[0m, in \u001b[0;36m<cell line: 1>\u001b[1;34m()\u001b[0m\n\u001b[1;32m----> 1\u001b[0m eviews_dict \u001b[38;5;241m=\u001b[39m {v: f\u001b[38;5;241m.\u001b[39meviews \u001b[38;5;28;01mfor\u001b[39;00m v,f \u001b[38;5;129;01min\u001b[39;00m \u001b[43mall_about_pak\u001b[49m\u001b[38;5;241m.\u001b[39mall_frml_dict\u001b[38;5;241m.\u001b[39mitems()}\n\u001b[0;32m      2\u001b[0m eviews_dict\n",
      "\u001b[1;31mNameError\u001b[0m: name 'all_about_pak' is not defined"
     ]
    }
   ],
   "source": [
    "eviews_dict = {v: f.eviews for v,f in all_about_pak.all_frml_dict.items()}\n",
    "eviews_dict "
   ]
  },
  {
   "cell_type": "code",
   "execution_count": 50,
   "id": "77a5553a",
   "metadata": {},
   "outputs": [],
   "source": [
    "\n",
    "all_dict = {v: {'frml':mpak.allvar[v]['frml'],'des':mpak.var_description[v],\n",
    "    'eviews':eviews_dict[v]} for v in list_var if v in mpak.endogene}"
   ]
  },
  {
   "cell_type": "code",
   "execution_count": 57,
   "id": "db14e8af",
   "metadata": {},
   "outputs": [
    {
     "name": "stdout",
     "output_type": "stream",
     "text": [
      "PAKNYGDPFCSTKN  @IDENTITY PAKNYGDPFCSTKN  = PAKNYGDPMKTPKN  - PAKNYTAXNINDKN\r\n",
      "PAKNYGDPMKTPCN  @IDENTITY PAKNYGDPMKTPCN  = PAKNECONPRVTCN  + PAKNECONGOVTCN  + PAKNEGDIFTOTCN  + PAKNEGDISTKBCN  + PAKNEEXPGNFSCN  - PAKNEIMPGNFSCN  + PAKNYGDPDISCCN  + PAKadap  * PAKDISPREPCN\r\n",
      "PAKNYGDPMKTPKN  @IDENTITY PAKNYGDPMKTPKN  = PAKNECONPRVTKN  + PAKNECONGOVTKN  + PAKNEGDIFTOTKN  + PAKNEGDISTKBKN  + PAKNEEXPGNFSKN  - PAKNEIMPGNFSKN  + PAKNYGDPDISCKN  + PAKadap  * PAKDISPREPKN\r\n"
     ]
    }
   ],
   "source": [
    "\n",
    "for v in all_dict.keys():\n",
    "    print(f'{v:10}  {all_dict[v][\"eviews\"]}')"
   ]
  }
 ],
 "metadata": {
  "hide_input": false,
  "kernelspec": {
   "display_name": "Python 3 (ipykernel)",
   "language": "python",
   "name": "python3"
  },
  "language_info": {
   "codemirror_mode": {
    "name": "ipython",
    "version": 3
   },
   "file_extension": ".py",
   "mimetype": "text/x-python",
   "name": "python",
   "nbconvert_exporter": "python",
   "pygments_lexer": "ipython3",
   "version": "3.9.12"
  },
  "toc": {
   "base_numbering": 1,
   "nav_menu": {},
   "number_sections": false,
   "sideBar": true,
   "skip_h1_title": true,
   "title_cell": "Table of Contents",
   "title_sidebar": "Contents",
   "toc_cell": false,
   "toc_position": {
    "height": "calc(100% - 180px)",
    "left": "10px",
    "top": "150px",
    "width": "164.996px"
   },
   "toc_section_display": true,
   "toc_window_display": true
  },
  "varInspector": {
   "cols": {
    "lenName": 16,
    "lenType": 16,
    "lenVar": 40
   },
   "kernels_config": {
    "python": {
     "delete_cmd_postfix": "",
     "delete_cmd_prefix": "del ",
     "library": "var_list.py",
     "varRefreshCmd": "print(var_dic_list())"
    },
    "r": {
     "delete_cmd_postfix": ") ",
     "delete_cmd_prefix": "rm(",
     "library": "var_list.r",
     "varRefreshCmd": "cat(var_dic_list()) "
    }
   },
   "position": {
    "height": "431px",
    "left": "1076.61px",
    "right": "20px",
    "top": "-4.01px",
    "width": "800px"
   },
   "types_to_exclude": [
    "module",
    "function",
    "builtin_function_or_method",
    "instance",
    "_Feature"
   ],
   "window_display": false
  },
  "vscode": {
   "interpreter": {
    "hash": "c46e396bc442e6227666e5127a073e23b56b24a9342ed264ceb99df002349503"
   }
  }
 },
 "nbformat": 4,
 "nbformat_minor": 5
}
