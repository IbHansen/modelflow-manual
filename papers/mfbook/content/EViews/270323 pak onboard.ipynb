{
 "cells": [
  {
   "cell_type": "markdown",
   "id": "65f6c05f",
   "metadata": {},
   "source": [
    "# Onboard a model defined in a .wf1 file\n",
    "This notebook takes a .wf1 workfile and transform  it to a modelflow model.<br>\n",
    "\n",
    "The overall process is performed in a Dataclass named:**GrapWfModel**<br> \n",
    "Close study of this class can be rewarding, but is outside the need of most users.<br>\n",
    "The overall structure is: \n",
    " 1. Eviews is started and the wf1 (or wf2) file is loaded\n",
    "    -    Some transformations are performed on data.\n",
    "    -    The model is unlinked \n",
    "    -    The workspace is saved as a wf2 file. Same name with ```_modelflow appended```\n",
    " 5. Eviews is closed \n",
    " 6. The wf2 file is read as a json file. \n",
    " 7. Relevant objects are extracted. \n",
    " 7. The MFMSA variable is  extracted, to be saved in the dumpfile. \n",
    " 8. The equations are transformed and normalized to modelflow format and classified into identities and stochastic\n",
    " 9. Stochastic equations are enriched by add_factor and fixing terms (dummy + fixing value)  \n",
    " 9. For Stochastic equations new fitted variables are generated - without add add_factors and dummies.  \n",
    " 9. A model to generate fitted variables is created  \n",
    " 9. A model to generate add_factors is created. \n",
    " 9. A model encompassing the original equations, the model for fitted variables and for add_factors is created. \n",
    " 9. The data series and scalars are shoveled into a Pandas dataframe \n",
    "     - Some special series are generated as the expression can not be incorporated into modelflow model specifications\n",
    "     - The model for fitted values is simulated in the specified timespan\n",
    "     - The model for add_factors is simulated in the timespan set in MFMSA\n",
    " 10. The data descriptions are extracted into a dictionary. \n",
    "    - Data descriptions for dummies, fixed values, fitted values and add_factors are derived. \n",
    " 11. Now we have a model and a dataframe with all variables which are needed.\n",
    " b\n",
    "The GrapWfModel instance in general keeps most of the steps so the developer can inspect the the different steps.  \n"
   ]
  },
  {
   "cell_type": "markdown",
   "id": "55349107",
   "metadata": {},
   "source": [
    "## Prerequisites  \n",
    "\n",
    "- Eviews version 12 \n",
    "- The python library: ```pyevies```  \n"
   ]
  },
  {
   "cell_type": "code",
   "execution_count": 1,
   "id": "c7be5a48",
   "metadata": {},
   "outputs": [],
   "source": [
    "%matplotlib Notebook"
   ]
  },
  {
   "cell_type": "code",
   "execution_count": 2,
   "id": "c82074e9",
   "metadata": {},
   "outputs": [
    {
     "data": {
      "text/html": [
       "\n",
       "        <style>\n",
       "            div#notebook-container    { width: 95%; }\n",
       "            div#menubar-container     { width: 65%; }\n",
       "            div#maintoolbar-container { width: 99%; }\n",
       "        </style>\n",
       "        "
      ],
      "text/plain": [
       "<IPython.core.display.HTML object>"
      ]
     },
     "metadata": {},
     "output_type": "display_data"
    }
   ],
   "source": [
    "from pathlib import Path\n",
    "\n",
    "from modelclass import model\n",
    "from modelgrabwf2 import GrabWfModel\n",
    "model.widescreen()"
   ]
  },
  {
   "cell_type": "markdown",
   "id": "15e120bf",
   "metadata": {},
   "source": [
    "## Model specific transformations \n",
    "Not all Eviews equations have a direct counterpart in modelflow.<br>\n",
    "To handle that two types of transformations can be provided for a specific model. \n",
    "- **eviews_run_lines** which specifies a list of Eviews command lines to be run. Typical to make some transformation of data which is not possible in modelflow. \n",
    "- **country_trans** which specifies a list of replacements to be done to the Eviews formulas before they are processed to modelflow. Typical to use the transformation mentioned above.  "
   ]
  },
  {
   "cell_type": "code",
   "execution_count": 3,
   "id": "12428027",
   "metadata": {},
   "outputs": [],
   "source": [
    "filename = Path('paksolncons.wf1')\n",
    "modelname = 'pak'"
   ]
  },
  {
   "cell_type": "markdown",
   "id": "727f2214",
   "metadata": {},
   "source": [
    "## Process the model"
   ]
  },
  {
   "cell_type": "code",
   "execution_count": 4,
   "id": "79985f25",
   "metadata": {},
   "outputs": [
    {
     "name": "stdout",
     "output_type": "stream",
     "text": [
      "\n",
      "Reading c:\\wb new\\Charl\\paksolncons.wf1\n",
      "Assummed model name: PAK\n",
      "The model: PAK is unlinked \n",
      "Writing C:\\wb new\\Charl\\paksolncons_modelflow.wf2\n",
      "Model name: PAK\n",
      "\n",
      "Processing the model:PAK\n"
     ]
    },
    {
     "name": "stderr",
     "output_type": "stream",
     "text": [
      "Normalizing model: 100%|███████████████████████████████████████████████████████████████████████████████████████|303/303"
     ]
    },
    {
     "name": "stdout",
     "output_type": "stream",
     "text": [
      "No quasiIdentities in PAK\n",
      "Calculation of add factors for PAK calculated  \n"
     ]
    },
    {
     "name": "stderr",
     "output_type": "stream",
     "text": [
      "\n"
     ]
    }
   ],
   "source": [
    "pak_trans = lambda input : input.replace('- 01*D(','-1*D(')                \n",
    "\n",
    "all_about_pak = GrabWfModel(filename, \n",
    "                    country_trans = pak_trans,        \n",
    "                    make_fitted = False,       # If we want to calculate a fittet value for stocastic eq \n",
    "                    do_add_factor_calc=True,   # Stocastic equations are argumented by add factor \n",
    "                    start = 2020,\n",
    "                    end = 2100, \n",
    "                    fit_start = 2000,          # Start of calculation of fittet model in baseline \n",
    "                    fit_end   = 2030           # end of calc for fittted model, if None taken from mdmfsa options  \n",
    "                    ) "
   ]
  },
  {
   "cell_type": "code",
   "execution_count": 5,
   "id": "1cb70fbf",
   "metadata": {},
   "outputs": [
    {
     "data": {
      "text/plain": [
       "''"
      ]
     },
     "execution_count": 5,
     "metadata": {},
     "output_type": "execute_result"
    }
   ],
   "source": [
    "all_about_pak.mfmsa_options"
   ]
  },
  {
   "cell_type": "markdown",
   "id": "38c42e1f",
   "metadata": {},
   "source": [
    "## Check if each equation on its own result in the values provided. \n",
    "aka: residual check <br> \n",
    "If they are not pretty close, something is very wrong. "
   ]
  },
  {
   "cell_type": "code",
   "execution_count": 6,
   "id": "c6dd4d13",
   "metadata": {},
   "outputs": [
    {
     "name": "stdout",
     "output_type": "stream",
     "text": [
      "PAK calculated  \n",
      "\n",
      "Chekking residuals for PAK 2020 to 2100\n",
      "\n",
      "Variable with residuals above threshold\n",
      "PAKNVCOLPRODKN              , Max difference:     0.00123121 Max Pct    0.0000045254% It is number    24 in the solveorder and error number 1\n",
      "PAKNVCOLNIMPKN              , Max difference:     0.00026438 Max Pct    0.0000001358% It is number    25 in the solveorder and error number 2\n",
      "PAKNVOILPRODKN              , Max difference:     0.01223154 Max Pct    0.0000045254% It is number    26 in the solveorder and error number 3\n",
      "PAKNVOILNIMPKN              , Max difference:     0.00239856 Max Pct    0.0000001358% It is number    27 in the solveorder and error number 4\n",
      "PAKNVGASPRODKN              , Max difference:     0.00753163 Max Pct    0.0000045254% It is number    28 in the solveorder and error number 5\n",
      "PAKNVGASNIMPKN              , Max difference:     0.00009582 Max Pct    0.0000001358% It is number    29 in the solveorder and error number 6\n",
      "PAKNVCOLNIMPCN              , Max difference:     0.02214099 Max Pct    0.0000001150% It is number    36 in the solveorder and error number 7\n",
      "PAKNVOILNIMPCN              , Max difference:     0.20321059 Max Pct    0.0000001150% It is number    37 in the solveorder and error number 8\n",
      "PAKNVGASNIMPCN              , Max difference:     0.02104034 Max Pct    0.0000001150% It is number    38 in the solveorder and error number 9\n",
      "PAKNVRENNIMPCN              , Max difference:     0.00072481 Max Pct    0.0000001149% It is number    39 in the solveorder and error number 10\n",
      "PAKNVENGNIMPKN              , Max difference:     0.00300558 Max Pct    0.0000001500% It is number    40 in the solveorder and error number 11\n",
      "PAKNEIMPGSNEKN              , Max difference:     0.01014601 Max Pct    0.0000001387% It is number    41 in the solveorder and error number 12\n",
      "PAKNVENGNIMPCN              , Max difference:     0.22258949 Max Pct    0.0000001036% It is number    42 in the solveorder and error number 13\n",
      "PAKNEIMPGSNECN              , Max difference:     1.15623856 Max Pct    0.0000001290% It is number    43 in the solveorder and error number 14\n",
      "PAKNEIMPGNFSCN              , Max difference:     1.24186420 Max Pct    0.0000001117% It is number    44 in the solveorder and error number 15\n",
      "PAKNVCOLPRODCN              , Max difference:     0.01028197 Max Pct    0.0000002660% It is number    48 in the solveorder and error number 16\n",
      "PAKNVOILPRODCN              , Max difference:     0.10442638 Max Pct    0.0000002660% It is number    49 in the solveorder and error number 17\n",
      "PAKNVGASPRODCN              , Max difference:     0.16101676 Max Pct    0.0000002660% It is number    50 in the solveorder and error number 18\n",
      "PAKNVCOLPRODCN2             , Max difference:     0.01218061 Max Pct    0.0000002395% It is number    51 in the solveorder and error number 19\n",
      "PAKNVOILPRODCN2             , Max difference:     0.12370956 Max Pct    0.0000002395% It is number    52 in the solveorder and error number 20\n",
      "PAKNVGASPRODCN2             , Max difference:     0.19074982 Max Pct    0.0000002395% It is number    53 in the solveorder and error number 21\n",
      "PAKNVOILPRODQN              , Max difference:     0.00002441 Max Pct    0.0000002247% It is number    55 in the solveorder and error number 22\n",
      "PAKNVGASPRODQN              , Max difference:     0.00005982 Max Pct    0.0000002247% It is number    56 in the solveorder and error number 23\n",
      "PAKNVCOLNIMPQN              , Max difference:     0.00001593 Max Pct    0.0000001127% It is number    57 in the solveorder and error number 24\n",
      "PAKNVOILNIMPQN              , Max difference:     0.00004593 Max Pct    0.0000001127% It is number    58 in the solveorder and error number 25\n",
      "PAKGGREVEMISCN              , Max difference:     0.00075433 Max Pct    0.0000001434% It is number    60 in the solveorder and error number 26\n",
      "PAKSMENGTOTLKN              , Max difference:     0.00145155 Max Pct    0.0000001157% It is number    62 in the solveorder and error number 27\n",
      "PAKNYYWBTOTLCN              , Max difference:    18.64228058 Max Pct    0.0000004511% It is number    64 in the solveorder and error number 28\n",
      "PAKNECONGOVTKN              , Max difference:     0.02025075 Max Pct    0.0000003938% It is number    66 in the solveorder and error number 29\n",
      "PAKNEGDIFGOVKN              , Max difference:     0.00867014 Max Pct    0.0000003403% It is number    67 in the solveorder and error number 30\n",
      "PAKNEGDIFPRVCN              , Max difference:     1.32994366 Max Pct    0.0000002999% It is number    68 in the solveorder and error number 31\n",
      "PAKNEGDIFTOTCN              , Max difference:     2.54681492 Max Pct    0.0000003521% It is number    69 in the solveorder and error number 32\n",
      "PAKNEGDIFTOTKN              , Max difference:     0.01294412 Max Pct    0.0000002494% It is number    70 in the solveorder and error number 33\n",
      "PAKNYGDPMKTPCD              , Max difference:     2.10716254 Max Pct    0.0000080528% It is number    71 in the solveorder and error number 34\n",
      "PAKNEGDETTOTKN              , Max difference:     0.08423269 Max Pct    0.0000001717% It is number    72 in the solveorder and error number 35\n",
      "PAKNYGDPPOTLKN              , Max difference:     0.16948201 Max Pct    0.0000004525% It is number    73 in the solveorder and error number 36\n",
      "PAKNECONPRVTCN              , Max difference:    38.55028915 Max Pct    0.0000015164% It is number    75 in the solveorder and error number 37\n",
      "PAKNEEXPGNFSCN              , Max difference:     0.04416656 Max Pct    0.0000000090% It is number    76 in the solveorder and error number 38\n",
      "PAKGGEXPINTPCN              , Max difference:     0.48239541 Max Pct    0.0000004222% It is number    78 in the solveorder and error number 39\n",
      "PAKGGEXPINTDCN              , Max difference:     0.53586143 Max Pct    0.0000039337% It is number    79 in the solveorder and error number 40\n",
      "PAKNYGDPMKTPKN              , Max difference:     0.07122457 Max Pct    0.0000001612% It is number    86 in the solveorder and error number 41\n",
      "PAKNYGDPMKTPCN              , Max difference:    15.53806305 Max Pct    0.0000002812% It is number    87 in the solveorder and error number 42\n",
      "PAKGGREVTOTLCN              , Max difference:     4.36462593 Max Pct    0.0000003932% It is number    89 in the solveorder and error number 43\n",
      "PAKNYWRTTOTLCN              , Max difference:     0.07213432 Max Pct    0.0000002702% It is number    91 in the solveorder and error number 44\n"
     ]
    }
   ],
   "source": [
    "all_about_pak.test_model(all_about_pak.start,\n",
    "                         all_about_pak.end,\n",
    "                         maxerr=100,tol=0.00001,\n",
    "                         showall=0)"
   ]
  },
  {
   "cell_type": "markdown",
   "id": "540645a4",
   "metadata": {},
   "source": [
    "## Extract the model and the baseline\n",
    "**all_about_ken** has a lot of content including. \n",
    "- .mmodel is the model instance\n",
    "- .base_input is the baseline where the add factors and the fitted values are calculated "
   ]
  },
  {
   "cell_type": "code",
   "execution_count": 7,
   "id": "fa9578fb",
   "metadata": {},
   "outputs": [],
   "source": [
    "mpak,baseline     = all_about_pak()     \n",
    "baseline = all_about_pak.base_input\n",
    "mpak.model_description='Pakistan  model from paksolncons.wf1 27/3-2023'\n",
    "\n",
    "pak_all_frml_dict = all_about_pak.all_frml_dict\n"
   ]
  },
  {
   "cell_type": "markdown",
   "id": "176f6a07",
   "metadata": {},
   "source": [
    "## Run the model \n",
    "In order to achieve numerical stability Gauss-Seidle has to be dampened: alfa=0.7 makes sure that the solution does not explode. \n",
    "The convergence criteria is tightend a lot. "
   ]
  },
  {
   "cell_type": "code",
   "execution_count": 8,
   "id": "8019ced1",
   "metadata": {},
   "outputs": [],
   "source": [
    "res = mpak(baseline,2022,2100,silent=1,alfa=1,ldumpvar=0)\n"
   ]
  },
  {
   "cell_type": "markdown",
   "id": "78c958a8",
   "metadata": {},
   "source": [
    "## And the simulation result is also fine. \n",
    "Here the percent difference is displayed"
   ]
  },
  {
   "cell_type": "code",
   "execution_count": 15,
   "id": "e5816406",
   "metadata": {
    "scrolled": false
   },
   "outputs": [
    {
     "data": {
      "application/vnd.jupyter.widget-view+json": {
       "model_id": "d197da15b0294d61886a1667b9d8b4ba",
       "version_major": 2,
       "version_minor": 0
      },
      "text/plain": [
       "Tab(children=(Tab(children=(HTML(value='<?xml version=\"1.0\" encoding=\"utf-8\" standalone=\"no\"?>\\n<!DOCTYPE svg …"
      ]
     },
     "metadata": {},
     "output_type": "display_data"
    },
    {
     "data": {
      "text/html": [],
      "text/plain": []
     },
     "execution_count": 15,
     "metadata": {},
     "output_type": "execute_result"
    }
   ],
   "source": [
    "mpak['*GGEXPCAPTCN *NYGDPMKTPCN *GGDBTTOTLCN *BNCABFUNDCD PAKNVELECKN']"
   ]
  },
  {
   "cell_type": "markdown",
   "id": "5d090b2c",
   "metadata": {},
   "source": [
    "## Look at a stochastic variable \n",
    "Here the equations undergo more phases "
   ]
  },
  {
   "cell_type": "code",
   "execution_count": 10,
   "id": "3d24c44b",
   "metadata": {},
   "outputs": [
    {
     "data": {
      "text/plain": [
       "'Pakistan  model from paksolncons.wf1 27/3-2023'"
      ]
     },
     "execution_count": 10,
     "metadata": {},
     "output_type": "execute_result"
    }
   ],
   "source": [
    "mpak.model_description"
   ]
  },
  {
   "cell_type": "markdown",
   "id": "fa763b7d",
   "metadata": {},
   "source": [
    "## Now dump the model and data "
   ]
  },
  {
   "cell_type": "code",
   "execution_count": 11,
   "id": "239d4345",
   "metadata": {},
   "outputs": [],
   "source": [
    "if 1:\n",
    "    mpak.modeldump('models/270323_paksolncons.pcim')\n",
    "    if 0: \n",
    "        try:\n",
    "            mpal.modeldump('C:/modelflow manual/model_repo/270323_paksolncons.pcim')\n",
    "        except: \n",
    "            print('could not write to modelrepo file')"
   ]
  },
  {
   "cell_type": "code",
   "execution_count": 12,
   "id": "290cb3e6",
   "metadata": {},
   "outputs": [
    {
     "name": "stdout",
     "output_type": "stream",
     "text": [
      "file read:  C:\\wb new\\Charl\\models\\270323_paksolncons.pcim\n"
     ]
    }
   ],
   "source": [
    "mpakload,baselineload = model.modelload('models/270323_paksolncons.pcim',run = 1,alfa = 0.8)"
   ]
  },
  {
   "cell_type": "code",
   "execution_count": 13,
   "id": "1b5bae00",
   "metadata": {},
   "outputs": [
    {
     "name": "stdout",
     "output_type": "stream",
     "text": [
      "Will start solving: PAK\n",
      "Reusing the solver as no new data \n",
      "2022 Solved in 7 iterations\n",
      "2023 Solved in 7 iterations\n",
      "2024 Solved in 7 iterations\n",
      "2025 Solved in 7 iterations\n",
      "2026 Solved in 7 iterations\n",
      "2027 Solved in 7 iterations\n",
      "2028 Solved in 7 iterations\n",
      "2029 Solved in 7 iterations\n",
      "2030 Solved in 7 iterations\n",
      "2031 Solved in 7 iterations\n",
      "2032 Solved in 7 iterations\n",
      "2033 Solved in 7 iterations\n",
      "2034 Solved in 7 iterations\n",
      "2035 Solved in 7 iterations\n",
      "2036 Solved in 7 iterations\n",
      "2037 Solved in 7 iterations\n",
      "2038 Solved in 7 iterations\n",
      "2039 Solved in 7 iterations\n",
      "2040 Solved in 7 iterations\n",
      "2041 Solved in 7 iterations\n",
      "2042 Solved in 7 iterations\n",
      "2043 Solved in 7 iterations\n",
      "2044 Solved in 7 iterations\n",
      "2045 Solved in 7 iterations\n",
      "2046 Solved in 7 iterations\n",
      "2047 Solved in 7 iterations\n",
      "2048 Solved in 7 iterations\n",
      "2049 Solved in 7 iterations\n",
      "2050 Solved in 7 iterations\n",
      "PAK solved  \n"
     ]
    }
   ],
   "source": [
    "xx = mpakload(baseline,2022,2050,alfa=0.7,silent=0)"
   ]
  }
 ],
 "metadata": {
  "hide_input": false,
  "kernelspec": {
   "display_name": "Python 3 (ipykernel)",
   "language": "python",
   "name": "python3"
  },
  "language_info": {
   "codemirror_mode": {
    "name": "ipython",
    "version": 3
   },
   "file_extension": ".py",
   "mimetype": "text/x-python",
   "name": "python",
   "nbconvert_exporter": "python",
   "pygments_lexer": "ipython3",
   "version": "3.9.12"
  },
  "toc": {
   "base_numbering": 1,
   "nav_menu": {},
   "number_sections": false,
   "sideBar": true,
   "skip_h1_title": true,
   "title_cell": "Table of Contents",
   "title_sidebar": "Contents",
   "toc_cell": false,
   "toc_position": {
    "height": "calc(100% - 180px)",
    "left": "10px",
    "top": "150px",
    "width": "164.996px"
   },
   "toc_section_display": true,
   "toc_window_display": true
  },
  "varInspector": {
   "cols": {
    "lenName": 16,
    "lenType": 16,
    "lenVar": 40
   },
   "kernels_config": {
    "python": {
     "delete_cmd_postfix": "",
     "delete_cmd_prefix": "del ",
     "library": "var_list.py",
     "varRefreshCmd": "print(var_dic_list())"
    },
    "r": {
     "delete_cmd_postfix": ") ",
     "delete_cmd_prefix": "rm(",
     "library": "var_list.r",
     "varRefreshCmd": "cat(var_dic_list()) "
    }
   },
   "position": {
    "height": "431px",
    "left": "1076.61px",
    "right": "20px",
    "top": "-4.01px",
    "width": "800px"
   },
   "types_to_exclude": [
    "module",
    "function",
    "builtin_function_or_method",
    "instance",
    "_Feature"
   ],
   "window_display": false
  },
  "vscode": {
   "interpreter": {
    "hash": "c46e396bc442e6227666e5127a073e23b56b24a9342ed264ceb99df002349503"
   }
  }
 },
 "nbformat": 4,
 "nbformat_minor": 5
}
