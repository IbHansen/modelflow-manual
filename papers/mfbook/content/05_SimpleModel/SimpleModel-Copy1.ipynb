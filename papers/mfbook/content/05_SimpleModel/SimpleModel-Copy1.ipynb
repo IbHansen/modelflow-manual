{
 "cells": [
  {
   "cell_type": "markdown",
   "id": "91f3c7cf",
   "metadata": {},
   "source": [
    "# A simple macrostructural model in Modelflow\n",
    "\n",
    "Modelflow is a sophisticated tool that can deal with extremely large and complicated models, including the Federal Reserve's and the World Bank's climate-aware macrostructural models.  In this chapter we illustrate some of the main features of modelflow using a very simple macrostructural model.  In the following chapter we look at the same features in a full-blown macro-structural model.\n",
    "\n",
    "## Setting up the environment\n",
    "\n",
    "As always we need to set up our python environment by importing the classes and modules upon which our program(s) will depend."
   ]
  },
  {
   "cell_type": "code",
   "execution_count": 1,
   "id": "5b14b0c7",
   "metadata": {},
   "outputs": [
    {
     "data": {
      "text/html": [
       "\n",
       "        <style>\n",
       "            div#notebook-container    { width: 95%; }\n",
       "            div#menubar-container     { width: 65%; }\n",
       "            div#maintoolbar-container { width: 99%; }\n",
       "        </style>\n",
       "        "
      ],
      "text/plain": [
       "<IPython.core.display.HTML object>"
      ]
     },
     "metadata": {},
     "output_type": "display_data"
    }
   ],
   "source": [
    "#import import_ipynb\n",
    "#pip install import-ipynb \n",
    "%matplotlib Notebook\n",
    "from modelclass import model \n",
    "from modelgrabwf2 import GrabWfModel\n",
    "model.widescreen()\n",
    "model.scroll_off()\n",
    "%load_ext autoreload\n",
    "%autoreload 2"
   ]
  },
  {
   "cell_type": "markdown",
   "id": "cd446891",
   "metadata": {},
   "source": [
    "## Load a pre-existing Eviews model\n",
    "\n",
    "In this simple example we will load a simple real-side only macroeconomic model that was created in EViews.  The model structure is simple.  Its i comprised of two  identities:\n",
    "\n",
    "$$ Y_t=CPV_t + I_t + G_t + (X_t - M_t) + Y^{statdisc}_t $$\n",
    "$$ GDE_t=CPV_t + I_t + G_t + X_t$$\n",
    "\n",
    "and four behavioural equations variables for private consumption ($CPV$), Investment ($I$), for Government spending ($G$) and Imports ($M$).\n",
    "\n",
    "$$ CPV_t = C'( \\chi _t) + \\eta^C_t $$\n",
    "$$ I_t = I'( \\chi _t) + \\eta^I_t $$\n",
    "$$ G_t = G'( \\chi _t) + \\eta^G_t $$\n",
    "$$ M_t = X'( \\chi _t) + \\eta^M_t $$\n",
    "\n",
    "and two exogenous variables ($X$ for exports and $Y^{statdisc}$ for the statistical discrepancy.\n",
    "\n",
    "Each of the behaviourals is a simple error correction equation written as :\n",
    "\n",
    "$$ \\Delta var_t = - \\gamma *(var_{t-1}- base_{t-1} - \\beta_2 ) 2 ) + \\Delta base_t $$\n",
    "\n",
    "where for each $var \\in (CPV,I,G)$ the base is $Y$, while for M it is GDE.\n",
    "\n",
    "### Load a model -- the method ```.modelload()```\n",
    "\n",
    "The modelflow method ```.modellow``` opens a pre-existing modelflow model, and assigns the variable ```msimple``` with the model object created by model.load. The variable ```init``` is assigned the value of the ```dataframe``` associated with the \n",
    "\n",
    ":::{note}\n",
    "The variable names ```msimple``` and ```init``` are completely arbitrary and could be any legal python name.\n",
    ":::"
   ]
  },
  {
   "cell_type": "code",
   "execution_count": 2,
   "id": "f8dd0883",
   "metadata": {},
   "outputs": [
    {
     "name": "stdout",
     "output_type": "stream",
     "text": [
      "Open file from URL:  https://raw.githubusercontent.com/IbHansen/modelflow-manual/main/model_repo/simple.pcim\n"
     ]
    },
    {
     "ename": "HTTPError",
     "evalue": "HTTP Error 404: Not Found",
     "output_type": "error",
     "traceback": [
      "\u001b[1;31m---------------------------------------------------------------------------\u001b[0m",
      "\u001b[1;31mFileNotFoundError\u001b[0m                         Traceback (most recent call last)",
      "File \u001b[1;32m~\\.conda\\envs\\mf_pinned_developement_test\\lib\\site-packages\\ModelFlow-1.0.8-py3.9.egg\\modelclass.py:4761\u001b[0m, in \u001b[0;36mJson_Mixin.modelload\u001b[1;34m(cls, infile, funks, run, keep_json, default_url, **kwargs)\u001b[0m\n\u001b[0;32m   4760\u001b[0m \u001b[38;5;28;01mtry\u001b[39;00m:\n\u001b[1;32m-> 4761\u001b[0m     \u001b[38;5;28;01mwith\u001b[39;00m \u001b[38;5;28;43mopen\u001b[39;49m\u001b[43m(\u001b[49m\u001b[43minfile\u001b[49m\u001b[43m,\u001b[49m\u001b[43m \u001b[49m\u001b[38;5;124;43m'\u001b[39;49m\u001b[38;5;124;43mrt\u001b[39;49m\u001b[38;5;124;43m'\u001b[39;49m\u001b[43m)\u001b[49m \u001b[38;5;28;01mas\u001b[39;00m f:\n\u001b[0;32m   4762\u001b[0m         \u001b[38;5;28minput\u001b[39m \u001b[38;5;241m=\u001b[39m json\u001b[38;5;241m.\u001b[39mload(f)\n",
      "\u001b[1;31mFileNotFoundError\u001b[0m: [Errno 2] No such file or directory: '../models/simple.pcim'",
      "\nDuring handling of the above exception, another exception occurred:\n",
      "\u001b[1;31mHTTPError\u001b[0m                                 Traceback (most recent call last)",
      "Input \u001b[1;32mIn [2]\u001b[0m, in \u001b[0;36m<cell line: 1>\u001b[1;34m()\u001b[0m\n\u001b[1;32m----> 1\u001b[0m msimple,init \u001b[38;5;241m=\u001b[39m \u001b[43mmodel\u001b[49m\u001b[38;5;241;43m.\u001b[39;49m\u001b[43mmodelload\u001b[49m\u001b[43m(\u001b[49m\u001b[38;5;124;43m'\u001b[39;49m\u001b[38;5;124;43m../models/simple.pcim\u001b[39;49m\u001b[38;5;124;43m'\u001b[39;49m\u001b[43m,\u001b[49m\u001b[43mrun\u001b[49m\u001b[38;5;241;43m=\u001b[39;49m\u001b[38;5;241;43m1\u001b[39;49m\u001b[43m,\u001b[49m\u001b[43msilent\u001b[49m\u001b[38;5;241;43m=\u001b[39;49m\u001b[38;5;241;43m1\u001b[39;49m\u001b[43m)\u001b[49m\n\u001b[0;32m      3\u001b[0m \u001b[38;5;66;03m#ort = GrabWfModel(r'../models/Simple.wf1',\u001b[39;00m\n\u001b[0;32m      4\u001b[0m \u001b[38;5;66;03m#          start=2016,\u001b[39;00m\n\u001b[0;32m      5\u001b[0m \u001b[38;5;66;03m#          end=2030,                            \u001b[39;00m\n\u001b[1;32m   (...)\u001b[0m\n\u001b[0;32m     11\u001b[0m \u001b[38;5;66;03m#          disable_progress =True     # Better for jupyter book \u001b[39;00m\n\u001b[0;32m     12\u001b[0m \u001b[38;5;66;03m#                 ) \u001b[39;00m\n\u001b[0;32m     13\u001b[0m Simple_import\u001b[38;5;241m.\u001b[39mtest_model(Simple_import\u001b[38;5;241m.\u001b[39mstart,Simple_import\u001b[38;5;241m.\u001b[39mend,maxerr\u001b[38;5;241m=\u001b[39m\u001b[38;5;241m100\u001b[39m,tol\u001b[38;5;241m=\u001b[39m\u001b[38;5;241m1\u001b[39m,showall\u001b[38;5;241m=\u001b[39m\u001b[38;5;241m0\u001b[39m) \n",
      "File \u001b[1;32m~\\.conda\\envs\\mf_pinned_developement_test\\lib\\site-packages\\ModelFlow-1.0.8-py3.9.egg\\modelclass.py:4772\u001b[0m, in \u001b[0;36mJson_Mixin.modelload\u001b[1;34m(cls, infile, funks, run, keep_json, default_url, **kwargs)\u001b[0m\n\u001b[0;32m   4769\u001b[0m         urlfile \u001b[38;5;241m=\u001b[39m (Path(default_url) \u001b[38;5;241m/\u001b[39m Path(infile)\u001b[38;5;241m.\u001b[39mname)\u001b[38;5;241m.\u001b[39mas_posix()\u001b[38;5;241m.\u001b[39mreplace(\u001b[38;5;124m'\u001b[39m\u001b[38;5;124mhttps:/\u001b[39m\u001b[38;5;124m'\u001b[39m,\u001b[38;5;124m'\u001b[39m\u001b[38;5;124mhttps://\u001b[39m\u001b[38;5;124m'\u001b[39m)\n\u001b[0;32m   4771\u001b[0m     \u001b[38;5;28mprint\u001b[39m(\u001b[38;5;124mf\u001b[39m\u001b[38;5;124m'\u001b[39m\u001b[38;5;124mOpen file from URL:  \u001b[39m\u001b[38;5;132;01m{\u001b[39;00murlfile\u001b[38;5;132;01m}\u001b[39;00m\u001b[38;5;124m'\u001b[39m)  \n\u001b[1;32m-> 4772\u001b[0m     \u001b[38;5;28;01mwith\u001b[39;00m \u001b[43murllib\u001b[49m\u001b[38;5;241;43m.\u001b[39;49m\u001b[43mrequest\u001b[49m\u001b[38;5;241;43m.\u001b[39;49m\u001b[43murlopen\u001b[49m\u001b[43m(\u001b[49m\u001b[43murlfile\u001b[49m\u001b[43m)\u001b[49m \u001b[38;5;28;01mas\u001b[39;00m f:\n\u001b[0;32m   4773\u001b[0m         \u001b[38;5;28minput\u001b[39m \u001b[38;5;241m=\u001b[39m json\u001b[38;5;241m.\u001b[39mload(f)\n\u001b[0;32m   4775\u001b[0m version \u001b[38;5;241m=\u001b[39m \u001b[38;5;28minput\u001b[39m[\u001b[38;5;124m'\u001b[39m\u001b[38;5;124mversion\u001b[39m\u001b[38;5;124m'\u001b[39m]\n",
      "File \u001b[1;32m~\\.conda\\envs\\mf_pinned_developement_test\\lib\\urllib\\request.py:214\u001b[0m, in \u001b[0;36murlopen\u001b[1;34m(url, data, timeout, cafile, capath, cadefault, context)\u001b[0m\n\u001b[0;32m    212\u001b[0m \u001b[38;5;28;01melse\u001b[39;00m:\n\u001b[0;32m    213\u001b[0m     opener \u001b[38;5;241m=\u001b[39m _opener\n\u001b[1;32m--> 214\u001b[0m \u001b[38;5;28;01mreturn\u001b[39;00m \u001b[43mopener\u001b[49m\u001b[38;5;241;43m.\u001b[39;49m\u001b[43mopen\u001b[49m\u001b[43m(\u001b[49m\u001b[43murl\u001b[49m\u001b[43m,\u001b[49m\u001b[43m \u001b[49m\u001b[43mdata\u001b[49m\u001b[43m,\u001b[49m\u001b[43m \u001b[49m\u001b[43mtimeout\u001b[49m\u001b[43m)\u001b[49m\n",
      "File \u001b[1;32m~\\.conda\\envs\\mf_pinned_developement_test\\lib\\urllib\\request.py:523\u001b[0m, in \u001b[0;36mOpenerDirector.open\u001b[1;34m(self, fullurl, data, timeout)\u001b[0m\n\u001b[0;32m    521\u001b[0m \u001b[38;5;28;01mfor\u001b[39;00m processor \u001b[38;5;129;01min\u001b[39;00m \u001b[38;5;28mself\u001b[39m\u001b[38;5;241m.\u001b[39mprocess_response\u001b[38;5;241m.\u001b[39mget(protocol, []):\n\u001b[0;32m    522\u001b[0m     meth \u001b[38;5;241m=\u001b[39m \u001b[38;5;28mgetattr\u001b[39m(processor, meth_name)\n\u001b[1;32m--> 523\u001b[0m     response \u001b[38;5;241m=\u001b[39m \u001b[43mmeth\u001b[49m\u001b[43m(\u001b[49m\u001b[43mreq\u001b[49m\u001b[43m,\u001b[49m\u001b[43m \u001b[49m\u001b[43mresponse\u001b[49m\u001b[43m)\u001b[49m\n\u001b[0;32m    525\u001b[0m \u001b[38;5;28;01mreturn\u001b[39;00m response\n",
      "File \u001b[1;32m~\\.conda\\envs\\mf_pinned_developement_test\\lib\\urllib\\request.py:632\u001b[0m, in \u001b[0;36mHTTPErrorProcessor.http_response\u001b[1;34m(self, request, response)\u001b[0m\n\u001b[0;32m    629\u001b[0m \u001b[38;5;66;03m# According to RFC 2616, \"2xx\" code indicates that the client's\u001b[39;00m\n\u001b[0;32m    630\u001b[0m \u001b[38;5;66;03m# request was successfully received, understood, and accepted.\u001b[39;00m\n\u001b[0;32m    631\u001b[0m \u001b[38;5;28;01mif\u001b[39;00m \u001b[38;5;129;01mnot\u001b[39;00m (\u001b[38;5;241m200\u001b[39m \u001b[38;5;241m<\u001b[39m\u001b[38;5;241m=\u001b[39m code \u001b[38;5;241m<\u001b[39m \u001b[38;5;241m300\u001b[39m):\n\u001b[1;32m--> 632\u001b[0m     response \u001b[38;5;241m=\u001b[39m \u001b[38;5;28;43mself\u001b[39;49m\u001b[38;5;241;43m.\u001b[39;49m\u001b[43mparent\u001b[49m\u001b[38;5;241;43m.\u001b[39;49m\u001b[43merror\u001b[49m\u001b[43m(\u001b[49m\n\u001b[0;32m    633\u001b[0m \u001b[43m        \u001b[49m\u001b[38;5;124;43m'\u001b[39;49m\u001b[38;5;124;43mhttp\u001b[39;49m\u001b[38;5;124;43m'\u001b[39;49m\u001b[43m,\u001b[49m\u001b[43m \u001b[49m\u001b[43mrequest\u001b[49m\u001b[43m,\u001b[49m\u001b[43m \u001b[49m\u001b[43mresponse\u001b[49m\u001b[43m,\u001b[49m\u001b[43m \u001b[49m\u001b[43mcode\u001b[49m\u001b[43m,\u001b[49m\u001b[43m \u001b[49m\u001b[43mmsg\u001b[49m\u001b[43m,\u001b[49m\u001b[43m \u001b[49m\u001b[43mhdrs\u001b[49m\u001b[43m)\u001b[49m\n\u001b[0;32m    635\u001b[0m \u001b[38;5;28;01mreturn\u001b[39;00m response\n",
      "File \u001b[1;32m~\\.conda\\envs\\mf_pinned_developement_test\\lib\\urllib\\request.py:561\u001b[0m, in \u001b[0;36mOpenerDirector.error\u001b[1;34m(self, proto, *args)\u001b[0m\n\u001b[0;32m    559\u001b[0m \u001b[38;5;28;01mif\u001b[39;00m http_err:\n\u001b[0;32m    560\u001b[0m     args \u001b[38;5;241m=\u001b[39m (\u001b[38;5;28mdict\u001b[39m, \u001b[38;5;124m'\u001b[39m\u001b[38;5;124mdefault\u001b[39m\u001b[38;5;124m'\u001b[39m, \u001b[38;5;124m'\u001b[39m\u001b[38;5;124mhttp_error_default\u001b[39m\u001b[38;5;124m'\u001b[39m) \u001b[38;5;241m+\u001b[39m orig_args\n\u001b[1;32m--> 561\u001b[0m     \u001b[38;5;28;01mreturn\u001b[39;00m \u001b[38;5;28;43mself\u001b[39;49m\u001b[38;5;241;43m.\u001b[39;49m\u001b[43m_call_chain\u001b[49m\u001b[43m(\u001b[49m\u001b[38;5;241;43m*\u001b[39;49m\u001b[43margs\u001b[49m\u001b[43m)\u001b[49m\n",
      "File \u001b[1;32m~\\.conda\\envs\\mf_pinned_developement_test\\lib\\urllib\\request.py:494\u001b[0m, in \u001b[0;36mOpenerDirector._call_chain\u001b[1;34m(self, chain, kind, meth_name, *args)\u001b[0m\n\u001b[0;32m    492\u001b[0m \u001b[38;5;28;01mfor\u001b[39;00m handler \u001b[38;5;129;01min\u001b[39;00m handlers:\n\u001b[0;32m    493\u001b[0m     func \u001b[38;5;241m=\u001b[39m \u001b[38;5;28mgetattr\u001b[39m(handler, meth_name)\n\u001b[1;32m--> 494\u001b[0m     result \u001b[38;5;241m=\u001b[39m \u001b[43mfunc\u001b[49m\u001b[43m(\u001b[49m\u001b[38;5;241;43m*\u001b[39;49m\u001b[43margs\u001b[49m\u001b[43m)\u001b[49m\n\u001b[0;32m    495\u001b[0m     \u001b[38;5;28;01mif\u001b[39;00m result \u001b[38;5;129;01mis\u001b[39;00m \u001b[38;5;129;01mnot\u001b[39;00m \u001b[38;5;28;01mNone\u001b[39;00m:\n\u001b[0;32m    496\u001b[0m         \u001b[38;5;28;01mreturn\u001b[39;00m result\n",
      "File \u001b[1;32m~\\.conda\\envs\\mf_pinned_developement_test\\lib\\urllib\\request.py:641\u001b[0m, in \u001b[0;36mHTTPDefaultErrorHandler.http_error_default\u001b[1;34m(self, req, fp, code, msg, hdrs)\u001b[0m\n\u001b[0;32m    640\u001b[0m \u001b[38;5;28;01mdef\u001b[39;00m \u001b[38;5;21mhttp_error_default\u001b[39m(\u001b[38;5;28mself\u001b[39m, req, fp, code, msg, hdrs):\n\u001b[1;32m--> 641\u001b[0m     \u001b[38;5;28;01mraise\u001b[39;00m HTTPError(req\u001b[38;5;241m.\u001b[39mfull_url, code, msg, hdrs, fp)\n",
      "\u001b[1;31mHTTPError\u001b[0m: HTTP Error 404: Not Found"
     ]
    }
   ],
   "source": [
    "msimple,init = model.modelload('../models/simple.pcim',run=1,silent=1)\n",
    "\n",
    "#ort = GrabWfModel(r'../models/Simple.wf1',\n",
    "#          start=2016,\n",
    "#          end=2030,                            \n",
    "#          modelname=\"SIM\",           # By default the system assumes that the three first letters of the filename are the model name\n",
    "#          make_fitted = True,        # make equatios for fitted values of stocastic equations \n",
    "#          do_add_factor_calc=True,   # Calculate the add factors which makes the stocastic equations match    \n",
    "#          fit_start = 2014,          # Start of calculation of fittet model in baseline (to have some historic values) \n",
    "#          fit_end   = None,           # end of calc for fittted model, if None taken from mdmfsa options  \n",
    "#          disable_progress =True     # Better for jupyter book \n",
    "#                 ) \n",
    "Simple_import.test_model(Simple_import.start,Simple_import.end,maxerr=100,tol=1,showall=0) \n",
    "msim    = Simple_import.mmodel       # the model instance  \n",
    "baseline = Simple_import.base_input\n",
    "res = msim(baseline,2016,2030,silent=1,alfa=.5,ldumpvar=0)\n",
    "msim.basedf = baseline\n",
    "msim.modeldump(r'../models/simple.pcim')"
   ]
  },
  {
   "cell_type": "code",
   "execution_count": 17,
   "id": "93e2412b",
   "metadata": {},
   "outputs": [
    {
     "name": "stdout",
     "output_type": "stream",
     "text": [
      "SIM calculated  \n",
      "\n",
      "Chekking residuals for SIM 2016 to 2030\n"
     ]
    }
   ],
   "source": [
    "Simple_import.test_model(Simple_import.start,Simple_import.end,maxerr=100,tol=1,showall=0) \n",
    "msim    = Simple_import.mmodel       # the model instance  \n",
    "baseline = Simple_import.base_input\n",
    "\n"
   ]
  },
  {
   "cell_type": "code",
   "execution_count": 26,
   "id": "21adbdd9",
   "metadata": {},
   "outputs": [],
   "source": [
    "res = msim(baseline,2016,2030,silent=1,alfa=.5,ldumpvar=0)\n",
    "msim.basedf = baseline\n",
    "msim.modeldump(r'../models/simple.pcim')"
   ]
  },
  {
   "cell_type": "code",
   "execution_count": 27,
   "id": "903dacb2",
   "metadata": {},
   "outputs": [
    {
     "name": "stdout",
     "output_type": "stream",
     "text": [
      " Volume in drive M is OSDisk\n",
      " Volume Serial Number is AE19-7DF6\n",
      "\n",
      " Directory of M:\\modelflow\\modelflow-manual\\papers\\mfbook\\content\\models\n",
      "\n",
      "03/20/2023  04:34 PM    <DIR>          .\n",
      "03/20/2023  04:34 PM    <DIR>          ..\n",
      "03/17/2023  05:53 PM        22,999,604 pak scenarios.pcim\n",
      "03/07/2023  11:11 AM         3,388,012 pak.pcim\n",
      "03/17/2023  05:54 PM         3,391,497 pak_exogenized.pcim\n",
      "03/20/2023  04:34 PM            23,961 simple.pcim\n",
      "03/20/2023  04:18 PM            47,530 Simple.wf1\n",
      "03/20/2023  04:24 PM             9,007 Simple_modelflow.wf2\n",
      "               6 File(s)     29,859,611 bytes\n",
      "               2 Dir(s)  683,412,176,896 bytes free\n"
     ]
    }
   ],
   "source": [
    "!dir ..\\models"
   ]
  },
  {
   "cell_type": "markdown",
   "id": "4c5202a4",
   "metadata": {},
   "source": [
    "<span style='color:Blue'> Short descriptions on what this is. What is run, what is silent. Why two objects?</span>"
   ]
  },
  {
   "cell_type": "markdown",
   "id": "f5f46245",
   "metadata": {},
   "source": [
    "<span style='color:Blue'> Could instead link to the file on the github page. Or include some text how to access this file. Depending on how the notebook is accessed (downloaded, binder,..)</span>"
   ]
  },
  {
   "cell_type": "markdown",
   "id": "c2781ab4",
   "metadata": {},
   "source": [
    "## Create a dataframe where tax is set to 29"
   ]
  },
  {
   "cell_type": "code",
   "execution_count": null,
   "id": "e0db1c21",
   "metadata": {},
   "outputs": [],
   "source": [
    "taxvar  = mpak.vlist('PAKGGREVCO2???')   # define lists of the relevant variables. "
   ]
  },
  {
   "cell_type": "code",
   "execution_count": null,
   "id": "67eb5cfa",
   "metadata": {},
   "outputs": [],
   "source": [
    "nominal_CT= exostart.copy()   # A clean dataframe \n",
    "value = 29\n",
    "nominal_CT.loc[2020:2100,taxvar] = value "
   ]
  },
  {
   "cell_type": "markdown",
   "id": "45325b14",
   "metadata": {},
   "source": [
    "## Run the model with the baseline and with the nominal tax "
   ]
  },
  {
   "cell_type": "code",
   "execution_count": null,
   "id": "26483638",
   "metadata": {},
   "outputs": [],
   "source": [
    "res_no_tax   = mpak(exostart,2020,2100,alfa = 0.7)\n",
    "res_nominal  = mpak(nominal_CT,2020,2100,alfa = 0.7)"
   ]
  },
  {
   "cell_type": "markdown",
   "id": "2afa1194",
   "metadata": {},
   "source": [
    "# This one is from modelflow_features"
   ]
  },
  {
   "cell_type": "code",
   "execution_count": 6,
   "id": "994805b5",
   "metadata": {},
   "outputs": [],
   "source": [
    "import matplotlib.pyplot as plt\n",
    "\n",
    "from modelclass import model "
   ]
  },
  {
   "cell_type": "markdown",
   "id": "7c996f11",
   "metadata": {},
   "source": [
    "## .modelload Load a pre-cooked model, data and descriptions \n",
    "In this notebook, we will be using a pre-existing  model of Pakistan.\n",
    "\n",
    "The file 'pak.pcim' has been created from a Eviews workspace. It contains all that is needed to run the model: \n",
    "\n",
    "- Model equations\n",
    "- Data\n",
    "- Simulation options \n",
    "- Variable descriptions \n",
    "\n",
    "\n",
    "If you want to know more about how the model is created, this <link> tutorial is for you.\n",
    "\n",
    "Using the 'modelload' method of the  'model' class, a model instance 'mpak' and a 'result' DataFrame is created."
   ]
  },
  {
   "cell_type": "code",
   "execution_count": 9,
   "id": "1869fe50",
   "metadata": {},
   "outputs": [],
   "source": [
    "mpak,result = model.modelload('../models/pak.pcim',run=1,silent=1,keep='Baseline')"
   ]
  },
  {
   "cell_type": "markdown",
   "id": "eedc30aa",
   "metadata": {},
   "source": [
    "\n",
    "**mpak** <br> \n",
    "The *modelload* method processes the file and initiates the model, that we call 'mpak' (m for model and pak for Pakistan) with both equations and the data.\n",
    "\n",
    "'mpak' is an instance of the  model object with which we will work.\n",
    "\n",
    "**result**  <br> \n",
    "'result' is a Pandas dataframe containing the data that was loaded. This data is also exists inside the model object but can be accessed separately through 'result'.\n",
    "\n",
    "**run=1** the model is simulated. The simulation time and options from the time the file where dumped will used. <br>The two objects **mpak.basedf** and **mpak.lastdf** will contain the simulation result. If run=0 the model will not be simulated. \n",
    "\n",
    "**silent=1** if silent is set to 1 a number of information regarding the simulation will be displayed.\n",
    "\n",
    "**keep='Baseline'** This saves the result in a dictionary mpak.keep_solutions"
   ]
  },
  {
   "cell_type": "markdown",
   "id": "f374f1c0",
   "metadata": {},
   "source": [
    "## Create a scenario\n",
    "Many objects relates to comparison of different scenarios. So a scenario is created by updating some exogenous variables.<br>\n",
    "In this case the carbon tax rates for gas, oil and coal are all set to 29 from 2023 to 2100. <br>Then the scenario is simulated. \n",
    "<br>Now the mpak object contains a number of useful properties and methods. "
   ]
  },
  {
   "cell_type": "code",
   "execution_count": 10,
   "id": "e2c1cb92",
   "metadata": {},
   "outputs": [],
   "source": [
    "scenario_exo = result.copy() # make a new start point \n",
    "taxvar = ['PAKGGREVCO2CER','PAKGGREVCO2OER','PAKGGREVCO2GER'] # the variables we want to update in the scenario\n",
    "scenario_exo.loc[2023:2100,taxvar] = 29 # Then update the variables"
   ]
  },
  {
   "cell_type": "markdown",
   "id": "5330c2b6",
   "metadata": {},
   "source": [
    "## () Simulate on a dataframe \n",
    "When calling the model instance like ```mpak(dataframe,start, end)``` the model will be simulated for the time frame ```start to end```using the dataframe  <br>\n",
    "Just above we created a dataframe ``scenario_exo``` where the tax variables are updated. Now the ```mpak``` can be simulated. We simulate from 2020 to 2100. "
   ]
  },
  {
   "cell_type": "code",
   "execution_count": 11,
   "id": "4209c8fc",
   "metadata": {},
   "outputs": [
    {
     "data": {
      "application/vnd.jupyter.widget-view+json": {
       "model_id": "fc40cbd1ba334bde9bf10090b73846e8",
       "version_major": 2,
       "version_minor": 0
      },
      "text/plain": [
       "Solving pak model:   0%|          | 0/81"
      ]
     },
     "metadata": {},
     "output_type": "display_data"
    }
   ],
   "source": [
    "scenario = mpak(scenario_exo,2020,2100,keep=f'Coal, Oil and Gastax : 29',progressbar=True) # runs the simulation"
   ]
  },
  {
   "cell_type": "code",
   "execution_count": null,
   "id": "c2dac837",
   "metadata": {},
   "outputs": [],
   "source": []
  }
 ],
 "metadata": {
  "hide_input": false,
  "kernelspec": {
   "display_name": "Python 3 (ipykernel)",
   "language": "python",
   "name": "python3"
  },
  "language_info": {
   "codemirror_mode": {
    "name": "ipython",
    "version": 3
   },
   "file_extension": ".py",
   "mimetype": "text/x-python",
   "name": "python",
   "nbconvert_exporter": "python",
   "pygments_lexer": "ipython3",
   "version": "3.9.12"
  },
  "toc": {
   "base_numbering": 1,
   "nav_menu": {},
   "number_sections": true,
   "sideBar": true,
   "skip_h1_title": false,
   "title_cell": "Table of Contents",
   "title_sidebar": "Contents",
   "toc_cell": false,
   "toc_position": {},
   "toc_section_display": true,
   "toc_window_display": false
  }
 },
 "nbformat": 4,
 "nbformat_minor": 5
}
