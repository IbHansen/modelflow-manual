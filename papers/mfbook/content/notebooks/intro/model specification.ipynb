{
 "cells": [
  {
   "cell_type": "markdown",
   "id": "bcae4385",
   "metadata": {},
   "source": [
    "# Specification of models (introduction) \n",
    "\n",
    "Modelflow was started in order to build transparent and agile models and in order to be able to recycle and connect a broad range of models from different sources. \n",
    "\n",
    "For these reasons it should be possible to onboard models from different sources and it should be possible to specify a model in a parsimonious and expressive way. This allows focus  on the economic content without entanglement from implementation and housekeeping details. \n",
    "\n",
    "For this purpose specification of a model typical **flows**  through several phases (hence the flow in modelflow). \n",
    "\n",
    "Which *initial phases* the model specification flows through depend on the nature and origin of the model at hand. Python has a rich set of string manipulation functions which allows different processing in these phases. Some more advanced examples for instance [onboarding a Eviews model](../../howto/onboard/eviews/onboard%20one%20model%20from%20%20wf1.ipynb) is given in the onboarding section of this manual.  \n",
    "\n",
    "The *last phase* is always the model specification in **The Basic Business logic language**. From this specification the model is  transpiled by a python function like this [python solution code for Solow model](solow-python-code)\n",
    "which is needed for both the Gauss and the Newton type solution methods [python solution code](solution-methods). "
   ]
  },
  {
   "cell_type": "markdown",
   "id": "3c0ec459",
   "metadata": {},
   "source": [
    ":::{figure-md} markdown-fig\n",
    "<img src=\"onboarding.png\" alt=\"fishy\" class=\"bg-primary mb-1\" width=\"700px\">\n",
    "\n",
    "Flow from model specification to python solver\n",
    ":::"
   ]
  },
  {
   "cell_type": "markdown",
   "id": "350a3464",
   "metadata": {},
   "source": [
    "The Basic Business Logic Language which is used for specification of models in ModelFlow can trace its origins to the [TSP program](https://en.wikipedia.org/wiki/TSP_(econometrics_software)) which was installed in the UNIVAC mainframe in RECKU - the computer center of University of Copenhagen in the 70's (and a lot of other mainframes used for model worK). It looks to some extend like model specification in packages used for simulation of macroeconomic models like  [Eviews], Gekko, PCIM, Dynare, Aremos or TROLL."
   ]
  },
  {
   "cell_type": "markdown",
   "id": "e3b1ad4d",
   "metadata": {},
   "source": [
    "## Specify equations in Basic business logic language. \n",
    "Each equation $f_i$ in a model is specified as:\n",
    "\n",
    "\n",
    "```\n",
    "FRML <options> <left hand side> = <right hand side> $\n",
    "```\n",
    "\n",
    "Each formula ends with a \\$.\n",
    "\n",
    "The ```<left hand side>``` should not contain transformations. Lags or leads can not be specified at the left hand side of $=$. \n",
    "\n",
    "\n",
    "Time $t$ is implicit in the equations which means that a $var$ at time $t$ written as ```var```, while $var_{t-1}$ is written as ```var(-1)```. ModelFlow is case-insensitive. Everything is eventually transformed into upper case.\n",
    "\n",
    "The ```<right hand side>``` can contain variables, operators, functions and variables. ModelFlow comes with a number of built-in functions. In addition python functions can be supplied when a model is created.\n",
    "\n",
    "A variable is a timeseries which for contains a numbers or Python objects. This paper is mostly concerned with variables containing numbers (scalars). \n",
    "\n",
    "Operators:\n",
    "\n",
    "Standard: ```= + - * / ** ( ) @ ```\n",
    "\n",
    "Comparison: ```>= <= == !=```  \\# evaluates to 0 if false, 1 if true\n",
    "\n",
    "Special: ```$ > < , . [  ] ``` \\# used in different python constructions.\n",
    "\n",
    "In addition a number of pre-defined functions can be used and should be avoided as variable names. "
   ]
  },
  {
   "cell_type": "code",
   "execution_count": 1,
   "id": "6ba213e8",
   "metadata": {
    "tags": [
     "hide-input"
    ]
   },
   "outputs": [
    {
     "name": "stdout",
     "output_type": "stream",
     "text": [
      "DLOG SUM_EXCEL DIFF MIN MAX FLOAT NORM.CDF NORM.PPF ABS MOVAVG PCT_GROWTH ARRAY CLASSFUNK CLOGNORM EXP GAMMA INSPECT JIT LIFETIME_CREDIT_LOSS LOG LOGIT LOGIT_INVERSE LOGNORM MATRIX MV_OPT MV_OPT_PROP NORM NORMCDF QGAMMA SQRT SUM_EXCEL TRANSPOSE JIT RECODE TRANS\n"
     ]
    }
   ],
   "source": [
    "# This inputcell is hidden\n",
    "import modelpattern\n",
    "print(' '.join(modelpattern.funkname))"
   ]
  },
  {
   "cell_type": "markdown",
   "id": "be5719f4",
   "metadata": {},
   "source": [
    "If formulas (equations) can be separated by linebreak, frml and \\$ don't need to be specified. \n",
    "\n",
    "Equation options  which are enclosed in ´´´<>``` are used to control differed aspects both of the text processing of equations and of the solving. Use of equation options will be provided later. \n",
    "\n",
    "## Specify equations in (Macro) Business logic language. \n",
    "\n",
    "Models should be specified in a domain specific language which matches the problem at hand and which lend itself to short and expressive specification. The focus should be on the business logic and not on the housekeeping which is necessary for the solving algorithms.  \n",
    "\n",
    "Stress test models should for instance be able to handle many bank and sectors without repeating text. Also the language should be able to handle common model constructs like: DLOG(var) = $(log(var_t)-log(var_{t-1}))$ or DIF(var) = $(var_t-var_{t-1})$ on both sides of =, inclusion of factors, possibility of fixing endogenous variables and more. \n",
    "\n",
    "So on top of the **Business logic language**. there is a **Macro Business Logic language**. The primary goal of this is to allow (conditional) looping and normalization of formulas. More no this later on.\n",
    "\n",
    "### Advanced, Tupels and matrices.\n",
    "\n",
    "The left hand side can be a Python [tuple](https://docs.python.org/3/tutorial/datastructures.html#tuples-and-sequences) that matches the ```<right hand side>```. \n",
    "\n",
    "Also Pandas Dataframes can also contain python objects. This means that a variable can also be a matrix. This makes it possible to create a broader range of models - input output, bank contagion and optimizing models - in Modelflow. However there are also limitations to solving methods and output has to be taken special care of. In this manual it is therefor assumed that a variable is a timeserie of numbers. "
   ]
  },
  {
   "cell_type": "code",
   "execution_count": null,
   "id": "acbfd6e5",
   "metadata": {},
   "outputs": [],
   "source": []
  }
 ],
 "metadata": {
  "celltoolbar": "Edit Metadata",
  "hide_input": false,
  "kernelspec": {
   "display_name": "Python 3 (ipykernel)",
   "language": "python",
   "name": "python3"
  },
  "language_info": {
   "codemirror_mode": {
    "name": "ipython",
    "version": 3
   },
   "file_extension": ".py",
   "mimetype": "text/x-python",
   "name": "python",
   "nbconvert_exporter": "python",
   "pygments_lexer": "ipython3",
   "version": "3.9.9"
  },
  "toc": {
   "base_numbering": 1,
   "nav_menu": {},
   "number_sections": true,
   "sideBar": true,
   "skip_h1_title": true,
   "title_cell": "Table of Contents",
   "title_sidebar": "Contents",
   "toc_cell": false,
   "toc_position": {},
   "toc_section_display": true,
   "toc_window_display": false
  },
  "varInspector": {
   "cols": {
    "lenName": 16,
    "lenType": 16,
    "lenVar": 40
   },
   "kernels_config": {
    "python": {
     "delete_cmd_postfix": "",
     "delete_cmd_prefix": "del ",
     "library": "var_list.py",
     "varRefreshCmd": "print(var_dic_list())"
    },
    "r": {
     "delete_cmd_postfix": ") ",
     "delete_cmd_prefix": "rm(",
     "library": "var_list.r",
     "varRefreshCmd": "cat(var_dic_list()) "
    }
   },
   "types_to_exclude": [
    "module",
    "function",
    "builtin_function_or_method",
    "instance",
    "_Feature"
   ],
   "window_display": false
  }
 },
 "nbformat": 4,
 "nbformat_minor": 5
}
