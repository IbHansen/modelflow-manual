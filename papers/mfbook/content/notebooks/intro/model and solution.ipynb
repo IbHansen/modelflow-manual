{
 "cells": [
  {
   "cell_type": "markdown",
   "id": "8707b5a9",
   "metadata": {
    "slideshow": {
     "slide_type": "slide"
    }
   },
   "source": [
    "# What is a Model in ModelFlow ?"
   ]
  },
  {
   "cell_type": "markdown",
   "id": "76771f5b",
   "metadata": {
    "slideshow": {
     "slide_type": "skip"
    }
   },
   "source": [
    "The term [**model**](https://en.wikipedia.org/wiki/Model) can mean different things to different people. A model in the eyes of the ModelFlow library is a **discrete** model that can be defined as one or several **mathematical equations**. The equations are the same for every time frame, $t$ and *can* have **lagged** and **leaded** variables.\n",
    "\n",
    "A good book on model solution is {cite:author}`Pauletto97` also  {cite:author}`Petersen1987` is a useful paper. \n",
    "\n",
    "Such a model could consist of one or several equations where:\n",
    "\n",
    " - $\\mathbf{n}$ number of endogenous variables\n",
    " - $\\mathbf{k}$ number of exogenous variables\n",
    " - $\\mathbf{u}$ max lead of endogenous variables\n",
    " - $\\mathbf{r}$ max lag of endogenous variables\n",
    " - $\\mathbf{s}$ max lag of exogenous variables\n",
    " - $t$ time frame (year, quarter, day or any other unit)\n",
    "\n",
    "and can be written in a **normalized** or **un-normalized** form."
   ]
  },
  {
   "cell_type": "markdown",
   "id": "6f1da1e3",
   "metadata": {
    "slideshow": {
     "slide_type": "subslide"
    }
   },
   "source": [
    "## Normalized model"
   ]
  },
  {
   "cell_type": "markdown",
   "id": "76deee3f",
   "metadata": {
    "slideshow": {
     "slide_type": "skip"
    }
   },
   "source": [
    "The following model consists of a number of equations. Each equations represents the relationship between an endogenous variable in the model (on the left side) and a series of variables that it depends on (on the right side of the equation). The number of endogenous variables is equal to the number of equations."
   ]
  },
  {
   "cell_type": "markdown",
   "id": "abf0296d",
   "metadata": {
    "slideshow": {
     "slide_type": "-"
    }
   },
   "source": [
    "\\begin{align*}\n",
    "y_t^1  &=  f^1(y_{t+u}^1...,y_{t+u}^n...,y_t^2...,y_{t}^n...y_{t-r}^1...,y_{t-r}^n,x_t^1...x_{t}^k,...x_{t-s}^1...,x_{t-s}^k) \\\\\n",
    "y_t^2  &=  f^2(y_{t+u}^1...,y_{t+u}^n...,y_t^1...,y_{t}^n...y_{t-r}^1...,y_{t-r}^n,x_t^1...x_{t}^k,...x_{t-s}^1...,x_{t-s}^k) \\\\\n",
    "\\vdots \\\\\n",
    "y_t^n  &=  f^n(y_{t+u}^1...,y_{t+u}^n...,y_t^1...,y_{t}^{n-1}...y_{t-r}^1...,y_{t-r}^n,x_t^1...x_{t}^r,x..._{t-s}^1...,x_{t-s}^k)\n",
    "\\end{align*}"
   ]
  },
  {
   "cell_type": "markdown",
   "id": "de89aec2",
   "metadata": {
    "slideshow": {
     "slide_type": "fragment"
    }
   },
   "source": [
    "The model can also be written in matrix notation where  $\\mathbf{y}_t$ and $\\mathbf{x}_t$ are vectors of endogenous/exogenous variables for time $t$.\n",
    "\n",
    "$$\n",
    "\\mathbf{y}_t = \\mathbf{F}(\\mathbf{y}_{t+u} \\cdots \\mathbf{y}_t \\cdots \\mathbf{y}_{t-r},\\mathbf{x}_t \\cdots \\mathbf{x}_{t-s})\n",
    "$$\n",
    "\n",
    "\n",
    "ModelFlow allows the variables (the  $𝐱$'s and $𝐲$'s) to be scalars, matrices, arrays or Pandas DataFrames."
   ]
  },
  {
   "cell_type": "markdown",
   "id": "a5937c76",
   "metadata": {
    "slideshow": {
     "slide_type": "slide"
    }
   },
   "source": [
    "## Un-normalized form\n",
    "Some models can not easily be specified as normalized formulas."
   ]
  },
  {
   "cell_type": "markdown",
   "id": "cf5666ee",
   "metadata": {
    "slideshow": {
     "slide_type": "skip"
    }
   },
   "source": [
    "Especially for models with equilibrium conditions not involving price, the the more general un-normalized form is more suitable. This means that instead of our endogenous variables on the left side the left hand side is ```0``` and the right hand side is an expression. \n",
    "\n",
    "A very simple demand/supply model with three endogenous variables: demand, supply and price model looks like this:  \n",
    "\n",
    "\\begin{align*}\n",
    "demand_t  &=  f^1(price_t) \\\\\n",
    "supply_t  &= f^2(price_t)\\\\ \n",
    "demand_t &= supply_t\n",
    "\\end{align*}\n",
    "\n",
    "If it is difficult to rewrite the model with  an explicit expression for the price, the model can be made to an un-normalized model:  \n",
    "\n",
    "\\begin{align*}\n",
    "0   &=  f^1(price_t)-demand_t \\\\\n",
    "0 &= f^2(price_t)-supply_t\\\\ \n",
    "0 &= supply_t-demand_t\n",
    "\\end{align*}\n",
    "\n",
    "Which can be solved. \n",
    "The number of endogenous variables and equations should still be the same. And the model developer has to define which variables are endogenous. "
   ]
  },
  {
   "cell_type": "markdown",
   "id": "545cb14b",
   "metadata": {
    "slideshow": {
     "slide_type": "fragment"
    }
   },
   "source": [
    "Written in matrix notation an un-normalized model looks like this:\n",
    "\n",
    "$$\n",
    "\\mathbf{0} = \\mathbf{G}(\\mathbf{y}_{t+u} \\cdots \\mathbf{y}_t \\cdots \\mathbf{y}_{t-r},\\mathbf{x}_t \\cdots \\mathbf{x}_{t-s})\n",
    "$$"
   ]
  },
  {
   "cell_type": "markdown",
   "id": "ad2bc68b",
   "metadata": {
    "slideshow": {
     "slide_type": "slide"
    }
   },
   "source": [
    "## A model solution\n",
    "The purpose of models (in this context) is to combine the model with data and find values for endogenous variables consistent with the model and the data - a **solution**\n",
    "\n",
    "For a normalized model:\n",
    "\n",
    "$$\n",
    "\\mathbf{y}_t  = \\mathbf{F}(\\mathbf{y}_{t+u} \\cdots \\mathbf{y}_t \\cdots \\mathbf{y}_{t-r},\\mathbf{x}_t \\cdots \\mathbf{x}_{t-r})\n",
    "$$\n",
    "\n",
    "a solution is  $\\mathbf{y}_t^{*}$ so that:\n",
    "\n",
    "\n",
    "$$\n",
    "\\mathbf{y}_t^* = \\mathbf{F}(\\mathbf{y}_{t+u} \\cdots \\mathbf{y}_t^* \\cdots \\mathbf{y}_{t-r},\\mathbf{x}_t \\cdots \\mathbf{x}_{t-r})\n",
    "$$"
   ]
  },
  {
   "cell_type": "markdown",
   "id": "95822b13",
   "metadata": {
    "slideshow": {
     "slide_type": "skip"
    }
   },
   "source": [
    "For the un-normalized model:\n",
    "\n",
    "$$\n",
    "\\mathbf{0} = \\mathbf{G}(\\mathbf{y}_{t+u} \\cdots \\mathbf{y}_t \\cdots \\mathbf{y}_{t-r},\\mathbf{x}_t \\cdots \\mathbf{x}_{t-s})\n",
    "$$\n",
    "\n",
    "\n",
    "a solution $\\mathbf{y}_t^*$ is:\n",
    "\n",
    "$$\n",
    "\\mathbf{0} =\\mathbf{G}(\\mathbf{y}_{t+u} \\cdots \\mathbf{y}_t^* \\cdots \\mathbf{y}_{t-r},\\mathbf{x}_t \\cdots \\mathbf{x}_{t-r})\n",
    "$$"
   ]
  },
  {
   "cell_type": "markdown",
   "id": "857eec2d",
   "metadata": {
    "slideshow": {
     "slide_type": "fragment"
    }
   },
   "source": [
    "The functions $f^i$ can be linear or nonlinear. There is no guarantee that a model has a solution - or that it has only one solution. Hopeful Modelflow will be able to find a solution but it can depend on the starting point."
   ]
  },
  {
   "cell_type": "markdown",
   "id": "4c48a66d",
   "metadata": {
    "slideshow": {
     "slide_type": "slide"
    }
   },
   "source": [
    "# Solution methods\n",
    "\n",
    "There are several ways to solve a model (a system of equations) as mentioned above. ModelFlow can apply three different types of model solution methods:"
   ]
  },
  {
   "cell_type": "markdown",
   "id": "36779375",
   "metadata": {
    "slideshow": {
     "slide_type": "skip"
    }
   },
   "source": [
    " 1. If the model has **no contemporaneous feedback** the equations can be sorted\n",
    " [topologically](https://en.wikipedia.org/wiki/Topological_sorting) and can be solved in the topological order. This method is similar to the approach of an Excel spreadsheet.\n",
    " 2. If the model has **contemporaneous feedback**, the model should be solved in an iterative way. Using for example:\n",
    "     1. [The Gauss-Seidle method](https://en.wikipedia.org/wiki/Gauss%E2%80%93Seidel_method) (**Gauss**) which can handle large systems, is fairly robust and does not need the calculation of derivatives.\n",
    "     2. [The Newton-Raphson method](https://en.wikipedia.org/wiki/Newton%27s_method) (**Newton**) which requires the calculation of derivatives and solving of a large linear system but typically converges in fewer iterations.\n",
    " 3. If the model has **leaded endogenous variables**, the Gauss variation [Fair-Taylor](https://fairmodel.econ.yale.edu/rayfair/pdf/1983A.PDF) or Stacked-Newton Method should be used. The **stacked Newton** method can be used in all cases, but if not needed, it will usually use more memory and be slower.\n",
    " \n",
    "\n",
    "Nearly all of the models solved by ModelFlow don't contain leaded endogenous variables. Therefore, they can be solved one period at a time. For large sparse nonlinear models Gauss works fine. It solves a model quite fast and we don't need the additional handiwork of handling derivatives and solve large linear systems that Newton methods require. Moreover many models in question do not have smooth derivatives. The order in which the equation are calculated can however have a large impact on the convergence speed.\n",
    "\n",
    "For some models the Newton algorithm works better. Some models are not able to converge with Gauss-Seidle other models are just faster using Newton. Also with Newton the ordering of equations does not matter for the convergence speed.\n",
    "\n",
    "Some models like [FRB/US](https://www.federalreserve.gov/econres/us-models-about.htm)  and other with **rational expectations** or **model consistent expectations** contains leaded endogenous variables. Such models typical have to be solved as one system for all projection periods. In this case, the Gauss variation Fair-Taylor or Stacked-Newton Method should be used."
   ]
  },
  {
   "cell_type": "markdown",
   "id": "fe71c1e4",
   "metadata": {
    "slideshow": {
     "slide_type": "subslide"
    }
   },
   "source": [
    "| Model  | No contemporaneous feedback | Contemporaneous feedback | Leaded variables |\n",
    "| --- | --- | --- |--- |\n",
    "|Normalized | Calculate | Gauss or <br> Newton  | Fair Taylor or <br> Stacked Newton|\n",
    "|Un-normalized | Newton | Newton | Stacked Newton |"
   ]
  },
  {
   "cell_type": "markdown",
   "id": "08794aad",
   "metadata": {
    "slideshow": {
     "slide_type": "skip"
    }
   },
   "source": [
    "(solution-methods)=\n",
    "## Solution methods for normalized models\n",
    "\n",
    "### Calculation, No contemporaneous feedback\n",
    "\n",
    "In systems with no lags each period can be solved in succession.\n",
    "The equations have to be evaluated in a logical (topological sorted) order.\n",
    "\n",
    "Let:\n",
    " - $z$ be all predetermined values: all exogenous variables and lagged endogenous variables. \n",
    "\n",
    "Order the $n$ endogenous variables in topological order.\n",
    "\n",
    "For each time period we can find a solution by:\n",
    "\n",
    ">for $i$ = 1 to $n$\n",
    ">>$y_{i}^{k} = f_i(y_1^{k},\\cdots,y_{i-1}^{k},y_{i+1}^{k-1},\\cdots,y_{n}^{k-1},z)$"
   ]
  },
  {
   "cell_type": "markdown",
   "id": "f381c90d",
   "metadata": {
    "slideshow": {
     "slide_type": "skip"
    }
   },
   "source": [
    "### The Gauss-Seidel algorithm. Models with contemporaneous feedback\n",
    "The Gauss-Seidel algorithm is quite straight forward. It basically iterates over the formulas, until convergence.\n",
    "\n",
    "Let:\n",
    " - $z$ be all predetermined values: all exogenous variables and lagged endogenous variables.\n",
    " - $n$ be the number of endogenous variables.\n",
    " - $\\alpha$ dampening factor which can be applied to selected equations.\n",
    "\n",
    "For each time period we can find a solution by doing Gauss-Seidel iterations:\n",
    "\n",
    ">for $k = 1$ to convergence\n",
    ">>for $i$ = 1 to $n$\n",
    ">>>$y_{i}^{k} = (1-\\alpha) * y_{i}^{{k-1}} + \\alpha f_i(y_1^{k},\\cdots,y_{i-1}^{k},y_{i+1}^{k-1},\\cdots,y_{n}^{k-1},z)$"
   ]
  },
  {
   "cell_type": "markdown",
   "id": "3d941ffd",
   "metadata": {
    "slideshow": {
     "slide_type": "skip"
    }
   },
   "source": [
    "### The Newton-Raphson algorithm. Models with contemporaneous feedback\n",
    "\n",
    "Let: \n",
    " - $\\bf{z}$ be a vector all predetermined values: All exogenous variables and lagged endogenous variables.\n",
    " - $\\textbf{A}_t = \\cfrac{\\partial \\textbf{F}}{\\partial \\textbf{y}_t^T}$ Jacobi matrix of derivatives with respect to current endogenous variables. \n",
    " - $\\alpha$ dampening factor. \n",
    "\n",
    "\n",
    "For each time period we can find a solution by doing Newton-Raphson iterations:<br>\n",
    "\n",
    ">for $k = 1$ to convergence\n",
    ">>$\\bf{y} = \\bf{F(y^{k-1},z)}$\n",
    ">>$\\bf{y}^{k} =  \\bf{y} - \\alpha \\times  \\bf{(A-I)}^{-1} \\times ( \\bf{y - y^{k-1} })$\n",
    "\n",
    "### On solving sets of linear equations\n",
    "\n",
    "The expression: $\\bf{(A-I)}^{-1}\\times  (\\bf{y - y^{k-1}})$ is the same as finding the solution $\\bf{x}$ to the set of linear equations:\n",
    "\n",
    "$\\bf{y- y^{k-1} } = \\bf{(A-I)} \\times \\bf{x}$\n",
    "\n",
    "This problem can be solved much more efficiently than performing $\\bf{(A-I)}^{-1}\\times  ( \\bf{y - y^{k-1} })$. One way is to \n",
    "find a [LU decomposition](https://en.wikipedia.org/wiki/LU_decomposition). But other methods can also be used. \n",
    "\n",
    "The Python Scipy library provides a number of solvers to this linear set of equations. There are both solvers using LU-decomposition and iterative methods, and there are solvers for dense and sparse matrices. Any linear solvers can be incorporated into ModelFlows Newton-Raphson nonlinear solver. The [Scipy library](https://scipy.org/scipylib/index.html) utilizes the [Intel® Math Kernel Library](https://software.intel.com/en-us/mkl). \n",
    "\n",
    "The default solver is using a sparse LU-decomposition. It can handle quite large (as in very large) problems. \n",
    "\n",
    "The costly operation in this algorithm is the LU-decomposition. Therefore  $\\bf{A}$ is not updated in every iteration. "
   ]
  },
  {
   "cell_type": "markdown",
   "id": "3748cf9d",
   "metadata": {
    "cell_style": "center",
    "slideshow": {
     "slide_type": "skip"
    }
   },
   "source": [
    "### Stacked Newton-Raphson. Models with both leaded and lagged endogenous variable\n",
    "\n",
    "If the model has leaded endogenous variables, it can generally not be solved one time period at a time. The model should therefore be solved as one large model.\n",
    "\n",
    "Let: \n",
    " - $\\bf{z}$ be a vector all predetermined values: all exogenous variables and lagged endogenous variables.\n",
    " - $u$ Max number of leads  \n",
    " - $r$ Max number of lags  \n",
    " - $\\alpha$ dampening factor \n",
    "\n",
    " - $\\textbf{A}_t = \\cfrac{\\partial \\textbf{F}}{\\partial \\textbf{y}_t^T}$ Derivatives with respect to current endogenous variables \n",
    " - $\\textbf{D}_t^j =  \\cfrac{\\partial \\textbf{F}}{\\partial \\textbf{y}_{t+j}^T } \\hspace{5 mm} j=1, \\cdots , u  \\hspace{1 mm}\\mbox{  Derivatives with respect to leaded endogeneous variables  }$\n",
    " - $\\textbf{E}_t^i  =  \\cfrac{\\partial \\textbf{F}}{\\partial \\textbf{y}_{t-i}^T } \\hspace{5 mm} i=1, \\cdots , r  \\hspace{1 mm}\\mbox{  Derivatives with respect to lagged endogeneous variables  }$\n",
    "\n",
    "Now the $\\bf{\\bar A}$, $\\bar y$ and $\\bar F$ which covers the total model for all time frames can be constructed like this: \n",
    "\n",
    "$$\\bf{\\bar A} =\\begin{bmatrix}\n",
    "\t\t\\bf{A_1}   & \\bf{D_1^1} & \\bf{D_1^2} & \\bf{0}     &\\bf{0}      &\\bf{0}      &\\bf{0}      &\\bf{0}  \\\\\n",
    "        \\bf{E_2^1} & \\bf{A_2}   & \\bf{D_2^1} & \\bf{D_2^2} &\\bf{0}      &\\bf{0}      &\\bf{0}      &\\bf{0} \\\\\n",
    "        \\bf{E_3^2} & \\bf{E_3^1} & \\bf{A_3}   & \\bf{D_3^1} & \\bf{D_3^2} &\\bf{0}      &\\bf{0}      &\\bf{0} \\\\\n",
    "        \\bf{E_4^3} & \\bf{E_4^2} & \\bf{E_4^1} & \\bf{A_4}   & \\bf{D_4^1} & \\bf{D_4^2} &\\bf{0}      & \\bf{0} \\\\\n",
    "        \\bf{0}     & \\bf{E_5^3} & \\bf{E_5^2} & \\bf{E_5^1} & \\bf{A_5}   & \\bf{D_5^1} & \\bf{D_5^2} &\\bf{0}\\\\\n",
    "        \\bf{0}     & \\bf{0}     & \\bf{E_6^3} & \\bf{E_6^2} & \\bf{E_6^1} & \\bf{A_6}   & \\bf{D_6^1} & \\bf{D_6^2}\\\\\n",
    "        \\bf{0}     & \\bf{0}     & \\bf{0}     & \\bf{E_7^3} & \\bf{E_7^2} & \\bf{E_7^1} & \\bf{A_7}   & \\bf{D_7^1} \\\\\n",
    "        \\bf{0}     & \\bf{0}     & \\bf{0}     & \\bf{0}     & \\bf{E_8^3} & \\bf{E_8^2} & \\bf{E_8^1} & \\bf{A_8} \\\\\n",
    "\\end{bmatrix} \\bar y = \\begin{bmatrix}\\bf{y_1}\\\\\\bf{y_2}\\\\\\bf{y_3}\\\\ \\bf{y_4} \\\\\\bf{y_5} \\\\\\bf{y_6} \\\\ \\bf{y_7} \\\\ \\bf{y_8} \\end{bmatrix} \\bar F = \\begin{bmatrix}\\bf{F}\\\\\\bf{F}\\\\\\bf{F}\\\\ \\bf{F} \\\\\\bf{F} \\\\\\bf{F} \\\\ \\bf{F} \\\\ \\bf{F} \\end{bmatrix}$$\n",
    "\n",
    "\n",
    "And the solution algorithm looks like this:\n",
    "\n",
    "Again, let $\\bf{z}$ be a vector of all predetermined values: All exogenous variables and endogenous variables before and after the simulation time.\n",
    "\n",
    ">for $k = 1$ to convergence<br>\n",
    ">>$\\bf{\\bar y} = \\bf{\\bar F(\\bar y^{k-1},\\bar z) }$<br>\n",
    ">>$\\bf{\\bar y^{k}} =  \\bf{\\bar y} - \\alpha \\times \\bf{(\\bar A-I)}^{-1}\\times ( \\bf{\\bar y - \\bar y^{k-1}})$\n",
    "\n",
    "\n",
    "The update frequency of $\\bf{\\bar A}$ and $\\alpha$ and the value of $\\alpha$ can be set to manage the speed and stability of the algorithm.\n",
    "\n",
    "We solve the problem: $(\\bf{\\bar y - \\bar y^{k-1} }) = \\bf{(\\bar A-I)}\\times \\bf{x}$ instead of inverting  $\\bf{A}$.\n",
    "\n",
    "The comments above on solving the sets of linear equations also apply for this case. "
   ]
  },
  {
   "cell_type": "markdown",
   "id": "ed8dfe31",
   "metadata": {
    "slideshow": {
     "slide_type": "skip"
    }
   },
   "source": [
    "## Un-normalized model\n",
    "\n",
    "### Stacked Newton-Raphson algorithm\n",
    "\n",
    "If the model has leaded endogenous variables it can, in general, not be solved one time period at a time. We have to solve the model for all time frames as one large model.\n",
    "\n",
    "For the Newton-Raphson algorithm we now have to stack all the derivative matrices. The stacked matrices of a model with a max lag of three and a max lead of two spanning over eight periods look like this </span>\n",
    "\n",
    "$$\\bf{\\bar A} =\\begin{bmatrix}\n",
    "\t\t\\bf{A_1}   & \\bf{D_1^1} & \\bf{D_1^2} & \\bf{0}     &\\bf{0}      &\\bf{0}      &\\bf{0}      &\\bf{0}  \\\\\n",
    "        \\bf{E_2^1} & \\bf{A_2}   & \\bf{D_2^1} & \\bf{D_2^2} &\\bf{0}      &\\bf{0}      &\\bf{0}      &\\bf{0} \\\\\n",
    "        \\bf{E_3^2} & \\bf{E_3^1} & \\bf{A_3}   & \\bf{D_3^1} & \\bf{D_3^2} &\\bf{0}      &\\bf{0}      &\\bf{0} \\\\\n",
    "        \\bf{E_4^3} & \\bf{E_4^2} & \\bf{E_4^1} & \\bf{A_4}   & \\bf{D_4^1} & \\bf{D_4^2} &\\bf{0}      & \\bf{0} \\\\\n",
    "        \\bf{0}     & \\bf{E_5^3} & \\bf{E_5^2} & \\bf{E_5^1} & \\bf{A_5}   & \\bf{D_5^1} & \\bf{D_5^2} &\\bf{0}\\\\\n",
    "        \\bf{0}     & \\bf{0}     & \\bf{E_6^3} & \\bf{E_6^2} & \\bf{E_6^1} & \\bf{A_6}   & \\bf{D_6^1} & \\bf{D_6^2}\\\\\n",
    "        \\bf{0}     & \\bf{0}     & \\bf{0}     & \\bf{E_7^3} & \\bf{E_7^2} & \\bf{E_7^1} & \\bf{A_7}   & \\bf{D_7^1} \\\\\n",
    "        \\bf{0}     & \\bf{0}     & \\bf{0}     & \\bf{0}     & \\bf{E_8^3} & \\bf{E_8^2} & \\bf{E_8^1} & \\bf{A_8} \\\\\n",
    "\\end{bmatrix} \\bar y = \\begin{bmatrix}\\bf{y_1}\\\\\\bf{y_2}\\\\\\bf{y_3}\\\\ \\bf{y_4} \\\\\\bf{y_5} \\\\\\bf{y_6} \\\\ \\bf{y_7} \\\\ \\bf{y_8} \\end{bmatrix} \\bar F = \\begin{bmatrix}\\bf{F}\\\\\\bf{F}\\\\\\bf{F}\\\\ \\bf{F} \\\\\\bf{F} \\\\\\bf{F} \\\\ \\bf{F} \\\\ \\bf{F} \\end{bmatrix}$$\n",
    "\n",
    "\n",
    "$$\\bf \\bar z$$ contains all predetermined variable.\n",
    "\n",
    "Now the solution algorithm looks like this.\n",
    "\n",
    ">for $k = 1$ to convergence\n",
    ">>$\\bf{\\bar y\\_residual} = \\bf {\\bar G(\\bar y^{k-1},\\bar z) }$\n",
    ">>$\\bf{\\bar y^{k}} =  \\bf{\\bar y} - \\bf{\\bar A}^{-1} \\times \\bf {\\bar y\\_residual}$\n",
    "\n",
    "Notice that the model $\\bf G$ is the same for all time periods\n",
    "\n",
    "Again we don't compute $\\bf{\\bar y} - \\bf{\\bar A}^{-1} \\times \\bf {\\bar y\\_residual}$ which requires the \"expensive\" inversion of a matrix but solve the problem: $\\bf{\\bar y\\_residual}=\\bf{\\bar A} \\times \\bf  x$ which can be done much faster.\n",
    "\n",
    "\n",
    "Models without leaded variables are solved period for period along the same lines. "
   ]
  },
  {
   "cell_type": "markdown",
   "id": "a5e2d036",
   "metadata": {
    "slideshow": {
     "slide_type": "slide"
    }
   },
   "source": [
    "## Modelflow and solving\n",
    "Solving of models can incorporate a lot of methods to improve the speed. The approach in modelflow has been to use existing python libraries as much as possible and to apply the methods useful for the models at hand. \n",
    "\n",
    "With some knowledge of python and numerical methods it is possible to implement new methods and improvements. "
   ]
  }
 ],
 "metadata": {
  "celltoolbar": "Edit Metadata",
  "hide_input": false,
  "kernelspec": {
   "display_name": "Python 3 (ipykernel)",
   "language": "python",
   "name": "python3"
  },
  "language_info": {
   "codemirror_mode": {
    "name": "ipython",
    "version": 3
   },
   "file_extension": ".py",
   "mimetype": "text/x-python",
   "name": "python",
   "nbconvert_exporter": "python",
   "pygments_lexer": "ipython3",
   "version": "3.9.13"
  },
  "toc": {
   "base_numbering": 1,
   "nav_menu": {},
   "number_sections": true,
   "sideBar": true,
   "skip_h1_title": true,
   "title_cell": "Table of Contents",
   "title_sidebar": "Contents",
   "toc_cell": false,
   "toc_position": {
    "height": "calc(100% - 180px)",
    "left": "10px",
    "top": "150px",
    "width": "165px"
   },
   "toc_section_display": true,
   "toc_window_display": false
  },
  "varInspector": {
   "cols": {
    "lenName": 16,
    "lenType": 16,
    "lenVar": 40
   },
   "kernels_config": {
    "python": {
     "delete_cmd_postfix": "",
     "delete_cmd_prefix": "del ",
     "library": "var_list.py",
     "varRefreshCmd": "print(var_dic_list())"
    },
    "r": {
     "delete_cmd_postfix": ") ",
     "delete_cmd_prefix": "rm(",
     "library": "var_list.r",
     "varRefreshCmd": "cat(var_dic_list()) "
    }
   },
   "types_to_exclude": [
    "module",
    "function",
    "builtin_function_or_method",
    "instance",
    "_Feature"
   ],
   "window_display": false
  }
 },
 "nbformat": 4,
 "nbformat_minor": 5
}
