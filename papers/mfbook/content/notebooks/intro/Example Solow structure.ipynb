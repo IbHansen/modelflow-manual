{
 "cells": [
  {
   "cell_type": "markdown",
   "id": "9f2e2785",
   "metadata": {
    "slideshow": {
     "slide_type": "slide"
    }
   },
   "source": [
    "# Model structure \n",
    "Example: Solow model \n",
    "\n"
   ]
  },
  {
   "cell_type": "code",
   "execution_count": 1,
   "id": "e7c70d96",
   "metadata": {
    "slideshow": {
     "slide_type": "skip"
    }
   },
   "outputs": [],
   "source": [
    "#Required packages\n",
    "import pandas as pd\n",
    "\n",
    "from modelclass import model\n",
    "latex=0  # for publication "
   ]
  },
  {
   "cell_type": "markdown",
   "id": "eebf64c7",
   "metadata": {
    "slideshow": {
     "slide_type": "slide"
    }
   },
   "source": [
    "# Specify the model \n",
    "\n",
    "We start by define the logic of the Solow model in the Business Logic Language. "
   ]
  },
  {
   "cell_type": "code",
   "execution_count": 7,
   "id": "56b82d44",
   "metadata": {
    "slideshow": {
     "slide_type": "fragment"
    }
   },
   "outputs": [],
   "source": [
    "fsolow = '''\\\n",
    "Income          = a  * capital**alfa * labor **(1-alfa) \n",
    "Consumption     = (1-SAVING_RATIO)  * Income \n",
    "Investment      = Income - consumption \n",
    "diff(capital)   = Investment-depreciates_rate * capital(-1)\n",
    "diff(labor)     = labor_growth * labor(-1) \n",
    "capital_intense = capital/Labor \n",
    "'''"
   ]
  },
  {
   "cell_type": "markdown",
   "id": "6ab7bf46",
   "metadata": {
    "slideshow": {
     "slide_type": "slide"
    }
   },
   "source": [
    "# Create a model class instance"
   ]
  },
  {
   "cell_type": "code",
   "execution_count": 8,
   "id": "67f4a348",
   "metadata": {
    "slideshow": {
     "slide_type": "fragment"
    }
   },
   "outputs": [],
   "source": [
    "msolow = model.from_eq(fsolow,modelname='Solow model')"
   ]
  },
  {
   "cell_type": "markdown",
   "id": "bf481adc",
   "metadata": {
    "slideshow": {
     "slide_type": "skip"
    }
   },
   "source": [
    "Notice here the DIFF operator has been used DIFF(capital) is translated to $\\Delta capital$ which is capital-Kapital(-1)\n",
    "so the BLL of the model looks like this:"
   ]
  },
  {
   "cell_type": "code",
   "execution_count": 9,
   "id": "62242f27",
   "metadata": {
    "slideshow": {
     "slide_type": "fragment"
    }
   },
   "outputs": [
    {
     "name": "stdout",
     "output_type": "stream",
     "text": [
      "FRML <> INCOME          = A  * CAPITAL**ALFA * LABOR **(1-ALFA)  $\n",
      "FRML <> CONSUMPTION     = (1-SAVING_RATIO)  * INCOME  $\n",
      "FRML <> INVESTMENT      = INCOME - CONSUMPTION  $\n",
      "FRML <> CAPITAL=CAPITAL(-1)+(INVESTMENT-DEPRECIATES_RATE * CAPITAL(-1))$\n",
      "FRML <> LABOR=LABOR(-1)+(LABOR_GROWTH * LABOR(-1))$\n",
      "FRML <> CAPITAL_INTENSE = CAPITAL/LABOR  $\n"
     ]
    }
   ],
   "source": [
    "msolow.print_model"
   ]
  },
  {
   "cell_type": "markdown",
   "id": "082ed89e",
   "metadata": {
    "slideshow": {
     "slide_type": "slide"
    }
   },
   "source": [
    "# The structure "
   ]
  },
  {
   "cell_type": "code",
   "execution_count": 10,
   "id": "53c46f96",
   "metadata": {
    "scrolled": false,
    "slideshow": {
     "slide_type": "-"
    }
   },
   "outputs": [
    {
     "data": {
      "image/svg+xml": [
       "<svg xmlns=\"http://www.w3.org/2000/svg\" xmlns:xlink=\"http://www.w3.org/1999/xlink\" width=\"432pt\" height=\"183pt\" viewBox=\"0.00 0.00 432.00 183.19\">\n",
       "<g id=\"graph0\" class=\"graph\" transform=\"scale(0.570674 0.570674) rotate(0) translate(4 317)\">\n",
       "<title>TD</title>\n",
       "<polygon fill=\"white\" stroke=\"none\" points=\"-4,4 -4,-317 753,-317 753,4 -4,4\"/>\n",
       "<text text-anchor=\"middle\" x=\"374.5\" y=\"-7.8\" font-family=\"Times New Roman,serif\" font-size=\"14.00\">Model Structure</text>\n",
       "<!-- DEPRECIATES_RATE -->\n",
       "<g id=\"node1\" class=\"node\"><title>DEPRECIATES_RATE</title>\n",
       "<g id=\"a_node1\"><a xlink:title=\"DEPRECIATES_RATE\n",
       "Exogen\">\n",
       "<polygon fill=\"yellow\" stroke=\"black\" points=\"154,-267 0,-267 0,-231 154,-231 154,-267\"/>\n",
       "<text text-anchor=\"start\" x=\"6\" y=\"-244.8\" font-family=\"Times New Roman,serif\" font-size=\"14.00\" fill=\"blue\">DEPRECIATES_RATE:</text>\n",
       "</a>\n",
       "</g>\n",
       "</g>\n",
       "<!-- CAPITAL -->\n",
       "<g id=\"node10\" class=\"node\"><title>CAPITAL</title>\n",
       "<g id=\"a_node10\"><a xlink:title=\"CAPITAL\n",
       "FRML &lt;&gt; CAPITAL=CAPITAL(-1)+(INVESTMENT-DEPRECIATES_RATE * CAPITAL(-1))$\">\n",
       "<polygon fill=\"#63b8ff\" stroke=\"black\" points=\"265,-267 190,-267 190,-231 265,-231 265,-267\"/>\n",
       "<text text-anchor=\"start\" x=\"196.5\" y=\"-244.8\" font-family=\"Times New Roman,serif\" font-size=\"14.00\" fill=\"blue\">CAPITAL:</text>\n",
       "</a>\n",
       "</g>\n",
       "</g>\n",
       "<!-- DEPRECIATES_RATE&#45;&gt;CAPITAL -->\n",
       "<g id=\"edge9\" class=\"edge\"><title>DEPRECIATES_RATE-&gt;CAPITAL</title>\n",
       "<g id=\"a_edge9\"><a xlink:href=\"bogus\" xlink:title=\"NA\">\n",
       "<path fill=\"none\" stroke=\"black\" stroke-width=\"0.5\" d=\"M154.425,-249C163.023,-249 171.582,-249 179.64,-249\"/>\n",
       "<polygon fill=\"black\" stroke=\"black\" stroke-width=\"0.5\" points=\"179.907,-252.5 189.907,-249 179.907,-245.5 179.907,-252.5\"/>\n",
       "</a>\n",
       "</g>\n",
       "</g>\n",
       "<!-- A -->\n",
       "<g id=\"node2\" class=\"node\"><title>A</title>\n",
       "<g id=\"a_node2\"><a xlink:title=\"A\n",
       "Exogen\">\n",
       "<polygon fill=\"yellow\" stroke=\"black\" points=\"254.5,-202 200.5,-202 200.5,-166 254.5,-166 254.5,-202\"/>\n",
       "<text text-anchor=\"start\" x=\"221.5\" y=\"-179.8\" font-family=\"Times New Roman,serif\" font-size=\"14.00\" fill=\"blue\">A:</text>\n",
       "</a>\n",
       "</g>\n",
       "</g>\n",
       "<!-- INCOME -->\n",
       "<g id=\"node5\" class=\"node\"><title>INCOME</title>\n",
       "<g id=\"a_node5\"><a xlink:title=\"INCOME\n",
       "FRML &lt;&gt; INCOME          = A  * CAPITAL**ALFA * LABOR **(1-ALFA)  $\">\n",
       "<polygon fill=\"#63b8ff\" stroke=\"black\" points=\"413,-167 343,-167 343,-131 413,-131 413,-167\"/>\n",
       "<text text-anchor=\"start\" x=\"349\" y=\"-144.8\" font-family=\"Times New Roman,serif\" font-size=\"14.00\" fill=\"blue\">INCOME:</text>\n",
       "</a>\n",
       "</g>\n",
       "</g>\n",
       "<!-- A&#45;&gt;INCOME -->\n",
       "<g id=\"edge16\" class=\"edge\"><title>A-&gt;INCOME</title>\n",
       "<g id=\"a_edge16\"><a xlink:href=\"bogus\" xlink:title=\"NA\">\n",
       "<path fill=\"none\" stroke=\"black\" stroke-width=\"0.5\" d=\"M254.707,-177.823C276.392,-172.712 307.657,-165.344 333.146,-159.336\"/>\n",
       "<polygon fill=\"black\" stroke=\"black\" stroke-width=\"0.5\" points=\"334.025,-162.725 342.955,-157.024 332.419,-155.912 334.025,-162.725\"/>\n",
       "</a>\n",
       "</g>\n",
       "</g>\n",
       "<!-- SAVING_RATIO -->\n",
       "<g id=\"node3\" class=\"node\"><title>SAVING_RATIO</title>\n",
       "<g id=\"a_node3\"><a xlink:title=\"SAVING_RATIO\n",
       "Exogen\">\n",
       "<polygon fill=\"yellow\" stroke=\"black\" points=\"437.5,-113 318.5,-113 318.5,-77 437.5,-77 437.5,-113\"/>\n",
       "<text text-anchor=\"start\" x=\"325\" y=\"-90.8\" font-family=\"Times New Roman,serif\" font-size=\"14.00\" fill=\"blue\">SAVING_RATIO:</text>\n",
       "</a>\n",
       "</g>\n",
       "</g>\n",
       "<!-- CONSUMPTION -->\n",
       "<g id=\"node13\" class=\"node\"><title>CONSUMPTION</title>\n",
       "<g id=\"a_node13\"><a xlink:title=\"CONSUMPTION\n",
       "FRML &lt;&gt; CONSUMPTION     = (1-SAVING_RATIO)  * INCOME  $\">\n",
       "<polygon fill=\"#63b8ff\" stroke=\"black\" points=\"609,-144 491,-144 491,-108 609,-108 609,-144\"/>\n",
       "<text text-anchor=\"start\" x=\"497\" y=\"-121.8\" font-family=\"Times New Roman,serif\" font-size=\"14.00\" fill=\"blue\">CONSUMPTION:</text>\n",
       "</a>\n",
       "</g>\n",
       "</g>\n",
       "<!-- SAVING_RATIO&#45;&gt;CONSUMPTION -->\n",
       "<g id=\"edge17\" class=\"edge\"><title>SAVING_RATIO-&gt;CONSUMPTION</title>\n",
       "<g id=\"a_edge17\"><a xlink:href=\"bogus\" xlink:title=\"NA\">\n",
       "<path fill=\"none\" stroke=\"black\" stroke-width=\"0.5\" d=\"M437.504,-105.668C451.551,-108.23 466.67,-110.987 481.103,-113.619\"/>\n",
       "<polygon fill=\"black\" stroke=\"black\" stroke-width=\"0.5\" points=\"480.498,-117.066 490.964,-115.417 481.754,-110.18 480.498,-117.066\"/>\n",
       "</a>\n",
       "</g>\n",
       "</g>\n",
       "<!-- CAPITAL_INTENSE -->\n",
       "<g id=\"node4\" class=\"node\"><title>CAPITAL_INTENSE</title>\n",
       "<g id=\"a_node4\"><a xlink:title=\"CAPITAL_INTENSE\n",
       "FRML &lt;&gt; CAPITAL_INTENSE = CAPITAL/LABOR  $\">\n",
       "<polygon fill=\"#63b8ff\" stroke=\"black\" points=\"448,-221 308,-221 308,-185 448,-185 448,-221\"/>\n",
       "<text text-anchor=\"start\" x=\"314\" y=\"-198.8\" font-family=\"Times New Roman,serif\" font-size=\"14.00\" fill=\"blue\">CAPITAL_INTENSE:</text>\n",
       "</a>\n",
       "</g>\n",
       "</g>\n",
       "<!-- INVESTMENT -->\n",
       "<g id=\"node11\" class=\"node\"><title>INVESTMENT</title>\n",
       "<g id=\"a_node11\"><a xlink:title=\"INVESTMENT\n",
       "FRML &lt;&gt; INVESTMENT      = INCOME - CONSUMPTION  $\">\n",
       "<polygon fill=\"#63b8ff\" stroke=\"black\" points=\"749,-190 645,-190 645,-154 749,-154 749,-190\"/>\n",
       "<text text-anchor=\"start\" x=\"651\" y=\"-167.8\" font-family=\"Times New Roman,serif\" font-size=\"14.00\" fill=\"blue\">INVESTMENT:</text>\n",
       "</a>\n",
       "</g>\n",
       "</g>\n",
       "<!-- INCOME&#45;&gt;INVESTMENT -->\n",
       "<g id=\"edge4\" class=\"edge\"><title>INCOME-&gt;INVESTMENT</title>\n",
       "<g id=\"a_edge4\"><a xlink:href=\"bogus\" xlink:title=\"NA\">\n",
       "<path fill=\"none\" stroke=\"black\" stroke-width=\"0.5\" d=\"M413.226,-151.483C466.186,-155.326 568.754,-162.768 634.718,-167.554\"/>\n",
       "<polygon fill=\"black\" stroke=\"black\" stroke-width=\"0.5\" points=\"634.75,-171.065 644.977,-168.298 635.257,-164.083 634.75,-171.065\"/>\n",
       "</a>\n",
       "</g>\n",
       "</g>\n",
       "<!-- INCOME&#45;&gt;CONSUMPTION -->\n",
       "<g id=\"edge5\" class=\"edge\"><title>INCOME-&gt;CONSUMPTION</title>\n",
       "<g id=\"a_edge5\"><a xlink:href=\"bogus\" xlink:title=\"NA\">\n",
       "<path fill=\"none\" stroke=\"black\" stroke-width=\"0.5\" d=\"M413.402,-144.346C432.756,-141.727 457.612,-138.364 480.745,-135.234\"/>\n",
       "<polygon fill=\"black\" stroke=\"black\" stroke-width=\"0.5\" points=\"481.438,-138.673 490.878,-133.864 480.499,-131.736 481.438,-138.673\"/>\n",
       "</a>\n",
       "</g>\n",
       "</g>\n",
       "<!-- ALFA -->\n",
       "<g id=\"node6\" class=\"node\"><title>ALFA</title>\n",
       "<g id=\"a_node6\"><a xlink:title=\"ALFA\n",
       "Exogen\">\n",
       "<polygon fill=\"yellow\" stroke=\"black\" points=\"254.5,-148 200.5,-148 200.5,-112 254.5,-112 254.5,-148\"/>\n",
       "<text text-anchor=\"start\" x=\"207.5\" y=\"-125.8\" font-family=\"Times New Roman,serif\" font-size=\"14.00\" fill=\"blue\">ALFA:</text>\n",
       "</a>\n",
       "</g>\n",
       "</g>\n",
       "<!-- ALFA&#45;&gt;INCOME -->\n",
       "<g id=\"edge6\" class=\"edge\"><title>ALFA-&gt;INCOME</title>\n",
       "<g id=\"a_edge6\"><a xlink:href=\"bogus\" xlink:title=\"NA\">\n",
       "<path fill=\"none\" stroke=\"black\" stroke-width=\"0.5\" d=\"M254.707,-133.353C276.296,-136.115 307.38,-140.092 332.807,-143.346\"/>\n",
       "<polygon fill=\"black\" stroke=\"black\" stroke-width=\"0.5\" points=\"332.592,-146.847 342.955,-144.644 333.48,-139.903 332.592,-146.847\"/>\n",
       "</a>\n",
       "</g>\n",
       "</g>\n",
       "<!-- LABOR_GROWTH -->\n",
       "<g id=\"node7\" class=\"node\"><title>LABOR_GROWTH</title>\n",
       "<g id=\"a_node7\"><a xlink:title=\"LABOR_GROWTH\n",
       "Exogen\">\n",
       "<polygon fill=\"yellow\" stroke=\"black\" points=\"143.5,-71 10.5,-71 10.5,-35 143.5,-35 143.5,-71\"/>\n",
       "<text text-anchor=\"start\" x=\"17\" y=\"-48.8\" font-family=\"Times New Roman,serif\" font-size=\"14.00\" fill=\"blue\">LABOR_GROWTH:</text>\n",
       "</a>\n",
       "</g>\n",
       "</g>\n",
       "<!-- LABOR -->\n",
       "<g id=\"node8\" class=\"node\"><title>LABOR</title>\n",
       "<g id=\"a_node8\"><a xlink:title=\"LABOR\n",
       "FRML &lt;&gt; LABOR=LABOR(-1)+(LABOR_GROWTH * LABOR(-1))$\">\n",
       "<polygon fill=\"#63b8ff\" stroke=\"black\" points=\"259,-71 196,-71 196,-35 259,-35 259,-71\"/>\n",
       "<text text-anchor=\"start\" x=\"202.5\" y=\"-48.8\" font-family=\"Times New Roman,serif\" font-size=\"14.00\" fill=\"blue\">LABOR:</text>\n",
       "</a>\n",
       "</g>\n",
       "</g>\n",
       "<!-- LABOR_GROWTH&#45;&gt;LABOR -->\n",
       "<g id=\"edge2\" class=\"edge\"><title>LABOR_GROWTH-&gt;LABOR</title>\n",
       "<g id=\"a_edge2\"><a xlink:href=\"bogus\" xlink:title=\"NA\">\n",
       "<path fill=\"none\" stroke=\"black\" stroke-width=\"0.5\" d=\"M143.567,-53C157.913,-53 172.697,-53 185.738,-53\"/>\n",
       "<polygon fill=\"black\" stroke=\"black\" stroke-width=\"0.5\" points=\"185.781,-56.5001 195.781,-53 185.781,-49.5001 185.781,-56.5001\"/>\n",
       "</a>\n",
       "</g>\n",
       "</g>\n",
       "<!-- LABOR&#45;&gt;CAPITAL_INTENSE -->\n",
       "<g id=\"edge3\" class=\"edge\"><title>LABOR-&gt;CAPITAL_INTENSE</title>\n",
       "<g id=\"a_edge3\"><a xlink:href=\"bogus\" xlink:title=\"NA\">\n",
       "<path fill=\"none\" stroke=\"black\" stroke-width=\"0.5\" d=\"M243.159,-71.4661C250.164,-80.6804 258.432,-92.1511 265,-103 283.734,-133.946 273.971,-151.957 301,-176 302.295,-177.152 303.642,-178.255 305.033,-179.312\"/>\n",
       "<polygon fill=\"black\" stroke=\"black\" stroke-width=\"0.5\" points=\"303.161,-182.27 313.431,-184.874 307.027,-176.434 303.161,-182.27\"/>\n",
       "</a>\n",
       "</g>\n",
       "</g>\n",
       "<!-- LABOR&#45;&gt;INCOME -->\n",
       "<g id=\"edge11\" class=\"edge\"><title>LABOR-&gt;INCOME</title>\n",
       "<g id=\"a_edge11\"><a xlink:href=\"bogus\" xlink:title=\"NA\">\n",
       "<path fill=\"none\" stroke=\"black\" stroke-width=\"0.5\" d=\"M243.533,-71.0642C257.158,-86.4397 278.497,-108.172 301,-122 310.773,-128.006 322.074,-132.933 332.924,-136.856\"/>\n",
       "<polygon fill=\"black\" stroke=\"black\" stroke-width=\"0.5\" points=\"332.111,-140.276 342.705,-140.179 334.363,-133.648 332.111,-140.276\"/>\n",
       "</a>\n",
       "</g>\n",
       "</g>\n",
       "<!-- LABOR(&#45;1) -->\n",
       "<g id=\"node12\" class=\"node\"><title>LABOR(-1)</title>\n",
       "<g id=\"a_node12\"><a xlink:title=\"LABOR\n",
       "FRML &lt;&gt; LABOR=LABOR(-1)+(LABOR_GROWTH * LABOR(-1))$\">\n",
       "<polygon fill=\"springgreen\" stroke=\"black\" points=\"443,-59 313,-59 313,-23 443,-23 443,-59\"/>\n",
       "<text text-anchor=\"start\" x=\"319\" y=\"-36.8\" font-family=\"Times New Roman,serif\" font-size=\"14.00\" fill=\"blue\">LABOR(-1):LABOR</text>\n",
       "</a>\n",
       "</g>\n",
       "</g>\n",
       "<!-- LABOR&#45;&gt;LABOR(&#45;1) -->\n",
       "<g id=\"edge8\" class=\"edge\"><title>LABOR-&gt;LABOR(-1)</title>\n",
       "<g id=\"a_edge8\"><a xlink:href=\"bogus\" xlink:title=\"NA\">\n",
       "<path fill=\"none\" stroke=\"black\" stroke-width=\"0.5\" d=\"M259.269,-44.9209C272.022,-43.1178 287.418,-41.488 302.81,-40.2452\"/>\n",
       "<polygon fill=\"black\" stroke=\"black\" stroke-width=\"0.5\" points=\"303.187,-43.7268 312.896,-39.4864 302.662,-36.7465 303.187,-43.7268\"/>\n",
       "</a>\n",
       "</g>\n",
       "</g>\n",
       "<!-- CAPITAL(&#45;1) -->\n",
       "<g id=\"node9\" class=\"node\"><title>CAPITAL(-1)</title>\n",
       "<g id=\"a_node9\"><a xlink:title=\"CAPITAL\n",
       "FRML &lt;&gt; CAPITAL=CAPITAL(-1)+(INVESTMENT-DEPRECIATES_RATE * CAPITAL(-1))$\">\n",
       "<polygon fill=\"springgreen\" stroke=\"black\" points=\"455,-313 301,-313 301,-277 455,-277 455,-313\"/>\n",
       "<text text-anchor=\"start\" x=\"307\" y=\"-290.8\" font-family=\"Times New Roman,serif\" font-size=\"14.00\" fill=\"blue\">CAPITAL(-1):CAPITAL</text>\n",
       "</a>\n",
       "</g>\n",
       "</g>\n",
       "<!-- CAPITAL(&#45;1)&#45;&gt;CAPITAL -->\n",
       "<g id=\"edge14\" class=\"edge\"><title>CAPITAL(-1)-&gt;CAPITAL</title>\n",
       "<g id=\"a_edge14\"><a xlink:href=\"bogus\" xlink:title=\"NA\">\n",
       "<path fill=\"none\" stroke=\"black\" stroke-width=\"0.5\" d=\"M300.933,-278.186C291.99,-275.397 283.082,-272.49 274.728,-269.623\"/>\n",
       "<polygon fill=\"black\" stroke=\"black\" stroke-width=\"0.5\" points=\"275.803,-266.291 265.208,-266.287 273.487,-272.897 275.803,-266.291\"/>\n",
       "</a>\n",
       "</g>\n",
       "</g>\n",
       "<!-- CAPITAL&#45;&gt;CAPITAL_INTENSE -->\n",
       "<g id=\"edge12\" class=\"edge\"><title>CAPITAL-&gt;CAPITAL_INTENSE</title>\n",
       "<g id=\"a_edge12\"><a xlink:href=\"bogus\" xlink:title=\"NA\">\n",
       "<path fill=\"none\" stroke=\"black\" stroke-width=\"0.5\" d=\"M265.208,-237.629C278.454,-233.526 293.862,-228.753 308.929,-224.086\"/>\n",
       "<polygon fill=\"black\" stroke=\"black\" stroke-width=\"0.5\" points=\"310.238,-227.344 318.755,-221.042 308.167,-220.658 310.238,-227.344\"/>\n",
       "</a>\n",
       "</g>\n",
       "</g>\n",
       "<!-- CAPITAL&#45;&gt;INCOME -->\n",
       "<g id=\"edge1\" class=\"edge\"><title>CAPITAL-&gt;INCOME</title>\n",
       "<g id=\"a_edge1\"><a xlink:href=\"bogus\" xlink:title=\"NA\">\n",
       "<path fill=\"none\" stroke=\"black\" stroke-width=\"0.5\" d=\"M246.104,-230.877C266.511,-209.929 297.776,-178.045 301,-176 310.878,-169.737 322.401,-164.686 333.444,-160.724\"/>\n",
       "<polygon fill=\"black\" stroke=\"black\" stroke-width=\"0.5\" points=\"334.61,-164.024 342.972,-157.518 332.378,-157.39 334.61,-164.024\"/>\n",
       "</a>\n",
       "</g>\n",
       "</g>\n",
       "<!-- CAPITAL&#45;&gt;CAPITAL(&#45;1) -->\n",
       "<g id=\"edge15\" class=\"edge\"><title>CAPITAL-&gt;CAPITAL(-1)</title>\n",
       "<g id=\"a_edge15\"><a xlink:href=\"bogus\" xlink:title=\"NA\">\n",
       "<path fill=\"none\" stroke=\"black\" stroke-width=\"0.5\" d=\"M265.208,-254.455C284.338,-259.451 307.979,-266.622 328.587,-273.631\"/>\n",
       "<polygon fill=\"black\" stroke=\"black\" stroke-width=\"0.5\" points=\"327.525,-276.967 338.12,-276.939 329.82,-270.354 327.525,-276.967\"/>\n",
       "</a>\n",
       "</g>\n",
       "</g>\n",
       "<!-- INVESTMENT&#45;&gt;CAPITAL -->\n",
       "<g id=\"edge13\" class=\"edge\"><title>INVESTMENT-&gt;CAPITAL</title>\n",
       "<g id=\"a_edge13\"><a xlink:href=\"bogus\" xlink:title=\"NA\">\n",
       "<path fill=\"none\" stroke=\"black\" stroke-width=\"0.5\" d=\"M644.748,-186.742C596.272,-200.11 521.278,-219.309 455,-230 393.378,-239.94 321.433,-244.85 275.448,-247.152\"/>\n",
       "<polygon fill=\"black\" stroke=\"black\" stroke-width=\"0.5\" points=\"275.013,-243.668 265.192,-247.643 275.348,-250.66 275.013,-243.668\"/>\n",
       "</a>\n",
       "</g>\n",
       "</g>\n",
       "<!-- LABOR(&#45;1)&#45;&gt;LABOR -->\n",
       "<g id=\"edge7\" class=\"edge\"><title>LABOR(-1)-&gt;LABOR</title>\n",
       "<g id=\"a_edge7\"><a xlink:href=\"bogus\" xlink:title=\"NA\">\n",
       "<path fill=\"none\" stroke=\"black\" stroke-width=\"0.5\" d=\"M312.896,-52.8738C298.214,-54.2241 282.993,-55.2603 269.587,-55.7918\"/>\n",
       "<polygon fill=\"black\" stroke=\"black\" stroke-width=\"0.5\" points=\"269.158,-52.3032 259.269,-56.1063 269.371,-59.2999 269.158,-52.3032\"/>\n",
       "</a>\n",
       "</g>\n",
       "</g>\n",
       "<!-- CONSUMPTION&#45;&gt;INVESTMENT -->\n",
       "<g id=\"edge10\" class=\"edge\"><title>CONSUMPTION-&gt;INVESTMENT</title>\n",
       "<g id=\"a_edge10\"><a xlink:href=\"bogus\" xlink:title=\"NA\">\n",
       "<path fill=\"none\" stroke=\"black\" stroke-width=\"0.5\" d=\"M607.892,-144.048C616.865,-146.895 626.172,-149.848 635.229,-152.721\"/>\n",
       "<polygon fill=\"black\" stroke=\"black\" stroke-width=\"0.5\" points=\"634.341,-156.111 644.931,-155.799 636.458,-149.439 634.341,-156.111\"/>\n",
       "</a>\n",
       "</g>\n",
       "</g>\n",
       "</g>\n",
       "</svg>"
      ],
      "text/plain": [
       "<IPython.core.display.SVG object>"
      ]
     },
     "metadata": {},
     "output_type": "display_data"
    }
   ],
   "source": [
    "msolow.drawmodel( title=\"Model Structure\")"
   ]
  },
  {
   "cell_type": "markdown",
   "id": "76ebb41a",
   "metadata": {
    "slideshow": {
     "slide_type": "slide"
    }
   },
   "source": [
    "# As adjecency matrix "
   ]
  },
  {
   "cell_type": "code",
   "execution_count": 11,
   "id": "575d2fb9",
   "metadata": {
    "slideshow": {
     "slide_type": "-"
    }
   },
   "outputs": [
    {
     "data": {
      "image/png": "[encoded data removed]",
      "text/plain": [
       "<Figure size 360x360 with 1 Axes>"
      ]
     },
     "metadata": {
      "needs_background": "light"
     },
     "output_type": "display_data"
    }
   ],
   "source": [
    "msolow.plotadjacency();"
   ]
  }
 ],
 "metadata": {
  "celltoolbar": "Slideshow",
  "hide_input": false,
  "kernelspec": {
   "display_name": "Python 3 (ipykernel)",
   "language": "python",
   "name": "python3"
  },
  "language_info": {
   "codemirror_mode": {
    "name": "ipython",
    "version": 3
   },
   "file_extension": ".py",
   "mimetype": "text/x-python",
   "name": "python",
   "nbconvert_exporter": "python",
   "pygments_lexer": "ipython3",
   "version": "3.10.4"
  },
  "toc": {
   "base_numbering": 1,
   "nav_menu": {},
   "number_sections": true,
   "sideBar": true,
   "skip_h1_title": false,
   "title_cell": "Table of Contents",
   "title_sidebar": "Contents",
   "toc_cell": false,
   "toc_position": {
    "height": "calc(100% - 180px)",
    "left": "10px",
    "top": "150px",
    "width": "242.875px"
   },
   "toc_section_display": true,
   "toc_window_display": false
  }
 },
 "nbformat": 4,
 "nbformat_minor": 5
}
