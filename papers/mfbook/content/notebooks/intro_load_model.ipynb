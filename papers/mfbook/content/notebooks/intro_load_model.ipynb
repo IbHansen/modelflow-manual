{
 "cells": [
  {
   "cell_type": "markdown",
   "id": "91f3c7cf",
   "metadata": {},
   "source": [
    "# Inspiration for Pakistan model description"
   ]
  },
  {
   "cell_type": "code",
   "execution_count": 1,
   "id": "5b14b0c7",
   "metadata": {},
   "outputs": [],
   "source": [
    "import import_ipynb\n",
    "#pip install import-ipynb  "
   ]
  },
  {
   "cell_type": "markdown",
   "id": "cc226341",
   "metadata": {},
   "source": [
    "# This one is from Logical_structure"
   ]
  },
  {
   "cell_type": "code",
   "execution_count": 1,
   "id": "35f53cf8",
   "metadata": {},
   "outputs": [],
   "source": [
    "from modelclass import model "
   ]
  },
  {
   "cell_type": "markdown",
   "id": "cd446891",
   "metadata": {},
   "source": [
    "## Load a pre-existing model, data and descriptions \n",
    "The file `pak_exogenized.pcim` contains a dump of model equations, dataframe, simulation options and variable descriptions. "
   ]
  },
  {
   "cell_type": "code",
   "execution_count": 2,
   "id": "f8dd0883",
   "metadata": {},
   "outputs": [],
   "source": [
    "mpak,exostart = model.modelload('../models/pak.pcim',run=1,silent=1)"
   ]
  },
  {
   "cell_type": "markdown",
   "id": "4c5202a4",
   "metadata": {},
   "source": [
    "<span style='color:Blue'> Short descriptions on what this is. What is run, what is silent. Why two objects?</span>"
   ]
  },
  {
   "cell_type": "markdown",
   "id": "f5f46245",
   "metadata": {},
   "source": [
    "<span style='color:Blue'> Could instead link to the file on the github page. Or include some text how to access this file. Depending on how the notebook is accessed (downloaded, binder,..)</span>"
   ]
  },
  {
   "cell_type": "markdown",
   "id": "c2781ab4",
   "metadata": {},
   "source": [
    "## Create a dataframe where tax is set to 29"
   ]
  },
  {
   "cell_type": "code",
   "execution_count": null,
   "id": "e0db1c21",
   "metadata": {},
   "outputs": [],
   "source": [
    "taxvar  = mpak.vlist('PAKGGREVCO2???')   # define lists of the relevant variables. "
   ]
  },
  {
   "cell_type": "code",
   "execution_count": null,
   "id": "67eb5cfa",
   "metadata": {},
   "outputs": [],
   "source": [
    "nominal_CT= exostart.copy()   # A clean dataframe \n",
    "value = 29\n",
    "nominal_CT.loc[2020:2100,taxvar] = value "
   ]
  },
  {
   "cell_type": "markdown",
   "id": "45325b14",
   "metadata": {},
   "source": [
    "## Run the model with the baseline and with the nominal tax "
   ]
  },
  {
   "cell_type": "code",
   "execution_count": null,
   "id": "26483638",
   "metadata": {},
   "outputs": [],
   "source": [
    "res_no_tax   = mpak(exostart,2020,2100,alfa = 0.7)\n",
    "res_nominal  = mpak(nominal_CT,2020,2100,alfa = 0.7)"
   ]
  },
  {
   "cell_type": "markdown",
   "id": "2afa1194",
   "metadata": {},
   "source": [
    "# This one is from modelflow_features"
   ]
  },
  {
   "cell_type": "code",
   "execution_count": 6,
   "id": "994805b5",
   "metadata": {},
   "outputs": [],
   "source": [
    "import matplotlib.pyplot as plt\n",
    "\n",
    "from modelclass import model "
   ]
  },
  {
   "cell_type": "markdown",
   "id": "7c996f11",
   "metadata": {},
   "source": [
    "## .modelload Load a pre-cooked model, data and descriptions \n",
    "In this notebook, we will be using a pre-existing  model of Pakistan.\n",
    "\n",
    "The file 'pak.pcim' has been created from a Eviews workspace. It contains all that is needed to run the model: \n",
    "\n",
    "- Model equations\n",
    "- Data\n",
    "- Simulation options \n",
    "- Variable descriptions \n",
    "\n",
    "\n",
    "If you want to know more about how the model is created, this <link> tutorial is for you.\n",
    "\n",
    "Using the 'modelload' method of the  'model' class, a model instance 'mpak' and a 'result' DataFrame is created."
   ]
  },
  {
   "cell_type": "code",
   "execution_count": 9,
   "id": "1869fe50",
   "metadata": {},
   "outputs": [],
   "source": [
    "mpak,result = model.modelload('../models/pak.pcim',run=1,silent=1,keep='Baseline')"
   ]
  },
  {
   "cell_type": "markdown",
   "id": "eedc30aa",
   "metadata": {},
   "source": [
    "\n",
    "**mpak** <br> \n",
    "The *modelload* method processes the file and initiates the model, that we call 'mpak' (m for model and pak for Pakistan) with both equations and the data.\n",
    "\n",
    "'mpak' is an instance of the  model object with which we will work.\n",
    "\n",
    "**result**  <br> \n",
    "'result' is a Pandas dataframe containing the data that was loaded. This data is also exists inside the model object but can be accessed separately through 'result'.\n",
    "\n",
    "**run=1** the model is simulated. The simulation time and options from the time the file where dumped will used. <br>The two objects **mpak.basedf** and **mpak.lastdf** will contain the simulation result. If run=0 the model will not be simulated. \n",
    "\n",
    "**silent=1** if silent is set to 1 a number of information regarding the simulation will be displayed.\n",
    "\n",
    "**keep='Baseline'** This saves the result in a dictionary mpak.keep_solutions"
   ]
  },
  {
   "cell_type": "markdown",
   "id": "f374f1c0",
   "metadata": {},
   "source": [
    "## Create a scenario\n",
    "Many objects relates to comparison of different scenarios. So a scenario is created by updating some exogenous variables.<br>\n",
    "In this case the carbon tax rates for gas, oil and coal are all set to 29 from 2023 to 2100. <br>Then the scenario is simulated. \n",
    "<br>Now the mpak object contains a number of useful properties and methods. "
   ]
  },
  {
   "cell_type": "code",
   "execution_count": 10,
   "id": "e2c1cb92",
   "metadata": {},
   "outputs": [],
   "source": [
    "scenario_exo = result.copy() # make a new start point \n",
    "taxvar = ['PAKGGREVCO2CER','PAKGGREVCO2OER','PAKGGREVCO2GER'] # the variables we want to update in the scenario\n",
    "scenario_exo.loc[2023:2100,taxvar] = 29 # Then update the variables"
   ]
  },
  {
   "cell_type": "markdown",
   "id": "5330c2b6",
   "metadata": {},
   "source": [
    "## () Simulate on a dataframe \n",
    "When calling the model instance like ```mpak(dataframe,start, end)``` the model will be simulated for the time frame ```start to end```using the dataframe  <br>\n",
    "Just above we created a dataframe ``scenario_exo``` where the tax variables are updated. Now the ```mpak``` can be simulated. We simulate from 2020 to 2100. "
   ]
  },
  {
   "cell_type": "code",
   "execution_count": 11,
   "id": "4209c8fc",
   "metadata": {},
   "outputs": [
    {
     "data": {
      "application/vnd.jupyter.widget-view+json": {
       "model_id": "fc40cbd1ba334bde9bf10090b73846e8",
       "version_major": 2,
       "version_minor": 0
      },
      "text/plain": [
       "Solving pak model:   0%|          | 0/81"
      ]
     },
     "metadata": {},
     "output_type": "display_data"
    }
   ],
   "source": [
    "scenario = mpak(scenario_exo,2020,2100,keep=f'Coal, Oil and Gastax : 29',progressbar=True) # runs the simulation"
   ]
  },
  {
   "cell_type": "code",
   "execution_count": null,
   "id": "c2dac837",
   "metadata": {},
   "outputs": [],
   "source": []
  }
 ],
 "metadata": {
  "hide_input": false,
  "kernelspec": {
   "display_name": "Python 3 (ipykernel)",
   "language": "python",
   "name": "python3"
  },
  "language_info": {
   "codemirror_mode": {
    "name": "ipython",
    "version": 3
   },
   "file_extension": ".py",
   "mimetype": "text/x-python",
   "name": "python",
   "nbconvert_exporter": "python",
   "pygments_lexer": "ipython3",
   "version": "3.10.4"
  },
  "toc": {
   "base_numbering": 1,
   "nav_menu": {},
   "number_sections": true,
   "sideBar": true,
   "skip_h1_title": false,
   "title_cell": "Table of Contents",
   "title_sidebar": "Contents",
   "toc_cell": false,
   "toc_position": {},
   "toc_section_display": true,
   "toc_window_display": false
  }
 },
 "nbformat": 4,
 "nbformat_minor": 5
}
