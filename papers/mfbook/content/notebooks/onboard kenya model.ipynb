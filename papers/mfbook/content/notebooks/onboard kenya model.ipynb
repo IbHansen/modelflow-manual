{
 "cells": [
  {
   "cell_type": "markdown",
   "id": "158bb303",
   "metadata": {
    "slideshow": {
     "slide_type": "slide"
    }
   },
   "source": [
    "# Onboard a model defined in a .wf1 file\n",
    "This notebook takes a .wf1 workfile and transform  it to a modelflow model.<br>"
   ]
  },
  {
   "cell_type": "markdown",
   "id": "65f6c05f",
   "metadata": {
    "slideshow": {
     "slide_type": "subslide"
    }
   },
   "source": [
    "The overall process is performed in a Dataclass named:**GrapWfModel**<br> \n",
    "Close study of this class can be rewarding, but is outside the need of most users.<br>\n",
    "The overall structure is: \n",
    " 1. Eviews is started and the wf1 (or wf2) file is loaded\n",
    "    -    Some transformations are performed on data.\n",
    "    -    The model is unlinked \n",
    "    -    The workspace is saved as a wf2 file. Same name with ```_modelflow appended```\n",
    " 5. Eviews is closed \n",
    " 6. The wf2 file is read as a json file. \n",
    " 7. Relevant objects are extracted. \n",
    " 7. The MFMSA variable is  extracted, to be saved in the dumpfile. \n",
    " 8. The equations are transformed and normalized to modelflow format and classified into identities and stochastic\n",
    " 9. Stochastic equations are enriched by add_factor and fixing terms (dummy + fixing value)  \n",
    " 9. For Stochastic equations new fitted variables are generated - without add add_factors and dummies.  \n",
    " 9. A model to generate fitted variables is created  \n",
    " 9. A model to generate add_factors is created. \n",
    " 9. A model encompassing the original equations, the model for fitted variables and for add_factors is created. \n",
    " 9. The data series and scalars are shoveled into a Pandas dataframe \n",
    "     - Some special series are generated as the expression can not be incorporated into modelflow model specifications\n",
    "     - The model for fitted values is simulated in the specified timespan\n",
    "     - The model for add_factors is simulated in the timespan set in MFMSA\n",
    " 10. The data descriptions are extracted into a dictionary. \n",
    "    - Data descriptions for dummies, fixed values, fitted values and add_factors are derived. \n",
    " 11. Now we have a model and a dataframe with all variables which are needed.\n",
    " b\n",
    "The GrapWfModel instance in general keeps most of the steps so the developer can inspect the the different steps.  "
   ]
  },
  {
   "cell_type": "markdown",
   "id": "55349107",
   "metadata": {
    "slideshow": {
     "slide_type": "skip"
    }
   },
   "source": [
    "## Prerequisites  \n",
    "\n",
    "- Eviews version 12 \n",
    "- The python library: ```pyevies```  \n"
   ]
  },
  {
   "cell_type": "code",
   "execution_count": 28,
   "id": "c7be5a48",
   "metadata": {
    "slideshow": {
     "slide_type": "skip"
    }
   },
   "outputs": [],
   "source": [
    "%matplotlib Notebook"
   ]
  },
  {
   "cell_type": "code",
   "execution_count": 29,
   "id": "b54eb70b",
   "metadata": {},
   "outputs": [
    {
     "name": "stdout",
     "output_type": "stream",
     "text": [
      "The autoreload extension is already loaded. To reload it, use:\n",
      "  %reload_ext autoreload\n"
     ]
    }
   ],
   "source": [
    "%load_ext autoreload\n",
    "%autoreload 2"
   ]
  },
  {
   "cell_type": "code",
   "execution_count": 30,
   "id": "c82074e9",
   "metadata": {
    "slideshow": {
     "slide_type": "slide"
    }
   },
   "outputs": [
    {
     "data": {
      "text/html": [
       "\n",
       "        <style>\n",
       "            div#notebook-container    { width: 95%; }\n",
       "            div#menubar-container     { width: 65%; }\n",
       "            div#maintoolbar-container { width: 99%; }\n",
       "        </style>\n",
       "        "
      ],
      "text/plain": [
       "<IPython.core.display.HTML object>"
      ]
     },
     "metadata": {},
     "output_type": "display_data"
    }
   ],
   "source": [
    "from pathlib import Path\n",
    "\n",
    "from modelclass import model\n",
    "from modelgrabwf2 import GrabWfModel\n",
    "model.widescreen()"
   ]
  },
  {
   "cell_type": "code",
   "execution_count": 31,
   "id": "12428027",
   "metadata": {
    "slideshow": {
     "slide_type": "skip"
    }
   },
   "outputs": [],
   "source": [
    "#longname='KENsoln20230410useTHIS_modelflow'\n",
    "longname='KENmod20230209elec2'\n",
    "filename = Path(f'data/{longname}.wf2')              \n",
    "modelname = 'ken'"
   ]
  },
  {
   "cell_type": "markdown",
   "id": "15e120bf",
   "metadata": {
    "slideshow": {
     "slide_type": "skip"
    }
   },
   "source": [
    "## Model specific transformations \n",
    "Not all Eviews equations have a direct counterpart in modelflow.<br>\n",
    "To handle that two types of transformations can be provided for a specific model. \n",
    "- **eviews_run_lines** which specifies a list of Eviews command lines to be run. Typical to make some transformation of data which is not possible in modelflow. \n",
    "- **country_trans** which specifies a list of replacements to be done to the Eviews formulas before they are processed to modelflow. Typical to use the transformation mentioned above.  "
   ]
  },
  {
   "cell_type": "markdown",
   "id": "727f2214",
   "metadata": {
    "slideshow": {
     "slide_type": "slide"
    }
   },
   "source": [
    "## Process the model"
   ]
  },
  {
   "cell_type": "code",
   "execution_count": 32,
   "id": "79985f25",
   "metadata": {
    "slideshow": {
     "slide_type": "subslide"
    }
   },
   "outputs": [
    {
     "name": "stdout",
     "output_type": "stream",
     "text": [
      "\n",
      "Reading c:\\wb ftt\\code\\FTT-ModelFlow\\FTT_modelflow\\models\\presentation 20230413\\data\\KENmod20230209elec2.wf2\n",
      "Assummed model name: KEN\n",
      "The model: KEN is unlinked \n",
      "Writing C:\\wb ftt\\code\\FTT-ModelFlow\\FTT_modelflow\\models\\presentation 20230413\\data\\KENmod20230209elec2_modelflow.wf2\n",
      "Model name: KEN\n",
      "\n",
      "Processing the model:KEN\n",
      "Estimated coifficients are substituted\n"
     ]
    },
    {
     "name": "stderr",
     "output_type": "stream",
     "text": [
      "Normalizing model: 100%|███████████████████████████████████████████████████████████████████████████████████████|187/187"
     ]
    },
    {
     "name": "stdout",
     "output_type": "stream",
     "text": [
      "No quasiIdentities in KEN\n",
      "Default WB var_group loaded\n",
      "Variable description in wf1 file read\n",
      "Default WB var_description loaded\n",
      "testmodel calculated  \n",
      "Calculation of add factors for KEN calculated  \n"
     ]
    },
    {
     "name": "stderr",
     "output_type": "stream",
     "text": [
      "\n"
     ]
    }
   ],
   "source": [
    "all_about_ken = GrabWfModel(filename, \n",
    "                    make_fitted = True,       # If we want to calculate a fittet value for stocastic eq \n",
    "                    do_add_factor_calc=True,   # Stocastic equations are argumented by add factor \n",
    "                    start = 2020,\n",
    "                    end = 2050, \n",
    "                    fit_start = 2000,          # Start of calculation of fittet model in baseline \n",
    "                    fit_end   = 2050           # end of calc for fittted model, if None taken from mdmfsa options  \n",
    "                    ) "
   ]
  },
  {
   "cell_type": "markdown",
   "id": "38c42e1f",
   "metadata": {
    "slideshow": {
     "slide_type": "slide"
    }
   },
   "source": [
    "## Check if each equation on its own result in the values provided. \n",
    "aka: residual check <br> \n",
    "If they are not pretty close, something is very wrong. "
   ]
  },
  {
   "cell_type": "code",
   "execution_count": 33,
   "id": "c6dd4d13",
   "metadata": {
    "slideshow": {
     "slide_type": "-"
    }
   },
   "outputs": [
    {
     "name": "stdout",
     "output_type": "stream",
     "text": [
      "KEN calculated  \n",
      "\n",
      "Chekking residuals for KEN 2020 to 2050\n"
     ]
    }
   ],
   "source": [
    "all_about_ken.test_model(all_about_ken.start,all_about_ken.end,maxerr=100,tol=0.001,showall=0)"
   ]
  },
  {
   "cell_type": "markdown",
   "id": "540645a4",
   "metadata": {
    "slideshow": {
     "slide_type": "slide"
    }
   },
   "source": [
    "## Extract the model and the baseline\n",
    "From **all_about_ken** the model and baseline can be extracted"
   ]
  },
  {
   "cell_type": "code",
   "execution_count": 34,
   "id": "fa9578fb",
   "metadata": {
    "slideshow": {
     "slide_type": "-"
    }
   },
   "outputs": [],
   "source": [
    "mken,baseline      = all_about_ken()"
   ]
  },
  {
   "cell_type": "markdown",
   "id": "781c433d",
   "metadata": {
    "slideshow": {
     "slide_type": "slide"
    }
   },
   "source": [
    "## Look a all the modelflow frmls\n",
    "Notice after the \"original\" model the equations for the \"fitted\" values have been added. <br>\n",
    "Also in the end of the listing the specification of the model which calculates the add factors if a variable is fixed. When processing the equations the ```model``` class will process this this model separately and create a model instance \n",
    "which is used to calculate add factors in case "
   ]
  },
  {
   "cell_type": "code",
   "execution_count": 35,
   "id": "b9ae4d5d",
   "metadata": {
    "scrolled": false
   },
   "outputs": [],
   "source": [
    "#print(mken.equations)"
   ]
  },
  {
   "cell_type": "markdown",
   "id": "176f6a07",
   "metadata": {
    "slideshow": {
     "slide_type": "slide"
    }
   },
   "source": [
    "## Run the model \n",
    "In order to achieve numerical stability Gauss-Seidle has to be dampened: alfa=0.7 makes sure that the solution does not explode. \n",
    "The convergence criteria is tightend a lot.   "
   ]
  },
  {
   "cell_type": "code",
   "execution_count": 36,
   "id": "8019ced1",
   "metadata": {},
   "outputs": [],
   "source": [
    "res = mken(baseline,2022,2100,silent=1)"
   ]
  },
  {
   "cell_type": "markdown",
   "id": "78c958a8",
   "metadata": {
    "slideshow": {
     "slide_type": "slide"
    }
   },
   "source": [
    "## And inspect the simulation result. \n",
    "Notice that the variable descriptions (from the generic WB naming are used. "
   ]
  },
  {
   "cell_type": "code",
   "execution_count": 37,
   "id": "e5816406",
   "metadata": {
    "scrolled": false,
    "slideshow": {
     "slide_type": "subslide"
    }
   },
   "outputs": [
    {
     "data": {
      "application/vnd.jupyter.widget-view+json": {
       "model_id": "e8c1490107b04c37a663f60c1f8adc9a",
       "version_major": 2,
       "version_minor": 0
      },
      "text/plain": [
       "Tab(children=(Tab(children=(HTML(value='<?xml version=\"1.0\" encoding=\"utf-8\" standalone=\"no\"?>\\n<!DOCTYPE svg …"
      ]
     },
     "metadata": {},
     "output_type": "display_data"
    },
    {
     "data": {
      "text/html": [],
      "text/plain": []
     },
     "execution_count": 37,
     "metadata": {},
     "output_type": "execute_result"
    }
   ],
   "source": [
    "mken['*GGEXPCAPTCN *NYGDPMKTPCN *GGDBTTOTLCN *BNCABFUNDCD KENTOTELECQN']"
   ]
  },
  {
   "cell_type": "code",
   "execution_count": 38,
   "id": "0ed4cddc",
   "metadata": {
    "scrolled": false,
    "slideshow": {
     "slide_type": "subslide"
    }
   },
   "outputs": [
    {
     "data": {
      "application/vnd.jupyter.widget-view+json": {
       "model_id": "6800ee27587c46f6ae092602cff55265",
       "version_major": 2,
       "version_minor": 0
      },
      "text/plain": [
       "Tab(children=(Tab(children=(HTML(value='<?xml version=\"1.0\" encoding=\"utf-8\" standalone=\"no\"?>\\n<!DOCTYPE svg …"
      ]
     },
     "metadata": {},
     "output_type": "display_data"
    },
    {
     "data": {
      "text/html": [],
      "text/plain": []
     },
     "execution_count": 38,
     "metadata": {},
     "output_type": "execute_result"
    }
   ],
   "source": [
    "mken[['!*GDP*per*']].endo"
   ]
  },
  {
   "cell_type": "markdown",
   "id": "5d090b2c",
   "metadata": {
    "slideshow": {
     "slide_type": "skip"
    }
   },
   "source": [
    "## Look at a stochastic variable \n",
    "Here the equations undergo more phases "
   ]
  },
  {
   "cell_type": "code",
   "execution_count": 39,
   "id": "0f85a82d",
   "metadata": {
    "slideshow": {
     "slide_type": "skip"
    }
   },
   "outputs": [
    {
     "name": "stdout",
     "output_type": "stream",
     "text": [
      "\n",
      "Endo_var        : KENGGEXPCAPTCN\n",
      "Original        : DLOG(KENGGEXPCAPTCN)=-0.169741292945079*(LOG(KENGGEXPCAPTCN(-1))-LOG(KENNYGDPMKTPCN(-1))-LOG(0.0695471984012515))+0.178981111257331*DLOG(KENGGEXPCAPTCN(-1))+(1-0.178981111257331)*DLOG(KENNYGDPMKTPCN)\r\n",
      "Preprocessed    : ((LOG(KENGGEXPCAPTCN))-(LOG(KENGGEXPCAPTCN(-1))))=-0.169741292945079*(LOG(KENGGEXPCAPTCN(-1))-LOG(KENNYGDPMKTPCN(-1))-LOG(0.0695471984012515))+0.178981111257331*((LOG(KENGGEXPCAPTCN(-1)))-(LOG(KENGGEXPCAPTCN(-2))))+(1-0.178981111257331)*((LOG(KENNYGDPMKTPCN))-(LOG(KENNYGDPMKTPCN(-1))))\r\n",
      "Normalized      : KENGGEXPCAPTCN = (KENGGEXPCAPTCN(-1)*EXP(KENGGEXPCAPTCN_A+ (-0.169741292945079*(LOG(KENGGEXPCAPTCN(-1))-LOG(KENNYGDPMKTPCN(-1))-LOG(0.0695471984012515))+0.178981111257331*((LOG(KENGGEXPCAPTCN(-1)))-(LOG(KENGGEXPCAPTCN(-2))))+(1-0.178981111257331)*((LOG(KENNYGDPMKTPCN))-(LOG(KENNYGDPMKTPCN(-1))))) )) * (1-KENGGEXPCAPTCN_D)+ KENGGEXPCAPTCN_X*KENGGEXPCAPTCN_D \n",
      "Calc_add_factor : KENGGEXPCAPTCN_A = - ((-0.169741292945079*(LOG(KENGGEXPCAPTCN(-1))-LOG(KENNYGDPMKTPCN(-1))-LOG(0.0695471984012515))+0.178981111257331*((LOG(KENGGEXPCAPTCN(-1)))-(LOG(KENGGEXPCAPTCN(-2))))+(1-0.178981111257331)*((LOG(KENNYGDPMKTPCN))-(LOG(KENNYGDPMKTPCN(-1)))))) +LOG(KENGGEXPCAPTCN)-LOG(KENGGEXPCAPTCN(-1))\n",
      "Fitted          : KENGGEXPCAPTCN_FITTED = KENGGEXPCAPTCN(-1)*EXP( (-0.169741292945079*(LOG(KENGGEXPCAPTCN(-1))-LOG(KENNYGDPMKTPCN(-1))-LOG(0.0695471984012515))+0.178981111257331*((LOG(KENGGEXPCAPTCN(-1)))-(LOG(KENGGEXPCAPTCN(-2))))+(1-0.178981111257331)*((LOG(KENNYGDPMKTPCN))-(LOG(KENNYGDPMKTPCN(-1))))) )\n",
      "Eviews          : DLOG(KENGGEXPCAPTCN) =- 0.169741292945079*(LOG(KENGGEXPCAPTCN( - 1)) - LOG(KENNYGDPMKTPCN( - 1)) - LOG(0.0695471984012515)) + 0.178981111257331*DLOG(KENGGEXPCAPTCN( - 1)) + (1 - 0.178981111257331)*DLOG(KENNYGDPMKTPCN)\r\n"
     ]
    }
   ],
   "source": [
    "all_about_ken.all_frml_dict['KENGGEXPCAPTCN'].fprint"
   ]
  },
  {
   "cell_type": "code",
   "execution_count": 82,
   "id": "401b4025",
   "metadata": {},
   "outputs": [
    {
     "name": "stdout",
     "output_type": "stream",
     "text": [
      "KENGGEXPCAPTCN        : DLOG(KENGGEXPCAPTCN) =- 0.169741292945079*(LOG(KENGGEXPCAPTCN( - 1)) - LOG(KENNYGDPMKTPCN( - 1)) - LOG(0.0695471984012515)) + 0.178981111257331*DLOG(KENGGEXPCAPTCN( - 1)) + (1 - 0.178981111257331)*DLOG(KENNYGDPMKTPCN)\r\n",
      "KENGGEXPCAPTCN_A      : Exogen\n",
      "KENGGEXPCAPTCN_D      : Exogen\n",
      "KENGGEXPCAPTCN_FITTED : Not avaible\n",
      "KENGGEXPCAPTCN_X      : Exogen\n"
     ]
    }
   ],
   "source": [
    "mken['KENGGEXPCAP*'].eviews"
   ]
  },
  {
   "cell_type": "code",
   "execution_count": 49,
   "id": "c9d0a279",
   "metadata": {},
   "outputs": [
    {
     "name": "stdout",
     "output_type": "stream",
     "text": [
      "DLOG(KENGGEXPCAPTCN) =- 0.169741292945079*(LOG(KENGGEXPCAPTCN( - 1)) - LOG(KENNYGDPMKTPCN( - 1)) - LOG(0.0695471984012515)) + 0.178981111257331*DLOG(KENGGEXPCAPTCN( - 1)) + (1 - 0.178981111257331)*DLOG(KENNYGDPMKTPCN)\r\n"
     ]
    }
   ],
   "source": [
    "mken.KENGGEXPCAPTCN.eviews"
   ]
  },
  {
   "cell_type": "code",
   "execution_count": 50,
   "id": "fadc2991",
   "metadata": {},
   "outputs": [
    {
     "name": "stdout",
     "output_type": "stream",
     "text": [
      "Not avaiable\n"
     ]
    }
   ],
   "source": [
    "mken.KENGGEXPCAPTCN_FITTED.eviews"
   ]
  },
  {
   "cell_type": "code",
   "execution_count": 118,
   "id": "f4315adf",
   "metadata": {},
   "outputs": [
    {
     "name": "stdout",
     "output_type": "stream",
     "text": [
      "KENENTESGDPINTENSITY        : DLOG(KENENTESGDPINTENSITY) = -0.648987106406022*DLOG(KENNYGDPMKTPKN) + 0.0219112133714127\r\n",
      "KENENTESGDPINTENSITY_FITTED : Not avaible\n",
      "KENGDPPCKD                  : @IDENTITY KENGDPPCKD  = (KENNYGDPMKTPKD  / KENSPPOPTOTL)\r\n",
      "KENGDPPCKN                  : @IDENTITY KENGDPPCKN  = (KENNYGDPMKTPKN  / KENSPPOPTOTL)\r\n",
      "KENNYGDPFCSTCN              : @IDENTITY KENNYGDPFCSTCn  = KENNYGDPFCSTXN  * KENNYGDPFCSTKN\r\n",
      "KENNYGDPFCSTKN              : @IDENTITY KENNYGDPFCSTkn  = KENNYGDPMKTPKN  - KENNYTAXNINDKN\r\n",
      "KENNYGDPFCSTXN              : DLOG(KENNYGDPFCSTXN) = 0.8*(0.4*LOG(1 + KENINFLEXPT/100) + (1 - 0.4)*DLOG(KENPSTAR)) + 1*KENNYGDPGAP_/100 + (1 - 0.8)*DLOG(KENNYGDPFCSTXN( - 1)) + 0.018986373422419*@DURING(\"2015\")\r\n",
      "KENNYGDPFCSTXN_FITTED       : Not avaible\n",
      "KENNYGDPGAP_                : @IDENTITY KENNYGDPGAP_  = ((KENNYGDPMKTPKN  / KENNYGDPPOTLKN  - 1)  * 100)\r\n",
      "KENNYGDPMKTPCD              : @IDENTITY KENNYGDPMKTPCD  = KENNYGDPMKTPCN  / KENPANUSATLS\r\n",
      "KENNYGDPMKTPCN              : @IDENTITY KENnygdpmktpcn  = KENneconprvtcn  + KENnecongovtcn  + KENnegdiftotcn  + KENnegdistkbcn  + KENneexpgnfscn  - KENneimpgnfscn  + KENnygdpdisccn\r\n",
      "KENNYGDPMKTPKD              : @IDENTITY KENNYGDPMKTPKD  = (KENNYGDPMKTPKN  * (@ELEM(KENNYGDPMKTPCN  , 2015)  / (@ELEM(KENNYGDPMKTPKN  , 2015))))  / @ELEM(KENPANUSATLS  , 2015)\r\n",
      "KENNYGDPMKTPKN              : @IDENTITY KENNYGDPMKTPKN  = KENNECONPRVTKN  + KENNECONGOVTKN  + KENNEGDIFTOTKN  + KENNEGDISTKBKN  + KENNEEXPGNFSKN  - KENNEIMPGNFSKN  + KENNYGDPDISCKN\r\n",
      "KENNYGDPMKTPXD              : @IDENTITY KENNYGDPMKTPXD  = (KENNYGDPMKTPCD  / KENNYGDPMKTPKD)\r\n",
      "KENNYGDPMKTPXN              : @IDENTITY KENnygdpmktpxn  = KENnygdpmktpcn  / KENnygdpmktpkn\r\n",
      "KENNYGDPPOTLKD              : @IDENTITY KENNYGDPPOTLKD  = (KENNYGDPPOTLKN  * (@elem(KENNYGDPMKTPCN  , 2015)  / (@elem(KENNYGDPMKTPKN  , 2015))))  / @elem(KENPANUSATLS  , 2015)\r\n",
      "KENNYGDPPOTLKN              : @IDENTITY KENNYGDPPOTLKN  = KENNYGDPTFP  * (KENLMEMPSTRL^KENNYYWBTOTLCN_)  * (KENNEGDIKSTKKN(-1)^(1  - KENNYYWBTOTLCN_))\r\n"
     ]
    }
   ],
   "source": [
    "mken['*KEN*GDP*'].endo.eviews"
   ]
  },
  {
   "cell_type": "code",
   "execution_count": 120,
   "id": "fd62db3f",
   "metadata": {
    "scrolled": false
   },
   "outputs": [
    {
     "data": {
      "application/vnd.jupyter.widget-view+json": {
       "model_id": "639e62924c1a4729a32afe88b405171b",
       "version_major": 2,
       "version_minor": 0
      },
      "text/plain": [
       "Tab(children=(Tab(children=(HTML(value='<?xml version=\"1.0\" encoding=\"utf-8\" standalone=\"no\"?>\\n<!DOCTYPE svg …"
      ]
     },
     "metadata": {},
     "output_type": "display_data"
    },
    {
     "data": {
      "text/html": [],
      "text/plain": []
     },
     "execution_count": 120,
     "metadata": {},
     "output_type": "execute_result"
    }
   ],
   "source": [
    "mken['#Headline']"
   ]
  },
  {
   "cell_type": "code",
   "execution_count": 61,
   "id": "36502a77",
   "metadata": {
    "scrolled": false,
    "slideshow": {
     "slide_type": "skip"
    }
   },
   "outputs": [
    {
     "name": "stdout",
     "output_type": "stream",
     "text": [
      "Endogeneous: KENGGEXPCAPTCN: General government expenditure on capital expenditure (millions lcu)\n",
      "Formular: FRML <DAMP,STOC> KENGGEXPCAPTCN = (KENGGEXPCAPTCN(-1)*EXP(KENGGEXPCAPTCN_A+ (-0.169741292945079*(LOG(KENGGEXPCAPTCN(-1))-LOG(KENNYGDPMKTPCN(-1))-LOG(0.0695471984012515))+0.178981111257331*((LOG(KENGGEXPCAPTCN(-1)))-(LOG(KENGGEXPCAPTCN(-2))))+(1-0.178981111257331)*((LOG(KENNYGDPMKTPCN))-(LOG(KENNYGDPMKTPCN(-1))))) )) * (1-KENGGEXPCAPTCN_D)+ KENGGEXPCAPTCN_X*KENGGEXPCAPTCN_D  $\n",
      "\n",
      "KENGGEXPCAPTCN  : General government expenditure on capital expenditure (millions lcu)\n",
      "KENGGEXPCAPTCN_A: Add factor:General government expenditure on capital expenditure (millions lcu)\n",
      "KENGGEXPCAPTCN_D: Fix dummy:General government expenditure on capital expenditure (millions lcu)\n",
      "KENGGEXPCAPTCN_X: Fix value:General government expenditure on capital expenditure (millions lcu)\n",
      "KENNYGDPMKTPCN  : GDP, Market Prices, LCU mn\n",
      "\n",
      "Values :\n"
     ]
    },
    {
     "data": {
      "text/html": [
       "<style type=\"text/css\">\n",
       "#T_4943d thead tr:nth-child(1) th {\n",
       "  position: sticky;\n",
       "  background-color: white;\n",
       "  top: 0px;\n",
       "  z-index: 2;\n",
       "}\n",
       "#T_4943d thead tr th:nth-child(1) {\n",
       "  position: sticky;\n",
       "  background-color: white;\n",
       "  left: 0px;\n",
       "  z-index: 3 !important;\n",
       "}\n",
       "#T_4943d tbody tr th:nth-child(1) {\n",
       "  position: sticky;\n",
       "  background-color: white;\n",
       "  left: 0px;\n",
       "  z-index: 1;\n",
       "}\n",
       "#T_4943d .pd-t {\n",
       "  visibility: hidden;\n",
       "  position: absolute;\n",
       "  z-index: 1;\n",
       "  border: 1px solid #000066;\n",
       "  background-color: white;\n",
       "  color: #000066;\n",
       "  font-size: 0.8em;\n",
       "  width: 100%transform;\n",
       "  padding: 0.6em;\n",
       "  border-radius: 0.5em;\n",
       "}\n",
       "#T_4943d #T_4943d_row0_col0:hover .pd-t {\n",
       "  visibility: visible;\n",
       "}\n",
       "#T_4943d #T_4943d_row0_col0 .pd-t::after {\n",
       "  content: \"2020\";\n",
       "}\n",
       "#T_4943d #T_4943d_row0_col1:hover .pd-t {\n",
       "  visibility: visible;\n",
       "}\n",
       "#T_4943d #T_4943d_row0_col1 .pd-t::after {\n",
       "  content: \"2021\";\n",
       "}\n",
       "#T_4943d #T_4943d_row0_col2:hover .pd-t {\n",
       "  visibility: visible;\n",
       "}\n",
       "#T_4943d #T_4943d_row0_col2 .pd-t::after {\n",
       "  content: \"2022\";\n",
       "}\n",
       "#T_4943d #T_4943d_row0_col3:hover .pd-t {\n",
       "  visibility: visible;\n",
       "}\n",
       "#T_4943d #T_4943d_row0_col3 .pd-t::after {\n",
       "  content: \"2023\";\n",
       "}\n",
       "#T_4943d #T_4943d_row1_col0:hover .pd-t {\n",
       "  visibility: visible;\n",
       "}\n",
       "#T_4943d #T_4943d_row1_col0 .pd-t::after {\n",
       "  content: \"2020\";\n",
       "}\n",
       "#T_4943d #T_4943d_row1_col1:hover .pd-t {\n",
       "  visibility: visible;\n",
       "}\n",
       "#T_4943d #T_4943d_row1_col1 .pd-t::after {\n",
       "  content: \"2021\";\n",
       "}\n",
       "#T_4943d #T_4943d_row1_col2:hover .pd-t {\n",
       "  visibility: visible;\n",
       "}\n",
       "#T_4943d #T_4943d_row1_col2 .pd-t::after {\n",
       "  content: \"2022\";\n",
       "}\n",
       "#T_4943d #T_4943d_row1_col3:hover .pd-t {\n",
       "  visibility: visible;\n",
       "}\n",
       "#T_4943d #T_4943d_row1_col3 .pd-t::after {\n",
       "  content: \"2023\";\n",
       "}\n",
       "#T_4943d #T_4943d_row2_col0:hover .pd-t {\n",
       "  visibility: visible;\n",
       "}\n",
       "#T_4943d #T_4943d_row2_col0 .pd-t::after {\n",
       "  content: \"2020\";\n",
       "}\n",
       "#T_4943d #T_4943d_row2_col1:hover .pd-t {\n",
       "  visibility: visible;\n",
       "}\n",
       "#T_4943d #T_4943d_row2_col1 .pd-t::after {\n",
       "  content: \"2021\";\n",
       "}\n",
       "#T_4943d #T_4943d_row2_col2:hover .pd-t {\n",
       "  visibility: visible;\n",
       "}\n",
       "#T_4943d #T_4943d_row2_col2 .pd-t::after {\n",
       "  content: \"2022\";\n",
       "}\n",
       "#T_4943d #T_4943d_row2_col3:hover .pd-t {\n",
       "  visibility: visible;\n",
       "}\n",
       "#T_4943d #T_4943d_row2_col3 .pd-t::after {\n",
       "  content: \"2023\";\n",
       "}\n",
       "</style>\n",
       "<table id=\"T_4943d\" class=\"table\">\n",
       "  <thead>\n",
       "    <tr>\n",
       "      <th class=\"blank level0\" >&nbsp;</th>\n",
       "      <th id=\"T_4943d_level0_col0\" class=\"col_heading level0 col0\" >2020</th>\n",
       "      <th id=\"T_4943d_level0_col1\" class=\"col_heading level0 col1\" >2021</th>\n",
       "      <th id=\"T_4943d_level0_col2\" class=\"col_heading level0 col2\" >2022</th>\n",
       "      <th id=\"T_4943d_level0_col3\" class=\"col_heading level0 col3\" >2023</th>\n",
       "    </tr>\n",
       "  </thead>\n",
       "  <tbody>\n",
       "    <tr>\n",
       "      <th id=\"T_4943d_level0_row0\" class=\"row_heading level0 row0\" >Base</th>\n",
       "      <td id=\"T_4943d_row0_col0\" class=\"data row0 col0\" >761,102.36<span class=\"pd-t\"></span></td>\n",
       "      <td id=\"T_4943d_row0_col1\" class=\"data row0 col1\" >831,143.45<span class=\"pd-t\"></span></td>\n",
       "      <td id=\"T_4943d_row0_col2\" class=\"data row0 col2\" >913,757.45<span class=\"pd-t\"></span></td>\n",
       "      <td id=\"T_4943d_row0_col3\" class=\"data row0 col3\" >1,050,444.32<span class=\"pd-t\"></span></td>\n",
       "    </tr>\n",
       "    <tr>\n",
       "      <th id=\"T_4943d_level0_row1\" class=\"row_heading level0 row1\" >Last</th>\n",
       "      <td id=\"T_4943d_row1_col0\" class=\"data row1 col0\" >761,102.36<span class=\"pd-t\"></span></td>\n",
       "      <td id=\"T_4943d_row1_col1\" class=\"data row1 col1\" >831,143.45<span class=\"pd-t\"></span></td>\n",
       "      <td id=\"T_4943d_row1_col2\" class=\"data row1 col2\" >913,757.45<span class=\"pd-t\"></span></td>\n",
       "      <td id=\"T_4943d_row1_col3\" class=\"data row1 col3\" >1,050,444.32<span class=\"pd-t\"></span></td>\n",
       "    </tr>\n",
       "    <tr>\n",
       "      <th id=\"T_4943d_level0_row2\" class=\"row_heading level0 row2\" >Diff</th>\n",
       "      <td id=\"T_4943d_row2_col0\" class=\"data row2 col0\" >0.00<span class=\"pd-t\"></span></td>\n",
       "      <td id=\"T_4943d_row2_col1\" class=\"data row2 col1\" >0.00<span class=\"pd-t\"></span></td>\n",
       "      <td id=\"T_4943d_row2_col2\" class=\"data row2 col2\" >-0.00<span class=\"pd-t\"></span></td>\n",
       "      <td id=\"T_4943d_row2_col3\" class=\"data row2 col3\" >-0.00<span class=\"pd-t\"></span></td>\n",
       "    </tr>\n",
       "  </tbody>\n",
       "</table>\n"
      ],
      "text/plain": [
       "<IPython.core.display.HTML object>"
      ]
     },
     "metadata": {},
     "output_type": "display_data"
    },
    {
     "name": "stdout",
     "output_type": "stream",
     "text": [
      "Input last run:\n"
     ]
    },
    {
     "data": {
      "text/html": [
       "<style type=\"text/css\">\n",
       "#T_b7577 thead tr:nth-child(1) th {\n",
       "  position: sticky;\n",
       "  background-color: white;\n",
       "  top: 0px;\n",
       "  z-index: 2;\n",
       "}\n",
       "#T_b7577 thead tr th:nth-child(1) {\n",
       "  position: sticky;\n",
       "  background-color: white;\n",
       "  left: 0px;\n",
       "  z-index: 3 !important;\n",
       "}\n",
       "#T_b7577 tbody tr th:nth-child(1) {\n",
       "  position: sticky;\n",
       "  background-color: white;\n",
       "  left: 0px;\n",
       "  z-index: 1;\n",
       "}\n",
       "#T_b7577 .pd-t {\n",
       "  visibility: hidden;\n",
       "  position: absolute;\n",
       "  z-index: 1;\n",
       "  border: 1px solid #000066;\n",
       "  background-color: white;\n",
       "  color: #000066;\n",
       "  font-size: 0.8em;\n",
       "  width: 100%transform;\n",
       "  padding: 0.6em;\n",
       "  border-radius: 0.5em;\n",
       "}\n",
       "#T_b7577 #T_b7577_row0_col0:hover .pd-t {\n",
       "  visibility: visible;\n",
       "}\n",
       "#T_b7577 #T_b7577_row0_col0 .pd-t::after {\n",
       "  content: \"KENGGEXPCAPTCN(-1)\";\n",
       "}\n",
       "#T_b7577 #T_b7577_row0_col1:hover .pd-t {\n",
       "  visibility: visible;\n",
       "}\n",
       "#T_b7577 #T_b7577_row0_col1 .pd-t::after {\n",
       "  content: \"KENGGEXPCAPTCN(-1)\";\n",
       "}\n",
       "#T_b7577 #T_b7577_row0_col2:hover .pd-t {\n",
       "  visibility: visible;\n",
       "}\n",
       "#T_b7577 #T_b7577_row0_col2 .pd-t::after {\n",
       "  content: \"KENGGEXPCAPTCN(-1)\";\n",
       "}\n",
       "#T_b7577 #T_b7577_row0_col3:hover .pd-t {\n",
       "  visibility: visible;\n",
       "}\n",
       "#T_b7577 #T_b7577_row0_col3 .pd-t::after {\n",
       "  content: \"KENGGEXPCAPTCN(-1)\";\n",
       "}\n",
       "#T_b7577 #T_b7577_row1_col0:hover .pd-t {\n",
       "  visibility: visible;\n",
       "}\n",
       "#T_b7577 #T_b7577_row1_col0 .pd-t::after {\n",
       "  content: \"KENGGEXPCAPTCN(-2)\";\n",
       "}\n",
       "#T_b7577 #T_b7577_row1_col1:hover .pd-t {\n",
       "  visibility: visible;\n",
       "}\n",
       "#T_b7577 #T_b7577_row1_col1 .pd-t::after {\n",
       "  content: \"KENGGEXPCAPTCN(-2)\";\n",
       "}\n",
       "#T_b7577 #T_b7577_row1_col2:hover .pd-t {\n",
       "  visibility: visible;\n",
       "}\n",
       "#T_b7577 #T_b7577_row1_col2 .pd-t::after {\n",
       "  content: \"KENGGEXPCAPTCN(-2)\";\n",
       "}\n",
       "#T_b7577 #T_b7577_row1_col3:hover .pd-t {\n",
       "  visibility: visible;\n",
       "}\n",
       "#T_b7577 #T_b7577_row1_col3 .pd-t::after {\n",
       "  content: \"KENGGEXPCAPTCN(-2)\";\n",
       "}\n",
       "#T_b7577 #T_b7577_row2_col0:hover .pd-t {\n",
       "  visibility: visible;\n",
       "}\n",
       "#T_b7577 #T_b7577_row2_col0 .pd-t::after {\n",
       "  content: \"Add factor:General government expenditure on capital expenditure (millions lcu)\";\n",
       "}\n",
       "#T_b7577 #T_b7577_row2_col1:hover .pd-t {\n",
       "  visibility: visible;\n",
       "}\n",
       "#T_b7577 #T_b7577_row2_col1 .pd-t::after {\n",
       "  content: \"Add factor:General government expenditure on capital expenditure (millions lcu)\";\n",
       "}\n",
       "#T_b7577 #T_b7577_row2_col2:hover .pd-t {\n",
       "  visibility: visible;\n",
       "}\n",
       "#T_b7577 #T_b7577_row2_col2 .pd-t::after {\n",
       "  content: \"Add factor:General government expenditure on capital expenditure (millions lcu)\";\n",
       "}\n",
       "#T_b7577 #T_b7577_row2_col3:hover .pd-t {\n",
       "  visibility: visible;\n",
       "}\n",
       "#T_b7577 #T_b7577_row2_col3 .pd-t::after {\n",
       "  content: \"Add factor:General government expenditure on capital expenditure (millions lcu)\";\n",
       "}\n",
       "#T_b7577 #T_b7577_row3_col0:hover .pd-t {\n",
       "  visibility: visible;\n",
       "}\n",
       "#T_b7577 #T_b7577_row3_col0 .pd-t::after {\n",
       "  content: \"Fix dummy:General government expenditure on capital expenditure (millions lcu)\";\n",
       "}\n",
       "#T_b7577 #T_b7577_row3_col1:hover .pd-t {\n",
       "  visibility: visible;\n",
       "}\n",
       "#T_b7577 #T_b7577_row3_col1 .pd-t::after {\n",
       "  content: \"Fix dummy:General government expenditure on capital expenditure (millions lcu)\";\n",
       "}\n",
       "#T_b7577 #T_b7577_row3_col2:hover .pd-t {\n",
       "  visibility: visible;\n",
       "}\n",
       "#T_b7577 #T_b7577_row3_col2 .pd-t::after {\n",
       "  content: \"Fix dummy:General government expenditure on capital expenditure (millions lcu)\";\n",
       "}\n",
       "#T_b7577 #T_b7577_row3_col3:hover .pd-t {\n",
       "  visibility: visible;\n",
       "}\n",
       "#T_b7577 #T_b7577_row3_col3 .pd-t::after {\n",
       "  content: \"Fix dummy:General government expenditure on capital expenditure (millions lcu)\";\n",
       "}\n",
       "#T_b7577 #T_b7577_row4_col0:hover .pd-t {\n",
       "  visibility: visible;\n",
       "}\n",
       "#T_b7577 #T_b7577_row4_col0 .pd-t::after {\n",
       "  content: \"Fix value:General government expenditure on capital expenditure (millions lcu)\";\n",
       "}\n",
       "#T_b7577 #T_b7577_row4_col1:hover .pd-t {\n",
       "  visibility: visible;\n",
       "}\n",
       "#T_b7577 #T_b7577_row4_col1 .pd-t::after {\n",
       "  content: \"Fix value:General government expenditure on capital expenditure (millions lcu)\";\n",
       "}\n",
       "#T_b7577 #T_b7577_row4_col2:hover .pd-t {\n",
       "  visibility: visible;\n",
       "}\n",
       "#T_b7577 #T_b7577_row4_col2 .pd-t::after {\n",
       "  content: \"Fix value:General government expenditure on capital expenditure (millions lcu)\";\n",
       "}\n",
       "#T_b7577 #T_b7577_row4_col3:hover .pd-t {\n",
       "  visibility: visible;\n",
       "}\n",
       "#T_b7577 #T_b7577_row4_col3 .pd-t::after {\n",
       "  content: \"Fix value:General government expenditure on capital expenditure (millions lcu)\";\n",
       "}\n",
       "#T_b7577 #T_b7577_row5_col0:hover .pd-t {\n",
       "  visibility: visible;\n",
       "}\n",
       "#T_b7577 #T_b7577_row5_col0 .pd-t::after {\n",
       "  content: \"GDP, Market Prices, LCU mn\";\n",
       "}\n",
       "#T_b7577 #T_b7577_row5_col1:hover .pd-t {\n",
       "  visibility: visible;\n",
       "}\n",
       "#T_b7577 #T_b7577_row5_col1 .pd-t::after {\n",
       "  content: \"GDP, Market Prices, LCU mn\";\n",
       "}\n",
       "#T_b7577 #T_b7577_row5_col2:hover .pd-t {\n",
       "  visibility: visible;\n",
       "}\n",
       "#T_b7577 #T_b7577_row5_col2 .pd-t::after {\n",
       "  content: \"GDP, Market Prices, LCU mn\";\n",
       "}\n",
       "#T_b7577 #T_b7577_row5_col3:hover .pd-t {\n",
       "  visibility: visible;\n",
       "}\n",
       "#T_b7577 #T_b7577_row5_col3 .pd-t::after {\n",
       "  content: \"GDP, Market Prices, LCU mn\";\n",
       "}\n",
       "#T_b7577 #T_b7577_row6_col0:hover .pd-t {\n",
       "  visibility: visible;\n",
       "}\n",
       "#T_b7577 #T_b7577_row6_col0 .pd-t::after {\n",
       "  content: \"KENNYGDPMKTPCN(-1)\";\n",
       "}\n",
       "#T_b7577 #T_b7577_row6_col1:hover .pd-t {\n",
       "  visibility: visible;\n",
       "}\n",
       "#T_b7577 #T_b7577_row6_col1 .pd-t::after {\n",
       "  content: \"KENNYGDPMKTPCN(-1)\";\n",
       "}\n",
       "#T_b7577 #T_b7577_row6_col2:hover .pd-t {\n",
       "  visibility: visible;\n",
       "}\n",
       "#T_b7577 #T_b7577_row6_col2 .pd-t::after {\n",
       "  content: \"KENNYGDPMKTPCN(-1)\";\n",
       "}\n",
       "#T_b7577 #T_b7577_row6_col3:hover .pd-t {\n",
       "  visibility: visible;\n",
       "}\n",
       "#T_b7577 #T_b7577_row6_col3 .pd-t::after {\n",
       "  content: \"KENNYGDPMKTPCN(-1)\";\n",
       "}\n",
       "</style>\n",
       "<table id=\"T_b7577\" class=\"table\">\n",
       "  <thead>\n",
       "    <tr>\n",
       "      <th class=\"blank level0\" >&nbsp;</th>\n",
       "      <th id=\"T_b7577_level0_col0\" class=\"col_heading level0 col0\" >2020</th>\n",
       "      <th id=\"T_b7577_level0_col1\" class=\"col_heading level0 col1\" >2021</th>\n",
       "      <th id=\"T_b7577_level0_col2\" class=\"col_heading level0 col2\" >2022</th>\n",
       "      <th id=\"T_b7577_level0_col3\" class=\"col_heading level0 col3\" >2023</th>\n",
       "    </tr>\n",
       "  </thead>\n",
       "  <tbody>\n",
       "    <tr>\n",
       "      <th id=\"T_b7577_level0_row0\" class=\"row_heading level0 row0\" >KENGGEXPCAPTCN(-1)</th>\n",
       "      <td id=\"T_b7577_row0_col0\" class=\"data row0 col0\" >707,006.38<span class=\"pd-t\"></span></td>\n",
       "      <td id=\"T_b7577_row0_col1\" class=\"data row0 col1\" >761,102.36<span class=\"pd-t\"></span></td>\n",
       "      <td id=\"T_b7577_row0_col2\" class=\"data row0 col2\" >831,143.45<span class=\"pd-t\"></span></td>\n",
       "      <td id=\"T_b7577_row0_col3\" class=\"data row0 col3\" >913,757.45<span class=\"pd-t\"></span></td>\n",
       "    </tr>\n",
       "    <tr>\n",
       "      <th id=\"T_b7577_level0_row1\" class=\"row_heading level0 row1\" >KENGGEXPCAPTCN(-2)</th>\n",
       "      <td id=\"T_b7577_row1_col0\" class=\"data row1 col0\" >588,726.62<span class=\"pd-t\"></span></td>\n",
       "      <td id=\"T_b7577_row1_col1\" class=\"data row1 col1\" >707,006.38<span class=\"pd-t\"></span></td>\n",
       "      <td id=\"T_b7577_row1_col2\" class=\"data row1 col2\" >761,102.36<span class=\"pd-t\"></span></td>\n",
       "      <td id=\"T_b7577_row1_col3\" class=\"data row1 col3\" >831,143.45<span class=\"pd-t\"></span></td>\n",
       "    </tr>\n",
       "    <tr>\n",
       "      <th id=\"T_b7577_level0_row2\" class=\"row_heading level0 row2\" >KENGGEXPCAPTCN_A</th>\n",
       "      <td id=\"T_b7577_row2_col0\" class=\"data row2 col0\" >0.00<span class=\"pd-t\"></span></td>\n",
       "      <td id=\"T_b7577_row2_col1\" class=\"data row2 col1\" >-0.02<span class=\"pd-t\"></span></td>\n",
       "      <td id=\"T_b7577_row2_col2\" class=\"data row2 col2\" >-0.02<span class=\"pd-t\"></span></td>\n",
       "      <td id=\"T_b7577_row2_col3\" class=\"data row2 col3\" >-0.01<span class=\"pd-t\"></span></td>\n",
       "    </tr>\n",
       "    <tr>\n",
       "      <th id=\"T_b7577_level0_row3\" class=\"row_heading level0 row3\" >KENGGEXPCAPTCN_D</th>\n",
       "      <td id=\"T_b7577_row3_col0\" class=\"data row3 col0\" >0.00<span class=\"pd-t\"></span></td>\n",
       "      <td id=\"T_b7577_row3_col1\" class=\"data row3 col1\" >0.00<span class=\"pd-t\"></span></td>\n",
       "      <td id=\"T_b7577_row3_col2\" class=\"data row3 col2\" >0.00<span class=\"pd-t\"></span></td>\n",
       "      <td id=\"T_b7577_row3_col3\" class=\"data row3 col3\" >0.00<span class=\"pd-t\"></span></td>\n",
       "    </tr>\n",
       "    <tr>\n",
       "      <th id=\"T_b7577_level0_row4\" class=\"row_heading level0 row4\" >KENGGEXPCAPTCN_X</th>\n",
       "      <td id=\"T_b7577_row4_col0\" class=\"data row4 col0\" >0.00<span class=\"pd-t\"></span></td>\n",
       "      <td id=\"T_b7577_row4_col1\" class=\"data row4 col1\" >0.00<span class=\"pd-t\"></span></td>\n",
       "      <td id=\"T_b7577_row4_col2\" class=\"data row4 col2\" >0.00<span class=\"pd-t\"></span></td>\n",
       "      <td id=\"T_b7577_row4_col3\" class=\"data row4 col3\" >0.00<span class=\"pd-t\"></span></td>\n",
       "    </tr>\n",
       "    <tr>\n",
       "      <th id=\"T_b7577_level0_row5\" class=\"row_heading level0 row5\" >KENNYGDPMKTPCN</th>\n",
       "      <td id=\"T_b7577_row5_col0\" class=\"data row5 col0\" >10,716,034.00<span class=\"pd-t\"></span></td>\n",
       "      <td id=\"T_b7577_row5_col1\" class=\"data row5 col1\" >12,098,175.51<span class=\"pd-t\"></span></td>\n",
       "      <td id=\"T_b7577_row5_col2\" class=\"data row5 col2\" >13,546,261.09<span class=\"pd-t\"></span></td>\n",
       "      <td id=\"T_b7577_row5_col3\" class=\"data row5 col3\" >15,854,442.43<span class=\"pd-t\"></span></td>\n",
       "    </tr>\n",
       "    <tr>\n",
       "      <th id=\"T_b7577_level0_row6\" class=\"row_heading level0 row6\" >KENNYGDPMKTPCN(-1)</th>\n",
       "      <td id=\"T_b7577_row6_col0\" class=\"data row6 col0\" >10,237,727.00<span class=\"pd-t\"></span></td>\n",
       "      <td id=\"T_b7577_row6_col1\" class=\"data row6 col1\" >10,716,034.00<span class=\"pd-t\"></span></td>\n",
       "      <td id=\"T_b7577_row6_col2\" class=\"data row6 col2\" >12,098,175.51<span class=\"pd-t\"></span></td>\n",
       "      <td id=\"T_b7577_row6_col3\" class=\"data row6 col3\" >13,546,261.09<span class=\"pd-t\"></span></td>\n",
       "    </tr>\n",
       "  </tbody>\n",
       "</table>\n"
      ],
      "text/plain": [
       "<pandas.io.formats.style.Styler at 0x1a07bd4eb20>"
      ]
     },
     "metadata": {},
     "output_type": "display_data"
    },
    {
     "name": "stdout",
     "output_type": "stream",
     "text": [
      "Input base run:\n"
     ]
    },
    {
     "data": {
      "text/html": [
       "<style type=\"text/css\">\n",
       "#T_3d457 thead tr:nth-child(1) th {\n",
       "  position: sticky;\n",
       "  background-color: white;\n",
       "  top: 0px;\n",
       "  z-index: 2;\n",
       "}\n",
       "#T_3d457 thead tr th:nth-child(1) {\n",
       "  position: sticky;\n",
       "  background-color: white;\n",
       "  left: 0px;\n",
       "  z-index: 3 !important;\n",
       "}\n",
       "#T_3d457 tbody tr th:nth-child(1) {\n",
       "  position: sticky;\n",
       "  background-color: white;\n",
       "  left: 0px;\n",
       "  z-index: 1;\n",
       "}\n",
       "#T_3d457 .pd-t {\n",
       "  visibility: hidden;\n",
       "  position: absolute;\n",
       "  z-index: 1;\n",
       "  border: 1px solid #000066;\n",
       "  background-color: white;\n",
       "  color: #000066;\n",
       "  font-size: 0.8em;\n",
       "  width: 100%transform;\n",
       "  padding: 0.6em;\n",
       "  border-radius: 0.5em;\n",
       "}\n",
       "#T_3d457 #T_3d457_row0_col0:hover .pd-t {\n",
       "  visibility: visible;\n",
       "}\n",
       "#T_3d457 #T_3d457_row0_col0 .pd-t::after {\n",
       "  content: \"KENGGEXPCAPTCN(-1)\";\n",
       "}\n",
       "#T_3d457 #T_3d457_row0_col1:hover .pd-t {\n",
       "  visibility: visible;\n",
       "}\n",
       "#T_3d457 #T_3d457_row0_col1 .pd-t::after {\n",
       "  content: \"KENGGEXPCAPTCN(-1)\";\n",
       "}\n",
       "#T_3d457 #T_3d457_row0_col2:hover .pd-t {\n",
       "  visibility: visible;\n",
       "}\n",
       "#T_3d457 #T_3d457_row0_col2 .pd-t::after {\n",
       "  content: \"KENGGEXPCAPTCN(-1)\";\n",
       "}\n",
       "#T_3d457 #T_3d457_row0_col3:hover .pd-t {\n",
       "  visibility: visible;\n",
       "}\n",
       "#T_3d457 #T_3d457_row0_col3 .pd-t::after {\n",
       "  content: \"KENGGEXPCAPTCN(-1)\";\n",
       "}\n",
       "#T_3d457 #T_3d457_row1_col0:hover .pd-t {\n",
       "  visibility: visible;\n",
       "}\n",
       "#T_3d457 #T_3d457_row1_col0 .pd-t::after {\n",
       "  content: \"KENGGEXPCAPTCN(-2)\";\n",
       "}\n",
       "#T_3d457 #T_3d457_row1_col1:hover .pd-t {\n",
       "  visibility: visible;\n",
       "}\n",
       "#T_3d457 #T_3d457_row1_col1 .pd-t::after {\n",
       "  content: \"KENGGEXPCAPTCN(-2)\";\n",
       "}\n",
       "#T_3d457 #T_3d457_row1_col2:hover .pd-t {\n",
       "  visibility: visible;\n",
       "}\n",
       "#T_3d457 #T_3d457_row1_col2 .pd-t::after {\n",
       "  content: \"KENGGEXPCAPTCN(-2)\";\n",
       "}\n",
       "#T_3d457 #T_3d457_row1_col3:hover .pd-t {\n",
       "  visibility: visible;\n",
       "}\n",
       "#T_3d457 #T_3d457_row1_col3 .pd-t::after {\n",
       "  content: \"KENGGEXPCAPTCN(-2)\";\n",
       "}\n",
       "#T_3d457 #T_3d457_row2_col0:hover .pd-t {\n",
       "  visibility: visible;\n",
       "}\n",
       "#T_3d457 #T_3d457_row2_col0 .pd-t::after {\n",
       "  content: \"Add factor:General government expenditure on capital expenditure (millions lcu)\";\n",
       "}\n",
       "#T_3d457 #T_3d457_row2_col1:hover .pd-t {\n",
       "  visibility: visible;\n",
       "}\n",
       "#T_3d457 #T_3d457_row2_col1 .pd-t::after {\n",
       "  content: \"Add factor:General government expenditure on capital expenditure (millions lcu)\";\n",
       "}\n",
       "#T_3d457 #T_3d457_row2_col2:hover .pd-t {\n",
       "  visibility: visible;\n",
       "}\n",
       "#T_3d457 #T_3d457_row2_col2 .pd-t::after {\n",
       "  content: \"Add factor:General government expenditure on capital expenditure (millions lcu)\";\n",
       "}\n",
       "#T_3d457 #T_3d457_row2_col3:hover .pd-t {\n",
       "  visibility: visible;\n",
       "}\n",
       "#T_3d457 #T_3d457_row2_col3 .pd-t::after {\n",
       "  content: \"Add factor:General government expenditure on capital expenditure (millions lcu)\";\n",
       "}\n",
       "#T_3d457 #T_3d457_row3_col0:hover .pd-t {\n",
       "  visibility: visible;\n",
       "}\n",
       "#T_3d457 #T_3d457_row3_col0 .pd-t::after {\n",
       "  content: \"Fix dummy:General government expenditure on capital expenditure (millions lcu)\";\n",
       "}\n",
       "#T_3d457 #T_3d457_row3_col1:hover .pd-t {\n",
       "  visibility: visible;\n",
       "}\n",
       "#T_3d457 #T_3d457_row3_col1 .pd-t::after {\n",
       "  content: \"Fix dummy:General government expenditure on capital expenditure (millions lcu)\";\n",
       "}\n",
       "#T_3d457 #T_3d457_row3_col2:hover .pd-t {\n",
       "  visibility: visible;\n",
       "}\n",
       "#T_3d457 #T_3d457_row3_col2 .pd-t::after {\n",
       "  content: \"Fix dummy:General government expenditure on capital expenditure (millions lcu)\";\n",
       "}\n",
       "#T_3d457 #T_3d457_row3_col3:hover .pd-t {\n",
       "  visibility: visible;\n",
       "}\n",
       "#T_3d457 #T_3d457_row3_col3 .pd-t::after {\n",
       "  content: \"Fix dummy:General government expenditure on capital expenditure (millions lcu)\";\n",
       "}\n",
       "#T_3d457 #T_3d457_row4_col0:hover .pd-t {\n",
       "  visibility: visible;\n",
       "}\n",
       "#T_3d457 #T_3d457_row4_col0 .pd-t::after {\n",
       "  content: \"Fix value:General government expenditure on capital expenditure (millions lcu)\";\n",
       "}\n",
       "#T_3d457 #T_3d457_row4_col1:hover .pd-t {\n",
       "  visibility: visible;\n",
       "}\n",
       "#T_3d457 #T_3d457_row4_col1 .pd-t::after {\n",
       "  content: \"Fix value:General government expenditure on capital expenditure (millions lcu)\";\n",
       "}\n",
       "#T_3d457 #T_3d457_row4_col2:hover .pd-t {\n",
       "  visibility: visible;\n",
       "}\n",
       "#T_3d457 #T_3d457_row4_col2 .pd-t::after {\n",
       "  content: \"Fix value:General government expenditure on capital expenditure (millions lcu)\";\n",
       "}\n",
       "#T_3d457 #T_3d457_row4_col3:hover .pd-t {\n",
       "  visibility: visible;\n",
       "}\n",
       "#T_3d457 #T_3d457_row4_col3 .pd-t::after {\n",
       "  content: \"Fix value:General government expenditure on capital expenditure (millions lcu)\";\n",
       "}\n",
       "#T_3d457 #T_3d457_row5_col0:hover .pd-t {\n",
       "  visibility: visible;\n",
       "}\n",
       "#T_3d457 #T_3d457_row5_col0 .pd-t::after {\n",
       "  content: \"GDP, Market Prices, LCU mn\";\n",
       "}\n",
       "#T_3d457 #T_3d457_row5_col1:hover .pd-t {\n",
       "  visibility: visible;\n",
       "}\n",
       "#T_3d457 #T_3d457_row5_col1 .pd-t::after {\n",
       "  content: \"GDP, Market Prices, LCU mn\";\n",
       "}\n",
       "#T_3d457 #T_3d457_row5_col2:hover .pd-t {\n",
       "  visibility: visible;\n",
       "}\n",
       "#T_3d457 #T_3d457_row5_col2 .pd-t::after {\n",
       "  content: \"GDP, Market Prices, LCU mn\";\n",
       "}\n",
       "#T_3d457 #T_3d457_row5_col3:hover .pd-t {\n",
       "  visibility: visible;\n",
       "}\n",
       "#T_3d457 #T_3d457_row5_col3 .pd-t::after {\n",
       "  content: \"GDP, Market Prices, LCU mn\";\n",
       "}\n",
       "#T_3d457 #T_3d457_row6_col0:hover .pd-t {\n",
       "  visibility: visible;\n",
       "}\n",
       "#T_3d457 #T_3d457_row6_col0 .pd-t::after {\n",
       "  content: \"KENNYGDPMKTPCN(-1)\";\n",
       "}\n",
       "#T_3d457 #T_3d457_row6_col1:hover .pd-t {\n",
       "  visibility: visible;\n",
       "}\n",
       "#T_3d457 #T_3d457_row6_col1 .pd-t::after {\n",
       "  content: \"KENNYGDPMKTPCN(-1)\";\n",
       "}\n",
       "#T_3d457 #T_3d457_row6_col2:hover .pd-t {\n",
       "  visibility: visible;\n",
       "}\n",
       "#T_3d457 #T_3d457_row6_col2 .pd-t::after {\n",
       "  content: \"KENNYGDPMKTPCN(-1)\";\n",
       "}\n",
       "#T_3d457 #T_3d457_row6_col3:hover .pd-t {\n",
       "  visibility: visible;\n",
       "}\n",
       "#T_3d457 #T_3d457_row6_col3 .pd-t::after {\n",
       "  content: \"KENNYGDPMKTPCN(-1)\";\n",
       "}\n",
       "</style>\n",
       "<table id=\"T_3d457\" class=\"table\">\n",
       "  <thead>\n",
       "    <tr>\n",
       "      <th class=\"blank level0\" >&nbsp;</th>\n",
       "      <th id=\"T_3d457_level0_col0\" class=\"col_heading level0 col0\" >2020</th>\n",
       "      <th id=\"T_3d457_level0_col1\" class=\"col_heading level0 col1\" >2021</th>\n",
       "      <th id=\"T_3d457_level0_col2\" class=\"col_heading level0 col2\" >2022</th>\n",
       "      <th id=\"T_3d457_level0_col3\" class=\"col_heading level0 col3\" >2023</th>\n",
       "    </tr>\n",
       "  </thead>\n",
       "  <tbody>\n",
       "    <tr>\n",
       "      <th id=\"T_3d457_level0_row0\" class=\"row_heading level0 row0\" >KENGGEXPCAPTCN(-1)</th>\n",
       "      <td id=\"T_3d457_row0_col0\" class=\"data row0 col0\" >707,006.38<span class=\"pd-t\"></span></td>\n",
       "      <td id=\"T_3d457_row0_col1\" class=\"data row0 col1\" >761,102.36<span class=\"pd-t\"></span></td>\n",
       "      <td id=\"T_3d457_row0_col2\" class=\"data row0 col2\" >831,143.45<span class=\"pd-t\"></span></td>\n",
       "      <td id=\"T_3d457_row0_col3\" class=\"data row0 col3\" >913,757.45<span class=\"pd-t\"></span></td>\n",
       "    </tr>\n",
       "    <tr>\n",
       "      <th id=\"T_3d457_level0_row1\" class=\"row_heading level0 row1\" >KENGGEXPCAPTCN(-2)</th>\n",
       "      <td id=\"T_3d457_row1_col0\" class=\"data row1 col0\" >588,726.62<span class=\"pd-t\"></span></td>\n",
       "      <td id=\"T_3d457_row1_col1\" class=\"data row1 col1\" >707,006.38<span class=\"pd-t\"></span></td>\n",
       "      <td id=\"T_3d457_row1_col2\" class=\"data row1 col2\" >761,102.36<span class=\"pd-t\"></span></td>\n",
       "      <td id=\"T_3d457_row1_col3\" class=\"data row1 col3\" >831,143.45<span class=\"pd-t\"></span></td>\n",
       "    </tr>\n",
       "    <tr>\n",
       "      <th id=\"T_3d457_level0_row2\" class=\"row_heading level0 row2\" >KENGGEXPCAPTCN_A</th>\n",
       "      <td id=\"T_3d457_row2_col0\" class=\"data row2 col0\" >0.00<span class=\"pd-t\"></span></td>\n",
       "      <td id=\"T_3d457_row2_col1\" class=\"data row2 col1\" >-0.02<span class=\"pd-t\"></span></td>\n",
       "      <td id=\"T_3d457_row2_col2\" class=\"data row2 col2\" >-0.02<span class=\"pd-t\"></span></td>\n",
       "      <td id=\"T_3d457_row2_col3\" class=\"data row2 col3\" >-0.01<span class=\"pd-t\"></span></td>\n",
       "    </tr>\n",
       "    <tr>\n",
       "      <th id=\"T_3d457_level0_row3\" class=\"row_heading level0 row3\" >KENGGEXPCAPTCN_D</th>\n",
       "      <td id=\"T_3d457_row3_col0\" class=\"data row3 col0\" >0.00<span class=\"pd-t\"></span></td>\n",
       "      <td id=\"T_3d457_row3_col1\" class=\"data row3 col1\" >0.00<span class=\"pd-t\"></span></td>\n",
       "      <td id=\"T_3d457_row3_col2\" class=\"data row3 col2\" >0.00<span class=\"pd-t\"></span></td>\n",
       "      <td id=\"T_3d457_row3_col3\" class=\"data row3 col3\" >0.00<span class=\"pd-t\"></span></td>\n",
       "    </tr>\n",
       "    <tr>\n",
       "      <th id=\"T_3d457_level0_row4\" class=\"row_heading level0 row4\" >KENGGEXPCAPTCN_X</th>\n",
       "      <td id=\"T_3d457_row4_col0\" class=\"data row4 col0\" >0.00<span class=\"pd-t\"></span></td>\n",
       "      <td id=\"T_3d457_row4_col1\" class=\"data row4 col1\" >0.00<span class=\"pd-t\"></span></td>\n",
       "      <td id=\"T_3d457_row4_col2\" class=\"data row4 col2\" >0.00<span class=\"pd-t\"></span></td>\n",
       "      <td id=\"T_3d457_row4_col3\" class=\"data row4 col3\" >0.00<span class=\"pd-t\"></span></td>\n",
       "    </tr>\n",
       "    <tr>\n",
       "      <th id=\"T_3d457_level0_row5\" class=\"row_heading level0 row5\" >KENNYGDPMKTPCN</th>\n",
       "      <td id=\"T_3d457_row5_col0\" class=\"data row5 col0\" >10,716,034.00<span class=\"pd-t\"></span></td>\n",
       "      <td id=\"T_3d457_row5_col1\" class=\"data row5 col1\" >12,098,175.51<span class=\"pd-t\"></span></td>\n",
       "      <td id=\"T_3d457_row5_col2\" class=\"data row5 col2\" >13,546,261.09<span class=\"pd-t\"></span></td>\n",
       "      <td id=\"T_3d457_row5_col3\" class=\"data row5 col3\" >15,854,442.43<span class=\"pd-t\"></span></td>\n",
       "    </tr>\n",
       "    <tr>\n",
       "      <th id=\"T_3d457_level0_row6\" class=\"row_heading level0 row6\" >KENNYGDPMKTPCN(-1)</th>\n",
       "      <td id=\"T_3d457_row6_col0\" class=\"data row6 col0\" >10,237,727.00<span class=\"pd-t\"></span></td>\n",
       "      <td id=\"T_3d457_row6_col1\" class=\"data row6 col1\" >10,716,034.00<span class=\"pd-t\"></span></td>\n",
       "      <td id=\"T_3d457_row6_col2\" class=\"data row6 col2\" >12,098,175.51<span class=\"pd-t\"></span></td>\n",
       "      <td id=\"T_3d457_row6_col3\" class=\"data row6 col3\" >13,546,261.09<span class=\"pd-t\"></span></td>\n",
       "    </tr>\n",
       "  </tbody>\n",
       "</table>\n"
      ],
      "text/plain": [
       "<pandas.io.formats.style.Styler at 0x1a07bd4e190>"
      ]
     },
     "metadata": {},
     "output_type": "display_data"
    },
    {
     "name": "stdout",
     "output_type": "stream",
     "text": [
      "Difference for input variables\n"
     ]
    },
    {
     "data": {
      "text/html": [
       "<style type=\"text/css\">\n",
       "#T_1cab1 thead tr:nth-child(1) th {\n",
       "  position: sticky;\n",
       "  background-color: white;\n",
       "  top: 0px;\n",
       "  z-index: 2;\n",
       "}\n",
       "#T_1cab1 thead tr th:nth-child(1) {\n",
       "  position: sticky;\n",
       "  background-color: white;\n",
       "  left: 0px;\n",
       "  z-index: 3 !important;\n",
       "}\n",
       "#T_1cab1 tbody tr th:nth-child(1) {\n",
       "  position: sticky;\n",
       "  background-color: white;\n",
       "  left: 0px;\n",
       "  z-index: 1;\n",
       "}\n",
       "#T_1cab1 .pd-t {\n",
       "  visibility: hidden;\n",
       "  position: absolute;\n",
       "  z-index: 1;\n",
       "  border: 1px solid #000066;\n",
       "  background-color: white;\n",
       "  color: #000066;\n",
       "  font-size: 0.8em;\n",
       "  width: 100%transform;\n",
       "  padding: 0.6em;\n",
       "  border-radius: 0.5em;\n",
       "}\n",
       "#T_1cab1 #T_1cab1_row0_col0:hover .pd-t {\n",
       "  visibility: visible;\n",
       "}\n",
       "#T_1cab1 #T_1cab1_row0_col0 .pd-t::after {\n",
       "  content: \"KENGGEXPCAPTCN(-1)\";\n",
       "}\n",
       "#T_1cab1 #T_1cab1_row0_col1:hover .pd-t {\n",
       "  visibility: visible;\n",
       "}\n",
       "#T_1cab1 #T_1cab1_row0_col1 .pd-t::after {\n",
       "  content: \"KENGGEXPCAPTCN(-1)\";\n",
       "}\n",
       "#T_1cab1 #T_1cab1_row0_col2:hover .pd-t {\n",
       "  visibility: visible;\n",
       "}\n",
       "#T_1cab1 #T_1cab1_row0_col2 .pd-t::after {\n",
       "  content: \"KENGGEXPCAPTCN(-1)\";\n",
       "}\n",
       "#T_1cab1 #T_1cab1_row0_col3:hover .pd-t {\n",
       "  visibility: visible;\n",
       "}\n",
       "#T_1cab1 #T_1cab1_row0_col3 .pd-t::after {\n",
       "  content: \"KENGGEXPCAPTCN(-1)\";\n",
       "}\n",
       "#T_1cab1 #T_1cab1_row1_col0:hover .pd-t {\n",
       "  visibility: visible;\n",
       "}\n",
       "#T_1cab1 #T_1cab1_row1_col0 .pd-t::after {\n",
       "  content: \"KENGGEXPCAPTCN(-2)\";\n",
       "}\n",
       "#T_1cab1 #T_1cab1_row1_col1:hover .pd-t {\n",
       "  visibility: visible;\n",
       "}\n",
       "#T_1cab1 #T_1cab1_row1_col1 .pd-t::after {\n",
       "  content: \"KENGGEXPCAPTCN(-2)\";\n",
       "}\n",
       "#T_1cab1 #T_1cab1_row1_col2:hover .pd-t {\n",
       "  visibility: visible;\n",
       "}\n",
       "#T_1cab1 #T_1cab1_row1_col2 .pd-t::after {\n",
       "  content: \"KENGGEXPCAPTCN(-2)\";\n",
       "}\n",
       "#T_1cab1 #T_1cab1_row1_col3:hover .pd-t {\n",
       "  visibility: visible;\n",
       "}\n",
       "#T_1cab1 #T_1cab1_row1_col3 .pd-t::after {\n",
       "  content: \"KENGGEXPCAPTCN(-2)\";\n",
       "}\n",
       "#T_1cab1 #T_1cab1_row2_col0:hover .pd-t {\n",
       "  visibility: visible;\n",
       "}\n",
       "#T_1cab1 #T_1cab1_row2_col0 .pd-t::after {\n",
       "  content: \"Add factor:General government expenditure on capital expenditure (millions lcu)\";\n",
       "}\n",
       "#T_1cab1 #T_1cab1_row2_col1:hover .pd-t {\n",
       "  visibility: visible;\n",
       "}\n",
       "#T_1cab1 #T_1cab1_row2_col1 .pd-t::after {\n",
       "  content: \"Add factor:General government expenditure on capital expenditure (millions lcu)\";\n",
       "}\n",
       "#T_1cab1 #T_1cab1_row2_col2:hover .pd-t {\n",
       "  visibility: visible;\n",
       "}\n",
       "#T_1cab1 #T_1cab1_row2_col2 .pd-t::after {\n",
       "  content: \"Add factor:General government expenditure on capital expenditure (millions lcu)\";\n",
       "}\n",
       "#T_1cab1 #T_1cab1_row2_col3:hover .pd-t {\n",
       "  visibility: visible;\n",
       "}\n",
       "#T_1cab1 #T_1cab1_row2_col3 .pd-t::after {\n",
       "  content: \"Add factor:General government expenditure on capital expenditure (millions lcu)\";\n",
       "}\n",
       "#T_1cab1 #T_1cab1_row3_col0:hover .pd-t {\n",
       "  visibility: visible;\n",
       "}\n",
       "#T_1cab1 #T_1cab1_row3_col0 .pd-t::after {\n",
       "  content: \"Fix dummy:General government expenditure on capital expenditure (millions lcu)\";\n",
       "}\n",
       "#T_1cab1 #T_1cab1_row3_col1:hover .pd-t {\n",
       "  visibility: visible;\n",
       "}\n",
       "#T_1cab1 #T_1cab1_row3_col1 .pd-t::after {\n",
       "  content: \"Fix dummy:General government expenditure on capital expenditure (millions lcu)\";\n",
       "}\n",
       "#T_1cab1 #T_1cab1_row3_col2:hover .pd-t {\n",
       "  visibility: visible;\n",
       "}\n",
       "#T_1cab1 #T_1cab1_row3_col2 .pd-t::after {\n",
       "  content: \"Fix dummy:General government expenditure on capital expenditure (millions lcu)\";\n",
       "}\n",
       "#T_1cab1 #T_1cab1_row3_col3:hover .pd-t {\n",
       "  visibility: visible;\n",
       "}\n",
       "#T_1cab1 #T_1cab1_row3_col3 .pd-t::after {\n",
       "  content: \"Fix dummy:General government expenditure on capital expenditure (millions lcu)\";\n",
       "}\n",
       "#T_1cab1 #T_1cab1_row4_col0:hover .pd-t {\n",
       "  visibility: visible;\n",
       "}\n",
       "#T_1cab1 #T_1cab1_row4_col0 .pd-t::after {\n",
       "  content: \"Fix value:General government expenditure on capital expenditure (millions lcu)\";\n",
       "}\n",
       "#T_1cab1 #T_1cab1_row4_col1:hover .pd-t {\n",
       "  visibility: visible;\n",
       "}\n",
       "#T_1cab1 #T_1cab1_row4_col1 .pd-t::after {\n",
       "  content: \"Fix value:General government expenditure on capital expenditure (millions lcu)\";\n",
       "}\n",
       "#T_1cab1 #T_1cab1_row4_col2:hover .pd-t {\n",
       "  visibility: visible;\n",
       "}\n",
       "#T_1cab1 #T_1cab1_row4_col2 .pd-t::after {\n",
       "  content: \"Fix value:General government expenditure on capital expenditure (millions lcu)\";\n",
       "}\n",
       "#T_1cab1 #T_1cab1_row4_col3:hover .pd-t {\n",
       "  visibility: visible;\n",
       "}\n",
       "#T_1cab1 #T_1cab1_row4_col3 .pd-t::after {\n",
       "  content: \"Fix value:General government expenditure on capital expenditure (millions lcu)\";\n",
       "}\n",
       "#T_1cab1 #T_1cab1_row5_col0:hover .pd-t {\n",
       "  visibility: visible;\n",
       "}\n",
       "#T_1cab1 #T_1cab1_row5_col0 .pd-t::after {\n",
       "  content: \"GDP, Market Prices, LCU mn\";\n",
       "}\n",
       "#T_1cab1 #T_1cab1_row5_col1:hover .pd-t {\n",
       "  visibility: visible;\n",
       "}\n",
       "#T_1cab1 #T_1cab1_row5_col1 .pd-t::after {\n",
       "  content: \"GDP, Market Prices, LCU mn\";\n",
       "}\n",
       "#T_1cab1 #T_1cab1_row5_col2:hover .pd-t {\n",
       "  visibility: visible;\n",
       "}\n",
       "#T_1cab1 #T_1cab1_row5_col2 .pd-t::after {\n",
       "  content: \"GDP, Market Prices, LCU mn\";\n",
       "}\n",
       "#T_1cab1 #T_1cab1_row5_col3:hover .pd-t {\n",
       "  visibility: visible;\n",
       "}\n",
       "#T_1cab1 #T_1cab1_row5_col3 .pd-t::after {\n",
       "  content: \"GDP, Market Prices, LCU mn\";\n",
       "}\n",
       "#T_1cab1 #T_1cab1_row6_col0:hover .pd-t {\n",
       "  visibility: visible;\n",
       "}\n",
       "#T_1cab1 #T_1cab1_row6_col0 .pd-t::after {\n",
       "  content: \"KENNYGDPMKTPCN(-1)\";\n",
       "}\n",
       "#T_1cab1 #T_1cab1_row6_col1:hover .pd-t {\n",
       "  visibility: visible;\n",
       "}\n",
       "#T_1cab1 #T_1cab1_row6_col1 .pd-t::after {\n",
       "  content: \"KENNYGDPMKTPCN(-1)\";\n",
       "}\n",
       "#T_1cab1 #T_1cab1_row6_col2:hover .pd-t {\n",
       "  visibility: visible;\n",
       "}\n",
       "#T_1cab1 #T_1cab1_row6_col2 .pd-t::after {\n",
       "  content: \"KENNYGDPMKTPCN(-1)\";\n",
       "}\n",
       "#T_1cab1 #T_1cab1_row6_col3:hover .pd-t {\n",
       "  visibility: visible;\n",
       "}\n",
       "#T_1cab1 #T_1cab1_row6_col3 .pd-t::after {\n",
       "  content: \"KENNYGDPMKTPCN(-1)\";\n",
       "}\n",
       "</style>\n",
       "<table id=\"T_1cab1\" class=\"table\">\n",
       "  <thead>\n",
       "    <tr>\n",
       "      <th class=\"blank level0\" >&nbsp;</th>\n",
       "      <th id=\"T_1cab1_level0_col0\" class=\"col_heading level0 col0\" >2020</th>\n",
       "      <th id=\"T_1cab1_level0_col1\" class=\"col_heading level0 col1\" >2021</th>\n",
       "      <th id=\"T_1cab1_level0_col2\" class=\"col_heading level0 col2\" >2022</th>\n",
       "      <th id=\"T_1cab1_level0_col3\" class=\"col_heading level0 col3\" >2023</th>\n",
       "    </tr>\n",
       "  </thead>\n",
       "  <tbody>\n",
       "    <tr>\n",
       "      <th id=\"T_1cab1_level0_row0\" class=\"row_heading level0 row0\" >KENGGEXPCAPTCN(-1)</th>\n",
       "      <td id=\"T_1cab1_row0_col0\" class=\"data row0 col0\" >0.00<span class=\"pd-t\"></span></td>\n",
       "      <td id=\"T_1cab1_row0_col1\" class=\"data row0 col1\" >0.00<span class=\"pd-t\"></span></td>\n",
       "      <td id=\"T_1cab1_row0_col2\" class=\"data row0 col2\" >0.00<span class=\"pd-t\"></span></td>\n",
       "      <td id=\"T_1cab1_row0_col3\" class=\"data row0 col3\" >-0.00<span class=\"pd-t\"></span></td>\n",
       "    </tr>\n",
       "    <tr>\n",
       "      <th id=\"T_1cab1_level0_row1\" class=\"row_heading level0 row1\" >KENGGEXPCAPTCN(-2)</th>\n",
       "      <td id=\"T_1cab1_row1_col0\" class=\"data row1 col0\" >0.00<span class=\"pd-t\"></span></td>\n",
       "      <td id=\"T_1cab1_row1_col1\" class=\"data row1 col1\" >0.00<span class=\"pd-t\"></span></td>\n",
       "      <td id=\"T_1cab1_row1_col2\" class=\"data row1 col2\" >0.00<span class=\"pd-t\"></span></td>\n",
       "      <td id=\"T_1cab1_row1_col3\" class=\"data row1 col3\" >0.00<span class=\"pd-t\"></span></td>\n",
       "    </tr>\n",
       "    <tr>\n",
       "      <th id=\"T_1cab1_level0_row2\" class=\"row_heading level0 row2\" >KENGGEXPCAPTCN_A</th>\n",
       "      <td id=\"T_1cab1_row2_col0\" class=\"data row2 col0\" >0.00<span class=\"pd-t\"></span></td>\n",
       "      <td id=\"T_1cab1_row2_col1\" class=\"data row2 col1\" >0.00<span class=\"pd-t\"></span></td>\n",
       "      <td id=\"T_1cab1_row2_col2\" class=\"data row2 col2\" >-0.00<span class=\"pd-t\"></span></td>\n",
       "      <td id=\"T_1cab1_row2_col3\" class=\"data row2 col3\" >0.00<span class=\"pd-t\"></span></td>\n",
       "    </tr>\n",
       "    <tr>\n",
       "      <th id=\"T_1cab1_level0_row3\" class=\"row_heading level0 row3\" >KENGGEXPCAPTCN_D</th>\n",
       "      <td id=\"T_1cab1_row3_col0\" class=\"data row3 col0\" >0.00<span class=\"pd-t\"></span></td>\n",
       "      <td id=\"T_1cab1_row3_col1\" class=\"data row3 col1\" >0.00<span class=\"pd-t\"></span></td>\n",
       "      <td id=\"T_1cab1_row3_col2\" class=\"data row3 col2\" >0.00<span class=\"pd-t\"></span></td>\n",
       "      <td id=\"T_1cab1_row3_col3\" class=\"data row3 col3\" >0.00<span class=\"pd-t\"></span></td>\n",
       "    </tr>\n",
       "    <tr>\n",
       "      <th id=\"T_1cab1_level0_row4\" class=\"row_heading level0 row4\" >KENGGEXPCAPTCN_X</th>\n",
       "      <td id=\"T_1cab1_row4_col0\" class=\"data row4 col0\" >0.00<span class=\"pd-t\"></span></td>\n",
       "      <td id=\"T_1cab1_row4_col1\" class=\"data row4 col1\" >0.00<span class=\"pd-t\"></span></td>\n",
       "      <td id=\"T_1cab1_row4_col2\" class=\"data row4 col2\" >0.00<span class=\"pd-t\"></span></td>\n",
       "      <td id=\"T_1cab1_row4_col3\" class=\"data row4 col3\" >0.00<span class=\"pd-t\"></span></td>\n",
       "    </tr>\n",
       "    <tr>\n",
       "      <th id=\"T_1cab1_level0_row5\" class=\"row_heading level0 row5\" >KENNYGDPMKTPCN</th>\n",
       "      <td id=\"T_1cab1_row5_col0\" class=\"data row5 col0\" >0.00<span class=\"pd-t\"></span></td>\n",
       "      <td id=\"T_1cab1_row5_col1\" class=\"data row5 col1\" >0.00<span class=\"pd-t\"></span></td>\n",
       "      <td id=\"T_1cab1_row5_col2\" class=\"data row5 col2\" >-0.00<span class=\"pd-t\"></span></td>\n",
       "      <td id=\"T_1cab1_row5_col3\" class=\"data row5 col3\" >-0.00<span class=\"pd-t\"></span></td>\n",
       "    </tr>\n",
       "    <tr>\n",
       "      <th id=\"T_1cab1_level0_row6\" class=\"row_heading level0 row6\" >KENNYGDPMKTPCN(-1)</th>\n",
       "      <td id=\"T_1cab1_row6_col0\" class=\"data row6 col0\" >0.00<span class=\"pd-t\"></span></td>\n",
       "      <td id=\"T_1cab1_row6_col1\" class=\"data row6 col1\" >0.00<span class=\"pd-t\"></span></td>\n",
       "      <td id=\"T_1cab1_row6_col2\" class=\"data row6 col2\" >0.00<span class=\"pd-t\"></span></td>\n",
       "      <td id=\"T_1cab1_row6_col3\" class=\"data row6 col3\" >-0.00<span class=\"pd-t\"></span></td>\n",
       "    </tr>\n",
       "  </tbody>\n",
       "</table>\n"
      ],
      "text/plain": [
       "<pandas.io.formats.style.Styler at 0x1a07bd4eeb0>"
      ]
     },
     "metadata": {},
     "output_type": "display_data"
    },
    {
     "name": "stdout",
     "output_type": "stream",
     "text": [
      "\n",
      "None\n"
     ]
    }
   ],
   "source": [
    "with mken.set_smpl(2020,2023):\n",
    "    print(mken.kenGGEXPCAPTCN.show)                        "
   ]
  },
  {
   "cell_type": "markdown",
   "id": "fa763b7d",
   "metadata": {
    "slideshow": {
     "slide_type": "slide"
    }
   },
   "source": [
    "## Now dump the model and data "
   ]
  },
  {
   "cell_type": "code",
   "execution_count": null,
   "id": "767a682c",
   "metadata": {},
   "outputs": [],
   "source": [
    "mken.model_description=f'Keny a model from {longname}'\n",
    "mken.modeldump(f'pcim/{longname}.pcim')"
   ]
  },
  {
   "cell_type": "code",
   "execution_count": null,
   "id": "239d4345",
   "metadata": {
    "slideshow": {
     "slide_type": "skip"
    }
   },
   "outputs": [],
   "source": [
    "try:\n",
    "     mken.modeldump(f'C:/modelflow manual/model_repo/{longname}.pcim')\n",
    "except: \n",
    "     print('could not write to modelrepo file')"
   ]
  }
 ],
 "metadata": {
  "celltoolbar": "Slideshow",
  "hide_input": false,
  "kernelspec": {
   "display_name": "Python 3 (ipykernel)",
   "language": "python",
   "name": "python3"
  },
  "language_info": {
   "codemirror_mode": {
    "name": "ipython",
    "version": 3
   },
   "file_extension": ".py",
   "mimetype": "text/x-python",
   "name": "python",
   "nbconvert_exporter": "python",
   "pygments_lexer": "ipython3",
   "version": "3.9.12"
  },
  "toc": {
   "base_numbering": 1,
   "nav_menu": {},
   "number_sections": false,
   "sideBar": true,
   "skip_h1_title": true,
   "title_cell": "Table of Contents",
   "title_sidebar": "Contents",
   "toc_cell": false,
   "toc_position": {
    "height": "calc(100% - 180px)",
    "left": "10px",
    "top": "150px",
    "width": "368.979px"
   },
   "toc_section_display": true,
   "toc_window_display": false
  },
  "varInspector": {
   "cols": {
    "lenName": 16,
    "lenType": 16,
    "lenVar": 40
   },
   "kernels_config": {
    "python": {
     "delete_cmd_postfix": "",
     "delete_cmd_prefix": "del ",
     "library": "var_list.py",
     "varRefreshCmd": "print(var_dic_list())"
    },
    "r": {
     "delete_cmd_postfix": ") ",
     "delete_cmd_prefix": "rm(",
     "library": "var_list.r",
     "varRefreshCmd": "cat(var_dic_list()) "
    }
   },
   "position": {
    "height": "431px",
    "left": "1076.61px",
    "right": "20px",
    "top": "-4.01px",
    "width": "800px"
   },
   "types_to_exclude": [
    "module",
    "function",
    "builtin_function_or_method",
    "instance",
    "_Feature"
   ],
   "window_display": false
  },
  "vscode": {
   "interpreter": {
    "hash": "c46e396bc442e6227666e5127a073e23b56b24a9342ed264ceb99df002349503"
   }
  }
 },
 "nbformat": 4,
 "nbformat_minor": 5
}
