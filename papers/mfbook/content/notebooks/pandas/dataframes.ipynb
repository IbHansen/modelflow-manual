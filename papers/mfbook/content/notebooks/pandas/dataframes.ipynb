{
 "cells": [
  {
   "cell_type": "markdown",
   "id": "4690e33d",
   "metadata": {},
   "source": [
    "# Introduction to Pandas dataframes\n",
    "\n",
    "Modelflow is built on top of the Pandas library. Pandas is the Swiss knife of data science and can perform an impressing array of tasks.\n",
    "\n",
    "This tutorial is a very short introduction to how pandas dataframes are used with Modelflow.\n",
    "\n",
    "For more info on pandas:\n",
    "\n",
    "[Pandas homepage](https://pandas.pydata.org/)\n",
    "\n",
    "[Pandas community tutorials](https://pandas.pydata.org/pandas-docs/stable/getting_started/tutorials.html)\n"
   ]
  },
  {
   "cell_type": "code",
   "execution_count": 3,
   "id": "3b8814e3",
   "metadata": {
    "tags": [
     "remove-cell"
    ]
   },
   "outputs": [],
   "source": [
    "#This is code to manage dependencies if the notebook is executed in the google colab cloud service\n",
    "if 'google.colab' in str(get_ipython()):\n",
    "  import os\n",
    "  os.system('apt -qqq install graphviz')\n",
    "  os.system('pip -qqq install ModelFlowIb ipysheet  --no-dependencies ')\n",
    "  incolab = True  \n",
    "else:\n",
    "  incolab = False "
   ]
  },
  {
   "cell_type": "markdown",
   "id": "96bb2474",
   "metadata": {
    "slideshow": {
     "slide_type": "slide"
    }
   },
   "source": [
    "## Import the pandas library\n",
    "The convention is, that pandas is imported as pd "
   ]
  },
  {
   "cell_type": "code",
   "execution_count": 4,
   "id": "bda75630",
   "metadata": {},
   "outputs": [],
   "source": [
    "import pandas as pd "
   ]
  },
  {
   "cell_type": "markdown",
   "id": "e92c7cd0",
   "metadata": {},
   "source": [
    "## What is a dataframe\n",
    "\n",
    "A dataframe is a two-dimensional data structure with named rows and columns </span>\n",
    "\n",
    "Creating a dataframe can be done in many ways. Here we are creating a Dataframe from a dictionary and  assigning a list of years as the index."
   ]
  },
  {
   "cell_type": "code",
   "execution_count": 5,
   "id": "44ea133a",
   "metadata": {},
   "outputs": [
    {
     "data": {
      "text/html": [
       "<div>\n",
       "<style scoped>\n",
       "    .dataframe tbody tr th:only-of-type {\n",
       "        vertical-align: middle;\n",
       "    }\n",
       "\n",
       "    .dataframe tbody tr th {\n",
       "        vertical-align: top;\n",
       "    }\n",
       "\n",
       "    .dataframe thead th {\n",
       "        text-align: right;\n",
       "    }\n",
       "</style>\n",
       "<table border=\"1\" class=\"dataframe\">\n",
       "  <thead>\n",
       "    <tr style=\"text-align: right;\">\n",
       "      <th></th>\n",
       "      <th>B</th>\n",
       "      <th>C</th>\n",
       "      <th>E</th>\n",
       "    </tr>\n",
       "  </thead>\n",
       "  <tbody>\n",
       "    <tr>\n",
       "      <th>2018</th>\n",
       "      <td>1</td>\n",
       "      <td>1</td>\n",
       "      <td>4</td>\n",
       "    </tr>\n",
       "    <tr>\n",
       "      <th>2019</th>\n",
       "      <td>1</td>\n",
       "      <td>2</td>\n",
       "      <td>4</td>\n",
       "    </tr>\n",
       "    <tr>\n",
       "      <th>2020</th>\n",
       "      <td>1</td>\n",
       "      <td>3</td>\n",
       "      <td>4</td>\n",
       "    </tr>\n",
       "    <tr>\n",
       "      <th>2021</th>\n",
       "      <td>1</td>\n",
       "      <td>6</td>\n",
       "      <td>4</td>\n",
       "    </tr>\n",
       "  </tbody>\n",
       "</table>\n",
       "</div>"
      ],
      "text/plain": [
       "      B  C  E\n",
       "2018  1  1  4\n",
       "2019  1  2  4\n",
       "2020  1  3  4\n",
       "2021  1  6  4"
      ]
     },
     "execution_count": 5,
     "metadata": {},
     "output_type": "execute_result"
    }
   ],
   "source": [
    "df = pd.DataFrame({'B': [1,1,1,1],'C':[1,2,3,6],'E':[4,4,4,4]},index=[2018,2019,2020,2021])\n",
    "df "
   ]
  },
  {
   "cell_type": "markdown",
   "id": "fda7e76e",
   "metadata": {},
   "source": [
    "In modelflow each column is a  time serie for an economic variable. So in this dataframe A, B and C are economic time series. \n",
    "\n",
    "In this manual all variables will be timeseries scalars (numbers). <br>\n",
    "However for more advanced use a variable can also be a timeserie of matrices or vectors.  "
   ]
  },
  {
   "cell_type": "markdown",
   "id": "0c17b9a3",
   "metadata": {},
   "source": [
    "## Attributes\n",
    "\n",
    "Lets take a look at some of the most important attributes of a dataframe.\n",
    "\n",
    "To learn more check out the [official pandas website](https://pandas.pydata.org/docs/reference/frame.html)."
   ]
  },
  {
   "cell_type": "markdown",
   "id": "f0d6d4e8",
   "metadata": {},
   "source": [
    "```{margin} Python object properties\n",
    "A python object such as ```df``` has properties and methods.<br> \n",
    "They are accessed by the . operator\n",
    "```"
   ]
  },
  {
   "cell_type": "markdown",
   "id": "b06e059a",
   "metadata": {},
   "source": [
    "### .columns, column names\n",
    ".columns gives you the names of the columns in the dataframe."
   ]
  },
  {
   "cell_type": "code",
   "execution_count": 6,
   "id": "0eab073c",
   "metadata": {},
   "outputs": [
    {
     "data": {
      "text/plain": [
       "Index(['B', 'C', 'E'], dtype='object')"
      ]
     },
     "execution_count": 6,
     "metadata": {},
     "output_type": "execute_result"
    }
   ],
   "source": [
    "df.columns"
   ]
  },
  {
   "cell_type": "markdown",
   "id": "48836e77",
   "metadata": {},
   "source": [
    "The dataframe df has 3 columns. "
   ]
  },
  {
   "cell_type": "markdown",
   "id": "f9b82b7d",
   "metadata": {},
   "source": [
    "### Column names in  Modelflow \n",
    "```{margin} Modelflow variable names\n",
    "Many python Objects are legal as column names in a dataframe, but not as variable names (column names)  in modelflow\n",
    "```\n",
    "The columns have names.<br>In A dataframe column names can be many different python objects. So for instance 123.4  is a legal column name. That would make construction of models very impossible. \n",
    " <br>To facilitate construction of models modelflow a column name has to be a  string and start with a letter or _  and followed by letters, underscore or digits.<br>\n",
    "**All letters in column names should be upper case.**  \n",
    "\n",
    " - ```IB``` is legal \n",
    " - ```ib``` is illegal \n",
    " - ```42ANSVER``` is illegal \n",
    " - ```_HORSE1``` is legal \n",
    " - ```AVERY_LONG_VAIABLE_NAME_WHIS_IS_LEGAL``` is legal"
   ]
  },
  {
   "cell_type": "markdown",
   "id": "de16718f",
   "metadata": {},
   "source": [
    "### .index and time dimensions in Modelflow"
   ]
  },
  {
   "cell_type": "markdown",
   "id": "0b54af1a",
   "metadata": {},
   "source": [
    "The row names are called .index. For yearly models a list of integers like in ```df``` is fine.<br>\n",
    "Pandas has a number of data types for different date and time objects. They can all be used for models with other frequencies.<br>However be aware that plots will not necessary be working well with all index names. \n",
    "\n",
    "When modelflow uses a lagged variable like ```A(-1)``` It will take the value from the row above the current row. No matter if the index is an integer, a year, quarter or a millisecond. The same goes for leads ```A(+1)```  That will be the value in the next row. "
   ]
  },
  {
   "cell_type": "code",
   "execution_count": 7,
   "id": "0e87112b",
   "metadata": {},
   "outputs": [
    {
     "data": {
      "text/plain": [
       "Int64Index([2018, 2019, 2020, 2021], dtype='int64')"
      ]
     },
     "execution_count": 7,
     "metadata": {},
     "output_type": "execute_result"
    }
   ],
   "source": [
    "df.index"
   ]
  },
  {
   "cell_type": "markdown",
   "id": "b6f53d02",
   "metadata": {
    "tags": [
     "remove-cell"
    ]
   },
   "source": [
    "<span style='color:Blue'> Freya comment: So what is the take away here? Is this about naming indexes? Or what instance of time is? The user can define this, no? If its a timeserie based on rows (based on whatever time frame that spans) or something else?</span>\n",
    "\n"
   ]
  },
  {
   "cell_type": "markdown",
   "id": "4301c4f8",
   "metadata": {},
   "source": [
    "### .eval() evalueation expressions \n",
    "With this method expressions can be evaluated and new columns created.  "
   ]
  },
  {
   "cell_type": "code",
   "execution_count": 8,
   "id": "7d1f662d",
   "metadata": {},
   "outputs": [
    {
     "data": {
      "text/html": [
       "<div>\n",
       "<style scoped>\n",
       "    .dataframe tbody tr th:only-of-type {\n",
       "        vertical-align: middle;\n",
       "    }\n",
       "\n",
       "    .dataframe tbody tr th {\n",
       "        vertical-align: top;\n",
       "    }\n",
       "\n",
       "    .dataframe thead th {\n",
       "        text-align: right;\n",
       "    }\n",
       "</style>\n",
       "<table border=\"1\" class=\"dataframe\">\n",
       "  <thead>\n",
       "    <tr style=\"text-align: right;\">\n",
       "      <th></th>\n",
       "      <th>B</th>\n",
       "      <th>C</th>\n",
       "      <th>E</th>\n",
       "      <th>X</th>\n",
       "      <th>THE_ANSWER</th>\n",
       "    </tr>\n",
       "  </thead>\n",
       "  <tbody>\n",
       "    <tr>\n",
       "      <th>2018</th>\n",
       "      <td>1</td>\n",
       "      <td>1</td>\n",
       "      <td>4</td>\n",
       "      <td>1</td>\n",
       "      <td>42</td>\n",
       "    </tr>\n",
       "    <tr>\n",
       "      <th>2019</th>\n",
       "      <td>1</td>\n",
       "      <td>2</td>\n",
       "      <td>4</td>\n",
       "      <td>2</td>\n",
       "      <td>42</td>\n",
       "    </tr>\n",
       "    <tr>\n",
       "      <th>2020</th>\n",
       "      <td>1</td>\n",
       "      <td>3</td>\n",
       "      <td>4</td>\n",
       "      <td>3</td>\n",
       "      <td>42</td>\n",
       "    </tr>\n",
       "    <tr>\n",
       "      <th>2021</th>\n",
       "      <td>1</td>\n",
       "      <td>6</td>\n",
       "      <td>4</td>\n",
       "      <td>6</td>\n",
       "      <td>42</td>\n",
       "    </tr>\n",
       "  </tbody>\n",
       "</table>\n",
       "</div>"
      ],
      "text/plain": [
       "      B  C  E  X  THE_ANSWER\n",
       "2018  1  1  4  1          42\n",
       "2019  1  2  4  2          42\n",
       "2020  1  3  4  3          42\n",
       "2021  1  6  4  6          42"
      ]
     },
     "execution_count": 8,
     "metadata": {},
     "output_type": "execute_result"
    }
   ],
   "source": [
    "df.eval('''X = B*C\n",
    "           THE_ANSWER = 42''')"
   ]
  },
  {
   "cell_type": "markdown",
   "id": "64a99c1c",
   "metadata": {},
   "source": [
    "However, .eval cannot handle lagged variables and no systems of equations. Modelflow can! "
   ]
  },
  {
   "cell_type": "markdown",
   "id": "1fd2254e",
   "metadata": {},
   "source": [
    "### .loc[] when slicing a dataframe"
   ]
  },
  {
   "cell_type": "markdown",
   "id": "73ef30b8",
   "metadata": {},
   "source": [
    "#### .loc[row,column] A single element"
   ]
  },
  {
   "cell_type": "code",
   "execution_count": 9,
   "id": "07c660e2",
   "metadata": {},
   "outputs": [
    {
     "data": {
      "text/plain": [
       "2"
      ]
     },
     "execution_count": 9,
     "metadata": {},
     "output_type": "execute_result"
    }
   ],
   "source": [
    "df.loc[2019,'C']"
   ]
  },
  {
   "cell_type": "markdown",
   "id": "45584d03",
   "metadata": {},
   "source": [
    "#### .loc[:,column] A single column"
   ]
  },
  {
   "cell_type": "code",
   "execution_count": 10,
   "id": "a0e98436",
   "metadata": {},
   "outputs": [
    {
     "data": {
      "text/plain": [
       "2018    1\n",
       "2019    2\n",
       "2020    3\n",
       "2021    6\n",
       "Name: C, dtype: int64"
      ]
     },
     "execution_count": 10,
     "metadata": {},
     "output_type": "execute_result"
    }
   ],
   "source": [
    "df.loc[:,'C']"
   ]
  },
  {
   "cell_type": "markdown",
   "id": "76248924",
   "metadata": {},
   "source": [
    "#### .loc[row,:] A single row "
   ]
  },
  {
   "cell_type": "code",
   "execution_count": 11,
   "id": "9abe300a",
   "metadata": {},
   "outputs": [
    {
     "data": {
      "text/plain": [
       "B    1\n",
       "C    2\n",
       "E    4\n",
       "Name: 2019, dtype: int64"
      ]
     },
     "execution_count": 11,
     "metadata": {},
     "output_type": "execute_result"
    }
   ],
   "source": [
    "df.loc[2019,:]"
   ]
  },
  {
   "cell_type": "markdown",
   "id": "0ba01f34",
   "metadata": {},
   "source": [
    "####  .loc[:,[names...]] Several columns"
   ]
  },
  {
   "cell_type": "code",
   "execution_count": 12,
   "id": "ade2bacf",
   "metadata": {},
   "outputs": [
    {
     "data": {
      "text/html": [
       "<div>\n",
       "<style scoped>\n",
       "    .dataframe tbody tr th:only-of-type {\n",
       "        vertical-align: middle;\n",
       "    }\n",
       "\n",
       "    .dataframe tbody tr th {\n",
       "        vertical-align: top;\n",
       "    }\n",
       "\n",
       "    .dataframe thead th {\n",
       "        text-align: right;\n",
       "    }\n",
       "</style>\n",
       "<table border=\"1\" class=\"dataframe\">\n",
       "  <thead>\n",
       "    <tr style=\"text-align: right;\">\n",
       "      <th></th>\n",
       "      <th>B</th>\n",
       "      <th>C</th>\n",
       "    </tr>\n",
       "  </thead>\n",
       "  <tbody>\n",
       "    <tr>\n",
       "      <th>2018</th>\n",
       "      <td>1</td>\n",
       "      <td>1</td>\n",
       "    </tr>\n",
       "    <tr>\n",
       "      <th>2019</th>\n",
       "      <td>1</td>\n",
       "      <td>2</td>\n",
       "    </tr>\n",
       "    <tr>\n",
       "      <th>2020</th>\n",
       "      <td>1</td>\n",
       "      <td>3</td>\n",
       "    </tr>\n",
       "    <tr>\n",
       "      <th>2021</th>\n",
       "      <td>1</td>\n",
       "      <td>6</td>\n",
       "    </tr>\n",
       "  </tbody>\n",
       "</table>\n",
       "</div>"
      ],
      "text/plain": [
       "      B  C\n",
       "2018  1  1\n",
       "2019  1  2\n",
       "2020  1  3\n",
       "2021  1  6"
      ]
     },
     "execution_count": 12,
     "metadata": {},
     "output_type": "execute_result"
    }
   ],
   "source": [
    "df.loc[:,['B','C']]"
   ]
  },
  {
   "cell_type": "markdown",
   "id": "0ea0b119",
   "metadata": {},
   "source": [
    "#### .loc[] Slices of the dataframe can also be assigned values \n",
    "This can be very handy when updating scenarios.<br>\n"
   ]
  },
  {
   "cell_type": "code",
   "execution_count": 13,
   "id": "ddbb401b",
   "metadata": {},
   "outputs": [
    {
     "data": {
      "text/html": [
       "<div>\n",
       "<style scoped>\n",
       "    .dataframe tbody tr th:only-of-type {\n",
       "        vertical-align: middle;\n",
       "    }\n",
       "\n",
       "    .dataframe tbody tr th {\n",
       "        vertical-align: top;\n",
       "    }\n",
       "\n",
       "    .dataframe thead th {\n",
       "        text-align: right;\n",
       "    }\n",
       "</style>\n",
       "<table border=\"1\" class=\"dataframe\">\n",
       "  <thead>\n",
       "    <tr style=\"text-align: right;\">\n",
       "      <th></th>\n",
       "      <th>B</th>\n",
       "      <th>C</th>\n",
       "      <th>E</th>\n",
       "    </tr>\n",
       "  </thead>\n",
       "  <tbody>\n",
       "    <tr>\n",
       "      <th>2018</th>\n",
       "      <td>1</td>\n",
       "      <td>1</td>\n",
       "      <td>4</td>\n",
       "    </tr>\n",
       "    <tr>\n",
       "      <th>2019</th>\n",
       "      <td>1</td>\n",
       "      <td>42</td>\n",
       "      <td>4</td>\n",
       "    </tr>\n",
       "    <tr>\n",
       "      <th>2020</th>\n",
       "      <td>1</td>\n",
       "      <td>3</td>\n",
       "      <td>4</td>\n",
       "    </tr>\n",
       "    <tr>\n",
       "      <th>2021</th>\n",
       "      <td>1</td>\n",
       "      <td>6</td>\n",
       "      <td>4</td>\n",
       "    </tr>\n",
       "  </tbody>\n",
       "</table>\n",
       "</div>"
      ],
      "text/plain": [
       "      B   C  E\n",
       "2018  1   1  4\n",
       "2019  1  42  4\n",
       "2020  1   3  4\n",
       "2021  1   6  4"
      ]
     },
     "execution_count": 13,
     "metadata": {},
     "output_type": "execute_result"
    }
   ],
   "source": [
    "df.loc[2019,'C'] = 42\n",
    "df"
   ]
  },
  {
   "cell_type": "markdown",
   "id": "7f654a52",
   "metadata": {},
   "source": [
    "```{warning}\n",
    "The dimensions on the right hand side of = and the left hand side should match. That is: either the dimensions should be the same, or the right hand side should be broadcasted into the left hand slice.\n",
    "A link [here](https://jakevdp.github.io/PythonDataScienceHandbook/02.05-computation-on-arrays-broadcasting.html)\n",
    "```"
   ]
  }
 ],
 "metadata": {
  "celltoolbar": "Edit Metadata",
  "hide_input": false,
  "kernelspec": {
   "display_name": "Python 3 (ipykernel)",
   "language": "python",
   "name": "python3"
  },
  "language_info": {
   "codemirror_mode": {
    "name": "ipython",
    "version": 3
   },
   "file_extension": ".py",
   "mimetype": "text/x-python",
   "name": "python",
   "nbconvert_exporter": "python",
   "pygments_lexer": "ipython3",
   "version": "3.9.13"
  },
  "toc": {
   "base_numbering": 1,
   "nav_menu": {},
   "number_sections": true,
   "sideBar": true,
   "skip_h1_title": true,
   "title_cell": "Table of Contents",
   "title_sidebar": "Contents",
   "toc_cell": false,
   "toc_position": {},
   "toc_section_display": true,
   "toc_window_display": false
  },
  "varInspector": {
   "cols": {
    "lenName": 16,
    "lenType": 16,
    "lenVar": 40
   },
   "kernels_config": {
    "python": {
     "delete_cmd_postfix": "",
     "delete_cmd_prefix": "del ",
     "library": "var_list.py",
     "varRefreshCmd": "print(var_dic_list())"
    },
    "r": {
     "delete_cmd_postfix": ") ",
     "delete_cmd_prefix": "rm(",
     "library": "var_list.r",
     "varRefreshCmd": "cat(var_dic_list()) "
    }
   },
   "types_to_exclude": [
    "module",
    "function",
    "builtin_function_or_method",
    "instance",
    "_Feature"
   ],
   "window_display": false
  }
 },
 "nbformat": 4,
 "nbformat_minor": 5
}
