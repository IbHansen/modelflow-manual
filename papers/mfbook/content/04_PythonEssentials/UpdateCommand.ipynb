{
 "cells": [
  {
   "cell_type": "markdown",
   "id": "d19846c2",
   "metadata": {
    "slideshow": {
     "slide_type": "slide"
    }
   },
   "source": [
    "\n",
    "# Modelflow extensions to pandas\n",
    "\n",
    "Modeflow inherits all the capabilities of pandas and extends some as well. \n",
    "\n",
    "Data in a dataframe can be modified directly with built-in pandas functionalities like `.loc[]` and `eval()`, but `modelflow` extends these capabilities with in important ways with the `.upd()` and `.mfcalc()` methods. \n",
    "\n",
    "\n",
    "## .upd() method of modelflow\n",
    "\n",
    "\n",
    "The ```.upd()``` method extends pandas by giving the user a concise and expressive way to modify data in a dataframe using a syntax that a database-manager or macroeconomic modeler might find more natural. \n",
    "\n",
    "Notably it allows the user to employ formula's to do updates, and supports both lags and leads on variables. \n",
    "\n",
    "```.upd()``` can be used to:\n",
    "\n",
    " - Perform different types of  updates\n",
    " - Perform multiple updates each on a new line \n",
    " - Perform changes over specific periods \n",
    " - Use one input which is used for all time frames, or a separate input for each time \n",
    " - Preserve pre-shock growth rates for out of sample time-periods \n",
    " - Display results \n",
    " \n",
    "### ```.upd()``` method operators \n",
    "Below are some of the operators that can be used in the ```.upd()``` method"
   ]
  },
  {
   "cell_type": "code",
   "execution_count": null,
   "id": "391a361f",
   "metadata": {
    "tags": [
     "remove_cell"
    ]
   },
   "outputs": [],
   "source": [
    "# HIDDEN in jupyterbook \n",
    "#This is code to manage dependencies if the notebook is executed in the google colab cloud service\n",
    "if 'google.colab' in str(get_ipython()):\n",
    "  import os\n",
    "  os.system('apt -qqq install graphviz')\n",
    "  os.system('pip -qqq install ModelFlowIb ipysheet  --no-dependencies ')\n",
    "  incolab = True  \n",
    "else:\n",
    "  incolab = False \n",
    "\n",
    "%load_ext autoreload\n",
    "%autoreload 2  "
   ]
  },
  {
   "cell_type": "markdown",
   "id": "c68e0f00",
   "metadata": {},
   "source": [
    "```{warning}\n",
    "IB: typos reworked\n",
    "\n",
    "```\n"
   ]
  },
  {
   "cell_type": "markdown",
   "id": "7bdb6e40",
   "metadata": {
    "slideshow": {
     "slide_type": "slide"
    }
   },
   "source": [
    "**Types of update:** \n",
    "\n",
    "| Update to perform |Use this operator|\n",
    "| :- | :---|\n",
    " Set a variable equal to the input| = \n",
    " Add the input to the input | + \n",
    " Set the variable to itself multiplied by the input | *\n",
    " Increase/Decrease the variable by a percent of itself (1+input/100) | %\n",
    " Set the growth rate of the variable to the input | =growth\n",
    " Change the growth rate of the variable to its current growth rate plus the input value in percentage points  | +growth \n",
    " Specify the amount by which the variable should increase from its previous period level ($\\Delta = var_t - var_{t-1}$)| =diff"
   ]
  },
  {
   "cell_type": "markdown",
   "id": "43faeff0",
   "metadata": {
    "slideshow": {
     "slide_type": "slide"
    }
   },
   "source": [
    ":::{danger}\n",
    "\n",
    "Note: the syntax of an update command requires that there be a space between variable names and the operators.\n",
    "\n",
    "Thus ```df.upd(\"A = 7\")``` is fine, but ```df.upd(\"A =7\")``` will generate an error.\n",
    "\n",
    "Similarly  ```df.upd(\"A * 1.1\")``` is fine, but ```df.upd(\"A* 1.1\")``` will generate an error.\n",
    ":::"
   ]
  },
  {
   "cell_type": "markdown",
   "id": "1702ff9d",
   "metadata": {
    "slideshow": {
     "slide_type": "fragment"
    }
   },
   "source": [
    " \n",
    "\n",
    "### ```.upd()``` some examples\n",
    "\n",
    "\n",
    "### Setting up the python environment\n",
    "\n",
    "In order to use ```.upd()``` all of the necessary libraries must be **imported** into the python session."
   ]
  },
  {
   "cell_type": "code",
   "execution_count": 2,
   "id": "6d0c9454",
   "metadata": {
    "tags": [
     "remove-cell"
    ]
   },
   "outputs": [],
   "source": [
    "#This is code to manage dependencies if the notebook is executed in the google colab cloud service\n",
    "if 'google.colab' in str(get_ipython()):\n",
    "  import os\n",
    "  os.system('apt -qqq install graphviz')\n",
    "  os.system('pip -qqq install ModelFlowIb ipysheet  --no-dependencies ')\n",
    "  incolab = True  \n",
    "else:\n",
    "  incolab = False \n",
    "\n",
    "%load_ext autoreload\n",
    "%autoreload 2"
   ]
  },
  {
   "cell_type": "code",
   "execution_count": 3,
   "id": "79390bcf",
   "metadata": {},
   "outputs": [
    {
     "data": {
      "text/html": [
       "\n",
       "        <style>\n",
       "            div#notebook-container    { width: 95%; }\n",
       "            div#menubar-container     { width: 65%; }\n",
       "            div#maintoolbar-container { width: 99%; }\n",
       "        </style>\n",
       "        "
      ],
      "text/plain": [
       "<IPython.core.display.HTML object>"
      ]
     },
     "metadata": {},
     "output_type": "display_data"
    }
   ],
   "source": [
    "# First import pandas and the model into the  workspace\n",
    "# There is no problem importing the same library multiple times. \n",
    "# After the first import there is not any significant penalty for additional mports \n",
    "import pandas as pd\n",
    "\n",
    "from modelclass import model \n",
    "# functions that improve rendering of modelflow outputs under Jupyter Notebook\n",
    "model.widescreen()\n",
    "model.scroll_off()\n",
    "\n",
    "\n"
   ]
  },
  {
   "cell_type": "markdown",
   "id": "0a63be02",
   "metadata": {},
   "source": [
    "Now create a dataframe using standard pandas syntax.  In this instance with years as the index and a dictionary defining the variables and their data."
   ]
  },
  {
   "cell_type": "code",
   "execution_count": 4,
   "id": "f6f7878c",
   "metadata": {},
   "outputs": [
    {
     "data": {
      "text/html": [
       "<div>\n",
       "<style scoped>\n",
       "    .dataframe tbody tr th:only-of-type {\n",
       "        vertical-align: middle;\n",
       "    }\n",
       "\n",
       "    .dataframe tbody tr th {\n",
       "        vertical-align: top;\n",
       "    }\n",
       "\n",
       "    .dataframe thead th {\n",
       "        text-align: right;\n",
       "    }\n",
       "</style>\n",
       "<table border=\"1\" class=\"dataframe\">\n",
       "  <thead>\n",
       "    <tr style=\"text-align: right;\">\n",
       "      <th></th>\n",
       "      <th>B</th>\n",
       "      <th>C</th>\n",
       "      <th>E</th>\n",
       "    </tr>\n",
       "  </thead>\n",
       "  <tbody>\n",
       "    <tr>\n",
       "      <th>2018</th>\n",
       "      <td>1</td>\n",
       "      <td>1</td>\n",
       "      <td>4</td>\n",
       "    </tr>\n",
       "    <tr>\n",
       "      <th>2019</th>\n",
       "      <td>1</td>\n",
       "      <td>2</td>\n",
       "      <td>4</td>\n",
       "    </tr>\n",
       "    <tr>\n",
       "      <th>2020</th>\n",
       "      <td>1</td>\n",
       "      <td>3</td>\n",
       "      <td>4</td>\n",
       "    </tr>\n",
       "    <tr>\n",
       "      <th>2021</th>\n",
       "      <td>1</td>\n",
       "      <td>6</td>\n",
       "      <td>4</td>\n",
       "    </tr>\n",
       "  </tbody>\n",
       "</table>\n",
       "</div>"
      ],
      "text/plain": [
       "      B  C  E\n",
       "2018  1  1  4\n",
       "2019  1  2  4\n",
       "2020  1  3  4\n",
       "2021  1  6  4"
      ]
     },
     "execution_count": 4,
     "metadata": {},
     "output_type": "execute_result"
    }
   ],
   "source": [
    "# Create a dataframe using standard pandas\n",
    "\n",
    "df = pd.DataFrame({'B': [1,1,1,1],'C':[1,2,3,6],'E':[4,4,4,4]},index=[2018,2019,2020,2021])\n",
    "df "
   ]
  },
  {
   "cell_type": "markdown",
   "id": "762e63b0",
   "metadata": {},
   "source": [
    "A somewhat more creative way to initialize the dataframe for dates would use a loop to specify the dates that get passed to the constructor as an argument.  \n",
    "\n",
    "Below a dataframe df with two Series (A and B), is initialized with the values 100 for all data points.\n",
    "\n",
    "The index is defined dynamically by a loop ```index=[2020+v for v in range(number_of_rows)]``` that runs for number_of_rows times (6 times in this example) setting v equal to 2020+0, 2020+1,...,202+5. The resulting list whose values are assigned to index is \\[2020,2021,2022,2023,2024,2025\\].\n",
    "\n",
    "The big advantage of this method is that if the user wanted to have data created for the period 1990 to 2030, they would only have to change number_of_rows from 6 to 41 and 2020 in the loop to 1990.\n",
    "\n",
    "The second example simplifies further by just specifying the begin and end point of the range."
   ]
  },
  {
   "cell_type": "code",
   "execution_count": 5,
   "id": "ec92ae87",
   "metadata": {},
   "outputs": [
    {
     "data": {
      "text/html": [
       "<div>\n",
       "<style scoped>\n",
       "    .dataframe tbody tr th:only-of-type {\n",
       "        vertical-align: middle;\n",
       "    }\n",
       "\n",
       "    .dataframe tbody tr th {\n",
       "        vertical-align: top;\n",
       "    }\n",
       "\n",
       "    .dataframe thead th {\n",
       "        text-align: right;\n",
       "    }\n",
       "</style>\n",
       "<table border=\"1\" class=\"dataframe\">\n",
       "  <thead>\n",
       "    <tr style=\"text-align: right;\">\n",
       "      <th></th>\n",
       "      <th>A1</th>\n",
       "      <th>B1</th>\n",
       "    </tr>\n",
       "  </thead>\n",
       "  <tbody>\n",
       "    <tr>\n",
       "      <th>2020</th>\n",
       "      <td>200</td>\n",
       "      <td>200</td>\n",
       "    </tr>\n",
       "    <tr>\n",
       "      <th>2021</th>\n",
       "      <td>200</td>\n",
       "      <td>200</td>\n",
       "    </tr>\n",
       "    <tr>\n",
       "      <th>2022</th>\n",
       "      <td>200</td>\n",
       "      <td>200</td>\n",
       "    </tr>\n",
       "    <tr>\n",
       "      <th>2023</th>\n",
       "      <td>200</td>\n",
       "      <td>200</td>\n",
       "    </tr>\n",
       "    <tr>\n",
       "      <th>2024</th>\n",
       "      <td>200</td>\n",
       "      <td>200</td>\n",
       "    </tr>\n",
       "    <tr>\n",
       "      <th>2025</th>\n",
       "      <td>200</td>\n",
       "      <td>200</td>\n",
       "    </tr>\n",
       "    <tr>\n",
       "      <th>2026</th>\n",
       "      <td>200</td>\n",
       "      <td>200</td>\n",
       "    </tr>\n",
       "    <tr>\n",
       "      <th>2027</th>\n",
       "      <td>200</td>\n",
       "      <td>200</td>\n",
       "    </tr>\n",
       "    <tr>\n",
       "      <th>2028</th>\n",
       "      <td>200</td>\n",
       "      <td>200</td>\n",
       "    </tr>\n",
       "    <tr>\n",
       "      <th>2029</th>\n",
       "      <td>200</td>\n",
       "      <td>200</td>\n",
       "    </tr>\n",
       "  </tbody>\n",
       "</table>\n",
       "</div>"
      ],
      "text/plain": [
       "       A1   B1\n",
       "2020  200  200\n",
       "2021  200  200\n",
       "2022  200  200\n",
       "2023  200  200\n",
       "2024  200  200\n",
       "2025  200  200\n",
       "2026  200  200\n",
       "2027  200  200\n",
       "2028  200  200\n",
       "2029  200  200"
      ]
     },
     "execution_count": 5,
     "metadata": {},
     "output_type": "execute_result"
    }
   ],
   "source": [
    "#define the number of years for which the data is to be created.\n",
    "number_of_rows = 6 \n",
    "\n",
    "# call the dataframe constructor\n",
    "df = pd.DataFrame(100,\n",
    "       index=[2020+v for v in range(number_of_rows)], # create row index\n",
    "       # equivalent to index=[2020,2021,2022,2023,2024,2025] \n",
    "       columns=['A','B'])                                 # create column name \n",
    "df\n",
    "\n",
    "df1 = pd.DataFrame(200,\n",
    "       index=[v for v in range(2020,2030)], # create row index\n",
    "       # equivalent to index=[2020,2021,...,2030] \n",
    "       columns=['A1','B1'])                                 # create column name \n",
    "df1"
   ]
  },
  {
   "cell_type": "markdown",
   "id": "1154a8eb",
   "metadata": {},
   "source": [
    "### Use .upd to create a new variable (= operator)\n",
    "\n",
    "With standard pandas a user can add a column (series) to a dataframe simply by assigning a adding to a dataframe.  For example:\n",
    "\n",
    "```df['NEW2']=[17,12,14,15]```\n",
    "\n",
    "```.upd()``` provides this functionality as well."
   ]
  },
  {
   "cell_type": "code",
   "execution_count": 6,
   "id": "21e46618",
   "metadata": {},
   "outputs": [
    {
     "data": {
      "text/html": [
       "<div>\n",
       "<style scoped>\n",
       "    .dataframe tbody tr th:only-of-type {\n",
       "        vertical-align: middle;\n",
       "    }\n",
       "\n",
       "    .dataframe tbody tr th {\n",
       "        vertical-align: top;\n",
       "    }\n",
       "\n",
       "    .dataframe thead th {\n",
       "        text-align: right;\n",
       "    }\n",
       "</style>\n",
       "<table border=\"1\" class=\"dataframe\">\n",
       "  <thead>\n",
       "    <tr style=\"text-align: right;\">\n",
       "      <th></th>\n",
       "      <th>A</th>\n",
       "      <th>B</th>\n",
       "      <th>C</th>\n",
       "    </tr>\n",
       "  </thead>\n",
       "  <tbody>\n",
       "    <tr>\n",
       "      <th>2020</th>\n",
       "      <td>100</td>\n",
       "      <td>100</td>\n",
       "      <td>142.0</td>\n",
       "    </tr>\n",
       "    <tr>\n",
       "      <th>2021</th>\n",
       "      <td>100</td>\n",
       "      <td>100</td>\n",
       "      <td>142.0</td>\n",
       "    </tr>\n",
       "    <tr>\n",
       "      <th>2022</th>\n",
       "      <td>100</td>\n",
       "      <td>100</td>\n",
       "      <td>142.0</td>\n",
       "    </tr>\n",
       "    <tr>\n",
       "      <th>2023</th>\n",
       "      <td>100</td>\n",
       "      <td>100</td>\n",
       "      <td>142.0</td>\n",
       "    </tr>\n",
       "    <tr>\n",
       "      <th>2024</th>\n",
       "      <td>100</td>\n",
       "      <td>100</td>\n",
       "      <td>142.0</td>\n",
       "    </tr>\n",
       "    <tr>\n",
       "      <th>2025</th>\n",
       "      <td>100</td>\n",
       "      <td>100</td>\n",
       "      <td>142.0</td>\n",
       "    </tr>\n",
       "  </tbody>\n",
       "</table>\n",
       "</div>"
      ],
      "text/plain": [
       "        A    B      C\n",
       "2020  100  100  142.0\n",
       "2021  100  100  142.0\n",
       "2022  100  100  142.0\n",
       "2023  100  100  142.0\n",
       "2024  100  100  142.0\n",
       "2025  100  100  142.0"
      ]
     },
     "execution_count": 6,
     "metadata": {},
     "output_type": "execute_result"
    }
   ],
   "source": [
    "df2=df.upd('c = 142') \n",
    "df2"
   ]
  },
  {
   "cell_type": "markdown",
   "id": "2f17cf9b",
   "metadata": {},
   "source": [
    ":::{note}\n",
    "Note that the new variable name was entered as a lower case 'c' here.  Lowercase letters are not legal ```modelflow``` variable names.  The `.upd()` method knows is part of modelflow and knows this rule, so it automatically translates lowercase entries into upper case so that the statement works.\n",
    ":::"
   ]
  },
  {
   "cell_type": "markdown",
   "id": "f14b65fa",
   "metadata": {},
   "source": [
    "### Multiple updates and specific time periods\n",
    "\n",
    "The modelflow method ```.upd()``` takes a string as an argument.  That string can contain a single update command or can contain multiple commands.\n",
    "\n",
    "Moreover by including a \\<Begin End\\> date clause in a given update command, the update will be restricted to the associated time period.\n",
    "\n",
    "The below illustrates this, modifying two existing variables A, B over different time periods and creating a new variable.  \n",
    "\n",
    "```{danger}\n",
    "Note that the third line inherits the time period of the previous line.\n",
    "\n",
    "Note also the submitted string can include comments as well (denoted with the standard python # indicator).\n",
    "```\n",
    "\n"
   ]
  },
  {
   "cell_type": "code",
   "execution_count": 7,
   "id": "0832898b",
   "metadata": {},
   "outputs": [
    {
     "data": {
      "text/html": [
       "<div>\n",
       "<style scoped>\n",
       "    .dataframe tbody tr th:only-of-type {\n",
       "        vertical-align: middle;\n",
       "    }\n",
       "\n",
       "    .dataframe tbody tr th {\n",
       "        vertical-align: top;\n",
       "    }\n",
       "\n",
       "    .dataframe thead th {\n",
       "        text-align: right;\n",
       "    }\n",
       "</style>\n",
       "<table border=\"1\" class=\"dataframe\">\n",
       "  <thead>\n",
       "    <tr style=\"text-align: right;\">\n",
       "      <th></th>\n",
       "      <th>A</th>\n",
       "      <th>B</th>\n",
       "      <th>C</th>\n",
       "      <th>D</th>\n",
       "    </tr>\n",
       "  </thead>\n",
       "  <tbody>\n",
       "    <tr>\n",
       "      <th>2020</th>\n",
       "      <td>100</td>\n",
       "      <td>200</td>\n",
       "      <td>500.0</td>\n",
       "      <td>33.0</td>\n",
       "    </tr>\n",
       "    <tr>\n",
       "      <th>2021</th>\n",
       "      <td>42</td>\n",
       "      <td>100</td>\n",
       "      <td>0.0</td>\n",
       "      <td>33.0</td>\n",
       "    </tr>\n",
       "    <tr>\n",
       "      <th>2022</th>\n",
       "      <td>44</td>\n",
       "      <td>100</td>\n",
       "      <td>0.0</td>\n",
       "      <td>33.0</td>\n",
       "    </tr>\n",
       "    <tr>\n",
       "      <th>2023</th>\n",
       "      <td>45</td>\n",
       "      <td>100</td>\n",
       "      <td>0.0</td>\n",
       "      <td>33.0</td>\n",
       "    </tr>\n",
       "    <tr>\n",
       "      <th>2024</th>\n",
       "      <td>46</td>\n",
       "      <td>100</td>\n",
       "      <td>0.0</td>\n",
       "      <td>33.0</td>\n",
       "    </tr>\n",
       "    <tr>\n",
       "      <th>2025</th>\n",
       "      <td>100</td>\n",
       "      <td>100</td>\n",
       "      <td>0.0</td>\n",
       "      <td>33.0</td>\n",
       "    </tr>\n",
       "  </tbody>\n",
       "</table>\n",
       "</div>"
      ],
      "text/plain": [
       "        A    B      C     D\n",
       "2020  100  200  500.0  33.0\n",
       "2021   42  100    0.0  33.0\n",
       "2022   44  100    0.0  33.0\n",
       "2023   45  100    0.0  33.0\n",
       "2024   46  100    0.0  33.0\n",
       "2025  100  100    0.0  33.0"
      ]
     },
     "execution_count": 7,
     "metadata": {},
     "output_type": "execute_result"
    }
   ],
   "source": [
    "df.upd(\"\"\"\n",
    "# Same number of values as years\n",
    "<2021 2024> A = 42 44 45 46    # 4 years\n",
    "<2020     > B = 200            # 1 year \n",
    "c = 500                        # Same period as previous line\n",
    "<-0 -1> D = 33                   # All years \n",
    "\"\"\")"
   ]
  },
  {
   "cell_type": "markdown",
   "id": "1008cc00",
   "metadata": {
    "slideshow": {
     "slide_type": "slide"
    }
   },
   "source": [
    ":::{margin}\n",
    "**Time scope of .upd()**\n",
    "\n",
    "Made this a margin just to see\n",
    "\n",
    "The update command takes a variety of mathematical operators ```=, +, *, % =GROWTH, +GROWTH, =DIFF``` and applies them to data for the period set in the leading <>.\n",
    "\n",
    "If the user wants to modify a series or group of series for only a specific point in time or a period of time, she can indicate the period in the command line.\n",
    "\n",
    " - If **one date** is specified the operation is applied to a single point in time\n",
    " - If **two dates**  are specifies the operation is applied over a period of time.\n",
    "\n",
    "The selected time period will persist until re-set with a new time specification. Useful to avoid visual noise if several variables are going to be updated for the same time period. \n",
    "\n",
    "The time period can be rest to the full time-period by using the special \\<-0 -1\\> time period.  More generally:\n",
    "\n",
    " - Indicates the start of the dataframe use -0\n",
    " - Indicates the end of the dataframe use -1\n",
    " \n",
    "If no time is provided the dataframe start and end period will be used.  \n",
    ":::"
   ]
  },
  {
   "cell_type": "markdown",
   "id": "1666479c",
   "metadata": {
    "slideshow": {
     "slide_type": "slide"
    }
   },
   "source": [
    "\n",
    "### Setting specific datapoints to specific values \n",
    "\n",
    "This example, demonstrates the equals operator.  The ```=``` operator indicates that the variable a should be set equal to the indicated values following the ```=``` operator (42 44 45 46 in the first line, 200 in the second and 500 inthe third). The dates enclosed in <> indicate the period over which the change should be applied.  \n",
    "\n",
    "Either: \n",
    " - The number of data points provided must match the number of dates in the period, Or\n",
    " - Only one data point is provided, it is applied to all dates in the period. \n",
    "\n",
    "If only one period is to be modified then it can be followed by just one date.\n",
    "\n",
    "Note that the final line inherited the time period set in the second line."
   ]
  },
  {
   "cell_type": "code",
   "execution_count": 8,
   "id": "20e97f46",
   "metadata": {},
   "outputs": [
    {
     "data": {
      "text/html": [
       "<div>\n",
       "<style scoped>\n",
       "    .dataframe tbody tr th:only-of-type {\n",
       "        vertical-align: middle;\n",
       "    }\n",
       "\n",
       "    .dataframe tbody tr th {\n",
       "        vertical-align: top;\n",
       "    }\n",
       "\n",
       "    .dataframe thead th {\n",
       "        text-align: right;\n",
       "    }\n",
       "</style>\n",
       "<table border=\"1\" class=\"dataframe\">\n",
       "  <thead>\n",
       "    <tr style=\"text-align: right;\">\n",
       "      <th></th>\n",
       "      <th>A</th>\n",
       "      <th>B</th>\n",
       "      <th>C</th>\n",
       "    </tr>\n",
       "  </thead>\n",
       "  <tbody>\n",
       "    <tr>\n",
       "      <th>2020</th>\n",
       "      <td>100</td>\n",
       "      <td>100</td>\n",
       "      <td>0.0</td>\n",
       "    </tr>\n",
       "    <tr>\n",
       "      <th>2021</th>\n",
       "      <td>42</td>\n",
       "      <td>100</td>\n",
       "      <td>0.0</td>\n",
       "    </tr>\n",
       "    <tr>\n",
       "      <th>2022</th>\n",
       "      <td>44</td>\n",
       "      <td>100</td>\n",
       "      <td>0.0</td>\n",
       "    </tr>\n",
       "    <tr>\n",
       "      <th>2023</th>\n",
       "      <td>45</td>\n",
       "      <td>200</td>\n",
       "      <td>500.0</td>\n",
       "    </tr>\n",
       "    <tr>\n",
       "      <th>2024</th>\n",
       "      <td>46</td>\n",
       "      <td>100</td>\n",
       "      <td>0.0</td>\n",
       "    </tr>\n",
       "    <tr>\n",
       "      <th>2025</th>\n",
       "      <td>100</td>\n",
       "      <td>100</td>\n",
       "      <td>0.0</td>\n",
       "    </tr>\n",
       "  </tbody>\n",
       "</table>\n",
       "</div>"
      ],
      "text/plain": [
       "        A    B      C\n",
       "2020  100  100    0.0\n",
       "2021   42  100    0.0\n",
       "2022   44  100    0.0\n",
       "2023   45  200  500.0\n",
       "2024   46  100    0.0\n",
       "2025  100  100    0.0"
      ]
     },
     "execution_count": 8,
     "metadata": {},
     "output_type": "execute_result"
    }
   ],
   "source": [
    "df.upd(\"\"\"\n",
    "# Same number of values as years\n",
    "<2021 2024> A = 42 44 45 46    # 4 years\n",
    "<2023     > B = 200            # 1 year \n",
    "c = 500\n",
    "\"\"\")"
   ]
  },
  {
   "cell_type": "markdown",
   "id": "48dd67e0",
   "metadata": {
    "slideshow": {
     "slide_type": "slide"
    }
   },
   "source": [
    "### Adding  the specified  values to all values in a range (the + operator)\n",
    "\n",
    "NB: Here upd with the  + operator indicates that we are adding 42. "
   ]
  },
  {
   "cell_type": "code",
   "execution_count": 9,
   "id": "e2ca804f",
   "metadata": {
    "scrolled": true
   },
   "outputs": [
    {
     "data": {
      "text/html": [
       "<div>\n",
       "<style scoped>\n",
       "    .dataframe tbody tr th:only-of-type {\n",
       "        vertical-align: middle;\n",
       "    }\n",
       "\n",
       "    .dataframe tbody tr th {\n",
       "        vertical-align: top;\n",
       "    }\n",
       "\n",
       "    .dataframe thead th {\n",
       "        text-align: right;\n",
       "    }\n",
       "</style>\n",
       "<table border=\"1\" class=\"dataframe\">\n",
       "  <thead>\n",
       "    <tr style=\"text-align: right;\">\n",
       "      <th></th>\n",
       "      <th>A</th>\n",
       "      <th>B</th>\n",
       "    </tr>\n",
       "  </thead>\n",
       "  <tbody>\n",
       "    <tr>\n",
       "      <th>2020</th>\n",
       "      <td>100</td>\n",
       "      <td>100</td>\n",
       "    </tr>\n",
       "    <tr>\n",
       "      <th>2021</th>\n",
       "      <td>100</td>\n",
       "      <td>100</td>\n",
       "    </tr>\n",
       "    <tr>\n",
       "      <th>2022</th>\n",
       "      <td>100</td>\n",
       "      <td>142</td>\n",
       "    </tr>\n",
       "    <tr>\n",
       "      <th>2023</th>\n",
       "      <td>100</td>\n",
       "      <td>142</td>\n",
       "    </tr>\n",
       "    <tr>\n",
       "      <th>2024</th>\n",
       "      <td>100</td>\n",
       "      <td>142</td>\n",
       "    </tr>\n",
       "    <tr>\n",
       "      <th>2025</th>\n",
       "      <td>100</td>\n",
       "      <td>100</td>\n",
       "    </tr>\n",
       "  </tbody>\n",
       "</table>\n",
       "</div>"
      ],
      "text/plain": [
       "        A    B\n",
       "2020  100  100\n",
       "2021  100  100\n",
       "2022  100  142\n",
       "2023  100  142\n",
       "2024  100  142\n",
       "2025  100  100"
      ]
     },
     "execution_count": 9,
     "metadata": {},
     "output_type": "execute_result"
    }
   ],
   "source": [
    "df.upd('''\n",
    "# Or one number to all years in between start and end \n",
    "<2022 2024> B  +  42    # one value broadcast to 3 years \n",
    "''')"
   ]
  },
  {
   "cell_type": "markdown",
   "id": "960f4ec7",
   "metadata": {
    "slideshow": {
     "slide_type": "slide"
    }
   },
   "source": [
    "### Multiplying all values in a range by the specified values (the * operator)"
   ]
  },
  {
   "cell_type": "code",
   "execution_count": 10,
   "id": "f642184f",
   "metadata": {},
   "outputs": [
    {
     "data": {
      "text/html": [
       "<div>\n",
       "<style scoped>\n",
       "    .dataframe tbody tr th:only-of-type {\n",
       "        vertical-align: middle;\n",
       "    }\n",
       "\n",
       "    .dataframe tbody tr th {\n",
       "        vertical-align: top;\n",
       "    }\n",
       "\n",
       "    .dataframe thead th {\n",
       "        text-align: right;\n",
       "    }\n",
       "</style>\n",
       "<table border=\"1\" class=\"dataframe\">\n",
       "  <thead>\n",
       "    <tr style=\"text-align: right;\">\n",
       "      <th></th>\n",
       "      <th>A</th>\n",
       "      <th>B</th>\n",
       "    </tr>\n",
       "  </thead>\n",
       "  <tbody>\n",
       "    <tr>\n",
       "      <th>2020</th>\n",
       "      <td>100</td>\n",
       "      <td>100</td>\n",
       "    </tr>\n",
       "    <tr>\n",
       "      <th>2021</th>\n",
       "      <td>4200</td>\n",
       "      <td>100</td>\n",
       "    </tr>\n",
       "    <tr>\n",
       "      <th>2022</th>\n",
       "      <td>4400</td>\n",
       "      <td>100</td>\n",
       "    </tr>\n",
       "    <tr>\n",
       "      <th>2023</th>\n",
       "      <td>5500</td>\n",
       "      <td>100</td>\n",
       "    </tr>\n",
       "    <tr>\n",
       "      <th>2024</th>\n",
       "      <td>100</td>\n",
       "      <td>100</td>\n",
       "    </tr>\n",
       "    <tr>\n",
       "      <th>2025</th>\n",
       "      <td>100</td>\n",
       "      <td>100</td>\n",
       "    </tr>\n",
       "  </tbody>\n",
       "</table>\n",
       "</div>"
      ],
      "text/plain": [
       "         A    B\n",
       "2020   100  100\n",
       "2021  4200  100\n",
       "2022  4400  100\n",
       "2023  5500  100\n",
       "2024   100  100\n",
       "2025   100  100"
      ]
     },
     "execution_count": 10,
     "metadata": {},
     "output_type": "execute_result"
    }
   ],
   "source": [
    "df.upd('''\n",
    "# Same number of values as years\n",
    "<2021 2023> A *  42 44 55\n",
    "''')"
   ]
  },
  {
   "cell_type": "markdown",
   "id": "ed2d8fd4",
   "metadata": {
    "slideshow": {
     "slide_type": "slide"
    }
   },
   "source": [
    "### Increasing all  values in a range by a  specified percent amount (the % operator)\n",
    "In this example:\n",
    " - A is increased by 42 and 44% over the range 2021 through 2022.\n",
    " - B is increased by 10 percent in all years\n",
    " - C is a new variable, is created and set to 100 for the whole range\n",
    " - C is decreased by 12 percent over the range 2023 through 2025."
   ]
  },
  {
   "cell_type": "code",
   "execution_count": 11,
   "id": "0b7a83f4",
   "metadata": {},
   "outputs": [
    {
     "data": {
      "text/html": [
       "<div>\n",
       "<style scoped>\n",
       "    .dataframe tbody tr th:only-of-type {\n",
       "        vertical-align: middle;\n",
       "    }\n",
       "\n",
       "    .dataframe tbody tr th {\n",
       "        vertical-align: top;\n",
       "    }\n",
       "\n",
       "    .dataframe thead th {\n",
       "        text-align: right;\n",
       "    }\n",
       "</style>\n",
       "<table border=\"1\" class=\"dataframe\">\n",
       "  <thead>\n",
       "    <tr style=\"text-align: right;\">\n",
       "      <th></th>\n",
       "      <th>A</th>\n",
       "      <th>B</th>\n",
       "      <th>C</th>\n",
       "    </tr>\n",
       "  </thead>\n",
       "  <tbody>\n",
       "    <tr>\n",
       "      <th>2020</th>\n",
       "      <td>100</td>\n",
       "      <td>110.0</td>\n",
       "      <td>100.0</td>\n",
       "    </tr>\n",
       "    <tr>\n",
       "      <th>2021</th>\n",
       "      <td>142</td>\n",
       "      <td>110.0</td>\n",
       "      <td>100.0</td>\n",
       "    </tr>\n",
       "    <tr>\n",
       "      <th>2022</th>\n",
       "      <td>144</td>\n",
       "      <td>110.0</td>\n",
       "      <td>100.0</td>\n",
       "    </tr>\n",
       "    <tr>\n",
       "      <th>2023</th>\n",
       "      <td>100</td>\n",
       "      <td>110.0</td>\n",
       "      <td>88.0</td>\n",
       "    </tr>\n",
       "    <tr>\n",
       "      <th>2024</th>\n",
       "      <td>100</td>\n",
       "      <td>110.0</td>\n",
       "      <td>88.0</td>\n",
       "    </tr>\n",
       "    <tr>\n",
       "      <th>2025</th>\n",
       "      <td>100</td>\n",
       "      <td>110.0</td>\n",
       "      <td>88.0</td>\n",
       "    </tr>\n",
       "  </tbody>\n",
       "</table>\n",
       "</div>"
      ],
      "text/plain": [
       "        A      B      C\n",
       "2020  100  110.0  100.0\n",
       "2021  142  110.0  100.0\n",
       "2022  144  110.0  100.0\n",
       "2023  100  110.0   88.0\n",
       "2024  100  110.0   88.0\n",
       "2025  100  110.0   88.0"
      ]
     },
     "execution_count": 11,
     "metadata": {},
     "output_type": "execute_result"
    }
   ],
   "source": [
    "df.upd('''\n",
    "<2021 2022 > A %  42 44   \n",
    "<-0 -1> B % 10            # all rows \n",
    "C = 100                   # all rows persist \n",
    "<2023 2025> C % -12       # now only for 3 years \n",
    "''')"
   ]
  },
  {
   "cell_type": "markdown",
   "id": "9f736f80",
   "metadata": {
    "slideshow": {
     "slide_type": "slide"
    }
   },
   "source": [
    "###  Set the percent growth rate to specified values (=GROWTH)"
   ]
  },
  {
   "cell_type": "code",
   "execution_count": 12,
   "id": "e42877b9",
   "metadata": {},
   "outputs": [
    {
     "name": "stdout",
     "output_type": "stream",
     "text": [
      "Dataframe:\n",
      "           A    B           C\n",
      "2020  100.00  100  100.000000\n",
      "2021  101.00  100  102.000000\n",
      "2022  106.05  100  104.040000\n",
      "2023  100.00  100  106.120800\n",
      "2024  100.00  100  108.243216\n",
      "2025  100.00  100  110.408080\n",
      "\n",
      "Growth:\n",
      "             A    B    C\n",
      "2020       NaN  NaN  NaN\n",
      "2021  1.000000  0.0  2.0\n",
      "2022  5.000000  0.0  2.0\n",
      "2023 -5.704856  0.0  2.0\n",
      "2024  0.000000  0.0  2.0\n",
      "2025  0.000000  0.0  2.0\n",
      "\n"
     ]
    }
   ],
   "source": [
    "res = df.upd('''\n",
    "# Same number of values as years\n",
    "<2021 2022> A =GROWTH  1 5  \n",
    "<2020> c = 100 \n",
    "<2021 2025> c =GROWTH 2 \n",
    "''')\n",
    "print(f'Dataframe:\\n{res}\\n\\nGrowth:\\n{res.pct_change()*100}\\n') # Explained b"
   ]
  },
  {
   "cell_type": "markdown",
   "id": "762a7c55",
   "metadata": {
    "slideshow": {
     "slide_type": "slide"
    }
   },
   "source": [
    "### Add or subtract from the existing percent growth rate (+GROWTH operator) \n",
    "\n",
    "The below example is a bit more complicated.\n",
    "\n",
    "The first line sets the growth rate of A to 1% in all periods beginning in  2021\n",
    "\n",
    "The second command adds 2 3 4 5 6 to the growth rates in each period after 2021, resulting in growth rates of 3,4,5,6,7."
   ]
  },
  {
   "cell_type": "code",
   "execution_count": 13,
   "id": "f8c1ae12",
   "metadata": {},
   "outputs": [
    {
     "name": "stdout",
     "output_type": "stream",
     "text": [
      "Dataframe:\n",
      "        A    B\n",
      "2020  100  100\n",
      "2021  103  100\n",
      "2022  100  100\n",
      "2023  100  100\n",
      "2024  100  100\n",
      "2025  100  100\n",
      "\n",
      "Growth:\n",
      "             A    B\n",
      "2020       NaN  NaN\n",
      "2021  3.000000  0.0\n",
      "2022 -2.912621  0.0\n",
      "2023  0.000000  0.0\n",
      "2024  0.000000  0.0\n",
      "2025  0.000000  0.0\n",
      "\n"
     ]
    }
   ],
   "source": [
    "res =df.upd('''\n",
    "<2021 > A =GROWTH  1  # All selected years set to the same growth rate\n",
    "a +growth   2  # Add to the existing growth rate these numbers  \n",
    "''')\n",
    "print(f'Dataframe:\\n{res}\\n\\nGrowth:\\n{res.pct_change()*100}\\n')"
   ]
  },
  {
   "cell_type": "markdown",
   "id": "e6a9b1e6",
   "metadata": {
    "slideshow": {
     "slide_type": "slide"
    }
   },
   "source": [
    "###  Set the change in a variable to specific values (=diff operator) \n",
    "\n",
    "$\\Delta = var_t - var_{t-1} = some number$\n",
    "\n",
    "Here sets the value of A in 2021 to 2 more than the value of 2020, and the 2022 value as 4 more than the **revised** value of 2021.\n",
    "\n",
    "The second line creates a new variable \"UPBY2\" to the data frame and sets it equal to 100 for all periods,\n",
    "\n",
    "The third line adds 2 to the previous periods value UPBY2.\n",
    "\n"
   ]
  },
  {
   "cell_type": "code",
   "execution_count": 14,
   "id": "1540ac84",
   "metadata": {},
   "outputs": [
    {
     "data": {
      "text/html": [
       "<div>\n",
       "<style scoped>\n",
       "    .dataframe tbody tr th:only-of-type {\n",
       "        vertical-align: middle;\n",
       "    }\n",
       "\n",
       "    .dataframe tbody tr th {\n",
       "        vertical-align: top;\n",
       "    }\n",
       "\n",
       "    .dataframe thead th {\n",
       "        text-align: right;\n",
       "    }\n",
       "</style>\n",
       "<table border=\"1\" class=\"dataframe\">\n",
       "  <thead>\n",
       "    <tr style=\"text-align: right;\">\n",
       "      <th></th>\n",
       "      <th>A</th>\n",
       "      <th>B</th>\n",
       "      <th>UPBY2</th>\n",
       "    </tr>\n",
       "  </thead>\n",
       "  <tbody>\n",
       "    <tr>\n",
       "      <th>2020</th>\n",
       "      <td>100</td>\n",
       "      <td>100</td>\n",
       "      <td>100.0</td>\n",
       "    </tr>\n",
       "    <tr>\n",
       "      <th>2021</th>\n",
       "      <td>102</td>\n",
       "      <td>100</td>\n",
       "      <td>102.0</td>\n",
       "    </tr>\n",
       "    <tr>\n",
       "      <th>2022</th>\n",
       "      <td>106</td>\n",
       "      <td>100</td>\n",
       "      <td>104.0</td>\n",
       "    </tr>\n",
       "    <tr>\n",
       "      <th>2023</th>\n",
       "      <td>100</td>\n",
       "      <td>100</td>\n",
       "      <td>106.0</td>\n",
       "    </tr>\n",
       "    <tr>\n",
       "      <th>2024</th>\n",
       "      <td>100</td>\n",
       "      <td>100</td>\n",
       "      <td>108.0</td>\n",
       "    </tr>\n",
       "    <tr>\n",
       "      <th>2025</th>\n",
       "      <td>100</td>\n",
       "      <td>100</td>\n",
       "      <td>110.0</td>\n",
       "    </tr>\n",
       "  </tbody>\n",
       "</table>\n",
       "</div>"
      ],
      "text/plain": [
       "        A    B  UPBY2\n",
       "2020  100  100  100.0\n",
       "2021  102  100  102.0\n",
       "2022  106  100  104.0\n",
       "2023  100  100  106.0\n",
       "2024  100  100  108.0\n",
       "2025  100  100  110.0"
      ]
     },
     "execution_count": 14,
     "metadata": {},
     "output_type": "execute_result"
    }
   ],
   "source": [
    "df.upd('''\n",
    "< 2021 2022> A =diff  2 4   # Same number of values as years\n",
    "<2020 > UpBy2 = 100 # sets rows equal to the same  number for all years in between start and end \n",
    "<2021 2025> UpBy2 =diff  2  \n",
    "\n",
    "''')"
   ]
  },
  {
   "cell_type": "markdown",
   "id": "881f25d4",
   "metadata": {
    "slideshow": {
     "slide_type": "slide"
    }
   },
   "source": [
    "### Recall  that we have not overwritten df, so the df dataframe is unchanged."
   ]
  },
  {
   "cell_type": "code",
   "execution_count": 15,
   "id": "a2d8ee73",
   "metadata": {},
   "outputs": [
    {
     "data": {
      "text/html": [
       "<div>\n",
       "<style scoped>\n",
       "    .dataframe tbody tr th:only-of-type {\n",
       "        vertical-align: middle;\n",
       "    }\n",
       "\n",
       "    .dataframe tbody tr th {\n",
       "        vertical-align: top;\n",
       "    }\n",
       "\n",
       "    .dataframe thead th {\n",
       "        text-align: right;\n",
       "    }\n",
       "</style>\n",
       "<table border=\"1\" class=\"dataframe\">\n",
       "  <thead>\n",
       "    <tr style=\"text-align: right;\">\n",
       "      <th></th>\n",
       "      <th>A</th>\n",
       "      <th>B</th>\n",
       "    </tr>\n",
       "  </thead>\n",
       "  <tbody>\n",
       "    <tr>\n",
       "      <th>2020</th>\n",
       "      <td>100</td>\n",
       "      <td>100</td>\n",
       "    </tr>\n",
       "    <tr>\n",
       "      <th>2021</th>\n",
       "      <td>100</td>\n",
       "      <td>100</td>\n",
       "    </tr>\n",
       "    <tr>\n",
       "      <th>2022</th>\n",
       "      <td>100</td>\n",
       "      <td>100</td>\n",
       "    </tr>\n",
       "    <tr>\n",
       "      <th>2023</th>\n",
       "      <td>100</td>\n",
       "      <td>100</td>\n",
       "    </tr>\n",
       "    <tr>\n",
       "      <th>2024</th>\n",
       "      <td>100</td>\n",
       "      <td>100</td>\n",
       "    </tr>\n",
       "    <tr>\n",
       "      <th>2025</th>\n",
       "      <td>100</td>\n",
       "      <td>100</td>\n",
       "    </tr>\n",
       "  </tbody>\n",
       "</table>\n",
       "</div>"
      ],
      "text/plain": [
       "        A    B\n",
       "2020  100  100\n",
       "2021  100  100\n",
       "2022  100  100\n",
       "2023  100  100\n",
       "2024  100  100\n",
       "2025  100  100"
      ]
     },
     "execution_count": 15,
     "metadata": {},
     "output_type": "execute_result"
    }
   ],
   "source": [
    "df"
   ]
  },
  {
   "cell_type": "markdown",
   "id": "4a6469a5",
   "metadata": {},
   "source": [
    ":::{note}\n",
    "\n",
    "The method `.upd()` only operates on on variable.  A command like `.upd('A = B')` would not work. For these kind of functions, use `.mfcalc()` (see next section).\n",
    ":::"
   ]
  },
  {
   "cell_type": "markdown",
   "id": "e8d1b75c",
   "metadata": {
    "slideshow": {
     "slide_type": "slide"
    }
   },
   "source": [
    "### Keep growth rates after the update time -- the --kg option\n",
    "\n",
    "In a long projection it can sometime be useful to be able to update variables for which new information is available, but for the subsequent periods keep the growth rate the same as before the update. In database management this is frequently done when two time-series with different levels are spliced together.\n",
    "\n",
    "The -kg or --keep_growth option instructs modelview to calculate the growth rate of the existing pre-change series, and then use it to preserve the pre-change growth rates of the series for the periods that were **not** changed. \n",
    "\n",
    "This allows to update variables for which new information is available, but keep the growth rate the same as before the update in the period after the update time.\n",
    "\n",
    "\n",
    "#### The default keep_growth behaviour\n",
    "\n",
    "The ```upd()``` method has a parameter ```keep_growth```, which by default is equal to ```False```.\n",
    "\n",
    "```keep_growth``` determines how data in  the time periods after those where an update is executed are treated.  \n",
    "\n",
    "If ```keep_growth``` is ```False``` then data in the sub-period after a change is left unchanged.\n",
    "\n",
    "if ```keep_growth``` is set to \"```True```\" then the system will preserve the pre-change growth rate of the affected variable in the time period *after the change*. \n",
    "\n",
    ":::{note}\n",
    "At the line level:\n",
    "* ```keep_growth=True``` can be expressed as --kg\n",
    "* ```keep_growth=False``` can be expressed as --nkg\n",
    ":::\n",
    "\n",
    "Let's see this in a concrete example.  Consider the following ```dataframe``` df with two variables A and B, that each grow by 2% per period, with A initialized at a level of 100 and B at a level of 110 so that we can see each separately on a graph.\n",
    "\n"
   ]
  },
  {
   "cell_type": "code",
   "execution_count": 24,
   "id": "42a6c166",
   "metadata": {},
   "outputs": [
    {
     "data": {
      "text/html": [
       "<div>\n",
       "<style scoped>\n",
       "    .dataframe tbody tr th:only-of-type {\n",
       "        vertical-align: middle;\n",
       "    }\n",
       "\n",
       "    .dataframe tbody tr th {\n",
       "        vertical-align: top;\n",
       "    }\n",
       "\n",
       "    .dataframe thead th {\n",
       "        text-align: right;\n",
       "    }\n",
       "</style>\n",
       "<table border=\"1\" class=\"dataframe\">\n",
       "  <thead>\n",
       "    <tr style=\"text-align: right;\">\n",
       "      <th></th>\n",
       "      <th>A</th>\n",
       "      <th>B</th>\n",
       "      <th>A_ORIG</th>\n",
       "      <th>B_ORIG</th>\n",
       "    </tr>\n",
       "  </thead>\n",
       "  <tbody>\n",
       "    <tr>\n",
       "      <th>2020</th>\n",
       "      <td>100.000000</td>\n",
       "      <td>110.000000</td>\n",
       "      <td>100.000000</td>\n",
       "      <td>110.000000</td>\n",
       "    </tr>\n",
       "    <tr>\n",
       "      <th>2021</th>\n",
       "      <td>102.000000</td>\n",
       "      <td>112.200000</td>\n",
       "      <td>102.000000</td>\n",
       "      <td>112.200000</td>\n",
       "    </tr>\n",
       "    <tr>\n",
       "      <th>2022</th>\n",
       "      <td>104.040000</td>\n",
       "      <td>114.444000</td>\n",
       "      <td>104.040000</td>\n",
       "      <td>114.444000</td>\n",
       "    </tr>\n",
       "    <tr>\n",
       "      <th>2023</th>\n",
       "      <td>106.120800</td>\n",
       "      <td>116.732880</td>\n",
       "      <td>106.120800</td>\n",
       "      <td>116.732880</td>\n",
       "    </tr>\n",
       "    <tr>\n",
       "      <th>2024</th>\n",
       "      <td>108.243216</td>\n",
       "      <td>119.067538</td>\n",
       "      <td>108.243216</td>\n",
       "      <td>119.067538</td>\n",
       "    </tr>\n",
       "    <tr>\n",
       "      <th>2025</th>\n",
       "      <td>110.408080</td>\n",
       "      <td>121.448888</td>\n",
       "      <td>110.408080</td>\n",
       "      <td>121.448888</td>\n",
       "    </tr>\n",
       "  </tbody>\n",
       "</table>\n",
       "</div>"
      ],
      "text/plain": [
       "               A           B      A_ORIG      B_ORIG\n",
       "2020  100.000000  110.000000  100.000000  110.000000\n",
       "2021  102.000000  112.200000  102.000000  112.200000\n",
       "2022  104.040000  114.444000  104.040000  114.444000\n",
       "2023  106.120800  116.732880  106.120800  116.732880\n",
       "2024  108.243216  119.067538  108.243216  119.067538\n",
       "2025  110.408080  121.448888  110.408080  121.448888"
      ]
     },
     "execution_count": 24,
     "metadata": {},
     "output_type": "execute_result"
    }
   ],
   "source": [
    "df = pd.DataFrame(100,\n",
    "       index=[2020+v for v in range(number_of_rows)], # create row index\n",
    "       # equivalent to index=[2020,2021,2022,2023,2024,2025] \n",
    "       columns=['A','B']) \n",
    "\n",
    "df=df.upd(\"\"\"<2021 -1> A =growth 2\n",
    "           <2020 -1>   B = 110\n",
    "          <2021 -1>    B =growth 2\n",
    "          \"\"\")\n",
    "# Store these variables for later use in comparisons\n",
    "df['A_ORIG']=df['A']\n",
    "df['B_ORIG']=df['B']\n",
    "df\n"
   ]
  },
  {
   "cell_type": "code",
   "execution_count": 25,
   "id": "89c2fb4a",
   "metadata": {},
   "outputs": [
    {
     "data": {
      "image/png": "[encoded data removed]",
      "text/plain": [
       "<Figure size 640x480 with 1 Axes>"
      ]
     },
     "metadata": {},
     "output_type": "display_data"
    }
   ],
   "source": [
    "df[['A','B']].plot();"
   ]
  },
  {
   "cell_type": "markdown",
   "id": "56ccf5d7",
   "metadata": {},
   "source": [
    "Now lets modify each by adding 5 to the level in 2022 and 2023.  \n",
    " - For 'B' we set the keep_growth option as False \n",
    " - for 'A' we set the keep_growth True.  "
   ]
  },
  {
   "cell_type": "code",
   "execution_count": 26,
   "id": "e2f38e7e",
   "metadata": {},
   "outputs": [
    {
     "data": {
      "image/png": "[encoded data removed]",
      "text/plain": [
       "<Figure size 640x480 with 1 Axes>"
      ]
     },
     "metadata": {},
     "output_type": "display_data"
    }
   ],
   "source": [
    "df=df.upd(\"\"\"\n",
    "            <2022 2023> A + 5 --kg\n",
    "            <2022 2023> B + 5 --nkg\n",
    "            \"\"\")\n",
    "\n",
    "df[['A','B','A_ORIG','B_ORIG']].plot();\n",
    "    "
   ]
  },
  {
   "cell_type": "markdown",
   "id": "94df6758",
   "metadata": {},
   "source": [
    "In the first example 'A' (the green and blue lines) the level of A is increased by 5 for two periods (2021-2022). The subsequent values are also increased and they were calculated to maintain the growth rate of the original series.\n",
    "\n",
    "For the 'B' variable the same level change was input but because of the `--nkg` (equivalent to `keep_growth=False`) the periods after the change were unaffected and retained their old values.\n",
    "\n",
    "Below are plots the growth rates of the two transformed series.\n",
    "\n",
    "Here the growth in both series accelerates in 2022, by slightly less than 5 percentage points because a) the base of each is more than 100, with the base of B being higher (it was initialized at 110). In 2023 the growth rate of A returns to 2 percent, while the growth rate of B is actually negative because the level (see earlier graph) has fallen back to its original level."
   ]
  },
  {
   "cell_type": "code",
   "execution_count": 27,
   "id": "900aa23c",
   "metadata": {},
   "outputs": [
    {
     "data": {
      "image/png": "[encoded data removed]",
      "text/plain": [
       "<Figure size 640x480 with 1 Axes>"
      ]
     },
     "metadata": {},
     "output_type": "display_data"
    }
   ],
   "source": [
    "dfg=df[['A','B']].pct_change()*100\n",
    "dfg.plot();"
   ]
  },
  {
   "cell_type": "markdown",
   "id": "74baea9b",
   "metadata": {
    "slideshow": {
     "slide_type": "slide"
    }
   },
   "source": [
    "### .upd(,,,keep_growth) some more examples\n",
    "\n",
    "\n",
    "\n"
   ]
  },
  {
   "cell_type": "markdown",
   "id": "6c2daca9",
   "metadata": {
    "slideshow": {
     "slide_type": "slide"
    }
   },
   "source": [
    "###  Initialize a new dataframe First make a dataframe with some growth rate "
   ]
  },
  {
   "cell_type": "code",
   "execution_count": 19,
   "id": "9727ce3b",
   "metadata": {},
   "outputs": [
    {
     "name": "stdout",
     "output_type": "stream",
     "text": [
      "Levels:\n",
      "               A\n",
      "2020  100.000000\n",
      "2021  101.000000\n",
      "2022  103.020000\n",
      "2023  106.110600\n",
      "2024  110.355024\n",
      "2025  115.872775\n",
      "\n",
      "Growth:\n",
      "        A\n",
      "2020  NaN\n",
      "2021  1.0\n",
      "2022  2.0\n",
      "2023  3.0\n",
      "2024  4.0\n",
      "2025  5.0\n",
      "\n"
     ]
    }
   ],
   "source": [
    "\n",
    "# instantiate a new dataframe with one column 'A' with value 100 everywhere and index 2020-2025\n",
    "dftest = pd.DataFrame(100,\n",
    "       index=[2020+v for v in range(number_of_rows)], # create row index\n",
    "       # equivalent to index=[2020,2021,2022,2023,2024,2025] \n",
    "       columns=['A'])                                 # create column name \n",
    "\n",
    "# Update a to have growth rate accelerationg linearly by 1 from 1 percent to 5 percent\n",
    "original = dftest.upd('<2021 2025> a =growth 1 2 3 4 5')  \n",
    "print(f'Levels:\\n{original}\\n\\nGrowth:\\n{original.pct_change()*100}\\n')"
   ]
  },
  {
   "cell_type": "markdown",
   "id": "88e301b2",
   "metadata": {
    "slideshow": {
     "slide_type": "slide"
    }
   },
   "source": [
    "### now update A in 2021 to 2023 to a new value\n",
    "\n",
    "Below performs the same operation, the first time the updated value is assigned to the `dataframe` `nkg` and the default behaviour of ```keep_growth``` is ```False```\n",
    "\n",
    "In the second example the ```-kg``` line option is specified, telling modelflow to maintain the growth rates of the dependent variable in the periods after the update is executed."
   ]
  },
  {
   "cell_type": "code",
   "execution_count": 40,
   "id": "4c7baf80",
   "metadata": {
    "scrolled": true
   },
   "outputs": [
    {
     "name": "stdout",
     "output_type": "stream",
     "text": [
      "Levels\n",
      "          KG        NOKG\n",
      "2020  100.00  100.000000\n",
      "2021  120.00  120.000000\n",
      "2022  120.00  120.000000\n",
      "2023  120.00  120.000000\n",
      "2024  124.80  110.355024\n",
      "2025  131.04  115.872775\n",
      "\n",
      "growth\n",
      "        KG      NOKG\n",
      "2020   NaN       NaN\n",
      "2021  20.0  20.00000\n",
      "2022   0.0   0.00000\n",
      "2023   0.0   0.00000\n",
      "2024   4.0  -8.03748\n",
      "2025   5.0   5.00000\n"
     ]
    }
   ],
   "source": [
    "nokg = original.upd('''\n",
    "<2021 2025>  a =growth 1 2 3 4 5 \n",
    "<2021 2023>  a = 120  \n",
    "''',lprint=0)\n",
    "\n",
    "kg = original.upd('''\n",
    "<2021 2025>  a =growth 1 2 3 4 5 \n",
    "<2021 2023>  a = 120  --kg\n",
    "''',lprint=0)\n",
    "\n",
    "\n",
    "kg=kg.rename(columns={\"A\":\"KG\"})       #rename cols to facilitate display\n",
    "nokg=nokg.rename(columns={\"A\":\"NOKG\"}) #rename cols to facilitate display\n",
    "\n",
    "combo=pd.concat([kg,nokg], axis=1)\n",
    "combo\n",
    "\n",
    "\n",
    "print(f'Levels\\n{combo}\\n\\nGrowth\\n{combo.pct_change()*100}')"
   ]
  },
  {
   "cell_type": "markdown",
   "id": "64c953ee",
   "metadata": {},
   "source": [
    ":::{note} In the first example where KG (keep_growth) **was not set**, because the level was set constant for three periods at 120 the rate of growth was 0 for the final two years of the set period.  But following this update, the level of A in 2023 is 120. With ```keep_Growth=False``` (its default value)m the level of A in 2024 remains at its unchanged  unchanged (lower) level of 100.35. As a result, the growth rate in 2024 is negative.\n",
    "\n",
    "In the **--kg** example, the pre-exsting growth rate (of 4%) is applied to the new value of 120 and so the level in 2024 is (120\\*1.04)=124.8 and 2025 is 131.04.\n",
    ":::\n"
   ]
  },
  {
   "cell_type": "markdown",
   "id": "15d0f883",
   "metadata": {
    "slideshow": {
     "slide_type": "slide"
    }
   },
   "source": [
    "#### .upd() with the option keep_growth set globally\n",
    "\n",
    "Above the line level option `--keep_growth` or `--kg` was used to keep the growth rate(or not) for a given operation.\n",
    "\n",
    "This works because by default the option `Keep_growth` is set to false, implementing `--kg` at the line level temporarily set the keep_growth flag to  true for the specific line (and those following).\n",
    "\n",
    "The `keep_growth` flag can also be set globally for all the lines by setting the option in the command line.\n",
    "\n",
    " ```keep_growth=True```.\n",
    "\n",
    "Now as default, all lines will keep the growth rate (unless overridden at the line level with `--nkg` or `--no_keep_growth`.\n",
    " - c,d are updated in 2022 and 2023 and keep the growth rates afterwards\n",
    " - e the `--no_keep_growth` in this line prevents the updating 2024-2025"
   ]
  },
  {
   "cell_type": "code",
   "execution_count": 28,
   "id": "c4dc225f",
   "metadata": {},
   "outputs": [
    {
     "data": {
      "text/html": [
       "<div>\n",
       "<style scoped>\n",
       "    .dataframe tbody tr th:only-of-type {\n",
       "        vertical-align: middle;\n",
       "    }\n",
       "\n",
       "    .dataframe tbody tr th {\n",
       "        vertical-align: top;\n",
       "    }\n",
       "\n",
       "    .dataframe thead th {\n",
       "        text-align: right;\n",
       "    }\n",
       "</style>\n",
       "<table border=\"1\" class=\"dataframe\">\n",
       "  <thead>\n",
       "    <tr style=\"text-align: right;\">\n",
       "      <th></th>\n",
       "      <th>A</th>\n",
       "      <th>B</th>\n",
       "      <th>A_ORIG</th>\n",
       "      <th>B_ORIG</th>\n",
       "    </tr>\n",
       "  </thead>\n",
       "  <tbody>\n",
       "    <tr>\n",
       "      <th>2020</th>\n",
       "      <td>100.000000</td>\n",
       "      <td>110.000000</td>\n",
       "      <td>100.000000</td>\n",
       "      <td>110.000000</td>\n",
       "    </tr>\n",
       "    <tr>\n",
       "      <th>2021</th>\n",
       "      <td>102.000000</td>\n",
       "      <td>112.200000</td>\n",
       "      <td>102.000000</td>\n",
       "      <td>112.200000</td>\n",
       "    </tr>\n",
       "    <tr>\n",
       "      <th>2022</th>\n",
       "      <td>109.040000</td>\n",
       "      <td>119.444000</td>\n",
       "      <td>104.040000</td>\n",
       "      <td>114.444000</td>\n",
       "    </tr>\n",
       "    <tr>\n",
       "      <th>2023</th>\n",
       "      <td>111.120800</td>\n",
       "      <td>121.732880</td>\n",
       "      <td>106.120800</td>\n",
       "      <td>116.732880</td>\n",
       "    </tr>\n",
       "    <tr>\n",
       "      <th>2024</th>\n",
       "      <td>113.343216</td>\n",
       "      <td>119.067538</td>\n",
       "      <td>108.243216</td>\n",
       "      <td>119.067538</td>\n",
       "    </tr>\n",
       "    <tr>\n",
       "      <th>2025</th>\n",
       "      <td>115.610080</td>\n",
       "      <td>121.448888</td>\n",
       "      <td>110.408080</td>\n",
       "      <td>121.448888</td>\n",
       "    </tr>\n",
       "  </tbody>\n",
       "</table>\n",
       "</div>"
      ],
      "text/plain": [
       "               A           B      A_ORIG      B_ORIG\n",
       "2020  100.000000  110.000000  100.000000  110.000000\n",
       "2021  102.000000  112.200000  102.000000  112.200000\n",
       "2022  109.040000  119.444000  104.040000  114.444000\n",
       "2023  111.120800  121.732880  106.120800  116.732880\n",
       "2024  113.343216  119.067538  108.243216  119.067538\n",
       "2025  115.610080  121.448888  110.408080  121.448888"
      ]
     },
     "execution_count": 28,
     "metadata": {},
     "output_type": "execute_result"
    }
   ],
   "source": [
    "# Create a data frame\n",
    "dftest = pd.DataFrame(100,\n",
    "       index=[2020+v for v in range(number_of_rows)], # create row index\n",
    "       # equivalent to index=[2020,2021,2022,2023,2024,2025] \n",
    "       columns=['A','B','C','D','E'])                                 # create column name \n",
    "df"
   ]
  },
  {
   "cell_type": "code",
   "execution_count": 29,
   "id": "7af30e3a",
   "metadata": {
    "slideshow": {
     "slide_type": "subslide"
    }
   },
   "outputs": [
    {
     "name": "stdout",
     "output_type": "stream",
     "text": [
      "Dataframe:\n",
      "        A    B      C      D    E\n",
      "2020  100  100  100.0  100.0  100\n",
      "2021  100  100  100.0  100.0  100\n",
      "2022  100  100  200.0  300.0  400\n",
      "2023  100  100  200.0  300.0  400\n",
      "2024  100  100  200.0  300.0  100\n",
      "2025  100  100  200.0  300.0  100\n",
      "\n",
      "Growth:\n",
      "        A    B      C      D      E\n",
      "2020  NaN  NaN    NaN    NaN    NaN\n",
      "2021  0.0  0.0    0.0    0.0    0.0\n",
      "2022  0.0  0.0  100.0  200.0  300.0\n",
      "2023  0.0  0.0    0.0    0.0    0.0\n",
      "2024  0.0  0.0    0.0    0.0  -75.0\n",
      "2025  0.0  0.0    0.0    0.0    0.0\n",
      "\n"
     ]
    }
   ],
   "source": [
    "dfres = dftest.upd('''\n",
    "<2022 2023> c = 200 \n",
    "<2022 2023> d = 300  \n",
    "<2022 2023> e = 400  --no_keep_growth \n",
    "''',keep_growth=True)  # <=  Set keep_growth to True for the entirety of the command, \n",
    "                       # except for e where it is overridden by the --no_keep_growth flag\n",
    "print(f'Dataframe:\\n{dfres}\\n\\nGrowth:\\n{dfres.pct_change()*100}\\n')"
   ]
  },
  {
   "cell_type": "markdown",
   "id": "24b7547c",
   "metadata": {
    "cell_style": "center",
    "slideshow": {
     "slide_type": "slide"
    }
   },
   "source": [
    "### Update several variable in one line \n",
    "Sometime there is a need to update several variable with the same value over the same time frame. To ease this case .update can accept several variables in one line"
   ]
  },
  {
   "cell_type": "code",
   "execution_count": 24,
   "id": "57c51934",
   "metadata": {},
   "outputs": [
    {
     "data": {
      "text/html": [
       "<div>\n",
       "<style scoped>\n",
       "    .dataframe tbody tr th:only-of-type {\n",
       "        vertical-align: middle;\n",
       "    }\n",
       "\n",
       "    .dataframe tbody tr th {\n",
       "        vertical-align: top;\n",
       "    }\n",
       "\n",
       "    .dataframe thead th {\n",
       "        text-align: right;\n",
       "    }\n",
       "</style>\n",
       "<table border=\"1\" class=\"dataframe\">\n",
       "  <thead>\n",
       "    <tr style=\"text-align: right;\">\n",
       "      <th></th>\n",
       "      <th>A</th>\n",
       "      <th>B</th>\n",
       "      <th>H</th>\n",
       "      <th>I</th>\n",
       "      <th>J</th>\n",
       "      <th>K</th>\n",
       "      <th>P</th>\n",
       "      <th>Q</th>\n",
       "      <th>R</th>\n",
       "      <th>S</th>\n",
       "    </tr>\n",
       "  </thead>\n",
       "  <tbody>\n",
       "    <tr>\n",
       "      <th>2020</th>\n",
       "      <td>100</td>\n",
       "      <td>100.0</td>\n",
       "      <td>0.0</td>\n",
       "      <td>0.0</td>\n",
       "      <td>0.0</td>\n",
       "      <td>0.0</td>\n",
       "      <td>1000.000000</td>\n",
       "      <td>1000.000000</td>\n",
       "      <td>1000.000000</td>\n",
       "      <td>1000.000000</td>\n",
       "    </tr>\n",
       "    <tr>\n",
       "      <th>2021</th>\n",
       "      <td>100</td>\n",
       "      <td>100.0</td>\n",
       "      <td>0.0</td>\n",
       "      <td>0.0</td>\n",
       "      <td>0.0</td>\n",
       "      <td>0.0</td>\n",
       "      <td>1020.000000</td>\n",
       "      <td>1020.000000</td>\n",
       "      <td>1020.000000</td>\n",
       "      <td>1020.000000</td>\n",
       "    </tr>\n",
       "    <tr>\n",
       "      <th>2022</th>\n",
       "      <td>100</td>\n",
       "      <td>100.0</td>\n",
       "      <td>40.0</td>\n",
       "      <td>40.0</td>\n",
       "      <td>40.0</td>\n",
       "      <td>40.0</td>\n",
       "      <td>1040.400000</td>\n",
       "      <td>1040.400000</td>\n",
       "      <td>1040.400000</td>\n",
       "      <td>1040.400000</td>\n",
       "    </tr>\n",
       "    <tr>\n",
       "      <th>2023</th>\n",
       "      <td>100</td>\n",
       "      <td>100.0</td>\n",
       "      <td>40.0</td>\n",
       "      <td>40.0</td>\n",
       "      <td>40.0</td>\n",
       "      <td>40.0</td>\n",
       "      <td>1061.208000</td>\n",
       "      <td>1061.208000</td>\n",
       "      <td>1061.208000</td>\n",
       "      <td>1061.208000</td>\n",
       "    </tr>\n",
       "    <tr>\n",
       "      <th>2024</th>\n",
       "      <td>100</td>\n",
       "      <td>100.0</td>\n",
       "      <td>40.0</td>\n",
       "      <td>40.0</td>\n",
       "      <td>40.0</td>\n",
       "      <td>40.0</td>\n",
       "      <td>1082.432160</td>\n",
       "      <td>1082.432160</td>\n",
       "      <td>1082.432160</td>\n",
       "      <td>1082.432160</td>\n",
       "    </tr>\n",
       "    <tr>\n",
       "      <th>2025</th>\n",
       "      <td>100</td>\n",
       "      <td>100.0</td>\n",
       "      <td>0.0</td>\n",
       "      <td>0.0</td>\n",
       "      <td>0.0</td>\n",
       "      <td>0.0</td>\n",
       "      <td>1104.080803</td>\n",
       "      <td>1104.080803</td>\n",
       "      <td>1104.080803</td>\n",
       "      <td>1104.080803</td>\n",
       "    </tr>\n",
       "  </tbody>\n",
       "</table>\n",
       "</div>"
      ],
      "text/plain": [
       "        A      B     H     I     J     K            P            Q  \\\n",
       "2020  100  100.0   0.0   0.0   0.0   0.0  1000.000000  1000.000000   \n",
       "2021  100  100.0   0.0   0.0   0.0   0.0  1020.000000  1020.000000   \n",
       "2022  100  100.0  40.0  40.0  40.0  40.0  1040.400000  1040.400000   \n",
       "2023  100  100.0  40.0  40.0  40.0  40.0  1061.208000  1061.208000   \n",
       "2024  100  100.0  40.0  40.0  40.0  40.0  1082.432160  1082.432160   \n",
       "2025  100  100.0   0.0   0.0   0.0   0.0  1104.080803  1104.080803   \n",
       "\n",
       "                R            S  \n",
       "2020  1000.000000  1000.000000  \n",
       "2021  1020.000000  1020.000000  \n",
       "2022  1040.400000  1040.400000  \n",
       "2023  1061.208000  1061.208000  \n",
       "2024  1082.432160  1082.432160  \n",
       "2025  1104.080803  1104.080803  "
      ]
     },
     "execution_count": 24,
     "metadata": {},
     "output_type": "execute_result"
    }
   ],
   "source": [
    "df.upd('''\n",
    "<2022 2024> h i j k =      40      # earlier values are set to zero by default\n",
    "<2020>      p q r s =       1000   # All values beginning in 2020 set to 1000\n",
    "<2021 -1>   p q r s =growth 2      # -1 indicates the last year of dataframe\n",
    "''')"
   ]
  },
  {
   "cell_type": "markdown",
   "id": "1ba374fd",
   "metadata": {
    "slideshow": {
     "slide_type": "slide"
    }
   },
   "source": [
    "### .upd(,,scale=\\<number, default=1>) Scale the updates \n",
    "When running a scenario it can be useful to be able to create a number of scenarios based on one update but with different scale. \n",
    "\n",
    "This can be particularly useful when we want to do sensitivity analyses of model results, depending on how heavily a shocked variable is hit\n",
    "\n",
    "When using the scale option, scale=0  the baseline while scale=0.5 is a scenario half \n",
    "the severity.  \n",
    "\n",
    "In the example below the values of the dataframes are printed. We use the scale option (setting to to 0, 0.5 and 1) to run three scenarios using the same code but where the update in each case is multiplied by either 0, 0.5 or 1.\n",
    ":::{note}\n",
    "Here we are just printing the outputs, a more interesting example would involve the solving a  model using different levels of a given shock. \n",
    ":::"
   ]
  },
  {
   "cell_type": "code",
   "execution_count": 25,
   "id": "6b8bf024",
   "metadata": {
    "scrolled": true,
    "slideshow": {
     "slide_type": "slide"
    }
   },
   "outputs": [
    {
     "name": "stdout",
     "output_type": "stream",
     "text": [
      "input dataframe: \n",
      "        A      B\n",
      "2020  100  100.0\n",
      "2021  100  100.0\n",
      "2022  100  100.0\n",
      "2023  100  100.0\n",
      "2024  100  100.0\n",
      "2025  100  100.0\n",
      "\n",
      "\n",
      "severity=0\n",
      "Dataframe:\n",
      "        A      B\n",
      "2020  100  100.0\n",
      "2021  100  100.0\n",
      "2022  100  100.0\n",
      "2023  100  100.0\n",
      "2024  100  100.0\n",
      "2025  100  100.0\n",
      "\n",
      "Growth:\n",
      "        A    B\n",
      "2020  NaN  NaN\n",
      "2021  0.0  0.0\n",
      "2022  0.0  0.0\n",
      "2023  0.0  0.0\n",
      "2024  0.0  0.0\n",
      "2025  0.0  0.0\n",
      "\n",
      "\n",
      "severity=0.5\n",
      "Dataframe:\n",
      "               A      B\n",
      "2020  100.000000  100.0\n",
      "2021  100.500000  105.0\n",
      "2022  101.505000  105.0\n",
      "2023  103.027575  105.0\n",
      "2024  105.088126  105.0\n",
      "2025  107.715330  105.0\n",
      "\n",
      "Growth:\n",
      "        A    B\n",
      "2020  NaN  NaN\n",
      "2021  0.5  5.0\n",
      "2022  1.0  0.0\n",
      "2023  1.5  0.0\n",
      "2024  2.0  0.0\n",
      "2025  2.5  0.0\n",
      "\n",
      "\n",
      "severity=1\n",
      "Dataframe:\n",
      "               A      B\n",
      "2020  100.000000  100.0\n",
      "2021  101.000000  110.0\n",
      "2022  103.020000  110.0\n",
      "2023  106.110600  110.0\n",
      "2024  110.355024  110.0\n",
      "2025  115.872775  110.0\n",
      "\n",
      "Growth:\n",
      "        A     B\n",
      "2020  NaN   NaN\n",
      "2021  1.0  10.0\n",
      "2022  2.0   0.0\n",
      "2023  3.0   0.0\n",
      "2024  4.0   0.0\n",
      "2025  5.0   0.0\n",
      "\n",
      "\n"
     ]
    }
   ],
   "source": [
    "print(f'input dataframe: \\n{df}\\n\\n')\n",
    "for severity in [0,0.5,1]: \n",
    "    # First make a dataframe with some growth rate \n",
    "    res = df.upd('''\n",
    "    <2021 2025>\n",
    "    a =growth 1 2 3 4 5 \n",
    "    b + 10\n",
    "    ''',scale=severity)\n",
    "    print(f'{severity=}\\nDataframe:\\n{res}\\n\\nGrowth:\\n{res.pct_change()*100}\\n\\n')\n",
    "    #  \n",
    "    # Here the updated dataframe is only printed. \n",
    "    # A more realistic use case is to simulate a model like this: \n",
    "    # dummy_ = mpak(res,keep='Severity {serverity}')    # more realistic "
   ]
  },
  {
   "cell_type": "markdown",
   "id": "4ce36e79",
   "metadata": {
    "slideshow": {
     "slide_type": "slide"
    }
   },
   "source": [
    "### .upd(,,lprint=True ) prints values the before and after update  \n",
    "\n",
    "The ```lPrint``` option of the method ```upd()``` is by defualt ```= False```.  By setting it true an update command will output the results of the calculation comapriong the values of the dataframe (over the impacted period) before, after and the difference between the two.\n",
    "\n"
   ]
  },
  {
   "cell_type": "code",
   "execution_count": 26,
   "id": "a189471d",
   "metadata": {
    "scrolled": true
   },
   "outputs": [
    {
     "name": "stdout",
     "output_type": "stream",
     "text": [
      "Update * [42.0, 44.0] 2021 2022\n",
      "A                    Before                After                 Diff\n",
      "2021               100.0000            4200.0000            4100.0000\n",
      "2022               100.0000            4400.0000            4300.0000\n"
     ]
    },
    {
     "data": {
      "text/html": [
       "<div>\n",
       "<style scoped>\n",
       "    .dataframe tbody tr th:only-of-type {\n",
       "        vertical-align: middle;\n",
       "    }\n",
       "\n",
       "    .dataframe tbody tr th {\n",
       "        vertical-align: top;\n",
       "    }\n",
       "\n",
       "    .dataframe thead th {\n",
       "        text-align: right;\n",
       "    }\n",
       "</style>\n",
       "<table border=\"1\" class=\"dataframe\">\n",
       "  <thead>\n",
       "    <tr style=\"text-align: right;\">\n",
       "      <th></th>\n",
       "      <th>A</th>\n",
       "      <th>B</th>\n",
       "    </tr>\n",
       "  </thead>\n",
       "  <tbody>\n",
       "    <tr>\n",
       "      <th>2020</th>\n",
       "      <td>100</td>\n",
       "      <td>100.0</td>\n",
       "    </tr>\n",
       "    <tr>\n",
       "      <th>2021</th>\n",
       "      <td>4200</td>\n",
       "      <td>100.0</td>\n",
       "    </tr>\n",
       "    <tr>\n",
       "      <th>2022</th>\n",
       "      <td>4400</td>\n",
       "      <td>100.0</td>\n",
       "    </tr>\n",
       "    <tr>\n",
       "      <th>2023</th>\n",
       "      <td>100</td>\n",
       "      <td>100.0</td>\n",
       "    </tr>\n",
       "    <tr>\n",
       "      <th>2024</th>\n",
       "      <td>100</td>\n",
       "      <td>100.0</td>\n",
       "    </tr>\n",
       "    <tr>\n",
       "      <th>2025</th>\n",
       "      <td>100</td>\n",
       "      <td>100.0</td>\n",
       "    </tr>\n",
       "  </tbody>\n",
       "</table>\n",
       "</div>"
      ],
      "text/plain": [
       "         A      B\n",
       "2020   100  100.0\n",
       "2021  4200  100.0\n",
       "2022  4400  100.0\n",
       "2023   100  100.0\n",
       "2024   100  100.0\n",
       "2025   100  100.0"
      ]
     },
     "execution_count": 26,
     "metadata": {},
     "output_type": "execute_result"
    }
   ],
   "source": [
    "df.upd('''\n",
    "# Same number of values as years\n",
    "<2021 2022> A *  42 44\n",
    "''',lprint=1)"
   ]
  },
  {
   "cell_type": "markdown",
   "id": "0cf2badb",
   "metadata": {
    "slideshow": {
     "slide_type": "slide"
    }
   },
   "source": [
    "### .upd(,,create=True ) Requires the variable to exist  \n",
    "Until now .upd has created variables if they did not exist in the input dataframe.\n",
    "\n",
    "To catch misspellings the parameter ```create``` can be set to False. \n",
    "New variables will not be created, and an exception will be raised. \n",
    "\n",
    "Here Pythons exception handling is used, so the notebook will continue to run the cells below. "
   ]
  },
  {
   "cell_type": "code",
   "execution_count": 27,
   "id": "f7c4d981",
   "metadata": {},
   "outputs": [
    {
     "name": "stdout",
     "output_type": "stream",
     "text": [
      "Variable to update not found:AA, timespan = [2021 2022] \n",
      "Set create=True if you want the variable created: \n"
     ]
    }
   ],
   "source": [
    "try:\n",
    "    xx = df.upd('''\n",
    "    # Same number of values as years\n",
    "    <2021 2022> Aa *  42 44\n",
    "    ''',create=False)\n",
    "    print(xx)\n",
    "except Exception as inst:\n",
    "    xx = None\n",
    "    print(inst) \n"
   ]
  }
 ],
 "metadata": {
  "celltoolbar": "Edit Metadata",
  "hide_input": false,
  "kernelspec": {
   "display_name": "Python 3 (ipykernel)",
   "language": "python",
   "name": "python3"
  },
  "language_info": {
   "codemirror_mode": {
    "name": "ipython",
    "version": 3
   },
   "file_extension": ".py",
   "mimetype": "text/x-python",
   "name": "python",
   "nbconvert_exporter": "python",
   "pygments_lexer": "ipython3",
   "version": "3.10.11"
  },
  "toc": {
   "base_numbering": 1,
   "nav_menu": {},
   "number_sections": true,
   "sideBar": true,
   "skip_h1_title": true,
   "title_cell": "Table of Contents",
   "title_sidebar": "Contents",
   "toc_cell": false,
   "toc_position": {
    "height": "calc(100% - 180px)",
    "left": "10px",
    "top": "150px",
    "width": "183px"
   },
   "toc_section_display": true,
   "toc_window_display": true
  },
  "varInspector": {
   "cols": {
    "lenName": 16,
    "lenType": 16,
    "lenVar": 40
   },
   "kernels_config": {
    "python": {
     "delete_cmd_postfix": "",
     "delete_cmd_prefix": "del ",
     "library": "var_list.py",
     "varRefreshCmd": "print(var_dic_list())"
    },
    "r": {
     "delete_cmd_postfix": ") ",
     "delete_cmd_prefix": "rm(",
     "library": "var_list.r",
     "varRefreshCmd": "cat(var_dic_list()) "
    }
   },
   "types_to_exclude": [
    "module",
    "function",
    "builtin_function_or_method",
    "instance",
    "_Feature"
   ],
   "window_display": false
  }
 },
 "nbformat": 4,
 "nbformat_minor": 5
}
