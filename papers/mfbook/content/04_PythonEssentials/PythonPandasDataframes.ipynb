{
 "cells": [
  {
   "cell_type": "markdown",
   "id": "d238e6dc",
   "metadata": {},
   "source": [
    "# Some Python basics\n",
    "\n",
    "Before using `modelflow` with the World Bank's MFMod models, users  will have to understand at least some basic elements of `python` syntax and usage.  Notably they will need to understand about packages, libraries and classes, how to access them. \n",
    "\n",
    "## Starting python in windows\n",
    "\n",
    "To begin using `modelflow`, python itself needs to be started.  This can be done either using the `Anaconda` navigator or from the command line shell. In either case, the user will need to start python and select the `modelflow` environment. \n",
    "\n",
    "```{warning}\n",
    "*** Ib recipie, no navigator the -old version is saved \n",
    "```\n",
    "\n",
    "## Starting a Python session with modelflow.\n",
    "\n",
    "This can be done by starting the ```Anaconda Prompt (miniconda3)``` app. This will create a command window with a base python environment. Now you want to change the environment to the modelflow environment. This is done like this: \n",
    "\n",
    "```\n",
    "conda activate modelflow\n",
    "\n",
    "```\n",
    "\n",
    "Now we are ready to start jupyter by: \n",
    "\n",
    "```\n",
    "cd <path where you want to start> \n",
    "jupyter notebook\n",
    "```"
   ]
  },
  {
   "cell_type": "markdown",
   "id": "5a9b03fd",
   "metadata": {},
   "source": [
    " \n",
    "## Start python from command line \n",
    "\n",
    "First you have to make anaconda/conda active this is done by opening a command prompt and issue: \n",
    "\n",
    "> %userPROFILE%\\miniconda3\\Scripts\\activate.bat \n",
    "\n",
    "Then the modelflow enviroment has to be activated in order to get access to the library this is done like this: \n",
    "\n"
   ]
  },
  {
   "cell_type": "markdown",
   "id": "ca3c20e8",
   "metadata": {},
   "source": [
    "## Python  packages, libraries and classes\n",
    "\n",
    "Some features of `python` are built-in out-of-the-box.  Others build up on these basic features.\n",
    "\n",
    "A **python class** is a code template that defines a python object. Classes can have properties [variables or data] associated with them and methods (behaviours or functions) associated with them. In python a class is created by the keyword class. An object of type class is created (instantiated) using the class's \"constructor\" -- a special method that creates an object that is an instance of a class.\n",
    "\n",
    "A **module** is a Python object consisting of Python code. A module can define functions, classes and variables. A module can also include runnable code.\n",
    "\n",
    "A **python package** is a collection of modules that are related to each other. When a module from an external package is required by a program, that package (or module in the package) must  be **imported** into the current session for its modules can be put to use.  \n",
    "\n",
    "A **python library** is a collection of related modules or packages. \n",
    "\n",
    "\n",
    "`Modelflow` is a python package that *inherits* (build on or adds to) the methods and properties of other `python` classes like `pandas`, `numpy` and `mathplotlib`.\n",
    "\n",
    "```{note}\n",
    "In modelflow the model is a class and we can create an instance of a model (an object filled with the characteristics of the class) by executing the code ```mymodel = model(myformulas)``` see below for a working example.\n",
    "```\n",
    "## Importing packages, libraries, modules and classes\n",
    "\n",
    "Some libraries, packages, and modules are part of the core python package and will be available (importable) from the get-go.  Others are not, and need to be installed before importing them into a session.\n",
    "\n",
    "If you followed the modelflow installation instructions you have already downloaded and installed on your computer all the packages necessary for running World Bank models under modelflow.  But to work with them in a given Jupyter Notebook session or in a program context, you will also need to ```import``` them into your session before you call them.  \n",
    "\n",
    ":::{note}\n",
    "**Installation** of a package is not the same as **import**ing a package. To be imported a package must be installed once on the computer that wishes to use it.  Once it has been installed, the package must be imported into each python session where it is to be used.\n",
    ":::\n",
    "\n",
    "Typically a python program will start with the importation of the libraries, classes and modules that will be used.  Because a Jupyter Notebook is essentially a heavily annotated program, it also requires that packages used be imported.\n",
    "\n",
    "As described above packages, libraries and modules are containers that can include other elements.  Take for example the package Math.\n",
    "\n",
    "To import the Math Package we execute the command ``` import math```.  Having done that we can can call the functions and data that are defined in it."
   ]
  },
  {
   "cell_type": "code",
   "execution_count": 1,
   "id": "04d078bf",
   "metadata": {},
   "outputs": [
    {
     "data": {
      "text/plain": [
       "3.141592653589793"
      ]
     },
     "execution_count": 1,
     "metadata": {},
     "output_type": "execute_result"
    }
   ],
   "source": [
    "# the \"#\"\" in a code cell indicates a comment, test after the # will not be executed\n",
    "import math\n",
    "\n",
    "# Now that we have imported math we can access some of the elements identified in the package, \n",
    "# For example math contains a definition for pi, we can access that by executing the pi method \n",
    "# of the library math\n",
    "math.pi"
   ]
  },
  {
   "cell_type": "markdown",
   "id": "74b9d4a5",
   "metadata": {},
   "source": [
    "### Import specific elements or classes from a module or library\n",
    "\n",
    "The python package ```math``` contains several functions and classes.  \n",
    "\n",
    "If I want I can import them directly. Then when I call them I will not have to precede them with the name of their libary. to do this I use the **from** syntax.  ```from math import pi,cos,sin``` will import the pi constant and the two functions cos and sin and allow me to call them directly.\n",
    "\n",
    "Compared these calls with the one in the preceding section -- there the call to the method pi has to be preceded by its namespace designator math.  i.e. ```math.pi```. Below we import pi directly and can just call it with pi."
   ]
  },
  {
   "cell_type": "code",
   "execution_count": 2,
   "id": "d4e955d5",
   "metadata": {},
   "outputs": [
    {
     "name": "stdout",
     "output_type": "stream",
     "text": [
      "3.141592653589793\n",
      "-0.9899924966004454\n"
     ]
    }
   ],
   "source": [
    "from math import pi,cos,sin\n",
    "\n",
    "print(pi)\n",
    "print(cos(3))\n"
   ]
  },
  {
   "cell_type": "markdown",
   "id": "73614342",
   "metadata": {},
   "source": [
    "### import a class but give it an alias\n",
    "\n",
    "A class and instead of using its full name as above or it can be given an alias, that is hopefully shorter but still obvious enough that the user knows what class is being referred to.\n",
    "\n",
    "For example  ```import math as m``` allows a call to pi using the more succint syntax ```m.py```."
   ]
  },
  {
   "cell_type": "code",
   "execution_count": 3,
   "id": "f1249d17",
   "metadata": {},
   "outputs": [
    {
     "name": "stdout",
     "output_type": "stream",
     "text": [
      "3.141592653589793\n",
      "-0.9899924966004454\n"
     ]
    }
   ],
   "source": [
    "import math as m\n",
    "print(m.pi)\n",
    "print(m.cos(3))"
   ]
  },
  {
   "cell_type": "markdown",
   "id": "6ed95229",
   "metadata": {},
   "source": [
    "### Standard aliases\n",
    "\n",
    "Some packages are so frequently used that by convention they have been \"assigned\" specific aliases.\n",
    "\n",
    "For example:\n",
    "\n",
    "**Common aliases**\n",
    "\n",
    "|Alias|aliased package | example | functionalty|\n",
    "|:--|:--|:--|:--|\n",
    "|pd|pandas| import pandas as pd |Pandas are used for storing and retriveing data|\n",
    "|np|numpy| import numpy as np | Numpy gives access to some advanced mathematical features|\n",
    "\n",
    "\n",
    "You don't have to use those conventions but it will make your code easier to read by others who are familiar with it.\n"
   ]
  },
  {
   "cell_type": "markdown",
   "id": "4690e33d",
   "metadata": {},
   "source": [
    "\n",
    "\n",
    "# Introduction to Pandas dataframes\n",
    "\n",
    "Modelflow is built on top of the Pandas library. Pandas is the Swiss knife of data science and can perform an impressing array of date oriented tasks.\n",
    "\n",
    "This tutorial is a very short introduction to how pandas dataframes are used with Modelflow. For a more complete discussion see any of the many tutorials on the internet, notably:\n",
    "\n",
    "\n",
    "* [Pandas homepage](https://pandas.pydata.org/)\n",
    "* [Pandas community tutorials](https://pandas.pydata.org/pandas-docs/stable/getting_started/tutorials.html)\n",
    "\n"
   ]
  },
  {
   "cell_type": "markdown",
   "id": "96bb2474",
   "metadata": {
    "slideshow": {
     "slide_type": "slide"
    }
   },
   "source": [
    "## Import the pandas library\n",
    "\n",
    "As with any python program, in order to use a package or library it must first be imported into the session. As noted above, by  convention pandas is imported as pd "
   ]
  },
  {
   "cell_type": "code",
   "execution_count": 4,
   "id": "bda75630",
   "metadata": {},
   "outputs": [],
   "source": [
    "import pandas as pd "
   ]
  },
  {
   "cell_type": "markdown",
   "id": "2ba9c04b",
   "metadata": {},
   "source": [
    "Pandas, like any library, contains many classes and methods.  The discussion below focuses on **Series** and **DataFrames** two classes that are part of the pandas library.  Both `series` and `dataframes` are containers that can be used to store time-series data and that have associated with them a number of very useful methods for displaying and manipulating time-series data.  \n",
    "Unlike other statistical packages neither `series` nor `dataframes` are inherently or exclusively time-series in nature.  `Modelflow` and macro-economists use them in this way, but the classes themselves are not dated in anyway out-of-the-box."
   ]
  },
  {
   "cell_type": "markdown",
   "id": "f5418bca",
   "metadata": {},
   "source": [
    "## The `Pandas` class `series`\n",
    "\n",
    "A pandas series is class that can be used to instantiate an object that holds a two dimensional array comprised of values and an index.\n",
    "\n",
    "The constructor for a `Series` object is ```pandas.Series()```.  The content inside the parentheses will determine the nature of the series-object generated.  As an object-oriented language Python supports ```overrides``` (which is to say a method can have more than one way in which it can be called). Specifically there can be different constructors defined for a class, depending on how the data that is to be used to initialize it is organized.\n",
    "\n",
    "### Series declared from a list\n",
    "\n",
    "The simplest way to create a Series is to pass an array of values as a Python list to the Series constructor.\n",
    "\n",
    "```{note} \n",
    "A list in python is a comma delimited collection of items.  It could be text, numbers or even more complex objects.  When declared (and returned) list are enclosed in square brackets.\n",
    "\n",
    "For example both of the following two lines are perfectly good examples of lists.\n",
    "\n",
    "mylist=[2,7,8,9]\n",
    "mylist2=[\"Some text\",\"Some more Text\",2,3]\n",
    "\n",
    "The list is entirely agnostic about the type of data it contains.\n",
    "\n",
    "```\n",
    "\n",
    "In the examples below Simplest, Simple and simple3 are all series -- although series3 which is derived from a list mixing text and numeric values would be hard to interpret as an economic series."
   ]
  },
  {
   "cell_type": "code",
   "execution_count": 5,
   "id": "4523455d",
   "metadata": {},
   "outputs": [
    {
     "data": {
      "text/plain": [
       "0    2\n",
       "1    3\n",
       "2    4\n",
       "3    5\n",
       "4    6\n",
       "dtype: int64"
      ]
     },
     "execution_count": 5,
     "metadata": {},
     "output_type": "execute_result"
    }
   ],
   "source": [
    "values=[7,8,9,10,11]\n",
    "weird=[\"Some text\",\"Some more Text\",2,3]\n",
    "\n",
    "# Here the constructor is passed a numeric list\n",
    "Simplest=pd.Series([2,3,4,5,6])\n",
    "Simplest\n",
    "\n"
   ]
  },
  {
   "cell_type": "code",
   "execution_count": 6,
   "id": "30c2e700",
   "metadata": {},
   "outputs": [
    {
     "data": {
      "text/plain": [
       "0     7\n",
       "1     8\n",
       "2     9\n",
       "3    10\n",
       "4    11\n",
       "dtype: int64"
      ]
     },
     "execution_count": 6,
     "metadata": {},
     "output_type": "execute_result"
    }
   ],
   "source": [
    "# In this case the constructor is passed a variable that contains a list\n",
    "simple2=pd.Series(values)\n",
    "simple2"
   ]
  },
  {
   "cell_type": "code",
   "execution_count": 7,
   "id": "e0928237",
   "metadata": {},
   "outputs": [
    {
     "data": {
      "text/plain": [
       "0         Some text\n",
       "1    Some more Text\n",
       "2                 2\n",
       "3                 3\n",
       "dtype: object"
      ]
     },
     "execution_count": 7,
     "metadata": {},
     "output_type": "execute_result"
    }
   ],
   "source": [
    "# Here the constructor is passed a variable containing a list that is a mix of \n",
    "# alphanumerics and numerical values\n",
    "simple3=pd.Series(weird)\n",
    "simple3"
   ]
  },
  {
   "cell_type": "markdown",
   "id": "09a3a928",
   "metadata": {},
   "source": [
    "Note that all three series have different length.  \n",
    "\n",
    "Moreover, constructed in this way (by passing a list to the constructor) each of these `Series` are automatically assigned a zero-based index (a numerial index that starts with 0).\n",
    "\n",
    "### Series declared using a specific index\n",
    "\n",
    "In this example the series Simple and Simple2 are recreated (overwritten), but this time an index is specified. Here the index is declared as a(nother) list. \n",
    "\n",
    "\n"
   ]
  },
  {
   "cell_type": "code",
   "execution_count": 8,
   "id": "e3ace6d9",
   "metadata": {},
   "outputs": [
    {
     "data": {
      "text/plain": [
       "1966    2\n",
       "1967    3\n",
       "1996    4\n",
       "1999    5\n",
       "2000    6\n",
       "dtype: int64"
      ]
     },
     "execution_count": 8,
     "metadata": {},
     "output_type": "execute_result"
    }
   ],
   "source": [
    "# In this example the constructor is given both the values \n",
    "# and specific values for the index\n",
    "Simplest=pd.Series([2,3,4,5,6],index=[1966,1967,1996,1999,2000])\n",
    "Simplest\n",
    "\n"
   ]
  },
  {
   "cell_type": "code",
   "execution_count": 9,
   "id": "455a514d",
   "metadata": {},
   "outputs": [
    {
     "data": {
      "text/plain": [
       "1966     7\n",
       "1967     8\n",
       "1996     9\n",
       "1999    10\n",
       "2000    11\n",
       "dtype: int64"
      ]
     },
     "execution_count": 9,
     "metadata": {},
     "output_type": "execute_result"
    }
   ],
   "source": [
    "simple2=pd.Series(values,index=[1966,1967,1996,1999,2000])\n",
    "simple2"
   ]
  },
  {
   "cell_type": "markdown",
   "id": "d22f9f32",
   "metadata": {},
   "source": [
    "Now the Series look more like time series data!\n",
    "\n",
    "### Create Series from a dictionary\n",
    "\n",
    "In python a dictionary is a data structure that is more generally known in computer science as an associative array. A dictionary consists of a collection of key-value pairs, where each key-value pair *maps* or *links* the key to its associated value.  \n",
    "\n",
    "```{note}\n",
    "A dictionary is enclosed in curly brackets {}, versus a list which is enclosed in square brackets[].\n",
    "```\n",
    "\n",
    "Thus mydict={\"1966\":2,\"1967\":3,\"1968\":4,\"1969\":5,\"2000\":-15} creates an object called mydict.   ```mydict```maps (or links) the key \"1966\" links to the value 2.\n",
    "```{note}\n",
    "In this example the Key was a string but we could just as easily made it a numerical value:  \n",
    "```\n",
    "\n",
    "mydict2={1966:2,1967:3,1968:4,1969:5,2000:-15} creates an object called mydict2 that links (maps) the key \"1966\" to the value 2.\n",
    "\n",
    "\n",
    "The series constructor also accepts a dictionary, and maps the key to the index of the Series. \n",
    "\n"
   ]
  },
  {
   "cell_type": "code",
   "execution_count": 10,
   "id": "7e7dd155",
   "metadata": {},
   "outputs": [
    {
     "data": {
      "text/plain": [
       "1966    2\n",
       "1967    3\n",
       "1968    4\n",
       "1969    5\n",
       "2000    6\n",
       "dtype: int64"
      ]
     },
     "execution_count": 10,
     "metadata": {},
     "output_type": "execute_result"
    }
   ],
   "source": [
    "mydict2={1966:2,1967:3,1968:4,1969:5,2000:6}\n",
    "simple2=pd.Series(mydict2)\n",
    "simple2"
   ]
  },
  {
   "cell_type": "markdown",
   "id": "0c17b9a3",
   "metadata": {},
   "source": [
    "## Properties and methods of `DataFrames` in `modelflow`\n",
    "\n",
    "Any class can have both properties (data) and methods (functions that operate on the data of the particular instance of the class). With object-oriented programming languages like python, classes can be built as supersets of existing classes. The `modelflow` class ```model``` inherits or encapsulates all of the features of the pandas dataframe and extends it in many important ways.  Some of the methods below are standard pandas methods, others have been added to it by `modelflow` features\n",
    "\n",
    "Much more detail on standard pandas dataframes can be found on the [official pandas website](https://pandas.pydata.org/docs/reference/frame.html)."
   ]
  },
  {
   "cell_type": "markdown",
   "id": "e92c7cd0",
   "metadata": {},
   "source": [
    "### `DataFrame`s\n",
    "The `DataFrame` is the primary structure of pandas and is a two-dimensional data structure with named rows and columns.  Each columns can have different data types (numeric, string, etc).\n",
    "\n",
    "By convention, a dataframe if often called df or some other modifier followed by df, to assist in reading the code.\n",
    "\n",
    "### Creating or instantiating a dataframe\n",
    "\n",
    "Like any object, a `DataFrame` can be created by calling the constructor of the pandas class `DataFrame`.  \n",
    "\n",
    "Each class has many constructors, so there are very many ways to create a `dataframe`. The `pandas.DataFrame()` method is constructor for the `DataFrame` class. It takes several forms (as with `Series`), but always returns an instance (instantiates) of a `DataFrame` object -- i.e. a variable whose contents are a `DataFrame`.\n",
    "\n",
    "The code example below creates a `DataFrame` of three columns A,B,C; indexed between 2019 and 2021.  Macroeconomists may interpret the index as dates, but for pandas they are just numbers.  \n",
    "\n",
    "Below a `DataFrame` named `df` is instantiated from a dictionary and assigned a specific index by passing a list of years as the index."
   ]
  },
  {
   "cell_type": "code",
   "execution_count": 11,
   "id": "44ea133a",
   "metadata": {},
   "outputs": [
    {
     "data": {
      "text/html": [
       "<div>\n",
       "<style scoped>\n",
       "    .dataframe tbody tr th:only-of-type {\n",
       "        vertical-align: middle;\n",
       "    }\n",
       "\n",
       "    .dataframe tbody tr th {\n",
       "        vertical-align: top;\n",
       "    }\n",
       "\n",
       "    .dataframe thead th {\n",
       "        text-align: right;\n",
       "    }\n",
       "</style>\n",
       "<table border=\"1\" class=\"dataframe\">\n",
       "  <thead>\n",
       "    <tr style=\"text-align: right;\">\n",
       "      <th></th>\n",
       "      <th>B</th>\n",
       "      <th>C</th>\n",
       "      <th>E</th>\n",
       "    </tr>\n",
       "  </thead>\n",
       "  <tbody>\n",
       "    <tr>\n",
       "      <th>2018</th>\n",
       "      <td>1</td>\n",
       "      <td>1</td>\n",
       "      <td>4</td>\n",
       "    </tr>\n",
       "    <tr>\n",
       "      <th>2019</th>\n",
       "      <td>1</td>\n",
       "      <td>2</td>\n",
       "      <td>4</td>\n",
       "    </tr>\n",
       "    <tr>\n",
       "      <th>2020</th>\n",
       "      <td>1</td>\n",
       "      <td>3</td>\n",
       "      <td>4</td>\n",
       "    </tr>\n",
       "    <tr>\n",
       "      <th>2021</th>\n",
       "      <td>1</td>\n",
       "      <td>6</td>\n",
       "      <td>4</td>\n",
       "    </tr>\n",
       "  </tbody>\n",
       "</table>\n",
       "</div>"
      ],
      "text/plain": [
       "      B  C  E\n",
       "2018  1  1  4\n",
       "2019  1  2  4\n",
       "2020  1  3  4\n",
       "2021  1  6  4"
      ]
     },
     "execution_count": 11,
     "metadata": {},
     "output_type": "execute_result"
    }
   ],
   "source": [
    "\n",
    "df = pd.DataFrame({'B': [1,1,1,1],'C':[1,2,3,6],'E':[4,4,4,4]},index=[2018,2019,2020,2021])\n",
    "df "
   ]
  },
  {
   "cell_type": "markdown",
   "id": "fda7e76e",
   "metadata": {},
   "source": [
    "```{note}\n",
    "In the `DataFrame`s that are used in macrostructural models like MFMod, each  column is often interpreted as a time-series of an economic variable. So in this dataframe,  normally A, B and C each be interpreted as economic time series. \n",
    "\n",
    "That said, there is nothing in the `DataFrame` class that suggests that the data it stores must be time-series or even numeric in nature.\n",
    "\n",
    "```"
   ]
  },
  {
   "cell_type": "markdown",
   "id": "f2ccec8e",
   "metadata": {},
   "source": [
    "### Adding a column to a dataframe\n",
    "\n",
    "If a value is assigned to a column that does not exist, pandas will add a column with that name and fill it with values resulting from  the calculation.\n",
    "\n",
    ":::{note}\n",
    "\n",
    "The size of the object assigned to the new column must match the size (number of rows) of the pre-existing `DataFarame`.\n",
    ":::\n",
    "\n"
   ]
  },
  {
   "cell_type": "code",
   "execution_count": 12,
   "id": "85c07ea6",
   "metadata": {},
   "outputs": [
    {
     "data": {
      "text/html": [
       "<div>\n",
       "<style scoped>\n",
       "    .dataframe tbody tr th:only-of-type {\n",
       "        vertical-align: middle;\n",
       "    }\n",
       "\n",
       "    .dataframe tbody tr th {\n",
       "        vertical-align: top;\n",
       "    }\n",
       "\n",
       "    .dataframe thead th {\n",
       "        text-align: right;\n",
       "    }\n",
       "</style>\n",
       "<table border=\"1\" class=\"dataframe\">\n",
       "  <thead>\n",
       "    <tr style=\"text-align: right;\">\n",
       "      <th></th>\n",
       "      <th>B</th>\n",
       "      <th>C</th>\n",
       "      <th>E</th>\n",
       "      <th>NEW</th>\n",
       "    </tr>\n",
       "  </thead>\n",
       "  <tbody>\n",
       "    <tr>\n",
       "      <th>2018</th>\n",
       "      <td>1</td>\n",
       "      <td>1</td>\n",
       "      <td>4</td>\n",
       "      <td>10</td>\n",
       "    </tr>\n",
       "    <tr>\n",
       "      <th>2019</th>\n",
       "      <td>1</td>\n",
       "      <td>2</td>\n",
       "      <td>4</td>\n",
       "      <td>12</td>\n",
       "    </tr>\n",
       "    <tr>\n",
       "      <th>2020</th>\n",
       "      <td>1</td>\n",
       "      <td>3</td>\n",
       "      <td>4</td>\n",
       "      <td>10</td>\n",
       "    </tr>\n",
       "    <tr>\n",
       "      <th>2021</th>\n",
       "      <td>1</td>\n",
       "      <td>6</td>\n",
       "      <td>4</td>\n",
       "      <td>13</td>\n",
       "    </tr>\n",
       "  </tbody>\n",
       "</table>\n",
       "</div>"
      ],
      "text/plain": [
       "      B  C  E  NEW\n",
       "2018  1  1  4   10\n",
       "2019  1  2  4   12\n",
       "2020  1  3  4   10\n",
       "2021  1  6  4   13"
      ]
     },
     "execution_count": 12,
     "metadata": {},
     "output_type": "execute_result"
    }
   ],
   "source": [
    "df[\"NEW\"]=[10,12,10,13]\n",
    "df"
   ]
  },
  {
   "cell_type": "markdown",
   "id": "d211cf0f",
   "metadata": {},
   "source": [
    "### Revising values\n",
    "\n",
    "If the column exists than the = method will revise the values of the rows with the values assigned in the statement.\n",
    "\n",
    "```{warning}\n",
    "The dimensions of the list assigned via the `=` method must be the same as the `DataFrame` (i.e. there must be exactly as many values as there are rows).  Alternatively if only one value is provided, then that value will replace all of the values in the specified column (be broadcast to the other rows in the column).\n",
    "```"
   ]
  },
  {
   "cell_type": "code",
   "execution_count": 13,
   "id": "5d509786",
   "metadata": {},
   "outputs": [
    {
     "data": {
      "text/html": [
       "<div>\n",
       "<style scoped>\n",
       "    .dataframe tbody tr th:only-of-type {\n",
       "        vertical-align: middle;\n",
       "    }\n",
       "\n",
       "    .dataframe tbody tr th {\n",
       "        vertical-align: top;\n",
       "    }\n",
       "\n",
       "    .dataframe thead th {\n",
       "        text-align: right;\n",
       "    }\n",
       "</style>\n",
       "<table border=\"1\" class=\"dataframe\">\n",
       "  <thead>\n",
       "    <tr style=\"text-align: right;\">\n",
       "      <th></th>\n",
       "      <th>B</th>\n",
       "      <th>C</th>\n",
       "      <th>E</th>\n",
       "      <th>NEW</th>\n",
       "    </tr>\n",
       "  </thead>\n",
       "  <tbody>\n",
       "    <tr>\n",
       "      <th>2018</th>\n",
       "      <td>1</td>\n",
       "      <td>1</td>\n",
       "      <td>4</td>\n",
       "      <td>11</td>\n",
       "    </tr>\n",
       "    <tr>\n",
       "      <th>2019</th>\n",
       "      <td>1</td>\n",
       "      <td>2</td>\n",
       "      <td>4</td>\n",
       "      <td>12</td>\n",
       "    </tr>\n",
       "    <tr>\n",
       "      <th>2020</th>\n",
       "      <td>1</td>\n",
       "      <td>3</td>\n",
       "      <td>4</td>\n",
       "      <td>10</td>\n",
       "    </tr>\n",
       "    <tr>\n",
       "      <th>2021</th>\n",
       "      <td>1</td>\n",
       "      <td>6</td>\n",
       "      <td>4</td>\n",
       "      <td>14</td>\n",
       "    </tr>\n",
       "  </tbody>\n",
       "</table>\n",
       "</div>"
      ],
      "text/plain": [
       "      B  C  E  NEW\n",
       "2018  1  1  4   11\n",
       "2019  1  2  4   12\n",
       "2020  1  3  4   10\n",
       "2021  1  6  4   14"
      ]
     },
     "execution_count": 13,
     "metadata": {},
     "output_type": "execute_result"
    }
   ],
   "source": [
    "df[\"NEW\"]=[11,12,10,14]\n",
    "\n",
    "df"
   ]
  },
  {
   "cell_type": "code",
   "execution_count": 14,
   "id": "38f5aad1",
   "metadata": {},
   "outputs": [
    {
     "data": {
      "text/html": [
       "<div>\n",
       "<style scoped>\n",
       "    .dataframe tbody tr th:only-of-type {\n",
       "        vertical-align: middle;\n",
       "    }\n",
       "\n",
       "    .dataframe tbody tr th {\n",
       "        vertical-align: top;\n",
       "    }\n",
       "\n",
       "    .dataframe thead th {\n",
       "        text-align: right;\n",
       "    }\n",
       "</style>\n",
       "<table border=\"1\" class=\"dataframe\">\n",
       "  <thead>\n",
       "    <tr style=\"text-align: right;\">\n",
       "      <th></th>\n",
       "      <th>B</th>\n",
       "      <th>C</th>\n",
       "      <th>E</th>\n",
       "      <th>NEW</th>\n",
       "    </tr>\n",
       "  </thead>\n",
       "  <tbody>\n",
       "    <tr>\n",
       "      <th>2018</th>\n",
       "      <td>17</td>\n",
       "      <td>1</td>\n",
       "      <td>4</td>\n",
       "      <td>11</td>\n",
       "    </tr>\n",
       "    <tr>\n",
       "      <th>2019</th>\n",
       "      <td>17</td>\n",
       "      <td>2</td>\n",
       "      <td>4</td>\n",
       "      <td>12</td>\n",
       "    </tr>\n",
       "    <tr>\n",
       "      <th>2020</th>\n",
       "      <td>17</td>\n",
       "      <td>3</td>\n",
       "      <td>4</td>\n",
       "      <td>10</td>\n",
       "    </tr>\n",
       "    <tr>\n",
       "      <th>2021</th>\n",
       "      <td>17</td>\n",
       "      <td>6</td>\n",
       "      <td>4</td>\n",
       "      <td>14</td>\n",
       "    </tr>\n",
       "  </tbody>\n",
       "</table>\n",
       "</div>"
      ],
      "text/plain": [
       "       B  C  E  NEW\n",
       "2018  17  1  4   11\n",
       "2019  17  2  4   12\n",
       "2020  17  3  4   10\n",
       "2021  17  6  4   14"
      ]
     },
     "execution_count": 14,
     "metadata": {},
     "output_type": "execute_result"
    }
   ],
   "source": [
    "# replace all of the rows of column B with the same value\n",
    "df['B']=17\n",
    "df"
   ]
  },
  {
   "cell_type": "markdown",
   "id": "f9b82b7d",
   "metadata": {},
   "source": [
    "## Column names in  Modelflow \n",
    "```{margin} Modelflow variable names\n",
    "Modelflow places more restrictions on column names than do pandas *per se*.\n",
    "\n",
    "```\n",
    "While pandas dataframes are very liberal in what names can be given to columns, ```modelflow``` is more restrictive.\n",
    "\n",
    "Specifically, in modelflow a variable name must:\n",
    "\n",
    "* start with a letter\n",
    "* be upper case\n",
    "\n",
    "Thus while all these are legal column names in pandas, some are illegal in modelflow.\n",
    "\n",
    "| Variable Name | Legal in</br> modelfow? | Reason |\n",
    "|:-------|:-------------|:--------|\n",
    "| IB | yes | <span style='color:Green'>Starts with a letter and is uppercase</span> |\n",
    "| ib | no |<span style='color:red'> lowercase letters are not allowed</span>|\n",
    "| 42ANSWER | No |<span style='color:Red'> does not start with a letter </span>|\n",
    "| \\_HORSE1 | No |<span style='color:Red'>does not start with a letter </span>|\n",
    "| A_VERY_LONG_NAME_THAT_IS_LEGAL_3 | Yes |<span style='color:Green'> Starts with a letter and is uppercase </span>|"
   ]
  },
  {
   "cell_type": "markdown",
   "id": "de16718f",
   "metadata": {},
   "source": [
    "## .index and time dimensions in Modelflow"
   ]
  },
  {
   "cell_type": "markdown",
   "id": "0b54af1a",
   "metadata": {},
   "source": [
    "As we saw above, series have indices.  Dataframes also have indices, which are the row names of the dataframe.\n",
    "\n",
    "In ```modelflow``` the index series is typically understood to represent a date. \n",
    "\n",
    "For yearly models a list of integers like in the above example works fine.<br>\n",
    "\n",
    "For higher frequency models the index can be one of pandas datatypes.\n",
    "\n",
    ":::{warning}\n",
    "\n",
    "Not all datetypes work well with the graphics routines of modelflow.  Users are advised to use the ```pd.period_range()``` method to generate date indexes.\n",
    "\n",
    "For example:\n",
    "```   \n",
    "    dates = pd.period_range(start='1975q1',end='2125q4',freq='Q')\n",
    "    df.index=dates\n",
    "```\n",
    "\n",
    ":::\n",
    "\n",
    "### Leads and lags\n",
    "In modelflow leads and lags can be indicated by following the variable with a parenthesis and either -1 or -2 two for one or two period lags (where the number following the negative sign indicates the number of time periods that are lagged). Positive numbers are used for forward leads (no +sign required).\n",
    "\n",
    "When a method defined by the `modelflow` class encounters something like `A(-1)`, it will take the value from the row above the current row. No matter if the index is an integer, a year, quarter or a millisecond. The same goes for leads, `A(+1)` will return the value of `A` in the next row. \n",
    "\n",
    "As a result in a quarterly model `B=A(-4)` would assign B the value of A from the same quarter in the previous year. \n",
    "\n"
   ]
  },
  {
   "cell_type": "markdown",
   "id": "b06e059a",
   "metadata": {},
   "source": [
    "### .columns lists the column names of a dataframe\n",
    "\n",
    "The method ```.columns``` returns the names of the columns in the dataframe."
   ]
  },
  {
   "cell_type": "code",
   "execution_count": 15,
   "id": "0eab073c",
   "metadata": {},
   "outputs": [
    {
     "data": {
      "text/plain": [
       "Index(['B', 'C', 'E', 'NEW'], dtype='object')"
      ]
     },
     "execution_count": 15,
     "metadata": {},
     "output_type": "execute_result"
    }
   ],
   "source": [
    "df.columns\n"
   ]
  },
  {
   "cell_type": "markdown",
   "id": "eb43fa74",
   "metadata": {},
   "source": [
    "### .size indicates the dimension of a list\n",
    "\n",
    "so ```df.columns.size``` returns the number of columns in a dataframe."
   ]
  },
  {
   "cell_type": "code",
   "execution_count": 16,
   "id": "ebb6f5c4",
   "metadata": {},
   "outputs": [
    {
     "data": {
      "text/plain": [
       "4"
      ]
     },
     "execution_count": 16,
     "metadata": {},
     "output_type": "execute_result"
    }
   ],
   "source": [
    "df.columns.size"
   ]
  },
  {
   "cell_type": "markdown",
   "id": "48836e77",
   "metadata": {},
   "source": [
    "The dataframe df has 4 columns. "
   ]
  },
  {
   "cell_type": "markdown",
   "id": "4301c4f8",
   "metadata": {},
   "source": [
    "### .eval() evaluates calculates an expression on the data of a dataframe\n",
    "\n",
    "`.eval` is a native dataframe method, which does calculations on a `dataframe` and returns a revised `datafame`. With this method expressions can be evaluated and new columns created.  "
   ]
  },
  {
   "cell_type": "code",
   "execution_count": 17,
   "id": "7d1f662d",
   "metadata": {},
   "outputs": [
    {
     "data": {
      "text/html": [
       "<div>\n",
       "<style scoped>\n",
       "    .dataframe tbody tr th:only-of-type {\n",
       "        vertical-align: middle;\n",
       "    }\n",
       "\n",
       "    .dataframe tbody tr th {\n",
       "        vertical-align: top;\n",
       "    }\n",
       "\n",
       "    .dataframe thead th {\n",
       "        text-align: right;\n",
       "    }\n",
       "</style>\n",
       "<table border=\"1\" class=\"dataframe\">\n",
       "  <thead>\n",
       "    <tr style=\"text-align: right;\">\n",
       "      <th></th>\n",
       "      <th>B</th>\n",
       "      <th>C</th>\n",
       "      <th>E</th>\n",
       "      <th>NEW</th>\n",
       "      <th>X</th>\n",
       "      <th>THE_ANSWER</th>\n",
       "    </tr>\n",
       "  </thead>\n",
       "  <tbody>\n",
       "    <tr>\n",
       "      <th>2018</th>\n",
       "      <td>17</td>\n",
       "      <td>1</td>\n",
       "      <td>4</td>\n",
       "      <td>11</td>\n",
       "      <td>17</td>\n",
       "      <td>42</td>\n",
       "    </tr>\n",
       "    <tr>\n",
       "      <th>2019</th>\n",
       "      <td>17</td>\n",
       "      <td>2</td>\n",
       "      <td>4</td>\n",
       "      <td>12</td>\n",
       "      <td>34</td>\n",
       "      <td>42</td>\n",
       "    </tr>\n",
       "    <tr>\n",
       "      <th>2020</th>\n",
       "      <td>17</td>\n",
       "      <td>3</td>\n",
       "      <td>4</td>\n",
       "      <td>10</td>\n",
       "      <td>51</td>\n",
       "      <td>42</td>\n",
       "    </tr>\n",
       "    <tr>\n",
       "      <th>2021</th>\n",
       "      <td>17</td>\n",
       "      <td>6</td>\n",
       "      <td>4</td>\n",
       "      <td>14</td>\n",
       "      <td>102</td>\n",
       "      <td>42</td>\n",
       "    </tr>\n",
       "  </tbody>\n",
       "</table>\n",
       "</div>"
      ],
      "text/plain": [
       "       B  C  E  NEW    X  THE_ANSWER\n",
       "2018  17  1  4   11   17          42\n",
       "2019  17  2  4   12   34          42\n",
       "2020  17  3  4   10   51          42\n",
       "2021  17  6  4   14  102          42"
      ]
     },
     "execution_count": 17,
     "metadata": {},
     "output_type": "execute_result"
    }
   ],
   "source": [
    "df.eval('''X = B*C\n",
    "           THE_ANSWER = 42''')"
   ]
  },
  {
   "cell_type": "code",
   "execution_count": 18,
   "id": "f2287089",
   "metadata": {},
   "outputs": [
    {
     "data": {
      "text/html": [
       "<div>\n",
       "<style scoped>\n",
       "    .dataframe tbody tr th:only-of-type {\n",
       "        vertical-align: middle;\n",
       "    }\n",
       "\n",
       "    .dataframe tbody tr th {\n",
       "        vertical-align: top;\n",
       "    }\n",
       "\n",
       "    .dataframe thead th {\n",
       "        text-align: right;\n",
       "    }\n",
       "</style>\n",
       "<table border=\"1\" class=\"dataframe\">\n",
       "  <thead>\n",
       "    <tr style=\"text-align: right;\">\n",
       "      <th></th>\n",
       "      <th>B</th>\n",
       "      <th>C</th>\n",
       "      <th>E</th>\n",
       "      <th>NEW</th>\n",
       "    </tr>\n",
       "  </thead>\n",
       "  <tbody>\n",
       "    <tr>\n",
       "      <th>2018</th>\n",
       "      <td>17</td>\n",
       "      <td>1</td>\n",
       "      <td>4</td>\n",
       "      <td>11</td>\n",
       "    </tr>\n",
       "    <tr>\n",
       "      <th>2019</th>\n",
       "      <td>17</td>\n",
       "      <td>2</td>\n",
       "      <td>4</td>\n",
       "      <td>12</td>\n",
       "    </tr>\n",
       "    <tr>\n",
       "      <th>2020</th>\n",
       "      <td>17</td>\n",
       "      <td>3</td>\n",
       "      <td>4</td>\n",
       "      <td>10</td>\n",
       "    </tr>\n",
       "    <tr>\n",
       "      <th>2021</th>\n",
       "      <td>17</td>\n",
       "      <td>6</td>\n",
       "      <td>4</td>\n",
       "      <td>14</td>\n",
       "    </tr>\n",
       "  </tbody>\n",
       "</table>\n",
       "</div>"
      ],
      "text/plain": [
       "       B  C  E  NEW\n",
       "2018  17  1  4   11\n",
       "2019  17  2  4   12\n",
       "2020  17  3  4   10\n",
       "2021  17  6  4   14"
      ]
     },
     "execution_count": 18,
     "metadata": {},
     "output_type": "execute_result"
    }
   ],
   "source": [
    "df"
   ]
  },
  {
   "cell_type": "markdown",
   "id": "a066daa9",
   "metadata": {},
   "source": [
    "In the above example the resulting dataframe is displayed but is not stored.\n",
    "\n",
    "To store it, the results of the calculation must be assigned to a variable.  The pre-existing dataframe can be overwritten by assigning it the result of the eval statement."
   ]
  },
  {
   "cell_type": "code",
   "execution_count": 19,
   "id": "9aa494d6",
   "metadata": {},
   "outputs": [
    {
     "data": {
      "text/html": [
       "<div>\n",
       "<style scoped>\n",
       "    .dataframe tbody tr th:only-of-type {\n",
       "        vertical-align: middle;\n",
       "    }\n",
       "\n",
       "    .dataframe tbody tr th {\n",
       "        vertical-align: top;\n",
       "    }\n",
       "\n",
       "    .dataframe thead th {\n",
       "        text-align: right;\n",
       "    }\n",
       "</style>\n",
       "<table border=\"1\" class=\"dataframe\">\n",
       "  <thead>\n",
       "    <tr style=\"text-align: right;\">\n",
       "      <th></th>\n",
       "      <th>B</th>\n",
       "      <th>C</th>\n",
       "      <th>E</th>\n",
       "      <th>NEW</th>\n",
       "      <th>X</th>\n",
       "      <th>THE_ANSWER</th>\n",
       "    </tr>\n",
       "  </thead>\n",
       "  <tbody>\n",
       "    <tr>\n",
       "      <th>2018</th>\n",
       "      <td>17</td>\n",
       "      <td>1</td>\n",
       "      <td>4</td>\n",
       "      <td>11</td>\n",
       "      <td>17</td>\n",
       "      <td>42</td>\n",
       "    </tr>\n",
       "    <tr>\n",
       "      <th>2019</th>\n",
       "      <td>17</td>\n",
       "      <td>2</td>\n",
       "      <td>4</td>\n",
       "      <td>12</td>\n",
       "      <td>34</td>\n",
       "      <td>42</td>\n",
       "    </tr>\n",
       "    <tr>\n",
       "      <th>2020</th>\n",
       "      <td>17</td>\n",
       "      <td>3</td>\n",
       "      <td>4</td>\n",
       "      <td>10</td>\n",
       "      <td>51</td>\n",
       "      <td>42</td>\n",
       "    </tr>\n",
       "    <tr>\n",
       "      <th>2021</th>\n",
       "      <td>17</td>\n",
       "      <td>6</td>\n",
       "      <td>4</td>\n",
       "      <td>14</td>\n",
       "      <td>102</td>\n",
       "      <td>42</td>\n",
       "    </tr>\n",
       "  </tbody>\n",
       "</table>\n",
       "</div>"
      ],
      "text/plain": [
       "       B  C  E  NEW    X  THE_ANSWER\n",
       "2018  17  1  4   11   17          42\n",
       "2019  17  2  4   12   34          42\n",
       "2020  17  3  4   10   51          42\n",
       "2021  17  6  4   14  102          42"
      ]
     },
     "execution_count": 19,
     "metadata": {},
     "output_type": "execute_result"
    }
   ],
   "source": [
    "df=df.eval('''X = B*C\n",
    "           THE_ANSWER = 42''')\n",
    "df"
   ]
  },
  {
   "cell_type": "markdown",
   "id": "64a99c1c",
   "metadata": {},
   "source": [
    "With this operation the new columns, x and THE_ANSWER have been appended to the dataframe df.\n",
    "\n",
    ":::{note}\n",
    "The ```.eval()``` method is a native pandas method.  As such it cannot handle lagged variables (because pandas do not support the idea of a lagged variable. \n",
    "\n",
    "The ```.mfcalc()``` and the ```.upd()``` methods discussed below are `modelflow` features that extend the functionalities native to `dataframe` that allows such calculations to be performed.  \n",
    ":::"
   ]
  },
  {
   "cell_type": "markdown",
   "id": "1fd2254e",
   "metadata": {},
   "source": [
    "### .loc[] selects a portion (slice) of a dataframe \n",
    "\n",
    "The ```.loc[]``` method allows you to display and/or revise specific sub-sections of a column or row in a dataframe."
   ]
  },
  {
   "cell_type": "markdown",
   "id": "73ef30b8",
   "metadata": {},
   "source": [
    "#### .loc[row,column] A single element\n",
    "\n",
    "```.loc[row,column]``` operates on a single cell in the dataframe.  Thus the below displays the value of the cell with index=2019 observation from the  column C."
   ]
  },
  {
   "cell_type": "code",
   "execution_count": 20,
   "id": "07c660e2",
   "metadata": {},
   "outputs": [
    {
     "data": {
      "text/plain": [
       "2"
      ]
     },
     "execution_count": 20,
     "metadata": {},
     "output_type": "execute_result"
    }
   ],
   "source": [
    "df.loc[2019,'C']"
   ]
  },
  {
   "cell_type": "markdown",
   "id": "45584d03",
   "metadata": {},
   "source": [
    "#### .loc[:,column] A single column\n",
    "\n",
    "The lone colon in a loc statement indicates all the rows or columns.  Here all of the rows."
   ]
  },
  {
   "cell_type": "code",
   "execution_count": 21,
   "id": "a0e98436",
   "metadata": {},
   "outputs": [
    {
     "data": {
      "text/plain": [
       "2018    1\n",
       "2019    2\n",
       "2020    3\n",
       "2021    6\n",
       "Name: C, dtype: int64"
      ]
     },
     "execution_count": 21,
     "metadata": {},
     "output_type": "execute_result"
    }
   ],
   "source": [
    "df.loc[:,'C']"
   ]
  },
  {
   "cell_type": "markdown",
   "id": "76248924",
   "metadata": {},
   "source": [
    "#### .loc[row,:] A single row \n",
    "\n",
    "Here all of the columns, for the selected row."
   ]
  },
  {
   "cell_type": "code",
   "execution_count": 22,
   "id": "9abe300a",
   "metadata": {},
   "outputs": [
    {
     "data": {
      "text/plain": [
       "B             17\n",
       "C              2\n",
       "E              4\n",
       "NEW           12\n",
       "X             34\n",
       "THE_ANSWER    42\n",
       "Name: 2019, dtype: int64"
      ]
     },
     "execution_count": 22,
     "metadata": {},
     "output_type": "execute_result"
    }
   ],
   "source": [
    "df.loc[2019,:]"
   ]
  },
  {
   "cell_type": "markdown",
   "id": "0ba01f34",
   "metadata": {},
   "source": [
    "####  .loc[:,[names...]] Several columns\n",
    "\n",
    "Passing a list in either the rows or columns portion of the loc statement will allow multiple rows or columns to be displayed."
   ]
  },
  {
   "cell_type": "code",
   "execution_count": 23,
   "id": "ade2bacf",
   "metadata": {},
   "outputs": [
    {
     "data": {
      "text/html": [
       "<div>\n",
       "<style scoped>\n",
       "    .dataframe tbody tr th:only-of-type {\n",
       "        vertical-align: middle;\n",
       "    }\n",
       "\n",
       "    .dataframe tbody tr th {\n",
       "        vertical-align: top;\n",
       "    }\n",
       "\n",
       "    .dataframe thead th {\n",
       "        text-align: right;\n",
       "    }\n",
       "</style>\n",
       "<table border=\"1\" class=\"dataframe\">\n",
       "  <thead>\n",
       "    <tr style=\"text-align: right;\">\n",
       "      <th></th>\n",
       "      <th>B</th>\n",
       "      <th>C</th>\n",
       "    </tr>\n",
       "  </thead>\n",
       "  <tbody>\n",
       "    <tr>\n",
       "      <th>2018</th>\n",
       "      <td>17</td>\n",
       "      <td>1</td>\n",
       "    </tr>\n",
       "    <tr>\n",
       "      <th>2021</th>\n",
       "      <td>17</td>\n",
       "      <td>6</td>\n",
       "    </tr>\n",
       "  </tbody>\n",
       "</table>\n",
       "</div>"
      ],
      "text/plain": [
       "       B  C\n",
       "2018  17  1\n",
       "2021  17  6"
      ]
     },
     "execution_count": 23,
     "metadata": {},
     "output_type": "execute_result"
    }
   ],
   "source": [
    "df.loc[[2018,2021],['B','C']]"
   ]
  },
  {
   "cell_type": "markdown",
   "id": "c4404ba6",
   "metadata": {},
   "source": [
    "#### .loc using the colon to select a range\n",
    "\n",
    "with the colon operator we can also select a range of results.\n",
    "\n",
    "Here from 2018 to 2019."
   ]
  },
  {
   "cell_type": "code",
   "execution_count": 24,
   "id": "ff3d5471",
   "metadata": {},
   "outputs": [
    {
     "data": {
      "text/html": [
       "<div>\n",
       "<style scoped>\n",
       "    .dataframe tbody tr th:only-of-type {\n",
       "        vertical-align: middle;\n",
       "    }\n",
       "\n",
       "    .dataframe tbody tr th {\n",
       "        vertical-align: top;\n",
       "    }\n",
       "\n",
       "    .dataframe thead th {\n",
       "        text-align: right;\n",
       "    }\n",
       "</style>\n",
       "<table border=\"1\" class=\"dataframe\">\n",
       "  <thead>\n",
       "    <tr style=\"text-align: right;\">\n",
       "      <th></th>\n",
       "      <th>B</th>\n",
       "      <th>C</th>\n",
       "    </tr>\n",
       "  </thead>\n",
       "  <tbody>\n",
       "    <tr>\n",
       "      <th>2018</th>\n",
       "      <td>17</td>\n",
       "      <td>1</td>\n",
       "    </tr>\n",
       "    <tr>\n",
       "      <th>2019</th>\n",
       "      <td>17</td>\n",
       "      <td>2</td>\n",
       "    </tr>\n",
       "    <tr>\n",
       "      <th>2020</th>\n",
       "      <td>17</td>\n",
       "      <td>3</td>\n",
       "    </tr>\n",
       "  </tbody>\n",
       "</table>\n",
       "</div>"
      ],
      "text/plain": [
       "       B  C\n",
       "2018  17  1\n",
       "2019  17  2\n",
       "2020  17  3"
      ]
     },
     "execution_count": 24,
     "metadata": {},
     "output_type": "execute_result"
    }
   ],
   "source": [
    "\n",
    "df.loc[2018:2020,['B','C']]\n"
   ]
  },
  {
   "cell_type": "markdown",
   "id": "0ea0b119",
   "metadata": {},
   "source": [
    "#### .loc[] can also be used on the left hand side to assign values to specific cells\n",
    "This can be very handy when updating scenarios.<br>\n"
   ]
  },
  {
   "cell_type": "code",
   "execution_count": 42,
   "id": "ddbb401b",
   "metadata": {},
   "outputs": [
    {
     "data": {
      "text/html": [
       "<div>\n",
       "<style scoped>\n",
       "    .dataframe tbody tr th:only-of-type {\n",
       "        vertical-align: middle;\n",
       "    }\n",
       "\n",
       "    .dataframe tbody tr th {\n",
       "        vertical-align: top;\n",
       "    }\n",
       "\n",
       "    .dataframe thead th {\n",
       "        text-align: right;\n",
       "    }\n",
       "</style>\n",
       "<table border=\"1\" class=\"dataframe\">\n",
       "  <thead>\n",
       "    <tr style=\"text-align: right;\">\n",
       "      <th></th>\n",
       "      <th>B</th>\n",
       "      <th>C</th>\n",
       "      <th>E</th>\n",
       "      <th>NEW</th>\n",
       "      <th>X</th>\n",
       "      <th>THE_ANSWER</th>\n",
       "    </tr>\n",
       "  </thead>\n",
       "  <tbody>\n",
       "    <tr>\n",
       "      <th>2018</th>\n",
       "      <td>17</td>\n",
       "      <td>1</td>\n",
       "      <td>4</td>\n",
       "      <td>11</td>\n",
       "      <td>17</td>\n",
       "      <td>42</td>\n",
       "    </tr>\n",
       "    <tr>\n",
       "      <th>2019</th>\n",
       "      <td>17</td>\n",
       "      <td>17</td>\n",
       "      <td>4</td>\n",
       "      <td>12</td>\n",
       "      <td>34</td>\n",
       "      <td>42</td>\n",
       "    </tr>\n",
       "    <tr>\n",
       "      <th>2020</th>\n",
       "      <td>17</td>\n",
       "      <td>17</td>\n",
       "      <td>4</td>\n",
       "      <td>10</td>\n",
       "      <td>51</td>\n",
       "      <td>42</td>\n",
       "    </tr>\n",
       "    <tr>\n",
       "      <th>2021</th>\n",
       "      <td>17</td>\n",
       "      <td>6</td>\n",
       "      <td>4</td>\n",
       "      <td>14</td>\n",
       "      <td>102</td>\n",
       "      <td>42</td>\n",
       "    </tr>\n",
       "  </tbody>\n",
       "</table>\n",
       "</div>"
      ],
      "text/plain": [
       "       B   C  E  NEW    X  THE_ANSWER\n",
       "2018  17   1  4   11   17          42\n",
       "2019  17  17  4   12   34          42\n",
       "2020  17  17  4   10   51          42\n",
       "2021  17   6  4   14  102          42"
      ]
     },
     "execution_count": 42,
     "metadata": {},
     "output_type": "execute_result"
    }
   ],
   "source": [
    "df.loc[2019:2020,'C'] = 17\n",
    "df"
   ]
  },
  {
   "cell_type": "markdown",
   "id": "7f654a52",
   "metadata": {},
   "source": [
    "```{warning}\n",
    "The dimensions on the right hand side of = and the left hand side should match. That is: either the dimensions should be the same, or the right hand side should be ```broadcasted``` into the left hand slice.\n",
    "\n",
    "For more on broadcasting [see here](https://jakevdp.github.io/PythonDataScienceHandbook/02.05-computation-on-arrays-broadcasting.html)\n",
    "```"
   ]
  },
  {
   "cell_type": "markdown",
   "id": "ad5a5bca",
   "metadata": {},
   "source": [
    "**For more info on the .loc[] method**\n",
    "- [Description](https://pandas.pydata.org/docs/reference/api/pandas.DataFrame.loc.html)\n",
    "- [Search](https://www.google.com/search?q=pandas+dataframe+loc&newwindow=1)\n",
    "\n",
    "\n",
    "**For more info on pandas:**\n",
    "- [Pandas homepage](https://pandas.pydata.org/)\n",
    "- [Pandas community tutorials](https://pandas.pydata.org/pandas-docs/stable/getting_started/tutorials.html)"
   ]
  }
 ],
 "metadata": {
  "celltoolbar": "Edit Metadata",
  "hide_input": false,
  "kernelspec": {
   "display_name": "Python 3 (ipykernel)",
   "language": "python",
   "name": "python3"
  },
  "language_info": {
   "codemirror_mode": {
    "name": "ipython",
    "version": 3
   },
   "file_extension": ".py",
   "mimetype": "text/x-python",
   "name": "python",
   "nbconvert_exporter": "python",
   "pygments_lexer": "ipython3",
   "version": "3.10.11"
  },
  "toc": {
   "base_numbering": 1,
   "nav_menu": {},
   "number_sections": true,
   "sideBar": true,
   "skip_h1_title": true,
   "title_cell": "Table of Contents",
   "title_sidebar": "Contents",
   "toc_cell": false,
   "toc_position": {},
   "toc_section_display": true,
   "toc_window_display": true
  },
  "varInspector": {
   "cols": {
    "lenName": 16,
    "lenType": 16,
    "lenVar": 40
   },
   "kernels_config": {
    "python": {
     "delete_cmd_postfix": "",
     "delete_cmd_prefix": "del ",
     "library": "var_list.py",
     "varRefreshCmd": "print(var_dic_list())"
    },
    "r": {
     "delete_cmd_postfix": ") ",
     "delete_cmd_prefix": "rm(",
     "library": "var_list.r",
     "varRefreshCmd": "cat(var_dic_list()) "
    }
   },
   "types_to_exclude": [
    "module",
    "function",
    "builtin_function_or_method",
    "instance",
    "_Feature"
   ],
   "window_display": false
  }
 },
 "nbformat": 4,
 "nbformat_minor": 5
}
