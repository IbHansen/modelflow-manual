{
 "cells": [
  {
   "cell_type": "markdown",
   "id": "c5d01c30",
   "metadata": {},
   "source": [
    "# Acknowledgements\n",
    "\n",
    "This book and the development of ModelFlow would not have been possible without the contributions of many individuals. \n",
    "\n",
    "Special thanks to Jens Boldt, formerly of Danmarks Nationalbank, for his participation in creating the first version of ModelFlow, which was used for the top-down stress testing of banks.\n",
    "\n",
    "We would also like to extend our gratitude to the following reviewers for their invaluable contributions and insights:\n",
    "\n",
    "- Freya Casie\n",
    "- Unnada Chewpreecha\n",
    "\n",
    "Their expertise and feedback have significantly enhanced the quality of our work.\n"
   ]
  },
  {
   "cell_type": "code",
   "execution_count": null,
   "id": "e078d409",
   "metadata": {
    "tags": [
     "remove_cell"
    ]
   },
   "outputs": [],
   "source": [
    "#This is code to manage dependencies if the notebook is executed in the google colab cloud service\n",
    "if 'google.colab' in str(get_ipython()):\n",
    "  import os\n",
    "  os.system('apt -qqq install graphviz')\n",
    "  os.system('pip -qqq install ModelFlowIb ipysheet  --no-dependencies ')\n"
   ]
  },
  {
   "cell_type": "code",
   "execution_count": null,
   "id": "067ccc9b",
   "metadata": {
    "tags": [
     "remove_cell"
    ]
   },
   "outputs": [],
   "source": [
    "# Prepare the notebook for use of modelflow \n",
    "\n",
    "# Jupyter magic command to improve the display of charts in the Notebook\n",
    "%matplotlib inline\n",
    "\n",
    "# Import pandas \n",
    "import pandas as pd\n",
    "\n",
    "# Import the model class from the modelclass module \n",
    "from modelclass import model \n",
    "\n",
    "# functions that improve rendering of modelflow outputs\n",
    "model.widescreen()\n",
    "model.scroll_off();"
   ]
  }
 ],
 "metadata": {
  "hide_input": false,
  "kernelspec": {
   "display_name": "Python 3 (ipykernel)",
   "language": "python",
   "name": "python3"
  },
  "language_info": {
   "codemirror_mode": {
    "name": "ipython",
    "version": 3
   },
   "file_extension": ".py",
   "mimetype": "text/x-python",
   "name": "python",
   "nbconvert_exporter": "python",
   "pygments_lexer": "ipython3",
   "version": "3.10.11"
  },
  "toc": {
   "base_numbering": 1,
   "nav_menu": {},
   "number_sections": true,
   "sideBar": false,
   "skip_h1_title": false,
   "title_cell": "Table of Contents",
   "title_sidebar": "Contents",
   "toc_cell": false,
   "toc_position": {},
   "toc_section_display": true,
   "toc_window_display": false
  },
  "varInspector": {
   "cols": {
    "lenName": 16,
    "lenType": 16,
    "lenVar": 40
   },
   "kernels_config": {
    "python": {
     "delete_cmd_postfix": "",
     "delete_cmd_prefix": "del ",
     "library": "var_list.py",
     "varRefreshCmd": "print(var_dic_list())"
    },
    "r": {
     "delete_cmd_postfix": ") ",
     "delete_cmd_prefix": "rm(",
     "library": "var_list.r",
     "varRefreshCmd": "cat(var_dic_list()) "
    }
   },
   "types_to_exclude": [
    "module",
    "function",
    "builtin_function_or_method",
    "instance",
    "_Feature"
   ],
   "window_display": false
  }
 },
 "nbformat": 4,
 "nbformat_minor": 5
}
