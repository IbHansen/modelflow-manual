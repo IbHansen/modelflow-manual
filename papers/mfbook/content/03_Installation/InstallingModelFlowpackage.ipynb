{
 "cells": [
  {
   "cell_type": "markdown",
   "id": "2b2274a1",
   "metadata": {},
   "source": [
    "# Installation of the ```Modelflow``` package\n",
    "\n",
    "1. Open the anaconda/MiniConda command prompt (created during the installation of anaconda/MiniConda)\n",
    "2. Execute the following commands by copying and pasting them -- either line by line or as a single mult-line step\n",
    "3. Press enter\n",
    "\n",
    ":::{index} single: Boxes; Box   1. Open Anaconda/MiniConda  prompt\n",
    ":::\n",
    "\n",
    ":::{admonition} Box 1. Open Anaconda/MiniConda  prompt\n",
    ":class: tip\n",
    "If you installed Anaconda you can open the anaconda command prompt by:<br>\n",
    "```start>all apps>anaconda3>anaconda prompt``` \n",
    "\n",
    "If you installed Miniconda you can open the anaconda command prompt by:<br> \n",
    "```start>all apps>miniconda3>anaconda prompt (miniconda3)``` \n",
    ":::\n",
    "\n",
    "\n",
    "```\n",
    "\n",
    "conda activate modelflow\n",
    "conda create -n ModelFlow -c ibh -c conda-forge modelflow_stable -y\n",
    "\n",
    "conda install pyeviews -c conda-forge\n",
    "pip install dash_interactive_graphviz\n",
    "jupyter contrib nbextension install --user\n",
    "jupyter nbextension enable hide_input_all/main\n",
    "jupyter nbextension enable splitcell/splitcell\n",
    "jupyter nbextension enable toc2/main\n",
    "jupyter nbextension enable varInspector/main\n",
    "\n",
    "```\n",
    "\n",
    "Depending on the speed of your computer and of your internet connection installation could take as little as 5 minutes or more than 1/2 an hour.\n",
    "\n",
    "```{index} single: Updating modelflow; Anaconda/MiniConda\n",
    "```\n",
    "```{index} single: Anaconda/MiniConda; Updating  model flow\n",
    "```"
   ]
  },
  {
   "cell_type": "markdown",
   "id": "6000fe20",
   "metadata": {},
   "source": [
    "## Next steps\n",
    "\n",
    "At the end of the process you will have a new conda environment called `modelflow`, and this will have been activated. The computer set up is complete and the user is ready to work with `modelflow`. \n",
    "\n",
    "The following chapter gives a brief introduction to Jupyter notebook, which is a flexible tool that allows us to execute python code, interact with the modelflow class and World Bank Models and annotate what we have done for future replication.\n",
    "\n"
   ]
  }
 ],
 "metadata": {
  "celltoolbar": "Edit Metadata",
  "hide_input": false,
  "kernelspec": {
   "display_name": "Python 3 (ipykernel)",
   "language": "python",
   "name": "python3"
  },
  "language_info": {
   "codemirror_mode": {
    "name": "ipython",
    "version": 3
   },
   "file_extension": ".py",
   "mimetype": "text/x-python",
   "name": "python",
   "nbconvert_exporter": "python",
   "pygments_lexer": "ipython3",
   "version": "3.10.11"
  },
  "toc": {
   "base_numbering": 1,
   "nav_menu": {},
   "number_sections": true,
   "sideBar": true,
   "skip_h1_title": false,
   "title_cell": "Table of Contents",
   "title_sidebar": "Contents",
   "toc_cell": false,
   "toc_position": {},
   "toc_section_display": true,
   "toc_window_display": false
  },
  "varInspector": {
   "cols": {
    "lenName": 16,
    "lenType": 16,
    "lenVar": 40
   },
   "kernels_config": {
    "python": {
     "delete_cmd_postfix": "",
     "delete_cmd_prefix": "del ",
     "library": "var_list.py",
     "varRefreshCmd": "print(var_dic_list())"
    },
    "r": {
     "delete_cmd_postfix": ") ",
     "delete_cmd_prefix": "rm(",
     "library": "var_list.r",
     "varRefreshCmd": "cat(var_dic_list()) "
    }
   },
   "types_to_exclude": [
    "module",
    "function",
    "builtin_function_or_method",
    "instance",
    "_Feature"
   ],
   "window_display": false
  }
 },
 "nbformat": 4,
 "nbformat_minor": 5
}
