{
 "cells": [
  {
   "cell_type": "markdown",
   "id": "dcd1a089",
   "metadata": {},
   "source": [
    "# Installation of  ```Modelflow``` "
   ]
  },
  {
   "cell_type": "markdown",
   "id": "1d3b7c32",
   "metadata": {},
   "source": [
    "`Modelflow` is a python package that defines the model class, its methods and a number of other functions that extend and combine pre-existing python functions to allow the easy solution of complex systems of equations including macro-structural models like MFMod. To work with modelflow, a user needs to first install python (preferably the Anaconda or MiniConda variants). Then install the modelflow package and several supporting packages.\n",
    "\n",
    "While modelflow can be run directly from the python command-line or IDEs (Interactive Development Environments) like Spyder or Microsoft's Visual Code, it is suggested that users also install the Jupyter notebook system. Jupyter Notebook facilitates an interactive approach to building python programs, annotating them and ultimately doing simulations using MFMod under modelflow. This entire manual and the examples in it were all written and executed in the Jupyter Notebook environment.\n",
    "\n",
    "To use the modelflow package First Python has to be installed. Then the modelflow package can be installed together with all the libraries on which it depends."
   ]
  },
  {
   "cell_type": "markdown",
   "id": "db57a751",
   "metadata": {},
   "source": [
    "## Creation of a modeflow environment\n",
    "\n",
    ":::{index} single: modelflow; modelflow environment\n",
    ":::\n",
    "Although it is not strictly necessary, it is a good idea to create a  `modelflow` environment[^environ], this will be a space where the `modelflow` package itself will be installed and in which the specific dependencies on which `modelflow` relies will be installed. Other environments may require packages that conflict with modelflow, but using separate environments for these packages a user can prevent such conflicts from arising.\n",
    "\n",
    "The commands below will create a `modeflow` environment and install into it the `modelflow` package and several supporting packages that are useful when using `modelflow` in conjunction with EViews or Jupyter Notebook.\n",
    "\n",
    "The commands should be cut and paste (either one by one, or as a block) into the Anaconda or Miniconda command prompt environment. Instructions for activating the environment in windows are included in the box.\n",
    "\n",
    ":::{admonition} Box 1. Opening the Anaconda/MiniConda prompt under windows\n",
    ":class: tip\n",
    "\n",
    "To open the Anaconda/MiniConda prompt:\n",
    "\n",
    "1. In the windows command prompt, type Anaconda (or Minoconda)\n",
    "2. If Anaconda/Miniconda have been successfully installed an icon entiteld Anaconda(Minoconda) Command Prompt will appear. Click on this.\n",
    "3. This will open a python command shell where the commands listed in the main text can be entered.\n",
    "\n",
    "```{image} WindowsCommandPrompt.PNG\n",
    "    :alt: Windows Command Prompt\n",
    "    :class: bg-primary mb-1\n",
    "    :width: 50%\n",
    "    :align: center\n",
    "```    \n",
    ":::\n",
    "\n",
    "\n",
    "[^environ]: Both Anaconda and Miniconda support the idea of \"environments\". Environments are ring-fenced areas on your computer that can have different versions of Python and/or packages installed in them. If one application requires a specific version of pandas to run, and a second application requires a different version, by housing them in separate environment the dependencies of each application can be respected without generating a conflict between them. See [here](https://conda.io/activation) for more."
   ]
  },
  {
   "cell_type": "markdown",
   "id": "c8d797db",
   "metadata": {},
   "source": [
    "\n",
    "```\n",
    "conda create -n ModelFlow -c ibh -c conda-forge modelflow_stable -y\n",
    "conda activate modelflow\n",
    "\n",
    "conda install pyeviews -c conda-forge\n",
    "pip install dash_interactive_graphviz\n",
    "jupyter contrib nbextension install --user\n",
    "jupyter nbextension enable hide_input_all/main\n",
    "jupyter nbextension enable splitcell/splitcell\n",
    "jupyter nbextension enable toc2/main\n",
    "jupyter nbextension enable varInspector/main\n",
    "\n",
    "```\n",
    ":::{note} Meaning of the command lines\n",
    "* The first line in the code snippet below simultaneously creates the `modelflow` environment and installs the `modelflow` package into this environment.\n",
    "\n",
    "* The second command selects \"activates\" the newly created modelflow environment.\n",
    "\n",
    "* The subsequent commands install some additional packages that are used by `modeflow`.  \n",
    "    * The pyeviews package allows python to execute eviews commands on a machine where EViews has also been installed.\n",
    "    * the `dash_interactive_graphviz` package enables a series of interactive dashboards which can be handy when using modelflow in Jupyter Notebooks.\n",
    "    * The last 5 commands enable and select some useful jupyter notebook extensions.\n",
    "\n",
    ":::\n",
    "\n",
    "\n",
    "Depending on the speed of your computer and of your internet connection, installation could take as little as 5 minutes or more than 1/2 an hour.\n",
    "\n",
    ":::{index} single: Updating modelflow; Anaconda/MiniConda\n",
    ":::\n",
    ":::{index} single: Anaconda/MiniConda; Updating  model flow\n",
    ":::"
   ]
  },
  {
   "cell_type": "markdown",
   "id": "6000fe20",
   "metadata": {},
   "source": [
    "## Next steps\n",
    "\n",
    "At the end of the process you will have a new conda environment called `modelflow`. After the installation the environment is active. The  set up is complete and the user is ready to work with `modelflow`. \n",
    "\n",
    "The following chapter gives a brief introduction to Jupyter notebook, which is a flexible tool that allows us to execute python code, interact with the modelflow class and World Bank Models and annotate what we have done for future replication.\n",
    "\n"
   ]
  },
  {
   "cell_type": "code",
   "execution_count": null,
   "id": "4d6002a3",
   "metadata": {},
   "outputs": [],
   "source": []
  }
 ],
 "metadata": {
  "celltoolbar": "Edit Metadata",
  "hide_input": false,
  "kernelspec": {
   "display_name": "Python 3 (ipykernel)",
   "language": "python",
   "name": "python3"
  },
  "language_info": {
   "codemirror_mode": {
    "name": "ipython",
    "version": 3
   },
   "file_extension": ".py",
   "mimetype": "text/x-python",
   "name": "python",
   "nbconvert_exporter": "python",
   "pygments_lexer": "ipython3",
   "version": "3.10.11"
  },
  "nbTranslate": {
   "displayLangs": [
    "*"
   ],
   "hotkey": "alt-t",
   "langInMainMenu": true,
   "sourceLang": "en",
   "targetLang": "fr",
   "useGoogleTranslate": true
  },
  "toc": {
   "base_numbering": 1,
   "nav_menu": {},
   "number_sections": true,
   "sideBar": true,
   "skip_h1_title": false,
   "title_cell": "Table of Contents",
   "title_sidebar": "Contents",
   "toc_cell": false,
   "toc_position": {},
   "toc_section_display": true,
   "toc_window_display": false
  },
  "varInspector": {
   "cols": {
    "lenName": 16,
    "lenType": 16,
    "lenVar": 40
   },
   "kernels_config": {
    "python": {
     "delete_cmd_postfix": "",
     "delete_cmd_prefix": "del ",
     "library": "var_list.py",
     "varRefreshCmd": "print(var_dic_list())"
    },
    "r": {
     "delete_cmd_postfix": ") ",
     "delete_cmd_prefix": "rm(",
     "library": "var_list.r",
     "varRefreshCmd": "cat(var_dic_list()) "
    }
   },
   "types_to_exclude": [
    "module",
    "function",
    "builtin_function_or_method",
    "instance",
    "_Feature"
   ],
   "window_display": false
  }
 },
 "nbformat": 4,
 "nbformat_minor": 5
}
