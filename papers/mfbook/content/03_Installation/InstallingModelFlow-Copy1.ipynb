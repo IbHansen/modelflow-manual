{
 "cells": [
  {
   "cell_type": "markdown",
   "id": "76995449",
   "metadata": {},
   "source": [
    "# Installation of Modelflow\n",
    "```{index} single: Installation of model flow\n",
    "```\n",
    "\n",
    "`Modelflow` is a python package that defines the modelflow class `model` among others.  `Modelflow` has many dependencies. Installing the class the first time can take some time depending on your internet connection and computer speed.  It is essential that you follow all of the steps outlined below to ensure that your version of `modelflow` operates as expected.\n",
    "\n",
    ":::{warning}\n",
    "The following instructions concern the installation of ```modelflow``` within an Anaconda or a minconda installation of python.  Different flavors of Python may require slight changes to this recipe, but are not covered here.\n",
    ":::\n",
    "\n",
    "\n",
    "`Modelflow` is built and tested using the anaconda python environment.  It is strongly recommended to use Anaconda or MiniConda with `modelflow`.\n",
    "\n",
    "\n",
    "Modelflow is a python package that defines the ```model``` class, its methods and a number of other functions that extend and combine pre-existing python functions to allow the easy solution of complex systems of equations including macro-structural models like MFMod.  To work with ```modelflow```, a user needs to first install python (preferably the Anaconda or MiniConda variants). Then install the ```modelflow``` package and several supporting packages. \n",
    "\n",
    "While ```modelflow``` can be run directly from the python command-line or IDEs (Interactive Development Environments) like ```Spyder``` or Microsoft's ```Visual Code```, it is suggested that users also install the Jupyter notebook system. Jupyter Notebook facilitates an interactive approach to building python programs, annotating them and ultimately doing simulations using `MFMod` under ```modelflow```. This entire manual and the examples in it were all written and executed in the Jupyter Notebook environment.\n",
    "\n",
    "```{index} single: Installation of python\n",
    "```"
   ]
  },
  {
   "cell_type": "markdown",
   "id": "63c127ac",
   "metadata": {},
   "source": [
    "## Installation of Python\n",
    "\n",
    "`Python` is a powerful, versatile and extensible open-source language. It is widely used for artificial intelligence applications, interactive web sites, and scientific processing. As of 14 November 2022, the `Python Package Index` (PyPI), the official repository for third-party Python software, contained over 415,000 packages that extend its functionality [^pythonLibrary]. Modelflow is one of these packages.\n",
    "\n",
    "Python comes in many flavors and `modelflow` will work with most of them. \n",
    "\n",
    "[^pythonLibrary]: [Wikipedia article on python](https://en.wikipedia.org/wiki/Python_(programming_language))\n",
    "\n",
    "**Users are strongly advised** to use either the **Anaconda** version of Python or the closely related **MiniConda** version.\n",
    "\n",
    "\n",
    "```{index} single: MiniConda; Choosing betwen Anaconda and MiniConda\n",
    "```\n",
    "\n",
    "**Anaconda** is a full-featured distribution of python that comes with a comprehensive set of pre-installed packages and tools for scientific computing and data analysis. It is best suited for users who want a ready-to-use platform with a wide range of packages and don't mind the larger installation size. \n",
    "\n",
    "**MiniConda** is a lightweight version of Anaconda, focusing on minimalism and providing only the essential components. It offers faster installation and a smaller footprint, making it suitable for users who prefer a more streamlined environment and want more control over package selection. "
   ]
  },
  {
   "cell_type": "markdown",
   "id": "1e3003bb",
   "metadata": {},
   "source": [
    "### Which is better for me\n",
    "In general, MiniConda is preferred by users who desire a minimalistic setup and have specific package requirements, while Anaconda is suitable for users who value convenience and require a comprehensive package ecosystem. If you are already familiar with python, plan to use it with `modelflow` and have space limitations `MiniConda` is probably the best solution for you.  For users new to python `Anaconda` may be a better solution.\n",
    "\n",
    "\n",
    "Installing  **Anaconda** and **MiniConda** is very similar the difference is which installer is downloaded and then where the distribution is stored in the file system. Also both distribution can be installed without interferring with eachother.  Both are available for the Windows, MacOS and  Linux operating systems and `Modelflow` should work equally well under all three operating systems. However Only the windows version is used in this material. "
   ]
  },
  {
   "cell_type": "markdown",
   "id": "859c38e1",
   "metadata": {},
   "source": [
    "## Anaconda/MiniConda installation instructions\n",
    "```{index} single: Installation;  Anaconda\n",
    "```\n",
    "```{index} single: Anaconda; Installation\n",
    "```\n",
    "\n",
    "```{index} single: Installation;  MiniConda\n",
    "```\n",
    "```{index} single: MiniConda; Installation\n",
    "```"
   ]
  },
  {
   "cell_type": "markdown",
   "id": "e8f4806e",
   "metadata": {},
   "source": [
    "### Windows\n",
    "The definitive source for installing **Anaconda under windows** can be found [here](https://docs.anaconda.com/anaconda/install/windows/).  \n",
    "\n",
    "The definitive source for installing **MiniConda under windows** can be found [here](https://docs.conda.io/projects/miniconda/en/latest/miniconda-install.html).  \n",
    "\n",
    "For either, follow the instructions in the link, download the installer which is right for you and run it. \n",
    "\n",
    ":::{warning}\n",
    "**It is strongly advised that Anaconda/Miniconda be installed for a single user (Just Me)**  This is much easier to maintain over time -- especially in a professional environment where users may not have administrator rights on their computers.  Installing \"For all users on this computer\" (the other option offered by the installers) will substantially increase the complexity of maintaining python on your computer.\n",
    ":::"
   ]
  },
  {
   "cell_type": "markdown",
   "id": "989db731",
   "metadata": {},
   "source": [
    "### MacOS\n",
    "The definitive source for installing **Anaconda under macOS** can be found [here](https://docs.anaconda.com/anaconda/install/mac-os/).  \n",
    "\n",
    "The definitive source for installing **MiniConda under macOS** can be found [here](https://docs.conda.io/projects/conda/en/latest/user-guide/install/macos.html)."
   ]
  },
  {
   "cell_type": "markdown",
   "id": "662c7e4a",
   "metadata": {},
   "source": [
    "### Linux\n",
    "\n",
    "The definitive source for installing **Anaconda under Linux** can be found [here](https://docs.anaconda.com/anaconda/install/linux/).  \n",
    "\n",
    "The definitive source for installing **MiniConda under Linux** can be found [here](https://docs.conda.io/projects/conda/en/latest/user-guide/install/linux.html)."
   ]
  },
  {
   "cell_type": "markdown",
   "id": "c76b0930",
   "metadata": {},
   "source": [
    "## Next steps\n",
    "\n",
    "Now that either MiniConda or Anaconda have been installed the user is ready to install modeflow. have not already installed Anaconda/MiniConda  following the instructions above, please do so **Now**.\n",
    ":::"
   ]
  },
  {
   "cell_type": "markdown",
   "id": "580362c1",
   "metadata": {
    "tags": [
     "hide-cell"
    ]
   },
   "source": [
    "```{index} single: Installation of modelflow; Anaconda\n",
    "```\n",
    "```{index} single: Anaconda; Installation of model flow\n",
    "```\n",
    "\n",
    "```{index} single: Installation of modelflow; MiniConda\n",
    "```\n",
    "```{index} single: MiniCondacondd; Installation of model flow\n",
    "```"
   ]
  },
  {
   "cell_type": "markdown",
   "id": "2b2274a1",
   "metadata": {},
   "source": [
    "## Installation of ```Modelflow``` under Anaconda/MiniConda\n",
    "\n",
    "1. Open the anaconda/MiniConda command prompt (created during the installation of anaconda/MiniConda)\n",
    "2. Execute the following commands by copying and pasting them -- either line by line or as a single mult-line step\n",
    "3. Press enter\n",
    "\n",
    ":::{admonition} Open Anaconda/Miniconda  prompt\n",
    ":class: tip\n",
    "If you installed Anaconda you can open the anaconda command prompt by:<br>\n",
    "```start>all apps>anaconda3>anaconda prompt``` \n",
    "\n",
    "If you installed Miniconda you can open the anaconda command prompt by:<br> \n",
    "```start>all apps>miniconda3>anaconda prompt (miniconda3)``` \n",
    ":::\n",
    "\n",
    "\n",
    "```\n",
    "\n",
    "conda activate modelflow\n",
    "conda create -n ModelFlow -c ibh -c conda-forge modelflow_stable -y\n",
    "\n",
    "conda install pyeviews -c conda-forge\n",
    "pip install dash_interactive_graphviz\n",
    "jupyter contrib nbextension install --user\n",
    "jupyter nbextension enable hide_input_all/main\n",
    "jupyter nbextension enable splitcell/splitcell\n",
    "jupyter nbextension enable toc2/main\n",
    "jupyter nbextension enable varInspector/main\n",
    "\n",
    "```\n",
    "\n",
    "Depending on the speed of your computer and of your internet connection installation could take as little as 5 minutes or more than 1/2 an hour.\n",
    "\n",
    "```{index} single: Updating modelflow; Anaconda/MiniConda\n",
    "```\n",
    "```{index} single: Anaconda/MiniConda; Updating  model flow\n",
    "```"
   ]
  },
  {
   "cell_type": "markdown",
   "id": "5c5a2d26",
   "metadata": {},
   "source": [
    "## Updating Modelflow \n",
    "```{index} single: Update Modelflow\n",
    "```\n",
    "\n",
    "\n",
    "Once installed, a `modelflow` environment can be updated. This is done first by activating the `modelflow` environment created above. \n",
    "\n",
    "1. Open the anaconda/miniconda command prompt\n",
    "2. run `conda activate modelflow`\n",
    "3. run `conda install modelflow_stable -c ibh --no-deps`"
   ]
  },
  {
   "cell_type": "markdown",
   "id": "6000fe20",
   "metadata": {},
   "source": [
    "## Next steps\n",
    "\n",
    "At the end of the process you will have a new conda environment called `modelflow`, and this will have been activated. The computer set up is complete and the user is ready to work with `modelflow`. \n",
    "\n",
    "The following chapter gives a brief introduction to Jupyter notebook, which is a flexible tool that allows us to execute python code, interact with the modelflow class and World Bank Models and annotate what we have done for future replication.\n",
    "\n"
   ]
  }
 ],
 "metadata": {
  "celltoolbar": "Edit Metadata",
  "hide_input": false,
  "kernelspec": {
   "display_name": "Python 3 (ipykernel)",
   "language": "python",
   "name": "python3"
  },
  "language_info": {
   "codemirror_mode": {
    "name": "ipython",
    "version": 3
   },
   "file_extension": ".py",
   "mimetype": "text/x-python",
   "name": "python",
   "nbconvert_exporter": "python",
   "pygments_lexer": "ipython3",
   "version": "3.10.11"
  },
  "toc": {
   "base_numbering": 1,
   "nav_menu": {},
   "number_sections": true,
   "sideBar": true,
   "skip_h1_title": false,
   "title_cell": "Table of Contents",
   "title_sidebar": "Contents",
   "toc_cell": false,
   "toc_position": {},
   "toc_section_display": true,
   "toc_window_display": false
  },
  "varInspector": {
   "cols": {
    "lenName": 16,
    "lenType": 16,
    "lenVar": 40
   },
   "kernels_config": {
    "python": {
     "delete_cmd_postfix": "",
     "delete_cmd_prefix": "del ",
     "library": "var_list.py",
     "varRefreshCmd": "print(var_dic_list())"
    },
    "r": {
     "delete_cmd_postfix": ") ",
     "delete_cmd_prefix": "rm(",
     "library": "var_list.r",
     "varRefreshCmd": "cat(var_dic_list()) "
    }
   },
   "types_to_exclude": [
    "module",
    "function",
    "builtin_function_or_method",
    "instance",
    "_Feature"
   ],
   "window_display": false
  }
 },
 "nbformat": 4,
 "nbformat_minor": 5
}
