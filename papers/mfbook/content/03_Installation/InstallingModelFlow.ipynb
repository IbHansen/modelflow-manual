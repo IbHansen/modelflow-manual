{
 "cells": [
  {
   "cell_type": "markdown",
   "id": "5c5a2d26",
   "metadata": {},
   "source": [
    "# Installation of Modelflow\n",
    "\n",
    "`Modelflow` is a python package that defines the modelflow class `model` among others.  `Modelflow` has many dependencies. Installing the class the first time can take some time depending on your internet connection and computer speed.  It is essential that you follow all of the steps outlined below to ensure that your version of `modelflow` operates as expected.\n",
    "\n",
    ":::{warning}\n",
    "The following instructions concern the installation of ```modelflow``` within an Anaconda installation of python.  Different flavors of Python may require slight changes to this recipe, but are not covered here.\n",
    "\n",
    "`Modelflow` is built and tested using the anaconda python environment.  It is strongly recommended to use Anaconda with `modelflow`.\n",
    "\n",
    "If you have not already installed Anaconda following the instructions in the preceding section, please do so **Now**.\n",
    ":::\n",
    "\n",
    "## Installation of ```modelflow``` using Miniconda Anaconda\n",
    "\n",
    "Open the a command prompt or continue in the command prompt used to install python.\n",
    "\n",
    " copy/paste these lines to the command prompt\n",
    "\n",
    "\n",
    "\n",
    "```\n",
    "%USERPROFILE%\\miniconda3\\Scripts\\activate.bat %USERPROFILE%\\miniconda3 \n",
    "\n",
    "mamba create -n modelflow -c ibh -c  conda-forge modelflow_pinned_developement_test -y\n",
    "\n",
    "conda activate modelflow\n",
    "pip install dash_interactive_graphviz\n",
    "jupyter contrib nbextension install --user\n",
    "jupyter nbextension enable hide_input_all/main\n",
    "jupyter nbextension enable splitcell/splitcell\n",
    "jupyter nbextension enable toc2/main\n",
    "jupyter nbextension enable varInspector/main\n",
    "\n",
    "\n",
    "```\n",
    "\n",
    "Depending on the speed of your computer and of your internet connection installation could take as little as 10 minutes or more than 1/2 an hour.\n",
    "\n",
    "At the end of the process you will have a new conda environment called `modelflow`, and this will have been activated. The computer set up is complete and the user is ready to work with `modelflow`. \n",
    "\n",
    "The following sections give a brief introduction to Jupyter notebook, which is a flexible tool that allows us to execute python code, interact with the modelflow class and World Bank Models and annotate what we have done for future replication.\n",
    "\n",
    "\n",
    "\n"
   ]
  },
  {
   "cell_type": "markdown",
   "id": "d48a6e79",
   "metadata": {},
   "source": [
    "## Updating Modelflow\n",
    "\n",
    "Once installed, a `modelflow` environment can be updated. This is done first by activating the `modelflow` environment created above. \n",
    "\n",
    "```\n",
    "%USERPROFILE%\\miniconda3\\Scripts\\activate.bat %USERPROFILE%\\miniconda3 \n",
    "conda activate modelflow\n",
    "\n",
    "```\n",
    "\n",
    "And then executing the command: \n",
    "\n",
    "```\n",
    "mamba install modelflow_pinned_developement_test -c ibh --no-deps\n",
    "\n",
    "\n",
    "\n",
    "```"
   ]
  },
  {
   "cell_type": "markdown",
   "id": "c293043a",
   "metadata": {},
   "source": [
    "## Starting a Python session with modelflow.\n",
    "\n",
    "This can be done by starting the ```Anaconda Prompt (miniconda3)``` app. This will create a command window with a base python environment. Now you want to change the environment to the modelflow environment. This is done like this: \n",
    "\n",
    "```\n",
    "conda activate modelflow\n",
    "\n",
    "```\n",
    "\n",
    "Now we are ready to start jupyter by: \n",
    "\n",
    "```\n",
    "cd <path where you want to start> \n",
    "jupyter notebook\n",
    "```"
   ]
  },
  {
   "cell_type": "markdown",
   "id": "962c0810",
   "metadata": {
    "cell_style": "center"
   },
   "source": [
    "## Creating a .lnk file to start Jupyter with modelflow.\n",
    "\n",
    "It can be convenient to create a icon on the desktop which start up jupyter in a modelflow environment. This is done by creating a new shortcut where the **destination/target** is: \n",
    "\n",
    "```\n",
    "%windir%\\System32\\cmd.exe \"/K\" %USERPROFILE%\\miniconda3\\Scripts\\activate.bat %USERPROFILE%\\miniconda3\\envs\\modelflow&&jupyter notebook\n",
    "```\n",
    "This will create a command window, activate modelflow and start jupyter notebook\n",
    "\n",
    "\n",
    "and the **Start in**  is set to the folder where you want jupyter to start from. <br>\n",
    "Be aware that jupyter can't access notebooks \"before\" the `Start in` location. `C:\\` could be a choice. \n",
    "\n"
   ]
  },
  {
   "cell_type": "code",
   "execution_count": null,
   "id": "69948211",
   "metadata": {},
   "outputs": [],
   "source": []
  }
 ],
 "metadata": {
  "hide_input": false,
  "kernelspec": {
   "display_name": "Python 3 (ipykernel)",
   "language": "python",
   "name": "python3"
  },
  "language_info": {
   "codemirror_mode": {
    "name": "ipython",
    "version": 3
   },
   "file_extension": ".py",
   "mimetype": "text/x-python",
   "name": "python",
   "nbconvert_exporter": "python",
   "pygments_lexer": "ipython3",
   "version": "3.9.16"
  },
  "toc": {
   "base_numbering": 1,
   "nav_menu": {},
   "number_sections": true,
   "sideBar": true,
   "skip_h1_title": false,
   "title_cell": "Table of Contents",
   "title_sidebar": "Contents",
   "toc_cell": false,
   "toc_position": {},
   "toc_section_display": true,
   "toc_window_display": false
  },
  "varInspector": {
   "cols": {
    "lenName": 16,
    "lenType": 16,
    "lenVar": 40
   },
   "kernels_config": {
    "python": {
     "delete_cmd_postfix": "",
     "delete_cmd_prefix": "del ",
     "library": "var_list.py",
     "varRefreshCmd": "print(var_dic_list())"
    },
    "r": {
     "delete_cmd_postfix": ") ",
     "delete_cmd_prefix": "rm(",
     "library": "var_list.r",
     "varRefreshCmd": "cat(var_dic_list()) "
    }
   },
   "types_to_exclude": [
    "module",
    "function",
    "builtin_function_or_method",
    "instance",
    "_Feature"
   ],
   "window_display": false
  }
 },
 "nbformat": 4,
 "nbformat_minor": 5
}
