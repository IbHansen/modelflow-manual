{
 "cells": [
  {
   "cell_type": "markdown",
   "id": "c76b0930",
   "metadata": {},
   "source": [
    "# Installation of Modelflow\n",
    "```{index} single: Installation of model flow\n",
    "```\n",
    "\n",
    "`Modelflow` is a python package that defines the modelflow class `model` among others.  `Modelflow` has many dependencies. Installing the class the first time can take some time depending on your internet connection and computer speed.  It is essential that you follow all of the steps outlined below to ensure that your version of `modelflow` operates as expected.\n",
    "\n",
    ":::{warning}\n",
    "The following instructions concern the installation of ```modelflow``` within an Anaconda or a minconda installation of python.  Different flavors of Python may require slight changes to this recipe, but are not covered here.\n",
    "\n",
    "`Modelflow` is built and tested using the anaconda python environment.  It is strongly recommended to use Anaconda or miniconda with `modelflow`.\n",
    "\n",
    "If you have not already installed Anaconda/miniconda  following the instructions in the preceding chapter, please do so **Now**.\n",
    ":::"
   ]
  },
  {
   "cell_type": "markdown",
   "id": "580362c1",
   "metadata": {
    "tags": [
     "hide-cell"
    ]
   },
   "source": [
    "```{index} single: Installation of modelflow; Anaconda\n",
    "```\n",
    "```{index} single: Anaconda; Installation of model flow\n",
    "```\n",
    "\n",
    "```{index} single: Installation of modelflow; Miniconda\n",
    "```\n",
    "```{index} single: Minicondacondd; Installation of model flow\n",
    "```"
   ]
  },
  {
   "attachments": {},
   "cell_type": "markdown",
   "id": "2b2274a1",
   "metadata": {},
   "source": [
    "## Installation of ```modelflow``` under Anaconda/Miniconda\n",
    "\n",
    "1. Open the anaconda/miniconda command prompt (created during the installation of anaconda/miniconda)\n",
    "2. Execute the following commands by copying and pasting them -- either line by line or as a single mult-line step\n",
    "3. Press enter\n",
    "\n",
    "### Open anaconda  prompt\n",
    "\n",
    "If you installed anaconda you can open the anaconda command prompt by simply searching for anaconda, and clicking on the anacpnmda command prompt.\n",
    "![image.png](attachment:image.png)\n",
    "\n",
    "Alternatively you can work from a windows command prompt and execute the following command.\n",
    "\n",
    "```\n",
    "%USERPROFILE%\\anaconda3\\Scripts\\activate.bat %USERPROFILE%\\anaconda3 \n",
    "```\n",
    "\n",
    "### Open miniconda  prompt\n",
    "\n",
    "If you installed miniconda you can open the miniconda prompt by opening a windows command prompt and executing the following command.\n",
    "\n",
    "```\n",
    "%USERPROFILE%\\miniconda3\\Scripts\\activate.bat %USERPROFILE%\\miniconda3 \n",
    "```\n",
    "\n",
    "### Installation of modelflow\n",
    "\n",
    "Once the anaconda otr minconda command prompt is active you can install modelflow by executing the following lines of code\n",
    "-- either line by line or as a single mult-line step.\n",
    "\n",
    "```\n",
    "\n",
    "conda activate modelflow\n",
    "conda create -n ModelFlow -c ibh -c conda-forge modelflow_stable -y\n",
    "\n",
    "conda install pyeviews -c condser\n",
    "pip install dash_interactive_graphviz\n",
    "jupyter contrib nbextension install --user\n",
    "jupyter nbextension enable hide_input_all/main\n",
    "jupyter nbextension enable splitcell/splitcell\n",
    "jupyter nbextension enable toc2/main\n",
    "jupyter nbextension enable varInspector/main\n",
    "\n",
    "```\n",
    "\n",
    "Depending on the speed of your computer and of your internet connection installation could take as little as 5 minutes or more than 1/2 an hour.\n",
    "\n",
    "```{index} single: Updating modelflow; Anaconda/Miniconda\n",
    "```\n",
    "```{index} single: Anaconda/Miniconda; Updating  model flow\n",
    "```"
   ]
  },
  {
   "cell_type": "markdown",
   "id": "5c5a2d26",
   "metadata": {},
   "source": [
    "```{index} single: Modelflow; Update modeflow software\n",
    "```\n",
    "\n",
    "### Updating Modelflow under Anaconda/Miniconda\n",
    "\n",
    "\n",
    "Once installed, a `modelflow` environment can be updated. This is done first by activating the `modelflow` environment created above. \n",
    "\n",
    "1. Open the anaconda/miniconda command prompt\n",
    "2. run `conda activate modelflow`\n",
    "3. run `conda install modelflow -c ibh --no-deps`"
   ]
  },
  {
   "cell_type": "markdown",
   "id": "6000fe20",
   "metadata": {},
   "source": [
    "## Next steps\n",
    "\n",
    "At the end of the process you will have a new conda environment called `modelflow`, and this will have been activated. The computer set up is complete and the user is ready to work with `modelflow`. \n",
    "\n",
    "The following chapter gives a brief introduction to Jupyter notebook, which is a flexible tool that allows us to execute python code, interact with the modelflow class and World Bank Models and annotate what we have done for future replication.\n",
    "\n"
   ]
  }
 ],
 "metadata": {
  "celltoolbar": "Edit Metadata",
  "hide_input": false,
  "kernelspec": {
   "display_name": "Python 3 (ipykernel)",
   "language": "python",
   "name": "python3"
  },
  "language_info": {
   "codemirror_mode": {
    "name": "ipython",
    "version": 3
   },
   "file_extension": ".py",
   "mimetype": "text/x-python",
   "name": "python",
   "nbconvert_exporter": "python",
   "pygments_lexer": "ipython3",
   "version": "3.10.11"
  },
  "toc": {
   "base_numbering": 1,
   "nav_menu": {},
   "number_sections": true,
   "sideBar": true,
   "skip_h1_title": false,
   "title_cell": "Table of Contents",
   "title_sidebar": "Contents",
   "toc_cell": false,
   "toc_position": {},
   "toc_section_display": true,
   "toc_window_display": false
  },
  "varInspector": {
   "cols": {
    "lenName": 16,
    "lenType": 16,
    "lenVar": 40
   },
   "kernels_config": {
    "python": {
     "delete_cmd_postfix": "",
     "delete_cmd_prefix": "del ",
     "library": "var_list.py",
     "varRefreshCmd": "print(var_dic_list())"
    },
    "r": {
     "delete_cmd_postfix": ") ",
     "delete_cmd_prefix": "rm(",
     "library": "var_list.r",
     "varRefreshCmd": "cat(var_dic_list()) "
    }
   },
   "types_to_exclude": [
    "module",
    "function",
    "builtin_function_or_method",
    "instance",
    "_Feature"
   ],
   "window_display": false
  }
 },
 "nbformat": 4,
 "nbformat_minor": 5
}
