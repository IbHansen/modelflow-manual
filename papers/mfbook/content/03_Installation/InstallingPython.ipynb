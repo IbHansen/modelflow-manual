{
 "cells": [
  {
   "cell_type": "markdown",
   "id": "ce609a34",
   "metadata": {},
   "source": [
    "# Installation of Modelflow\n",
    "\n",
    "Modelflow is a python package that defines the ```model``` class, its methods and a number of other functions that extend and combine pre-existing python functions to allow the easy solution of complex systems of equations including macro-structural models like MFMod.  To work with ```modelflow```, a user needs to first install python (preferably the Anaconda or miniconda variants), several supporting packages, and of course the ```modelflow``` package itself.  While ```modelflow``` can be run directly from the python command-line or IDEs (Interactive Development Environments) like ```Spyder``` or Microsoft's ```Visual Code```, it is suggested that users also install the Jupyter notebook system. Jupyter Notebook facilitates an interactive approach to building python programs, annotating them and ultimately doing simulations using `MFMod` under ```modelflow```. This entire manual and the examples in it were all written and executed in the Jupyter Notebook environment."
   ]
  },
  {
   "cell_type": "markdown",
   "id": "9ce7711b",
   "metadata": {
    "tags": [
     "hide-input"
    ]
   },
   "source": [
    "```{index} single: Installation of python\n",
    "```"
   ]
  },
  {
   "cell_type": "markdown",
   "id": "7873f483",
   "metadata": {},
   "source": [
    "## Installation of Python\n",
    "```{index}Installation\n",
    "```\n",
    "`Python` is a powerful, versatile and extensible open-source language. It is widely used for artificial intelligence applications, interactive web sites, and scientific processing. As of 14 November 2022, the `Python Package Index` (PyPI), the official repository for third-party Python software, contained over 415,000 packages that extend its functionality [^pythonLibrary]. Modelflow is one of these packages.\n",
    "\n",
    "Python comes in many flavors and `modelflow` will work with any of them. \n",
    "\n",
    "[^pythonLibrary]: [Wikipedia article on python](https://en.wikipedia.org/wiki/Python_(programming_language))\n",
    "\n",
    "**Users are strongly advised** to use either the **Anaconda** version of Python or the closely related **Miniconda** version.\n",
    "\n",
    "### Choosing  between Anaconda and Miniconda\n",
    "\n",
    "**Anaconda** is a full-featured distribution of python that comes with a comprehensive set of pre-installed packages and tools for scientific computing and data analysis. It is best suited for users who want a ready-to-use platform with a wide range of packages and don't mind the larger installation size. \n",
    "\n",
    "**MiniConda** is a lightweight version of Anaconda, focusing on minimalism and providing only the essential components. It offers faster installation and a smaller footprint, making it suitable for users who prefer a more streamlined environment and want more control over package selection. \n",
    "\n",
    "#### Which is better for me\n",
    "In general, MiniConda is preferred by users who desire a minimalistic setup and have specific package requirements, while Anaconda is suitable for users who value convenience and require a comprehensive package ecosystem. If you are already familiar with python, plan to use it with `modelflow` and have space limitations `miniconda` is probably the best solution for you.  For users new to python `Anaconda` may be a better solution.\n",
    "\n",
    "\n",
    "The following two sub-sections direct the reader to instructions on how to install the **Anaconda** version of python and on how to install **Miniconda**. Both are available for the Windows, MacOS and  Linux operating systems and `Modelflow` works equally well under all three operating systems. \n",
    "\n",
    "A final sub-section describes the steps necessary to create an anaconda or miniconda environment with all the necessary packages to run `modelflow`.\n"
   ]
  },
  {
   "cell_type": "markdown",
   "id": "1edc0353",
   "metadata": {
    "tags": [
     "hide-input"
    ]
   },
   "source": [
    "```{index} single: Anaconda; Installation \n",
    "```"
   ]
  },
  {
   "cell_type": "markdown",
   "id": "6e74c794",
   "metadata": {},
   "source": [
    "#### Anaconda installation instructions\n",
    "```{index}Installation Anaconda\n",
    "```\n",
    "##### Windows\n",
    "The definitive source for installing **Anaconda under windows** can be found [here](https://docs.anaconda.com/anaconda/install/windows/).  \n",
    "\n",
    ":::{warning}\n",
    "**It is strongly advised that Anaconda be installed for a single user (Just Me)**  This is much easier to maintain over time -- especially in a professional environment where users may not have administrator rights on their computers.  Installing \"For all users on this computer\" (the other option offered by the `anaconda` installer) will substantially increase the complexity of maintaining python on your computer.\n",
    ":::\n"
   ]
  },
  {
   "cell_type": "markdown",
   "id": "a6ce6d32",
   "metadata": {},
   "source": [
    "##### MacOS\n",
    "The definitive source for installing **Anaconda under macOS** can be found [here](https://docs.anaconda.com/anaconda/install/mac-os/).  \n",
    "\n",
    "\n"
   ]
  },
  {
   "cell_type": "markdown",
   "id": "f6df04b6",
   "metadata": {},
   "source": [
    "##### Linux\n",
    "\n",
    "The definitive source for installing Anaconda under Linux can be found [here](https://docs.anaconda.com/anaconda/install/linux/).  \n",
    "\n"
   ]
  },
  {
   "cell_type": "markdown",
   "id": "3c32ada9",
   "metadata": {
    "tags": [
     "hide-input"
    ]
   },
   "source": [
    "```{index} single: Miniconda; Installation\n",
    "```"
   ]
  },
  {
   "cell_type": "markdown",
   "id": "170124c3",
   "metadata": {},
   "source": [
    "## Installation of Miniconda under Windows: \n",
    "```{index}Installation Miniconda\n",
    "```\n",
    "\n",
    "The easiest way to install **Miniconda**is to install its package manager from Anaconda. You can find a link [here](https://docs.conda.io/en/latest/miniconda.html). The latest version can be downloaded and installed by execution the following commands in a Windows command window.\n",
    "\n",
    "Open the a command prompt.\n",
    "\n",
    "\n",
    "**First** copy/paste these lines to the command prompt\n",
    "\n",
    "``` \n",
    "curl -L \"https://repo.anaconda.com/miniconda/Miniconda3-latest-Windows-x86_64.exe\" --output %TEMP%\\miniconda.exe\n",
    "%temp%\\miniconda.exe /S /D=%USERPROFILE%\\miniconda3\n",
    "```\n",
    "These lines will download miniconda and install it in the users folder\n",
    "\n",
    "**Then** copy/paste these lines to the command prompt\n",
    "\n",
    "``` \n",
    "call %USERPROFILE%\\miniconda3\\Scripts\\activate.bat %USERPROFILE%\\miniconda3\n",
    "call conda install mamba -c conda-forge -y\n",
    "\n",
    "```\n",
    "These lines will install the mamba package manager. Mamba is a faster alternative to the conda default package manager in miniconda. "
   ]
  }
 ],
 "metadata": {
  "celltoolbar": "Edit Metadata",
  "hide_input": false,
  "kernelspec": {
   "display_name": "Python 3 (ipykernel)",
   "language": "python",
   "name": "python3"
  },
  "language_info": {
   "codemirror_mode": {
    "name": "ipython",
    "version": 3
   },
   "file_extension": ".py",
   "mimetype": "text/x-python",
   "name": "python",
   "nbconvert_exporter": "python",
   "pygments_lexer": "ipython3",
   "version": "3.10.11"
  },
  "toc": {
   "base_numbering": 1,
   "nav_menu": {},
   "number_sections": true,
   "sideBar": true,
   "skip_h1_title": false,
   "title_cell": "Table of Contents",
   "title_sidebar": "Contents",
   "toc_cell": false,
   "toc_position": {},
   "toc_section_display": true,
   "toc_window_display": false
  }
 },
 "nbformat": 4,
 "nbformat_minor": 5
}
