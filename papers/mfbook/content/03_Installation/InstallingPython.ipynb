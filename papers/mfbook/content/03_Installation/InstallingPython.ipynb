{
 "cells": [
  {
   "cell_type": "markdown",
   "id": "ce609a34",
   "metadata": {},
   "source": [
    "# Installation of Modelflow\n",
    "\n",
    "Modelflow is a python package that defines the ```model``` class, its methods and a number of other functions that extend and combine pre-existing python functions to allow the easy solution of complex systems of equations including macro-structural models like MFMod.  To work with ```modelflow```, a user needs to first install python (preferably the Anaconda or miniconda variants). Then install the ```modelflow``` package and several supporting packages. \n",
    "\n",
    "While ```modelflow``` can be run directly from the python command-line or IDEs (Interactive Development Environments) like ```Spyder``` or Microsoft's ```Visual Code```, it is suggested that users also install the Jupyter notebook system. Jupyter Notebook facilitates an interactive approach to building python programs, annotating them and ultimately doing simulations using `MFMod` under ```modelflow```. This entire manual and the examples in it were all written and executed in the Jupyter Notebook environment."
   ]
  },
  {
   "cell_type": "markdown",
   "id": "9ce7711b",
   "metadata": {
    "tags": [
     "hide-cell"
    ]
   },
   "source": [
    "```{index} single: Installation of python\n",
    "```"
   ]
  },
  {
   "cell_type": "markdown",
   "id": "7873f483",
   "metadata": {},
   "source": [
    "## Installation of Python\n",
    "\n",
    "`Python` is a powerful, versatile and extensible open-source language. It is widely used for artificial intelligence applications, interactive web sites, and scientific processing. As of 14 November 2022, the `Python Package Index` (PyPI), the official repository for third-party Python software, contained over 415,000 packages that extend its functionality [^pythonLibrary]. Modelflow is one of these packages.\n",
    "\n",
    "Python comes in many flavors and `modelflow` will work with many of them. \n",
    "\n",
    "[^pythonLibrary]: [Wikipedia article on python](https://en.wikipedia.org/wiki/Python_(programming_language))\n",
    "\n",
    "**Users are strongly advised** to use either the **Anaconda** version of Python or the closely related **Miniconda** version.\n",
    "\n",
    "```{index} single: Anaconda; Choosing betwen Anaconda and Miniconda\n",
    "```\n",
    "```{index} single: Miniconda; Choosing betwen Anaconda and Miniconda\n",
    "```\n",
    "## Choosing  between Anaconda and Miniconda\n",
    "\n",
    "**Anaconda** is a full-featured distribution of python that comes with a comprehensive set of pre-installed packages and tools for scientific computing and data analysis. It is best suited for users who want a ready-to-use platform with a wide range of packages and don't mind the larger installation size. \n",
    "\n",
    "**MiniConda** is a lightweight version of Anaconda, focusing on minimalism and providing only the essential components. It offers faster installation and a smaller footprint, making it suitable for users who prefer a more streamlined environment and want more control over package selection. \n",
    "\n",
    "#### Which is better for me\n",
    "In general, MiniConda is preferred by users who desire a minimalistic setup and have specific package requirements, while Anaconda is suitable for users who value convenience and require a comprehensive package ecosystem. If you are already familiar with python, plan to use it with `modelflow` and have space limitations `miniconda` is probably the best solution for you.  For users new to python `Anaconda` may be a better solution.\n",
    "\n",
    "\n",
    "Installing  **Anaconda** and **Miniconda** is very similar the difference is which installer is downloaded and then where the distribution is stored in the file system. Also both distribution can be installed without interferring with eachother.  Both are available for the Windows, MacOS and  Linux operating systems and `Modelflow` should work equally well under all three operating systems. However Only the windows version is used in this material. "
   ]
  },
  {
   "cell_type": "markdown",
   "id": "6e74c794",
   "metadata": {},
   "source": [
    "## Anaconda/Miniconda installation instructions\n",
    "```{index} single: Installation;  Anaconda\n",
    "```\n",
    "```{index} single: Anaconda; Installation\n",
    "```\n",
    "\n",
    "```{index} single: Installation;  Miniconda\n",
    "```\n",
    "```{index} single: Miniconda; Installation\n",
    "```\n",
    "### Windows\n",
    "The definitive source for installing **Anaconda under windows** can be found [here](https://docs.anaconda.com/anaconda/install/windows/).  \n",
    "For MiniConda it can be found  [here](https://docs.conda.io/projects/miniconda/en/latest/)\n",
    "\n",
    "To install follow the instructions, and download the installer which is right for you and run it. \n",
    "\n",
    ":::{warning}\n",
    "**It is strongly advised that Anaconda/Miniconda  be installed for a single user (Just Me)**  This is much easier to maintain over time -- especially in a professional environment where users may not have administrator rights on their computers.  Installing \"For all users on this computer\" (the other option offered by the `anaconda` installer) will substantially increase the complexity of maintaining python on your computer.\n",
    ":::"
   ]
  },
  {
   "cell_type": "markdown",
   "id": "a6ce6d32",
   "metadata": {},
   "source": [
    "### MacOS\n",
    "The definitive source for installing **Anaconda under macOS** can be found [here](https://docs.anaconda.com/anaconda/install/mac-os/).  \n",
    "\n",
    "\n"
   ]
  },
  {
   "cell_type": "markdown",
   "id": "f6df04b6",
   "metadata": {},
   "source": [
    "### Linux\n",
    "\n",
    "The definitive source for installing Anaconda under Linux can be found [here](https://docs.anaconda.com/anaconda/install/linux/).  \n",
    "\n"
   ]
  },
  {
   "cell_type": "markdown",
   "id": "170124c3",
   "metadata": {},
   "source": [
    "## Command line install of Miniconda : \n",
    "```{index} single: Installation, command line; Miniconda\n",
    "```\n",
    "```{index} single: Miniconda; Command line installation\n",
    "```\n",
    "\n",
    "Instead of using a browser to download the distribution and then install, the user can install **Miniconda** by using only command lines. \n",
    "The latest version can be downloaded and installed by execution the following commands in a Windows command window.\n",
    "\n",
    "Open the a command prompt.\n",
    "\n",
    "\n",
    "**First** copy/paste these lines to the command prompt\n",
    "\n",
    "``` \n",
    "curl -L \"https://repo.anaconda.com/miniconda/Miniconda3-latest-Windows-x86_64.exe\" --output %TEMP%\\miniconda.exe\n",
    "%temp%\\miniconda.exe /S /D=%USERPROFILE%\\miniconda3\n",
    "```\n",
    "These lines will download miniconda and install it in the users folder\n",
    "\n",
    "**Then** copy/paste these lines to the command prompt\n",
    "\n",
    "``` \n",
    "call %USERPROFILE%\\miniconda3\\Scripts\\activate.bat %USERPROFILE%\\miniconda3\n",
    "\n",
    "```\n",
    "This line will open a windows command prompt where the miniconda environment has been activated. And we are ready to install modelflow. "
   ]
  },
  {
   "cell_type": "code",
   "execution_count": null,
   "id": "629a41b5",
   "metadata": {},
   "outputs": [],
   "source": []
  }
 ],
 "metadata": {
  "celltoolbar": "Edit Metadata",
  "hide_input": false,
  "kernelspec": {
   "display_name": "Python 3 (ipykernel)",
   "language": "python",
   "name": "python3"
  },
  "language_info": {
   "codemirror_mode": {
    "name": "ipython",
    "version": 3
   },
   "file_extension": ".py",
   "mimetype": "text/x-python",
   "name": "python",
   "nbconvert_exporter": "python",
   "pygments_lexer": "ipython3",
   "version": "3.10.11"
  },
  "toc": {
   "base_numbering": 1,
   "nav_menu": {},
   "number_sections": true,
   "sideBar": true,
   "skip_h1_title": false,
   "title_cell": "Table of Contents",
   "title_sidebar": "Contents",
   "toc_cell": false,
   "toc_position": {},
   "toc_section_display": true,
   "toc_window_display": false
  },
  "varInspector": {
   "cols": {
    "lenName": 16,
    "lenType": 16,
    "lenVar": 40
   },
   "kernels_config": {
    "python": {
     "delete_cmd_postfix": "",
     "delete_cmd_prefix": "del ",
     "library": "var_list.py",
     "varRefreshCmd": "print(var_dic_list())"
    },
    "r": {
     "delete_cmd_postfix": ") ",
     "delete_cmd_prefix": "rm(",
     "library": "var_list.r",
     "varRefreshCmd": "cat(var_dic_list()) "
    }
   },
   "types_to_exclude": [
    "module",
    "function",
    "builtin_function_or_method",
    "instance",
    "_Feature"
   ],
   "window_display": false
  }
 },
 "nbformat": 4,
 "nbformat_minor": 5
}
