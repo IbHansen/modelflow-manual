{
 "cells": [
  {
   "cell_type": "markdown",
   "id": "ce609a34",
   "metadata": {},
   "source": [
    "# Installation of Python\n",
    "\n",
    "```{warning}\n",
    "IB:Changed to Miniconda. \n",
    "\n",
    "```\n",
    "\n",
    "Modelflow is a python package that defines the ```model``` class, its methods and a number of other functions that extend and combine pre-existing python functions to allow the easy solution of complex systems of equations including macro-structural models like MFMod.  To work with ```modelflow```, a user needs to first install python (preferably the Anaconda variant), several supporting packages, and of course the ```modelflow``` package itself.  \n",
    "\n",
    "```modelflow``` can be run through the Jupyter notebook system, directly from the python command-line or from IDEs (Interactive Development Environments) like ```Spyder``` or Microsoft's ```Visual Code```. \n",
    "\n",
    "The Jupyter Notebook facilitates an interactive approach to building python programs, annotating them and ultimately doing simulations using MFMod under ```modelflow```. This entire manual and the examples in it were all written and executed in the Jupyter Notebook environment."
   ]
  },
  {
   "cell_type": "markdown",
   "id": "7873f483",
   "metadata": {},
   "source": [
    "## Installation of Python\n",
    "\n",
    "`Python` is an extremely powerful, versatile and extensible open-source language. It is widely used for artificial intelligence application, interactive web sites, and scientific processing. As of 14 November 2022, the `Python Package Index` (PyPI), the official repository for third-party Python software, contained over 415,000 packages that extend its functionality [^pythonLibrary]. Modelflow is one of these packages.\n",
    "\n",
    "Python comes in many flavors and `modelflow` will work with any of them.  However, **users are strongly advised to use the Anaconda version of Python**. It is advised to use the **Miniconda** version of the package manager, this is will only install the minimum needed packages. However the full **Anaconda** version can also be used.  \n",
    "\n",
    "The remainder of this section points to instructions on how to install the Miniconda version of python under Windows. `Modelflow` works equally well under linux and should work under MacOS. \n",
    "\n",
    "This is followed by section that describes the steps necessary to create an anaconda environment with all the necessary packages to run `modelflow`.\n",
    "\n",
    "[^pythonLibrary]: [Wikipedia article on python](https://en.wikipedia.org/wiki/Python_(programming_language))"
   ]
  },
  {
   "cell_type": "markdown",
   "id": "b7c6fb16",
   "metadata": {},
   "source": [
    "## Installation of Miniconda under windows: \n",
    "\n",
    "The easy way to install is to use the **Miniconda** package manager from Anaconda. You can find a link [here](https://docs.conda.io/en/latest/miniconda.html). The latest version can be downloaded and installed by execution these command in a command window.\n",
    "\n",
    "Open the a command prompt\n",
    "\n",
    "\n",
    "**First** copy/paste these lines to the command prompt\n",
    "\n",
    "``` \n",
    "curl -L \"https://repo.anaconda.com/miniconda/Miniconda3-latest-Windows-x86_64.exe\" --output %TEMP%\\miniconda.exe\n",
    "%temp%\\miniconda.exe /S /D=%USERPROFILE%\\miniconda3\n",
    "\n",
    "```\n",
    "These lines will download miniconda and install it in the users folder\n",
    "\n",
    "\n",
    "**Then** copy/paste these lines to the command prompt\n",
    "\n",
    "``` \n",
    "call %USERPROFILE%\\miniconda3\\Scripts\\activate.bat %USERPROFILE%\\miniconda3\n",
    "call conda install mamba -c conda-forge -y\n",
    "\n",
    "```\n",
    "These lines will install the mamba packagde manager. Mamba is a faster alternative to the conda default package manager in miniconda.  \n"
   ]
  },
  {
   "cell_type": "markdown",
   "id": "a6ce6d32",
   "metadata": {},
   "source": [
    "### Installation of Python under macOS\n",
    "\n",
    "The definitive source for installing Anaconda under macOS can be found [here](https://docs.anaconda.com/anaconda/install/mac-os/).  \n",
    "\n",
    "\n"
   ]
  },
  {
   "cell_type": "markdown",
   "id": "f6df04b6",
   "metadata": {},
   "source": [
    "### Installation of Python under Linux\n",
    "\n",
    "The definitive source for installing Anaconda under Linux can be found [here](https://docs.anaconda.com/anaconda/install/linux/).  \n",
    "\n"
   ]
  }
 ],
 "metadata": {
  "hide_input": false,
  "kernelspec": {
   "display_name": "Python 3 (ipykernel)",
   "language": "python",
   "name": "python3"
  },
  "language_info": {
   "codemirror_mode": {
    "name": "ipython",
    "version": 3
   },
   "file_extension": ".py",
   "mimetype": "text/x-python",
   "name": "python",
   "nbconvert_exporter": "python",
   "pygments_lexer": "ipython3",
   "version": "3.9.16"
  },
  "toc": {
   "base_numbering": 1,
   "nav_menu": {},
   "number_sections": true,
   "sideBar": true,
   "skip_h1_title": false,
   "title_cell": "Table of Contents",
   "title_sidebar": "Contents",
   "toc_cell": false,
   "toc_position": {},
   "toc_section_display": true,
   "toc_window_display": false
  },
  "varInspector": {
   "cols": {
    "lenName": 16,
    "lenType": 16,
    "lenVar": 40
   },
   "kernels_config": {
    "python": {
     "delete_cmd_postfix": "",
     "delete_cmd_prefix": "del ",
     "library": "var_list.py",
     "varRefreshCmd": "print(var_dic_list())"
    },
    "r": {
     "delete_cmd_postfix": ") ",
     "delete_cmd_prefix": "rm(",
     "library": "var_list.r",
     "varRefreshCmd": "cat(var_dic_list()) "
    }
   },
   "types_to_exclude": [
    "module",
    "function",
    "builtin_function_or_method",
    "instance",
    "_Feature"
   ],
   "window_display": false
  }
 },
 "nbformat": 4,
 "nbformat_minor": 5
}
