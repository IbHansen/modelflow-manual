{
 "cells": [
  {
   "cell_type": "markdown",
   "id": "84dcf1d3",
   "metadata": {},
   "source": [
    "# Installation of Python\n",
    "\n",
    "```{index} single: Installation;  Python\n",
    "```\n",
    "\n",
    "\n",
    "`Python` is a powerful, versatile and extensible open-source language. It is widely used for artificial intelligence applications, interactive web sites, and scientific processing. As of 14 November 2022, the `Python Package Index` (PyPI), the official repository for third-party Python software, contained over 415,000 packages that extend its functionality [^pythonLibrary]. Modelflow is one of these packages.\n",
    "\n",
    "Python comes in many flavors and `modelflow` will work with most of them. \n",
    "\n",
    "[^pythonLibrary]: [Wikipedia article on python](https://en.wikipedia.org/wiki/Python_(programming_language))\n",
    "\n",
    "**Users are strongly advised** to use either the **Anaconda** version of Python or the closely related **MiniConda** version.\n",
    "\n",
    "\n",
    "```{index} single: MiniConda; Choosing betwen Anaconda and MiniConda\n",
    "```\n",
    "\n",
    "**Anaconda** is a full-featured distribution of python that comes with a comprehensive set of pre-installed packages and tools for scientific computing and data analysis. It is best suited for users who want a ready-to-use platform with a wide range of packages and don't mind the larger installation size. \n",
    "\n",
    "**MiniConda** is a lightweight version of Anaconda, focusing on minimalism and providing only the essential components. It offers faster installation and a smaller footprint, making it suitable for users who prefer a more streamlined environment and want more control over package selection. "
   ]
  },
  {
   "cell_type": "markdown",
   "id": "92026153",
   "metadata": {},
   "source": [
    "## Which is better for me\n",
    "In general, MiniConda is preferred by users who desire a minimalistic setup and have specific package requirements, while Anaconda is suitable for users who value convenience and require a comprehensive package ecosystem. If you are already familiar with python, plan to use it with `modelflow` and have space limitations `MiniConda` is probably the best solution for you.  For users new to python `Anaconda` may be a better solution.\n",
    "\n",
    "\n",
    "Installing  **Anaconda** and **MiniConda** is very similar the difference is which installer is downloaded and then where the distribution is stored in the file system. Also both distribution can be installed without interferring with eachother.  Both are available for the Windows, MacOS and  Linux operating systems and `Modelflow` should work equally well under all three operating systems. However Only the windows version is used in this material. "
   ]
  },
  {
   "cell_type": "markdown",
   "id": "489c9fe6",
   "metadata": {},
   "source": [
    "## Anaconda/MiniConda installation instructions\n",
    "```{index} single: Installation;  Anaconda\n",
    "```\n",
    "```{index} single: Anaconda; Installation\n",
    "```\n",
    "\n",
    "```{index} single: Installation;  MiniConda\n",
    "```\n",
    "```{index} single: MiniConda; Installation\n",
    "```"
   ]
  },
  {
   "cell_type": "markdown",
   "id": "c6cbe3d3",
   "metadata": {},
   "source": [
    "### Windows\n",
    "The definitive source for installing **Anaconda under windows** can be found [here](https://docs.anaconda.com/anaconda/install/windows/).  \n",
    "\n",
    "The definitive source for installing **MiniConda under windows** can be found [here](https://docs.conda.io/projects/miniconda/en/latest/miniconda-install.html).  \n",
    "\n",
    "For either, follow the instructions in the link, download the installer which is right for you and run it. \n",
    "\n",
    ":::{warning}\n",
    "**It is strongly advised that Anaconda/Miniconda be installed for a single user (Just Me)**  This is much easier to maintain over time -- especially in a professional environment where users may not have administrator rights on their computers.  Installing \"For all users on this computer\" (the other option offered by the installers) will substantially increase the complexity of maintaining python on your computer.\n",
    ":::"
   ]
  },
  {
   "cell_type": "markdown",
   "id": "9a4bab44",
   "metadata": {},
   "source": [
    "### MacOS\n",
    "The definitive source for installing **Anaconda under macOS** can be found [here](https://docs.anaconda.com/anaconda/install/mac-os/).  \n",
    "\n",
    "The definitive source for installing **MiniConda under macOS** can be found [here](https://docs.conda.io/projects/conda/en/latest/user-guide/install/macos.html)."
   ]
  },
  {
   "cell_type": "markdown",
   "id": "b44fa84e",
   "metadata": {},
   "source": [
    "### Linux\n",
    "\n",
    "The definitive source for installing **Anaconda under Linux** can be found [here](https://docs.anaconda.com/anaconda/install/linux/).  \n",
    "\n",
    "The definitive source for installing **MiniConda under Linux** can be found [here](https://docs.conda.io/projects/conda/en/latest/user-guide/install/linux.html)."
   ]
  },
  {
   "cell_type": "markdown",
   "id": "c76b0930",
   "metadata": {},
   "source": [
    "## Next steps\n",
    "\n",
    "Now that either MiniConda or Anaconda have been installed the user is ready to install the modeflow library and the libraries on which it depends. If you  have not already installed Anaconda/MiniConda  following the instructions above, please do so **Now**.\n",
    ":::"
   ]
  },
  {
   "cell_type": "markdown",
   "id": "580362c1",
   "metadata": {
    "tags": [
     "hide-cell"
    ]
   },
   "source": [
    "```{index} single: Installation of modelflow; Anaconda\n",
    "```\n",
    "```{index} single: Anaconda; Installation of model flow\n",
    "```\n",
    "\n",
    "```{index} single: Installation of modelflow; MiniConda\n",
    "```\n",
    "```{index} single: MiniCondacondd; Installation of model flow\n",
    "```"
   ]
  }
 ],
 "metadata": {
  "celltoolbar": "Edit Metadata",
  "hide_input": false,
  "kernelspec": {
   "display_name": "Python 3 (ipykernel)",
   "language": "python",
   "name": "python3"
  },
  "language_info": {
   "codemirror_mode": {
    "name": "ipython",
    "version": 3
   },
   "file_extension": ".py",
   "mimetype": "text/x-python",
   "name": "python",
   "nbconvert_exporter": "python",
   "pygments_lexer": "ipython3",
   "version": "3.10.11"
  },
  "toc": {
   "base_numbering": 1,
   "nav_menu": {},
   "number_sections": true,
   "sideBar": true,
   "skip_h1_title": false,
   "title_cell": "Table of Contents",
   "title_sidebar": "Contents",
   "toc_cell": false,
   "toc_position": {},
   "toc_section_display": true,
   "toc_window_display": false
  },
  "varInspector": {
   "cols": {
    "lenName": 16,
    "lenType": 16,
    "lenVar": 40
   },
   "kernels_config": {
    "python": {
     "delete_cmd_postfix": "",
     "delete_cmd_prefix": "del ",
     "library": "var_list.py",
     "varRefreshCmd": "print(var_dic_list())"
    },
    "r": {
     "delete_cmd_postfix": ") ",
     "delete_cmd_prefix": "rm(",
     "library": "var_list.r",
     "varRefreshCmd": "cat(var_dic_list()) "
    }
   },
   "types_to_exclude": [
    "module",
    "function",
    "builtin_function_or_method",
    "instance",
    "_Feature"
   ],
   "window_display": false
  }
 },
 "nbformat": 4,
 "nbformat_minor": 5
}
