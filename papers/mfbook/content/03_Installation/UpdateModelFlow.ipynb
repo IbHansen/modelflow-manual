{
 "cells": [
  {
   "cell_type": "markdown",
   "id": "5c5a2d26",
   "metadata": {},
   "source": [
    "# Updating ModelFlow \n",
    ":::{index} single: Update ModelFlow\n",
    ":::\n",
    "\n",
    "\n",
    "Once installed, a `ModelFlow` environment can be updated. This is done first by first opening the anaconda command line environment (see earlier instructions), then running the following two commands.\n",
    "\n",
<<<<<<< Updated upstream
    "`conda activate ModelFlow` \n",
    "`conda install ModelFlow_stable -c ibh --no-deps`\n",
=======
    "1. Open the anaconda/miniconda command prompt\n",
    "2. run `conda activate ModelFlow`\n",
    "3. run `conda install ModelFlow_book -c ibh --no-deps`\n",
    "\n",
    "For the purposes of working with `ModelFlow` and the features and examples in this book it is advised not to update `ModelFlow`. While this will deprive users of access to bug fixes and package enhancements that may come, it will insulate users from some of the chalenges of managing a complex Conda environment. \n",
    "\n",
    "Once a user becomes more familair with `ModelFlow` and python, the environment can be updated or perhaps a new one created `-n ModelFlow_new` which would have the advantage of preserving the current one.\n",
    "\n",
    "The command to install (and update the most recent version of modelflow, which might intoduce changes that break some of the examples in this book.\n",
    "\n",
    "`conda install ModelFlow_stable -c ibh --no-deps`"
   ]
  },
  {
   "cell_type": "code",
   "execution_count": null,
   "id": "b00dca1b",
   "metadata": {
    "tags": [
     "remove_cell"
    ]
   },
   "outputs": [],
   "source": [
    "#This is code to manage dependencies if the notebook is executed in the google colab cloud service\n",
    "if 'google.colab' in str(get_ipython()):\n",
    "  import os\n",
    "  os.system('apt -qqq install graphviz')\n",
    "  os.system('pip -qqq install ModelFlowIb ipysheet  --no-dependencies ')\n"
   ]
  },
  {
   "cell_type": "code",
   "execution_count": null,
   "id": "a68731be",
   "metadata": {
    "tags": [
     "remove_cell"
    ]
   },
   "outputs": [],
   "source": [
    "# Prepare the notebook for use of ModelFlow \n",
>>>>>>> Stashed changes
    "\n",
    " The first activates the `ModelFlow` environment created above.  The second instructs `Anaconda` to update the system.\n",
    " "
   ]
  }
 ],
 "metadata": {
  "celltoolbar": "Edit Metadata",
  "hide_input": false,
  "kernelspec": {
   "display_name": "Python 3 (ipykernel)",
   "language": "python",
   "name": "python3"
  },
  "language_info": {
   "codemirror_mode": {
    "name": "ipython",
    "version": 3
   },
   "file_extension": ".py",
   "mimetype": "text/x-python",
   "name": "python",
   "nbconvert_exporter": "python",
   "pygments_lexer": "ipython3",
   "version": "3.12.6"
  },
  "nbTranslate": {
   "displayLangs": [
    "*"
   ],
   "hotkey": "alt-t",
   "langInMainMenu": true,
   "sourceLang": "en",
   "targetLang": "fr",
   "useGoogleTranslate": true
  },
  "toc": {
   "base_numbering": 1,
   "nav_menu": {},
   "number_sections": true,
   "sideBar": true,
   "skip_h1_title": false,
   "title_cell": "Table of Contents",
   "title_sidebar": "Contents",
   "toc_cell": false,
   "toc_position": {},
   "toc_section_display": true,
   "toc_window_display": false
  },
  "varInspector": {
   "cols": {
    "lenName": 16,
    "lenType": 16,
    "lenVar": 40
   },
   "kernels_config": {
    "python": {
     "delete_cmd_postfix": "",
     "delete_cmd_prefix": "del ",
     "library": "var_list.py",
     "varRefreshCmd": "print(var_dic_list())"
    },
    "r": {
     "delete_cmd_postfix": ") ",
     "delete_cmd_prefix": "rm(",
     "library": "var_list.r",
     "varRefreshCmd": "cat(var_dic_list()) "
    }
   },
   "types_to_exclude": [
    "module",
    "function",
    "builtin_function_or_method",
    "instance",
    "_Feature"
   ],
   "window_display": false
  }
 },
 "nbformat": 4,
 "nbformat_minor": 5
}
