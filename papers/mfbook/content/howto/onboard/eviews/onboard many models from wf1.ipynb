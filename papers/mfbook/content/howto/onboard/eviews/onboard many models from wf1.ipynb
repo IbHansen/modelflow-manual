{
 "cells": [
  {
   "cell_type": "markdown",
   "id": "fb69443b",
   "metadata": {},
   "source": [
    "# Onboard all models  defined in .wf1 files\n",
    "This notebook takes all .wf1 workfile from the folder wfs\\ and transform the models  it to a modelflow model.<br>\n",
    "\n",
    "The overall process is performed in a Dataclass named:**GrapWfModel**<br> \n",
    "Close study of this class can be rewarding, but is outside the need of most users.<br>\n",
    "The overall structure is: Onboard all model defined in a .wf1 file\n",
    "\n",
    "The overall structure is:\n",
    "\n",
    "Eviews is started and the wf1 file is loaded\n",
    "Some transformations are performed on data.\n",
    "The model is unlinked\n",
    "The workspace is saved as a wf2 file. Same name with _modelflow appended\n",
    "Eviews is closed\n",
    "The wf2 file is read as a json file.\n",
    "Relevant objects are extracted.\n",
    "The MFMSA variable is extracted, to be saved in the dumpfile.\n",
    "The equations are transformed and normalized to modelflow format and classified into identities and stochastic\n",
    "Stochastic equations are enriched by add_factor and fixing terms (dummy + fixing value)\n",
    "For Stochastic equations new fitted variables are generated - without add add_factors and dummies.\n",
    "A model to generate fitted variables is created\n",
    "A model to generate add_factors is created.\n",
    "A model encompassing the original equations, the model for fitted variables and for add_factors is created.\n",
    "The data series and scalars are shoveled into a Pandas dataframe\n",
    "Some special series are generated as the expression can not be incorporated into modelflow model specifications\n",
    "The model for fitted values is simulated in the specified timespan\n",
    "The model for add_factors is simulated in the timespan set in MFMSA\n",
    "The data descriptions are extracted into a dictionary.\n",
    "Data descriptions for dummies, fixed values, fitted values and add_factors are derived.\n",
    "Now we have a model and a dataframe with all variables which are needed. b The GrapWfModel instance in general keeps most of the steps so the developer can inspect the the different steps.\n",
    "\n",
    "The GrapWfModel instance in general keeps most of the steps so the developer can inspect the the different steps.  \n"
   ]
  },
  {
   "cell_type": "markdown",
   "id": "c0a0a54d",
   "metadata": {},
   "source": [
    "- Eviews has to be installed \n",
    "- pyevies has to be installed \n"
   ]
  },
  {
   "cell_type": "code",
   "execution_count": 27,
   "id": "fa9578fb",
   "metadata": {},
   "outputs": [
    {
     "data": {
      "text/html": [
       "\n",
       "        <style>\n",
       "            div#notebook-container    { width: 95%; }\n",
       "            div#menubar-container     { width: 65%; }\n",
       "            div#maintoolbar-container { width: 99%; }\n",
       "        </style>\n",
       "        "
      ],
      "text/plain": [
       "<IPython.core.display.HTML object>"
      ]
     },
     "metadata": {},
     "output_type": "display_data"
    }
   ],
   "source": [
    "from pathlib import Path\n",
    "\n",
    "from modelclass import model \n",
    "from modelgrabwf2 import GrabWfModel\n",
    "model.widescreen()\n",
    "model.scroll_off()\n",
    "latex=1"
   ]
  },
  {
   "cell_type": "code",
   "execution_count": 28,
   "id": "83528f87",
   "metadata": {},
   "outputs": [
    {
     "name": "stdout",
     "output_type": "stream",
     "text": [
      "The autoreload extension is already loaded. To reload it, use:\n",
      "  %reload_ext autoreload\n"
     ]
    }
   ],
   "source": [
    " %load_ext autoreload\n",
    " %autoreload 2"
   ]
  },
  {
   "cell_type": "markdown",
   "id": "13b76001",
   "metadata": {},
   "source": [
    "## List potential files\n",
    "The workfiles are located in the ```wfs``` folder. <br>\n",
    "The [pathlib.Path](https://docs.python.org/3/library/pathlib.html) class is used to find all wf1 files"
   ]
  },
  {
   "cell_type": "code",
   "execution_count": 29,
   "id": "863f33ac",
   "metadata": {},
   "outputs": [
    {
     "name": "stdout",
     "output_type": "stream",
     "text": [
      "The model and date for ago is located in this workfile:wfs\\agosoln.wf1\n",
      "The model and date for mda is located in this workfile:wfs\\MDAsoln.wf1\n",
      "The model and date for pak is located in this workfile:wfs\\PAKSoln.wf1\n",
      "The model and date for per is located in this workfile:wfs\\PERMOD_damage_asFactor20220322.wf1\n"
     ]
    }
   ],
   "source": [
    "filedict = {f.stem[:3].lower():f for f in Path('wfs').glob('*.wf1')}\n",
    "for modelname,filename in filedict.items():\n",
    "    print(f'The model and date for {modelname} is located in this workfile:{filename}')\n"
   ]
  },
  {
   "cell_type": "markdown",
   "id": "15e120bf",
   "metadata": {},
   "source": [
    "## Model specific transformations \n",
    "Not all Eviews equations has a direct counterpart in modelflow.<br>\n",
    "To handle that two types of transformations can be provided for a specific model. \n",
    "- **eviews_run_lines** which specifies a list of Eviews command lines to be run. Typical to make some transformation of data. \n",
    "- **country_trans** which specifies a list of replacements to be done to the Eviews formulas before they are processed. \n",
    "\n",
    "As a convention the variables like this \\<modelname>_eviews_run_lines and <modelname>_trans"
   ]
  },
  {
   "cell_type": "code",
   "execution_count": 30,
   "id": "2ea58496",
   "metadata": {},
   "outputs": [],
   "source": [
    "pak_trans = lambda input : input.replace('- 01*D(','-1*D(')   \n",
    "\n",
    "ago_trans = lambda  input : input.replace('@MEAN(AGOBNCABFUNDCD/AGONYGDPMKTPCD,\"2000 2020\")','MEAN_AGOBNCABFUNDCD_DIV_AGONYGDPMKTPCD') \n",
    "ago_eviews_run_lines = ['smpl @ALL','series MEAN_AGOBNCABFUNDCD_DIV_AGONYGDPMKTPCD = @MEAN(AGOBNCABFUNDCD/AGONYGDPMKTPCD,\"2000 2020\")']\n",
    "\n",
    "mda_trans = lambda input: input.replace('_MDAsbbrev.@coef(2)','_MDASBBREV_at_COEF_2')         \n",
    "mda_eviews_run_lines = ['Scalar _MDASBBREV_at_COEF_2 = _MDASBBREV.@COEF(+2)']"
   ]
  },
  {
   "cell_type": "markdown",
   "id": "bb7d1326",
   "metadata": {},
   "source": [
    "## Transform all wf1 files in the folder"
   ]
  },
  {
   "cell_type": "code",
   "execution_count": 31,
   "id": "e2aaf047",
   "metadata": {},
   "outputs": [
    {
     "name": "stdout",
     "output_type": "stream",
     "text": [
      "\n",
      "Reading c:\\wb new\\Modelflow\\working_paper\\thebook\\content\\howto\\onboard\\eviews\\wfs\\agosoln.wf1\n",
      "Assummed model name: AGO\n",
      "Eviewsline to run :smpl @ALL\n",
      "Eviewsline to run :series MEAN_AGOBNCABFUNDCD_DIV_AGONYGDPMKTPCD = @MEAN(AGOBNCABFUNDCD/AGONYGDPMKTPCD,\"2000 2020\")\n",
      "The model: AGO is unlinked \n",
      "Writing C:\\wb new\\Modelflow\\working_paper\\thebook\\content\\howto\\onboard\\eviews\\wfs\\agosoln_modelflow.wf2\n",
      "Model name: AGO\n",
      "\n",
      "Processing the model:AGO\n",
      "testmodel calculated  \n",
      "Calculation of add factors for AGO calculated  \n",
      "\n",
      "Reading c:\\wb new\\Modelflow\\working_paper\\thebook\\content\\howto\\onboard\\eviews\\wfs\\MDAsoln.wf1\n",
      "Assummed model name: MDA\n",
      "Eviewsline to run :Scalar _MDASBBREV_at_COEF_2 = _MDASBBREV.@COEF(+2)\n",
      "The model: MDA is unlinked \n",
      "Writing C:\\wb new\\Modelflow\\working_paper\\thebook\\content\\howto\\onboard\\eviews\\wfs\\MDAsoln_modelflow.wf2\n",
      "Model name: MDA\n",
      "\n",
      "Processing the model:MDA\n",
      "testmodel calculated  \n",
      "Calculation of add factors for MDA calculated  \n",
      "\n",
      "Reading c:\\wb new\\Modelflow\\working_paper\\thebook\\content\\howto\\onboard\\eviews\\wfs\\PAKSoln.wf1\n",
      "Assummed model name: PAK\n",
      "The model: PAK is unlinked \n",
      "Writing C:\\wb new\\Modelflow\\working_paper\\thebook\\content\\howto\\onboard\\eviews\\wfs\\PAKSoln_modelflow.wf2\n",
      "Model name: PAK\n",
      "\n",
      "Processing the model:PAK\n",
      "testmodel calculated  \n",
      "Calculation of add factors for PAK calculated  \n",
      "\n",
      "Reading c:\\wb new\\Modelflow\\working_paper\\thebook\\content\\howto\\onboard\\eviews\\wfs\\PERMOD_damage_asFactor20220322.wf1\n",
      "Assummed model name: PER\n",
      "The model: PER is unlinked \n",
      "Writing C:\\wb new\\Modelflow\\working_paper\\thebook\\content\\howto\\onboard\\eviews\\wfs\\PERMOD_damage_asFactor20220322_modelflow.wf2\n",
      "Model name: PER\n",
      "\n",
      "Processing the model:PER\n",
      "testmodel calculated  \n",
      "Calculation of add factors for PER calculated  \n"
     ]
    }
   ],
   "source": [
    "allmodels = {modelname: \n",
    "     GrabWfModel(filename, \n",
    "                        eviews_run_lines= globals().get(f'{modelname}_eviews_run_lines',[]),\n",
    "                        country_trans    =   globals().get(f'{modelname}_trans'   ,lambda x : x[:]),\n",
    "                        make_fitted = True,        # make equatios for fitted values of stocastic equations \n",
    "                        do_add_factor_calc=True,   # Calculate the add factors which makes the stocastic equations match    \n",
    "                        fit_start = 2000,          # Start of calculation of fittet model in baseline (to have some historic values) \n",
    "                        fit_end   = None,           # end of calc for fittted model, if None taken from mdmfsa options  \n",
    "                        disable_progress =True\n",
    "                        ) \n",
    "                  for modelname,filename in filedict.items()}"
   ]
  },
  {
   "cell_type": "markdown",
   "id": "c23de6ca",
   "metadata": {},
   "source": [
    "## Check all the models "
   ]
  },
  {
   "cell_type": "code",
   "execution_count": 32,
   "id": "7d80728a",
   "metadata": {
    "scrolled": false
   },
   "outputs": [
    {
     "name": "stdout",
     "output_type": "stream",
     "text": [
      "AGO calculated  \n",
      "\n",
      "Chekking residuals for AGO 2016 to 2060\n",
      "\n",
      "Variable with residuals above threshold\n",
      "AGONECONPRVTCN                        , Max difference:  2861.03139496 Max Pct    0.0000106457% It is number    44 in the solveorder and error number 1\n",
      "AGONEGDIFGOVCN                        , Max difference:    21.01837921 Max Pct    0.0000013130% It is number    55 in the solveorder and error number 2\n",
      "AGONEGDIFTOTCN                        , Max difference:   177.46922302 Max Pct    0.0000007316% It is number    58 in the solveorder and error number 3\n",
      "AGONEEXPNOILCN                        , Max difference:    34.74809837 Max Pct    0.0000022911% It is number    63 in the solveorder and error number 4\n",
      "AGONEEXPGOILCN                        , Max difference:   544.94689941 Max Pct    0.0000026926% It is number    66 in the solveorder and error number 5\n",
      "AGONEEXPGNFSCN                        , Max difference:   504.25928497 Max Pct    0.0000023486% It is number    67 in the solveorder and error number 6\n",
      "AGONEIMPGNFSCN                        , Max difference:  1101.58077240 Max Pct    0.0000111348% It is number    71 in the solveorder and error number 7\n",
      "AGONYYWBTOTLCN                        , Max difference:   286.10862160 Max Pct    0.0000091250% It is number    80 in the solveorder and error number 8\n",
      "AGOGGREVTOTLCN                        , Max difference:   136.30834198 Max Pct    0.0000014056% It is number    81 in the solveorder and error number 9\n",
      "AGOGGEXPINTPCN                        , Max difference:    99.77352953 Max Pct    0.0000082146% It is number    86 in the solveorder and error number 10\n",
      "AGONVGDPFCSTCN                        , Max difference:   455.67959595 Max Pct    0.0000009309% It is number    93 in the solveorder and error number 11\n",
      "AGONYTAXNINDKN                        , Max difference:     1.37211440 Max Pct    0.0014202837% It is number    95 in the solveorder and error number 12\n",
      "AGONVAGRTOTLCN                        , Max difference:     5.06173030 Max Pct    0.0000057479% It is number    96 in the solveorder and error number 13\n",
      "AGONVINDMINGCN                        , Max difference:    89.14881706 Max Pct    0.0000037522% It is number    97 in the solveorder and error number 14\n",
      "AGONVSRVPUBLCN                        , Max difference:   597.87203789 Max Pct    0.0000183998% It is number    98 in the solveorder and error number 15\n",
      "AGONVGDPOTHRCN                        , Max difference:   355.96192932 Max Pct    0.0000005341% It is number    99 in the solveorder and error number 16\n",
      "AGONYGDPMKTPCN                        , Max difference:   296.17025757 Max Pct    0.0000012217% It is number   147 in the solveorder and error number 17\n",
      "MDA calculated  \n",
      "\n",
      "Chekking residuals for MDA 2014 to 2025\n",
      "PAK calculated  \n",
      "\n",
      "Chekking residuals for PAK 2015 to 2100\n",
      "\n",
      "Variable with residuals above threshold\n",
      "PAKNYYWBTOTLCN              , Max difference:    76.62465858 Max Pct    0.0000042560% It is number    69 in the solveorder and error number 1\n",
      "PAKNECONPRVTCN              , Max difference:    35.41133165 Max Pct    0.0000017794% It is number    78 in the solveorder and error number 2\n",
      "PER calculated  \n",
      "\n",
      "Chekking residuals for PER 2016 to 2300\n"
     ]
    }
   ],
   "source": [
    "for modelname,cmodel in allmodels.items():\n",
    "    cmodel.test_model(cmodel.start,cmodel.end,maxerr=100,tol=1,showall=0)   # tol determins the max acceptable absolute difference "
   ]
  },
  {
   "cell_type": "markdown",
   "id": "42ef2138",
   "metadata": {},
   "source": [
    "## Run the models \n",
    "Some models need a different alfa (dampening factor in Gauss iterations) in order to solve. "
   ]
  },
  {
   "cell_type": "code",
   "execution_count": 33,
   "id": "b685c2cc",
   "metadata": {},
   "outputs": [],
   "source": [
    "alfadict={'ago':0.7}"
   ]
  },
  {
   "cell_type": "code",
   "execution_count": 34,
   "id": "f5471a68",
   "metadata": {},
   "outputs": [
    {
     "name": "stdout",
     "output_type": "stream",
     "text": [
      "ago run and saved\n",
      "mda run and saved\n",
      "pak run and saved\n",
      "per run and saved\n"
     ]
    }
   ],
   "source": [
    "for modelname,cmodel in allmodels.items():\n",
    "    _ = cmodel.mmodel(cmodel.base_input,alfa=alfadict.get(modelname,1.0))\n",
    "    cmodel.mmodel.modeldump(f'modelflowdumps/{modelname}.pcim')  \n",
    "    print(f'{modelname} run and saved')"
   ]
  },
  {
   "cell_type": "code",
   "execution_count": 35,
   "id": "294d9109",
   "metadata": {},
   "outputs": [
    {
     "name": "stdout",
     "output_type": "stream",
     "text": [
      " Volume in drive C has no label.\n",
      " Volume Serial Number is C2DB-095E\n",
      "\n",
      " Directory of c:\\wb new\\Modelflow\\working_paper\\thebook\\content\\howto\\onboard\\eviews\\modelflowdumps\n",
      "\n",
      "10-06-2022  16:23    <DIR>          .\n",
      "21-06-2022  10:29    <DIR>          ..\n",
      "09-06-2022  11:41         1.434.250 ago\n",
      "21-06-2022  10:30         1.434.181 ago.pcim\n",
      "09-06-2022  11:41         1.029.618 mda\n",
      "21-06-2022  10:30         1.029.604 mda.pcim\n",
      "09-06-2022  11:41         3.386.584 pak\n",
      "21-06-2022  10:30         3.386.691 pak.pcim\n",
      "09-06-2022  11:41        11.979.848 per\n",
      "21-06-2022  10:30        11.980.021 per.pcim\n",
      "               8 File(s)     35.660.797 bytes\n",
      "               2 Dir(s)  792.506.646.528 bytes free\n"
     ]
    }
   ],
   "source": [
    "!dir modelflowdumps\\"
   ]
  },
  {
   "cell_type": "markdown",
   "id": "58b6c66e",
   "metadata": {},
   "source": [
    "## Make some names in the namespace"
   ]
  },
  {
   "cell_type": "code",
   "execution_count": 36,
   "id": "82516912",
   "metadata": {},
   "outputs": [
    {
     "name": "stdout",
     "output_type": "stream",
     "text": [
      "mago, ago_baseline and ago_cmodel has been created\n",
      "mmda, mda_baseline and mda_cmodel has been created\n",
      "mpak, pak_baseline and pak_cmodel has been created\n",
      "mper, per_baseline and per_cmodel has been created\n"
     ]
    }
   ],
   "source": [
    "for modelname,cmodel in allmodels.items():\n",
    "    thismodel = f'm{modelname}'\n",
    "    thisbaseline = f'{modelname}_baseline'\n",
    "    thiscmodel = f'{modelname}_cmodel'\n",
    "    globals()[thismodel] = cmodel.mmodel\n",
    "    globals()[thisbaseline]= cmodel.base_input \n",
    "    globals()[thiscmodel]= cmodel\n",
    "    print(f'{thismodel}, {thisbaseline} and {thiscmodel} has been created')    "
   ]
  },
  {
   "cell_type": "code",
   "execution_count": 37,
   "id": "b5f3efdd",
   "metadata": {
    "scrolled": false
   },
   "outputs": [],
   "source": [
    "thissilent = 1\n",
    "_ = mago(ago_baseline,silent=thissilent,alfa=0.7)\n",
    "_ = mmda(mda_baseline,silent=thissilent)\n",
    "_ = mpak(pak_baseline,silent=thissilent)\n",
    "_ = mper(per_baseline,silent=thissilent)"
   ]
  },
  {
   "cell_type": "markdown",
   "id": "c1623258",
   "metadata": {},
   "source": [
    "## From here testing - will be deleted "
   ]
  },
  {
   "cell_type": "markdown",
   "id": "638b5bac",
   "metadata": {},
   "source": [
    "## Lets create a list of all variable names"
   ]
  },
  {
   "cell_type": "code",
   "execution_count": 38,
   "id": "5c6a9806",
   "metadata": {},
   "outputs": [],
   "source": [
    "allvar = [varname for cmodel  in allmodels.values() for varname in cmodel.mmodel.allvar.keys()]"
   ]
  },
  {
   "cell_type": "code",
   "execution_count": 39,
   "id": "8f952b85",
   "metadata": {},
   "outputs": [],
   "source": [
    "allvar = [varname for thismodel in [mago,mmda,mpak,mper] for varname in thismodel.allvar.keys()]"
   ]
  },
  {
   "cell_type": "code",
   "execution_count": 40,
   "id": "4261a597",
   "metadata": {},
   "outputs": [],
   "source": [
    "allvar_dict  = {varname:cmodel.mmodel.var_description[varname] for cmodel  in allmodels.values() for varname in cmodel.mmodel.allvar.keys()}"
   ]
  },
  {
   "cell_type": "code",
   "execution_count": 41,
   "id": "cba2456c",
   "metadata": {},
   "outputs": [
    {
     "data": {
      "text/plain": [
       "2872"
      ]
     },
     "execution_count": 41,
     "metadata": {},
     "output_type": "execute_result"
    }
   ],
   "source": [
    "len(allvar)"
   ]
  },
  {
   "cell_type": "code",
   "execution_count": 42,
   "id": "52abf3d3",
   "metadata": {},
   "outputs": [],
   "source": [
    "import fnmatch"
   ]
  },
  {
   "cell_type": "code",
   "execution_count": 43,
   "id": "297c1323",
   "metadata": {
    "scrolled": true
   },
   "outputs": [
    {
     "data": {
      "text/plain": [
       "['AGONECONGOVTCN', 'MDANECONGOVTCN', 'PAKNECONGOVTCN', 'PERNECONGOVTCN']"
      ]
     },
     "execution_count": 43,
     "metadata": {},
     "output_type": "execute_result"
    }
   ],
   "source": [
    "fnmatch.filter(allvar, '*NECONGOVTCN')"
   ]
  },
  {
   "cell_type": "code",
   "execution_count": 44,
   "id": "4865d4c1",
   "metadata": {},
   "outputs": [
    {
     "data": {
      "text/plain": [
       "2763"
      ]
     },
     "execution_count": 44,
     "metadata": {},
     "output_type": "execute_result"
    }
   ],
   "source": [
    "len(set(allvar))"
   ]
  },
  {
   "cell_type": "code",
   "execution_count": 45,
   "id": "13641bb3",
   "metadata": {},
   "outputs": [],
   "source": [
    "def getnames(pat,allvar=allvar,allvar_dict=allvar_dict):\n",
    "    selected = [(varname,allvar_dict[varname]) for varname in fnmatch.filter(allvar_dict.keys(), pat)]\n",
    "    print(*selected,sep='\\n')"
   ]
  },
  {
   "cell_type": "markdown",
   "id": "348f35e2",
   "metadata": {},
   "source": [
    "### Government consumption"
   ]
  },
  {
   "cell_type": "code",
   "execution_count": 46,
   "id": "85aafd0a",
   "metadata": {},
   "outputs": [
    {
     "name": "stdout",
     "output_type": "stream",
     "text": [
      "('AGONECONGOVTCN', 'Nominal Govt Cons')\n",
      "('MDANECONGOVTCN', 'GDP: Final Consumption: Public Administration LCU thousands')\n",
      "('PAKNECONGOVTCN', 'Govt. Cons., LCU mn')\n",
      "('PERNECONGOVTCN', 'PERNECONGOVTCN')\n"
     ]
    }
   ],
   "source": [
    "getnames('*NECONGOVTCN')"
   ]
  },
  {
   "cell_type": "markdown",
   "id": "554b8e59",
   "metadata": {},
   "source": [
    "### Government investment "
   ]
  },
  {
   "cell_type": "code",
   "execution_count": 47,
   "id": "9de0eb8e",
   "metadata": {},
   "outputs": [
    {
     "name": "stdout",
     "output_type": "stream",
     "text": [
      "('AGONEGDIFGOVCN', 'AGONEGDIFGOVCN')\n",
      "('MDANEGDIFGOVCN', 'MDANEGDIFGOVCN')\n",
      "('PAKNEGDIFGOVCN', 'Public Fixed Domestic Inv., LCU mn')\n",
      "('PERNEGDIFGOVCN', 'PERNEGDIFGOVCN')\n"
     ]
    }
   ],
   "source": [
    "getnames('*NEGDIFGOVCN')"
   ]
  },
  {
   "cell_type": "code",
   "execution_count": 48,
   "id": "6704fd09",
   "metadata": {},
   "outputs": [
    {
     "name": "stdout",
     "output_type": "stream",
     "text": [
      "('PAKLMEMPTOTLCN', 'Employment')\n",
      "('PAKLMEMPTOTLCN_FITTED', 'Fitted  value:Employment')\n",
      "('PAKLMEMPTOTLCN_D', 'Fix dummy:Employment')\n",
      "('PAKLMEMPTOTLCN_A', 'Add factor:Employment')\n",
      "('PAKLMEMPTOTLCN_X', 'Fix value:Employment')\n"
     ]
    }
   ],
   "source": [
    "getnames('*LMEMPTOTLCN*')"
   ]
  },
  {
   "cell_type": "code",
   "execution_count": 49,
   "id": "4a6aae18",
   "metadata": {},
   "outputs": [
    {
     "name": "stdout",
     "output_type": "stream",
     "text": [
      "('AGOGGEXPWAGECN_A', 'Add factor:Wages and Salaries')\n",
      "('AGOGGEXPWAGECN_VALUE_2019', 'AGOGGEXPWAGECN_VALUE_2019')\n",
      "('AGOGGEXPWAGECN_FITTED', 'Fitted  value:Wages and Salaries')\n",
      "('AGOGGEXPWAGECN', 'Wages and Salaries')\n",
      "('AGOGGEXPWAGECN_D', 'Fix dummy:Wages and Salaries')\n",
      "('AGOGGEXPWAGECN_X', 'Fix value:Wages and Salaries')\n",
      "('MDAGGEXPWAGECN', 'Expenditure: Wages and Salaries LCU millions')\n",
      "('MDAGGEXPWAGECN_D', 'Fix dummy:Expenditure: Wages and Salaries LCU millions')\n",
      "('MDAGGEXPWAGECN_X', 'Fix value:Expenditure: Wages and Salaries LCU millions')\n",
      "('MDAGGEXPWAGECN_FITTED', 'Fitted  value:Expenditure: Wages and Salaries LCU millions')\n",
      "('MDAGGEXPWAGECN_A', 'Add factor:Expenditure: Wages and Salaries LCU millions')\n",
      "('PERGGEXPWAGECN_A', 'Add factor:PERGGEXPWAGECN')\n",
      "('PERGGEXPWAGECN_D', 'Fix dummy:PERGGEXPWAGECN')\n",
      "('PERGGEXPWAGECN_X', 'Fix value:PERGGEXPWAGECN')\n",
      "('PERGGEXPWAGECN', 'PERGGEXPWAGECN')\n",
      "('PERGGEXPWAGECN_FITTED', 'Fitted  value:PERGGEXPWAGECN')\n"
     ]
    }
   ],
   "source": [
    "getnames('*GGEXPWAGECN*')"
   ]
  },
  {
   "cell_type": "code",
   "execution_count": 50,
   "id": "0f2fea35",
   "metadata": {},
   "outputs": [
    {
     "name": "stdout",
     "output_type": "stream",
     "text": [
      "Endogeneous: PAKBXFSTREMTCD: Exp., Remittances (BOP), US$ mn\n",
      "Formular: FRML <Z,EXO> PAKBXFSTREMTCD = (PAKBXFSTREMTCD_A*PAKNYGDPMKTPCD+PAKNYGDPMKTPCD* (0.053028373687723) ) * (1-PAKBXFSTREMTCD_D)+ PAKBXFSTREMTCD_X*PAKBXFSTREMTCD_D  $\n",
      "\n",
      "PAKBXFSTREMTCD  : Exp., Remittances (BOP), US$ mn\n",
      "PAKBXFSTREMTCD_A: Add factor:Exp., Remittances (BOP), US$ mn\n",
      "PAKBXFSTREMTCD_D: Fix dummy:Exp., Remittances (BOP), US$ mn\n",
      "PAKBXFSTREMTCD_X: Fix value:Exp., Remittances (BOP), US$ mn\n",
      "PAKNYGDPMKTPCD  : \n",
      "\n",
      "\n"
     ]
    }
   ],
   "source": [
    "mpak.PAKBXFSTREMTCD.frml"
   ]
  },
  {
   "cell_type": "code",
   "execution_count": 51,
   "id": "c00e3185",
   "metadata": {},
   "outputs": [
    {
     "name": "stdout",
     "output_type": "stream",
     "text": [
      "Endogeneous: PAKGGEXPGNFSCN: General government expenditure on goods and services (millions lcu)\n",
      "Formular: FRML <Z,EXO> PAKGGEXPGNFSCN = (0.3*PAKGGEXPGNFSCN(-1)+(1-0.3)*(0.80*(PAKGGREVTOTLCN-PAKGGEXPINTPCN(-0)))+505277.259999999*DURING_2012 + PAKGGEXPGNFSCN_A)* (1-PAKGGEXPGNFSCN_D)+ PAKGGEXPGNFSCN_X*PAKGGEXPGNFSCN_D  $\n",
      "\n",
      "PAKGGEXPGNFSCN  : General government expenditure on goods and services (millions lcu)\n",
      "DURING_2012     : \n",
      "PAKGGEXPGNFSCN_A: Add factor:General government expenditure on goods and services (millions lcu)\n",
      "PAKGGEXPGNFSCN_D: Fix dummy:General government expenditure on goods and services (millions lcu)\n",
      "PAKGGEXPGNFSCN_X: Fix value:General government expenditure on goods and services (millions lcu)\n",
      "PAKGGEXPINTPCN  : General government interest payments on public debt (millions lcu)\n",
      "PAKGGREVTOTLCN  : General government revenues, total (millions lcu)\n",
      "\n",
      "\n"
     ]
    }
   ],
   "source": [
    "mpak.PAKGGEXPGNFSCN.frml"
   ]
  },
  {
   "cell_type": "code",
   "execution_count": 52,
   "id": "6b2b167f",
   "metadata": {},
   "outputs": [],
   "source": [
    "###  mpak.modeldash('PAKNECONGOVTCN',jupyter=1)"
   ]
  },
  {
   "cell_type": "code",
   "execution_count": 53,
   "id": "b56f3de3",
   "metadata": {},
   "outputs": [
    {
     "name": "stdout",
     "output_type": "stream",
     "text": [
      "Endo_var        : PAKGGEXPGNFSCN\n",
      "Original        : PAKGGEXPGNFSCN=0.3*PAKGGEXPGNFSCN(-1)+(1-0.3)*(0.80*(PAKGGREVTOTLCN-PAKGGEXPINTPCN(-0)))+505277.259999999*DURING_2012\r\n",
      "Preprocessed    : PAKGGEXPGNFSCN=0.3*PAKGGEXPGNFSCN(-1)+(1-0.3)*(0.80*(PAKGGREVTOTLCN-PAKGGEXPINTPCN(-0)))+505277.259999999*DURING_2012\r\n",
      "Normalized      : PAKGGEXPGNFSCN = (0.3*PAKGGEXPGNFSCN(-1)+(1-0.3)*(0.80*(PAKGGREVTOTLCN-PAKGGEXPINTPCN(-0)))+505277.259999999*DURING_2012 + PAKGGEXPGNFSCN_A)* (1-PAKGGEXPGNFSCN_D)+ PAKGGEXPGNFSCN_X*PAKGGEXPGNFSCN_D \n",
      "Calc_add_factor : PAKGGEXPGNFSCN_A = (PAKGGEXPGNFSCN) - (0.3*PAKGGEXPGNFSCN(-1)+(1-0.3)*(0.80*(PAKGGREVTOTLCN-PAKGGEXPINTPCN(-0)))+505277.259999999*DURING_2012)\n",
      "Fitted          : PAKGGEXPGNFSCN_FITTED = 0.3*PAKGGEXPGNFSCN(-1)+(1-0.3)*(0.80*(PAKGGREVTOTLCN-PAKGGEXPINTPCN(-0)))+505277.259999999*DURING_2012\n",
      "Eviews          : PAKGGEXPGNFSCN = 0.3*PAKGGEXPGNFSCN( - 1) + (1 - 0.3)*(0.80*(PAKGGREVTOTLCN - PAKGGEXPINTPCN( - 0))) + 505277.259999999*@DURING(\"2012\")\r\n"
     ]
    },
    {
     "data": {
      "text/plain": []
     },
     "execution_count": 53,
     "metadata": {},
     "output_type": "execute_result"
    }
   ],
   "source": [
    "allmodels['pak'].all_frml_dict['PAKGGEXPGNFSCN']"
   ]
  },
  {
   "cell_type": "code",
   "execution_count": 54,
   "id": "41684840",
   "metadata": {},
   "outputs": [
    {
     "name": "stdout",
     "output_type": "stream",
     "text": [
      "Endo_var        : AGONECONGOVTCN\n",
      "Original        : DIFF(AGONECONGOVTCN)=DIFF(AGOGGEXPGNFSCN+AGOGGEXPWAGECN)*AGONECONGOVTCOV_/100+14591.8357729705*DUMH\r\n",
      "Preprocessed    : ((AGONECONGOVTCN)-(AGONECONGOVTCN(-1)))=((AGOGGEXPGNFSCN+AGOGGEXPWAGECN)-(AGOGGEXPGNFSCN(-1)+AGOGGEXPWAGECN(-1)))*AGONECONGOVTCOV_/100+14591.8357729705*DUMH\r\n",
      "Normalized      : AGONECONGOVTCN = (AGONECONGOVTCN_A+ (((AGOGGEXPGNFSCN+AGOGGEXPWAGECN)-(AGOGGEXPGNFSCN(-1)+AGOGGEXPWAGECN(-1)))*AGONECONGOVTCOV_/100+14591.8357729705*DUMH) +AGONECONGOVTCN(-1)) * (1-AGONECONGOVTCN_D)+ AGONECONGOVTCN_X*AGONECONGOVTCN_D \n",
      "Calc_add_factor : AGONECONGOVTCN_A = AGONECONGOVTCN- ((((AGOGGEXPGNFSCN+AGOGGEXPWAGECN)-(AGOGGEXPGNFSCN(-1)+AGOGGEXPWAGECN(-1)))*AGONECONGOVTCOV_/100+14591.8357729705*DUMH)) -AGONECONGOVTCN(-1)\n",
      "Fitted          : AGONECONGOVTCN_FITTED =  (((AGOGGEXPGNFSCN+AGOGGEXPWAGECN)-(AGOGGEXPGNFSCN(-1)+AGOGGEXPWAGECN(-1)))*AGONECONGOVTCOV_/100+14591.8357729705*DUMH) +AGONECONGOVTCN(-1)\n",
      "Eviews          : D(AGONECONGOVTCN) = D(AGOGGEXPGNFSCN + AGOGGEXPWAGECN)*AGONECONGOVTCOV_/100 + 14591.8357729705*DUMH\r\n"
     ]
    },
    {
     "data": {
      "text/plain": []
     },
     "execution_count": 54,
     "metadata": {},
     "output_type": "execute_result"
    }
   ],
   "source": [
    "allmodels['ago'].all_frml_dict['AGONECONGOVTCN']"
   ]
  },
  {
   "cell_type": "code",
   "execution_count": 55,
   "id": "d1105ffa",
   "metadata": {},
   "outputs": [
    {
     "data": {
      "text/plain": [
       "<\n",
       "Model name                              :                  PAK \n",
       "Model structure                         :         Simultaneous \n",
       "Number of variables                     :                  841 \n",
       "Number of exogeneous  variables         :                  463 \n",
       "Number of endogeneous variables         :                  378 \n",
       ">"
      ]
     },
     "execution_count": 55,
     "metadata": {},
     "output_type": "execute_result"
    }
   ],
   "source": [
    "allmodels['pak'].mmodel"
   ]
  }
 ],
 "metadata": {
  "hide_input": false,
  "kernelspec": {
   "display_name": "Python 3 (ipykernel)",
   "language": "python",
   "name": "python3"
  },
  "language_info": {
   "codemirror_mode": {
    "name": "ipython",
    "version": 3
   },
   "file_extension": ".py",
   "mimetype": "text/x-python",
   "name": "python",
   "nbconvert_exporter": "python",
   "pygments_lexer": "ipython3",
   "version": "3.9.13"
  },
  "toc": {
   "base_numbering": 1,
   "nav_menu": {},
   "number_sections": false,
   "sideBar": true,
   "skip_h1_title": true,
   "title_cell": "Table of Contents",
   "title_sidebar": "Contents",
   "toc_cell": false,
   "toc_position": {},
   "toc_section_display": true,
   "toc_window_display": false
  },
  "varInspector": {
   "cols": {
    "lenName": 16,
    "lenType": 16,
    "lenVar": 40
   },
   "kernels_config": {
    "python": {
     "delete_cmd_postfix": "",
     "delete_cmd_prefix": "del ",
     "library": "var_list.py",
     "varRefreshCmd": "print(var_dic_list())"
    },
    "r": {
     "delete_cmd_postfix": ") ",
     "delete_cmd_prefix": "rm(",
     "library": "var_list.r",
     "varRefreshCmd": "cat(var_dic_list()) "
    }
   },
   "types_to_exclude": [
    "module",
    "function",
    "builtin_function_or_method",
    "instance",
    "_Feature"
   ],
   "window_display": false
  }
 },
 "nbformat": 4,
 "nbformat_minor": 5
}
