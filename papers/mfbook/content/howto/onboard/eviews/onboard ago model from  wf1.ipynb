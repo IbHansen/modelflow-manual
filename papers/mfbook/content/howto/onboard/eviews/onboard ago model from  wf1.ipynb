{
 "cells": [
  {
   "cell_type": "markdown",
   "id": "fb69443b",
   "metadata": {},
   "source": [
    "# Onboard a model defined in a .wf1 file\n",
    "This notebook takes a .wf1 workfile and transform  it to a modelflow model.<br>\n",
    "\n",
    "The overall process is performed in a Dataclass named:**GrapWfModel**<br> \n",
    "Close study of this class can be rewarding, but is outside the need of most users.<br>\n",
    "The overall structure is: \n",
    " 1. Eviews is started and the wf1 file is loaded\n",
    " 2. 1.    Some transformations are performed on data.\n",
    " 3. 2.   The model is unlinked \n",
    " 4. 3.    The workspace is saved as a wf2 file. Same name with ```_modelflow appended```\n",
    " 5. Eviews is closed \n",
    " 6. The wf2 file is read as a json file. \n",
    " 7. Relevant objects are extracted. \n",
    " 7. The MFMSA variable is  extracted, to be saved in the dumpfile. \n",
    " 8. The equations are transformed and normalized to modelflow format and classified into identities and stochastic\n",
    " 9. Stochastic equations are enriched by add_factor and fixing terms (dummy + fixing value)  \n",
    " 9. For Stochastic equations new fitted variables are generated - without add add_factors and dummies.  \n",
    " 9. A model to generate fitted variables is created  \n",
    " 9. A model to generate add_factors is created. \n",
    " 9. A model encompassing the original equations, the model for fitted variables and for add_factors is created. \n",
    " 9. The data series and scalars are shoveled into a Pandas dataframe \n",
    " 11. 1. Some special series are generated as the expression can not be incorporated into modelflow model specifications\n",
    " 11. 2. The model for fitted values is simulated in the specified timespan\n",
    " 12. 3. The model for add_factors is simulated in the timespan set in MFMSA\n",
    " 10. The data descriptions are extracted into a dictionary. \n",
    " 10. 1. Data descriptions for dummies, fixed values, fitted values and add_factors are derived. \n",
    " 11. Now we have a model and a dataframe with all variables which are needed.\n",
    " b\n",
    "The GrapWfModel instance in general keeps most of the steps so the developer can inspect the the different steps.  \n"
   ]
  },
  {
   "cell_type": "markdown",
   "id": "55349107",
   "metadata": {},
   "source": [
    "## Prerequisites  \n",
    "\n",
    "- Eviews version 12 \n",
    "- The python library: ```pyevies```  \n"
   ]
  },
  {
   "cell_type": "code",
   "execution_count": 5,
   "id": "fa9578fb",
   "metadata": {},
   "outputs": [
    {
     "data": {
      "text/html": [
       "\n",
       "        <style>\n",
       "            div#notebook-container    { width: 95%; }\n",
       "            div#menubar-container     { width: 65%; }\n",
       "            div#maintoolbar-container { width: 99%; }\n",
       "        </style>\n",
       "        "
      ],
      "text/plain": [
       "<IPython.core.display.HTML object>"
      ]
     },
     "metadata": {},
     "output_type": "display_data"
    }
   ],
   "source": [
    "from pathlib import Path\n",
    "\n",
    "from modelclass import model \n",
    "from modelgrabwf2 import GrabWfModel\n",
    "model.widescreen()\n",
    "model.scroll_off()"
   ]
  },
  {
   "cell_type": "code",
   "execution_count": 6,
   "id": "83528f87",
   "metadata": {},
   "outputs": [],
   "source": [
    " %load_ext autoreload\n",
    " %autoreload 2"
   ]
  },
  {
   "cell_type": "markdown",
   "id": "15e120bf",
   "metadata": {},
   "source": [
    "## Model specific transformations \n",
    "Not all Eviews equations have a direct counterpart in modelflow.<br>\n",
    "To handle that two types of transformations can be provided for a specific model. \n",
    "- **eviews_run_lines** which specifies a list of Eviews command lines to be run. Typical to make some transformation of data which is not possible in modelflow. \n",
    "- **country_trans** which specifies a list of replacements to be done to the Eviews formulas before they are processed further. Typical to use the transformation mentioned above.  "
   ]
  },
  {
   "cell_type": "code",
   "execution_count": 7,
   "id": "2ea58496",
   "metadata": {},
   "outputs": [],
   "source": [
    "ago_trans = lambda  input : input.replace('@MEAN(AGOBNCABFUNDCD/AGONYGDPMKTPCD,\"2000 2020\")','MEAN_AGOBNCABFUNDCD_DIV_AGONYGDPMKTPCD') \n",
    "ago_eviews_run_lines = ['smpl @ALL','series MEAN_AGOBNCABFUNDCD_DIV_AGONYGDPMKTPCD = @MEAN(AGOBNCABFUNDCD/AGONYGDPMKTPCD,\"2000 2020\")']"
   ]
  },
  {
   "cell_type": "markdown",
   "id": "727f2214",
   "metadata": {},
   "source": [
    "## Process the model"
   ]
  },
  {
   "cell_type": "code",
   "execution_count": 8,
   "id": "6d7d7ac6",
   "metadata": {},
   "outputs": [
    {
     "name": "stdout",
     "output_type": "stream",
     "text": [
      "\n",
      "Reading c:\\wb new\\Modelflow\\working_paper\\thebook\\content\\howto\\onboard\\eviews\\wfs\\agosoln.wf1\n",
      "Assummed model name: AGO\n",
      "Eviewsline to run :smpl @ALL\n",
      "Eviewsline to run :series MEAN_AGOBNCABFUNDCD_DIV_AGONYGDPMKTPCD = @MEAN(AGOBNCABFUNDCD/AGONYGDPMKTPCD,\"2000 2020\")\n",
      "The model: AGO is unlinked \n",
      "Writing C:\\wb new\\Modelflow\\working_paper\\thebook\\content\\howto\\onboard\\eviews\\wfs\\agosoln_modelflow.wf2\n",
      "Model name: AGO\n",
      "\n",
      "Processing the model:AGO\n"
     ]
    },
    {
     "name": "stderr",
     "output_type": "stream",
     "text": [
      "Normalizing model: 100%|███████████████████████████████████████████████████████████████████████████████████████|198/198\n"
     ]
    },
    {
     "name": "stdout",
     "output_type": "stream",
     "text": [
      "testmodel solved  \n",
      "Calculation of add factors for AGO solved  \n"
     ]
    }
   ],
   "source": [
    "all_about_ago = GrabWfModel(r'wfs\\agosoln.wf1', \n",
    "                    eviews_run_lines= ago_eviews_run_lines,\n",
    "                    country_trans    =  ago_trans,\n",
    "                    make_fitted = True,        # make equatios for fitted values of stocastic equations \n",
    "                    do_add_factor_calc=True,   # Calculate the add factors which makes the stocastic equations match    \n",
    "                    fit_start = 2000,          # Start of calculation of fittet model in baseline (to have some historic values) \n",
    "                    fit_end   = None,           # end of calc for fittted model, if None taken from mdmfsa options  \n",
    "                    disable_progress =True) "
   ]
  },
  {
   "cell_type": "markdown",
   "id": "38c42e1f",
   "metadata": {},
   "source": [
    "## Check if each equation on its own result in the values provided. \n",
    "aka: residual check <br> \n",
    "If they are not pretty close, something is very wrong. "
   ]
  },
  {
   "cell_type": "code",
   "execution_count": 9,
   "id": "502baa5d",
   "metadata": {},
   "outputs": [
    {
     "name": "stdout",
     "output_type": "stream",
     "text": [
      "AGO solved  \n",
      "testmodel solved  \n",
      "\n",
      "Chekking residuals for AGO 2016 to 2060\n",
      "\n",
      "Variable with residuals above threshold\n",
      "AGONECONPRVTCN                        , Max difference:  2861.03139496 Max Pct    0.0000106457% It is number    45 in the solveorder and error number 1\n",
      "AGONEGDIFTOTCN                        , Max difference:   177.46922302 Max Pct    0.0000007316% It is number    59 in the solveorder and error number 2\n",
      "AGONEEXPGOILCN                        , Max difference:   544.94689941 Max Pct    0.0000026926% It is number    68 in the solveorder and error number 3\n",
      "AGONEEXPGNFSCN                        , Max difference:   504.25928497 Max Pct    0.0000023486% It is number    69 in the solveorder and error number 4\n",
      "AGONEIMPGNFSCN                        , Max difference:  1101.58077240 Max Pct    0.0000111348% It is number    73 in the solveorder and error number 5\n",
      "AGONYYWBTOTLCN                        , Max difference:   286.10862160 Max Pct    0.0000091250% It is number    82 in the solveorder and error number 6\n",
      "AGOGGREVTOTLCN                        , Max difference:   136.30834198 Max Pct    0.0000014056% It is number    83 in the solveorder and error number 7\n",
      "AGONVGDPFCSTCN                        , Max difference:   455.67959595 Max Pct    0.0000009309% It is number   113 in the solveorder and error number 8\n",
      "AGONVSRVPUBLCN                        , Max difference:   597.87203789 Max Pct    0.0000183998% It is number   118 in the solveorder and error number 9\n",
      "AGONVGDPOTHRCN                        , Max difference:   355.96192932 Max Pct    0.0000005341% It is number   119 in the solveorder and error number 10\n",
      "AGONYGDPMKTPCN                        , Max difference:   296.17025757 Max Pct    0.0000012217% It is number   167 in the solveorder and error number 11\n"
     ]
    }
   ],
   "source": [
    "all_about_ago.test_model(all_about_ago.start,all_about_ago.end,maxerr=100,tol=100,showall=0)   # tol determins the max acceptable absolute difference "
   ]
  },
  {
   "cell_type": "markdown",
   "id": "a3351d70",
   "metadata": {},
   "source": [
    "The absolute differences are surprising large, however it seems they reflect some shortcut in the eviews calculation."
   ]
  },
  {
   "cell_type": "markdown",
   "id": "540645a4",
   "metadata": {},
   "source": [
    "## Extract the model and the baseline\n",
    "**all_about_ago** has a lot of content including. \n",
    "- .mmodel is the model instance\n",
    "- .base_input is the baseline where the add factors and the fitted values are calculated "
   ]
  },
  {
   "cell_type": "code",
   "execution_count": 10,
   "id": "f6a336f5",
   "metadata": {},
   "outputs": [],
   "source": [
    "mago    = all_about_ago.mmodel       # the model instance  \n",
    "baseline = all_about_ago.base_input"
   ]
  },
  {
   "cell_type": "markdown",
   "id": "176f6a07",
   "metadata": {},
   "source": [
    "## Run the model \n",
    "In order to achieve numerical stability Gauss-Seidle has to be dampened: alfa=0.7 makes sure that the solution does not explode. \n",
    "The convergence criteria is tightend a lot. "
   ]
  },
  {
   "cell_type": "code",
   "execution_count": 11,
   "id": "8019ced1",
   "metadata": {},
   "outputs": [
    {
     "name": "stdout",
     "output_type": "stream",
     "text": [
      "Will start solving: AGO\n",
      "Create compiled solving function for AGO\n",
      "ljit=False stringjit=True  transpile_reset=False  hasattr(self, f\"pro_{jitname}\")=False\n",
      "now makelos makes a sim solvefunction\n",
      "2016 Solved in 6 iterations\n",
      "2017 Solved in 6 iterations\n",
      "2018 Solved in 6 iterations\n",
      "2019 Solved in 6 iterations\n",
      "2020 Solved in 7 iterations\n",
      "2021 Solved in 7 iterations\n",
      "2022 Solved in 7 iterations\n",
      "2023 Solved in 7 iterations\n",
      "2024 Solved in 8 iterations\n",
      "2025 Solved in 7 iterations\n",
      "2026 Solved in 21 iterations\n",
      "2027 Solved in 7 iterations\n",
      "2028 Solved in 8 iterations\n",
      "2029 Solved in 7 iterations\n",
      "2030 Solved in 12 iterations\n",
      "2031 Solved in 12 iterations\n",
      "2032 Solved in 12 iterations\n",
      "2033 Solved in 13 iterations\n",
      "2034 Solved in 14 iterations\n",
      "2035 Solved in 15 iterations\n",
      "2036 Solved in 14 iterations\n",
      "2037 Solved in 14 iterations\n",
      "2038 Solved in 14 iterations\n",
      "2039 Solved in 7 iterations\n",
      "2040 Solved in 7 iterations\n",
      "AGO solved  \n"
     ]
    }
   ],
   "source": [
    "res = mago(all_about_ago.base_input,2016,2040,silent=0,alfa=0.7,ldumpvar=1)"
   ]
  },
  {
   "cell_type": "markdown",
   "id": "78c958a8",
   "metadata": {},
   "source": [
    "## And the simulation result is also fine. \n",
    "Here the percent difference is displayed"
   ]
  },
  {
   "cell_type": "code",
   "execution_count": 12,
   "id": "e5816406",
   "metadata": {
    "scrolled": false
   },
   "outputs": [
    {
     "data": {
      "text/plain": [
       "      Capital Expenditure   Nominal GDP     Govt Debt  Current account\n",
       "2016         0.0000000000 -0.0000000000 -0.0000000000    -0.0000000000\n",
       "2017         0.0000000000 -0.0000000000 -0.0000000000     0.0000000000\n",
       "2018        -0.0000000000 -0.0000000000 -0.0000000000    -0.0000000000\n",
       "2019         0.0000000000 -0.0000000000 -0.0000000000    -0.0000000000\n",
       "2020         0.0000000409 -0.0000000309 -0.0000000005     0.0000000008\n",
       "2021         0.0000000333 -0.0000000077  0.0000000029     0.0000000932\n",
       "2022        -0.0000001683  0.0000000047  0.0000000064     0.0000000431\n",
       "2023        -0.0000001123  0.0000000462  0.0000000100     0.0000000439\n",
       "2024         0.0000000202  0.0000002660  0.0000000103    -0.0000000030\n",
       "2025         0.0000000121  0.0000001002 -0.0000000155    -0.0000000807\n",
       "2026         0.0000002434  0.0000001346  0.0000000060    -0.0000000924\n",
       "2027         0.0000000705  0.0000000545 -0.0000000079    -0.0000000838\n",
       "2028         0.0000000042 -0.0000001176 -0.0000000320    -0.0000001683\n",
       "2029        -0.0000000414 -0.0000001608 -0.0000000265    -0.0000001278\n",
       "2030        -0.0000001692 -0.0000002030 -0.0000000518    -0.0000000116\n",
       "2031        -0.0000002728 -0.0000002868 -0.0000000914    -0.0000000514\n",
       "2032        -0.0000002748 -0.0000003016 -0.0000001373    -0.0000000218\n",
       "2033        -0.0000002749 -0.0000002977 -0.0000001761     0.0000000006\n",
       "2034        -0.0000002953 -0.0000003014 -0.0000002062     0.0000000198\n",
       "2035        -0.0000002905 -0.0000003165 -0.0000002332     0.0000000100\n",
       "2036        -0.0000002800 -0.0000002976 -0.0000002510     0.0000000120\n",
       "2037        -0.0000002705 -0.0000002831 -0.0000002620    -0.0000000166\n",
       "2038        -0.0000002080 -0.0000001550 -0.0000002556     0.0000001575\n",
       "2039        -0.0000002010 -0.0000001341 -0.0000002045     0.0000000773\n",
       "2040        -0.0000002322 -0.0000001450 -0.0000001702     0.0000001002"
      ]
     },
     "execution_count": 12,
     "metadata": {},
     "output_type": "execute_result"
    }
   ],
   "source": [
    "mago['AGOGGEXPCAPTCN AGONYGDPMKTPCN AGOGGDBTTOTLCN AGOBNCABFUNDCD'].difpctlevel.rename()"
   ]
  },
  {
   "cell_type": "markdown",
   "id": "2a604788",
   "metadata": {},
   "source": [
    "# One variable is investigated \n",
    "AGONVGDPOTHRCN shows a difference of 355. Although a small percent lets look at it."
   ]
  },
  {
   "cell_type": "markdown",
   "id": "02014f8b",
   "metadata": {},
   "source": [
    "**all_about_ago** has a lot of content. One is .all_frml_dict. This is a dict with en entry for each endogenous variable and a value which is an \n",
    "instances of a dataclass called **Normalized_frml**. <br>\n",
    "Each Normalized_frml contains \n",
    "the different phases a frml goes through from eviews to modelflow equation. It also contains the equations for add factors, fitted variables and calculation of add factors.\n",
    "\n",
    "For AGONVGDPOTHRCN which is an identity with no frills the Normalized_frml looks like this: "
   ]
  },
  {
   "cell_type": "code",
   "execution_count": 15,
   "id": "2d33d32b",
   "metadata": {},
   "outputs": [
    {
     "name": "stdout",
     "output_type": "stream",
     "text": [
      "\n",
      "Endo_var        : AGONVGDPOTHRCN\n",
      "Original        : AGONVGDPOTHRCN=AGONVGDPOTHRKN*AGONVGDPOTHRXN\r\n",
      "Preprocessed    : AGONVGDPOTHRCN=AGONVGDPOTHRKN*AGONVGDPOTHRXN\r\n",
      "Normalized      : AGONVGDPOTHRCN = AGONVGDPOTHRKN*AGONVGDPOTHRXN\n",
      "Eviews          : @IDENTITY agonvgdpothrcn  = agonvgdpothrkn  * agonvgdpothrxn\r\n"
     ]
    }
   ],
   "source": [
    "all_about_ago.all_frml_dict['AGONVGDPOTHRCN'].fprint"
   ]
  },
  {
   "cell_type": "markdown",
   "id": "5efa0a62",
   "metadata": {},
   "source": [
    "How can such a simple frml give different results in eviews and in modelflow. Lets look at the data: \n",
    "\n",
    "The base dataframne contains the values imported from eviews\n",
    "\n",
    "The lastdf contains the calculated variables. \n",
    "\n",
    "The input values are the same in eviews and modelflow. If one does the calulation by hand the modelflow results are right. <br>\n",
    "One explanation could be that eviews truncates some of the values to single precision  when calculating some values. "
   ]
  },
  {
   "cell_type": "code",
   "execution_count": 16,
   "id": "ca579dc1",
   "metadata": {},
   "outputs": [
    {
     "name": "stdout",
     "output_type": "stream",
     "text": [
      "Endogeneous: AGONVGDPOTHRCN:  \n",
      "Formular: FRML  <> AGONVGDPOTHRCN = AGONVGDPOTHRKN*AGONVGDPOTHRXN $\n",
      "\n",
      "AGONVGDPOTHRCN: \n",
      "AGONVGDPOTHRKN: \n",
      "AGONVGDPOTHRXN: \n",
      "\n",
      "Values : \n",
      "                       2057                   2058                   2059\n",
      "Base 63963956012.8213348389 69151728515.2461853027 74736766907.8641052246\n",
      "Last 63963956012.8213348389 69151728515.2461853027 74736766907.8641052246\n",
      "Diff           0.0000000000           0.0000000000           0.0000000000\n",
      "\n",
      "Input last run: \n",
      "                              2057               2058               2059\n",
      "AGONVGDPOTHRKN 7016583.2910357974 7461688.5852832915 7934692.3573708227\n",
      "AGONVGDPOTHRXN    9116.1115678822    9267.5709885311    9418.9873010611\n",
      "\n",
      "Input base run: \n",
      "                              2057               2058               2059\n",
      "AGONVGDPOTHRKN 7016583.2910357974 7461688.5852832915 7934692.3573708227\n",
      "AGONVGDPOTHRXN    9116.1115678822    9267.5709885311    9418.9873010611\n",
      "\n",
      "Difference for input variables: \n",
      "                        2057         2058         2059\n",
      "AGONVGDPOTHRKN 0.0000000000 0.0000000000 0.0000000000\n",
      "AGONVGDPOTHRXN 0.0000000000 0.0000000000 0.0000000000\n",
      "None\n"
     ]
    }
   ],
   "source": [
    "with mago.set_smpl(2057,2059):\n",
    "    print(mago.AGONVGDPOTHRCN.show)                        "
   ]
  },
  {
   "cell_type": "code",
   "execution_count": 18,
   "id": "d9938e73",
   "metadata": {},
   "outputs": [
    {
     "name": "stdout",
     "output_type": "stream",
     "text": [
      "Endogeneous: AGOGGEXPCAPTCN: Capital Expenditure \n",
      "Formular: FRML <Z,EXO> AGOGGEXPCAPTCN = (0.15*AGOGGEXPCAPTCN(-1)+(1-0.15)*((1-((AGOGGEXPGNFSCN_VALUE_2019/(AGOGGEXPTOTLCN_VALUE_2019))))*(1+-0.15)*(AGOGGREVTOTLCN-AGOGGEXPINTPCN))-1*(AGODISPREPCN)-1950858.15761458*DURING_2018 + AGOGGEXPCAPTCN_A)* (1-AGOGGEXPCAPTCN_D)+ AGOGGEXPCAPTCN_X*AGOGGEXPCAPTCN_D  $\n",
      "\n",
      "AGOGGEXPCAPTCN           : Capital Expenditure\n",
      "AGODISPREPCN             : \n",
      "AGOGGEXPCAPTCN_A         : Add factor:Capital Expenditure\n",
      "AGOGGEXPCAPTCN_D         : Exo dummy:Capital Expenditure\n",
      "AGOGGEXPCAPTCN_X         : Exo value:Capital Expenditure\n",
      "AGOGGEXPGNFSCN_VALUE_2019: \n",
      "AGOGGEXPINTPCN           : Interest Payments\n",
      "AGOGGEXPTOTLCN_VALUE_2019: \n",
      "AGOGGREVTOTLCN           : Total Revenue\n",
      "DURING_2018              : \n",
      "\n",
      "Values : \n",
      "                   2020\n",
      "Base 2739923.9490547292\n",
      "Last 2739924.0612037797\n",
      "Diff       0.1121490505\n",
      "\n",
      "Input last run: \n",
      "                                         2020\n",
      "AGODISPREPCN                    0.0000000000\n",
      "AGOGGEXPCAPTCN(-1)        1126717.4808967640\n",
      "AGOGGEXPCAPTCN_A          -617364.9413027111\n",
      "AGOGGEXPCAPTCN_D                0.0000000000\n",
      "AGOGGEXPCAPTCN_X                0.0000000000\n",
      "AGOGGEXPGNFSCN_VALUE_2019  844000.0000000000\n",
      "AGOGGEXPINTPCN            3728002.8991763867\n",
      "AGOGGEXPTOTLCN_VALUE_2019 6291336.7808967605\n",
      "AGOGGREVTOTLCN            8824567.1030861512\n",
      "DURING_2018                     0.0000000000\n",
      "\n",
      "Input base run: \n",
      "                                         2020\n",
      "AGODISPREPCN                    0.0000000000\n",
      "AGOGGEXPCAPTCN(-1)        1126717.4808967600\n",
      "AGOGGEXPCAPTCN_A          -617364.9413027109\n",
      "AGOGGEXPCAPTCN_D                0.0000000000\n",
      "AGOGGEXPCAPTCN_X                0.0000000000\n",
      "AGOGGEXPGNFSCN_VALUE_2019  844000.0000000000\n",
      "AGOGGEXPINTPCN            3728003.2946380554\n",
      "AGOGGEXPTOTLCN_VALUE_2019 6291336.7808967605\n",
      "AGOGGREVTOTLCN            8824567.3137547709\n",
      "DURING_2018                     0.0000000000\n",
      "\n",
      "Difference for input variables: \n",
      "                                    2020\n",
      "AGODISPREPCN               0.0000000000\n",
      "AGOGGEXPCAPTCN(-1)         0.0000000040\n",
      "AGOGGEXPCAPTCN_A          -0.0000000002\n",
      "AGOGGEXPCAPTCN_D           0.0000000000\n",
      "AGOGGEXPCAPTCN_X           0.0000000000\n",
      "AGOGGEXPGNFSCN_VALUE_2019  0.0000000000\n",
      "AGOGGEXPINTPCN            -0.3954616687\n",
      "AGOGGEXPTOTLCN_VALUE_2019  0.0000000000\n",
      "AGOGGREVTOTLCN            -0.2106686197\n",
      "DURING_2018                0.0000000000\n",
      "None\n"
     ]
    }
   ],
   "source": [
    "with mago.set_smpl(2020,2020):\n",
    "    print(mago.AGOGGEXPCAPTCN.show)                        "
   ]
  },
  {
   "cell_type": "markdown",
   "id": "5d090b2c",
   "metadata": {},
   "source": [
    "## Look at a stochastic variable \n",
    "Here the equations undergo more phases "
   ]
  },
  {
   "cell_type": "code",
   "execution_count": 19,
   "id": "0f85a82d",
   "metadata": {},
   "outputs": [
    {
     "name": "stdout",
     "output_type": "stream",
     "text": [
      "\n",
      "Endo_var        : AGONVINDMINGKN\n",
      "Original        : DLOG(AGONVINDMINGKN)=-0.3*(LOG(AGONVINDMINGKN(-1))-LOG(AGOSMINDMINGKN(-1)))+0.192238955968179+DLOG(AGOSMINDMINGKN)+0.0064190961088093*T_LR\r\n",
      "Preprocessed    : ((LOG(AGONVINDMINGKN))-(LOG(AGONVINDMINGKN(-1))))=-0.3*(LOG(AGONVINDMINGKN(-1))-LOG(AGOSMINDMINGKN(-1)))+0.192238955968179+((LOG(AGOSMINDMINGKN))-(LOG(AGOSMINDMINGKN(-1))))+0.0064190961088093*T_LR\r\n",
      "Normalized      : AGONVINDMINGKN = (AGONVINDMINGKN(-1)*EXP(-AGONVINDMINGKN_A+ (-0.3*(LOG(AGONVINDMINGKN(-1))-LOG(AGOSMINDMINGKN(-1)))+0.192238955968179+((LOG(AGOSMINDMINGKN))-(LOG(AGOSMINDMINGKN(-1))))+0.0064190961088093*T_LR) )) * (1-AGONVINDMINGKN_D)+ AGONVINDMINGKN_X*AGONVINDMINGKN_D \n",
      "Calc_add_factor : AGONVINDMINGKN_A =  ((-0.3*(LOG(AGONVINDMINGKN(-1))-LOG(AGOSMINDMINGKN(-1)))+0.192238955968179+((LOG(AGOSMINDMINGKN))-(LOG(AGOSMINDMINGKN(-1))))+0.0064190961088093*T_LR)) -LOG(AGONVINDMINGKN)+LOG(AGONVINDMINGKN(-1))\n",
      "Fitted          : AGONVINDMINGKN_FITTED = AGONVINDMINGKN(-1)*EXP( (-0.3*(LOG(AGONVINDMINGKN(-1))-LOG(AGOSMINDMINGKN(-1)))+0.192238955968179+((LOG(AGOSMINDMINGKN))-(LOG(AGOSMINDMINGKN(-1))))+0.0064190961088093*T_LR) )\n",
      "Eviews          : DLOG(AGONVINDMINGKN) =- 0.3*(LOG(AGONVINDMINGKN( - 1)) - LOG(AGOSMINDMINGKN( - 1))) + 0.192238955968179 + DLOG(AGOSMINDMINGKN) + 0.0064190961088093*T_LR\r\n"
     ]
    }
   ],
   "source": [
    "all_about_ago.all_frml_dict['AGONVINDMINGKN'].fprint"
   ]
  },
  {
   "cell_type": "markdown",
   "id": "781c433d",
   "metadata": {},
   "source": [
    "## Look a all the modelflow frmls\n",
    "Notice after the \"original\" model the equations for the \"fitted\" values have been added. <br>\n",
    "Also in the end of the listing the specification of the model which calculates the add factors if a variable is fixed. When processing the equations the ```model``` class will process this this model separately and create a model instance \n",
    "which is used to calculate add factors in case "
   ]
  },
  {
   "cell_type": "code",
   "execution_count": null,
   "id": "b9ae4d5d",
   "metadata": {
    "scrolled": false
   },
   "outputs": [],
   "source": [
    "# print(mago.equations)"
   ]
  },
  {
   "cell_type": "code",
   "execution_count": 20,
   "id": "36502a77",
   "metadata": {},
   "outputs": [
    {
     "name": "stdout",
     "output_type": "stream",
     "text": [
      "Endogeneous: AGOGGEXPCAPTCN: Capital Expenditure \n",
      "Formular: FRML <Z,EXO> AGOGGEXPCAPTCN = (0.15*AGOGGEXPCAPTCN(-1)+(1-0.15)*((1-((AGOGGEXPGNFSCN_VALUE_2019/(AGOGGEXPTOTLCN_VALUE_2019))))*(1+-0.15)*(AGOGGREVTOTLCN-AGOGGEXPINTPCN))-1*(AGODISPREPCN)-1950858.15761458*DURING_2018 + AGOGGEXPCAPTCN_A)* (1-AGOGGEXPCAPTCN_D)+ AGOGGEXPCAPTCN_X*AGOGGEXPCAPTCN_D  $\n",
      "\n",
      "AGOGGEXPCAPTCN           : Capital Expenditure\n",
      "AGODISPREPCN             : \n",
      "AGOGGEXPCAPTCN_A         : Add factor:Capital Expenditure\n",
      "AGOGGEXPCAPTCN_D         : Exo dummy:Capital Expenditure\n",
      "AGOGGEXPCAPTCN_X         : Exo value:Capital Expenditure\n",
      "AGOGGEXPGNFSCN_VALUE_2019: \n",
      "AGOGGEXPINTPCN           : Interest Payments\n",
      "AGOGGEXPTOTLCN_VALUE_2019: \n",
      "AGOGGREVTOTLCN           : Total Revenue\n",
      "DURING_2018              : \n",
      "\n",
      "Values : \n",
      "                   2020               2021               2022               2023\n",
      "Base 2739923.9490547292 3246400.8487510146 3918275.2782179881 7285398.1806929344\n",
      "Last 2739924.0612037797 3246400.9568246650 3918274.6188085284 7285397.3623756077\n",
      "Diff       0.1121490505       0.1080736504      -0.6594094597      -0.8183173267\n",
      "\n",
      "Input last run: \n",
      "                                         2020                2021                2022                2023\n",
      "AGODISPREPCN                    0.0000000000        0.0000000000        0.0000000000        0.0000000000\n",
      "AGOGGEXPCAPTCN(-1)        1126717.4808967640  2739924.0612037797  3246400.9568246650  3918274.6188085284\n",
      "AGOGGEXPCAPTCN_A          -617364.9413027111  -185209.4807764799   -55562.8430399811   -16668.8837663596\n",
      "AGOGGEXPCAPTCN_D                0.0000000000        0.0000000000        0.0000000000        0.0000000000\n",
      "AGOGGEXPCAPTCN_X                0.0000000000        0.0000000000        0.0000000000        0.0000000000\n",
      "AGOGGEXPGNFSCN_VALUE_2019  844000.0000000000   844000.0000000000   844000.0000000000   844000.0000000000\n",
      "AGOGGEXPINTPCN            3728002.8991763867  9249117.7489938680 18951475.4068783633 32348680.4126029536\n",
      "AGOGGEXPTOTLCN_VALUE_2019 6291336.7808967605  6291336.7808967605  6291336.7808967605  6291336.7808967605\n",
      "AGOGGREVTOTLCN            8824567.1030861512 14077673.0250319913 24525354.1816969886 43081731.9720091075\n",
      "DURING_2018                     0.0000000000        0.0000000000        0.0000000000        0.0000000000\n",
      "\n",
      "Input base run: \n",
      "                                         2020                2021                2022                2023\n",
      "AGODISPREPCN                    0.0000000000        0.0000000000        0.0000000000        0.0000000000\n",
      "AGOGGEXPCAPTCN(-1)        1126717.4808967600  2739923.9490547292  3246400.8487510146  3918275.2782179881\n",
      "AGOGGEXPCAPTCN_A          -617364.9413027109  -185209.4807764798   -55562.8430399810   -16668.8837663593\n",
      "AGOGGEXPCAPTCN_D                0.0000000000        0.0000000000        0.0000000000        0.0000000000\n",
      "AGOGGEXPCAPTCN_X                0.0000000000        0.0000000000        0.0000000000        0.0000000000\n",
      "AGOGGEXPGNFSCN_VALUE_2019  844000.0000000000   844000.0000000000   844000.0000000000   844000.0000000000\n",
      "AGOGGEXPINTPCN            3728003.2946380554  9249117.8793434575 18951473.5785169490 32348676.8665818274\n",
      "AGOGGEXPTOTLCN_VALUE_2019 6291336.7808967605  6291336.7808967605  6291336.7808967605  6291336.7808967605\n",
      "AGOGGREVTOTLCN            8824567.3137547709 14077673.0681394283 24525353.4931007624 43081729.6517835036\n",
      "DURING_2018                     0.0000000000        0.0000000000        0.0000000000        0.0000000000\n",
      "\n",
      "Difference for input variables: \n",
      "                                    2020          2021          2022          2023\n",
      "AGODISPREPCN               0.0000000000  0.0000000000  0.0000000000  0.0000000000\n",
      "AGOGGEXPCAPTCN(-1)         0.0000000040  0.1121490505  0.1080736504 -0.6594094597\n",
      "AGOGGEXPCAPTCN_A          -0.0000000002 -0.0000000001 -0.0000000000 -0.0000000004\n",
      "AGOGGEXPCAPTCN_D           0.0000000000  0.0000000000  0.0000000000  0.0000000000\n",
      "AGOGGEXPCAPTCN_X           0.0000000000  0.0000000000  0.0000000000  0.0000000000\n",
      "AGOGGEXPGNFSCN_VALUE_2019  0.0000000000  0.0000000000  0.0000000000  0.0000000000\n",
      "AGOGGEXPINTPCN            -0.3954616687 -0.1303495895  1.8283614144  3.5460211262\n",
      "AGOGGEXPTOTLCN_VALUE_2019  0.0000000000  0.0000000000  0.0000000000  0.0000000000\n",
      "AGOGGREVTOTLCN            -0.2106686197 -0.0431074370  0.6885962263  2.3202256039\n",
      "DURING_2018                0.0000000000  0.0000000000  0.0000000000  0.0000000000\n",
      "None\n"
     ]
    }
   ],
   "source": [
    "with mago.set_smpl(2020,2023):\n",
    "    print(mago.AGOGGEXPCAPTCN.show)                        "
   ]
  },
  {
   "cell_type": "code",
   "execution_count": null,
   "id": "239d4345",
   "metadata": {},
   "outputs": [],
   "source": []
  }
 ],
 "metadata": {
  "hide_input": false,
  "kernelspec": {
   "display_name": "Python 3 (ipykernel)",
   "language": "python",
   "name": "python3"
  },
  "language_info": {
   "codemirror_mode": {
    "name": "ipython",
    "version": 3
   },
   "file_extension": ".py",
   "mimetype": "text/x-python",
   "name": "python",
   "nbconvert_exporter": "python",
   "pygments_lexer": "ipython3",
   "version": "3.8.8"
  },
  "toc": {
   "base_numbering": 1,
   "nav_menu": {},
   "number_sections": false,
   "sideBar": true,
   "skip_h1_title": true,
   "title_cell": "Table of Contents",
   "title_sidebar": "Contents",
   "toc_cell": false,
   "toc_position": {
    "height": "calc(100% - 180px)",
    "left": "10px",
    "top": "150px",
    "width": "264.942px"
   },
   "toc_section_display": true,
   "toc_window_display": true
  },
  "varInspector": {
   "cols": {
    "lenName": 16,
    "lenType": 16,
    "lenVar": 40
   },
   "kernels_config": {
    "python": {
     "delete_cmd_postfix": "",
     "delete_cmd_prefix": "del ",
     "library": "var_list.py",
     "varRefreshCmd": "print(var_dic_list())"
    },
    "r": {
     "delete_cmd_postfix": ") ",
     "delete_cmd_prefix": "rm(",
     "library": "var_list.r",
     "varRefreshCmd": "cat(var_dic_list()) "
    }
   },
   "position": {
    "height": "523.849px",
    "left": "1662.61px",
    "right": "20px",
    "top": "45.9915px",
    "width": "800px"
   },
   "types_to_exclude": [
    "module",
    "function",
    "builtin_function_or_method",
    "instance",
    "_Feature"
   ],
   "window_display": false
  }
 },
 "nbformat": 4,
 "nbformat_minor": 5
}
