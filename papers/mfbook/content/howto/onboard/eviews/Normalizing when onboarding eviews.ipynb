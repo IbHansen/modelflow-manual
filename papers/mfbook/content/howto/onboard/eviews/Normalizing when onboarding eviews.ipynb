{
 "cells": [
  {
   "cell_type": "markdown",
   "id": "6223827f",
   "metadata": {},
   "source": [
    "# Normalizing when onboarding  eviews models \n",
    "When onboarding a model from Eviews the model flows through several phases. \n",
    "In this notebook the normalization of equations is explored. \n",
    "\n",
    "In the normal function the equation is normalized. That is only one variable on the left hand side of the =. In addition the \n",
    "the equation can be enriched by an add factor and a fixing construct. \n",
    "\n",
    "Also equations can be generated to calculate the add factor and a _fitted variable - meaning the value without fixing or add factor) \n",
    "\n",
    "First an equation is **preprocessed**. That is: diff ,dlog, pct_growth, movavg and the like is expanded.<br> \n",
    "Then the equation is normalized. That is a variable (the endogenous variable) is isolated on the left hand side of the =. \n",
    "\n"
   ]
  },
  {
   "cell_type": "code",
   "execution_count": 30,
   "id": "3b8814e3",
   "metadata": {
    "tags": [
     "remove-cell"
    ]
   },
   "outputs": [],
   "source": [
    "#This is code to manage dependencies if the notebook is executed in the google colab cloud service\n",
    "if 'google.colab' in str(get_ipython()):\n",
    "  import os\n",
    "  os.system('apt -qqq install graphviz')\n",
    "  os.system('pip -qqq install ModelFlowIb ipysheet  --no-dependencies ')\n",
    "  incolab = True  \n",
    "else:\n",
    "  incolab = False "
   ]
  },
  {
   "cell_type": "code",
   "execution_count": 31,
   "id": "00d943da",
   "metadata": {},
   "outputs": [],
   "source": [
    "from modelnormalize import normal"
   ]
  },
  {
   "cell_type": "code",
   "execution_count": 32,
   "id": "451f0fbe",
   "metadata": {
    "tags": [
     "remove-cell"
    ]
   },
   "outputs": [
    {
     "name": "stdout",
     "output_type": "stream",
     "text": [
      "The autoreload extension is already loaded. To reload it, use:\n",
      "  %reload_ext autoreload\n"
     ]
    }
   ],
   "source": [
    "%load_ext autoreload\n",
    "%autoreload 2"
   ]
  },
  {
   "cell_type": "code",
   "execution_count": 33,
   "id": "715aec7c",
   "metadata": {
    "tags": [
     "remove-cell"
    ]
   },
   "outputs": [
    {
     "data": {
      "text/plain": [
       "Endo_var        : A\n",
       "Original        : a/(b/c) = 3 \n",
       "Preprocessed    : A/(B/C)=3\n",
       "Normalized      : A = A_A*B/C+B* (3) /C\n",
       "Calc_add_factor : A_A = A*C/B- ((3)) \n",
       "Fitted          : A_FITTED = B* (3) /C"
      ]
     },
     "execution_count": 33,
     "metadata": {},
     "output_type": "execute_result"
    }
   ],
   "source": [
    "normal('a/(b/c) = 3 ',make_fitted=1,add_add_factor=True)"
   ]
  },
  {
   "cell_type": "code",
   "execution_count": 34,
   "id": "6720fc71",
   "metadata": {},
   "outputs": [
    {
     "data": {
      "text/plain": [
       "Endo_var        : A\n",
       "Original        : dlog(a) = 3 \n",
       "Preprocessed    : ((LOG(A))-(LOG(A(-1))))=3\n",
       "Normalized      : A = A(-1)*EXP(A_A+ (3) )\n",
       "Calc_add_factor : A_A = - ((3)) +LOG(A)-LOG(A(-1))\n",
       "Fitted          : A_FITTED = A(-1)*EXP( (3) )"
      ]
     },
     "execution_count": 34,
     "metadata": {},
     "output_type": "execute_result"
    }
   ],
   "source": [
    "normal('dlog(a) = 3 ',make_fitted=1,add_add_factor=True)"
   ]
  },
  {
   "cell_type": "code",
   "execution_count": 35,
   "id": "8a094ab5",
   "metadata": {
    "scrolled": true
   },
   "outputs": [
    {
     "data": {
      "text/plain": [
       "Endo_var        : A\n",
       "Original        : a - b = 3 \n",
       "Preprocessed    : A-B=3\n",
       "Normalized      : A = A_A+B+ (3) \n",
       "Calc_add_factor : A_A = A-B- ((3)) \n",
       "Fitted          : A_FITTED = B+ (3) "
      ]
     },
     "execution_count": 35,
     "metadata": {},
     "output_type": "execute_result"
    }
   ],
   "source": [
    "normal('a - b = 3 ',make_fitted=1,add_add_factor=True)"
   ]
  },
  {
   "cell_type": "code",
   "execution_count": 36,
   "id": "90167e4c",
   "metadata": {},
   "outputs": [
    {
     "data": {
      "text/plain": [
       "Endo_var        : Y\n",
       "Original        : dlog(y)  = 3 * dlog(x+b) \n",
       "Preprocessed    : ((LOG(Y))-(LOG(Y(-1))))=3*((LOG(X+B))-(LOG(X(-1)+B(-1))))\n",
       "Normalized      : Y = Y(-1)*EXP(Y_A+ (3*((LOG(X+B))-(LOG(X(-1)+B(-1))))) )\n",
       "Calc_add_factor : Y_A = - ((3*((LOG(X+B))-(LOG(X(-1)+B(-1)))))) +LOG(Y)-LOG(Y(-1))\n",
       "Fitted          : Y_FITTED = Y(-1)*EXP( (3*((LOG(X+B))-(LOG(X(-1)+B(-1))))) )"
      ]
     },
     "execution_count": 36,
     "metadata": {},
     "output_type": "execute_result"
    }
   ],
   "source": [
    "normal('dlog(y)  = 3 * dlog(x+b) ',make_fitted=1)"
   ]
  },
  {
   "cell_type": "code",
   "execution_count": 37,
   "id": "ba06e43a",
   "metadata": {},
   "outputs": [
    {
     "data": {
      "text/plain": [
       "Endo_var        : X\n",
       "Original        : x  = 3 \n",
       "Preprocessed    : X=3\n",
       "Normalized      : X = (3 + X_A)                               \n",
       "Calc_add_factor : X_A = (X) - (3)"
      ]
     },
     "execution_count": 37,
     "metadata": {},
     "output_type": "execute_result"
    }
   ],
   "source": [
    "normal('x  = 3 ',add_add_factor=1)"
   ]
  },
  {
   "cell_type": "code",
   "execution_count": 38,
   "id": "f4bad6ee",
   "metadata": {},
   "outputs": [
    {
     "data": {
      "text/plain": [
       "Endo_var        : X\n",
       "Original        : pct_growth(x)  = pct_growth(y) \n",
       "Preprocessed    :  (100 * ( (X) / (X(-1)) -1)) = (100 * ( (Y) / (Y(-1)) -1)) \n",
       "Normalized      : X = X_A*X(-1)/100+ ((100 * ( (Y) / (Y(-1)) -1))) *X(-1)/100+X(-1)\n",
       "Calc_add_factor : X_A = 100*X/X(-1)- (((100 * ( (Y) / (Y(-1)) -1)))) -100"
      ]
     },
     "execution_count": 38,
     "metadata": {},
     "output_type": "execute_result"
    }
   ],
   "source": [
    "normal('pct_growth(x)  = pct_growth(y) ',make_fixable=0,add_add_factor=1)"
   ]
  },
  {
   "cell_type": "code",
   "execution_count": 43,
   "id": "e97795ee",
   "metadata": {},
   "outputs": [
    {
     "data": {
      "text/plain": [
       "Endo_var        : X\n",
       "Original        : x  = a+b \n",
       "Preprocessed    : X=A+B\n",
       "Normalized      : X = (A+B + X_A)* (1-X_D)+ X_X*X_D \n",
       "Calc_add_factor : X_A = (X) - (A+B)\n",
       "Fitted          : X_FITTED = A+B"
      ]
     },
     "execution_count": 43,
     "metadata": {},
     "output_type": "execute_result"
    }
   ],
   "source": [
    "normal('x  = a+b ',add_add_factor=1,make_fixable=1,make_fitted=1)"
   ]
  },
  {
   "cell_type": "code",
   "execution_count": null,
   "id": "fcb9d1b9",
   "metadata": {},
   "outputs": [],
   "source": []
  }
 ],
 "metadata": {
  "celltoolbar": "Edit Metadata",
  "hide_input": false,
  "kernelspec": {
   "display_name": "Python 3 (ipykernel)",
   "language": "python",
   "name": "python3"
  },
  "language_info": {
   "codemirror_mode": {
    "name": "ipython",
    "version": 3
   },
   "file_extension": ".py",
   "mimetype": "text/x-python",
   "name": "python",
   "nbconvert_exporter": "python",
   "pygments_lexer": "ipython3",
   "version": "3.9.13"
  },
  "toc": {
   "base_numbering": 1,
   "nav_menu": {},
   "number_sections": false,
   "sideBar": true,
   "skip_h1_title": true,
   "title_cell": "Table of Contents",
   "title_sidebar": "Contents",
   "toc_cell": false,
   "toc_position": {},
   "toc_section_display": true,
   "toc_window_display": false
  },
  "varInspector": {
   "cols": {
    "lenName": 16,
    "lenType": 16,
    "lenVar": 40
   },
   "kernels_config": {
    "python": {
     "delete_cmd_postfix": "",
     "delete_cmd_prefix": "del ",
     "library": "var_list.py",
     "varRefreshCmd": "print(var_dic_list())"
    },
    "r": {
     "delete_cmd_postfix": ") ",
     "delete_cmd_prefix": "rm(",
     "library": "var_list.r",
     "varRefreshCmd": "cat(var_dic_list()) "
    }
   },
   "types_to_exclude": [
    "module",
    "function",
    "builtin_function_or_method",
    "instance",
    "_Feature"
   ],
   "window_display": false
  }
 },
 "nbformat": 4,
 "nbformat_minor": 5
}
