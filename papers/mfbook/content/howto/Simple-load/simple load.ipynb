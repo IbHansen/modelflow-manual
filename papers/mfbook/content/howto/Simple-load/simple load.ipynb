{
 "cells": [
  {
   "cell_type": "code",
   "execution_count": 1,
   "id": "1e8874ae",
   "metadata": {},
   "outputs": [
    {
     "data": {
      "text/html": [
       "\n",
       "        <style>\n",
       "            div#notebook-container    { width: 95%; }\n",
       "            div#menubar-container     { width: 65%; }\n",
       "            div#maintoolbar-container { width: 99%; }\n",
       "        </style>\n",
       "        "
      ],
      "text/plain": [
       "<IPython.core.display.HTML object>"
      ]
     },
     "metadata": {},
     "output_type": "display_data"
    }
   ],
   "source": [
    "from modelclass import model \n",
    "import modelpattern as pt\n",
    "model.widescreen()"
   ]
  },
  {
   "cell_type": "code",
   "execution_count": 2,
   "id": "f84bd024",
   "metadata": {},
   "outputs": [
    {
     "name": "stdout",
     "output_type": "stream",
     "text": [
      "file read:  C:\\wb new\\andrew\\simple model\\simple.pcim\n"
     ]
    }
   ],
   "source": [
    "msim,baseline = model.modelload('simple.pcim',run=1)"
   ]
  },
  {
   "cell_type": "markdown",
   "id": "ef740e63",
   "metadata": {},
   "source": [
    "## Of Identities from a model (we have endogene, exoegene) but endogene is both identities and behaviourals."
   ]
  },
  {
   "cell_type": "markdown",
   "id": "b124310b",
   "metadata": {},
   "source": [
    "Endogene are variables which are on the left hand side of a =<br>\n",
    "Exogene are variables which are not on the left hand side of a = \n",
    "\n",
    "It is up to the writer of the model, if she want to have other tags, this can be done in the frml name. That is:<br>\n",
    "FRML FRML_Name lhs = rhs $\n",
    "\n",
    "Lets look at your mode: "
   ]
  },
  {
   "cell_type": "code",
   "execution_count": 3,
   "id": "328249c8",
   "metadata": {
    "scrolled": true
   },
   "outputs": [
    {
     "name": "stdout",
     "output_type": "stream",
     "text": [
      "FRML <Z,EXO> CPV = (CPV(-1)*EXP(CPV_A+ (--0.0472266203297202*(LOG(CPV(-1))-LOG(Y(-1))-0.439061663605049)+1.42131949537118*((LOG(Y))-(LOG(Y(-1))))) )) * (1-CPV_D)+ CPV_X*CPV_D  $\n",
      "FRML <Z,EXO> G = (G(-1)*EXP(G_A+ (-0.8*(LOG(G(-1))-LOG(Y(-1))+2.95645923198995)+2.35837654284398*((LOG(Y))-(LOG(Y(-1))))) )) * (1-G_D)+ G_X*G_D  $\n",
      "FRML <Z,EXO> I = (I(-1)*EXP(I_A+ (-0.0500957646529188*(LOG(I(-1))-LOG(Y(-1)-G(-1))+0.904921936746857)+1.05546853579538*((LOG(Y))-(LOG(Y(-1))))) )) * (1-I_D)+ I_X*I_D  $\n",
      "FRML <Z,EXO> M = (M(-1)*EXP(M_A+ (-0.243655632765645*(LOG(M(-1))-LOG(GDE(-1))+3.22825550682277)+7.40589234532397*((LOG(GDE))-(LOG(GDE(-1))))) )) * (1-M_D)+ M_X*M_D  $\n",
      "FRML  <> Y = CPV+I+G+X-M+YDISC $\n",
      "FRML  <> GDE = CPV+I+G $\n",
      "FRML <FIT> CPV_FITTED = CPV(-1)*EXP( (--0.0472266203297202*(LOG(CPV(-1))-LOG(Y(-1))-0.439061663605049)+1.42131949537118*((LOG(Y))-(LOG(Y(-1))))) ) $\n",
      "FRML <FIT> G_FITTED = G(-1)*EXP( (-0.8*(LOG(G(-1))-LOG(Y(-1))+2.95645923198995)+2.35837654284398*((LOG(Y))-(LOG(Y(-1))))) ) $\n",
      "FRML <FIT> I_FITTED = I(-1)*EXP( (-0.0500957646529188*(LOG(I(-1))-LOG(Y(-1)-G(-1))+0.904921936746857)+1.05546853579538*((LOG(Y))-(LOG(Y(-1))))) ) $\n",
      "FRML <FIT> M_FITTED = M(-1)*EXP( (-0.243655632765645*(LOG(M(-1))-LOG(GDE(-1))+3.22825550682277)+7.40589234532397*((LOG(GDE))-(LOG(GDE(-1))))) ) $FRML <CALC_ADD_FACTOR> CPV_A = - ((--0.0472266203297202*(LOG(CPV(-1))-LOG(Y(-1))-0.439061663605049)+1.42131949537118*((LOG(Y))-(LOG(Y(-1)))))) +LOG(CPV)-LOG(CPV(-1))$\n",
      "FRML <CALC_ADD_FACTOR> G_A = - ((-0.8*(LOG(G(-1))-LOG(Y(-1))+2.95645923198995)+2.35837654284398*((LOG(Y))-(LOG(Y(-1)))))) +LOG(G)-LOG(G(-1))$\n",
      "FRML <CALC_ADD_FACTOR> I_A = - ((-0.0500957646529188*(LOG(I(-1))-LOG(Y(-1)-G(-1))+0.904921936746857)+1.05546853579538*((LOG(Y))-(LOG(Y(-1)))))) +LOG(I)-LOG(I(-1))$\n",
      "FRML <CALC_ADD_FACTOR> M_A = - ((-0.243655632765645*(LOG(M(-1))-LOG(GDE(-1))+3.22825550682277)+7.40589234532397*((LOG(GDE))-(LOG(GDE(-1)))))) +LOG(M)-LOG(M(-1))$\n"
     ]
    }
   ],
   "source": [
    "print(msim.equations)"
   ]
  },
  {
   "cell_type": "code",
   "execution_count": 3,
   "id": "1a5a02fb",
   "metadata": {
    "scrolled": true
   },
   "outputs": [
    {
     "ename": "NameError",
     "evalue": "name 'msim' is not defined",
     "output_type": "error",
     "traceback": [
      "\u001b[1;31m---------------------------------------------------------------------------\u001b[0m",
      "\u001b[1;31mNameError\u001b[0m                                 Traceback (most recent call last)",
      "Input \u001b[1;32mIn [3]\u001b[0m, in \u001b[0;36m<cell line: 1>\u001b[1;34m()\u001b[0m\n\u001b[1;32m----> 1\u001b[0m \u001b[38;5;28mprint\u001b[39m(\u001b[38;5;241m*\u001b[39m[(v,msim\u001b[38;5;241m.\u001b[39mallvar[v][\u001b[38;5;124m'\u001b[39m\u001b[38;5;124mfrmlname\u001b[39m\u001b[38;5;124m'\u001b[39m]) \u001b[38;5;28;01mfor\u001b[39;00m v \u001b[38;5;129;01min\u001b[39;00m \u001b[43mmsim\u001b[49m\u001b[38;5;241m.\u001b[39mendogene],sep\u001b[38;5;241m=\u001b[39m\u001b[38;5;124m'\u001b[39m\u001b[38;5;130;01m\\n\u001b[39;00m\u001b[38;5;124m'\u001b[39m)\n",
      "\u001b[1;31mNameError\u001b[0m: name 'msim' is not defined"
     ]
    }
   ],
   "source": [
    "print(*[(v,msim.allvar[v]['frmlname']) for v in msim.endogene],sep='\\n')"
   ]
  },
  {
   "cell_type": "markdown",
   "id": "7b3dbc12",
   "metadata": {},
   "source": [
    "There is a function to check frmlname pt.kw_frml_name\n",
    "\n",
    "Here we use to make all stocastic equations damp'able by a Z (we could also use DAMP "
   ]
  },
  {
   "cell_type": "code",
   "execution_count": 5,
   "id": "eba2aa21",
   "metadata": {},
   "outputs": [
    {
     "ename": "NameError",
     "evalue": "name 'msim' is not defined",
     "output_type": "error",
     "traceback": [
      "\u001b[1;31m---------------------------------------------------------------------------\u001b[0m",
      "\u001b[1;31mNameError\u001b[0m                                 Traceback (most recent call last)",
      "Input \u001b[1;32mIn [5]\u001b[0m, in \u001b[0;36m<cell line: 1>\u001b[1;34m()\u001b[0m\n\u001b[1;32m----> 1\u001b[0m stoc \u001b[38;5;241m=\u001b[39m {v \u001b[38;5;28;01mfor\u001b[39;00m v \u001b[38;5;129;01min\u001b[39;00m \u001b[43mmsim\u001b[49m\u001b[38;5;241m.\u001b[39mendogene \u001b[38;5;28;01mif\u001b[39;00m (res\u001b[38;5;241m.\u001b[39msearch(\u001b[38;5;124m\"\u001b[39m\u001b[38;5;124m_\u001b[39m\u001b[38;5;124m\"\u001b[39m,v)\u001b[38;5;241m==\u001b[39m\u001b[38;5;28;01mFalse\u001b[39;00m)  }\n\u001b[0;32m      2\u001b[0m stoc\n",
      "\u001b[1;31mNameError\u001b[0m: name 'msim' is not defined"
     ]
    }
   ],
   "source": [
    "stoc = {v for v in msim.endogene if (res.search(\"_\",v)==False)  }\n",
    "stoc"
   ]
  },
  {
   "cell_type": "markdown",
   "id": "3f8900eb",
   "metadata": {},
   "source": [
    "## Also is there a way to get the behavioural or stochastic equations out as a separate list?\n",
    "\n",
    " "
   ]
  },
  {
   "cell_type": "code",
   "execution_count": 6,
   "id": "1a8d7e99",
   "metadata": {
    "scrolled": true
   },
   "outputs": [
    {
     "data": {
      "text/plain": [
       "['FRML <Z,EXO> M = (M(-1)*EXP(M_A+ (-0.243655632765645*(LOG(M(-1))-LOG(GDE(-1))+3.22825550682277)+7.40589234532397*((LOG(GDE))-(LOG(GDE(-1))))) )) * (1-M_D)+ M_X*M_D  $',\n",
       " 'FRML <Z,EXO> I = (I(-1)*EXP(I_A+ (-0.0500957646529188*(LOG(I(-1))-LOG(Y(-1)-G(-1))+0.904921936746857)+1.05546853579538*((LOG(Y))-(LOG(Y(-1))))) )) * (1-I_D)+ I_X*I_D  $',\n",
       " 'FRML <Z,EXO> CPV = (CPV(-1)*EXP(CPV_A+ (--0.0472266203297202*(LOG(CPV(-1))-LOG(Y(-1))-0.439061663605049)+1.42131949537118*((LOG(Y))-(LOG(Y(-1))))) )) * (1-CPV_D)+ CPV_X*CPV_D  $',\n",
       " 'FRML <Z,EXO> G = (G(-1)*EXP(G_A+ (-0.8*(LOG(G(-1))-LOG(Y(-1))+2.95645923198995)+2.35837654284398*((LOG(Y))-(LOG(Y(-1))))) )) * (1-G_D)+ G_X*G_D  $']"
      ]
     },
     "execution_count": 6,
     "metadata": {},
     "output_type": "execute_result"
    }
   ],
   "source": [
    "[msim.allvar[v]['frml'] for v in stoc]"
   ]
  },
  {
   "cell_type": "code",
   "execution_count": null,
   "id": "87f14732",
   "metadata": {},
   "outputs": [],
   "source": []
  }
 ],
 "metadata": {
  "hide_input": false,
  "kernelspec": {
   "display_name": "Python 3 (ipykernel)",
   "language": "python",
   "name": "python3"
  },
  "language_info": {
   "codemirror_mode": {
    "name": "ipython",
    "version": 3
   },
   "file_extension": ".py",
   "mimetype": "text/x-python",
   "name": "python",
   "nbconvert_exporter": "python",
   "pygments_lexer": "ipython3",
   "version": "3.9.12"
  },
  "toc": {
   "base_numbering": 1,
   "nav_menu": {},
   "number_sections": true,
   "sideBar": true,
   "skip_h1_title": false,
   "title_cell": "Table of Contents",
   "title_sidebar": "Contents",
   "toc_cell": false,
   "toc_position": {},
   "toc_section_display": true,
   "toc_window_display": false
  },
  "varInspector": {
   "cols": {
    "lenName": 16,
    "lenType": 16,
    "lenVar": 40
   },
   "kernels_config": {
    "python": {
     "delete_cmd_postfix": "",
     "delete_cmd_prefix": "del ",
     "library": "var_list.py",
     "varRefreshCmd": "print(var_dic_list())"
    },
    "r": {
     "delete_cmd_postfix": ") ",
     "delete_cmd_prefix": "rm(",
     "library": "var_list.r",
     "varRefreshCmd": "cat(var_dic_list()) "
    }
   },
   "types_to_exclude": [
    "module",
    "function",
    "builtin_function_or_method",
    "instance",
    "_Feature"
   ],
   "window_display": false
  }
 },
 "nbformat": 4,
 "nbformat_minor": 5
}
