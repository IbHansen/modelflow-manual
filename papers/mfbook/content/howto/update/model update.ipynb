{
 "cells": [
  {
   "cell_type": "markdown",
   "id": "d19846c2",
   "metadata": {
    "slideshow": {
     "slide_type": "slide"
    }
   },
   "source": [
    "(upd)=\n",
    "# Update, modifying series in a dataframe using modelflow\n",
    "Often when we are working with a model we will want to modify individual data points or series in a model (for example when doing a simulation, or if there is a data update to one or more series. \n",
    "This can be done straight using pandas methods."
   ]
  },
  {
   "cell_type": "markdown",
   "id": "1702ff9d",
   "metadata": {
    "slideshow": {
     "slide_type": "fragment"
    }
   },
   "source": [
    "However the **dataframe.upd** function in Modelflow simplifies this exercise.\n",
    "It gives the user a concise and expressive way to specify \n",
    "typical updates of economic variables. "
   ]
  },
  {
   "cell_type": "markdown",
   "id": "f7f22d24",
   "metadata": {
    "slideshow": {
     "slide_type": "slide"
    }
   },
   "source": [
    "A line like: \n",
    ">newdf = df.upd('the_answer = 42') \n",
    "\n",
    "will create a new dataframe based on the dataframe df where the variable ```THE_ANSWER``` has the value 42. "
   ]
  },
  {
   "cell_type": "markdown",
   "id": "49812992",
   "metadata": {
    "slideshow": {
     "slide_type": "skip"
    }
   },
   "source": [
    ":::{danger}\n",
    "The df dataframe remains unchanged. The newdf contains the new updated values (and all non-updated variables from df.\n",
    ":::"
   ]
  },
  {
   "cell_type": "markdown",
   "id": "43faeff0",
   "metadata": {
    "slideshow": {
     "slide_type": "slide"
    }
   },
   "source": [
    "To make df.update useful you can also: \n",
    " - Perform different types of  updates\n",
    " - Perform multiple updates each on a new line \n",
    " - Control the time for which the update has effect\n",
    " - Use one input which is used for all time frames, or a input for each time \n",
    " - Keep the growth rate after the update time frame\n",
    " - Display the results "
   ]
  },
  {
   "cell_type": "markdown",
   "id": "7bdb6e40",
   "metadata": {
    "slideshow": {
     "slide_type": "slide"
    }
   },
   "source": [
    "**Types of update:** \n",
    "\n",
    "| Update to perform |Use this operator|\n",
    "| :- | :---|\n",
    " Set a variable equal to the input| = \n",
    " Add the input to the input | + \n",
    " Set the variable to itself multiplied by the input | *\n",
    " Set the variable to itself multiplied by (1+input/100) | %\n",
    " Set the growth rate of the variable to the input | =growth\n",
    " Set the growth rate of the variable to the current growth rate plus the input| +growth \n",
    " Set $\\Delta = var_t - var_{t-1}$ of  the variable to the input| =diff"
   ]
  },
  {
   "cell_type": "markdown",
   "id": "1008cc00",
   "metadata": {
    "slideshow": {
     "slide_type": "slide"
    }
   },
   "source": [
    "***Setting the time scope***\n",
    "\n",
    "The update command takes a variety of mathematical operators ```=, +, \\*, % =GROWTH, +GROWTH, =DIFF``` and applies them to data for the period set in the leading <>.\n",
    "\n",
    " - If **one date** is specified the operation is applied to a single point in time\n",
    " - If **two dates**  are specifies the operation is applied over a period of time.\n",
    "\n",
    "The time will persist until set next time. Useful to avoid visual noise if several variables are going to be updated for the same time period. \n",
    "\n",
    " - To indicate the start of the dataframe use -0\n",
    " - To indicate the end of the dataframe use -1\n",
    " \n",
    "If no time is provided the dataframe start and end period will be used.  "
   ]
  },
  {
   "cell_type": "markdown",
   "id": "e8d1b75c",
   "metadata": {
    "slideshow": {
     "slide_type": "slide"
    }
   },
   "source": [
    "**Keep growth rates after the update time**\n",
    "\n",
    "In a long projection it can sometime be useful to be able to update variables for which new information is available, but keep the growth rate the same as before the update  after the update time. \n",
    "\n",
    "For each *update line* it is governed \n",
    "by the ```--keep_growth``` and ```--no_keep_growth``` option. \n",
    "\n",
    "For the *.update call* (which can contain many update lines) this is ruled by the ```keep_growth``` parameter. \n",
    "The default value for ```keep_growth``` is ```False```. If ```keep_growth=True``` all lines will use the ```keep_growth```\n",
    "except lines with the --no_keep_growth option\n",
    "\n",
    "Examples later."
   ]
  },
  {
   "cell_type": "markdown",
   "id": "dcde1534",
   "metadata": {
    "slideshow": {
     "slide_type": "skip"
    }
   },
   "source": [
    "**Comments**\n",
    "\n",
    "Everyting after a # until line end is regarded as a comment "
   ]
  },
  {
   "cell_type": "markdown",
   "id": "4b8ea91b",
   "metadata": {
    "slideshow": {
     "slide_type": "slide"
    }
   },
   "source": [
    "## Setting up the workspace"
   ]
  },
  {
   "cell_type": "code",
   "execution_count": 6,
   "id": "5ddc6dc8",
   "metadata": {
    "slideshow": {
     "slide_type": "skip"
    },
    "tags": [
     "remove-cell"
    ]
   },
   "outputs": [
    {
     "name": "stdout",
     "output_type": "stream",
     "text": [
      "The autoreload extension is already loaded. To reload it, use:\n",
      "  %reload_ext autoreload\n"
     ]
    }
   ],
   "source": [
    " %load_ext autoreload\n",
    " %autoreload 2\n"
   ]
  },
  {
   "cell_type": "code",
   "execution_count": 7,
   "id": "de8b08d7",
   "metadata": {},
   "outputs": [
    {
     "data": {
      "text/html": [
       "\n",
       "        <style>\n",
       "            div#notebook-container    { width: 95%; }\n",
       "            div#menubar-container     { width: 65%; }\n",
       "            div#maintoolbar-container { width: 99%; }\n",
       "        </style>\n",
       "        "
      ],
      "text/plain": [
       "<IPython.core.display.HTML object>"
      ]
     },
     "metadata": {},
     "output_type": "display_data"
    }
   ],
   "source": [
    "import pandas as pd\n",
    "\n",
    "from modelclass import model \n",
    "model.widescreen()\n",
    "model.scroll_off()"
   ]
  },
  {
   "cell_type": "markdown",
   "id": "37d0dd68",
   "metadata": {
    "slideshow": {
     "slide_type": "slide"
    }
   },
   "source": [
    "## Create dataframe to update: \n",
    "Now a pandas dataframe with one column and 6 rows are created. The column is has the name ```A``` and the rows have index 2020 to 2025."
   ]
  },
  {
   "cell_type": "code",
   "execution_count": 8,
   "id": "a17cb449",
   "metadata": {},
   "outputs": [
    {
     "data": {
      "text/html": [
       "<div>\n",
       "<style scoped>\n",
       "    .dataframe tbody tr th:only-of-type {\n",
       "        vertical-align: middle;\n",
       "    }\n",
       "\n",
       "    .dataframe tbody tr th {\n",
       "        vertical-align: top;\n",
       "    }\n",
       "\n",
       "    .dataframe thead th {\n",
       "        text-align: right;\n",
       "    }\n",
       "</style>\n",
       "<table border=\"1\" class=\"dataframe\">\n",
       "  <thead>\n",
       "    <tr style=\"text-align: right;\">\n",
       "      <th></th>\n",
       "      <th>A</th>\n",
       "    </tr>\n",
       "  </thead>\n",
       "  <tbody>\n",
       "    <tr>\n",
       "      <th>2020</th>\n",
       "      <td>100</td>\n",
       "    </tr>\n",
       "    <tr>\n",
       "      <th>2021</th>\n",
       "      <td>100</td>\n",
       "    </tr>\n",
       "    <tr>\n",
       "      <th>2022</th>\n",
       "      <td>100</td>\n",
       "    </tr>\n",
       "    <tr>\n",
       "      <th>2023</th>\n",
       "      <td>100</td>\n",
       "    </tr>\n",
       "    <tr>\n",
       "      <th>2024</th>\n",
       "      <td>100</td>\n",
       "    </tr>\n",
       "    <tr>\n",
       "      <th>2025</th>\n",
       "      <td>100</td>\n",
       "    </tr>\n",
       "  </tbody>\n",
       "</table>\n",
       "</div>"
      ],
      "text/plain": [
       "        A\n",
       "2020  100\n",
       "2021  100\n",
       "2022  100\n",
       "2023  100\n",
       "2024  100\n",
       "2025  100"
      ]
     },
     "execution_count": 8,
     "metadata": {},
     "output_type": "execute_result"
    }
   ],
   "source": [
    "number_of_rows = 6 \n",
    "df = pd.DataFrame(100,\n",
    "       index=[2020+v for v in range(number_of_rows)], # create row index\n",
    "       columns=['A'])                                 # create column name \n",
    "df"
   ]
  },
  {
   "cell_type": "markdown",
   "id": "0f48347c",
   "metadata": {
    "slideshow": {
     "slide_type": "skip"
    }
   },
   "source": [
    "\n",
    "- ```pd.DataFrame``` creates a dataframe  [Description](https://pandas.pydata.org/docs/reference/api/pandas.DataFrame.html#pandas.DataFrame)\n",
    "- ```[2020+v for v in range(number_of_rows)]``` defines a list comprehension which creates a list of the integers from 2020 to 2025 (see below for list comprehensions) "
   ]
  },
  {
   "cell_type": "markdown",
   "id": "24f60698",
   "metadata": {
    "slideshow": {
     "slide_type": "slide"
    }
   },
   "source": [
    "## Use dataframe.loc to make a new variable\n",
    "```.loc``` is used to access or set values in a dataframe based on row and column labels."
   ]
  },
  {
   "cell_type": "markdown",
   "id": "97882623",
   "metadata": {
    "slideshow": {
     "slide_type": "skip"
    }
   },
   "source": [
    " - [Description](https://pandas.pydata.org/docs/reference/api/pandas.DataFrame.loc.html)\n",
    " - [Search](https://www.google.com/search?q=pandas+dataframe+loc&newwindow=1)"
   ]
  },
  {
   "cell_type": "markdown",
   "id": "a85056d4",
   "metadata": {
    "slideshow": {
     "slide_type": "-"
    }
   },
   "source": [
    " \n",
    " A new series (a column) called B is set to 100\n",
    " "
   ]
  },
  {
   "cell_type": "code",
   "execution_count": 9,
   "id": "5792514c",
   "metadata": {},
   "outputs": [
    {
     "data": {
      "text/html": [
       "<div>\n",
       "<style scoped>\n",
       "    .dataframe tbody tr th:only-of-type {\n",
       "        vertical-align: middle;\n",
       "    }\n",
       "\n",
       "    .dataframe tbody tr th {\n",
       "        vertical-align: top;\n",
       "    }\n",
       "\n",
       "    .dataframe thead th {\n",
       "        text-align: right;\n",
       "    }\n",
       "</style>\n",
       "<table border=\"1\" class=\"dataframe\">\n",
       "  <thead>\n",
       "    <tr style=\"text-align: right;\">\n",
       "      <th></th>\n",
       "      <th>A</th>\n",
       "      <th>B</th>\n",
       "    </tr>\n",
       "  </thead>\n",
       "  <tbody>\n",
       "    <tr>\n",
       "      <th>2020</th>\n",
       "      <td>100</td>\n",
       "      <td>100.0</td>\n",
       "    </tr>\n",
       "    <tr>\n",
       "      <th>2021</th>\n",
       "      <td>100</td>\n",
       "      <td>100.0</td>\n",
       "    </tr>\n",
       "    <tr>\n",
       "      <th>2022</th>\n",
       "      <td>100</td>\n",
       "      <td>100.0</td>\n",
       "    </tr>\n",
       "    <tr>\n",
       "      <th>2023</th>\n",
       "      <td>100</td>\n",
       "      <td>100.0</td>\n",
       "    </tr>\n",
       "    <tr>\n",
       "      <th>2024</th>\n",
       "      <td>100</td>\n",
       "      <td>100.0</td>\n",
       "    </tr>\n",
       "    <tr>\n",
       "      <th>2025</th>\n",
       "      <td>100</td>\n",
       "      <td>100.0</td>\n",
       "    </tr>\n",
       "  </tbody>\n",
       "</table>\n",
       "</div>"
      ],
      "text/plain": [
       "        A      B\n",
       "2020  100  100.0\n",
       "2021  100  100.0\n",
       "2022  100  100.0\n",
       "2023  100  100.0\n",
       "2024  100  100.0\n",
       "2025  100  100.0"
      ]
     },
     "execution_count": 9,
     "metadata": {},
     "output_type": "execute_result"
    }
   ],
   "source": [
    "df.loc[:,'B' ] = 100.\n",
    "df"
   ]
  },
  {
   "cell_type": "markdown",
   "id": "3b5cab91",
   "metadata": {
    "slideshow": {
     "slide_type": "skip"
    }
   },
   "source": [
    "## Use dataframe.upd()  to  modify a series in a dataframe or to add a series to a dataframe\n",
    "\n",
    "Upd makes it much easier to create new series (compare the below, with the complicated pandas code above)."
   ]
  },
  {
   "cell_type": "markdown",
   "id": "17e14a18",
   "metadata": {
    "slideshow": {
     "slide_type": "slide"
    }
   },
   "source": [
    "### = Setting value equal to input"
   ]
  },
  {
   "cell_type": "markdown",
   "id": "3d733977",
   "metadata": {},
   "source": [
    "####  Creates a new data series called c in the dataframe with values of 142 everywhere"
   ]
  },
  {
   "cell_type": "code",
   "execution_count": 10,
   "id": "88347038",
   "metadata": {},
   "outputs": [
    {
     "data": {
      "text/html": [
       "<div>\n",
       "<style scoped>\n",
       "    .dataframe tbody tr th:only-of-type {\n",
       "        vertical-align: middle;\n",
       "    }\n",
       "\n",
       "    .dataframe tbody tr th {\n",
       "        vertical-align: top;\n",
       "    }\n",
       "\n",
       "    .dataframe thead th {\n",
       "        text-align: right;\n",
       "    }\n",
       "</style>\n",
       "<table border=\"1\" class=\"dataframe\">\n",
       "  <thead>\n",
       "    <tr style=\"text-align: right;\">\n",
       "      <th></th>\n",
       "      <th>A</th>\n",
       "      <th>B</th>\n",
       "      <th>C</th>\n",
       "    </tr>\n",
       "  </thead>\n",
       "  <tbody>\n",
       "    <tr>\n",
       "      <th>2020</th>\n",
       "      <td>100</td>\n",
       "      <td>100.0</td>\n",
       "      <td>142.0</td>\n",
       "    </tr>\n",
       "    <tr>\n",
       "      <th>2021</th>\n",
       "      <td>100</td>\n",
       "      <td>100.0</td>\n",
       "      <td>142.0</td>\n",
       "    </tr>\n",
       "    <tr>\n",
       "      <th>2022</th>\n",
       "      <td>100</td>\n",
       "      <td>100.0</td>\n",
       "      <td>142.0</td>\n",
       "    </tr>\n",
       "    <tr>\n",
       "      <th>2023</th>\n",
       "      <td>100</td>\n",
       "      <td>100.0</td>\n",
       "      <td>142.0</td>\n",
       "    </tr>\n",
       "    <tr>\n",
       "      <th>2024</th>\n",
       "      <td>100</td>\n",
       "      <td>100.0</td>\n",
       "      <td>142.0</td>\n",
       "    </tr>\n",
       "    <tr>\n",
       "      <th>2025</th>\n",
       "      <td>100</td>\n",
       "      <td>100.0</td>\n",
       "      <td>142.0</td>\n",
       "    </tr>\n",
       "  </tbody>\n",
       "</table>\n",
       "</div>"
      ],
      "text/plain": [
       "        A      B      C\n",
       "2020  100  100.0  142.0\n",
       "2021  100  100.0  142.0\n",
       "2022  100  100.0  142.0\n",
       "2023  100  100.0  142.0\n",
       "2024  100  100.0  142.0\n",
       "2025  100  100.0  142.0"
      ]
     },
     "execution_count": 10,
     "metadata": {},
     "output_type": "execute_result"
    }
   ],
   "source": [
    "df2=df.upd('c = 142') \n",
    "df2"
   ]
  },
  {
   "cell_type": "markdown",
   "id": "1666479c",
   "metadata": {
    "slideshow": {
     "slide_type": "slide"
    }
   },
   "source": [
    "#### Setting specific datapoints to specific values \n",
    "In this example, upd uses the equals operator.  This indicates that the variable a should be set equal to the indicated values following the = operator (42 44 45 46 in this example). The dates enclosed in <> indicate the period over which the change should be applied.  \n",
    "\n",
    "Either: \n",
    " - The number of data points provided must match the number of dates in the period, Or\n",
    " - Only one data point is provided, it is applied to all dates in the period. \n",
    "\n",
    "If only one period is to be modified then it can be followed by just one date."
   ]
  },
  {
   "cell_type": "code",
   "execution_count": 11,
   "id": "20e97f46",
   "metadata": {},
   "outputs": [
    {
     "data": {
      "text/html": [
       "<div>\n",
       "<style scoped>\n",
       "    .dataframe tbody tr th:only-of-type {\n",
       "        vertical-align: middle;\n",
       "    }\n",
       "\n",
       "    .dataframe tbody tr th {\n",
       "        vertical-align: top;\n",
       "    }\n",
       "\n",
       "    .dataframe thead th {\n",
       "        text-align: right;\n",
       "    }\n",
       "</style>\n",
       "<table border=\"1\" class=\"dataframe\">\n",
       "  <thead>\n",
       "    <tr style=\"text-align: right;\">\n",
       "      <th></th>\n",
       "      <th>A</th>\n",
       "      <th>B</th>\n",
       "      <th>C</th>\n",
       "    </tr>\n",
       "  </thead>\n",
       "  <tbody>\n",
       "    <tr>\n",
       "      <th>2020</th>\n",
       "      <td>100</td>\n",
       "      <td>200.0</td>\n",
       "      <td>500.0</td>\n",
       "    </tr>\n",
       "    <tr>\n",
       "      <th>2021</th>\n",
       "      <td>42</td>\n",
       "      <td>100.0</td>\n",
       "      <td>0.0</td>\n",
       "    </tr>\n",
       "    <tr>\n",
       "      <th>2022</th>\n",
       "      <td>44</td>\n",
       "      <td>100.0</td>\n",
       "      <td>0.0</td>\n",
       "    </tr>\n",
       "    <tr>\n",
       "      <th>2023</th>\n",
       "      <td>45</td>\n",
       "      <td>100.0</td>\n",
       "      <td>0.0</td>\n",
       "    </tr>\n",
       "    <tr>\n",
       "      <th>2024</th>\n",
       "      <td>46</td>\n",
       "      <td>100.0</td>\n",
       "      <td>0.0</td>\n",
       "    </tr>\n",
       "    <tr>\n",
       "      <th>2025</th>\n",
       "      <td>100</td>\n",
       "      <td>100.0</td>\n",
       "      <td>0.0</td>\n",
       "    </tr>\n",
       "  </tbody>\n",
       "</table>\n",
       "</div>"
      ],
      "text/plain": [
       "        A      B      C\n",
       "2020  100  200.0  500.0\n",
       "2021   42  100.0    0.0\n",
       "2022   44  100.0    0.0\n",
       "2023   45  100.0    0.0\n",
       "2024   46  100.0    0.0\n",
       "2025  100  100.0    0.0"
      ]
     },
     "execution_count": 11,
     "metadata": {},
     "output_type": "execute_result"
    }
   ],
   "source": [
    "df.upd(\"\"\"\n",
    "# Same number of values as years\n",
    "<2021 2024> A = 42 44 45 46    # 4 years\n",
    "<2020     > B = 200            # 1 year \n",
    "c = 500\n",
    "\"\"\")"
   ]
  },
  {
   "cell_type": "markdown",
   "id": "48dd67e0",
   "metadata": {
    "slideshow": {
     "slide_type": "slide"
    }
   },
   "source": [
    "### Adding  the specified  values to all values in a range (the + operator)\n",
    "\n",
    "NB: Here upd with the  + operator indicates that we are adding 42. "
   ]
  },
  {
   "cell_type": "code",
   "execution_count": 12,
   "id": "e2ca804f",
   "metadata": {
    "scrolled": true
   },
   "outputs": [
    {
     "data": {
      "text/html": [
       "<div>\n",
       "<style scoped>\n",
       "    .dataframe tbody tr th:only-of-type {\n",
       "        vertical-align: middle;\n",
       "    }\n",
       "\n",
       "    .dataframe tbody tr th {\n",
       "        vertical-align: top;\n",
       "    }\n",
       "\n",
       "    .dataframe thead th {\n",
       "        text-align: right;\n",
       "    }\n",
       "</style>\n",
       "<table border=\"1\" class=\"dataframe\">\n",
       "  <thead>\n",
       "    <tr style=\"text-align: right;\">\n",
       "      <th></th>\n",
       "      <th>A</th>\n",
       "      <th>B</th>\n",
       "    </tr>\n",
       "  </thead>\n",
       "  <tbody>\n",
       "    <tr>\n",
       "      <th>2020</th>\n",
       "      <td>100</td>\n",
       "      <td>100.0</td>\n",
       "    </tr>\n",
       "    <tr>\n",
       "      <th>2021</th>\n",
       "      <td>100</td>\n",
       "      <td>100.0</td>\n",
       "    </tr>\n",
       "    <tr>\n",
       "      <th>2022</th>\n",
       "      <td>100</td>\n",
       "      <td>142.0</td>\n",
       "    </tr>\n",
       "    <tr>\n",
       "      <th>2023</th>\n",
       "      <td>100</td>\n",
       "      <td>142.0</td>\n",
       "    </tr>\n",
       "    <tr>\n",
       "      <th>2024</th>\n",
       "      <td>100</td>\n",
       "      <td>142.0</td>\n",
       "    </tr>\n",
       "    <tr>\n",
       "      <th>2025</th>\n",
       "      <td>100</td>\n",
       "      <td>100.0</td>\n",
       "    </tr>\n",
       "  </tbody>\n",
       "</table>\n",
       "</div>"
      ],
      "text/plain": [
       "        A      B\n",
       "2020  100  100.0\n",
       "2021  100  100.0\n",
       "2022  100  142.0\n",
       "2023  100  142.0\n",
       "2024  100  142.0\n",
       "2025  100  100.0"
      ]
     },
     "execution_count": 12,
     "metadata": {},
     "output_type": "execute_result"
    }
   ],
   "source": [
    "df.upd('''\n",
    "# Or one number to all years in between start and end \n",
    "<2022 2024> B  +  42    # one value broadcast to 3 years \n",
    "''')"
   ]
  },
  {
   "cell_type": "markdown",
   "id": "960f4ec7",
   "metadata": {
    "slideshow": {
     "slide_type": "slide"
    }
   },
   "source": [
    "### Multiplying all values in a range by the specified values (the * operator)"
   ]
  },
  {
   "cell_type": "code",
   "execution_count": 13,
   "id": "f642184f",
   "metadata": {},
   "outputs": [
    {
     "data": {
      "text/html": [
       "<div>\n",
       "<style scoped>\n",
       "    .dataframe tbody tr th:only-of-type {\n",
       "        vertical-align: middle;\n",
       "    }\n",
       "\n",
       "    .dataframe tbody tr th {\n",
       "        vertical-align: top;\n",
       "    }\n",
       "\n",
       "    .dataframe thead th {\n",
       "        text-align: right;\n",
       "    }\n",
       "</style>\n",
       "<table border=\"1\" class=\"dataframe\">\n",
       "  <thead>\n",
       "    <tr style=\"text-align: right;\">\n",
       "      <th></th>\n",
       "      <th>A</th>\n",
       "      <th>B</th>\n",
       "    </tr>\n",
       "  </thead>\n",
       "  <tbody>\n",
       "    <tr>\n",
       "      <th>2020</th>\n",
       "      <td>100</td>\n",
       "      <td>100.0</td>\n",
       "    </tr>\n",
       "    <tr>\n",
       "      <th>2021</th>\n",
       "      <td>4200</td>\n",
       "      <td>100.0</td>\n",
       "    </tr>\n",
       "    <tr>\n",
       "      <th>2022</th>\n",
       "      <td>4400</td>\n",
       "      <td>100.0</td>\n",
       "    </tr>\n",
       "    <tr>\n",
       "      <th>2023</th>\n",
       "      <td>5500</td>\n",
       "      <td>100.0</td>\n",
       "    </tr>\n",
       "    <tr>\n",
       "      <th>2024</th>\n",
       "      <td>100</td>\n",
       "      <td>100.0</td>\n",
       "    </tr>\n",
       "    <tr>\n",
       "      <th>2025</th>\n",
       "      <td>100</td>\n",
       "      <td>100.0</td>\n",
       "    </tr>\n",
       "  </tbody>\n",
       "</table>\n",
       "</div>"
      ],
      "text/plain": [
       "         A      B\n",
       "2020   100  100.0\n",
       "2021  4200  100.0\n",
       "2022  4400  100.0\n",
       "2023  5500  100.0\n",
       "2024   100  100.0\n",
       "2025   100  100.0"
      ]
     },
     "execution_count": 13,
     "metadata": {},
     "output_type": "execute_result"
    }
   ],
   "source": [
    "df.upd('''\n",
    "# Same number of values as years\n",
    "<2021 2023> A *  42 44 55\n",
    "''')"
   ]
  },
  {
   "cell_type": "markdown",
   "id": "ed2d8fd4",
   "metadata": {
    "slideshow": {
     "slide_type": "slide"
    }
   },
   "source": [
    "### Increasing all  values in a range by a  specified percent amount (the % operator)\n",
    "In this example:\n",
    " - A is increased by 42 and 44% over the range 2021 through 2022.\n",
    " - B is increased by 10 percent in all years\n",
    " - C, a new variable, is created and set to 100 for the whole range\n",
    " - C is decreased by 12 percent over the range 2023 through 2025."
   ]
  },
  {
   "cell_type": "code",
   "execution_count": 14,
   "id": "0b7a83f4",
   "metadata": {},
   "outputs": [
    {
     "data": {
      "text/html": [
       "<div>\n",
       "<style scoped>\n",
       "    .dataframe tbody tr th:only-of-type {\n",
       "        vertical-align: middle;\n",
       "    }\n",
       "\n",
       "    .dataframe tbody tr th {\n",
       "        vertical-align: top;\n",
       "    }\n",
       "\n",
       "    .dataframe thead th {\n",
       "        text-align: right;\n",
       "    }\n",
       "</style>\n",
       "<table border=\"1\" class=\"dataframe\">\n",
       "  <thead>\n",
       "    <tr style=\"text-align: right;\">\n",
       "      <th></th>\n",
       "      <th>A</th>\n",
       "      <th>B</th>\n",
       "      <th>C</th>\n",
       "    </tr>\n",
       "  </thead>\n",
       "  <tbody>\n",
       "    <tr>\n",
       "      <th>2020</th>\n",
       "      <td>100</td>\n",
       "      <td>110.0</td>\n",
       "      <td>100.0</td>\n",
       "    </tr>\n",
       "    <tr>\n",
       "      <th>2021</th>\n",
       "      <td>142</td>\n",
       "      <td>110.0</td>\n",
       "      <td>100.0</td>\n",
       "    </tr>\n",
       "    <tr>\n",
       "      <th>2022</th>\n",
       "      <td>144</td>\n",
       "      <td>110.0</td>\n",
       "      <td>100.0</td>\n",
       "    </tr>\n",
       "    <tr>\n",
       "      <th>2023</th>\n",
       "      <td>100</td>\n",
       "      <td>110.0</td>\n",
       "      <td>88.0</td>\n",
       "    </tr>\n",
       "    <tr>\n",
       "      <th>2024</th>\n",
       "      <td>100</td>\n",
       "      <td>110.0</td>\n",
       "      <td>88.0</td>\n",
       "    </tr>\n",
       "    <tr>\n",
       "      <th>2025</th>\n",
       "      <td>100</td>\n",
       "      <td>110.0</td>\n",
       "      <td>88.0</td>\n",
       "    </tr>\n",
       "  </tbody>\n",
       "</table>\n",
       "</div>"
      ],
      "text/plain": [
       "        A      B      C\n",
       "2020  100  110.0  100.0\n",
       "2021  142  110.0  100.0\n",
       "2022  144  110.0  100.0\n",
       "2023  100  110.0   88.0\n",
       "2024  100  110.0   88.0\n",
       "2025  100  110.0   88.0"
      ]
     },
     "execution_count": 14,
     "metadata": {},
     "output_type": "execute_result"
    }
   ],
   "source": [
    "df.upd('''\n",
    "<2021 2022 > A %  42 44   \n",
    "<-0 -1> B % 10            # all rows \n",
    "C = 100                   # all rows persist \n",
    "<2023 2025> C % -12       # now only fo 3 years \n",
    "''')"
   ]
  },
  {
   "cell_type": "markdown",
   "id": "9f736f80",
   "metadata": {
    "slideshow": {
     "slide_type": "slide"
    }
   },
   "source": [
    "###  Set the percent growth rate to specified values (=GROWTH)"
   ]
  },
  {
   "cell_type": "code",
   "execution_count": 15,
   "id": "e42877b9",
   "metadata": {},
   "outputs": [
    {
     "name": "stdout",
     "output_type": "stream",
     "text": [
      "Dataframe:\n",
      "           A      B           C\n",
      "2020  100.00  100.0  100.000000\n",
      "2021  101.00  100.0  102.000000\n",
      "2022  106.05  100.0  104.040000\n",
      "2023  100.00  100.0  106.120800\n",
      "2024  100.00  100.0  108.243216\n",
      "2025  100.00  100.0  110.408080\n",
      "\n",
      "Growth:\n",
      "             A    B    C\n",
      "2020       NaN  NaN  NaN\n",
      "2021  1.000000  0.0  2.0\n",
      "2022  5.000000  0.0  2.0\n",
      "2023 -5.704856  0.0  2.0\n",
      "2024  0.000000  0.0  2.0\n",
      "2025  0.000000  0.0  2.0\n",
      "\n"
     ]
    }
   ],
   "source": [
    "res = df.upd('''\n",
    "# Same number of values as years\n",
    "<2021 2022> A =GROWTH  1 5  \n",
    "<2020> c = 100 \n",
    "<2021 2025> c =GROWTH 2 \n",
    "''')\n",
    "print(f'Dataframe:\\n{res}\\n\\nGrowth:\\n{res.pct_change()*100}\\n') # Explained b"
   ]
  },
  {
   "cell_type": "markdown",
   "id": "c0a869f2",
   "metadata": {
    "slideshow": {
     "slide_type": "skip"
    }
   },
   "source": [
    ":::{note}\n",
    "**Python constructs**<br>\n",
    "> print(f'Dataframe:\\n{res}\\n\\nGrowth:\\n{res.pct_change()*100}\\n')\n",
    "\n",
    "Uses\n",
    "\n",
    "| Python construct |Explanation|Links\n",
    "| :- | :---| :---|\n",
    "|'\\n'|A line break \n",
    "|dataframe.pct_change|Percentage change between the current and a prior element.|[Description](https://pandas.pydata.org/docs/reference/api/pandas.DataFrame.pct_change.html) \n",
    "|f'{varname} = ....'|A f-string, {expression} is replaced by the value of expression|[Search](https://www.google.com/search?q=python+f-string&newwindow=1)\n",
    ":::"
   ]
  },
  {
   "cell_type": "markdown",
   "id": "762a7c55",
   "metadata": {
    "slideshow": {
     "slide_type": "slide"
    }
   },
   "source": [
    "### Add or subtract from the existing percent growth rate (+GROWTH operator) "
   ]
  },
  {
   "cell_type": "code",
   "execution_count": 16,
   "id": "f8c1ae12",
   "metadata": {},
   "outputs": [
    {
     "name": "stdout",
     "output_type": "stream",
     "text": [
      "Dataframe:\n",
      "               A      B\n",
      "2020  100.000000  100.0\n",
      "2021  103.000000  100.0\n",
      "2022  107.120000  100.0\n",
      "2023  112.476000  100.0\n",
      "2024  119.224560  100.0\n",
      "2025  127.570279  100.0\n",
      "\n",
      "Growth:\n",
      "        A    B\n",
      "2020  NaN  NaN\n",
      "2021  3.0  0.0\n",
      "2022  4.0  0.0\n",
      "2023  5.0  0.0\n",
      "2024  6.0  0.0\n",
      "2025  7.0  0.0\n",
      "\n"
     ]
    }
   ],
   "source": [
    "res =df.upd('''\n",
    "# Same number of values as years\n",
    "<2021 2025> A =GROWTH  1  \n",
    "# now we add values  to the growth rate, \n",
    "a +growth   2 3 4 5 6 \n",
    "''')\n",
    "print(f'Dataframe:\\n{res}\\n\\nGrowth:\\n{res.pct_change()*100}\\n')"
   ]
  },
  {
   "cell_type": "markdown",
   "id": "e6a9b1e6",
   "metadata": {
    "slideshow": {
     "slide_type": "slide"
    }
   },
   "source": [
    "###  Set $\\Delta = var_t - var_{t-1}$ to specified values (=diff operator) "
   ]
  },
  {
   "cell_type": "code",
   "execution_count": 17,
   "id": "1540ac84",
   "metadata": {},
   "outputs": [
    {
     "data": {
      "text/html": [
       "<div>\n",
       "<style scoped>\n",
       "    .dataframe tbody tr th:only-of-type {\n",
       "        vertical-align: middle;\n",
       "    }\n",
       "\n",
       "    .dataframe tbody tr th {\n",
       "        vertical-align: top;\n",
       "    }\n",
       "\n",
       "    .dataframe thead th {\n",
       "        text-align: right;\n",
       "    }\n",
       "</style>\n",
       "<table border=\"1\" class=\"dataframe\">\n",
       "  <thead>\n",
       "    <tr style=\"text-align: right;\">\n",
       "      <th></th>\n",
       "      <th>A</th>\n",
       "      <th>B</th>\n",
       "      <th>SAME</th>\n",
       "    </tr>\n",
       "  </thead>\n",
       "  <tbody>\n",
       "    <tr>\n",
       "      <th>2020</th>\n",
       "      <td>100</td>\n",
       "      <td>100.0</td>\n",
       "      <td>100.0</td>\n",
       "    </tr>\n",
       "    <tr>\n",
       "      <th>2021</th>\n",
       "      <td>102</td>\n",
       "      <td>100.0</td>\n",
       "      <td>102.0</td>\n",
       "    </tr>\n",
       "    <tr>\n",
       "      <th>2022</th>\n",
       "      <td>106</td>\n",
       "      <td>100.0</td>\n",
       "      <td>104.0</td>\n",
       "    </tr>\n",
       "    <tr>\n",
       "      <th>2023</th>\n",
       "      <td>100</td>\n",
       "      <td>100.0</td>\n",
       "      <td>106.0</td>\n",
       "    </tr>\n",
       "    <tr>\n",
       "      <th>2024</th>\n",
       "      <td>100</td>\n",
       "      <td>100.0</td>\n",
       "      <td>108.0</td>\n",
       "    </tr>\n",
       "    <tr>\n",
       "      <th>2025</th>\n",
       "      <td>100</td>\n",
       "      <td>100.0</td>\n",
       "      <td>110.0</td>\n",
       "    </tr>\n",
       "  </tbody>\n",
       "</table>\n",
       "</div>"
      ],
      "text/plain": [
       "        A      B   SAME\n",
       "2020  100  100.0  100.0\n",
       "2021  102  100.0  102.0\n",
       "2022  106  100.0  104.0\n",
       "2023  100  100.0  106.0\n",
       "2024  100  100.0  108.0\n",
       "2025  100  100.0  110.0"
      ]
     },
     "execution_count": 17,
     "metadata": {},
     "output_type": "execute_result"
    }
   ],
   "source": [
    "df.upd('''\n",
    "# Same number of values as years\n",
    "< 2021 2022> A =diff  2 4   \n",
    "# cv number to all years in between start and end \n",
    "\n",
    "<2020 > same = 100 \n",
    "<2021 2025> same =diff  2  \n",
    "''')"
   ]
  },
  {
   "cell_type": "markdown",
   "id": "881f25d4",
   "metadata": {
    "slideshow": {
     "slide_type": "slide"
    }
   },
   "source": [
    "### Recall  that we have not overwritten df, so the df dataframe is unchanged."
   ]
  },
  {
   "cell_type": "code",
   "execution_count": 18,
   "id": "a2d8ee73",
   "metadata": {},
   "outputs": [
    {
     "data": {
      "text/html": [
       "<div>\n",
       "<style scoped>\n",
       "    .dataframe tbody tr th:only-of-type {\n",
       "        vertical-align: middle;\n",
       "    }\n",
       "\n",
       "    .dataframe tbody tr th {\n",
       "        vertical-align: top;\n",
       "    }\n",
       "\n",
       "    .dataframe thead th {\n",
       "        text-align: right;\n",
       "    }\n",
       "</style>\n",
       "<table border=\"1\" class=\"dataframe\">\n",
       "  <thead>\n",
       "    <tr style=\"text-align: right;\">\n",
       "      <th></th>\n",
       "      <th>A</th>\n",
       "      <th>B</th>\n",
       "    </tr>\n",
       "  </thead>\n",
       "  <tbody>\n",
       "    <tr>\n",
       "      <th>2020</th>\n",
       "      <td>100</td>\n",
       "      <td>100.0</td>\n",
       "    </tr>\n",
       "    <tr>\n",
       "      <th>2021</th>\n",
       "      <td>100</td>\n",
       "      <td>100.0</td>\n",
       "    </tr>\n",
       "    <tr>\n",
       "      <th>2022</th>\n",
       "      <td>100</td>\n",
       "      <td>100.0</td>\n",
       "    </tr>\n",
       "    <tr>\n",
       "      <th>2023</th>\n",
       "      <td>100</td>\n",
       "      <td>100.0</td>\n",
       "    </tr>\n",
       "    <tr>\n",
       "      <th>2024</th>\n",
       "      <td>100</td>\n",
       "      <td>100.0</td>\n",
       "    </tr>\n",
       "    <tr>\n",
       "      <th>2025</th>\n",
       "      <td>100</td>\n",
       "      <td>100.0</td>\n",
       "    </tr>\n",
       "  </tbody>\n",
       "</table>\n",
       "</div>"
      ],
      "text/plain": [
       "        A      B\n",
       "2020  100  100.0\n",
       "2021  100  100.0\n",
       "2022  100  100.0\n",
       "2023  100  100.0\n",
       "2024  100  100.0\n",
       "2025  100  100.0"
      ]
     },
     "execution_count": 18,
     "metadata": {},
     "output_type": "execute_result"
    }
   ],
   "source": [
    "df"
   ]
  },
  {
   "cell_type": "markdown",
   "id": "74baea9b",
   "metadata": {
    "slideshow": {
     "slide_type": "slide"
    }
   },
   "source": [
    "## .upd(,,,keep_growth)/--keep_growth, keep the growth rate in the years after the update\n",
    "\n",
    "Before a series is updated the growth rate of the series is calculated. After a series has been updated, it is possible to use the saved growth rate to do an automatic update of the series from the end of the \"proper\" update period until the end of the dataframe. \n",
    "\n",
    "This allows to update variables for which new information is available, but keep the growth rate the same as before the update in the period after the update time."
   ]
  },
  {
   "cell_type": "markdown",
   "id": "6c2daca9",
   "metadata": {
    "slideshow": {
     "slide_type": "slide"
    }
   },
   "source": [
    "###  First make a dataframe with some growth rate "
   ]
  },
  {
   "cell_type": "code",
   "execution_count": 19,
   "id": "9727ce3b",
   "metadata": {},
   "outputs": [
    {
     "name": "stdout",
     "output_type": "stream",
     "text": [
      "Dataframe:\n",
      "               A      B\n",
      "2020  100.000000  100.0\n",
      "2021  101.000000  100.0\n",
      "2022  103.020000  100.0\n",
      "2023  106.110600  100.0\n",
      "2024  110.355024  100.0\n",
      "2025  115.872775  100.0\n",
      "\n",
      "Growth:\n",
      "        A    B\n",
      "2020  NaN  NaN\n",
      "2021  1.0  0.0\n",
      "2022  2.0  0.0\n",
      "2023  3.0  0.0\n",
      "2024  4.0  0.0\n",
      "2025  5.0  0.0\n",
      "\n"
     ]
    }
   ],
   "source": [
    "res = df.upd('<2021 2025> a =growth 1 2 3 4 5')  \n",
    "print(f'Dataframe:\\n{res}\\n\\nGrowth:\\n{res.pct_change()*100}\\n')"
   ]
  },
  {
   "cell_type": "markdown",
   "id": "88e301b2",
   "metadata": {
    "slideshow": {
     "slide_type": "slide"
    }
   },
   "source": [
    "### now update A in 2021 to 2023 to a new value, \n",
    "and watch how values after 2023 are updated, so the gowth rate after the update is unchanged "
   ]
  },
  {
   "cell_type": "code",
   "execution_count": 20,
   "id": "4c7baf80",
   "metadata": {
    "scrolled": true
   },
   "outputs": [
    {
     "name": "stdout",
     "output_type": "stream",
     "text": [
      "Dataframe:\n",
      "           A      B\n",
      "2020  100.00  100.0\n",
      "2021  120.00  100.0\n",
      "2022  120.00  100.0\n",
      "2023  120.00  100.0\n",
      "2024  124.80  100.0\n",
      "2025  131.04  100.0\n",
      "\n",
      "Growth:\n",
      "         A    B\n",
      "2020   NaN  NaN\n",
      "2021  20.0  0.0\n",
      "2022   0.0  0.0\n",
      "2023   0.0  0.0\n",
      "2024   4.0  0.0\n",
      "2025   5.0  0.0\n",
      "\n"
     ]
    }
   ],
   "source": [
    "res = df.upd('''\n",
    "<2021 2025>  a =growth 1 2 3 4 5 \n",
    "<2021 2023>  a = 120  --kg\n",
    "''',lprint=0)\n",
    "print(f'Dataframe:\\n{res}\\n\\nGrowth:\\n{res.pct_change()*100}\\n')"
   ]
  },
  {
   "cell_type": "markdown",
   "id": "0c1d671b",
   "metadata": {
    "slideshow": {
     "slide_type": "slide"
    }
   },
   "source": [
    "### A more advanced example\n",
    "Where more advanced python is used "
   ]
  },
  {
   "cell_type": "markdown",
   "id": "30b8619d",
   "metadata": {},
   "source": [
    "#### First create a string with update lines"
   ]
  },
  {
   "cell_type": "code",
   "execution_count": 21,
   "id": "d6f9b97f",
   "metadata": {},
   "outputs": [
    {
     "name": "stdout",
     "output_type": "stream",
     "text": [
      "<2020     > c = 100 \n",
      "      <2021 2025> c =growth 1 2 3 4 5\n",
      "<2020     > d = 100 \n",
      "      <2021 2025> d =growth 1 2 3 4 5\n",
      "<2020     > e = 100 \n",
      "      <2021 2025> e =growth 1 2 3 4 5\n",
      "<2020     > f = 100 \n",
      "      <2021 2025> f =growth 1 2 3 4 5\n"
     ]
    }
   ],
   "source": [
    "lines = '\\n'.join(                               \n",
    " [f'''<2020     > {varname} = 100 \n",
    "      <2021 2025> {varname} =growth 1 2 3 4 5'''\n",
    "     for varname in 'c d e f'.split()])\n",
    "print(lines) "
   ]
  },
  {
   "cell_type": "markdown",
   "id": "544fdbea",
   "metadata": {
    "slideshow": {
     "slide_type": "slide"
    }
   },
   "source": [
    ":::{note}\n",
    "***Python constructs***\n",
    "\n",
    "The creation of update lines involves a number of useful python constructs. A short \n",
    "description:<br>\n",
    "\n",
    "| Python construct |explanation|Google |\n",
    "| :- | :---| :---|\n",
    "|'a b'.split()|splits a string by ```blanks```into a list| [Search](https://www.google.com/search?q=python+split&newwindow=1)\n",
    "|'\\n'.join()|Creates a string from a list of string separated by \\n (linebreak)|[Search](https://www.google.com/search?q=python+string+join&newwindow=1)\n",
    "|f'{varname} = ....'|A f-string, {varname} is replaced by the value of varname|[Search](https://www.google.com/search?q=python+f-string&newwindow=1)\n",
    "|\\[varname for varname in a_list] |List comprehension which creates an implicit loop|[Search](https://www.google.com/search?q=python+list+comprehension&newwindow=1)\n",
    ":::"
   ]
  },
  {
   "cell_type": "markdown",
   "id": "19cbea73",
   "metadata": {
    "slideshow": {
     "slide_type": "slide"
    }
   },
   "source": [
    "#### Use the update lines to update a dataframe"
   ]
  },
  {
   "cell_type": "code",
   "execution_count": 22,
   "id": "9329d739",
   "metadata": {},
   "outputs": [
    {
     "data": {
      "text/html": [
       "<div>\n",
       "<style scoped>\n",
       "    .dataframe tbody tr th:only-of-type {\n",
       "        vertical-align: middle;\n",
       "    }\n",
       "\n",
       "    .dataframe tbody tr th {\n",
       "        vertical-align: top;\n",
       "    }\n",
       "\n",
       "    .dataframe thead th {\n",
       "        text-align: right;\n",
       "    }\n",
       "</style>\n",
       "<table border=\"1\" class=\"dataframe\">\n",
       "  <thead>\n",
       "    <tr style=\"text-align: right;\">\n",
       "      <th></th>\n",
       "      <th>A</th>\n",
       "      <th>B</th>\n",
       "      <th>C</th>\n",
       "      <th>D</th>\n",
       "      <th>E</th>\n",
       "      <th>F</th>\n",
       "    </tr>\n",
       "  </thead>\n",
       "  <tbody>\n",
       "    <tr>\n",
       "      <th>2020</th>\n",
       "      <td>100</td>\n",
       "      <td>100.0</td>\n",
       "      <td>100.000000</td>\n",
       "      <td>100.000000</td>\n",
       "      <td>100.000000</td>\n",
       "      <td>100.000000</td>\n",
       "    </tr>\n",
       "    <tr>\n",
       "      <th>2021</th>\n",
       "      <td>100</td>\n",
       "      <td>100.0</td>\n",
       "      <td>101.000000</td>\n",
       "      <td>101.000000</td>\n",
       "      <td>101.000000</td>\n",
       "      <td>101.000000</td>\n",
       "    </tr>\n",
       "    <tr>\n",
       "      <th>2022</th>\n",
       "      <td>100</td>\n",
       "      <td>100.0</td>\n",
       "      <td>103.020000</td>\n",
       "      <td>103.020000</td>\n",
       "      <td>103.020000</td>\n",
       "      <td>103.020000</td>\n",
       "    </tr>\n",
       "    <tr>\n",
       "      <th>2023</th>\n",
       "      <td>100</td>\n",
       "      <td>100.0</td>\n",
       "      <td>106.110600</td>\n",
       "      <td>106.110600</td>\n",
       "      <td>106.110600</td>\n",
       "      <td>106.110600</td>\n",
       "    </tr>\n",
       "    <tr>\n",
       "      <th>2024</th>\n",
       "      <td>100</td>\n",
       "      <td>100.0</td>\n",
       "      <td>110.355024</td>\n",
       "      <td>110.355024</td>\n",
       "      <td>110.355024</td>\n",
       "      <td>110.355024</td>\n",
       "    </tr>\n",
       "    <tr>\n",
       "      <th>2025</th>\n",
       "      <td>100</td>\n",
       "      <td>100.0</td>\n",
       "      <td>115.872775</td>\n",
       "      <td>115.872775</td>\n",
       "      <td>115.872775</td>\n",
       "      <td>115.872775</td>\n",
       "    </tr>\n",
       "  </tbody>\n",
       "</table>\n",
       "</div>"
      ],
      "text/plain": [
       "        A      B           C           D           E           F\n",
       "2020  100  100.0  100.000000  100.000000  100.000000  100.000000\n",
       "2021  100  100.0  101.000000  101.000000  101.000000  101.000000\n",
       "2022  100  100.0  103.020000  103.020000  103.020000  103.020000\n",
       "2023  100  100.0  106.110600  106.110600  106.110600  106.110600\n",
       "2024  100  100.0  110.355024  110.355024  110.355024  110.355024\n",
       "2025  100  100.0  115.872775  115.872775  115.872775  115.872775"
      ]
     },
     "execution_count": 22,
     "metadata": {},
     "output_type": "execute_result"
    }
   ],
   "source": [
    "dfnew = df.upd(lines)\n",
    "dfnew"
   ]
  },
  {
   "cell_type": "markdown",
   "id": "15d0f883",
   "metadata": {
    "slideshow": {
     "slide_type": "slide"
    }
   },
   "source": [
    "#### Update the new dataframe and keep some of the growth rates\n",
    "```keep_growth=True``` now all lines as default keep the growth rate\n",
    " - c,d are updated in 2022 and 2023 and keep the growth rates afterwards\n",
    " - e the --no_keep_growth in this line prevents the updating 2024-2025"
   ]
  },
  {
   "cell_type": "code",
   "execution_count": 23,
   "id": "7af30e3a",
   "metadata": {
    "slideshow": {
     "slide_type": "subslide"
    }
   },
   "outputs": [
    {
     "name": "stdout",
     "output_type": "stream",
     "text": [
      "Dataframe:\n",
      "        A      B      C      D           E           F\n",
      "2020  100  100.0  100.0  100.0  100.000000  100.000000\n",
      "2021  100  100.0  101.0  101.0  101.000000  101.000000\n",
      "2022  100  100.0  200.0  300.0  400.000000  103.020000\n",
      "2023  100  100.0  200.0  300.0  400.000000  106.110600\n",
      "2024  100  100.0  208.0  312.0  110.355024  110.355024\n",
      "2025  100  100.0  218.4  327.6  115.872775  115.872775\n",
      "\n",
      "Growth:\n",
      "        A    B          C           D           E    F\n",
      "2020  NaN  NaN        NaN         NaN         NaN  NaN\n",
      "2021  0.0  0.0   1.000000    1.000000    1.000000  1.0\n",
      "2022  0.0  0.0  98.019802  197.029703  296.039604  2.0\n",
      "2023  0.0  0.0   0.000000    0.000000    0.000000  3.0\n",
      "2024  0.0  0.0   4.000000    4.000000  -72.411244  4.0\n",
      "2025  0.0  0.0   5.000000    5.000000    5.000000  5.0\n",
      "\n"
     ]
    }
   ],
   "source": [
    "dfres = dfnew.upd('''\n",
    "<2022 2023> c = 200 \n",
    "<2022 2023> d = 300  \n",
    "<2022 2023> e = 400  --no_keep_growth\n",
    "''',keep_growth=True)\n",
    "print(f'Dataframe:\\n{dfres}\\n\\nGrowth:\\n{dfres.pct_change()*100}\\n')"
   ]
  },
  {
   "cell_type": "markdown",
   "id": "ae53a965",
   "metadata": {
    "slideshow": {
     "slide_type": "slide"
    }
   },
   "source": [
    "### --kg can replace --keep_growth and --nkg can replace --non_keep_growth \n",
    "Just to make typing more easy \n"
   ]
  },
  {
   "cell_type": "markdown",
   "id": "24b7547c",
   "metadata": {
    "cell_style": "center",
    "slideshow": {
     "slide_type": "slide"
    }
   },
   "source": [
    "## Update several variable in one line \n",
    "Sometime there is a need to update several variable with the same value over the same time frame. To ease this case .update can accept several variables in one line"
   ]
  },
  {
   "cell_type": "code",
   "execution_count": 24,
   "id": "57c51934",
   "metadata": {},
   "outputs": [
    {
     "data": {
      "text/html": [
       "<div>\n",
       "<style scoped>\n",
       "    .dataframe tbody tr th:only-of-type {\n",
       "        vertical-align: middle;\n",
       "    }\n",
       "\n",
       "    .dataframe tbody tr th {\n",
       "        vertical-align: top;\n",
       "    }\n",
       "\n",
       "    .dataframe thead th {\n",
       "        text-align: right;\n",
       "    }\n",
       "</style>\n",
       "<table border=\"1\" class=\"dataframe\">\n",
       "  <thead>\n",
       "    <tr style=\"text-align: right;\">\n",
       "      <th></th>\n",
       "      <th>A</th>\n",
       "      <th>B</th>\n",
       "      <th>H</th>\n",
       "      <th>I</th>\n",
       "      <th>J</th>\n",
       "      <th>K</th>\n",
       "      <th>P</th>\n",
       "      <th>Q</th>\n",
       "      <th>R</th>\n",
       "      <th>S</th>\n",
       "    </tr>\n",
       "  </thead>\n",
       "  <tbody>\n",
       "    <tr>\n",
       "      <th>2020</th>\n",
       "      <td>100</td>\n",
       "      <td>100.0</td>\n",
       "      <td>0.0</td>\n",
       "      <td>0.0</td>\n",
       "      <td>0.0</td>\n",
       "      <td>0.0</td>\n",
       "      <td>1000.000000</td>\n",
       "      <td>1000.000000</td>\n",
       "      <td>1000.000000</td>\n",
       "      <td>1000.000000</td>\n",
       "    </tr>\n",
       "    <tr>\n",
       "      <th>2021</th>\n",
       "      <td>100</td>\n",
       "      <td>100.0</td>\n",
       "      <td>0.0</td>\n",
       "      <td>0.0</td>\n",
       "      <td>0.0</td>\n",
       "      <td>0.0</td>\n",
       "      <td>1020.000000</td>\n",
       "      <td>1020.000000</td>\n",
       "      <td>1020.000000</td>\n",
       "      <td>1020.000000</td>\n",
       "    </tr>\n",
       "    <tr>\n",
       "      <th>2022</th>\n",
       "      <td>100</td>\n",
       "      <td>100.0</td>\n",
       "      <td>40.0</td>\n",
       "      <td>40.0</td>\n",
       "      <td>40.0</td>\n",
       "      <td>40.0</td>\n",
       "      <td>1040.400000</td>\n",
       "      <td>1040.400000</td>\n",
       "      <td>1040.400000</td>\n",
       "      <td>1040.400000</td>\n",
       "    </tr>\n",
       "    <tr>\n",
       "      <th>2023</th>\n",
       "      <td>100</td>\n",
       "      <td>100.0</td>\n",
       "      <td>40.0</td>\n",
       "      <td>40.0</td>\n",
       "      <td>40.0</td>\n",
       "      <td>40.0</td>\n",
       "      <td>1061.208000</td>\n",
       "      <td>1061.208000</td>\n",
       "      <td>1061.208000</td>\n",
       "      <td>1061.208000</td>\n",
       "    </tr>\n",
       "    <tr>\n",
       "      <th>2024</th>\n",
       "      <td>100</td>\n",
       "      <td>100.0</td>\n",
       "      <td>40.0</td>\n",
       "      <td>40.0</td>\n",
       "      <td>40.0</td>\n",
       "      <td>40.0</td>\n",
       "      <td>1082.432160</td>\n",
       "      <td>1082.432160</td>\n",
       "      <td>1082.432160</td>\n",
       "      <td>1082.432160</td>\n",
       "    </tr>\n",
       "    <tr>\n",
       "      <th>2025</th>\n",
       "      <td>100</td>\n",
       "      <td>100.0</td>\n",
       "      <td>0.0</td>\n",
       "      <td>0.0</td>\n",
       "      <td>0.0</td>\n",
       "      <td>0.0</td>\n",
       "      <td>1104.080803</td>\n",
       "      <td>1104.080803</td>\n",
       "      <td>1104.080803</td>\n",
       "      <td>1104.080803</td>\n",
       "    </tr>\n",
       "  </tbody>\n",
       "</table>\n",
       "</div>"
      ],
      "text/plain": [
       "        A      B     H     I     J     K            P            Q  \\\n",
       "2020  100  100.0   0.0   0.0   0.0   0.0  1000.000000  1000.000000   \n",
       "2021  100  100.0   0.0   0.0   0.0   0.0  1020.000000  1020.000000   \n",
       "2022  100  100.0  40.0  40.0  40.0  40.0  1040.400000  1040.400000   \n",
       "2023  100  100.0  40.0  40.0  40.0  40.0  1061.208000  1061.208000   \n",
       "2024  100  100.0  40.0  40.0  40.0  40.0  1082.432160  1082.432160   \n",
       "2025  100  100.0   0.0   0.0   0.0   0.0  1104.080803  1104.080803   \n",
       "\n",
       "                R            S  \n",
       "2020  1000.000000  1000.000000  \n",
       "2021  1020.000000  1020.000000  \n",
       "2022  1040.400000  1040.400000  \n",
       "2023  1061.208000  1061.208000  \n",
       "2024  1082.432160  1082.432160  \n",
       "2025  1104.080803  1104.080803  "
      ]
     },
     "execution_count": 24,
     "metadata": {},
     "output_type": "execute_result"
    }
   ],
   "source": [
    "df.upd('''\n",
    "<2022 2024> h i j k =      40 \n",
    "<2020>      p q r s =       1000\n",
    "<2021 -1>   p q r s =growth 2     # -1 indicates the last year \n",
    "''')"
   ]
  },
  {
   "cell_type": "markdown",
   "id": "1ba374fd",
   "metadata": {
    "slideshow": {
     "slide_type": "slide"
    }
   },
   "source": [
    "## .upd(,,scale=\\<number, default=1>) Scale the updates \n",
    "When creating scenarios consistent of several updates it can be useful to be able to create \n",
    "a number of scenarios based on one update but with different scale. For instance scale=0 is the baseline while scale=0.5 is a scenario half \n",
    "the severity.  \n",
    "\n",
    "In the example below the values of the dataframes are printed.<br>\n",
    "In a more realistic example  the ```print()``` below  would be changed to a call to a model instance, so the model would be simulated.  "
   ]
  },
  {
   "cell_type": "code",
   "execution_count": 25,
   "id": "6b8bf024",
   "metadata": {
    "slideshow": {
     "slide_type": "slide"
    }
   },
   "outputs": [
    {
     "name": "stdout",
     "output_type": "stream",
     "text": [
      "input dataframe: \n",
      "        A      B\n",
      "2020  100  100.0\n",
      "2021  100  100.0\n",
      "2022  100  100.0\n",
      "2023  100  100.0\n",
      "2024  100  100.0\n",
      "2025  100  100.0\n",
      "\n",
      "\n",
      "severity=0\n",
      "Dataframe:\n",
      "        A      B\n",
      "2020  100  100.0\n",
      "2021  100  100.0\n",
      "2022  100  100.0\n",
      "2023  100  100.0\n",
      "2024  100  100.0\n",
      "2025  100  100.0\n",
      "\n",
      "Growth:\n",
      "        A    B\n",
      "2020  NaN  NaN\n",
      "2021  0.0  0.0\n",
      "2022  0.0  0.0\n",
      "2023  0.0  0.0\n",
      "2024  0.0  0.0\n",
      "2025  0.0  0.0\n",
      "\n",
      "\n",
      "severity=0.5\n",
      "Dataframe:\n",
      "               A      B\n",
      "2020  100.000000  100.0\n",
      "2021  100.500000  105.0\n",
      "2022  101.505000  105.0\n",
      "2023  103.027575  105.0\n",
      "2024  105.088126  105.0\n",
      "2025  107.715330  105.0\n",
      "\n",
      "Growth:\n",
      "        A    B\n",
      "2020  NaN  NaN\n",
      "2021  0.5  5.0\n",
      "2022  1.0  0.0\n",
      "2023  1.5  0.0\n",
      "2024  2.0  0.0\n",
      "2025  2.5  0.0\n",
      "\n",
      "\n",
      "severity=1\n",
      "Dataframe:\n",
      "               A      B\n",
      "2020  100.000000  100.0\n",
      "2021  101.000000  110.0\n",
      "2022  103.020000  110.0\n",
      "2023  106.110600  110.0\n",
      "2024  110.355024  110.0\n",
      "2025  115.872775  110.0\n",
      "\n",
      "Growth:\n",
      "        A     B\n",
      "2020  NaN   NaN\n",
      "2021  1.0  10.0\n",
      "2022  2.0   0.0\n",
      "2023  3.0   0.0\n",
      "2024  4.0   0.0\n",
      "2025  5.0   0.0\n",
      "\n",
      "\n"
     ]
    }
   ],
   "source": [
    "print(f'input dataframe: \\n{df}\\n\\n')\n",
    "for severity in [0,0.5,1]: \n",
    "    # First make a dataframe with some growth rate \n",
    "    res = df.upd('''\n",
    "    <2021 2025>\n",
    "    a =growth 1 2 3 4 5 \n",
    "    b + 10\n",
    "    ''',scale=severity)\n",
    "    print(f'{severity=}\\nDataframe:\\n{res}\\n\\nGrowth:\\n{res.pct_change()*100}\\n\\n')\n",
    "    #  \n",
    "    # Here the updated dataframe is only printet. \n",
    "    # A more realistic use case is to simulate a model like this: \n",
    "    # dummy_ = mpak(res,keep='Severity {serverity}')    # more realistic "
   ]
  },
  {
   "cell_type": "markdown",
   "id": "4ce36e79",
   "metadata": {
    "slideshow": {
     "slide_type": "slide"
    }
   },
   "source": [
    "## .upd(,,lprint=True ) prints vaues the before and after update  \n",
    "When creating scenarios consistent of several updates it can be useful to be able to create \n",
    "a number of scenarios based on one update but with different scale. For instance scale=0 is the baseline wile scale=0.5 is a scenario half \n",
    "the severity.  "
   ]
  },
  {
   "cell_type": "code",
   "execution_count": 26,
   "id": "a189471d",
   "metadata": {},
   "outputs": [
    {
     "name": "stdout",
     "output_type": "stream",
     "text": [
      "Update * [42.0, 44.0] 2021 2022\n",
      "A                    Before                After                 Diff\n",
      "2021               100.0000            4200.0000            4100.0000\n",
      "2022               100.0000            4400.0000            4300.0000\n"
     ]
    },
    {
     "data": {
      "text/html": [
       "<div>\n",
       "<style scoped>\n",
       "    .dataframe tbody tr th:only-of-type {\n",
       "        vertical-align: middle;\n",
       "    }\n",
       "\n",
       "    .dataframe tbody tr th {\n",
       "        vertical-align: top;\n",
       "    }\n",
       "\n",
       "    .dataframe thead th {\n",
       "        text-align: right;\n",
       "    }\n",
       "</style>\n",
       "<table border=\"1\" class=\"dataframe\">\n",
       "  <thead>\n",
       "    <tr style=\"text-align: right;\">\n",
       "      <th></th>\n",
       "      <th>A</th>\n",
       "      <th>B</th>\n",
       "    </tr>\n",
       "  </thead>\n",
       "  <tbody>\n",
       "    <tr>\n",
       "      <th>2020</th>\n",
       "      <td>100</td>\n",
       "      <td>100.0</td>\n",
       "    </tr>\n",
       "    <tr>\n",
       "      <th>2021</th>\n",
       "      <td>4200</td>\n",
       "      <td>100.0</td>\n",
       "    </tr>\n",
       "    <tr>\n",
       "      <th>2022</th>\n",
       "      <td>4400</td>\n",
       "      <td>100.0</td>\n",
       "    </tr>\n",
       "    <tr>\n",
       "      <th>2023</th>\n",
       "      <td>100</td>\n",
       "      <td>100.0</td>\n",
       "    </tr>\n",
       "    <tr>\n",
       "      <th>2024</th>\n",
       "      <td>100</td>\n",
       "      <td>100.0</td>\n",
       "    </tr>\n",
       "    <tr>\n",
       "      <th>2025</th>\n",
       "      <td>100</td>\n",
       "      <td>100.0</td>\n",
       "    </tr>\n",
       "  </tbody>\n",
       "</table>\n",
       "</div>"
      ],
      "text/plain": [
       "         A      B\n",
       "2020   100  100.0\n",
       "2021  4200  100.0\n",
       "2022  4400  100.0\n",
       "2023   100  100.0\n",
       "2024   100  100.0\n",
       "2025   100  100.0"
      ]
     },
     "execution_count": 26,
     "metadata": {},
     "output_type": "execute_result"
    }
   ],
   "source": [
    "df.upd('''\n",
    "# Same number of values as years\n",
    "<2021 2022> A *  42 44\n",
    "''',lprint=1)"
   ]
  },
  {
   "cell_type": "markdown",
   "id": "0cf2badb",
   "metadata": {
    "slideshow": {
     "slide_type": "slide"
    }
   },
   "source": [
    "## .upd(,,create=True ) Requires the variable to exist  \n",
    "Until now .upd has created variables if they did not exist in the input dataframe.\n",
    "\n",
    "To catch misspellings the parameter ```create``` can be set to False. \n",
    "New variables will not be created, and an exception will be raised. \n",
    "\n",
    "Here Pythons exception handling is uses, so the notebook will continue to run the cells below. "
   ]
  },
  {
   "cell_type": "code",
   "execution_count": 27,
   "id": "f7c4d981",
   "metadata": {},
   "outputs": [
    {
     "name": "stdout",
     "output_type": "stream",
     "text": [
      "Variable to update not found:AA, timespan = [2021 2022] \n",
      "Set create=True if you want the variable created: \n"
     ]
    }
   ],
   "source": [
    "try:\n",
    "    xx = df.upd('''\n",
    "    # Same number of values as years\n",
    "    <2021 2022> Aa *  42 44\n",
    "    ''',create=False)\n",
    "    print(xx)\n",
    "except Exception as inst:\n",
    "    xx = None\n",
    "    print(inst) \n"
   ]
  },
  {
   "cell_type": "markdown",
   "id": "e03334a4",
   "metadata": {
    "slideshow": {
     "slide_type": "slide"
    }
   },
   "source": [
    "## The call "
   ]
  },
  {
   "cell_type": "markdown",
   "id": "47781fea",
   "metadata": {},
   "source": [
    "def update(indf, updates, lprint=False,scale = 1.0,create=True,keep_growth=False,start='',end='')\n",
    "\n",
    "    Args:\n",
    "            indf (DataFrame): input dataframe.\n",
    "            basis (string): lines with variable updates look below.\n",
    "            lprint (bool, optional): if True each update is printed  Defaults to False.\n",
    "            scale (float, optional): A multiplier used on all update input . Defaults to 1.0.\n",
    "            create (bool, optional): Creates a variables if not in the dataframe . Defaults to True.\n",
    "            keep_growth(bool, optional): Keep the growth rate after the update time frame. Defaults to False.\n",
    "\n",
    "        Returns:\n",
    "            df (TYPE): the updated dataframe .\n",
    "            \n",
    "        A line in updates looks like this:     \n",
    "               \n",
    "        \"<\"[[start] end]\">\" <var....> <=|+|*|%|=growth|+growth|=diff> <value>...  [--keep_growth_rate|--no_keep_growth_rate]\n",
    "\n",
    "        \n",
    "        \n"
   ]
  },
  {
   "cell_type": "code",
   "execution_count": null,
   "id": "59027a55",
   "metadata": {},
   "outputs": [],
   "source": []
  }
 ],
 "metadata": {
  "celltoolbar": "Slideshow",
  "hide_input": false,
  "kernelspec": {
   "display_name": "Python 3 (ipykernel)",
   "language": "python",
   "name": "python3"
  },
  "language_info": {
   "codemirror_mode": {
    "name": "ipython",
    "version": 3
   },
   "file_extension": ".py",
   "mimetype": "text/x-python",
   "name": "python",
   "nbconvert_exporter": "python",
   "pygments_lexer": "ipython3",
   "version": "3.9.13"
  },
  "toc": {
   "base_numbering": 1,
   "nav_menu": {},
   "number_sections": true,
   "sideBar": true,
   "skip_h1_title": true,
   "title_cell": "Table of Contents",
   "title_sidebar": "Contents",
   "toc_cell": false,
   "toc_position": {
    "height": "calc(100% - 180px)",
    "left": "10px",
    "top": "150px",
    "width": "183px"
   },
   "toc_section_display": true,
   "toc_window_display": false
  },
  "varInspector": {
   "cols": {
    "lenName": 16,
    "lenType": 16,
    "lenVar": 40
   },
   "kernels_config": {
    "python": {
     "delete_cmd_postfix": "",
     "delete_cmd_prefix": "del ",
     "library": "var_list.py",
     "varRefreshCmd": "print(var_dic_list())"
    },
    "r": {
     "delete_cmd_postfix": ") ",
     "delete_cmd_prefix": "rm(",
     "library": "var_list.r",
     "varRefreshCmd": "cat(var_dic_list()) "
    }
   },
   "types_to_exclude": [
    "module",
    "function",
    "builtin_function_or_method",
    "instance",
    "_Feature"
   ],
   "window_display": false
  }
 },
 "nbformat": 4,
 "nbformat_minor": 5
}
