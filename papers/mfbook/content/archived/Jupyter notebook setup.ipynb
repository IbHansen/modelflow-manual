{
 "cells": [
  {
   "cell_type": "markdown",
   "id": "73ef6928",
   "metadata": {},
   "source": [
    "# Jupyter notebook set up\n",
    "This book is created with [jupyterbook](https://jupyterbook.org/en/stable/intro.html) and consist of a collection of [jupyter notebooks](https://jupyter.org/). \n",
    "\n",
    "Each Jupyter notebook can be run when an environment with python and modelflow has been installed and [activated](installation_of_modelflow)\n",
    "\n",
    ":::{note}\n",
    "The notebooks in this book contains formatting and other information which is necessary for the rendering of the Jupyterbook. It is however not necessary for the working of the notebook.  \n",
    ":::\n",
    "\n",
    "In order to prepare the notebook for modelflow, the cell below is part of all the notebooks in this book, but it is hidden to avoid repeating boiler plate code."
   ]
  },
  {
   "cell_type": "markdown",
   "id": "70d11dc2",
   "metadata": {
    "tags": [
     "hide-cell"
    ]
   },
   "source": [
    ":::{index} pair: jupyter notebook; modelflow initialization \n",
    ":::"
   ]
  },
  {
   "cell_type": "code",
   "execution_count": 3,
   "id": "79390bcf",
   "metadata": {},
   "outputs": [
    {
     "data": {
      "text/html": [
       "\n",
       "        <style>\n",
       "            div#notebook-container    { width: 95%; }\n",
       "            div#menubar-container     { width: 65%; }\n",
       "            div#maintoolbar-container { width: 99%; }\n",
       "        </style>\n",
       "        "
      ],
      "text/plain": [
       "<IPython.core.display.HTML object>"
      ]
     },
     "metadata": {},
     "output_type": "display_data"
    },
    {
     "data": {
      "application/javascript": [
       "\n",
       "                    IPython.OutputArea.prototype._should_scroll = function(lines){\n",
       "                        return false;\n",
       "                    }\n",
       "                "
      ],
      "text/plain": [
       "<IPython.core.display.Javascript object>"
      ]
     },
     "metadata": {},
     "output_type": "display_data"
    }
   ],
   "source": [
    "# Prepare the notebook for use of modelflow \n",
    "\n",
    "# Jupyter magic command to improve the display of charts in the Notebook\n",
    "%matplotlib inline\n",
    "\n",
    "# Import pandas \n",
    "import pandas as pd\n",
    "\n",
    "# Import the model class from the modelclass module \n",
    "from modelclass import model \n",
    "\n",
    "# functions that improve rendering of modelflow outputs\n",
    "model.widescreen()\n",
    "model.scroll_off();"
   ]
  },
  {
   "cell_type": "markdown",
   "id": "2e5b196f",
   "metadata": {},
   "source": [
    "## Preparation for use in google colab\n",
    "This book both  available as a printable [pdf] version  and as a [web version](https://ibhansen.github.io/). \n",
    "\n",
    ":::{image} cloud_rocket.png\n",
    "    :class: bg-primary mb-1\n",
    "    :width: 20%\n",
    "    :align: right \n",
    ":::  \n",
    "From the web version it is possible to run the model in [Googles Colab](https://colab.research.google.com/) environment. This is done by clicking on the rocket in the upper right corner of the page. \n",
    "\n",
    "Colab python and notebooks differs from the python version installed on the local machine. Therefor some instalation has to be done. This is done in the following cell which also is included in the notebooks but not shown in the actual book. \n",
    "  "
   ]
  },
  {
   "cell_type": "markdown",
   "id": "0af1ca0a",
   "metadata": {},
   "source": [
    ":::{index} pair: Google Colab; executing in  \n",
    ":::"
   ]
  },
  {
   "cell_type": "code",
   "execution_count": 19,
   "id": "92834040",
   "metadata": {},
   "outputs": [],
   "source": [
    "# This is code to manage dependencies if the notebook is executed in the google colab cloud service\n",
    "\n",
    "if 'google.colab' in str(get_ipython()):\n",
    "  import os\n",
    "  os.system('apt -qqq install graphviz')\n",
    "  os.system('pip -qqq install ModelFlowIb ipysheet  --no-dependencies ')"
   ]
  }
 ],
 "metadata": {
  "celltoolbar": "Tags",
  "hide_input": false,
  "kernelspec": {
   "display_name": "Python 3 (ipykernel)",
   "language": "python",
   "name": "python3"
  },
  "language_info": {
   "codemirror_mode": {
    "name": "ipython",
    "version": 3
   },
   "file_extension": ".py",
   "mimetype": "text/x-python",
   "name": "python",
   "nbconvert_exporter": "python",
   "pygments_lexer": "ipython3",
   "version": "3.10.11"
  },
  "toc": {
   "base_numbering": 1,
   "nav_menu": {},
   "number_sections": true,
   "sideBar": true,
   "skip_h1_title": true,
   "title_cell": "Table of Contents",
   "title_sidebar": "Contents",
   "toc_cell": false,
   "toc_position": {
    "height": "calc(100% - 180px)",
    "left": "10px",
    "top": "150px",
    "width": "183px"
   },
   "toc_section_display": true,
   "toc_window_display": true
  },
  "varInspector": {
   "cols": {
    "lenName": 16,
    "lenType": 16,
    "lenVar": 40
   },
   "kernels_config": {
    "python": {
     "delete_cmd_postfix": "",
     "delete_cmd_prefix": "del ",
     "library": "var_list.py",
     "varRefreshCmd": "print(var_dic_list())"
    },
    "r": {
     "delete_cmd_postfix": ") ",
     "delete_cmd_prefix": "rm(",
     "library": "var_list.r",
     "varRefreshCmd": "cat(var_dic_list()) "
    }
   },
   "types_to_exclude": [
    "module",
    "function",
    "builtin_function_or_method",
    "instance",
    "_Feature"
   ],
   "window_display": false
  }
 },
 "nbformat": 4,
 "nbformat_minor": 5
}
