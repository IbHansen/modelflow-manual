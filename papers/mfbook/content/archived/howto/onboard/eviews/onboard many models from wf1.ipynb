{
 "cells": [
  {
   "cell_type": "markdown",
   "id": "fb69443b",
   "metadata": {},
   "source": [
    "# Onboard all models  defined in .wf1 files\n",
    "This notebook takes all .wf1 workfile from the folder wfs\\ and transform the models  it to a modelflow model.<br>\n",
    "\n",
    "The overall process is performed in a Dataclass named:**GrapWfModel**<br> \n",
    "Close study of this class can be rewarding, but is outside the need of most users.<br>\n",
    "The overall structure is: Onboard all model defined in a .wf1 file\n",
    "\n",
    "The overall structure is:\n",
    "\n",
    "Eviews is started and the wf1 file is loaded\n",
    "Some transformations are performed on data.\n",
    "The model is unlinked\n",
    "The workspace is saved as a wf2 file. Same name with _modelflow appended\n",
    " - Eviews is closed\n",
    " - The wf2 file is read as a json file.\n",
    " - Relevant objects are extracted.\n",
    " - The MFMSA variable is extracted, to be saved in the dumpfile.\n",
    " - The equations are transformed and normalized to modelflow format and classified into identities and stochastic\n",
    " - Stochastic equations are enriched by add_factor and fixing terms (dummy + fixing value)\n",
    " - For Stochastic equations new fitted variables are generated - without add add_factors and dummies.\n",
    " - A model to generate fitted variables is created\n",
    " - A model to generate add_factors is created.\n",
    " - A model encompassing the original equations, the model for fitted variables and for add_factors is created.\n",
    " - The data series and scalars are shoveled into a Pandas dataframe\n",
    " - Some special series are generated as the expression can not be incorporated into modelflow model specifications\n",
    " - The model for fitted values is simulated in the specified timespan\n",
    " - The model for add_factors is simulated in the timespan set in MFMSA\n",
    " - The data descriptions are extracted into a dictionary.\n",
    " - Data descriptions for dummies, fixed values, fitted values and add_factors are derived.\n",
    " - Now we have a model and a dataframe with all variables which are needed. b The GrapWfModel instance in general keeps most of the steps so the developer can inspect the the different steps.\n",
    "\n",
    "The GrapWfModel instance in general keeps most of the steps so the developer can inspect the the different steps.  \n"
   ]
  },
  {
   "cell_type": "markdown",
   "id": "c0a0a54d",
   "metadata": {},
   "source": [
    "- Eviews has to be installed \n",
    "- pyevies has to be installed \n"
   ]
  },
  {
   "cell_type": "code",
   "execution_count": 7,
   "id": "fa9578fb",
   "metadata": {},
   "outputs": [
    {
     "data": {
      "text/html": [
       "\n",
       "        <style>\n",
       "            div#notebook-container    { width: 95%; }\n",
       "            div#menubar-container     { width: 65%; }\n",
       "            div#maintoolbar-container { width: 99%; }\n",
       "        </style>\n",
       "        "
      ],
      "text/plain": [
       "<IPython.core.display.HTML object>"
      ]
     },
     "metadata": {},
     "output_type": "display_data"
    },
    {
     "data": {
      "application/javascript": [
       "\n",
       "                    IPython.OutputArea.prototype._should_scroll = function(lines){\n",
       "                        return false;\n",
       "                    }\n",
       "                "
      ],
      "text/plain": [
       "<IPython.core.display.Javascript object>"
      ]
     },
     "metadata": {},
     "output_type": "display_data"
    }
   ],
   "source": [
    "from pathlib import Path\n",
    "\n",
    "from modelclass import model \n",
    "from modelgrabwf2 import GrabWfModel\n",
    "model.widescreen()\n",
    "model.scroll_off()\n",
    "latex=1"
   ]
  },
  {
   "cell_type": "code",
   "execution_count": 8,
   "id": "83528f87",
   "metadata": {},
   "outputs": [
    {
     "name": "stdout",
     "output_type": "stream",
     "text": [
      "The autoreload extension is already loaded. To reload it, use:\n",
      "  %reload_ext autoreload\n"
     ]
    }
   ],
   "source": [
    " %load_ext autoreload\n",
    " %autoreload 2"
   ]
  },
  {
   "cell_type": "markdown",
   "id": "13b76001",
   "metadata": {},
   "source": [
    "## List potential files\n",
    "The workfiles are located in the ```wfs``` folder. <br>\n",
    "The [pathlib.Path](https://docs.python.org/3/library/pathlib.html) class is used to find all wf1 files"
   ]
  },
  {
   "cell_type": "code",
   "execution_count": 9,
   "id": "863f33ac",
   "metadata": {},
   "outputs": [
    {
     "name": "stdout",
     "output_type": "stream",
     "text": [
      "The model and date for ago is located in this workfile:wfs\\agosoln.wf1\n",
      "The model and date for bol is located in this workfile:wfs\\BOLSoln.wf1\n",
      "The model and date for irq is located in this workfile:wfs\\IRQSoln.wf1\n",
      "The model and date for mda is located in this workfile:wfs\\MDAsoln.wf1\n",
      "The model and date for pak is located in this workfile:wfs\\PAKSoln.wf1\n",
      "The model and date for per is located in this workfile:wfs\\PERMOD_damage_asFactor20220322.wf1\n"
     ]
    }
   ],
   "source": [
    "filedict = {f.stem[:3].lower():f for f in Path('wfs').glob('*.wf1')}\n",
    "for modelname,filename in filedict.items():\n",
    "    print(f'The model and date for {modelname} is located in this workfile:{filename}')\n"
   ]
  },
  {
   "cell_type": "markdown",
   "id": "15e120bf",
   "metadata": {},
   "source": [
    "## Model specific transformations \n",
    "Not all Eviews equations has a direct counterpart in modelflow.<br>\n",
    "To handle that two types of transformations can be provided for a specific model. \n",
    "- **eviews_run_lines** which specifies a list of Eviews command lines to be run. Typical to make some transformation of data. \n",
    "- **country_trans** which specifies a list of replacements to be done to the Eviews formulas before they are processed. \n",
    "\n",
    "As a convention the variables like this \\<modelname>_eviews_run_lines and <modelname>_trans"
   ]
  },
  {
   "cell_type": "code",
   "execution_count": 10,
   "id": "2ea58496",
   "metadata": {},
   "outputs": [],
   "source": [
    "pak_trans = lambda input : input.replace('- 01*D(','-1*D(')   \n",
    "\n",
    "ago_trans = lambda  input : input.replace('@MEAN(AGOBNCABFUNDCD/AGONYGDPMKTPCD,\"2000 2020\")','MEAN_AGOBNCABFUNDCD_DIV_AGONYGDPMKTPCD') \n",
    "ago_eviews_run_lines = ['smpl @ALL','series MEAN_AGOBNCABFUNDCD_DIV_AGONYGDPMKTPCD = @MEAN(AGOBNCABFUNDCD/AGONYGDPMKTPCD,\"2000 2020\")']\n",
    "\n",
    "mda_trans = lambda input: input.replace('_MDAsbbrev.@coef(2)','_MDASBBREV_at_COEF_2')         \n",
    "mda_eviews_run_lines = ['Scalar _MDASBBREV_at_COEF_2 = _MDASBBREV.@COEF(+2)']"
   ]
  },
  {
   "cell_type": "markdown",
   "id": "bb7d1326",
   "metadata": {},
   "source": [
    "## Transform all wf1 files in the folder"
   ]
  },
  {
   "cell_type": "code",
   "execution_count": 11,
   "id": "e2aaf047",
   "metadata": {},
   "outputs": [
    {
     "ename": "SyntaxError",
     "evalue": "invalid syntax (1859126532.py, line 1)",
     "output_type": "error",
     "traceback": [
      "\u001b[1;36m  Cell \u001b[1;32mIn[11], line 1\u001b[1;36m\u001b[0m\n\u001b[1;33m    filename=\u001b[0m\n\u001b[1;37m             ^\u001b[0m\n\u001b[1;31mSyntaxError\u001b[0m\u001b[1;31m:\u001b[0m invalid syntax\n"
     ]
    }
   ],
   "source": [
    "filename=\n",
    "allmodels = {modelname: \n",
    "     GrabWfModel(filename, \n",
    "                        eviews_run_lines= globals().get(f'{modelname}_eviews_run_lines',[]),\n",
    "                        country_trans    =   globals().get(f'{modelname}_trans'   ,lambda x : x[:]),\n",
    "                        make_fitted = True,        # make equatios for fitted values of stocastic equations \n",
    "                        do_add_factor_calc=True,   # Calculate the add factors which makes the stocastic equations match    \n",
    "                        fit_start = 2000,          # Start of calculation of fittet model in baseline (to have some historic values) \n",
    "                        fit_end   = None,           # end of calc for fittted model, if None taken from mdmfsa options  \n",
    "                        disable_progress =True\n",
    "                        ) \n",
    "                  for modelname,filename in filedict.items()}"
   ]
  },
  {
   "cell_type": "markdown",
   "id": "c23de6ca",
   "metadata": {},
   "source": [
    "## Check all the models "
   ]
  },
  {
   "cell_type": "code",
   "execution_count": null,
   "id": "7d80728a",
   "metadata": {
    "scrolled": false
   },
   "outputs": [],
   "source": [
    "for modelname,cmodel in allmodels.items():\n",
    "    cmodel.test_model(cmodel.start,cmodel.end,maxerr=100,tol=1,showall=0)   # tol determins the max acceptable absolute difference "
   ]
  },
  {
   "cell_type": "markdown",
   "id": "42ef2138",
   "metadata": {},
   "source": [
    "## Run the models \n",
    "Some models need a different alfa (dampening factor in Gauss iterations) in order to solve. "
   ]
  },
  {
   "cell_type": "code",
   "execution_count": null,
   "id": "b685c2cc",
   "metadata": {},
   "outputs": [],
   "source": [
    "alfadict={'ago':0.7}"
   ]
  },
  {
   "cell_type": "code",
   "execution_count": null,
   "id": "f5471a68",
   "metadata": {},
   "outputs": [],
   "source": [
    "for modelname,cmodel in allmodels.items():\n",
    "    _ = cmodel.mmodel(cmodel.base_input,alfa=alfadict.get(modelname,1.0))\n",
    "    cmodel.mmodel.modeldump(f'modelflowdumps/{modelname}.pcim')  \n",
    "    print(f'{modelname} run and saved')"
   ]
  },
  {
   "cell_type": "code",
   "execution_count": null,
   "id": "294d9109",
   "metadata": {},
   "outputs": [],
   "source": [
    "!dir modelflowdumps\\"
   ]
  },
  {
   "cell_type": "markdown",
   "id": "58b6c66e",
   "metadata": {},
   "source": [
    "## Make some names in the namespace"
   ]
  },
  {
   "cell_type": "code",
   "execution_count": null,
   "id": "82516912",
   "metadata": {},
   "outputs": [],
   "source": [
    "for modelname,cmodel in allmodels.items():\n",
    "    thismodel = f'm{modelname}'\n",
    "    thisbaseline = f'{modelname}_baseline'\n",
    "    thiscmodel = f'{modelname}_cmodel'\n",
    "    globals()[thismodel] = cmodel.mmodel\n",
    "    globals()[thisbaseline]= cmodel.base_input \n",
    "    globals()[thiscmodel]= cmodel\n",
    "    print(f'{thismodel}, {thisbaseline} and {thiscmodel} has been created')    "
   ]
  },
  {
   "cell_type": "code",
   "execution_count": null,
   "id": "b5f3efdd",
   "metadata": {
    "scrolled": false
   },
   "outputs": [],
   "source": [
    "thissilent = 1\n",
    "_ = mago(ago_baseline,silent=thissilent,alfa=0.7)\n",
    "_ = mmda(mda_baseline,silent=thissilent)\n",
    "_ = mpak(pak_baseline,silent=thissilent)\n",
    "_ = mper(per_baseline,silent=thissilent)"
   ]
  },
  {
   "cell_type": "markdown",
   "id": "c1623258",
   "metadata": {},
   "source": [
    "## From here testing - will be deleted "
   ]
  },
  {
   "cell_type": "markdown",
   "id": "638b5bac",
   "metadata": {},
   "source": [
    "## Lets create a list of all variable names"
   ]
  },
  {
   "cell_type": "code",
   "execution_count": null,
   "id": "5c6a9806",
   "metadata": {},
   "outputs": [],
   "source": [
    "allvar = [varname for cmodel  in allmodels.values() for varname in cmodel.mmodel.allvar.keys()]"
   ]
  },
  {
   "cell_type": "code",
   "execution_count": null,
   "id": "8f952b85",
   "metadata": {},
   "outputs": [],
   "source": [
    "allvar = [varname for thismodel in [mago,mmda,mpak,mper] for varname in thismodel.allvar.keys()]"
   ]
  },
  {
   "cell_type": "code",
   "execution_count": null,
   "id": "4261a597",
   "metadata": {},
   "outputs": [],
   "source": [
    "allvar_dict  = {varname:cmodel.mmodel.var_description[varname] for cmodel  in allmodels.values() for varname in cmodel.mmodel.allvar.keys()}"
   ]
  },
  {
   "cell_type": "code",
   "execution_count": null,
   "id": "cba2456c",
   "metadata": {},
   "outputs": [],
   "source": [
    "len(allvar)"
   ]
  },
  {
   "cell_type": "code",
   "execution_count": null,
   "id": "52abf3d3",
   "metadata": {},
   "outputs": [],
   "source": [
    "import fnmatch"
   ]
  },
  {
   "cell_type": "code",
   "execution_count": null,
   "id": "297c1323",
   "metadata": {
    "scrolled": true
   },
   "outputs": [],
   "source": [
    "fnmatch.filter(allvar, '*NECONGOVTCN')"
   ]
  },
  {
   "cell_type": "code",
   "execution_count": null,
   "id": "4865d4c1",
   "metadata": {},
   "outputs": [],
   "source": [
    "len(set(allvar))"
   ]
  },
  {
   "cell_type": "code",
   "execution_count": null,
   "id": "13641bb3",
   "metadata": {},
   "outputs": [],
   "source": [
    "def getnames(pat,allvar=allvar,allvar_dict=allvar_dict):\n",
    "    selected = [(varname,allvar_dict[varname]) for varname in fnmatch.filter(allvar_dict.keys(), pat)]\n",
    "    print(*selected,sep='\\n')"
   ]
  },
  {
   "cell_type": "markdown",
   "id": "348f35e2",
   "metadata": {},
   "source": [
    "### Government consumption"
   ]
  },
  {
   "cell_type": "code",
   "execution_count": null,
   "id": "85aafd0a",
   "metadata": {},
   "outputs": [],
   "source": [
    "getnames('*NECONGOVTCN')"
   ]
  },
  {
   "cell_type": "markdown",
   "id": "554b8e59",
   "metadata": {},
   "source": [
    "### Government investment "
   ]
  },
  {
   "cell_type": "code",
   "execution_count": null,
   "id": "9de0eb8e",
   "metadata": {},
   "outputs": [],
   "source": [
    "getnames('*NEGDIFGOVCN')"
   ]
  },
  {
   "cell_type": "code",
   "execution_count": null,
   "id": "6704fd09",
   "metadata": {},
   "outputs": [],
   "source": [
    "getnames('*LMEMPTOTLCN*')"
   ]
  },
  {
   "cell_type": "code",
   "execution_count": null,
   "id": "4a6aae18",
   "metadata": {},
   "outputs": [],
   "source": [
    "getnames('*GGEXPWAGECN*')"
   ]
  },
  {
   "cell_type": "code",
   "execution_count": null,
   "id": "0f2fea35",
   "metadata": {},
   "outputs": [],
   "source": [
    "mpak.PAKBXFSTREMTCD.frml"
   ]
  },
  {
   "cell_type": "code",
   "execution_count": null,
   "id": "c00e3185",
   "metadata": {},
   "outputs": [],
   "source": [
    "mpak.PAKGGEXPGNFSCN.frml"
   ]
  },
  {
   "cell_type": "code",
   "execution_count": null,
   "id": "6b2b167f",
   "metadata": {},
   "outputs": [],
   "source": [
    "###  mpak.modeldash('PAKNECONGOVTCN',jupyter=1)"
   ]
  },
  {
   "cell_type": "code",
   "execution_count": null,
   "id": "b56f3de3",
   "metadata": {},
   "outputs": [],
   "source": [
    "allmodels['pak'].all_frml_dict['PAKGGEXPGNFSCN']"
   ]
  },
  {
   "cell_type": "code",
   "execution_count": null,
   "id": "41684840",
   "metadata": {},
   "outputs": [],
   "source": [
    "allmodels['ago'].all_frml_dict['AGONECONGOVTCN']"
   ]
  },
  {
   "cell_type": "code",
   "execution_count": 6,
   "id": "d1105ffa",
   "metadata": {},
   "outputs": [
    {
     "ename": "NameError",
     "evalue": "name 'allmodels' is not defined",
     "output_type": "error",
     "traceback": [
      "\u001b[1;31m---------------------------------------------------------------------------\u001b[0m",
      "\u001b[1;31mNameError\u001b[0m                                 Traceback (most recent call last)",
      "Cell \u001b[1;32mIn[6], line 1\u001b[0m\n\u001b[1;32m----> 1\u001b[0m \u001b[43mallmodels\u001b[49m[\u001b[38;5;124m'\u001b[39m\u001b[38;5;124mpak\u001b[39m\u001b[38;5;124m'\u001b[39m]\u001b[38;5;241m.\u001b[39mmmodel\n",
      "\u001b[1;31mNameError\u001b[0m: name 'allmodels' is not defined"
     ]
    }
   ],
   "source": [
    "allmodels['pak'].mmodel"
   ]
  },
  {
   "cell_type": "code",
   "execution_count": null,
   "id": "a84108d4",
   "metadata": {},
   "outputs": [],
   "source": []
  },
  {
   "cell_type": "code",
   "execution_count": null,
   "id": "9e3fc3fd",
   "metadata": {},
   "outputs": [],
   "source": []
  },
  {
   "cell_type": "code",
   "execution_count": null,
   "id": "4c01aef8",
   "metadata": {},
   "outputs": [],
   "source": []
  },
  {
   "cell_type": "code",
   "execution_count": null,
   "id": "f5f3dcd3",
   "metadata": {},
   "outputs": [],
   "source": []
  },
  {
   "cell_type": "code",
   "execution_count": null,
   "id": "474681b2",
   "metadata": {},
   "outputs": [],
   "source": []
  }
 ],
 "metadata": {
  "hide_input": false,
  "kernelspec": {
   "display_name": "Python 3 (ipykernel)",
   "language": "python",
   "name": "python3"
  },
  "language_info": {
   "codemirror_mode": {
    "name": "ipython",
    "version": 3
   },
   "file_extension": ".py",
   "mimetype": "text/x-python",
   "name": "python",
   "nbconvert_exporter": "python",
   "pygments_lexer": "ipython3",
   "version": "3.12.6"
  },
  "nbTranslate": {
   "displayLangs": [
    "*"
   ],
   "hotkey": "alt-t",
   "langInMainMenu": true,
   "sourceLang": "en",
   "targetLang": "fr",
   "useGoogleTranslate": true
  },
  "toc": {
   "base_numbering": 1,
   "nav_menu": {},
   "number_sections": false,
   "sideBar": true,
   "skip_h1_title": true,
   "title_cell": "Table of Contents",
   "title_sidebar": "Contents",
   "toc_cell": false,
   "toc_position": {},
   "toc_section_display": true,
   "toc_window_display": false
  },
  "varInspector": {
   "cols": {
    "lenName": 16,
    "lenType": 16,
    "lenVar": 40
   },
   "kernels_config": {
    "python": {
     "delete_cmd_postfix": "",
     "delete_cmd_prefix": "del ",
     "library": "var_list.py",
     "varRefreshCmd": "print(var_dic_list())"
    },
    "r": {
     "delete_cmd_postfix": ") ",
     "delete_cmd_prefix": "rm(",
     "library": "var_list.r",
     "varRefreshCmd": "cat(var_dic_list()) "
    }
   },
   "types_to_exclude": [
    "module",
    "function",
    "builtin_function_or_method",
    "instance",
    "_Feature"
   ],
   "window_display": false
  }
 },
 "nbformat": 4,
 "nbformat_minor": 5
}
