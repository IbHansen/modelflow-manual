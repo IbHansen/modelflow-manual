{
 "cells": [
  {
   "cell_type": "markdown",
   "id": "fb69443b",
   "metadata": {},
   "source": [
    "(onboardone)=\n",
    "# Import a World Bank Eviews model from its solution file (.wf1)\n",
    "This notebook takes a .wf1 workfile and transforms it into a modelflow model.\n",
    "\n",
    "Most standard World Bank models should work with limited intervention.  Some using unusual techniques or variable definitions may require intervention by the user.\n",
    "\n",
    "## Overview of the import process\n",
    "\n",
    "The overall import process is performed by a special a ModelFlow class named:**GrabWfModel**. Certain steps require the use of EViews itself.  This howoto was designed usinng EViews version 12, but and has been tested with versions 13 and 14.\n",
    "\n",
    "Steps to follow:\n",
    " 1. Start EViews and open the solution file \n",
    "    -    If returning to this step after an initial error perform transformations on the data (needed in some cases where special EViews functions are used in the model).\n",
    "    -    The UNlink the model. This transforms linked equations into explicit equations in the EViews model object. \n",
    "    -    Save the revised model and data as a .wf2 file. (the .wf2 is a JSON format that can be easily read into python).\n",
    "    **QCVD?  Same name with ```_modelflow appended```**\n",
    " 5. Close Eviews.\n",
    " 6. The wf2 file is read as a json file. \n",
    " 7. Relevant objects are extracted. \n",
    " 7. The MFMSA variable is  extracted, to be saved in the dumpfile. \n",
    " 8. The equations are transformed and normalized to modelflow format and classified into identities and stochastic\n",
    " 9. Stochastic equations are enriched by add_factor and fixing terms (dummy + fixing value)  \n",
    " 9. For Stochastic equations new fitted variables are generated - without add add_factors and dummies.  \n",
    " 9. A model to generate fitted variables is created  \n",
    " 9. A model to generate add_factors is created. \n",
    " 9. A model encompassing the original equations, the model for fitted variables and for add_factors is created. \n",
    " 9. The data series and scalars are shoveled into a Pandas dataframe \n",
    "     - Some special series are generated as the expression can not be incorporated into modelflow model specifications\n",
    "     - The model for fitted values is simulated in the specified timespan\n",
    "     - The model for add_factors is simulated in the timespan set in MFMSA\n",
    " 10. The data descriptions are extracted into a dictionary. \n",
    "    - Data descriptions for dummies, fixed values, fitted values and add_factors are derived. \n",
    " 11. Now we have a model and a dataframe with all variables which are needed.\n",
    " \n",
    "The GrapWfModel instance in general keeps most of the steps so the developer can inspect the the different steps.  \n"
   ]
  },
  {
   "cell_type": "markdown",
   "id": "55349107",
   "metadata": {},
   "source": [
    "## Prerequisites  \n",
    "\n",
    "The import process requires EViews and tehrefore cannot be run on a non-windows computerthat does not have EViews 12 or later installed.  It also assumes that the python library `pyeviews` has been installed (`conda install pyeviews`).  `pyeviews` uses the EViews com interface to control eviews, allowing a python script to directly manipulate parts of the eviews model using eviews itself.  This is required only for the import process.\n"
   ]
  },
  {
   "cell_type": "code",
   "execution_count": 55,
   "id": "fa9578fb",
   "metadata": {},
   "outputs": [
    {
     "data": {
      "text/html": [
       "\n",
       "        <style>\n",
       "            div#notebook-container    { width: 95%; }\n",
       "            div#menubar-container     { width: 65%; }\n",
       "            div#maintoolbar-container { width: 99%; }\n",
       "        </style>\n",
       "        "
      ],
      "text/plain": [
       "<IPython.core.display.HTML object>"
      ]
     },
     "metadata": {},
     "output_type": "display_data"
    },
    {
     "data": {
      "application/javascript": [
       "\n",
       "                    IPython.OutputArea.prototype._should_scroll = function(lines){\n",
       "                        return false;\n",
       "                    }\n",
       "                "
      ],
      "text/plain": [
       "<IPython.core.display.Javascript object>"
      ]
     },
     "metadata": {},
     "output_type": "display_data"
    }
   ],
   "source": [
    "from pathlib import Path\n",
    "\n",
    "from modelclass import model \n",
    "from modelgrabwf2 import GrabWfModel  #this is the class (part of the Modelflow Library) that will translate\n",
    "                                      # the ewbvis model and equations into modelflow business logic and\n",
    "                                      # import the data into pandas\n",
    "model.widescreen() # Makes modelflow aware we may be running under a wider than normal screem\n",
    "model.scroll_off() # tells modelflow not to scroll outputs"
   ]
  },
  {
   "cell_type": "markdown",
   "id": "f94bdc50",
   "metadata": {},
   "source": [
    "## Debugging the error\n",
    "\n",
    "\n",
    "GrabWfModel knows some Eviews @<functions> but not all. As we can see from the line: \n",
    "\n",
    " >New modelflow line:BOLBFCAF2BOP_=(1-DURING_1980_2021)*@BETWEEN(RESERVERATIO3,1/2,100000)*RESERVERATIO3\n",
    "\n",
    " GrabWfModel can not make @Between go away. That is causing trouble.\n",
    "\n",
    "The EViews help tells us:\n",
    "\n",
    "```\n",
    "@between(series, val1, val2)  Creates a dummy variable equal to 1 for observations where series is greater than or equal to val1 and less than or equal to val2.\n",
    "```\n",
    "\n",
    "In python @between(series, val1, val2) is equivalent to: \n",
    "    \n",
    " >  (1. * float(val1 <= series <= val2)))  \n",
    "    \n",
    "We can reproduce the logic by adding a python commmand to perform the substitution of @between in the equation with a equivalent \n",
    "python expression \n",
    "\n",
    "\n",
    "```BOL_trans = lambda text: re.sub(\n",
    "    r\"@BETWEEN\\(\\s*(\\w+)\\s*,\\s*([^,]+)\\s*,\\s*([^)]+)\\s*\\)\",\n",
    "    r\"(1.0*float(\\2 <= \\1 <= \\3))\",\n",
    "    text\n",
    ")```\n"
   ]
  },
  {
   "cell_type": "code",
   "execution_count": 56,
   "id": "6d7d7ac6",
   "metadata": {
    "tags": [
     "raises-exception"
    ]
   },
   "outputs": [
    {
     "name": "stdout",
     "output_type": "stream",
     "text": [
      "\n",
      "Reading c:\\modelflow manual\\papers\\mfbook\\content\\archived\\howto\\onboard\\eviews\\wfs\\bolsoln.wf1\n",
      "Assummed model name: BOL\n",
      "The model: BOL is unlinked \n",
      "Writing C:\\modelflow manual\\papers\\mfbook\\content\\archived\\howto\\onboard\\eviews\\wfs\\bolsoln_modelflow.wf2\n",
      "Model name: BOL\n",
      "\n",
      "Processing the model:BOL\n",
      "Check for Eviews @ which are not caught in the translation\n",
      "Probably errors as @ in lines:\n",
      "\n",
      "Eviews line      :@IDENTITY BOLBFCAF2BOP_  = (1  - @DURING(\"1980 2021\"))  * @between(reserveRatio3  , 1  / 2  , 100000)  * reserveRatio3\n",
      "Original line     :@IDENTITY BOLBFCAF2BOP_  = (1  - DURING_1980_2021)  * @BETWEEN(RESERVERATIO3  , 1  / 2  , 100000)  * RESERVERATIO3\n",
      "New modelflow line:BOLBFCAF2BOP_=(1-DURING_1980_2021)*@BETWEEN(RESERVERATIO3,1/2,100000)*RESERVERATIO3\n",
      "Error converting model: @ in lines \n"
     ]
    }
   ],
   "source": [
    "try: \n",
    "    all_about_mda = GrabWfModel(r'wfs\\bolsoln.wf1', \n",
    "                  #eviews_run_lines= mda_eviews_run_lines,\n",
    "                  #country_trans    =  mda_trans,\n",
    "                    make_fitted = True,        # make equatios for fitted values of stocastic equations \n",
    "                    do_add_factor_calc=True,   # Calculate the add factors which makes the stocastic equations match    \n",
    "                    fit_start = 2000,          # Start of calculation of fittet model in baseline (to have some historic values) \n",
    "                    fit_end   = None,           # end of calc for fittted model, if None taken from mdmfsa options  \n",
    "                    disable_progress =True     # Better for jupyter book \n",
    "                           ) \n",
    "except Exception as e:\n",
    "    print(f'Error converting model: {e}')"
   ]
  },
  {
   "cell_type": "code",
   "execution_count": 57,
   "id": "4ade8e95",
   "metadata": {},
   "outputs": [
    {
     "name": "stdout",
     "output_type": "stream",
     "text": [
      "(1.0*float(1  / 2   <= 3 <= 100000))\n"
     ]
    }
   ],
   "source": [
    "import re\n",
    "BOL_trans = lambda text: re.sub(\n",
    "    r\"@between\\(\\s*(\\w+)\\s*,\\s*([^,]+)\\s*,\\s*([^)]+)\\s*\\)\",\n",
    "    r\"(1.0*float(\\2 <= \\1 <= \\3))\",\n",
    "    text\n",
    ")\n",
    "\n",
    "\n",
    "# Usage example\n",
    "text = '@between(3  , 1  / 2  , 100000)'\n",
    "result = BOL_trans(text)\n",
    "\n",
    "print(result)\n"
   ]
  },
  {
   "cell_type": "code",
   "execution_count": 58,
   "id": "0209bbbf",
   "metadata": {},
   "outputs": [
    {
     "name": "stdout",
     "output_type": "stream",
     "text": [
      "1.0*((1  / 2)   <= 30 <= 100000)=1.0\n",
      "1.0*((1  / 2)   <= 30000 <= 100000)=1.0\n",
      "1.0*((1  / 2)   <= 0 <= 100000)=0.0\n"
     ]
    }
   ],
   "source": [
    "# some results \n",
    "print(f'{1.0*((1  / 2)   <= 30 <= 100000)=}')\n",
    "print(f'{1.0*((1  / 2)   <= 30000 <= 100000)=}')\n",
    "print(f'{1.0*((1  / 2)   <= 0 <= 100000)=}')"
   ]
  },
  {
   "cell_type": "code",
   "execution_count": 59,
   "id": "4b3120b2",
   "metadata": {},
   "outputs": [
    {
     "name": "stdout",
     "output_type": "stream",
     "text": [
      "\n",
      "Reading c:\\modelflow manual\\papers\\mfbook\\content\\archived\\howto\\onboard\\eviews\\wfs\\bolsoln.wf1\n",
      "Assummed model name: BOL\n",
      "The model: BOL is unlinked \n",
      "Writing C:\\modelflow manual\\papers\\mfbook\\content\\archived\\howto\\onboard\\eviews\\wfs\\bolsoln_modelflow.wf2\n",
      "Model name: BOL\n",
      "\n",
      "Processing the model:BOL\n",
      "Check for Eviews @ which are not caught in the translation\n",
      "Default WB var_group loaded\n",
      "Variable description in wf1 file read\n",
      "Default WB var_description loaded self.cty='' len(var_description)=16\n",
      "var_description loaded from WF len(this)=301\n",
      "testmodel calculated  \n",
      "Calculation of add factors for BOL calculated  \n"
     ]
    },
    {
     "name": "stderr",
     "output_type": "stream",
     "text": [
      "C:\\modelflow2\\modelflow\\modelgrabwf2.py:579: FutureWarning: Downcasting object dtype arrays on .fillna, .ffill, .bfill is deprecated and will change in a future version. Call result.infer_objects(copy=False) instead. To opt-in to the future behavior, set `pd.set_option('future.no_silent_downcasting', True)`\n",
      "  df_out = self.mmodel.insertModelVar(df).pipe(self.country_df_trans).fillna(0.0)\n"
     ]
    }
   ],
   "source": [
    "\n",
    "BOL_trans=lambda text: re.sub(\n",
    "    r\"@between\\(\\s*(\\w+)\\s*,\\s*([^,]+)\\s*,\\s*([^)]+)\\s*\\)\",\n",
    "    r\"(1.0*float(\\2 <= \\1 <= \\3))\",\n",
    "    text\n",
    ")\n",
    "all_about_bol = GrabWfModel(r'wfs\\bolsoln.wf1', \n",
    "                  country_trans    =  BOL_trans,\n",
    "                    make_fitted = True,        # make equatios for fitted values of stocastic equations \n",
    "                    do_add_factor_calc=True,   # Calculate the add factors which makes the stocastic equations match    \n",
    "                    fit_start = 2000,          # Start of calculation of fittet model in baseline (to have some historic values) \n",
    "                    fit_end   = None,           # end of calc for fittted model, if None taken from mdmfsa options  \n",
    "                    disable_progress =True     # Better for jupyter book \n",
    "                           ) "
   ]
  },
  {
   "cell_type": "markdown",
   "id": "38c42e1f",
   "metadata": {},
   "source": [
    "## Check if each equation on its own result in the values provided. \n",
    "aka: residual check <br> \n",
    "If they are not pretty close, something is very wrong. \n",
    "\n",
    "For a more detailled display of error values use showall=1. "
   ]
  },
  {
   "cell_type": "code",
   "execution_count": 60,
   "id": "502baa5d",
   "metadata": {},
   "outputs": [
    {
     "name": "stdout",
     "output_type": "stream",
     "text": [
      "BOL calculated  \n",
      "\n",
      "Chekking residuals for BOL 2015 to 2030\n",
      "\n",
      "Variable with residuals above threshold\n",
      "BOLNYGDPPOTLKN              , Max difference:   121.79006866 Max Pct    0.2060497541% It is number    54 in the solveorder and error number 1\n",
      "FRML <IDENT> BOLNYGDPPOTLKN = BOLNYGDPTFP*(BOLLMEMPSTRL**BOLNYYWBTOTLCN_)*(BOLNEGDIKSTKKN(-1)**(1-BOLNYYWBTOTLCN_)) $\n",
      "\n",
      "Result of equation \n",
      "          Before check  After calculation      Difference           Pct\n",
      "2015 41237.2588902825   41237.2588902825    0.0000000000  0.0000000000\n",
      "2016 42910.0314188969   42910.0314188969    0.0000000000  0.0000000000\n",
      "2017 44488.8108181219   44488.8108181219    0.0000000000  0.0000000000\n",
      "2018 46112.2953318973   46112.2953318973    0.0000000000  0.0000000000\n",
      "2019 47653.1702917458   47653.1702917458    0.0000000000  0.0000000000\n",
      "2020 49006.1818883145   49006.1818883145    0.0000000000  0.0000000000\n",
      "2021 49885.0566274899   49885.0566274899    0.0000000000  0.0000000000\n",
      "2022 51338.4205079086   51338.4205079086    0.0000000000  0.0000000000\n",
      "2023 53465.9057980359   53465.9057980359    0.0000000000  0.0000000000\n",
      "2024 55862.0497283561   55862.0497283561    0.0000000000  0.0000000000\n",
      "2025 59107.1167257081   58985.3266570447 -121.7900686634 -0.2060497541\n",
      "2026 62158.2471035213   62158.2471035213    0.0000000000  0.0000000000\n",
      "2027 65185.4915193735   65185.4915193735    0.0000000000  0.0000000000\n",
      "2028 68149.7517982185   68149.7517982185    0.0000000000  0.0000000000\n",
      "2029 71054.3689283012   71054.3689283012    0.0000000000  0.0000000000\n",
      "2030 73919.7573130331   73919.7573130331    0.0000000000  0.0000000000\n",
      "\n",
      "BOLBFCAFRACGCD              , Max difference:   153.81440796 Max Pct    8.9638164261% It is number   142 in the solveorder and error number 2\n",
      "FRML <IDENT> BOLBFCAFRACGCD = -BOLBFBOPTOTLCD*(1-BOLBFCAF2BOP_(-1)) $\n",
      "\n",
      "Result of equation \n",
      "          Before check  After calculation     Difference           Pct\n",
      "2015  1620.3107970821    1620.3107970821   0.0000000000  0.0000000000\n",
      "2016  3045.8544355326    3045.8544355326   0.0000000000  0.0000000000\n",
      "2017   232.4470829119     232.4470829119   0.0000000000  0.0000000000\n",
      "2018  1229.5415678799    1229.5415678799   0.0000000000  0.0000000000\n",
      "2019  2839.0377164180    2839.0377164180   0.0000000000  0.0000000000\n",
      "2020  1751.9469862239    1751.9469862239   0.0000000000  0.0000000000\n",
      "2021   166.9431643827     166.9431643827   0.0000000000  0.0000000000\n",
      "2022   878.8448094235     878.8448094235   0.0000000000  0.0000000000\n",
      "2023  -485.5483093742    -485.5483093742   0.0000000000 -0.0000000000\n",
      "2024 -1513.4544415277   -1513.4544415277   0.0000000000 -0.0000000000\n",
      "2025 -1715.9477688075   -1562.1333608434 153.8144079641 -8.9638164261\n",
      "2026 -1644.4253059759   -1644.4253059759   0.0000000000 -0.0000000000\n",
      "2027 -1400.9429927833   -1400.9429927833   0.0000000000 -0.0000000000\n",
      "2028 -1202.9801849296   -1202.9801849296   0.0000000000 -0.0000000000\n",
      "2029 -1079.9456058998   -1079.9456058998   0.0000000000 -0.0000000000\n",
      "2030 -1023.4460829158   -1023.4460829158   0.0000000000 -0.0000000000\n",
      "\n",
      "BOLNEGDIKSTKKN              , Max difference:   790.08766813 Max Pct    0.5305890811% It is number   225 in the solveorder and error number 3\n",
      "FRML <IDENT> BOLNEGDIKSTKKN = BOLNEGDIKSTKKN(-1)*(1-BOLDEPR/100)+BOLNEGDIFTOTKN $\n",
      "\n",
      "Result of equation \n",
      "           Before check  After calculation      Difference           Pct\n",
      "2015  81193.6749781309   81193.6749781309    0.0000000000  0.0000000000\n",
      "2016  86525.3572049017   86525.3572049017    0.0000000000  0.0000000000\n",
      "2017  92695.9343446566   92695.9343446566    0.0000000000  0.0000000000\n",
      "2018  98896.9763344083   98896.9763344083    0.0000000000  0.0000000000\n",
      "2019 104412.8817064245  104412.8817064245    0.0000000000  0.0000000000\n",
      "2020 106941.7660676147  106941.7660676147    0.0000000000  0.0000000000\n",
      "2021 110267.4014861921  110267.4014861921    0.0000000000  0.0000000000\n",
      "2022 116635.3836246829  116635.3836246829    0.0000000000  0.0000000000\n",
      "2023 124096.2502937143  124096.2502937143    0.0000000000  0.0000000000\n",
      "2024 136288.8501089733  136288.8501089733    0.0000000000  0.0000000000\n",
      "2025 148907.6379864413  148117.5503183150 -790.0876681263 -0.5305890811\n",
      "2026 160521.2149853013  160521.2149853013    0.0000000000  0.0000000000\n",
      "2027 171618.4813164182  171618.4813164182    0.0000000000  0.0000000000\n",
      "2028 182166.8226314643  182166.8226314643    0.0000000000  0.0000000000\n",
      "2029 192281.1227376268  192281.1227376268    0.0000000000  0.0000000000\n",
      "2030 202117.2567490858  202117.2567490858    0.0000000000  0.0000000000\n",
      "\n"
     ]
    }
   ],
   "source": [
    "all_about_bol.test_model(all_about_bol.start,all_about_bol.end,maxerr=100,tol=0.1,showall=1)   # tol determins the max acceptable absolute difference "
   ]
  },
  {
   "cell_type": "markdown",
   "id": "bc938a11",
   "metadata": {},
   "source": [
    "## chekout the errors"
   ]
  },
  {
   "cell_type": "markdown",
   "id": "540645a4",
   "metadata": {},
   "source": [
    "## Extract the model and the baseline\n",
    "**all_about_bol** has a lot of content including. \n",
    "- .mmodel is the model instance\n",
    "- .base_input is the baseline where the add factors and the fitted values are calculated "
   ]
  },
  {
   "cell_type": "code",
   "execution_count": 65,
   "id": "f6a336f5",
   "metadata": {},
   "outputs": [],
   "source": [
    "mbol    = all_about_bol.mmodel       # the model instance  \n",
    "baseline = all_about_bol.base_input.loc[:,sorted(mbol.allvar.keys())]#.astype('float')\n",
    "reference = all_about_bol.base_input.loc[:,sorted(mbol.allvar.keys())].astype('float')"
   ]
  },
  {
   "cell_type": "code",
   "execution_count": 70,
   "id": "8019ced1",
   "metadata": {},
   "outputs": [
    {
     "name": "stdout",
     "output_type": "stream",
     "text": [
      "BOL calculated  \n"
     ]
    }
   ],
   "source": [
    "res = mbol(all_about_bol.base_input,2020,2030,silent=0,ldumpvar=0,solver='res',reset_options=True)\n",
    "mbol.basedf = reference"
   ]
  },
  {
   "cell_type": "code",
   "execution_count": 83,
   "id": "b281c9ce",
   "metadata": {},
   "outputs": [
    {
     "name": "stdout",
     "output_type": "stream",
     "text": [
      "@IDENTITY BOLBFCAFRACGCD  =  - BOLBFBOPTOTLCD  * (1  - BOLBFCAF2BOP_(-1))\r\n"
     ]
    }
   ],
   "source": [
    "# BOLNEGDIKSTKKN is a problem\n",
    "mbol.BOLBFCAFRACGCD .eviews\n"
   ]
  },
  {
   "cell_type": "code",
   "execution_count": 77,
   "id": "e409e3cd",
   "metadata": {},
   "outputs": [
    {
     "data": {
      "text/plain": [
       "1980   20.0000000000\n",
       "1981   20.0000000000\n",
       "1982   20.0000000000\n",
       "1983   20.0000000000\n",
       "1984   20.0000000000\n",
       "            ...     \n",
       "2046   20.0000000000\n",
       "2047   20.0000000000\n",
       "2048   20.0000000000\n",
       "2049   20.0000000000\n",
       "2050   20.0000000000\n",
       "Name: BOLDEPR, Length: 71, dtype: object"
      ]
     },
     "execution_count": 77,
     "metadata": {},
     "output_type": "execute_result"
    }
   ],
   "source": [
    "baseline.BOLDEPR"
   ]
  },
  {
   "cell_type": "markdown",
   "id": "176f6a07",
   "metadata": {},
   "source": [
    "## Run the model \n",
    "In order to achieve numerical stability Gauss-Seidle has to be dampened: alfa=0.7 makes sure that the solution does not explode. \n",
    "The convergence criteria is tightend a lot. "
   ]
  },
  {
   "cell_type": "markdown",
   "id": "78c958a8",
   "metadata": {},
   "source": [
    "## And the simulation result is also fine. \n",
    "Here the percent difference is displayed"
   ]
  },
  {
   "cell_type": "code",
   "execution_count": null,
   "id": "e5816406",
   "metadata": {
    "scrolled": false
   },
   "outputs": [],
   "source": [
    "mbol['{cty}GGEXPCAPTCN {cty}NYGDPMKTPCN {cty}GGDBTTOTLCN {cty}BNCABFUNDCD'].dif.plot() "
   ]
  },
  {
   "cell_type": "markdown",
   "id": "5d090b2c",
   "metadata": {},
   "source": [
    "## Look at a stochastic variable \n",
    "Here the equations undergo more phases "
   ]
  },
  {
   "cell_type": "code",
   "execution_count": null,
   "id": "0f85a82d",
   "metadata": {},
   "outputs": [],
   "source": [
    "all_about_bol.all_frml_dict['bolBFCAFCAPTCD'].fprint"
   ]
  },
  {
   "cell_type": "markdown",
   "id": "781c433d",
   "metadata": {},
   "source": [
    "## Look a all the modelflow frmls\n",
    "Notice after the \"original\" model the equations for the \"fitted\" values have been added. <br>\n",
    "Also in the end of the listing the specification of the model which calculates the add factors if a variable is fixed. When processing the equations the ```model``` class will process this this model separately and create a model instance \n",
    "which is used to calculate add factors in case "
   ]
  },
  {
   "cell_type": "code",
   "execution_count": null,
   "id": "b9ae4d5d",
   "metadata": {},
   "outputs": [],
   "source": [
    "print(mbol.equations)"
   ]
  },
  {
   "cell_type": "code",
   "execution_count": null,
   "id": "239d4345",
   "metadata": {},
   "outputs": [],
   "source": [
    "mbol.modeldump('test.pcim')"
   ]
  },
  {
   "cell_type": "code",
   "execution_count": null,
   "id": "7c44f4d0",
   "metadata": {},
   "outputs": [],
   "source": [
    "!dir *.pcim"
   ]
  },
  {
   "cell_type": "code",
   "execution_count": null,
   "id": "4f225a58",
   "metadata": {},
   "outputs": [],
   "source": []
  }
 ],
 "metadata": {
  "celltoolbar": "Tags",
  "hide_input": false,
  "kernelspec": {
   "display_name": "Python 3 (ipykernel)",
   "language": "python",
   "name": "python3"
  },
  "language_info": {
   "codemirror_mode": {
    "name": "ipython",
    "version": 3
   },
   "file_extension": ".py",
   "mimetype": "text/x-python",
   "name": "python",
   "nbconvert_exporter": "python",
   "pygments_lexer": "ipython3",
   "version": "3.12.6"
  },
  "toc": {
   "base_numbering": 1,
   "nav_menu": {},
   "number_sections": false,
   "sideBar": true,
   "skip_h1_title": true,
   "title_cell": "Table of Contents",
   "title_sidebar": "Contents",
   "toc_cell": false,
   "toc_position": {},
   "toc_section_display": true,
   "toc_window_display": false
  },
  "varInspector": {
   "cols": {
    "lenName": 16,
    "lenType": 16,
    "lenVar": 40
   },
   "kernels_config": {
    "python": {
     "delete_cmd_postfix": "",
     "delete_cmd_prefix": "del ",
     "library": "var_list.py",
     "varRefreshCmd": "print(var_dic_list())"
    },
    "r": {
     "delete_cmd_postfix": ") ",
     "delete_cmd_prefix": "rm(",
     "library": "var_list.r",
     "varRefreshCmd": "cat(var_dic_list()) "
    }
   },
   "position": {
    "height": "523.849px",
    "left": "1662.61px",
    "right": "20px",
    "top": "45.9915px",
    "width": "800px"
   },
   "types_to_exclude": [
    "module",
    "function",
    "builtin_function_or_method",
    "instance",
    "_Feature"
   ],
   "window_display": false
  }
 },
 "nbformat": 4,
 "nbformat_minor": 5
}
