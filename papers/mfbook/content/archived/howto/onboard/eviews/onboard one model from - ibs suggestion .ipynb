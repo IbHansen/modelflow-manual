{
 "cells": [
  {
   "cell_type": "markdown",
   "id": "fb69443b",
   "metadata": {},
   "source": [
    "(onboardone)=\n",
    "# Import a World Bank Eviews model from its solution file (.wf1)\n",
    "This notebook takes a .wf1 workfile and transforms it into a modelflow model.\n",
    "\n",
    "Most standard World Bank models should work with limited intervention.  Some using unusual techniques or variable definitions may require intervention by the user.\n",
    "\n",
    "## Overview of the import process\n",
    "\n",
    "The overall import process is performed by a special a ModelFlow class named:**GrabWfModel**. Certain steps require the use of EViews itself.  This howoto was designed usinng EViews version 12, but and has been tested with versions 13 and 14.\n",
    "\n",
    "Steps to follow:\n",
    " 1. Start EViews and open the solution file \n",
    "    -    If returning to this step after an initial error perform transformations on the data (needed in some cases where special EViews functions are used in the model).\n",
    "    -    The UNlink the model. This transforms linked equations into explicit equations in the EViews model object. \n",
    "    -    Save the revised model and data as a .wf2 file. (the .wf2 is a JSON format that can be easily read into python).\n",
    "    **QCVD?  Same name with ```_modelflow appended```**\n",
    " 5. Close Eviews.\n",
    " 6. The wf2 file is read as a json file. \n",
    " 7. Relevant objects are extracted. \n",
    " 7. The MFMSA variable is  extracted, to be saved in the dumpfile. \n",
    " 8. The equations are transformed and normalized to modelflow format and classified into identities and stochastic\n",
    " 9. Stochastic equations are enriched by add_factor and fixing terms (dummy + fixing value)  \n",
    " 9. For Stochastic equations new fitted variables are generated - without add add_factors and dummies.  \n",
    " 9. A model to generate fitted variables is created  \n",
    " 9. A model to generate add_factors is created. \n",
    " 9. A model encompassing the original equations, the model for fitted variables and for add_factors is created. \n",
    " 9. The data series and scalars are shoveled into a Pandas dataframe \n",
    "     - Some special series are generated as the expression can not be incorporated into modelflow model specifications\n",
    "     - The model for fitted values is simulated in the specified timespan\n",
    "     - The model for add_factors is simulated in the timespan set in MFMSA\n",
    " 10. The data descriptions are extracted into a dictionary. \n",
    "    - Data descriptions for dummies, fixed values, fitted values and add_factors are derived. \n",
    " 11. Now we have a model and a dataframe with all variables which are needed.\n",
    " \n",
    "The GrapWfModel instance in general keeps most of the steps so the developer can inspect the the different steps.  \n"
   ]
  },
  {
   "cell_type": "markdown",
   "id": "55349107",
   "metadata": {},
   "source": [
    "## Prerequisites  \n",
    "\n",
    "The import process requires EViews and tehrefore cannot be run on a non-windows computerthat does not have EViews 12 or later installed.  It also assumes that the python library `pyeviews` has been installed (`conda install pyeviews`).  `pyeviews` uses the EViews com interface to control eviews, allowing a python script to directly manipulate parts of the eviews model using eviews itself.  This is required only for the import process.\n"
   ]
  },
  {
   "cell_type": "code",
   "execution_count": 4,
   "id": "fa9578fb",
   "metadata": {},
   "outputs": [
    {
     "data": {
      "text/html": [
       "\n",
       "        <style>\n",
       "            div#notebook-container    { width: 95%; }\n",
       "            div#menubar-container     { width: 65%; }\n",
       "            div#maintoolbar-container { width: 99%; }\n",
       "        </style>\n",
       "        "
      ],
      "text/plain": [
       "<IPython.core.display.HTML object>"
      ]
     },
     "metadata": {},
     "output_type": "display_data"
    },
    {
     "data": {
      "application/javascript": [
       "\n",
       "                    IPython.OutputArea.prototype._should_scroll = function(lines){\n",
       "                        return false;\n",
       "                    }\n",
       "                "
      ],
      "text/plain": [
       "<IPython.core.display.Javascript object>"
      ]
     },
     "metadata": {},
     "output_type": "display_data"
    }
   ],
   "source": [
    "from pathlib import Path\n",
    "\n",
    "from modelclass import model \n",
    "from modelgrabwf2 import GrabWfModel  #this is the class (part of the Modelflow Library) that will translate\n",
    "                                      # the ewbvis model and equations into modelflow business logic and\n",
    "                                      # import the data into pandas\n",
    "model.widescreen() # Makes modelflow aware we may be running under a wider than normal screem\n",
    "model.scroll_off() # tells modelflow not to scroll outputs"
   ]
  },
  {
   "cell_type": "code",
   "execution_count": 5,
   "id": "6d7d7ac6",
   "metadata": {
    "tags": [
     "raises-exception"
    ]
   },
   "outputs": [
    {
     "name": "stdout",
     "output_type": "stream",
     "text": [
      "\n",
      "Reading c:\\modelflow manual\\papers\\mfbook\\content\\archived\\howto\\onboard\\eviews\\wfs\\bolsoln.wf1\n",
      "Assummed model name: BOL\n",
      "The model: BOL is unlinked \n",
      "Writing C:\\modelflow manual\\papers\\mfbook\\content\\archived\\howto\\onboard\\eviews\\wfs\\bolsoln_modelflow.wf2\n",
      "Model name: BOL\n",
      "\n",
      "Processing the model:BOL\n",
      "Check for Eviews @ which are not caught in the translation\n",
      "Probably errors as @ in lines:\n",
      "\n",
      "Eviews line      :@IDENTITY BOLBFCAF2BOP_  = (1  - @DURING(\"1980 2021\"))  * @between(reserveRatio3  , 1  / 2  , 100000)  * reserveRatio3\n",
      "Original line     :@IDENTITY BOLBFCAF2BOP_  = (1  - DURING_1980_2021)  * @BETWEEN(RESERVERATIO3  , 1  / 2  , 100000)  * RESERVERATIO3\n",
      "New modelflow line:BOLBFCAF2BOP_=(1-DURING_1980_2021)*@BETWEEN(RESERVERATIO3,1/2,100000)*RESERVERATIO3\n"
     ]
    },
    {
     "ename": "Exception",
     "evalue": "@ in lines ",
     "output_type": "error",
     "traceback": [
      "\u001b[1;31m---------------------------------------------------------------------------\u001b[0m",
      "\u001b[1;31mException\u001b[0m                                 Traceback (most recent call last)",
      "Cell \u001b[1;32mIn[5], line 1\u001b[0m\n\u001b[1;32m----> 1\u001b[0m all_about_mda \u001b[38;5;241m=\u001b[39m \u001b[43mGrabWfModel\u001b[49m\u001b[43m(\u001b[49m\u001b[38;5;124;43mr\u001b[39;49m\u001b[38;5;124;43m'\u001b[39;49m\u001b[38;5;124;43mwfs\u001b[39;49m\u001b[38;5;124;43m\\\u001b[39;49m\u001b[38;5;124;43mbolsoln.wf1\u001b[39;49m\u001b[38;5;124;43m'\u001b[39;49m\u001b[43m,\u001b[49m\u001b[43m \u001b[49m\n\u001b[0;32m      2\u001b[0m \u001b[43m                  \u001b[49m\u001b[38;5;66;43;03m#eviews_run_lines= mda_eviews_run_lines,\u001b[39;49;00m\n\u001b[0;32m      3\u001b[0m \u001b[43m                  \u001b[49m\u001b[38;5;66;43;03m#country_trans    =  mda_trans,\u001b[39;49;00m\n\u001b[0;32m      4\u001b[0m \u001b[43m                    \u001b[49m\u001b[43mmake_fitted\u001b[49m\u001b[43m \u001b[49m\u001b[38;5;241;43m=\u001b[39;49m\u001b[43m \u001b[49m\u001b[38;5;28;43;01mTrue\u001b[39;49;00m\u001b[43m,\u001b[49m\u001b[43m        \u001b[49m\u001b[38;5;66;43;03m# make equatios for fitted values of stocastic equations \u001b[39;49;00m\n\u001b[0;32m      5\u001b[0m \u001b[43m                    \u001b[49m\u001b[43mdo_add_factor_calc\u001b[49m\u001b[38;5;241;43m=\u001b[39;49m\u001b[38;5;28;43;01mTrue\u001b[39;49;00m\u001b[43m,\u001b[49m\u001b[43m   \u001b[49m\u001b[38;5;66;43;03m# Calculate the add factors which makes the stocastic equations match    \u001b[39;49;00m\n\u001b[0;32m      6\u001b[0m \u001b[43m                    \u001b[49m\u001b[43mfit_start\u001b[49m\u001b[43m \u001b[49m\u001b[38;5;241;43m=\u001b[39;49m\u001b[43m \u001b[49m\u001b[38;5;241;43m2000\u001b[39;49m\u001b[43m,\u001b[49m\u001b[43m          \u001b[49m\u001b[38;5;66;43;03m# Start of calculation of fittet model in baseline (to have some historic values) \u001b[39;49;00m\n\u001b[0;32m      7\u001b[0m \u001b[43m                    \u001b[49m\u001b[43mfit_end\u001b[49m\u001b[43m   \u001b[49m\u001b[38;5;241;43m=\u001b[39;49m\u001b[43m \u001b[49m\u001b[38;5;28;43;01mNone\u001b[39;49;00m\u001b[43m,\u001b[49m\u001b[43m           \u001b[49m\u001b[38;5;66;43;03m# end of calc for fittted model, if None taken from mdmfsa options  \u001b[39;49;00m\n\u001b[0;32m      8\u001b[0m \u001b[43m                    \u001b[49m\u001b[43mdisable_progress\u001b[49m\u001b[43m \u001b[49m\u001b[38;5;241;43m=\u001b[39;49m\u001b[38;5;28;43;01mTrue\u001b[39;49;00m\u001b[43m     \u001b[49m\u001b[38;5;66;43;03m# Better for jupyter book \u001b[39;49;00m\n\u001b[0;32m      9\u001b[0m \u001b[43m                           \u001b[49m\u001b[43m)\u001b[49m \n",
      "File \u001b[1;32m<string>:22\u001b[0m, in \u001b[0;36m__init__\u001b[1;34m(self, filename, modelname, freq, eviews_run_lines, start, end, country_trans, country_df_trans, make_fitted, fit_start, fit_end, do_add_factor_calc, test_frml, disable_progress, save_file, model_description, cty, cty_name)\u001b[0m\n",
      "File \u001b[1;32mC:\\modelflow2\\modelflow\\modelgrabwf2.py:310\u001b[0m, in \u001b[0;36mGrabWfModel.__post_init__\u001b[1;34m(self)\u001b[0m\n\u001b[0;32m    308\u001b[0m         \u001b[38;5;28mprint\u001b[39m(\u001b[38;5;124mf\u001b[39m\u001b[38;5;124m'\u001b[39m\u001b[38;5;124mOriginal line     :\u001b[39m\u001b[38;5;132;01m{\u001b[39;00mo\u001b[38;5;132;01m}\u001b[39;00m\u001b[38;5;124m'\u001b[39m)\n\u001b[0;32m    309\u001b[0m         \u001b[38;5;28mprint\u001b[39m(\u001b[38;5;124mf\u001b[39m\u001b[38;5;124m'\u001b[39m\u001b[38;5;124mNew modelflow line:\u001b[39m\u001b[38;5;132;01m{\u001b[39;00ml\u001b[38;5;132;01m}\u001b[39;00m\u001b[38;5;124m'\u001b[39m)\n\u001b[1;32m--> 310\u001b[0m     \u001b[38;5;28;01mraise\u001b[39;00m \u001b[38;5;167;01mException\u001b[39;00m(\u001b[38;5;124m'\u001b[39m\u001b[38;5;124m@ in lines \u001b[39m\u001b[38;5;124m'\u001b[39m)\n\u001b[0;32m    312\u001b[0m \u001b[38;5;28mself\u001b[39m\u001b[38;5;241m.\u001b[39mall_frml \u001b[38;5;241m=\u001b[39m [nz\u001b[38;5;241m.\u001b[39mnormal(l,add_add_factor\u001b[38;5;241m=\u001b[39m(typ\u001b[38;5;241m==\u001b[39m\u001b[38;5;124m'\u001b[39m\u001b[38;5;124mstoc\u001b[39m\u001b[38;5;124m'\u001b[39m),make_fitted\u001b[38;5;241m=\u001b[39m(typ\u001b[38;5;241m==\u001b[39m\u001b[38;5;124m'\u001b[39m\u001b[38;5;124mstoc\u001b[39m\u001b[38;5;124m'\u001b[39m),make_fixable \u001b[38;5;241m=\u001b[39m(typ\u001b[38;5;241m==\u001b[39m\u001b[38;5;124m'\u001b[39m\u001b[38;5;124mstoc\u001b[39m\u001b[38;5;124m'\u001b[39m),eviews\u001b[38;5;241m=\u001b[39me) \n\u001b[0;32m    313\u001b[0m                  \u001b[38;5;28;01mfor\u001b[39;00m l,typ,e \u001b[38;5;129;01min\u001b[39;00m tqdm(\u001b[38;5;28mzip\u001b[39m(line,line_type,eviewsline),\n\u001b[0;32m    314\u001b[0m             desc\u001b[38;5;241m=\u001b[39m\u001b[38;5;124m'\u001b[39m\u001b[38;5;124mNormalizing model\u001b[39m\u001b[38;5;124m'\u001b[39m,total\u001b[38;5;241m=\u001b[39m\u001b[38;5;28mlen\u001b[39m(line),bar_format\u001b[38;5;241m=\u001b[39mbars,disable\u001b[38;5;241m=\u001b[39m\u001b[38;5;28mself\u001b[39m\u001b[38;5;241m.\u001b[39mdisable_progress)]\n\u001b[0;32m    316\u001b[0m syntaxlines \u001b[38;5;241m=\u001b[39m [f \u001b[38;5;28;01mfor\u001b[39;00m f \u001b[38;5;129;01min\u001b[39;00m tqdm(\u001b[38;5;28mself\u001b[39m\u001b[38;5;241m.\u001b[39mall_frml, \n\u001b[0;32m    317\u001b[0m                  desc\u001b[38;5;241m=\u001b[39m\u001b[38;5;124m'\u001b[39m\u001b[38;5;124mSyntax check\u001b[39m\u001b[38;5;124m'\u001b[39m,total\u001b[38;5;241m=\u001b[39m\u001b[38;5;28mlen\u001b[39m(\u001b[38;5;28mself\u001b[39m\u001b[38;5;241m.\u001b[39mall_frml),bar_format\u001b[38;5;241m=\u001b[39mbars,disable\u001b[38;5;241m=\u001b[39m\u001b[38;5;28mself\u001b[39m\u001b[38;5;241m.\u001b[39mdisable_progress)\n\u001b[0;32m    318\u001b[0m                \u001b[38;5;28;01mif\u001b[39;00m \u001b[38;5;129;01mnot\u001b[39;00m mp\u001b[38;5;241m.\u001b[39mcheck_syntax_udtryk(f\u001b[38;5;241m.\u001b[39mnormalized)]\n",
      "\u001b[1;31mException\u001b[0m: @ in lines "
     ]
    }
   ],
   "source": [
    "\n",
    "all_about_mda = GrabWfModel(r'wfs\\bolsoln.wf1', \n",
    "                  #eviews_run_lines= mda_eviews_run_lines,\n",
    "                  #country_trans    =  mda_trans,\n",
    "                    make_fitted = True,        # make equatios for fitted values of stocastic equations \n",
    "                    do_add_factor_calc=True,   # Calculate the add factors which makes the stocastic equations match    \n",
    "                    fit_start = 2000,          # Start of calculation of fittet model in baseline (to have some historic values) \n",
    "                    fit_end   = None,           # end of calc for fittted model, if None taken from mdmfsa options  \n",
    "                    disable_progress =True     # Better for jupyter book \n",
    "                           ) "
   ]
  },
  {
   "cell_type": "markdown",
   "id": "f94bdc50",
   "metadata": {},
   "source": [
    "## Debugging the error\n",
    "\n",
    "\n",
    "GrabWfModel knows some Eviews @<functions> but not all. As we can see from the line: \n",
    "\n",
    " >New modelflow line:BOLBFCAF2BOP_=(1-DURING_1980_2021)*@BETWEEN(RESERVERATIO3,1/2,100000)*RESERVERATIO3\n",
    "\n",
    " GrabWfModel can not make @Between go away. That is causing trouble.\n",
    "\n",
    "The EViews help tells us:\n",
    "\n",
    "```\n",
    "@between(series, val1, val2)  Creates a dummy variable equal to 1 for observations where series is greater than or equal to val1 and less than or equal to val2.\n",
    "```\n",
    "\n",
    "In python @between(series, val1, val2) is equivalent to: \n",
    "    \n",
    " >  (1. * float(val1 <= series <= val2)))  \n",
    "    \n",
    "We can reproduce the logic by adding a python commmand to perform the substitution of @between in the equation with a equivalent \n",
    "python expression \n",
    "\n",
    "\n",
    "```BOL_trans = lambda text: re.sub(\n",
    "    r\"@BETWEEN\\(\\s*(\\w+)\\s*,\\s*([^,]+)\\s*,\\s*([^)]+)\\s*\\)\",\n",
    "    r\"(1.0*float(\\1 <= \\2 <= \\3))\",\n",
    "    text\n",
    ")```\n"
   ]
  },
  {
   "cell_type": "code",
   "execution_count": 7,
   "id": "4ade8e95",
   "metadata": {},
   "outputs": [
    {
     "name": "stdout",
     "output_type": "stream",
     "text": [
      "(1.0*float(3 <= 1  / 2   <= 100000))\n"
     ]
    }
   ],
   "source": [
    "import re\n",
    "BOL_trans = lambda text: re.sub(\n",
    "    r\"@BETWEEN\\(\\s*(\\w+)\\s*,\\s*([^,]+)\\s*,\\s*([^)]+)\\s*\\)\",\n",
    "    r\"(1.0*float(\\1 <= \\2 <= \\3))\",\n",
    "    text\n",
    ")\n",
    "\n",
    "\n",
    "# Usage example\n",
    "text = '@BETWEEN(3  , 1  / 2  , 100000)'\n",
    "result = BOL_trans(text)\n",
    "\n",
    "print(result)\n"
   ]
  },
  {
   "cell_type": "code",
   "execution_count": 8,
   "id": "0209bbbf",
   "metadata": {},
   "outputs": [
    {
     "name": "stdout",
     "output_type": "stream",
     "text": [
      "1.0*((1  / 2)   <= 30 <= 100000)=1.0\n",
      "1.0*((1  / 2)   <= 30000 <= 100000)=1.0\n",
      "1.0*((1  / 2)   <= 0 <= 100000)=0.0\n"
     ]
    }
   ],
   "source": [
    "# some results \n",
    "print(f'{1.0*((1  / 2)   <= 30 <= 100000)=}')\n",
    "print(f'{1.0*((1  / 2)   <= 30000 <= 100000)=}')\n",
    "print(f'{1.0*((1  / 2)   <= 0 <= 100000)=}')"
   ]
  },
  {
   "cell_type": "code",
   "execution_count": 10,
   "id": "4b3120b2",
   "metadata": {},
   "outputs": [
    {
     "name": "stdout",
     "output_type": "stream",
     "text": [
      "\n",
      "Reading c:\\modelflow manual\\papers\\mfbook\\content\\archived\\howto\\onboard\\eviews\\wfs\\bolsoln.wf1\n",
      "Assummed model name: BOL\n",
      "The model: BOL is unlinked \n",
      "Writing C:\\modelflow manual\\papers\\mfbook\\content\\archived\\howto\\onboard\\eviews\\wfs\\bolsoln_modelflow.wf2\n",
      "Model name: BOL\n",
      "\n",
      "Processing the model:BOL\n",
      "Check for Eviews @ which are not caught in the translation\n",
      "Default WB var_group loaded\n",
      "Variable description in wf1 file read\n",
      "Default WB var_description loaded self.cty='' len(var_description)=16\n",
      "var_description loaded from WF len(this)=301\n",
      "testmodel calculated  \n",
      "Calculation of add factors for BOL calculated  \n"
     ]
    },
    {
     "name": "stderr",
     "output_type": "stream",
     "text": [
      "C:\\modelflow2\\modelflow\\modelgrabwf2.py:579: FutureWarning: Downcasting object dtype arrays on .fillna, .ffill, .bfill is deprecated and will change in a future version. Call result.infer_objects(copy=False) instead. To opt-in to the future behavior, set `pd.set_option('future.no_silent_downcasting', True)`\n",
      "  df_out = self.mmodel.insertModelVar(df).pipe(self.country_df_trans).fillna(0.0)\n"
     ]
    }
   ],
   "source": [
    "\n",
    "BOL_trans=lambda text: re.sub(\n",
    "    r\"@between\\(\\s*(\\w+)\\s*,\\s*([^,]+)\\s*,\\s*([^)]+)\\s*\\)\",\n",
    "    r\"(1.0*float(\\1 <= \\2 <= \\3))\",\n",
    "    text\n",
    ")\n",
    "all_about_mda = GrabWfModel(r'wfs\\bolsoln.wf1', \n",
    "                  country_trans    =  BOL_trans,\n",
    "                    make_fitted = True,        # make equatios for fitted values of stocastic equations \n",
    "                    do_add_factor_calc=True,   # Calculate the add factors which makes the stocastic equations match    \n",
    "                    fit_start = 2000,          # Start of calculation of fittet model in baseline (to have some historic values) \n",
    "                    fit_end   = None,           # end of calc for fittted model, if None taken from mdmfsa options  \n",
    "                    disable_progress =True     # Better for jupyter book \n",
    "                           ) "
   ]
  },
  {
   "cell_type": "markdown",
   "id": "38c42e1f",
   "metadata": {},
   "source": [
    "## Check if each equation on its own result in the values provided. \n",
    "aka: residual check <br> \n",
    "If they are not pretty close, something is very wrong. "
   ]
  },
  {
   "cell_type": "code",
   "execution_count": 11,
   "id": "502baa5d",
   "metadata": {},
   "outputs": [
    {
     "name": "stdout",
     "output_type": "stream",
     "text": [
      "BOL calculated  \n",
      "\n",
      "Chekking residuals for BOL 2015 to 2030\n",
      "\n",
      "Variable with residuals above threshold\n",
      "BOLNYGDPPOTLKN              , Max difference:   121.79006866 Max Pct    0.2060497541% It is number    49 in the solveorder and error number 1\n",
      "BOLBFCAFRACGCD              , Max difference:   153.81440796 Max Pct    8.9638164261% It is number   142 in the solveorder and error number 2\n",
      "BOLNEGDIKSTKKN              , Max difference:   790.08766813 Max Pct    0.5305890811% It is number   212 in the solveorder and error number 3\n",
      "BOLBFCAF2BOP_               , Max difference:     1.49093138 Max Pct  100.0000000000% It is number   221 in the solveorder and error number 4\n"
     ]
    }
   ],
   "source": [
    "all_about_mda.test_model(all_about_mda.start,all_about_mda.end,maxerr=100,tol=1,showall=0)   # tol determins the max acceptable absolute difference "
   ]
  },
  {
   "cell_type": "markdown",
   "id": "540645a4",
   "metadata": {},
   "source": [
    "## Extract the model and the baseline\n",
    "**all_about_mda** has a lot of content including. \n",
    "- .mmodel is the model instance\n",
    "- .base_input is the baseline where the add factors and the fitted values are calculated "
   ]
  },
  {
   "cell_type": "code",
   "execution_count": 12,
   "id": "f6a336f5",
   "metadata": {},
   "outputs": [],
   "source": [
    "mmda    = all_about_mda.mmodel       # the model instance  \n",
    "baseline = all_about_mda.base_input"
   ]
  },
  {
   "cell_type": "markdown",
   "id": "176f6a07",
   "metadata": {},
   "source": [
    "## Run the model \n",
    "In order to achieve numerical stability Gauss-Seidle has to be dampened: alfa=0.7 makes sure that the solution does not explode. \n",
    "The convergence criteria is tightend a lot. "
   ]
  },
  {
   "cell_type": "code",
   "execution_count": 22,
   "id": "8019ced1",
   "metadata": {},
   "outputs": [
    {
     "name": "stdout",
     "output_type": "stream",
     "text": [
      "Will start solving: BOL\n",
      "Reusing the solver as no new data \n",
      "2016 Solved in 6 iterations\n",
      "2017 Solved in 6 iterations\n",
      "2018 Solved in 6 iterations\n",
      "2019 Solved in 6 iterations\n",
      "2020 Solved in 6 iterations\n",
      "2021 Solved in 6 iterations\n",
      "2022 Solved in 6 iterations\n",
      "2023 Solved in 6 iterations\n",
      "2024 Solved in 6 iterations\n",
      "2025 Solved in 65 iterations\n",
      ">> Error in     : BOL\n",
      ">> In           : 2025\n",
      ">> varposition   : 197\n",
      ">> Equation     : FRML <FIT> BOLFISCASHCN_FITTED = BOLFISCASHCN(-1)*EXP( (((LOG(BOLBCBEMISCN))-(LOG(BOLBCBEMISCN(-1))))-0.00236125559643038*DUMH) ) $\n",
      "A snapshot of the data at the error point is at .errdump \n",
      "Also the .lastdf contains .errdump,  for inspecting \n",
      "\n",
      "Calculations of BOLFISCASHCN_FITTED \n",
      "FRML <FIT> BOLFISCASHCN_FITTED = BOLFISCASHCN(-1)*EXP( (((LOG(BOLBCBEMISCN))-(LOG(BOLBCBEMISCN(-1))))-0.00236125559643038*DUMH) ) $\n",
      "\n",
      "Looking at period:2025\n",
      "BOLFISCASHCN_FITTED =    114600.4986732296\n",
      "BOLBCBEMISCN        =  -371514.50199609896\n",
      "BOLBCBEMISCN(-1)    =   59178.511079121796\n",
      "BOLFISCASHCN(-1)    =   51873.535738859435\n",
      "DUMH                =                  0.0\n"
     ]
    },
    {
     "ename": "ValueError",
     "evalue": "math domain error",
     "output_type": "error",
     "traceback": [
      "\u001b[1;31m---------------------------------------------------------------------------\u001b[0m",
      "\u001b[1;31mValueError\u001b[0m                                Traceback (most recent call last)",
      "Cell \u001b[1;32mIn[22], line 1\u001b[0m\n\u001b[1;32m----> 1\u001b[0m res \u001b[38;5;241m=\u001b[39m \u001b[43mmmda\u001b[49m\u001b[43m(\u001b[49m\u001b[43mall_about_mda\u001b[49m\u001b[38;5;241;43m.\u001b[39;49m\u001b[43mbase_input\u001b[49m\u001b[43m,\u001b[49m\u001b[38;5;241;43m2016\u001b[39;49m\u001b[43m,\u001b[49m\u001b[38;5;241;43m2040\u001b[39;49m\u001b[43m,\u001b[49m\u001b[43msilent\u001b[49m\u001b[38;5;241;43m=\u001b[39;49m\u001b[38;5;241;43m0\u001b[39;49m\u001b[43m,\u001b[49m\u001b[43malfa\u001b[49m\u001b[38;5;241;43m=\u001b[39;49m\u001b[38;5;241;43m0.3\u001b[39;49m\u001b[43m,\u001b[49m\u001b[43mldumpvar\u001b[49m\u001b[38;5;241;43m=\u001b[39;49m\u001b[38;5;241;43m0\u001b[39;49m\u001b[43m,\u001b[49m\u001b[43m)\u001b[49m\n\u001b[0;32m      2\u001b[0m mmda\u001b[38;5;241m.\u001b[39mbasedf \u001b[38;5;241m=\u001b[39m all_about_mda\u001b[38;5;241m.\u001b[39mbase_input\n",
      "File \u001b[1;32mC:\\modelflow2\\modelflow\\modelclass.py:6301\u001b[0m, in \u001b[0;36mSolver_Mixin.__call__\u001b[1;34m(self, *args, **kwargs)\u001b[0m\n\u001b[0;32m   6297\u001b[0m \u001b[38;5;28mself\u001b[39m\u001b[38;5;241m.\u001b[39mmodel_solver \u001b[38;5;241m=\u001b[39m \u001b[38;5;28mgetattr\u001b[39m(\u001b[38;5;28mself\u001b[39m, solver)\n\u001b[0;32m   6299\u001b[0m \u001b[38;5;66;03m# print(f'solver:{solver},solverkwargs:{newkwargs}')\u001b[39;00m\n\u001b[0;32m   6300\u001b[0m \u001b[38;5;66;03m# breakpoint()\u001b[39;00m\n\u001b[1;32m-> 6301\u001b[0m outdf \u001b[38;5;241m=\u001b[39m \u001b[38;5;28;43mself\u001b[39;49m\u001b[38;5;241;43m.\u001b[39;49m\u001b[43mmodel_solver\u001b[49m\u001b[43m(\u001b[49m\u001b[38;5;241;43m*\u001b[39;49m\u001b[43margs\u001b[49m\u001b[43m,\u001b[49m\u001b[43m \u001b[49m\u001b[38;5;241;43m*\u001b[39;49m\u001b[38;5;241;43m*\u001b[39;49m\u001b[43mnewkwargs\u001b[49m\u001b[43m)\u001b[49m\n\u001b[0;32m   6304\u001b[0m \u001b[38;5;66;03m# now calculate adjustment factors if the calc adjust model is there \u001b[39;00m\n\u001b[0;32m   6305\u001b[0m \u001b[38;5;28;01mif\u001b[39;00m \u001b[38;5;28mself\u001b[39m\u001b[38;5;241m.\u001b[39msplit_calc_add_factor \u001b[38;5;129;01mand\u001b[39;00m do_calc_add_factor: \n\u001b[0;32m   6306\u001b[0m     \u001b[38;5;66;03m# breakpoint() \u001b[39;00m\n",
      "File \u001b[1;32mC:\\modelflow2\\modelflow\\modelclass.py:6611\u001b[0m, in \u001b[0;36mSolver_Mixin.sim\u001b[1;34m(self, databank, start, end, silent, samedata, alfa, stats, first_test, max_iterations, conv, absconv, relconv, stringjit, transpile_reset, dumpvar, init, ldumpvar, dumpwith, dumpdecimal, chunk, ljit, timeon, fairopt, progressbar, **kwargs)\u001b[0m\n\u001b[0;32m   6608\u001b[0m             \u001b[38;5;28;01melse\u001b[39;00m:\n\u001b[0;32m   6609\u001b[0m                 \u001b[38;5;28mprint\u001b[39m(\u001b[38;5;124mf\u001b[39m\u001b[38;5;124m'\u001b[39m\u001b[38;5;132;01m{\u001b[39;00m\u001b[38;5;28mself\u001b[39m\u001b[38;5;241m.\u001b[39mperiode\u001b[38;5;132;01m}\u001b[39;00m\u001b[38;5;124m not converged in \u001b[39m\u001b[38;5;132;01m{\u001b[39;00miteration\u001b[38;5;132;01m}\u001b[39;00m\u001b[38;5;124m iterations\u001b[39m\u001b[38;5;124m'\u001b[39m)\n\u001b[1;32m-> 6611\u001b[0m             \u001b[38;5;28;43mself\u001b[39;49m\u001b[38;5;241;43m.\u001b[39;49m\u001b[43mepi2d\u001b[49m\u001b[43m(\u001b[49m\u001b[43mvalues\u001b[49m\u001b[43m,\u001b[49m\u001b[43m \u001b[49m\u001b[43mvalues\u001b[49m\u001b[43m,\u001b[49m\u001b[43m \u001b[49m\u001b[43mrow\u001b[49m\u001b[43m,\u001b[49m\u001b[43m  \u001b[49m\u001b[38;5;241;43m1.0\u001b[39;49m\u001b[43m)\u001b[49m\n\u001b[0;32m   6612\u001b[0m             pbar\u001b[38;5;241m.\u001b[39mupdate()\n\u001b[0;32m   6613\u001b[0m endtime \u001b[38;5;241m=\u001b[39m time\u001b[38;5;241m.\u001b[39mtime()\n",
      "File \u001b[1;32m<string>:332\u001b[0m, in \u001b[0;36mepilog\u001b[1;34m(values, outvalues, row, alfa)\u001b[0m\n",
      "File \u001b[1;32m<string>:265\u001b[0m, in \u001b[0;36mepilog2\u001b[1;34m(values, outvalues, row, alfa)\u001b[0m\n",
      "\u001b[1;31mValueError\u001b[0m: math domain error"
     ]
    }
   ],
   "source": [
    "res = mmda(all_about_mda.base_input,2016,2040,silent=0,alfa=0.3,ldumpvar=0,)\n",
    "mmda.basedf = all_about_mda.base_input"
   ]
  },
  {
   "cell_type": "markdown",
   "id": "78c958a8",
   "metadata": {},
   "source": [
    "## And the simulation result is also fine. \n",
    "Here the percent difference is displayed"
   ]
  },
  {
   "cell_type": "code",
   "execution_count": 17,
   "id": "e5816406",
   "metadata": {
    "scrolled": false
   },
   "outputs": [
    {
     "data": {
      "image/png": "[encoded data removed]",
      "text/plain": [
       "<Figure size 1000x400 with 4 Axes>"
      ]
     },
     "metadata": {},
     "output_type": "display_data"
    },
    {
     "data": {
      "image/png": "[encoded data removed]",
      "text/plain": [
       "<Figure size 1000x400 with 4 Axes>"
      ]
     },
     "execution_count": 17,
     "metadata": {},
     "output_type": "execute_result"
    }
   ],
   "source": [
    "mmda['{cty}GGEXPCAPTCN {cty}NYGDPMKTPCN {cty}GGDBTTOTLCN {cty}BNCABFUNDCD'].dif.plot() "
   ]
  },
  {
   "cell_type": "markdown",
   "id": "5d090b2c",
   "metadata": {},
   "source": [
    "## Look at a stochastic variable \n",
    "Here the equations undergo more phases "
   ]
  },
  {
   "cell_type": "code",
   "execution_count": null,
   "id": "0f85a82d",
   "metadata": {},
   "outputs": [],
   "source": [
    "all_about_mda.all_frml_dict['MDABFCAFCAPTCD'].fprint"
   ]
  },
  {
   "cell_type": "markdown",
   "id": "781c433d",
   "metadata": {},
   "source": [
    "## Look a all the modelflow frmls\n",
    "Notice after the \"original\" model the equations for the \"fitted\" values have been added. <br>\n",
    "Also in the end of the listing the specification of the model which calculates the add factors if a variable is fixed. When processing the equations the ```model``` class will process this this model separately and create a model instance \n",
    "which is used to calculate add factors in case "
   ]
  },
  {
   "cell_type": "code",
   "execution_count": 18,
   "id": "b9ae4d5d",
   "metadata": {
    "collapsed": true
   },
   "outputs": [
    {
     "name": "stdout",
     "output_type": "stream",
     "text": [
      "FRML <IDENT> BOLNYGDPPOTLKN = BOLNYGDPTFP*(BOLLMEMPSTRL**BOLNYYWBTOTLCN_)*(BOLNEGDIKSTKKN(-1)**(1-BOLNYYWBTOTLCN_)) $\n",
      "FRML <IDENT> BOLNYGDPPOTLKD = (BOLNYGDPPOTLKN*((BOLNYGDPMKTPCN_VALUE_2015)/((BOLNYGDPMKTPKN_VALUE_2015))))/(BOLPANUSATLS_VALUE_2015) $\n",
      "FRML <IDENT> BOLNYGDPGAP_ = ((BOLNYGDPMKTPKN/BOLNYGDPPOTLKN-1)*100) $\n",
      "FRML <IDENT> BOLNEGDIKSTKKN = BOLNEGDIKSTKKN(-1)*(1-BOLDEPR/100)+BOLNEGDIFTOTKN $\n",
      "FRML <IDENT> BOLNYKRTTOTLXN = BOLNEGDIFPRVXN*(BOLFMLBLLRLCFR/100+BOLNEKRTPREMFR/100+BOLDEPR/100-BOLINFLEXPT/100) $\n",
      "FRML <IDENT> BOLGDPPCKN = (BOLNYGDPMKTPKN/BOLSPPOPTOTL) $\n",
      "FRML <IDENT> BOLGDPPCKD = (BOLNYGDPMKTPKD/BOLSPPOPTOTL) $\n",
      "FRML <IDENT> BOLLMLBFTOTL = BOLLMPRTTOTL_/100*BOLSPPOPWORK $\n",
      "FRML <IDENT> BOLNYYWBTOTLCN = BOLNEWRTTOTLXN*BOLLMEMPTOTL $\n",
      "FRML <IDENT> BOLLMEMPSTRL = (1-BOLLMUNRSTRL_/100)*BOLLMPRTSTRL_/100*BOLSPPOPWORK $\n",
      "FRML <IDENT> BOLLMUNRTOTL_ = (1-BOLLMEMPTOTL/BOLLMLBFTOTL)*100 $\n",
      "FRML <IDENT> BOLNYGDPMKTPKN = BOLNECONPRVTKN+BOLNECONGOVTKN+BOLNEGDIFTOTKN+BOLNEGDISTKBKN+BOLNEEXPGNFSKN-BOLNEIMPGNFSKN+BOLNYGDPDISCKN $\n",
      "FRML <IDENT> BOLNEGDETTOTKN = (BOLNECONPRVTKN+BOLNECONGOVTKN+BOLNEGDIFTOTKN+BOLNEGDISTKBKN+BOLNYGDPDISCKN) $\n",
      "FRML <IDENT> BOLNEGDIFTOTKN = BOLNEGDIFGOVKN+BOLNEGDIFPRVKN $\n",
      "FRML <IDENT> BOLNEGDIFGOVKN = BOLNEGDIFGOVCN/BOLNEGDIFGOVXN $\n",
      "FRML <IDENT> BOLNECONGOVTKN = BOLNECONGOVTCN/BOLNECONGOVTXN $\n",
      "FRML <IDENT> BOLPSTAR = (BOLNEWRTTOTLXN**BOLNYYWBTOTLCN_*BOLNYKRTTOTLXN**(1-BOLNYYWBTOTLCN_))/(BOLNYGDPTFP*BOLNYYWBTOTLCN_**BOLNYYWBTOTLCN_*(1-BOLNYYWBTOTLCN_)**(1-BOLNYYWBTOTLCN_)) $\n",
      "FRML <IDENT> BOLNEGDIFTOTXN = BOLNEGDIFTOTCN/BOLNEGDIFTOTKN $\n",
      "FRML <IDENT> BOLNYGDPMKTPXN = BOLNYGDPMKTPCN/BOLNYGDPMKTPKN $\n",
      "FRML <IDENT> BOLNYGDPMKTPCN = BOLNECONPRVTCN+BOLNECONGOVTCN+BOLNEGDIFTOTCN+BOLNEGDISTKBCN+BOLNEEXPGNFSCN-BOLNEIMPGNFSCN+BOLNYGDPDISCCN $\n",
      "FRML <IDENT> BOLNEGDETTOTCN = (BOLNECONPRVTCN+BOLNECONGOVTCN+BOLNEGDIFTOTCN+BOLNEGDISTKBCN+BOLNYGDPDISCCN) $\n",
      "FRML <IDENT> BOLNECONPRVTCN = BOLNECONPRVTKN*BOLNECONPRVTXN $\n",
      "FRML <IDENT> BOLNEGDIFTOTCN = BOLNEGDIFGOVCN+BOLNEGDIFPRVCN $\n",
      "FRML <IDENT> BOLNEGDIFPRVCN = BOLNEGDIFPRVKN*BOLNEGDIFPRVXN $\n",
      "FRML <IDENT> BOLNEEXPGNFSCN = BOLNEEXPGNFSKN*BOLNEEXPGNFSXN $\n",
      "FRML <IDENT> BOLNEIMPGNFSCN = BOLNEIMPGNFSKN*BOLNEIMPGNFSXN $\n",
      "FRML <IDENT> BOLNEEXPGNFSCD = BOLNEEXPGNFSCN/BOLPANUSATLS $\n",
      "FRML <IDENT> BOLNEIMPGNFSCD = BOLNEIMPGNFSCN/BOLPANUSATLS $\n",
      "FRML <IDENT> BOLNEEXPGNFSKD = (BOLNEEXPGNFSKN*((BOLNEEXPGNFSCN_VALUE_2015)/((BOLNEEXPGNFSKN_VALUE_2015))))/(BOLPANUSATLS_VALUE_2015) $\n",
      "FRML <IDENT> BOLNEIMPGNFSKD = (BOLNEIMPGNFSKN*((BOLNEIMPGNFSCN_VALUE_2015)/((BOLNEIMPGNFSKN_VALUE_2015))))/(BOLPANUSATLS_VALUE_2015) $\n",
      "FRML <IDENT> BOLNEEXPGNFSXD = (BOLNEEXPGNFSCD/BOLNEEXPGNFSKD) $\n",
      "FRML <IDENT> BOLNEIMPGNFSXD = (BOLNEIMPGNFSCD/BOLNEIMPGNFSKD) $\n",
      "FRML <IDENT> BOLNYGDPMKTPCD = BOLNYGDPMKTPCN/BOLPANUSATLS $\n",
      "FRML <IDENT> BOLNYGDPMKTPKD = (BOLNYGDPMKTPKN*((BOLNYGDPMKTPCN_VALUE_2015)/((BOLNYGDPMKTPKN_VALUE_2015))))/(BOLPANUSATLS_VALUE_2015) $\n",
      "FRML <IDENT> BOLNYGDPMKTPXD = (BOLNYGDPMKTPCD/BOLNYGDPMKTPKD) $\n",
      "FRML <IDENT> BOLNYGDPFCSTKN = BOLNYGDPMKTPKN-BOLNYTAXNINDKN $\n",
      "FRML <IDENT> BOLNVSRVTOTLKN = BOLNYGDPFCSTKN-BOLNVAGRTOTLKN-BOLNVINDTOTLKN $\n",
      "FRML <IDENT> BOLNVSRVTOTLXN = BOLNVSRVTOTLCN/BOLNVSRVTOTLKN $\n",
      "FRML <IDENT> BOLNYGDPFCSTCN = BOLNYGDPFCSTXN*BOLNYGDPFCSTKN $\n",
      "FRML <IDENT> BOLNYTAXNINDCN = BOLNYGDPMKTPCN-BOLNYGDPFCSTCN $\n",
      "FRML <IDENT> BOLNVAGRTOTLCN = BOLNVAGRTOTLKN*BOLNVAGRTOTLXN $\n",
      "FRML <IDENT> BOLNVINDTOTLCN = BOLNVINDTOTLKN*BOLNVINDTOTLXN $\n",
      "FRML <IDENT> BOLNVSRVTOTLCN = BOLNYGDPFCSTCN-BOLNVAGRTOTLCN-BOLNVINDTOTLCN $\n",
      "FRML <IDENT> BOLEXR05 = BOLPANUSATLS/(BOLPANUSATLS_VALUE_2015) $\n",
      "FRML <IDENT> BOLPCEXN05 = BOLNECONPRVTXN/(BOLNECONPRVTXN_VALUE_2015) $\n",
      "FRML <IDENT> BRAEXR05 = BRAPANUSATLS/(BRAPANUSATLS_VALUE_2015) $\n",
      "FRML <IDENT> BRAPCEXN05 = BRANECONPRVTXN/(BRANECONPRVTXN_VALUE_2015) $\n",
      "FRML <IDENT> USAEXR05 = USAPANUSATLS/(USAPANUSATLS_VALUE_2015) $\n",
      "FRML <IDENT> USAPCEXN05 = USANECONPRVTXN/(USANECONPRVTXN_VALUE_2015) $\n",
      "FRML <IDENT> JPNEXR05 = JPNPANUSATLS/(JPNPANUSATLS_VALUE_2015) $\n",
      "FRML <IDENT> JPNPCEXN05 = JPNNECONPRVTXN/(JPNNECONPRVTXN_VALUE_2015) $\n",
      "FRML <IDENT> PEREXR05 = PERPANUSATLS/(PERPANUSATLS_VALUE_2015) $\n",
      "FRML <IDENT> PERPCEXN05 = PERNECONPRVTXN/(PERNECONPRVTXN_VALUE_2015) $\n",
      "FRML <IDENT> ARGEXR05 = ARGPANUSATLS/(ARGPANUSATLS_VALUE_2015) $\n",
      "FRML <IDENT> ARGPCEXN05 = ARGNECONPRVTXN/(ARGNECONPRVTXN_VALUE_2015) $\n",
      "FRML <IDENT> BELEXR05 = BELPANUSATLS/(BELPANUSATLS_VALUE_2015) $\n",
      "FRML <IDENT> BELPCEXN05 = BELNECONPRVTXN/(BELNECONPRVTXN_VALUE_2015) $\n",
      "FRML <IDENT> KOREXR05 = KORPANUSATLS/(KORPANUSATLS_VALUE_2015) $\n",
      "FRML <IDENT> KORPCEXN05 = KORNECONPRVTXN/(KORNECONPRVTXN_VALUE_2015) $\n",
      "FRML <IDENT> COLEXR05 = COLPANUSATLS/(COLPANUSATLS_VALUE_2015) $\n",
      "FRML <IDENT> COLPCEXN05 = COLNECONPRVTXN/(COLNECONPRVTXN_VALUE_2015) $\n",
      "FRML <IDENT> CHEEXR05 = CHEPANUSATLS/(CHEPANUSATLS_VALUE_2015) $\n",
      "FRML <IDENT> CHEPCEXN05 = CHENECONPRVTXN/(CHENECONPRVTXN_VALUE_2015) $\n",
      "FRML <IDENT> CHNEXR05 = CHNPANUSATLS/(CHNPANUSATLS_VALUE_2015) $\n",
      "FRML <IDENT> CHNPCEXN05 = CHNNECONPRVTXN/(CHNNECONPRVTXN_VALUE_2015) $\n",
      "FRML <IDENT> CANEXR05 = CANPANUSATLS/(CANPANUSATLS_VALUE_2015) $\n",
      "FRML <IDENT> CANPCEXN05 = CANNECONPRVTXN/(CANNECONPRVTXN_VALUE_2015) $\n",
      "FRML <IDENT> DEUEXR05 = DEUPANUSATLS/(DEUPANUSATLS_VALUE_2015) $\n",
      "FRML <IDENT> DEUPCEXN05 = DEUNECONPRVTXN/(DEUNECONPRVTXN_VALUE_2015) $\n",
      "FRML <IDENT> CHLEXR05 = CHLPANUSATLS/(CHLPANUSATLS_VALUE_2015) $\n",
      "FRML <IDENT> CHLPCEXN05 = CHLNECONPRVTXN/(CHLNECONPRVTXN_VALUE_2015) $\n",
      "FRML <IDENT> GBREXR05 = GBRPANUSATLS/(GBRPANUSATLS_VALUE_2015) $\n",
      "FRML <IDENT> GBRPCEXN05 = GBRNECONPRVTXN/(GBRNECONPRVTXN_VALUE_2015) $\n",
      "FRML <IDENT> PANEXR05 = PANPANUSATLS/(PANPANUSATLS_VALUE_2015) $\n",
      "FRML <IDENT> PANPCEXN05 = PANNECONPRVTXN/(PANNECONPRVTXN_VALUE_2015) $\n",
      "FRML <IDENT> NLDEXR05 = NLDPANUSATLS/(NLDPANUSATLS_VALUE_2015) $\n",
      "FRML <IDENT> NLDPCEXN05 = NLDNECONPRVTXN/(NLDNECONPRVTXN_VALUE_2015) $\n",
      "FRML <IDENT> BOLREER = 100*(0.3772039545308749/((BOLEXR05/BOLPCEXN05)/(BRAEXR05/BRAPCEXN05))+0.14156179684396863/((BOLEXR05/BOLPCEXN05)/(USAEXR05/USAPCEXN05))+0.07455937694978002/((BOLEXR05/BOLPCEXN05)/(JPNEXR05/JPNPCEXN05))+0.0674734438107458/((BOLEXR05/BOLPCEXN05)/(PEREXR05/PERPCEXN05))+0.06548205523343585/((BOLEXR05/BOLPCEXN05)/(ARGEXR05/ARGPCEXN05))+0.04485309189882575/((BOLEXR05/BOLPCEXN05)/(BELEXR05/BELPCEXN05))+0.03826601373901992/((BOLEXR05/BOLPCEXN05)/(KOREXR05/KORPCEXN05))+0.03416637443706304/((BOLEXR05/BOLPCEXN05)/(COLEXR05/COLPCEXN05))+0.033583432265440825/((BOLEXR05/BOLPCEXN05)/(CHEEXR05/CHEPCEXN05))+0.029564066615007375/((BOLEXR05/BOLPCEXN05)/(CHNEXR05/CHNPCEXN05))+0.02464330110608099/((BOLEXR05/BOLPCEXN05)/(CANEXR05/CANPCEXN05))+0.017710306147025703/((BOLEXR05/BOLPCEXN05)/(DEUEXR05/DEUPCEXN05))+0.015465579398647638/((BOLEXR05/BOLPCEXN05)/(CHLEXR05/CHLPCEXN05))+0.01254855315373634/((BOLEXR05/BOLPCEXN05)/(GBREXR05/GBRPCEXN05))+0.011689934258171044/((BOLEXR05/BOLPCEXN05)/(PANEXR05/PANPCEXN05))+0.011228719612176082/((BOLEXR05/BOLPCEXN05)/(NLDEXR05/NLDPCEXN05))) $\n",
      "FRML <IDENT> BOLNEER = 100*(0.3772039545308749*1/(BOLEXR05/BRAEXR05)+0.14156179684396863*1/(BOLEXR05/USAEXR05)+0.07455937694978002*1/(BOLEXR05/JPNEXR05)+0.0674734438107458*1/(BOLEXR05/PEREXR05)+0.06548205523343585*1/(BOLEXR05/ARGEXR05)+0.04485309189882575*1/(BOLEXR05/BELEXR05)+0.03826601373901992*1/(BOLEXR05/KOREXR05)+0.03416637443706304*1/(BOLEXR05/COLEXR05)+0.033583432265440825*1/(BOLEXR05/CHEEXR05)+0.029564066615007375*1/(BOLEXR05/CHNEXR05)+0.02464330110608099*1/(BOLEXR05/CANEXR05)+0.017710306147025703*1/(BOLEXR05/DEUEXR05)+0.015465579398647638*1/(BOLEXR05/CHLEXR05)+0.01254855315373634*1/(BOLEXR05/GBREXR05)+0.011689934258171044*1/(BOLEXR05/PANEXR05)+0.011228719612176082*1/(BOLEXR05/NLDEXR05)) $\n",
      "FRML <IDENT> BOLPXKEY = (0.5294117647058825*WLDFCRUDE_PETRO/(WLDFCRUDE_PETRO_VALUE_2015)+0.12132352941176472*WLDFZINC/(WLDFZINC_VALUE_2015)+0.11151960784313726*WLDFSOYBEAN_OIL/(WLDFSOYBEAN_OIL_VALUE_2015)+0.10661764705882353*WLDFGOLD/(WLDFGOLD_VALUE_2015)+0.09313725490196079*WLDFSILVER/(WLDFSILVER_VALUE_2015)+0.037990196078431376*WLDFTIN/(WLDFTIN_VALUE_2015))/100 $\n",
      "FRML <IDENT> BOLPMKEY = (91.74513440395401*MUV/(MUV_VALUE_2015)+7.300243812639187*WLDFISTL_JP_INDX/(WLDFISTL_JP_INDX_VALUE_2015)+0.33944709150844143*WLDFNGAS_EUR/(WLDFNGAS_EUR_VALUE_2015)+0.1918210677173427*WLDFMAIZE/(WLDFMAIZE_VALUE_2015)+0.1282340954713609*WLDFPLYWOOD/(WLDFPLYWOOD_VALUE_2015)+0.07416639555518138*WLDFWHEAT_US_HRW/(WLDFWHEAT_US_HRW_VALUE_2015)+0.06517719871457646*WLDFCOTTON_A_INDX/(WLDFCOTTON_A_INDX_VALUE_2015)+0.0527866841502014*WLDFSOYBEANS/(WLDFSOYBEANS_VALUE_2015)+0.05263207879889311*WLDFRICE_05/(WLDFRICE_05_VALUE_2015)+0.05035717149079519*WLDFTOBAC_US/(WLDFTOBAC_US_VALUE_2015))/100 $\n",
      "FRML <IDENT> BOLTOT = (BOLNEEXPGNFSXN/BOLNEIMPGNFSXN) $\n",
      "FRML <IDENT> BOLXMKT_GR = 0.3772039545308749* (100 * ( (BRANEIMPGNFSKD) / (BRANEIMPGNFSKD(-1)) -1)) +0.14156179684396863* (100 * ( (USANEIMPGNFSKD) / (USANEIMPGNFSKD(-1)) -1)) +0.07455937694978002* (100 * ( (JPNNEIMPGNFSKD) / (JPNNEIMPGNFSKD(-1)) -1)) +0.0674734438107458* (100 * ( (PERNEIMPGNFSKD) / (PERNEIMPGNFSKD(-1)) -1)) +0.06548205523343585* (100 * ( (ARGNEIMPGNFSKD) / (ARGNEIMPGNFSKD(-1)) -1)) +0.04485309189882575* (100 * ( (BELNEIMPGNFSKD) / (BELNEIMPGNFSKD(-1)) -1)) +0.03826601373901992* (100 * ( (KORNEIMPGNFSKD) / (KORNEIMPGNFSKD(-1)) -1)) +0.03416637443706304* (100 * ( (COLNEIMPGNFSKD) / (COLNEIMPGNFSKD(-1)) -1)) +0.033583432265440825* (100 * ( (CHENEIMPGNFSKD) / (CHENEIMPGNFSKD(-1)) -1)) +0.029564066615007375* (100 * ( (CHNNEIMPGNFSKD) / (CHNNEIMPGNFSKD(-1)) -1)) +0.02464330110608099* (100 * ( (CANNEIMPGNFSKD) / (CANNEIMPGNFSKD(-1)) -1)) +0.017710306147025703* (100 * ( (DEUNEIMPGNFSKD) / (DEUNEIMPGNFSKD(-1)) -1)) +0.015465579398647638* (100 * ( (CHLNEIMPGNFSKD) / (CHLNEIMPGNFSKD(-1)) -1)) +0.01254855315373634* (100 * ( (GBRNEIMPGNFSKD) / (GBRNEIMPGNFSKD(-1)) -1)) +0.011689934258171044* (100 * ( (PANNEIMPGNFSKD) / (PANNEIMPGNFSKD(-1)) -1)) +0.011228719612176082* (100 * ( (NLDNEIMPGNFSKD) / (NLDNEIMPGNFSKD(-1)) -1)) $\n",
      "FRML <IDENT> BOLXMKT = BOLXMKT(-1)*(1+BOLXMKT_GR/100) $\n",
      "FRML <IDENT> BOLGGREVTOTLCN = BOLGGREVTAXTCN+BOLGGREVNONTCN $\n",
      "FRML <IDENT> BOLGGREVTAXTCN = BOLGGREVGNFSCN+BOLGGREVDRCTCN+BOLGGREVTRDECN+BOLGGREVCOMMCN+BOLGGREVTOTHCN-BOLGGREVSOENECN $\n",
      "FRML <IDENT> BOLGGREVGNFSER = BOLGGREVGNFSCN/(BOLNECONGOVTCN+BOLNECONPRVTCN)*100 $\n",
      "FRML <IDENT> BOLGGREVDRCTER = BOLGGREVDRCTCN/BOLNYGDPMKTPCN*100 $\n",
      "FRML <IDENT> BOLGGREVTRDEER = BOLGGREVTRDECN/(BOLNEIMPGNFSCN+BOLNEEXPGNFSCN)*100 $\n",
      "FRML <IDENT> BOLGGREVCOMMER = BOLGGREVCOMMCN/BOLNVHCARDERKN*100 $\n",
      "FRML <IDENT> BOLGGREVNONTCN = BOLGGREVGRNTCN+BOLGGREVOTHRCN+BOLGGREVSALECN $\n",
      "FRML <IDENT> BOLGGEXPTOTLCN = BOLGGEXPWAGECN+BOLGGEXPGNFSCN+BOLGGEXPINTPCN+BOLGGEXPTRNSCN+BOLGGEXPCAPTCN $\n",
      "FRML <IDENT> BOLGGEXPCRNTCN = BOLGGEXPWAGECN+BOLGGEXPGNFSCN+BOLGGEXPINTPCN+BOLGGEXPTRNSCN $\n",
      "FRML <IDENT> BOLGGEXPINTPCN = BOLGGEXPINTDCN+BOLGGEXPINTECN $\n",
      "FRML <IDENT> BOLGGEXPINTDCN = BOLINTRDFR/100*BOLGGDBTDOMTCN(-1) $\n",
      "FRML <IDENT> BOLGGEXPINTECN = BOLINTREFR/100*BOLGGDBTEXTLCN(-1) $\n",
      "FRML <IDENT> BOLINTRDFR = BOLINTRDDIFFFR+BOLFMLBLLRLCFR $\n",
      "FRML <IDENT> BOLINTREFR = BOLINTREDIFFFR+USAINTRFR $\n",
      "FRML <IDENT> BOLGGBALOVRLCN = BOLGGREVTOTLCN-BOLGGEXPTOTLCN $\n",
      "FRML <IDENT> BOLGGBALPRIMCN = BOLGGBALOVRLCN+BOLGGEXPINTPCN $\n",
      "FRML <IDENT> BOLGGBALOVRLCD = BOLGGBALOVRLCN/BOLPANUSATLS $\n",
      "FRML <IDENT> BOLGGDBTTOTLCN = BOLGGDBTEXTLCN+BOLGGDBTDOMTCN $\n",
      "FRML <IDENT> BOLGGDBTTOTLCD = BOLGGDBTTOTLCN/BOLPANUSATLS $\n",
      "FRML <IDENT> BOLGGDBTEXTLCN = BOLGGDBTEXTLCN(-1)+BOLGGDBTVALECN+BOLGGFINEXTLCN $\n",
      "FRML <IDENT> BOLGGDBTDOMTCN = BOLGGDBTDOMTCN(-1)+BOLGGDBTVALDCN+BOLGGFINDOMTCN $\n",
      "FRML <IDENT> BOLGGFINREQMCN = -BOLGGBALOVRLCN $\n",
      "FRML <IDENT> BOLGGFINFGAPCN = BOLGGFINREQMCN-BOLGGFINTOTLCN $\n",
      "FRML <IDENT> BOLGGFINTOTLCN = BOLGGFINEXTLCN+BOLGGFINDOMTCN $\n",
      "FRML <IDENT> BOLGGFINEOTHCN = BOLGGFINEXTLCN+BOLGGFINEAMTCN-BOLGGFINEDSBCN $\n",
      "FRML <IDENT> BOLBCBEMISCN = BOLBCBNDCRCN+BOLBCBONALCN+BOLBCBNIRRCN $\n",
      "FRML <IDENT> BOLBCBNDCRCN = BOLBCBNCPUCN+BOLBCBNCFICN $\n",
      "FRML <IDENT> BOLBCBNCPUCN = BOLBCBGCPUCN-BOLBCBPUSDCN $\n",
      "FRML <IDENT> BOLBCBGCPUCN = BOLBCBGCPUCN(-1)+BOLGGFINCBCBCN $\n",
      "FRML <IDENT> BOLBCBPUSDCN = BOLBCBPUSDCN(-1)-BOLGGFINDBCBCN $\n",
      "FRML <IDENT> BOLBCBNCFICN = BOLBCBGCFICN-BOLBCBFISDCN $\n",
      "FRML <IDENT> BOLBCBFISDCN = BOLBCBFISRAZ*BOLFISDEPTCN $\n",
      "FRML <IDENT> BOLFISDEPTCN = BOLFISDEPLCN+BOLFISDEPFCN $\n",
      "FRML <IDENT> BOLFISDEPLCN = BOLFISDEPPCN+BOLAFPTIDECN $\n",
      "FRML <IDENT> BOLAFPTIDECN = BOLAFPASSECN-BOLAFPLPRECN-BOLAFPDPUDCN-BOLAFPEPUDCN-BOLAFPOASSCN $\n",
      "FRML <IDENT> BOLAFPDPUDCN = BOLAFPDPUDCN(-1)+BOLGGFINAFPSCN $\n",
      "FRML <IDENT> BOLAFPLPRECN = BOLAFPLPRRAZ*BOLAFPASSECN $\n",
      "FRML <IDENT> BOLBXGSRNFSVCD = BOLBXGSRGNFSCD-BOLBXGSRMRCHCD $\n",
      "FRML <IDENT> BOLBMGSRNFSVCD = BOLBMGSRGNFSCD-BOLBMGSRMRCHCD $\n",
      "FRML <IDENT> BOLBNFSTCABTCD = BOLBXFSTCABTCD-BOLBMFSTCABTCD $\n",
      "FRML <IDENT> BOLBXFSTCABTCD = BOLBXFSTREMTCD+BOLBXFSTOTHRCD $\n",
      "FRML <IDENT> BOLREMT_IN_GR = 0.561014803790316* (100 * ( (ARGNYGDPMKTPCD) / (ARGNYGDPMKTPCD(-1)) -1)) +0.214377124397616* (100 * ( (ESPNYGDPMKTPCD) / (ESPNYGDPMKTPCD(-1)) -1)) +0.104070137762616* (100 * ( (USANYGDPMKTPCD) / (USANYGDPMKTPCD(-1)) -1)) +0.045806371232594* (100 * ( (BRANYGDPMKTPCD) / (BRANYGDPMKTPCD(-1)) -1)) +0.035516036368178* (100 * ( (CHLNYGDPMKTPCD) / (CHLNYGDPMKTPCD(-1)) -1)) +0.017190926061987* (100 * ( (ITANYGDPMKTPCD) / (ITANYGDPMKTPCD(-1)) -1)) +0.007748318228391* (100 * ( (PERNYGDPMKTPCD) / (PERNYGDPMKTPCD(-1)) -1)) +0.005368161562340* (100 * ( (CANNYGDPMKTPCD) / (CANNYGDPMKTPCD(-1)) -1)) +0.004989711994097* (100 * ( (SWENYGDPMKTPCD) / (SWENYGDPMKTPCD(-1)) -1)) +0.003918408601860* (100 * ( (CHENYGDPMKTPCD) / (CHENYGDPMKTPCD(-1)) -1)) $\n",
      "FRML <IDENT> BOLREMT_IN = BOLREMT_IN(-1)*(1+BOLREMT_IN_GR/100) $\n",
      "FRML <IDENT> BOLBMFSTINTECD = BOLGGEXPINTECN/BOLPANUSATLS $\n",
      "FRML <IDENT> BOLBMFSTCABTCD = BOLBMFSTREMTCD+BOLBMFSTINTECD+BOLBMFSTOTHRCD $\n",
      "FRML <IDENT> BOLBNCABFUNDCD = BOLBNGSRGNFSCD+BOLBNFSTCABTCD $\n",
      "FRML <IDENT> BOLBNGSRGNFSCD = BOLBXGSRGNFSCD-BOLBMGSRGNFSCD $\n",
      "FRML <IDENT> BOLBFCAFFINXCD = BOLBFCAFFFDICD+BOLBFCAFFPFTCD+BOLBFCAFOTHRCD $\n",
      "FRML <IDENT> BOLBFFINAGOVCD = BOLGGFINEAMTCN/BOLPANUSATLS $\n",
      "FRML <IDENT> BOLBFFINDGOVCD = BOLGGFINEDSBCN/BOLPANUSATLS $\n",
      "FRML <IDENT> BOLBFFINOGOVCD = BOLGGFINEOTHCN/BOLPANUSATLS $\n",
      "FRML <IDENT> BOLBFFINTGOVCD = BOLBFFINAGOVCD+BOLBFFINDGOVCD+BOLBFFINOGOVCD $\n",
      "FRML <IDENT> BOLBFCAFOTHRCD = BOLBFCAFOOTHCD+BOLBFFINTGOVCD $\n",
      "FRML <IDENT> BOLBFBOPTOTLCD = BOLBFCAFCAPTCD+BOLBFCAFFINXCD+BOLBNCABFUNDCD+BOLBFCAFNEOMCD $\n",
      "FRML <IDENT> RESERVERATIO4 = BOLNEIMPGNFSCN/(4*BOLPANUSATLS*BOLFIRESTOTLCD) $\n",
      "FRML <IDENT> RESERVERATIO3 = BOLNEIMPGNFSCN/(3*BOLPANUSATLS*BOLFIRESTOTLCD) $\n",
      "FRML <IDENT> BOLBFCAF2BOP_ = (1-DURING_1980_2021)*(1.0*FLOAT(RESERVERATIO3<=1/2<=100000))*RESERVERATIO3 $\n",
      "FRML <IDENT> BOLBFCAFRACGCD = -BOLBFBOPTOTLCD*(1-BOLBFCAF2BOP_(-1)) $\n",
      "FRML <IDENT> BOLBFFINFGAPCD = BOLBFBOPTOTLCD+BOLBFCAFRACGCD $\n",
      "FRML <QUASIIDENT> BOLBCBNIRRCN = (BOLBCBNIRRCN_A*BOLBCBNIRRCN(-1)/100+ ((100 * ( (BOLFIRESTOTLCD*BOLPANUSATLS) / (BOLFIRESTOTLCD(-1)*BOLPANUSATLS(-1)) -1)) -0.483420548175053*DUMH) *BOLBCBNIRRCN(-1)/100+BOLBCBNIRRCN(-1)) * (1-BOLBCBNIRRCN_D)+ BOLBCBNIRRCN_X*BOLBCBNIRRCN_D  $\n",
      "FRML <DAMP,STOC> BOLBFCAFFFDICD = (BOLBFCAFFFDICD_A*BOLBFCAFFFDICD(-1)/100+ ((100 * ( (BOLNYGDPMKTPCD) / (BOLNYGDPMKTPCD(-1)) -1)) -19.332603354285*DURING_2015) *BOLBFCAFFFDICD(-1)/100+BOLBFCAFFFDICD(-1)) * (1-BOLBFCAFFFDICD_D)+ BOLBFCAFFFDICD_X*BOLBFCAFFFDICD_D  $\n",
      "FRML <DAMP,STOC> BOLBFCAFFPFTCD = (BOLBFCAFFPFTCD_A*BOLBFCAFFPFTCD(-1)/100+ ((100 * ( (BOLNYGDPMKTPCD) / (BOLNYGDPMKTPCD(-1)) -1)) -15.3201556009649*DURING_2015) *BOLBFCAFFPFTCD(-1)/100+BOLBFCAFFPFTCD(-1)) * (1-BOLBFCAFFPFTCD_D)+ BOLBFCAFFPFTCD_X*BOLBFCAFFPFTCD_D  $\n",
      "FRML <DAMP,STOC> BOLBFCAFOOTHCD = (BOLBFCAFOOTHCD_A*BOLBFCAFOOTHCD(-1)/100+ ((100 * ( (BOLNYGDPMKTPCD) / (BOLNYGDPMKTPCD(-1)) -1)) -86.1748085437499*DURING_2015) *BOLBFCAFOOTHCD(-1)/100+BOLBFCAFOOTHCD(-1)) * (1-BOLBFCAFOOTHCD_D)+ BOLBFCAFOOTHCD_X*BOLBFCAFOOTHCD_D  $\n",
      "FRML <DAMP,STOC> BOLBMFSTOTHRCD = (BOLBMFSTOTHRCD_A*BOLNYGDPMKTPCD+BOLNYGDPMKTPCD* (0.0397387586161685) ) * (1-BOLBMFSTOTHRCD_D)+ BOLBMFSTOTHRCD_X*BOLBMFSTOTHRCD_D  $\n",
      "FRML <DAMP,STOC> BOLBMFSTREMTCD = (BOLBMFSTREMTCD(-1)*EXP(BOLBMFSTREMTCD_A+ (0.0916805201987878-0.00704362386315875*(LOG(BOLBMFSTREMTCD(-1))-LOG(BOLNYGDPMKTPCD(-1)))-0.165536444692071*((LOG(BOLNYGDPMKTPCD))-(LOG(BOLNYGDPMKTPCD(-1))))) )) * (1-BOLBMFSTREMTCD_D)+ BOLBMFSTREMTCD_X*BOLBMFSTREMTCD_D  $\n",
      "FRML <QUASIIDENT> BOLBMGSRGNFSCD = (BOLBMGSRGNFSCD_A*BOLBMGSRGNFSCD(-1)/100+ ((100 * ( (BOLNEIMPGNFSCD) / (BOLNEIMPGNFSCD(-1)) -1)) +1.94398098010802*DUMH) *BOLBMGSRGNFSCD(-1)/100+BOLBMGSRGNFSCD(-1)) * (1-BOLBMGSRGNFSCD_D)+ BOLBMGSRGNFSCD_X*BOLBMGSRGNFSCD_D  $\n",
      "FRML <DAMP,STOC> BOLBMGSRMRCHCD = (BOLBMGSRMRCHCD(-1)*EXP(BOLBMGSRMRCHCD_A+ (0.0322991811971605+0.82483980396718*((LOG(BOLNEGDETTOTCN/BOLPANUSATLS))-(LOG(BOLNEGDETTOTCN(-1)/BOLPANUSATLS(-1))))) )) * (1-BOLBMGSRMRCHCD_D)+ BOLBMGSRMRCHCD_X*BOLBMGSRMRCHCD_D  $\n",
      "FRML <DAMP,STOC> BOLBXFSTOTHRCD = (BOLBXFSTOTHRCD_A*BOLBXFSTOTHRCD(-1)/100+ ((100 * ( (BOLNYGDPMKTPCD) / (BOLNYGDPMKTPCD(-1)) -1)) +4.87018760674176*DURING_2015) *BOLBXFSTOTHRCD(-1)/100+BOLBXFSTOTHRCD(-1)) * (1-BOLBXFSTOTHRCD_D)+ BOLBXFSTOTHRCD_X*BOLBXFSTOTHRCD_D  $\n",
      "FRML <DAMP,STOC> BOLBXFSTREMTCD = (BOLBXFSTREMTCD(-1)*EXP(BOLBXFSTREMTCD_A+ (0.74039472591091-0.194133634252884*(LOG(BOLBXFSTREMTCD(-1))-LOG(BOLREMT_IN(-1)))+0.98438799508863*((LOG(BOLREMT_IN))-(LOG(BOLREMT_IN(-1))))+0.0192853904220198*T_LR+0.457789605622269*DURING_2005_2007) )) * (1-BOLBXFSTREMTCD_D)+ BOLBXFSTREMTCD_X*BOLBXFSTREMTCD_D  $\n",
      "FRML <QUASIIDENT> BOLBXGSRGNFSCD = (BOLBXGSRGNFSCD_A*BOLBXGSRGNFSCD(-1)/100+ ((100 * ( (BOLNEEXPGNFSCD) / (BOLNEEXPGNFSCD(-1)) -1)) +1.44639863643779*DUMH) *BOLBXGSRGNFSCD(-1)/100+BOLBXGSRGNFSCD(-1)) * (1-BOLBXGSRGNFSCD_D)+ BOLBXGSRGNFSCD_X*BOLBXGSRGNFSCD_D  $\n",
      "FRML <DAMP,STOC> BOLBXGSRMRCHCD = (BOLBXGSRMRCHCD(-1)*EXP(BOLBXGSRMRCHCD_A+ (--0.0235107548741517*(LOG(BOLBXGSRMRCHCD(-1))-LOG(BOLXMKT(-1))+0.395463368849052)+1.57291320886074*((LOG(BOLXMKT))-(LOG(BOLXMKT(-1))))+(1-1.57291320886074)*((LOG(BOLREER))-(LOG(BOLREER(-1))))) )) * (1-BOLBXGSRMRCHCD_D)+ BOLBXGSRMRCHCD_X*BOLBXGSRMRCHCD_D  $\n",
      "FRML <QUASIIDENT> BOLFIRESTOTLCD = (BOLFIRESTOTLCD(-1)-BOLBFCAFRACGCD+57.304516662495*DUMH + BOLFIRESTOTLCD_A)* (1-BOLFIRESTOTLCD_D)+ BOLFIRESTOTLCD_X*BOLFIRESTOTLCD_D  $\n",
      "FRML <QUASIIDENT> BOLFISCASHCN = (BOLFISCASHCN(-1)*EXP(BOLFISCASHCN_A+ (((LOG(BOLBCBEMISCN))-(LOG(BOLBCBEMISCN(-1))))-0.00236125559643038*DUMH) )) * (1-BOLFISCASHCN_D)+ BOLFISCASHCN_X*BOLFISCASHCN_D  $\n",
      "FRML <QUASIIDENT> BOLFPCPITOTLXN = (BOLFPCPITOTLXN_A*BOLFPCPITOTLXN(-1)/100+ ((100 * ( (BOLNECONPRVTXN) / (BOLNECONPRVTXN(-1)) -1)) -19.4976775396926*DUMH) *BOLFPCPITOTLXN(-1)/100+BOLFPCPITOTLXN(-1)) * (1-BOLFPCPITOTLXN_D)+ BOLFPCPITOTLXN_X*BOLFPCPITOTLXN_D  $\n",
      "FRML <DAMP,STOC> BOLGGEXPCAPTCN = (BOLGGEXPCAPTCN(-1)*EXP(BOLGGEXPCAPTCN_A+ (-0.390535813946089*(LOG(BOLGGEXPCAPTCN(-1))-LOG(BOLNYGDPMKTPCN(-1))+1.95155391262581)+0.25488800704991*((LOG(BOLGGEXPCAPTCN(-1)))-(LOG(BOLGGEXPCAPTCN(-2))))+(1-0.25488800704991)*((LOG(BOLNYGDPMKTPCN))-(LOG(BOLNYGDPMKTPCN(-1))))) )) * (1-BOLGGEXPCAPTCN_D)+ BOLGGEXPCAPTCN_X*BOLGGEXPCAPTCN_D  $\n",
      "FRML <DAMP,STOC> BOLGGEXPGNFSCN = (BOLGGEXPGNFSCN(-1)*EXP(BOLGGEXPGNFSCN_A+ (-0.197646082213237*(LOG(BOLGGEXPGNFSCN(-1))-LOG(BOLNYGDPMKTPXN(-1))-8.65507303747141)-0.103427037943118*((LOG(BOLGGEXPGNFSCN(-1)))-(LOG(BOLGGEXPGNFSCN(-2))))+(1+0.103427037943118)*((LOG(BOLNYGDPMKTPCN))-(LOG(BOLNYGDPMKTPCN(-1))))) )) * (1-BOLGGEXPGNFSCN_D)+ BOLGGEXPGNFSCN_X*BOLGGEXPGNFSCN_D  $\n",
      "FRML <DAMP,STOC> BOLGGEXPTRNSCN = (BOLGGEXPTRNSCN(-1)*EXP(BOLGGEXPTRNSCN_A+ (-0.396955038632862*(LOG(BOLGGEXPTRNSCN(-1))-LOG(BOLNYGDPMKTPCN(-1))+2.6690154780203)+((LOG(BOLNYGDPMKTPCN))-(LOG(BOLNYGDPMKTPCN(-1))))) )) * (1-BOLGGEXPTRNSCN_D)+ BOLGGEXPTRNSCN_X*BOLGGEXPTRNSCN_D  $\n",
      "FRML <DAMP,STOC> BOLGGEXPWAGECN = (BOLGGEXPWAGECN(-1)*EXP(BOLGGEXPWAGECN_A+ (-0.246570777516679*(LOG(BOLGGEXPWAGECN(-1))-LOG(BOLNYGDPMKTPCN(-1))+2.13841604187198)+0.188779576742104*((LOG(BOLGGEXPWAGECN(-1)))-(LOG(BOLGGEXPWAGECN(-2))))+(1-0.188779576742104)*((LOG(BOLNYGDPMKTPCN))-(LOG(BOLNYGDPMKTPCN(-1))))) )) * (1-BOLGGEXPWAGECN_D)+ BOLGGEXPWAGECN_X*BOLGGEXPWAGECN_D  $\n",
      "FRML <QUASIIDENT> BOLGGFINDOMTCN = ((1-BOLGGFINEXTLSHARE_/100)*BOLGGFINREQMCN-9.473903143468E-14*DUMH + BOLGGFINDOMTCN_A)* (1-BOLGGFINDOMTCN_D)+ BOLGGFINDOMTCN_X*BOLGGFINDOMTCN_D  $\n",
      "FRML <QUASIIDENT> BOLGGFINEXTLCN = (BOLGGFINEXTLSHARE_/100*BOLGGFINREQMCN-1.13686837721616E-13*DUMH + BOLGGFINEXTLCN_A)* (1-BOLGGFINEXTLCN_D)+ BOLGGFINEXTLCN_X*BOLGGFINEXTLCN_D  $\n",
      "FRML <DAMP,STOC> BOLGGREVCOMMCN = (BOLGGREVCOMMER(-1)/100*BOLNVHCARDERKN-43.3408087466892*DREV + BOLGGREVCOMMCN_A)* (1-BOLGGREVCOMMCN_D)+ BOLGGREVCOMMCN_X*BOLGGREVCOMMCN_D  $\n",
      "FRML <DAMP,STOC> BOLGGREVDRCTCN = (BOLGGREVDRCTER(-1)/100*BOLNYGDPMKTPCN+61.4227830118073*DREV + BOLGGREVDRCTCN_A)* (1-BOLGGREVDRCTCN_D)+ BOLGGREVDRCTCN_X*BOLGGREVDRCTCN_D  $\n",
      "FRML <DAMP,STOC> BOLGGREVGNFSCN = (BOLGGREVGNFSER(-1)/100*(BOLNECONGOVTCN+BOLNECONPRVTCN)-72.3945821334203*DREV + BOLGGREVGNFSCN_A)* (1-BOLGGREVGNFSCN_D)+ BOLGGREVGNFSCN_X*BOLGGREVGNFSCN_D  $\n",
      "FRML <DAMP,STOC> BOLGGREVGRNTCN = (BOLGGREVGRNTCN_A*BOLNYGDPMKTPCN+BOLNYGDPMKTPCN* (0.0416869561221862-0.00106760712183949*T_LR) ) * (1-BOLGGREVGRNTCN_D)+ BOLGGREVGRNTCN_X*BOLGGREVGRNTCN_D  $\n",
      "FRML <DAMP,STOC> BOLGGREVOTHRCN = (BOLGGREVOTHRCN_A*BOLNYGDPMKTPCN+BOLNYGDPMKTPCN* (-0.00775914394247517+0.00150319054834872*T_LR) ) * (1-BOLGGREVOTHRCN_D)+ BOLGGREVOTHRCN_X*BOLGGREVOTHRCN_D  $\n",
      "FRML <DAMP,STOC> BOLGGREVTOTHCN = (BOLGGREVTOTHCN_A*BOLNYGDPMKTPCN+BOLNYGDPMKTPCN* (-0.00231342092581821+0.000495308731052144*T_LR) ) * (1-BOLGGREVTOTHCN_D)+ BOLGGREVTOTHCN_X*BOLGGREVTOTHCN_D  $\n",
      "FRML <DAMP,STOC> BOLGGREVTRDECN = (BOLGGREVTRDEER(-1)/100*(BOLNEIMPGNFSCN+BOLNEEXPGNFSCN)+10.2597355099951*DREV + BOLGGREVTRDECN_A)* (1-BOLGGREVTRDECN_D)+ BOLGGREVTRDECN_X*BOLGGREVTRDECN_D  $\n",
      "FRML <DAMP,STOC> BOLLMEMPTOTL = (BOLLMEMPTOTL(-1)*EXP(BOLLMEMPTOTL_A+ (-0.811515119007926*(LOG(BOLLMEMPTOTL(-1))-LOG(BOLLMEMPSTRL(-1))-0.0253102397244294)-0.0286059479322128*(((LOG(BOLNEWRTTOTLXN/BOLNYGDPFCSTXN))-(LOG(BOLNEWRTTOTLXN(-1)/BOLNYGDPFCSTXN(-1))))-((LOG(BOLNYGDPPOTLKN/BOLLMEMPSTRL))-(LOG(BOLNYGDPPOTLKN(-1)/BOLLMEMPSTRL(-1)))))) )) * (1-BOLLMEMPTOTL_D)+ BOLLMEMPTOTL_X*BOLLMEMPTOTL_D  $\n",
      "FRML <DAMP,STOC> BOLLMPRTTOTL_ = (BOLLMPRTTOTL_(-1)*EXP(BOLLMPRTTOTL__A+ (-0.792715097581684*(LOG(BOLLMPRTTOTL_(-1))-LOG(BOLLMPRTSTRL_(-1)))-1.06303857648833E-07*BOLNEWRTTOTLXN) )) * (1-BOLLMPRTTOTL__D)+ BOLLMPRTTOTL__X*BOLLMPRTTOTL__D  $\n",
      "FRML <QUASIIDENT> BOLNECONGOVTCN = (BOLNECONGOVTCN_A+ (((BOLGGEXPGNFSCN+BOLGGEXPWAGECN)-(BOLGGEXPGNFSCN(-1)+BOLGGEXPWAGECN(-1)))*BOLNECONGOVTCOV_+610.876079123829*DUMH) +BOLNECONGOVTCN(-1)) * (1-BOLNECONGOVTCN_D)+ BOLNECONGOVTCN_X*BOLNECONGOVTCN_D  $\n",
      "FRML <DAMP,STOC> BOLNECONGOVTXN = (BOLNECONGOVTXN(-1)*EXP(BOLNECONGOVTXN_A+ (0.0556006612098992-0.25*(LOG(BOLNECONGOVTXN(-1))-LOG(BOLNECONPRVTXN(-1)))+0.991364184606232*((LOG(BOLNECONPRVTXN))-(LOG(BOLNECONPRVTXN(-1))))+(1-0.991364184606232)*((LOG(BOLNECONGOVTXN(-1)))-(LOG(BOLNECONGOVTXN(-2))))) )) * (1-BOLNECONGOVTXN_D)+ BOLNECONGOVTXN_X*BOLNECONGOVTXN_D  $\n",
      "FRML <DAMP,STOC> BOLNECONPRVTKN = (BOLNECONPRVTKN(-1)*EXP(BOLNECONPRVTKN_A+ (-0.114611117521899*(LOG(BOLNECONPRVTKN(-1))-LOG((BOLNYYWBTOTLCN(-1)+BOLBXFSTREMTCD(-1)*BOLPANUSATLS(-1))/BOLNECONPRVTXN(-1))-0.280814512258557)+0.074228798024175*((LOG((BOLNYYWBTOTLCN+BOLBXFSTREMTCD*BOLPANUSATLS)/BOLNECONPRVTXN))-(LOG((BOLNYYWBTOTLCN(-1)+BOLBXFSTREMTCD(-1)*BOLPANUSATLS(-1))/BOLNECONPRVTXN(-1))))-0.0244473837921488*((BOLFMLBLLRLCFR/100-((LOG(BOLNECONPRVTXN))-(LOG(BOLNECONPRVTXN(-1)))))-(BOLFMLBLLRLCFR(-1)/100-((LOG(BOLNECONPRVTXN(-1)))-(LOG(BOLNECONPRVTXN(-2))))))) )) * (1-BOLNECONPRVTKN_D)+ BOLNECONPRVTKN_X*BOLNECONPRVTKN_D  $\n",
      "FRML <DAMP,STOC> BOLNECONPRVTXN = (BOLNECONPRVTXN(-1)*EXP(BOLNECONPRVTXN_A+ (-0.0496370896464746-0.350*(LOG(BOLNECONPRVTXN(-1))-0.408*LOG(BOLNYGDPFCSTXN(-1))-(1-0.408)*LOG(BOLNEIMPGNFSXN(-1))-LOG(1+BOLGGREVGNFSER(-1)/100))+0.821*((LOG(BOLNYGDPFCSTXN))-(LOG(BOLNYGDPFCSTXN(-1))))+(1-0.821)*((LOG(BOLNEIMPGNFSXN))-(LOG(BOLNEIMPGNFSXN(-1))))+((LOG(1+BOLGGREVGNFSER/100))-(LOG(1+BOLGGREVGNFSER(-1)/100)))+0.25*BOLNYGDPGAP_/100) )) * (1-BOLNECONPRVTXN_D)+ BOLNECONPRVTXN_X*BOLNECONPRVTXN_D  $\n",
      "FRML <DAMP,STOC> BOLNEEXPGNFSKN = (BOLNEEXPGNFSKN(-1)*EXP(BOLNEEXPGNFSKN_A+ (0.0424094521142019-0.106660008107453*(LOG(BOLNEEXPGNFSKN(-1))-LOG(BOLXMKT(-1))+0.00833260021677034*LOG(BOLNEEXPGNFSXN(-1)/BOLNECONPRVTXN(-1)))+0.642235184906784*((LOG(BOLXMKT))-(LOG(BOLXMKT(-1))))-0.00833260021677034*((LOG(BOLNEEXPGNFSXN/BOLNECONPRVTXN))-(LOG(BOLNEEXPGNFSXN(-1)/BOLNECONPRVTXN(-1))))+0.0110216819209611*DURING_2004_2008) )) * (1-BOLNEEXPGNFSKN_D)+ BOLNEEXPGNFSKN_X*BOLNEEXPGNFSKN_D  $\n",
      "FRML <DAMP,STOC> BOLNEEXPGNFSXN = (BOLNEEXPGNFSXN(-1)*EXP(BOLNEEXPGNFSXN_A+ (1.0456279364705-0.25*(LOG(BOLNEEXPGNFSXN(-1))-0.977557935590834*LOG(BOLPXKEY(-1)*BOLPANUSATLS(-1))-(1-0.977557935590834)*BOLNYGDPFCSTXN(-1))+0.355667210652564*((LOG(BOLPXKEY*BOLPANUSATLS))-(LOG(BOLPXKEY(-1)*BOLPANUSATLS(-1))))+(1-0.355667210652564)*((LOG(BOLNYGDPFCSTXN))-(LOG(BOLNYGDPFCSTXN(-1))))-0.00170672463788847*T_LR) )) * (1-BOLNEEXPGNFSXN_D)+ BOLNEEXPGNFSXN_X*BOLNEEXPGNFSXN_D  $\n",
      "FRML <QUASIIDENT> BOLNEGDIFGOVCN = (BOLNEGDIFGOVCN_A*BOLNEGDIFGOVCN(-1)/100+ ((100 * ( (BOLGGEXPCAPTCN) / (BOLGGEXPCAPTCN(-1)) -1)) +2.39326096264973*DUMH) *BOLNEGDIFGOVCN(-1)/100+BOLNEGDIFGOVCN(-1)) * (1-BOLNEGDIFGOVCN_D)+ BOLNEGDIFGOVCN_X*BOLNEGDIFGOVCN_D  $\n",
      "FRML <DAMP,STOC> BOLNEGDIFGOVXN = (BOLNEGDIFGOVXN(-1)*EXP(BOLNEGDIFGOVXN_A+ (-0.0904199524649739*(LOG(BOLNEGDIFGOVXN(-1))-LOG(BOLNECONPRVTXN(-1))-0)+0.991873463367443*((LOG(BOLNECONPRVTXN))-(LOG(BOLNECONPRVTXN(-1))))) )) * (1-BOLNEGDIFGOVXN_D)+ BOLNEGDIFGOVXN_X*BOLNEGDIFGOVXN_D  $\n",
      "FRML <DAMP,STOC> BOLNEGDIFPRVKN = (BOLNEGDIFPRVKN(-1)*EXP(BOLNEGDIFPRVKN_A+ (-0.304391770529015*(LOG(BOLNEGDIFPRVKN(-1))-LOG(1-BOLNYYWBTOTLCN_(-1))-LOG(BOLNYGDPMKTPKN(-1))+LOG(BOLNYKRTTOTLXN(-1)/BOLNYGDPFCSTXN(-1))+2.98366300325458)+1.4397977259849*((LOG(BOLNYGDPMKTPKN))-(LOG(BOLNYGDPMKTPKN(-1))))+0.243116538772055*((LOG(BOLNEGDIFPRVKN(-1)))-(LOG(BOLNEGDIFPRVKN(-2))))+0.258096889311685*((LOG(BOLNYKRTTOTLXN/BOLNEGDIFPRVXN))-(LOG(BOLNYKRTTOTLXN(-1)/BOLNEGDIFPRVXN(-1))))) )) * (1-BOLNEGDIFPRVKN_D)+ BOLNEGDIFPRVKN_X*BOLNEGDIFPRVKN_D  $\n",
      "FRML <DAMP,STOC> BOLNEGDIFPRVXN = (BOLNEGDIFPRVXN(-1)*EXP(BOLNEGDIFPRVXN_A+ (-0.00701577413777616-0.163677757984636*(LOG(BOLNEGDIFPRVXN(-1))-LOG(BOLNECONPRVTXN(-1)))+1.03683519576992*((LOG(BOLNECONPRVTXN))-(LOG(BOLNECONPRVTXN(-1))))+(1-1.03683519576992)*((LOG(BOLNEGDIFPRVXN(-1)))-(LOG(BOLNEGDIFPRVXN(-2))))) )) * (1-BOLNEGDIFPRVXN_D)+ BOLNEGDIFPRVXN_X*BOLNEGDIFPRVXN_D  $\n",
      "FRML <DAMP,STOC> BOLNEIMPGNFSKN = (BOLNEIMPGNFSKN(-1)*EXP(BOLNEIMPGNFSKN_A+ (-0.474420337968118-0.311308249178003*(LOG(BOLNEIMPGNFSKN(-1))-LOG(BOLNEGDETTOTKN(-1))+0.348256324513461*LOG(BOLNEIMPGNFSXN(-1)/(BOLNECONPRVTXN(-1))))+1.5*((LOG(BOLNEGDETTOTKN))-(LOG(BOLNEGDETTOTKN(-1))))+0.0190751270810325*DURING_2005_2009+0.00325367109097998*T_LR) )) * (1-BOLNEIMPGNFSKN_D)+ BOLNEIMPGNFSKN_X*BOLNEIMPGNFSKN_D  $\n",
      "FRML <DAMP,STOC> BOLNEIMPGNFSXN = (BOLNEIMPGNFSXN(-1)*EXP(BOLNEIMPGNFSXN_A+ (-0.30518770725524-0.33*(LOG(BOLNEIMPGNFSXN(-1))-0.785622636985042*LOG((1+BOLGGREVTRDEER(-1)/100)*BOLPMKEY(-1)*BOLPANUSATLS(-1))-(1-0.785622636985042)*BOLNYGDPFCSTXN(-1))-0.00816612576461767*((LOG((1+BOLGGREVTRDEER/100)*BOLPMKEY*BOLPANUSATLS))-(LOG((1+BOLGGREVTRDEER(-1)/100)*BOLPMKEY(-1)*BOLPANUSATLS(-1))))+(1+0.00816612576461767)*((LOG(BOLNYGDPFCSTXN))-(LOG(BOLNYGDPFCSTXN(-1))))) )) * (1-BOLNEIMPGNFSXN_D)+ BOLNEIMPGNFSXN_X*BOLNEIMPGNFSXN_D  $\n",
      "FRML <DAMP,STOC> BOLNEWRTTOTLXN = (BOLNEWRTTOTLXN(-1)*EXP(BOLNEWRTTOTLXN_A+ (-0.601517395089055*(LOG(BOLNEWRTTOTLXN(-1))-LOG(BOLNECONPRVTXN(-1)*BOLNYGDPPOTLKN(-1)/BOLLMEMPSTRL(-1))+0.341945531810098)+0.268250563202274*((LOG(BOLNEWRTTOTLXN(-1)))-(LOG(BOLNEWRTTOTLXN(-2))))+(1-0.268250563202274)*(((LOG(BOLNECONPRVTXN))-(LOG(BOLNECONPRVTXN(-1))))+((LOG(BOLNYGDPPOTLKN/BOLLMEMPSTRL))-(LOG(BOLNYGDPPOTLKN(-1)/BOLLMEMPSTRL(-1)))))) )) * (1-BOLNEWRTTOTLXN_D)+ BOLNEWRTTOTLXN_X*BOLNEWRTTOTLXN_D  $\n",
      "FRML <DAMP,STOC> BOLNVAGRTOTLKN = (BOLNVAGRTOTLKN(-1)*EXP(BOLNVAGRTOTLKN_A+ (-0.180559527055918-0.0805644258830162*(LOG(BOLNVAGRTOTLKN(-1))-LOG(BOLNECONPRVTKN(-1)+BOLNECONGOVTKN(-1)+BOLNEGDIFTOTKN(-1)+BOLNEEXPGNFSKN(-1)))+1.03174653851182*((LOG(BOLNECONPRVTKN+BOLNECONGOVTKN+BOLNEGDIFTOTKN+BOLNEEXPGNFSKN))-(LOG(BOLNECONPRVTKN(-1)+BOLNECONGOVTKN(-1)+BOLNEGDIFTOTKN(-1)+BOLNEEXPGNFSKN(-1))))+(1-1.03174653851182)*((LOG(BOLNVAGRTOTLKN(-1)))-(LOG(BOLNVAGRTOTLKN(-2))))) )) * (1-BOLNVAGRTOTLKN_D)+ BOLNVAGRTOTLKN_X*BOLNVAGRTOTLKN_D  $\n",
      "FRML <DAMP,STOC> BOLNVAGRTOTLXN = (BOLNVAGRTOTLXN(-1)*EXP(BOLNVAGRTOTLXN_A+ (-0.0147356079280249-0.312570744809675*(LOG(BOLNVAGRTOTLXN(-1))-LOG(BOLNECONPRVTXN(-1)))+1.01600850133358*((LOG(BOLNECONPRVTXN))-(LOG(BOLNECONPRVTXN(-1))))+(1-1.01600850133358)*((LOG(BOLNVAGRTOTLXN(-1)))-(LOG(BOLNVAGRTOTLXN(-2))))) )) * (1-BOLNVAGRTOTLXN_D)+ BOLNVAGRTOTLXN_X*BOLNVAGRTOTLXN_D  $\n",
      "FRML <DAMP,STOC> BOLNVINDTOTLKN = (BOLNVINDTOTLKN(-1)*EXP(BOLNVINDTOTLKN_A+ (-0.402866305364609-0.301311909263098*(LOG(BOLNVINDTOTLKN(-1))-LOG(BOLNECONPRVTKN(-1)+BOLNECONGOVTKN(-1)+BOLNEGDIFTOTKN(-1)+BOLNEEXPGNFSKN(-1)))+0.63841235461381*((LOG(BOLNECONPRVTKN+BOLNECONGOVTKN+BOLNEGDIFTOTKN+BOLNEEXPGNFSKN))-(LOG(BOLNECONPRVTKN(-1)+BOLNECONGOVTKN(-1)+BOLNEGDIFTOTKN(-1)+BOLNEEXPGNFSKN(-1))))) )) * (1-BOLNVINDTOTLKN_D)+ BOLNVINDTOTLKN_X*BOLNVINDTOTLKN_D  $\n",
      "FRML <DAMP,STOC> BOLNVINDTOTLXN = (BOLNVINDTOTLXN(-1)*EXP(BOLNVINDTOTLXN_A+ (-0.0138738510010926-0.134369840825372*(LOG(BOLNVINDTOTLXN(-1))-LOG(BOLNECONPRVTXN(-1)))+1.00218174449192*((LOG(BOLNECONPRVTXN))-(LOG(BOLNECONPRVTXN(-1))))+(1-1.00218174449192)*((LOG(BOLNVINDTOTLXN(-1)))-(LOG(BOLNVINDTOTLXN(-2))))) )) * (1-BOLNVINDTOTLXN_D)+ BOLNVINDTOTLXN_X*BOLNVINDTOTLXN_D  $\n",
      "FRML <DAMP,STOC> BOLNYGDPFCSTXN = (BOLNYGDPFCSTXN_A*BOLNYGDPFCSTXN(-1)/100+ (-0.106898881709031* (100 * ( (BOLNYGDPFCSTXN(-1)) / (BOLNYGDPFCSTXN(-2)) -1)) +(1+0.106898881709031)*(0.294917177005306* (100 * ( (BOLPSTAR) / (BOLPSTAR(-1)) -1)) +(1-0.294917177005306)*BOLINFLEXPT)-1.85094558073844*DURING_2005+0.25*BOLNYGDPGAP_) *BOLNYGDPFCSTXN(-1)/100+BOLNYGDPFCSTXN(-1)) * (1-BOLNYGDPFCSTXN_D)+ BOLNYGDPFCSTXN_X*BOLNYGDPFCSTXN_D  $\n",
      "FRML <DAMP,STOC> BOLPANUSATLS = (6.93214810636363+(-6.6969340726087+0.297501474229249*T_LR)*DURING_1986_2008 + BOLPANUSATLS_A)* (1-BOLPANUSATLS_D)+ BOLPANUSATLS_X*BOLPANUSATLS_D  $\n",
      "FRML <DAMP,STOC> BOLVELOCITY = (BOLVELOCITY(-1)*EXP(BOLVELOCITY_A+ (-0.532537159368146+0.0150196975438255*T_LR) )) * (1-BOLVELOCITY_D)+ BOLVELOCITY_X*BOLVELOCITY_D  $\n",
      "FRML <FIT> BOLBCBNIRRCN_FITTED =  ((100 * ( (BOLFIRESTOTLCD*BOLPANUSATLS) / (BOLFIRESTOTLCD(-1)*BOLPANUSATLS(-1)) -1)) -0.483420548175053*DUMH) *BOLBCBNIRRCN(-1)/100+BOLBCBNIRRCN(-1) $\n",
      "FRML <FIT> BOLBFCAFFFDICD_FITTED =  ((100 * ( (BOLNYGDPMKTPCD) / (BOLNYGDPMKTPCD(-1)) -1)) -19.332603354285*DURING_2015) *BOLBFCAFFFDICD(-1)/100+BOLBFCAFFFDICD(-1) $\n",
      "FRML <FIT> BOLBFCAFFPFTCD_FITTED =  ((100 * ( (BOLNYGDPMKTPCD) / (BOLNYGDPMKTPCD(-1)) -1)) -15.3201556009649*DURING_2015) *BOLBFCAFFPFTCD(-1)/100+BOLBFCAFFPFTCD(-1) $\n",
      "FRML <FIT> BOLBFCAFOOTHCD_FITTED =  ((100 * ( (BOLNYGDPMKTPCD) / (BOLNYGDPMKTPCD(-1)) -1)) -86.1748085437499*DURING_2015) *BOLBFCAFOOTHCD(-1)/100+BOLBFCAFOOTHCD(-1) $\n",
      "FRML <FIT> BOLBMFSTOTHRCD_FITTED = BOLNYGDPMKTPCD* (0.0397387586161685)  $\n",
      "FRML <FIT> BOLBMFSTREMTCD_FITTED = BOLBMFSTREMTCD(-1)*EXP( (0.0916805201987878-0.00704362386315875*(LOG(BOLBMFSTREMTCD(-1))-LOG(BOLNYGDPMKTPCD(-1)))-0.165536444692071*((LOG(BOLNYGDPMKTPCD))-(LOG(BOLNYGDPMKTPCD(-1))))) ) $\n",
      "FRML <FIT> BOLBMGSRGNFSCD_FITTED =  ((100 * ( (BOLNEIMPGNFSCD) / (BOLNEIMPGNFSCD(-1)) -1)) +1.94398098010802*DUMH) *BOLBMGSRGNFSCD(-1)/100+BOLBMGSRGNFSCD(-1) $\n",
      "FRML <FIT> BOLBMGSRMRCHCD_FITTED = BOLBMGSRMRCHCD(-1)*EXP( (0.0322991811971605+0.82483980396718*((LOG(BOLNEGDETTOTCN/BOLPANUSATLS))-(LOG(BOLNEGDETTOTCN(-1)/BOLPANUSATLS(-1))))) ) $\n",
      "FRML <FIT> BOLBXFSTOTHRCD_FITTED =  ((100 * ( (BOLNYGDPMKTPCD) / (BOLNYGDPMKTPCD(-1)) -1)) +4.87018760674176*DURING_2015) *BOLBXFSTOTHRCD(-1)/100+BOLBXFSTOTHRCD(-1) $\n",
      "FRML <FIT> BOLBXFSTREMTCD_FITTED = BOLBXFSTREMTCD(-1)*EXP( (0.74039472591091-0.194133634252884*(LOG(BOLBXFSTREMTCD(-1))-LOG(BOLREMT_IN(-1)))+0.98438799508863*((LOG(BOLREMT_IN))-(LOG(BOLREMT_IN(-1))))+0.0192853904220198*T_LR+0.457789605622269*DURING_2005_2007) ) $\n",
      "FRML <FIT> BOLBXGSRGNFSCD_FITTED =  ((100 * ( (BOLNEEXPGNFSCD) / (BOLNEEXPGNFSCD(-1)) -1)) +1.44639863643779*DUMH) *BOLBXGSRGNFSCD(-1)/100+BOLBXGSRGNFSCD(-1) $\n",
      "FRML <FIT> BOLBXGSRMRCHCD_FITTED = BOLBXGSRMRCHCD(-1)*EXP( (--0.0235107548741517*(LOG(BOLBXGSRMRCHCD(-1))-LOG(BOLXMKT(-1))+0.395463368849052)+1.57291320886074*((LOG(BOLXMKT))-(LOG(BOLXMKT(-1))))+(1-1.57291320886074)*((LOG(BOLREER))-(LOG(BOLREER(-1))))) ) $\n",
      "FRML <FIT> BOLFIRESTOTLCD_FITTED = BOLFIRESTOTLCD(-1)-BOLBFCAFRACGCD+57.304516662495*DUMH $\n",
      "FRML <FIT> BOLFISCASHCN_FITTED = BOLFISCASHCN(-1)*EXP( (((LOG(BOLBCBEMISCN))-(LOG(BOLBCBEMISCN(-1))))-0.00236125559643038*DUMH) ) $\n",
      "FRML <FIT> BOLFPCPITOTLXN_FITTED =  ((100 * ( (BOLNECONPRVTXN) / (BOLNECONPRVTXN(-1)) -1)) -19.4976775396926*DUMH) *BOLFPCPITOTLXN(-1)/100+BOLFPCPITOTLXN(-1) $\n",
      "FRML <FIT> BOLGGEXPCAPTCN_FITTED = BOLGGEXPCAPTCN(-1)*EXP( (-0.390535813946089*(LOG(BOLGGEXPCAPTCN(-1))-LOG(BOLNYGDPMKTPCN(-1))+1.95155391262581)+0.25488800704991*((LOG(BOLGGEXPCAPTCN(-1)))-(LOG(BOLGGEXPCAPTCN(-2))))+(1-0.25488800704991)*((LOG(BOLNYGDPMKTPCN))-(LOG(BOLNYGDPMKTPCN(-1))))) ) $\n",
      "FRML <FIT> BOLGGEXPGNFSCN_FITTED = BOLGGEXPGNFSCN(-1)*EXP( (-0.197646082213237*(LOG(BOLGGEXPGNFSCN(-1))-LOG(BOLNYGDPMKTPXN(-1))-8.65507303747141)-0.103427037943118*((LOG(BOLGGEXPGNFSCN(-1)))-(LOG(BOLGGEXPGNFSCN(-2))))+(1+0.103427037943118)*((LOG(BOLNYGDPMKTPCN))-(LOG(BOLNYGDPMKTPCN(-1))))) ) $\n",
      "FRML <FIT> BOLGGEXPTRNSCN_FITTED = BOLGGEXPTRNSCN(-1)*EXP( (-0.396955038632862*(LOG(BOLGGEXPTRNSCN(-1))-LOG(BOLNYGDPMKTPCN(-1))+2.6690154780203)+((LOG(BOLNYGDPMKTPCN))-(LOG(BOLNYGDPMKTPCN(-1))))) ) $\n",
      "FRML <FIT> BOLGGEXPWAGECN_FITTED = BOLGGEXPWAGECN(-1)*EXP( (-0.246570777516679*(LOG(BOLGGEXPWAGECN(-1))-LOG(BOLNYGDPMKTPCN(-1))+2.13841604187198)+0.188779576742104*((LOG(BOLGGEXPWAGECN(-1)))-(LOG(BOLGGEXPWAGECN(-2))))+(1-0.188779576742104)*((LOG(BOLNYGDPMKTPCN))-(LOG(BOLNYGDPMKTPCN(-1))))) ) $\n",
      "FRML <FIT> BOLGGFINDOMTCN_FITTED = (1-BOLGGFINEXTLSHARE_/100)*BOLGGFINREQMCN-9.473903143468E-14*DUMH $\n",
      "FRML <FIT> BOLGGFINEXTLCN_FITTED = BOLGGFINEXTLSHARE_/100*BOLGGFINREQMCN-1.13686837721616E-13*DUMH $\n",
      "FRML <FIT> BOLGGREVCOMMCN_FITTED = BOLGGREVCOMMER(-1)/100*BOLNVHCARDERKN-43.3408087466892*DREV $\n",
      "FRML <FIT> BOLGGREVDRCTCN_FITTED = BOLGGREVDRCTER(-1)/100*BOLNYGDPMKTPCN+61.4227830118073*DREV $\n",
      "FRML <FIT> BOLGGREVGNFSCN_FITTED = BOLGGREVGNFSER(-1)/100*(BOLNECONGOVTCN+BOLNECONPRVTCN)-72.3945821334203*DREV $\n",
      "FRML <FIT> BOLGGREVGRNTCN_FITTED = BOLNYGDPMKTPCN* (0.0416869561221862-0.00106760712183949*T_LR)  $\n",
      "FRML <FIT> BOLGGREVOTHRCN_FITTED = BOLNYGDPMKTPCN* (-0.00775914394247517+0.00150319054834872*T_LR)  $\n",
      "FRML <FIT> BOLGGREVTOTHCN_FITTED = BOLNYGDPMKTPCN* (-0.00231342092581821+0.000495308731052144*T_LR)  $\n",
      "FRML <FIT> BOLGGREVTRDECN_FITTED = BOLGGREVTRDEER(-1)/100*(BOLNEIMPGNFSCN+BOLNEEXPGNFSCN)+10.2597355099951*DREV $\n",
      "FRML <FIT> BOLLMEMPTOTL_FITTED = BOLLMEMPTOTL(-1)*EXP( (-0.811515119007926*(LOG(BOLLMEMPTOTL(-1))-LOG(BOLLMEMPSTRL(-1))-0.0253102397244294)-0.0286059479322128*(((LOG(BOLNEWRTTOTLXN/BOLNYGDPFCSTXN))-(LOG(BOLNEWRTTOTLXN(-1)/BOLNYGDPFCSTXN(-1))))-((LOG(BOLNYGDPPOTLKN/BOLLMEMPSTRL))-(LOG(BOLNYGDPPOTLKN(-1)/BOLLMEMPSTRL(-1)))))) ) $\n",
      "FRML <FIT> BOLLMPRTTOTL__FITTED = BOLLMPRTTOTL_(-1)*EXP( (-0.792715097581684*(LOG(BOLLMPRTTOTL_(-1))-LOG(BOLLMPRTSTRL_(-1)))-1.06303857648833E-07*BOLNEWRTTOTLXN) ) $\n",
      "FRML <FIT> BOLNECONGOVTCN_FITTED =  (((BOLGGEXPGNFSCN+BOLGGEXPWAGECN)-(BOLGGEXPGNFSCN(-1)+BOLGGEXPWAGECN(-1)))*BOLNECONGOVTCOV_+610.876079123829*DUMH) +BOLNECONGOVTCN(-1) $\n",
      "FRML <FIT> BOLNECONGOVTXN_FITTED = BOLNECONGOVTXN(-1)*EXP( (0.0556006612098992-0.25*(LOG(BOLNECONGOVTXN(-1))-LOG(BOLNECONPRVTXN(-1)))+0.991364184606232*((LOG(BOLNECONPRVTXN))-(LOG(BOLNECONPRVTXN(-1))))+(1-0.991364184606232)*((LOG(BOLNECONGOVTXN(-1)))-(LOG(BOLNECONGOVTXN(-2))))) ) $\n",
      "FRML <FIT> BOLNECONPRVTKN_FITTED = BOLNECONPRVTKN(-1)*EXP( (-0.114611117521899*(LOG(BOLNECONPRVTKN(-1))-LOG((BOLNYYWBTOTLCN(-1)+BOLBXFSTREMTCD(-1)*BOLPANUSATLS(-1))/BOLNECONPRVTXN(-1))-0.280814512258557)+0.074228798024175*((LOG((BOLNYYWBTOTLCN+BOLBXFSTREMTCD*BOLPANUSATLS)/BOLNECONPRVTXN))-(LOG((BOLNYYWBTOTLCN(-1)+BOLBXFSTREMTCD(-1)*BOLPANUSATLS(-1))/BOLNECONPRVTXN(-1))))-0.0244473837921488*((BOLFMLBLLRLCFR/100-((LOG(BOLNECONPRVTXN))-(LOG(BOLNECONPRVTXN(-1)))))-(BOLFMLBLLRLCFR(-1)/100-((LOG(BOLNECONPRVTXN(-1)))-(LOG(BOLNECONPRVTXN(-2))))))) ) $\n",
      "FRML <FIT> BOLNECONPRVTXN_FITTED = BOLNECONPRVTXN(-1)*EXP( (-0.0496370896464746-0.350*(LOG(BOLNECONPRVTXN(-1))-0.408*LOG(BOLNYGDPFCSTXN(-1))-(1-0.408)*LOG(BOLNEIMPGNFSXN(-1))-LOG(1+BOLGGREVGNFSER(-1)/100))+0.821*((LOG(BOLNYGDPFCSTXN))-(LOG(BOLNYGDPFCSTXN(-1))))+(1-0.821)*((LOG(BOLNEIMPGNFSXN))-(LOG(BOLNEIMPGNFSXN(-1))))+((LOG(1+BOLGGREVGNFSER/100))-(LOG(1+BOLGGREVGNFSER(-1)/100)))+0.25*BOLNYGDPGAP_/100) ) $\n",
      "FRML <FIT> BOLNEEXPGNFSKN_FITTED = BOLNEEXPGNFSKN(-1)*EXP( (0.0424094521142019-0.106660008107453*(LOG(BOLNEEXPGNFSKN(-1))-LOG(BOLXMKT(-1))+0.00833260021677034*LOG(BOLNEEXPGNFSXN(-1)/BOLNECONPRVTXN(-1)))+0.642235184906784*((LOG(BOLXMKT))-(LOG(BOLXMKT(-1))))-0.00833260021677034*((LOG(BOLNEEXPGNFSXN/BOLNECONPRVTXN))-(LOG(BOLNEEXPGNFSXN(-1)/BOLNECONPRVTXN(-1))))+0.0110216819209611*DURING_2004_2008) ) $\n",
      "FRML <FIT> BOLNEEXPGNFSXN_FITTED = BOLNEEXPGNFSXN(-1)*EXP( (1.0456279364705-0.25*(LOG(BOLNEEXPGNFSXN(-1))-0.977557935590834*LOG(BOLPXKEY(-1)*BOLPANUSATLS(-1))-(1-0.977557935590834)*BOLNYGDPFCSTXN(-1))+0.355667210652564*((LOG(BOLPXKEY*BOLPANUSATLS))-(LOG(BOLPXKEY(-1)*BOLPANUSATLS(-1))))+(1-0.355667210652564)*((LOG(BOLNYGDPFCSTXN))-(LOG(BOLNYGDPFCSTXN(-1))))-0.00170672463788847*T_LR) ) $\n",
      "FRML <FIT> BOLNEGDIFGOVCN_FITTED =  ((100 * ( (BOLGGEXPCAPTCN) / (BOLGGEXPCAPTCN(-1)) -1)) +2.39326096264973*DUMH) *BOLNEGDIFGOVCN(-1)/100+BOLNEGDIFGOVCN(-1) $\n",
      "FRML <FIT> BOLNEGDIFGOVXN_FITTED = BOLNEGDIFGOVXN(-1)*EXP( (-0.0904199524649739*(LOG(BOLNEGDIFGOVXN(-1))-LOG(BOLNECONPRVTXN(-1))-0)+0.991873463367443*((LOG(BOLNECONPRVTXN))-(LOG(BOLNECONPRVTXN(-1))))) ) $\n",
      "FRML <FIT> BOLNEGDIFPRVKN_FITTED = BOLNEGDIFPRVKN(-1)*EXP( (-0.304391770529015*(LOG(BOLNEGDIFPRVKN(-1))-LOG(1-BOLNYYWBTOTLCN_(-1))-LOG(BOLNYGDPMKTPKN(-1))+LOG(BOLNYKRTTOTLXN(-1)/BOLNYGDPFCSTXN(-1))+2.98366300325458)+1.4397977259849*((LOG(BOLNYGDPMKTPKN))-(LOG(BOLNYGDPMKTPKN(-1))))+0.243116538772055*((LOG(BOLNEGDIFPRVKN(-1)))-(LOG(BOLNEGDIFPRVKN(-2))))+0.258096889311685*((LOG(BOLNYKRTTOTLXN/BOLNEGDIFPRVXN))-(LOG(BOLNYKRTTOTLXN(-1)/BOLNEGDIFPRVXN(-1))))) ) $\n",
      "FRML <FIT> BOLNEGDIFPRVXN_FITTED = BOLNEGDIFPRVXN(-1)*EXP( (-0.00701577413777616-0.163677757984636*(LOG(BOLNEGDIFPRVXN(-1))-LOG(BOLNECONPRVTXN(-1)))+1.03683519576992*((LOG(BOLNECONPRVTXN))-(LOG(BOLNECONPRVTXN(-1))))+(1-1.03683519576992)*((LOG(BOLNEGDIFPRVXN(-1)))-(LOG(BOLNEGDIFPRVXN(-2))))) ) $\n",
      "FRML <FIT> BOLNEIMPGNFSKN_FITTED = BOLNEIMPGNFSKN(-1)*EXP( (-0.474420337968118-0.311308249178003*(LOG(BOLNEIMPGNFSKN(-1))-LOG(BOLNEGDETTOTKN(-1))+0.348256324513461*LOG(BOLNEIMPGNFSXN(-1)/(BOLNECONPRVTXN(-1))))+1.5*((LOG(BOLNEGDETTOTKN))-(LOG(BOLNEGDETTOTKN(-1))))+0.0190751270810325*DURING_2005_2009+0.00325367109097998*T_LR) ) $\n",
      "FRML <FIT> BOLNEIMPGNFSXN_FITTED = BOLNEIMPGNFSXN(-1)*EXP( (-0.30518770725524-0.33*(LOG(BOLNEIMPGNFSXN(-1))-0.785622636985042*LOG((1+BOLGGREVTRDEER(-1)/100)*BOLPMKEY(-1)*BOLPANUSATLS(-1))-(1-0.785622636985042)*BOLNYGDPFCSTXN(-1))-0.00816612576461767*((LOG((1+BOLGGREVTRDEER/100)*BOLPMKEY*BOLPANUSATLS))-(LOG((1+BOLGGREVTRDEER(-1)/100)*BOLPMKEY(-1)*BOLPANUSATLS(-1))))+(1+0.00816612576461767)*((LOG(BOLNYGDPFCSTXN))-(LOG(BOLNYGDPFCSTXN(-1))))) ) $\n",
      "FRML <FIT> BOLNEWRTTOTLXN_FITTED = BOLNEWRTTOTLXN(-1)*EXP( (-0.601517395089055*(LOG(BOLNEWRTTOTLXN(-1))-LOG(BOLNECONPRVTXN(-1)*BOLNYGDPPOTLKN(-1)/BOLLMEMPSTRL(-1))+0.341945531810098)+0.268250563202274*((LOG(BOLNEWRTTOTLXN(-1)))-(LOG(BOLNEWRTTOTLXN(-2))))+(1-0.268250563202274)*(((LOG(BOLNECONPRVTXN))-(LOG(BOLNECONPRVTXN(-1))))+((LOG(BOLNYGDPPOTLKN/BOLLMEMPSTRL))-(LOG(BOLNYGDPPOTLKN(-1)/BOLLMEMPSTRL(-1)))))) ) $\n",
      "FRML <FIT> BOLNVAGRTOTLKN_FITTED = BOLNVAGRTOTLKN(-1)*EXP( (-0.180559527055918-0.0805644258830162*(LOG(BOLNVAGRTOTLKN(-1))-LOG(BOLNECONPRVTKN(-1)+BOLNECONGOVTKN(-1)+BOLNEGDIFTOTKN(-1)+BOLNEEXPGNFSKN(-1)))+1.03174653851182*((LOG(BOLNECONPRVTKN+BOLNECONGOVTKN+BOLNEGDIFTOTKN+BOLNEEXPGNFSKN))-(LOG(BOLNECONPRVTKN(-1)+BOLNECONGOVTKN(-1)+BOLNEGDIFTOTKN(-1)+BOLNEEXPGNFSKN(-1))))+(1-1.03174653851182)*((LOG(BOLNVAGRTOTLKN(-1)))-(LOG(BOLNVAGRTOTLKN(-2))))) ) $\n",
      "FRML <FIT> BOLNVAGRTOTLXN_FITTED = BOLNVAGRTOTLXN(-1)*EXP( (-0.0147356079280249-0.312570744809675*(LOG(BOLNVAGRTOTLXN(-1))-LOG(BOLNECONPRVTXN(-1)))+1.01600850133358*((LOG(BOLNECONPRVTXN))-(LOG(BOLNECONPRVTXN(-1))))+(1-1.01600850133358)*((LOG(BOLNVAGRTOTLXN(-1)))-(LOG(BOLNVAGRTOTLXN(-2))))) ) $\n",
      "FRML <FIT> BOLNVINDTOTLKN_FITTED = BOLNVINDTOTLKN(-1)*EXP( (-0.402866305364609-0.301311909263098*(LOG(BOLNVINDTOTLKN(-1))-LOG(BOLNECONPRVTKN(-1)+BOLNECONGOVTKN(-1)+BOLNEGDIFTOTKN(-1)+BOLNEEXPGNFSKN(-1)))+0.63841235461381*((LOG(BOLNECONPRVTKN+BOLNECONGOVTKN+BOLNEGDIFTOTKN+BOLNEEXPGNFSKN))-(LOG(BOLNECONPRVTKN(-1)+BOLNECONGOVTKN(-1)+BOLNEGDIFTOTKN(-1)+BOLNEEXPGNFSKN(-1))))) ) $\n",
      "FRML <FIT> BOLNVINDTOTLXN_FITTED = BOLNVINDTOTLXN(-1)*EXP( (-0.0138738510010926-0.134369840825372*(LOG(BOLNVINDTOTLXN(-1))-LOG(BOLNECONPRVTXN(-1)))+1.00218174449192*((LOG(BOLNECONPRVTXN))-(LOG(BOLNECONPRVTXN(-1))))+(1-1.00218174449192)*((LOG(BOLNVINDTOTLXN(-1)))-(LOG(BOLNVINDTOTLXN(-2))))) ) $\n",
      "FRML <FIT> BOLNYGDPFCSTXN_FITTED =  (-0.106898881709031* (100 * ( (BOLNYGDPFCSTXN(-1)) / (BOLNYGDPFCSTXN(-2)) -1)) +(1+0.106898881709031)*(0.294917177005306* (100 * ( (BOLPSTAR) / (BOLPSTAR(-1)) -1)) +(1-0.294917177005306)*BOLINFLEXPT)-1.85094558073844*DURING_2005+0.25*BOLNYGDPGAP_) *BOLNYGDPFCSTXN(-1)/100+BOLNYGDPFCSTXN(-1) $\n",
      "FRML <FIT> BOLPANUSATLS_FITTED = 6.93214810636363+(-6.6969340726087+0.297501474229249*T_LR)*DURING_1986_2008 $\n",
      "FRML <FIT> BOLVELOCITY_FITTED = BOLVELOCITY(-1)*EXP( (-0.532537159368146+0.0150196975438255*T_LR) ) $FRML <CALC_ADD_FACTOR> BOLBCBNIRRCN_A = 100*BOLBCBNIRRCN/BOLBCBNIRRCN(-1)- (((100 * ( (BOLFIRESTOTLCD*BOLPANUSATLS) / (BOLFIRESTOTLCD(-1)*BOLPANUSATLS(-1)) -1)) -0.483420548175053*DUMH)) -100$\n",
      "FRML <CALC_ADD_FACTOR> BOLBFCAFFFDICD_A = 100*BOLBFCAFFFDICD/BOLBFCAFFFDICD(-1)- (((100 * ( (BOLNYGDPMKTPCD) / (BOLNYGDPMKTPCD(-1)) -1)) -19.332603354285*DURING_2015)) -100$\n",
      "FRML <CALC_ADD_FACTOR> BOLBFCAFFPFTCD_A = 100*BOLBFCAFFPFTCD/BOLBFCAFFPFTCD(-1)- (((100 * ( (BOLNYGDPMKTPCD) / (BOLNYGDPMKTPCD(-1)) -1)) -15.3201556009649*DURING_2015)) -100$\n",
      "FRML <CALC_ADD_FACTOR> BOLBFCAFOOTHCD_A = 100*BOLBFCAFOOTHCD/BOLBFCAFOOTHCD(-1)- (((100 * ( (BOLNYGDPMKTPCD) / (BOLNYGDPMKTPCD(-1)) -1)) -86.1748085437499*DURING_2015)) -100$\n",
      "FRML <CALC_ADD_FACTOR> BOLBMFSTOTHRCD_A = BOLBMFSTOTHRCD/BOLNYGDPMKTPCD- ((0.0397387586161685)) $\n",
      "FRML <CALC_ADD_FACTOR> BOLBMFSTREMTCD_A = - ((0.0916805201987878-0.00704362386315875*(LOG(BOLBMFSTREMTCD(-1))-LOG(BOLNYGDPMKTPCD(-1)))-0.165536444692071*((LOG(BOLNYGDPMKTPCD))-(LOG(BOLNYGDPMKTPCD(-1)))))) +LOG(BOLBMFSTREMTCD)-LOG(BOLBMFSTREMTCD(-1))$\n",
      "FRML <CALC_ADD_FACTOR> BOLBMGSRGNFSCD_A = 100*BOLBMGSRGNFSCD/BOLBMGSRGNFSCD(-1)- (((100 * ( (BOLNEIMPGNFSCD) / (BOLNEIMPGNFSCD(-1)) -1)) +1.94398098010802*DUMH)) -100$\n",
      "FRML <CALC_ADD_FACTOR> BOLBMGSRMRCHCD_A = - ((0.0322991811971605+0.82483980396718*((LOG(BOLNEGDETTOTCN/BOLPANUSATLS))-(LOG(BOLNEGDETTOTCN(-1)/BOLPANUSATLS(-1)))))) +LOG(BOLBMGSRMRCHCD)-LOG(BOLBMGSRMRCHCD(-1))$\n",
      "FRML <CALC_ADD_FACTOR> BOLBXFSTOTHRCD_A = 100*BOLBXFSTOTHRCD/BOLBXFSTOTHRCD(-1)- (((100 * ( (BOLNYGDPMKTPCD) / (BOLNYGDPMKTPCD(-1)) -1)) +4.87018760674176*DURING_2015)) -100$\n",
      "FRML <CALC_ADD_FACTOR> BOLBXFSTREMTCD_A = - ((0.74039472591091-0.194133634252884*(LOG(BOLBXFSTREMTCD(-1))-LOG(BOLREMT_IN(-1)))+0.98438799508863*((LOG(BOLREMT_IN))-(LOG(BOLREMT_IN(-1))))+0.0192853904220198*T_LR+0.457789605622269*DURING_2005_2007)) +LOG(BOLBXFSTREMTCD)-LOG(BOLBXFSTREMTCD(-1))$\n",
      "FRML <CALC_ADD_FACTOR> BOLBXGSRGNFSCD_A = 100*BOLBXGSRGNFSCD/BOLBXGSRGNFSCD(-1)- (((100 * ( (BOLNEEXPGNFSCD) / (BOLNEEXPGNFSCD(-1)) -1)) +1.44639863643779*DUMH)) -100$\n",
      "FRML <CALC_ADD_FACTOR> BOLBXGSRMRCHCD_A = - ((--0.0235107548741517*(LOG(BOLBXGSRMRCHCD(-1))-LOG(BOLXMKT(-1))+0.395463368849052)+1.57291320886074*((LOG(BOLXMKT))-(LOG(BOLXMKT(-1))))+(1-1.57291320886074)*((LOG(BOLREER))-(LOG(BOLREER(-1)))))) +LOG(BOLBXGSRMRCHCD)-LOG(BOLBXGSRMRCHCD(-1))$\n",
      "FRML <CALC_ADD_FACTOR> BOLFIRESTOTLCD_A = (BOLFIRESTOTLCD) - (BOLFIRESTOTLCD(-1)-BOLBFCAFRACGCD+57.304516662495*DUMH)$\n",
      "FRML <CALC_ADD_FACTOR> BOLFISCASHCN_A = - ((((LOG(BOLBCBEMISCN))-(LOG(BOLBCBEMISCN(-1))))-0.00236125559643038*DUMH)) +LOG(BOLFISCASHCN)-LOG(BOLFISCASHCN(-1))$\n",
      "FRML <CALC_ADD_FACTOR> BOLFPCPITOTLXN_A = 100*BOLFPCPITOTLXN/BOLFPCPITOTLXN(-1)- (((100 * ( (BOLNECONPRVTXN) / (BOLNECONPRVTXN(-1)) -1)) -19.4976775396926*DUMH)) -100$\n",
      "FRML <CALC_ADD_FACTOR> BOLGGEXPCAPTCN_A = - ((-0.390535813946089*(LOG(BOLGGEXPCAPTCN(-1))-LOG(BOLNYGDPMKTPCN(-1))+1.95155391262581)+0.25488800704991*((LOG(BOLGGEXPCAPTCN(-1)))-(LOG(BOLGGEXPCAPTCN(-2))))+(1-0.25488800704991)*((LOG(BOLNYGDPMKTPCN))-(LOG(BOLNYGDPMKTPCN(-1)))))) +LOG(BOLGGEXPCAPTCN)-LOG(BOLGGEXPCAPTCN(-1))$\n",
      "FRML <CALC_ADD_FACTOR> BOLGGEXPGNFSCN_A = - ((-0.197646082213237*(LOG(BOLGGEXPGNFSCN(-1))-LOG(BOLNYGDPMKTPXN(-1))-8.65507303747141)-0.103427037943118*((LOG(BOLGGEXPGNFSCN(-1)))-(LOG(BOLGGEXPGNFSCN(-2))))+(1+0.103427037943118)*((LOG(BOLNYGDPMKTPCN))-(LOG(BOLNYGDPMKTPCN(-1)))))) +LOG(BOLGGEXPGNFSCN)-LOG(BOLGGEXPGNFSCN(-1))$\n",
      "FRML <CALC_ADD_FACTOR> BOLGGEXPTRNSCN_A = - ((-0.396955038632862*(LOG(BOLGGEXPTRNSCN(-1))-LOG(BOLNYGDPMKTPCN(-1))+2.6690154780203)+((LOG(BOLNYGDPMKTPCN))-(LOG(BOLNYGDPMKTPCN(-1)))))) +LOG(BOLGGEXPTRNSCN)-LOG(BOLGGEXPTRNSCN(-1))$\n",
      "FRML <CALC_ADD_FACTOR> BOLGGEXPWAGECN_A = - ((-0.246570777516679*(LOG(BOLGGEXPWAGECN(-1))-LOG(BOLNYGDPMKTPCN(-1))+2.13841604187198)+0.188779576742104*((LOG(BOLGGEXPWAGECN(-1)))-(LOG(BOLGGEXPWAGECN(-2))))+(1-0.188779576742104)*((LOG(BOLNYGDPMKTPCN))-(LOG(BOLNYGDPMKTPCN(-1)))))) +LOG(BOLGGEXPWAGECN)-LOG(BOLGGEXPWAGECN(-1))$\n",
      "FRML <CALC_ADD_FACTOR> BOLGGFINDOMTCN_A = (BOLGGFINDOMTCN) - ((1-BOLGGFINEXTLSHARE_/100)*BOLGGFINREQMCN-9.473903143468E-14*DUMH)$\n",
      "FRML <CALC_ADD_FACTOR> BOLGGFINEXTLCN_A = (BOLGGFINEXTLCN) - (BOLGGFINEXTLSHARE_/100*BOLGGFINREQMCN-1.13686837721616E-13*DUMH)$\n",
      "FRML <CALC_ADD_FACTOR> BOLGGREVCOMMCN_A = (BOLGGREVCOMMCN) - (BOLGGREVCOMMER(-1)/100*BOLNVHCARDERKN-43.3408087466892*DREV)$\n",
      "FRML <CALC_ADD_FACTOR> BOLGGREVDRCTCN_A = (BOLGGREVDRCTCN) - (BOLGGREVDRCTER(-1)/100*BOLNYGDPMKTPCN+61.4227830118073*DREV)$\n",
      "FRML <CALC_ADD_FACTOR> BOLGGREVGNFSCN_A = (BOLGGREVGNFSCN) - (BOLGGREVGNFSER(-1)/100*(BOLNECONGOVTCN+BOLNECONPRVTCN)-72.3945821334203*DREV)$\n",
      "FRML <CALC_ADD_FACTOR> BOLGGREVGRNTCN_A = BOLGGREVGRNTCN/BOLNYGDPMKTPCN- ((0.0416869561221862-0.00106760712183949*T_LR)) $\n",
      "FRML <CALC_ADD_FACTOR> BOLGGREVOTHRCN_A = BOLGGREVOTHRCN/BOLNYGDPMKTPCN- ((-0.00775914394247517+0.00150319054834872*T_LR)) $\n",
      "FRML <CALC_ADD_FACTOR> BOLGGREVTOTHCN_A = BOLGGREVTOTHCN/BOLNYGDPMKTPCN- ((-0.00231342092581821+0.000495308731052144*T_LR)) $\n",
      "FRML <CALC_ADD_FACTOR> BOLGGREVTRDECN_A = (BOLGGREVTRDECN) - (BOLGGREVTRDEER(-1)/100*(BOLNEIMPGNFSCN+BOLNEEXPGNFSCN)+10.2597355099951*DREV)$\n",
      "FRML <CALC_ADD_FACTOR> BOLLMEMPTOTL_A = - ((-0.811515119007926*(LOG(BOLLMEMPTOTL(-1))-LOG(BOLLMEMPSTRL(-1))-0.0253102397244294)-0.0286059479322128*(((LOG(BOLNEWRTTOTLXN/BOLNYGDPFCSTXN))-(LOG(BOLNEWRTTOTLXN(-1)/BOLNYGDPFCSTXN(-1))))-((LOG(BOLNYGDPPOTLKN/BOLLMEMPSTRL))-(LOG(BOLNYGDPPOTLKN(-1)/BOLLMEMPSTRL(-1))))))) +LOG(BOLLMEMPTOTL)-LOG(BOLLMEMPTOTL(-1))$\n",
      "FRML <CALC_ADD_FACTOR> BOLLMPRTTOTL__A = - ((-0.792715097581684*(LOG(BOLLMPRTTOTL_(-1))-LOG(BOLLMPRTSTRL_(-1)))-1.06303857648833E-07*BOLNEWRTTOTLXN)) +LOG(BOLLMPRTTOTL_)-LOG(BOLLMPRTTOTL_(-1))$\n",
      "FRML <CALC_ADD_FACTOR> BOLNECONGOVTCN_A = BOLNECONGOVTCN- ((((BOLGGEXPGNFSCN+BOLGGEXPWAGECN)-(BOLGGEXPGNFSCN(-1)+BOLGGEXPWAGECN(-1)))*BOLNECONGOVTCOV_+610.876079123829*DUMH)) -BOLNECONGOVTCN(-1)$\n",
      "FRML <CALC_ADD_FACTOR> BOLNECONGOVTXN_A = - ((0.0556006612098992-0.25*(LOG(BOLNECONGOVTXN(-1))-LOG(BOLNECONPRVTXN(-1)))+0.991364184606232*((LOG(BOLNECONPRVTXN))-(LOG(BOLNECONPRVTXN(-1))))+(1-0.991364184606232)*((LOG(BOLNECONGOVTXN(-1)))-(LOG(BOLNECONGOVTXN(-2)))))) +LOG(BOLNECONGOVTXN)-LOG(BOLNECONGOVTXN(-1))$\n",
      "FRML <CALC_ADD_FACTOR> BOLNECONPRVTKN_A = - ((-0.114611117521899*(LOG(BOLNECONPRVTKN(-1))-LOG((BOLNYYWBTOTLCN(-1)+BOLBXFSTREMTCD(-1)*BOLPANUSATLS(-1))/BOLNECONPRVTXN(-1))-0.280814512258557)+0.074228798024175*((LOG((BOLNYYWBTOTLCN+BOLBXFSTREMTCD*BOLPANUSATLS)/BOLNECONPRVTXN))-(LOG((BOLNYYWBTOTLCN(-1)+BOLBXFSTREMTCD(-1)*BOLPANUSATLS(-1))/BOLNECONPRVTXN(-1))))-0.0244473837921488*((BOLFMLBLLRLCFR/100-((LOG(BOLNECONPRVTXN))-(LOG(BOLNECONPRVTXN(-1)))))-(BOLFMLBLLRLCFR(-1)/100-((LOG(BOLNECONPRVTXN(-1)))-(LOG(BOLNECONPRVTXN(-2)))))))) +LOG(BOLNECONPRVTKN)-LOG(BOLNECONPRVTKN(-1))$\n",
      "FRML <CALC_ADD_FACTOR> BOLNECONPRVTXN_A = - ((-0.0496370896464746-0.350*(LOG(BOLNECONPRVTXN(-1))-0.408*LOG(BOLNYGDPFCSTXN(-1))-(1-0.408)*LOG(BOLNEIMPGNFSXN(-1))-LOG(1+BOLGGREVGNFSER(-1)/100))+0.821*((LOG(BOLNYGDPFCSTXN))-(LOG(BOLNYGDPFCSTXN(-1))))+(1-0.821)*((LOG(BOLNEIMPGNFSXN))-(LOG(BOLNEIMPGNFSXN(-1))))+((LOG(1+BOLGGREVGNFSER/100))-(LOG(1+BOLGGREVGNFSER(-1)/100)))+0.25*BOLNYGDPGAP_/100)) +LOG(BOLNECONPRVTXN)-LOG(BOLNECONPRVTXN(-1))$\n",
      "FRML <CALC_ADD_FACTOR> BOLNEEXPGNFSKN_A = - ((0.0424094521142019-0.106660008107453*(LOG(BOLNEEXPGNFSKN(-1))-LOG(BOLXMKT(-1))+0.00833260021677034*LOG(BOLNEEXPGNFSXN(-1)/BOLNECONPRVTXN(-1)))+0.642235184906784*((LOG(BOLXMKT))-(LOG(BOLXMKT(-1))))-0.00833260021677034*((LOG(BOLNEEXPGNFSXN/BOLNECONPRVTXN))-(LOG(BOLNEEXPGNFSXN(-1)/BOLNECONPRVTXN(-1))))+0.0110216819209611*DURING_2004_2008)) +LOG(BOLNEEXPGNFSKN)-LOG(BOLNEEXPGNFSKN(-1))$\n",
      "FRML <CALC_ADD_FACTOR> BOLNEEXPGNFSXN_A = - ((1.0456279364705-0.25*(LOG(BOLNEEXPGNFSXN(-1))-0.977557935590834*LOG(BOLPXKEY(-1)*BOLPANUSATLS(-1))-(1-0.977557935590834)*BOLNYGDPFCSTXN(-1))+0.355667210652564*((LOG(BOLPXKEY*BOLPANUSATLS))-(LOG(BOLPXKEY(-1)*BOLPANUSATLS(-1))))+(1-0.355667210652564)*((LOG(BOLNYGDPFCSTXN))-(LOG(BOLNYGDPFCSTXN(-1))))-0.00170672463788847*T_LR)) +LOG(BOLNEEXPGNFSXN)-LOG(BOLNEEXPGNFSXN(-1))$\n",
      "FRML <CALC_ADD_FACTOR> BOLNEGDIFGOVCN_A = 100*BOLNEGDIFGOVCN/BOLNEGDIFGOVCN(-1)- (((100 * ( (BOLGGEXPCAPTCN) / (BOLGGEXPCAPTCN(-1)) -1)) +2.39326096264973*DUMH)) -100$\n",
      "FRML <CALC_ADD_FACTOR> BOLNEGDIFGOVXN_A = - ((-0.0904199524649739*(LOG(BOLNEGDIFGOVXN(-1))-LOG(BOLNECONPRVTXN(-1))-0)+0.991873463367443*((LOG(BOLNECONPRVTXN))-(LOG(BOLNECONPRVTXN(-1)))))) +LOG(BOLNEGDIFGOVXN)-LOG(BOLNEGDIFGOVXN(-1))$\n",
      "FRML <CALC_ADD_FACTOR> BOLNEGDIFPRVKN_A = - ((-0.304391770529015*(LOG(BOLNEGDIFPRVKN(-1))-LOG(1-BOLNYYWBTOTLCN_(-1))-LOG(BOLNYGDPMKTPKN(-1))+LOG(BOLNYKRTTOTLXN(-1)/BOLNYGDPFCSTXN(-1))+2.98366300325458)+1.4397977259849*((LOG(BOLNYGDPMKTPKN))-(LOG(BOLNYGDPMKTPKN(-1))))+0.243116538772055*((LOG(BOLNEGDIFPRVKN(-1)))-(LOG(BOLNEGDIFPRVKN(-2))))+0.258096889311685*((LOG(BOLNYKRTTOTLXN/BOLNEGDIFPRVXN))-(LOG(BOLNYKRTTOTLXN(-1)/BOLNEGDIFPRVXN(-1)))))) +LOG(BOLNEGDIFPRVKN)-LOG(BOLNEGDIFPRVKN(-1))$\n",
      "FRML <CALC_ADD_FACTOR> BOLNEGDIFPRVXN_A = - ((-0.00701577413777616-0.163677757984636*(LOG(BOLNEGDIFPRVXN(-1))-LOG(BOLNECONPRVTXN(-1)))+1.03683519576992*((LOG(BOLNECONPRVTXN))-(LOG(BOLNECONPRVTXN(-1))))+(1-1.03683519576992)*((LOG(BOLNEGDIFPRVXN(-1)))-(LOG(BOLNEGDIFPRVXN(-2)))))) +LOG(BOLNEGDIFPRVXN)-LOG(BOLNEGDIFPRVXN(-1))$\n",
      "FRML <CALC_ADD_FACTOR> BOLNEIMPGNFSKN_A = - ((-0.474420337968118-0.311308249178003*(LOG(BOLNEIMPGNFSKN(-1))-LOG(BOLNEGDETTOTKN(-1))+0.348256324513461*LOG(BOLNEIMPGNFSXN(-1)/(BOLNECONPRVTXN(-1))))+1.5*((LOG(BOLNEGDETTOTKN))-(LOG(BOLNEGDETTOTKN(-1))))+0.0190751270810325*DURING_2005_2009+0.00325367109097998*T_LR)) +LOG(BOLNEIMPGNFSKN)-LOG(BOLNEIMPGNFSKN(-1))$\n",
      "FRML <CALC_ADD_FACTOR> BOLNEIMPGNFSXN_A = - ((-0.30518770725524-0.33*(LOG(BOLNEIMPGNFSXN(-1))-0.785622636985042*LOG((1+BOLGGREVTRDEER(-1)/100)*BOLPMKEY(-1)*BOLPANUSATLS(-1))-(1-0.785622636985042)*BOLNYGDPFCSTXN(-1))-0.00816612576461767*((LOG((1+BOLGGREVTRDEER/100)*BOLPMKEY*BOLPANUSATLS))-(LOG((1+BOLGGREVTRDEER(-1)/100)*BOLPMKEY(-1)*BOLPANUSATLS(-1))))+(1+0.00816612576461767)*((LOG(BOLNYGDPFCSTXN))-(LOG(BOLNYGDPFCSTXN(-1)))))) +LOG(BOLNEIMPGNFSXN)-LOG(BOLNEIMPGNFSXN(-1))$\n",
      "FRML <CALC_ADD_FACTOR> BOLNEWRTTOTLXN_A = - ((-0.601517395089055*(LOG(BOLNEWRTTOTLXN(-1))-LOG(BOLNECONPRVTXN(-1)*BOLNYGDPPOTLKN(-1)/BOLLMEMPSTRL(-1))+0.341945531810098)+0.268250563202274*((LOG(BOLNEWRTTOTLXN(-1)))-(LOG(BOLNEWRTTOTLXN(-2))))+(1-0.268250563202274)*(((LOG(BOLNECONPRVTXN))-(LOG(BOLNECONPRVTXN(-1))))+((LOG(BOLNYGDPPOTLKN/BOLLMEMPSTRL))-(LOG(BOLNYGDPPOTLKN(-1)/BOLLMEMPSTRL(-1))))))) +LOG(BOLNEWRTTOTLXN)-LOG(BOLNEWRTTOTLXN(-1))$\n",
      "FRML <CALC_ADD_FACTOR> BOLNVAGRTOTLKN_A = - ((-0.180559527055918-0.0805644258830162*(LOG(BOLNVAGRTOTLKN(-1))-LOG(BOLNECONPRVTKN(-1)+BOLNECONGOVTKN(-1)+BOLNEGDIFTOTKN(-1)+BOLNEEXPGNFSKN(-1)))+1.03174653851182*((LOG(BOLNECONPRVTKN+BOLNECONGOVTKN+BOLNEGDIFTOTKN+BOLNEEXPGNFSKN))-(LOG(BOLNECONPRVTKN(-1)+BOLNECONGOVTKN(-1)+BOLNEGDIFTOTKN(-1)+BOLNEEXPGNFSKN(-1))))+(1-1.03174653851182)*((LOG(BOLNVAGRTOTLKN(-1)))-(LOG(BOLNVAGRTOTLKN(-2)))))) +LOG(BOLNVAGRTOTLKN)-LOG(BOLNVAGRTOTLKN(-1))$\n",
      "FRML <CALC_ADD_FACTOR> BOLNVAGRTOTLXN_A = - ((-0.0147356079280249-0.312570744809675*(LOG(BOLNVAGRTOTLXN(-1))-LOG(BOLNECONPRVTXN(-1)))+1.01600850133358*((LOG(BOLNECONPRVTXN))-(LOG(BOLNECONPRVTXN(-1))))+(1-1.01600850133358)*((LOG(BOLNVAGRTOTLXN(-1)))-(LOG(BOLNVAGRTOTLXN(-2)))))) +LOG(BOLNVAGRTOTLXN)-LOG(BOLNVAGRTOTLXN(-1))$\n",
      "FRML <CALC_ADD_FACTOR> BOLNVINDTOTLKN_A = - ((-0.402866305364609-0.301311909263098*(LOG(BOLNVINDTOTLKN(-1))-LOG(BOLNECONPRVTKN(-1)+BOLNECONGOVTKN(-1)+BOLNEGDIFTOTKN(-1)+BOLNEEXPGNFSKN(-1)))+0.63841235461381*((LOG(BOLNECONPRVTKN+BOLNECONGOVTKN+BOLNEGDIFTOTKN+BOLNEEXPGNFSKN))-(LOG(BOLNECONPRVTKN(-1)+BOLNECONGOVTKN(-1)+BOLNEGDIFTOTKN(-1)+BOLNEEXPGNFSKN(-1)))))) +LOG(BOLNVINDTOTLKN)-LOG(BOLNVINDTOTLKN(-1))$\n",
      "FRML <CALC_ADD_FACTOR> BOLNVINDTOTLXN_A = - ((-0.0138738510010926-0.134369840825372*(LOG(BOLNVINDTOTLXN(-1))-LOG(BOLNECONPRVTXN(-1)))+1.00218174449192*((LOG(BOLNECONPRVTXN))-(LOG(BOLNECONPRVTXN(-1))))+(1-1.00218174449192)*((LOG(BOLNVINDTOTLXN(-1)))-(LOG(BOLNVINDTOTLXN(-2)))))) +LOG(BOLNVINDTOTLXN)-LOG(BOLNVINDTOTLXN(-1))$\n",
      "FRML <CALC_ADD_FACTOR> BOLNYGDPFCSTXN_A = 100*BOLNYGDPFCSTXN/BOLNYGDPFCSTXN(-1)- ((-0.106898881709031* (100 * ( (BOLNYGDPFCSTXN(-1)) / (BOLNYGDPFCSTXN(-2)) -1)) +(1+0.106898881709031)*(0.294917177005306* (100 * ( (BOLPSTAR) / (BOLPSTAR(-1)) -1)) +(1-0.294917177005306)*BOLINFLEXPT)-1.85094558073844*DURING_2005+0.25*BOLNYGDPGAP_)) -100$\n",
      "FRML <CALC_ADD_FACTOR> BOLPANUSATLS_A = (BOLPANUSATLS) - (6.93214810636363+(-6.6969340726087+0.297501474229249*T_LR)*DURING_1986_2008)$\n",
      "FRML <CALC_ADD_FACTOR> BOLVELOCITY_A = - ((-0.532537159368146+0.0150196975438255*T_LR)) +LOG(BOLVELOCITY)-LOG(BOLVELOCITY(-1))$\n"
     ]
    }
   ],
   "source": [
    "print(mmda.equations)"
   ]
  },
  {
   "cell_type": "code",
   "execution_count": null,
   "id": "239d4345",
   "metadata": {},
   "outputs": [],
   "source": [
    "mmda.modeldump('test.pcim')"
   ]
  },
  {
   "cell_type": "code",
   "execution_count": null,
   "id": "7c44f4d0",
   "metadata": {},
   "outputs": [],
   "source": [
    "!dir *.pcim"
   ]
  },
  {
   "cell_type": "code",
   "execution_count": null,
   "id": "4f225a58",
   "metadata": {},
   "outputs": [],
   "source": []
  }
 ],
 "metadata": {
  "celltoolbar": "Tags",
  "hide_input": false,
  "kernelspec": {
   "display_name": "Python 3 (ipykernel)",
   "language": "python",
   "name": "python3"
  },
  "language_info": {
   "codemirror_mode": {
    "name": "ipython",
    "version": 3
   },
   "file_extension": ".py",
   "mimetype": "text/x-python",
   "name": "python",
   "nbconvert_exporter": "python",
   "pygments_lexer": "ipython3",
   "version": "3.12.6"
  },
  "toc": {
   "base_numbering": 1,
   "nav_menu": {},
   "number_sections": false,
   "sideBar": true,
   "skip_h1_title": true,
   "title_cell": "Table of Contents",
   "title_sidebar": "Contents",
   "toc_cell": false,
   "toc_position": {},
   "toc_section_display": true,
   "toc_window_display": false
  },
  "varInspector": {
   "cols": {
    "lenName": 16,
    "lenType": 16,
    "lenVar": 40
   },
   "kernels_config": {
    "python": {
     "delete_cmd_postfix": "",
     "delete_cmd_prefix": "del ",
     "library": "var_list.py",
     "varRefreshCmd": "print(var_dic_list())"
    },
    "r": {
     "delete_cmd_postfix": ") ",
     "delete_cmd_prefix": "rm(",
     "library": "var_list.r",
     "varRefreshCmd": "cat(var_dic_list()) "
    }
   },
   "position": {
    "height": "523.849px",
    "left": "1662.61px",
    "right": "20px",
    "top": "45.9915px",
    "width": "800px"
   },
   "types_to_exclude": [
    "module",
    "function",
    "builtin_function_or_method",
    "instance",
    "_Feature"
   ],
   "window_display": false
  }
 },
 "nbformat": 4,
 "nbformat_minor": 5
}
