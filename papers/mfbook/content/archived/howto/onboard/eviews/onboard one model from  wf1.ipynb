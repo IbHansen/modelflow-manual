{
 "cells": [
  {
   "cell_type": "markdown",
   "id": "fb69443b",
   "metadata": {},
   "source": [
    "(onboardone)=\n",
    "# Import a World Bank Eviews model from its solution file (.wf1)# Import a World Bank Eviews model from its solution file (.wf1)\n",
    "This notebook takes a .wf1 workfile and transforms it into a modelflow model.\n",
    "\n",
    "Most standard World Bank models should work with limited intervention.  Some using unusual techniques or variable definitions may require intervention by the user.\n",
    "\n",
    "## Overview of the import process\n",
    "\n",
    "The overall import process is performed by a special a ModelFlow class named:**GrabWfModel**. Certain steps require the use of EViews itself.  This howto was designed using EViews version 12, but has been tested with versions 13 and 14.\n",
    "\n",
    "Steps to follow:\n",
    " 1. Start EViews and open the solution file \n",
    "    -    If returning to this step after an initial error perform transformations on the data (needed in some cases where special EViews functions are used in the model).\n",
    "    -    The UNlink the model. This transforms linked equations into explicit equations in the EViews model object. \n",
    "    -    Save the revised model as a .wf2 file  (the .wf2 is a JSON format that can be easily read into python), with the same name as the original file but with \"\\_modelflow\" appended to the name.\n",
    "    \n",
    " 5. Close Eviews.\n",
    " 6. The wf2 file is read as a json file. \n",
    " 7. Relevant objects are extracted. \n",
    " 7. The MFMSAOptions strinng from the views file is  extracted, to be saved in the ModelFlow pcim file. \n",
    " 8. The equations are transformed and normalized to modelflow format and classified into identities and stochastic\n",
    " 9. Stochastic equations are enriched by add_factor and fixing terms (dummy + fixing value)  \n",
    " 9. For Stochastic equations new fitted variables are generated - without add add_factors and dummies.  \n",
    " 9. A model to generate fitted variables is created  \n",
    " 9. A model to generate add_factors is created. \n",
    " 9. A model encompassing the original equations, the model for fitted variables and for add_factors is created. \n",
    " 9. The data series and scalars are shoveled into a Pandas dataframe \n",
    "     - Some special series are generated, for the case where an inline function is used in EViews that can not be translated directly into modelflow model specifications\n",
    "     - The model for fitted values is simulated in the specified timespan\n",
    "     - The model for add_factors is simulated in the timespan set in MFMSAOptions\n",
    " 10. The data descriptions are extracted into a dictionary. \n",
    "    - Data descriptions for dummies, fixed values, fitted values and add_factors are derived. \n",
    " 11. Now we have a model and a dataframe with all variables which are needed.\n",
    " \n",
    "The GrapWfModel instance in general keeps most of the steps so the developer can inspect the the different steps.  \n",
    "  \n"
   ]
  },
  {
   "cell_type": "markdown",
   "id": "55349107",
   "metadata": {},
   "source": [
    "## Prerequisites  \n",
    "\n",
    "The import process requires EViews and tehrefore cannot be run on a non-windows computerthat does not have EViews 12 or later installed.  It also assumes that the python library `pyeviews` has been installed (`conda install pyeviews`).  `pyeviews` uses the EViews com interface to control eviews, allowing a python script to directly manipulate parts of the eviews model using eviews itself.  This is required only for the import process.\n"
   ]
  },
  {
   "cell_type": "code",
   "execution_count": 1,
   "id": "c7be5a48",
   "metadata": {},
   "outputs": [],
   "source": [
    "#tell matplotlib we are running in a notebook\n",
    "%matplotlib Notebook "
   ]
  },
  {
   "cell_type": "code",
   "execution_count": 2,
   "id": "fa9578fb",
   "metadata": {},
   "outputs": [
    {
     "data": {
      "text/html": [
       "\n",
       "        <style>\n",
       "            div#notebook-container    { width: 95%; }\n",
       "            div#menubar-container     { width: 65%; }\n",
       "            div#maintoolbar-container { width: 99%; }\n",
       "        </style>\n",
       "        "
      ],
      "text/plain": [
       "<IPython.core.display.HTML object>"
      ]
     },
     "metadata": {},
     "output_type": "display_data"
    },
    {
     "data": {
      "application/javascript": [
       "\n",
       "                    IPython.OutputArea.prototype._should_scroll = function(lines){\n",
       "                        return false;\n",
       "                    }\n",
       "                "
      ],
      "text/plain": [
       "<IPython.core.display.Javascript object>"
      ]
     },
     "metadata": {},
     "output_type": "display_data"
    }
   ],
   "source": [
    "from pathlib import Path\n",
    "\n",
    "from modelclass import model \n",
    "from modelgrabwf2 import GrabWfModel  #this is the class (part of the Modelflow Library) that will translate\n",
    "                                      # the eviws model and equations into modelflow business logic and\n",
    "                                      # import the data into pandas\n",
    "model.widescreen() # Makes modelflow aware we may be running under a wider than normal screem\n",
    "model.scroll_off() # tells modelflow not to scroll outputs"
   ]
  },
  {
   "cell_type": "code",
   "execution_count": 3,
   "id": "83528f87",
   "metadata": {
    "scrolled": true
   },
   "outputs": [],
   "source": [
    " %load_ext autoreload\n",
    " %autoreload 2"
   ]
  },
  {
   "cell_type": "markdown",
   "id": "01e32087",
   "metadata": {},
   "source": [
    "| Argument              | Type                | Default Value                     | Explanation                                                                 |\n",
    "|-----------------------|---------------------|-----------------------------------|-----------------------------------------------------------------------------|\n",
    "| `filename`           | `any`              | **required**                        | Specifies the file name for the data used in the model.                     |\n",
    "| `modelname`          | `any`              | `''`                              | The identifier or name assigned to the model.                               |\n",
    "| `freq`               | `str`              | `'A'`                             | Defines the data frequency, e.g., annual (`A`), monthly, etc.               |\n",
    "| `eviews_run_lines`   | `list`             | `[]`                              | Contains the lines of code or commands to run in EViews.                    |\n",
    "| `start`              | `any`              | `None`                            | Marks the start date or period for the testing phase of the model.          |\n",
    "| `end`                | `any`              | `None`                            | Marks the end date or period for the testing phase of the model.            |\n",
    "| `country_trans`      | `any`              | `lambda x: x[:]`                  | A function to apply transformations specific to the country's model.         |\n",
    "| `country_df_trans`   | `any`              | `lambda x: x`                     | A function to preprocess or modify the initial dataframe for the model.      |\n",
    "| `make_fitted`        | `bool`             | `False`                           | Indicates whether to generate a clean model equation for fitted variables.   |\n",
    "| `fit_start`          | `any`              | `2000`                            | Specifies the start period for fitting the model data.                      |\n",
    "| `fit_end`            | `any`              | `None`                            | Specifies the end period for fitting the model data.                        |\n",
    "| `do_add_factor_calc` | `bool`             | `True`                            | Indicates whether additional factor calculations are to be performed.       |\n",
    "| `test_frml`          | `str`              | `''`                              | A test formula for the model when working without `wf` processing.          |\n",
    "| `disable_progress`   | `bool`             | `False`                           | Used to suppress the progress bar during execution.                         |\n",
    "| `save_file`          | `bool`             | `False`                           | Determines whether the model’s details are saved to a file.                 |\n",
    "| `model_description`  | `str`              | `''`                              | A textual description providing details about the model.                    |\n",
    "| `cty`                | `str`              | `''`                              | Abbreviation or ISO code of the country related to the model.               |\n",
    "| `cty_name`           | `str`              | `''`                              | The full name of the country associated with the model.                     |\n"
   ]
  },
  {
   "cell_type": "markdown",
   "id": "15e120bf",
   "metadata": {},
   "source": [
    "## Model specific transformations \n",
    "\n",
    "Some expressions found in World Bank equations are functions that have no direct equivalent in python. `GrabWfModel()` is aware of many of these and performs he necessary adjustments automatically. Others it may not be aware of.  \n",
    "\n",
    "In cases where manual adjustments are necessary, the `GrabWfModel()`procedure will error out and the equations will have to be re-written perhaps as two or more equations manually. \n",
    "\n",
    "We perform these changes in EViews using the `pyeviews` function by entering EViews command and submitting them to the `GrabWfModel()`function. \n",
    "\n",
    "For example, and EViews equation may include a cross equation constraint by specifying a parameter in one equation to be equal to the value of a parameter in another equation. \n",
    "\n",
    "In an EViews model this might be written as \n",
    "\n",
    "`equation _mycrossequation.ls dlog(vary) = c(1) + SomeOtherEquation.coeff(2)*Somevar`\n",
    "\n",
    "which would instruct EViews to run a least squared regression estimating only the intercept `c(1)` and imposting as the slope variable the second coefficient from the second equation `SomeOtherEquation.coeff(2)`.  Modelflow does not have this dynamic mechanism to refer to coefficients in other equations so we must rewrite the equation by first assigning the value of Secondequation.coeff(2) to a scalar and the using that scalar in the equation instead.\n",
    "\n",
    "We would do this by executing (in EViews) the following  line.\n",
    "\n",
    "```\n",
    "'Eviews code that assigns to a scalar the value of the coeeficint\n",
    "Scalar _SomeOtherEquation_at_COEF_2 = SomeOtherEquation.@COEF(+2)\n",
    "```\n",
    "We will then want to rewrite the equation (in modelflow) substituting the expression \n",
    "`SomeOtherEquation.@coeff(2)` with the `scalar_SomeOtherEquation_at_COEF_2`.\n",
    "\n",
    "This is accomplished by passing to `GrabWFModel()` two parameters, the first that contains the EViews code to be run and the second the change to the equation we need.  These are then run by `GrabWFModel()` before generating the Modelflow version of the model.\n",
    "\n",
    "Below is a real-life example required when importing a model for Moldova.\n",
    "\n",
    "```\n",
    "mda_eviews_run_lines = ['Scalar _MDASBBREV_at_COEF_2 = _MDASBBREV.@COEF(+2)']\n",
    "mda_trans = lambda input: input.replace('_MDAsbbrev.@coef(2)','_MDASBBREV_at_COEF_2')  \n",
    "```\n",
    "\n",
    "In this second example, the original EViews equation included an expression that calculated the mean value of a variable on the fly and used it in an equation.  Here we use two EViews commands `smpl @all` and `series MEAN_AGOBNCABFUNDCD_DIV_AGONYGDPMKTPCD = @MEAN(AGOBNCABFUNDCD/AGONYGDPMKTPCD,\"2000 2020\")` to create a variable that contains the value the expression would generate and inserts that into the equation instead of the expression.\n",
    "\n",
    "```\n",
    "# Another example \n",
    "ago_eviews_run_lines = ['smpl @ALL','series MEAN_AGOBNCABFUNDCD_DIV_AGONYGDPMKTPCD = @MEAN(AGOBNCABFUNDCD/AGONYGDPMKTPCD,\"2000 2020\")']\n",
    "ago_trans = lambda  input : input.replace('@MEAN(AGOBNCABFUNDCD/AGONYGDPMKTPCD,\"2000 2020\")','MEAN_AGOBNCABFUNDCD_DIV_AGONYGDPMKTPCD') \n",
    "```\n",
    "\n",
    ":::{admonition} Note\n",
    "Multiple lines of code can be executed by setting the eviews_runlines variable as a list as in this instance.\n",
    ":::\n",
    "\n",
    "|The GrabWBModel parameters| Purpose|\n",
    "|:--|:--|\n",
    "|**eviews_run_lines**|Specifies a comma-delimited list of Eviews command lines to be run. Typically these generate a variable to stand in for an inline function that appears in an equation in the model object. There is not limit to the number of EViews commands that can be submitted| \n",
    "|**country_trans**|Specifies a comma-delimited list of replacements (python code) to be done to the formulas before they are processed further. |\n",
    "\n",
    "\n",
    "Example use:\n",
    "```\n",
    "all_about_mda = GrabWfModel(r'wfs\\bolsoln.wf1', \n",
    "                  eviews_run_lines= mda_eviews_run_lines,\n",
    "                  country_trans    =  mda_trans,\n",
    "                  make_fitted = True,        # make equations for fitted values of stochastic equations \n",
    "                  do_add_factor_calc=True,   # Calculate the add factors which makes the stochastic equations match                     \n",
    "                  fit_start = 2000,          # Solve start for the model\n",
    "                  fit_end   = None,          # Solve End date, \n",
    "                                             # if None taken it will use the value specified \n",
    "                                             # in the EViews MFMSAOptions variable \n",
    "                    disable_progress =True   # Supresses the progress bar\n",
    "                           ) \n",
    "```\n",
    "\n",
    "Not all inline EViews functions (@ functions) will throw errors.  The import routine knows how to deal with many of them.  The table below outlines those it is aware of and what they do.\n",
    "\n",
    "|**EViews  (@something)** | **Replacement** | **Explanation**|\n",
    "|:--|:--|:--|\n",
    "|@During(Date,[Date])| |A dummy with value one at date (or over a range of dates if more than one date is specified|\n",
    "|@Recode(variable,Logical condition)| |Generates a dummy with value one when the logical condition is true|\n",
    "| `@EXP`                    | `exp`           ||\n",
    "| `@ABS`                    | `ABS`             ||\n",
    "| `@LOGIT`                  | `logit_inverse`    |$\\frac{1}{1 + e^{-x}}$ |\n",
    "| `@MOVAV`                  | `movavg`          ||\n",
    "| `@PCY`                    | `PCT_GROWTH`      ||\n",
    "| `@PC`                     | `PCT_GROWTH`      ||\n",
    "| `@PMAX`                   | `MAX`             ||\n",
    "| `@TREND`                  | `EVIEWS_TREND`    |Modelflow creates a trend variable in the |\n",
    "\n",
    "\n",
    "\n",
    "\n"
   ]
  },
  {
   "cell_type": "code",
   "execution_count": null,
   "id": "6930ff0d",
   "metadata": {},
   "outputs": [],
   "source": [
    " "
   ]
  },
  {
   "cell_type": "markdown",
   "id": "727f2214",
   "metadata": {},
   "source": [
    "## An example of a clean import\n",
    "\n",
    "Below the Iraq model is imported.  The eviews_run_lines and couontry+trams parameters are omitted to see if the model canbe imported directly with the `GrabWfModel()` routine.\n"
   ]
  },
  {
   "cell_type": "code",
   "execution_count": 76,
   "id": "6d7d7ac6",
   "metadata": {
    "tags": [
     "raises-exception"
    ]
   },
   "outputs": [
    {
     "name": "stdout",
     "output_type": "stream",
     "text": [
      "\n",
      "Reading c:\\modelflow manual\\papers\\mfbook\\content\\archived\\howto\\onboard\\eviews\\wfs\\irqsoln.wf1\n",
      "Assummed model name: IRQ\n",
      "The model: IRQ is unlinked \n",
      "Writing C:\\modelflow manual\\papers\\mfbook\\content\\archived\\howto\\onboard\\eviews\\wfs\\irqsoln_modelflow.wf2\n",
      "Model name: IRQ\n",
      "\n",
      "Processing the model:IRQ\n",
      "Check for Eviews @ which are not caught in the translation\n",
      "Default WB var_group loaded\n",
      "Variable description in wf1 file read\n",
      "Default WB var_description loaded self.cty='' len(var_description)=37\n",
      "var_description loaded from WF len(this)=115\n",
      "Country IRQ:Iraq\n",
      "testmodel calculated  \n",
      "Calculation of add factors for IRQ calculated  \n"
     ]
    }
   ],
   "source": [
    "try:\n",
    "    all_about_irq = GrabWfModel(r'wfs/irqsoln.wf1', \n",
    "                    make_fitted = True,        # make equatios for fitted values of stocastic equations \n",
    "                    fit_start = 2000,          # Start of calculation of fittet model in baseline (to have some historic values) \n",
    "                    disable_progress =True   ,  # Better for jupyter book \n",
    "                           ) \n",
    "except  Exception as e:\n",
    "    raise\n",
    "    print(f'Error converting model: {e}')"
   ]
  },
  {
   "cell_type": "code",
   "execution_count": 75,
   "id": "4fb722cf",
   "metadata": {},
   "outputs": [
    {
     "name": "stdout",
     "output_type": "stream",
     "text": [
      "Check for Eviews @ which are not caught in the translation\n"
     ]
    },
    {
     "name": "stderr",
     "output_type": "stream",
     "text": [
      "Normalizing model: 100%|███████████████████████████████████████████████████████████████████████████████████████████|1/1\n",
      "Syntax check: 100%|████████████████████████████████████████████████████████████████████████████████████████████████|1/1"
     ]
    },
    {
     "name": "stdout",
     "output_type": "stream",
     "text": [
      "No quasiIdentities in Test\n",
      "Default WB var_group loaded\n",
      " \n",
      "*** No variable description in wf1 file\n",
      "Default WB var_description loaded self.cty='XXX' len(var_description)=0\n",
      "var_description loaded from WF len(this)=0\n",
      "Country XXX:Text country\n",
      "inspect the test model\n"
     ]
    },
    {
     "name": "stderr",
     "output_type": "stream",
     "text": [
      "\n"
     ]
    }
   ],
   "source": [
    "all_about_test  = GrabWfModel(\n",
    "    test_frml=\n",
    "            '''DLOG(IRQBMFSTREMTCD) =- 0.2*(LOG(IRQBMFSTREMTCD( - 1)) - LOG(IRQNYGDPMKTPCD( - 1)) - LOG(@ABS(0.00849456144493732))) +  0.340962598155871*DLOG(IRQNYGDPMKTPCD) - 3.78889527162688*@DURING(\"2007\")'''\n",
    "           )"
   ]
  },
  {
   "cell_type": "code",
   "execution_count": 73,
   "id": "277f3f74",
   "metadata": {},
   "outputs": [
    {
     "name": "stdout",
     "output_type": "stream",
     "text": [
      "Check for Eviews @ which are not caught in the translation\n"
     ]
    },
    {
     "name": "stderr",
     "output_type": "stream",
     "text": [
      "Normalizing model: 100%|███████████████████████████████████████████████████████████████████████████████████████████|2/2\n",
      "Syntax check: 100%|████████████████████████████████████████████████████████████████████████████████████████████████|2/2"
     ]
    },
    {
     "name": "stdout",
     "output_type": "stream",
     "text": [
      "No quasiIdentities in Test\n",
      "Default WB var_group loaded\n",
      " \n",
      "*** No variable description in wf1 file\n"
     ]
    },
    {
     "name": "stderr",
     "output_type": "stream",
     "text": [
      "\n"
     ]
    },
    {
     "name": "stdout",
     "output_type": "stream",
     "text": [
      "Default WB var_description loaded self.cty='XXX' len(var_description)=0\n",
      "var_description loaded from WF len(this)=0\n",
      "Country XXX:Text country\n",
      "inspect the test model\n",
      "\n",
      "Equations in the model matching *\n",
      "\n",
      "Endo_var        : A\n",
      "Eviews          : @identity a = x\n",
      "Original        : A=X\n",
      "Preprocessed    : A=X\n",
      "Normalized      : A = X\n",
      "\n",
      "\n",
      "\n",
      "Endo_var        : B\n",
      "Eviews          : b = x\n",
      "Original        : B=X\n",
      "Preprocessed    : B=X\n",
      "Normalized      : B = (X + B_A)* (1-B_D)+ B_X*B_D \n",
      "Calc_add_factor : B_A = (B) - (X)\n",
      "Fitted          : B_FITTED = X\n",
      "\n",
      "\n"
     ]
    }
   ],
   "source": [
    "_ =GrabWfModel(test_frml=\n",
    "              \"\"\" @identity a = x\n",
    "                           b = x\n",
    "              \"\"\"\n",
    "              ).print_frml()"
   ]
  },
  {
   "cell_type": "code",
   "execution_count": 51,
   "id": "6ec04a93",
   "metadata": {},
   "outputs": [
    {
     "name": "stdout",
     "output_type": "stream",
     "text": [
      "\n",
      "Equations in the mode matching *\n",
      "\n",
      "Endo_var        : IRQBMFSTREMTCD\n",
      "Eviews          : DLOG(IRQBMFSTREMTCD) =- 0.2*(LOG(IRQBMFSTREMTCD( - 1)) - LOG(IRQNYGDPMKTPCD( - 1)) - LOG(@ABS(0.00849456144493732))) +  0.340962598155871*DLOG(IRQNYGDPMKTPCD) - 3.78889527162688*@DURING(\"2007\")\n",
      "Original        : DLOG(IRQBMFSTREMTCD)=-0.2*(LOG(IRQBMFSTREMTCD(-1))-LOG(IRQNYGDPMKTPCD(-1))-LOG(ABS(0.00849456144493732)))+0.340962598155871*DLOG(IRQNYGDPMKTPCD)-3.78889527162688*DURING_2007\n",
      "Preprocessed    : ((LOG(IRQBMFSTREMTCD))-(LOG(IRQBMFSTREMTCD(-1))))=-0.2*(LOG(IRQBMFSTREMTCD(-1))-LOG(IRQNYGDPMKTPCD(-1))-LOG(ABS(0.00849456144493732)))+0.340962598155871*((LOG(IRQNYGDPMKTPCD))-(LOG(IRQNYGDPMKTPCD(-1))))-3.78889527162688*DURING_2007\n",
      "Normalized      : IRQBMFSTREMTCD = (IRQBMFSTREMTCD(-1)*EXP(IRQBMFSTREMTCD_A+ (-0.2*(LOG(IRQBMFSTREMTCD(-1))-LOG(IRQNYGDPMKTPCD(-1))-LOG(ABS(0.00849456144493732)))+0.340962598155871*((LOG(IRQNYGDPMKTPCD))-(LOG(IRQNYGDPMKTPCD(-1))))-3.78889527162688*DURING_2007) )) * (1-IRQBMFSTREMTCD_D)+ IRQBMFSTREMTCD_X*IRQBMFSTREMTCD_D \n",
      "Calc_add_factor : IRQBMFSTREMTCD_A = - ((-0.2*(LOG(IRQBMFSTREMTCD(-1))-LOG(IRQNYGDPMKTPCD(-1))-LOG(ABS(0.00849456144493732)))+0.340962598155871*((LOG(IRQNYGDPMKTPCD))-(LOG(IRQNYGDPMKTPCD(-1))))-3.78889527162688*DURING_2007)) +LOG(IRQBMFSTREMTCD)-LOG(IRQBMFSTREMTCD(-1))\n",
      "Fitted          : IRQBMFSTREMTCD_FITTED = IRQBMFSTREMTCD(-1)*EXP( (-0.2*(LOG(IRQBMFSTREMTCD(-1))-LOG(IRQNYGDPMKTPCD(-1))-LOG(ABS(0.00849456144493732)))+0.340962598155871*((LOG(IRQNYGDPMKTPCD))-(LOG(IRQNYGDPMKTPCD(-1))))-3.78889527162688*DURING_2007) )\n",
      "\n",
      "\n"
     ]
    }
   ],
   "source": [
    " all_about_test.print_frml() "
   ]
  },
  {
   "cell_type": "markdown",
   "id": "d17f08ba",
   "metadata": {},
   "source": [
    "This import worked smoothly and returns a structure all_about_irq that contains the `ModelFlow` model object, some initial pandas and other components.  These can be referenced later.\n",
    "\n",
    "**Some properties of the all_about data structure**\n",
    "|Property Name| Contents |\n",
    "|:--|:--|\n",
    "|eviews_run_lines|List of Eviews commands run in the pre-processor phase of importing.|\n",
    "|country_df_trans|A function applied to the dataframe after all data are importet form wf1|\n",
    "|country_trans| A function applied to the formulas|,\n",
    "\n",
    "|all_frml|The formulas of the imported model|\n",
    "|all_frml_dict| A dictionary containing all the formulas of the model|\n",
    "|base_input| A dataframe of the data that was used to initialize th model|\n",
    "|cty|The three-letter ISO mnemonic for the country|\n",
    "|cty_name|The English name of the country|\n",
    "|filename|Name of the originally imported EViews file|\n",
    "|fit_end|End period over which the model is solved|\n",
    "|fit_start|Start of period over which the model is solved|\n",
    "|freq|Frequenecy of the  model A=Annual; Q=Quarterly; M=Monthly|\n",
    "|mfmsa_options|Options variable from the EViews file as string|\n",
    "|mfmsa_options_dict|Options variable from the EViews file as dictionary|\n",
    "|mfmsa_quasiIdentities|List of Eviews quasi identities|\n",
    "|mfmsa_start_end|Eviews Start and End Solve periods|\n",
    "|modelname|Name of model|\n",
    "|var_description|Dictionary of variable descriptions|\n",
    "|var_groups|EViews groups defined|\n",
    "|wb_default_descriptions|Default variable descriptions (Glossary) in WB models|\n",
    "|missing_descriptions|Dictionary of variables with missing descriptions|\n",
    "\n",
    "country_df_trans\n",
    " 'country_trans',\n",
    "  'dfmodel',\n",
    " 'disable_progress',\n",
    " 'do_add_factor_calc',\n",
    " 'end',\n",
    " \n",
    " 'mmodel',\n",
    " 'model_all_about',\n",
    " 'model_description',\n",
    " \n",
    " \n",
    "\n",
    "\n"
   ]
  },
  {
   "cell_type": "code",
   "execution_count": null,
   "id": "49fb3a48",
   "metadata": {},
   "outputs": [],
   "source": []
  },
  {
   "cell_type": "markdown",
   "id": "429e012c",
   "metadata": {},
   "source": [
    "| **Property Name**         | **Type**            | **Explanation**                                               |\n",
    "|----------------------------|---------------------|---------------------------------------------------------------|\n",
    "| `model_all_about`          | `dict`             | Stores all processed model information. |\n",
    "| `rawmodel_org`             | `str`              | Original model specification from input.|\n",
    "| `rawmodel`                 | `str`              | Transformed model specification.      |\n",
    "| `all_frml`                 | `list`             | List of normalized equations from the model.                  |\n",
    "| `all_frml_dict`            | `dict`             | Dictionary mapping equations to variables.                    |\n",
    "| `rorg`                     | `list`             | Reformatted model equations.                                   |\n",
    "| `rfitmodel`                | `list`             | Equations for fitted models (if `make_fitted=True`).           |\n",
    "| `rres`                     | `list`             | List of residual calculations for equations.                  |\n",
    "| `rres_tomodel`             | `str`              | String representing add-factor equations.                     |\n",
    "| `fmodel`                   | `str`              | Final model string after transformations.                     |\n",
    "| `fres`                     | `str`              | String representing residuals for equations.                  |\n",
    "| `mmodel`                   | `object`           | Final transformed model object.                               |\n",
    "| `mres`                     | `object`           | Residual calculation model object.                            |\n",
    "| `base_input`               | `object`           | Input data for simulation or calculations.                    |\n",
    "| `var_description`          | `dict`             | Descriptions of variables in the model. Computed dynamically. |\n",
    "| `wb_default_descriptions`  | `dict`             | Default World Bank variable descriptions.                     |\n",
    "| `dfmodel`                  | `DataFrame`        | Final enriched dataframe with model variables.                |\n",
    "| `mfmsa_options`            | `str`              | WB MFMSA options from EViews file as string                       |\n",
    "| `mfmsa_options_dict`       | `dict`             | Parsed dictionary of MFMSA options.                          |\n",
    "| `mfmsa_start_end`          | `tuple`            | Start and end periods from MFMSA data.                       |\n",
    "| `mfmsa_country`            | `str`              | Country information from MFMSA entry.                        |\n",
    "| `mfmsa_quasiIdentities`    | `set`              | Set of quasi-identity variables for the model.                |\n",
    "| `var_groups`               | `dict`             | Predefined variable groupings for categorization.             |\n"
   ]
  },
  {
   "cell_type": "code",
   "execution_count": 7,
   "id": "198a946c",
   "metadata": {},
   "outputs": [
    {
     "ename": "NameError",
     "evalue": "name 'all_about_irq' is not defined",
     "output_type": "error",
     "traceback": [
      "\u001b[1;31m---------------------------------------------------------------------------\u001b[0m",
      "\u001b[1;31mNameError\u001b[0m                                 Traceback (most recent call last)",
      "Cell \u001b[1;32mIn[7], line 1\u001b[0m\n\u001b[1;32m----> 1\u001b[0m \u001b[43mall_about_irq\u001b[49m\u001b[38;5;241m.\u001b[39mall_frml_dict\u001b[38;5;241m.\u001b[39mget(\u001b[38;5;124m'\u001b[39m\u001b[38;5;124mIRQBMFSTREMTCD\u001b[39m\u001b[38;5;124m'\u001b[39m) \n",
      "\u001b[1;31mNameError\u001b[0m: name 'all_about_irq' is not defined"
     ]
    }
   ],
   "source": [
    "    all_about_irq.all_frml_dict.get('IRQBMFSTREMTCD') "
   ]
  },
  {
   "cell_type": "code",
   "execution_count": null,
   "id": "152bfa3b",
   "metadata": {},
   "outputs": [],
   "source": [
    "all_about_irq.mfmsa_options"
   ]
  },
  {
   "cell_type": "code",
   "execution_count": null,
   "id": "d0b32bfa",
   "metadata": {},
   "outputs": [],
   "source": [
    "import pprint\n",
    "pprint.pprint(all_about_irq.mfmsa_options_dict)"
   ]
  },
  {
   "cell_type": "markdown",
   "id": "38c42e1f",
   "metadata": {},
   "source": [
    "## Check if the imported equations returns their  historical values\n",
    "\n",
    "An essential feature of a model is that if nothing is changed it returns the same results.  For the imported model, therefore when it is solved it should (within tolerances for rounding errors) return the same data that it was initiated with it.\n",
    "\n",
    "The test_model routine solves each equation and checks that the add factors are the same as those input and returns those where the difference exceeds a given tolerance.\n",
    "\n",
    "Below the absolute difference was larger than 1 for 7 variables but this was less than e-5 percent or e-7 (if we don't multiply by 100), which is a very small deviation. The amount of deviation that the solver will tolerate can be set as an option and e-6 is a commonly used level.\n",
    "\n",
    "We judge the import to be successful\n"
   ]
  },
  {
   "cell_type": "code",
   "execution_count": null,
   "id": "502baa5d",
   "metadata": {},
   "outputs": [],
   "source": [
    "all_about_irq.test_model(all_about_irq.start,all_about_irq.end,maxerr=100,tol=1,showall=0)   # tol determins the max acceptable absolute difference "
   ]
  },
  {
   "cell_type": "markdown",
   "id": "540645a4",
   "metadata": {},
   "source": [
    "## Extract the model and the baseline\n",
    "\n",
    "Here we extract from all_about various components that we will use below.\n"
   ]
  },
  {
   "cell_type": "code",
   "execution_count": null,
   "id": "f6a336f5",
   "metadata": {},
   "outputs": [],
   "source": [
    "mirq    = all_about_irq.mmodel       # the model instance  \n",
    "baseline = all_about_irq.base_input  # the dataframe used to initialize the model"
   ]
  },
  {
   "cell_type": "markdown",
   "id": "176f6a07",
   "metadata": {},
   "source": [
    "## Run the model \n",
    "\n",
    "The below solves the model with no change in the exogenous variables to check that it returns the same input data. \n",
    " "
   ]
  },
  {
   "cell_type": "code",
   "execution_count": null,
   "id": "8019ced1",
   "metadata": {},
   "outputs": [],
   "source": [
    "res = mirq(all_about_irq.base_input,2020,2040,silent=1,alfa=1,ldumpvar=0)\n",
    "mirq.basedf = all_about_irq.base_input"
   ]
  },
  {
   "cell_type": "markdown",
   "id": "78c958a8",
   "metadata": {},
   "source": [
    "## And the simulation result is also fine. \n",
    "Here the percent difference is displayed"
   ]
  },
  {
   "cell_type": "code",
   "execution_count": null,
   "id": "e5816406",
   "metadata": {
    "scrolled": false
   },
   "outputs": [],
   "source": [
    "mirq['irqGGEXPCAPTCN irqNYGDPMKTPCN irqGGDBTTOTLCN irqBNCABFUNDCD']"
   ]
  },
  {
   "cell_type": "markdown",
   "id": "5d090b2c",
   "metadata": {},
   "source": [
    "## Look at a stochastic variable \n",
    "\n",
    "The all_frml_dict contains a listing of all the equations and the different forms their equations take, notably the original equation, The EViews versions (which should be the same as the original), the pre-processed version (after any EViews inline functions have been replaced), the normalized version -- the EViews equation re-written to solve for the level of the dependent variable.\n",
    "\n",
    "The first variable which is the GDP identity is relatively straightforward to read, the second which is the equation for the consumer price deflator is more complex because of the estimated coefficients (c1), C(2) in the eviews form and with the estimated value of those coefficients substituted in for the normalized version."
   ]
  },
  {
   "cell_type": "code",
   "execution_count": null,
   "id": "0f85a82d",
   "metadata": {},
   "outputs": [],
   "source": [
    "all_about_irq.all_frml_dict['IRQNYGDPMKTPKN'].fprint"
   ]
  },
  {
   "cell_type": "code",
   "execution_count": null,
   "id": "513a7f8d",
   "metadata": {},
   "outputs": [],
   "source": [
    "all_about_irq.all_frml_dict['IRQNECONPRVTXN'].fprint"
   ]
  },
  {
   "cell_type": "markdown",
   "id": "781c433d",
   "metadata": {},
   "source": [
    "## Look a all the modelflow frmls\n",
    "Notice after the \"original\" model the equations for the \"fitted\" values have been added. <br>\n",
    "Also in the end of the listing the specification of the model which calculates the add factors if a variable is fixed. When processing the equations the ```model``` class will process this this model separately and create a model instance \n",
    "which is used to calculate add factors in case "
   ]
  },
  {
   "cell_type": "code",
   "execution_count": null,
   "id": "b9ae4d5d",
   "metadata": {},
   "outputs": [],
   "source": [
    "print(mirq.equations)"
   ]
  },
  {
   "cell_type": "code",
   "execution_count": null,
   "id": "36502a77",
   "metadata": {
    "scrolled": false
   },
   "outputs": [],
   "source": [
    "with mirq.set_smpl(2020,2023):\n",
    "    print(mirq.IRQGGEXPCAPTCN.show)                        "
   ]
  },
  {
   "cell_type": "markdown",
   "id": "3783d049",
   "metadata": {},
   "source": [
    "## Save the successfully imported file"
   ]
  },
  {
   "cell_type": "code",
   "execution_count": null,
   "id": "239d4345",
   "metadata": {},
   "outputs": [],
   "source": [
    "mirq.modeldump('irq.pcim')"
   ]
  },
  {
   "cell_type": "code",
   "execution_count": null,
   "id": "7c44f4d0",
   "metadata": {},
   "outputs": [],
   "source": [
    "!dir *.pcim"
   ]
  },
  {
   "cell_type": "markdown",
   "id": "94a56542",
   "metadata": {},
   "source": [
    "## An example where the initial import fails because of a specifity in the orginal EViews model\n",
    "\n",
    "The below command tries to import a model for Iraq without any modification.  The import fails, with `GrabWfModel()` reporting:\n",
    "\n",
    "```\n",
    "Processing the model:BOL\n",
    "Probably errors as @ in lines:\n",
    "\n",
    "Eviews line      :@IDENTITY BOLBFCAF2BOP_  = (1  - @DURING(\"1980 2021\"))  * @between(reserveRatio3  , 1  / 2  , 100000)  * reserveRatio3\n",
    "Original line     :@IDENTITY BOLBFCAF2BOP_  = (1  - DURING_1980_2021)  * @BETWEEN(RESERVERATIO3  , 1  / 2  , 100000)  * RESERVERATIO3\n",
    "New modelflow line:BOLBFCAF2BOP_=(1-DURING_1980_2021)*@BETWEEN(RESERVERATIO3,1/2,100000)*RESERVERATIO3\n",
    "```\n",
    "\n",
    "\n",
    "Below we try to onboard the model for Iraq directly without any intervention."
   ]
  },
  {
   "cell_type": "code",
   "execution_count": null,
   "id": "725ad829",
   "metadata": {
    "tags": [
     "raises-exception"
    ]
   },
   "outputs": [],
   "source": [
    "\n",
    "BOL_Eviews=['smpl @ALL',\"series _Reserveratio3_at_Between= @BETWEEN(RESERVERATIO3  , 1  / 2  , 100000)\"];\n",
    "BOL_trans=lambda input: input.replace(\"@BETWEEN(RESERVERATIO3  , 1  / 2  , 100000)\",\"__RESERVERATIO3_AT_BETWEEN\")\n",
    "try:\n",
    "    all_about_mda = GrabWfModel(r'wfs\\bolsoln.wf1', \n",
    "                      #eviews_run_lines= BOL_Eviews,\n",
    "                      #country_trans    =  BOL_trans,\n",
    "                        make_fitted = True,        # make equations for fitted values of stochastic equations \n",
    "                        do_add_factor_calc=True,   # Calculate the add factors which makes the stocastic equations match    \n",
    "                        fit_start = 2000,          # Start of calculation of fittet model in baseline (to have some historic values) \n",
    "                        fit_end   = None,           # end of calc for fittted model, if None taken from mdmfsa options  \n",
    "                        disable_progress =True     # Better for jupyter book \n",
    "                               ) \n",
    "except Exception as e:\n",
    "    print('*** ERROR ***','\\n',e)\n",
    "    "
   ]
  },
  {
   "cell_type": "markdown",
   "id": "f94bdc50",
   "metadata": {},
   "source": [
    "## Debugging the error\n",
    "\n",
    "Many EViews models can be converted to ModelFlow. However, sometimes plain vanilla conversion doesn't work. In broad terms, experience shows three types of issues:  \n",
    "\n",
    "1. **Unknown EViews @functions in equations.**\n",
    "  The `GrabWfModel` function knows the most common Eviews @functions, however not all. \n",
    "2. **Syntax errors**. Conversion and  normalization of EViews equations to python statements can result in syntax errors.   \n",
    "3. **The ModelFlow model don't calculate the same values as in the `.wf1` file.**. The `GrabWfModel` function calculates adjustment factors for all stochastic equations so that the equations yield the same values as in the `.wf1` file. However, this is not always the case, particularly if the value of an identity has been explicitly set. It can also be caused by limited numerical prescision.  \n",
    "\n",
    "\n",
    "GrabWfModel knows some Eviews @<functions> but not all. As we can see from the line: \n",
    "\n",
    " >New modelflow line:BOLBFCAF2BOP_=(1-DURING_1980_2021)*@BETWEEN(RESERVERATIO3,1/2,100000)*RESERVERATIO3\n",
    "\n",
    " GrabWfModel can not make @Between go away. That is causing trouble.\n",
    "\n",
    "The EViews help tells us:\n",
    "\n",
    "```\n",
    "@between(series, val1, val2)  Creates a dummy variable equal to 1 for observations where series is greater than or equal to val1 and less than or equal to val2.\n",
    "```\n",
    "\n",
    "In python @between(series, val1, val2) is equivalent to: \n",
    "    \n",
    " >  (1. * float(val1 <= series <= val2)))  \n",
    "    \n",
    "We can reproduce the logic by adding a python commmand to perform the substitution of @between in the equation with a equivalent \n",
    "python expression \n",
    "\n",
    "\n",
    "```BOL_trans = lambda text: re.sub(\n",
    "    r\"@BETWEEN\\(\\s*(\\w+)\\s*,\\s*([^,]+)\\s*,\\s*([^)]+)\\s*\\)\",\n",
    "    r\"(1.0*float(\\2 <= \\1 <= \\3))\",\n",
    "    text\n",
    ")```\n"
   ]
  },
  {
   "cell_type": "code",
   "execution_count": null,
   "id": "3c2da0e5",
   "metadata": {},
   "outputs": [],
   "source": [
    "# To show how the substitution works\n",
    "import re\n",
    "BOL_trans = lambda text: re.sub(\n",
    "    r\"@between\\(\\s*(\\w+)\\s*,\\s*([^,]+)\\s*,\\s*([^)]+)\\s*\\)\",\n",
    "    r\"(1.0*float(\\2 <= \\1 <= \\3))\",\n",
    "    text\n",
    ")\n",
    "\n",
    "\n",
    "# Usage example\n",
    "text = '@between(3  , 1  / 2  , 100000)'\n",
    "result = BOL_trans(text)\n",
    "\n",
    "print(result)\n"
   ]
  },
  {
   "cell_type": "code",
   "execution_count": null,
   "id": "2d44832c",
   "metadata": {},
   "outputs": [],
   "source": [
    "# some results \n",
    "print(f'{1.0*((1  / 2)   <= 30 <= 100000)=}')\n",
    "print(f'{1.0*((1  / 2)   <= 30000 <= 100000)=}')\n",
    "print(f'{1.0*((1  / 2)   <= 0 <= 100000)=}')"
   ]
  },
  {
   "cell_type": "code",
   "execution_count": 77,
   "id": "4b3120b2",
   "metadata": {},
   "outputs": [
    {
     "name": "stdout",
     "output_type": "stream",
     "text": [
      "\n",
      "Reading c:\\modelflow manual\\papers\\mfbook\\content\\archived\\howto\\onboard\\eviews\\wfs\\bolsoln.wf1\n",
      "Assummed model name: BOL\n",
      "The model: BOL is unlinked \n",
      "Writing C:\\modelflow manual\\papers\\mfbook\\content\\archived\\howto\\onboard\\eviews\\wfs\\bolsoln_modelflow.wf2\n",
      "Model name: BOL\n",
      "\n",
      "Processing the model:BOL\n",
      "Check for Eviews @ which are not caught in the translation\n",
      "Default WB var_group loaded\n",
      "Variable description in wf1 file read\n",
      "Default WB var_description loaded self.cty='' len(var_description)=16\n",
      "var_description loaded from WF len(this)=301\n",
      "Country BOL:Bolivia\n",
      "testmodel calculated  \n",
      "Calculation of add factors for BOL calculated  \n"
     ]
    }
   ],
   "source": [
    "# Now the substitution is implementet \n",
    "import re\n",
    "BOL_trans=lambda text: re.sub(\n",
    "    r\"@between\\(\\s*(\\w+)\\s*,\\s*([^,]+)\\s*,\\s*([^)]+)\\s*\\)\",\n",
    "    r\"(1.0*float(\\2 <= \\1 <= \\3))\",\n",
    "    text\n",
    ")\n",
    "\n",
    "all_about_mda = GrabWfModel(r'wfs\\bolsoln.wf1', \n",
    "                  country_trans    =  BOL_trans,\n",
    "                    make_fitted = True,        # make equations for fitted values of stochastic equations \n",
    "                    do_add_factor_calc=True,   # Calculate the add factors which makes the stocastic equations match    \n",
    "                    fit_start = 2000,          # Start of calculation of fittet model in baseline (to have some historic values) \n",
    "                    fit_end   = None,           # end of calc for fittted model, if None taken from mdmfsa options  \n",
    "                    disable_progress =True     # Better for jupyter book \n",
    "                           ) "
   ]
  },
  {
   "cell_type": "code",
   "execution_count": null,
   "id": "10592a6f",
   "metadata": {},
   "outputs": [],
   "source": []
  }
 ],
 "metadata": {
  "celltoolbar": "Tags",
  "hide_input": false,
  "kernelspec": {
   "display_name": "Python 3 (ipykernel)",
   "language": "python",
   "name": "python3"
  },
  "language_info": {
   "codemirror_mode": {
    "name": "ipython",
    "version": 3
   },
   "file_extension": ".py",
   "mimetype": "text/x-python",
   "name": "python",
   "nbconvert_exporter": "python",
   "pygments_lexer": "ipython3",
   "version": "3.12.6"
  },
  "nbTranslate": {
   "displayLangs": [
    "*"
   ],
   "hotkey": "alt-t",
   "langInMainMenu": true,
   "sourceLang": "en",
   "targetLang": "fr",
   "useGoogleTranslate": true
  },
  "toc": {
   "base_numbering": 1,
   "nav_menu": {},
   "number_sections": false,
   "sideBar": true,
   "skip_h1_title": true,
   "title_cell": "Table of Contents",
   "title_sidebar": "Contents",
   "toc_cell": false,
   "toc_position": {},
   "toc_section_display": true,
   "toc_window_display": false
  },
  "varInspector": {
   "cols": {
    "lenName": 16,
    "lenType": 16,
    "lenVar": 40
   },
   "kernels_config": {
    "python": {
     "delete_cmd_postfix": "",
     "delete_cmd_prefix": "del ",
     "library": "var_list.py",
     "varRefreshCmd": "print(var_dic_list())"
    },
    "r": {
     "delete_cmd_postfix": ") ",
     "delete_cmd_prefix": "rm(",
     "library": "var_list.r",
     "varRefreshCmd": "cat(var_dic_list()) "
    }
   },
   "position": {
    "height": "523.849px",
    "left": "1662.61px",
    "right": "20px",
    "top": "45.9915px",
    "width": "800px"
   },
   "types_to_exclude": [
    "module",
    "function",
    "builtin_function_or_method",
    "instance",
    "_Feature"
   ],
   "window_display": false
  }
 },
 "nbformat": 4,
 "nbformat_minor": 5
}
