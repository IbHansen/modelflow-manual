{
 "cells": [
  {
   "cell_type": "markdown",
   "id": "fb69443b",
   "metadata": {},
   "source": [
    "(onboardone)=\n",
    "# Import a World Bank Eviews model from its solution file (.wf1)# Import a World Bank Eviews model from its solution file (.wf1)\n",
    "This notebook takes a .wf1 workfile and transforms it into a modelflow model.\n",
    "\n",
    "Most standard World Bank models should work with limited intervention.  Some using unusual techniques or variable definitions may require intervention by the user.\n",
    "\n",
    "## Overview of the import process\n",
    "\n",
    "The overall import process is performed by a special a ModelFlow class named:**GrabWfModel**. Certain steps require the use of EViews itself.  This howto was designed using EViews version 12, but has been tested with versions 13 and 14.\n",
    "\n",
    "Steps to follow:\n",
    " 1. Start EViews and open the solution file \n",
    "    -    If returning to this step after an initial error perform transformations on the data (needed in some cases where special EViews functions are used in the model).\n",
    "    -    The UNlink the model. This transforms linked equations into explicit equations in the EViews model object. \n",
    "    -    Save the revised model as a .wf2 file  (the .wf2 is a JSON format that can be easily read into python), with the same name as the original file but with \"\\_modelflow\" appended to the name.\n",
    "    \n",
    " 5. Close Eviews.\n",
    " 6. The wf2 file is read as a json file. \n",
    " 7. Relevant objects are extracted. \n",
    " 7. The MFMSAOptions strinng from the views file is  extracted, to be saved in the ModelFlow pcim file. \n",
    " 8. The equations are transformed and normalized to modelflow format and classified into identities and stochastic\n",
    " 9. Stochastic equations are enriched by add_factor and fixing terms (dummy + fixing value)  \n",
    " 9. For Stochastic equations new fitted variables are generated - without add add_factors and dummies.  \n",
    " 9. A model to generate fitted variables is created  \n",
    " 9. A model to generate add_factors is created. \n",
    " 9. A model encompassing the original equations, the model for fitted variables and for add_factors is created. \n",
    " 9. The data series and scalars are shoveled into a Pandas dataframe \n",
    "     - Some special series are generated, for the case where an inline function is used in EViews that can not be translated directly into modelflow model specifications\n",
    "     - The model for fitted values is simulated in the specified timespan\n",
    "     - The model for add_factors is simulated in the timespan set in MFMSAOptions\n",
    " 10. The data descriptions are extracted into a dictionary. \n",
    "    - Data descriptions for dummies, fixed values, fitted values and add_factors are derived. \n",
    " 11. Now we have a model and a dataframe with all variables which are needed.\n",
    " \n",
    "The GrapWfModel instance in general keeps most of the steps so the developer can inspect the the different steps.  \n",
    "  \n"
   ]
  },
  {
   "cell_type": "markdown",
   "id": "55349107",
   "metadata": {},
   "source": [
    "## Prerequisites  \n",
    "\n",
    "The import process requires EViews and tehrefore cannot be run on a non-windows computerthat does not have EViews 12 or later installed.  It also assumes that the python library `pyeviews` has been installed (`conda install pyeviews`).  `pyeviews` uses the EViews com interface to control eviews, allowing a python script to directly manipulate parts of the eviews model using eviews itself.  This is required only for the import process.\n"
   ]
  },
  {
   "cell_type": "code",
   "execution_count": 1,
   "id": "c7be5a48",
   "metadata": {},
   "outputs": [],
   "source": [
    "#tell matplotlib we are running in a notebook\n",
    "%matplotlib Notebook "
   ]
  },
  {
   "cell_type": "code",
   "execution_count": 2,
   "id": "fa9578fb",
   "metadata": {},
   "outputs": [
    {
     "data": {
      "text/html": [
       "\n",
       "        <style>\n",
       "            div#notebook-container    { width: 95%; }\n",
       "            div#menubar-container     { width: 65%; }\n",
       "            div#maintoolbar-container { width: 99%; }\n",
       "        </style>\n",
       "        "
      ],
      "text/plain": [
       "<IPython.core.display.HTML object>"
      ]
     },
     "metadata": {},
     "output_type": "display_data"
    },
    {
     "data": {
      "application/javascript": [
       "\n",
       "                    IPython.OutputArea.prototype._should_scroll = function(lines){\n",
       "                        return false;\n",
       "                    }\n",
       "                "
      ],
      "text/plain": [
       "<IPython.core.display.Javascript object>"
      ]
     },
     "metadata": {},
     "output_type": "display_data"
    }
   ],
   "source": [
    "from pathlib import Path\n",
    "\n",
    "from modelclass import model \n",
    "from modelgrabwf2 import GrabWfModel  #this is the class (part of the Modelflow Library) that will translate\n",
    "                                      # the ewbvis model and equations into modelflow business logic and\n",
    "                                      # import the data into pandas\n",
    "model.widescreen() # Makes modelflow aware we may be running under a wider than normal screem\n",
    "model.scroll_off() # tells modelflow not to scroll outputs"
   ]
  },
  {
   "cell_type": "code",
   "execution_count": 3,
   "id": "83528f87",
   "metadata": {
    "scrolled": true
   },
   "outputs": [],
   "source": [
    " %load_ext autoreload\n",
    " %autoreload 2"
   ]
  },
  {
   "cell_type": "markdown",
   "id": "15e120bf",
   "metadata": {},
   "source": [
    "## Model specific transformations \n",
    "\n",
    "Some expressions found in World Bank equations are functions that have no direct equivalent in python. `GrabWfModel()` is aware of many of these and performs he necessary adjustments automatically. Others it may not be aware of.  \n",
    "\n",
    "In cases where manual adjustments are necessary, the `GrabWfModel()`procedure will error out and the equations will have to be re-written perhaps as two or more equations manually. \n",
    "\n",
    "We perform these changes in EViews using the `pyeviews` function by entering EViews command and submitting them to the `GrabWfModel()`function. \n",
    "\n",
    "For example, and EViews equation may include a cross equation constraint by specifying a parameter in one equation to be equal to the value of a parameter in another equation. \n",
    "\n",
    "In an EViews model this might be written as \n",
    "\n",
    "`equation _mycrossequation.ls dlog(vary) = c(1) + SomeOtherEquation.coeff(2)*Somevar`\n",
    "\n",
    "which would instruct EViews to run a least squared regression estimating only the intercept `c(1)` and imposting as the slope variable the second coefficient from the second equation `SomeOtherEquation.coeff(2)`.  Modelflow does not have this dynamic mechanism to refer to coefficients in other equations so we must rewrite the equation by first assigning the value of Secondequation.coeff(2) to a scalar and the using that scalar in the equation instead.\n",
    "\n",
    "We would do this by executing (in EViews) the following  line.\n",
    "\n",
    "```\n",
    "'Eviews code that assigns to a scalar the value of the coeeficint\n",
    "Scalar _SomeOtherEquation_at_COEF_2 = SomeOtherEquation.@COEF(+2)\n",
    "```\n",
    "We will then want to rewrite the equation (in modelflow) substituting the expression \n",
    "`SomeOtherEquation.@coeff(2)` with the `scalar_SomeOtherEquation_at_COEF_2`.\n",
    "\n",
    "This is accomplished by passing to `GrabWFModel()` two parameters, the first that contains the EViews code to be run and the second the change to the equation we need.  These are then run by `GrabWFModel()` before generating the Modelflow version of the model.\n",
    "\n",
    "Below is a real-life example required when importing a model for Moldova.\n",
    "\n",
    "```\n",
    "mda_eviews_run_lines = ['Scalar _MDASBBREV_at_COEF_2 = _MDASBBREV.@COEF(+2)']\n",
    "mda_trans = lambda input: input.replace('_MDAsbbrev.@coef(2)','_MDASBBREV_at_COEF_2')  \n",
    "```\n",
    "\n",
    "In this second example, the original EViews equation included an expression that calculated the mean value of a variable on the fly and used it in an equation.  Here we use two EViews commands `smpl @all` and `series MEAN_AGOBNCABFUNDCD_DIV_AGONYGDPMKTPCD = @MEAN(AGOBNCABFUNDCD/AGONYGDPMKTPCD,\"2000 2020\")` to create a variable that contains the value the expression would generate and inserts that into the equation instead of the expression.\n",
    "\n",
    "```\n",
    "# Another example \n",
    "ago_eviews_run_lines = ['smpl @ALL','series MEAN_AGOBNCABFUNDCD_DIV_AGONYGDPMKTPCD = @MEAN(AGOBNCABFUNDCD/AGONYGDPMKTPCD,\"2000 2020\")']\n",
    "ago_trans = lambda  input : input.replace('@MEAN(AGOBNCABFUNDCD/AGONYGDPMKTPCD,\"2000 2020\")','MEAN_AGOBNCABFUNDCD_DIV_AGONYGDPMKTPCD') \n",
    "```\n",
    "\n",
    ":::{admonition} Note\n",
    "Multiple lines of code can be executed by setting the eviews_runlines variable as a list as in this instance.\n",
    ":::\n",
    "\n",
    "|The GrabWBModel parameters| Purpose|\n",
    "|:--|:--|\n",
    "|**eviews_run_lines**|Specifies a comma-delimited list of Eviews command lines to be run. Typically these generate a variable to stand in for an inline function that appears in an equation in the model object. There is not limit to the number of EViews commands that can be submitted| \n",
    "|**country_trans**|Specifies a comma-delimited list of replacements (python code) to be done to the formulas before they are processed further. |\n",
    "\n",
    "\n",
    "Example use:\n",
    "```\n",
    "all_about_mda = GrabWfModel(r'wfs\\bolsoln.wf1', \n",
    "                  eviews_run_lines= mda_eviews_run_lines,\n",
    "                  country_trans    =  mda_trans,\n",
    "                  make_fitted = True,        # make equations for fitted values of stochastic equations \n",
    "                  do_add_factor_calc=True,   # Calculate the add factors which makes the stochastic equations match                     \n",
    "                  fit_start = 2000,          # Solve start for the model\n",
    "                  fit_end   = None,          # Solve End date, \n",
    "                                             # if None taken it will use the value specified \n",
    "                                             # in the EViews MFMSAOptions variable \n",
    "                    disable_progress =True   # Supresses the progress bar\n",
    "                           ) \n",
    "```\n",
    "\n",
    "Not all inline EViews functions (@ functions) will throw errors.  The import routine knows how to deal with many of them.  The table below outlines those it is aware of and what they do.\n",
    "\n",
    "|EViews in line function | What it does |\n",
    "|:--|:--|\n",
    "|@During(Date,[Date])|Generates a dummy with value one at date (or over a range of dates if more than one date is specified|\n",
    "|@Recode(variable,Logical condition)|Generates a dummy with value one for those dates where the logical condition is true|\n",
    "\n",
    "\n"
   ]
  },
  {
   "cell_type": "markdown",
   "id": "727f2214",
   "metadata": {},
   "source": [
    "## An example of a clean import\n",
    "\n",
    "Below the Iraq model is imported.  The eviews_run_lines and couontry+trams parameters are omitted to see if the model canbe imported directly with the `GrabWfModel()` routine.\n"
   ]
  },
  {
   "cell_type": "code",
   "execution_count": 4,
   "id": "6d7d7ac6",
   "metadata": {
    "tags": [
     "raises-exception"
    ]
   },
   "outputs": [
    {
     "name": "stdout",
     "output_type": "stream",
     "text": [
      "\n",
      "Reading c:\\modelflow manual\\papers\\mfbook\\content\\archived\\howto\\onboard\\eviews\\wfs\\irqsoln.wf1\n",
      "Assummed model name: IRQ\n",
      "The model: IRQ is unlinked \n",
      "Writing C:\\modelflow manual\\papers\\mfbook\\content\\archived\\howto\\onboard\\eviews\\wfs\\irqsoln_modelflow.wf2\n",
      "Model name: IRQ\n",
      "\n",
      "Processing the model:IRQ\n",
      "Check for Eviews @ which are not caught in the translation\n",
      "Default WB var_group loaded\n",
      "Variable description in wf1 file read\n",
      "Default WB var_description loaded self.cty='' len(var_description)=37\n",
      "var_description loaded from WF len(this)=115\n",
      "testmodel calculated  \n",
      "Calculation of add factors for IRQ calculated  \n"
     ]
    }
   ],
   "source": [
    "try:\n",
    "    all_about_irq = GrabWfModel(r'wfs/irqsoln.wf1', \n",
    "                  #eviews_run_lines= irq_eviews_run_lines,  #\n",
    "                  #country_trans    =  irq_trans,\n",
    "                    make_fitted = True,        # make equatios for fitted values of stocastic equations \n",
    "                    do_add_factor_calc=True,   # Calculate the add factors which makes the stocastic equations match    \n",
    "                    fit_start = 2000,          # Start of calculation of fittet model in baseline (to have some historic values) \n",
    "                    fit_end   = None,           # end of calc for fittted model, if None taken from mdmfsa options  \n",
    "                    disable_progress =True     # Better for jupyter book \n",
    "                           ) \n",
    "except  Exception as e:\n",
    "    print(f'Error converting model: {e}')"
   ]
  },
  {
   "cell_type": "markdown",
   "id": "d17f08ba",
   "metadata": {},
   "source": [
    "This import worked smoothly and returns a structure all_about_irq that contains the `ModelFlow` model object, some initial pandas and other components.  These can be referenced later.\n",
    "\n",
    "**Some properties of the all_about data structure**\n",
    "|Property Name| Contents |\n",
    "|:--|:--|\n",
    "|all_frml|The formulas of the imported model|\n",
    "|all_frml_dict| A dictionary containing all the formulas of the model|\n",
    "|base_input| A dataframe of the data that was used to initialize th model|\n",
    "|cty|The three-letter ISO mnemonic for the country|\n",
    "|country_name|The English name of the country|\n",
    "|eviews_run_lines|List of Eviews commands run in the pre-processor phase of importing.|\n",
    "|filename|Name of the originally imported EViews file|\n",
    "|fit_end|End period over which the model is solved|\n",
    "|fit_start|Start of period over which the model is solved|\n",
    "|freq|Frequenecy of the  model A=Annual; Q=Quarterly; M=Monthly|\n",
    "|mfmsa_options|Options variable from the EViews file|\n",
    "|mfmsa_quasiIdentities|List of Eviews quasi identities|\n",
    "|mfmsa_start_end|Eviews Start and End Solve periods|\n",
    "|modelname|Name of model|\n",
    "|var_description|Dictionary of variable descriptions|\n",
    "|var_groups|EViews groups defined|\n",
    "|wb_default_descriptions|Default variable descriptions (Glossary) in WB models|\n",
    "|missing_descriptions|Dictionary of variables with missing descriptions|\n",
    "\n",
    "country_df_trans\n",
    " 'country_trans',\n",
    "  'dfmodel',\n",
    " 'disable_progress',\n",
    " 'do_add_factor_calc',\n",
    " 'end',\n",
    " \n",
    " 'mmodel',\n",
    " 'model_all_about',\n",
    " 'model_description',\n",
    " \n",
    " \n",
    "\n",
    "\n"
   ]
  },
  {
   "cell_type": "markdown",
   "id": "38c42e1f",
   "metadata": {},
   "source": [
    "## Check if the imported equations returns their  historical values\n",
    "\n",
    "An essential feature of a model is that if nothing is changed it returns the same results.  For the imported model, therefore when it is solved it should (within tolerances for rounding errors) return the same data that it was initiated with it.\n",
    "\n",
    "The test_model routine solves each equation and checks that the add factors are the same as those input and returns those where the difference exceeds a given tolerance.\n",
    "\n",
    "Below the absolute difference was larger than 1 for 7 variables but this was less than e-5 percent or e-7 (if we don't multiply by 100), which is a very small deviation. The amount of deviation that the solver will tolerate can be set as an option and e-6 is a commonly used level.\n",
    "\n",
    "We judge the import to be successful\n"
   ]
  },
  {
   "cell_type": "code",
   "execution_count": 5,
   "id": "502baa5d",
   "metadata": {},
   "outputs": [
    {
     "name": "stdout",
     "output_type": "stream",
     "text": [
      "IRQ calculated  \n",
      "\n",
      "Chekking residuals for IRQ 2017 to 2040\n",
      "\n",
      "Variable with residuals above threshold\n",
      "IRQNYGDPFCSTKN              , Max difference:     2.48473889 Max Pct    0.0000012537% It is number    39 in the solveorder and error number 1\n",
      "IRQNYGDPNOILKN              , Max difference:     1.62679964 Max Pct    0.0000017770% It is number    46 in the solveorder and error number 2\n",
      "IRQNECONGOVTKN              , Max difference:     2.65173910 Max Pct    0.0000063979% It is number    50 in the solveorder and error number 3\n",
      "IRQNEGDETTOTKN              , Max difference:     2.20873368 Max Pct    0.0000014688% It is number    66 in the solveorder and error number 4\n",
      "IRQNECONPRVTCN              , Max difference:     2.24584737 Max Pct    0.0000013446% It is number    67 in the solveorder and error number 5\n",
      "IRQNYGDPMKTPCN              , Max difference:     4.49169481 Max Pct    0.0000012072% It is number    79 in the solveorder and error number 6\n",
      "IRQNYGDPMKTPKN              , Max difference:     2.20873368 Max Pct    0.0000012204% It is number    81 in the solveorder and error number 7\n"
     ]
    }
   ],
   "source": [
    "all_about_irq.test_model(all_about_irq.start,all_about_irq.end,maxerr=100,tol=1,showall=0)   # tol determins the max acceptable absolute difference "
   ]
  },
  {
   "cell_type": "markdown",
   "id": "540645a4",
   "metadata": {},
   "source": [
    "## Extract the model and the baseline\n",
    "\n",
    "Here we extract from all_about various components that we will use below.\n"
   ]
  },
  {
   "cell_type": "code",
   "execution_count": 6,
   "id": "f6a336f5",
   "metadata": {},
   "outputs": [],
   "source": [
    "mirq    = all_about_irq.mmodel       # the model instance  \n",
    "baseline = all_about_irq.base_input  # the dataframe used to initialize the model"
   ]
  },
  {
   "cell_type": "markdown",
   "id": "176f6a07",
   "metadata": {},
   "source": [
    "## Run the model \n",
    "\n",
    "The below solves the model with no change in the exogenous variables to check that it returns the same input data. \n",
    " "
   ]
  },
  {
   "cell_type": "code",
   "execution_count": 28,
   "id": "8019ced1",
   "metadata": {},
   "outputs": [],
   "source": [
    "res = mirq(all_about_irq.base_input,2020,2040,silent=1,alfa=1,ldumpvar=0)\n",
    "mirq.basedf = all_about_irq.base_input"
   ]
  },
  {
   "cell_type": "markdown",
   "id": "78c958a8",
   "metadata": {},
   "source": [
    "## And the simulation result is also fine. \n",
    "Here the percent difference is displayed"
   ]
  },
  {
   "cell_type": "code",
   "execution_count": 29,
   "id": "e5816406",
   "metadata": {
    "scrolled": false
   },
   "outputs": [
    {
     "data": {
      "application/vnd.jupyter.widget-view+json": {
       "model_id": "05e7efe0535e44b8bbfe17dca8ab9e8b",
       "version_major": 2,
       "version_minor": 0
      },
      "text/plain": [
       "Tab(children=(Tab(children=(HTML(value='<?xml version=\"1.0\" encoding=\"utf-8\" standalone=\"no\"?>\\n<!DOCTYPE svg …"
      ]
     },
     "metadata": {},
     "output_type": "display_data"
    },
    {
     "data": {
      "text/html": [],
      "text/plain": []
     },
     "execution_count": 29,
     "metadata": {},
     "output_type": "execute_result"
    }
   ],
   "source": [
    "mirq['irqGGEXPCAPTCN irqNYGDPMKTPCN irqGGDBTTOTLCN irqBNCABFUNDCD']"
   ]
  },
  {
   "cell_type": "markdown",
   "id": "5d090b2c",
   "metadata": {},
   "source": [
    "## Look at a stochastic variable \n",
    "\n",
    "The all_frml_dict contains a listing of all the equations and the different forms their equations take, notably the original equation, The EViews versions (which should be the same as the original), the pre-processed version (after any EViews inline functions have been replaced), the normalized version -- the EViews equation re-written to solve for the level of the dependent variable.\n",
    "\n",
    "The first variable which is the GDP identity is relatively straightforward to read, the second which is the equation for the consumer price deflator is more complex because of the estimated coefficients (c1), C(2) in the eviews form and with the estimated value of those coefficients substituted in for the normalized version."
   ]
  },
  {
   "cell_type": "code",
   "execution_count": 10,
   "id": "0f85a82d",
   "metadata": {},
   "outputs": [
    {
     "name": "stdout",
     "output_type": "stream",
     "text": [
      "\n",
      "Endo_var        : IRQNYGDPMKTPKN\n",
      "Original        : IRQNYGDPMKTPKN=IRQNECONPRVTKN+IRQNECONGOVTKN+IRQNEGDIFTOTKN+IRQNEGDISTKBKN+IRQNEEXPGNFSKN-IRQNEIMPGNFSKN+IRQNYGDPDISCKN\r\n",
      "Preprocessed    : IRQNYGDPMKTPKN=IRQNECONPRVTKN+IRQNECONGOVTKN+IRQNEGDIFTOTKN+IRQNEGDISTKBKN+IRQNEEXPGNFSKN-IRQNEIMPGNFSKN+IRQNYGDPDISCKN\r\n",
      "Normalized      : IRQNYGDPMKTPKN = IRQNECONPRVTKN+IRQNECONGOVTKN+IRQNEGDIFTOTKN+IRQNEGDISTKBKN+IRQNEEXPGNFSKN-IRQNEIMPGNFSKN+IRQNYGDPDISCKN\n",
      "Eviews          : @IDENTITY IRQNYGDPMKTPKN  = IRQNECONPRVTKN  + IRQNECONGOVTKN  + IRQNEGDIFTOTKN  + IRQNEGDISTKBKN  + IRQNEEXPGNFSKN  - IRQNEIMPGNFSKN  + IRQNYGDPDISCKN\r\n"
     ]
    }
   ],
   "source": [
    "all_about_irq.all_frml_dict['IRQNYGDPMKTPKN'].fprint"
   ]
  },
  {
   "cell_type": "code",
   "execution_count": 11,
   "id": "513a7f8d",
   "metadata": {},
   "outputs": [
    {
     "name": "stdout",
     "output_type": "stream",
     "text": [
      "\n",
      "Endo_var        : IRQNECONPRVTXN\n",
      "Original        : DLOG(IRQNECONPRVTXN)=-0.2*(LOG(IRQNECONPRVTXN(-1))-0.2*LOG(IRQNYGDPFCSTXN(-1))-(1-0.2)*LOG(IRQNEIMPGNFSXN(-1))-LOG((1+IRQGGREVGNFSER(-1)/100))-LOG(ABS(1.12510183905574)))+0.1*DLOG(IRQNYGDPFCSTXN)+(1-0.1)*DLOG(IRQNEIMPGNFSXN)+DLOG(1+IRQGGREVGNFSER/100)+0.1*IRQNYGDPGAP_/100\r\n",
      "Preprocessed    : ((LOG(IRQNECONPRVTXN))-(LOG(IRQNECONPRVTXN(-1))))=-0.2*(LOG(IRQNECONPRVTXN(-1))-0.2*LOG(IRQNYGDPFCSTXN(-1))-(1-0.2)*LOG(IRQNEIMPGNFSXN(-1))-LOG((1+IRQGGREVGNFSER(-1)/100))-LOG(ABS(1.12510183905574)))+0.1*((LOG(IRQNYGDPFCSTXN))-(LOG(IRQNYGDPFCSTXN(-1))))+(1-0.1)*((LOG(IRQNEIMPGNFSXN))-(LOG(IRQNEIMPGNFSXN(-1))))+((LOG(1+IRQGGREVGNFSER/100))-(LOG(1+IRQGGREVGNFSER(-1)/100)))+0.1*IRQNYGDPGAP_/100\r\n",
      "Normalized      : IRQNECONPRVTXN = (IRQNECONPRVTXN(-1)*EXP(IRQNECONPRVTXN_A+ (-0.2*(LOG(IRQNECONPRVTXN(-1))-0.2*LOG(IRQNYGDPFCSTXN(-1))-(1-0.2)*LOG(IRQNEIMPGNFSXN(-1))-LOG((1+IRQGGREVGNFSER(-1)/100))-LOG(ABS(1.12510183905574)))+0.1*((LOG(IRQNYGDPFCSTXN))-(LOG(IRQNYGDPFCSTXN(-1))))+(1-0.1)*((LOG(IRQNEIMPGNFSXN))-(LOG(IRQNEIMPGNFSXN(-1))))+((LOG(1+IRQGGREVGNFSER/100))-(LOG(1+IRQGGREVGNFSER(-1)/100)))+0.1*IRQNYGDPGAP_/100) )) * (1-IRQNECONPRVTXN_D)+ IRQNECONPRVTXN_X*IRQNECONPRVTXN_D \n",
      "Calc_add_factor : IRQNECONPRVTXN_A = - ((-0.2*(LOG(IRQNECONPRVTXN(-1))-0.2*LOG(IRQNYGDPFCSTXN(-1))-(1-0.2)*LOG(IRQNEIMPGNFSXN(-1))-LOG((1+IRQGGREVGNFSER(-1)/100))-LOG(ABS(1.12510183905574)))+0.1*((LOG(IRQNYGDPFCSTXN))-(LOG(IRQNYGDPFCSTXN(-1))))+(1-0.1)*((LOG(IRQNEIMPGNFSXN))-(LOG(IRQNEIMPGNFSXN(-1))))+((LOG(1+IRQGGREVGNFSER/100))-(LOG(1+IRQGGREVGNFSER(-1)/100)))+0.1*IRQNYGDPGAP_/100)) +LOG(IRQNECONPRVTXN)-LOG(IRQNECONPRVTXN(-1))\n",
      "Fitted          : IRQNECONPRVTXN_FITTED = IRQNECONPRVTXN(-1)*EXP( (-0.2*(LOG(IRQNECONPRVTXN(-1))-0.2*LOG(IRQNYGDPFCSTXN(-1))-(1-0.2)*LOG(IRQNEIMPGNFSXN(-1))-LOG((1+IRQGGREVGNFSER(-1)/100))-LOG(ABS(1.12510183905574)))+0.1*((LOG(IRQNYGDPFCSTXN))-(LOG(IRQNYGDPFCSTXN(-1))))+(1-0.1)*((LOG(IRQNEIMPGNFSXN))-(LOG(IRQNEIMPGNFSXN(-1))))+((LOG(1+IRQGGREVGNFSER/100))-(LOG(1+IRQGGREVGNFSER(-1)/100)))+0.1*IRQNYGDPGAP_/100) )\n",
      "Eviews          : DLOG(IRQNECONPRVTXN) =- 0.2*(LOG(IRQNECONPRVTXN( - 1)) - 0.2*LOG(IRQNYGDPFCSTXN( - 1)) - (1 - 0.2)*LOG(IRQNEIMPGNFSXN( - 1)) - LOG((1 + IRQGGREVGNFSER( - 1)/100)) - LOG(@ABS(1.12510183905574))) + 0.1*DLOG(IRQNYGDPFCSTXN) + (1 - 0.1)*DLOG(IRQNEIMPGNFSXN) + DLOG(1 + IRQGGREVGNFSER/100) + 0.1*IRQNYGDPGAP_/100\r\n"
     ]
    }
   ],
   "source": [
    "all_about_irq.all_frml_dict['IRQNECONPRVTXN'].fprint"
   ]
  },
  {
   "cell_type": "markdown",
   "id": "781c433d",
   "metadata": {},
   "source": [
    "## Look a all the modelflow frmls\n",
    "Notice after the \"original\" model the equations for the \"fitted\" values have been added. <br>\n",
    "Also in the end of the listing the specification of the model which calculates the add factors if a variable is fixed. When processing the equations the ```model``` class will process this this model separately and create a model instance \n",
    "which is used to calculate add factors in case "
   ]
  },
  {
   "cell_type": "code",
   "execution_count": 13,
   "id": "b9ae4d5d",
   "metadata": {
    "scrolled": true
   },
   "outputs": [
    {
     "name": "stdout",
     "output_type": "stream",
     "text": [
      "FRML <IDENT> IRQNYGDPPOTLKN = IRQNYGDPTFP*(IRQLMEMPSTRL**IRQNYYWBTOTLCN_)*(IRQNEGDIKSTKKN(-1)**(1-IRQNYYWBTOTLCN_)) $\n",
      "FRML <IDENT> IRQNYGDPPOTWKN = IRQNYGDPPOTLKN+IRQNVOILTOTLKN $\n",
      "FRML <IDENT> IRQNYGDPGAP_ = ((IRQNYGDPNOILKN/IRQNYGDPPOTLKN-1)*100) $\n",
      "FRML <IDENT> IRQNYGDPGAPW_ = ((IRQNYGDPMKTPKN+IRQNYTAXNINDKN)/IRQNYGDPPOTWKN-1)*100 $\n",
      "FRML <IDENT> IRQNEGDIKSTKKN = IRQNEGDIKSTKKN(-1)*(1-IRQDEPR)+IRQNEGDIFTOTKN $\n",
      "FRML <IDENT> IRQNEKRTTOTLXN = IRQNEGDIFTOTXN*(IRQNEKRTPREMFR/100+IRQDEPR+IRQFMLBLPOLYFR/100-IRQINFLEXPT/100) $\n",
      "FRML <IDENT> IRQPSTAR = (IRQNEWRTTOTLXN**IRQNYYWBTOTLCN_*IRQNEKRTTOTLXN**(1-IRQNYYWBTOTLCN_))/(IRQNYGDPTFP*IRQNYYWBTOTLCN_**IRQNYYWBTOTLCN_*(1-IRQNYYWBTOTLCN_)**(1-IRQNYYWBTOTLCN_)) $\n",
      "FRML <IDENT> IRQLMLBFTOTL = IRQLMPRTTOTL_/100*IRQSPPOPWORK $\n",
      "FRML <IDENT> IRQNYYWBTOTLCN = IRQNEWRTTOTLXN*IRQLMEMPTOTL $\n",
      "FRML <DAMP,STOC> IRQNEWRTTOTLXN = (IRQNEWRTTOTLXN(-1)*EXP(IRQNEWRTTOTLXN_A+ (-0.572328530761233*(LOG(IRQNEWRTTOTLXN(-1))-LOG(IRQNECONPRVTXN(-1)*IRQNYGDPPOTLKN(-1)/IRQLMEMPSTRL(-1))-LOG(ABS(0.526718532993625)))+0.2*((LOG(IRQNEWRTTOTLXN(-1)))-(LOG(IRQNEWRTTOTLXN(-2))))+(1-0.2)*(((LOG(IRQNECONPRVTXN))-(LOG(IRQNECONPRVTXN(-1))))+((LOG(IRQNYGDPPOTLKN/IRQLMEMPSTRL))-(LOG(IRQNYGDPPOTLKN(-1)/IRQLMEMPSTRL(-1)))))-0.5*(IRQLMUNRTOTL_-IRQLMUNRSTRL_)/100) )) * (1-IRQNEWRTTOTLXN_D)+ IRQNEWRTTOTLXN_X*IRQNEWRTTOTLXN_D  $\n",
      "FRML <DAMP,STOC> IRQLMEMPTOTL = (IRQLMEMPTOTL(-1)*EXP(IRQLMEMPTOTL_A+ (-0.337981906393358*(LOG(IRQLMEMPTOTL(-1))-LOG(IRQLMEMPSTRL(-1))-LOG(ABS(+1)))+0.8*((LOG(IRQLMEMPSTRL))-(LOG(IRQLMEMPSTRL(-1))))-0.1*(((LOG(IRQNEWRTTOTLXN/IRQNYGDPFCSTXN))-(LOG(IRQNEWRTTOTLXN(-1)/IRQNYGDPFCSTXN(-1))))-((LOG(IRQNYGDPPOTLKN/IRQLMEMPSTRL))-(LOG(IRQNYGDPPOTLKN(-1)/IRQLMEMPSTRL(-1)))))+0.0343673922178721*(DURING_2016-DURING_2017)) )) * (1-IRQLMEMPTOTL_D)+ IRQLMEMPTOTL_X*IRQLMEMPTOTL_D  $\n",
      "FRML <IDENT> IRQLMEMPSTRL = (1-IRQLMUNRSTRL_/100)*IRQLMLBFTOTL $\n",
      "FRML <IDENT> IRQLMUNRTOTL_ = (1-IRQLMEMPTOTL/IRQLMLBFTOTL)*100 $\n",
      "FRML <DAMP,STOC> IRQLMPRTTOTL_ = (1.07735457394539*(IRQLMPRTSTRL_)+(1-1.07735457394539)*(IRQLMPRTTOTL_(-1)) + IRQLMPRTTOTL__A)* (1-IRQLMPRTTOTL__D)+ IRQLMPRTTOTL__X*IRQLMPRTTOTL__D  $\n",
      "FRML <DAMP,STOC> IRQNECONPRVTKN = (IRQNECONPRVTKN(-1)*EXP(IRQNECONPRVTKN_A+ (-0.2*(LOG(IRQNECONPRVTKN(-1))-LOG((IRQNYYWBTOTLCN(-1)*(1-IRQGGREVDRCTER(-1)/100)+IRQGGEXPTRNSCN(-1)+IRQBXFSTREMTCD(-1)*IRQPANUSATLS(-1))/IRQNECONPRVTXN(-1))-LOG(ABS(1.52728267551826)))+0.151957621114357*((LOG((IRQNYYWBTOTLCN*(1-IRQGGREVDRCTER/100)+IRQGGEXPTRNSCN+IRQBXFSTREMTCD*IRQPANUSATLS)/IRQNECONPRVTXN))-(LOG((IRQNYYWBTOTLCN(-1)*(1-IRQGGREVDRCTER(-1)/100)+IRQGGEXPTRNSCN(-1)+IRQBXFSTREMTCD(-1)*IRQPANUSATLS(-1))/IRQNECONPRVTXN(-1))))-0.1*((IRQFMLBLPOLYFR/100-((LOG(IRQNECONPRVTXN))-(LOG(IRQNECONPRVTXN(-1)))))-(IRQFMLBLPOLYFR(-1)/100-((LOG(IRQNECONPRVTXN(-1)))-(LOG(IRQNECONPRVTXN(-2))))))+0.0644285084575128*DURING_2016-0.05992605405129*DURING_2020) )) * (1-IRQNECONPRVTKN_D)+ IRQNECONPRVTKN_X*IRQNECONPRVTKN_D  $\n",
      "FRML <DAMP,STOC> IRQNECONPRVTXN = (IRQNECONPRVTXN(-1)*EXP(IRQNECONPRVTXN_A+ (-0.2*(LOG(IRQNECONPRVTXN(-1))-0.2*LOG(IRQNYGDPFCSTXN(-1))-(1-0.2)*LOG(IRQNEIMPGNFSXN(-1))-LOG((1+IRQGGREVGNFSER(-1)/100))-LOG(ABS(1.12510183905574)))+0.1*((LOG(IRQNYGDPFCSTXN))-(LOG(IRQNYGDPFCSTXN(-1))))+(1-0.1)*((LOG(IRQNEIMPGNFSXN))-(LOG(IRQNEIMPGNFSXN(-1))))+((LOG(1+IRQGGREVGNFSER/100))-(LOG(1+IRQGGREVGNFSER(-1)/100)))+0.1*IRQNYGDPGAP_/100) )) * (1-IRQNECONPRVTXN_D)+ IRQNECONPRVTXN_X*IRQNECONPRVTXN_D  $\n",
      "FRML <IDENT> IRQNECONPRVTCN = IRQNECONPRVTKN*IRQNECONPRVTXN $\n",
      "FRML <IDENT> IRQNECONGOVTKN = IRQNECONGOVTCN/IRQNECONGOVTXN $\n",
      "FRML <QUASIIDENT> IRQNECONGOVTXN = (IRQNECONGOVTXN_A*IRQNECONGOVTXN(-1)/100+ ((100 * ( (IRQNECONPRVTXN) / (IRQNECONPRVTXN(-1)) -1)) -7.69428366353964E-08*DUMH) *IRQNECONGOVTXN(-1)/100+IRQNECONGOVTXN(-1)) * (1-IRQNECONGOVTXN_D)+ IRQNECONGOVTXN_X*IRQNECONGOVTXN_D  $\n",
      "FRML <QUASIIDENT> IRQNECONGOVTCN = (IRQNECONGOVTCN(-1)*EXP(IRQNECONGOVTCN_A+ (((LOG(IRQGGEXPGNFSCN+IRQGGEXPWAGECN))-(LOG(IRQGGEXPGNFSCN(-1)+IRQGGEXPWAGECN(-1))))+0.319539546897921*(DURING_2007-DURING_2008)+0.0247441341184627*DUMH) )) * (1-IRQNECONGOVTCN_D)+ IRQNECONGOVTCN_X*IRQNECONGOVTCN_D  $\n",
      "FRML <IDENT> IRQNEGDIFTOTKN = IRQNEGDIFPRVKN+IRQNEGDIFGOVKN $\n",
      "FRML <IDENT> IRQNEGDIFTOTXN = IRQNEGDIFTOTCN/IRQNEGDIFTOTKN $\n",
      "FRML <IDENT> IRQNEGDIFTOTCN = IRQNEGDIFPRVCN+IRQNEGDIFGOVCN $\n",
      "FRML <IDENT> IRQNEGDIFGOVKN = IRQNEGDIFGOVCN/IRQNEGDIFGOVXN $\n",
      "FRML <DAMP,STOC> IRQNEGDIFGOVXN = (IRQNEGDIFGOVXN(-1)*EXP(IRQNEGDIFGOVXN_A+ (-0.2*(LOG(IRQNEGDIFGOVXN(-1))-LOG(IRQNECONPRVTXN(-1))-LOG(ABS(-0.00162635219514514)))+0.15687312389804*((LOG(IRQNEGDIFGOVXN(-1)))-(LOG(IRQNEGDIFGOVXN(-2))))+(1-0.15687312389804)*((LOG(IRQNECONPRVTXN))-(LOG(IRQNECONPRVTXN(-1))))+0.0217840587999303*T_LR) )) * (1-IRQNEGDIFGOVXN_D)+ IRQNEGDIFGOVXN_X*IRQNEGDIFGOVXN_D  $\n",
      "FRML <QUASIIDENT> IRQNEGDIFGOVCN = (IRQNEGDIFGOVCN_A*IRQNEGDIFGOVCN(-1)/100+ ((100 * ( (IRQGGEXPCAPTCN) / (IRQGGEXPCAPTCN(-1)) -1)) +9.26808880884665*DUMH) *IRQNEGDIFGOVCN(-1)/100+IRQNEGDIFGOVCN(-1)) * (1-IRQNEGDIFGOVCN_D)+ IRQNEGDIFGOVCN_X*IRQNEGDIFGOVCN_D  $\n",
      "FRML <DAMP,STOC> IRQNEGDIFPRVKN = (IRQNEGDIFPRVKN(-1)*EXP(IRQNEGDIFPRVKN_A+ (-0.303797618615019*(LOG(IRQNEGDIFPRVKN(-1))-LOG((1-IRQNYYWBTOTLCN_(-1))*IRQNYGDPMKTPKN(-1))+LOG(IRQNEKRTTOTLXN(-1)/IRQNYGDPFCSTXN(-1))-LOG(ABS(-0.0376470942158005)))+1*((LOG(IRQNYGDPMKTPKN))-(LOG(IRQNYGDPMKTPKN(-1))))-0.1*((LOG(IRQNEKRTTOTLXN/IRQNEGDIFPRVXN))-(LOG(IRQNEKRTTOTLXN(-1)/IRQNEGDIFPRVXN(-1))))) )) * (1-IRQNEGDIFPRVKN_D)+ IRQNEGDIFPRVKN_X*IRQNEGDIFPRVKN_D  $\n",
      "FRML <DAMP,STOC> IRQNEGDIFPRVXN = (IRQNEGDIFPRVXN(-1)*EXP(IRQNEGDIFPRVXN_A+ (-0.541220532110756*(LOG(IRQNEGDIFPRVXN(-1))-LOG(IRQNECONPRVTXN(-1))-LOG(ABS(0.819986990925249)))+0.164774596264358*((LOG(IRQNEGDIFPRVXN(-1)))-(LOG(IRQNEGDIFPRVXN(-2))))+(1-0.164774596264358)*((LOG(IRQNECONPRVTXN))-(LOG(IRQNECONPRVTXN(-1))))) )) * (1-IRQNEGDIFPRVXN_D)+ IRQNEGDIFPRVXN_X*IRQNEGDIFPRVXN_D  $\n",
      "FRML <IDENT> IRQNEGDIFPRVCN = IRQNEGDIFPRVKN*IRQNEGDIFPRVXN $\n",
      "FRML <IDENT> IRQNEEXPGNFSKN = IRQNEEXPGOILKN+IRQNEEXPNOILKN $\n",
      "FRML <IDENT> IRQNEEXPGNFSXN = IRQNEEXPGNFSCN/IRQNEEXPGNFSKN $\n",
      "FRML <IDENT> IRQNEEXPGNFSCN = IRQNEEXPGOILCN+IRQNEEXPNOILCN $\n",
      "FRML <QUASIIDENT> IRQNEEXPGOILKN = (IRQNEEXPGOILKN(-1)*EXP(IRQNEEXPGOILKN_A+ (((LOG(IRQNVOILPRODKN-IRQNVOILCONSKN))-(LOG(IRQNVOILPRODKN(-1)-IRQNVOILCONSKN(-1))))-0.00838118367547458*DUMH) )) * (1-IRQNEEXPGOILKN_D)+ IRQNEEXPGOILKN_X*IRQNEEXPGOILKN_D  $\n",
      "FRML <QUASIIDENT> IRQNEEXPGOILXN = (IRQNEEXPGOILXN(-1)*EXP(IRQNEEXPGOILXN_A+ (((LOG(WLDFCRUDE_PETRO*IRQPANUSATLS))-(LOG(WLDFCRUDE_PETRO(-1)*IRQPANUSATLS(-1))))+0.0149351425589624*DUMH) )) * (1-IRQNEEXPGOILXN_D)+ IRQNEEXPGOILXN_X*IRQNEEXPGOILXN_D  $\n",
      "FRML <IDENT> IRQNEEXPGOILCN = IRQNEEXPGOILKN*IRQNEEXPGOILXN $\n",
      "FRML <DAMP,STOC> IRQNEEXPNOILKN = (IRQNEEXPNOILKN(-1)*EXP(IRQNEEXPNOILKN_A+ (-0.439169641550542*(LOG(IRQNEEXPNOILKN(-1))-LOG(IRQXMKT(-1))+0.68260742540645*LOG(IRQNEEXPNOILXN(-1)/(IRQPXKEYEX(-1)*IRQPANUSATLS(-1)))-LOG(ABS(-11056.2431390151)))+1*((LOG(IRQXMKT))-(LOG(IRQXMKT(-1))))-0.9*((LOG(IRQNEEXPNOILXN/(IRQPXKEYEX*IRQPANUSATLS)))-(LOG(IRQNEEXPNOILXN(-1)/(IRQPXKEYEX(-1)*IRQPANUSATLS(-1)))))-0.61041731520048*DURING_2010_2011) )) * (1-IRQNEEXPNOILKN_D)+ IRQNEEXPNOILKN_X*IRQNEEXPNOILKN_D  $\n",
      "FRML <DAMP,STOC> IRQNEEXPNOILXN = (IRQNEEXPNOILXN(-1)*EXP(IRQNEEXPNOILXN_A+ (-0.896480222426118*(LOG(IRQNEEXPNOILXN(-1))-0.2*LOG(IRQNECONPRVTXN(-1)/(1+IRQGGREVGNFSER(-1)/100))-(1-0.2)*LOG(IRQPXKEYEX(-1)*IRQPANUSATLS(-1))-LOG(ABS(0.113694611280857)))+0.1*((LOG(IRQNECONPRVTXN/(1+IRQGGREVGNFSER/100)))-(LOG(IRQNECONPRVTXN(-1)/(1+IRQGGREVGNFSER(-1)/100))))+(1-0.1)*((LOG(IRQPXKEYEX*IRQPANUSATLS))-(LOG(IRQPXKEYEX(-1)*IRQPANUSATLS(-1))))-0.061214996490363*T_LR) )) * (1-IRQNEEXPNOILXN_D)+ IRQNEEXPNOILXN_X*IRQNEEXPNOILXN_D  $\n",
      "FRML <IDENT> IRQNEEXPNOILCN = IRQNEEXPNOILKN*IRQNEEXPNOILXN $\n",
      "FRML <DAMP,STOC> IRQNEIMPGNFSKN = (IRQNEIMPGNFSKN(-1)*EXP(IRQNEIMPGNFSKN_A+ (-0.2*(LOG(IRQNEIMPGNFSKN(-1))-LOG(IRQNEGDETTOTKN(-1))+0.8*LOG(IRQNEIMPGNFSXN(-1)/(IRQNYGDPFCSTXN(-1)))-LOG(ABS(0.443470279250376)))+1*((LOG(IRQNEGDETTOTKN))-(LOG(IRQNEGDETTOTKN(-1))))-0.245657728212625*((LOG(IRQNEIMPGNFSXN/IRQNYGDPFCSTXN))-(LOG(IRQNEIMPGNFSXN(-1)/IRQNYGDPFCSTXN(-1))))) )) * (1-IRQNEIMPGNFSKN_D)+ IRQNEIMPGNFSKN_X*IRQNEIMPGNFSKN_D  $\n",
      "FRML <DAMP,STOC> IRQNEIMPGNFSXN = (IRQNEIMPGNFSXN(-1)*EXP(IRQNEIMPGNFSXN_A+ (-0.2*(LOG(IRQNEIMPGNFSXN(-1))-0.617724007692037*(LOG(IRQNECONPRVTXN(-1)))-(1-0.617724007692037)*LOG(IRQPMKEY(-1)*IRQPANUSATLS(-1))-LOG(ABS(0.0653195537588373)))+0.85*((LOG(IRQNECONPRVTXN))-(LOG(IRQNECONPRVTXN(-1))))+(1-0.85)*((LOG(IRQPMKEY*IRQPANUSATLS))-(LOG(IRQPMKEY(-1)*IRQPANUSATLS(-1))))-0.0643059570953545*DURING_2008) )) * (1-IRQNEIMPGNFSXN_D)+ IRQNEIMPGNFSXN_X*IRQNEIMPGNFSXN_D  $\n",
      "FRML <IDENT> IRQNEIMPGNFSCN = IRQNEIMPGNFSKN*IRQNEIMPGNFSXN $\n",
      "FRML <IDENT> IRQNYGDPMKTPKN = IRQNECONPRVTKN+IRQNECONGOVTKN+IRQNEGDIFTOTKN+IRQNEGDISTKBKN+IRQNEEXPGNFSKN-IRQNEIMPGNFSKN+IRQNYGDPDISCKN $\n",
      "FRML <IDENT> IRQNYGDPMKTPCN = IRQNECONPRVTCN+IRQNECONGOVTCN+IRQNEGDIFTOTCN+IRQNEGDISTKBCN+IRQNEEXPGNFSCN-IRQNEIMPGNFSCN+IRQNYGDPDISCCN $\n",
      "FRML <IDENT> IRQNYGDPMKTPXN = IRQNYGDPMKTPCN/IRQNYGDPMKTPKN $\n",
      "FRML <IDENT> IRQNYGDPMKTPCD = IRQNYGDPMKTPCN/IRQPANUSATLS $\n",
      "FRML <IDENT> IRQNEGDETTOTKN = (IRQNECONPRVTKN+IRQNECONGOVTKN+IRQNEGDIFTOTKN+IRQNEGDISTKBKN+IRQNYGDPDISCKN) $\n",
      "FRML <IDENT> IRQNEGDETTOTCN = (IRQNECONPRVTCN+IRQNECONGOVTCN+IRQNEGDIFTOTCN+IRQNEGDISTKBCN+IRQNYGDPDISCCN) $\n",
      "FRML <IDENT> IRQNVAGRSMKN = ((IRQAGR_ALFAG*IRQNECONGOVTKN+IRQAGR_ALFAC*IRQNECONPRVTKN+IRQAGR_ALFAI*IRQNEGDIFTOTKN+IRQAGR_ALFAX*IRQNEEXPGNFSKN)*(1+IRQINTS_AGR)-IRQAGR_ALFAM*IRQNEIMPGNFSKN-IRQAGR_ALFAT*IRQNYTAXNINDKN)/(1+IRQINTD_AGR)+IRQNVAGRTOTLKN(-1)/IRQNYGDPFCSTKN(-1)*(IRQNYGDPDISCKN+IRQNEGDISTKBKN) $\n",
      "FRML <IDENT> IRQNVMNQSMKN = ((IRQMNQ_ALFAG*IRQNECONGOVTKN+IRQMNQ_ALFAC*IRQNECONPRVTKN+IRQMNQ_ALFAI*IRQNEGDIFTOTKN+IRQMNQ_ALFAX*IRQNEEXPGNFSKN)*(1+IRQINTS_MNQ)-IRQMNQ_ALFAM*IRQNEIMPGNFSKN-IRQMNQ_ALFAT*IRQNYTAXNINDKN)/(1+IRQINTD_MNQ)+IRQNVINDMNQRKN(-1)/IRQNYGDPFCSTKN(-1)*(IRQNYGDPDISCKN+IRQNEGDISTKBKN) $\n",
      "FRML <IDENT> IRQNVMANSMKN = ((IRQMAN_ALFAC*IRQNECONGOVTKN+IRQMAN_ALFAC*IRQNECONPRVTKN+IRQMAN_ALFAI*IRQNEGDIFTOTKN+IRQMAN_ALFAX*IRQNEEXPGNFSKN)*(1+IRQINTS_MAN)-IRQMAN_ALFAM*IRQNEIMPGNFSKN-IRQMAN_ALFAT*IRQNYTAXNINDKN)/(1+IRQINTD_MAN)+IRQNVINDMANUKN(-1)/IRQNYGDPFCSTKN(-1)*(IRQNYGDPDISCKN+IRQNEGDISTKBKN) $\n",
      "FRML <IDENT> IRQNVUTLSMKN = ((IRQUTL_ALFAG*IRQNECONGOVTKN+IRQUTL_ALFAC*IRQNECONPRVTKN+IRQUTL_ALFAI*IRQNEGDIFTOTKN+IRQUTL_ALFAX*IRQNEEXPGNFSKN)*(1+IRQINTS_UTL)-IRQUTL_ALFAM*IRQNEIMPGNFSKN-IRQUTL_ALFAT*IRQNYTAXNINDKN)/(1+IRQINTD_UTL)+IRQNVINDELWAKN(-1)/IRQNYGDPFCSTKN(-1)*(IRQNYGDPDISCKN+IRQNEGDISTKBKN) $\n",
      "FRML <IDENT> IRQNVCONSMKN = ((IRQCON_ALFAG*IRQNECONPRVTKN+IRQCON_ALFAC*IRQNECONGOVTKN+IRQCON_ALFAI*IRQNEGDIFTOTKN+IRQCON_ALFAX*IRQNEEXPGNFSKN)*(1+IRQINTS_CON)-IRQCON_ALFAM*IRQNEIMPGNFSKN-IRQCON_ALFAT*IRQNYTAXNINDKN)/(1+IRQINTD_CON)+IRQNVINDCONSKN(-1)/IRQNYGDPFCSTKN(-1)*(IRQNYGDPDISCKN+IRQNEGDISTKBKN) $\n",
      "FRML <DAMP,STOC> IRQNVAGRTOTLKN = (IRQNVAGRTOTLKN(-1)*EXP(IRQNVAGRTOTLKN_A+ (-0.2*(LOG(IRQNVAGRTOTLKN(-1))-LOG(IRQNVAGRSMKN(-1))-LOG(ABS(3.76738857113326)))+0.54463165662183*((LOG(IRQNVAGRTOTLKN(-1)))-(LOG(IRQNVAGRTOTLKN(-2))))+(1-0.54463165662183)*((LOG(IRQNVAGRSMKN))-(LOG(IRQNVAGRSMKN(-1))))) )) * (1-IRQNVAGRTOTLKN_D)+ IRQNVAGRTOTLKN_X*IRQNVAGRTOTLKN_D  $\n",
      "FRML <DAMP,STOC> IRQNVAGRTOTLXN = (IRQNVAGRTOTLXN(-1)*EXP(IRQNVAGRTOTLXN_A+ (-0.626133651237884*(LOG(IRQNVAGRTOTLXN(-1))-LOG(IRQNYGDPFCSTXN(-1))-LOG(ABS(1.1756046249444)))+0.670021466254089*((LOG(IRQNYGDPFCSTXN))-(LOG(IRQNYGDPFCSTXN(-1))))+(1-0.670021466254089)*((LOG(IRQNVAGRTOTLXN(-1)))-(LOG(IRQNVAGRTOTLXN(-2))))) )) * (1-IRQNVAGRTOTLXN_D)+ IRQNVAGRTOTLXN_X*IRQNVAGRTOTLXN_D  $\n",
      "FRML <IDENT> IRQNVAGRTOTLCN = IRQNVAGRTOTLKN*IRQNVAGRTOTLXN $\n",
      "FRML <IDENT> IRQNVINDTOTLKN = IRQNVINDMNQRKN+IRQNVINDMANUKN+IRQNVINDELWAKN+IRQNVINDCONSKN $\n",
      "FRML <IDENT> IRQNVINDTOTLCN = IRQNVINDMNQRCN+IRQNVINDMANUCN+IRQNVINDELWACN+IRQNVINDCONSCN $\n",
      "FRML <IDENT> IRQNVINDTOTLXN = IRQNVINDTOTLCN/IRQNVINDTOTLKN $\n",
      "FRML <DAMP,STOC> IRQNVINDMNQRKN = (IRQNVINDMNQRKN(-1)*EXP(IRQNVINDMNQRKN_A+ (-0.431155177793067*(LOG(IRQNVINDMNQRKN(-1))-LOG(IRQNVMNQSMKN(-1))-LOG(ABS(1.37851537218844)))+0.105174911928011*((LOG(IRQNVINDMNQRKN(-1)))-(LOG(IRQNVINDMNQRKN(-2))))+(1-0.105174911928011)*((LOG(IRQNVMNQSMKN))-(LOG(IRQNVMNQSMKN(-1))))+0.085264710944844*DURING_2014_2016) )) * (1-IRQNVINDMNQRKN_D)+ IRQNVINDMNQRKN_X*IRQNVINDMNQRKN_D  $\n",
      "FRML <DAMP,STOC> IRQNVINDMNQRXN = (IRQNVINDMNQRXN(-1)*EXP(IRQNVINDMNQRXN_A+ (-0.670911151753901*(LOG(IRQNVINDMNQRXN(-1))-LOG(IRQNYGDPFCSTXN(-1))-LOG(ABS(0.745210035282327)))+0.85*((LOG(IRQNYGDPFCSTXN))-(LOG(IRQNYGDPFCSTXN(-1))))+(1-0.85)*((LOG(IRQNVINDMNQRXN(-1)))-(LOG(IRQNVINDMNQRXN(-2))))) )) * (1-IRQNVINDMNQRXN_D)+ IRQNVINDMNQRXN_X*IRQNVINDMNQRXN_D  $\n",
      "FRML <IDENT> IRQNVINDMNQRCN = IRQNVINDMNQRKN*IRQNVINDMNQRXN $\n",
      "FRML <QUASIIDENT> IRQNVOILCONSKN = (IRQNVOILCONSKN_A*IRQNVOILCONSKN(-1)/100+ ((100 * ( (IRQNVOILPRODKN) / (IRQNVOILPRODKN(-1)) -1)) +0.569887125314656*DUMH) *IRQNVOILCONSKN(-1)/100+IRQNVOILCONSKN(-1)) * (1-IRQNVOILCONSKN_D)+ IRQNVOILCONSKN_X*IRQNVOILCONSKN_D  $\n",
      "FRML <QUASIIDENT> IRQNVOILTOTLKN = (IRQNVOILTOTLKN(-1)*EXP(IRQNVOILTOTLKN_A+ (((LOG(IRQNVOILPRODKN))-(LOG(IRQNVOILPRODKN(-1))))+0.130088120835337*DURING_2016+0.0437830477528237*DURING_2020-0.00769345884387847*DUMH) )) * (1-IRQNVOILTOTLKN_D)+ IRQNVOILTOTLKN_X*IRQNVOILTOTLKN_D  $\n",
      "FRML <QUASIIDENT> IRQNVOILTOTLXN = (IRQNVOILTOTLXN(-1)*EXP(IRQNVOILTOTLXN_A+ (((LOG(WLDFCRUDE_PETRO*IRQPANUSATLS))-(LOG(WLDFCRUDE_PETRO(-1)*IRQPANUSATLS(-1))))-0.0170787811774396*DUMH) )) * (1-IRQNVOILTOTLXN_D)+ IRQNVOILTOTLXN_X*IRQNVOILTOTLXN_D  $\n",
      "FRML <IDENT> IRQNVOILTOTLCN = IRQNVOILTOTLKN*IRQNVOILTOTLXN $\n",
      "FRML <IDENT> IRQNVINDMOTHKN = IRQNVINDMNQRKN-IRQNVOILTOTLKN $\n",
      "FRML <IDENT> IRQNVINDMOTHCN = IRQNVINDMNQRCN-IRQNVOILTOTLCN $\n",
      "FRML <IDENT> IRQNVINDMOTHXN = IRQNVINDMOTHCN/IRQNVINDMOTHKN $\n",
      "FRML <DAMP,STOC> IRQNVINDMANUKN = (IRQNVINDMANUKN(-1)*EXP(IRQNVINDMANUKN_A+ (-0.240956541479862*(LOG(IRQNVINDMANUKN(-1))-LOG(IRQNVMANSMKN(-1))-LOG(ABS(-0.109307601793343)))+0.766846636519688*((LOG(IRQNVINDMANUKN(-1)))-(LOG(IRQNVINDMANUKN(-2))))+(1-0.766846636519688)*((LOG(IRQNVMANSMKN))-(LOG(IRQNVMANSMKN(-1))))) )) * (1-IRQNVINDMANUKN_D)+ IRQNVINDMANUKN_X*IRQNVINDMANUKN_D  $\n",
      "FRML <DAMP,STOC> IRQNVINDMANUXN = (IRQNVINDMANUXN(-1)*EXP(IRQNVINDMANUXN_A+ (-0.2*(LOG(IRQNVINDMANUXN(-1))-LOG(IRQNYGDPFCSTXN(-1))-LOG(ABS(1.73405320530385)))+0.762829514210573*((LOG(IRQNYGDPFCSTXN))-(LOG(IRQNYGDPFCSTXN(-1))))+(1-0.762829514210573)*((LOG(IRQNVINDMNQRXN(-1)))-(LOG(IRQNVINDMNQRXN(-2))))+0.313808062923077*DURING_2015_2016) )) * (1-IRQNVINDMANUXN_D)+ IRQNVINDMANUXN_X*IRQNVINDMANUXN_D  $\n",
      "FRML <IDENT> IRQNVINDMANUCN = IRQNVINDMANUKN*IRQNVINDMANUXN $\n",
      "FRML <DAMP,STOC> IRQNVINDELWAKN = (IRQNVINDELWAKN(-1)*EXP(IRQNVINDELWAKN_A+ (-0.404840823308145*(LOG(IRQNVINDELWAKN(-1))-LOG(IRQNVUTLSMKN(-1))-LOG(ABS(0.93720075745313)))+0.208864113574842*((LOG(IRQNVINDELWAKN(-1)))-(LOG(IRQNVINDELWAKN(-2))))+(1-0.208864113574842)*((LOG(IRQNVUTLSMKN))-(LOG(IRQNVUTLSMKN(-1))))-1.79427550350905*DURING_2020+0.218553917024062*DURING_2015) )) * (1-IRQNVINDELWAKN_D)+ IRQNVINDELWAKN_X*IRQNVINDELWAKN_D  $\n",
      "FRML <DAMP,STOC> IRQNVINDELWAXN = (IRQNVINDELWAXN(-1)*EXP(IRQNVINDELWAXN_A+ (-0.6*(LOG(IRQNVINDELWAXN(-1))-LOG(IRQNYGDPFCSTXN(-1))-LOG(ABS(2.50244000710957)))+0.795839962865698*((LOG(IRQNYGDPFCSTXN))-(LOG(IRQNYGDPFCSTXN(-1))))+(1-0.795839962865698)*((LOG(IRQNVINDMNQRXN(-1)))-(LOG(IRQNVINDMNQRXN(-2))))) )) * (1-IRQNVINDELWAXN_D)+ IRQNVINDELWAXN_X*IRQNVINDELWAXN_D  $\n",
      "FRML <IDENT> IRQNVINDELWACN = IRQNVINDELWAKN*IRQNVINDELWAXN $\n",
      "FRML <DAMP,STOC> IRQNVINDCONSKN = (IRQNVINDCONSKN(-1)*EXP(IRQNVINDCONSKN_A+ (-0.656840152593363*(LOG(IRQNVINDCONSKN(-1))-LOG(IRQNVCONSMKN(-1))-LOG(ABS(1.13467816286097)))+0.190607981747875*((LOG(IRQNVINDCONSKN(-1)))-(LOG(IRQNVINDCONSKN(-2))))+(1-0.190607981747875)*((LOG(IRQNVCONSMKN))-(LOG(IRQNVCONSMKN(-1))))) )) * (1-IRQNVINDCONSKN_D)+ IRQNVINDCONSKN_X*IRQNVINDCONSKN_D  $\n",
      "FRML <DAMP,STOC> IRQNVINDCONSXN = (IRQNVINDCONSXN(-1)*EXP(IRQNVINDCONSXN_A+ (-0.3*(LOG(IRQNVINDCONSXN(-1))-LOG(IRQNYGDPFCSTXN(-1))-LOG(ABS(0.871750906481584)))+0.902295544522151*((LOG(IRQNYGDPFCSTXN))-(LOG(IRQNYGDPFCSTXN(-1))))+(1-0.902295544522151)*((LOG(IRQNVINDMNQRXN(-1)))-(LOG(IRQNVINDMNQRXN(-2))))+0.349342654022842*DURING_2015_2016+0.519949763102816*DURING_2020) )) * (1-IRQNVINDCONSXN_D)+ IRQNVINDCONSXN_X*IRQNVINDCONSXN_D  $\n",
      "FRML <IDENT> IRQNVINDCONSCN = IRQNVINDCONSKN*IRQNVINDCONSXN $\n",
      "FRML <IDENT> IRQNVSRVTOTLKN = IRQNYGDPFCSTKN-IRQNVAGRTOTLKN-IRQNVINDTOTLKN $\n",
      "FRML <IDENT> IRQNVSRVTOTLCN = IRQNYGDPFCSTCN-IRQNVAGRTOTLCN-IRQNVINDTOTLCN $\n",
      "FRML <IDENT> IRQNVSRVTOTLXN = IRQNVSRVTOTLCN/IRQNVSRVTOTLKN $\n",
      "FRML <IDENT> IRQNYGDPFCSTKN = IRQNYGDPMKTPKN-IRQNYTAXNINDKN $\n",
      "FRML <IDENT> IRQNYGDPFCSTCN = IRQNYGDPFCSTKN*IRQNYGDPFCSTXN $\n",
      "FRML <DAMP,STOC> IRQNYGDPFCSTXN = (IRQNYGDPFCSTXN(-1)*EXP(IRQNYGDPFCSTXN_A+ (1.12197533941254*(0.4*LOG(1+IRQINFLEXPT/100)+(1-0.4)*((LOG(IRQPSTAR))-(LOG(IRQPSTAR(-1)))))+(1-1.12197533941254)*((LOG(IRQNYGDPFCSTXN(-1)))-(LOG(IRQNYGDPFCSTXN(-2))))+0.4*IRQNYGDPGAP_/100) )) * (1-IRQNYGDPFCSTXN_D)+ IRQNYGDPFCSTXN_X*IRQNYGDPFCSTXN_D  $\n",
      "FRML <IDENT> IRQNYGDPNOILCN = IRQNYGDPFCSTCN-IRQNVOILTOTLCN $\n",
      "FRML <IDENT> IRQNYGDPNOILKN = IRQNYGDPFCSTKN-IRQNVOILTOTLKN $\n",
      "FRML <IDENT> IRQNYTAXNINDCN = IRQNYGDPMKTPCN-IRQNYGDPFCSTCN $\n",
      "FRML <IDENT> IRQGGREVTOTLCN = IRQGGREVCOMMCN+IRQGGREVNCOMCN $\n",
      "FRML <DAMP,STOC> IRQGGREVCOMMCN = (-536121.304164136*DREV+(IRQGGREVCOMMER(-1)/100)*(IRQNVOILTOTLCN) + IRQGGREVCOMMCN_A)* (1-IRQGGREVCOMMCN_D)+ IRQGGREVCOMMCN_X*IRQGGREVCOMMCN_D  $\n",
      "FRML <IDENT> IRQGGREVCOMMER = (IRQGGREVCOMMCN/IRQNVOILTOTLCN)*100 $\n",
      "FRML <IDENT> IRQGGREVNCOMCN = IRQGGREVTAXTCN+IRQGGREVNTAXCN $\n",
      "FRML <IDENT> IRQGGREVTAXTCN = IRQGGREVDRCTCN+IRQGGREVGNFSCN $\n",
      "FRML <DAMP,STOC> IRQGGREVDRCTCN = (581.045594092568*DREV+(IRQGGREVDRCTER(-1)/100)*IRQNYYWBTOTLCN + IRQGGREVDRCTCN_A)* (1-IRQGGREVDRCTCN_D)+ IRQGGREVDRCTCN_X*IRQGGREVDRCTCN_D  $\n",
      "FRML <IDENT> IRQGGREVDRCTER = (IRQGGREVDRCTCN/IRQNYYWBTOTLCN)*100 $\n",
      "FRML <DAMP,STOC> IRQGGREVGNFSCN = (12589.6346069583*DREV+(IRQGGREVGNFSER(-1)/100)*(IRQNECONPRVTCN+IRQNECONGOVTCN) + IRQGGREVGNFSCN_A)* (1-IRQGGREVGNFSCN_D)+ IRQGGREVGNFSCN_X*IRQGGREVGNFSCN_D  $\n",
      "FRML <IDENT> IRQGGREVGNFSER = (IRQGGREVGNFSCN/(IRQNECONPRVTCN+IRQNECONGOVTCN))*100 $\n",
      "FRML <DAMP,STOC> IRQGGREVNTAXCN = (IRQGGREVNTAXCN_A*IRQNYGDPMKTPCN+IRQNYGDPMKTPCN* (0.55795538811118-0.0092307330831937*T_LR) ) * (1-IRQGGREVNTAXCN_D)+ IRQGGREVNTAXCN_X*IRQGGREVNTAXCN_D  $\n",
      "FRML <IDENT> IRQGGEXPTOTLCN = IRQGGEXPCRNTCN+IRQGGEXPCAPTCN $\n",
      "FRML <IDENT> IRQGGEXPCRNTCN = IRQGGEXPWAGECN+IRQGGEXPTRNSCN+IRQGGEXPGNFSCN+IRQGGEXPMAINCN+IRQGGEXPCAPECN+IRQGGEXPSUBTCN+IRQGGEXPINTPCN+IRQGGEXPSPECCN+IRQGGEXPOTHRCN $\n",
      "FRML <DAMP,STOC> IRQGGEXPWAGECN = (IRQGGEXPWAGECN(-1)*EXP(IRQGGEXPWAGECN_A+ (-0.323334543414973*(LOG(IRQGGEXPWAGECN(-1))-LOG(IRQNYGDPMKTPCN(-1))-LOG(ABS(0.162898606794304)))+0.359128778140152*((LOG(IRQNYGDPMKTPCN))-(LOG(IRQNYGDPMKTPCN(-1))))+(1-0.359128778140152)*((LOG(IRQGGEXPWAGECN(-1)))-(LOG(IRQGGEXPWAGECN(-2))))) )) * (1-IRQGGEXPWAGECN_D)+ IRQGGEXPWAGECN_X*IRQGGEXPWAGECN_D  $\n",
      "FRML <DAMP,STOC> IRQGGEXPTRNSCN = (IRQGGEXPTRNSCN(-1)*EXP(IRQGGEXPTRNSCN_A+ (-0.882318823646896*(LOG(IRQGGEXPTRNSCN(-1))-LOG(IRQNYGDPMKTPCN(-1))-LOG(ABS(-0.0682980232152646)))+0.880393660383952*((LOG(IRQNYGDPMKTPCN))-(LOG(IRQNYGDPMKTPCN(-1))))+(1-0.880393660383952)*((LOG(IRQGGEXPTRNSCN(-1)))-(LOG(IRQGGEXPTRNSCN(-2))))) )) * (1-IRQGGEXPTRNSCN_D)+ IRQGGEXPTRNSCN_X*IRQGGEXPTRNSCN_D  $\n",
      "FRML <DAMP,STOC> IRQGGEXPGNFSCN = (IRQGGEXPGNFSCN(-1)*EXP(IRQGGEXPGNFSCN_A+ (-0.240622726570739*(LOG(IRQGGEXPGNFSCN(-1))-LOG(IRQNYGDPMKTPCN(-1))-LOG(ABS(-0.0334377731250346)))+0.85*((LOG(IRQNYGDPMKTPCN))-(LOG(IRQNYGDPMKTPCN(-1))))+(1-0.85)*((LOG(IRQGGEXPGNFSCN(-1)))-(LOG(IRQGGEXPGNFSCN(-2))))) )) * (1-IRQGGEXPGNFSCN_D)+ IRQGGEXPGNFSCN_X*IRQGGEXPGNFSCN_D  $\n",
      "FRML <DAMP,STOC> IRQGGEXPMAINCN = (IRQGGEXPMAINCN(-1)*EXP(IRQGGEXPMAINCN_A+ (-0.716097447549612*(LOG(IRQGGEXPMAINCN(-1))-LOG(IRQNYGDPMKTPCN(-1))-LOG(ABS(0.00212292784343658)))+0.85*((LOG(IRQNYGDPMKTPCN))-(LOG(IRQNYGDPMKTPCN(-1))))+(1-0.85)*((LOG(IRQGGEXPMAINCN(-1)))-(LOG(IRQGGEXPMAINCN(-2))))) )) * (1-IRQGGEXPMAINCN_D)+ IRQGGEXPMAINCN_X*IRQGGEXPMAINCN_D  $\n",
      "FRML <DAMP,STOC> IRQGGEXPCAPECN = (IRQGGEXPCAPECN(-1)*EXP(IRQGGEXPCAPECN_A+ (-0.8*(LOG(IRQGGEXPCAPECN(-1))-LOG(IRQNYGDPMKTPCN(-1))-LOG(ABS(0.000754579517072982)))+0.85*((LOG(IRQNYGDPMKTPCN))-(LOG(IRQNYGDPMKTPCN(-1))))+(1-0.85)*((LOG(IRQGGEXPCAPECN(-1)))-(LOG(IRQGGEXPCAPECN(-2))))+1.10215270370205*DURING_2019) )) * (1-IRQGGEXPCAPECN_D)+ IRQGGEXPCAPECN_X*IRQGGEXPCAPECN_D  $\n",
      "FRML <DAMP,STOC> IRQGGEXPSUBTCN = (IRQGGEXPSUBTCN_A*IRQNYGDPMKTPCN+IRQNYGDPMKTPCN* (0.010616085680676) ) * (1-IRQGGEXPSUBTCN_D)+ IRQGGEXPSUBTCN_X*IRQGGEXPSUBTCN_D  $\n",
      "FRML <IDENT> IRQGGEXPINTPCN = IRQGGEXPINTECN+IRQGGEXPINTDCN $\n",
      "FRML <IDENT> IRQINTRDFR = IRQINTRDDIFF+IRQFMLBLPOLYFR $\n",
      "FRML <IDENT> IRQINTREFR = IRQINTREDIFF+USAINTRFR $\n",
      "FRML <IDENT> IRQGGEXPINTDCN = RECODE(IRQINTRDFR/100*IRQGGDBTDOMTCN(-1)<0,0,IRQINTRDFR/100*IRQGGDBTDOMTCN(-1)) $\n",
      "FRML <IDENT> IRQGGEXPINTECN = RECODE(IRQINTREFR/100*IRQGGDBTEXTLCN(-1)<0,0,IRQINTREFR/100*IRQGGDBTEXTLCN(-1)) $\n",
      "FRML <DAMP,STOC> IRQGGEXPSPECCN = (IRQGGEXPSPECCN(-1)*EXP(IRQGGEXPSPECCN_A+ (-0.810963604864129*(LOG(IRQGGEXPSPECCN(-1))-LOG(IRQNYGDPMKTPCN(-1))-LOG(ABS(0.00124941162116074)))+0.721680123784601*((LOG(IRQNYGDPMKTPCN))-(LOG(IRQNYGDPMKTPCN(-1))))+(1-0.721680123784601)*((LOG(IRQGGEXPSPECCN(-1)))-(LOG(IRQGGEXPSPECCN(-2))))) )) * (1-IRQGGEXPSPECCN_D)+ IRQGGEXPSPECCN_X*IRQGGEXPSPECCN_D  $\n",
      "FRML <DAMP,STOC> IRQGGEXPOTHRCN = (IRQGGEXPOTHRCN_A*IRQNYGDPMKTPCN+IRQNYGDPMKTPCN* (0.0252797188127809) ) * (1-IRQGGEXPOTHRCN_D)+ IRQGGEXPOTHRCN_X*IRQGGEXPOTHRCN_D  $\n",
      "FRML <DAMP,STOC> IRQGGEXPCAPTCN = (IRQGGEXPCAPTCN(-1)*EXP(IRQGGEXPCAPTCN_A+ (-0.565596247274191*(LOG(IRQGGEXPCAPTCN(-1))-LOG(IRQNYGDPMKTPCN(-1))-LOG(ABS(0.112162397326752)))+0.85*((LOG(IRQNYGDPMKTPCN))-(LOG(IRQNYGDPMKTPCN(-1))))+(1-0.85)*((LOG(IRQGGEXPCAPTCN(-1)))-(LOG(IRQGGEXPCAPTCN(-2))))+0.889041407794877*DURING_2008) )) * (1-IRQGGEXPCAPTCN_D)+ IRQGGEXPCAPTCN_X*IRQGGEXPCAPTCN_D  $\n",
      "FRML <IDENT> IRQGGBALOVRLCN = IRQGGREVTOTLCN-IRQGGEXPTOTLCN $\n",
      "FRML <IDENT> IRQGGBALPRIMCN = IRQGGBALOVRLCN+IRQGGEXPINTPCN $\n",
      "FRML <IDENT> IRQGGDBTTOTLCN = IRQGGDBTEXTLCN+IRQGGDBTDOMTCN $\n",
      "FRML <IDENT> IRQGGDBTDOMTCN = IRQGGDBTDOMTCN(-1)+IRQGGFINDOMTCN-IRQGGFINEAMDCN+IRQGGDBTVALDCN $\n",
      "FRML <IDENT> IRQGGDBTEXTLCN = IRQGGDBTEXTLCN(-1)+IRQGGFINEXTLCN-IRQGGFINEAMECN+IRQGGDBTVALECN $\n",
      "FRML <IDENT> IRQGGFINEAMTCN = IRQGGFINEAMDCN+IRQGGFINEAMECN $\n",
      "FRML <DAMP,STOC> IRQGGFINEAMDCN = (IRQGGFINDOMTCN*IRQGGFINEAMDCN_A+IRQGGFINDOMTCN* (0.0645988233778443) ) * (1-IRQGGFINEAMDCN_D)+ IRQGGFINEAMDCN_X*IRQGGFINEAMDCN_D  $\n",
      "FRML <DAMP,STOC> IRQGGFINEAMECN = (IRQGGFINEAMECN_A*IRQGGFINEXTLCN+IRQGGFINEXTLCN* (0.391071279776251) ) * (1-IRQGGFINEAMECN_D)+ IRQGGFINEAMECN_X*IRQGGFINEAMECN_D  $\n",
      "FRML <IDENT> IRQGGFINTOTLCN = IRQGGFINEXTLCN+IRQGGFINDOMTCN $\n",
      "FRML <QUASIIDENT> IRQGGFINEXTLCN = (IRQGGFINEXTLSHARE_/100*IRQGGFINREQMCN+20184925.3642983*DUMH + IRQGGFINEXTLCN_A)* (1-IRQGGFINEXTLCN_D)+ IRQGGFINEXTLCN_X*IRQGGFINEXTLCN_D  $\n",
      "FRML <QUASIIDENT> IRQGGFINDOMTCN = ((1-IRQGGFINEXTLSHARE_/100)*IRQGGFINREQMCN+25308393.7823487*DUMH + IRQGGFINDOMTCN_A)* (1-IRQGGFINDOMTCN_D)+ IRQGGFINDOMTCN_X*IRQGGFINDOMTCN_D  $\n",
      "FRML <IDENT> IRQGGFINREQMCN = -(IRQGGBALOVRLCN+IRQGGBALSTATCN) $\n",
      "FRML <IDENT> IRQGGFINFGAPCN = IRQGGFINREQMCN-IRQGGFINTOTLCN $\n",
      "FRML <IDENT> IRQBNCABFUNDCD = IRQBNGSRGNFSCD+IRQBNFSTCABTCD $\n",
      "FRML <IDENT> IRQBNCABFUNDCD_ = IRQBNCABFUNDCD/IRQNYGDPMKTPCD*100 $\n",
      "FRML <QUASIIDENT> IRQBXGSRGNFSCD = (IRQBXGSRGNFSCD(-1)*EXP(IRQBXGSRGNFSCD_A+ (((LOG((IRQNEEXPGNFSKN*IRQNEEXPGNFSXN)/IRQPANUSATLS))-(LOG((IRQNEEXPGNFSKN(-1)*IRQNEEXPGNFSXN(-1))/IRQPANUSATLS(-1))))+0.00756954668907073*DUMH) )) * (1-IRQBXGSRGNFSCD_D)+ IRQBXGSRGNFSCD_X*IRQBXGSRGNFSCD_D  $\n",
      "FRML <IDENT> IRQBXGSRMRCHCD = IRQBXGOILMRCHCD+IRQBXNOILMRCHCD $\n",
      "FRML <QUASIIDENT> IRQBXGOILMRCHCD = (IRQBXGOILMRCHCD_A*IRQBXGOILMRCHCD(-1)/100+ ((100 * ( (IRQNEEXPGOILCN/IRQPANUSATLS) / (IRQNEEXPGOILCN(-1)/IRQPANUSATLS(-1)) -1)) +1.9791345274529E-06*DUMH) *IRQBXGOILMRCHCD(-1)/100+IRQBXGOILMRCHCD(-1)) * (1-IRQBXGOILMRCHCD_D)+ IRQBXGOILMRCHCD_X*IRQBXGOILMRCHCD_D  $\n",
      "FRML <DAMP,STOC> IRQBXNOILMRCHCD = (IRQBXNOILMRCHCD_A*IRQBXNOILMRCHCD(-1)/100+ ((100 * ( (IRQNEEXPNOILCN/IRQPANUSATLS) / (IRQNEEXPNOILCN(-1)/IRQPANUSATLS(-1)) -1)) +422.736306018019*DURING_2019) *IRQBXNOILMRCHCD(-1)/100+IRQBXNOILMRCHCD(-1)) * (1-IRQBXNOILMRCHCD_D)+ IRQBXNOILMRCHCD_X*IRQBXNOILMRCHCD_D  $\n",
      "FRML <IDENT> IRQBXGSRNFSVCD = IRQBXGSRGNFSCD-IRQBXGSRMRCHCD $\n",
      "FRML <QUASIIDENT> IRQBMGSRGNFSCD = (IRQBMGSRGNFSCD(-1)*EXP(IRQBMGSRGNFSCD_A+ (((LOG((IRQNEIMPGNFSKN*IRQNEIMPGNFSXN)/IRQPANUSATLS))-(LOG((IRQNEIMPGNFSKN(-1)*IRQNEIMPGNFSXN(-1))/IRQPANUSATLS(-1))))+0.0136226130196872*DUMH) )) * (1-IRQBMGSRGNFSCD_D)+ IRQBMGSRGNFSCD_X*IRQBMGSRGNFSCD_D  $\n",
      "FRML <DAMP,STOC> IRQBMGSRMRCHCD = (IRQBMGSRMRCHCD(-1)*EXP(IRQBMGSRMRCHCD_A+ (-0.0822035607756515+1.38421432671205*((LOG(IRQNEGDETTOTCN/IRQPANUSATLS))-(LOG(IRQNEGDETTOTCN(-1)/IRQPANUSATLS(-1))))) )) * (1-IRQBMGSRMRCHCD_D)+ IRQBMGSRMRCHCD_X*IRQBMGSRMRCHCD_D  $\n",
      "FRML <IDENT> IRQBMGSRNFSVCD = IRQBMGSRGNFSCD-IRQBMGSRMRCHCD $\n",
      "FRML <IDENT> IRQBXFSTCABTCD = (IRQBXFSTREMTCD+IRQBXFSTOTHRCD) $\n",
      "FRML <DAMP,STOC> IRQBXFSTREMTCD = (IRQBXFSTREMTCD_A*IRQBXFSTREMTCD(-1)/100+ (1*IRQREMT_IN+720.152370248133*DURING_2007_2009) *IRQBXFSTREMTCD(-1)/100+IRQBXFSTREMTCD(-1)) * (1-IRQBXFSTREMTCD_D)+ IRQBXFSTREMTCD_X*IRQBXFSTREMTCD_D  $\n",
      "FRML <DAMP,STOC> IRQBXFSTOTHRCD = (IRQBXFSTOTHRCD(-1)*EXP(IRQBXFSTOTHRCD_A+ (((LOG(IRQNYGDPMKTPCD))-(LOG(IRQNYGDPMKTPCD(-1))))+1.91880934148378*DURING_2015) )) * (1-IRQBXFSTOTHRCD_D)+ IRQBXFSTOTHRCD_X*IRQBXFSTOTHRCD_D  $\n",
      "FRML <IDENT> IRQBMFSTCABTCD = IRQBMFSTREMTCD+IRQBMFSTINTECD+IRQBMFSTOTHRCD $\n",
      "FRML <DAMP,STOC> IRQBMFSTREMTCD = (IRQBMFSTREMTCD(-1)*EXP(IRQBMFSTREMTCD_A+ (-0.2*(LOG(IRQBMFSTREMTCD(-1))-LOG(IRQNYGDPMKTPCD(-1))-LOG(ABS(0.00849456144493732)))+0.340962598155871*((LOG(IRQNYGDPMKTPCD))-(LOG(IRQNYGDPMKTPCD(-1))))-3.78889527162688*DURING_2007) )) * (1-IRQBMFSTREMTCD_D)+ IRQBMFSTREMTCD_X*IRQBMFSTREMTCD_D  $\n",
      "FRML <IDENT> IRQBMFSTINTECD = IRQGGEXPINTECN/IRQPANUSATLS $\n",
      "FRML <DAMP,STOC> IRQBMFSTOTHRCD = (IRQBMFSTOTHRCD_A*IRQNYGDPMKTPCD/100+IRQNYGDPMKTPCD* (10.756782474228-0.161298051354526*T_LR-1.21961019215653*DURING_2015_2017) /100) * (1-IRQBMFSTOTHRCD_D)+ IRQBMFSTOTHRCD_X*IRQBMFSTOTHRCD_D  $\n",
      "FRML <IDENT> IRQBNFSTCABTCD = IRQBXFSTCABTCD-IRQBMFSTCABTCD $\n",
      "FRML <IDENT> IRQBNGSRGNFSCD = IRQBXGSRGNFSCD-IRQBMGSRGNFSCD $\n",
      "FRML <IDENT> IRQBNGSRMRCHCD = IRQBXGSRMRCHCD-IRQBMGSRMRCHCD $\n",
      "FRML <IDENT> IRQBNGSRNFSVCD = IRQBXGSRNFSVCD-IRQBMGSRNFSVCD $\n",
      "FRML <DAMP,STOC> IRQBFCAFFFDICD = (IRQBFCAFFFDICD_A*IRQNYGDPMKTPCD+IRQNYGDPMKTPCD* (0.0183027950579811+0.0324451319378821*DURING_2014_2015) ) * (1-IRQBFCAFFFDICD_D)+ IRQBFCAFFFDICD_X*IRQBFCAFFFDICD_D  $\n",
      "FRML <DAMP,STOC> IRQBFCAFFPFTCD = (IRQBFCAFFPFTCD_A*IRQNYGDPMKTPCD+IRQNYGDPMKTPCD* (-0.0762736586150312+0.00119866789576445*T_LR) ) * (1-IRQBFCAFFPFTCD_D)+ IRQBFCAFFPFTCD_X*IRQBFCAFFPFTCD_D  $\n",
      "FRML <IDENT> IRQBFCAFOTHRCD = IRQBFFINTGOVCD+IRQBFCAFOOTHCD $\n",
      "FRML <IDENT> IRQBFFINTGOVCD = -IRQGGFINEXTLCN/IRQPANUSATLS $\n",
      "FRML <DAMP,STOC> IRQBFCAFOOTHCD = (IRQBFCAFOOTHCD_A*IRQNYGDPMKTPCD+IRQNYGDPMKTPCD* (-0.533358542310056+0.00938558306208754*T_LR) ) * (1-IRQBFCAFOOTHCD_D)+ IRQBFCAFOOTHCD_X*IRQBFCAFOOTHCD_D  $\n",
      "FRML <IDENT> IRQBFCAFRACGCD = IRQBNCABFUNDCD-IRQBFCAFFINXCD+IRQBFCAFCAPTCD+IRQBFCAFNEOMCD $\n",
      "FRML <QUASIIDENT> IRQFIRESTOTLCD = (IRQFIRESTOTLCD_A+ (IRQBFCAFRACGCD-2878.78396172793*DUMH) +IRQFIRESTOTLCD(-1)) * (1-IRQFIRESTOTLCD_D)+ IRQFIRESTOTLCD_X*IRQFIRESTOTLCD_D  $\n",
      "FRML <IDENT> IRQBFBOPTOTLCD = IRQBFCAFCAPTCD-IRQBFCAFFINXCD+IRQBNCABFUNDCD+IRQBFCAFNEOMCD $\n",
      "FRML <IDENT> IRQBFCAFFINXCD = IRQBFCAFFFDICD+IRQBFCAFFPFTCD+IRQBFCAFOTHRCD $\n",
      "FRML <DAMP,STOC> IRQFPCPITOTLXN = (IRQFPCPITOTLXN(-1)*EXP(IRQFPCPITOTLXN_A+ (0.133294667570213*((LOG(IRQNECONPRVTXN))-(LOG(IRQNECONPRVTXN(-1))))+(1-0.133294667570213)*((LOG(IRQFPCPITOTLXN(-1)))-(LOG(IRQFPCPITOTLXN(-2))))) )) * (1-IRQFPCPITOTLXN_D)+ IRQFPCPITOTLXN_X*IRQFPCPITOTLXN_D  $\n",
      "FRML <DAMP,STOC> IRQPANUSATLS = (EXP(IRQPANUSATLS_A+ (0.0504703659546438+LOG(IRQPANUSATLS(-1))+LOG((1+USAFMLBLPOLYFR/100)/(1+IRQFMLBLPOLYFR/100))) )) * (1-IRQPANUSATLS_D)+ IRQPANUSATLS_X*IRQPANUSATLS_D  $\n",
      "FRML <DAMP,STOC> IRQFMLBLMTWOKN = (IRQFMLBLMTWOKN(-1)*EXP(IRQFMLBLMTWOKN_A+ (-0.888759885195756*(LOG(IRQFMLBLMTWOKN(-1))-LOG(IRQNYGDPMKTPKN(-1))+0.1*IRQFMLBLPOLYFR(-1)-LOG(IRQVELOCITY(-1))-LOG(ABS(4.34132431379147)))+0.2*((LOG(IRQNYGDPMKTPKN))-(LOG(IRQNYGDPMKTPKN(-1))))-0.1*((IRQFMLBLPOLYFR)-(IRQFMLBLPOLYFR(-1)))+((LOG(IRQVELOCITY))-(LOG(IRQVELOCITY(-1))))-0.0454962519556715*T_LR) )) * (1-IRQFMLBLMTWOKN_D)+ IRQFMLBLMTWOKN_X*IRQFMLBLMTWOKN_D  $\n",
      "FRML <IDENT> IRQFMLBLMTWOCN = IRQFMLBLMTWOKN*IRQNECONPRVTXN $\n",
      "FRML <DAMP,STOC> IRQFMLBLPOLYFR = (100*IRQFMLBLPOLYFR_A+100* (0.85*IRQFMLBLPOLYFR(-1)/100+(1-0.85)*(0.0249727052023416+1.5*(((LOG(IRQNECONPRVTXN))-(LOG(IRQNECONPRVTXN(-1))))-IRQINFLEXPT/100)+0.3*IRQNYGDPGAP_/100)+0.0658396176049064*DURING_2006-0.0687072291239696*DURING_2009) ) * (1-IRQFMLBLPOLYFR_D)+ IRQFMLBLPOLYFR_X*IRQFMLBLPOLYFR_D  $\n",
      "FRML <DAMP,STOC> IRQVELOCITY = (IRQVELOCITY(-1)*EXP(IRQVELOCITY_A+ (-0.0465425388988834) )) * (1-IRQVELOCITY_D)+ IRQVELOCITY_X*IRQVELOCITY_D  $\n",
      "FRML <IDENT> INDEXR05 = INDPANUSATLS/(INDPANUSATLS_VALUE_2015) $\n",
      "FRML <IDENT> INDPCEXN05 = INDNECONPRVTXN/(INDNECONPRVTXN_VALUE_2015) $\n",
      "FRML <IDENT> CHNEXR05 = CHNPANUSATLS/(CHNPANUSATLS_VALUE_2015) $\n",
      "FRML <IDENT> CHNPCEXN05 = CHNNECONPRVTXN/(CHNNECONPRVTXN_VALUE_2015) $\n",
      "FRML <IDENT> USAEXR05 = USAPANUSATLS/(USAPANUSATLS_VALUE_2015) $\n",
      "FRML <IDENT> USAPCEXN05 = USANECONPRVTXN/(USANECONPRVTXN_VALUE_2015) $\n",
      "FRML <IDENT> KOREXR05 = KORPANUSATLS/(KORPANUSATLS_VALUE_2015) $\n",
      "FRML <IDENT> KORPCEXN05 = KORNECONPRVTXN/(KORNECONPRVTXN_VALUE_2015) $\n",
      "FRML <IDENT> GRCEXR05 = GRCPANUSATLS/(GRCPANUSATLS_VALUE_2015) $\n",
      "FRML <IDENT> GRCPCEXN05 = GRCNECONPRVTXN/(GRCNECONPRVTXN_VALUE_2015) $\n",
      "FRML <IDENT> IRQNEER = 100*(INDW_T*1/(IRQEXR05/INDEXR05)+CHNW_T*1/(IRQEXR05/CHNEXR05)+USAW_T*1/(IRQEXR05/USAEXR05)+KORW_T*1/(IRQEXR05/KOREXR05)+GRCW_T*1/(IRQEXR05/GRCEXR05)) $\n",
      "FRML <IDENT> IRQREER = 100*(INDW_T*1/((IRQEXR05/IRQPCEXN05)/(INDEXR05/INDPCEXN05))+CHNW_T*1/((IRQEXR05/IRQPCEXN05)/(CHNEXR05/CHNPCEXN05))+USAW_T*1/((IRQEXR05/IRQPCEXN05)/(USAEXR05/USAPCEXN05))+KORW_T*1/((IRQEXR05/IRQPCEXN05)/(KOREXR05/KORPCEXN05))+KORW_T*1/((IRQEXR05/IRQPCEXN05)/(KOREXR05/KORPCEXN05))) $\n",
      "FRML <IDENT> IRQPANEUATLS = (IRQPANUSATLS*(1/DEUPANUSATLS)) $\n",
      "FRML <IDENT> IRQPANEUATLSK = 100*(IRQPANEUATLS/(IRQNECONPRVTXN/DEUNECONPRVTXN))/(IRQPANEUATLS_VALUE_2015/(IRQNECONPRVTXN_VALUE_2015/DEUNECONPRVTXN_VALUE_2015)) $\n",
      "FRML <IDENT> IRQPANUSATLSK = 100*(IRQPANUSATLS/(IRQNECONPRVTXN/USANECONPRVTXN))/(IRQPANUSATLS_VALUE_2015/(IRQNECONPRVTXN_VALUE_2015/USANECONPRVTXN_VALUE_2015)) $\n",
      "FRML <IDENT> IRQEXR05 = IRQPANUSATLS/(IRQPANUSATLS_VALUE_2015) $\n",
      "FRML <IDENT> IRQPCEXN05 = IRQNECONPRVTXN/(IRQNECONPRVTXN_VALUE_2015) $\n",
      "FRML <IDENT> IRQPMKEY = (0.000103300965*WLDFALUMINUM/(WLDFALUMINUM_VALUE_2015)+0.002090954022*WLDFBANANA_US/(WLDFBANANA_US_VALUE_2015)+1.667769150329*WLDFBEEF/(WLDFBEEF_VALUE_2015)+0.001973404648*WLDFCOAL_AUS/(WLDFCOAL_AUS_VALUE_2015)+0.000135359886*WLDFCOCOA/(WLDFCOCOA_VALUE_2015)+0.011345295674*WLDFCOFFEE_COMPO/(WLDFCOFFEE_COMPO_VALUE_2015)+0.000000000000*WLDFCOPPER/(WLDFCOPPER_VALUE_2015)+0.001948469932*WLDFCOTTON_A_INDX/(WLDFCOTTON_A_INDX_VALUE_2015)+0.000004565400*WLDFCRUDE_PETRO/(WLDFCRUDE_PETRO_VALUE_2015)+0.001113957721*WLDFGRNUT_OIL/(WLDFGRNUT_OIL_VALUE_2015)+0.000017810511*WLDFGRNUT_OIL/(WLDFGRNUT_OIL_VALUE_2015)+0.000042745227*WLDFGOLD/(WLDFGOLD_VALUE_2015)+0.011348857776*WLDFGRNUT/(WLDFGRNUT_VALUE_2015)+0.029116623810*WLDFIRON_ORE/(WLDFIRON_ORE_VALUE_2015)+0.000000000000*WLDFLEAD/(WLDFLEAD_VALUE_2015)+0.004926387415*WLDFMAIZE/(WLDFMAIZE_VALUE_2015)+85.241894122490*MUV/(MUV_VALUE_2015)+0.000007124205*WLDFNICKEL/(WLDFNICKEL_VALUE_2015)+0.654440112102*WLDFORANGE/(WLDFORANGE_VALUE_2015)+0.000138921988*WLDFNGAS_EUR/(WLDFNGAS_EUR_VALUE_2015)+0.001206061121*WLDFPALM_OIL/(WLDFPALM_OIL_VALUE_2015)+0.001037259354*WLDFPALM_OIL/(WLDFPALM_OIL_VALUE_2015)+1.993601767553*WLDFRICE_05/(WLDFRICE_05_VALUE_2015)+0.000295654487*WLDFRUBBER1_MYSG/(WLDFRUBBER1_MYSG_VALUE_2015)+0.000117549374*WLDFSILVER/(WLDFSILVER_VALUE_2015)+0.003975306114*WLDFSOYBEAN_MEAL/(WLDFSOYBEAN_MEAL_VALUE_2015)+0.027652599785*WLDFSOYBEAN_OIL/(WLDFSOYBEAN_OIL_VALUE_2015)+0.002115888738*WLDFSOYBEANS/(WLDFSOYBEANS_VALUE_2015)+0.011512714479*WLDFSORGHUM/(WLDFSORGHUM_VALUE_2015)+7.084886019968*WLDFISTL_JP_INDX/(WLDFISTL_JP_INDX_VALUE_2015)+1.478788939537*WLDFSUGAR_WLD/(WLDFSUGAR_WLD_VALUE_2015)+0.209960993058*WLDFTEA_AVG/(WLDFTEA_AVG_VALUE_2015)+0.000000000000*WLDFTIN/(WLDFTIN_VALUE_2015)+0.003758017876*WLDFTOBAC_US/(WLDFTOBAC_US_VALUE_2015)+0.000078366250*WLDFLOGS_MYS/(WLDFLOGS_MYS_VALUE_2015)+0.060929759026*WLDFPLYWOOD/(WLDFPLYWOOD_VALUE_2015)+0.000035621023*WLDFWOODPULP/(WLDFWOODPULP_VALUE_2015)+0.001581573400*WLDFSAWNWD_MYS/(WLDFSAWNWD_MYS_VALUE_2015)+1.489934757485*WLDFWHEAT_US_HRW/(WLDFWHEAT_US_HRW_VALUE_2015)+0.000113987272*WLDFZINC/(WLDFZINC_VALUE_2015)+0)/100 $\n",
      "FRML <IDENT> IRQPXKEY = (0.000000000000*WLDFALUMINUM/(WLDFALUMINUM_VALUE_2015)+0.000000000000*WLDFBANANA_US/(WLDFBANANA_US_VALUE_2015)+0.000129273542*WLDFBEEF/(WLDFBEEF_VALUE_2015)+0.000037215111*WLDFCOAL_AUS/(WLDFCOAL_AUS_VALUE_2015)+0.000000000000*WLDFCOCOA/(WLDFCOCOA_VALUE_2015)+0.000000000000*WLDFCOFFEE_COMPO/(WLDFCOFFEE_COMPO_VALUE_2015)+0.000000000000*WLDFCOPPER/(WLDFCOPPER_VALUE_2015)+0.001297072850*WLDFCOTTON_A_INDX/(WLDFCOTTON_A_INDX_VALUE_2015)+97.394420496497*WLDFCRUDE_PETRO/(WLDFCRUDE_PETRO_VALUE_2015)+0.000000000000*WLDFGRNUT_OIL/(WLDFGRNUT_OIL_VALUE_2015)+0.000000000000*WLDFGRNUT_OIL/(WLDFGRNUT_OIL_VALUE_2015)+2.364716688282*WLDFGOLD/(WLDFGOLD_VALUE_2015)+0.000013710830*WLDFGRNUT/(WLDFGRNUT_VALUE_2015)+0.000000000000*WLDFIRON_ORE/(WLDFIRON_ORE_VALUE_2015)+0.000000000000*WLDFLEAD/(WLDFLEAD_VALUE_2015)+0.000301482319*WLDFMAIZE/(WLDFMAIZE_VALUE_2015)+0.221167444224*MUV/(MUV_VALUE_2015)+0.000000000000*WLDFNICKEL/(WLDFNICKEL_VALUE_2015)+0.000033685198*WLDFORANGE/(WLDFORANGE_VALUE_2015)+0.005162253123*WLDFNGAS_EUR/(WLDFNGAS_EUR_VALUE_2015)+0.000000000000*WLDFPALM_OIL/(WLDFPALM_OIL_VALUE_2015)+0.000000000000*WLDFPALM_OIL/(WLDFPALM_OIL_VALUE_2015)+0.000086182362*WLDFRICE_05/(WLDFRICE_05_VALUE_2015)+0.000205675656*WLDFRUBBER1_MYSG/(WLDFRUBBER1_MYSG_VALUE_2015)+0.002460114687*WLDFSILVER/(WLDFSILVER_VALUE_2015)+0.000000000000*WLDFSOYBEAN_MEAL/(WLDFSOYBEAN_MEAL_VALUE_2015)+0.000000000000*WLDFSOYBEAN_OIL/(WLDFSOYBEAN_OIL_VALUE_2015)+0.000031094029*WLDFSOYBEANS/(WLDFSOYBEANS_VALUE_2015)+0.000055580539*WLDFSORGHUM/(WLDFSORGHUM_VALUE_2015)+0.005997508893*WLDFISTL_JP_INDX/(WLDFISTL_JP_INDX_VALUE_2015)+0.000105769262*WLDFSUGAR_WLD/(WLDFSUGAR_WLD_VALUE_2015)+0.000000000000*WLDFTEA_AVG/(WLDFTEA_AVG_VALUE_2015)+0.000000000000*WLDFTIN/(WLDFTIN_VALUE_2015)+0.003376781624*WLDFTOBAC_US/(WLDFTOBAC_US_VALUE_2015)+0.000000000000*WLDFLOGS_MYS/(WLDFLOGS_MYS_VALUE_2015)+0.000075143902*WLDFPLYWOOD/(WLDFPLYWOOD_VALUE_2015)+0.000000000000*WLDFWOODPULP/(WLDFWOODPULP_VALUE_2015)+0.000000000000*WLDFSAWNWD_MYS/(WLDFSAWNWD_MYS_VALUE_2015)+0.000326827070*WLDFWHEAT_US_HRW/(WLDFWHEAT_US_HRW_VALUE_2015)+0.000000000000*WLDFZINC/(WLDFZINC_VALUE_2015))/100 $\n",
      "FRML <IDENT> IRQPXKEYEX = (0.000000000000*(1/((100-97.394420496497)/100))*WLDFALUMINUM/(WLDFALUMINUM_VALUE_2015)+0.000000000000*(1/((100-97.394420496497)/100))*WLDFBANANA_US/(WLDFBANANA_US_VALUE_2015)+0.000129273542*(1/((100-97.394420496497)/100))*WLDFBEEF/(WLDFBEEF_VALUE_2015)+0.000037215111*(1/((100-97.394420496497)/100))*WLDFCOAL_AUS/(WLDFCOAL_AUS_VALUE_2015)+0.000000000000*(1/((100-97.394420496497)/100))*WLDFCOCOA/(WLDFCOCOA_VALUE_2015)+0.000000000000*(1/((100-97.394420496497)/100))*WLDFCOFFEE_COMPO/(WLDFCOFFEE_COMPO_VALUE_2015)+0.000000000000*(1/((100-97.394420496497)/100))*WLDFCOPPER/(WLDFCOPPER_VALUE_2015)+0.001297072850*(1/((100-97.394420496497)/100))*WLDFCOTTON_A_INDX/(WLDFCOTTON_A_INDX_VALUE_2015)+0*WLDFCRUDE_PETRO/(WLDFCRUDE_PETRO_VALUE_2015)+0.000000000000*(1/((100-97.394420496497)/100))*WLDFGRNUT_OIL/(WLDFGRNUT_OIL_VALUE_2015)+0.000000000000*(1/((100-97.394420496497)/100))*WLDFGRNUT_OIL/(WLDFGRNUT_OIL_VALUE_2015)+2.364716688282*(1/((100-97.394420496497)/100))*WLDFGOLD/(WLDFGOLD_VALUE_2015)+0.000013710830*(1/((100-97.394420496497)/100))*WLDFGRNUT/(WLDFGRNUT_VALUE_2015)+0.000000000000*(1/((100-97.394420496497)/100))*WLDFIRON_ORE/(WLDFIRON_ORE_VALUE_2015)+0.000000000000*(1/((100-97.394420496497)/100))*WLDFLEAD/(WLDFLEAD_VALUE_2015)+0.000301482319*(1/((100-97.394420496497)/100))*WLDFMAIZE/(WLDFMAIZE_VALUE_2015)+0.221167444224*(1/((100-97.394420496497)/100))*MUV/(MUV_VALUE_2015)+0.000000000000*(1/((100-97.394420496497)/100))*WLDFNICKEL/(WLDFNICKEL_VALUE_2015)+0.000033685198*(1/((100-97.394420496497)/100))*WLDFORANGE/(WLDFORANGE_VALUE_2015)+0.005162253123*(1/((100-97.394420496497)/100))*WLDFNGAS_EUR/(WLDFNGAS_EUR_VALUE_2015)+0.000000000000*(1/((100-97.394420496497)/100))*WLDFPALM_OIL/(WLDFPALM_OIL_VALUE_2015)+0.000000000000*(1/((100-97.394420496497)/100))*WLDFPALM_OIL/(WLDFPALM_OIL_VALUE_2015)+0.000086182362*(1/((100-97.394420496497)/100))*WLDFRICE_05/(WLDFRICE_05_VALUE_2015)+0.000205675656*(1/((100-97.394420496497)/100))*WLDFRUBBER1_MYSG/(WLDFRUBBER1_MYSG_VALUE_2015)+0.002460114687*(1/((100-97.394420496497)/100))*WLDFSILVER/(WLDFSILVER_VALUE_2015)+0.000000000000*(1/((100-97.394420496497)/100))*WLDFSOYBEAN_MEAL/(WLDFSOYBEAN_MEAL_VALUE_2015)+0.000000000000*(1/((100-97.394420496497)/100))*WLDFSOYBEAN_OIL/(WLDFSOYBEAN_OIL_VALUE_2015)+0.000031094029*(1/((100-97.394420496497)/100))*WLDFSOYBEANS/(WLDFSOYBEANS_VALUE_2015)+0.000055580539*(1/((100-97.394420496497)/100))*WLDFSORGHUM/(WLDFSORGHUM_VALUE_2015)+0.005997508893*(1/((100-97.394420496497)/100))*WLDFISTL_JP_INDX/(WLDFISTL_JP_INDX_VALUE_2015)+0.000105769262*(1/((100-97.394420496497)/100))*WLDFSUGAR_WLD/(WLDFSUGAR_WLD_VALUE_2015)+0.000000000000*(1/((100-97.394420496497)/100))*WLDFTEA_AVG/(WLDFTEA_AVG_VALUE_2015)+0.000000000000*(1/((100-97.394420496497)/100))*WLDFTIN/(WLDFTIN_VALUE_2015)+0.003376781624*(1/((100-97.394420496497)/100))*WLDFTOBAC_US/(WLDFTOBAC_US_VALUE_2015)+0.000000000000*(1/((100-97.394420496497)/100))*WLDFLOGS_MYS/(WLDFLOGS_MYS_VALUE_2015)+0.000075143902*(1/((100-97.394420496497)/100))*WLDFPLYWOOD/(WLDFPLYWOOD_VALUE_2015)+0.000000000000*(1/((100-97.394420496497)/100))*WLDFWOODPULP/(WLDFWOODPULP_VALUE_2015)+0.000000000000*(1/((100-97.394420496497)/100))*WLDFSAWNWD_MYS/(WLDFSAWNWD_MYS_VALUE_2015)+0.000326827070*(1/((100-97.394420496497)/100))*WLDFWHEAT_US_HRW/(WLDFWHEAT_US_HRW_VALUE_2015)+0.000000000000*(1/((100-97.394420496497)/100))*WLDFZINC/(WLDFZINC_VALUE_2015)+0)/100 $\n",
      "FRML <IDENT> IRQREMT_IN = SYRW_R* (100 * ( (SYRNYGDPMKTPCD) / (SYRNYGDPMKTPCD(-1)) -1)) +TURW_R* (100 * ( (TURNYGDPMKTPCD) / (TURNYGDPMKTPCD(-1)) -1)) +IRNW_R* (100 * ( (IRNNYGDPMKTPCD) / (IRNNYGDPMKTPCD(-1)) -1)) +PSEW_R* (100 * ( (PSENYGDPMKTPCD) / (PSENYGDPMKTPCD(-1)) -1)) +EGYW_R* (100 * ( (EGYNYGDPMKTPCD) / (EGYNYGDPMKTPCD(-1)) -1)) +JORW_R* (100 * ( (JORNYGDPMKTPCD) / (JORNYGDPMKTPCD(-1)) -1)) +SDNW_R* (100 * ( (SDNNYGDPMKTPCD) / (SDNNYGDPMKTPCD(-1)) -1)) +YEMW_R* (100 * ( (YEMNYGDPMKTPCD) / (YEMNYGDPMKTPCD(-1)) -1)) +LBNW_R* (100 * ( (LBNNYGDPMKTPCD) / (LBNNYGDPMKTPCD(-1)) -1)) +ERIW_R* (100 * ( (ERINYGDPMKTPCD) / (ERINYGDPMKTPCD(-1)) -1)) $\n",
      "FRML <IDENT> IRQTOT = (IRQNEEXPGNFSXN/IRQNEIMPGNFSXN) $\n",
      "FRML <IDENT> IRQXMKT = IRQXMKT(-1)*(1+IRQXMKT_GR/100) $\n",
      "FRML <IDENT> IRQXMKT_GR = INDW_T* (100 * ( (INDNEIMPGNFSKD) / (INDNEIMPGNFSKD(-1)) -1)) +CHNW_T* (100 * ( (CHNNEIMPGNFSKD) / (CHNNEIMPGNFSKD(-1)) -1)) +USAW_T* (100 * ( (USANEIMPGNFSKD) / (USANEIMPGNFSKD(-1)) -1)) +KORW_T* (100 * ( (KORNEIMPGNFSKD) / (KORNEIMPGNFSKD(-1)) -1)) +GRCW_T* (100 * ( (GRCNEIMPGNFSKD) / (GRCNEIMPGNFSKD(-1)) -1)) $\n",
      "FRML <FIT> IRQNEWRTTOTLXN_FITTED = IRQNEWRTTOTLXN(-1)*EXP( (-0.572328530761233*(LOG(IRQNEWRTTOTLXN(-1))-LOG(IRQNECONPRVTXN(-1)*IRQNYGDPPOTLKN(-1)/IRQLMEMPSTRL(-1))-LOG(ABS(0.526718532993625)))+0.2*((LOG(IRQNEWRTTOTLXN(-1)))-(LOG(IRQNEWRTTOTLXN(-2))))+(1-0.2)*(((LOG(IRQNECONPRVTXN))-(LOG(IRQNECONPRVTXN(-1))))+((LOG(IRQNYGDPPOTLKN/IRQLMEMPSTRL))-(LOG(IRQNYGDPPOTLKN(-1)/IRQLMEMPSTRL(-1)))))-0.5*(IRQLMUNRTOTL_-IRQLMUNRSTRL_)/100) ) $\n",
      "FRML <FIT> IRQLMEMPTOTL_FITTED = IRQLMEMPTOTL(-1)*EXP( (-0.337981906393358*(LOG(IRQLMEMPTOTL(-1))-LOG(IRQLMEMPSTRL(-1))-LOG(ABS(+1)))+0.8*((LOG(IRQLMEMPSTRL))-(LOG(IRQLMEMPSTRL(-1))))-0.1*(((LOG(IRQNEWRTTOTLXN/IRQNYGDPFCSTXN))-(LOG(IRQNEWRTTOTLXN(-1)/IRQNYGDPFCSTXN(-1))))-((LOG(IRQNYGDPPOTLKN/IRQLMEMPSTRL))-(LOG(IRQNYGDPPOTLKN(-1)/IRQLMEMPSTRL(-1)))))+0.0343673922178721*(DURING_2016-DURING_2017)) ) $\n",
      "FRML <FIT> IRQLMPRTTOTL__FITTED = 1.07735457394539*(IRQLMPRTSTRL_)+(1-1.07735457394539)*(IRQLMPRTTOTL_(-1)) $\n",
      "FRML <FIT> IRQNECONPRVTKN_FITTED = IRQNECONPRVTKN(-1)*EXP( (-0.2*(LOG(IRQNECONPRVTKN(-1))-LOG((IRQNYYWBTOTLCN(-1)*(1-IRQGGREVDRCTER(-1)/100)+IRQGGEXPTRNSCN(-1)+IRQBXFSTREMTCD(-1)*IRQPANUSATLS(-1))/IRQNECONPRVTXN(-1))-LOG(ABS(1.52728267551826)))+0.151957621114357*((LOG((IRQNYYWBTOTLCN*(1-IRQGGREVDRCTER/100)+IRQGGEXPTRNSCN+IRQBXFSTREMTCD*IRQPANUSATLS)/IRQNECONPRVTXN))-(LOG((IRQNYYWBTOTLCN(-1)*(1-IRQGGREVDRCTER(-1)/100)+IRQGGEXPTRNSCN(-1)+IRQBXFSTREMTCD(-1)*IRQPANUSATLS(-1))/IRQNECONPRVTXN(-1))))-0.1*((IRQFMLBLPOLYFR/100-((LOG(IRQNECONPRVTXN))-(LOG(IRQNECONPRVTXN(-1)))))-(IRQFMLBLPOLYFR(-1)/100-((LOG(IRQNECONPRVTXN(-1)))-(LOG(IRQNECONPRVTXN(-2))))))+0.0644285084575128*DURING_2016-0.05992605405129*DURING_2020) ) $\n",
      "FRML <FIT> IRQNECONPRVTXN_FITTED = IRQNECONPRVTXN(-1)*EXP( (-0.2*(LOG(IRQNECONPRVTXN(-1))-0.2*LOG(IRQNYGDPFCSTXN(-1))-(1-0.2)*LOG(IRQNEIMPGNFSXN(-1))-LOG((1+IRQGGREVGNFSER(-1)/100))-LOG(ABS(1.12510183905574)))+0.1*((LOG(IRQNYGDPFCSTXN))-(LOG(IRQNYGDPFCSTXN(-1))))+(1-0.1)*((LOG(IRQNEIMPGNFSXN))-(LOG(IRQNEIMPGNFSXN(-1))))+((LOG(1+IRQGGREVGNFSER/100))-(LOG(1+IRQGGREVGNFSER(-1)/100)))+0.1*IRQNYGDPGAP_/100) ) $\n",
      "FRML <FIT> IRQNECONGOVTXN_FITTED =  ((100 * ( (IRQNECONPRVTXN) / (IRQNECONPRVTXN(-1)) -1)) -7.69428366353964E-08*DUMH) *IRQNECONGOVTXN(-1)/100+IRQNECONGOVTXN(-1) $\n",
      "FRML <FIT> IRQNECONGOVTCN_FITTED = IRQNECONGOVTCN(-1)*EXP( (((LOG(IRQGGEXPGNFSCN+IRQGGEXPWAGECN))-(LOG(IRQGGEXPGNFSCN(-1)+IRQGGEXPWAGECN(-1))))+0.319539546897921*(DURING_2007-DURING_2008)+0.0247441341184627*DUMH) ) $\n",
      "FRML <FIT> IRQNEGDIFGOVXN_FITTED = IRQNEGDIFGOVXN(-1)*EXP( (-0.2*(LOG(IRQNEGDIFGOVXN(-1))-LOG(IRQNECONPRVTXN(-1))-LOG(ABS(-0.00162635219514514)))+0.15687312389804*((LOG(IRQNEGDIFGOVXN(-1)))-(LOG(IRQNEGDIFGOVXN(-2))))+(1-0.15687312389804)*((LOG(IRQNECONPRVTXN))-(LOG(IRQNECONPRVTXN(-1))))+0.0217840587999303*T_LR) ) $\n",
      "FRML <FIT> IRQNEGDIFGOVCN_FITTED =  ((100 * ( (IRQGGEXPCAPTCN) / (IRQGGEXPCAPTCN(-1)) -1)) +9.26808880884665*DUMH) *IRQNEGDIFGOVCN(-1)/100+IRQNEGDIFGOVCN(-1) $\n",
      "FRML <FIT> IRQNEGDIFPRVKN_FITTED = IRQNEGDIFPRVKN(-1)*EXP( (-0.303797618615019*(LOG(IRQNEGDIFPRVKN(-1))-LOG((1-IRQNYYWBTOTLCN_(-1))*IRQNYGDPMKTPKN(-1))+LOG(IRQNEKRTTOTLXN(-1)/IRQNYGDPFCSTXN(-1))-LOG(ABS(-0.0376470942158005)))+1*((LOG(IRQNYGDPMKTPKN))-(LOG(IRQNYGDPMKTPKN(-1))))-0.1*((LOG(IRQNEKRTTOTLXN/IRQNEGDIFPRVXN))-(LOG(IRQNEKRTTOTLXN(-1)/IRQNEGDIFPRVXN(-1))))) ) $\n",
      "FRML <FIT> IRQNEGDIFPRVXN_FITTED = IRQNEGDIFPRVXN(-1)*EXP( (-0.541220532110756*(LOG(IRQNEGDIFPRVXN(-1))-LOG(IRQNECONPRVTXN(-1))-LOG(ABS(0.819986990925249)))+0.164774596264358*((LOG(IRQNEGDIFPRVXN(-1)))-(LOG(IRQNEGDIFPRVXN(-2))))+(1-0.164774596264358)*((LOG(IRQNECONPRVTXN))-(LOG(IRQNECONPRVTXN(-1))))) ) $\n",
      "FRML <FIT> IRQNEEXPGOILKN_FITTED = IRQNEEXPGOILKN(-1)*EXP( (((LOG(IRQNVOILPRODKN-IRQNVOILCONSKN))-(LOG(IRQNVOILPRODKN(-1)-IRQNVOILCONSKN(-1))))-0.00838118367547458*DUMH) ) $\n",
      "FRML <FIT> IRQNEEXPGOILXN_FITTED = IRQNEEXPGOILXN(-1)*EXP( (((LOG(WLDFCRUDE_PETRO*IRQPANUSATLS))-(LOG(WLDFCRUDE_PETRO(-1)*IRQPANUSATLS(-1))))+0.0149351425589624*DUMH) ) $\n",
      "FRML <FIT> IRQNEEXPNOILKN_FITTED = IRQNEEXPNOILKN(-1)*EXP( (-0.439169641550542*(LOG(IRQNEEXPNOILKN(-1))-LOG(IRQXMKT(-1))+0.68260742540645*LOG(IRQNEEXPNOILXN(-1)/(IRQPXKEYEX(-1)*IRQPANUSATLS(-1)))-LOG(ABS(-11056.2431390151)))+1*((LOG(IRQXMKT))-(LOG(IRQXMKT(-1))))-0.9*((LOG(IRQNEEXPNOILXN/(IRQPXKEYEX*IRQPANUSATLS)))-(LOG(IRQNEEXPNOILXN(-1)/(IRQPXKEYEX(-1)*IRQPANUSATLS(-1)))))-0.61041731520048*DURING_2010_2011) ) $\n",
      "FRML <FIT> IRQNEEXPNOILXN_FITTED = IRQNEEXPNOILXN(-1)*EXP( (-0.896480222426118*(LOG(IRQNEEXPNOILXN(-1))-0.2*LOG(IRQNECONPRVTXN(-1)/(1+IRQGGREVGNFSER(-1)/100))-(1-0.2)*LOG(IRQPXKEYEX(-1)*IRQPANUSATLS(-1))-LOG(ABS(0.113694611280857)))+0.1*((LOG(IRQNECONPRVTXN/(1+IRQGGREVGNFSER/100)))-(LOG(IRQNECONPRVTXN(-1)/(1+IRQGGREVGNFSER(-1)/100))))+(1-0.1)*((LOG(IRQPXKEYEX*IRQPANUSATLS))-(LOG(IRQPXKEYEX(-1)*IRQPANUSATLS(-1))))-0.061214996490363*T_LR) ) $\n",
      "FRML <FIT> IRQNEIMPGNFSKN_FITTED = IRQNEIMPGNFSKN(-1)*EXP( (-0.2*(LOG(IRQNEIMPGNFSKN(-1))-LOG(IRQNEGDETTOTKN(-1))+0.8*LOG(IRQNEIMPGNFSXN(-1)/(IRQNYGDPFCSTXN(-1)))-LOG(ABS(0.443470279250376)))+1*((LOG(IRQNEGDETTOTKN))-(LOG(IRQNEGDETTOTKN(-1))))-0.245657728212625*((LOG(IRQNEIMPGNFSXN/IRQNYGDPFCSTXN))-(LOG(IRQNEIMPGNFSXN(-1)/IRQNYGDPFCSTXN(-1))))) ) $\n",
      "FRML <FIT> IRQNEIMPGNFSXN_FITTED = IRQNEIMPGNFSXN(-1)*EXP( (-0.2*(LOG(IRQNEIMPGNFSXN(-1))-0.617724007692037*(LOG(IRQNECONPRVTXN(-1)))-(1-0.617724007692037)*LOG(IRQPMKEY(-1)*IRQPANUSATLS(-1))-LOG(ABS(0.0653195537588373)))+0.85*((LOG(IRQNECONPRVTXN))-(LOG(IRQNECONPRVTXN(-1))))+(1-0.85)*((LOG(IRQPMKEY*IRQPANUSATLS))-(LOG(IRQPMKEY(-1)*IRQPANUSATLS(-1))))-0.0643059570953545*DURING_2008) ) $\n",
      "FRML <FIT> IRQNVAGRTOTLKN_FITTED = IRQNVAGRTOTLKN(-1)*EXP( (-0.2*(LOG(IRQNVAGRTOTLKN(-1))-LOG(IRQNVAGRSMKN(-1))-LOG(ABS(3.76738857113326)))+0.54463165662183*((LOG(IRQNVAGRTOTLKN(-1)))-(LOG(IRQNVAGRTOTLKN(-2))))+(1-0.54463165662183)*((LOG(IRQNVAGRSMKN))-(LOG(IRQNVAGRSMKN(-1))))) ) $\n",
      "FRML <FIT> IRQNVAGRTOTLXN_FITTED = IRQNVAGRTOTLXN(-1)*EXP( (-0.626133651237884*(LOG(IRQNVAGRTOTLXN(-1))-LOG(IRQNYGDPFCSTXN(-1))-LOG(ABS(1.1756046249444)))+0.670021466254089*((LOG(IRQNYGDPFCSTXN))-(LOG(IRQNYGDPFCSTXN(-1))))+(1-0.670021466254089)*((LOG(IRQNVAGRTOTLXN(-1)))-(LOG(IRQNVAGRTOTLXN(-2))))) ) $\n",
      "FRML <FIT> IRQNVINDMNQRKN_FITTED = IRQNVINDMNQRKN(-1)*EXP( (-0.431155177793067*(LOG(IRQNVINDMNQRKN(-1))-LOG(IRQNVMNQSMKN(-1))-LOG(ABS(1.37851537218844)))+0.105174911928011*((LOG(IRQNVINDMNQRKN(-1)))-(LOG(IRQNVINDMNQRKN(-2))))+(1-0.105174911928011)*((LOG(IRQNVMNQSMKN))-(LOG(IRQNVMNQSMKN(-1))))+0.085264710944844*DURING_2014_2016) ) $\n",
      "FRML <FIT> IRQNVINDMNQRXN_FITTED = IRQNVINDMNQRXN(-1)*EXP( (-0.670911151753901*(LOG(IRQNVINDMNQRXN(-1))-LOG(IRQNYGDPFCSTXN(-1))-LOG(ABS(0.745210035282327)))+0.85*((LOG(IRQNYGDPFCSTXN))-(LOG(IRQNYGDPFCSTXN(-1))))+(1-0.85)*((LOG(IRQNVINDMNQRXN(-1)))-(LOG(IRQNVINDMNQRXN(-2))))) ) $\n",
      "FRML <FIT> IRQNVOILCONSKN_FITTED =  ((100 * ( (IRQNVOILPRODKN) / (IRQNVOILPRODKN(-1)) -1)) +0.569887125314656*DUMH) *IRQNVOILCONSKN(-1)/100+IRQNVOILCONSKN(-1) $\n",
      "FRML <FIT> IRQNVOILTOTLKN_FITTED = IRQNVOILTOTLKN(-1)*EXP( (((LOG(IRQNVOILPRODKN))-(LOG(IRQNVOILPRODKN(-1))))+0.130088120835337*DURING_2016+0.0437830477528237*DURING_2020-0.00769345884387847*DUMH) ) $\n",
      "FRML <FIT> IRQNVOILTOTLXN_FITTED = IRQNVOILTOTLXN(-1)*EXP( (((LOG(WLDFCRUDE_PETRO*IRQPANUSATLS))-(LOG(WLDFCRUDE_PETRO(-1)*IRQPANUSATLS(-1))))-0.0170787811774396*DUMH) ) $\n",
      "FRML <FIT> IRQNVINDMANUKN_FITTED = IRQNVINDMANUKN(-1)*EXP( (-0.240956541479862*(LOG(IRQNVINDMANUKN(-1))-LOG(IRQNVMANSMKN(-1))-LOG(ABS(-0.109307601793343)))+0.766846636519688*((LOG(IRQNVINDMANUKN(-1)))-(LOG(IRQNVINDMANUKN(-2))))+(1-0.766846636519688)*((LOG(IRQNVMANSMKN))-(LOG(IRQNVMANSMKN(-1))))) ) $\n",
      "FRML <FIT> IRQNVINDMANUXN_FITTED = IRQNVINDMANUXN(-1)*EXP( (-0.2*(LOG(IRQNVINDMANUXN(-1))-LOG(IRQNYGDPFCSTXN(-1))-LOG(ABS(1.73405320530385)))+0.762829514210573*((LOG(IRQNYGDPFCSTXN))-(LOG(IRQNYGDPFCSTXN(-1))))+(1-0.762829514210573)*((LOG(IRQNVINDMNQRXN(-1)))-(LOG(IRQNVINDMNQRXN(-2))))+0.313808062923077*DURING_2015_2016) ) $\n",
      "FRML <FIT> IRQNVINDELWAKN_FITTED = IRQNVINDELWAKN(-1)*EXP( (-0.404840823308145*(LOG(IRQNVINDELWAKN(-1))-LOG(IRQNVUTLSMKN(-1))-LOG(ABS(0.93720075745313)))+0.208864113574842*((LOG(IRQNVINDELWAKN(-1)))-(LOG(IRQNVINDELWAKN(-2))))+(1-0.208864113574842)*((LOG(IRQNVUTLSMKN))-(LOG(IRQNVUTLSMKN(-1))))-1.79427550350905*DURING_2020+0.218553917024062*DURING_2015) ) $\n",
      "FRML <FIT> IRQNVINDELWAXN_FITTED = IRQNVINDELWAXN(-1)*EXP( (-0.6*(LOG(IRQNVINDELWAXN(-1))-LOG(IRQNYGDPFCSTXN(-1))-LOG(ABS(2.50244000710957)))+0.795839962865698*((LOG(IRQNYGDPFCSTXN))-(LOG(IRQNYGDPFCSTXN(-1))))+(1-0.795839962865698)*((LOG(IRQNVINDMNQRXN(-1)))-(LOG(IRQNVINDMNQRXN(-2))))) ) $\n",
      "FRML <FIT> IRQNVINDCONSKN_FITTED = IRQNVINDCONSKN(-1)*EXP( (-0.656840152593363*(LOG(IRQNVINDCONSKN(-1))-LOG(IRQNVCONSMKN(-1))-LOG(ABS(1.13467816286097)))+0.190607981747875*((LOG(IRQNVINDCONSKN(-1)))-(LOG(IRQNVINDCONSKN(-2))))+(1-0.190607981747875)*((LOG(IRQNVCONSMKN))-(LOG(IRQNVCONSMKN(-1))))) ) $\n",
      "FRML <FIT> IRQNVINDCONSXN_FITTED = IRQNVINDCONSXN(-1)*EXP( (-0.3*(LOG(IRQNVINDCONSXN(-1))-LOG(IRQNYGDPFCSTXN(-1))-LOG(ABS(0.871750906481584)))+0.902295544522151*((LOG(IRQNYGDPFCSTXN))-(LOG(IRQNYGDPFCSTXN(-1))))+(1-0.902295544522151)*((LOG(IRQNVINDMNQRXN(-1)))-(LOG(IRQNVINDMNQRXN(-2))))+0.349342654022842*DURING_2015_2016+0.519949763102816*DURING_2020) ) $\n",
      "FRML <FIT> IRQNYGDPFCSTXN_FITTED = IRQNYGDPFCSTXN(-1)*EXP( (1.12197533941254*(0.4*LOG(1+IRQINFLEXPT/100)+(1-0.4)*((LOG(IRQPSTAR))-(LOG(IRQPSTAR(-1)))))+(1-1.12197533941254)*((LOG(IRQNYGDPFCSTXN(-1)))-(LOG(IRQNYGDPFCSTXN(-2))))+0.4*IRQNYGDPGAP_/100) ) $\n",
      "FRML <FIT> IRQGGREVCOMMCN_FITTED = -536121.304164136*DREV+(IRQGGREVCOMMER(-1)/100)*(IRQNVOILTOTLCN) $\n",
      "FRML <FIT> IRQGGREVDRCTCN_FITTED = 581.045594092568*DREV+(IRQGGREVDRCTER(-1)/100)*IRQNYYWBTOTLCN $\n",
      "FRML <FIT> IRQGGREVGNFSCN_FITTED = 12589.6346069583*DREV+(IRQGGREVGNFSER(-1)/100)*(IRQNECONPRVTCN+IRQNECONGOVTCN) $\n",
      "FRML <FIT> IRQGGREVNTAXCN_FITTED = IRQNYGDPMKTPCN* (0.55795538811118-0.0092307330831937*T_LR)  $\n",
      "FRML <FIT> IRQGGEXPWAGECN_FITTED = IRQGGEXPWAGECN(-1)*EXP( (-0.323334543414973*(LOG(IRQGGEXPWAGECN(-1))-LOG(IRQNYGDPMKTPCN(-1))-LOG(ABS(0.162898606794304)))+0.359128778140152*((LOG(IRQNYGDPMKTPCN))-(LOG(IRQNYGDPMKTPCN(-1))))+(1-0.359128778140152)*((LOG(IRQGGEXPWAGECN(-1)))-(LOG(IRQGGEXPWAGECN(-2))))) ) $\n",
      "FRML <FIT> IRQGGEXPTRNSCN_FITTED = IRQGGEXPTRNSCN(-1)*EXP( (-0.882318823646896*(LOG(IRQGGEXPTRNSCN(-1))-LOG(IRQNYGDPMKTPCN(-1))-LOG(ABS(-0.0682980232152646)))+0.880393660383952*((LOG(IRQNYGDPMKTPCN))-(LOG(IRQNYGDPMKTPCN(-1))))+(1-0.880393660383952)*((LOG(IRQGGEXPTRNSCN(-1)))-(LOG(IRQGGEXPTRNSCN(-2))))) ) $\n",
      "FRML <FIT> IRQGGEXPGNFSCN_FITTED = IRQGGEXPGNFSCN(-1)*EXP( (-0.240622726570739*(LOG(IRQGGEXPGNFSCN(-1))-LOG(IRQNYGDPMKTPCN(-1))-LOG(ABS(-0.0334377731250346)))+0.85*((LOG(IRQNYGDPMKTPCN))-(LOG(IRQNYGDPMKTPCN(-1))))+(1-0.85)*((LOG(IRQGGEXPGNFSCN(-1)))-(LOG(IRQGGEXPGNFSCN(-2))))) ) $\n",
      "FRML <FIT> IRQGGEXPMAINCN_FITTED = IRQGGEXPMAINCN(-1)*EXP( (-0.716097447549612*(LOG(IRQGGEXPMAINCN(-1))-LOG(IRQNYGDPMKTPCN(-1))-LOG(ABS(0.00212292784343658)))+0.85*((LOG(IRQNYGDPMKTPCN))-(LOG(IRQNYGDPMKTPCN(-1))))+(1-0.85)*((LOG(IRQGGEXPMAINCN(-1)))-(LOG(IRQGGEXPMAINCN(-2))))) ) $\n",
      "FRML <FIT> IRQGGEXPCAPECN_FITTED = IRQGGEXPCAPECN(-1)*EXP( (-0.8*(LOG(IRQGGEXPCAPECN(-1))-LOG(IRQNYGDPMKTPCN(-1))-LOG(ABS(0.000754579517072982)))+0.85*((LOG(IRQNYGDPMKTPCN))-(LOG(IRQNYGDPMKTPCN(-1))))+(1-0.85)*((LOG(IRQGGEXPCAPECN(-1)))-(LOG(IRQGGEXPCAPECN(-2))))+1.10215270370205*DURING_2019) ) $\n",
      "FRML <FIT> IRQGGEXPSUBTCN_FITTED = IRQNYGDPMKTPCN* (0.010616085680676)  $\n",
      "FRML <FIT> IRQGGEXPSPECCN_FITTED = IRQGGEXPSPECCN(-1)*EXP( (-0.810963604864129*(LOG(IRQGGEXPSPECCN(-1))-LOG(IRQNYGDPMKTPCN(-1))-LOG(ABS(0.00124941162116074)))+0.721680123784601*((LOG(IRQNYGDPMKTPCN))-(LOG(IRQNYGDPMKTPCN(-1))))+(1-0.721680123784601)*((LOG(IRQGGEXPSPECCN(-1)))-(LOG(IRQGGEXPSPECCN(-2))))) ) $\n",
      "FRML <FIT> IRQGGEXPOTHRCN_FITTED = IRQNYGDPMKTPCN* (0.0252797188127809)  $\n",
      "FRML <FIT> IRQGGEXPCAPTCN_FITTED = IRQGGEXPCAPTCN(-1)*EXP( (-0.565596247274191*(LOG(IRQGGEXPCAPTCN(-1))-LOG(IRQNYGDPMKTPCN(-1))-LOG(ABS(0.112162397326752)))+0.85*((LOG(IRQNYGDPMKTPCN))-(LOG(IRQNYGDPMKTPCN(-1))))+(1-0.85)*((LOG(IRQGGEXPCAPTCN(-1)))-(LOG(IRQGGEXPCAPTCN(-2))))+0.889041407794877*DURING_2008) ) $\n",
      "FRML <FIT> IRQGGFINEAMDCN_FITTED = IRQGGFINDOMTCN* (0.0645988233778443)  $\n",
      "FRML <FIT> IRQGGFINEAMECN_FITTED = IRQGGFINEXTLCN* (0.391071279776251)  $\n",
      "FRML <FIT> IRQGGFINEXTLCN_FITTED = IRQGGFINEXTLSHARE_/100*IRQGGFINREQMCN+20184925.3642983*DUMH $\n",
      "FRML <FIT> IRQGGFINDOMTCN_FITTED = (1-IRQGGFINEXTLSHARE_/100)*IRQGGFINREQMCN+25308393.7823487*DUMH $\n",
      "FRML <FIT> IRQBXGSRGNFSCD_FITTED = IRQBXGSRGNFSCD(-1)*EXP( (((LOG((IRQNEEXPGNFSKN*IRQNEEXPGNFSXN)/IRQPANUSATLS))-(LOG((IRQNEEXPGNFSKN(-1)*IRQNEEXPGNFSXN(-1))/IRQPANUSATLS(-1))))+0.00756954668907073*DUMH) ) $\n",
      "FRML <FIT> IRQBXGOILMRCHCD_FITTED =  ((100 * ( (IRQNEEXPGOILCN/IRQPANUSATLS) / (IRQNEEXPGOILCN(-1)/IRQPANUSATLS(-1)) -1)) +1.9791345274529E-06*DUMH) *IRQBXGOILMRCHCD(-1)/100+IRQBXGOILMRCHCD(-1) $\n",
      "FRML <FIT> IRQBXNOILMRCHCD_FITTED =  ((100 * ( (IRQNEEXPNOILCN/IRQPANUSATLS) / (IRQNEEXPNOILCN(-1)/IRQPANUSATLS(-1)) -1)) +422.736306018019*DURING_2019) *IRQBXNOILMRCHCD(-1)/100+IRQBXNOILMRCHCD(-1) $\n",
      "FRML <FIT> IRQBMGSRGNFSCD_FITTED = IRQBMGSRGNFSCD(-1)*EXP( (((LOG((IRQNEIMPGNFSKN*IRQNEIMPGNFSXN)/IRQPANUSATLS))-(LOG((IRQNEIMPGNFSKN(-1)*IRQNEIMPGNFSXN(-1))/IRQPANUSATLS(-1))))+0.0136226130196872*DUMH) ) $\n",
      "FRML <FIT> IRQBMGSRMRCHCD_FITTED = IRQBMGSRMRCHCD(-1)*EXP( (-0.0822035607756515+1.38421432671205*((LOG(IRQNEGDETTOTCN/IRQPANUSATLS))-(LOG(IRQNEGDETTOTCN(-1)/IRQPANUSATLS(-1))))) ) $\n",
      "FRML <FIT> IRQBXFSTREMTCD_FITTED =  (1*IRQREMT_IN+720.152370248133*DURING_2007_2009) *IRQBXFSTREMTCD(-1)/100+IRQBXFSTREMTCD(-1) $\n",
      "FRML <FIT> IRQBXFSTOTHRCD_FITTED = IRQBXFSTOTHRCD(-1)*EXP( (((LOG(IRQNYGDPMKTPCD))-(LOG(IRQNYGDPMKTPCD(-1))))+1.91880934148378*DURING_2015) ) $\n",
      "FRML <FIT> IRQBMFSTREMTCD_FITTED = IRQBMFSTREMTCD(-1)*EXP( (-0.2*(LOG(IRQBMFSTREMTCD(-1))-LOG(IRQNYGDPMKTPCD(-1))-LOG(ABS(0.00849456144493732)))+0.340962598155871*((LOG(IRQNYGDPMKTPCD))-(LOG(IRQNYGDPMKTPCD(-1))))-3.78889527162688*DURING_2007) ) $\n",
      "FRML <FIT> IRQBMFSTOTHRCD_FITTED = IRQNYGDPMKTPCD* (10.756782474228-0.161298051354526*T_LR-1.21961019215653*DURING_2015_2017) /100 $\n",
      "FRML <FIT> IRQBFCAFFFDICD_FITTED = IRQNYGDPMKTPCD* (0.0183027950579811+0.0324451319378821*DURING_2014_2015)  $\n",
      "FRML <FIT> IRQBFCAFFPFTCD_FITTED = IRQNYGDPMKTPCD* (-0.0762736586150312+0.00119866789576445*T_LR)  $\n",
      "FRML <FIT> IRQBFCAFOOTHCD_FITTED = IRQNYGDPMKTPCD* (-0.533358542310056+0.00938558306208754*T_LR)  $\n",
      "FRML <FIT> IRQFIRESTOTLCD_FITTED =  (IRQBFCAFRACGCD-2878.78396172793*DUMH) +IRQFIRESTOTLCD(-1) $\n",
      "FRML <FIT> IRQFPCPITOTLXN_FITTED = IRQFPCPITOTLXN(-1)*EXP( (0.133294667570213*((LOG(IRQNECONPRVTXN))-(LOG(IRQNECONPRVTXN(-1))))+(1-0.133294667570213)*((LOG(IRQFPCPITOTLXN(-1)))-(LOG(IRQFPCPITOTLXN(-2))))) ) $\n",
      "FRML <FIT> IRQPANUSATLS_FITTED = EXP( (0.0504703659546438+LOG(IRQPANUSATLS(-1))+LOG((1+USAFMLBLPOLYFR/100)/(1+IRQFMLBLPOLYFR/100))) ) $\n",
      "FRML <FIT> IRQFMLBLMTWOKN_FITTED = IRQFMLBLMTWOKN(-1)*EXP( (-0.888759885195756*(LOG(IRQFMLBLMTWOKN(-1))-LOG(IRQNYGDPMKTPKN(-1))+0.1*IRQFMLBLPOLYFR(-1)-LOG(IRQVELOCITY(-1))-LOG(ABS(4.34132431379147)))+0.2*((LOG(IRQNYGDPMKTPKN))-(LOG(IRQNYGDPMKTPKN(-1))))-0.1*((IRQFMLBLPOLYFR)-(IRQFMLBLPOLYFR(-1)))+((LOG(IRQVELOCITY))-(LOG(IRQVELOCITY(-1))))-0.0454962519556715*T_LR) ) $\n",
      "FRML <FIT> IRQFMLBLPOLYFR_FITTED = 100* (0.85*IRQFMLBLPOLYFR(-1)/100+(1-0.85)*(0.0249727052023416+1.5*(((LOG(IRQNECONPRVTXN))-(LOG(IRQNECONPRVTXN(-1))))-IRQINFLEXPT/100)+0.3*IRQNYGDPGAP_/100)+0.0658396176049064*DURING_2006-0.0687072291239696*DURING_2009)  $\n",
      "FRML <FIT> IRQVELOCITY_FITTED = IRQVELOCITY(-1)*EXP( (-0.0465425388988834) ) $FRML <CALC_ADD_FACTOR> IRQNEWRTTOTLXN_A = - ((-0.572328530761233*(LOG(IRQNEWRTTOTLXN(-1))-LOG(IRQNECONPRVTXN(-1)*IRQNYGDPPOTLKN(-1)/IRQLMEMPSTRL(-1))-LOG(ABS(0.526718532993625)))+0.2*((LOG(IRQNEWRTTOTLXN(-1)))-(LOG(IRQNEWRTTOTLXN(-2))))+(1-0.2)*(((LOG(IRQNECONPRVTXN))-(LOG(IRQNECONPRVTXN(-1))))+((LOG(IRQNYGDPPOTLKN/IRQLMEMPSTRL))-(LOG(IRQNYGDPPOTLKN(-1)/IRQLMEMPSTRL(-1)))))-0.5*(IRQLMUNRTOTL_-IRQLMUNRSTRL_)/100)) +LOG(IRQNEWRTTOTLXN)-LOG(IRQNEWRTTOTLXN(-1))$\n",
      "FRML <CALC_ADD_FACTOR> IRQLMEMPTOTL_A = - ((-0.337981906393358*(LOG(IRQLMEMPTOTL(-1))-LOG(IRQLMEMPSTRL(-1))-LOG(ABS(+1)))+0.8*((LOG(IRQLMEMPSTRL))-(LOG(IRQLMEMPSTRL(-1))))-0.1*(((LOG(IRQNEWRTTOTLXN/IRQNYGDPFCSTXN))-(LOG(IRQNEWRTTOTLXN(-1)/IRQNYGDPFCSTXN(-1))))-((LOG(IRQNYGDPPOTLKN/IRQLMEMPSTRL))-(LOG(IRQNYGDPPOTLKN(-1)/IRQLMEMPSTRL(-1)))))+0.0343673922178721*(DURING_2016-DURING_2017))) +LOG(IRQLMEMPTOTL)-LOG(IRQLMEMPTOTL(-1))$\n",
      "FRML <CALC_ADD_FACTOR> IRQLMPRTTOTL__A = (IRQLMPRTTOTL_) - (1.07735457394539*(IRQLMPRTSTRL_)+(1-1.07735457394539)*(IRQLMPRTTOTL_(-1)))$\n",
      "FRML <CALC_ADD_FACTOR> IRQNECONPRVTKN_A = - ((-0.2*(LOG(IRQNECONPRVTKN(-1))-LOG((IRQNYYWBTOTLCN(-1)*(1-IRQGGREVDRCTER(-1)/100)+IRQGGEXPTRNSCN(-1)+IRQBXFSTREMTCD(-1)*IRQPANUSATLS(-1))/IRQNECONPRVTXN(-1))-LOG(ABS(1.52728267551826)))+0.151957621114357*((LOG((IRQNYYWBTOTLCN*(1-IRQGGREVDRCTER/100)+IRQGGEXPTRNSCN+IRQBXFSTREMTCD*IRQPANUSATLS)/IRQNECONPRVTXN))-(LOG((IRQNYYWBTOTLCN(-1)*(1-IRQGGREVDRCTER(-1)/100)+IRQGGEXPTRNSCN(-1)+IRQBXFSTREMTCD(-1)*IRQPANUSATLS(-1))/IRQNECONPRVTXN(-1))))-0.1*((IRQFMLBLPOLYFR/100-((LOG(IRQNECONPRVTXN))-(LOG(IRQNECONPRVTXN(-1)))))-(IRQFMLBLPOLYFR(-1)/100-((LOG(IRQNECONPRVTXN(-1)))-(LOG(IRQNECONPRVTXN(-2))))))+0.0644285084575128*DURING_2016-0.05992605405129*DURING_2020)) +LOG(IRQNECONPRVTKN)-LOG(IRQNECONPRVTKN(-1))$\n",
      "FRML <CALC_ADD_FACTOR> IRQNECONPRVTXN_A = - ((-0.2*(LOG(IRQNECONPRVTXN(-1))-0.2*LOG(IRQNYGDPFCSTXN(-1))-(1-0.2)*LOG(IRQNEIMPGNFSXN(-1))-LOG((1+IRQGGREVGNFSER(-1)/100))-LOG(ABS(1.12510183905574)))+0.1*((LOG(IRQNYGDPFCSTXN))-(LOG(IRQNYGDPFCSTXN(-1))))+(1-0.1)*((LOG(IRQNEIMPGNFSXN))-(LOG(IRQNEIMPGNFSXN(-1))))+((LOG(1+IRQGGREVGNFSER/100))-(LOG(1+IRQGGREVGNFSER(-1)/100)))+0.1*IRQNYGDPGAP_/100)) +LOG(IRQNECONPRVTXN)-LOG(IRQNECONPRVTXN(-1))$\n",
      "FRML <CALC_ADD_FACTOR> IRQNECONGOVTXN_A = 100*IRQNECONGOVTXN/IRQNECONGOVTXN(-1)- (((100 * ( (IRQNECONPRVTXN) / (IRQNECONPRVTXN(-1)) -1)) -7.69428366353964E-08*DUMH)) -100$\n",
      "FRML <CALC_ADD_FACTOR> IRQNECONGOVTCN_A = - ((((LOG(IRQGGEXPGNFSCN+IRQGGEXPWAGECN))-(LOG(IRQGGEXPGNFSCN(-1)+IRQGGEXPWAGECN(-1))))+0.319539546897921*(DURING_2007-DURING_2008)+0.0247441341184627*DUMH)) +LOG(IRQNECONGOVTCN)-LOG(IRQNECONGOVTCN(-1))$\n",
      "FRML <CALC_ADD_FACTOR> IRQNEGDIFGOVXN_A = - ((-0.2*(LOG(IRQNEGDIFGOVXN(-1))-LOG(IRQNECONPRVTXN(-1))-LOG(ABS(-0.00162635219514514)))+0.15687312389804*((LOG(IRQNEGDIFGOVXN(-1)))-(LOG(IRQNEGDIFGOVXN(-2))))+(1-0.15687312389804)*((LOG(IRQNECONPRVTXN))-(LOG(IRQNECONPRVTXN(-1))))+0.0217840587999303*T_LR)) +LOG(IRQNEGDIFGOVXN)-LOG(IRQNEGDIFGOVXN(-1))$\n",
      "FRML <CALC_ADD_FACTOR> IRQNEGDIFGOVCN_A = 100*IRQNEGDIFGOVCN/IRQNEGDIFGOVCN(-1)- (((100 * ( (IRQGGEXPCAPTCN) / (IRQGGEXPCAPTCN(-1)) -1)) +9.26808880884665*DUMH)) -100$\n",
      "FRML <CALC_ADD_FACTOR> IRQNEGDIFPRVKN_A = - ((-0.303797618615019*(LOG(IRQNEGDIFPRVKN(-1))-LOG((1-IRQNYYWBTOTLCN_(-1))*IRQNYGDPMKTPKN(-1))+LOG(IRQNEKRTTOTLXN(-1)/IRQNYGDPFCSTXN(-1))-LOG(ABS(-0.0376470942158005)))+1*((LOG(IRQNYGDPMKTPKN))-(LOG(IRQNYGDPMKTPKN(-1))))-0.1*((LOG(IRQNEKRTTOTLXN/IRQNEGDIFPRVXN))-(LOG(IRQNEKRTTOTLXN(-1)/IRQNEGDIFPRVXN(-1)))))) +LOG(IRQNEGDIFPRVKN)-LOG(IRQNEGDIFPRVKN(-1))$\n",
      "FRML <CALC_ADD_FACTOR> IRQNEGDIFPRVXN_A = - ((-0.541220532110756*(LOG(IRQNEGDIFPRVXN(-1))-LOG(IRQNECONPRVTXN(-1))-LOG(ABS(0.819986990925249)))+0.164774596264358*((LOG(IRQNEGDIFPRVXN(-1)))-(LOG(IRQNEGDIFPRVXN(-2))))+(1-0.164774596264358)*((LOG(IRQNECONPRVTXN))-(LOG(IRQNECONPRVTXN(-1)))))) +LOG(IRQNEGDIFPRVXN)-LOG(IRQNEGDIFPRVXN(-1))$\n",
      "FRML <CALC_ADD_FACTOR> IRQNEEXPGOILKN_A = - ((((LOG(IRQNVOILPRODKN-IRQNVOILCONSKN))-(LOG(IRQNVOILPRODKN(-1)-IRQNVOILCONSKN(-1))))-0.00838118367547458*DUMH)) +LOG(IRQNEEXPGOILKN)-LOG(IRQNEEXPGOILKN(-1))$\n",
      "FRML <CALC_ADD_FACTOR> IRQNEEXPGOILXN_A = - ((((LOG(WLDFCRUDE_PETRO*IRQPANUSATLS))-(LOG(WLDFCRUDE_PETRO(-1)*IRQPANUSATLS(-1))))+0.0149351425589624*DUMH)) +LOG(IRQNEEXPGOILXN)-LOG(IRQNEEXPGOILXN(-1))$\n",
      "FRML <CALC_ADD_FACTOR> IRQNEEXPNOILKN_A = - ((-0.439169641550542*(LOG(IRQNEEXPNOILKN(-1))-LOG(IRQXMKT(-1))+0.68260742540645*LOG(IRQNEEXPNOILXN(-1)/(IRQPXKEYEX(-1)*IRQPANUSATLS(-1)))-LOG(ABS(-11056.2431390151)))+1*((LOG(IRQXMKT))-(LOG(IRQXMKT(-1))))-0.9*((LOG(IRQNEEXPNOILXN/(IRQPXKEYEX*IRQPANUSATLS)))-(LOG(IRQNEEXPNOILXN(-1)/(IRQPXKEYEX(-1)*IRQPANUSATLS(-1)))))-0.61041731520048*DURING_2010_2011)) +LOG(IRQNEEXPNOILKN)-LOG(IRQNEEXPNOILKN(-1))$\n",
      "FRML <CALC_ADD_FACTOR> IRQNEEXPNOILXN_A = - ((-0.896480222426118*(LOG(IRQNEEXPNOILXN(-1))-0.2*LOG(IRQNECONPRVTXN(-1)/(1+IRQGGREVGNFSER(-1)/100))-(1-0.2)*LOG(IRQPXKEYEX(-1)*IRQPANUSATLS(-1))-LOG(ABS(0.113694611280857)))+0.1*((LOG(IRQNECONPRVTXN/(1+IRQGGREVGNFSER/100)))-(LOG(IRQNECONPRVTXN(-1)/(1+IRQGGREVGNFSER(-1)/100))))+(1-0.1)*((LOG(IRQPXKEYEX*IRQPANUSATLS))-(LOG(IRQPXKEYEX(-1)*IRQPANUSATLS(-1))))-0.061214996490363*T_LR)) +LOG(IRQNEEXPNOILXN)-LOG(IRQNEEXPNOILXN(-1))$\n",
      "FRML <CALC_ADD_FACTOR> IRQNEIMPGNFSKN_A = - ((-0.2*(LOG(IRQNEIMPGNFSKN(-1))-LOG(IRQNEGDETTOTKN(-1))+0.8*LOG(IRQNEIMPGNFSXN(-1)/(IRQNYGDPFCSTXN(-1)))-LOG(ABS(0.443470279250376)))+1*((LOG(IRQNEGDETTOTKN))-(LOG(IRQNEGDETTOTKN(-1))))-0.245657728212625*((LOG(IRQNEIMPGNFSXN/IRQNYGDPFCSTXN))-(LOG(IRQNEIMPGNFSXN(-1)/IRQNYGDPFCSTXN(-1)))))) +LOG(IRQNEIMPGNFSKN)-LOG(IRQNEIMPGNFSKN(-1))$\n",
      "FRML <CALC_ADD_FACTOR> IRQNEIMPGNFSXN_A = - ((-0.2*(LOG(IRQNEIMPGNFSXN(-1))-0.617724007692037*(LOG(IRQNECONPRVTXN(-1)))-(1-0.617724007692037)*LOG(IRQPMKEY(-1)*IRQPANUSATLS(-1))-LOG(ABS(0.0653195537588373)))+0.85*((LOG(IRQNECONPRVTXN))-(LOG(IRQNECONPRVTXN(-1))))+(1-0.85)*((LOG(IRQPMKEY*IRQPANUSATLS))-(LOG(IRQPMKEY(-1)*IRQPANUSATLS(-1))))-0.0643059570953545*DURING_2008)) +LOG(IRQNEIMPGNFSXN)-LOG(IRQNEIMPGNFSXN(-1))$\n",
      "FRML <CALC_ADD_FACTOR> IRQNVAGRTOTLKN_A = - ((-0.2*(LOG(IRQNVAGRTOTLKN(-1))-LOG(IRQNVAGRSMKN(-1))-LOG(ABS(3.76738857113326)))+0.54463165662183*((LOG(IRQNVAGRTOTLKN(-1)))-(LOG(IRQNVAGRTOTLKN(-2))))+(1-0.54463165662183)*((LOG(IRQNVAGRSMKN))-(LOG(IRQNVAGRSMKN(-1)))))) +LOG(IRQNVAGRTOTLKN)-LOG(IRQNVAGRTOTLKN(-1))$\n",
      "FRML <CALC_ADD_FACTOR> IRQNVAGRTOTLXN_A = - ((-0.626133651237884*(LOG(IRQNVAGRTOTLXN(-1))-LOG(IRQNYGDPFCSTXN(-1))-LOG(ABS(1.1756046249444)))+0.670021466254089*((LOG(IRQNYGDPFCSTXN))-(LOG(IRQNYGDPFCSTXN(-1))))+(1-0.670021466254089)*((LOG(IRQNVAGRTOTLXN(-1)))-(LOG(IRQNVAGRTOTLXN(-2)))))) +LOG(IRQNVAGRTOTLXN)-LOG(IRQNVAGRTOTLXN(-1))$\n",
      "FRML <CALC_ADD_FACTOR> IRQNVINDMNQRKN_A = - ((-0.431155177793067*(LOG(IRQNVINDMNQRKN(-1))-LOG(IRQNVMNQSMKN(-1))-LOG(ABS(1.37851537218844)))+0.105174911928011*((LOG(IRQNVINDMNQRKN(-1)))-(LOG(IRQNVINDMNQRKN(-2))))+(1-0.105174911928011)*((LOG(IRQNVMNQSMKN))-(LOG(IRQNVMNQSMKN(-1))))+0.085264710944844*DURING_2014_2016)) +LOG(IRQNVINDMNQRKN)-LOG(IRQNVINDMNQRKN(-1))$\n",
      "FRML <CALC_ADD_FACTOR> IRQNVINDMNQRXN_A = - ((-0.670911151753901*(LOG(IRQNVINDMNQRXN(-1))-LOG(IRQNYGDPFCSTXN(-1))-LOG(ABS(0.745210035282327)))+0.85*((LOG(IRQNYGDPFCSTXN))-(LOG(IRQNYGDPFCSTXN(-1))))+(1-0.85)*((LOG(IRQNVINDMNQRXN(-1)))-(LOG(IRQNVINDMNQRXN(-2)))))) +LOG(IRQNVINDMNQRXN)-LOG(IRQNVINDMNQRXN(-1))$\n",
      "FRML <CALC_ADD_FACTOR> IRQNVOILCONSKN_A = 100*IRQNVOILCONSKN/IRQNVOILCONSKN(-1)- (((100 * ( (IRQNVOILPRODKN) / (IRQNVOILPRODKN(-1)) -1)) +0.569887125314656*DUMH)) -100$\n",
      "FRML <CALC_ADD_FACTOR> IRQNVOILTOTLKN_A = - ((((LOG(IRQNVOILPRODKN))-(LOG(IRQNVOILPRODKN(-1))))+0.130088120835337*DURING_2016+0.0437830477528237*DURING_2020-0.00769345884387847*DUMH)) +LOG(IRQNVOILTOTLKN)-LOG(IRQNVOILTOTLKN(-1))$\n",
      "FRML <CALC_ADD_FACTOR> IRQNVOILTOTLXN_A = - ((((LOG(WLDFCRUDE_PETRO*IRQPANUSATLS))-(LOG(WLDFCRUDE_PETRO(-1)*IRQPANUSATLS(-1))))-0.0170787811774396*DUMH)) +LOG(IRQNVOILTOTLXN)-LOG(IRQNVOILTOTLXN(-1))$\n",
      "FRML <CALC_ADD_FACTOR> IRQNVINDMANUKN_A = - ((-0.240956541479862*(LOG(IRQNVINDMANUKN(-1))-LOG(IRQNVMANSMKN(-1))-LOG(ABS(-0.109307601793343)))+0.766846636519688*((LOG(IRQNVINDMANUKN(-1)))-(LOG(IRQNVINDMANUKN(-2))))+(1-0.766846636519688)*((LOG(IRQNVMANSMKN))-(LOG(IRQNVMANSMKN(-1)))))) +LOG(IRQNVINDMANUKN)-LOG(IRQNVINDMANUKN(-1))$\n",
      "FRML <CALC_ADD_FACTOR> IRQNVINDMANUXN_A = - ((-0.2*(LOG(IRQNVINDMANUXN(-1))-LOG(IRQNYGDPFCSTXN(-1))-LOG(ABS(1.73405320530385)))+0.762829514210573*((LOG(IRQNYGDPFCSTXN))-(LOG(IRQNYGDPFCSTXN(-1))))+(1-0.762829514210573)*((LOG(IRQNVINDMNQRXN(-1)))-(LOG(IRQNVINDMNQRXN(-2))))+0.313808062923077*DURING_2015_2016)) +LOG(IRQNVINDMANUXN)-LOG(IRQNVINDMANUXN(-1))$\n",
      "FRML <CALC_ADD_FACTOR> IRQNVINDELWAKN_A = - ((-0.404840823308145*(LOG(IRQNVINDELWAKN(-1))-LOG(IRQNVUTLSMKN(-1))-LOG(ABS(0.93720075745313)))+0.208864113574842*((LOG(IRQNVINDELWAKN(-1)))-(LOG(IRQNVINDELWAKN(-2))))+(1-0.208864113574842)*((LOG(IRQNVUTLSMKN))-(LOG(IRQNVUTLSMKN(-1))))-1.79427550350905*DURING_2020+0.218553917024062*DURING_2015)) +LOG(IRQNVINDELWAKN)-LOG(IRQNVINDELWAKN(-1))$\n",
      "FRML <CALC_ADD_FACTOR> IRQNVINDELWAXN_A = - ((-0.6*(LOG(IRQNVINDELWAXN(-1))-LOG(IRQNYGDPFCSTXN(-1))-LOG(ABS(2.50244000710957)))+0.795839962865698*((LOG(IRQNYGDPFCSTXN))-(LOG(IRQNYGDPFCSTXN(-1))))+(1-0.795839962865698)*((LOG(IRQNVINDMNQRXN(-1)))-(LOG(IRQNVINDMNQRXN(-2)))))) +LOG(IRQNVINDELWAXN)-LOG(IRQNVINDELWAXN(-1))$\n",
      "FRML <CALC_ADD_FACTOR> IRQNVINDCONSKN_A = - ((-0.656840152593363*(LOG(IRQNVINDCONSKN(-1))-LOG(IRQNVCONSMKN(-1))-LOG(ABS(1.13467816286097)))+0.190607981747875*((LOG(IRQNVINDCONSKN(-1)))-(LOG(IRQNVINDCONSKN(-2))))+(1-0.190607981747875)*((LOG(IRQNVCONSMKN))-(LOG(IRQNVCONSMKN(-1)))))) +LOG(IRQNVINDCONSKN)-LOG(IRQNVINDCONSKN(-1))$\n",
      "FRML <CALC_ADD_FACTOR> IRQNVINDCONSXN_A = - ((-0.3*(LOG(IRQNVINDCONSXN(-1))-LOG(IRQNYGDPFCSTXN(-1))-LOG(ABS(0.871750906481584)))+0.902295544522151*((LOG(IRQNYGDPFCSTXN))-(LOG(IRQNYGDPFCSTXN(-1))))+(1-0.902295544522151)*((LOG(IRQNVINDMNQRXN(-1)))-(LOG(IRQNVINDMNQRXN(-2))))+0.349342654022842*DURING_2015_2016+0.519949763102816*DURING_2020)) +LOG(IRQNVINDCONSXN)-LOG(IRQNVINDCONSXN(-1))$\n",
      "FRML <CALC_ADD_FACTOR> IRQNYGDPFCSTXN_A = - ((1.12197533941254*(0.4*LOG(1+IRQINFLEXPT/100)+(1-0.4)*((LOG(IRQPSTAR))-(LOG(IRQPSTAR(-1)))))+(1-1.12197533941254)*((LOG(IRQNYGDPFCSTXN(-1)))-(LOG(IRQNYGDPFCSTXN(-2))))+0.4*IRQNYGDPGAP_/100)) +LOG(IRQNYGDPFCSTXN)-LOG(IRQNYGDPFCSTXN(-1))$\n",
      "FRML <CALC_ADD_FACTOR> IRQGGREVCOMMCN_A = (IRQGGREVCOMMCN) - (-536121.304164136*DREV+(IRQGGREVCOMMER(-1)/100)*(IRQNVOILTOTLCN))$\n",
      "FRML <CALC_ADD_FACTOR> IRQGGREVDRCTCN_A = (IRQGGREVDRCTCN) - (581.045594092568*DREV+(IRQGGREVDRCTER(-1)/100)*IRQNYYWBTOTLCN)$\n",
      "FRML <CALC_ADD_FACTOR> IRQGGREVGNFSCN_A = (IRQGGREVGNFSCN) - (12589.6346069583*DREV+(IRQGGREVGNFSER(-1)/100)*(IRQNECONPRVTCN+IRQNECONGOVTCN))$\n",
      "FRML <CALC_ADD_FACTOR> IRQGGREVNTAXCN_A = IRQGGREVNTAXCN/IRQNYGDPMKTPCN- ((0.55795538811118-0.0092307330831937*T_LR)) $\n",
      "FRML <CALC_ADD_FACTOR> IRQGGEXPWAGECN_A = - ((-0.323334543414973*(LOG(IRQGGEXPWAGECN(-1))-LOG(IRQNYGDPMKTPCN(-1))-LOG(ABS(0.162898606794304)))+0.359128778140152*((LOG(IRQNYGDPMKTPCN))-(LOG(IRQNYGDPMKTPCN(-1))))+(1-0.359128778140152)*((LOG(IRQGGEXPWAGECN(-1)))-(LOG(IRQGGEXPWAGECN(-2)))))) +LOG(IRQGGEXPWAGECN)-LOG(IRQGGEXPWAGECN(-1))$\n",
      "FRML <CALC_ADD_FACTOR> IRQGGEXPTRNSCN_A = - ((-0.882318823646896*(LOG(IRQGGEXPTRNSCN(-1))-LOG(IRQNYGDPMKTPCN(-1))-LOG(ABS(-0.0682980232152646)))+0.880393660383952*((LOG(IRQNYGDPMKTPCN))-(LOG(IRQNYGDPMKTPCN(-1))))+(1-0.880393660383952)*((LOG(IRQGGEXPTRNSCN(-1)))-(LOG(IRQGGEXPTRNSCN(-2)))))) +LOG(IRQGGEXPTRNSCN)-LOG(IRQGGEXPTRNSCN(-1))$\n",
      "FRML <CALC_ADD_FACTOR> IRQGGEXPGNFSCN_A = - ((-0.240622726570739*(LOG(IRQGGEXPGNFSCN(-1))-LOG(IRQNYGDPMKTPCN(-1))-LOG(ABS(-0.0334377731250346)))+0.85*((LOG(IRQNYGDPMKTPCN))-(LOG(IRQNYGDPMKTPCN(-1))))+(1-0.85)*((LOG(IRQGGEXPGNFSCN(-1)))-(LOG(IRQGGEXPGNFSCN(-2)))))) +LOG(IRQGGEXPGNFSCN)-LOG(IRQGGEXPGNFSCN(-1))$\n",
      "FRML <CALC_ADD_FACTOR> IRQGGEXPMAINCN_A = - ((-0.716097447549612*(LOG(IRQGGEXPMAINCN(-1))-LOG(IRQNYGDPMKTPCN(-1))-LOG(ABS(0.00212292784343658)))+0.85*((LOG(IRQNYGDPMKTPCN))-(LOG(IRQNYGDPMKTPCN(-1))))+(1-0.85)*((LOG(IRQGGEXPMAINCN(-1)))-(LOG(IRQGGEXPMAINCN(-2)))))) +LOG(IRQGGEXPMAINCN)-LOG(IRQGGEXPMAINCN(-1))$\n",
      "FRML <CALC_ADD_FACTOR> IRQGGEXPCAPECN_A = - ((-0.8*(LOG(IRQGGEXPCAPECN(-1))-LOG(IRQNYGDPMKTPCN(-1))-LOG(ABS(0.000754579517072982)))+0.85*((LOG(IRQNYGDPMKTPCN))-(LOG(IRQNYGDPMKTPCN(-1))))+(1-0.85)*((LOG(IRQGGEXPCAPECN(-1)))-(LOG(IRQGGEXPCAPECN(-2))))+1.10215270370205*DURING_2019)) +LOG(IRQGGEXPCAPECN)-LOG(IRQGGEXPCAPECN(-1))$\n",
      "FRML <CALC_ADD_FACTOR> IRQGGEXPSUBTCN_A = IRQGGEXPSUBTCN/IRQNYGDPMKTPCN- ((0.010616085680676)) $\n",
      "FRML <CALC_ADD_FACTOR> IRQGGEXPSPECCN_A = - ((-0.810963604864129*(LOG(IRQGGEXPSPECCN(-1))-LOG(IRQNYGDPMKTPCN(-1))-LOG(ABS(0.00124941162116074)))+0.721680123784601*((LOG(IRQNYGDPMKTPCN))-(LOG(IRQNYGDPMKTPCN(-1))))+(1-0.721680123784601)*((LOG(IRQGGEXPSPECCN(-1)))-(LOG(IRQGGEXPSPECCN(-2)))))) +LOG(IRQGGEXPSPECCN)-LOG(IRQGGEXPSPECCN(-1))$\n",
      "FRML <CALC_ADD_FACTOR> IRQGGEXPOTHRCN_A = IRQGGEXPOTHRCN/IRQNYGDPMKTPCN- ((0.0252797188127809)) $\n",
      "FRML <CALC_ADD_FACTOR> IRQGGEXPCAPTCN_A = - ((-0.565596247274191*(LOG(IRQGGEXPCAPTCN(-1))-LOG(IRQNYGDPMKTPCN(-1))-LOG(ABS(0.112162397326752)))+0.85*((LOG(IRQNYGDPMKTPCN))-(LOG(IRQNYGDPMKTPCN(-1))))+(1-0.85)*((LOG(IRQGGEXPCAPTCN(-1)))-(LOG(IRQGGEXPCAPTCN(-2))))+0.889041407794877*DURING_2008)) +LOG(IRQGGEXPCAPTCN)-LOG(IRQGGEXPCAPTCN(-1))$\n",
      "FRML <CALC_ADD_FACTOR> IRQGGFINEAMDCN_A = - ((0.0645988233778443)) +IRQGGFINEAMDCN/IRQGGFINDOMTCN$\n",
      "FRML <CALC_ADD_FACTOR> IRQGGFINEAMECN_A = IRQGGFINEAMECN/IRQGGFINEXTLCN- ((0.391071279776251)) $\n",
      "FRML <CALC_ADD_FACTOR> IRQGGFINEXTLCN_A = (IRQGGFINEXTLCN) - (IRQGGFINEXTLSHARE_/100*IRQGGFINREQMCN+20184925.3642983*DUMH)$\n",
      "FRML <CALC_ADD_FACTOR> IRQGGFINDOMTCN_A = (IRQGGFINDOMTCN) - ((1-IRQGGFINEXTLSHARE_/100)*IRQGGFINREQMCN+25308393.7823487*DUMH)$\n",
      "FRML <CALC_ADD_FACTOR> IRQBXGSRGNFSCD_A = - ((((LOG((IRQNEEXPGNFSKN*IRQNEEXPGNFSXN)/IRQPANUSATLS))-(LOG((IRQNEEXPGNFSKN(-1)*IRQNEEXPGNFSXN(-1))/IRQPANUSATLS(-1))))+0.00756954668907073*DUMH)) +LOG(IRQBXGSRGNFSCD)-LOG(IRQBXGSRGNFSCD(-1))$\n",
      "FRML <CALC_ADD_FACTOR> IRQBXGOILMRCHCD_A = 100*IRQBXGOILMRCHCD/IRQBXGOILMRCHCD(-1)- (((100 * ( (IRQNEEXPGOILCN/IRQPANUSATLS) / (IRQNEEXPGOILCN(-1)/IRQPANUSATLS(-1)) -1)) +1.9791345274529E-06*DUMH)) -100$\n",
      "FRML <CALC_ADD_FACTOR> IRQBXNOILMRCHCD_A = 100*IRQBXNOILMRCHCD/IRQBXNOILMRCHCD(-1)- (((100 * ( (IRQNEEXPNOILCN/IRQPANUSATLS) / (IRQNEEXPNOILCN(-1)/IRQPANUSATLS(-1)) -1)) +422.736306018019*DURING_2019)) -100$\n",
      "FRML <CALC_ADD_FACTOR> IRQBMGSRGNFSCD_A = - ((((LOG((IRQNEIMPGNFSKN*IRQNEIMPGNFSXN)/IRQPANUSATLS))-(LOG((IRQNEIMPGNFSKN(-1)*IRQNEIMPGNFSXN(-1))/IRQPANUSATLS(-1))))+0.0136226130196872*DUMH)) +LOG(IRQBMGSRGNFSCD)-LOG(IRQBMGSRGNFSCD(-1))$\n",
      "FRML <CALC_ADD_FACTOR> IRQBMGSRMRCHCD_A = - ((-0.0822035607756515+1.38421432671205*((LOG(IRQNEGDETTOTCN/IRQPANUSATLS))-(LOG(IRQNEGDETTOTCN(-1)/IRQPANUSATLS(-1)))))) +LOG(IRQBMGSRMRCHCD)-LOG(IRQBMGSRMRCHCD(-1))$\n",
      "FRML <CALC_ADD_FACTOR> IRQBXFSTREMTCD_A = 100*IRQBXFSTREMTCD/IRQBXFSTREMTCD(-1)- ((1*IRQREMT_IN+720.152370248133*DURING_2007_2009)) -100$\n",
      "FRML <CALC_ADD_FACTOR> IRQBXFSTOTHRCD_A = - ((((LOG(IRQNYGDPMKTPCD))-(LOG(IRQNYGDPMKTPCD(-1))))+1.91880934148378*DURING_2015)) +LOG(IRQBXFSTOTHRCD)-LOG(IRQBXFSTOTHRCD(-1))$\n",
      "FRML <CALC_ADD_FACTOR> IRQBMFSTREMTCD_A = - ((-0.2*(LOG(IRQBMFSTREMTCD(-1))-LOG(IRQNYGDPMKTPCD(-1))-LOG(ABS(0.00849456144493732)))+0.340962598155871*((LOG(IRQNYGDPMKTPCD))-(LOG(IRQNYGDPMKTPCD(-1))))-3.78889527162688*DURING_2007)) +LOG(IRQBMFSTREMTCD)-LOG(IRQBMFSTREMTCD(-1))$\n",
      "FRML <CALC_ADD_FACTOR> IRQBMFSTOTHRCD_A = 100*IRQBMFSTOTHRCD/IRQNYGDPMKTPCD- ((10.756782474228-0.161298051354526*T_LR-1.21961019215653*DURING_2015_2017)) $\n",
      "FRML <CALC_ADD_FACTOR> IRQBFCAFFFDICD_A = IRQBFCAFFFDICD/IRQNYGDPMKTPCD- ((0.0183027950579811+0.0324451319378821*DURING_2014_2015)) $\n",
      "FRML <CALC_ADD_FACTOR> IRQBFCAFFPFTCD_A = IRQBFCAFFPFTCD/IRQNYGDPMKTPCD- ((-0.0762736586150312+0.00119866789576445*T_LR)) $\n",
      "FRML <CALC_ADD_FACTOR> IRQBFCAFOOTHCD_A = IRQBFCAFOOTHCD/IRQNYGDPMKTPCD- ((-0.533358542310056+0.00938558306208754*T_LR)) $\n",
      "FRML <CALC_ADD_FACTOR> IRQFIRESTOTLCD_A = IRQFIRESTOTLCD- ((IRQBFCAFRACGCD-2878.78396172793*DUMH)) -IRQFIRESTOTLCD(-1)$\n",
      "FRML <CALC_ADD_FACTOR> IRQFPCPITOTLXN_A = - ((0.133294667570213*((LOG(IRQNECONPRVTXN))-(LOG(IRQNECONPRVTXN(-1))))+(1-0.133294667570213)*((LOG(IRQFPCPITOTLXN(-1)))-(LOG(IRQFPCPITOTLXN(-2)))))) +LOG(IRQFPCPITOTLXN)-LOG(IRQFPCPITOTLXN(-1))$\n",
      "FRML <CALC_ADD_FACTOR> IRQPANUSATLS_A = - ((0.0504703659546438+LOG(IRQPANUSATLS(-1))+LOG((1+USAFMLBLPOLYFR/100)/(1+IRQFMLBLPOLYFR/100)))) +LOG(IRQPANUSATLS)$\n",
      "FRML <CALC_ADD_FACTOR> IRQFMLBLMTWOKN_A = - ((-0.888759885195756*(LOG(IRQFMLBLMTWOKN(-1))-LOG(IRQNYGDPMKTPKN(-1))+0.1*IRQFMLBLPOLYFR(-1)-LOG(IRQVELOCITY(-1))-LOG(ABS(4.34132431379147)))+0.2*((LOG(IRQNYGDPMKTPKN))-(LOG(IRQNYGDPMKTPKN(-1))))-0.1*((IRQFMLBLPOLYFR)-(IRQFMLBLPOLYFR(-1)))+((LOG(IRQVELOCITY))-(LOG(IRQVELOCITY(-1))))-0.0454962519556715*T_LR)) +LOG(IRQFMLBLMTWOKN)-LOG(IRQFMLBLMTWOKN(-1))$\n",
      "FRML <CALC_ADD_FACTOR> IRQFMLBLPOLYFR_A = IRQFMLBLPOLYFR/100- ((0.85*IRQFMLBLPOLYFR(-1)/100+(1-0.85)*(0.0249727052023416+1.5*(((LOG(IRQNECONPRVTXN))-(LOG(IRQNECONPRVTXN(-1))))-IRQINFLEXPT/100)+0.3*IRQNYGDPGAP_/100)+0.0658396176049064*DURING_2006-0.0687072291239696*DURING_2009)) $\n",
      "FRML <CALC_ADD_FACTOR> IRQVELOCITY_A = - ((-0.0465425388988834)) +LOG(IRQVELOCITY)-LOG(IRQVELOCITY(-1))$\n"
     ]
    }
   ],
   "source": [
    "print(mirq.equations)"
   ]
  },
  {
   "cell_type": "code",
   "execution_count": null,
   "id": "36502a77",
   "metadata": {
    "scrolled": false
   },
   "outputs": [],
   "source": [
    "with mirq.set_smpl(2020,2023):\n",
    "    print(mirq.IRQGGEXPCAPTCN.show)                        "
   ]
  },
  {
   "cell_type": "markdown",
   "id": "3783d049",
   "metadata": {},
   "source": [
    "## Save the successfully imported file"
   ]
  },
  {
   "cell_type": "code",
   "execution_count": 14,
   "id": "239d4345",
   "metadata": {},
   "outputs": [],
   "source": [
    "mirq.modeldump('irq.pcim')"
   ]
  },
  {
   "cell_type": "code",
   "execution_count": 15,
   "id": "7c44f4d0",
   "metadata": {},
   "outputs": [
    {
     "name": "stdout",
     "output_type": "stream",
     "text": [
      " Volume in drive C has no label.\n",
      " Volume Serial Number is C2DB-095E\n",
      "\n",
      " Directory of c:\\modelflow manual\\papers\\mfbook\\content\\archived\\howto\\onboard\\eviews\n",
      "\n",
      "13-12-2024  08:50           220.807 bol.pcim\n",
      "13-12-2024  08:55           238.021 irq.pcim\n",
      "22-11-2024  23:44           220.847 test.pcim\n",
      "               3 File(s)        679.675 bytes\n",
      "               0 Dir(s)  649.838.759.936 bytes free\n"
     ]
    }
   ],
   "source": [
    "!dir *.pcim"
   ]
  },
  {
   "cell_type": "markdown",
   "id": "94a56542",
   "metadata": {},
   "source": [
    "## An example where the initial import fails because of a specifity in the orginal EViews model\n",
    "\n",
    "The below command tries to import a model for Iraq without any modification.  The import fails, with `GrabWfModel()` reporting:\n",
    "\n",
    "```\n",
    "Processing the model:BOL\n",
    "Probably errors as @ in lines:\n",
    "\n",
    "Eviews line      :@IDENTITY BOLBFCAF2BOP_  = (1  - @DURING(\"1980 2021\"))  * @between(reserveRatio3  , 1  / 2  , 100000)  * reserveRatio3\n",
    "Original line     :@IDENTITY BOLBFCAF2BOP_  = (1  - DURING_1980_2021)  * @BETWEEN(RESERVERATIO3  , 1  / 2  , 100000)  * RESERVERATIO3\n",
    "New modelflow line:BOLBFCAF2BOP_=(1-DURING_1980_2021)*@BETWEEN(RESERVERATIO3,1/2,100000)*RESERVERATIO3\n",
    "```\n",
    "\n",
    "\n",
    "Below we try to onboard the model for Iraq directly without any intervention."
   ]
  },
  {
   "cell_type": "code",
   "execution_count": 19,
   "id": "725ad829",
   "metadata": {
    "tags": [
     "raises-exception"
    ]
   },
   "outputs": [
    {
     "name": "stdout",
     "output_type": "stream",
     "text": [
      "\n",
      "Reading c:\\modelflow manual\\papers\\mfbook\\content\\archived\\howto\\onboard\\eviews\\wfs\\bolsoln.wf1\n",
      "Assummed model name: BOL\n",
      "The model: BOL is unlinked \n",
      "Writing C:\\modelflow manual\\papers\\mfbook\\content\\archived\\howto\\onboard\\eviews\\wfs\\bolsoln_modelflow.wf2\n",
      "Model name: BOL\n",
      "\n",
      "Processing the model:BOL\n",
      "Check for Eviews @ which are not caught in the translation\n",
      "Probably errors as @ in lines:\n",
      "\n",
      "Eviews line      :@IDENTITY BOLBFCAF2BOP_  = (1  - @DURING(\"1980 2021\"))  * @between(reserveRatio3  , 1  / 2  , 100000)  * reserveRatio3\n",
      "Original line     :@IDENTITY BOLBFCAF2BOP_  = (1  - DURING_1980_2021)  * @BETWEEN(RESERVERATIO3  , 1  / 2  , 100000)  * RESERVERATIO3\n",
      "New modelflow line:BOLBFCAF2BOP_=(1-DURING_1980_2021)*@BETWEEN(RESERVERATIO3,1/2,100000)*RESERVERATIO3\n",
      "*** ERROR *** \n",
      " @ in lines \n"
     ]
    }
   ],
   "source": [
    "\n",
    "BOL_Eviews=['smpl @ALL',\"series _Reserveratio3_at_Between= @BETWEEN(RESERVERATIO3  , 1  / 2  , 100000)\"];\n",
    "BOL_trans=lambda input: input.replace(\"@BETWEEN(RESERVERATIO3  , 1  / 2  , 100000)\",\"__RESERVERATIO3_AT_BETWEEN\")\n",
    "try:\n",
    "    all_about_mda = GrabWfModel(r'wfs\\bolsoln.wf1', \n",
    "                      #eviews_run_lines= BOL_Eviews,\n",
    "                      #country_trans    =  BOL_trans,\n",
    "                        make_fitted = True,        # make equations for fitted values of stochastic equations \n",
    "                        do_add_factor_calc=True,   # Calculate the add factors which makes the stocastic equations match    \n",
    "                        fit_start = 2000,          # Start of calculation of fittet model in baseline (to have some historic values) \n",
    "                        fit_end   = None,           # end of calc for fittted model, if None taken from mdmfsa options  \n",
    "                        disable_progress =True     # Better for jupyter book \n",
    "                               ) \n",
    "except Exception as e:\n",
    "    print('*** ERROR ***','\\n',e)\n",
    "    "
   ]
  },
  {
   "cell_type": "markdown",
   "id": "f94bdc50",
   "metadata": {},
   "source": [
    "## Debugging the error\n",
    "\n",
    "Many EViews models can be converted to ModelFlow. However, sometimes plain vanilla conversion doesn't work. In broad terms, experience shows three types of issues:  \n",
    "\n",
    "1. **Unknown EViews @functions in equations.**\n",
    "  The `GrabWfModel` function knows the most common Eviews @functions, however not all. \n",
    "2. **Syntax errors**. Conversion and  normalization of EViews equations to python statements can result in syntax errors.   \n",
    "3. **The ModelFlow model don't calculate the same values as in the `.wf1` file.**. The `GrabWfModel` function calculates adjustment factors for all stochastic equations so that the equations yield the same values as in the `.wf1` file. However, this is not always the case, particularly if the value of an identity has been explicitly set. It can also be caused by limited numerical prescision.  \n",
    "\n",
    "\n",
    "GrabWfModel knows some Eviews @<functions> but not all. As we can see from the line: \n",
    "\n",
    " >New modelflow line:BOLBFCAF2BOP_=(1-DURING_1980_2021)*@BETWEEN(RESERVERATIO3,1/2,100000)*RESERVERATIO3\n",
    "\n",
    " GrabWfModel can not make @Between go away. That is causing trouble.\n",
    "\n",
    "The EViews help tells us:\n",
    "\n",
    "```\n",
    "@between(series, val1, val2)  Creates a dummy variable equal to 1 for observations where series is greater than or equal to val1 and less than or equal to val2.\n",
    "```\n",
    "\n",
    "In python @between(series, val1, val2) is equivalent to: \n",
    "    \n",
    " >  (1. * float(val1 <= series <= val2)))  \n",
    "    \n",
    "We can reproduce the logic by adding a python commmand to perform the substitution of @between in the equation with a equivalent \n",
    "python expression \n",
    "\n",
    "\n",
    "```BOL_trans = lambda text: re.sub(\n",
    "    r\"@BETWEEN\\(\\s*(\\w+)\\s*,\\s*([^,]+)\\s*,\\s*([^)]+)\\s*\\)\",\n",
    "    r\"(1.0*float(\\2 <= \\1 <= \\3))\",\n",
    "    text\n",
    ")```\n"
   ]
  },
  {
   "cell_type": "code",
   "execution_count": 24,
   "id": "3c2da0e5",
   "metadata": {},
   "outputs": [
    {
     "name": "stdout",
     "output_type": "stream",
     "text": [
      "(1.0*float(1  / 2   <= 3 <= 100000))\n"
     ]
    }
   ],
   "source": [
    "# To show how the substitution works\n",
    "import re\n",
    "BOL_trans = lambda text: re.sub(\n",
    "    r\"@between\\(\\s*(\\w+)\\s*,\\s*([^,]+)\\s*,\\s*([^)]+)\\s*\\)\",\n",
    "    r\"(1.0*float(\\2 <= \\1 <= \\3))\",\n",
    "    text\n",
    ")\n",
    "\n",
    "\n",
    "# Usage example\n",
    "text = '@between(3  , 1  / 2  , 100000)'\n",
    "result = BOL_trans(text)\n",
    "\n",
    "print(result)\n"
   ]
  },
  {
   "cell_type": "code",
   "execution_count": 25,
   "id": "2d44832c",
   "metadata": {},
   "outputs": [
    {
     "name": "stdout",
     "output_type": "stream",
     "text": [
      "1.0*((1  / 2)   <= 30 <= 100000)=1.0\n",
      "1.0*((1  / 2)   <= 30000 <= 100000)=1.0\n",
      "1.0*((1  / 2)   <= 0 <= 100000)=0.0\n"
     ]
    }
   ],
   "source": [
    "# some results \n",
    "print(f'{1.0*((1  / 2)   <= 30 <= 100000)=}')\n",
    "print(f'{1.0*((1  / 2)   <= 30000 <= 100000)=}')\n",
    "print(f'{1.0*((1  / 2)   <= 0 <= 100000)=}')"
   ]
  },
  {
   "cell_type": "code",
   "execution_count": 27,
   "id": "4b3120b2",
   "metadata": {},
   "outputs": [
    {
     "name": "stdout",
     "output_type": "stream",
     "text": [
      "\n",
      "Reading c:\\modelflow manual\\papers\\mfbook\\content\\archived\\howto\\onboard\\eviews\\wfs\\bolsoln.wf1\n",
      "Assummed model name: BOL\n",
      "The model: BOL is unlinked \n",
      "Writing C:\\modelflow manual\\papers\\mfbook\\content\\archived\\howto\\onboard\\eviews\\wfs\\bolsoln_modelflow.wf2\n",
      "Model name: BOL\n",
      "\n",
      "Processing the model:BOL\n",
      "Check for Eviews @ which are not caught in the translation\n",
      "Default WB var_group loaded\n",
      "Variable description in wf1 file read\n",
      "Default WB var_description loaded self.cty='' len(var_description)=16\n",
      "var_description loaded from WF len(this)=301\n",
      "testmodel calculated  \n",
      "Calculation of add factors for BOL calculated  \n"
     ]
    }
   ],
   "source": [
    "# Now the substitution is implementet \n",
    "import re\n",
    "BOL_trans=lambda text: re.sub(\n",
    "    r\"@between\\(\\s*(\\w+)\\s*,\\s*([^,]+)\\s*,\\s*([^)]+)\\s*\\)\",\n",
    "    r\"(1.0*float(\\2 <= \\1 <= \\3))\",\n",
    "    text\n",
    ")\n",
    "\n",
    "all_about_mda = GrabWfModel(r'wfs\\bolsoln.wf1', \n",
    "                  country_trans    =  BOL_trans,\n",
    "                    make_fitted = True,        # make equations for fitted values of stochastic equations \n",
    "                    do_add_factor_calc=True,   # Calculate the add factors which makes the stocastic equations match    \n",
    "                    fit_start = 2000,          # Start of calculation of fittet model in baseline (to have some historic values) \n",
    "                    fit_end   = None,           # end of calc for fittted model, if None taken from mdmfsa options  \n",
    "                    disable_progress =True     # Better for jupyter book \n",
    "                           ) "
   ]
  },
  {
   "cell_type": "code",
   "execution_count": null,
   "id": "10592a6f",
   "metadata": {},
   "outputs": [],
   "source": []
  }
 ],
 "metadata": {
  "celltoolbar": "Tags",
  "hide_input": false,
  "kernelspec": {
   "display_name": "Python 3 (ipykernel)",
   "language": "python",
   "name": "python3"
  },
  "language_info": {
   "codemirror_mode": {
    "name": "ipython",
    "version": 3
   },
   "file_extension": ".py",
   "mimetype": "text/x-python",
   "name": "python",
   "nbconvert_exporter": "python",
   "pygments_lexer": "ipython3",
   "version": "3.12.6"
  },
  "nbTranslate": {
   "displayLangs": [
    "*"
   ],
   "hotkey": "alt-t",
   "langInMainMenu": true,
   "sourceLang": "en",
   "targetLang": "fr",
   "useGoogleTranslate": true
  },
  "toc": {
   "base_numbering": 1,
   "nav_menu": {},
   "number_sections": false,
   "sideBar": true,
   "skip_h1_title": true,
   "title_cell": "Table of Contents",
   "title_sidebar": "Contents",
   "toc_cell": false,
   "toc_position": {},
   "toc_section_display": true,
   "toc_window_display": false
  },
  "varInspector": {
   "cols": {
    "lenName": 16,
    "lenType": 16,
    "lenVar": 40
   },
   "kernels_config": {
    "python": {
     "delete_cmd_postfix": "",
     "delete_cmd_prefix": "del ",
     "library": "var_list.py",
     "varRefreshCmd": "print(var_dic_list())"
    },
    "r": {
     "delete_cmd_postfix": ") ",
     "delete_cmd_prefix": "rm(",
     "library": "var_list.r",
     "varRefreshCmd": "cat(var_dic_list()) "
    }
   },
   "position": {
    "height": "523.849px",
    "left": "1662.61px",
    "right": "20px",
    "top": "45.9915px",
    "width": "800px"
   },
   "types_to_exclude": [
    "module",
    "function",
    "builtin_function_or_method",
    "instance",
    "_Feature"
   ],
   "window_display": false
  }
 },
 "nbformat": 4,
 "nbformat_minor": 5
}
