{
 "cells": [
  {
   "cell_type": "code",
   "execution_count": 11,
   "id": "1e8874ae",
   "metadata": {},
   "outputs": [
    {
     "data": {
      "text/html": [
       "\n",
       "        <style>\n",
       "            div#notebook-container    { width: 95%; }\n",
       "            div#menubar-container     { width: 65%; }\n",
       "            div#maintoolbar-container { width: 99%; }\n",
       "        </style>\n",
       "        "
      ],
      "text/plain": [
       "<IPython.core.display.HTML object>"
      ]
     },
     "metadata": {},
     "output_type": "display_data"
    }
   ],
   "source": [
    "from modelclass import model \n",
    "import modelpattern as pt\n",
    "model.widescreen()"
   ]
  },
  {
   "cell_type": "code",
   "execution_count": 12,
   "id": "f84bd024",
   "metadata": {},
   "outputs": [
    {
     "name": "stdout",
     "output_type": "stream",
     "text": [
      "file read:  C:\\wb new\\andrew\\simple model\\simple.pcim\n"
     ]
    }
   ],
   "source": [
    "msim,baseline = model.modelload('simple.pcim',run=1)"
   ]
  },
  {
   "cell_type": "markdown",
   "id": "f7c206d8",
   "metadata": {},
   "source": [
    "## Stocastic variables in WB models \n",
    "All equations which are not marked as @idendity in eviews are marked as stocastic and can be fixed. The list of fix'able variable is a property of the model class. "
   ]
  },
  {
   "cell_type": "code",
   "execution_count": 13,
   "id": "46a13181",
   "metadata": {},
   "outputs": [
    {
     "data": {
      "text/plain": [
       "['CPV', 'G', 'I', 'M']"
      ]
     },
     "execution_count": 13,
     "metadata": {},
     "output_type": "execute_result"
    }
   ],
   "source": [
    "msim.fix_endo"
   ]
  },
  {
   "cell_type": "markdown",
   "id": "bdb0f17a",
   "metadata": {},
   "source": [
    "## Non stocastic  variables in WB models \n",
    "Is the endogenous variables not fixable. \n",
    "\n",
    "However this includes fitted variableswhich are generated automatickly "
   ]
  },
  {
   "cell_type": "code",
   "execution_count": 14,
   "id": "99bbc9c2",
   "metadata": {},
   "outputs": [
    {
     "data": {
      "text/plain": [
       "{'CPV_FITTED', 'GDE', 'G_FITTED', 'I_FITTED', 'M_FITTED', 'Y'}"
      ]
     },
     "execution_count": 14,
     "metadata": {},
     "output_type": "execute_result"
    }
   ],
   "source": [
    "msim.endogene - set(msim.fix_endo)"
   ]
  },
  {
   "cell_type": "markdown",
   "id": "9b4b1a7a",
   "metadata": {},
   "source": [
    "## Identitie variable\n",
    "Equations marked as @idendity get a frml name <> So the variables can be found like this:   "
   ]
  },
  {
   "cell_type": "code",
   "execution_count": 15,
   "id": "1761f76e",
   "metadata": {},
   "outputs": [
    {
     "data": {
      "text/plain": [
       "{'GDE', 'Y'}"
      ]
     },
     "execution_count": 15,
     "metadata": {},
     "output_type": "execute_result"
    }
   ],
   "source": [
    "msim.wb_ident_var = {v for v in msim.endogene if pt.kw_frml_name(msim.allvar[v]['frmlname'], '')} \n",
    "msim.wb_ident_var "
   ]
  },
  {
   "cell_type": "markdown",
   "id": "8313bd73",
   "metadata": {},
   "source": [
    "I think it would be a good idea to change the frmlname to <IDENT> as that is a marker of Identities in other models: This marker is used to extract\n",
    "equations to a separate model which can be used to calculate historic values. \n",
    "\n",
    "But lets discuss this. "
   ]
  },
  {
   "cell_type": "markdown",
   "id": "065e3d27",
   "metadata": {},
   "source": [
    "## Some lists of exogenous variables. "
   ]
  },
  {
   "cell_type": "code",
   "execution_count": null,
   "id": "b1fe5509",
   "metadata": {},
   "outputs": [],
   "source": [
    "msim.fix_dummy"
   ]
  },
  {
   "cell_type": "code",
   "execution_count": null,
   "id": "6d7c07b7",
   "metadata": {},
   "outputs": [],
   "source": [
    "msim.fix_add_factor"
   ]
  },
  {
   "cell_type": "code",
   "execution_count": null,
   "id": "7d871af6",
   "metadata": {},
   "outputs": [],
   "source": [
    "msim.fix_value"
   ]
  },
  {
   "cell_type": "markdown",
   "id": "5b7d3054",
   "metadata": {},
   "source": [
    "## List of \"true\" model exogenous "
   ]
  },
  {
   "cell_type": "code",
   "execution_count": null,
   "id": "f9d154ca",
   "metadata": {},
   "outputs": [],
   "source": [
    "msim.model_exogene = msim.exogene-set(msim.fix_dummy + msim.fix_add_factor + msim.fix_value)\n",
    "msim.model_exogene"
   ]
  },
  {
   "cell_type": "markdown",
   "id": "297ed9f1",
   "metadata": {},
   "source": [
    "### Alternative "
   ]
  },
  {
   "cell_type": "code",
   "execution_count": null,
   "id": "ff642fa4",
   "metadata": {},
   "outputs": [],
   "source": [
    "{v for v in msim.exogene if not (v.endswith('_D') or\n",
    "                                 v.endswith('_X') or\n",
    "                                 v.endswith('_A')   )}"
   ]
  },
  {
   "cell_type": "code",
   "execution_count": null,
   "id": "0a47268a",
   "metadata": {},
   "outputs": [],
   "source": []
  }
 ],
 "metadata": {
  "hide_input": false,
  "kernelspec": {
   "display_name": "Python 3 (ipykernel)",
   "language": "python",
   "name": "python3"
  },
  "language_info": {
   "codemirror_mode": {
    "name": "ipython",
    "version": 3
   },
   "file_extension": ".py",
   "mimetype": "text/x-python",
   "name": "python",
   "nbconvert_exporter": "python",
   "pygments_lexer": "ipython3",
   "version": "3.9.12"
  },
  "toc": {
   "base_numbering": 1,
   "nav_menu": {},
   "number_sections": true,
   "sideBar": true,
   "skip_h1_title": false,
   "title_cell": "Table of Contents",
   "title_sidebar": "Contents",
   "toc_cell": false,
   "toc_position": {},
   "toc_section_display": true,
   "toc_window_display": false
  },
  "varInspector": {
   "cols": {
    "lenName": 16,
    "lenType": 16,
    "lenVar": 40
   },
   "kernels_config": {
    "python": {
     "delete_cmd_postfix": "",
     "delete_cmd_prefix": "del ",
     "library": "var_list.py",
     "varRefreshCmd": "print(var_dic_list())"
    },
    "r": {
     "delete_cmd_postfix": ") ",
     "delete_cmd_prefix": "rm(",
     "library": "var_list.r",
     "varRefreshCmd": "cat(var_dic_list()) "
    }
   },
   "types_to_exclude": [
    "module",
    "function",
    "builtin_function_or_method",
    "instance",
    "_Feature"
   ],
   "window_display": false
  }
 },
 "nbformat": 4,
 "nbformat_minor": 5
}
