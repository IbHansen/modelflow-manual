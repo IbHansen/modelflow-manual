{
 "cells": [
  {
   "cell_type": "code",
   "execution_count": 36,
   "id": "81a5579d",
   "metadata": {},
   "outputs": [],
   "source": [
    "from dataclasses import dataclass\n",
    "import ipywidgets as widgets\n",
    "from IPython.display import display\n",
    "\n",
    "@dataclass\n",
    "class HtmlWidgetStyle:\n",
    "    '''Class that displays a styled DataFrame in an HTML widget.'''\n",
    "    \n",
    "    styler: any = None  # Expecting a Pandas Styler object\n",
    "\n",
    "    def __post_init__(self):\n",
    "        # Initialize with more specific CSS to manage table styling and spacing\n",
    "        style_html = \"\"\"\n",
    "<style>\n",
    "html, body {\n",
    "    font-family: Arial, sans-serif;  /* Ensures consistent font usage */\n",
    "}\n",
    "table.dataframe, .dataframe th, .dataframe td {\n",
    "    border: none;\n",
    "    border-collapse: collapse;\n",
    "    padding: 4px;  /* Reduced padding */\n",
    "    margin: 0px;   /* Remove default margin */\n",
    "    line-height: 1.0 !important;  /* Ensures tighter line spacing, with override */\n",
    "    vertical-align: middle;  /* Centers text vertically in cells */\n",
    "    font-size: 8px !important;  /* Standard font size with override */\n",
    "}\n",
    ".dataframe {\n",
    "    width: 100%;  /* Makes the table full width */\n",
    "}\n",
    "</style>\n",
    "\"\"\"\n",
    "        # Ensure the styler is not None and is converted to HTML properly\n",
    "        if self.styler is not None:\n",
    "            styled_html = self.styler.to_html()\n",
    "        else:\n",
    "            styled_html = \"<p>No data available</p>\"\n",
    "\n",
    "        # Combine the style and DataFrame HTML\n",
    "        self.datawidget = widgets.HTML(value=f'{style_html}{styled_html}')\n",
    "\n",
    "    def display(self):\n",
    "        # Function to display the widget\n",
    "        display(self.datawidget)\n"
   ]
  },
  {
   "cell_type": "code",
   "execution_count": 40,
   "id": "e41bb727",
   "metadata": {},
   "outputs": [
    {
     "data": {
      "text/plain": [
       "'<style type=\"text/css\">\\n</style>\\n<table id=\"T_ae083\">\\n  <thead>\\n    <tr>\\n      <th class=\"blank level0\" >&nbsp;</th>\\n      <th id=\"T_ae083_level0_col0\" class=\"col_heading level0 col0\" >A</th>\\n      <th id=\"T_ae083_level0_col1\" class=\"col_heading level0 col1\" >B</th>\\n    </tr>\\n  </thead>\\n  <tbody>\\n    <tr>\\n      <th id=\"T_ae083_level0_row0\" class=\"row_heading level0 row0\" >0</th>\\n      <td id=\"T_ae083_row0_col0\" class=\"data row0 col0\" >1</td>\\n      <td id=\"T_ae083_row0_col1\" class=\"data row0 col1\" >4</td>\\n    </tr>\\n    <tr>\\n      <th id=\"T_ae083_level0_row1\" class=\"row_heading level0 row1\" >1</th>\\n      <td id=\"T_ae083_row1_col0\" class=\"data row1 col0\" >2</td>\\n      <td id=\"T_ae083_row1_col1\" class=\"data row1 col1\" >5</td>\\n    </tr>\\n    <tr>\\n      <th id=\"T_ae083_level0_row2\" class=\"row_heading level0 row2\" >2</th>\\n      <td id=\"T_ae083_row2_col0\" class=\"data row2 col0\" >3</td>\\n      <td id=\"T_ae083_row2_col1\" class=\"data row2 col1\" >6</td>\\n    </tr>\\n  </tbody>\\n</table>\\n'"
      ]
     },
     "execution_count": 40,
     "metadata": {},
     "output_type": "execute_result"
    }
   ],
   "source": [
    "import pandas as pd\n",
    "\n",
    "# Example DataFrame\n",
    "data = {'A': [1, 2, 3], 'B': [4, 5, 6]}\n",
    "df = pd.DataFrame(data)\n",
    "styler = df.style\n",
    "styler.to_html() "
   ]
  },
  {
   "cell_type": "code",
   "execution_count": null,
   "id": "1ff4215b",
   "metadata": {},
   "outputs": [],
   "source": []
  }
 ],
 "metadata": {
  "hide_input": false,
  "kernelspec": {
   "display_name": "Python 3 (ipykernel)",
   "language": "python",
   "name": "python3"
  },
  "language_info": {
   "codemirror_mode": {
    "name": "ipython",
    "version": 3
   },
   "file_extension": ".py",
   "mimetype": "text/x-python",
   "name": "python",
   "nbconvert_exporter": "python",
   "pygments_lexer": "ipython3",
   "version": "3.10.11"
  },
  "toc": {
   "base_numbering": 1,
   "nav_menu": {},
   "number_sections": true,
   "sideBar": false,
   "skip_h1_title": false,
   "title_cell": "Table of Contents",
   "title_sidebar": "Contents",
   "toc_cell": false,
   "toc_position": {},
   "toc_section_display": true,
   "toc_window_display": false
  },
  "varInspector": {
   "cols": {
    "lenName": 16,
    "lenType": 16,
    "lenVar": 40
   },
   "kernels_config": {
    "python": {
     "delete_cmd_postfix": "",
     "delete_cmd_prefix": "del ",
     "library": "var_list.py",
     "varRefreshCmd": "print(var_dic_list())"
    },
    "r": {
     "delete_cmd_postfix": ") ",
     "delete_cmd_prefix": "rm(",
     "library": "var_list.r",
     "varRefreshCmd": "cat(var_dic_list()) "
    }
   },
   "types_to_exclude": [
    "module",
    "function",
    "builtin_function_or_method",
    "instance",
    "_Feature"
   ],
   "window_display": false
  }
 },
 "nbformat": 4,
 "nbformat_minor": 5
}
