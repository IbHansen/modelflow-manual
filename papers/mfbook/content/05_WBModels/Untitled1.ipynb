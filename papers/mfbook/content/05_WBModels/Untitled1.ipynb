{
 "cells": [
  {
   "cell_type": "code",
   "execution_count": 1,
   "id": "c00aaa4c",
   "metadata": {},
   "outputs": [
    {
     "name": "stdout",
     "output_type": "stream",
     "text": [
      "                          Value\n",
      "First Level Second Level       \n",
      "a           dummy            10\n",
      "b           dummy            20\n",
      "c           dummy            30\n",
      "d           dummy            40\n",
      "e           dummy            50\n"
     ]
    }
   ],
   "source": [
    "import pandas as pd\n",
    "\n",
    "def convert_to_multiindex(df, top_level_name='First Level', dummy_level_name='Second Level', dummy_value='dummy'):\n",
    "    \"\"\"\n",
    "    Converts a DataFrame with a single index into a MultiIndex DataFrame.\n",
    "\n",
    "    Parameters:\n",
    "    df (pd.DataFrame): The DataFrame to convert.\n",
    "    top_level_name (str): The name of the top level of the new MultiIndex.\n",
    "    dummy_level_name (str): The name of the second level of the new MultiIndex.\n",
    "    dummy_value (str): The value to use for the dummy level of the MultiIndex.\n",
    "\n",
    "    Returns:\n",
    "    pd.DataFrame: A DataFrame with a MultiIndex.\n",
    "    \"\"\"\n",
    "    # Ensure the DataFrame has a single level index\n",
    "    if not isinstance(df.index, pd.Index) or isinstance(df.index, pd.MultiIndex):\n",
    "        raise ValueError(\"DataFrame must have a single level index\")\n",
    "    \n",
    "    # Convert the existing index to a MultiIndex by adding a dummy level\n",
    "    df.index = pd.MultiIndex.from_tuples([(idx, dummy_value) for idx in df.index],\n",
    "                                         names=[top_level_name, dummy_level_name])\n",
    "    return df\n",
    "\n",
    "# Example usage\n",
    "data = {'Value': [10, 20, 30, 40, 50]}\n",
    "index = ['a', 'b', 'c', 'd', 'e']  # Single index column\n",
    "df = pd.DataFrame(data, index=index)\n",
    "\n",
    "# Convert to MultiIndex DataFrame\n",
    "df_multi = convert_to_multiindex(df)\n",
    "print(df_multi)\n"
   ]
  },
  {
   "cell_type": "code",
   "execution_count": null,
   "id": "b288c706",
   "metadata": {},
   "outputs": [],
   "source": []
  }
 ],
 "metadata": {
  "hide_input": false,
  "kernelspec": {
   "display_name": "Python 3 (ipykernel)",
   "language": "python",
   "name": "python3"
  },
  "language_info": {
   "codemirror_mode": {
    "name": "ipython",
    "version": 3
   },
   "file_extension": ".py",
   "mimetype": "text/x-python",
   "name": "python",
   "nbconvert_exporter": "python",
   "pygments_lexer": "ipython3",
   "version": "3.10.11"
  },
  "toc": {
   "base_numbering": 1,
   "nav_menu": {},
   "number_sections": true,
   "sideBar": false,
   "skip_h1_title": false,
   "title_cell": "Table of Contents",
   "title_sidebar": "Contents",
   "toc_cell": false,
   "toc_position": {},
   "toc_section_display": true,
   "toc_window_display": false
  },
  "varInspector": {
   "cols": {
    "lenName": 16,
    "lenType": 16,
    "lenVar": 40
   },
   "kernels_config": {
    "python": {
     "delete_cmd_postfix": "",
     "delete_cmd_prefix": "del ",
     "library": "var_list.py",
     "varRefreshCmd": "print(var_dic_list())"
    },
    "r": {
     "delete_cmd_postfix": ") ",
     "delete_cmd_prefix": "rm(",
     "library": "var_list.r",
     "varRefreshCmd": "cat(var_dic_list()) "
    }
   },
   "types_to_exclude": [
    "module",
    "function",
    "builtin_function_or_method",
    "instance",
    "_Feature"
   ],
   "window_display": false
  }
 },
 "nbformat": 4,
 "nbformat_minor": 5
}
