{
 "cells": [
  {
   "cell_type": "code",
   "execution_count": 11,
   "id": "a836a86b",
   "metadata": {},
   "outputs": [
    {
     "name": "stdout",
     "output_type": "stream",
     "text": [
      "diftype must be one of {'nodif', 'dif', 'difpct', 'lastdf', 'basedf'}, got noif\n"
     ]
    }
   ],
   "source": [
    "from dataclasses import dataclass, field\n",
    "\n",
    "@dataclass\n",
    "class Line:\n",
    "    \"\"\"\n",
    "    A dataclass for representing and validating line configurations for data display.\n",
    "\n",
    "    Attributes:\n",
    "        showtype (str): Specifies the type of data representation. Valid options are\n",
    "                        'level', 'growth', 'change', 'basedf', and 'gdppct'. Default is 'level'.\n",
    "        diftype (str): Specifies the type of difference calculation to apply. Valid options are\n",
    "                       'nodif', 'dif', 'difpct', 'basedf', and 'lastdf'. Default is 'nodif'.\n",
    "        rename (bool): If True, allows renaming of data columns. Default is True.\n",
    "        dec (int): Specifies the number of decimal places to use. Default is 2.\n",
    "    \"\"\"\n",
    "    \n",
    "    showtype: str = 'level'\n",
    "    diftype: str = 'nodif'\n",
    "    rename: bool = True\n",
    "    dec: int = 2\n",
    "\n",
    "    def __post_init__(self):\n",
    "        valid_showtypes = {'level', 'growth', 'change', 'basedf', 'gdppct'}\n",
    "        valid_diftypes = {'nodif', 'dif', 'difpct', 'basedf', 'lastdf'}\n",
    "        \n",
    "        if self.showtype not in valid_showtypes:\n",
    "            raise ValueError(f\"showtype must be one of {valid_showtypes}, got {self.showtype}\")\n",
    "        \n",
    "        if self.diftype not in valid_diftypes:\n",
    "            raise ValueError(f\"diftype must be one of {valid_diftypes}, got {self.diftype}\")\n",
    "\n",
    "# Example usage:\n",
    "try:\n",
    "    line_example = Line(showtype='level', diftype='noif', rename=False, dec=3)\n",
    "    print(line_example)\n",
    "except ValueError as e:\n",
    "    print()\n",
    "    print(e)\n"
   ]
  },
  {
   "cell_type": "code",
   "execution_count": 8,
   "id": "b66ef3ea",
   "metadata": {},
   "outputs": [],
   "source": [
    "Line?"
   ]
  },
  {
   "cell_type": "code",
   "execution_count": null,
   "id": "ec1da5df",
   "metadata": {},
   "outputs": [],
   "source": []
  }
 ],
 "metadata": {
  "hide_input": false,
  "kernelspec": {
   "display_name": "Python 3 (ipykernel)",
   "language": "python",
   "name": "python3"
  },
  "language_info": {
   "codemirror_mode": {
    "name": "ipython",
    "version": 3
   },
   "file_extension": ".py",
   "mimetype": "text/x-python",
   "name": "python",
   "nbconvert_exporter": "python",
   "pygments_lexer": "ipython3",
   "version": "3.10.11"
  },
  "toc": {
   "base_numbering": 1,
   "nav_menu": {},
   "number_sections": true,
   "sideBar": false,
   "skip_h1_title": false,
   "title_cell": "Table of Contents",
   "title_sidebar": "Contents",
   "toc_cell": false,
   "toc_position": {},
   "toc_section_display": true,
   "toc_window_display": false
  },
  "varInspector": {
   "cols": {
    "lenName": 16,
    "lenType": 16,
    "lenVar": 40
   },
   "kernels_config": {
    "python": {
     "delete_cmd_postfix": "",
     "delete_cmd_prefix": "del ",
     "library": "var_list.py",
     "varRefreshCmd": "print(var_dic_list())"
    },
    "r": {
     "delete_cmd_postfix": ") ",
     "delete_cmd_prefix": "rm(",
     "library": "var_list.r",
     "varRefreshCmd": "cat(var_dic_list()) "
    }
   },
   "types_to_exclude": [
    "module",
    "function",
    "builtin_function_or_method",
    "instance",
    "_Feature"
   ],
   "window_display": false
  }
 },
 "nbformat": 4,
 "nbformat_minor": 5
}
