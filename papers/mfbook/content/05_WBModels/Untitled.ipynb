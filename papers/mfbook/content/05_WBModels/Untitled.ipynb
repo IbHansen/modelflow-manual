{
 "cells": [
  {
   "cell_type": "code",
   "execution_count": 1,
   "id": "a836a86b",
   "metadata": {},
   "outputs": [
    {
     "name": "stdout",
     "output_type": "stream",
     "text": [
      "True\n",
      "True\n",
      "False\n",
      "True\n"
     ]
    }
   ],
   "source": [
    "class Parent:\n",
    "    pass\n",
    "\n",
    "class Child(Parent):\n",
    "    pass\n",
    "\n",
    "# Creating instances of the classes\n",
    "parent_instance = Parent()\n",
    "child_instance = Child()\n",
    "\n",
    "# Checking if the instances are instances of Parent\n",
    "print(isinstance(parent_instance, Parent))  # True, as parent_instance is a direct instance of Parent\n",
    "print(isinstance(child_instance, Parent))   # True, as child_instance is an instance of Child, which is a subclass of Parent\n",
    "\n",
    "# Checking if the instances are instances of Child\n",
    "print(isinstance(parent_instance, Child))   # False, as parent_instance is not an instance of Child or a subclass of Child\n",
    "print(isinstance(child_instance, Child))    # True, as child_instance is a direct instance of Child\n"
   ]
  },
  {
   "cell_type": "code",
   "execution_count": null,
   "id": "ec1da5df",
   "metadata": {},
   "outputs": [],
   "source": []
  }
 ],
 "metadata": {
  "hide_input": false,
  "kernelspec": {
   "display_name": "Python 3 (ipykernel)",
   "language": "python",
   "name": "python3"
  },
  "language_info": {
   "codemirror_mode": {
    "name": "ipython",
    "version": 3
   },
   "file_extension": ".py",
   "mimetype": "text/x-python",
   "name": "python",
   "nbconvert_exporter": "python",
   "pygments_lexer": "ipython3",
   "version": "3.10.11"
  },
  "toc": {
   "base_numbering": 1,
   "nav_menu": {},
   "number_sections": true,
   "sideBar": false,
   "skip_h1_title": false,
   "title_cell": "Table of Contents",
   "title_sidebar": "Contents",
   "toc_cell": false,
   "toc_position": {},
   "toc_section_display": true,
   "toc_window_display": false
  },
  "varInspector": {
   "cols": {
    "lenName": 16,
    "lenType": 16,
    "lenVar": 40
   },
   "kernels_config": {
    "python": {
     "delete_cmd_postfix": "",
     "delete_cmd_prefix": "del ",
     "library": "var_list.py",
     "varRefreshCmd": "print(var_dic_list())"
    },
    "r": {
     "delete_cmd_postfix": ") ",
     "delete_cmd_prefix": "rm(",
     "library": "var_list.r",
     "varRefreshCmd": "cat(var_dic_list()) "
    }
   },
   "types_to_exclude": [
    "module",
    "function",
    "builtin_function_or_method",
    "instance",
    "_Feature"
   ],
   "window_display": false
  }
 },
 "nbformat": 4,
 "nbformat_minor": 5
}
