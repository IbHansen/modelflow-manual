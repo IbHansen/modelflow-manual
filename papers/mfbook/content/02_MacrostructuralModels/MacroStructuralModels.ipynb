{
 "cells": [
  {
   "cell_type": "markdown",
   "id": "4be6997c",
   "metadata": {
    "tags": [
     "remove-cell"
    ]
   },
   "source": [
    "```{index} Macrostructural models\n",
    "```"
   ]
  },
  {
   "cell_type": "markdown",
   "id": "a8c2a467",
   "metadata": {},
   "source": [
    "# Macrostructural models\n",
    "\n",
    "The economics profession uses a wide range of models for different purposes.  Macro-structural models (also known as semi-structural or Macro-econometric models) are a class of models that seek to summarize the most important interconnections and determinants of economic activity in an economy. Computable General Equilibrium (CGE), and Dynamic Stochastic General Equilibrium (DSGE) models are other classes of models that also seek, using somewhat different methodologies, to capture the main economic channels by which the actions of agents (firms, households, governments) interact and help determine the structure, level and rate of growth of economic activity in an economy. \n",
    "\n",
    "Typically, organizations, including the World Bank, use all of these tools, privileging one or the other for specific purposes. Macrostructural models like those that comprise the `MFMod` framework are widely used by Central Banks, Ministries of Finance; and professional forecasters both for the purposes of generating forecasts and for undertaking policy analysis. \n",
    "\n",
    "While macrostructural models fell out of favor with academic economists, they remain central tools in policy making and forecasting circles. Olivier Blanchard, former Chief Economist at the International Monetary Fund, summarized his conclusions of a recent debate between several leading academics in a recent paper {cite:t}`blanchard_future_2018`. In it he lays out his views on the relative strengths and weaknesses of each of these systems. He argues that academic economists are wrong to discard out-of-hand policy models such as macro-structural models.  Rather until academic models improve, models such as the `MFmod` models should continue to play a central role in helping economists analyze the macro-economy. \n",
    "\n",
    "## A system of equations\n",
    "Mathematically, a macro-structural model is a system of equations comprised of two kinds of equations and three kinds of variables. \n",
    "\n",
    "**Types of variables in macro-structural models**"
   ]
  },
  {
   "cell_type": "markdown",
   "id": "d406307f",
   "metadata": {
    "tags": [
     "hide-cell"
    ]
   },
   "source": [
    "```{index} single: Identities\n",
    "```"
   ]
  },
  {
   "cell_type": "markdown",
   "id": "9b36535d",
   "metadata": {},
   "source": [
    "* ```Identities``` are variables that are determined by a well defined accounting rule that always holds. The famous GDP formula Y=C+I+G+(X-M) is one such identity, it indicates that GDP at market prices is **definitionally** equal to Consumption plus Investment plus Government spending plus Exports less Imports.\n",
    "\n",
    "```{index} single: Behavioural Equations\n",
    "```\n",
    "\n",
    "* ```Behavioural``` variables are determined by equations that attempt to summarize an economic (vs accounting) relationship between variables, where the relationship is derived from economic theory. Thus, the Keynesian equation that says Real Consumption =  is a function of Disposable Income, the price level, and animal spirits is a behavioural equation. Because these behavioural equations only explain part of the variation in the variable they seek to explain, and because the sensitivities of variables to the changes in other variables are uncertain, these equations and their parameters are  typically estimated econometrically and are subject to error.\n",
    "\n",
    "```{index} single: Exogenous variables\n",
    "```\n",
    "* ```Exogenous``` variables are not determined by the model. Typically there are set either by assumption or from data external to the model.  For an individual country model, the exogenous variables might include the global price of crude oil  because the level of activity of a small economy itself is unlikely to affect the world price of oil. Similarly, the rate of growth of GDP in other economies may be treated as an exogenous variable, important to determining exports in the modelled developing country but following the small-country assumption deemed to be largely unaffected by activity in the modelled country.\n",
    "\n",
    "In a fully general form, the system of equations that comprise a model can be written as:"
   ]
  },
  {
   "cell_type": "markdown",
   "id": "d0d32a7d",
   "metadata": {},
   "source": [
    "\\begin{align*}\n",
    "y_t^1  &=  f^1(y_{t+u}^1...,y_{t+u}^n...,y_t^2...,y_{t}^n...y_{t-r}^1...,y_{t-r}^n,x_t^1...x_{t}^k,...x_{t-s}^1...,x_{t-s}^k) \\\\\n",
    "y_t^2  &=  f^2(y_{t+u}^1...,y_{t+u}^n...,y_t^1...,y_{t}^n...y_{t-r}^1...,y_{t-r}^n,x_t^1...x_{t}^k,...x_{t-s}^1...,x_{t-s}^k) \\\\\n",
    "\\vdots \\\\\n",
    "y_t^n  &=  f^n(y_{t+u}^1...,y_{t+u}^n...,y_t^1...,y_{t}^{n-1}...y_{t-r}^1...,y_{t-r}^n,x_t^1...x_{t}^r,x..._{t-s}^1...,x_{t-s}^k)\n",
    "\\end{align*}\n",
    "\n",
    "where $ y_t^1 $ is one of n endogenous variables and $x_t^1$ is an exogenous variable and there are as many equations as there are unknown (endogenous variables).\n",
    "\n",
    "Substituting the variable mnemonics Y,C,I,G,X,M for the y's above, a simple macrostructural model can be written as as a system of 6 equations in 6 unknowns:\n",
    "\n",
    "\\begin{align*}\n",
    "Y_t  &=  C_t+I_t+G+t+ (X_t-M_t) \\\\\n",
    "C_t &= c(C_{t-1},C_{t-2},I_t,G_t,X_t,M_t,P_t)\\\\\n",
    "I_t &= i(I_{t-1},I_{t-2},C_t,G_t,X_t,M_t,P_t)\\\\\n",
    "G_t &= g(G_{t-1},G_{t-2},C_t,I_t,X_t,M_t,P_t)\\\\\n",
    "X_t &= x(X_{t-1},X_{t-2},C_t,I_t,G_t,M_t,P_t,P^f_t)\\\\\n",
    "M_t &= m(M_{t-1},M_{t-2},C_t,I_t,G_t,X_t,P_t,P^f_t)\n",
    "\\end{align*}\n",
    "\n",
    "Where $P_t, P^f_t$ (domestic and foreign prices, respectively) are exogenous in this simple model. "
   ]
  }
 ],
 "metadata": {
  "celltoolbar": "Edit Metadata",
  "hide_input": false,
  "kernelspec": {
   "display_name": "Python 3 (ipykernel)",
   "language": "python",
   "name": "python3"
  },
  "language_info": {
   "codemirror_mode": {
    "name": "ipython",
    "version": 3
   },
   "file_extension": ".py",
   "mimetype": "text/x-python",
   "name": "python",
   "nbconvert_exporter": "python",
   "pygments_lexer": "ipython3",
   "version": "3.10.11"
  },
  "toc": {
   "base_numbering": 1,
   "nav_menu": {},
   "number_sections": true,
   "sideBar": true,
   "skip_h1_title": false,
   "title_cell": "Table of Contents",
   "title_sidebar": "Contents",
   "toc_cell": false,
   "toc_position": {},
   "toc_section_display": true,
   "toc_window_display": false
  }
 },
 "nbformat": 4,
 "nbformat_minor": 5
}
