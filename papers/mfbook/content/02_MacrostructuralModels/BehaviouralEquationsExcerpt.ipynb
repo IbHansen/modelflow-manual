{
 "cells": [
  {
   "cell_type": "code",
   "execution_count": null,
   "id": "9130f6a3",
   "metadata": {},
   "outputs": [],
   "source": [
    "## Behavioural equations\n",
    "\n",
    "Behavioural equations in a macrostructural equation are typically estimated. In MFMod they are often expressed in Error Correction form. In this approach the behaviour of the dependent variable (say Consumption) is assumed to be the joint product of a long-term economic relationship -- usually drawn from economic theory, and various short-run influences which can be more ad hoc in nature. The ECM formulation has the advantage of tieing down the long run behavior of the economy to economic theory, while allowing its short-run dynamics (where short-run can in some cases be 5 or more years) to reflect the way the economy actually operates (not how textbooks say it should behave).\n",
    "\n",
    "For the consumption equation, utility maximization subject to a budget constraint might lead us to define a long run relationship like this :\n",
    "\n",
    "\n",
    "$$\n",
    "\\begin{align}\n",
    "C_t &= \\alpha + \\beta_1{\\frac{rK_t + WB_{t} + GTR_{t}(1-\\tau^{Direct}}{PC_t}}\\\\\n",
    "&-\\beta_3(r_t-\\dot{p}_t)*(1-\\tau^{Direct})*\\bigg[{\\frac{rK_t + WB_{t} + GTR_{t}(1-\\tau^{Direct}}{PC_t}}\\bigg] +\\eta_t\n",
    "\\end{align}$$\n",
    "\n",
    "Where real disposable income is given by interest earned on capital ($rK_t$) plus earnings from labour ($WB_{t}$) + Government transfers to households ($GTR_{t}$) and can be written as $Y^{Disp}_t$.\n",
    "\n",
    "Replacing the expression following $\\beta_1$ with $Y^{disp}_t$, the above simplifies and can be rewritten as:\n",
    "\n",
    "$$ C_t= (\\alpha + \\beta_1{Y^{disp}_t}-\\beta_3(r_t-\\dot{p}_t)*Y^{Disp}_t)$$\n",
    "\n",
    "\n",
    "dividing both sides by $Y^{disp}_t$ and taking the limit as ${Y^{disp}_t} => \\infty$ (at which point $\\frac{\\alpha}{Y^{disp}_t} => 0$, giving:\n",
    "\n",
    "$$\\frac{C_t}{Y^{disp}_t} = \\beta_1 -\\beta_3\\frac{r_t-\\dot{p}_t}{Y^{disp}_t}$$\n",
    "\n",
    "Implying that in the long run consumption ($C_t$) for a given interest rate is a stable share of real disposable income, and a  constant savings rate. The final term reflects the influence of real interest rates on final consumption, such that as real interest rates rise consumption as a share of disposable income declines (the savings rate rises). \n",
    "\n",
    "\n",
    "\n",
    "Rewritten in logarithms gives:\n",
    "\n",
    "$${c_{t-1}}-{y^{disp}_{t-1}} - ln(\\beta_1) +\\beta_3 ln(r_{t-1}-\\dot{p}_{t-1} -{y^{disp}_{t-1}})=\\eta_{t-1}$$\n",
    "\n",
    "we can then write our ECM equation as\n",
    "\n",
    "$$ \\Delta c_t = -\\lambda(\\eta_{t-1})+ SR_t $$\n",
    "\n",
    "Substituting the LR expression for the error term in t-1 we get \n",
    "\n",
    "$$ \\Delta c_t = -\\lambda({c_{t-1}}-{y^{disp}_{t-1}} - ln(\\beta_1) +\\beta_3 ln(r_{t-1}-\\dot{p}_{t-1}))+ \\beta_{SR1}{y^{disp}_{t}} - \\beta_{SR2}ln(r_{t}-\\dot{p}_{t})  $$\n",
    "\n",
    "where $\\beta+1$ is the savings rate (for zero real interest rates), $\\beta_3$ is the long run elasticity of the consumption rate to real interest rates,  $\\beta_{SR1}$ is the short run elasticity of consumption to disposable income; $\\beta_{SR2}$ is the short run real interest rate elasticity of consumption and $\\lambda$ is the speed of adjustment (the rate at which past errors are corrected in each period).\n",
    "\n",
    "{cite:t}`burns_world_2019` provides more complete derivations of the functional forms for most of the behavioural equations in MFmod.\n",
    "\n",
    "\n",
    "\n"
   ]
  }
 ],
 "metadata": {
  "hide_input": false,
  "kernelspec": {
   "display_name": "Python 3 (ipykernel)",
   "language": "python",
   "name": "python3"
  },
  "language_info": {
   "codemirror_mode": {
    "name": "ipython",
    "version": 3
   },
   "file_extension": ".py",
   "mimetype": "text/x-python",
   "name": "python",
   "nbconvert_exporter": "python",
   "pygments_lexer": "ipython3",
   "version": "3.9.12"
  },
  "toc": {
   "base_numbering": 1,
   "nav_menu": {},
   "number_sections": true,
   "sideBar": true,
   "skip_h1_title": false,
   "title_cell": "Table of Contents",
   "title_sidebar": "Contents",
   "toc_cell": false,
   "toc_position": {},
   "toc_section_display": true,
   "toc_window_display": false
  }
 },
 "nbformat": 4,
 "nbformat_minor": 5
}
