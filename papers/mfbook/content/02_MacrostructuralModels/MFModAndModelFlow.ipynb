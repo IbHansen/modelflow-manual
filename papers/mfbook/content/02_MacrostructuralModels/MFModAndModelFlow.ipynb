{
 "cells": [
  {
   "cell_type": "markdown",
   "id": "8cec6723",
   "metadata": {},
   "source": [
    "# Modelflow and the MFMod models of the World Bank\n",
    "\n",
    "At the World Bank models built using the MFMod framework are developed in [EViews](eviews.com). When disseminated to clients, the models are solved and simulated using EViews, although often through the intermediary of an easy-to-use customized excel EViews environment developed by the World Bank. That said, as a systems of equations and associated data, the models can be solved and operated under any system capable of solving a system of simultaneous equations. ```Modelflow``` is such a system and offers a wide range of features that permit not only solving the model, but also provide a rich and powerful suite of tools for analyzing the model and reporting results.\n",
    "\n",
    "```{index} single: Modelflow History\n",
    "```\n",
    "## A brief history of ModelFlow\n",
    "\n",
    "Modelflow is a python library that was developed by Ib Hansen over several years while working at the Danish Central Bank and the European Central Bank. The framework has been used both to port the U.S. Federal Reserve's macro-structural  model to python, but also been used to bring several stress-testing models developed by Central Banks into the python environment.  \n",
    "\n",
    "Beginning in 2019, Hansen has worked with the World Bank to develop additional features that facilitate working with models built using the Bank's MFMod Framework, with the objective of creating an open source platform through which the Bank's models can be made available to the public.  \n",
    "\n",
    "This paper, and the models that accompany it, are the product of this collaboration.\n"
   ]
  }
 ],
 "metadata": {
  "hide_input": false,
  "kernelspec": {
   "display_name": "Python 3 (ipykernel)",
   "language": "python",
   "name": "python3"
  },
  "language_info": {
   "codemirror_mode": {
    "name": "ipython",
    "version": 3
   },
   "file_extension": ".py",
   "mimetype": "text/x-python",
   "name": "python",
   "nbconvert_exporter": "python",
   "pygments_lexer": "ipython3",
   "version": "3.10.11"
  },
  "toc": {
   "base_numbering": 1,
   "nav_menu": {},
   "number_sections": true,
   "sideBar": true,
   "skip_h1_title": false,
   "title_cell": "Table of Contents",
   "title_sidebar": "Contents",
   "toc_cell": false,
   "toc_position": {},
   "toc_section_display": true,
   "toc_window_display": false
  }
 },
 "nbformat": 4,
 "nbformat_minor": 5
}
