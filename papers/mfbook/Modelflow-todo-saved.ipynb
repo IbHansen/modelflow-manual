{
 "cells": [
  {
   "cell_type": "markdown",
   "id": "f8b75d05",
   "metadata": {},
   "source": [
    "# Papers/ModelFlow-todo.md"
   ]
  },
  {
   "cell_type": "markdown",
   "id": "521cb480",
   "metadata": {},
   "source": [
    "##\tRevise accessing world bank model chapter\n",
    "- [x] ~Temporarily make models available on WB site~ (AB)\n",
    "- [x] ~Communicate uRl to ib https://github.com/worldbank/MFMod-ModelFlow~ (AB)\n",
    "- [ ] Review content of JNs and sites in general (IB)\n",
    "    - test models (run standard shocks file) (Ib)    \n",
    "- [ ] Add additional models (AB -- somehow these changes were lost.  Has been done for Nepal)\n",
    "    - [x] Indonesia\n",
    "        - [x] ~revise the standard shocks using new plot functionality~\n",
    "    - [x ] Pakistan\n",
    "        - [x ] ~revise the standard shocks using new plot functionality~\n",
    "        - [ ] Check the shocks, some are not very conforming (using _1) (AB)\n",
    "    - [x] ~Nepal~\n",
    "        - [x] ~revise the standard shocks using new plot functionality~\n",
    "        - [x] ~move standard shock from wb repo to WBGModels repo~\n",
    "    - Uganda (climate inclusive of Natural Capital)\n",
    "    - Indonesia (add a climate change scenario to standard shock (Carbon tax))\n",
    "        - [x ] ~revise the standard shocks using new plot functionality~\n",
    "    - Bolivia (normal) (Ib)\n",
    "        - [ ] Ab to provide EViews\n",
    "    - Iraq (normal) (ib)\n",
    "        - [ ] Ab to provide EViews\n",
    "    - Croatia (quarterly)\n",
    "        - [x] ~vAb to provide EViews~\n",
    "        - [x] ~Revise text so ir reflects results better~\n",
    "        - [x ] Add report at the end\n",
    "- [ ] Test adding World Bank site for documentation or in this repo?\n",
    "    - [ ] Generate html to local copy of WB repo (for easy sync to WB site)\n",
    "    - [  ] Hardcode the URL into ModelFlow when the models are in place (Ib)\n",
    "\n",
    "- [ ] Clean up current repo so its publishable"
   ]
  },
  {
   "cell_type": "markdown",
   "id": "eaf5f302",
   "metadata": {},
   "source": [
    "## Revise Modelflow Methods Reference\n",
    "- [x] ~Think through structure (mirror book?) (AB)~\n",
    "    - [x] ~Propose alternative structure (AB)~\n",
    "- [ ] Make the topics more coherent in design / length and what they do (AB)\n",
    "    - ~[x] Could we think of a template for these (Ib/AB)~\n",
    "- [ ] Identify things that absolutely need to be there but are not\n",
    "    - [ ] Propose things to add (Ib)\n",
    "    - [ ] Propose things to drop (Ib/AB) \n",
    "        - [ ] Agreed to drop additional plot examples boxplot\n",
    "- [ ] Decide whether or not to put this section on line only (living document)\n",
    "    - [ ] Possible how to move an eviews model into MF based on existing one\n",
    "- [x] ~Revise keep_plot discussions to the new plot_scenarios syntax throughout (ib)~\n"
   ]
  },
  {
   "cell_type": "markdown",
   "id": "c12b0ea9",
   "metadata": {},
   "source": [
    "## Clean up Index\n",
    "\n",
    "- [ ] Ensure double entries for things like method – one that points to text and the other to code. (Ib) Example <br>\n",
    "-- Pandas<br>\n",
    "    -- .loc() method<br>\n",
    "-- .loc() method<br>\n",
    "-- Specifying a specific data point or data range\n",
    "- [ ] Fix problems (back ticks)\n",
    "- [X] ~Some items like .upd options should be made two level entries (Ib)~"
   ]
  },
  {
   "cell_type": "markdown",
   "id": "97ceaa68",
   "metadata": {},
   "source": [
    "## Test installation\n",
    "- [ ] One is with reviewers i.e. Lasse\n",
    "    - [ ] Add advice to update anaconda before install\n",
    "- [ ] Test on linux (AB)\n",
    "- [x] ~Test  linux on windows WSL (Ib)~\n",
    "- [ ] Test on sandbox (Ib)\n",
    "- [x] ~Test on Macintosh (Ib)~\n",
    "    -[ ] Revise documentation to make clear how to get back to modelflow once installed on MAC\n",
    "    -[ ] Add MAC Latex advice\n",
    "    "
   ]
  },
  {
   "cell_type": "markdown",
   "id": "393534f3",
   "metadata": {},
   "source": [
    "##\tOrganize external review / commentators (AB)\n",
    "- [x] Dave Turner (OECD)\n",
    "- [x] Jean-Louis Brillet (INSEE)\n",
    "- [x] Jacob Gyntelberg\n",
    "- [x] Flint Brayton\n",
    "- [x] Lasse Tryde"
   ]
  },
  {
   "cell_type": "markdown",
   "id": "243202b2",
   "metadata": {},
   "source": [
    "# Deal with Feedback\n",
    "\n",
    "## Lasse\n",
    "- [X] ~Problem with model dashboard (interactive widget [Ib])~\n",
    "- [X] ~Apple installation (ib)~ \n",
    "- [X] ~Andrew to get MAC from IT and see if he can install~\n",
    "- [x] ~jupyter hangs /try python 3.12 and test if dependencies works as expected  (Ib)~\n",
    "- [x] ~Adjust modelflow source so it works on 3.12 and with new versions of pandas and other libraries (Ib)~\n",
    "\n"
   ]
  },
  {
   "cell_type": "markdown",
   "id": "999a8023",
   "metadata": {},
   "source": [
    "## Finalize text\n",
    "- [ ] Make sure tables look good (latex)\n",
    "- [ ] Make sure there are no trailing outputs -- i,.e, places where we need to add ;\n",
    "- [ ] Ensure we don't have unhappy page breaks\n",
    "- [x] ~Revise keep_plot discussions to the new plot_scenarios syntax throughout (ib)~\n",
    "- [x] ~Hunt down plot_keep and kill [ib]~\n",
    "- [ ] Andrew review Report writing rewrite\n",
    "- [x] ~Hunt down the mul100s and delete~\n",
    "- [x] ~Update images to reflect current outputs~ Done as of Oct 2\n",
    "\n",
    "## Before submitting to Reproducibility lab\n",
    "\n",
    "- [x] Update images needs to be redone before sending to reproducibility lab\n",
    "- [ ] Make sure WB repo has the most recent version of documentation html\n",
    "\n"
   ]
  },
  {
   "cell_type": "markdown",
   "id": "4cc17a04",
   "metadata": {},
   "source": []
  }
 ],
 "metadata": {
  "hide_input": false,
  "kernelspec": {
   "display_name": "Python 3 (ipykernel)",
   "language": "python",
   "name": "python3"
  },
  "language_info": {
   "codemirror_mode": {
    "name": "ipython",
    "version": 3
   },
   "file_extension": ".py",
   "mimetype": "text/x-python",
   "name": "python",
   "nbconvert_exporter": "python",
   "pygments_lexer": "ipython3",
   "version": "3.12.6"
  },
  "nbTranslate": {
   "displayLangs": [
    "*"
   ],
   "hotkey": "alt-t",
   "langInMainMenu": true,
   "sourceLang": "en",
   "targetLang": "fr",
   "useGoogleTranslate": true
  },
  "toc": {
   "base_numbering": 1,
   "nav_menu": {},
   "number_sections": true,
   "sideBar": true,
   "skip_h1_title": false,
   "title_cell": "Table of Contents",
   "title_sidebar": "Contents",
   "toc_cell": false,
   "toc_position": {},
   "toc_section_display": true,
   "toc_window_display": false
  },
  "varInspector": {
   "cols": {
    "lenName": 16,
    "lenType": 16,
    "lenVar": 40
   },
   "kernels_config": {
    "python": {
     "delete_cmd_postfix": "",
     "delete_cmd_prefix": "del ",
     "library": "var_list.py",
     "varRefreshCmd": "print(var_dic_list())"
    },
    "r": {
     "delete_cmd_postfix": ") ",
     "delete_cmd_prefix": "rm(",
     "library": "var_list.r",
     "varRefreshCmd": "cat(var_dic_list()) "
    }
   },
   "types_to_exclude": [
    "module",
    "function",
    "builtin_function_or_method",
    "instance",
    "_Feature"
   ],
   "window_display": false
  }
 },
 "nbformat": 4,
 "nbformat_minor": 5
}
