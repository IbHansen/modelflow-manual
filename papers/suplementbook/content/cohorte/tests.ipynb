{
 "cells": [
  {
   "cell_type": "code",
   "execution_count": 1,
   "id": "825867d6",
   "metadata": {},
   "outputs": [],
   "source": [
    "from pprint import pprint\n",
    "\n",
    "from modelconstruct import Mexplode\n",
    "import modeljupytermagic "
   ]
  },
  {
   "cell_type": "code",
   "execution_count": 2,
   "id": "8619ea14",
   "metadata": {},
   "outputs": [],
   "source": [
    "%load_ext autoreload\n",
    "%autoreload 2"
   ]
  },
  {
   "cell_type": "code",
   "execution_count": 3,
   "id": "a833028e",
   "metadata": {},
   "outputs": [],
   "source": [
    "replacements=[('__ab','__{sexes}__{ages_before}'),('__a','__{sexes}__{ages}')]"
   ]
  },
  {
   "cell_type": "code",
   "execution_count": 4,
   "id": "ca90e7cc",
   "metadata": {},
   "outputs": [
    {
     "data": {
      "text/markdown": [
       "# Preface \n",
       "This is a text"
      ],
      "text/plain": [
       "<IPython.core.display.Markdown object>"
      ]
     },
     "metadata": {},
     "output_type": "display_data"
    }
   ],
   "source": [
    "%%mdmodel demography  segment=textmain\n",
    "# Preface \n",
    "This is a text "
   ]
  },
  {
   "cell_type": "code",
   "execution_count": 5,
   "id": "e2553e56",
   "metadata": {},
   "outputs": [
    {
     "data": {
      "text/markdown": [
       "# A demography model \n",
       "First we define some lists    \n",
       "```text\n",
       "> list ages = ages : age_0 * age_11    \n",
       "> list sexes = sexes   : female male /   \n",
       ">             fertile :     1     0   \n",
       "```\n",
       "    \n",
       "## primo population is (ultimo)population in age group before  \n",
       "```text\n",
       ">doable [ages ages_nostart]  pop_primo__a = pop__ab(-1)     \n",
       "```\n",
       "\n",
       "## For first age group the population depends on all births \n",
       "```text\n",
       ">doable [ages ages_start]   pop_before_death__a   = birth__total__{sexes} + migration__a  \n",
       ">doable [ages ages_nostart] pop_before_death__a   = pop_primo__a + migration__a   \n",
       "```\n",
       "\n",
       "## --- Step 3: Deaths ---\n",
       "```text\n",
       ">doable  [ages ages_end ]  death_rate__a =1.0   \n",
       ">doable  <sum=total>          death__a = pop_before_death__a  * death_rate__a   \n",
       "```\n",
       "\n",
       "## --- Step 4: End-of-period population ---\n",
       "```text\n",
       ">doable  <sum=total>          pop__a  = pop_before_death__a  - death__a   \n",
       "```\n",
       "\n",
       "##  --- Step 5: Births from fertile ages (all except AGE_0) ---\n",
       "```text\n",
       "do ages ages_nostart = 1   \n",
       "   do    sexes fertile = 1   \n",
       "```\n",
       "        birth__a = pop_primo__a * fertility__a  \n",
       "```text\n",
       "   enddo   \n",
       "enddo \n",
       "```\n",
       "\n",
       "birth_total = sum(ages ages_nostart=1,sum(sexes fertile=1,birth__a))          \n",
       "\n",
       "birth__total__female = FRAC_BIRTH__female * birth_total   \n",
       "birth__total__male = (1 - FRAC_BIRTH__female) * birth_total  \n",
       "\n",
       "\n",
       "##  --- Step 6: Totals and consistency check ---\n",
       "migration__total = sum(ages,sum(sexes,migration__a))  \n",
       "pop__total_check  = (pop__total(-1) + birth__total + migration__total - death__total) - pop__total"
      ],
      "text/plain": [
       "<IPython.core.display.Markdown object>"
      ]
     },
     "metadata": {},
     "output_type": "display_data"
    }
   ],
   "source": [
    "%%mdmodel demography all replacements=[('__ab','__{sexes}__{ages_before}'),('__a','__{sexes}__{ages}')] segment=main\n",
    "\n",
    "# A demography model \n",
    "First we define some lists    \n",
    "> list ages = ages : age_0 * age_11    \n",
    "> list sexes = sexes   : female male /   \n",
    ">             fertile :     1     0   \n",
    "    \n",
    "## primo population is (ultimo)population in age group before  \n",
    ">doable [ages ages_nostart]  pop_primo__a = pop__ab(-1)     \n",
    "\n",
    "## For first age group the population depends on all births \n",
    ">doable [ages ages_start]   pop_before_death__a   = birth__total__{sexes} + migration__a  \n",
    ">doable [ages ages_nostart] pop_before_death__a   = pop_primo__a + migration__a   \n",
    "\n",
    "## --- Step 3: Deaths ---\n",
    ">doable  [ages ages_end ]  death_rate__a =1.0   \n",
    ">doable  <sum=total>          death__a = pop_before_death__a  * death_rate__a   \n",
    "\n",
    "## --- Step 4: End-of-period population ---\n",
    ">doable  <sum=total>          pop__a  = pop_before_death__a  - death__a   \n",
    "\n",
    "##  --- Step 5: Births from fertile ages (all except AGE_0) ---\n",
    "do ages ages_nostart = 1   \n",
    "   do    sexes fertile = 1   \n",
    "        birth__a = pop_primo__a * fertility__a  \n",
    "   enddo   \n",
    "enddo \n",
    "\n",
    "birth_total = sum(ages ages_nostart=1,sum(sexes fertile=1,birth__a))          \n",
    "\n",
    "birth__total__female = FRAC_BIRTH__female * birth_total   \n",
    "birth__total__male = (1 - FRAC_BIRTH__female) * birth_total  \n",
    "\n",
    "\n",
    "##  --- Step 6: Totals and consistency check ---\n",
    "migration__total = sum(ages,sum(sexes,migration__a))  \n",
    "pop__total_check  = (pop__total(-1) + birth__total + migration__total - death__total) - pop__total  \n",
    "\n",
    "\n"
   ]
  },
  {
   "cell_type": "code",
   "execution_count": 6,
   "id": "01cca99b",
   "metadata": {
    "scrolled": false
   },
   "outputs": [
    {
     "data": {
      "text/plain": [
       "dict_keys(['textmain', 'main'])"
      ]
     },
     "execution_count": 6,
     "metadata": {},
     "output_type": "execute_result"
    }
   ],
   "source": [
    "demography_dict.keys() "
   ]
  },
  {
   "cell_type": "code",
   "execution_count": 7,
   "id": "344aba22",
   "metadata": {},
   "outputs": [
    {
     "name": "stdout",
     "output_type": "stream",
     "text": [
      "no magic\n"
     ]
    },
    {
     "name": "stderr",
     "output_type": "stream",
     "text": [
      "UsageError: %%mdmodel is a cell magic, but the cell body is empty.\n"
     ]
    }
   ],
   "source": [
    "%%mdmodel demography all \n"
   ]
  }
 ],
 "metadata": {
  "hide_input": false,
  "kernelspec": {
   "display_name": "Python 3 (ipykernel)",
   "language": "python",
   "name": "python3"
  },
  "language_info": {
   "codemirror_mode": {
    "name": "ipython",
    "version": 3
   },
   "file_extension": ".py",
   "mimetype": "text/x-python",
   "name": "python",
   "nbconvert_exporter": "python",
   "pygments_lexer": "ipython3",
   "version": "3.12.8"
  },
  "toc": {
   "base_numbering": 1,
   "nav_menu": {},
   "number_sections": true,
   "sideBar": false,
   "skip_h1_title": false,
   "title_cell": "Table of Contents",
   "title_sidebar": "Contents",
   "toc_cell": false,
   "toc_position": {},
   "toc_section_display": true,
   "toc_window_display": false
  },
  "varInspector": {
   "cols": {
    "lenName": 16,
    "lenType": 16,
    "lenVar": 40
   },
   "kernels_config": {
    "python": {
     "delete_cmd_postfix": "",
     "delete_cmd_prefix": "del ",
     "library": "var_list.py",
     "varRefreshCmd": "print(var_dic_list())"
    },
    "r": {
     "delete_cmd_postfix": ") ",
     "delete_cmd_prefix": "rm(",
     "library": "var_list.r",
     "varRefreshCmd": "cat(var_dic_list()) "
    }
   },
   "types_to_exclude": [
    "module",
    "function",
    "builtin_function_or_method",
    "instance",
    "_Feature"
   ],
   "window_display": false
  }
 },
 "nbformat": 4,
 "nbformat_minor": 5
}
