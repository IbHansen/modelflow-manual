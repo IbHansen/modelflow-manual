{
 "cells": [
  {
   "cell_type": "markdown",
   "id": "706a1bec",
   "metadata": {},
   "source": [
    "# A Population Model\n",
    "\n",
    "This section introduces a simplified **population model** designed to illustrate how *ModelFlow* handles **cohort dynamics**, **age transitions**, and **causal dependencies**.\n",
    "\n",
    "The model tracks population changes across age groups and sexes, incorporating key demographic processes such as:\n",
    "\n",
    "- **Births** — introducing new individuals into the youngest cohort  \n",
    "- **Deaths** — removing individuals from each age group based on age-specific mortality rates  \n",
    "- **Migration** — adjusting population levels through net inflows or outflows  \n",
    "- **Aging** — transferring individuals from one age group to the next over time  \n",
    "\n",
    "Through automatic list expansion and dependency tracing, *ModelFlow* enables clear and compact equation definitions while maintaining full transparency of the underlying causal structure."
   ]
  },
  {
   "cell_type": "code",
   "execution_count": 1,
   "id": "825867d6",
   "metadata": {},
   "outputs": [],
   "source": [
    "#from pprint import pprint\n",
    "from IPython.display import display, Math, Latex, Markdown , Image, SVG, display_svg,IFrame    \n",
    "from modelreport import LatexRepo\n",
    "from model_latex_class import a_latex_model\n",
    "\n",
    "from modelconstruct import Mexplode,mfmod_list_to_codeblock\n"
   ]
  },
  {
   "cell_type": "code",
   "execution_count": 2,
   "id": "8619ea14",
   "metadata": {
    "tags": [
     "remove-cell"
    ]
   },
   "outputs": [],
   "source": [
    "%load_ext autoreload\n",
    "%autoreload 2"
   ]
  },
  {
   "cell_type": "code",
   "execution_count": 3,
   "id": "5c35ec36",
   "metadata": {
    "scrolled": false,
    "tags": [
     "hide-output"
    ]
   },
   "outputs": [],
   "source": [
    "eq = r'''\n",
    "\n",
    "Two lists of technology  are defined: \n",
    "    \n",
    "$List \\; i =\\{Oil, Coal, Gas, Biomass, Solar, Wind, Hydro, Geothermal\\} \\\\  \n",
    "         fosile: \\{  1 , 1, 1, 0, 0, 0, 0, 0 \\}$  \n",
    "         \n",
    "         \n",
    "\n",
    "$List \\; j = \\{Oil, Coal, Gas, Biomass, Solar, Wind, Hydro, Geothermal \\}$\n",
    "\n",
    "\n",
    "\n",
    "Each technology is compared to all other based on the percieved costs and the preferences (choice likelihood) $F^{i,j}$ are calculated.\n",
    "\n",
    "\n",
    "\n",
    "For all technologies $F^{i,j}+F^{j,i} = 1 $\n",
    "\n",
    "\n",
    "\n",
    "\\begin{equation}\n",
    "\\label{eq:preferences}\n",
    "\\underbrace{F^{i,j}}_{Preferences} = \\frac{1}{\n",
    "1+exp(\n",
    "    \\frac{(Cost\\_argumented^{i}-Cost\\_argumented^{j})}{\\sigma^{i,j}} )}\n",
    "\\end{equation}\n",
    "'''\n",
    "lmodel = Mexplode(eq,type_input='latex')\n",
    "#lmodel.showcc"
   ]
  },
  {
   "cell_type": "code",
   "execution_count": 4,
   "id": "a87102c5",
   "metadata": {},
   "outputs": [
    {
     "data": {
      "text/html": [
       "\n",
       "        <iframe\n",
       "            width=\"100%\"\n",
       "            height=\"600\"\n",
       "            src=\"latex\\latex_test\\latex_test.pdf\"\n",
       "            frameborder=\"0\"\n",
       "            allowfullscreen\n",
       "            \n",
       "        ></iframe>\n",
       "        "
      ],
      "text/plain": [
       "<IPython.lib.display.IFrame at 0x1975806e720>"
      ]
     },
     "execution_count": 4,
     "metadata": {},
     "output_type": "execute_result"
    }
   ],
   "source": [
    "lmodel.pdf(height=600) "
   ]
  }
 ],
 "metadata": {
  "celltoolbar": "Tags",
  "hide_input": false,
  "kernelspec": {
   "display_name": "Python 3 (ipykernel)",
   "language": "python",
   "name": "python3"
  },
  "language_info": {
   "codemirror_mode": {
    "name": "ipython",
    "version": 3
   },
   "file_extension": ".py",
   "mimetype": "text/x-python",
   "name": "python",
   "nbconvert_exporter": "python",
   "pygments_lexer": "ipython3",
   "version": "3.12.8"
  },
  "toc": {
   "base_numbering": 1,
   "nav_menu": {},
   "number_sections": true,
   "sideBar": false,
   "skip_h1_title": false,
   "title_cell": "Table of Contents",
   "title_sidebar": "Contents",
   "toc_cell": false,
   "toc_position": {},
   "toc_section_display": true,
   "toc_window_display": false
  },
  "varInspector": {
   "cols": {
    "lenName": 16,
    "lenType": 16,
    "lenVar": 40
   },
   "kernels_config": {
    "python": {
     "delete_cmd_postfix": "",
     "delete_cmd_prefix": "del ",
     "library": "var_list.py",
     "varRefreshCmd": "print(var_dic_list())"
    },
    "r": {
     "delete_cmd_postfix": ") ",
     "delete_cmd_prefix": "rm(",
     "library": "var_list.r",
     "varRefreshCmd": "cat(var_dic_list()) "
    }
   },
   "types_to_exclude": [
    "module",
    "function",
    "builtin_function_or_method",
    "instance",
    "_Feature"
   ],
   "window_display": false
  }
 },
 "nbformat": 4,
 "nbformat_minor": 5
}
