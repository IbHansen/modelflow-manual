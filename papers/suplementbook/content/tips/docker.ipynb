{
 "cells": [
  {
   "cell_type": "markdown",
   "id": "915d5814",
   "metadata": {},
   "source": [
    "# Modelflow in docker\n",
    "Docker allows the user run programs in a container, without installing python and libraries on the host. "
   ]
  },
  {
   "cell_type": "markdown",
   "id": "422b7f5a",
   "metadata": {},
   "source": [
    "## Retrieve docker image \n",
    "There is now a docker image on docker hub - **ibhansen/modelflow** \n",
    "\n",
    "When docker is active (for instance by starting docker desktop)  it can be pulled by: "
   ]
  },
  {
   "cell_type": "code",
   "execution_count": null,
   "id": "ae206529",
   "metadata": {},
   "outputs": [],
   "source": [
    "docker pull ibhansen/modelflow "
   ]
  },
  {
   "cell_type": "markdown",
   "id": "3635d3c0",
   "metadata": {},
   "source": [
    "## Create a container which runs modelflow\n",
    "Now the docker image is on the local machine, and it only needs to be pulled again if a new version is available.\n",
    "\n",
    "Create a docker container which runs the image by: "
   ]
  },
  {
   "cell_type": "code",
   "execution_count": null,
   "id": "dbd2c0df",
   "metadata": {},
   "outputs": [],
   "source": [
    " docker run -it -p 8898:8888  ibhansen/modelflow:latest"
   ]
  },
  {
   "cell_type": "markdown",
   "id": "69a3c0bc",
   "metadata": {},
   "source": [
    "## Use modelflow\n",
    "To load the notebook which loads the model repo use this link\n",
    "<a href=\"http://localhost:8898/notebooks/Loadmodels.ipynb\" target=\"_blank\">http://localhost:8898/notebooks/Loadmodels.ipynb</a>\n",
    "\n",
    "When the notebook has opened do **`>cell>run all`**   \n",
    "\n",
    "If you want to start the jupyter file page use: "
   ]
  },
  {
   "cell_type": "markdown",
   "id": "62d562f9",
   "metadata": {},
   "source": [
    "If you want to start the jupyter start page just use this link: <a href=\"http://localhost:8898/notebooks\" target=\"_blank\">http://localhost:8898/notebooks</a>"
   ]
  },
  {
   "cell_type": "markdown",
   "id": "fadb036f",
   "metadata": {},
   "source": [
    "## Connect container to host file system \n",
    "The container can be connected to the host file system by using \n",
    "\n",
    " `-v \"host dictionary\": \"container dictionary`\n",
    " \n",
    "Note that even on a windows system use / and not \\ as a dictionary seperator. \n",
    "\n",
    "The container dictionary should be located at `/home/jovyan/work/`\n",
    "\n",
    "So this should work:                 "
   ]
  },
  {
   "cell_type": "code",
   "execution_count": null,
   "id": "366035f5",
   "metadata": {},
   "outputs": [],
   "source": [
    "docker run -it -p 8898:8888  `-v \"c:/my files\":\"/home/jovyan/work/my files\" ibhansen/modelflow:latest"
   ]
  },
  {
   "cell_type": "markdown",
   "id": "0a702026",
   "metadata": {},
   "source": [
    "## Port conflicts\n",
    "```{admonition} Port conflicts \n",
    "\n",
    "Be aware that the port 8898 should not be used by another process.<br>\n",
    "In general the container port is mapped to the host_port with: the<br>\n",
    " `-p host_port:container_port`\n",
    "clause. So if port 8898 is already used on the host you can \n",
    "replace 8898:8888 with 8899:8888 in the run statement \n",
    "\n",
    "> docker run -it -p 8898:8888  ibhansen/modelflow:latest \n",
    "\n",
    "To find if port 8898 is in use\n",
    "> netstat -aon | findstr :8898  \n",
    "```"
   ]
  },
  {
   "cell_type": "code",
   "execution_count": null,
   "id": "1ec72742",
   "metadata": {},
   "outputs": [],
   "source": []
  }
 ],
 "metadata": {
  "celltoolbar": "Tags",
  "hide_input": false,
  "kernelspec": {
   "display_name": "Python 3 (ipykernel)",
   "language": "python",
   "name": "python3"
  },
  "language_info": {
   "codemirror_mode": {
    "name": "ipython",
    "version": 3
   },
   "file_extension": ".py",
   "mimetype": "text/x-python",
   "name": "python",
   "nbconvert_exporter": "python",
   "pygments_lexer": "ipython3",
   "version": "3.10.11"
  },
  "toc": {
   "base_numbering": 1,
   "nav_menu": {},
   "number_sections": true,
   "sideBar": false,
   "skip_h1_title": false,
   "title_cell": "Table of Contents",
   "title_sidebar": "Contents",
   "toc_cell": false,
   "toc_position": {},
   "toc_section_display": true,
   "toc_window_display": false
  },
  "varInspector": {
   "cols": {
    "lenName": 16,
    "lenType": 16,
    "lenVar": 40
   },
   "kernels_config": {
    "python": {
     "delete_cmd_postfix": "",
     "delete_cmd_prefix": "del ",
     "library": "var_list.py",
     "varRefreshCmd": "print(var_dic_list())"
    },
    "r": {
     "delete_cmd_postfix": ") ",
     "delete_cmd_prefix": "rm(",
     "library": "var_list.r",
     "varRefreshCmd": "cat(var_dic_list()) "
    }
   },
   "types_to_exclude": [
    "module",
    "function",
    "builtin_function_or_method",
    "instance",
    "_Feature"
   ],
   "window_display": false
  }
 },
 "nbformat": 4,
 "nbformat_minor": 5
}
