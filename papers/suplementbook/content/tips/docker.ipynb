{
 "cells": [
  {
   "cell_type": "markdown",
   "id": "f8deeb11",
   "metadata": {},
   "source": [
    "# Modelflow in docker\n",
    "Docker allows the user run programs in a container, without installing python and libraries on the host. "
   ]
  },
  {
   "cell_type": "markdown",
   "id": "ada1db79",
   "metadata": {},
   "source": [
    "There is now a docker image on docker hub - **ibhansen/modelflow** \n",
    "\n",
    "When docker is active (for instance by starting docker desktop)  it can be pulled by: "
   ]
  },
  {
   "cell_type": "code",
   "execution_count": null,
   "id": "3ed468de",
   "metadata": {},
   "outputs": [],
   "source": [
    "docker pull ibhansen/modelflow "
   ]
  },
  {
   "cell_type": "markdown",
   "id": "bfdb65c5",
   "metadata": {},
   "source": [
    "Now the docker image is on the local machine, and it only needs to be pulled again if a new version is available.\n",
    "\n",
    "Create a docker container which runs the image by: "
   ]
  },
  {
   "cell_type": "code",
   "execution_count": null,
   "id": "057b946b",
   "metadata": {},
   "outputs": [],
   "source": [
    " docker run -it -p 8888:8888  ibhansen/modelflow:latest"
   ]
  },
  {
   "cell_type": "markdown",
   "id": "8fe36ac9",
   "metadata": {},
   "source": [
    "Now in the browser go to this url:[http://localhost:8888/notebooks/Loadmodels.ipynb)](http://localhost:8888/notebooks/Loadmodels.ipynb) \n",
    "\n",
    "And do `>cell>run all`  \n",
    "\n",
    "If you want to start the jupyter file page use: [http://localhost:8888/notebooks)](http://localhost:8888/notebooks) \n",
    "\n",
    "Be aware that the port 8888 should not be used by another process.<br>\n",
    "In general the container port is mapped to the host_port with: the<br>\n",
    " `-p host_port:container_port`\n",
    "clause. So if port 8888 is already used on the host you can \n",
    "replace 8888:8888 with 8895:8888 in the run statement:"
   ]
  },
  {
   "cell_type": "code",
   "execution_count": null,
   "id": "0bfd4933",
   "metadata": {},
   "outputs": [],
   "source": [
    " docker run -it -p 8895:8888  ibhansen/modelflow:latest "
   ]
  },
  {
   "cell_type": "markdown",
   "id": "c3f2d090",
   "metadata": {},
   "source": [
    "And then try: [http://localhost:8895/notebooks/Loadmodels.ipynb)](http://localhost:8895/notebooks/Loadmodels.ipynb) \n",
    "\n",
    "or for the file page:  [http://localhost:8895/notebooks)](http://localhost:8895/notebooks) \n"
   ]
  },
  {
   "cell_type": "markdown",
   "id": "9ef7ae62",
   "metadata": {},
   "source": [
    "To find if port 8888 is in use"
   ]
  },
  {
   "cell_type": "markdown",
   "id": "328b787e",
   "metadata": {},
   "source": [
    "netstat -aon | findstr :8888  "
   ]
  }
 ],
 "metadata": {
  "hide_input": false,
  "kernelspec": {
   "display_name": "Python 3 (ipykernel)",
   "language": "python",
   "name": "python3"
  },
  "language_info": {
   "codemirror_mode": {
    "name": "ipython",
    "version": 3
   },
   "file_extension": ".py",
   "mimetype": "text/x-python",
   "name": "python",
   "nbconvert_exporter": "python",
   "pygments_lexer": "ipython3",
   "version": "3.10.11"
  },
  "toc": {
   "base_numbering": 1,
   "nav_menu": {},
   "number_sections": true,
   "sideBar": false,
   "skip_h1_title": false,
   "title_cell": "Table of Contents",
   "title_sidebar": "Contents",
   "toc_cell": false,
   "toc_position": {},
   "toc_section_display": true,
   "toc_window_display": false
  },
  "varInspector": {
   "cols": {
    "lenName": 16,
    "lenType": 16,
    "lenVar": 40
   },
   "kernels_config": {
    "python": {
     "delete_cmd_postfix": "",
     "delete_cmd_prefix": "del ",
     "library": "var_list.py",
     "varRefreshCmd": "print(var_dic_list())"
    },
    "r": {
     "delete_cmd_postfix": ") ",
     "delete_cmd_prefix": "rm(",
     "library": "var_list.r",
     "varRefreshCmd": "cat(var_dic_list()) "
    }
   },
   "types_to_exclude": [
    "module",
    "function",
    "builtin_function_or_method",
    "instance",
    "_Feature"
   ],
   "window_display": false
  }
 },
 "nbformat": 4,
 "nbformat_minor": 5
}
