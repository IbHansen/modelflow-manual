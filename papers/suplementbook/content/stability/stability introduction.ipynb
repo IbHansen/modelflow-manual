{
 "cells": [
  {
   "cell_type": "markdown",
   "id": "e69cc15d",
   "metadata": {},
   "source": [
    "# Model stability, some background "
   ]
  },
  {
   "cell_type": "markdown",
   "id": "1fdff56b",
   "metadata": {},
   "source": [
    ":::{index} single: Stability; introduction \n",
    ":::"
   ]
  },
  {
   "cell_type": "code",
   "execution_count": 1,
   "id": "b7c0a261",
   "metadata": {
    "tags": [
     "remove-cell"
    ]
   },
   "outputs": [],
   "source": [
    "# HIDDEN in jupyterbook \n",
    "#This is code to manage dependencies if the notebook is executed in the google colab cloud service\n",
    "if 'google.colab' in str(get_ipython()):\n",
    "  import os\n",
    "  os.system('apt -qqq install graphviz')\n",
    "  os.system('pip -qqq install ModelFlowIb ipysheet  --no-dependencies ')"
   ]
  },
  {
   "cell_type": "markdown",
   "id": "fb4fa85e",
   "metadata": {},
   "source": [
    ":::{warning}\n",
    "This chapter is both unfinished and unpolished. Suggestions are very welcome.\n",
    "::: \n",
    "            \n",
    ":::{warning}\n",
    "Terminology varies very much between fields of study. \n",
    ":::             "
   ]
  },
  {
   "cell_type": "code",
   "execution_count": 2,
   "id": "computational-change",
   "metadata": {},
   "outputs": [],
   "source": [
    "import pandas as pd\n",
    "from IPython.display import display, HTML, Markdown\n",
    "\n",
    "\n",
    "from modelclass import model "
   ]
  },
  {
   "cell_type": "code",
   "execution_count": 3,
   "id": "leading-perth",
   "metadata": {
    "tags": [
     "remove-cell"
    ]
   },
   "outputs": [],
   "source": [
    "%load_ext autoreload\n",
    "%autoreload 2"
   ]
  },
  {
   "cell_type": "code",
   "execution_count": 4,
   "id": "072ce187",
   "metadata": {},
   "outputs": [],
   "source": [
    "latex=1"
   ]
  },
  {
   "cell_type": "markdown",
   "id": "cca2892f",
   "metadata": {
    "slideshow": {
     "slide_type": "slide"
    }
   },
   "source": [
    "## A model:\n",
    "\n",
    "A model with:\n",
    "\n",
    " - $\\textbf n$ number of endogeneous variables\n",
    " - $\\textbf k$ number of exogeneous variables \n",
    " - $\\textbf r$ max lag of endogeneous variables \n",
    " - $\\textbf s$ max lag of exogeneous variables \n",
    " - $t$ time frame (year, quarter, day second or another another unit)\n",
    " \n",
    "can be written in two ways, normalized or un-normalized form\n",
    "\n",
    "### normalized form\n",
    "\n",
    "\\begin{eqnarray}\n",
    "y_t^1 & = & y_t^2...,y_{t}^n...y_{t-r}^1...,y_{t-r}^n,x_t^1...x_{t}^k,...x_{t-s}^1...,x_{t-s}^k) \\\\\n",
    "y_t^2 & = & y_t^1...,y_{t}^n...y_{t-r}^1...,y_{t-r}^n,x_t^1...x_{t}^k,...x_{t-s}^1...,x_{t-s}^k) \\\\\n",
    "\\vdots \\\\\n",
    "y_t^n & = & y_t^1...,y_{t}^{n-1}...y_{t-r}^1...,y_{t-r}^n,x_t^1...x_{t}^r,x..._{t-s}^1...,x_{t-s}^k)\n",
    "\\end{eqnarray}\n",
    "\n",
    "\n",
    "\n",
    "Written in matrix notation where  $\\textbf{y}_t$ and $\\textbf{x}_t$ are vectors of endogenous/exogenous  variables for time t\n",
    "\n",
    "\\begin{eqnarray}  \n",
    "\\textbf{y}_t & = & \\textbf{F}( \\textbf{y}_t \\cdots \\textbf{y}_{t-r},\\textbf{x}_t \\cdots \\textbf{x}_{t-s})\n",
    "\\end{eqnarray}\n",
    "\n",
    "The functions are normalized, meaning: \n",
    "\n",
    "- Each endogenous variable is on the left hand side one time - and only one time.\n",
    "- An endogenous variable without lags can **not** be on the right hand side in an equation, which has the variable on the left hand side. "
   ]
  },
  {
   "cell_type": "markdown",
   "id": "e15c5125",
   "metadata": {},
   "source": [
    "## The derivatives\n",
    "We can express the matrices of derivatives with respect to the endogenous and exogenous variables like this: \n",
    "\n",
    "\n",
    "\\begin{eqnarray*}\n",
    "A & = & \\frac{\\partial F}{\\partial y_t^T} \\\\ \\\\\n",
    "E_i & = & \\frac{\\partial F}{\\partial y_{t-i}^T } \\hspace{5 mm} i=1, \\cdots , r\\\\  \\\\\n",
    "F_j & = & \\frac{\\partial F}{\\partial x_{t-j} ^T} \\hspace{5 mm} j=0, \\cdots , s\\\\  \\\\\n",
    "\\end{eqnarray*}\n",
    "\n"
   ]
  },
  {
   "cell_type": "markdown",
   "id": "e9b9ba20",
   "metadata": {},
   "source": [
    ":::{index} Stability; The companion matrix\n",
    ":::"
   ]
  },
  {
   "cell_type": "markdown",
   "id": "c020e7bf",
   "metadata": {},
   "source": [
    "## The companion matrix\n",
    "To calculate the effect of small perturbations around a solution the derivative matrices can be used.\n",
    "\n",
    "For simplicity a system with $r$ (max lag of endogenous variables) of 2 and $s$ (max lag of exogenous variables)  of 1 we have the linearized model:\n",
    "\n",
    "$\\Delta \\textbf{y}_t = \\textbf{A}\\Delta  \\textbf{y}_{t} + \\Delta E_1 \\textbf{y}_{t-1} + \\Delta E_2 \\textbf{y}_{t-2} +  E_3 \\Delta  \\textbf{y}_{t-3} + F_0 \\Delta x_t + F_1 \\Delta x_{t-1}$\n",
    "\n",
    "\n",
    "Rearranging the equation to isolate $\\Delta \\textbf{y}_{t}$ on the left side:\n",
    "\n",
    "$(\\mathbb{I}-\\textbf{A}) \\Delta \\textbf{y}_{t} = E_1 \\Delta \\textbf{y}_{t-1} + \\Delta E_2 \\textbf{y}_{t-2} + \\Delta E_3 \\textbf{y}_{t-3} + F_0 \\Delta x_t + F_1 \\Delta x_{t-1}$\n",
    "\n",
    "$\\Delta \\textbf{y}_{t} = (\\mathbb{I}-\\textbf{A})^{-1} E_1 \\Delta \\textbf{y}_{t-1} + (\\mathbb{I}-\\textbf{A})^{-1} \\Delta E_2 \\textbf{y}_{t-2} + (\\mathbb{I}-\\textbf{A})^{-1} \\Delta E_3 \\textbf{y}_{t-3} + (\\mathbb{I}-\\textbf{A})^{-1} F_0 \\Delta x_t +  (\\mathbb{I}-\\textbf{A})^{-1} F_1 \\Delta x_{t-1}$\n",
    "\n",
    "This is a 3th order system of difference equations. In order to be able to find the gain stability of the system it has to be rewritten as 1st order system of difference equations. That is a system with only one lag. Fortunately there is \n",
    "a standard way to do this. It runs as follow: \n",
    "\n",
    "\n",
    "Using the state vector:\n",
    "$\\textbf{z}_t = \\begin{bmatrix} \\textbf{y}_t \\\\ \\textbf{y}_{t-1} \\\\ \\textbf{y}_{t-2} \\end{bmatrix}$ and $\\textbf{w}_t = \\begin{bmatrix} \\textbf{x}_t \\\\ \\textbf{x}_{t-1} \\end{bmatrix}$\n",
    "\n",
    "\n",
    "The system can be expressed as:\n",
    "\n",
    "$\\Delta \\textbf{z}_{t} = \\underbrace{\\begin{bmatrix} (\\mathbb{I}-\\textbf{A})^{-1}E_1 & (\\mathbb{I}-\\textbf{A})^{-1}E_2 & (\\mathbb{I}-\\textbf{A})^{-1}E_3 \\\\ \\textbf{I} & \\textbf{0} & \\textbf{0} \\\\ \\textbf{0} & \\textbf{I} & \\textbf{0} \\end{bmatrix}}_{\\textbf{C}} \\Delta \\textbf{z}_{t-1} +\n",
    "\\left[\\begin{matrix}(\\mathbb{I}-\\textbf{A})^{-1} F_{0} & (\\mathbb{I}-\\textbf{A})^{-1} F_{1}  \\\\{0} & {0}  \\\\{0} & {0} \\\\\\end{matrix}\\right]\n",
    "\\Delta \\textbf{w}_t$\n",
    "\n",
    "This system is a first order system - and the stability can be evaluated using the matrix:\n",
    "\n",
    "$\\textbf{C} = \\begin{bmatrix} (\\mathbb{I}-\\textbf{A})^{-1}E_1 & (\\mathbb{I}-\\textbf{A})^{-1}E_2 & (\\mathbb{I}-\\textbf{A})^{-1}E_3 \\\\ \\textbf{I} & \\textbf{0} & \\textbf{0} \\\\ \\textbf{0} & \\textbf{I} & \\textbf{0} \\end{bmatrix}$\n",
    "\n",
    "\n",
    "also known as **the companion matrix** \n",
    "\n",
    "If the systematic in construction the companion matrix with max lag endogenous variable of 2 can be extended to any numbers of lags. "
   ]
  },
  {
   "cell_type": "markdown",
   "id": "db6a6561",
   "metadata": {},
   "source": [
    "## Stability and the eignvalues of the companion matrix\n",
    "\n",
    "The dynamic behavior can be \n",
    "evaluated by looking at the eigenvalues $\\textbf{e}_{t}$ of the companion matrix $((I-\\bar A)^{-1}\\bar E )$. Note that $\\textbf{e}_{t}$ can are complex numbers.\n",
    "\n",
    " - If all $\\lvert \\textbf{e}_{t} \\lvert < 1$ the system will converge. \n",
    " - If at least one of the eigenvalues is larger than one, the system will amplify. \n",
    " -  If at least one $\\textbf{e}_{t}$ has an imaginary part the system will oscillate \n",
    "    - dampened if all $\\lvert \\textbf{e}_{t} \\lvert < 1$ or \n",
    "    - amplifying  if one $\\lvert \\textbf{e}_{t} \\lvert > 1$.\n",
    "\n",
    "The eigenvalues and associated eigenvectors can be found by the function `<modelclass>.get_df_eigen_dict()` which will be used below.\n",
    "\n",
    "'.get_df_eigen_dict()' returns a dictionary where the key is the year and the value is a dataframe where first row is the eigenvalues \n",
    "and the folowing rows are the eigenvectors. \n",
    "\n",
    "\n",
    "The function also displays the result of the model. The result do not nessary give economic meaning. But shows how the system's stability reflects the \n",
    "eigenvalues of the companion matrix. "
   ]
  },
  {
   "cell_type": "markdown",
   "id": "5badbad0",
   "metadata": {},
   "source": [
    "## Calculating Eigenvalues and eigenvectors using modelflow \n",
    "Modelflow has a can calculate the derivative matrices $A, E_i$ and $F_j$ and create the companion matrix and the associate eigenvalues and eigenvectors. \n",
    "\n",
    "Below \n",
    " - a simple Samuelson multiplier accelerator model is created. \n",
    " - a function `get_df` is defined it: \n",
    "     - generates a test dataframe with model parameters and variables is defined\n",
    " - a function `geteigen` is defined it: \n",
    "    - use the model ro simulate a generated dataframe. \n",
    "    - calculates the eigenvalues \n",
    "    - display the eigenvalues in a polar coordinate where imaginary values are at the y-axis. \n",
    "    - The function also displays the result of the model\n",
    "    - optional displays the companion matrix and the non-zero eigenvalues and associate eigenvectors. \n",
    " \n",
    "\n",
    "Note that the result do not necessary give economic meaning. But shows how the system's stability reflects the \n",
    "eigenvalues of the companion matrix. "
   ]
  },
  {
   "cell_type": "markdown",
   "id": "5c8b0eb5",
   "metadata": {
    "slideshow": {
     "slide_type": "slide"
    }
   },
   "source": [
    "## First create a model (A Samuleson multiplier accelerator model) "
   ]
  },
  {
   "cell_type": "code",
   "execution_count": 5,
   "id": "9b12b747",
   "metadata": {
    "slideshow": {
     "slide_type": "fragment"
    }
   },
   "outputs": [],
   "source": [
    "fma   = f'''\n",
    "gdp = consumption+investment  \n",
    "consumption = mul * gdp(-1)\n",
    "investment = acc * (consumption-consumption(-1))  + exo_investment'''\n",
    "mma = model.from_eq(fma,modelname = 'Accelerator multiplicator model')"
   ]
  },
  {
   "cell_type": "code",
   "execution_count": 6,
   "id": "5c761bbe",
   "metadata": {
    "slideshow": {
     "slide_type": "slide"
    }
   },
   "outputs": [
    {
     "data": {
      "image/png": "[encoded data removed]",
      "text/plain": [
       "<IPython.core.display.Image object>"
      ]
     },
     "metadata": {},
     "output_type": "display_data"
    }
   ],
   "source": [
    "mma.drawmodel(png=latex)"
   ]
  },
  {
   "cell_type": "markdown",
   "id": "c7978814",
   "metadata": {
    "slideshow": {
     "slide_type": "slide"
    }
   },
   "source": [
    "## A function which generates a dataframe with values\n",
    "We need some data to simulate"
   ]
  },
  {
   "cell_type": "code",
   "execution_count": 7,
   "id": "fda64402",
   "metadata": {},
   "outputs": [
    {
     "data": {
      "text/html": [
       "<div>\n",
       "<style scoped>\n",
       "    .dataframe tbody tr th:only-of-type {\n",
       "        vertical-align: middle;\n",
       "    }\n",
       "\n",
       "    .dataframe tbody tr th {\n",
       "        vertical-align: top;\n",
       "    }\n",
       "\n",
       "    .dataframe thead th {\n",
       "        text-align: right;\n",
       "    }\n",
       "</style>\n",
       "<table border=\"1\" class=\"dataframe\">\n",
       "  <thead>\n",
       "    <tr style=\"text-align: right;\">\n",
       "      <th></th>\n",
       "      <th>GDP</th>\n",
       "      <th>MUL</th>\n",
       "      <th>ACC</th>\n",
       "      <th>CONSUMPTION</th>\n",
       "      <th>EXO_INVESTMENT</th>\n",
       "    </tr>\n",
       "  </thead>\n",
       "  <tbody>\n",
       "    <tr>\n",
       "      <th>2018</th>\n",
       "      <td>1000</td>\n",
       "      <td>0.9</td>\n",
       "      <td>0.5</td>\n",
       "      <td>900.0</td>\n",
       "      <td>200</td>\n",
       "    </tr>\n",
       "    <tr>\n",
       "      <th>2019</th>\n",
       "      <td>1000</td>\n",
       "      <td>0.9</td>\n",
       "      <td>0.5</td>\n",
       "      <td>900.0</td>\n",
       "      <td>200</td>\n",
       "    </tr>\n",
       "    <tr>\n",
       "      <th>2020</th>\n",
       "      <td>1000</td>\n",
       "      <td>0.9</td>\n",
       "      <td>0.5</td>\n",
       "      <td>900.0</td>\n",
       "      <td>200</td>\n",
       "    </tr>\n",
       "    <tr>\n",
       "      <th>2021</th>\n",
       "      <td>1000</td>\n",
       "      <td>0.9</td>\n",
       "      <td>0.5</td>\n",
       "      <td>900.0</td>\n",
       "      <td>200</td>\n",
       "    </tr>\n",
       "    <tr>\n",
       "      <th>2022</th>\n",
       "      <td>1000</td>\n",
       "      <td>0.9</td>\n",
       "      <td>0.5</td>\n",
       "      <td>900.0</td>\n",
       "      <td>200</td>\n",
       "    </tr>\n",
       "  </tbody>\n",
       "</table>\n",
       "</div>"
      ],
      "text/plain": [
       "       GDP  MUL  ACC  CONSUMPTION  EXO_INVESTMENT\n",
       "2018  1000  0.9  0.5        900.0             200\n",
       "2019  1000  0.9  0.5        900.0             200\n",
       "2020  1000  0.9  0.5        900.0             200\n",
       "2021  1000  0.9  0.5        900.0             200\n",
       "2022  1000  0.9  0.5        900.0             200"
      ]
     },
     "execution_count": 7,
     "metadata": {},
     "output_type": "execute_result"
    }
   ],
   "source": [
    "def get_df(mul=0.9,acc=0.5,gdp=1000,im=200,years=100):\n",
    "    'Creates imput dataframe to accelerator multiplier model '\n",
    "    df = pd.DataFrame([[gdp]]*years,index=range(2018,2018+years),columns=['GDP'])\n",
    "    df.loc[:,'MUL']= mul\n",
    "    df.loc[:,'ACC']= acc\n",
    "    df.loc[:,'CONSUMPTION']= gdp*mul\n",
    "    df.loc[:,'EXO_INVESTMENT']= im\n",
    "    return df\n",
    "\n",
    "\n",
    "base = get_df()\n",
    "base.head()"
   ]
  },
  {
   "cell_type": "markdown",
   "id": "9ceff560",
   "metadata": {
    "cell_style": "center",
    "slideshow": {
     "slide_type": "slide"
    }
   },
   "source": [
    "## A function which simulate the model and calculates eigenvalues \n",
    "This can be ignored if you are not interested in the python implementation"
   ]
  },
  {
   "cell_type": "code",
   "execution_count": 8,
   "id": "2c639c4d",
   "metadata": {
    "slideshow": {
     "slide_type": "slide"
    },
    "tags": [
     "hide-cell"
    ]
   },
   "outputs": [],
   "source": [
    "def geteigen(mul,acc,years=30,show=False,showmore = False):\n",
    "\n",
    "    '''Function which creates a Samuelson Multiplier accelerator model, runs it and \n",
    "    calculates the eigenvalues for the compaignion matrix in order to evaluate stability'''\n",
    "    \n",
    "    baseline_not_solved = get_df(mul,acc,years=years)\n",
    "    baseline  = mma(baseline_not_solved,silent=True)     # Solve the model \n",
    "    \n",
    "    # Retrieve a dictionary with a dataframe with eigenvalues and eigenvectors for each year \n",
    "    eig_dict = mma.get_df_eigen_dict()\n",
    "    \n",
    "    display(Markdown(f'**Model where multiplier = {mul} and accelerator = {acc}**'))\n",
    "    display(mma.stability_newton.eigenvector_plot(size=(4,4),per=2023));       # show the eigenvalues \n",
    "\n",
    "    mma['gdp consumption investment'].plot(top=0.8,title='Values',colrow=3,sharey=False)  # Show the solution\n",
    "        \n",
    "    if show: \n",
    "            # In this example we only want the values for one year. The model is linear and time independent \n",
    "        eig21 = eig_dict[2021]\n",
    "\n",
    "        # Define a function which calculates a list of absolute values when served a dataframe column of complex numbers\n",
    "        compabs = lambda complex: [abs(value) for index,value in complex.items()]\n",
    "\n",
    "        # now only retain the columns where the length of the eigenvalues are above 0.0001 \n",
    "        eig21out = (eig21.   \n",
    "                    T.        # Transpose as we query and eval on columns \n",
    "                    eval('absolute_value=@compabs(Eigenvalues)'). # calculate the absolute value of the eigenvalue \n",
    "                    query('absolute_value>=0.0001').              # Select the rows where the abs value is above 0+.0001\n",
    "                    drop('absolute_value',axis=1).                # We dont need the absolute value anymore, so the column is dropped. \n",
    "                    T)   # Transpose again. \n",
    "\n",
    "\n",
    "        display(Markdown(f'**Compagnion matrix**'))\n",
    "\n",
    "       # display(model.compstyle( mma.stability_newton.get_df_comp_dict()[2021])) \n",
    "        display( mma.stability_newton.get_df_comp_dict()[2021]) \n",
    "\n",
    "\n",
    "        #   display(eig21.style.set_caption('<b>Original eigenvalues and -vectors'))\n",
    "        #display(model.compstyle(eig21out).set_caption('<b>Non zero eigenvalues and -vectors'))\n",
    "        display(Markdown('**Non zero eigenvalues and -vectors**'))\n",
    "        display(eig21out)\n",
    "\n",
    "        \n",
    "    return  mma.stability_newton"
   ]
  },
  {
   "cell_type": "markdown",
   "id": "d2f257d2",
   "metadata": {
    "slideshow": {
     "slide_type": "slide"
    }
   },
   "source": [
    "## No amplification "
   ]
  },
  {
   "cell_type": "code",
   "execution_count": 9,
   "id": "0150b0fa",
   "metadata": {
    "slideshow": {
     "slide_type": "fragment"
    }
   },
   "outputs": [
    {
     "ename": "AttributeError",
     "evalue": "The specification:\"get_df_eigen_dict\" did not match a method, property or variable name",
     "output_type": "error",
     "traceback": [
      "\u001b[1;31m---------------------------------------------------------------------------\u001b[0m",
      "\u001b[1;31mAttributeError\u001b[0m                            Traceback (most recent call last)",
      "Cell \u001b[1;32mIn[9], line 1\u001b[0m\n\u001b[1;32m----> 1\u001b[0m \u001b[43mgeteigen\u001b[49m\u001b[43m(\u001b[49m\u001b[43mmul\u001b[49m\u001b[38;5;241;43m=\u001b[39;49m\u001b[38;5;241;43m0.8\u001b[39;49m\u001b[43m,\u001b[49m\u001b[43macc\u001b[49m\u001b[38;5;241;43m=\u001b[39;49m\u001b[38;5;241;43m0\u001b[39;49m\u001b[43m,\u001b[49m\u001b[43mshow\u001b[49m\u001b[38;5;241;43m=\u001b[39;49m\u001b[38;5;241;43m1\u001b[39;49m\u001b[43m)\u001b[49m;\n",
      "Cell \u001b[1;32mIn[8], line 10\u001b[0m, in \u001b[0;36mgeteigen\u001b[1;34m(mul, acc, years, show, showmore)\u001b[0m\n\u001b[0;32m      7\u001b[0m baseline  \u001b[38;5;241m=\u001b[39m mma(baseline_not_solved,silent\u001b[38;5;241m=\u001b[39m\u001b[38;5;28;01mTrue\u001b[39;00m)     \u001b[38;5;66;03m# Solve the model \u001b[39;00m\n\u001b[0;32m      9\u001b[0m \u001b[38;5;66;03m# Retrieve a dictionary with a dataframe with eigenvalues and eigenvectors for each year \u001b[39;00m\n\u001b[1;32m---> 10\u001b[0m eig_dict \u001b[38;5;241m=\u001b[39m \u001b[43mmma\u001b[49m\u001b[38;5;241;43m.\u001b[39;49m\u001b[43mget_df_eigen_dict\u001b[49m()\n\u001b[0;32m     12\u001b[0m display(Markdown(\u001b[38;5;124mf\u001b[39m\u001b[38;5;124m'\u001b[39m\u001b[38;5;124m**Model where multiplier = \u001b[39m\u001b[38;5;132;01m{\u001b[39;00mmul\u001b[38;5;132;01m}\u001b[39;00m\u001b[38;5;124m and accelerator = \u001b[39m\u001b[38;5;132;01m{\u001b[39;00macc\u001b[38;5;132;01m}\u001b[39;00m\u001b[38;5;124m**\u001b[39m\u001b[38;5;124m'\u001b[39m))\n\u001b[0;32m     13\u001b[0m display(mma\u001b[38;5;241m.\u001b[39mstability_newton\u001b[38;5;241m.\u001b[39meigenvector_plot(size\u001b[38;5;241m=\u001b[39m(\u001b[38;5;241m4\u001b[39m,\u001b[38;5;241m4\u001b[39m),per\u001b[38;5;241m=\u001b[39m\u001b[38;5;241m2023\u001b[39m));       \u001b[38;5;66;03m# show the eigenvalues \u001b[39;00m\n",
      "File \u001b[1;32mC:\\modelflow2\\modelflow\\modelclass.py:1354\u001b[0m, in \u001b[0;36mOrg_model_Mixin.__getattr__\u001b[1;34m(self, name)\u001b[0m\n\u001b[0;32m   1352\u001b[0m     \u001b[38;5;28;01mreturn\u001b[39;00m mv\u001b[38;5;241m.\u001b[39mvarvis(model\u001b[38;5;241m=\u001b[39m\u001b[38;5;28mself\u001b[39m, var\u001b[38;5;241m=\u001b[39mname\u001b[38;5;241m.\u001b[39mupper())\n\u001b[0;32m   1353\u001b[0m \u001b[38;5;28;01melse\u001b[39;00m: \n\u001b[1;32m-> 1354\u001b[0m     \u001b[38;5;28;01mraise\u001b[39;00m \u001b[38;5;167;01mAttributeError\u001b[39;00m(\u001b[38;5;124mf\u001b[39m\u001b[38;5;124m'\u001b[39m\u001b[38;5;124mThe specification:\u001b[39m\u001b[38;5;124m\"\u001b[39m\u001b[38;5;132;01m{\u001b[39;00mname\u001b[38;5;132;01m}\u001b[39;00m\u001b[38;5;124m\"\u001b[39m\u001b[38;5;124m did not match a method, property or variable name\u001b[39m\u001b[38;5;124m'\u001b[39m)\n",
      "\u001b[1;31mAttributeError\u001b[0m: The specification:\"get_df_eigen_dict\" did not match a method, property or variable name"
     ]
    }
   ],
   "source": [
    "geteigen(mul=0.8,acc=0,show=1);"
   ]
  },
  {
   "cell_type": "markdown",
   "id": "f1ff5db1",
   "metadata": {
    "slideshow": {
     "slide_type": "slide"
    }
   },
   "source": [
    "## Explosion "
   ]
  },
  {
   "cell_type": "code",
   "execution_count": null,
   "id": "173af6ab",
   "metadata": {},
   "outputs": [],
   "source": [
    "geteigen(mul=0.9,acc=2,show=1);"
   ]
  },
  {
   "cell_type": "markdown",
   "id": "8aa471a0",
   "metadata": {
    "slideshow": {
     "slide_type": "slide"
    }
   },
   "source": [
    "## Exploding oscillations"
   ]
  },
  {
   "cell_type": "code",
   "execution_count": null,
   "id": "143e7aa8",
   "metadata": {},
   "outputs": [],
   "source": [
    "geteigen(mul=0.6,acc=2,show=1)"
   ]
  },
  {
   "cell_type": "markdown",
   "id": "caf8a123",
   "metadata": {
    "slideshow": {
     "slide_type": "slide"
    }
   },
   "source": [
    "## Perpetual oscillations "
   ]
  },
  {
   "cell_type": "code",
   "execution_count": null,
   "id": "6d8023f1",
   "metadata": {},
   "outputs": [],
   "source": [
    "geteigen(mul=0.5,acc=2,show=1);"
   ]
  },
  {
   "cell_type": "markdown",
   "id": "555309ef",
   "metadata": {
    "slideshow": {
     "slide_type": "slide"
    }
   },
   "source": [
    "## Dampened oscillations "
   ]
  },
  {
   "cell_type": "code",
   "execution_count": null,
   "id": "ed939628",
   "metadata": {},
   "outputs": [],
   "source": [
    "geteigen(mul=0.7,acc=1,show=1);"
   ]
  },
  {
   "cell_type": "code",
   "execution_count": null,
   "id": "f2e0872d",
   "metadata": {},
   "outputs": [],
   "source": []
  },
  {
   "cell_type": "markdown",
   "id": "7100499c",
   "metadata": {},
   "source": [
    "## Jackknife experiments  to identify identify impact from each equation. \n",
    "To understand the impact of each equation a jackknife can be made. This is done by deleting  the rows and columns for each equation and record the new eigenvalues. \n",
    "\n",
    "The idea is to try to identify the equations which contributes most to the total eigenvalues. \n",
    "\n",
    "The newton object returned above will also contains this operation. The `newton.get_eigen_jackknife_abs_select(year)` function will return the max absolute eigenvalue when for each equations is deleted. It also returns the eigenvalues when no equation is deleted. \n",
    "\n",
    ":::{note}\n",
    "The terminology is loosely coined from Jackknife resampling https://en.wikipedia.org/wiki/Jackknife_resampling. \n",
    "\n",
    "Contributions to better naming are very welcome. \n",
    ":::\n",
    "\n"
   ]
  },
  {
   "cell_type": "markdown",
   "id": "015bdfa9",
   "metadata": {},
   "source": [
    "### "
   ]
  },
  {
   "cell_type": "code",
   "execution_count": null,
   "id": "b4ceb3c7",
   "metadata": {
    "scrolled": false
   },
   "outputs": [],
   "source": [
    "newton = geteigen(mul=0.6,acc=2,show=1)\n",
    "newton.get_eigen_jackknife_abs_select(largest=2)"
   ]
  },
  {
   "cell_type": "markdown",
   "id": "8e88c655",
   "metadata": {},
   "source": [
    "The output above shows that the largest eigenvalue of the system is 1.1. so the system is unstable. If either the consumption or  GDP equation is deleted the largest abs(eigenvalue)  will\n",
    "be 0. So the system will not be unstable. The same goes in the Investment equation is excluded. However in this case the largest abs(eigenvalue) will be 0.6. \n",
    "\n",
    "So for such a small model the procedure is not very useful. But for larger models it can help identifying rough equations. \n",
    "\n"
   ]
  }
 ],
 "metadata": {
  "celltoolbar": "Tags",
  "hide_input": false,
  "kernelspec": {
   "display_name": "Python 3 (ipykernel)",
   "language": "python",
   "name": "python3"
  },
  "language_info": {
   "codemirror_mode": {
    "name": "ipython",
    "version": 3
   },
   "file_extension": ".py",
   "mimetype": "text/x-python",
   "name": "python",
   "nbconvert_exporter": "python",
   "pygments_lexer": "ipython3",
   "version": "3.12.8"
  },
  "toc": {
   "base_numbering": 1,
   "nav_menu": {},
   "number_sections": true,
   "sideBar": true,
   "skip_h1_title": true,
   "title_cell": "Table of Contents",
   "title_sidebar": "Contents",
   "toc_cell": false,
   "toc_position": {
    "height": "calc(100% - 180px)",
    "left": "10px",
    "top": "150px",
    "width": "164.992px"
   },
   "toc_section_display": true,
   "toc_window_display": false
  },
  "varInspector": {
   "cols": {
    "lenName": 16,
    "lenType": 16,
    "lenVar": 40
   },
   "kernels_config": {
    "python": {
     "delete_cmd_postfix": "",
     "delete_cmd_prefix": "del ",
     "library": "var_list.py",
     "varRefreshCmd": "print(var_dic_list())"
    },
    "r": {
     "delete_cmd_postfix": ") ",
     "delete_cmd_prefix": "rm(",
     "library": "var_list.r",
     "varRefreshCmd": "cat(var_dic_list()) "
    }
   },
   "types_to_exclude": [
    "module",
    "function",
    "builtin_function_or_method",
    "instance",
    "_Feature"
   ],
   "window_display": false
  }
 },
 "nbformat": 4,
 "nbformat_minor": 5
}
